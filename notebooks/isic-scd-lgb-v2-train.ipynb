{
 "cells": [
  {
   "cell_type": "code",
   "execution_count": 1,
   "id": "89e7c7ec",
   "metadata": {
    "_cell_guid": "b1076dfc-b9ad-4769-8c92-a6c4dae69d19",
    "_uuid": "8f2839f25d086af736a60e9eeb907d3b93b6e0e5",
    "execution": {
     "iopub.execute_input": "2024-07-18T00:25:40.780846Z",
     "iopub.status.busy": "2024-07-18T00:25:40.780395Z",
     "iopub.status.idle": "2024-07-18T00:25:48.108899Z",
     "shell.execute_reply": "2024-07-18T00:25:48.107507Z"
    },
    "papermill": {
     "duration": 7.336939,
     "end_time": "2024-07-18T00:25:48.111711",
     "exception": false,
     "start_time": "2024-07-18T00:25:40.774772",
     "status": "completed"
    },
    "tags": []
   },
   "outputs": [],
   "source": [
    "import json\n",
    "import joblib\n",
    "from pprint import pprint\n",
    "from pathlib import Path\n",
    "\n",
    "import pandas as pd\n",
    "import numpy as np\n",
    "\n",
    "from sklearn.compose import ColumnTransformer\n",
    "from sklearn.preprocessing import OrdinalEncoder, OneHotEncoder\n",
    "\n",
    "import lightgbm as lgb\n",
    "from lightgbm.callback import log_evaluation, early_stopping\n",
    "\n",
    "from isic_helper import DotDict\n",
    "from isic_helper import get_folds\n",
    "from isic_helper import compute_auc, compute_pauc\n",
    "\n",
    "pd.options.display.max_columns = 1000"
   ]
  },
  {
   "cell_type": "code",
   "execution_count": 2,
   "id": "ff1fd437",
   "metadata": {
    "execution": {
     "iopub.execute_input": "2024-07-18T00:25:48.121604Z",
     "iopub.status.busy": "2024-07-18T00:25:48.120878Z",
     "iopub.status.idle": "2024-07-18T00:25:48.126550Z",
     "shell.execute_reply": "2024-07-18T00:25:48.125395Z"
    },
    "papermill": {
     "duration": 0.01326,
     "end_time": "2024-07-18T00:25:48.128879",
     "exception": false,
     "start_time": "2024-07-18T00:25:48.115619",
     "status": "completed"
    },
    "tags": []
   },
   "outputs": [],
   "source": [
    "cfg = DotDict()\n",
    "cfg.seed = 2022\n",
    "\n",
    "cfg.models_output_dir = \"models\"\n",
    "cfg.model_name = \"lgb_v2\""
   ]
  },
  {
   "cell_type": "code",
   "execution_count": 3,
   "id": "28a619d2",
   "metadata": {
    "execution": {
     "iopub.execute_input": "2024-07-18T00:25:48.137741Z",
     "iopub.status.busy": "2024-07-18T00:25:48.137307Z",
     "iopub.status.idle": "2024-07-18T00:25:58.225569Z",
     "shell.execute_reply": "2024-07-18T00:25:58.224117Z"
    },
    "papermill": {
     "duration": 10.095617,
     "end_time": "2024-07-18T00:25:58.228125",
     "exception": false,
     "start_time": "2024-07-18T00:25:48.132508",
     "status": "completed"
    },
    "tags": []
   },
   "outputs": [
    {
     "name": "stdout",
     "output_type": "stream",
     "text": [
      "Train data size: (401059, 57)\n",
      "Test data size: (3, 44)\n"
     ]
    }
   ],
   "source": [
    "INPUT_PATH = Path(\"../input/isic-2024-challenge/\")\n",
    "MODELS_OUTPUT_PATH = Path(f\"{cfg.models_output_dir}\")\n",
    "MODELS_OUTPUT_PATH.mkdir(exist_ok=True)\n",
    "\n",
    "train_metadata = pd.read_csv(INPUT_PATH / \"train-metadata.csv\", low_memory=False)\n",
    "test_metadata = pd.read_csv(INPUT_PATH / \"test-metadata.csv\")\n",
    "\n",
    "folds_df = get_folds()\n",
    "train_metadata = train_metadata.merge(folds_df, on=[\"isic_id\", \"patient_id\"], how=\"inner\")\n",
    "print(f\"Train data size: {train_metadata.shape}\")\n",
    "print(f\"Test data size: {test_metadata.shape}\")"
   ]
  },
  {
   "cell_type": "code",
   "execution_count": 4,
   "id": "00edca2a",
   "metadata": {
    "execution": {
     "iopub.execute_input": "2024-07-18T00:25:58.238191Z",
     "iopub.status.busy": "2024-07-18T00:25:58.237325Z",
     "iopub.status.idle": "2024-07-18T00:26:00.517538Z",
     "shell.execute_reply": "2024-07-18T00:26:00.516525Z"
    },
    "papermill": {
     "duration": 2.288505,
     "end_time": "2024-07-18T00:26:00.520712",
     "exception": false,
     "start_time": "2024-07-18T00:25:58.232207",
     "status": "completed"
    },
    "tags": []
   },
   "outputs": [],
   "source": [
    "def stat_features(df, group_cols, value_col, stats):\n",
    "    tmp = df.groupby(group_cols)[value_col].agg(stats)\n",
    "    tmp.columns = [f\"{value_col}_{stat}\" for stat in stats]\n",
    "    tmp.reset_index(inplace=True)\n",
    "    df = df.merge(tmp, on=group_cols, how=\"left\")\n",
    "    df[f\"{value_col}_mean_diff\"] = df[value_col] - df[f\"{value_col}_mean\"]\n",
    "    return df\n",
    "\n",
    "\n",
    "def feature_engineering(df):\n",
    "    # v1 features\n",
    "    df[\"lesion_size_ratio\"]              = df[\"tbp_lv_minorAxisMM\"] / df[\"clin_size_long_diam_mm\"]\n",
    "    df[\"hue_contrast\"]                   = (df[\"tbp_lv_H\"] - df[\"tbp_lv_Hext\"]).abs()\n",
    "    df[\"normalized_lesion_size\"]         = df[\"clin_size_long_diam_mm\"] / df[\"age_approx\"]\n",
    "    df[\"overall_color_difference\"]       = (df[\"tbp_lv_deltaA\"] + df[\"tbp_lv_deltaB\"] + df[\"tbp_lv_deltaL\"]) / 3\n",
    "    patient_num_images = df.groupby(\"patient_id\", as_index=False)[\"isic_id\"].count().rename(columns={\"isic_id\": \"num_images\"})\n",
    "    df = df.merge(patient_num_images, on=\"patient_id\", how=\"left\")\n",
    "    \n",
    "    # v2 features\n",
    "    df[\"max_minus_min_lesion_size\"] = df[\"clin_size_long_diam_mm\"] - df[\"tbp_lv_minorAxisMM\"]\n",
    "    \n",
    "    df[\"tbp_lv_A_diff\"] =  df[\"tbp_lv_Aext\"] - df[\"tbp_lv_A\"]\n",
    "    df = stat_features(df, [\"patient_id\", \"tbp_lv_location\"], \"tbp_lv_A_diff\", [\"mean\"])\n",
    "    \n",
    "    df[\"tbp_lv_B_diff\"] =  df[\"tbp_lv_Bext\"] - df[\"tbp_lv_B\"]\n",
    "    df = stat_features(df, [\"patient_id\", \"tbp_lv_location\"], \"tbp_lv_B_diff\", [\"mean\"])\n",
    "    \n",
    "    df[\"tbp_lv_L_diff\"] =  df[\"tbp_lv_Lext\"] - df[\"tbp_lv_L\"]\n",
    "    df = stat_features(df, [\"patient_id\", \"tbp_lv_location\"], \"tbp_lv_L_diff\", [\"mean\"])\n",
    "    \n",
    "    df[\"tbp_lv_L_std_diff\"] =  df[\"tbp_lv_stdLExt\"] - df[\"tbp_lv_stdL\"]\n",
    "    df = stat_features(df, [\"patient_id\", \"tbp_lv_location\"], \"tbp_lv_L_std_diff\", [\"mean\"])\n",
    "    \n",
    "    return df\n",
    "\n",
    "train_metadata = feature_engineering(train_metadata.copy())\n",
    "test_metadata = feature_engineering(test_metadata.copy())"
   ]
  },
  {
   "cell_type": "code",
   "execution_count": 5,
   "id": "715b1d1d",
   "metadata": {
    "execution": {
     "iopub.execute_input": "2024-07-18T00:26:00.533336Z",
     "iopub.status.busy": "2024-07-18T00:26:00.532534Z",
     "iopub.status.idle": "2024-07-18T00:26:00.538756Z",
     "shell.execute_reply": "2024-07-18T00:26:00.537713Z"
    },
    "papermill": {
     "duration": 0.015949,
     "end_time": "2024-07-18T00:26:00.542083",
     "exception": false,
     "start_time": "2024-07-18T00:26:00.526134",
     "status": "completed"
    },
    "tags": []
   },
   "outputs": [],
   "source": [
    "id_column = \"isic_id\"\n",
    "target_column = \"final_target\"\n",
    "group_column = \"patient_id\"\n",
    "ord_categorical_features = [\"tbp_tile_type\", \"tbp_lv_location_simple\", \"anatom_site_general\"]\n",
    "ohe_categorical_features = []\n",
    "numerical_features = [\"age_approx\", \"clin_size_long_diam_mm\", \"tbp_lv_minorAxisMM\", \n",
    "                      \"tbp_lv_A\", \"tbp_lv_Aext\",\n",
    "                      \"tbp_lv_B\", \"tbp_lv_Bext\",\n",
    "                      \"tbp_lv_H\", \"tbp_lv_Hext\",\n",
    "                      \"tbp_lv_areaMM2\",\n",
    "                      \"tbp_lv_stdL\", \"tbp_lv_stdLExt\", \n",
    "                      \"tbp_lv_A_diff_mean_diff\", \n",
    "                      \"tbp_lv_B_diff_mean_diff\", \n",
    "                      \"tbp_lv_L_diff_mean_diff\",\n",
    "                      \"tbp_lv_L_std_diff_mean_diff\",\n",
    "                      \"max_minus_min_lesion_size\",\n",
    "                     ]"
   ]
  },
  {
   "cell_type": "code",
   "execution_count": 6,
   "id": "0deb4331",
   "metadata": {
    "execution": {
     "iopub.execute_input": "2024-07-18T00:26:00.554528Z",
     "iopub.status.busy": "2024-07-18T00:26:00.554089Z",
     "iopub.status.idle": "2024-07-18T00:26:00.562670Z",
     "shell.execute_reply": "2024-07-18T00:26:00.561440Z"
    },
    "papermill": {
     "duration": 0.017758,
     "end_time": "2024-07-18T00:26:00.565161",
     "exception": false,
     "start_time": "2024-07-18T00:26:00.547403",
     "status": "completed"
    },
    "tags": []
   },
   "outputs": [],
   "source": [
    "mixed_encoded_preprocessor = ColumnTransformer(\n",
    "    [\n",
    "        (\"numerical\", \"passthrough\", numerical_features),\n",
    "        (\n",
    "            \"ord_categorical\",\n",
    "            OrdinalEncoder(handle_unknown=\"use_encoded_value\", unknown_value=-2, encoded_missing_value=-1, dtype=int),\n",
    "            ord_categorical_features,\n",
    "        ),\n",
    "        (\n",
    "            \"ohe_categorical\",\n",
    "            OneHotEncoder(sparse_output=False),\n",
    "            ohe_categorical_features\n",
    "        )\n",
    "    ],\n",
    "    verbose_feature_names_out=False,\n",
    "\n",
    ")\n",
    "mixed_encoded_preprocessor.set_output(transform=\"pandas\")\n",
    "\n",
    "with open(f\"{cfg.model_name}_encoder.joblib\", \"wb\") as f:\n",
    "    joblib.dump(mixed_encoded_preprocessor, f)"
   ]
  },
  {
   "cell_type": "code",
   "execution_count": 7,
   "id": "b3ef31f7",
   "metadata": {
    "execution": {
     "iopub.execute_input": "2024-07-18T00:26:00.575201Z",
     "iopub.status.busy": "2024-07-18T00:26:00.574395Z",
     "iopub.status.idle": "2024-07-18T00:26:01.238341Z",
     "shell.execute_reply": "2024-07-18T00:26:01.236771Z"
    },
    "papermill": {
     "duration": 0.672531,
     "end_time": "2024-07-18T00:26:01.241535",
     "exception": false,
     "start_time": "2024-07-18T00:26:00.569004",
     "status": "completed"
    },
    "tags": []
   },
   "outputs": [
    {
     "name": "stdout",
     "output_type": "stream",
     "text": [
      "Total number of columns: 20\n"
     ]
    }
   ],
   "source": [
    "train_ids = train_metadata[id_column]\n",
    "groups = train_metadata[group_column]\n",
    "folds = train_metadata[\"fold\"]\n",
    "\n",
    "enc = mixed_encoded_preprocessor.fit(train_metadata)\n",
    "X_train = enc.transform(train_metadata)\n",
    "y_train = train_metadata[target_column]\n",
    "\n",
    "categorical_features = ord_categorical_features[:]\n",
    "for ohe_col in ohe_categorical_features:\n",
    "    categorical_features += [col for col in X_train.columns if col.startswith(ohe_col)]\n",
    "\n",
    "print(f\"Total number of columns: {len(X_train.columns)}\")"
   ]
  },
  {
   "cell_type": "code",
   "execution_count": 8,
   "id": "a4e89187",
   "metadata": {
    "execution": {
     "iopub.execute_input": "2024-07-18T00:26:01.254905Z",
     "iopub.status.busy": "2024-07-18T00:26:01.254470Z",
     "iopub.status.idle": "2024-07-18T00:26:01.263038Z",
     "shell.execute_reply": "2024-07-18T00:26:01.261630Z"
    },
    "papermill": {
     "duration": 0.018277,
     "end_time": "2024-07-18T00:26:01.265605",
     "exception": false,
     "start_time": "2024-07-18T00:26:01.247328",
     "status": "completed"
    },
    "tags": []
   },
   "outputs": [],
   "source": [
    "def pauc_80(preds, data):\n",
    "    score_value = compute_pauc(data.get_label(), preds, min_tpr=0.8)   \n",
    "    return 'pauc_80', score_value, True\n",
    "\n",
    "\n",
    "params = {\n",
    "    \"objective\": \"binary\",\n",
    "    \"metric\": \"auc\",\n",
    "    \"num_leaves\": 7,\n",
    "    \"learning_rate\": 0.01,\n",
    "    \"bagging_freq\": 5,\n",
    "    \"bagging_fraction\": 0.6,\n",
    "    \"bagging_seed\": cfg.seed,\n",
    "    \"feature_fraction\": 0.3,\n",
    "    \"feature_fraction_seed\": cfg.seed,\n",
    "    \"lambda_l1\": 0.95,\n",
    "    \"lambda_l2\": 0.95,\n",
    "    \"verbosity\": -1\n",
    "}\n",
    "num_rounds = 2500\n",
    "es_rounds = 200\n",
    "log_rounds = 50"
   ]
  },
  {
   "cell_type": "code",
   "execution_count": 9,
   "id": "a598fd26",
   "metadata": {
    "execution": {
     "iopub.execute_input": "2024-07-18T00:26:01.275573Z",
     "iopub.status.busy": "2024-07-18T00:26:01.275071Z",
     "iopub.status.idle": "2024-07-18T00:29:13.102819Z",
     "shell.execute_reply": "2024-07-18T00:29:13.101481Z"
    },
    "papermill": {
     "duration": 191.83601,
     "end_time": "2024-07-18T00:29:13.105472",
     "exception": false,
     "start_time": "2024-07-18T00:26:01.269462",
     "status": "completed"
    },
    "tags": []
   },
   "outputs": [
    {
     "name": "stdout",
     "output_type": "stream",
     "text": [
      "Running fold: 1\n",
      "[LightGBM] [Warning] Met negative value in categorical features, will convert it to NaN\n",
      "Training until validation scores don't improve for 200 rounds\n",
      "[50]\tvalid_0's auc: 0.922579\tvalid_0's pauc_80: 0.139964\n",
      "[100]\tvalid_0's auc: 0.920594\tvalid_0's pauc_80: 0.138001\n",
      "[150]\tvalid_0's auc: 0.923509\tvalid_0's pauc_80: 0.139946\n",
      "[200]\tvalid_0's auc: 0.923983\tvalid_0's pauc_80: 0.139229\n",
      "Early stopping, best iteration is:\n",
      "[25]\tvalid_0's auc: 0.923381\tvalid_0's pauc_80: 0.142188\n",
      "\n",
      "\n",
      "Running fold: 2\n",
      "[LightGBM] [Warning] Met negative value in categorical features, will convert it to NaN\n",
      "Training until validation scores don't improve for 200 rounds\n",
      "[50]\tvalid_0's auc: 0.906441\tvalid_0's pauc_80: 0.129033\n",
      "[100]\tvalid_0's auc: 0.915137\tvalid_0's pauc_80: 0.134536\n",
      "[150]\tvalid_0's auc: 0.919701\tvalid_0's pauc_80: 0.137682\n",
      "[200]\tvalid_0's auc: 0.921204\tvalid_0's pauc_80: 0.13911\n",
      "[250]\tvalid_0's auc: 0.922943\tvalid_0's pauc_80: 0.140496\n",
      "[300]\tvalid_0's auc: 0.923515\tvalid_0's pauc_80: 0.14112\n",
      "[350]\tvalid_0's auc: 0.924686\tvalid_0's pauc_80: 0.142239\n",
      "[400]\tvalid_0's auc: 0.925683\tvalid_0's pauc_80: 0.143152\n",
      "[450]\tvalid_0's auc: 0.926701\tvalid_0's pauc_80: 0.144033\n",
      "[500]\tvalid_0's auc: 0.927542\tvalid_0's pauc_80: 0.144774\n",
      "[550]\tvalid_0's auc: 0.928384\tvalid_0's pauc_80: 0.145571\n",
      "[600]\tvalid_0's auc: 0.928504\tvalid_0's pauc_80: 0.145743\n",
      "[650]\tvalid_0's auc: 0.929215\tvalid_0's pauc_80: 0.146448\n",
      "[700]\tvalid_0's auc: 0.929835\tvalid_0's pauc_80: 0.147082\n",
      "[750]\tvalid_0's auc: 0.929471\tvalid_0's pauc_80: 0.146803\n",
      "[800]\tvalid_0's auc: 0.929933\tvalid_0's pauc_80: 0.147201\n",
      "[850]\tvalid_0's auc: 0.930314\tvalid_0's pauc_80: 0.147313\n",
      "[900]\tvalid_0's auc: 0.930549\tvalid_0's pauc_80: 0.147519\n",
      "[950]\tvalid_0's auc: 0.93071\tvalid_0's pauc_80: 0.147675\n",
      "[1000]\tvalid_0's auc: 0.930716\tvalid_0's pauc_80: 0.147698\n",
      "[1050]\tvalid_0's auc: 0.930683\tvalid_0's pauc_80: 0.147776\n",
      "[1100]\tvalid_0's auc: 0.930354\tvalid_0's pauc_80: 0.147371\n",
      "Early stopping, best iteration is:\n",
      "[934]\tvalid_0's auc: 0.931023\tvalid_0's pauc_80: 0.147945\n",
      "\n",
      "\n",
      "Running fold: 3\n",
      "[LightGBM] [Warning] Met negative value in categorical features, will convert it to NaN\n",
      "Training until validation scores don't improve for 200 rounds\n",
      "[50]\tvalid_0's auc: 0.924778\tvalid_0's pauc_80: 0.142417\n",
      "[100]\tvalid_0's auc: 0.92918\tvalid_0's pauc_80: 0.144694\n",
      "[150]\tvalid_0's auc: 0.928943\tvalid_0's pauc_80: 0.143036\n",
      "[200]\tvalid_0's auc: 0.931574\tvalid_0's pauc_80: 0.144628\n",
      "[250]\tvalid_0's auc: 0.931877\tvalid_0's pauc_80: 0.144606\n",
      "Early stopping, best iteration is:\n",
      "[86]\tvalid_0's auc: 0.929667\tvalid_0's pauc_80: 0.14599\n",
      "\n",
      "\n",
      "Running fold: 4\n",
      "[LightGBM] [Warning] Met negative value in categorical features, will convert it to NaN\n",
      "Training until validation scores don't improve for 200 rounds\n",
      "[50]\tvalid_0's auc: 0.928393\tvalid_0's pauc_80: 0.137923\n",
      "[100]\tvalid_0's auc: 0.932613\tvalid_0's pauc_80: 0.141749\n",
      "[150]\tvalid_0's auc: 0.93488\tvalid_0's pauc_80: 0.143393\n",
      "[200]\tvalid_0's auc: 0.935299\tvalid_0's pauc_80: 0.143756\n",
      "[250]\tvalid_0's auc: 0.938397\tvalid_0's pauc_80: 0.146574\n",
      "[300]\tvalid_0's auc: 0.939056\tvalid_0's pauc_80: 0.14694\n",
      "[350]\tvalid_0's auc: 0.940505\tvalid_0's pauc_80: 0.148094\n",
      "[400]\tvalid_0's auc: 0.942663\tvalid_0's pauc_80: 0.150137\n",
      "[450]\tvalid_0's auc: 0.943378\tvalid_0's pauc_80: 0.150697\n",
      "[500]\tvalid_0's auc: 0.944582\tvalid_0's pauc_80: 0.151785\n",
      "[550]\tvalid_0's auc: 0.945539\tvalid_0's pauc_80: 0.152536\n",
      "[600]\tvalid_0's auc: 0.946614\tvalid_0's pauc_80: 0.153376\n",
      "[650]\tvalid_0's auc: 0.947003\tvalid_0's pauc_80: 0.153742\n",
      "[700]\tvalid_0's auc: 0.94727\tvalid_0's pauc_80: 0.153903\n",
      "[750]\tvalid_0's auc: 0.947995\tvalid_0's pauc_80: 0.154458\n",
      "[800]\tvalid_0's auc: 0.948928\tvalid_0's pauc_80: 0.155187\n",
      "[850]\tvalid_0's auc: 0.950376\tvalid_0's pauc_80: 0.156536\n",
      "[900]\tvalid_0's auc: 0.951433\tvalid_0's pauc_80: 0.15755\n",
      "[950]\tvalid_0's auc: 0.95197\tvalid_0's pauc_80: 0.158019\n",
      "[1000]\tvalid_0's auc: 0.952456\tvalid_0's pauc_80: 0.158497\n",
      "[1050]\tvalid_0's auc: 0.952397\tvalid_0's pauc_80: 0.158395\n",
      "[1100]\tvalid_0's auc: 0.952652\tvalid_0's pauc_80: 0.158623\n",
      "[1150]\tvalid_0's auc: 0.953276\tvalid_0's pauc_80: 0.159201\n",
      "[1200]\tvalid_0's auc: 0.953999\tvalid_0's pauc_80: 0.159873\n",
      "[1250]\tvalid_0's auc: 0.954619\tvalid_0's pauc_80: 0.160453\n",
      "[1300]\tvalid_0's auc: 0.954561\tvalid_0's pauc_80: 0.160404\n",
      "[1350]\tvalid_0's auc: 0.955614\tvalid_0's pauc_80: 0.161459\n",
      "[1400]\tvalid_0's auc: 0.956178\tvalid_0's pauc_80: 0.161977\n",
      "[1450]\tvalid_0's auc: 0.957181\tvalid_0's pauc_80: 0.162914\n",
      "[1500]\tvalid_0's auc: 0.957157\tvalid_0's pauc_80: 0.162906\n",
      "[1550]\tvalid_0's auc: 0.957281\tvalid_0's pauc_80: 0.163029\n",
      "[1600]\tvalid_0's auc: 0.957633\tvalid_0's pauc_80: 0.163409\n",
      "[1650]\tvalid_0's auc: 0.958132\tvalid_0's pauc_80: 0.163929\n",
      "[1700]\tvalid_0's auc: 0.958109\tvalid_0's pauc_80: 0.163984\n",
      "[1750]\tvalid_0's auc: 0.958385\tvalid_0's pauc_80: 0.164245\n",
      "[1800]\tvalid_0's auc: 0.958745\tvalid_0's pauc_80: 0.164613\n",
      "[1850]\tvalid_0's auc: 0.958424\tvalid_0's pauc_80: 0.164257\n",
      "[1900]\tvalid_0's auc: 0.958779\tvalid_0's pauc_80: 0.164579\n",
      "[1950]\tvalid_0's auc: 0.959047\tvalid_0's pauc_80: 0.164882\n",
      "[2000]\tvalid_0's auc: 0.959501\tvalid_0's pauc_80: 0.165319\n",
      "[2050]\tvalid_0's auc: 0.959472\tvalid_0's pauc_80: 0.165279\n",
      "[2100]\tvalid_0's auc: 0.959623\tvalid_0's pauc_80: 0.165462\n",
      "[2150]\tvalid_0's auc: 0.959659\tvalid_0's pauc_80: 0.165517\n",
      "[2200]\tvalid_0's auc: 0.959563\tvalid_0's pauc_80: 0.165456\n",
      "[2250]\tvalid_0's auc: 0.960058\tvalid_0's pauc_80: 0.165917\n",
      "[2300]\tvalid_0's auc: 0.959962\tvalid_0's pauc_80: 0.165834\n",
      "[2350]\tvalid_0's auc: 0.959803\tvalid_0's pauc_80: 0.165691\n",
      "[2400]\tvalid_0's auc: 0.960076\tvalid_0's pauc_80: 0.165947\n",
      "[2450]\tvalid_0's auc: 0.960256\tvalid_0's pauc_80: 0.166148\n",
      "[2500]\tvalid_0's auc: 0.960233\tvalid_0's pauc_80: 0.166171\n",
      "Did not meet early stopping. Best iteration is:\n",
      "[2430]\tvalid_0's auc: 0.960326\tvalid_0's pauc_80: 0.166201\n",
      "\n",
      "\n",
      "Running fold: 5\n",
      "[LightGBM] [Warning] Met negative value in categorical features, will convert it to NaN\n",
      "Training until validation scores don't improve for 200 rounds\n",
      "[50]\tvalid_0's auc: 0.936493\tvalid_0's pauc_80: 0.156948\n",
      "[100]\tvalid_0's auc: 0.937521\tvalid_0's pauc_80: 0.157055\n",
      "[150]\tvalid_0's auc: 0.938303\tvalid_0's pauc_80: 0.156833\n",
      "[200]\tvalid_0's auc: 0.938357\tvalid_0's pauc_80: 0.156545\n",
      "Early stopping, best iteration is:\n",
      "[40]\tvalid_0's auc: 0.93709\tvalid_0's pauc_80: 0.158695\n",
      "\n",
      "\n",
      "Val AUC scores:\n",
      "{'fold_1': 0.9233812907084928,\n",
      " 'fold_2': 0.9310225884464035,\n",
      " 'fold_3': 0.9296666552270657,\n",
      " 'fold_4': 0.9603255918433565,\n",
      " 'fold_5': 0.9370895245628501}\n",
      "Val PAUC scores:\n",
      "{'fold_1': 0.14218802897440727,\n",
      " 'fold_2': 0.14794485262825788,\n",
      " 'fold_3': 0.14598961388226775,\n",
      " 'fold_4': 0.16620050292645788,\n",
      " 'fold_5': 0.15869464771228087}\n",
      "CV AUC OOF: 0.9172102241117142\n",
      "CV PAUC OOF: 0.1356535896993592\n",
      "CV AUC AVG: 0.9362971301576337\n",
      "CV PAUC AVG: 0.1522035292247343\n",
      "CV AUC STD: 0.012779653802979556\n",
      "CV PAUC STD: 0.008889423013077153\n",
      "Index(['age_approx', 'clin_size_long_diam_mm', 'tbp_lv_minorAxisMM',\n",
      "       'tbp_lv_A', 'tbp_lv_Aext', 'tbp_lv_B', 'tbp_lv_Bext', 'tbp_lv_H',\n",
      "       'tbp_lv_Hext', 'tbp_lv_areaMM2', 'tbp_lv_stdL', 'tbp_lv_stdLExt',\n",
      "       'tbp_lv_A_diff_mean_diff', 'tbp_lv_B_diff_mean_diff',\n",
      "       'tbp_lv_L_diff_mean_diff', 'tbp_lv_L_std_diff_mean_diff',\n",
      "       'max_minus_min_lesion_size', 'tbp_tile_type', 'tbp_lv_location_simple',\n",
      "       'anatom_site_general'],\n",
      "      dtype='object')\n"
     ]
    }
   ],
   "source": [
    "best_num_rounds = {}\n",
    "val_auc_scores = {}\n",
    "val_pauc_scores = {}\n",
    "all_folds = np.sort(folds.unique())\n",
    "oof_predictions = np.zeros(X_train.shape[0])\n",
    "for fold in all_folds:\n",
    "    print(f\"Running fold: {fold}\")\n",
    "    dev_index = folds[folds != fold].index\n",
    "    val_index = folds[folds == fold].index\n",
    "    \n",
    "    X_dev = X_train.loc[dev_index, :]\n",
    "    y_dev = y_train[dev_index]\n",
    "    \n",
    "    X_val = X_train.loc[val_index, :]\n",
    "    y_val = y_train[val_index]\n",
    "    \n",
    "    lgb_dataset_dev = lgb.Dataset(X_dev, label=y_dev, categorical_feature=categorical_features, free_raw_data=False)\n",
    "    lgb_dataset_val = lgb.Dataset(X_val, label=y_val, categorical_feature=categorical_features, free_raw_data=False)\n",
    "    \n",
    "    model = lgb.train(\n",
    "        params,\n",
    "        lgb_dataset_dev,\n",
    "        num_boost_round=num_rounds,\n",
    "        valid_sets=[lgb_dataset_val],\n",
    "        feval=pauc_80,\n",
    "        callbacks=[early_stopping(stopping_rounds=es_rounds), log_evaluation(log_rounds)],\n",
    "    )\n",
    "    \n",
    "    model.save_model(MODELS_OUTPUT_PATH / f\"{cfg.model_name}_fold_{fold}.txt\")\n",
    "    best_num_rounds[f\"fold_{fold}\"] = model.best_iteration\n",
    "    val_scores = dict(model.best_score[\"valid_0\"])\n",
    "    \n",
    "    val_auc_scores[f\"fold_{fold}\"] = val_scores[\"auc\"]\n",
    "    val_pauc_scores[f\"fold_{fold}\"] = val_scores[\"pauc_80\"]\n",
    "    \n",
    "    val_preds = model.predict(X_val, num_iteration=model.best_iteration)\n",
    "    oof_predictions[val_index] = val_preds\n",
    "    print(\"\\n\")\n",
    "\n",
    "print(\"Val AUC scores:\")\n",
    "pprint(val_auc_scores)\n",
    "print(\"Val PAUC scores:\")\n",
    "pprint(val_pauc_scores)\n",
    "\n",
    "oof_preds_df = pd.DataFrame({\n",
    "    id_column: train_ids,\n",
    "    group_column: groups,\n",
    "    \"fold\": folds,\n",
    "    target_column: y_train,\n",
    "    f\"oof_{cfg.model_name}\": oof_predictions\n",
    "})\n",
    "oof_preds_df.to_csv(f\"oof_preds_{cfg.model_name}.csv\", index=False)\n",
    "\n",
    "cv_auc_oof = compute_auc(oof_preds_df[target_column], oof_preds_df[f\"oof_{cfg.model_name}\"])\n",
    "cv_pauc_oof = compute_pauc(oof_preds_df[target_column], oof_preds_df[f\"oof_{cfg.model_name}\"], min_tpr=0.8)\n",
    "\n",
    "cv_auc_avg = np.mean(list(val_auc_scores.values()))\n",
    "cv_pauc_avg = np.mean(list(val_pauc_scores.values()))\n",
    "\n",
    "cv_auc_std = np.std(list(val_auc_scores.values()))\n",
    "cv_pauc_std = np.std(list(val_pauc_scores.values()))\n",
    "\n",
    "print(f\"CV AUC OOF: {cv_auc_oof}\")\n",
    "print(f\"CV PAUC OOF: {cv_pauc_oof}\")\n",
    "print(f\"CV AUC AVG: {cv_auc_avg}\")\n",
    "print(f\"CV PAUC AVG: {cv_pauc_avg}\")\n",
    "print(f\"CV AUC STD: {cv_auc_std}\")\n",
    "print(f\"CV PAUC STD: {cv_pauc_std}\")\n",
    "print(X_train.columns)"
   ]
  },
  {
   "cell_type": "code",
   "execution_count": 10,
   "id": "23da2cf6",
   "metadata": {
    "execution": {
     "iopub.execute_input": "2024-07-18T00:29:13.129817Z",
     "iopub.status.busy": "2024-07-18T00:29:13.129349Z",
     "iopub.status.idle": "2024-07-18T00:29:13.690824Z",
     "shell.execute_reply": "2024-07-18T00:29:13.689514Z"
    },
    "papermill": {
     "duration": 0.577329,
     "end_time": "2024-07-18T00:29:13.693560",
     "exception": false,
     "start_time": "2024-07-18T00:29:13.116231",
     "status": "completed"
    },
    "tags": []
   },
   "outputs": [
    {
     "data": {
      "text/plain": [
       "<Axes: >"
      ]
     },
     "execution_count": 10,
     "metadata": {},
     "output_type": "execute_result"
    },
    {
     "data": {
      "image/png": "[encoded data removed]",
      "text/plain": [
       "<Figure size 1000x1500 with 1 Axes>"
      ]
     },
     "metadata": {},
     "output_type": "display_data"
    }
   ],
   "source": [
    "feature_importances = 0\n",
    "for fold in all_folds:\n",
    "    model = lgb.Booster(model_file=MODELS_OUTPUT_PATH / f\"{cfg.model_name}_fold_{fold}.txt\")\n",
    "    if fold == 1:\n",
    "        feature_names = model.feature_name()\n",
    "    feature_importances += model.feature_importance(importance_type=\"gain\")\n",
    "feature_importances /= len(all_folds)\n",
    "\n",
    "imp = pd.DataFrame.from_dict(dict(zip(feature_names, feature_importances)), \n",
    "                             orient=\"index\", columns=[\"imp\"]).sort_values(\"imp\", ascending=True)\n",
    "imp.plot(kind=\"barh\", figsize=(10, 15))"
   ]
  },
  {
   "cell_type": "code",
   "execution_count": 11,
   "id": "7c7ffdc2",
   "metadata": {
    "execution": {
     "iopub.execute_input": "2024-07-18T00:29:13.718353Z",
     "iopub.status.busy": "2024-07-18T00:29:13.717959Z",
     "iopub.status.idle": "2024-07-18T00:29:13.729934Z",
     "shell.execute_reply": "2024-07-18T00:29:13.728720Z"
    },
    "papermill": {
     "duration": 0.027779,
     "end_time": "2024-07-18T00:29:13.732828",
     "exception": false,
     "start_time": "2024-07-18T00:29:13.705049",
     "status": "completed"
    },
    "tags": []
   },
   "outputs": [],
   "source": [
    "metadata = {\n",
    "    \"params\": params,\n",
    "    \"num_rounds\": num_rounds,\n",
    "    \"es_rounds\": es_rounds,\n",
    "    \"best_num_rounds\": best_num_rounds,\n",
    "    \"val_auc_scores\": val_auc_scores,\n",
    "    \"val_pauc_scores\": val_pauc_scores,\n",
    "    \"cv_auc_oof\": cv_auc_oof,\n",
    "    \"cv_pauc_oof\": cv_pauc_oof,\n",
    "    \"cv_auc_avg\": cv_auc_avg,\n",
    "    \"cv_pauc_avg\": cv_pauc_avg\n",
    "}\n",
    "\n",
    "with open(f\"{cfg.model_name}_run_metadata.json\", \"w\") as f:\n",
    "    json.dump(metadata, f)"
   ]
  }
 ],
 "metadata": {
  "kaggle": {
   "accelerator": "none",
   "dataSources": [
    {
     "databundleVersionId": 9094797,
     "sourceId": 63056,
     "sourceType": "competition"
    },
    {
     "sourceId": 187439867,
     "sourceType": "kernelVersion"
    },
    {
     "sourceId": 187477024,
     "sourceType": "kernelVersion"
    }
   ],
   "dockerImageVersionId": 30746,
   "isGpuEnabled": false,
   "isInternetEnabled": false,
   "language": "python",
   "sourceType": "notebook"
  },
  "kernelspec": {
   "display_name": "Python 3",
   "language": "python",
   "name": "python3"
  },
  "language_info": {
   "codemirror_mode": {
    "name": "ipython",
    "version": 3
   },
   "file_extension": ".py",
   "mimetype": "text/x-python",
   "name": "python",
   "nbconvert_exporter": "python",
   "pygments_lexer": "ipython3",
   "version": "3.10.13"
  },
  "papermill": {
   "default_parameters": {},
   "duration": 218.723091,
   "end_time": "2024-07-18T00:29:15.996879",
   "environment_variables": {},
   "exception": null,
   "input_path": "__notebook__.ipynb",
   "output_path": "__notebook__.ipynb",
   "parameters": {},
   "start_time": "2024-07-18T00:25:37.273788",
   "version": "2.5.0"
  }
 },
 "nbformat": 4,
 "nbformat_minor": 5
}
