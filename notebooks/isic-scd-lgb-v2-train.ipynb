{
 "cells": [
  {
   "cell_type": "code",
   "execution_count": 1,
   "id": "21f59273",
   "metadata": {
    "_cell_guid": "b1076dfc-b9ad-4769-8c92-a6c4dae69d19",
    "_uuid": "8f2839f25d086af736a60e9eeb907d3b93b6e0e5",
    "execution": {
     "iopub.execute_input": "2024-07-16T22:56:17.155626Z",
     "iopub.status.busy": "2024-07-16T22:56:17.155178Z",
     "iopub.status.idle": "2024-07-16T22:56:23.831263Z",
     "shell.execute_reply": "2024-07-16T22:56:23.830166Z"
    },
    "papermill": {
     "duration": 6.684282,
     "end_time": "2024-07-16T22:56:23.833874",
     "exception": false,
     "start_time": "2024-07-16T22:56:17.149592",
     "status": "completed"
    },
    "tags": []
   },
   "outputs": [],
   "source": [
    "import json\n",
    "import joblib\n",
    "from pprint import pprint\n",
    "from pathlib import Path\n",
    "\n",
    "import pandas as pd\n",
    "import numpy as np\n",
    "\n",
    "from sklearn.compose import ColumnTransformer\n",
    "from sklearn.preprocessing import OrdinalEncoder, OneHotEncoder\n",
    "\n",
    "import lightgbm as lgb\n",
    "from lightgbm.callback import log_evaluation, early_stopping\n",
    "\n",
    "from isic_helper import DotDict\n",
    "from isic_helper import get_folds\n",
    "from isic_helper import compute_auc, compute_pauc\n",
    "\n",
    "pd.options.display.max_columns = 1000"
   ]
  },
  {
   "cell_type": "code",
   "execution_count": 2,
   "id": "0929725c",
   "metadata": {
    "execution": {
     "iopub.execute_input": "2024-07-16T22:56:23.843405Z",
     "iopub.status.busy": "2024-07-16T22:56:23.842283Z",
     "iopub.status.idle": "2024-07-16T22:56:23.847467Z",
     "shell.execute_reply": "2024-07-16T22:56:23.846435Z"
    },
    "papermill": {
     "duration": 0.012048,
     "end_time": "2024-07-16T22:56:23.849726",
     "exception": false,
     "start_time": "2024-07-16T22:56:23.837678",
     "status": "completed"
    },
    "tags": []
   },
   "outputs": [],
   "source": [
    "cfg = DotDict()\n",
    "cfg.seed = 2022\n",
    "\n",
    "cfg.models_output_dir = \"models\"\n",
    "cfg.model_name = \"lgb_v2\""
   ]
  },
  {
   "cell_type": "code",
   "execution_count": 3,
   "id": "28e00d53",
   "metadata": {
    "execution": {
     "iopub.execute_input": "2024-07-16T22:56:23.858650Z",
     "iopub.status.busy": "2024-07-16T22:56:23.858244Z",
     "iopub.status.idle": "2024-07-16T22:56:34.398924Z",
     "shell.execute_reply": "2024-07-16T22:56:34.397773Z"
    },
    "papermill": {
     "duration": 10.548101,
     "end_time": "2024-07-16T22:56:34.401490",
     "exception": false,
     "start_time": "2024-07-16T22:56:23.853389",
     "status": "completed"
    },
    "tags": []
   },
   "outputs": [
    {
     "name": "stdout",
     "output_type": "stream",
     "text": [
      "Train data size: (401059, 57)\n",
      "Test data size: (3, 44)\n"
     ]
    }
   ],
   "source": [
    "INPUT_PATH = Path(\"../input/isic-2024-challenge/\")\n",
    "MODELS_OUTPUT_PATH = Path(f\"{cfg.models_output_dir}\")\n",
    "MODELS_OUTPUT_PATH.mkdir(exist_ok=True)\n",
    "\n",
    "train_metadata = pd.read_csv(INPUT_PATH / \"train-metadata.csv\", low_memory=False)\n",
    "test_metadata = pd.read_csv(INPUT_PATH / \"test-metadata.csv\")\n",
    "\n",
    "folds_df = get_folds()\n",
    "train_metadata = train_metadata.merge(folds_df, on=[\"isic_id\", \"patient_id\"], how=\"inner\")\n",
    "print(f\"Train data size: {train_metadata.shape}\")\n",
    "print(f\"Test data size: {test_metadata.shape}\")"
   ]
  },
  {
   "cell_type": "code",
   "execution_count": 4,
   "id": "2de70c24",
   "metadata": {
    "execution": {
     "iopub.execute_input": "2024-07-16T22:56:34.410932Z",
     "iopub.status.busy": "2024-07-16T22:56:34.410061Z",
     "iopub.status.idle": "2024-07-16T22:56:36.353580Z",
     "shell.execute_reply": "2024-07-16T22:56:36.352616Z"
    },
    "papermill": {
     "duration": 1.950876,
     "end_time": "2024-07-16T22:56:36.356052",
     "exception": false,
     "start_time": "2024-07-16T22:56:34.405176",
     "status": "completed"
    },
    "tags": []
   },
   "outputs": [],
   "source": [
    "def stat_features(df, group_cols, value_col, stats):\n",
    "    tmp = df.groupby(group_cols)[value_col].agg(stats)\n",
    "    tmp.columns = [f\"{value_col}_{stat}\" for stat in stats]\n",
    "    tmp.reset_index(inplace=True)\n",
    "    df = df.merge(tmp, on=group_cols, how=\"left\")\n",
    "    df[f\"{value_col}_mean_diff\"] = df[value_col] - df[f\"{value_col}_mean\"]\n",
    "    \n",
    "    new_stat_num_cols = (\n",
    "        [f\"{value_col}_mean_diff\"]\n",
    "    )\n",
    "    return df, new_stat_num_cols\n",
    "\n",
    "\n",
    "def feature_engineering(df):\n",
    "    new_num_cols = []\n",
    "    new_cat_cols = []\n",
    "    \n",
    "    # v1 features\n",
    "    df[\"lesion_size_ratio\"]              = df[\"tbp_lv_minorAxisMM\"] / df[\"clin_size_long_diam_mm\"]\n",
    "    df[\"hue_contrast\"]                   = (df[\"tbp_lv_H\"] - df[\"tbp_lv_Hext\"]).abs()\n",
    "    df[\"normalized_lesion_size\"]         = df[\"clin_size_long_diam_mm\"] / df[\"age_approx\"]\n",
    "    df[\"overall_color_difference\"]       = (df[\"tbp_lv_deltaA\"] + df[\"tbp_lv_deltaB\"] + df[\"tbp_lv_deltaL\"]) / 3\n",
    "    \n",
    "    # v2 features\n",
    "    df[\"max_minus_min_lesion_size\"] = df[\"clin_size_long_diam_mm\"] - df[\"tbp_lv_minorAxisMM\"]\n",
    "    \n",
    "    df[\"tbp_lv_A_diff\"] =  df[\"tbp_lv_Aext\"] - df[\"tbp_lv_A\"]\n",
    "    df, new_stat_num_cols = stat_features(df, [\"patient_id\", \"tbp_lv_location\"], \"tbp_lv_A_diff\", [\"mean\"])\n",
    "    new_num_cols += new_stat_num_cols\n",
    "    \n",
    "    df[\"tbp_lv_B_diff\"] =  df[\"tbp_lv_Bext\"] - df[\"tbp_lv_B\"]\n",
    "    df, new_stat_num_cols = stat_features(df, [\"patient_id\", \"tbp_lv_location\"], \"tbp_lv_B_diff\", [\"mean\"])\n",
    "    new_num_cols += new_stat_num_cols\n",
    "    \n",
    "    df[\"tbp_lv_L_diff\"] =  df[\"tbp_lv_Lext\"] - df[\"tbp_lv_L\"]\n",
    "    df, new_stat_num_cols = stat_features(df, [\"patient_id\", \"tbp_lv_location\"], \"tbp_lv_L_diff\", [\"mean\"])\n",
    "    new_num_cols += new_stat_num_cols\n",
    "    \n",
    "    df[\"tbp_lv_L_std_diff\"] =  df[\"tbp_lv_stdLExt\"] - df[\"tbp_lv_stdL\"]\n",
    "    df, new_stat_num_cols = stat_features(df, [\"patient_id\", \"tbp_lv_location\"], \"tbp_lv_L_std_diff\", [\"mean\"])\n",
    "    new_num_cols += new_stat_num_cols\n",
    "\n",
    "    new_num_cols += [\n",
    "        \"max_minus_min_lesion_size\"\n",
    "    ]\n",
    "    \n",
    "    new_cat_cols += [\n",
    "    ]\n",
    "    \n",
    "    return df, new_num_cols, new_cat_cols\n",
    "\n",
    "train_metadata, new_num_cols, new_cat_cols = feature_engineering(train_metadata.copy())\n",
    "test_metadata, new_num_cols, new_cat_cols = feature_engineering(test_metadata.copy())"
   ]
  },
  {
   "cell_type": "code",
   "execution_count": 5,
   "id": "e2d1252e",
   "metadata": {
    "execution": {
     "iopub.execute_input": "2024-07-16T22:56:36.365093Z",
     "iopub.status.busy": "2024-07-16T22:56:36.364286Z",
     "iopub.status.idle": "2024-07-16T22:56:36.372498Z",
     "shell.execute_reply": "2024-07-16T22:56:36.371529Z"
    },
    "papermill": {
     "duration": 0.014994,
     "end_time": "2024-07-16T22:56:36.374681",
     "exception": false,
     "start_time": "2024-07-16T22:56:36.359687",
     "status": "completed"
    },
    "tags": []
   },
   "outputs": [
    {
     "data": {
      "text/plain": [
       "Index(['isic_id', 'target', 'patient_id', 'age_approx', 'sex',\n",
       "       'anatom_site_general', 'clin_size_long_diam_mm', 'image_type',\n",
       "       'tbp_tile_type', 'tbp_lv_A', 'tbp_lv_Aext', 'tbp_lv_B', 'tbp_lv_Bext',\n",
       "       'tbp_lv_C', 'tbp_lv_Cext', 'tbp_lv_H', 'tbp_lv_Hext', 'tbp_lv_L',\n",
       "       'tbp_lv_Lext', 'tbp_lv_areaMM2', 'tbp_lv_area_perim_ratio',\n",
       "       'tbp_lv_color_std_mean', 'tbp_lv_deltaA', 'tbp_lv_deltaB',\n",
       "       'tbp_lv_deltaL', 'tbp_lv_deltaLB', 'tbp_lv_deltaLBnorm',\n",
       "       'tbp_lv_eccentricity', 'tbp_lv_location', 'tbp_lv_location_simple',\n",
       "       'tbp_lv_minorAxisMM', 'tbp_lv_nevi_confidence', 'tbp_lv_norm_border',\n",
       "       'tbp_lv_norm_color', 'tbp_lv_perimeterMM',\n",
       "       'tbp_lv_radial_color_std_max', 'tbp_lv_stdL', 'tbp_lv_stdLExt',\n",
       "       'tbp_lv_symm_2axis', 'tbp_lv_symm_2axis_angle', 'tbp_lv_x', 'tbp_lv_y',\n",
       "       'tbp_lv_z', 'attribution', 'copyright_license', 'lesion_id',\n",
       "       'iddx_full', 'iddx_1', 'iddx_2', 'iddx_3', 'iddx_4', 'iddx_5',\n",
       "       'mel_mitotic_index', 'mel_thick_mm', 'tbp_lv_dnn_lesion_confidence',\n",
       "       'final_target', 'fold', 'lesion_size_ratio', 'hue_contrast',\n",
       "       'normalized_lesion_size', 'overall_color_difference',\n",
       "       'max_minus_min_lesion_size', 'tbp_lv_A_diff', 'tbp_lv_A_diff_mean',\n",
       "       'tbp_lv_A_diff_mean_diff', 'tbp_lv_B_diff', 'tbp_lv_B_diff_mean',\n",
       "       'tbp_lv_B_diff_mean_diff', 'tbp_lv_L_diff', 'tbp_lv_L_diff_mean',\n",
       "       'tbp_lv_L_diff_mean_diff', 'tbp_lv_L_std_diff',\n",
       "       'tbp_lv_L_std_diff_mean', 'tbp_lv_L_std_diff_mean_diff'],\n",
       "      dtype='object')"
      ]
     },
     "execution_count": 5,
     "metadata": {},
     "output_type": "execute_result"
    }
   ],
   "source": [
    "train_metadata.columns"
   ]
  },
  {
   "cell_type": "code",
   "execution_count": 6,
   "id": "e5b99267",
   "metadata": {
    "execution": {
     "iopub.execute_input": "2024-07-16T22:56:36.383962Z",
     "iopub.status.busy": "2024-07-16T22:56:36.383189Z",
     "iopub.status.idle": "2024-07-16T22:56:36.389210Z",
     "shell.execute_reply": "2024-07-16T22:56:36.388176Z"
    },
    "papermill": {
     "duration": 0.012958,
     "end_time": "2024-07-16T22:56:36.391416",
     "exception": false,
     "start_time": "2024-07-16T22:56:36.378458",
     "status": "completed"
    },
    "tags": []
   },
   "outputs": [],
   "source": [
    "id_column = \"isic_id\"\n",
    "target_column = \"final_target\"\n",
    "group_column = \"patient_id\"\n",
    "ord_categorical_features = [\"tbp_tile_type\", \"tbp_lv_location_simple\", \"anatom_site_general\"]\n",
    "ohe_categorical_features = []\n",
    "numerical_features = [\"age_approx\", \"clin_size_long_diam_mm\", \"tbp_lv_minorAxisMM\", \n",
    "                      \"tbp_lv_A\", \"tbp_lv_Aext\",\n",
    "                      \"tbp_lv_B\", \"tbp_lv_Bext\",\n",
    "                      \"tbp_lv_H\", \"tbp_lv_Hext\",\n",
    "                      \"tbp_lv_areaMM2\",\n",
    "                      \"tbp_lv_stdL\", \"tbp_lv_stdLExt\",\n",
    "                      \"max_minus_min_lesion_size\", \n",
    "                      \"tbp_lv_A_diff_mean_diff\", \n",
    "                      \"tbp_lv_B_diff_mean_diff\", \n",
    "                      \"tbp_lv_L_diff_mean_diff\",\n",
    "                      \"tbp_lv_L_std_diff_mean_diff\"\n",
    "                     ]"
   ]
  },
  {
   "cell_type": "code",
   "execution_count": 7,
   "id": "7d67eb17",
   "metadata": {
    "execution": {
     "iopub.execute_input": "2024-07-16T22:56:36.401105Z",
     "iopub.status.busy": "2024-07-16T22:56:36.399960Z",
     "iopub.status.idle": "2024-07-16T22:56:36.408203Z",
     "shell.execute_reply": "2024-07-16T22:56:36.407121Z"
    },
    "papermill": {
     "duration": 0.015336,
     "end_time": "2024-07-16T22:56:36.410464",
     "exception": false,
     "start_time": "2024-07-16T22:56:36.395128",
     "status": "completed"
    },
    "tags": []
   },
   "outputs": [],
   "source": [
    "mixed_encoded_preprocessor = ColumnTransformer(\n",
    "    [\n",
    "        (\"numerical\", \"passthrough\", numerical_features),\n",
    "        (\n",
    "            \"ord_categorical\",\n",
    "            OrdinalEncoder(handle_unknown=\"use_encoded_value\", unknown_value=-2, encoded_missing_value=-1, dtype=int),\n",
    "            ord_categorical_features,\n",
    "        ),\n",
    "        (\n",
    "            \"ohe_categorical\",\n",
    "            OneHotEncoder(sparse_output=False),\n",
    "            ohe_categorical_features\n",
    "        )\n",
    "    ],\n",
    "    verbose_feature_names_out=False,\n",
    "\n",
    ")\n",
    "mixed_encoded_preprocessor.set_output(transform=\"pandas\")\n",
    "\n",
    "with open(f\"{cfg.model_name}_encoder.joblib\", \"wb\") as f:\n",
    "    joblib.dump(mixed_encoded_preprocessor, f)"
   ]
  },
  {
   "cell_type": "code",
   "execution_count": 8,
   "id": "333c9446",
   "metadata": {
    "execution": {
     "iopub.execute_input": "2024-07-16T22:56:36.419644Z",
     "iopub.status.busy": "2024-07-16T22:56:36.418948Z",
     "iopub.status.idle": "2024-07-16T22:56:37.036613Z",
     "shell.execute_reply": "2024-07-16T22:56:37.035469Z"
    },
    "papermill": {
     "duration": 0.624904,
     "end_time": "2024-07-16T22:56:37.039123",
     "exception": false,
     "start_time": "2024-07-16T22:56:36.414219",
     "status": "completed"
    },
    "tags": []
   },
   "outputs": [
    {
     "name": "stdout",
     "output_type": "stream",
     "text": [
      "Total number of columns: 20\n"
     ]
    }
   ],
   "source": [
    "train_ids = train_metadata[id_column]\n",
    "groups = train_metadata[group_column]\n",
    "folds = train_metadata[\"fold\"]\n",
    "\n",
    "enc = mixed_encoded_preprocessor.fit(train_metadata)\n",
    "X_train = enc.transform(train_metadata)\n",
    "y_train = train_metadata[target_column]\n",
    "\n",
    "categorical_features = ord_categorical_features[:]\n",
    "for ohe_col in ohe_categorical_features:\n",
    "    categorical_features += [col for col in X_train.columns if col.startswith(ohe_col)]\n",
    "\n",
    "print(f\"Total number of columns: {len(X_train.columns)}\")"
   ]
  },
  {
   "cell_type": "code",
   "execution_count": 9,
   "id": "73c01479",
   "metadata": {
    "execution": {
     "iopub.execute_input": "2024-07-16T22:56:37.048283Z",
     "iopub.status.busy": "2024-07-16T22:56:37.047938Z",
     "iopub.status.idle": "2024-07-16T22:56:37.054751Z",
     "shell.execute_reply": "2024-07-16T22:56:37.053406Z"
    },
    "papermill": {
     "duration": 0.013902,
     "end_time": "2024-07-16T22:56:37.056928",
     "exception": false,
     "start_time": "2024-07-16T22:56:37.043026",
     "status": "completed"
    },
    "tags": []
   },
   "outputs": [],
   "source": [
    "def pauc_80(preds, data):\n",
    "    score_value = compute_pauc(data.get_label(), preds, min_tpr=0.8)   \n",
    "    return 'pauc_80', score_value, True\n",
    "\n",
    "\n",
    "params = {\n",
    "    \"objective\": \"binary\",\n",
    "    \"metric\": \"auc\",\n",
    "    \"num_leaves\": 63,\n",
    "    \"learning_rate\": 0.01,\n",
    "    \"bagging_freq\": 5,\n",
    "    \"bagging_fraction\": 0.6,\n",
    "    \"bagging_seed\": cfg.seed,\n",
    "    \"feature_fraction\": 0.3,\n",
    "    \"feature_fraction_seed\": cfg.seed,\n",
    "    \"lambda_l1\": 0.95,\n",
    "    \"lambda_l2\": 0.95,\n",
    "    \"verbosity\": -1\n",
    "}\n",
    "num_rounds = 2500\n",
    "es_rounds = 200\n",
    "log_rounds = 50"
   ]
  },
  {
   "cell_type": "code",
   "execution_count": 10,
   "id": "303f6354",
   "metadata": {
    "execution": {
     "iopub.execute_input": "2024-07-16T22:56:37.067973Z",
     "iopub.status.busy": "2024-07-16T22:56:37.067296Z",
     "iopub.status.idle": "2024-07-16T23:01:50.989144Z",
     "shell.execute_reply": "2024-07-16T23:01:50.988055Z"
    },
    "papermill": {
     "duration": 313.929822,
     "end_time": "2024-07-16T23:01:50.991591",
     "exception": false,
     "start_time": "2024-07-16T22:56:37.061769",
     "status": "completed"
    },
    "tags": []
   },
   "outputs": [
    {
     "name": "stdout",
     "output_type": "stream",
     "text": [
      "Running fold: 1\n",
      "[LightGBM] [Warning] Met negative value in categorical features, will convert it to NaN\n",
      "Training until validation scores don't improve for 200 rounds\n",
      "[50]\tvalid_0's auc: 0.922288\tvalid_0's pauc_80: 0.138148\n",
      "[100]\tvalid_0's auc: 0.929929\tvalid_0's pauc_80: 0.144792\n",
      "[150]\tvalid_0's auc: 0.931073\tvalid_0's pauc_80: 0.145143\n",
      "[200]\tvalid_0's auc: 0.931363\tvalid_0's pauc_80: 0.144389\n",
      "[250]\tvalid_0's auc: 0.934295\tvalid_0's pauc_80: 0.146656\n",
      "[300]\tvalid_0's auc: 0.935608\tvalid_0's pauc_80: 0.147642\n",
      "[350]\tvalid_0's auc: 0.936905\tvalid_0's pauc_80: 0.148823\n",
      "[400]\tvalid_0's auc: 0.937185\tvalid_0's pauc_80: 0.149051\n",
      "[450]\tvalid_0's auc: 0.937639\tvalid_0's pauc_80: 0.149387\n",
      "[500]\tvalid_0's auc: 0.937252\tvalid_0's pauc_80: 0.14936\n",
      "[550]\tvalid_0's auc: 0.938151\tvalid_0's pauc_80: 0.150192\n",
      "[600]\tvalid_0's auc: 0.939464\tvalid_0's pauc_80: 0.15154\n",
      "[650]\tvalid_0's auc: 0.940651\tvalid_0's pauc_80: 0.152801\n",
      "[700]\tvalid_0's auc: 0.940442\tvalid_0's pauc_80: 0.152635\n",
      "[750]\tvalid_0's auc: 0.940107\tvalid_0's pauc_80: 0.152271\n",
      "[800]\tvalid_0's auc: 0.94025\tvalid_0's pauc_80: 0.152443\n",
      "Early stopping, best iteration is:\n",
      "[639]\tvalid_0's auc: 0.940803\tvalid_0's pauc_80: 0.152878\n",
      "\n",
      "\n",
      "Running fold: 2\n",
      "[LightGBM] [Warning] Met negative value in categorical features, will convert it to NaN\n",
      "Training until validation scores don't improve for 200 rounds\n",
      "[50]\tvalid_0's auc: 0.922936\tvalid_0's pauc_80: 0.141219\n",
      "[100]\tvalid_0's auc: 0.926381\tvalid_0's pauc_80: 0.14314\n",
      "[150]\tvalid_0's auc: 0.931283\tvalid_0's pauc_80: 0.147725\n",
      "[200]\tvalid_0's auc: 0.931722\tvalid_0's pauc_80: 0.148154\n",
      "[250]\tvalid_0's auc: 0.934116\tvalid_0's pauc_80: 0.150184\n",
      "[300]\tvalid_0's auc: 0.933716\tvalid_0's pauc_80: 0.15003\n",
      "[350]\tvalid_0's auc: 0.933001\tvalid_0's pauc_80: 0.149424\n",
      "[400]\tvalid_0's auc: 0.933451\tvalid_0's pauc_80: 0.149797\n",
      "[450]\tvalid_0's auc: 0.934207\tvalid_0's pauc_80: 0.150587\n",
      "Early stopping, best iteration is:\n",
      "[262]\tvalid_0's auc: 0.934457\tvalid_0's pauc_80: 0.150459\n",
      "\n",
      "\n",
      "Running fold: 3\n",
      "[LightGBM] [Warning] Met negative value in categorical features, will convert it to NaN\n",
      "Training until validation scores don't improve for 200 rounds\n",
      "[50]\tvalid_0's auc: 0.936719\tvalid_0's pauc_80: 0.15022\n",
      "[100]\tvalid_0's auc: 0.941515\tvalid_0's pauc_80: 0.154177\n",
      "[150]\tvalid_0's auc: 0.943232\tvalid_0's pauc_80: 0.155409\n",
      "[200]\tvalid_0's auc: 0.942587\tvalid_0's pauc_80: 0.154127\n",
      "[250]\tvalid_0's auc: 0.942493\tvalid_0's pauc_80: 0.15401\n",
      "[300]\tvalid_0's auc: 0.942813\tvalid_0's pauc_80: 0.154041\n",
      "Early stopping, best iteration is:\n",
      "[128]\tvalid_0's auc: 0.943402\tvalid_0's pauc_80: 0.155978\n",
      "\n",
      "\n",
      "Running fold: 4\n",
      "[LightGBM] [Warning] Met negative value in categorical features, will convert it to NaN\n",
      "Training until validation scores don't improve for 200 rounds\n",
      "[50]\tvalid_0's auc: 0.932885\tvalid_0's pauc_80: 0.142356\n",
      "[100]\tvalid_0's auc: 0.937175\tvalid_0's pauc_80: 0.146193\n",
      "[150]\tvalid_0's auc: 0.939442\tvalid_0's pauc_80: 0.147737\n",
      "[200]\tvalid_0's auc: 0.94029\tvalid_0's pauc_80: 0.148421\n",
      "[250]\tvalid_0's auc: 0.942065\tvalid_0's pauc_80: 0.149715\n",
      "[300]\tvalid_0's auc: 0.942858\tvalid_0's pauc_80: 0.150421\n",
      "[350]\tvalid_0's auc: 0.944999\tvalid_0's pauc_80: 0.152419\n",
      "[400]\tvalid_0's auc: 0.946621\tvalid_0's pauc_80: 0.153792\n",
      "[450]\tvalid_0's auc: 0.947273\tvalid_0's pauc_80: 0.154213\n",
      "[500]\tvalid_0's auc: 0.948824\tvalid_0's pauc_80: 0.155803\n",
      "[550]\tvalid_0's auc: 0.94983\tvalid_0's pauc_80: 0.15673\n",
      "[600]\tvalid_0's auc: 0.952184\tvalid_0's pauc_80: 0.158856\n",
      "[650]\tvalid_0's auc: 0.952397\tvalid_0's pauc_80: 0.159079\n",
      "[700]\tvalid_0's auc: 0.953324\tvalid_0's pauc_80: 0.16006\n",
      "[750]\tvalid_0's auc: 0.953714\tvalid_0's pauc_80: 0.160576\n",
      "[800]\tvalid_0's auc: 0.954664\tvalid_0's pauc_80: 0.16157\n",
      "[850]\tvalid_0's auc: 0.955315\tvalid_0's pauc_80: 0.162254\n",
      "[900]\tvalid_0's auc: 0.955969\tvalid_0's pauc_80: 0.162909\n",
      "[950]\tvalid_0's auc: 0.956517\tvalid_0's pauc_80: 0.163473\n",
      "[1000]\tvalid_0's auc: 0.957125\tvalid_0's pauc_80: 0.16404\n",
      "[1050]\tvalid_0's auc: 0.957051\tvalid_0's pauc_80: 0.163997\n",
      "[1100]\tvalid_0's auc: 0.957243\tvalid_0's pauc_80: 0.164209\n",
      "[1150]\tvalid_0's auc: 0.957763\tvalid_0's pauc_80: 0.164791\n",
      "[1200]\tvalid_0's auc: 0.958068\tvalid_0's pauc_80: 0.165157\n",
      "[1250]\tvalid_0's auc: 0.958421\tvalid_0's pauc_80: 0.165539\n",
      "[1300]\tvalid_0's auc: 0.9584\tvalid_0's pauc_80: 0.165563\n",
      "[1350]\tvalid_0's auc: 0.958491\tvalid_0's pauc_80: 0.165768\n",
      "[1400]\tvalid_0's auc: 0.958661\tvalid_0's pauc_80: 0.165976\n",
      "[1450]\tvalid_0's auc: 0.958849\tvalid_0's pauc_80: 0.16613\n",
      "[1500]\tvalid_0's auc: 0.959022\tvalid_0's pauc_80: 0.166329\n",
      "[1550]\tvalid_0's auc: 0.959301\tvalid_0's pauc_80: 0.16666\n",
      "[1600]\tvalid_0's auc: 0.959557\tvalid_0's pauc_80: 0.166922\n",
      "[1650]\tvalid_0's auc: 0.959533\tvalid_0's pauc_80: 0.166925\n",
      "[1700]\tvalid_0's auc: 0.959135\tvalid_0's pauc_80: 0.166674\n",
      "[1750]\tvalid_0's auc: 0.959378\tvalid_0's pauc_80: 0.166868\n",
      "[1800]\tvalid_0's auc: 0.959633\tvalid_0's pauc_80: 0.167143\n",
      "[1850]\tvalid_0's auc: 0.95935\tvalid_0's pauc_80: 0.166969\n",
      "[1900]\tvalid_0's auc: 0.959222\tvalid_0's pauc_80: 0.166848\n",
      "[1950]\tvalid_0's auc: 0.959429\tvalid_0's pauc_80: 0.167074\n",
      "[2000]\tvalid_0's auc: 0.95946\tvalid_0's pauc_80: 0.167113\n",
      "Early stopping, best iteration is:\n",
      "[1802]\tvalid_0's auc: 0.959726\tvalid_0's pauc_80: 0.167237\n",
      "\n",
      "\n",
      "Running fold: 5\n",
      "[LightGBM] [Warning] Met negative value in categorical features, will convert it to NaN\n",
      "Training until validation scores don't improve for 200 rounds\n",
      "[50]\tvalid_0's auc: 0.938162\tvalid_0's pauc_80: 0.158913\n",
      "[100]\tvalid_0's auc: 0.939962\tvalid_0's pauc_80: 0.160177\n",
      "[150]\tvalid_0's auc: 0.941632\tvalid_0's pauc_80: 0.160151\n",
      "[200]\tvalid_0's auc: 0.944162\tvalid_0's pauc_80: 0.1616\n",
      "[250]\tvalid_0's auc: 0.946566\tvalid_0's pauc_80: 0.163158\n",
      "[300]\tvalid_0's auc: 0.948043\tvalid_0's pauc_80: 0.164309\n",
      "[350]\tvalid_0's auc: 0.948745\tvalid_0's pauc_80: 0.164628\n",
      "[400]\tvalid_0's auc: 0.950056\tvalid_0's pauc_80: 0.165742\n",
      "[450]\tvalid_0's auc: 0.950408\tvalid_0's pauc_80: 0.165919\n",
      "[500]\tvalid_0's auc: 0.950375\tvalid_0's pauc_80: 0.165659\n",
      "[550]\tvalid_0's auc: 0.950567\tvalid_0's pauc_80: 0.165689\n",
      "[600]\tvalid_0's auc: 0.951428\tvalid_0's pauc_80: 0.166412\n",
      "[650]\tvalid_0's auc: 0.950748\tvalid_0's pauc_80: 0.165909\n",
      "[700]\tvalid_0's auc: 0.950338\tvalid_0's pauc_80: 0.1654\n",
      "[750]\tvalid_0's auc: 0.949938\tvalid_0's pauc_80: 0.164992\n",
      "Early stopping, best iteration is:\n",
      "[595]\tvalid_0's auc: 0.951634\tvalid_0's pauc_80: 0.166578\n",
      "\n",
      "\n",
      "Val AUC scores:\n",
      "{'fold_1': 0.9408031603022681,\n",
      " 'fold_2': 0.9344565801001271,\n",
      " 'fold_3': 0.9434022101309106,\n",
      " 'fold_4': 0.9597256367697895,\n",
      " 'fold_5': 0.9516337742349498}\n",
      "Val PAUC scores:\n",
      "{'fold_1': 0.15287761267271352,\n",
      " 'fold_2': 0.1504585908347108,\n",
      " 'fold_3': 0.15597755550286405,\n",
      " 'fold_4': 0.16723677478129556,\n",
      " 'fold_5': 0.16657815996290778}\n",
      "CV AUC OOF: 0.9384643461765929\n",
      "CV PAUC OOF: 0.15109888600365884\n",
      "CV AUC AVG: 0.9460042723076091\n",
      "CV PAUC AVG: 0.15862573875089836\n",
      "CV AUC STD: 0.008799302513678766\n",
      "CV PAUC STD: 0.006987804772040805\n",
      "Index(['age_approx', 'clin_size_long_diam_mm', 'tbp_lv_minorAxisMM',\n",
      "       'tbp_lv_A', 'tbp_lv_Aext', 'tbp_lv_B', 'tbp_lv_Bext', 'tbp_lv_H',\n",
      "       'tbp_lv_Hext', 'tbp_lv_areaMM2', 'tbp_lv_stdL', 'tbp_lv_stdLExt',\n",
      "       'max_minus_min_lesion_size', 'tbp_lv_A_diff_mean_diff',\n",
      "       'tbp_lv_B_diff_mean_diff', 'tbp_lv_L_diff_mean_diff',\n",
      "       'tbp_lv_L_std_diff_mean_diff', 'tbp_tile_type',\n",
      "       'tbp_lv_location_simple', 'anatom_site_general'],\n",
      "      dtype='object')\n"
     ]
    }
   ],
   "source": [
    "best_num_rounds = {}\n",
    "val_auc_scores = {}\n",
    "val_pauc_scores = {}\n",
    "all_folds = np.sort(folds.unique())\n",
    "oof_predictions = np.zeros(X_train.shape[0])\n",
    "for fold in all_folds:\n",
    "    print(f\"Running fold: {fold}\")\n",
    "    dev_index = folds[folds != fold].index\n",
    "    val_index = folds[folds == fold].index\n",
    "    \n",
    "    X_dev = X_train.loc[dev_index, :]\n",
    "    y_dev = y_train[dev_index]\n",
    "    \n",
    "    X_val = X_train.loc[val_index, :]\n",
    "    y_val = y_train[val_index]\n",
    "    \n",
    "    lgb_dataset_dev = lgb.Dataset(X_dev, label=y_dev, categorical_feature=categorical_features, free_raw_data=False)\n",
    "    lgb_dataset_val = lgb.Dataset(X_val, label=y_val, categorical_feature=categorical_features, free_raw_data=False)\n",
    "    \n",
    "    model = lgb.train(\n",
    "        params,\n",
    "        lgb_dataset_dev,\n",
    "        num_boost_round=num_rounds,\n",
    "        valid_sets=[lgb_dataset_val],\n",
    "        feval=pauc_80,\n",
    "        callbacks=[early_stopping(stopping_rounds=es_rounds), log_evaluation(log_rounds)],\n",
    "    )\n",
    "    \n",
    "    model.save_model(MODELS_OUTPUT_PATH / f\"{cfg.model_name}_fold_{fold}.txt\")\n",
    "    best_num_rounds[f\"fold_{fold}\"] = model.best_iteration\n",
    "    val_scores = dict(model.best_score[\"valid_0\"])\n",
    "    \n",
    "    val_auc_scores[f\"fold_{fold}\"] = val_scores[\"auc\"]\n",
    "    val_pauc_scores[f\"fold_{fold}\"] = val_scores[\"pauc_80\"]\n",
    "    \n",
    "    val_preds = model.predict(X_val, num_iteration=model.best_iteration)\n",
    "    oof_predictions[val_index] = val_preds\n",
    "    print(\"\\n\")\n",
    "\n",
    "print(\"Val AUC scores:\")\n",
    "pprint(val_auc_scores)\n",
    "print(\"Val PAUC scores:\")\n",
    "pprint(val_pauc_scores)\n",
    "\n",
    "oof_preds_df = pd.DataFrame({\n",
    "    id_column: train_ids,\n",
    "    group_column: groups,\n",
    "    \"fold\": folds,\n",
    "    target_column: y_train,\n",
    "    f\"oof_{cfg.model_name}\": oof_predictions\n",
    "})\n",
    "oof_preds_df.to_csv(f\"oof_preds_{cfg.model_name}.csv\", index=False)\n",
    "\n",
    "cv_auc_oof = compute_auc(oof_preds_df[target_column], oof_preds_df[f\"oof_{cfg.model_name}\"])\n",
    "cv_pauc_oof = compute_pauc(oof_preds_df[target_column], oof_preds_df[f\"oof_{cfg.model_name}\"], min_tpr=0.8)\n",
    "\n",
    "cv_auc_avg = np.mean(list(val_auc_scores.values()))\n",
    "cv_pauc_avg = np.mean(list(val_pauc_scores.values()))\n",
    "\n",
    "cv_auc_std = np.std(list(val_auc_scores.values()))\n",
    "cv_pauc_std = np.std(list(val_pauc_scores.values()))\n",
    "\n",
    "print(f\"CV AUC OOF: {cv_auc_oof}\")\n",
    "print(f\"CV PAUC OOF: {cv_pauc_oof}\")\n",
    "print(f\"CV AUC AVG: {cv_auc_avg}\")\n",
    "print(f\"CV PAUC AVG: {cv_pauc_avg}\")\n",
    "print(f\"CV AUC STD: {cv_auc_std}\")\n",
    "print(f\"CV PAUC STD: {cv_pauc_std}\")\n",
    "print(X_train.columns)"
   ]
  },
  {
   "cell_type": "code",
   "execution_count": 11,
   "id": "1c09eb6f",
   "metadata": {
    "execution": {
     "iopub.execute_input": "2024-07-16T23:01:51.014781Z",
     "iopub.status.busy": "2024-07-16T23:01:51.014402Z",
     "iopub.status.idle": "2024-07-16T23:01:51.653032Z",
     "shell.execute_reply": "2024-07-16T23:01:51.651852Z"
    },
    "papermill": {
     "duration": 0.653448,
     "end_time": "2024-07-16T23:01:51.655745",
     "exception": false,
     "start_time": "2024-07-16T23:01:51.002297",
     "status": "completed"
    },
    "tags": []
   },
   "outputs": [
    {
     "data": {
      "text/plain": [
       "<Axes: >"
      ]
     },
     "execution_count": 11,
     "metadata": {},
     "output_type": "execute_result"
    },
    {
     "data": {
      "image/png": "[encoded data removed]",
      "text/plain": [
       "<Figure size 1000x1500 with 1 Axes>"
      ]
     },
     "metadata": {},
     "output_type": "display_data"
    }
   ],
   "source": [
    "feature_importances = 0\n",
    "for fold in all_folds:\n",
    "    model = lgb.Booster(model_file=MODELS_OUTPUT_PATH / f\"{cfg.model_name}_fold_{fold}.txt\")\n",
    "    if fold == 1:\n",
    "        feature_names = model.feature_name()\n",
    "    feature_importances += model.feature_importance(importance_type=\"gain\")\n",
    "feature_importances /= len(all_folds)\n",
    "\n",
    "imp = pd.DataFrame.from_dict(dict(zip(feature_names, feature_importances)), \n",
    "                             orient=\"index\", columns=[\"imp\"]).sort_values(\"imp\", ascending=True)\n",
    "imp.plot(kind=\"barh\", figsize=(10, 15))"
   ]
  }
 ],
 "metadata": {
  "kaggle": {
   "accelerator": "none",
   "dataSources": [
    {
     "databundleVersionId": 9094797,
     "sourceId": 63056,
     "sourceType": "competition"
    },
    {
     "sourceId": 187477024,
     "sourceType": "kernelVersion"
    },
    {
     "sourceId": 187439867,
     "sourceType": "kernelVersion"
    }
   ],
   "dockerImageVersionId": 30746,
   "isGpuEnabled": false,
   "isInternetEnabled": false,
   "language": "python",
   "sourceType": "notebook"
  },
  "kernelspec": {
   "display_name": "Python 3",
   "language": "python",
   "name": "python3"
  },
  "language_info": {
   "codemirror_mode": {
    "name": "ipython",
    "version": 3
   },
   "file_extension": ".py",
   "mimetype": "text/x-python",
   "name": "python",
   "nbconvert_exporter": "python",
   "pygments_lexer": "ipython3",
   "version": "3.10.13"
  },
  "papermill": {
   "default_parameters": {},
   "duration": 338.480898,
   "end_time": "2024-07-16T23:01:52.891637",
   "environment_variables": {},
   "exception": null,
   "input_path": "__notebook__.ipynb",
   "output_path": "__notebook__.ipynb",
   "parameters": {},
   "start_time": "2024-07-16T22:56:14.410739",
   "version": "2.5.0"
  }
 },
 "nbformat": 4,
 "nbformat_minor": 5
}
