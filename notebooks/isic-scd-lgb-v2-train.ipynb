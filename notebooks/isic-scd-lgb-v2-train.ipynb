{
 "cells": [
  {
   "cell_type": "code",
   "execution_count": 1,
   "id": "244b83d9",
   "metadata": {
    "_cell_guid": "b1076dfc-b9ad-4769-8c92-a6c4dae69d19",
    "_uuid": "8f2839f25d086af736a60e9eeb907d3b93b6e0e5",
    "execution": {
     "iopub.execute_input": "2024-07-20T00:44:00.712271Z",
     "iopub.status.busy": "2024-07-20T00:44:00.711467Z",
     "iopub.status.idle": "2024-07-20T00:44:06.821389Z",
     "shell.execute_reply": "2024-07-20T00:44:06.820307Z"
    },
    "papermill": {
     "duration": 6.117839,
     "end_time": "2024-07-20T00:44:06.823924",
     "exception": false,
     "start_time": "2024-07-20T00:44:00.706085",
     "status": "completed"
    },
    "tags": []
   },
   "outputs": [],
   "source": [
    "import json\n",
    "import joblib\n",
    "from pprint import pprint\n",
    "from pathlib import Path\n",
    "\n",
    "import pandas as pd\n",
    "import numpy as np\n",
    "\n",
    "from sklearn.compose import ColumnTransformer\n",
    "from sklearn.preprocessing import OrdinalEncoder, OneHotEncoder\n",
    "\n",
    "import lightgbm as lgb\n",
    "from lightgbm.callback import log_evaluation, early_stopping\n",
    "\n",
    "from isic_helper import DotDict\n",
    "from isic_helper import get_folds\n",
    "from isic_helper import compute_auc, compute_pauc\n",
    "\n",
    "pd.options.display.max_columns = 1000"
   ]
  },
  {
   "cell_type": "code",
   "execution_count": 2,
   "id": "bea013f5",
   "metadata": {
    "execution": {
     "iopub.execute_input": "2024-07-20T00:44:06.832608Z",
     "iopub.status.busy": "2024-07-20T00:44:06.832069Z",
     "iopub.status.idle": "2024-07-20T00:44:06.837033Z",
     "shell.execute_reply": "2024-07-20T00:44:06.835989Z"
    },
    "papermill": {
     "duration": 0.011873,
     "end_time": "2024-07-20T00:44:06.839533",
     "exception": false,
     "start_time": "2024-07-20T00:44:06.827660",
     "status": "completed"
    },
    "tags": []
   },
   "outputs": [],
   "source": [
    "cfg = DotDict()\n",
    "cfg.seed = 2022\n",
    "\n",
    "cfg.models_output_dir = \"models\"\n",
    "cfg.model_name = \"lgb_v2\""
   ]
  },
  {
   "cell_type": "code",
   "execution_count": 3,
   "id": "0d5be70f",
   "metadata": {
    "execution": {
     "iopub.execute_input": "2024-07-20T00:44:06.851307Z",
     "iopub.status.busy": "2024-07-20T00:44:06.850373Z",
     "iopub.status.idle": "2024-07-20T00:44:16.582984Z",
     "shell.execute_reply": "2024-07-20T00:44:16.581945Z"
    },
    "papermill": {
     "duration": 9.740931,
     "end_time": "2024-07-20T00:44:16.585278",
     "exception": false,
     "start_time": "2024-07-20T00:44:06.844347",
     "status": "completed"
    },
    "tags": []
   },
   "outputs": [
    {
     "name": "stdout",
     "output_type": "stream",
     "text": [
      "Train data size: (401059, 57)\n",
      "Test data size: (3, 44)\n"
     ]
    }
   ],
   "source": [
    "INPUT_PATH = Path(\"../input/isic-2024-challenge/\")\n",
    "MODELS_OUTPUT_PATH = Path(f\"{cfg.models_output_dir}\")\n",
    "MODELS_OUTPUT_PATH.mkdir(exist_ok=True)\n",
    "\n",
    "train_metadata = pd.read_csv(INPUT_PATH / \"train-metadata.csv\", low_memory=False)\n",
    "test_metadata = pd.read_csv(INPUT_PATH / \"test-metadata.csv\")\n",
    "\n",
    "folds_df = get_folds()\n",
    "train_metadata = train_metadata.merge(folds_df, on=[\"isic_id\", \"patient_id\"], how=\"inner\")\n",
    "print(f\"Train data size: {train_metadata.shape}\")\n",
    "print(f\"Test data size: {test_metadata.shape}\")"
   ]
  },
  {
   "cell_type": "code",
   "execution_count": 4,
   "id": "19e29b93",
   "metadata": {
    "execution": {
     "iopub.execute_input": "2024-07-20T00:44:16.594216Z",
     "iopub.status.busy": "2024-07-20T00:44:16.593368Z",
     "iopub.status.idle": "2024-07-20T00:44:18.839577Z",
     "shell.execute_reply": "2024-07-20T00:44:18.838551Z"
    },
    "papermill": {
     "duration": 2.253302,
     "end_time": "2024-07-20T00:44:18.842100",
     "exception": false,
     "start_time": "2024-07-20T00:44:16.588798",
     "status": "completed"
    },
    "tags": []
   },
   "outputs": [],
   "source": [
    "def stat_features(df, group_cols, value_col, stats):\n",
    "    tmp = df.groupby(group_cols)[value_col].agg(stats)\n",
    "    tmp.columns = [f\"{value_col}_{stat}\" for stat in stats]\n",
    "    tmp.reset_index(inplace=True)\n",
    "    df = df.merge(tmp, on=group_cols, how=\"left\")\n",
    "    df[f\"{value_col}_mean_diff\"] = df[value_col] - df[f\"{value_col}_mean\"]\n",
    "    return df\n",
    "\n",
    "\n",
    "def feature_engineering(df):\n",
    "    # v1 features\n",
    "    df[\"lesion_size_ratio\"]              = df[\"tbp_lv_minorAxisMM\"] / df[\"clin_size_long_diam_mm\"]\n",
    "    df[\"hue_contrast\"]                   = (df[\"tbp_lv_H\"] - df[\"tbp_lv_Hext\"]).abs()\n",
    "    df[\"normalized_lesion_size\"]         = df[\"clin_size_long_diam_mm\"] / df[\"age_approx\"]\n",
    "    df[\"overall_color_difference\"]       = (df[\"tbp_lv_deltaA\"] + df[\"tbp_lv_deltaB\"] + df[\"tbp_lv_deltaL\"]) / 3\n",
    "    patient_num_images = df.groupby(\"patient_id\", as_index=False)[\"isic_id\"].count().rename(columns={\"isic_id\": \"num_images\"})\n",
    "    df = df.merge(patient_num_images, on=\"patient_id\", how=\"left\")\n",
    "    \n",
    "    # v2 features\n",
    "    df[\"max_minus_min_lesion_size\"] = df[\"clin_size_long_diam_mm\"] - df[\"tbp_lv_minorAxisMM\"]\n",
    "    \n",
    "    df[\"tbp_lv_A_diff\"] =  df[\"tbp_lv_Aext\"] - df[\"tbp_lv_A\"]\n",
    "    df = stat_features(df, [\"patient_id\", \"tbp_lv_location\"], \"tbp_lv_A_diff\", [\"mean\"])\n",
    "    \n",
    "    df[\"tbp_lv_B_diff\"] =  df[\"tbp_lv_Bext\"] - df[\"tbp_lv_B\"]\n",
    "    df = stat_features(df, [\"patient_id\", \"tbp_lv_location\"], \"tbp_lv_B_diff\", [\"mean\"])\n",
    "    \n",
    "    df[\"tbp_lv_L_diff\"] =  df[\"tbp_lv_Lext\"] - df[\"tbp_lv_L\"]\n",
    "    df = stat_features(df, [\"patient_id\", \"tbp_lv_location\"], \"tbp_lv_L_diff\", [\"mean\"])\n",
    "    \n",
    "    df[\"tbp_lv_L_std_diff\"] =  df[\"tbp_lv_stdLExt\"] - df[\"tbp_lv_stdL\"]\n",
    "    df = stat_features(df, [\"patient_id\", \"tbp_lv_location\"], \"tbp_lv_L_std_diff\", [\"mean\"])\n",
    "    \n",
    "    return df\n",
    "\n",
    "train_metadata = feature_engineering(train_metadata.copy())\n",
    "test_metadata = feature_engineering(test_metadata.copy())"
   ]
  },
  {
   "cell_type": "code",
   "execution_count": 5,
   "id": "d9004955",
   "metadata": {
    "execution": {
     "iopub.execute_input": "2024-07-20T00:44:18.850727Z",
     "iopub.status.busy": "2024-07-20T00:44:18.850051Z",
     "iopub.status.idle": "2024-07-20T00:44:18.855597Z",
     "shell.execute_reply": "2024-07-20T00:44:18.854690Z"
    },
    "papermill": {
     "duration": 0.011949,
     "end_time": "2024-07-20T00:44:18.857610",
     "exception": false,
     "start_time": "2024-07-20T00:44:18.845661",
     "status": "completed"
    },
    "tags": []
   },
   "outputs": [],
   "source": [
    "id_column = \"isic_id\"\n",
    "target_column = \"final_target\"\n",
    "group_column = \"patient_id\"\n",
    "ord_categorical_features = [\"tbp_tile_type\", \"tbp_lv_location_simple\", \"anatom_site_general\"]\n",
    "ohe_categorical_features = []\n",
    "numerical_features = [\"age_approx\", \"clin_size_long_diam_mm\", \"tbp_lv_minorAxisMM\", \n",
    "                      \"tbp_lv_A\", \"tbp_lv_Aext\",\n",
    "                      \"tbp_lv_B\", \"tbp_lv_Bext\",\n",
    "                      \"tbp_lv_H\", \"tbp_lv_Hext\",\n",
    "                      \"tbp_lv_areaMM2\",\n",
    "                      \"tbp_lv_stdL\", \"tbp_lv_stdLExt\", \n",
    "                      \"tbp_lv_A_diff_mean_diff\", \n",
    "                      \"tbp_lv_B_diff_mean_diff\", \n",
    "                      \"tbp_lv_L_diff_mean_diff\",\n",
    "                      \"tbp_lv_L_std_diff_mean_diff\",\n",
    "                      \"max_minus_min_lesion_size\",\n",
    "                     ]"
   ]
  },
  {
   "cell_type": "code",
   "execution_count": 6,
   "id": "f432643d",
   "metadata": {
    "execution": {
     "iopub.execute_input": "2024-07-20T00:44:18.866301Z",
     "iopub.status.busy": "2024-07-20T00:44:18.865595Z",
     "iopub.status.idle": "2024-07-20T00:44:18.872917Z",
     "shell.execute_reply": "2024-07-20T00:44:18.871987Z"
    },
    "papermill": {
     "duration": 0.013796,
     "end_time": "2024-07-20T00:44:18.874922",
     "exception": false,
     "start_time": "2024-07-20T00:44:18.861126",
     "status": "completed"
    },
    "tags": []
   },
   "outputs": [],
   "source": [
    "mixed_encoded_preprocessor = ColumnTransformer(\n",
    "    [\n",
    "        (\"numerical\", \"passthrough\", numerical_features),\n",
    "        (\n",
    "            \"ord_categorical\",\n",
    "            OrdinalEncoder(handle_unknown=\"use_encoded_value\", unknown_value=-2, encoded_missing_value=-1, dtype=int),\n",
    "            ord_categorical_features,\n",
    "        ),\n",
    "        (\n",
    "            \"ohe_categorical\",\n",
    "            OneHotEncoder(sparse_output=False),\n",
    "            ohe_categorical_features\n",
    "        )\n",
    "    ],\n",
    "    verbose_feature_names_out=False,\n",
    "\n",
    ")\n",
    "mixed_encoded_preprocessor.set_output(transform=\"pandas\")\n",
    "\n",
    "with open(f\"{cfg.model_name}_encoder.joblib\", \"wb\") as f:\n",
    "    joblib.dump(mixed_encoded_preprocessor, f)"
   ]
  },
  {
   "cell_type": "code",
   "execution_count": 7,
   "id": "3c029574",
   "metadata": {
    "execution": {
     "iopub.execute_input": "2024-07-20T00:44:18.883020Z",
     "iopub.status.busy": "2024-07-20T00:44:18.882710Z",
     "iopub.status.idle": "2024-07-20T00:44:19.518649Z",
     "shell.execute_reply": "2024-07-20T00:44:19.517577Z"
    },
    "papermill": {
     "duration": 0.642526,
     "end_time": "2024-07-20T00:44:19.520843",
     "exception": false,
     "start_time": "2024-07-20T00:44:18.878317",
     "status": "completed"
    },
    "tags": []
   },
   "outputs": [
    {
     "name": "stdout",
     "output_type": "stream",
     "text": [
      "Total number of columns: 20\n"
     ]
    }
   ],
   "source": [
    "train_ids = train_metadata[id_column]\n",
    "groups = train_metadata[group_column]\n",
    "folds = train_metadata[\"fold\"]\n",
    "\n",
    "enc = mixed_encoded_preprocessor.fit(train_metadata)\n",
    "X_train = enc.transform(train_metadata)\n",
    "y_train = train_metadata[target_column]\n",
    "\n",
    "categorical_features = ord_categorical_features[:]\n",
    "for ohe_col in ohe_categorical_features:\n",
    "    categorical_features += [col for col in X_train.columns if col.startswith(ohe_col)]\n",
    "\n",
    "print(f\"Total number of columns: {len(X_train.columns)}\")"
   ]
  },
  {
   "cell_type": "code",
   "execution_count": 8,
   "id": "8717828a",
   "metadata": {
    "execution": {
     "iopub.execute_input": "2024-07-20T00:44:19.529330Z",
     "iopub.status.busy": "2024-07-20T00:44:19.528983Z",
     "iopub.status.idle": "2024-07-20T00:44:19.535259Z",
     "shell.execute_reply": "2024-07-20T00:44:19.534264Z"
    },
    "papermill": {
     "duration": 0.012969,
     "end_time": "2024-07-20T00:44:19.537336",
     "exception": false,
     "start_time": "2024-07-20T00:44:19.524367",
     "status": "completed"
    },
    "tags": []
   },
   "outputs": [],
   "source": [
    "def pauc_80(preds, data):\n",
    "    score_value = compute_pauc(data.get_label(), preds, min_tpr=0.8)   \n",
    "    return 'pauc_80', score_value, True\n",
    "\n",
    "\n",
    "params = {\n",
    "    \"objective\": \"binary\",\n",
    "    \"metric\": \"auc\",\n",
    "    \"num_leaves\": 127,\n",
    "    \"learning_rate\": 0.01,\n",
    "    \"bagging_freq\": 5,\n",
    "    \"bagging_fraction\": 0.6,\n",
    "    \"bagging_seed\": cfg.seed,\n",
    "    \"feature_fraction\": 0.3,\n",
    "    \"feature_fraction_seed\": cfg.seed,\n",
    "    \"lambda_l1\": 0.95,\n",
    "    \"lambda_l2\": 0.95,\n",
    "    \"verbosity\": -1\n",
    "}\n",
    "num_rounds = 2500\n",
    "es_rounds = 200\n",
    "log_rounds = 50"
   ]
  },
  {
   "cell_type": "code",
   "execution_count": 9,
   "id": "0a447f88",
   "metadata": {
    "execution": {
     "iopub.execute_input": "2024-07-20T00:44:19.546301Z",
     "iopub.status.busy": "2024-07-20T00:44:19.545370Z",
     "iopub.status.idle": "2024-07-20T00:49:31.905314Z",
     "shell.execute_reply": "2024-07-20T00:49:31.904198Z"
    },
    "papermill": {
     "duration": 312.366925,
     "end_time": "2024-07-20T00:49:31.907765",
     "exception": false,
     "start_time": "2024-07-20T00:44:19.540840",
     "status": "completed"
    },
    "tags": []
   },
   "outputs": [
    {
     "name": "stdout",
     "output_type": "stream",
     "text": [
      "Running fold: 1\n",
      "[LightGBM] [Warning] Met negative value in categorical features, will convert it to NaN\n",
      "Training until validation scores don't improve for 200 rounds\n",
      "[50]\tvalid_0's auc: 0.926019\tvalid_0's pauc_80: 0.140313\n",
      "[100]\tvalid_0's auc: 0.928087\tvalid_0's pauc_80: 0.141665\n",
      "[150]\tvalid_0's auc: 0.930067\tvalid_0's pauc_80: 0.142871\n",
      "[200]\tvalid_0's auc: 0.930212\tvalid_0's pauc_80: 0.142429\n",
      "[250]\tvalid_0's auc: 0.930319\tvalid_0's pauc_80: 0.14224\n",
      "[300]\tvalid_0's auc: 0.933204\tvalid_0's pauc_80: 0.144819\n",
      "[350]\tvalid_0's auc: 0.93571\tvalid_0's pauc_80: 0.147247\n",
      "[400]\tvalid_0's auc: 0.936666\tvalid_0's pauc_80: 0.148232\n",
      "[450]\tvalid_0's auc: 0.937072\tvalid_0's pauc_80: 0.148492\n",
      "[500]\tvalid_0's auc: 0.936556\tvalid_0's pauc_80: 0.148064\n",
      "[550]\tvalid_0's auc: 0.937729\tvalid_0's pauc_80: 0.149435\n",
      "[600]\tvalid_0's auc: 0.938438\tvalid_0's pauc_80: 0.150201\n",
      "[650]\tvalid_0's auc: 0.93895\tvalid_0's pauc_80: 0.150707\n",
      "[700]\tvalid_0's auc: 0.938963\tvalid_0's pauc_80: 0.150859\n",
      "[750]\tvalid_0's auc: 0.93929\tvalid_0's pauc_80: 0.151293\n",
      "[800]\tvalid_0's auc: 0.939744\tvalid_0's pauc_80: 0.151812\n",
      "[850]\tvalid_0's auc: 0.939557\tvalid_0's pauc_80: 0.151638\n",
      "[900]\tvalid_0's auc: 0.939594\tvalid_0's pauc_80: 0.151532\n",
      "[950]\tvalid_0's auc: 0.939424\tvalid_0's pauc_80: 0.151483\n",
      "[1000]\tvalid_0's auc: 0.939381\tvalid_0's pauc_80: 0.151446\n",
      "Early stopping, best iteration is:\n",
      "[818]\tvalid_0's auc: 0.939842\tvalid_0's pauc_80: 0.152017\n",
      "\n",
      "\n",
      "Running fold: 2\n",
      "[LightGBM] [Warning] Met negative value in categorical features, will convert it to NaN\n",
      "Training until validation scores don't improve for 200 rounds\n",
      "[50]\tvalid_0's auc: 0.918461\tvalid_0's pauc_80: 0.138043\n",
      "[100]\tvalid_0's auc: 0.925969\tvalid_0's pauc_80: 0.144179\n",
      "[150]\tvalid_0's auc: 0.931096\tvalid_0's pauc_80: 0.148138\n",
      "[200]\tvalid_0's auc: 0.931165\tvalid_0's pauc_80: 0.148344\n",
      "[250]\tvalid_0's auc: 0.932897\tvalid_0's pauc_80: 0.149898\n",
      "[300]\tvalid_0's auc: 0.932305\tvalid_0's pauc_80: 0.149417\n",
      "[350]\tvalid_0's auc: 0.93202\tvalid_0's pauc_80: 0.148966\n",
      "[400]\tvalid_0's auc: 0.931752\tvalid_0's pauc_80: 0.148859\n",
      "[450]\tvalid_0's auc: 0.93267\tvalid_0's pauc_80: 0.149905\n",
      "Early stopping, best iteration is:\n",
      "[252]\tvalid_0's auc: 0.93307\tvalid_0's pauc_80: 0.15007\n",
      "\n",
      "\n",
      "Running fold: 3\n",
      "Training until validation scores don't improve for 200 rounds\n",
      "[50]\tvalid_0's auc: 0.940768\tvalid_0's pauc_80: 0.1554\n",
      "[100]\tvalid_0's auc: 0.941275\tvalid_0's pauc_80: 0.154074\n",
      "[150]\tvalid_0's auc: 0.942582\tvalid_0's pauc_80: 0.154461\n",
      "[200]\tvalid_0's auc: 0.94452\tvalid_0's pauc_80: 0.156259\n",
      "[250]\tvalid_0's auc: 0.942661\tvalid_0's pauc_80: 0.15442\n",
      "Early stopping, best iteration is:\n",
      "[56]\tvalid_0's auc: 0.94274\tvalid_0's pauc_80: 0.15736\n",
      "\n",
      "\n",
      "Running fold: 4\n",
      "[LightGBM] [Warning] Met negative value in categorical features, will convert it to NaN\n",
      "Training until validation scores don't improve for 200 rounds\n",
      "[50]\tvalid_0's auc: 0.940396\tvalid_0's pauc_80: 0.150301\n",
      "[100]\tvalid_0's auc: 0.937525\tvalid_0's pauc_80: 0.147648\n",
      "[150]\tvalid_0's auc: 0.940748\tvalid_0's pauc_80: 0.149917\n",
      "[200]\tvalid_0's auc: 0.943841\tvalid_0's pauc_80: 0.15273\n",
      "[250]\tvalid_0's auc: 0.944368\tvalid_0's pauc_80: 0.152607\n",
      "[300]\tvalid_0's auc: 0.946106\tvalid_0's pauc_80: 0.154035\n",
      "[350]\tvalid_0's auc: 0.948375\tvalid_0's pauc_80: 0.156198\n",
      "[400]\tvalid_0's auc: 0.949026\tvalid_0's pauc_80: 0.156752\n",
      "[450]\tvalid_0's auc: 0.950406\tvalid_0's pauc_80: 0.158077\n",
      "[500]\tvalid_0's auc: 0.951545\tvalid_0's pauc_80: 0.159124\n",
      "[550]\tvalid_0's auc: 0.95248\tvalid_0's pauc_80: 0.160099\n",
      "[600]\tvalid_0's auc: 0.954467\tvalid_0's pauc_80: 0.161892\n",
      "[650]\tvalid_0's auc: 0.955293\tvalid_0's pauc_80: 0.162665\n",
      "[700]\tvalid_0's auc: 0.9559\tvalid_0's pauc_80: 0.163379\n",
      "[750]\tvalid_0's auc: 0.95637\tvalid_0's pauc_80: 0.163742\n",
      "[800]\tvalid_0's auc: 0.956778\tvalid_0's pauc_80: 0.164142\n",
      "[850]\tvalid_0's auc: 0.957802\tvalid_0's pauc_80: 0.165147\n",
      "[900]\tvalid_0's auc: 0.958156\tvalid_0's pauc_80: 0.165529\n",
      "[950]\tvalid_0's auc: 0.958592\tvalid_0's pauc_80: 0.165936\n",
      "[1000]\tvalid_0's auc: 0.959274\tvalid_0's pauc_80: 0.166708\n",
      "[1050]\tvalid_0's auc: 0.959149\tvalid_0's pauc_80: 0.166677\n",
      "[1100]\tvalid_0's auc: 0.959206\tvalid_0's pauc_80: 0.166833\n",
      "[1150]\tvalid_0's auc: 0.959649\tvalid_0's pauc_80: 0.167288\n",
      "[1200]\tvalid_0's auc: 0.960059\tvalid_0's pauc_80: 0.167823\n",
      "[1250]\tvalid_0's auc: 0.960593\tvalid_0's pauc_80: 0.168373\n",
      "[1300]\tvalid_0's auc: 0.960794\tvalid_0's pauc_80: 0.168636\n",
      "[1350]\tvalid_0's auc: 0.960812\tvalid_0's pauc_80: 0.168783\n",
      "[1400]\tvalid_0's auc: 0.961041\tvalid_0's pauc_80: 0.169054\n",
      "[1450]\tvalid_0's auc: 0.961224\tvalid_0's pauc_80: 0.169238\n",
      "[1500]\tvalid_0's auc: 0.961302\tvalid_0's pauc_80: 0.169399\n",
      "[1550]\tvalid_0's auc: 0.961663\tvalid_0's pauc_80: 0.16984\n",
      "[1600]\tvalid_0's auc: 0.961761\tvalid_0's pauc_80: 0.170013\n",
      "[1650]\tvalid_0's auc: 0.961488\tvalid_0's pauc_80: 0.169822\n",
      "[1700]\tvalid_0's auc: 0.961181\tvalid_0's pauc_80: 0.169613\n",
      "[1750]\tvalid_0's auc: 0.961389\tvalid_0's pauc_80: 0.169856\n",
      "Early stopping, best iteration is:\n",
      "[1585]\tvalid_0's auc: 0.961844\tvalid_0's pauc_80: 0.170066\n",
      "\n",
      "\n",
      "Running fold: 5\n",
      "[LightGBM] [Warning] Met negative value in categorical features, will convert it to NaN\n",
      "Training until validation scores don't improve for 200 rounds\n",
      "[50]\tvalid_0's auc: 0.934881\tvalid_0's pauc_80: 0.156609\n",
      "[100]\tvalid_0's auc: 0.938154\tvalid_0's pauc_80: 0.157924\n",
      "[150]\tvalid_0's auc: 0.941792\tvalid_0's pauc_80: 0.160069\n",
      "[200]\tvalid_0's auc: 0.944837\tvalid_0's pauc_80: 0.162184\n",
      "[250]\tvalid_0's auc: 0.946095\tvalid_0's pauc_80: 0.163005\n",
      "[300]\tvalid_0's auc: 0.947483\tvalid_0's pauc_80: 0.163494\n",
      "[350]\tvalid_0's auc: 0.947975\tvalid_0's pauc_80: 0.163438\n",
      "[400]\tvalid_0's auc: 0.948698\tvalid_0's pauc_80: 0.163822\n",
      "[450]\tvalid_0's auc: 0.948821\tvalid_0's pauc_80: 0.163884\n",
      "[500]\tvalid_0's auc: 0.948217\tvalid_0's pauc_80: 0.16314\n",
      "[550]\tvalid_0's auc: 0.948847\tvalid_0's pauc_80: 0.163235\n",
      "Early stopping, best iteration is:\n",
      "[378]\tvalid_0's auc: 0.949087\tvalid_0's pauc_80: 0.164159\n",
      "\n",
      "\n",
      "Val AUC scores:\n",
      "{'fold_1': 0.9398424678257964,\n",
      " 'fold_2': 0.9330698003920357,\n",
      " 'fold_3': 0.9427397012392208,\n",
      " 'fold_4': 0.9618440428797843,\n",
      " 'fold_5': 0.9490872066215558}\n",
      "Val PAUC scores:\n",
      "{'fold_1': 0.15201717059535538,\n",
      " 'fold_2': 0.15007026691829645,\n",
      " 'fold_3': 0.1573599792839225,\n",
      " 'fold_4': 0.17006620409080128,\n",
      " 'fold_5': 0.16415872074215074}\n",
      "CV AUC OOF: 0.9283198944495329\n",
      "CV PAUC OOF: 0.14213631631577694\n",
      "CV AUC AVG: 0.9453166437916785\n",
      "CV PAUC AVG: 0.1587344683261053\n",
      "CV AUC STD: 0.009736164268859232\n",
      "CV PAUC STD: 0.007482117944533623\n",
      "Index(['age_approx', 'clin_size_long_diam_mm', 'tbp_lv_minorAxisMM',\n",
      "       'tbp_lv_A', 'tbp_lv_Aext', 'tbp_lv_B', 'tbp_lv_Bext', 'tbp_lv_H',\n",
      "       'tbp_lv_Hext', 'tbp_lv_areaMM2', 'tbp_lv_stdL', 'tbp_lv_stdLExt',\n",
      "       'tbp_lv_A_diff_mean_diff', 'tbp_lv_B_diff_mean_diff',\n",
      "       'tbp_lv_L_diff_mean_diff', 'tbp_lv_L_std_diff_mean_diff',\n",
      "       'max_minus_min_lesion_size', 'tbp_tile_type', 'tbp_lv_location_simple',\n",
      "       'anatom_site_general'],\n",
      "      dtype='object')\n"
     ]
    }
   ],
   "source": [
    "best_num_rounds = {}\n",
    "val_auc_scores = {}\n",
    "val_pauc_scores = {}\n",
    "all_folds = np.sort(folds.unique())\n",
    "oof_predictions = np.zeros(X_train.shape[0])\n",
    "for fold in all_folds:\n",
    "    print(f\"Running fold: {fold}\")\n",
    "    dev_index = folds[folds != fold].index\n",
    "    val_index = folds[folds == fold].index\n",
    "    \n",
    "    X_dev = X_train.loc[dev_index, :]\n",
    "    y_dev = y_train[dev_index]\n",
    "    \n",
    "    X_val = X_train.loc[val_index, :]\n",
    "    y_val = y_train[val_index]\n",
    "    \n",
    "    lgb_dataset_dev = lgb.Dataset(X_dev, label=y_dev, categorical_feature=categorical_features, free_raw_data=False)\n",
    "    lgb_dataset_val = lgb.Dataset(X_val, label=y_val, categorical_feature=categorical_features, free_raw_data=False)\n",
    "    \n",
    "    model = lgb.train(\n",
    "        params,\n",
    "        lgb_dataset_dev,\n",
    "        num_boost_round=num_rounds,\n",
    "        valid_sets=[lgb_dataset_val],\n",
    "        feval=pauc_80,\n",
    "        callbacks=[early_stopping(stopping_rounds=es_rounds), log_evaluation(log_rounds)],\n",
    "    )\n",
    "    \n",
    "    model.save_model(MODELS_OUTPUT_PATH / f\"{cfg.model_name}_fold_{fold}.txt\")\n",
    "    best_num_rounds[f\"fold_{fold}\"] = model.best_iteration\n",
    "    val_scores = dict(model.best_score[\"valid_0\"])\n",
    "    \n",
    "    val_auc_scores[f\"fold_{fold}\"] = val_scores[\"auc\"]\n",
    "    val_pauc_scores[f\"fold_{fold}\"] = val_scores[\"pauc_80\"]\n",
    "    \n",
    "    val_preds = model.predict(X_val, num_iteration=model.best_iteration)\n",
    "    oof_predictions[val_index] = val_preds\n",
    "    print(\"\\n\")\n",
    "\n",
    "print(\"Val AUC scores:\")\n",
    "pprint(val_auc_scores)\n",
    "print(\"Val PAUC scores:\")\n",
    "pprint(val_pauc_scores)\n",
    "\n",
    "oof_preds_df = pd.DataFrame({\n",
    "    id_column: train_ids,\n",
    "    group_column: groups,\n",
    "    \"fold\": folds,\n",
    "    target_column: y_train,\n",
    "    f\"oof_{cfg.model_name}\": oof_predictions\n",
    "})\n",
    "oof_preds_df.to_csv(f\"oof_preds_{cfg.model_name}.csv\", index=False)\n",
    "\n",
    "cv_auc_oof = compute_auc(oof_preds_df[target_column], oof_preds_df[f\"oof_{cfg.model_name}\"])\n",
    "cv_pauc_oof = compute_pauc(oof_preds_df[target_column], oof_preds_df[f\"oof_{cfg.model_name}\"], min_tpr=0.8)\n",
    "\n",
    "cv_auc_avg = np.mean(list(val_auc_scores.values()))\n",
    "cv_pauc_avg = np.mean(list(val_pauc_scores.values()))\n",
    "\n",
    "cv_auc_std = np.std(list(val_auc_scores.values()))\n",
    "cv_pauc_std = np.std(list(val_pauc_scores.values()))\n",
    "\n",
    "print(f\"CV AUC OOF: {cv_auc_oof}\")\n",
    "print(f\"CV PAUC OOF: {cv_pauc_oof}\")\n",
    "print(f\"CV AUC AVG: {cv_auc_avg}\")\n",
    "print(f\"CV PAUC AVG: {cv_pauc_avg}\")\n",
    "print(f\"CV AUC STD: {cv_auc_std}\")\n",
    "print(f\"CV PAUC STD: {cv_pauc_std}\")\n",
    "print(X_train.columns)"
   ]
  },
  {
   "cell_type": "code",
   "execution_count": 10,
   "id": "8451b64d",
   "metadata": {
    "execution": {
     "iopub.execute_input": "2024-07-20T00:49:31.928852Z",
     "iopub.status.busy": "2024-07-20T00:49:31.928343Z",
     "iopub.status.idle": "2024-07-20T00:49:32.607072Z",
     "shell.execute_reply": "2024-07-20T00:49:32.605953Z"
    },
    "papermill": {
     "duration": 0.692222,
     "end_time": "2024-07-20T00:49:32.609577",
     "exception": false,
     "start_time": "2024-07-20T00:49:31.917355",
     "status": "completed"
    },
    "tags": []
   },
   "outputs": [
    {
     "data": {
      "text/plain": [
       "<Axes: >"
      ]
     },
     "execution_count": 10,
     "metadata": {},
     "output_type": "execute_result"
    },
    {
     "data": {
      "image/png": "[encoded data removed]",
      "text/plain": [
       "<Figure size 1000x1500 with 1 Axes>"
      ]
     },
     "metadata": {},
     "output_type": "display_data"
    }
   ],
   "source": [
    "feature_importances = 0\n",
    "for fold in all_folds:\n",
    "    model = lgb.Booster(model_file=MODELS_OUTPUT_PATH / f\"{cfg.model_name}_fold_{fold}.txt\")\n",
    "    if fold == 1:\n",
    "        feature_names = model.feature_name()\n",
    "    feature_importances += model.feature_importance(importance_type=\"gain\")\n",
    "feature_importances /= len(all_folds)\n",
    "\n",
    "imp = pd.DataFrame.from_dict(dict(zip(feature_names, feature_importances)), \n",
    "                             orient=\"index\", columns=[\"imp\"]).sort_values(\"imp\", ascending=True)\n",
    "imp.plot(kind=\"barh\", figsize=(10, 15))"
   ]
  },
  {
   "cell_type": "code",
   "execution_count": 11,
   "id": "a61dbb7e",
   "metadata": {
    "execution": {
     "iopub.execute_input": "2024-07-20T00:49:32.632699Z",
     "iopub.status.busy": "2024-07-20T00:49:32.632320Z",
     "iopub.status.idle": "2024-07-20T00:49:32.651436Z",
     "shell.execute_reply": "2024-07-20T00:49:32.650545Z"
    },
    "papermill": {
     "duration": 0.033238,
     "end_time": "2024-07-20T00:49:32.653605",
     "exception": false,
     "start_time": "2024-07-20T00:49:32.620367",
     "status": "completed"
    },
    "tags": []
   },
   "outputs": [],
   "source": [
    "metadata = {\n",
    "    \"params\": params,\n",
    "    \"num_rounds\": num_rounds,\n",
    "    \"es_rounds\": es_rounds,\n",
    "    \"best_num_rounds\": best_num_rounds,\n",
    "    \"val_auc_scores\": val_auc_scores,\n",
    "    \"val_pauc_scores\": val_pauc_scores,\n",
    "    \"cv_auc_oof\": cv_auc_oof,\n",
    "    \"cv_pauc_oof\": cv_pauc_oof,\n",
    "    \"cv_auc_avg\": cv_auc_avg,\n",
    "    \"cv_pauc_avg\": cv_pauc_avg\n",
    "}\n",
    "\n",
    "with open(f\"{cfg.model_name}_run_metadata.json\", \"w\") as f:\n",
    "    json.dump(metadata, f)"
   ]
  }
 ],
 "metadata": {
  "kaggle": {
   "accelerator": "none",
   "dataSources": [
    {
     "databundleVersionId": 9094797,
     "sourceId": 63056,
     "sourceType": "competition"
    },
    {
     "sourceId": 187439867,
     "sourceType": "kernelVersion"
    },
    {
     "sourceId": 187477024,
     "sourceType": "kernelVersion"
    }
   ],
   "dockerImageVersionId": 30746,
   "isGpuEnabled": false,
   "isInternetEnabled": false,
   "language": "python",
   "sourceType": "notebook"
  },
  "kernelspec": {
   "display_name": "Python 3",
   "language": "python",
   "name": "python3"
  },
  "language_info": {
   "codemirror_mode": {
    "name": "ipython",
    "version": 3
   },
   "file_extension": ".py",
   "mimetype": "text/x-python",
   "name": "python",
   "nbconvert_exporter": "python",
   "pygments_lexer": "ipython3",
   "version": "3.10.13"
  },
  "papermill": {
   "default_parameters": {},
   "duration": 335.693472,
   "end_time": "2024-07-20T00:49:33.786802",
   "environment_variables": {},
   "exception": null,
   "input_path": "__notebook__.ipynb",
   "output_path": "__notebook__.ipynb",
   "parameters": {},
   "start_time": "2024-07-20T00:43:58.093330",
   "version": "2.5.0"
  }
 },
 "nbformat": 4,
 "nbformat_minor": 5
}
