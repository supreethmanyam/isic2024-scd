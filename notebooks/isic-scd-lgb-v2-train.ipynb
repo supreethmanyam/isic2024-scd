{
 "cells": [
  {
   "cell_type": "code",
   "execution_count": 1,
   "id": "f8f12d65",
   "metadata": {
    "_cell_guid": "b1076dfc-b9ad-4769-8c92-a6c4dae69d19",
    "_uuid": "8f2839f25d086af736a60e9eeb907d3b93b6e0e5",
    "execution": {
     "iopub.execute_input": "2024-07-16T23:07:49.380563Z",
     "iopub.status.busy": "2024-07-16T23:07:49.380020Z",
     "iopub.status.idle": "2024-07-16T23:07:57.282958Z",
     "shell.execute_reply": "2024-07-16T23:07:57.281809Z"
    },
    "papermill": {
     "duration": 7.913498,
     "end_time": "2024-07-16T23:07:57.286013",
     "exception": false,
     "start_time": "2024-07-16T23:07:49.372515",
     "status": "completed"
    },
    "tags": []
   },
   "outputs": [],
   "source": [
    "import json\n",
    "import joblib\n",
    "from pprint import pprint\n",
    "from pathlib import Path\n",
    "\n",
    "import pandas as pd\n",
    "import numpy as np\n",
    "\n",
    "from sklearn.compose import ColumnTransformer\n",
    "from sklearn.preprocessing import OrdinalEncoder, OneHotEncoder\n",
    "\n",
    "import lightgbm as lgb\n",
    "from lightgbm.callback import log_evaluation, early_stopping\n",
    "\n",
    "from isic_helper import DotDict\n",
    "from isic_helper import get_folds\n",
    "from isic_helper import compute_auc, compute_pauc\n",
    "\n",
    "pd.options.display.max_columns = 1000"
   ]
  },
  {
   "cell_type": "code",
   "execution_count": 2,
   "id": "df1916be",
   "metadata": {
    "execution": {
     "iopub.execute_input": "2024-07-16T23:07:57.299141Z",
     "iopub.status.busy": "2024-07-16T23:07:57.298490Z",
     "iopub.status.idle": "2024-07-16T23:07:57.304907Z",
     "shell.execute_reply": "2024-07-16T23:07:57.303474Z"
    },
    "papermill": {
     "duration": 0.016221,
     "end_time": "2024-07-16T23:07:57.307772",
     "exception": false,
     "start_time": "2024-07-16T23:07:57.291551",
     "status": "completed"
    },
    "tags": []
   },
   "outputs": [],
   "source": [
    "cfg = DotDict()\n",
    "cfg.seed = 2022\n",
    "\n",
    "cfg.models_output_dir = \"models\"\n",
    "cfg.model_name = \"lgb_v2\""
   ]
  },
  {
   "cell_type": "code",
   "execution_count": 3,
   "id": "2674b438",
   "metadata": {
    "execution": {
     "iopub.execute_input": "2024-07-16T23:07:57.320635Z",
     "iopub.status.busy": "2024-07-16T23:07:57.320172Z",
     "iopub.status.idle": "2024-07-16T23:08:10.134912Z",
     "shell.execute_reply": "2024-07-16T23:08:10.133141Z"
    },
    "papermill": {
     "duration": 12.824761,
     "end_time": "2024-07-16T23:08:10.137752",
     "exception": false,
     "start_time": "2024-07-16T23:07:57.312991",
     "status": "completed"
    },
    "tags": []
   },
   "outputs": [
    {
     "name": "stdout",
     "output_type": "stream",
     "text": [
      "Train data size: (401059, 57)\n",
      "Test data size: (3, 44)\n"
     ]
    }
   ],
   "source": [
    "INPUT_PATH = Path(\"../input/isic-2024-challenge/\")\n",
    "MODELS_OUTPUT_PATH = Path(f\"{cfg.models_output_dir}\")\n",
    "MODELS_OUTPUT_PATH.mkdir(exist_ok=True)\n",
    "\n",
    "train_metadata = pd.read_csv(INPUT_PATH / \"train-metadata.csv\", low_memory=False)\n",
    "test_metadata = pd.read_csv(INPUT_PATH / \"test-metadata.csv\")\n",
    "\n",
    "folds_df = get_folds()\n",
    "train_metadata = train_metadata.merge(folds_df, on=[\"isic_id\", \"patient_id\"], how=\"inner\")\n",
    "print(f\"Train data size: {train_metadata.shape}\")\n",
    "print(f\"Test data size: {test_metadata.shape}\")"
   ]
  },
  {
   "cell_type": "code",
   "execution_count": 4,
   "id": "1fa39b8f",
   "metadata": {
    "execution": {
     "iopub.execute_input": "2024-07-16T23:08:10.152292Z",
     "iopub.status.busy": "2024-07-16T23:08:10.151830Z",
     "iopub.status.idle": "2024-07-16T23:08:12.599911Z",
     "shell.execute_reply": "2024-07-16T23:08:12.598749Z"
    },
    "papermill": {
     "duration": 2.459487,
     "end_time": "2024-07-16T23:08:12.603230",
     "exception": false,
     "start_time": "2024-07-16T23:08:10.143743",
     "status": "completed"
    },
    "tags": []
   },
   "outputs": [],
   "source": [
    "def stat_features(df, group_cols, value_col, stats):\n",
    "    tmp = df.groupby(group_cols)[value_col].agg(stats)\n",
    "    tmp.columns = [f\"{value_col}_{stat}\" for stat in stats]\n",
    "    tmp.reset_index(inplace=True)\n",
    "    df = df.merge(tmp, on=group_cols, how=\"left\")\n",
    "    df[f\"{value_col}_mean_diff\"] = df[value_col] - df[f\"{value_col}_mean\"]\n",
    "    \n",
    "    new_stat_num_cols = (\n",
    "        [f\"{value_col}_mean_diff\"]\n",
    "    )\n",
    "    return df, new_stat_num_cols\n",
    "\n",
    "\n",
    "def feature_engineering(df):\n",
    "    new_num_cols = []\n",
    "    new_cat_cols = []\n",
    "    \n",
    "    # v1 features\n",
    "    df[\"lesion_size_ratio\"]              = df[\"tbp_lv_minorAxisMM\"] / df[\"clin_size_long_diam_mm\"]\n",
    "    df[\"hue_contrast\"]                   = (df[\"tbp_lv_H\"] - df[\"tbp_lv_Hext\"]).abs()\n",
    "    df[\"normalized_lesion_size\"]         = df[\"clin_size_long_diam_mm\"] / df[\"age_approx\"]\n",
    "    df[\"overall_color_difference\"]       = (df[\"tbp_lv_deltaA\"] + df[\"tbp_lv_deltaB\"] + df[\"tbp_lv_deltaL\"]) / 3\n",
    "    \n",
    "    # v2 features\n",
    "    df[\"max_minus_min_lesion_size\"] = df[\"clin_size_long_diam_mm\"] - df[\"tbp_lv_minorAxisMM\"]\n",
    "    \n",
    "    df[\"tbp_lv_A_diff\"] =  df[\"tbp_lv_Aext\"] - df[\"tbp_lv_A\"]\n",
    "    df, new_stat_num_cols = stat_features(df, [\"patient_id\", \"tbp_lv_location\"], \"tbp_lv_A_diff\", [\"mean\"])\n",
    "    new_num_cols += new_stat_num_cols\n",
    "    \n",
    "    df[\"tbp_lv_B_diff\"] =  df[\"tbp_lv_Bext\"] - df[\"tbp_lv_B\"]\n",
    "    df, new_stat_num_cols = stat_features(df, [\"patient_id\", \"tbp_lv_location\"], \"tbp_lv_B_diff\", [\"mean\"])\n",
    "    new_num_cols += new_stat_num_cols\n",
    "    \n",
    "    df[\"tbp_lv_L_diff\"] =  df[\"tbp_lv_Lext\"] - df[\"tbp_lv_L\"]\n",
    "    df, new_stat_num_cols = stat_features(df, [\"patient_id\", \"tbp_lv_location\"], \"tbp_lv_L_diff\", [\"mean\"])\n",
    "    new_num_cols += new_stat_num_cols\n",
    "    \n",
    "    df[\"tbp_lv_L_std_diff\"] =  df[\"tbp_lv_stdLExt\"] - df[\"tbp_lv_stdL\"]\n",
    "    df, new_stat_num_cols = stat_features(df, [\"patient_id\", \"tbp_lv_location\"], \"tbp_lv_L_std_diff\", [\"mean\"])\n",
    "    new_num_cols += new_stat_num_cols\n",
    "\n",
    "    new_num_cols += [\n",
    "        \"max_minus_min_lesion_size\"\n",
    "    ]\n",
    "    \n",
    "    new_cat_cols += [\n",
    "    ]\n",
    "    \n",
    "    return df, new_num_cols, new_cat_cols\n",
    "\n",
    "train_metadata, new_num_cols, new_cat_cols = feature_engineering(train_metadata.copy())\n",
    "test_metadata, new_num_cols, new_cat_cols = feature_engineering(test_metadata.copy())"
   ]
  },
  {
   "cell_type": "code",
   "execution_count": 5,
   "id": "b6404bea",
   "metadata": {
    "execution": {
     "iopub.execute_input": "2024-07-16T23:08:12.616320Z",
     "iopub.status.busy": "2024-07-16T23:08:12.615202Z",
     "iopub.status.idle": "2024-07-16T23:08:12.626045Z",
     "shell.execute_reply": "2024-07-16T23:08:12.624615Z"
    },
    "papermill": {
     "duration": 0.020243,
     "end_time": "2024-07-16T23:08:12.628874",
     "exception": false,
     "start_time": "2024-07-16T23:08:12.608631",
     "status": "completed"
    },
    "tags": []
   },
   "outputs": [
    {
     "data": {
      "text/plain": [
       "Index(['isic_id', 'target', 'patient_id', 'age_approx', 'sex',\n",
       "       'anatom_site_general', 'clin_size_long_diam_mm', 'image_type',\n",
       "       'tbp_tile_type', 'tbp_lv_A', 'tbp_lv_Aext', 'tbp_lv_B', 'tbp_lv_Bext',\n",
       "       'tbp_lv_C', 'tbp_lv_Cext', 'tbp_lv_H', 'tbp_lv_Hext', 'tbp_lv_L',\n",
       "       'tbp_lv_Lext', 'tbp_lv_areaMM2', 'tbp_lv_area_perim_ratio',\n",
       "       'tbp_lv_color_std_mean', 'tbp_lv_deltaA', 'tbp_lv_deltaB',\n",
       "       'tbp_lv_deltaL', 'tbp_lv_deltaLB', 'tbp_lv_deltaLBnorm',\n",
       "       'tbp_lv_eccentricity', 'tbp_lv_location', 'tbp_lv_location_simple',\n",
       "       'tbp_lv_minorAxisMM', 'tbp_lv_nevi_confidence', 'tbp_lv_norm_border',\n",
       "       'tbp_lv_norm_color', 'tbp_lv_perimeterMM',\n",
       "       'tbp_lv_radial_color_std_max', 'tbp_lv_stdL', 'tbp_lv_stdLExt',\n",
       "       'tbp_lv_symm_2axis', 'tbp_lv_symm_2axis_angle', 'tbp_lv_x', 'tbp_lv_y',\n",
       "       'tbp_lv_z', 'attribution', 'copyright_license', 'lesion_id',\n",
       "       'iddx_full', 'iddx_1', 'iddx_2', 'iddx_3', 'iddx_4', 'iddx_5',\n",
       "       'mel_mitotic_index', 'mel_thick_mm', 'tbp_lv_dnn_lesion_confidence',\n",
       "       'final_target', 'fold', 'lesion_size_ratio', 'hue_contrast',\n",
       "       'normalized_lesion_size', 'overall_color_difference',\n",
       "       'max_minus_min_lesion_size', 'tbp_lv_A_diff', 'tbp_lv_A_diff_mean',\n",
       "       'tbp_lv_A_diff_mean_diff', 'tbp_lv_B_diff', 'tbp_lv_B_diff_mean',\n",
       "       'tbp_lv_B_diff_mean_diff', 'tbp_lv_L_diff', 'tbp_lv_L_diff_mean',\n",
       "       'tbp_lv_L_diff_mean_diff', 'tbp_lv_L_std_diff',\n",
       "       'tbp_lv_L_std_diff_mean', 'tbp_lv_L_std_diff_mean_diff'],\n",
       "      dtype='object')"
      ]
     },
     "execution_count": 5,
     "metadata": {},
     "output_type": "execute_result"
    }
   ],
   "source": [
    "train_metadata.columns"
   ]
  },
  {
   "cell_type": "code",
   "execution_count": 6,
   "id": "be4a5f0a",
   "metadata": {
    "execution": {
     "iopub.execute_input": "2024-07-16T23:08:12.642394Z",
     "iopub.status.busy": "2024-07-16T23:08:12.641945Z",
     "iopub.status.idle": "2024-07-16T23:08:12.650244Z",
     "shell.execute_reply": "2024-07-16T23:08:12.649004Z"
    },
    "papermill": {
     "duration": 0.018629,
     "end_time": "2024-07-16T23:08:12.653042",
     "exception": false,
     "start_time": "2024-07-16T23:08:12.634413",
     "status": "completed"
    },
    "tags": []
   },
   "outputs": [
    {
     "data": {
      "text/plain": [
       "['tbp_lv_A_diff_mean_diff',\n",
       " 'tbp_lv_B_diff_mean_diff',\n",
       " 'tbp_lv_L_diff_mean_diff',\n",
       " 'tbp_lv_L_std_diff_mean_diff',\n",
       " 'max_minus_min_lesion_size']"
      ]
     },
     "execution_count": 6,
     "metadata": {},
     "output_type": "execute_result"
    }
   ],
   "source": [
    "new_num_cols"
   ]
  },
  {
   "cell_type": "code",
   "execution_count": 7,
   "id": "92667a91",
   "metadata": {
    "execution": {
     "iopub.execute_input": "2024-07-16T23:08:12.668139Z",
     "iopub.status.busy": "2024-07-16T23:08:12.667023Z",
     "iopub.status.idle": "2024-07-16T23:08:12.674644Z",
     "shell.execute_reply": "2024-07-16T23:08:12.673439Z"
    },
    "papermill": {
     "duration": 0.017565,
     "end_time": "2024-07-16T23:08:12.677166",
     "exception": false,
     "start_time": "2024-07-16T23:08:12.659601",
     "status": "completed"
    },
    "tags": []
   },
   "outputs": [],
   "source": [
    "id_column = \"isic_id\"\n",
    "target_column = \"final_target\"\n",
    "group_column = \"patient_id\"\n",
    "ord_categorical_features = [\"tbp_tile_type\", \"tbp_lv_location_simple\", \"anatom_site_general\"]\n",
    "ohe_categorical_features = []\n",
    "numerical_features = [\"age_approx\", \"clin_size_long_diam_mm\", \"tbp_lv_minorAxisMM\", \n",
    "                      \"tbp_lv_A\", \"tbp_lv_Aext\",\n",
    "                      \"tbp_lv_B\", \"tbp_lv_Bext\",\n",
    "                      \"tbp_lv_H\", \"tbp_lv_Hext\",\n",
    "                      \"tbp_lv_areaMM2\",\n",
    "                      \"tbp_lv_stdL\", \"tbp_lv_stdLExt\", \n",
    "                      \"tbp_lv_A_diff_mean_diff\", \n",
    "                      \"tbp_lv_B_diff_mean_diff\", \n",
    "                      \"tbp_lv_L_diff_mean_diff\",\n",
    "                      \"tbp_lv_L_std_diff_mean_diff\",\n",
    "                      \"max_minus_min_lesion_size\"\n",
    "                     ]"
   ]
  },
  {
   "cell_type": "code",
   "execution_count": 8,
   "id": "dc1b0bff",
   "metadata": {
    "execution": {
     "iopub.execute_input": "2024-07-16T23:08:12.690389Z",
     "iopub.status.busy": "2024-07-16T23:08:12.689932Z",
     "iopub.status.idle": "2024-07-16T23:08:12.699603Z",
     "shell.execute_reply": "2024-07-16T23:08:12.698326Z"
    },
    "papermill": {
     "duration": 0.019565,
     "end_time": "2024-07-16T23:08:12.702311",
     "exception": false,
     "start_time": "2024-07-16T23:08:12.682746",
     "status": "completed"
    },
    "tags": []
   },
   "outputs": [],
   "source": [
    "mixed_encoded_preprocessor = ColumnTransformer(\n",
    "    [\n",
    "        (\"numerical\", \"passthrough\", numerical_features),\n",
    "        (\n",
    "            \"ord_categorical\",\n",
    "            OrdinalEncoder(handle_unknown=\"use_encoded_value\", unknown_value=-2, encoded_missing_value=-1, dtype=int),\n",
    "            ord_categorical_features,\n",
    "        ),\n",
    "        (\n",
    "            \"ohe_categorical\",\n",
    "            OneHotEncoder(sparse_output=False),\n",
    "            ohe_categorical_features\n",
    "        )\n",
    "    ],\n",
    "    verbose_feature_names_out=False,\n",
    "\n",
    ")\n",
    "mixed_encoded_preprocessor.set_output(transform=\"pandas\")\n",
    "\n",
    "with open(f\"{cfg.model_name}_encoder.joblib\", \"wb\") as f:\n",
    "    joblib.dump(mixed_encoded_preprocessor, f)"
   ]
  },
  {
   "cell_type": "code",
   "execution_count": 9,
   "id": "be62afdb",
   "metadata": {
    "execution": {
     "iopub.execute_input": "2024-07-16T23:08:12.715560Z",
     "iopub.status.busy": "2024-07-16T23:08:12.714949Z",
     "iopub.status.idle": "2024-07-16T23:08:13.554718Z",
     "shell.execute_reply": "2024-07-16T23:08:13.553277Z"
    },
    "papermill": {
     "duration": 0.849352,
     "end_time": "2024-07-16T23:08:13.557420",
     "exception": false,
     "start_time": "2024-07-16T23:08:12.708068",
     "status": "completed"
    },
    "tags": []
   },
   "outputs": [
    {
     "name": "stdout",
     "output_type": "stream",
     "text": [
      "Total number of columns: 20\n"
     ]
    }
   ],
   "source": [
    "train_ids = train_metadata[id_column]\n",
    "groups = train_metadata[group_column]\n",
    "folds = train_metadata[\"fold\"]\n",
    "\n",
    "enc = mixed_encoded_preprocessor.fit(train_metadata)\n",
    "X_train = enc.transform(train_metadata)\n",
    "y_train = train_metadata[target_column]\n",
    "\n",
    "categorical_features = ord_categorical_features[:]\n",
    "for ohe_col in ohe_categorical_features:\n",
    "    categorical_features += [col for col in X_train.columns if col.startswith(ohe_col)]\n",
    "\n",
    "print(f\"Total number of columns: {len(X_train.columns)}\")"
   ]
  },
  {
   "cell_type": "code",
   "execution_count": 10,
   "id": "e23931ea",
   "metadata": {
    "execution": {
     "iopub.execute_input": "2024-07-16T23:08:13.570583Z",
     "iopub.status.busy": "2024-07-16T23:08:13.570148Z",
     "iopub.status.idle": "2024-07-16T23:08:13.578109Z",
     "shell.execute_reply": "2024-07-16T23:08:13.576950Z"
    },
    "papermill": {
     "duration": 0.017681,
     "end_time": "2024-07-16T23:08:13.580776",
     "exception": false,
     "start_time": "2024-07-16T23:08:13.563095",
     "status": "completed"
    },
    "tags": []
   },
   "outputs": [],
   "source": [
    "def pauc_80(preds, data):\n",
    "    score_value = compute_pauc(data.get_label(), preds, min_tpr=0.8)   \n",
    "    return 'pauc_80', score_value, True\n",
    "\n",
    "\n",
    "params = {\n",
    "    \"objective\": \"binary\",\n",
    "    \"metric\": \"auc\",\n",
    "    \"num_leaves\": 63,\n",
    "    \"learning_rate\": 0.01,\n",
    "    \"bagging_freq\": 5,\n",
    "    \"bagging_fraction\": 0.6,\n",
    "    \"bagging_seed\": cfg.seed,\n",
    "    \"feature_fraction\": 0.3,\n",
    "    \"feature_fraction_seed\": cfg.seed,\n",
    "    \"lambda_l1\": 0.95,\n",
    "    \"lambda_l2\": 0.95,\n",
    "    \"verbosity\": -1\n",
    "}\n",
    "num_rounds = 2500\n",
    "es_rounds = 200\n",
    "log_rounds = 50"
   ]
  },
  {
   "cell_type": "code",
   "execution_count": 11,
   "id": "3f62df51",
   "metadata": {
    "execution": {
     "iopub.execute_input": "2024-07-16T23:08:13.594602Z",
     "iopub.status.busy": "2024-07-16T23:08:13.594117Z",
     "iopub.status.idle": "2024-07-16T23:14:37.009555Z",
     "shell.execute_reply": "2024-07-16T23:14:37.008225Z"
    },
    "papermill": {
     "duration": 383.425676,
     "end_time": "2024-07-16T23:14:37.012284",
     "exception": false,
     "start_time": "2024-07-16T23:08:13.586608",
     "status": "completed"
    },
    "tags": []
   },
   "outputs": [
    {
     "name": "stdout",
     "output_type": "stream",
     "text": [
      "Running fold: 1\n",
      "[LightGBM] [Warning] Met negative value in categorical features, will convert it to NaN\n",
      "Training until validation scores don't improve for 200 rounds\n",
      "[50]\tvalid_0's auc: 0.92773\tvalid_0's pauc_80: 0.142245\n",
      "[100]\tvalid_0's auc: 0.928598\tvalid_0's pauc_80: 0.142425\n",
      "[150]\tvalid_0's auc: 0.929881\tvalid_0's pauc_80: 0.14289\n",
      "[200]\tvalid_0's auc: 0.931305\tvalid_0's pauc_80: 0.143569\n",
      "[250]\tvalid_0's auc: 0.931106\tvalid_0's pauc_80: 0.143126\n",
      "[300]\tvalid_0's auc: 0.934208\tvalid_0's pauc_80: 0.145827\n",
      "[350]\tvalid_0's auc: 0.937958\tvalid_0's pauc_80: 0.149547\n",
      "[400]\tvalid_0's auc: 0.938714\tvalid_0's pauc_80: 0.150078\n",
      "[450]\tvalid_0's auc: 0.93947\tvalid_0's pauc_80: 0.150711\n",
      "[500]\tvalid_0's auc: 0.939649\tvalid_0's pauc_80: 0.150835\n",
      "[550]\tvalid_0's auc: 0.94001\tvalid_0's pauc_80: 0.151202\n",
      "[600]\tvalid_0's auc: 0.940374\tvalid_0's pauc_80: 0.151543\n",
      "[650]\tvalid_0's auc: 0.940662\tvalid_0's pauc_80: 0.151877\n",
      "[700]\tvalid_0's auc: 0.941561\tvalid_0's pauc_80: 0.152685\n",
      "[750]\tvalid_0's auc: 0.941641\tvalid_0's pauc_80: 0.1529\n",
      "[800]\tvalid_0's auc: 0.942098\tvalid_0's pauc_80: 0.153441\n",
      "[850]\tvalid_0's auc: 0.941811\tvalid_0's pauc_80: 0.153081\n",
      "[900]\tvalid_0's auc: 0.940988\tvalid_0's pauc_80: 0.152313\n",
      "[950]\tvalid_0's auc: 0.940641\tvalid_0's pauc_80: 0.152022\n",
      "[1000]\tvalid_0's auc: 0.940177\tvalid_0's pauc_80: 0.151591\n",
      "Early stopping, best iteration is:\n",
      "[818]\tvalid_0's auc: 0.942226\tvalid_0's pauc_80: 0.153626\n",
      "\n",
      "\n",
      "Running fold: 2\n",
      "[LightGBM] [Warning] Met negative value in categorical features, will convert it to NaN\n",
      "Training until validation scores don't improve for 200 rounds\n",
      "[50]\tvalid_0's auc: 0.919752\tvalid_0's pauc_80: 0.139079\n",
      "[100]\tvalid_0's auc: 0.926845\tvalid_0's pauc_80: 0.144871\n",
      "[150]\tvalid_0's auc: 0.930808\tvalid_0's pauc_80: 0.147904\n",
      "[200]\tvalid_0's auc: 0.930831\tvalid_0's pauc_80: 0.147797\n",
      "[250]\tvalid_0's auc: 0.931452\tvalid_0's pauc_80: 0.14841\n",
      "[300]\tvalid_0's auc: 0.932319\tvalid_0's pauc_80: 0.149239\n",
      "[350]\tvalid_0's auc: 0.931065\tvalid_0's pauc_80: 0.147905\n",
      "[400]\tvalid_0's auc: 0.931646\tvalid_0's pauc_80: 0.148551\n",
      "[450]\tvalid_0's auc: 0.932857\tvalid_0's pauc_80: 0.149644\n",
      "[500]\tvalid_0's auc: 0.932069\tvalid_0's pauc_80: 0.14938\n",
      "[550]\tvalid_0's auc: 0.933258\tvalid_0's pauc_80: 0.150768\n",
      "[600]\tvalid_0's auc: 0.933291\tvalid_0's pauc_80: 0.150987\n",
      "[650]\tvalid_0's auc: 0.934699\tvalid_0's pauc_80: 0.152365\n",
      "[700]\tvalid_0's auc: 0.935501\tvalid_0's pauc_80: 0.153019\n",
      "[750]\tvalid_0's auc: 0.935224\tvalid_0's pauc_80: 0.152627\n",
      "[800]\tvalid_0's auc: 0.935434\tvalid_0's pauc_80: 0.152721\n",
      "[850]\tvalid_0's auc: 0.935558\tvalid_0's pauc_80: 0.152876\n",
      "[900]\tvalid_0's auc: 0.935746\tvalid_0's pauc_80: 0.153088\n",
      "[950]\tvalid_0's auc: 0.936061\tvalid_0's pauc_80: 0.153551\n",
      "[1000]\tvalid_0's auc: 0.936194\tvalid_0's pauc_80: 0.153795\n",
      "[1050]\tvalid_0's auc: 0.935944\tvalid_0's pauc_80: 0.153691\n",
      "[1100]\tvalid_0's auc: 0.935403\tvalid_0's pauc_80: 0.15313\n",
      "[1150]\tvalid_0's auc: 0.935007\tvalid_0's pauc_80: 0.152805\n",
      "[1200]\tvalid_0's auc: 0.936111\tvalid_0's pauc_80: 0.153916\n",
      "Early stopping, best iteration is:\n",
      "[1011]\tvalid_0's auc: 0.936251\tvalid_0's pauc_80: 0.153801\n",
      "\n",
      "\n",
      "Running fold: 3\n",
      "[LightGBM] [Warning] Met negative value in categorical features, will convert it to NaN\n",
      "Training until validation scores don't improve for 200 rounds\n",
      "[50]\tvalid_0's auc: 0.94153\tvalid_0's pauc_80: 0.155815\n",
      "[100]\tvalid_0's auc: 0.942121\tvalid_0's pauc_80: 0.154509\n",
      "[150]\tvalid_0's auc: 0.942573\tvalid_0's pauc_80: 0.154206\n",
      "[200]\tvalid_0's auc: 0.944283\tvalid_0's pauc_80: 0.155624\n",
      "Early stopping, best iteration is:\n",
      "[20]\tvalid_0's auc: 0.939788\tvalid_0's pauc_80: 0.158132\n",
      "\n",
      "\n",
      "Running fold: 4\n",
      "[LightGBM] [Warning] Met negative value in categorical features, will convert it to NaN\n",
      "Training until validation scores don't improve for 200 rounds\n",
      "[50]\tvalid_0's auc: 0.938284\tvalid_0's pauc_80: 0.147904\n",
      "[100]\tvalid_0's auc: 0.937217\tvalid_0's pauc_80: 0.147205\n",
      "[150]\tvalid_0's auc: 0.94002\tvalid_0's pauc_80: 0.149103\n",
      "[200]\tvalid_0's auc: 0.942135\tvalid_0's pauc_80: 0.150931\n",
      "[250]\tvalid_0's auc: 0.943464\tvalid_0's pauc_80: 0.151669\n",
      "[300]\tvalid_0's auc: 0.944768\tvalid_0's pauc_80: 0.152749\n",
      "[350]\tvalid_0's auc: 0.946718\tvalid_0's pauc_80: 0.154499\n",
      "[400]\tvalid_0's auc: 0.947868\tvalid_0's pauc_80: 0.155451\n",
      "[450]\tvalid_0's auc: 0.949253\tvalid_0's pauc_80: 0.156906\n",
      "[500]\tvalid_0's auc: 0.950218\tvalid_0's pauc_80: 0.157683\n",
      "[550]\tvalid_0's auc: 0.95031\tvalid_0's pauc_80: 0.157769\n",
      "[600]\tvalid_0's auc: 0.952728\tvalid_0's pauc_80: 0.160137\n",
      "[650]\tvalid_0's auc: 0.954021\tvalid_0's pauc_80: 0.161411\n",
      "[700]\tvalid_0's auc: 0.954503\tvalid_0's pauc_80: 0.162018\n",
      "[750]\tvalid_0's auc: 0.955086\tvalid_0's pauc_80: 0.162634\n",
      "[800]\tvalid_0's auc: 0.955306\tvalid_0's pauc_80: 0.1629\n",
      "[850]\tvalid_0's auc: 0.956098\tvalid_0's pauc_80: 0.163697\n",
      "[900]\tvalid_0's auc: 0.956292\tvalid_0's pauc_80: 0.163935\n",
      "[950]\tvalid_0's auc: 0.956548\tvalid_0's pauc_80: 0.164167\n",
      "[1000]\tvalid_0's auc: 0.956906\tvalid_0's pauc_80: 0.164578\n",
      "[1050]\tvalid_0's auc: 0.956672\tvalid_0's pauc_80: 0.164409\n",
      "[1100]\tvalid_0's auc: 0.956632\tvalid_0's pauc_80: 0.164405\n",
      "[1150]\tvalid_0's auc: 0.957449\tvalid_0's pauc_80: 0.165267\n",
      "[1200]\tvalid_0's auc: 0.958098\tvalid_0's pauc_80: 0.166023\n",
      "[1250]\tvalid_0's auc: 0.958914\tvalid_0's pauc_80: 0.16682\n",
      "[1300]\tvalid_0's auc: 0.959092\tvalid_0's pauc_80: 0.16708\n",
      "[1350]\tvalid_0's auc: 0.959162\tvalid_0's pauc_80: 0.167237\n",
      "[1400]\tvalid_0's auc: 0.959295\tvalid_0's pauc_80: 0.167407\n",
      "[1450]\tvalid_0's auc: 0.959258\tvalid_0's pauc_80: 0.167403\n",
      "[1500]\tvalid_0's auc: 0.959428\tvalid_0's pauc_80: 0.167672\n",
      "[1550]\tvalid_0's auc: 0.959943\tvalid_0's pauc_80: 0.168294\n",
      "[1600]\tvalid_0's auc: 0.959857\tvalid_0's pauc_80: 0.168273\n",
      "[1650]\tvalid_0's auc: 0.959866\tvalid_0's pauc_80: 0.168358\n",
      "[1700]\tvalid_0's auc: 0.959639\tvalid_0's pauc_80: 0.168235\n",
      "[1750]\tvalid_0's auc: 0.959934\tvalid_0's pauc_80: 0.168544\n",
      "[1800]\tvalid_0's auc: 0.96033\tvalid_0's pauc_80: 0.168959\n",
      "[1850]\tvalid_0's auc: 0.960154\tvalid_0's pauc_80: 0.168831\n",
      "[1900]\tvalid_0's auc: 0.959813\tvalid_0's pauc_80: 0.168558\n",
      "[1950]\tvalid_0's auc: 0.959931\tvalid_0's pauc_80: 0.168734\n",
      "[2000]\tvalid_0's auc: 0.960032\tvalid_0's pauc_80: 0.168841\n",
      "Early stopping, best iteration is:\n",
      "[1823]\tvalid_0's auc: 0.960347\tvalid_0's pauc_80: 0.168984\n",
      "\n",
      "\n",
      "Running fold: 5\n",
      "[LightGBM] [Warning] Met negative value in categorical features, will convert it to NaN\n",
      "Training until validation scores don't improve for 200 rounds\n",
      "[50]\tvalid_0's auc: 0.934323\tvalid_0's pauc_80: 0.156309\n",
      "[100]\tvalid_0's auc: 0.937668\tvalid_0's pauc_80: 0.157668\n",
      "[150]\tvalid_0's auc: 0.940566\tvalid_0's pauc_80: 0.15896\n",
      "[200]\tvalid_0's auc: 0.943988\tvalid_0's pauc_80: 0.161441\n",
      "[250]\tvalid_0's auc: 0.945622\tvalid_0's pauc_80: 0.162703\n",
      "[300]\tvalid_0's auc: 0.947658\tvalid_0's pauc_80: 0.163753\n",
      "[350]\tvalid_0's auc: 0.948438\tvalid_0's pauc_80: 0.164136\n",
      "[400]\tvalid_0's auc: 0.949145\tvalid_0's pauc_80: 0.164414\n",
      "[450]\tvalid_0's auc: 0.949912\tvalid_0's pauc_80: 0.164926\n",
      "[500]\tvalid_0's auc: 0.949674\tvalid_0's pauc_80: 0.164196\n",
      "[550]\tvalid_0's auc: 0.949901\tvalid_0's pauc_80: 0.163873\n",
      "[600]\tvalid_0's auc: 0.950505\tvalid_0's pauc_80: 0.164232\n",
      "Early stopping, best iteration is:\n",
      "[448]\tvalid_0's auc: 0.949962\tvalid_0's pauc_80: 0.164977\n",
      "\n",
      "\n",
      "Val AUC scores:\n",
      "{'fold_1': 0.9422255621015245,\n",
      " 'fold_2': 0.9362506903500739,\n",
      " 'fold_3': 0.9397875042118531,\n",
      " 'fold_4': 0.9603469630979271,\n",
      " 'fold_5': 0.9499621942622953}\n",
      "Val PAUC scores:\n",
      "{'fold_1': 0.1536264925535799,\n",
      " 'fold_2': 0.1538011011043681,\n",
      " 'fold_3': 0.15813215235052597,\n",
      " 'fold_4': 0.1689839138410852,\n",
      " 'fold_5': 0.16497719976436606}\n",
      "CV AUC OOF: 0.923655167581092\n",
      "CV PAUC OOF: 0.13938627808109164\n",
      "CV AUC AVG: 0.9457145828047349\n",
      "CV PAUC AVG: 0.15990417192278505\n",
      "CV AUC STD: 0.008590896840796263\n",
      "CV PAUC STD: 0.006131461649982304\n",
      "Index(['age_approx', 'clin_size_long_diam_mm', 'tbp_lv_minorAxisMM',\n",
      "       'tbp_lv_A', 'tbp_lv_Aext', 'tbp_lv_B', 'tbp_lv_Bext', 'tbp_lv_H',\n",
      "       'tbp_lv_Hext', 'tbp_lv_areaMM2', 'tbp_lv_stdL', 'tbp_lv_stdLExt',\n",
      "       'tbp_lv_A_diff_mean_diff', 'tbp_lv_B_diff_mean_diff',\n",
      "       'tbp_lv_L_diff_mean_diff', 'tbp_lv_L_std_diff_mean_diff',\n",
      "       'max_minus_min_lesion_size', 'tbp_tile_type', 'tbp_lv_location_simple',\n",
      "       'anatom_site_general'],\n",
      "      dtype='object')\n"
     ]
    }
   ],
   "source": [
    "best_num_rounds = {}\n",
    "val_auc_scores = {}\n",
    "val_pauc_scores = {}\n",
    "all_folds = np.sort(folds.unique())\n",
    "oof_predictions = np.zeros(X_train.shape[0])\n",
    "for fold in all_folds:\n",
    "    print(f\"Running fold: {fold}\")\n",
    "    dev_index = folds[folds != fold].index\n",
    "    val_index = folds[folds == fold].index\n",
    "    \n",
    "    X_dev = X_train.loc[dev_index, :]\n",
    "    y_dev = y_train[dev_index]\n",
    "    \n",
    "    X_val = X_train.loc[val_index, :]\n",
    "    y_val = y_train[val_index]\n",
    "    \n",
    "    lgb_dataset_dev = lgb.Dataset(X_dev, label=y_dev, categorical_feature=categorical_features, free_raw_data=False)\n",
    "    lgb_dataset_val = lgb.Dataset(X_val, label=y_val, categorical_feature=categorical_features, free_raw_data=False)\n",
    "    \n",
    "    model = lgb.train(\n",
    "        params,\n",
    "        lgb_dataset_dev,\n",
    "        num_boost_round=num_rounds,\n",
    "        valid_sets=[lgb_dataset_val],\n",
    "        feval=pauc_80,\n",
    "        callbacks=[early_stopping(stopping_rounds=es_rounds), log_evaluation(log_rounds)],\n",
    "    )\n",
    "    \n",
    "    model.save_model(MODELS_OUTPUT_PATH / f\"{cfg.model_name}_fold_{fold}.txt\")\n",
    "    best_num_rounds[f\"fold_{fold}\"] = model.best_iteration\n",
    "    val_scores = dict(model.best_score[\"valid_0\"])\n",
    "    \n",
    "    val_auc_scores[f\"fold_{fold}\"] = val_scores[\"auc\"]\n",
    "    val_pauc_scores[f\"fold_{fold}\"] = val_scores[\"pauc_80\"]\n",
    "    \n",
    "    val_preds = model.predict(X_val, num_iteration=model.best_iteration)\n",
    "    oof_predictions[val_index] = val_preds\n",
    "    print(\"\\n\")\n",
    "\n",
    "print(\"Val AUC scores:\")\n",
    "pprint(val_auc_scores)\n",
    "print(\"Val PAUC scores:\")\n",
    "pprint(val_pauc_scores)\n",
    "\n",
    "oof_preds_df = pd.DataFrame({\n",
    "    id_column: train_ids,\n",
    "    group_column: groups,\n",
    "    \"fold\": folds,\n",
    "    target_column: y_train,\n",
    "    f\"oof_{cfg.model_name}\": oof_predictions\n",
    "})\n",
    "oof_preds_df.to_csv(f\"oof_preds_{cfg.model_name}.csv\", index=False)\n",
    "\n",
    "cv_auc_oof = compute_auc(oof_preds_df[target_column], oof_preds_df[f\"oof_{cfg.model_name}\"])\n",
    "cv_pauc_oof = compute_pauc(oof_preds_df[target_column], oof_preds_df[f\"oof_{cfg.model_name}\"], min_tpr=0.8)\n",
    "\n",
    "cv_auc_avg = np.mean(list(val_auc_scores.values()))\n",
    "cv_pauc_avg = np.mean(list(val_pauc_scores.values()))\n",
    "\n",
    "cv_auc_std = np.std(list(val_auc_scores.values()))\n",
    "cv_pauc_std = np.std(list(val_pauc_scores.values()))\n",
    "\n",
    "print(f\"CV AUC OOF: {cv_auc_oof}\")\n",
    "print(f\"CV PAUC OOF: {cv_pauc_oof}\")\n",
    "print(f\"CV AUC AVG: {cv_auc_avg}\")\n",
    "print(f\"CV PAUC AVG: {cv_pauc_avg}\")\n",
    "print(f\"CV AUC STD: {cv_auc_std}\")\n",
    "print(f\"CV PAUC STD: {cv_pauc_std}\")\n",
    "print(X_train.columns)"
   ]
  },
  {
   "cell_type": "code",
   "execution_count": 12,
   "id": "c9911406",
   "metadata": {
    "execution": {
     "iopub.execute_input": "2024-07-16T23:14:37.049587Z",
     "iopub.status.busy": "2024-07-16T23:14:37.049162Z",
     "iopub.status.idle": "2024-07-16T23:14:37.763076Z",
     "shell.execute_reply": "2024-07-16T23:14:37.761691Z"
    },
    "papermill": {
     "duration": 0.736343,
     "end_time": "2024-07-16T23:14:37.766115",
     "exception": false,
     "start_time": "2024-07-16T23:14:37.029772",
     "status": "completed"
    },
    "tags": []
   },
   "outputs": [
    {
     "data": {
      "text/plain": [
       "<Axes: >"
      ]
     },
     "execution_count": 12,
     "metadata": {},
     "output_type": "execute_result"
    },
    {
     "data": {
      "image/png": "[encoded data removed]",
      "text/plain": [
       "<Figure size 1000x1500 with 1 Axes>"
      ]
     },
     "metadata": {},
     "output_type": "display_data"
    }
   ],
   "source": [
    "feature_importances = 0\n",
    "for fold in all_folds:\n",
    "    model = lgb.Booster(model_file=MODELS_OUTPUT_PATH / f\"{cfg.model_name}_fold_{fold}.txt\")\n",
    "    if fold == 1:\n",
    "        feature_names = model.feature_name()\n",
    "    feature_importances += model.feature_importance(importance_type=\"gain\")\n",
    "feature_importances /= len(all_folds)\n",
    "\n",
    "imp = pd.DataFrame.from_dict(dict(zip(feature_names, feature_importances)), \n",
    "                             orient=\"index\", columns=[\"imp\"]).sort_values(\"imp\", ascending=True)\n",
    "imp.plot(kind=\"barh\", figsize=(10, 15))"
   ]
  }
 ],
 "metadata": {
  "kaggle": {
   "accelerator": "none",
   "dataSources": [
    {
     "databundleVersionId": 9094797,
     "sourceId": 63056,
     "sourceType": "competition"
    },
    {
     "sourceId": 187439867,
     "sourceType": "kernelVersion"
    },
    {
     "sourceId": 187477024,
     "sourceType": "kernelVersion"
    }
   ],
   "dockerImageVersionId": 30746,
   "isGpuEnabled": false,
   "isInternetEnabled": false,
   "language": "python",
   "sourceType": "notebook"
  },
  "kernelspec": {
   "display_name": "Python 3",
   "language": "python",
   "name": "python3"
  },
  "language_info": {
   "codemirror_mode": {
    "name": "ipython",
    "version": 3
   },
   "file_extension": ".py",
   "mimetype": "text/x-python",
   "name": "python",
   "nbconvert_exporter": "python",
   "pygments_lexer": "ipython3",
   "version": "3.10.13"
  },
  "papermill": {
   "default_parameters": {},
   "duration": 413.065327,
   "end_time": "2024-07-16T23:14:39.111620",
   "environment_variables": {},
   "exception": null,
   "input_path": "__notebook__.ipynb",
   "output_path": "__notebook__.ipynb",
   "parameters": {},
   "start_time": "2024-07-16T23:07:46.046293",
   "version": "2.5.0"
  }
 },
 "nbformat": 4,
 "nbformat_minor": 5
}
