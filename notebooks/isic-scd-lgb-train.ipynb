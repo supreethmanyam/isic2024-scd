{
 "cells": [
  {
   "cell_type": "code",
   "execution_count": 1,
   "id": "26d5ab7b",
   "metadata": {
    "_cell_guid": "b1076dfc-b9ad-4769-8c92-a6c4dae69d19",
    "_uuid": "8f2839f25d086af736a60e9eeb907d3b93b6e0e5",
    "execution": {
     "iopub.execute_input": "2024-07-13T05:44:47.964334Z",
     "iopub.status.busy": "2024-07-13T05:44:47.963926Z",
     "iopub.status.idle": "2024-07-13T05:44:56.047975Z",
     "shell.execute_reply": "2024-07-13T05:44:56.046476Z"
    },
    "papermill": {
     "duration": 8.096684,
     "end_time": "2024-07-13T05:44:56.051356",
     "exception": false,
     "start_time": "2024-07-13T05:44:47.954672",
     "status": "completed"
    },
    "tags": []
   },
   "outputs": [],
   "source": [
    "import json\n",
    "import joblib\n",
    "from pathlib import Path\n",
    "\n",
    "import pandas as pd\n",
    "import numpy as np\n",
    "\n",
    "from sklearn.compose import ColumnTransformer\n",
    "from sklearn.preprocessing import OrdinalEncoder\n",
    "\n",
    "import lightgbm as lgb\n",
    "from lightgbm.callback import log_evaluation, early_stopping\n",
    "\n",
    "from isic_helper import DotDict\n",
    "from isic_helper import get_folds\n",
    "from isic_helper import compute_auc, compute_pauc\n",
    "\n",
    "pd.options.display.max_columns = 1000"
   ]
  },
  {
   "cell_type": "code",
   "execution_count": 2,
   "id": "71536fd8",
   "metadata": {
    "execution": {
     "iopub.execute_input": "2024-07-13T05:44:56.069254Z",
     "iopub.status.busy": "2024-07-13T05:44:56.068581Z",
     "iopub.status.idle": "2024-07-13T05:44:56.074995Z",
     "shell.execute_reply": "2024-07-13T05:44:56.073723Z"
    },
    "papermill": {
     "duration": 0.018423,
     "end_time": "2024-07-13T05:44:56.077865",
     "exception": false,
     "start_time": "2024-07-13T05:44:56.059442",
     "status": "completed"
    },
    "tags": []
   },
   "outputs": [],
   "source": [
    "cfg = DotDict()\n",
    "cfg.seed = 2022\n",
    "\n",
    "cfg.models_output_dir = \"models\"\n",
    "cfg.model_name = \"lgb_v1\""
   ]
  },
  {
   "cell_type": "code",
   "execution_count": 3,
   "id": "12576a3a",
   "metadata": {
    "execution": {
     "iopub.execute_input": "2024-07-13T05:44:56.097263Z",
     "iopub.status.busy": "2024-07-13T05:44:56.096790Z",
     "iopub.status.idle": "2024-07-13T05:45:08.140276Z",
     "shell.execute_reply": "2024-07-13T05:45:08.138576Z"
    },
    "papermill": {
     "duration": 12.057772,
     "end_time": "2024-07-13T05:45:08.144478",
     "exception": false,
     "start_time": "2024-07-13T05:44:56.086706",
     "status": "completed"
    },
    "tags": []
   },
   "outputs": [
    {
     "name": "stdout",
     "output_type": "stream",
     "text": [
      "Train data size: (401059, 57)\n",
      "Test data size: (401059, 57)\n"
     ]
    }
   ],
   "source": [
    "INPUT_PATH = Path(\"../input/isic-2024-challenge/\")\n",
    "MODELS_OUTPUT_PATH = Path(f\"{cfg.models_output_dir}\")\n",
    "MODELS_OUTPUT_PATH.mkdir(exist_ok=True)\n",
    "\n",
    "train_metadata = pd.read_csv(INPUT_PATH / \"train-metadata.csv\", low_memory=False)\n",
    "test_metadata = pd.read_csv(INPUT_PATH / \"test-metadata.csv\")\n",
    "\n",
    "folds_df = get_folds()\n",
    "train_metadata = train_metadata.merge(folds_df, on=[\"isic_id\", \"patient_id\"], how=\"inner\")\n",
    "print(f\"Train data size: {train_metadata.shape}\")\n",
    "print(f\"Test data size: {train_metadata.shape}\")"
   ]
  },
  {
   "cell_type": "code",
   "execution_count": 4,
   "id": "6f23f78f",
   "metadata": {
    "execution": {
     "iopub.execute_input": "2024-07-13T05:45:08.162277Z",
     "iopub.status.busy": "2024-07-13T05:45:08.161720Z",
     "iopub.status.idle": "2024-07-13T05:45:08.186461Z",
     "shell.execute_reply": "2024-07-13T05:45:08.185120Z"
    },
    "papermill": {
     "duration": 0.036425,
     "end_time": "2024-07-13T05:45:08.189298",
     "exception": false,
     "start_time": "2024-07-13T05:45:08.152873",
     "status": "completed"
    },
    "tags": []
   },
   "outputs": [
    {
     "data": {
      "text/plain": [
       "target\n",
       "0    0.99902\n",
       "1    0.00098\n",
       "Name: proportion, dtype: float64"
      ]
     },
     "execution_count": 4,
     "metadata": {},
     "output_type": "execute_result"
    }
   ],
   "source": [
    "train_metadata[\"target\"].value_counts(normalize=True)"
   ]
  },
  {
   "cell_type": "code",
   "execution_count": 5,
   "id": "e7ea410f",
   "metadata": {
    "execution": {
     "iopub.execute_input": "2024-07-13T05:45:08.208846Z",
     "iopub.status.busy": "2024-07-13T05:45:08.208251Z",
     "iopub.status.idle": "2024-07-13T05:45:08.847256Z",
     "shell.execute_reply": "2024-07-13T05:45:08.846035Z"
    },
    "papermill": {
     "duration": 0.652363,
     "end_time": "2024-07-13T05:45:08.850456",
     "exception": false,
     "start_time": "2024-07-13T05:45:08.198093",
     "status": "completed"
    },
    "tags": []
   },
   "outputs": [],
   "source": [
    "def feature_engineering(df):\n",
    "    df[\"lesion_size_ratio\"]              = df[\"tbp_lv_minorAxisMM\"] / df[\"clin_size_long_diam_mm\"]\n",
    "    df[\"hue_contrast\"]                   = (df[\"tbp_lv_H\"] - df[\"tbp_lv_Hext\"]).abs()\n",
    "    df[\"normalized_lesion_size\"]         = df[\"clin_size_long_diam_mm\"] / df[\"age_approx\"]\n",
    "    df[\"overall_color_difference\"]       = (df[\"tbp_lv_deltaA\"] + df[\"tbp_lv_deltaB\"] + df[\"tbp_lv_deltaL\"]) / 3\n",
    "    \n",
    "    patient_num_images = df.groupby(\"patient_id\", as_index=False)[\"isic_id\"].count().rename(columns={\"isic_id\": \"num_images\"})\n",
    "    df = df.merge(patient_num_images, on=\"patient_id\", how=\"left\")\n",
    "\n",
    "    new_num_cols = [\n",
    "        \"num_images\",\n",
    "        \"lesion_size_ratio\",\n",
    "        \"normalized_lesion_size\", \n",
    "        \"overall_color_difference\"\n",
    "    ]\n",
    "    \n",
    "    new_cat_cols = []\n",
    "    \n",
    "    return df, new_num_cols, new_cat_cols\n",
    "\n",
    "train_metadata, new_num_cols, new_cat_cols = feature_engineering(train_metadata.copy())"
   ]
  },
  {
   "cell_type": "code",
   "execution_count": 6,
   "id": "ef69782a",
   "metadata": {
    "execution": {
     "iopub.execute_input": "2024-07-13T05:45:08.867397Z",
     "iopub.status.busy": "2024-07-13T05:45:08.866973Z",
     "iopub.status.idle": "2024-07-13T05:45:08.875251Z",
     "shell.execute_reply": "2024-07-13T05:45:08.873963Z"
    },
    "papermill": {
     "duration": 0.019572,
     "end_time": "2024-07-13T05:45:08.877734",
     "exception": false,
     "start_time": "2024-07-13T05:45:08.858162",
     "status": "completed"
    },
    "tags": []
   },
   "outputs": [],
   "source": [
    "id_column = \"isic_id\"\n",
    "target_column = \"final_target\"\n",
    "group_column = \"patient_id\"\n",
    "drop_features = [\"image_type\"] + train_metadata.columns[~np.in1d(train_metadata.columns, test_metadata.columns)].tolist() # target column removed\n",
    "categorical_features = [\"sex\", \"anatom_site_general\", \n",
    "                        \"tbp_tile_type\", \"tbp_lv_location\", \"tbp_lv_location_simple\",\n",
    "                       \"attribution\", \"copyright_license\"\n",
    "                       ] + new_cat_cols\n",
    "numerical_features = train_metadata.columns[~np.in1d(train_metadata.columns, \n",
    "                                                     [id_column] + [group_column] + categorical_features + drop_features)]"
   ]
  },
  {
   "cell_type": "code",
   "execution_count": 7,
   "id": "317f04fb",
   "metadata": {
    "execution": {
     "iopub.execute_input": "2024-07-13T05:45:08.894758Z",
     "iopub.status.busy": "2024-07-13T05:45:08.894324Z",
     "iopub.status.idle": "2024-07-13T05:45:08.918743Z",
     "shell.execute_reply": "2024-07-13T05:45:08.917509Z"
    },
    "papermill": {
     "duration": 0.036487,
     "end_time": "2024-07-13T05:45:08.921899",
     "exception": false,
     "start_time": "2024-07-13T05:45:08.885412",
     "status": "completed"
    },
    "tags": []
   },
   "outputs": [
    {
     "data": {
      "text/html": [
       "<style>#sk-container-id-1 {color: black;background-color: white;}#sk-container-id-1 pre{padding: 0;}#sk-container-id-1 div.sk-toggleable {background-color: white;}#sk-container-id-1 label.sk-toggleable__label {cursor: pointer;display: block;width: 100%;margin-bottom: 0;padding: 0.3em;box-sizing: border-box;text-align: center;}#sk-container-id-1 label.sk-toggleable__label-arrow:before {content: \"▸\";float: left;margin-right: 0.25em;color: #696969;}#sk-container-id-1 label.sk-toggleable__label-arrow:hover:before {color: black;}#sk-container-id-1 div.sk-estimator:hover label.sk-toggleable__label-arrow:before {color: black;}#sk-container-id-1 div.sk-toggleable__content {max-height: 0;max-width: 0;overflow: hidden;text-align: left;background-color: #f0f8ff;}#sk-container-id-1 div.sk-toggleable__content pre {margin: 0.2em;color: black;border-radius: 0.25em;background-color: #f0f8ff;}#sk-container-id-1 input.sk-toggleable__control:checked~div.sk-toggleable__content {max-height: 200px;max-width: 100%;overflow: auto;}#sk-container-id-1 input.sk-toggleable__control:checked~label.sk-toggleable__label-arrow:before {content: \"▾\";}#sk-container-id-1 div.sk-estimator input.sk-toggleable__control:checked~label.sk-toggleable__label {background-color: #d4ebff;}#sk-container-id-1 div.sk-label input.sk-toggleable__control:checked~label.sk-toggleable__label {background-color: #d4ebff;}#sk-container-id-1 input.sk-hidden--visually {border: 0;clip: rect(1px 1px 1px 1px);clip: rect(1px, 1px, 1px, 1px);height: 1px;margin: -1px;overflow: hidden;padding: 0;position: absolute;width: 1px;}#sk-container-id-1 div.sk-estimator {font-family: monospace;background-color: #f0f8ff;border: 1px dotted black;border-radius: 0.25em;box-sizing: border-box;margin-bottom: 0.5em;}#sk-container-id-1 div.sk-estimator:hover {background-color: #d4ebff;}#sk-container-id-1 div.sk-parallel-item::after {content: \"\";width: 100%;border-bottom: 1px solid gray;flex-grow: 1;}#sk-container-id-1 div.sk-label:hover label.sk-toggleable__label {background-color: #d4ebff;}#sk-container-id-1 div.sk-serial::before {content: \"\";position: absolute;border-left: 1px solid gray;box-sizing: border-box;top: 0;bottom: 0;left: 50%;z-index: 0;}#sk-container-id-1 div.sk-serial {display: flex;flex-direction: column;align-items: center;background-color: white;padding-right: 0.2em;padding-left: 0.2em;position: relative;}#sk-container-id-1 div.sk-item {position: relative;z-index: 1;}#sk-container-id-1 div.sk-parallel {display: flex;align-items: stretch;justify-content: center;background-color: white;position: relative;}#sk-container-id-1 div.sk-item::before, #sk-container-id-1 div.sk-parallel-item::before {content: \"\";position: absolute;border-left: 1px solid gray;box-sizing: border-box;top: 0;bottom: 0;left: 50%;z-index: -1;}#sk-container-id-1 div.sk-parallel-item {display: flex;flex-direction: column;z-index: 1;position: relative;background-color: white;}#sk-container-id-1 div.sk-parallel-item:first-child::after {align-self: flex-end;width: 50%;}#sk-container-id-1 div.sk-parallel-item:last-child::after {align-self: flex-start;width: 50%;}#sk-container-id-1 div.sk-parallel-item:only-child::after {width: 0;}#sk-container-id-1 div.sk-dashed-wrapped {border: 1px dashed gray;margin: 0 0.4em 0.5em 0.4em;box-sizing: border-box;padding-bottom: 0.4em;background-color: white;}#sk-container-id-1 div.sk-label label {font-family: monospace;font-weight: bold;display: inline-block;line-height: 1.2em;}#sk-container-id-1 div.sk-label-container {text-align: center;}#sk-container-id-1 div.sk-container {/* jupyter's `normalize.less` sets `[hidden] { display: none; }` but bootstrap.min.css set `[hidden] { display: none !important; }` so we also need the `!important` here to be able to override the default hidden behavior on the sphinx rendered scikit-learn.org. See: https://github.com/scikit-learn/scikit-learn/issues/21755 */display: inline-block !important;position: relative;}#sk-container-id-1 div.sk-text-repr-fallback {display: none;}</style><div id=\"sk-container-id-1\" class=\"sk-top-container\"><div class=\"sk-text-repr-fallback\"><pre>ColumnTransformer(transformers=[(&#x27;numerical&#x27;, &#x27;passthrough&#x27;,\n",
       "                                 Index([&#x27;age_approx&#x27;, &#x27;clin_size_long_diam_mm&#x27;, &#x27;tbp_lv_A&#x27;, &#x27;tbp_lv_Aext&#x27;,\n",
       "       &#x27;tbp_lv_B&#x27;, &#x27;tbp_lv_Bext&#x27;, &#x27;tbp_lv_C&#x27;, &#x27;tbp_lv_Cext&#x27;, &#x27;tbp_lv_H&#x27;,\n",
       "       &#x27;tbp_lv_Hext&#x27;, &#x27;tbp_lv_L&#x27;, &#x27;tbp_lv_Lext&#x27;, &#x27;tbp_lv_areaMM2&#x27;,\n",
       "       &#x27;tbp_lv_area_perim_ratio&#x27;, &#x27;tbp_lv_color_std_mean&#x27;, &#x27;tbp_lv_deltaA&#x27;,\n",
       "       &#x27;tbp_lv_deltaB&#x27;, &#x27;tbp_lv_deltaL&#x27;, &#x27;tbp_l...\n",
       "       &#x27;tbp_lv_stdLExt&#x27;, &#x27;tbp_lv_symm_2axis&#x27;, &#x27;tbp_lv_symm_2axis_angle&#x27;,\n",
       "       &#x27;tbp_lv_x&#x27;, &#x27;tbp_lv_y&#x27;, &#x27;tbp_lv_z&#x27;],\n",
       "      dtype=&#x27;object&#x27;)),\n",
       "                                (&#x27;categorical&#x27;,\n",
       "                                 OrdinalEncoder(dtype=&lt;class &#x27;int&#x27;&gt;,\n",
       "                                                encoded_missing_value=-1,\n",
       "                                                handle_unknown=&#x27;use_encoded_value&#x27;,\n",
       "                                                unknown_value=-2),\n",
       "                                 [&#x27;sex&#x27;, &#x27;anatom_site_general&#x27;, &#x27;tbp_tile_type&#x27;,\n",
       "                                  &#x27;tbp_lv_location&#x27;, &#x27;tbp_lv_location_simple&#x27;,\n",
       "                                  &#x27;attribution&#x27;, &#x27;copyright_license&#x27;])],\n",
       "                  verbose_feature_names_out=False)</pre><b>In a Jupyter environment, please rerun this cell to show the HTML representation or trust the notebook. <br />On GitHub, the HTML representation is unable to render, please try loading this page with nbviewer.org.</b></div><div class=\"sk-container\" hidden><div class=\"sk-item sk-dashed-wrapped\"><div class=\"sk-label-container\"><div class=\"sk-label sk-toggleable\"><input class=\"sk-toggleable__control sk-hidden--visually\" id=\"sk-estimator-id-1\" type=\"checkbox\" ><label for=\"sk-estimator-id-1\" class=\"sk-toggleable__label sk-toggleable__label-arrow\">ColumnTransformer</label><div class=\"sk-toggleable__content\"><pre>ColumnTransformer(transformers=[(&#x27;numerical&#x27;, &#x27;passthrough&#x27;,\n",
       "                                 Index([&#x27;age_approx&#x27;, &#x27;clin_size_long_diam_mm&#x27;, &#x27;tbp_lv_A&#x27;, &#x27;tbp_lv_Aext&#x27;,\n",
       "       &#x27;tbp_lv_B&#x27;, &#x27;tbp_lv_Bext&#x27;, &#x27;tbp_lv_C&#x27;, &#x27;tbp_lv_Cext&#x27;, &#x27;tbp_lv_H&#x27;,\n",
       "       &#x27;tbp_lv_Hext&#x27;, &#x27;tbp_lv_L&#x27;, &#x27;tbp_lv_Lext&#x27;, &#x27;tbp_lv_areaMM2&#x27;,\n",
       "       &#x27;tbp_lv_area_perim_ratio&#x27;, &#x27;tbp_lv_color_std_mean&#x27;, &#x27;tbp_lv_deltaA&#x27;,\n",
       "       &#x27;tbp_lv_deltaB&#x27;, &#x27;tbp_lv_deltaL&#x27;, &#x27;tbp_l...\n",
       "       &#x27;tbp_lv_stdLExt&#x27;, &#x27;tbp_lv_symm_2axis&#x27;, &#x27;tbp_lv_symm_2axis_angle&#x27;,\n",
       "       &#x27;tbp_lv_x&#x27;, &#x27;tbp_lv_y&#x27;, &#x27;tbp_lv_z&#x27;],\n",
       "      dtype=&#x27;object&#x27;)),\n",
       "                                (&#x27;categorical&#x27;,\n",
       "                                 OrdinalEncoder(dtype=&lt;class &#x27;int&#x27;&gt;,\n",
       "                                                encoded_missing_value=-1,\n",
       "                                                handle_unknown=&#x27;use_encoded_value&#x27;,\n",
       "                                                unknown_value=-2),\n",
       "                                 [&#x27;sex&#x27;, &#x27;anatom_site_general&#x27;, &#x27;tbp_tile_type&#x27;,\n",
       "                                  &#x27;tbp_lv_location&#x27;, &#x27;tbp_lv_location_simple&#x27;,\n",
       "                                  &#x27;attribution&#x27;, &#x27;copyright_license&#x27;])],\n",
       "                  verbose_feature_names_out=False)</pre></div></div></div><div class=\"sk-parallel\"><div class=\"sk-parallel-item\"><div class=\"sk-item\"><div class=\"sk-label-container\"><div class=\"sk-label sk-toggleable\"><input class=\"sk-toggleable__control sk-hidden--visually\" id=\"sk-estimator-id-2\" type=\"checkbox\" ><label for=\"sk-estimator-id-2\" class=\"sk-toggleable__label sk-toggleable__label-arrow\">numerical</label><div class=\"sk-toggleable__content\"><pre>Index([&#x27;age_approx&#x27;, &#x27;clin_size_long_diam_mm&#x27;, &#x27;tbp_lv_A&#x27;, &#x27;tbp_lv_Aext&#x27;,\n",
       "       &#x27;tbp_lv_B&#x27;, &#x27;tbp_lv_Bext&#x27;, &#x27;tbp_lv_C&#x27;, &#x27;tbp_lv_Cext&#x27;, &#x27;tbp_lv_H&#x27;,\n",
       "       &#x27;tbp_lv_Hext&#x27;, &#x27;tbp_lv_L&#x27;, &#x27;tbp_lv_Lext&#x27;, &#x27;tbp_lv_areaMM2&#x27;,\n",
       "       &#x27;tbp_lv_area_perim_ratio&#x27;, &#x27;tbp_lv_color_std_mean&#x27;, &#x27;tbp_lv_deltaA&#x27;,\n",
       "       &#x27;tbp_lv_deltaB&#x27;, &#x27;tbp_lv_deltaL&#x27;, &#x27;tbp_lv_deltaLB&#x27;,\n",
       "       &#x27;tbp_lv_deltaLBnorm&#x27;, &#x27;tbp_lv_eccentricity&#x27;, &#x27;tbp_lv_minorAxisMM&#x27;,\n",
       "       &#x27;tbp_lv_nevi_confidence&#x27;, &#x27;tbp_lv_norm_border&#x27;, &#x27;tbp_lv_norm_color&#x27;,\n",
       "       &#x27;tbp_lv_perimeterMM&#x27;, &#x27;tbp_lv_radial_color_std_max&#x27;, &#x27;tbp_lv_stdL&#x27;,\n",
       "       &#x27;tbp_lv_stdLExt&#x27;, &#x27;tbp_lv_symm_2axis&#x27;, &#x27;tbp_lv_symm_2axis_angle&#x27;,\n",
       "       &#x27;tbp_lv_x&#x27;, &#x27;tbp_lv_y&#x27;, &#x27;tbp_lv_z&#x27;],\n",
       "      dtype=&#x27;object&#x27;)</pre></div></div></div><div class=\"sk-serial\"><div class=\"sk-item\"><div class=\"sk-estimator sk-toggleable\"><input class=\"sk-toggleable__control sk-hidden--visually\" id=\"sk-estimator-id-3\" type=\"checkbox\" ><label for=\"sk-estimator-id-3\" class=\"sk-toggleable__label sk-toggleable__label-arrow\">passthrough</label><div class=\"sk-toggleable__content\"><pre>passthrough</pre></div></div></div></div></div></div><div class=\"sk-parallel-item\"><div class=\"sk-item\"><div class=\"sk-label-container\"><div class=\"sk-label sk-toggleable\"><input class=\"sk-toggleable__control sk-hidden--visually\" id=\"sk-estimator-id-4\" type=\"checkbox\" ><label for=\"sk-estimator-id-4\" class=\"sk-toggleable__label sk-toggleable__label-arrow\">categorical</label><div class=\"sk-toggleable__content\"><pre>[&#x27;sex&#x27;, &#x27;anatom_site_general&#x27;, &#x27;tbp_tile_type&#x27;, &#x27;tbp_lv_location&#x27;, &#x27;tbp_lv_location_simple&#x27;, &#x27;attribution&#x27;, &#x27;copyright_license&#x27;]</pre></div></div></div><div class=\"sk-serial\"><div class=\"sk-item\"><div class=\"sk-estimator sk-toggleable\"><input class=\"sk-toggleable__control sk-hidden--visually\" id=\"sk-estimator-id-5\" type=\"checkbox\" ><label for=\"sk-estimator-id-5\" class=\"sk-toggleable__label sk-toggleable__label-arrow\">OrdinalEncoder</label><div class=\"sk-toggleable__content\"><pre>OrdinalEncoder(dtype=&lt;class &#x27;int&#x27;&gt;, encoded_missing_value=-1,\n",
       "               handle_unknown=&#x27;use_encoded_value&#x27;, unknown_value=-2)</pre></div></div></div></div></div></div></div></div></div></div>"
      ],
      "text/plain": [
       "ColumnTransformer(transformers=[('numerical', 'passthrough',\n",
       "                                 Index(['age_approx', 'clin_size_long_diam_mm', 'tbp_lv_A', 'tbp_lv_Aext',\n",
       "       'tbp_lv_B', 'tbp_lv_Bext', 'tbp_lv_C', 'tbp_lv_Cext', 'tbp_lv_H',\n",
       "       'tbp_lv_Hext', 'tbp_lv_L', 'tbp_lv_Lext', 'tbp_lv_areaMM2',\n",
       "       'tbp_lv_area_perim_ratio', 'tbp_lv_color_std_mean', 'tbp_lv_deltaA',\n",
       "       'tbp_lv_deltaB', 'tbp_lv_deltaL', 'tbp_l...\n",
       "       'tbp_lv_stdLExt', 'tbp_lv_symm_2axis', 'tbp_lv_symm_2axis_angle',\n",
       "       'tbp_lv_x', 'tbp_lv_y', 'tbp_lv_z'],\n",
       "      dtype='object')),\n",
       "                                ('categorical',\n",
       "                                 OrdinalEncoder(dtype=<class 'int'>,\n",
       "                                                encoded_missing_value=-1,\n",
       "                                                handle_unknown='use_encoded_value',\n",
       "                                                unknown_value=-2),\n",
       "                                 ['sex', 'anatom_site_general', 'tbp_tile_type',\n",
       "                                  'tbp_lv_location', 'tbp_lv_location_simple',\n",
       "                                  'attribution', 'copyright_license'])],\n",
       "                  verbose_feature_names_out=False)"
      ]
     },
     "execution_count": 7,
     "metadata": {},
     "output_type": "execute_result"
    }
   ],
   "source": [
    "mixed_encoded_preprocessor = ColumnTransformer(\n",
    "    [\n",
    "        (\"numerical\", \"passthrough\", numerical_features),\n",
    "        (\n",
    "            \"categorical\",\n",
    "            OrdinalEncoder(handle_unknown=\"use_encoded_value\", unknown_value=-2, encoded_missing_value=-1, dtype=int),\n",
    "            categorical_features,\n",
    "        ),\n",
    "    ],\n",
    "    verbose_feature_names_out=False,\n",
    "\n",
    ")\n",
    "mixed_encoded_preprocessor.set_output(transform=\"pandas\")"
   ]
  },
  {
   "cell_type": "code",
   "execution_count": 8,
   "id": "747c6bb9",
   "metadata": {
    "execution": {
     "iopub.execute_input": "2024-07-13T05:45:08.941318Z",
     "iopub.status.busy": "2024-07-13T05:45:08.940872Z",
     "iopub.status.idle": "2024-07-13T05:45:08.948257Z",
     "shell.execute_reply": "2024-07-13T05:45:08.947095Z"
    },
    "papermill": {
     "duration": 0.020236,
     "end_time": "2024-07-13T05:45:08.950746",
     "exception": false,
     "start_time": "2024-07-13T05:45:08.930510",
     "status": "completed"
    },
    "tags": []
   },
   "outputs": [],
   "source": [
    "with open(\"encoder.joblib\", \"wb\") as f:\n",
    "    joblib.dump(mixed_encoded_preprocessor, f)"
   ]
  },
  {
   "cell_type": "code",
   "execution_count": 9,
   "id": "81936f0c",
   "metadata": {
    "execution": {
     "iopub.execute_input": "2024-07-13T05:45:08.969736Z",
     "iopub.status.busy": "2024-07-13T05:45:08.968874Z",
     "iopub.status.idle": "2024-07-13T05:45:10.867055Z",
     "shell.execute_reply": "2024-07-13T05:45:10.865600Z"
    },
    "papermill": {
     "duration": 1.910493,
     "end_time": "2024-07-13T05:45:10.870089",
     "exception": false,
     "start_time": "2024-07-13T05:45:08.959596",
     "status": "completed"
    },
    "tags": []
   },
   "outputs": [],
   "source": [
    "train_ids = train_metadata[id_column]\n",
    "groups = train_metadata[group_column]\n",
    "folds = train_metadata[\"fold\"]\n",
    "\n",
    "enc = mixed_encoded_preprocessor.fit(train_metadata)\n",
    "X_train = enc.transform(train_metadata)\n",
    "y_train = train_metadata[target_column]"
   ]
  },
  {
   "cell_type": "code",
   "execution_count": 10,
   "id": "72579fc6",
   "metadata": {
    "execution": {
     "iopub.execute_input": "2024-07-13T05:45:10.888418Z",
     "iopub.status.busy": "2024-07-13T05:45:10.887936Z",
     "iopub.status.idle": "2024-07-13T05:45:10.894379Z",
     "shell.execute_reply": "2024-07-13T05:45:10.893037Z"
    },
    "papermill": {
     "duration": 0.019734,
     "end_time": "2024-07-13T05:45:10.898079",
     "exception": false,
     "start_time": "2024-07-13T05:45:10.878345",
     "status": "completed"
    },
    "tags": []
   },
   "outputs": [
    {
     "name": "stdout",
     "output_type": "stream",
     "text": [
      "Total number of columns: 41\n"
     ]
    }
   ],
   "source": [
    "columns_for_model = len(X_train.columns)\n",
    "print(f\"Total number of columns: {columns_for_model}\")"
   ]
  },
  {
   "cell_type": "code",
   "execution_count": 11,
   "id": "d18c9735",
   "metadata": {
    "execution": {
     "iopub.execute_input": "2024-07-13T05:45:10.917220Z",
     "iopub.status.busy": "2024-07-13T05:45:10.916795Z",
     "iopub.status.idle": "2024-07-13T05:45:10.923223Z",
     "shell.execute_reply": "2024-07-13T05:45:10.921809Z"
    },
    "papermill": {
     "duration": 0.019084,
     "end_time": "2024-07-13T05:45:10.925914",
     "exception": false,
     "start_time": "2024-07-13T05:45:10.906830",
     "status": "completed"
    },
    "tags": []
   },
   "outputs": [],
   "source": [
    "def pauc_80(preds, data):\n",
    "    score_value = compute_pauc(data.get_label(), preds, min_tpr=0.8)   \n",
    "    return 'pauc_80', score_value, True"
   ]
  },
  {
   "cell_type": "code",
   "execution_count": 12,
   "id": "94948fb9",
   "metadata": {
    "execution": {
     "iopub.execute_input": "2024-07-13T05:45:10.944686Z",
     "iopub.status.busy": "2024-07-13T05:45:10.944293Z",
     "iopub.status.idle": "2024-07-13T05:45:10.951160Z",
     "shell.execute_reply": "2024-07-13T05:45:10.949780Z"
    },
    "papermill": {
     "duration": 0.019107,
     "end_time": "2024-07-13T05:45:10.953725",
     "exception": false,
     "start_time": "2024-07-13T05:45:10.934618",
     "status": "completed"
    },
    "tags": []
   },
   "outputs": [],
   "source": [
    "params = {\n",
    "    \"objective\": \"binary\",\n",
    "    \"metric\": \"auc\",\n",
    "    \"num_leaves\": 63,\n",
    "    \"learning_rate\": 0.01,\n",
    "    \"bagging_freq\": 5,\n",
    "    \"bagging_fraction\": 0.6,\n",
    "    \"bagging_seed\": cfg.seed,\n",
    "    \"feature_fraction\": 0.3,\n",
    "    \"feature_fraction_seed\": cfg.seed,\n",
    "#     \"lambda_l1\": 0.95,\n",
    "#     \"lambda_l2\": 0.95,\n",
    "    \"verbosity\": -1\n",
    "}\n",
    "num_rounds = 2500\n",
    "es_rounds = 200\n",
    "log_rounds = 50"
   ]
  },
  {
   "cell_type": "code",
   "execution_count": 13,
   "id": "95f5a8f3",
   "metadata": {
    "execution": {
     "iopub.execute_input": "2024-07-13T05:45:10.971785Z",
     "iopub.status.busy": "2024-07-13T05:45:10.971349Z",
     "iopub.status.idle": "2024-07-13T05:47:23.908093Z",
     "shell.execute_reply": "2024-07-13T05:47:23.906356Z"
    },
    "papermill": {
     "duration": 132.949024,
     "end_time": "2024-07-13T05:47:23.910949",
     "exception": false,
     "start_time": "2024-07-13T05:45:10.961925",
     "status": "completed"
    },
    "tags": []
   },
   "outputs": [
    {
     "name": "stdout",
     "output_type": "stream",
     "text": [
      "Running fold: 1\n",
      "[LightGBM] [Warning] Met negative value in categorical features, will convert it to NaN\n",
      "[LightGBM] [Warning] Met negative value in categorical features, will convert it to NaN\n",
      "Training until validation scores don't improve for 200 rounds\n",
      "[50]\tvalid_0's auc: 0.928242\tvalid_0's pauc_80: 0.148037\n",
      "[100]\tvalid_0's auc: 0.935483\tvalid_0's pauc_80: 0.153048\n",
      "[150]\tvalid_0's auc: 0.937753\tvalid_0's pauc_80: 0.153722\n",
      "[200]\tvalid_0's auc: 0.93869\tvalid_0's pauc_80: 0.154257\n",
      "[250]\tvalid_0's auc: 0.940567\tvalid_0's pauc_80: 0.155266\n",
      "[300]\tvalid_0's auc: 0.944639\tvalid_0's pauc_80: 0.159004\n",
      "[350]\tvalid_0's auc: 0.946009\tvalid_0's pauc_80: 0.159955\n",
      "[400]\tvalid_0's auc: 0.945927\tvalid_0's pauc_80: 0.159656\n",
      "[450]\tvalid_0's auc: 0.946926\tvalid_0's pauc_80: 0.160141\n",
      "[500]\tvalid_0's auc: 0.946403\tvalid_0's pauc_80: 0.159316\n",
      "[550]\tvalid_0's auc: 0.945995\tvalid_0's pauc_80: 0.158967\n",
      "[600]\tvalid_0's auc: 0.946457\tvalid_0's pauc_80: 0.159046\n",
      "Early stopping, best iteration is:\n",
      "[437]\tvalid_0's auc: 0.947266\tvalid_0's pauc_80: 0.160683\n",
      "\n",
      "\n",
      "Running fold: 2\n",
      "[LightGBM] [Warning] Met negative value in categorical features, will convert it to NaN\n",
      "[LightGBM] [Warning] Met negative value in categorical features, will convert it to NaN\n",
      "Training until validation scores don't improve for 200 rounds\n",
      "[50]\tvalid_0's auc: 0.926941\tvalid_0's pauc_80: 0.147251\n",
      "[100]\tvalid_0's auc: 0.926174\tvalid_0's pauc_80: 0.143607\n",
      "[150]\tvalid_0's auc: 0.929717\tvalid_0's pauc_80: 0.145778\n",
      "[200]\tvalid_0's auc: 0.929898\tvalid_0's pauc_80: 0.145726\n",
      "[250]\tvalid_0's auc: 0.931134\tvalid_0's pauc_80: 0.146759\n",
      "Early stopping, best iteration is:\n",
      "[55]\tvalid_0's auc: 0.929079\tvalid_0's pauc_80: 0.148692\n",
      "\n",
      "\n",
      "Running fold: 3\n",
      "[LightGBM] [Warning] Met negative value in categorical features, will convert it to NaN\n",
      "[LightGBM] [Warning] Met negative value in categorical features, will convert it to NaN\n",
      "Training until validation scores don't improve for 200 rounds\n",
      "[50]\tvalid_0's auc: 0.930699\tvalid_0's pauc_80: 0.145559\n",
      "[100]\tvalid_0's auc: 0.936203\tvalid_0's pauc_80: 0.149403\n",
      "[150]\tvalid_0's auc: 0.940266\tvalid_0's pauc_80: 0.152415\n",
      "[200]\tvalid_0's auc: 0.943056\tvalid_0's pauc_80: 0.154622\n",
      "[250]\tvalid_0's auc: 0.941767\tvalid_0's pauc_80: 0.153071\n",
      "[300]\tvalid_0's auc: 0.942941\tvalid_0's pauc_80: 0.153927\n",
      "[350]\tvalid_0's auc: 0.942967\tvalid_0's pauc_80: 0.153809\n",
      "[400]\tvalid_0's auc: 0.942541\tvalid_0's pauc_80: 0.153284\n",
      "Early stopping, best iteration is:\n",
      "[200]\tvalid_0's auc: 0.943056\tvalid_0's pauc_80: 0.154622\n",
      "\n",
      "\n",
      "Running fold: 4\n",
      "[LightGBM] [Warning] Met negative value in categorical features, will convert it to NaN\n",
      "[LightGBM] [Warning] Met negative value in categorical features, will convert it to NaN\n",
      "Training until validation scores don't improve for 200 rounds\n",
      "[50]\tvalid_0's auc: 0.946484\tvalid_0's pauc_80: 0.153124\n",
      "[100]\tvalid_0's auc: 0.949539\tvalid_0's pauc_80: 0.155508\n",
      "[150]\tvalid_0's auc: 0.947897\tvalid_0's pauc_80: 0.153405\n",
      "[200]\tvalid_0's auc: 0.948839\tvalid_0's pauc_80: 0.154403\n",
      "[250]\tvalid_0's auc: 0.951527\tvalid_0's pauc_80: 0.157034\n",
      "Early stopping, best iteration is:\n",
      "[65]\tvalid_0's auc: 0.95264\tvalid_0's pauc_80: 0.158908\n",
      "\n",
      "\n",
      "Running fold: 5\n",
      "[LightGBM] [Warning] Met negative value in categorical features, will convert it to NaN\n",
      "[LightGBM] [Warning] Met negative value in categorical features, will convert it to NaN\n",
      "Training until validation scores don't improve for 200 rounds\n",
      "[50]\tvalid_0's auc: 0.941743\tvalid_0's pauc_80: 0.157031\n",
      "[100]\tvalid_0's auc: 0.936439\tvalid_0's pauc_80: 0.150691\n",
      "[150]\tvalid_0's auc: 0.941307\tvalid_0's pauc_80: 0.154922\n",
      "[200]\tvalid_0's auc: 0.941239\tvalid_0's pauc_80: 0.154598\n",
      "Early stopping, best iteration is:\n",
      "[48]\tvalid_0's auc: 0.941604\tvalid_0's pauc_80: 0.157185\n",
      "\n",
      "\n"
     ]
    }
   ],
   "source": [
    "best_num_rounds = {}\n",
    "val_auc_scores = {}\n",
    "val_pauc_scores = {}\n",
    "all_folds = np.sort(folds.unique())\n",
    "oof_predictions = np.zeros(X_train.shape[0])\n",
    "for fold in all_folds:\n",
    "    print(f\"Running fold: {fold}\")\n",
    "    dev_index = folds != fold\n",
    "    val_index = folds == fold\n",
    "    \n",
    "    X_dev = X_train.loc[dev_index, :]\n",
    "    y_dev = y_train[dev_index]\n",
    "    \n",
    "    X_val = X_train.loc[val_index, :]\n",
    "    y_val = y_train[val_index]\n",
    "    \n",
    "    lgb_dataset_dev = lgb.Dataset(X_dev, label=y_dev, categorical_feature=categorical_features, free_raw_data=False)\n",
    "    lgb_dataset_val = lgb.Dataset(X_val, label=y_val, categorical_feature=categorical_features, free_raw_data=False)\n",
    "    \n",
    "    model = lgb.train(\n",
    "        params,\n",
    "        lgb_dataset_dev,\n",
    "        num_boost_round=num_rounds,\n",
    "        valid_sets=[lgb_dataset_val],\n",
    "        feval=pauc_80,\n",
    "        callbacks=[early_stopping(stopping_rounds=es_rounds), log_evaluation(log_rounds)],\n",
    "    )\n",
    "    \n",
    "    model.save_model(MODELS_OUTPUT_PATH / f\"{cfg.model_name}_fold_{fold}.txt\")\n",
    "    best_num_rounds[f\"fold_{fold}\"] = model.best_iteration\n",
    "    val_scores = dict(model.best_score[\"valid_0\"])\n",
    "    \n",
    "    val_auc_scores[f\"fold_{fold}\"] = val_scores[\"auc\"]\n",
    "    val_pauc_scores[f\"fold_{fold}\"] = val_scores[\"pauc_80\"]\n",
    "    \n",
    "    val_preds = model.predict(X_val, num_iteration=model.best_iteration)\n",
    "    oof_predictions[val_index] = val_preds\n",
    "    print(\"\\n\")"
   ]
  },
  {
   "cell_type": "code",
   "execution_count": 14,
   "id": "036ab368",
   "metadata": {
    "execution": {
     "iopub.execute_input": "2024-07-13T05:47:23.943324Z",
     "iopub.status.busy": "2024-07-13T05:47:23.942871Z",
     "iopub.status.idle": "2024-07-13T05:47:26.166271Z",
     "shell.execute_reply": "2024-07-13T05:47:26.164887Z"
    },
    "papermill": {
     "duration": 2.241366,
     "end_time": "2024-07-13T05:47:26.169333",
     "exception": false,
     "start_time": "2024-07-13T05:47:23.927967",
     "status": "completed"
    },
    "tags": []
   },
   "outputs": [
    {
     "data": {
      "text/html": [
       "<div>\n",
       "<style scoped>\n",
       "    .dataframe tbody tr th:only-of-type {\n",
       "        vertical-align: middle;\n",
       "    }\n",
       "\n",
       "    .dataframe tbody tr th {\n",
       "        vertical-align: top;\n",
       "    }\n",
       "\n",
       "    .dataframe thead th {\n",
       "        text-align: right;\n",
       "    }\n",
       "</style>\n",
       "<table border=\"1\" class=\"dataframe\">\n",
       "  <thead>\n",
       "    <tr style=\"text-align: right;\">\n",
       "      <th></th>\n",
       "      <th>isic_id</th>\n",
       "      <th>patient_id</th>\n",
       "      <th>fold</th>\n",
       "      <th>final_target</th>\n",
       "      <th>oof_lgb_v1</th>\n",
       "    </tr>\n",
       "  </thead>\n",
       "  <tbody>\n",
       "    <tr>\n",
       "      <th>0</th>\n",
       "      <td>ISIC_0015670</td>\n",
       "      <td>IP_1235828</td>\n",
       "      <td>4</td>\n",
       "      <td>0</td>\n",
       "      <td>0.000594</td>\n",
       "    </tr>\n",
       "    <tr>\n",
       "      <th>1</th>\n",
       "      <td>ISIC_0015845</td>\n",
       "      <td>IP_8170065</td>\n",
       "      <td>1</td>\n",
       "      <td>0</td>\n",
       "      <td>0.958344</td>\n",
       "    </tr>\n",
       "    <tr>\n",
       "      <th>2</th>\n",
       "      <td>ISIC_0015864</td>\n",
       "      <td>IP_6724798</td>\n",
       "      <td>5</td>\n",
       "      <td>0</td>\n",
       "      <td>0.000696</td>\n",
       "    </tr>\n",
       "    <tr>\n",
       "      <th>3</th>\n",
       "      <td>ISIC_0015902</td>\n",
       "      <td>IP_4111386</td>\n",
       "      <td>2</td>\n",
       "      <td>0</td>\n",
       "      <td>0.000646</td>\n",
       "    </tr>\n",
       "    <tr>\n",
       "      <th>4</th>\n",
       "      <td>ISIC_0024200</td>\n",
       "      <td>IP_8313778</td>\n",
       "      <td>1</td>\n",
       "      <td>0</td>\n",
       "      <td>0.000385</td>\n",
       "    </tr>\n",
       "  </tbody>\n",
       "</table>\n",
       "</div>"
      ],
      "text/plain": [
       "        isic_id  patient_id  fold  final_target  oof_lgb_v1\n",
       "0  ISIC_0015670  IP_1235828     4             0    0.000594\n",
       "1  ISIC_0015845  IP_8170065     1             0    0.958344\n",
       "2  ISIC_0015864  IP_6724798     5             0    0.000696\n",
       "3  ISIC_0015902  IP_4111386     2             0    0.000646\n",
       "4  ISIC_0024200  IP_8313778     1             0    0.000385"
      ]
     },
     "execution_count": 14,
     "metadata": {},
     "output_type": "execute_result"
    }
   ],
   "source": [
    "oof_preds_df = pd.DataFrame({\n",
    "    id_column: train_ids,\n",
    "    group_column: groups,\n",
    "    \"fold\": folds,\n",
    "    target_column: y_train,\n",
    "    f\"oof_{cfg.model_name}\": oof_predictions\n",
    "})\n",
    "oof_preds_df.to_csv(f\"oof_preds_{cfg.model_name}.csv\", index=False)\n",
    "oof_preds_df.head()"
   ]
  },
  {
   "cell_type": "code",
   "execution_count": 15,
   "id": "964938e5",
   "metadata": {
    "execution": {
     "iopub.execute_input": "2024-07-13T05:47:26.198781Z",
     "iopub.status.busy": "2024-07-13T05:47:26.198367Z",
     "iopub.status.idle": "2024-07-13T05:47:26.206237Z",
     "shell.execute_reply": "2024-07-13T05:47:26.204881Z"
    },
    "papermill": {
     "duration": 0.025351,
     "end_time": "2024-07-13T05:47:26.209045",
     "exception": false,
     "start_time": "2024-07-13T05:47:26.183694",
     "status": "completed"
    },
    "tags": []
   },
   "outputs": [
    {
     "data": {
      "text/plain": [
       "{'fold_1': 0.9472657943401794,\n",
       " 'fold_2': 0.9290792089916057,\n",
       " 'fold_3': 0.943055746215572,\n",
       " 'fold_4': 0.9526397399258714,\n",
       " 'fold_5': 0.9416036544373184}"
      ]
     },
     "execution_count": 15,
     "metadata": {},
     "output_type": "execute_result"
    }
   ],
   "source": [
    "val_auc_scores"
   ]
  },
  {
   "cell_type": "code",
   "execution_count": 16,
   "id": "fb18507c",
   "metadata": {
    "execution": {
     "iopub.execute_input": "2024-07-13T05:47:26.239748Z",
     "iopub.status.busy": "2024-07-13T05:47:26.239344Z",
     "iopub.status.idle": "2024-07-13T05:47:26.246047Z",
     "shell.execute_reply": "2024-07-13T05:47:26.245071Z"
    },
    "papermill": {
     "duration": 0.024716,
     "end_time": "2024-07-13T05:47:26.248597",
     "exception": false,
     "start_time": "2024-07-13T05:47:26.223881",
     "status": "completed"
    },
    "tags": []
   },
   "outputs": [
    {
     "data": {
      "text/plain": [
       "{'fold_1': 0.16068281768769677,\n",
       " 'fold_2': 0.14869158262474455,\n",
       " 'fold_3': 0.15462196278593798,\n",
       " 'fold_4': 0.1589077572974254,\n",
       " 'fold_5': 0.15718534602889359}"
      ]
     },
     "execution_count": 16,
     "metadata": {},
     "output_type": "execute_result"
    }
   ],
   "source": [
    "val_pauc_scores"
   ]
  },
  {
   "cell_type": "code",
   "execution_count": 17,
   "id": "5c67ea8b",
   "metadata": {
    "execution": {
     "iopub.execute_input": "2024-07-13T05:47:26.277092Z",
     "iopub.status.busy": "2024-07-13T05:47:26.276663Z",
     "iopub.status.idle": "2024-07-13T05:47:26.520279Z",
     "shell.execute_reply": "2024-07-13T05:47:26.519098Z"
    },
    "papermill": {
     "duration": 0.261133,
     "end_time": "2024-07-13T05:47:26.523209",
     "exception": false,
     "start_time": "2024-07-13T05:47:26.262076",
     "status": "completed"
    },
    "tags": []
   },
   "outputs": [],
   "source": [
    "cv_auc_oof = compute_auc(oof_preds_df[target_column], oof_preds_df[f\"oof_{cfg.model_name}\"])\n",
    "cv_pauc_oof = compute_pauc(oof_preds_df[target_column], oof_preds_df[f\"oof_{cfg.model_name}\"], min_tpr=0.8)\n",
    "\n",
    "cv_auc_avg = np.mean(list(val_auc_scores.values()))\n",
    "cv_pauc_avg = np.mean(list(val_pauc_scores.values()))"
   ]
  },
  {
   "cell_type": "code",
   "execution_count": 18,
   "id": "f9874a07",
   "metadata": {
    "execution": {
     "iopub.execute_input": "2024-07-13T05:47:26.552218Z",
     "iopub.status.busy": "2024-07-13T05:47:26.551791Z",
     "iopub.status.idle": "2024-07-13T05:47:26.557897Z",
     "shell.execute_reply": "2024-07-13T05:47:26.556781Z"
    },
    "papermill": {
     "duration": 0.024086,
     "end_time": "2024-07-13T05:47:26.560931",
     "exception": false,
     "start_time": "2024-07-13T05:47:26.536845",
     "status": "completed"
    },
    "tags": []
   },
   "outputs": [
    {
     "name": "stdout",
     "output_type": "stream",
     "text": [
      "CV AUC OOF: 0.8999737320313332\n",
      "CV PAUC OOF: 0.11469245563642894\n",
      "CV AUC AVG: 0.9427288287821094\n",
      "CV PAUC AVG: 0.15601789328493967\n"
     ]
    }
   ],
   "source": [
    "print(f\"CV AUC OOF: {cv_auc_oof}\")\n",
    "print(f\"CV PAUC OOF: {cv_pauc_oof}\")\n",
    "print(f\"CV AUC AVG: {cv_auc_avg}\")\n",
    "print(f\"CV PAUC AVG: {cv_pauc_avg}\")"
   ]
  },
  {
   "cell_type": "code",
   "execution_count": 19,
   "id": "c683e45c",
   "metadata": {
    "execution": {
     "iopub.execute_input": "2024-07-13T05:47:26.589629Z",
     "iopub.status.busy": "2024-07-13T05:47:26.589261Z",
     "iopub.status.idle": "2024-07-13T05:47:26.596675Z",
     "shell.execute_reply": "2024-07-13T05:47:26.595438Z"
    },
    "papermill": {
     "duration": 0.024866,
     "end_time": "2024-07-13T05:47:26.599314",
     "exception": false,
     "start_time": "2024-07-13T05:47:26.574448",
     "status": "completed"
    },
    "tags": []
   },
   "outputs": [],
   "source": [
    "metadata = {\n",
    "    \"params\": params,\n",
    "    \"num_rounds\": num_rounds,\n",
    "    \"es_rounds\": es_rounds,\n",
    "    \"best_num_rounds\": best_num_rounds,\n",
    "    \"val_auc_scores\": val_auc_scores,\n",
    "    \"val_pauc_scores\": val_pauc_scores,\n",
    "    \"cv_auc_oof\": cv_auc_oof,\n",
    "    \"cv_pauc_oof\": cv_pauc_oof,\n",
    "    \"cv_auc_avg\": cv_auc_avg,\n",
    "    \"cv_pauc_avg\": cv_pauc_avg\n",
    "}\n",
    "\n",
    "with open(\"run_metadata.json\", \"w\") as f:\n",
    "    json.dump(metadata, f)"
   ]
  },
  {
   "cell_type": "code",
   "execution_count": null,
   "id": "d77f670a",
   "metadata": {
    "papermill": {
     "duration": 0.013549,
     "end_time": "2024-07-13T05:47:26.626743",
     "exception": false,
     "start_time": "2024-07-13T05:47:26.613194",
     "status": "completed"
    },
    "tags": []
   },
   "outputs": [],
   "source": []
  }
 ],
 "metadata": {
  "kaggle": {
   "accelerator": "none",
   "dataSources": [
    {
     "databundleVersionId": 9094797,
     "sourceId": 63056,
     "sourceType": "competition"
    },
    {
     "sourceId": 187439867,
     "sourceType": "kernelVersion"
    },
    {
     "sourceId": 187477024,
     "sourceType": "kernelVersion"
    }
   ],
   "dockerImageVersionId": 30732,
   "isGpuEnabled": false,
   "isInternetEnabled": false,
   "language": "python",
   "sourceType": "notebook"
  },
  "kernelspec": {
   "display_name": "Python 3",
   "language": "python",
   "name": "python3"
  },
  "language_info": {
   "codemirror_mode": {
    "name": "ipython",
    "version": 3
   },
   "file_extension": ".py",
   "mimetype": "text/x-python",
   "name": "python",
   "nbconvert_exporter": "python",
   "pygments_lexer": "ipython3",
   "version": "3.10.13"
  },
  "papermill": {
   "default_parameters": {},
   "duration": 164.329723,
   "end_time": "2024-07-13T05:47:28.966006",
   "environment_variables": {},
   "exception": null,
   "input_path": "__notebook__.ipynb",
   "output_path": "__notebook__.ipynb",
   "parameters": {},
   "start_time": "2024-07-13T05:44:44.636283",
   "version": "2.5.0"
  }
 },
 "nbformat": 4,
 "nbformat_minor": 5
}
