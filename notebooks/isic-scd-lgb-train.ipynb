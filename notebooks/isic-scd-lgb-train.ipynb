{
 "cells": [
  {
   "cell_type": "code",
   "execution_count": 1,
   "id": "226f9c78",
   "metadata": {
    "_cell_guid": "b1076dfc-b9ad-4769-8c92-a6c4dae69d19",
    "_uuid": "8f2839f25d086af736a60e9eeb907d3b93b6e0e5",
    "execution": {
     "iopub.execute_input": "2024-07-14T10:22:26.466214Z",
     "iopub.status.busy": "2024-07-14T10:22:26.465633Z",
     "iopub.status.idle": "2024-07-14T10:22:35.689914Z",
     "shell.execute_reply": "2024-07-14T10:22:35.688860Z"
    },
    "papermill": {
     "duration": 9.236502,
     "end_time": "2024-07-14T10:22:35.692407",
     "exception": false,
     "start_time": "2024-07-14T10:22:26.455905",
     "status": "completed"
    },
    "tags": []
   },
   "outputs": [],
   "source": [
    "import json\n",
    "import joblib\n",
    "from pathlib import Path\n",
    "\n",
    "import pandas as pd\n",
    "import numpy as np\n",
    "\n",
    "from sklearn.compose import ColumnTransformer\n",
    "from sklearn.preprocessing import OrdinalEncoder\n",
    "\n",
    "import lightgbm as lgb\n",
    "from lightgbm.callback import log_evaluation, early_stopping\n",
    "import catboost as cb\n",
    "\n",
    "from isic_helper import DotDict\n",
    "from isic_helper import get_folds\n",
    "from isic_helper import compute_auc, compute_pauc\n",
    "\n",
    "pd.options.display.max_columns = 1000"
   ]
  },
  {
   "cell_type": "code",
   "execution_count": 2,
   "id": "5dda9fba",
   "metadata": {
    "execution": {
     "iopub.execute_input": "2024-07-14T10:22:35.710650Z",
     "iopub.status.busy": "2024-07-14T10:22:35.710076Z",
     "iopub.status.idle": "2024-07-14T10:22:35.714635Z",
     "shell.execute_reply": "2024-07-14T10:22:35.713793Z"
    },
    "papermill": {
     "duration": 0.015333,
     "end_time": "2024-07-14T10:22:35.716599",
     "exception": false,
     "start_time": "2024-07-14T10:22:35.701266",
     "status": "completed"
    },
    "tags": []
   },
   "outputs": [],
   "source": [
    "cfg = DotDict()\n",
    "cfg.seed = 2022\n",
    "\n",
    "cfg.models_output_dir = \"models\"\n",
    "cfg.cb_model_name = \"cb_v1\"\n",
    "cfg.lgb_model_name = \"lgb_v1\""
   ]
  },
  {
   "cell_type": "code",
   "execution_count": 3,
   "id": "4ceed9ac",
   "metadata": {
    "execution": {
     "iopub.execute_input": "2024-07-14T10:22:35.733530Z",
     "iopub.status.busy": "2024-07-14T10:22:35.733263Z",
     "iopub.status.idle": "2024-07-14T10:22:45.576479Z",
     "shell.execute_reply": "2024-07-14T10:22:45.575603Z"
    },
    "papermill": {
     "duration": 9.854251,
     "end_time": "2024-07-14T10:22:45.578836",
     "exception": false,
     "start_time": "2024-07-14T10:22:35.724585",
     "status": "completed"
    },
    "tags": []
   },
   "outputs": [
    {
     "name": "stdout",
     "output_type": "stream",
     "text": [
      "Train data size: (401059, 57)\n",
      "Test data size: (401059, 57)\n"
     ]
    }
   ],
   "source": [
    "INPUT_PATH = Path(\"../input/isic-2024-challenge/\")\n",
    "MODELS_OUTPUT_PATH = Path(f\"{cfg.models_output_dir}\")\n",
    "MODELS_OUTPUT_PATH.mkdir(exist_ok=True)\n",
    "\n",
    "train_metadata = pd.read_csv(INPUT_PATH / \"train-metadata.csv\", low_memory=False)\n",
    "test_metadata = pd.read_csv(INPUT_PATH / \"test-metadata.csv\")\n",
    "\n",
    "folds_df = get_folds()\n",
    "train_metadata = train_metadata.merge(folds_df, on=[\"isic_id\", \"patient_id\"], how=\"inner\")\n",
    "print(f\"Train data size: {train_metadata.shape}\")\n",
    "print(f\"Test data size: {train_metadata.shape}\")"
   ]
  },
  {
   "cell_type": "code",
   "execution_count": 4,
   "id": "dee663a6",
   "metadata": {
    "execution": {
     "iopub.execute_input": "2024-07-14T10:22:45.596822Z",
     "iopub.status.busy": "2024-07-14T10:22:45.596525Z",
     "iopub.status.idle": "2024-07-14T10:22:45.614931Z",
     "shell.execute_reply": "2024-07-14T10:22:45.614096Z"
    },
    "papermill": {
     "duration": 0.029942,
     "end_time": "2024-07-14T10:22:45.617202",
     "exception": false,
     "start_time": "2024-07-14T10:22:45.587260",
     "status": "completed"
    },
    "tags": []
   },
   "outputs": [
    {
     "data": {
      "text/plain": [
       "target\n",
       "0    0.99902\n",
       "1    0.00098\n",
       "Name: proportion, dtype: float64"
      ]
     },
     "execution_count": 4,
     "metadata": {},
     "output_type": "execute_result"
    }
   ],
   "source": [
    "train_metadata[\"target\"].value_counts(normalize=True)"
   ]
  },
  {
   "cell_type": "code",
   "execution_count": 5,
   "id": "054d4559",
   "metadata": {
    "execution": {
     "iopub.execute_input": "2024-07-14T10:22:45.635882Z",
     "iopub.status.busy": "2024-07-14T10:22:45.635584Z",
     "iopub.status.idle": "2024-07-14T10:22:46.146965Z",
     "shell.execute_reply": "2024-07-14T10:22:46.146167Z"
    },
    "papermill": {
     "duration": 0.522931,
     "end_time": "2024-07-14T10:22:46.149382",
     "exception": false,
     "start_time": "2024-07-14T10:22:45.626451",
     "status": "completed"
    },
    "tags": []
   },
   "outputs": [],
   "source": [
    "def feature_engineering(df):\n",
    "    df[\"lesion_size_ratio\"]              = df[\"tbp_lv_minorAxisMM\"] / df[\"clin_size_long_diam_mm\"]\n",
    "    df[\"hue_contrast\"]                   = (df[\"tbp_lv_H\"] - df[\"tbp_lv_Hext\"]).abs()\n",
    "    df[\"normalized_lesion_size\"]         = df[\"clin_size_long_diam_mm\"] / df[\"age_approx\"]\n",
    "    df[\"overall_color_difference\"]       = (df[\"tbp_lv_deltaA\"] + df[\"tbp_lv_deltaB\"] + df[\"tbp_lv_deltaL\"]) / 3\n",
    "    \n",
    "    patient_num_images = df.groupby(\"patient_id\", as_index=False)[\"isic_id\"].count().rename(columns={\"isic_id\": \"num_images\"})\n",
    "    df = df.merge(patient_num_images, on=\"patient_id\", how=\"left\")\n",
    "\n",
    "    new_num_cols = [\n",
    "        \"num_images\",\n",
    "        \"lesion_size_ratio\",\n",
    "        \"normalized_lesion_size\", \n",
    "        \"overall_color_difference\"\n",
    "    ]\n",
    "    \n",
    "    new_cat_cols = []\n",
    "    \n",
    "    return df, new_num_cols, new_cat_cols\n",
    "\n",
    "train_metadata, new_num_cols, new_cat_cols = feature_engineering(train_metadata.copy())"
   ]
  },
  {
   "cell_type": "code",
   "execution_count": 6,
   "id": "adf26ee6",
   "metadata": {
    "execution": {
     "iopub.execute_input": "2024-07-14T10:22:46.168087Z",
     "iopub.status.busy": "2024-07-14T10:22:46.167798Z",
     "iopub.status.idle": "2024-07-14T10:22:46.174464Z",
     "shell.execute_reply": "2024-07-14T10:22:46.173591Z"
    },
    "papermill": {
     "duration": 0.018182,
     "end_time": "2024-07-14T10:22:46.176504",
     "exception": false,
     "start_time": "2024-07-14T10:22:46.158322",
     "status": "completed"
    },
    "tags": []
   },
   "outputs": [],
   "source": [
    "id_column = \"isic_id\"\n",
    "target_column = \"final_target\"\n",
    "group_column = \"patient_id\"\n",
    "drop_features = [\"image_type\"] + train_metadata.columns[~np.in1d(train_metadata.columns, test_metadata.columns)].tolist() # target column removed\n",
    "categorical_features = [\"sex\", \"anatom_site_general\", \n",
    "                        \"tbp_tile_type\", \"tbp_lv_location\", \"tbp_lv_location_simple\",\n",
    "                        \"attribution\", \"copyright_license\"\n",
    "                       ] + new_cat_cols\n",
    "numerical_features = train_metadata.columns[~np.in1d(train_metadata.columns, \n",
    "                                                     [id_column] + [group_column] + categorical_features + drop_features)]"
   ]
  },
  {
   "cell_type": "code",
   "execution_count": 7,
   "id": "6e3e39d2",
   "metadata": {
    "execution": {
     "iopub.execute_input": "2024-07-14T10:22:46.195207Z",
     "iopub.status.busy": "2024-07-14T10:22:46.194907Z",
     "iopub.status.idle": "2024-07-14T10:22:46.212883Z",
     "shell.execute_reply": "2024-07-14T10:22:46.212092Z"
    },
    "papermill": {
     "duration": 0.028803,
     "end_time": "2024-07-14T10:22:46.214780",
     "exception": false,
     "start_time": "2024-07-14T10:22:46.185977",
     "status": "completed"
    },
    "tags": []
   },
   "outputs": [
    {
     "data": {
      "text/html": [
       "<style>#sk-container-id-1 {color: black;background-color: white;}#sk-container-id-1 pre{padding: 0;}#sk-container-id-1 div.sk-toggleable {background-color: white;}#sk-container-id-1 label.sk-toggleable__label {cursor: pointer;display: block;width: 100%;margin-bottom: 0;padding: 0.3em;box-sizing: border-box;text-align: center;}#sk-container-id-1 label.sk-toggleable__label-arrow:before {content: \"▸\";float: left;margin-right: 0.25em;color: #696969;}#sk-container-id-1 label.sk-toggleable__label-arrow:hover:before {color: black;}#sk-container-id-1 div.sk-estimator:hover label.sk-toggleable__label-arrow:before {color: black;}#sk-container-id-1 div.sk-toggleable__content {max-height: 0;max-width: 0;overflow: hidden;text-align: left;background-color: #f0f8ff;}#sk-container-id-1 div.sk-toggleable__content pre {margin: 0.2em;color: black;border-radius: 0.25em;background-color: #f0f8ff;}#sk-container-id-1 input.sk-toggleable__control:checked~div.sk-toggleable__content {max-height: 200px;max-width: 100%;overflow: auto;}#sk-container-id-1 input.sk-toggleable__control:checked~label.sk-toggleable__label-arrow:before {content: \"▾\";}#sk-container-id-1 div.sk-estimator input.sk-toggleable__control:checked~label.sk-toggleable__label {background-color: #d4ebff;}#sk-container-id-1 div.sk-label input.sk-toggleable__control:checked~label.sk-toggleable__label {background-color: #d4ebff;}#sk-container-id-1 input.sk-hidden--visually {border: 0;clip: rect(1px 1px 1px 1px);clip: rect(1px, 1px, 1px, 1px);height: 1px;margin: -1px;overflow: hidden;padding: 0;position: absolute;width: 1px;}#sk-container-id-1 div.sk-estimator {font-family: monospace;background-color: #f0f8ff;border: 1px dotted black;border-radius: 0.25em;box-sizing: border-box;margin-bottom: 0.5em;}#sk-container-id-1 div.sk-estimator:hover {background-color: #d4ebff;}#sk-container-id-1 div.sk-parallel-item::after {content: \"\";width: 100%;border-bottom: 1px solid gray;flex-grow: 1;}#sk-container-id-1 div.sk-label:hover label.sk-toggleable__label {background-color: #d4ebff;}#sk-container-id-1 div.sk-serial::before {content: \"\";position: absolute;border-left: 1px solid gray;box-sizing: border-box;top: 0;bottom: 0;left: 50%;z-index: 0;}#sk-container-id-1 div.sk-serial {display: flex;flex-direction: column;align-items: center;background-color: white;padding-right: 0.2em;padding-left: 0.2em;position: relative;}#sk-container-id-1 div.sk-item {position: relative;z-index: 1;}#sk-container-id-1 div.sk-parallel {display: flex;align-items: stretch;justify-content: center;background-color: white;position: relative;}#sk-container-id-1 div.sk-item::before, #sk-container-id-1 div.sk-parallel-item::before {content: \"\";position: absolute;border-left: 1px solid gray;box-sizing: border-box;top: 0;bottom: 0;left: 50%;z-index: -1;}#sk-container-id-1 div.sk-parallel-item {display: flex;flex-direction: column;z-index: 1;position: relative;background-color: white;}#sk-container-id-1 div.sk-parallel-item:first-child::after {align-self: flex-end;width: 50%;}#sk-container-id-1 div.sk-parallel-item:last-child::after {align-self: flex-start;width: 50%;}#sk-container-id-1 div.sk-parallel-item:only-child::after {width: 0;}#sk-container-id-1 div.sk-dashed-wrapped {border: 1px dashed gray;margin: 0 0.4em 0.5em 0.4em;box-sizing: border-box;padding-bottom: 0.4em;background-color: white;}#sk-container-id-1 div.sk-label label {font-family: monospace;font-weight: bold;display: inline-block;line-height: 1.2em;}#sk-container-id-1 div.sk-label-container {text-align: center;}#sk-container-id-1 div.sk-container {/* jupyter's `normalize.less` sets `[hidden] { display: none; }` but bootstrap.min.css set `[hidden] { display: none !important; }` so we also need the `!important` here to be able to override the default hidden behavior on the sphinx rendered scikit-learn.org. See: https://github.com/scikit-learn/scikit-learn/issues/21755 */display: inline-block !important;position: relative;}#sk-container-id-1 div.sk-text-repr-fallback {display: none;}</style><div id=\"sk-container-id-1\" class=\"sk-top-container\"><div class=\"sk-text-repr-fallback\"><pre>ColumnTransformer(transformers=[(&#x27;numerical&#x27;, &#x27;passthrough&#x27;,\n",
       "                                 Index([&#x27;age_approx&#x27;, &#x27;clin_size_long_diam_mm&#x27;, &#x27;tbp_lv_A&#x27;, &#x27;tbp_lv_Aext&#x27;,\n",
       "       &#x27;tbp_lv_B&#x27;, &#x27;tbp_lv_Bext&#x27;, &#x27;tbp_lv_C&#x27;, &#x27;tbp_lv_Cext&#x27;, &#x27;tbp_lv_H&#x27;,\n",
       "       &#x27;tbp_lv_Hext&#x27;, &#x27;tbp_lv_L&#x27;, &#x27;tbp_lv_Lext&#x27;, &#x27;tbp_lv_areaMM2&#x27;,\n",
       "       &#x27;tbp_lv_area_perim_ratio&#x27;, &#x27;tbp_lv_color_std_mean&#x27;, &#x27;tbp_lv_deltaA&#x27;,\n",
       "       &#x27;tbp_lv_deltaB&#x27;, &#x27;tbp_lv_deltaL&#x27;, &#x27;tbp_l...\n",
       "       &#x27;tbp_lv_stdLExt&#x27;, &#x27;tbp_lv_symm_2axis&#x27;, &#x27;tbp_lv_symm_2axis_angle&#x27;,\n",
       "       &#x27;tbp_lv_x&#x27;, &#x27;tbp_lv_y&#x27;, &#x27;tbp_lv_z&#x27;],\n",
       "      dtype=&#x27;object&#x27;)),\n",
       "                                (&#x27;categorical&#x27;,\n",
       "                                 OrdinalEncoder(dtype=&lt;class &#x27;int&#x27;&gt;,\n",
       "                                                encoded_missing_value=-1,\n",
       "                                                handle_unknown=&#x27;use_encoded_value&#x27;,\n",
       "                                                unknown_value=-2),\n",
       "                                 [&#x27;sex&#x27;, &#x27;anatom_site_general&#x27;, &#x27;tbp_tile_type&#x27;,\n",
       "                                  &#x27;tbp_lv_location&#x27;, &#x27;tbp_lv_location_simple&#x27;,\n",
       "                                  &#x27;attribution&#x27;, &#x27;copyright_license&#x27;])],\n",
       "                  verbose_feature_names_out=False)</pre><b>In a Jupyter environment, please rerun this cell to show the HTML representation or trust the notebook. <br />On GitHub, the HTML representation is unable to render, please try loading this page with nbviewer.org.</b></div><div class=\"sk-container\" hidden><div class=\"sk-item sk-dashed-wrapped\"><div class=\"sk-label-container\"><div class=\"sk-label sk-toggleable\"><input class=\"sk-toggleable__control sk-hidden--visually\" id=\"sk-estimator-id-1\" type=\"checkbox\" ><label for=\"sk-estimator-id-1\" class=\"sk-toggleable__label sk-toggleable__label-arrow\">ColumnTransformer</label><div class=\"sk-toggleable__content\"><pre>ColumnTransformer(transformers=[(&#x27;numerical&#x27;, &#x27;passthrough&#x27;,\n",
       "                                 Index([&#x27;age_approx&#x27;, &#x27;clin_size_long_diam_mm&#x27;, &#x27;tbp_lv_A&#x27;, &#x27;tbp_lv_Aext&#x27;,\n",
       "       &#x27;tbp_lv_B&#x27;, &#x27;tbp_lv_Bext&#x27;, &#x27;tbp_lv_C&#x27;, &#x27;tbp_lv_Cext&#x27;, &#x27;tbp_lv_H&#x27;,\n",
       "       &#x27;tbp_lv_Hext&#x27;, &#x27;tbp_lv_L&#x27;, &#x27;tbp_lv_Lext&#x27;, &#x27;tbp_lv_areaMM2&#x27;,\n",
       "       &#x27;tbp_lv_area_perim_ratio&#x27;, &#x27;tbp_lv_color_std_mean&#x27;, &#x27;tbp_lv_deltaA&#x27;,\n",
       "       &#x27;tbp_lv_deltaB&#x27;, &#x27;tbp_lv_deltaL&#x27;, &#x27;tbp_l...\n",
       "       &#x27;tbp_lv_stdLExt&#x27;, &#x27;tbp_lv_symm_2axis&#x27;, &#x27;tbp_lv_symm_2axis_angle&#x27;,\n",
       "       &#x27;tbp_lv_x&#x27;, &#x27;tbp_lv_y&#x27;, &#x27;tbp_lv_z&#x27;],\n",
       "      dtype=&#x27;object&#x27;)),\n",
       "                                (&#x27;categorical&#x27;,\n",
       "                                 OrdinalEncoder(dtype=&lt;class &#x27;int&#x27;&gt;,\n",
       "                                                encoded_missing_value=-1,\n",
       "                                                handle_unknown=&#x27;use_encoded_value&#x27;,\n",
       "                                                unknown_value=-2),\n",
       "                                 [&#x27;sex&#x27;, &#x27;anatom_site_general&#x27;, &#x27;tbp_tile_type&#x27;,\n",
       "                                  &#x27;tbp_lv_location&#x27;, &#x27;tbp_lv_location_simple&#x27;,\n",
       "                                  &#x27;attribution&#x27;, &#x27;copyright_license&#x27;])],\n",
       "                  verbose_feature_names_out=False)</pre></div></div></div><div class=\"sk-parallel\"><div class=\"sk-parallel-item\"><div class=\"sk-item\"><div class=\"sk-label-container\"><div class=\"sk-label sk-toggleable\"><input class=\"sk-toggleable__control sk-hidden--visually\" id=\"sk-estimator-id-2\" type=\"checkbox\" ><label for=\"sk-estimator-id-2\" class=\"sk-toggleable__label sk-toggleable__label-arrow\">numerical</label><div class=\"sk-toggleable__content\"><pre>Index([&#x27;age_approx&#x27;, &#x27;clin_size_long_diam_mm&#x27;, &#x27;tbp_lv_A&#x27;, &#x27;tbp_lv_Aext&#x27;,\n",
       "       &#x27;tbp_lv_B&#x27;, &#x27;tbp_lv_Bext&#x27;, &#x27;tbp_lv_C&#x27;, &#x27;tbp_lv_Cext&#x27;, &#x27;tbp_lv_H&#x27;,\n",
       "       &#x27;tbp_lv_Hext&#x27;, &#x27;tbp_lv_L&#x27;, &#x27;tbp_lv_Lext&#x27;, &#x27;tbp_lv_areaMM2&#x27;,\n",
       "       &#x27;tbp_lv_area_perim_ratio&#x27;, &#x27;tbp_lv_color_std_mean&#x27;, &#x27;tbp_lv_deltaA&#x27;,\n",
       "       &#x27;tbp_lv_deltaB&#x27;, &#x27;tbp_lv_deltaL&#x27;, &#x27;tbp_lv_deltaLB&#x27;,\n",
       "       &#x27;tbp_lv_deltaLBnorm&#x27;, &#x27;tbp_lv_eccentricity&#x27;, &#x27;tbp_lv_minorAxisMM&#x27;,\n",
       "       &#x27;tbp_lv_nevi_confidence&#x27;, &#x27;tbp_lv_norm_border&#x27;, &#x27;tbp_lv_norm_color&#x27;,\n",
       "       &#x27;tbp_lv_perimeterMM&#x27;, &#x27;tbp_lv_radial_color_std_max&#x27;, &#x27;tbp_lv_stdL&#x27;,\n",
       "       &#x27;tbp_lv_stdLExt&#x27;, &#x27;tbp_lv_symm_2axis&#x27;, &#x27;tbp_lv_symm_2axis_angle&#x27;,\n",
       "       &#x27;tbp_lv_x&#x27;, &#x27;tbp_lv_y&#x27;, &#x27;tbp_lv_z&#x27;],\n",
       "      dtype=&#x27;object&#x27;)</pre></div></div></div><div class=\"sk-serial\"><div class=\"sk-item\"><div class=\"sk-estimator sk-toggleable\"><input class=\"sk-toggleable__control sk-hidden--visually\" id=\"sk-estimator-id-3\" type=\"checkbox\" ><label for=\"sk-estimator-id-3\" class=\"sk-toggleable__label sk-toggleable__label-arrow\">passthrough</label><div class=\"sk-toggleable__content\"><pre>passthrough</pre></div></div></div></div></div></div><div class=\"sk-parallel-item\"><div class=\"sk-item\"><div class=\"sk-label-container\"><div class=\"sk-label sk-toggleable\"><input class=\"sk-toggleable__control sk-hidden--visually\" id=\"sk-estimator-id-4\" type=\"checkbox\" ><label for=\"sk-estimator-id-4\" class=\"sk-toggleable__label sk-toggleable__label-arrow\">categorical</label><div class=\"sk-toggleable__content\"><pre>[&#x27;sex&#x27;, &#x27;anatom_site_general&#x27;, &#x27;tbp_tile_type&#x27;, &#x27;tbp_lv_location&#x27;, &#x27;tbp_lv_location_simple&#x27;, &#x27;attribution&#x27;, &#x27;copyright_license&#x27;]</pre></div></div></div><div class=\"sk-serial\"><div class=\"sk-item\"><div class=\"sk-estimator sk-toggleable\"><input class=\"sk-toggleable__control sk-hidden--visually\" id=\"sk-estimator-id-5\" type=\"checkbox\" ><label for=\"sk-estimator-id-5\" class=\"sk-toggleable__label sk-toggleable__label-arrow\">OrdinalEncoder</label><div class=\"sk-toggleable__content\"><pre>OrdinalEncoder(dtype=&lt;class &#x27;int&#x27;&gt;, encoded_missing_value=-1,\n",
       "               handle_unknown=&#x27;use_encoded_value&#x27;, unknown_value=-2)</pre></div></div></div></div></div></div></div></div></div></div>"
      ],
      "text/plain": [
       "ColumnTransformer(transformers=[('numerical', 'passthrough',\n",
       "                                 Index(['age_approx', 'clin_size_long_diam_mm', 'tbp_lv_A', 'tbp_lv_Aext',\n",
       "       'tbp_lv_B', 'tbp_lv_Bext', 'tbp_lv_C', 'tbp_lv_Cext', 'tbp_lv_H',\n",
       "       'tbp_lv_Hext', 'tbp_lv_L', 'tbp_lv_Lext', 'tbp_lv_areaMM2',\n",
       "       'tbp_lv_area_perim_ratio', 'tbp_lv_color_std_mean', 'tbp_lv_deltaA',\n",
       "       'tbp_lv_deltaB', 'tbp_lv_deltaL', 'tbp_l...\n",
       "       'tbp_lv_stdLExt', 'tbp_lv_symm_2axis', 'tbp_lv_symm_2axis_angle',\n",
       "       'tbp_lv_x', 'tbp_lv_y', 'tbp_lv_z'],\n",
       "      dtype='object')),\n",
       "                                ('categorical',\n",
       "                                 OrdinalEncoder(dtype=<class 'int'>,\n",
       "                                                encoded_missing_value=-1,\n",
       "                                                handle_unknown='use_encoded_value',\n",
       "                                                unknown_value=-2),\n",
       "                                 ['sex', 'anatom_site_general', 'tbp_tile_type',\n",
       "                                  'tbp_lv_location', 'tbp_lv_location_simple',\n",
       "                                  'attribution', 'copyright_license'])],\n",
       "                  verbose_feature_names_out=False)"
      ]
     },
     "execution_count": 7,
     "metadata": {},
     "output_type": "execute_result"
    }
   ],
   "source": [
    "mixed_encoded_preprocessor = ColumnTransformer(\n",
    "    [\n",
    "        (\"numerical\", \"passthrough\", numerical_features),\n",
    "        (\n",
    "            \"categorical\",\n",
    "            OrdinalEncoder(handle_unknown=\"use_encoded_value\", unknown_value=-2, encoded_missing_value=-1, dtype=int),\n",
    "            categorical_features,\n",
    "        ),\n",
    "    ],\n",
    "    verbose_feature_names_out=False,\n",
    "\n",
    ")\n",
    "mixed_encoded_preprocessor.set_output(transform=\"pandas\")"
   ]
  },
  {
   "cell_type": "code",
   "execution_count": 8,
   "id": "62fab424",
   "metadata": {
    "execution": {
     "iopub.execute_input": "2024-07-14T10:22:46.232855Z",
     "iopub.status.busy": "2024-07-14T10:22:46.232610Z",
     "iopub.status.idle": "2024-07-14T10:22:46.237885Z",
     "shell.execute_reply": "2024-07-14T10:22:46.237181Z"
    },
    "papermill": {
     "duration": 0.016377,
     "end_time": "2024-07-14T10:22:46.239768",
     "exception": false,
     "start_time": "2024-07-14T10:22:46.223391",
     "status": "completed"
    },
    "tags": []
   },
   "outputs": [],
   "source": [
    "with open(\"encoder.joblib\", \"wb\") as f:\n",
    "    joblib.dump(mixed_encoded_preprocessor, f)"
   ]
  },
  {
   "cell_type": "code",
   "execution_count": 9,
   "id": "e392cd41",
   "metadata": {
    "execution": {
     "iopub.execute_input": "2024-07-14T10:22:46.257634Z",
     "iopub.status.busy": "2024-07-14T10:22:46.257395Z",
     "iopub.status.idle": "2024-07-14T10:22:47.896850Z",
     "shell.execute_reply": "2024-07-14T10:22:47.895755Z"
    },
    "papermill": {
     "duration": 1.651287,
     "end_time": "2024-07-14T10:22:47.899535",
     "exception": false,
     "start_time": "2024-07-14T10:22:46.248248",
     "status": "completed"
    },
    "tags": []
   },
   "outputs": [],
   "source": [
    "train_ids = train_metadata[id_column]\n",
    "groups = train_metadata[group_column]\n",
    "folds = train_metadata[\"fold\"]\n",
    "\n",
    "enc = mixed_encoded_preprocessor.fit(train_metadata)\n",
    "X_train = enc.transform(train_metadata)\n",
    "y_train = train_metadata[target_column]"
   ]
  },
  {
   "cell_type": "code",
   "execution_count": 10,
   "id": "7131fbab",
   "metadata": {
    "execution": {
     "iopub.execute_input": "2024-07-14T10:22:47.919094Z",
     "iopub.status.busy": "2024-07-14T10:22:47.918306Z",
     "iopub.status.idle": "2024-07-14T10:22:47.923235Z",
     "shell.execute_reply": "2024-07-14T10:22:47.922326Z"
    },
    "papermill": {
     "duration": 0.016928,
     "end_time": "2024-07-14T10:22:47.925464",
     "exception": false,
     "start_time": "2024-07-14T10:22:47.908536",
     "status": "completed"
    },
    "tags": []
   },
   "outputs": [
    {
     "name": "stdout",
     "output_type": "stream",
     "text": [
      "Total number of columns: 41\n"
     ]
    }
   ],
   "source": [
    "columns_for_model = len(X_train.columns)\n",
    "print(f\"Total number of columns: {columns_for_model}\")"
   ]
  },
  {
   "cell_type": "code",
   "execution_count": 11,
   "id": "846cdb16",
   "metadata": {
    "execution": {
     "iopub.execute_input": "2024-07-14T10:22:47.943796Z",
     "iopub.status.busy": "2024-07-14T10:22:47.943521Z",
     "iopub.status.idle": "2024-07-14T10:22:47.948033Z",
     "shell.execute_reply": "2024-07-14T10:22:47.947167Z"
    },
    "papermill": {
     "duration": 0.016057,
     "end_time": "2024-07-14T10:22:47.950096",
     "exception": false,
     "start_time": "2024-07-14T10:22:47.934039",
     "status": "completed"
    },
    "tags": []
   },
   "outputs": [],
   "source": [
    "def pauc_80(preds, data):\n",
    "    score_value = compute_pauc(data.get_label(), preds, min_tpr=0.8)   \n",
    "    return 'pauc_80', score_value, True"
   ]
  },
  {
   "cell_type": "code",
   "execution_count": 12,
   "id": "92f7bdb8",
   "metadata": {
    "execution": {
     "iopub.execute_input": "2024-07-14T10:22:47.968568Z",
     "iopub.status.busy": "2024-07-14T10:22:47.968290Z",
     "iopub.status.idle": "2024-07-14T10:22:47.973798Z",
     "shell.execute_reply": "2024-07-14T10:22:47.973057Z"
    },
    "papermill": {
     "duration": 0.016935,
     "end_time": "2024-07-14T10:22:47.975614",
     "exception": false,
     "start_time": "2024-07-14T10:22:47.958679",
     "status": "completed"
    },
    "tags": []
   },
   "outputs": [],
   "source": [
    "class PAUC:\n",
    "    def get_final_error(self, error, weight):\n",
    "        return error\n",
    "\n",
    "    def is_max_optimal(self):\n",
    "        return True\n",
    "\n",
    "    def evaluate(self, approxes, target, weight):\n",
    "        y_true = target.astype(int)\n",
    "        y_pred = approxes[0].astype(float)\n",
    "        \n",
    "        score = compute_pauc(y_true, y_pred)\n",
    "        \n",
    "        return score, 1.0"
   ]
  },
  {
   "cell_type": "code",
   "execution_count": 13,
   "id": "ec631814",
   "metadata": {
    "execution": {
     "iopub.execute_input": "2024-07-14T10:22:47.993799Z",
     "iopub.status.busy": "2024-07-14T10:22:47.993525Z",
     "iopub.status.idle": "2024-07-14T10:22:47.998286Z",
     "shell.execute_reply": "2024-07-14T10:22:47.997429Z"
    },
    "papermill": {
     "duration": 0.015754,
     "end_time": "2024-07-14T10:22:48.000053",
     "exception": false,
     "start_time": "2024-07-14T10:22:47.984299",
     "status": "completed"
    },
    "tags": []
   },
   "outputs": [],
   "source": [
    "cb_params = {\n",
    "    'objective': 'Logloss',\n",
    "    \"random_state\": cfg.seed,\n",
    "#     \"colsample_bylevel\": 0.3, # 0.01, 0.1\n",
    "    \"iterations\": 2500,\n",
    "    \"learning_rate\": 0.05,\n",
    "    \"cat_features\": categorical_features,\n",
    "    \"max_depth\": 8,\n",
    "    \"l2_leaf_reg\": 5,\n",
    "    \"verbose\": 50,\n",
    "    \"early_stopping_rounds\": 100,\n",
    "    \"eval_metric\": \"AUC\",\n",
    "    \"task_type\": \"GPU\",\n",
    "    \"devices\": \"0\"\n",
    "}"
   ]
  },
  {
   "cell_type": "code",
   "execution_count": 14,
   "id": "1b0bd3a1",
   "metadata": {
    "execution": {
     "iopub.execute_input": "2024-07-14T10:22:48.018281Z",
     "iopub.status.busy": "2024-07-14T10:22:48.018003Z",
     "iopub.status.idle": "2024-07-14T10:26:08.270927Z",
     "shell.execute_reply": "2024-07-14T10:26:08.269898Z"
    },
    "papermill": {
     "duration": 200.264675,
     "end_time": "2024-07-14T10:26:08.273376",
     "exception": false,
     "start_time": "2024-07-14T10:22:48.008701",
     "status": "completed"
    },
    "tags": []
   },
   "outputs": [
    {
     "name": "stdout",
     "output_type": "stream",
     "text": [
      "Running fold: 1\n"
     ]
    },
    {
     "name": "stderr",
     "output_type": "stream",
     "text": [
      "Default metric period is 5 because AUC is/are not implemented for GPU\n"
     ]
    },
    {
     "name": "stdout",
     "output_type": "stream",
     "text": [
      "0:\ttest: 0.7910135\tbest: 0.7910135 (0)\ttotal: 12.6s\tremaining: 8h 45m 4s\n",
      "50:\ttest: 0.9112246\tbest: 0.9112246 (50)\ttotal: 15s\tremaining: 12m 1s\n",
      "100:\ttest: 0.9317476\tbest: 0.9318910 (98)\ttotal: 17.8s\tremaining: 7m 2s\n",
      "150:\ttest: 0.9393459\tbest: 0.9396319 (147)\ttotal: 20.6s\tremaining: 5m 20s\n",
      "200:\ttest: 0.9425077\tbest: 0.9429066 (189)\ttotal: 23.3s\tremaining: 4m 27s\n",
      "250:\ttest: 0.9454024\tbest: 0.9454167 (249)\ttotal: 26.1s\tremaining: 3m 54s\n",
      "300:\ttest: 0.9479286\tbest: 0.9479707 (299)\ttotal: 28.9s\tremaining: 3m 31s\n",
      "350:\ttest: 0.9488702\tbest: 0.9489912 (319)\ttotal: 31.7s\tremaining: 3m 13s\n",
      "400:\ttest: 0.9488592\tbest: 0.9491112 (368)\ttotal: 34.5s\tremaining: 3m\n",
      "450:\ttest: 0.9484326\tbest: 0.9494343 (414)\ttotal: 37.3s\tremaining: 2m 49s\n",
      "500:\ttest: 0.9482795\tbest: 0.9494343 (414)\ttotal: 40.1s\tremaining: 2m 39s\n",
      "bestTest = 0.94943434\n",
      "bestIteration = 414\n",
      "Shrink model to first 415 iterations.\n",
      "\n",
      "\n",
      "Running fold: 2\n"
     ]
    },
    {
     "name": "stderr",
     "output_type": "stream",
     "text": [
      "Default metric period is 5 because AUC is/are not implemented for GPU\n"
     ]
    },
    {
     "name": "stdout",
     "output_type": "stream",
     "text": [
      "0:\ttest: 0.7750924\tbest: 0.7750924 (0)\ttotal: 55.6ms\tremaining: 2m 18s\n",
      "50:\ttest: 0.9206608\tbest: 0.9211227 (49)\ttotal: 2.71s\tremaining: 2m 10s\n",
      "100:\ttest: 0.9308538\tbest: 0.9309177 (94)\ttotal: 5.45s\tremaining: 2m 9s\n",
      "150:\ttest: 0.9368564\tbest: 0.9368564 (150)\ttotal: 8.21s\tremaining: 2m 7s\n",
      "200:\ttest: 0.9406352\tbest: 0.9406352 (200)\ttotal: 11s\tremaining: 2m 5s\n",
      "250:\ttest: 0.9408953\tbest: 0.9410430 (213)\ttotal: 13.7s\tremaining: 2m 2s\n",
      "300:\ttest: 0.9441121\tbest: 0.9441121 (298)\ttotal: 16.5s\tremaining: 2m\n",
      "350:\ttest: 0.9460928\tbest: 0.9462559 (343)\ttotal: 19.3s\tremaining: 1m 57s\n",
      "400:\ttest: 0.9479153\tbest: 0.9479153 (400)\ttotal: 22s\tremaining: 1m 55s\n",
      "450:\ttest: 0.9479091\tbest: 0.9483044 (409)\ttotal: 24.8s\tremaining: 1m 52s\n",
      "500:\ttest: 0.9492125\tbest: 0.9493437 (499)\ttotal: 27.5s\tremaining: 1m 49s\n",
      "550:\ttest: 0.9489245\tbest: 0.9494674 (539)\ttotal: 30.3s\tremaining: 1m 47s\n",
      "600:\ttest: 0.9490053\tbest: 0.9494674 (539)\ttotal: 33s\tremaining: 1m 44s\n",
      "650:\ttest: 0.9500226\tbest: 0.9503380 (649)\ttotal: 35.7s\tremaining: 1m 41s\n",
      "700:\ttest: 0.9496613\tbest: 0.9503380 (649)\ttotal: 38.5s\tremaining: 1m 38s\n",
      "bestTest = 0.950338006\n",
      "bestIteration = 649\n",
      "Shrink model to first 650 iterations.\n",
      "\n",
      "\n",
      "Running fold: 3\n"
     ]
    },
    {
     "name": "stderr",
     "output_type": "stream",
     "text": [
      "Default metric period is 5 because AUC is/are not implemented for GPU\n"
     ]
    },
    {
     "name": "stdout",
     "output_type": "stream",
     "text": [
      "0:\ttest: 0.8307567\tbest: 0.8307567 (0)\ttotal: 56.4ms\tremaining: 2m 20s\n",
      "50:\ttest: 0.9300241\tbest: 0.9300241 (50)\ttotal: 2.51s\tremaining: 2m\n",
      "100:\ttest: 0.9407637\tbest: 0.9407637 (100)\ttotal: 5.28s\tremaining: 2m 5s\n",
      "150:\ttest: 0.9464350\tbest: 0.9471806 (147)\ttotal: 8.05s\tremaining: 2m 5s\n",
      "200:\ttest: 0.9505292\tbest: 0.9508083 (191)\ttotal: 10.8s\tremaining: 2m 3s\n",
      "250:\ttest: 0.9520975\tbest: 0.9521679 (240)\ttotal: 13.6s\tremaining: 2m 1s\n",
      "300:\ttest: 0.9537444\tbest: 0.9539196 (292)\ttotal: 16.4s\tremaining: 1m 59s\n",
      "350:\ttest: 0.9545068\tbest: 0.9545068 (350)\ttotal: 19.2s\tremaining: 1m 57s\n",
      "400:\ttest: 0.9551710\tbest: 0.9551710 (400)\ttotal: 21.9s\tremaining: 1m 54s\n",
      "450:\ttest: 0.9548962\tbest: 0.9552124 (408)\ttotal: 24.7s\tremaining: 1m 52s\n",
      "500:\ttest: 0.9549462\tbest: 0.9552124 (408)\ttotal: 27.5s\tremaining: 1m 49s\n",
      "bestTest = 0.9552124143\n",
      "bestIteration = 408\n",
      "Shrink model to first 409 iterations.\n",
      "\n",
      "\n",
      "Running fold: 4\n"
     ]
    },
    {
     "name": "stderr",
     "output_type": "stream",
     "text": [
      "Default metric period is 5 because AUC is/are not implemented for GPU\n"
     ]
    },
    {
     "name": "stdout",
     "output_type": "stream",
     "text": [
      "0:\ttest: 0.7926639\tbest: 0.7926639 (0)\ttotal: 54.7ms\tremaining: 2m 16s\n",
      "50:\ttest: 0.9361942\tbest: 0.9361942 (50)\ttotal: 2.63s\tremaining: 2m 6s\n",
      "100:\ttest: 0.9470345\tbest: 0.9473748 (94)\ttotal: 5.38s\tremaining: 2m 7s\n",
      "150:\ttest: 0.9514520\tbest: 0.9517281 (145)\ttotal: 8.14s\tremaining: 2m 6s\n",
      "200:\ttest: 0.9554927\tbest: 0.9554927 (200)\ttotal: 10.9s\tremaining: 2m 4s\n",
      "250:\ttest: 0.9574988\tbest: 0.9576829 (249)\ttotal: 13.6s\tremaining: 2m 2s\n",
      "300:\ttest: 0.9585658\tbest: 0.9589404 (289)\ttotal: 16.4s\tremaining: 2m\n",
      "350:\ttest: 0.9592127\tbest: 0.9593363 (326)\ttotal: 19.2s\tremaining: 1m 57s\n",
      "400:\ttest: 0.9591904\tbest: 0.9593673 (389)\ttotal: 22s\tremaining: 1m 54s\n",
      "450:\ttest: 0.9596305\tbest: 0.9598421 (444)\ttotal: 24.7s\tremaining: 1m 52s\n",
      "500:\ttest: 0.9600862\tbest: 0.9601966 (495)\ttotal: 27.5s\tremaining: 1m 49s\n",
      "550:\ttest: 0.9608502\tbest: 0.9608502 (550)\ttotal: 30.2s\tremaining: 1m 46s\n",
      "600:\ttest: 0.9604439\tbest: 0.9610423 (559)\ttotal: 32.9s\tremaining: 1m 44s\n",
      "650:\ttest: 0.9610859\tbest: 0.9614055 (642)\ttotal: 35.7s\tremaining: 1m 41s\n",
      "700:\ttest: 0.9606449\tbest: 0.9614055 (642)\ttotal: 38.4s\tremaining: 1m 38s\n",
      "bestTest = 0.9614055157\n",
      "bestIteration = 642\n",
      "Shrink model to first 643 iterations.\n",
      "\n",
      "\n",
      "Running fold: 5\n"
     ]
    },
    {
     "name": "stderr",
     "output_type": "stream",
     "text": [
      "Default metric period is 5 because AUC is/are not implemented for GPU\n"
     ]
    },
    {
     "name": "stdout",
     "output_type": "stream",
     "text": [
      "0:\ttest: 0.7781612\tbest: 0.7781612 (0)\ttotal: 55.6ms\tremaining: 2m 18s\n",
      "50:\ttest: 0.9192275\tbest: 0.9192275 (50)\ttotal: 2.45s\tremaining: 1m 57s\n",
      "100:\ttest: 0.9391043\tbest: 0.9391043 (100)\ttotal: 5.27s\tremaining: 2m 5s\n",
      "150:\ttest: 0.9479375\tbest: 0.9479375 (150)\ttotal: 8.03s\tremaining: 2m 4s\n",
      "200:\ttest: 0.9501294\tbest: 0.9501294 (200)\ttotal: 10.8s\tremaining: 2m 3s\n",
      "250:\ttest: 0.9488298\tbest: 0.9504511 (231)\ttotal: 13.6s\tremaining: 2m 1s\n",
      "300:\ttest: 0.9486533\tbest: 0.9504511 (231)\ttotal: 16.3s\tremaining: 1m 59s\n",
      "bestTest = 0.9504511356\n",
      "bestIteration = 231\n",
      "Shrink model to first 232 iterations.\n",
      "\n",
      "\n"
     ]
    }
   ],
   "source": [
    "cb_best_num_rounds = {}\n",
    "cb_val_auc_scores = {}\n",
    "cb_val_pauc_scores = {}\n",
    "all_folds = np.sort(folds.unique())\n",
    "cb_oof_predictions = np.zeros(X_train.shape[0])\n",
    "for fold in all_folds:\n",
    "    print(f\"Running fold: {fold}\")\n",
    "    dev_index = folds != fold\n",
    "    val_index = folds == fold\n",
    "    \n",
    "    X_dev = X_train.loc[dev_index, :]\n",
    "    y_dev = y_train[dev_index]\n",
    "    \n",
    "    X_val = X_train.loc[val_index, :]\n",
    "    y_val = y_train[val_index]\n",
    "    \n",
    "    model = cb.CatBoostClassifier(**cb_params)\n",
    "    \n",
    "    model.fit(X_dev, y_dev, eval_set=(X_val, y_val), )\n",
    "    model.save_model(MODELS_OUTPUT_PATH / f\"{cfg.cb_model_name}_fold_{fold}.txt\")\n",
    "    cb_best_num_rounds[f\"fold_{fold}\"] = model.best_iteration_\n",
    "    \n",
    "    val_preds = model.predict_proba(X_val)[:, -1]\n",
    "    cb_val_pauc_scores[f\"fold_{fold}\"] = compute_pauc(y_val, val_preds)\n",
    "    cb_val_auc_scores[f\"fold_{fold}\"] = model.best_score_[\"validation\"][\"AUC\"]\n",
    "    cb_oof_predictions[val_index] = val_preds\n",
    "    print(\"\\n\")"
   ]
  },
  {
   "cell_type": "code",
   "execution_count": 15,
   "id": "a28f66bb",
   "metadata": {
    "execution": {
     "iopub.execute_input": "2024-07-14T10:26:08.305237Z",
     "iopub.status.busy": "2024-07-14T10:26:08.304894Z",
     "iopub.status.idle": "2024-07-14T10:26:10.103411Z",
     "shell.execute_reply": "2024-07-14T10:26:10.102369Z"
    },
    "papermill": {
     "duration": 1.815975,
     "end_time": "2024-07-14T10:26:10.105518",
     "exception": false,
     "start_time": "2024-07-14T10:26:08.289543",
     "status": "completed"
    },
    "tags": []
   },
   "outputs": [
    {
     "data": {
      "text/html": [
       "<div>\n",
       "<style scoped>\n",
       "    .dataframe tbody tr th:only-of-type {\n",
       "        vertical-align: middle;\n",
       "    }\n",
       "\n",
       "    .dataframe tbody tr th {\n",
       "        vertical-align: top;\n",
       "    }\n",
       "\n",
       "    .dataframe thead th {\n",
       "        text-align: right;\n",
       "    }\n",
       "</style>\n",
       "<table border=\"1\" class=\"dataframe\">\n",
       "  <thead>\n",
       "    <tr style=\"text-align: right;\">\n",
       "      <th></th>\n",
       "      <th>isic_id</th>\n",
       "      <th>patient_id</th>\n",
       "      <th>fold</th>\n",
       "      <th>final_target</th>\n",
       "      <th>oof_cb_v1</th>\n",
       "    </tr>\n",
       "  </thead>\n",
       "  <tbody>\n",
       "    <tr>\n",
       "      <th>0</th>\n",
       "      <td>ISIC_0015670</td>\n",
       "      <td>IP_1235828</td>\n",
       "      <td>4</td>\n",
       "      <td>0</td>\n",
       "      <td>0.000076</td>\n",
       "    </tr>\n",
       "    <tr>\n",
       "      <th>1</th>\n",
       "      <td>ISIC_0015845</td>\n",
       "      <td>IP_8170065</td>\n",
       "      <td>1</td>\n",
       "      <td>0</td>\n",
       "      <td>0.455154</td>\n",
       "    </tr>\n",
       "    <tr>\n",
       "      <th>2</th>\n",
       "      <td>ISIC_0015864</td>\n",
       "      <td>IP_6724798</td>\n",
       "      <td>5</td>\n",
       "      <td>0</td>\n",
       "      <td>0.000077</td>\n",
       "    </tr>\n",
       "    <tr>\n",
       "      <th>3</th>\n",
       "      <td>ISIC_0015902</td>\n",
       "      <td>IP_4111386</td>\n",
       "      <td>2</td>\n",
       "      <td>0</td>\n",
       "      <td>0.000080</td>\n",
       "    </tr>\n",
       "    <tr>\n",
       "      <th>4</th>\n",
       "      <td>ISIC_0024200</td>\n",
       "      <td>IP_8313778</td>\n",
       "      <td>1</td>\n",
       "      <td>0</td>\n",
       "      <td>0.000600</td>\n",
       "    </tr>\n",
       "  </tbody>\n",
       "</table>\n",
       "</div>"
      ],
      "text/plain": [
       "        isic_id  patient_id  fold  final_target  oof_cb_v1\n",
       "0  ISIC_0015670  IP_1235828     4             0   0.000076\n",
       "1  ISIC_0015845  IP_8170065     1             0   0.455154\n",
       "2  ISIC_0015864  IP_6724798     5             0   0.000077\n",
       "3  ISIC_0015902  IP_4111386     2             0   0.000080\n",
       "4  ISIC_0024200  IP_8313778     1             0   0.000600"
      ]
     },
     "execution_count": 15,
     "metadata": {},
     "output_type": "execute_result"
    }
   ],
   "source": [
    "cb_oof_preds_df = pd.DataFrame({\n",
    "    id_column: train_ids,\n",
    "    group_column: groups,\n",
    "    \"fold\": folds,\n",
    "    target_column: y_train,\n",
    "    f\"oof_{cfg.cb_model_name}\": cb_oof_predictions\n",
    "})\n",
    "cb_oof_preds_df.to_csv(f\"oof_preds_{cfg.cb_model_name}.csv\", index=False)\n",
    "cb_oof_preds_df.head()"
   ]
  },
  {
   "cell_type": "code",
   "execution_count": 16,
   "id": "618cafad",
   "metadata": {
    "execution": {
     "iopub.execute_input": "2024-07-14T10:26:10.135860Z",
     "iopub.status.busy": "2024-07-14T10:26:10.135556Z",
     "iopub.status.idle": "2024-07-14T10:26:10.141295Z",
     "shell.execute_reply": "2024-07-14T10:26:10.140361Z"
    },
    "papermill": {
     "duration": 0.022889,
     "end_time": "2024-07-14T10:26:10.143202",
     "exception": false,
     "start_time": "2024-07-14T10:26:10.120313",
     "status": "completed"
    },
    "tags": []
   },
   "outputs": [
    {
     "data": {
      "text/plain": [
       "{'fold_1': 0.9494343400001526,\n",
       " 'fold_2': 0.9503380060195923,\n",
       " 'fold_3': 0.955212414264679,\n",
       " 'fold_4': 0.9614055156707764,\n",
       " 'fold_5': 0.950451135635376}"
      ]
     },
     "execution_count": 16,
     "metadata": {},
     "output_type": "execute_result"
    }
   ],
   "source": [
    "cb_val_auc_scores"
   ]
  },
  {
   "cell_type": "code",
   "execution_count": 17,
   "id": "4aa40c94",
   "metadata": {
    "execution": {
     "iopub.execute_input": "2024-07-14T10:26:10.174269Z",
     "iopub.status.busy": "2024-07-14T10:26:10.173480Z",
     "iopub.status.idle": "2024-07-14T10:26:10.179257Z",
     "shell.execute_reply": "2024-07-14T10:26:10.178414Z"
    },
    "papermill": {
     "duration": 0.023504,
     "end_time": "2024-07-14T10:26:10.181225",
     "exception": false,
     "start_time": "2024-07-14T10:26:10.157721",
     "status": "completed"
    },
    "tags": []
   },
   "outputs": [
    {
     "data": {
      "text/plain": [
       "{'fold_1': 0.16176580074155472,\n",
       " 'fold_2': 0.16379234653749836,\n",
       " 'fold_3': 0.16503569155507852,\n",
       " 'fold_4': 0.16790786337372549,\n",
       " 'fold_5': 0.16277633946384645}"
      ]
     },
     "execution_count": 17,
     "metadata": {},
     "output_type": "execute_result"
    }
   ],
   "source": [
    "cb_val_pauc_scores"
   ]
  },
  {
   "cell_type": "code",
   "execution_count": 18,
   "id": "2bce8b30",
   "metadata": {
    "execution": {
     "iopub.execute_input": "2024-07-14T10:26:10.212734Z",
     "iopub.status.busy": "2024-07-14T10:26:10.212404Z",
     "iopub.status.idle": "2024-07-14T10:26:10.445323Z",
     "shell.execute_reply": "2024-07-14T10:26:10.444497Z"
    },
    "papermill": {
     "duration": 0.251351,
     "end_time": "2024-07-14T10:26:10.447710",
     "exception": false,
     "start_time": "2024-07-14T10:26:10.196359",
     "status": "completed"
    },
    "tags": []
   },
   "outputs": [],
   "source": [
    "cb_cv_auc_oof = compute_auc(cb_oof_preds_df[target_column], cb_oof_preds_df[f\"oof_{cfg.cb_model_name}\"])\n",
    "cb_cv_pauc_oof = compute_pauc(cb_oof_preds_df[target_column], cb_oof_preds_df[f\"oof_{cfg.cb_model_name}\"], min_tpr=0.8)\n",
    "\n",
    "cb_cv_auc_avg = np.mean(list(cb_val_auc_scores.values()))\n",
    "cb_cv_pauc_avg = np.mean(list(cb_val_pauc_scores.values()))"
   ]
  },
  {
   "cell_type": "code",
   "execution_count": 19,
   "id": "0792d110",
   "metadata": {
    "execution": {
     "iopub.execute_input": "2024-07-14T10:26:10.478645Z",
     "iopub.status.busy": "2024-07-14T10:26:10.478319Z",
     "iopub.status.idle": "2024-07-14T10:26:10.483091Z",
     "shell.execute_reply": "2024-07-14T10:26:10.482223Z"
    },
    "papermill": {
     "duration": 0.022577,
     "end_time": "2024-07-14T10:26:10.485338",
     "exception": false,
     "start_time": "2024-07-14T10:26:10.462761",
     "status": "completed"
    },
    "tags": []
   },
   "outputs": [
    {
     "name": "stdout",
     "output_type": "stream",
     "text": [
      "CV AUC OOF: 0.952448562456487\n",
      "CV PAUC OOF: 0.1632807063262568\n",
      "CV AUC AVG: 0.9533682823181152\n",
      "CV PAUC AVG: 0.16425560833434072\n"
     ]
    }
   ],
   "source": [
    "print(f\"CV AUC OOF: {cb_cv_auc_oof}\")\n",
    "print(f\"CV PAUC OOF: {cb_cv_pauc_oof}\")\n",
    "print(f\"CV AUC AVG: {cb_cv_auc_avg}\")\n",
    "print(f\"CV PAUC AVG: {cb_cv_pauc_avg}\")"
   ]
  },
  {
   "cell_type": "code",
   "execution_count": 20,
   "id": "e4b83b34",
   "metadata": {
    "execution": {
     "iopub.execute_input": "2024-07-14T10:26:10.515842Z",
     "iopub.status.busy": "2024-07-14T10:26:10.515571Z",
     "iopub.status.idle": "2024-07-14T10:26:10.521156Z",
     "shell.execute_reply": "2024-07-14T10:26:10.520299Z"
    },
    "papermill": {
     "duration": 0.022774,
     "end_time": "2024-07-14T10:26:10.522983",
     "exception": false,
     "start_time": "2024-07-14T10:26:10.500209",
     "status": "completed"
    },
    "tags": []
   },
   "outputs": [],
   "source": [
    "lgb_params = {\n",
    "    \"objective\": \"binary\",\n",
    "#     \"boosting_type\": \"dart\",\n",
    "    \"class_weight\": \"scale_pos_weight\",\n",
    "    \"metric\": \"auc\",\n",
    "    \"num_leaves\": 63,\n",
    "    \"learning_rate\": 0.01,\n",
    "    \"bagging_freq\": 5,\n",
    "    \"bagging_fraction\": 0.6,\n",
    "    \"bagging_seed\": cfg.seed,\n",
    "    \"feature_fraction\": 0.3,\n",
    "    \"feature_fraction_seed\": cfg.seed,\n",
    "    \"lambda_l1\": 0.95,\n",
    "    \"lambda_l2\": 0.95,\n",
    "#     \"min_child_samples\": 60,\n",
    "#     \"extra_trees\": True,\n",
    "    \"verbosity\": -1,\n",
    "    \"device\": \"gpu\"\n",
    "}\n",
    "num_rounds = 3000\n",
    "es_rounds = 200\n",
    "log_rounds = 50"
   ]
  },
  {
   "cell_type": "code",
   "execution_count": 21,
   "id": "469ea031",
   "metadata": {
    "execution": {
     "iopub.execute_input": "2024-07-14T10:26:10.553287Z",
     "iopub.status.busy": "2024-07-14T10:26:10.553004Z",
     "iopub.status.idle": "2024-07-14T10:30:20.511580Z",
     "shell.execute_reply": "2024-07-14T10:30:20.510358Z"
    },
    "papermill": {
     "duration": 250.00012,
     "end_time": "2024-07-14T10:30:20.537765",
     "exception": false,
     "start_time": "2024-07-14T10:26:10.537645",
     "status": "completed"
    },
    "tags": []
   },
   "outputs": [
    {
     "name": "stdout",
     "output_type": "stream",
     "text": [
      "Running fold: 1\n",
      "[LightGBM] [Warning] Met negative value in categorical features, will convert it to NaN\n",
      "[LightGBM] [Warning] Met negative value in categorical features, will convert it to NaN\n"
     ]
    },
    {
     "name": "stderr",
     "output_type": "stream",
     "text": [
      "1 warning generated.\n",
      "1 warning generated.\n",
      "1 warning generated.\n",
      "1 warning generated.\n",
      "1 warning generated.\n",
      "1 warning generated.\n",
      "1 warning generated.\n",
      "1 warning generated.\n",
      "1 warning generated.\n",
      "1 warning generated.\n",
      "1 warning generated.\n",
      "1 warning generated.\n",
      "1 warning generated.\n",
      "1 warning generated.\n",
      "1 warning generated.\n",
      "1 warning generated.\n",
      "1 warning generated.\n",
      "1 warning generated.\n",
      "1 warning generated.\n",
      "1 warning generated.\n",
      "1 warning generated.\n",
      "1 warning generated.\n",
      "1 warning generated.\n",
      "1 warning generated.\n",
      "1 warning generated.\n",
      "1 warning generated.\n",
      "1 warning generated.\n",
      "1 warning generated.\n",
      "1 warning generated.\n",
      "1 warning generated.\n",
      "1 warning generated.\n",
      "1 warning generated.\n",
      "1 warning generated.\n"
     ]
    },
    {
     "name": "stdout",
     "output_type": "stream",
     "text": [
      "Training until validation scores don't improve for 200 rounds\n",
      "[50]\tvalid_0's auc: 0.93506\tvalid_0's pauc_80: 0.151442\n",
      "[100]\tvalid_0's auc: 0.937338\tvalid_0's pauc_80: 0.151539\n",
      "[150]\tvalid_0's auc: 0.941223\tvalid_0's pauc_80: 0.153938\n",
      "[200]\tvalid_0's auc: 0.945263\tvalid_0's pauc_80: 0.15787\n",
      "[250]\tvalid_0's auc: 0.947002\tvalid_0's pauc_80: 0.159147\n",
      "[300]\tvalid_0's auc: 0.9489\tvalid_0's pauc_80: 0.160842\n",
      "[350]\tvalid_0's auc: 0.949703\tvalid_0's pauc_80: 0.161416\n",
      "[400]\tvalid_0's auc: 0.950503\tvalid_0's pauc_80: 0.162055\n",
      "[450]\tvalid_0's auc: 0.950738\tvalid_0's pauc_80: 0.162146\n",
      "[500]\tvalid_0's auc: 0.951037\tvalid_0's pauc_80: 0.162375\n",
      "[550]\tvalid_0's auc: 0.951913\tvalid_0's pauc_80: 0.163204\n",
      "[600]\tvalid_0's auc: 0.951903\tvalid_0's pauc_80: 0.163168\n",
      "[650]\tvalid_0's auc: 0.952175\tvalid_0's pauc_80: 0.163382\n",
      "[700]\tvalid_0's auc: 0.952223\tvalid_0's pauc_80: 0.163357\n",
      "[750]\tvalid_0's auc: 0.952246\tvalid_0's pauc_80: 0.163274\n",
      "Early stopping, best iteration is:\n",
      "[568]\tvalid_0's auc: 0.95248\tvalid_0's pauc_80: 0.163784\n",
      "\n",
      "\n",
      "Running fold: 2\n",
      "[LightGBM] [Warning] Met negative value in categorical features, will convert it to NaN\n",
      "[LightGBM] [Warning] Met negative value in categorical features, will convert it to NaN\n",
      "Training until validation scores don't improve for 200 rounds\n",
      "[50]\tvalid_0's auc: 0.930132\tvalid_0's pauc_80: 0.147133\n",
      "[100]\tvalid_0's auc: 0.931922\tvalid_0's pauc_80: 0.147099\n",
      "[150]\tvalid_0's auc: 0.934683\tvalid_0's pauc_80: 0.149763\n",
      "[200]\tvalid_0's auc: 0.936767\tvalid_0's pauc_80: 0.151209\n",
      "[250]\tvalid_0's auc: 0.938863\tvalid_0's pauc_80: 0.153335\n",
      "[300]\tvalid_0's auc: 0.940171\tvalid_0's pauc_80: 0.154508\n",
      "[350]\tvalid_0's auc: 0.94115\tvalid_0's pauc_80: 0.155373\n",
      "[400]\tvalid_0's auc: 0.942293\tvalid_0's pauc_80: 0.156321\n",
      "[450]\tvalid_0's auc: 0.94305\tvalid_0's pauc_80: 0.157082\n",
      "[500]\tvalid_0's auc: 0.942837\tvalid_0's pauc_80: 0.156826\n",
      "[550]\tvalid_0's auc: 0.944307\tvalid_0's pauc_80: 0.158343\n",
      "[600]\tvalid_0's auc: 0.9453\tvalid_0's pauc_80: 0.159231\n",
      "[650]\tvalid_0's auc: 0.946171\tvalid_0's pauc_80: 0.159991\n",
      "[700]\tvalid_0's auc: 0.946557\tvalid_0's pauc_80: 0.160312\n",
      "[750]\tvalid_0's auc: 0.94681\tvalid_0's pauc_80: 0.160683\n",
      "[800]\tvalid_0's auc: 0.947137\tvalid_0's pauc_80: 0.161059\n",
      "[850]\tvalid_0's auc: 0.946867\tvalid_0's pauc_80: 0.160784\n",
      "[900]\tvalid_0's auc: 0.946624\tvalid_0's pauc_80: 0.160628\n",
      "[950]\tvalid_0's auc: 0.946292\tvalid_0's pauc_80: 0.160189\n",
      "[1000]\tvalid_0's auc: 0.946258\tvalid_0's pauc_80: 0.160101\n",
      "Early stopping, best iteration is:\n",
      "[800]\tvalid_0's auc: 0.947137\tvalid_0's pauc_80: 0.161059\n",
      "\n",
      "\n",
      "Running fold: 3\n",
      "[LightGBM] [Warning] Met negative value in categorical features, will convert it to NaN\n",
      "[LightGBM] [Warning] Met negative value in categorical features, will convert it to NaN\n",
      "Training until validation scores don't improve for 200 rounds\n",
      "[50]\tvalid_0's auc: 0.941395\tvalid_0's pauc_80: 0.153674\n",
      "[100]\tvalid_0's auc: 0.939914\tvalid_0's pauc_80: 0.151351\n",
      "[150]\tvalid_0's auc: 0.941031\tvalid_0's pauc_80: 0.152069\n",
      "[200]\tvalid_0's auc: 0.940568\tvalid_0's pauc_80: 0.15152\n",
      "Early stopping, best iteration is:\n",
      "[40]\tvalid_0's auc: 0.942419\tvalid_0's pauc_80: 0.155307\n",
      "\n",
      "\n",
      "Running fold: 4\n",
      "[LightGBM] [Warning] Met negative value in categorical features, will convert it to NaN\n",
      "[LightGBM] [Warning] Met negative value in categorical features, will convert it to NaN\n",
      "Training until validation scores don't improve for 200 rounds\n",
      "[50]\tvalid_0's auc: 0.944327\tvalid_0's pauc_80: 0.15267\n",
      "[100]\tvalid_0's auc: 0.947547\tvalid_0's pauc_80: 0.155244\n",
      "[150]\tvalid_0's auc: 0.948001\tvalid_0's pauc_80: 0.155212\n",
      "[200]\tvalid_0's auc: 0.949899\tvalid_0's pauc_80: 0.156944\n",
      "[250]\tvalid_0's auc: 0.952302\tvalid_0's pauc_80: 0.159181\n",
      "[300]\tvalid_0's auc: 0.95402\tvalid_0's pauc_80: 0.160765\n",
      "[350]\tvalid_0's auc: 0.95578\tvalid_0's pauc_80: 0.162353\n",
      "[400]\tvalid_0's auc: 0.956512\tvalid_0's pauc_80: 0.16317\n",
      "[450]\tvalid_0's auc: 0.956398\tvalid_0's pauc_80: 0.163081\n",
      "[500]\tvalid_0's auc: 0.956737\tvalid_0's pauc_80: 0.163455\n",
      "[550]\tvalid_0's auc: 0.956437\tvalid_0's pauc_80: 0.163111\n",
      "[600]\tvalid_0's auc: 0.957115\tvalid_0's pauc_80: 0.163778\n",
      "[650]\tvalid_0's auc: 0.957702\tvalid_0's pauc_80: 0.164232\n",
      "[700]\tvalid_0's auc: 0.95825\tvalid_0's pauc_80: 0.16481\n",
      "[750]\tvalid_0's auc: 0.958658\tvalid_0's pauc_80: 0.165273\n",
      "[800]\tvalid_0's auc: 0.95855\tvalid_0's pauc_80: 0.165273\n",
      "[850]\tvalid_0's auc: 0.959285\tvalid_0's pauc_80: 0.165898\n",
      "[900]\tvalid_0's auc: 0.960224\tvalid_0's pauc_80: 0.166818\n",
      "[950]\tvalid_0's auc: 0.960622\tvalid_0's pauc_80: 0.167162\n",
      "[1000]\tvalid_0's auc: 0.961417\tvalid_0's pauc_80: 0.167969\n",
      "[1050]\tvalid_0's auc: 0.961478\tvalid_0's pauc_80: 0.16814\n",
      "[1100]\tvalid_0's auc: 0.961663\tvalid_0's pauc_80: 0.168349\n",
      "[1150]\tvalid_0's auc: 0.961809\tvalid_0's pauc_80: 0.168483\n",
      "[1200]\tvalid_0's auc: 0.961957\tvalid_0's pauc_80: 0.168679\n",
      "[1250]\tvalid_0's auc: 0.962317\tvalid_0's pauc_80: 0.169028\n",
      "[1300]\tvalid_0's auc: 0.962026\tvalid_0's pauc_80: 0.168806\n",
      "[1350]\tvalid_0's auc: 0.962134\tvalid_0's pauc_80: 0.168955\n",
      "[1400]\tvalid_0's auc: 0.961881\tvalid_0's pauc_80: 0.168639\n",
      "[1450]\tvalid_0's auc: 0.962117\tvalid_0's pauc_80: 0.168945\n",
      "Early stopping, best iteration is:\n",
      "[1250]\tvalid_0's auc: 0.962317\tvalid_0's pauc_80: 0.169028\n",
      "\n",
      "\n",
      "Running fold: 5\n",
      "[LightGBM] [Warning] Met negative value in categorical features, will convert it to NaN\n",
      "[LightGBM] [Warning] Met negative value in categorical features, will convert it to NaN\n",
      "Training until validation scores don't improve for 200 rounds\n",
      "[50]\tvalid_0's auc: 0.940264\tvalid_0's pauc_80: 0.157263\n",
      "[100]\tvalid_0's auc: 0.944229\tvalid_0's pauc_80: 0.159698\n",
      "[150]\tvalid_0's auc: 0.945475\tvalid_0's pauc_80: 0.160615\n",
      "[200]\tvalid_0's auc: 0.945874\tvalid_0's pauc_80: 0.161017\n",
      "[250]\tvalid_0's auc: 0.94712\tvalid_0's pauc_80: 0.161652\n",
      "[300]\tvalid_0's auc: 0.948414\tvalid_0's pauc_80: 0.162556\n",
      "[350]\tvalid_0's auc: 0.949206\tvalid_0's pauc_80: 0.162548\n",
      "[400]\tvalid_0's auc: 0.949255\tvalid_0's pauc_80: 0.162173\n",
      "[450]\tvalid_0's auc: 0.949808\tvalid_0's pauc_80: 0.162529\n",
      "[500]\tvalid_0's auc: 0.94916\tvalid_0's pauc_80: 0.161624\n",
      "[550]\tvalid_0's auc: 0.949018\tvalid_0's pauc_80: 0.16131\n",
      "[600]\tvalid_0's auc: 0.94896\tvalid_0's pauc_80: 0.160951\n",
      "Early stopping, best iteration is:\n",
      "[436]\tvalid_0's auc: 0.950088\tvalid_0's pauc_80: 0.16283\n",
      "\n",
      "\n"
     ]
    }
   ],
   "source": [
    "lgb_best_num_rounds = {}\n",
    "lgb_val_auc_scores = {}\n",
    "lgb_val_pauc_scores = {}\n",
    "all_folds = np.sort(folds.unique())\n",
    "lgb_oof_predictions = np.zeros(X_train.shape[0])\n",
    "for fold in all_folds:\n",
    "    print(f\"Running fold: {fold}\")\n",
    "    dev_index = folds != fold\n",
    "    val_index = folds == fold\n",
    "    \n",
    "    X_dev = X_train.loc[dev_index, :]\n",
    "    y_dev = y_train[dev_index]\n",
    "    \n",
    "    X_val = X_train.loc[val_index, :]\n",
    "    y_val = y_train[val_index]\n",
    "    \n",
    "    lgb_dataset_dev = lgb.Dataset(X_dev, label=y_dev, categorical_feature=categorical_features, free_raw_data=False)\n",
    "    lgb_dataset_val = lgb.Dataset(X_val, label=y_val, categorical_feature=categorical_features, free_raw_data=False)\n",
    "    \n",
    "    model = lgb.train(\n",
    "        lgb_params,\n",
    "        lgb_dataset_dev,\n",
    "        num_boost_round=num_rounds,\n",
    "        valid_sets=[lgb_dataset_val],\n",
    "        feval=pauc_80,\n",
    "        callbacks=[early_stopping(stopping_rounds=es_rounds), log_evaluation(log_rounds)],\n",
    "    )\n",
    "    \n",
    "    model.save_model(MODELS_OUTPUT_PATH / f\"{cfg.lgb_model_name}_fold_{fold}.txt\")\n",
    "    lgb_best_num_rounds[f\"fold_{fold}\"] = model.best_iteration\n",
    "    val_scores = dict(model.best_score[\"valid_0\"])\n",
    "    \n",
    "    lgb_val_auc_scores[f\"fold_{fold}\"] = val_scores[\"auc\"]\n",
    "    lgb_val_pauc_scores[f\"fold_{fold}\"] = val_scores[\"pauc_80\"]\n",
    "    \n",
    "    val_preds = model.predict(X_val, num_iteration=model.best_iteration)\n",
    "    lgb_oof_predictions[val_index] = val_preds\n",
    "    print(\"\\n\")"
   ]
  },
  {
   "cell_type": "code",
   "execution_count": 22,
   "id": "092178be",
   "metadata": {
    "execution": {
     "iopub.execute_input": "2024-07-14T10:30:20.586673Z",
     "iopub.status.busy": "2024-07-14T10:30:20.585931Z",
     "iopub.status.idle": "2024-07-14T10:30:22.432095Z",
     "shell.execute_reply": "2024-07-14T10:30:22.431082Z"
    },
    "papermill": {
     "duration": 1.872927,
     "end_time": "2024-07-14T10:30:22.434251",
     "exception": false,
     "start_time": "2024-07-14T10:30:20.561324",
     "status": "completed"
    },
    "tags": []
   },
   "outputs": [
    {
     "data": {
      "text/html": [
       "<div>\n",
       "<style scoped>\n",
       "    .dataframe tbody tr th:only-of-type {\n",
       "        vertical-align: middle;\n",
       "    }\n",
       "\n",
       "    .dataframe tbody tr th {\n",
       "        vertical-align: top;\n",
       "    }\n",
       "\n",
       "    .dataframe thead th {\n",
       "        text-align: right;\n",
       "    }\n",
       "</style>\n",
       "<table border=\"1\" class=\"dataframe\">\n",
       "  <thead>\n",
       "    <tr style=\"text-align: right;\">\n",
       "      <th></th>\n",
       "      <th>isic_id</th>\n",
       "      <th>patient_id</th>\n",
       "      <th>fold</th>\n",
       "      <th>final_target</th>\n",
       "      <th>oof_lgb_v1</th>\n",
       "    </tr>\n",
       "  </thead>\n",
       "  <tbody>\n",
       "    <tr>\n",
       "      <th>0</th>\n",
       "      <td>ISIC_0015670</td>\n",
       "      <td>IP_1235828</td>\n",
       "      <td>4</td>\n",
       "      <td>0</td>\n",
       "      <td>0.000040</td>\n",
       "    </tr>\n",
       "    <tr>\n",
       "      <th>1</th>\n",
       "      <td>ISIC_0015845</td>\n",
       "      <td>IP_8170065</td>\n",
       "      <td>1</td>\n",
       "      <td>0</td>\n",
       "      <td>0.493837</td>\n",
       "    </tr>\n",
       "    <tr>\n",
       "      <th>2</th>\n",
       "      <td>ISIC_0015864</td>\n",
       "      <td>IP_6724798</td>\n",
       "      <td>5</td>\n",
       "      <td>0</td>\n",
       "      <td>0.000111</td>\n",
       "    </tr>\n",
       "    <tr>\n",
       "      <th>3</th>\n",
       "      <td>ISIC_0015902</td>\n",
       "      <td>IP_4111386</td>\n",
       "      <td>2</td>\n",
       "      <td>0</td>\n",
       "      <td>0.000083</td>\n",
       "    </tr>\n",
       "    <tr>\n",
       "      <th>4</th>\n",
       "      <td>ISIC_0024200</td>\n",
       "      <td>IP_8313778</td>\n",
       "      <td>1</td>\n",
       "      <td>0</td>\n",
       "      <td>0.000676</td>\n",
       "    </tr>\n",
       "  </tbody>\n",
       "</table>\n",
       "</div>"
      ],
      "text/plain": [
       "        isic_id  patient_id  fold  final_target  oof_lgb_v1\n",
       "0  ISIC_0015670  IP_1235828     4             0    0.000040\n",
       "1  ISIC_0015845  IP_8170065     1             0    0.493837\n",
       "2  ISIC_0015864  IP_6724798     5             0    0.000111\n",
       "3  ISIC_0015902  IP_4111386     2             0    0.000083\n",
       "4  ISIC_0024200  IP_8313778     1             0    0.000676"
      ]
     },
     "execution_count": 22,
     "metadata": {},
     "output_type": "execute_result"
    }
   ],
   "source": [
    "lgb_oof_preds_df = pd.DataFrame({\n",
    "    id_column: train_ids,\n",
    "    group_column: groups,\n",
    "    \"fold\": folds,\n",
    "    target_column: y_train,\n",
    "    f\"oof_{cfg.lgb_model_name}\": lgb_oof_predictions\n",
    "})\n",
    "lgb_oof_preds_df.to_csv(f\"oof_preds_{cfg.lgb_model_name}.csv\", index=False)\n",
    "lgb_oof_preds_df.head()"
   ]
  },
  {
   "cell_type": "code",
   "execution_count": 23,
   "id": "0819d739",
   "metadata": {
    "execution": {
     "iopub.execute_input": "2024-07-14T10:30:22.483809Z",
     "iopub.status.busy": "2024-07-14T10:30:22.483445Z",
     "iopub.status.idle": "2024-07-14T10:30:22.489140Z",
     "shell.execute_reply": "2024-07-14T10:30:22.488313Z"
    },
    "papermill": {
     "duration": 0.033072,
     "end_time": "2024-07-14T10:30:22.491242",
     "exception": false,
     "start_time": "2024-07-14T10:30:22.458170",
     "status": "completed"
    },
    "tags": []
   },
   "outputs": [
    {
     "data": {
      "text/plain": [
       "{'fold_1': 0.9524802412232688,\n",
       " 'fold_2': 0.9471366230794189,\n",
       " 'fold_3': 0.9424190544233817,\n",
       " 'fold_4': 0.9623170183823988,\n",
       " 'fold_5': 0.9500881067276934}"
      ]
     },
     "execution_count": 23,
     "metadata": {},
     "output_type": "execute_result"
    }
   ],
   "source": [
    "lgb_val_auc_scores"
   ]
  },
  {
   "cell_type": "code",
   "execution_count": 24,
   "id": "b0bc9a13",
   "metadata": {
    "execution": {
     "iopub.execute_input": "2024-07-14T10:30:22.541810Z",
     "iopub.status.busy": "2024-07-14T10:30:22.541189Z",
     "iopub.status.idle": "2024-07-14T10:30:22.547152Z",
     "shell.execute_reply": "2024-07-14T10:30:22.546219Z"
    },
    "papermill": {
     "duration": 0.033462,
     "end_time": "2024-07-14T10:30:22.549091",
     "exception": false,
     "start_time": "2024-07-14T10:30:22.515629",
     "status": "completed"
    },
    "tags": []
   },
   "outputs": [
    {
     "data": {
      "text/plain": [
       "{'fold_1': 0.16378409765484395,\n",
       " 'fold_2': 0.16105856024492304,\n",
       " 'fold_3': 0.15530701289139032,\n",
       " 'fold_4': 0.16902790430669776,\n",
       " 'fold_5': 0.1628304162278929}"
      ]
     },
     "execution_count": 24,
     "metadata": {},
     "output_type": "execute_result"
    }
   ],
   "source": [
    "lgb_val_pauc_scores"
   ]
  },
  {
   "cell_type": "code",
   "execution_count": 25,
   "id": "a91dff9c",
   "metadata": {
    "execution": {
     "iopub.execute_input": "2024-07-14T10:30:22.650147Z",
     "iopub.status.busy": "2024-07-14T10:30:22.649351Z",
     "iopub.status.idle": "2024-07-14T10:30:22.886081Z",
     "shell.execute_reply": "2024-07-14T10:30:22.885291Z"
    },
    "papermill": {
     "duration": 0.264807,
     "end_time": "2024-07-14T10:30:22.888367",
     "exception": false,
     "start_time": "2024-07-14T10:30:22.623560",
     "status": "completed"
    },
    "tags": []
   },
   "outputs": [],
   "source": [
    "lgb_cv_auc_oof = compute_auc(lgb_oof_preds_df[target_column], lgb_oof_preds_df[f\"oof_{cfg.lgb_model_name}\"])\n",
    "lgb_cv_pauc_oof = compute_pauc(lgb_oof_preds_df[target_column], lgb_oof_preds_df[f\"oof_{cfg.lgb_model_name}\"], min_tpr=0.8)\n",
    "\n",
    "lgb_cv_auc_avg = np.mean(list(lgb_val_auc_scores.values()))\n",
    "lgb_cv_pauc_avg = np.mean(list(lgb_val_pauc_scores.values()))"
   ]
  },
  {
   "cell_type": "code",
   "execution_count": 26,
   "id": "c82975b6",
   "metadata": {
    "execution": {
     "iopub.execute_input": "2024-07-14T10:30:22.939892Z",
     "iopub.status.busy": "2024-07-14T10:30:22.939503Z",
     "iopub.status.idle": "2024-07-14T10:30:22.944783Z",
     "shell.execute_reply": "2024-07-14T10:30:22.943921Z"
    },
    "papermill": {
     "duration": 0.033769,
     "end_time": "2024-07-14T10:30:22.947025",
     "exception": false,
     "start_time": "2024-07-14T10:30:22.913256",
     "status": "completed"
    },
    "tags": []
   },
   "outputs": [
    {
     "name": "stdout",
     "output_type": "stream",
     "text": [
      "CV AUC OOF: 0.9351820916647064\n",
      "CV PAUC OOF: 0.14685486641840567\n",
      "CV AUC AVG: 0.9508882087672322\n",
      "CV PAUC AVG: 0.16240159826514958\n"
     ]
    }
   ],
   "source": [
    "print(f\"CV AUC OOF: {lgb_cv_auc_oof}\")\n",
    "print(f\"CV PAUC OOF: {lgb_cv_pauc_oof}\")\n",
    "print(f\"CV AUC AVG: {lgb_cv_auc_avg}\")\n",
    "print(f\"CV PAUC AVG: {lgb_cv_pauc_avg}\")"
   ]
  },
  {
   "cell_type": "code",
   "execution_count": 27,
   "id": "93e1d29c",
   "metadata": {
    "execution": {
     "iopub.execute_input": "2024-07-14T10:30:23.000331Z",
     "iopub.status.busy": "2024-07-14T10:30:22.999455Z",
     "iopub.status.idle": "2024-07-14T10:30:23.006197Z",
     "shell.execute_reply": "2024-07-14T10:30:23.005253Z"
    },
    "papermill": {
     "duration": 0.036085,
     "end_time": "2024-07-14T10:30:23.008375",
     "exception": false,
     "start_time": "2024-07-14T10:30:22.972290",
     "status": "completed"
    },
    "tags": []
   },
   "outputs": [],
   "source": [
    "cb_metadata = {\n",
    "    \"params\": cb_params,\n",
    "    \"cb_best_num_rounds\": cb_best_num_rounds,\n",
    "    \"cb_val_auc_scores\": cb_val_auc_scores,\n",
    "    \"cb_val_pauc_scores\": cb_val_pauc_scores,\n",
    "    \"cb_cv_auc_oof\": cb_cv_auc_oof,\n",
    "    \"cb_cv_pauc_oof\": cb_cv_pauc_oof,\n",
    "    \"cb_cv_auc_avg\": cb_cv_auc_avg,\n",
    "    \"cb_cv_pauc_avg\": cb_cv_pauc_avg\n",
    "}\n",
    "\n",
    "with open(\"cb_run_metadata.json\", \"w\") as f:\n",
    "    json.dump(cb_metadata, f)"
   ]
  },
  {
   "cell_type": "code",
   "execution_count": 28,
   "id": "b274c059",
   "metadata": {
    "execution": {
     "iopub.execute_input": "2024-07-14T10:30:23.061689Z",
     "iopub.status.busy": "2024-07-14T10:30:23.060975Z",
     "iopub.status.idle": "2024-07-14T10:30:23.066962Z",
     "shell.execute_reply": "2024-07-14T10:30:23.066238Z"
    },
    "papermill": {
     "duration": 0.034781,
     "end_time": "2024-07-14T10:30:23.068886",
     "exception": false,
     "start_time": "2024-07-14T10:30:23.034105",
     "status": "completed"
    },
    "tags": []
   },
   "outputs": [],
   "source": [
    "lgb_metadata = {\n",
    "    \"params\": lgb_params,\n",
    "    \"num_rounds\": num_rounds,\n",
    "    \"es_rounds\": es_rounds,\n",
    "    \"lgb_best_num_rounds\": lgb_best_num_rounds,\n",
    "    \"lgb_val_auc_scores\": lgb_val_auc_scores,\n",
    "    \"lgb_val_pauc_scores\": lgb_val_pauc_scores,\n",
    "    \"lgb_cv_auc_oof\": lgb_cv_auc_oof,\n",
    "    \"lgb_cv_pauc_oof\": lgb_cv_pauc_oof,\n",
    "    \"lgb_cv_auc_avg\": lgb_cv_auc_avg,\n",
    "    \"lgb_cv_pauc_avg\": lgb_cv_pauc_avg\n",
    "}\n",
    "\n",
    "with open(\"lgb_run_metadata.json\", \"w\") as f:\n",
    "    json.dump(lgb_metadata, f)"
   ]
  },
  {
   "cell_type": "code",
   "execution_count": null,
   "id": "f518e937",
   "metadata": {
    "papermill": {
     "duration": 0.02395,
     "end_time": "2024-07-14T10:30:23.117642",
     "exception": false,
     "start_time": "2024-07-14T10:30:23.093692",
     "status": "completed"
    },
    "tags": []
   },
   "outputs": [],
   "source": []
  }
 ],
 "metadata": {
  "kaggle": {
   "accelerator": "gpu",
   "dataSources": [
    {
     "databundleVersionId": 9094797,
     "sourceId": 63056,
     "sourceType": "competition"
    },
    {
     "sourceId": 187439867,
     "sourceType": "kernelVersion"
    },
    {
     "sourceId": 187477024,
     "sourceType": "kernelVersion"
    }
   ],
   "dockerImageVersionId": 30732,
   "isGpuEnabled": true,
   "isInternetEnabled": false,
   "language": "python",
   "sourceType": "notebook"
  },
  "kernelspec": {
   "display_name": "Python 3",
   "language": "python",
   "name": "python3"
  },
  "language_info": {
   "codemirror_mode": {
    "name": "ipython",
    "version": 3
   },
   "file_extension": ".py",
   "mimetype": "text/x-python",
   "name": "python",
   "nbconvert_exporter": "python",
   "pygments_lexer": "ipython3",
   "version": "3.10.13"
  },
  "papermill": {
   "default_parameters": {},
   "duration": 480.932551,
   "end_time": "2024-07-14T10:30:24.665955",
   "environment_variables": {},
   "exception": null,
   "input_path": "__notebook__.ipynb",
   "output_path": "__notebook__.ipynb",
   "parameters": {},
   "start_time": "2024-07-14T10:22:23.733404",
   "version": "2.5.0"
  }
 },
 "nbformat": 4,
 "nbformat_minor": 5
}
