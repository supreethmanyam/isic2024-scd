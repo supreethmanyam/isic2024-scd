{
 "cells": [
  {
   "cell_type": "code",
   "execution_count": 1,
   "id": "4ce7f952",
   "metadata": {
    "_cell_guid": "b1076dfc-b9ad-4769-8c92-a6c4dae69d19",
    "_uuid": "8f2839f25d086af736a60e9eeb907d3b93b6e0e5",
    "execution": {
     "iopub.execute_input": "2024-07-12T19:12:04.516664Z",
     "iopub.status.busy": "2024-07-12T19:12:04.516264Z",
     "iopub.status.idle": "2024-07-12T19:12:12.752335Z",
     "shell.execute_reply": "2024-07-12T19:12:12.751043Z"
    },
    "papermill": {
     "duration": 8.24916,
     "end_time": "2024-07-12T19:12:12.755793",
     "exception": false,
     "start_time": "2024-07-12T19:12:04.506633",
     "status": "completed"
    },
    "tags": []
   },
   "outputs": [],
   "source": [
    "import json\n",
    "import joblib\n",
    "from pathlib import Path\n",
    "\n",
    "import pandas as pd\n",
    "import numpy as np\n",
    "\n",
    "from sklearn.compose import ColumnTransformer\n",
    "from sklearn.preprocessing import OrdinalEncoder\n",
    "\n",
    "import lightgbm as lgb\n",
    "from lightgbm.callback import log_evaluation, early_stopping\n",
    "\n",
    "from isic_helper import DotDict\n",
    "from isic_helper import get_folds\n",
    "from isic_helper import compute_auc, compute_pauc\n",
    "\n",
    "pd.options.display.max_columns = 1000"
   ]
  },
  {
   "cell_type": "code",
   "execution_count": 2,
   "id": "f3e4f988",
   "metadata": {
    "execution": {
     "iopub.execute_input": "2024-07-12T19:12:12.773053Z",
     "iopub.status.busy": "2024-07-12T19:12:12.772406Z",
     "iopub.status.idle": "2024-07-12T19:12:12.778460Z",
     "shell.execute_reply": "2024-07-12T19:12:12.777183Z"
    },
    "papermill": {
     "duration": 0.01749,
     "end_time": "2024-07-12T19:12:12.781009",
     "exception": false,
     "start_time": "2024-07-12T19:12:12.763519",
     "status": "completed"
    },
    "tags": []
   },
   "outputs": [],
   "source": [
    "cfg = DotDict()\n",
    "cfg.seed = 2022\n",
    "\n",
    "cfg.models_output_dir = \"models\"\n",
    "cfg.model_name = \"lgb_v1\""
   ]
  },
  {
   "cell_type": "code",
   "execution_count": 3,
   "id": "a5256344",
   "metadata": {
    "execution": {
     "iopub.execute_input": "2024-07-12T19:12:12.797459Z",
     "iopub.status.busy": "2024-07-12T19:12:12.797056Z",
     "iopub.status.idle": "2024-07-12T19:12:24.489080Z",
     "shell.execute_reply": "2024-07-12T19:12:24.487753Z"
    },
    "papermill": {
     "duration": 11.703281,
     "end_time": "2024-07-12T19:12:24.491748",
     "exception": false,
     "start_time": "2024-07-12T19:12:12.788467",
     "status": "completed"
    },
    "tags": []
   },
   "outputs": [
    {
     "name": "stdout",
     "output_type": "stream",
     "text": [
      "Train data size: (401059, 57)\n",
      "Test data size: (401059, 57)\n"
     ]
    }
   ],
   "source": [
    "INPUT_PATH = Path(\"../input/isic-2024-challenge/\")\n",
    "MODELS_OUTPUT_PATH = Path(f\"{cfg.models_output_dir}\")\n",
    "MODELS_OUTPUT_PATH.mkdir(exist_ok=True)\n",
    "\n",
    "train_metadata = pd.read_csv(INPUT_PATH / \"train-metadata.csv\", low_memory=False)\n",
    "test_metadata = pd.read_csv(INPUT_PATH / \"test-metadata.csv\")\n",
    "\n",
    "folds_df = get_folds()\n",
    "train_metadata = train_metadata.merge(folds_df, on=[\"isic_id\", \"patient_id\"], how=\"inner\")\n",
    "print(f\"Train data size: {train_metadata.shape}\")\n",
    "print(f\"Test data size: {train_metadata.shape}\")"
   ]
  },
  {
   "cell_type": "code",
   "execution_count": 4,
   "id": "47042ca7",
   "metadata": {
    "execution": {
     "iopub.execute_input": "2024-07-12T19:12:24.508414Z",
     "iopub.status.busy": "2024-07-12T19:12:24.508002Z",
     "iopub.status.idle": "2024-07-12T19:12:24.532397Z",
     "shell.execute_reply": "2024-07-12T19:12:24.530982Z"
    },
    "papermill": {
     "duration": 0.035772,
     "end_time": "2024-07-12T19:12:24.535085",
     "exception": false,
     "start_time": "2024-07-12T19:12:24.499313",
     "status": "completed"
    },
    "tags": []
   },
   "outputs": [
    {
     "data": {
      "text/plain": [
       "target\n",
       "0    0.99902\n",
       "1    0.00098\n",
       "Name: proportion, dtype: float64"
      ]
     },
     "execution_count": 4,
     "metadata": {},
     "output_type": "execute_result"
    }
   ],
   "source": [
    "train_metadata[\"target\"].value_counts(normalize=True)"
   ]
  },
  {
   "cell_type": "code",
   "execution_count": 5,
   "id": "c823f574",
   "metadata": {
    "execution": {
     "iopub.execute_input": "2024-07-12T19:12:24.552352Z",
     "iopub.status.busy": "2024-07-12T19:12:24.551901Z",
     "iopub.status.idle": "2024-07-12T19:12:25.159969Z",
     "shell.execute_reply": "2024-07-12T19:12:25.158736Z"
    },
    "papermill": {
     "duration": 0.620262,
     "end_time": "2024-07-12T19:12:25.163066",
     "exception": false,
     "start_time": "2024-07-12T19:12:24.542804",
     "status": "completed"
    },
    "tags": []
   },
   "outputs": [],
   "source": [
    "def feature_engineering(df):\n",
    "    df[\"lesion_size_ratio\"]              = df[\"tbp_lv_minorAxisMM\"] / df[\"clin_size_long_diam_mm\"]\n",
    "    df[\"hue_contrast\"]                   = (df[\"tbp_lv_H\"] - df[\"tbp_lv_Hext\"]).abs()\n",
    "    df[\"normalized_lesion_size\"]         = df[\"clin_size_long_diam_mm\"] / df[\"age_approx\"]\n",
    "    df[\"overall_color_difference\"]       = (df[\"tbp_lv_deltaA\"] + df[\"tbp_lv_deltaB\"] + df[\"tbp_lv_deltaL\"]) / 3\n",
    "    \n",
    "    patient_num_images = df.groupby(\"patient_id\", as_index=False)[\"isic_id\"].count().rename(columns={\"isic_id\": \"num_images\"})\n",
    "    df = df.merge(patient_num_images, on=\"patient_id\", how=\"left\")\n",
    "\n",
    "    new_num_cols = [\n",
    "        \"num_images\",\n",
    "        \"lesion_size_ratio\",\n",
    "        \"normalized_lesion_size\", \n",
    "        \"overall_color_difference\"\n",
    "    ]\n",
    "    \n",
    "    new_cat_cols = []\n",
    "    \n",
    "    return df, new_num_cols, new_cat_cols\n",
    "\n",
    "train_metadata, new_num_cols, new_cat_cols = feature_engineering(train_metadata.copy())"
   ]
  },
  {
   "cell_type": "code",
   "execution_count": 6,
   "id": "fe256055",
   "metadata": {
    "execution": {
     "iopub.execute_input": "2024-07-12T19:12:25.180436Z",
     "iopub.status.busy": "2024-07-12T19:12:25.179993Z",
     "iopub.status.idle": "2024-07-12T19:12:25.188295Z",
     "shell.execute_reply": "2024-07-12T19:12:25.187114Z"
    },
    "papermill": {
     "duration": 0.019756,
     "end_time": "2024-07-12T19:12:25.190864",
     "exception": false,
     "start_time": "2024-07-12T19:12:25.171108",
     "status": "completed"
    },
    "tags": []
   },
   "outputs": [],
   "source": [
    "id_column = \"isic_id\"\n",
    "target_column = \"final_target\"\n",
    "group_column = \"patient_id\"\n",
    "drop_features = [\"image_type\"] + train_metadata.columns[~np.in1d(train_metadata.columns, test_metadata.columns)].tolist() # target column removed\n",
    "categorical_features = [\"sex\", \"anatom_site_general\", \n",
    "                        \"tbp_tile_type\", \"tbp_lv_location\", \"tbp_lv_location_simple\", \n",
    "                        \"attribution\", \"copyright_license\"] + new_cat_cols\n",
    "numerical_features = train_metadata.columns[~np.in1d(train_metadata.columns, \n",
    "                                                     [id_column] + [group_column] + categorical_features + drop_features)]"
   ]
  },
  {
   "cell_type": "code",
   "execution_count": 7,
   "id": "0cf2d43b",
   "metadata": {
    "execution": {
     "iopub.execute_input": "2024-07-12T19:12:25.207947Z",
     "iopub.status.busy": "2024-07-12T19:12:25.207537Z",
     "iopub.status.idle": "2024-07-12T19:12:25.230432Z",
     "shell.execute_reply": "2024-07-12T19:12:25.229159Z"
    },
    "papermill": {
     "duration": 0.034995,
     "end_time": "2024-07-12T19:12:25.233580",
     "exception": false,
     "start_time": "2024-07-12T19:12:25.198585",
     "status": "completed"
    },
    "tags": []
   },
   "outputs": [
    {
     "data": {
      "text/html": [
       "<style>#sk-container-id-1 {color: black;background-color: white;}#sk-container-id-1 pre{padding: 0;}#sk-container-id-1 div.sk-toggleable {background-color: white;}#sk-container-id-1 label.sk-toggleable__label {cursor: pointer;display: block;width: 100%;margin-bottom: 0;padding: 0.3em;box-sizing: border-box;text-align: center;}#sk-container-id-1 label.sk-toggleable__label-arrow:before {content: \"▸\";float: left;margin-right: 0.25em;color: #696969;}#sk-container-id-1 label.sk-toggleable__label-arrow:hover:before {color: black;}#sk-container-id-1 div.sk-estimator:hover label.sk-toggleable__label-arrow:before {color: black;}#sk-container-id-1 div.sk-toggleable__content {max-height: 0;max-width: 0;overflow: hidden;text-align: left;background-color: #f0f8ff;}#sk-container-id-1 div.sk-toggleable__content pre {margin: 0.2em;color: black;border-radius: 0.25em;background-color: #f0f8ff;}#sk-container-id-1 input.sk-toggleable__control:checked~div.sk-toggleable__content {max-height: 200px;max-width: 100%;overflow: auto;}#sk-container-id-1 input.sk-toggleable__control:checked~label.sk-toggleable__label-arrow:before {content: \"▾\";}#sk-container-id-1 div.sk-estimator input.sk-toggleable__control:checked~label.sk-toggleable__label {background-color: #d4ebff;}#sk-container-id-1 div.sk-label input.sk-toggleable__control:checked~label.sk-toggleable__label {background-color: #d4ebff;}#sk-container-id-1 input.sk-hidden--visually {border: 0;clip: rect(1px 1px 1px 1px);clip: rect(1px, 1px, 1px, 1px);height: 1px;margin: -1px;overflow: hidden;padding: 0;position: absolute;width: 1px;}#sk-container-id-1 div.sk-estimator {font-family: monospace;background-color: #f0f8ff;border: 1px dotted black;border-radius: 0.25em;box-sizing: border-box;margin-bottom: 0.5em;}#sk-container-id-1 div.sk-estimator:hover {background-color: #d4ebff;}#sk-container-id-1 div.sk-parallel-item::after {content: \"\";width: 100%;border-bottom: 1px solid gray;flex-grow: 1;}#sk-container-id-1 div.sk-label:hover label.sk-toggleable__label {background-color: #d4ebff;}#sk-container-id-1 div.sk-serial::before {content: \"\";position: absolute;border-left: 1px solid gray;box-sizing: border-box;top: 0;bottom: 0;left: 50%;z-index: 0;}#sk-container-id-1 div.sk-serial {display: flex;flex-direction: column;align-items: center;background-color: white;padding-right: 0.2em;padding-left: 0.2em;position: relative;}#sk-container-id-1 div.sk-item {position: relative;z-index: 1;}#sk-container-id-1 div.sk-parallel {display: flex;align-items: stretch;justify-content: center;background-color: white;position: relative;}#sk-container-id-1 div.sk-item::before, #sk-container-id-1 div.sk-parallel-item::before {content: \"\";position: absolute;border-left: 1px solid gray;box-sizing: border-box;top: 0;bottom: 0;left: 50%;z-index: -1;}#sk-container-id-1 div.sk-parallel-item {display: flex;flex-direction: column;z-index: 1;position: relative;background-color: white;}#sk-container-id-1 div.sk-parallel-item:first-child::after {align-self: flex-end;width: 50%;}#sk-container-id-1 div.sk-parallel-item:last-child::after {align-self: flex-start;width: 50%;}#sk-container-id-1 div.sk-parallel-item:only-child::after {width: 0;}#sk-container-id-1 div.sk-dashed-wrapped {border: 1px dashed gray;margin: 0 0.4em 0.5em 0.4em;box-sizing: border-box;padding-bottom: 0.4em;background-color: white;}#sk-container-id-1 div.sk-label label {font-family: monospace;font-weight: bold;display: inline-block;line-height: 1.2em;}#sk-container-id-1 div.sk-label-container {text-align: center;}#sk-container-id-1 div.sk-container {/* jupyter's `normalize.less` sets `[hidden] { display: none; }` but bootstrap.min.css set `[hidden] { display: none !important; }` so we also need the `!important` here to be able to override the default hidden behavior on the sphinx rendered scikit-learn.org. See: https://github.com/scikit-learn/scikit-learn/issues/21755 */display: inline-block !important;position: relative;}#sk-container-id-1 div.sk-text-repr-fallback {display: none;}</style><div id=\"sk-container-id-1\" class=\"sk-top-container\"><div class=\"sk-text-repr-fallback\"><pre>ColumnTransformer(transformers=[(&#x27;numerical&#x27;, &#x27;passthrough&#x27;,\n",
       "                                 Index([&#x27;age_approx&#x27;, &#x27;clin_size_long_diam_mm&#x27;, &#x27;tbp_lv_A&#x27;, &#x27;tbp_lv_Aext&#x27;,\n",
       "       &#x27;tbp_lv_B&#x27;, &#x27;tbp_lv_Bext&#x27;, &#x27;tbp_lv_C&#x27;, &#x27;tbp_lv_Cext&#x27;, &#x27;tbp_lv_H&#x27;,\n",
       "       &#x27;tbp_lv_Hext&#x27;, &#x27;tbp_lv_L&#x27;, &#x27;tbp_lv_Lext&#x27;, &#x27;tbp_lv_areaMM2&#x27;,\n",
       "       &#x27;tbp_lv_area_perim_ratio&#x27;, &#x27;tbp_lv_color_std_mean&#x27;, &#x27;tbp_lv_deltaA&#x27;,\n",
       "       &#x27;tbp_lv_deltaB&#x27;, &#x27;tbp_lv_deltaL&#x27;, &#x27;tbp_l...\n",
       "       &#x27;tbp_lv_stdLExt&#x27;, &#x27;tbp_lv_symm_2axis&#x27;, &#x27;tbp_lv_symm_2axis_angle&#x27;,\n",
       "       &#x27;tbp_lv_x&#x27;, &#x27;tbp_lv_y&#x27;, &#x27;tbp_lv_z&#x27;],\n",
       "      dtype=&#x27;object&#x27;)),\n",
       "                                (&#x27;categorical&#x27;,\n",
       "                                 OrdinalEncoder(dtype=&lt;class &#x27;int&#x27;&gt;,\n",
       "                                                encoded_missing_value=-1,\n",
       "                                                handle_unknown=&#x27;use_encoded_value&#x27;,\n",
       "                                                unknown_value=-2),\n",
       "                                 [&#x27;sex&#x27;, &#x27;anatom_site_general&#x27;, &#x27;tbp_tile_type&#x27;,\n",
       "                                  &#x27;tbp_lv_location&#x27;, &#x27;tbp_lv_location_simple&#x27;,\n",
       "                                  &#x27;attribution&#x27;, &#x27;copyright_license&#x27;])],\n",
       "                  verbose_feature_names_out=False)</pre><b>In a Jupyter environment, please rerun this cell to show the HTML representation or trust the notebook. <br />On GitHub, the HTML representation is unable to render, please try loading this page with nbviewer.org.</b></div><div class=\"sk-container\" hidden><div class=\"sk-item sk-dashed-wrapped\"><div class=\"sk-label-container\"><div class=\"sk-label sk-toggleable\"><input class=\"sk-toggleable__control sk-hidden--visually\" id=\"sk-estimator-id-1\" type=\"checkbox\" ><label for=\"sk-estimator-id-1\" class=\"sk-toggleable__label sk-toggleable__label-arrow\">ColumnTransformer</label><div class=\"sk-toggleable__content\"><pre>ColumnTransformer(transformers=[(&#x27;numerical&#x27;, &#x27;passthrough&#x27;,\n",
       "                                 Index([&#x27;age_approx&#x27;, &#x27;clin_size_long_diam_mm&#x27;, &#x27;tbp_lv_A&#x27;, &#x27;tbp_lv_Aext&#x27;,\n",
       "       &#x27;tbp_lv_B&#x27;, &#x27;tbp_lv_Bext&#x27;, &#x27;tbp_lv_C&#x27;, &#x27;tbp_lv_Cext&#x27;, &#x27;tbp_lv_H&#x27;,\n",
       "       &#x27;tbp_lv_Hext&#x27;, &#x27;tbp_lv_L&#x27;, &#x27;tbp_lv_Lext&#x27;, &#x27;tbp_lv_areaMM2&#x27;,\n",
       "       &#x27;tbp_lv_area_perim_ratio&#x27;, &#x27;tbp_lv_color_std_mean&#x27;, &#x27;tbp_lv_deltaA&#x27;,\n",
       "       &#x27;tbp_lv_deltaB&#x27;, &#x27;tbp_lv_deltaL&#x27;, &#x27;tbp_l...\n",
       "       &#x27;tbp_lv_stdLExt&#x27;, &#x27;tbp_lv_symm_2axis&#x27;, &#x27;tbp_lv_symm_2axis_angle&#x27;,\n",
       "       &#x27;tbp_lv_x&#x27;, &#x27;tbp_lv_y&#x27;, &#x27;tbp_lv_z&#x27;],\n",
       "      dtype=&#x27;object&#x27;)),\n",
       "                                (&#x27;categorical&#x27;,\n",
       "                                 OrdinalEncoder(dtype=&lt;class &#x27;int&#x27;&gt;,\n",
       "                                                encoded_missing_value=-1,\n",
       "                                                handle_unknown=&#x27;use_encoded_value&#x27;,\n",
       "                                                unknown_value=-2),\n",
       "                                 [&#x27;sex&#x27;, &#x27;anatom_site_general&#x27;, &#x27;tbp_tile_type&#x27;,\n",
       "                                  &#x27;tbp_lv_location&#x27;, &#x27;tbp_lv_location_simple&#x27;,\n",
       "                                  &#x27;attribution&#x27;, &#x27;copyright_license&#x27;])],\n",
       "                  verbose_feature_names_out=False)</pre></div></div></div><div class=\"sk-parallel\"><div class=\"sk-parallel-item\"><div class=\"sk-item\"><div class=\"sk-label-container\"><div class=\"sk-label sk-toggleable\"><input class=\"sk-toggleable__control sk-hidden--visually\" id=\"sk-estimator-id-2\" type=\"checkbox\" ><label for=\"sk-estimator-id-2\" class=\"sk-toggleable__label sk-toggleable__label-arrow\">numerical</label><div class=\"sk-toggleable__content\"><pre>Index([&#x27;age_approx&#x27;, &#x27;clin_size_long_diam_mm&#x27;, &#x27;tbp_lv_A&#x27;, &#x27;tbp_lv_Aext&#x27;,\n",
       "       &#x27;tbp_lv_B&#x27;, &#x27;tbp_lv_Bext&#x27;, &#x27;tbp_lv_C&#x27;, &#x27;tbp_lv_Cext&#x27;, &#x27;tbp_lv_H&#x27;,\n",
       "       &#x27;tbp_lv_Hext&#x27;, &#x27;tbp_lv_L&#x27;, &#x27;tbp_lv_Lext&#x27;, &#x27;tbp_lv_areaMM2&#x27;,\n",
       "       &#x27;tbp_lv_area_perim_ratio&#x27;, &#x27;tbp_lv_color_std_mean&#x27;, &#x27;tbp_lv_deltaA&#x27;,\n",
       "       &#x27;tbp_lv_deltaB&#x27;, &#x27;tbp_lv_deltaL&#x27;, &#x27;tbp_lv_deltaLB&#x27;,\n",
       "       &#x27;tbp_lv_deltaLBnorm&#x27;, &#x27;tbp_lv_eccentricity&#x27;, &#x27;tbp_lv_minorAxisMM&#x27;,\n",
       "       &#x27;tbp_lv_nevi_confidence&#x27;, &#x27;tbp_lv_norm_border&#x27;, &#x27;tbp_lv_norm_color&#x27;,\n",
       "       &#x27;tbp_lv_perimeterMM&#x27;, &#x27;tbp_lv_radial_color_std_max&#x27;, &#x27;tbp_lv_stdL&#x27;,\n",
       "       &#x27;tbp_lv_stdLExt&#x27;, &#x27;tbp_lv_symm_2axis&#x27;, &#x27;tbp_lv_symm_2axis_angle&#x27;,\n",
       "       &#x27;tbp_lv_x&#x27;, &#x27;tbp_lv_y&#x27;, &#x27;tbp_lv_z&#x27;],\n",
       "      dtype=&#x27;object&#x27;)</pre></div></div></div><div class=\"sk-serial\"><div class=\"sk-item\"><div class=\"sk-estimator sk-toggleable\"><input class=\"sk-toggleable__control sk-hidden--visually\" id=\"sk-estimator-id-3\" type=\"checkbox\" ><label for=\"sk-estimator-id-3\" class=\"sk-toggleable__label sk-toggleable__label-arrow\">passthrough</label><div class=\"sk-toggleable__content\"><pre>passthrough</pre></div></div></div></div></div></div><div class=\"sk-parallel-item\"><div class=\"sk-item\"><div class=\"sk-label-container\"><div class=\"sk-label sk-toggleable\"><input class=\"sk-toggleable__control sk-hidden--visually\" id=\"sk-estimator-id-4\" type=\"checkbox\" ><label for=\"sk-estimator-id-4\" class=\"sk-toggleable__label sk-toggleable__label-arrow\">categorical</label><div class=\"sk-toggleable__content\"><pre>[&#x27;sex&#x27;, &#x27;anatom_site_general&#x27;, &#x27;tbp_tile_type&#x27;, &#x27;tbp_lv_location&#x27;, &#x27;tbp_lv_location_simple&#x27;, &#x27;attribution&#x27;, &#x27;copyright_license&#x27;]</pre></div></div></div><div class=\"sk-serial\"><div class=\"sk-item\"><div class=\"sk-estimator sk-toggleable\"><input class=\"sk-toggleable__control sk-hidden--visually\" id=\"sk-estimator-id-5\" type=\"checkbox\" ><label for=\"sk-estimator-id-5\" class=\"sk-toggleable__label sk-toggleable__label-arrow\">OrdinalEncoder</label><div class=\"sk-toggleable__content\"><pre>OrdinalEncoder(dtype=&lt;class &#x27;int&#x27;&gt;, encoded_missing_value=-1,\n",
       "               handle_unknown=&#x27;use_encoded_value&#x27;, unknown_value=-2)</pre></div></div></div></div></div></div></div></div></div></div>"
      ],
      "text/plain": [
       "ColumnTransformer(transformers=[('numerical', 'passthrough',\n",
       "                                 Index(['age_approx', 'clin_size_long_diam_mm', 'tbp_lv_A', 'tbp_lv_Aext',\n",
       "       'tbp_lv_B', 'tbp_lv_Bext', 'tbp_lv_C', 'tbp_lv_Cext', 'tbp_lv_H',\n",
       "       'tbp_lv_Hext', 'tbp_lv_L', 'tbp_lv_Lext', 'tbp_lv_areaMM2',\n",
       "       'tbp_lv_area_perim_ratio', 'tbp_lv_color_std_mean', 'tbp_lv_deltaA',\n",
       "       'tbp_lv_deltaB', 'tbp_lv_deltaL', 'tbp_l...\n",
       "       'tbp_lv_stdLExt', 'tbp_lv_symm_2axis', 'tbp_lv_symm_2axis_angle',\n",
       "       'tbp_lv_x', 'tbp_lv_y', 'tbp_lv_z'],\n",
       "      dtype='object')),\n",
       "                                ('categorical',\n",
       "                                 OrdinalEncoder(dtype=<class 'int'>,\n",
       "                                                encoded_missing_value=-1,\n",
       "                                                handle_unknown='use_encoded_value',\n",
       "                                                unknown_value=-2),\n",
       "                                 ['sex', 'anatom_site_general', 'tbp_tile_type',\n",
       "                                  'tbp_lv_location', 'tbp_lv_location_simple',\n",
       "                                  'attribution', 'copyright_license'])],\n",
       "                  verbose_feature_names_out=False)"
      ]
     },
     "execution_count": 7,
     "metadata": {},
     "output_type": "execute_result"
    }
   ],
   "source": [
    "mixed_encoded_preprocessor = ColumnTransformer(\n",
    "    [\n",
    "        (\"numerical\", \"passthrough\", numerical_features),\n",
    "        (\n",
    "            \"categorical\",\n",
    "            OrdinalEncoder(handle_unknown=\"use_encoded_value\", unknown_value=-2, encoded_missing_value=-1, dtype=int),\n",
    "            categorical_features,\n",
    "        ),\n",
    "    ],\n",
    "    verbose_feature_names_out=False,\n",
    "\n",
    ")\n",
    "mixed_encoded_preprocessor.set_output(transform=\"pandas\")"
   ]
  },
  {
   "cell_type": "code",
   "execution_count": 8,
   "id": "a1643d40",
   "metadata": {
    "execution": {
     "iopub.execute_input": "2024-07-12T19:12:25.251626Z",
     "iopub.status.busy": "2024-07-12T19:12:25.251234Z",
     "iopub.status.idle": "2024-07-12T19:12:25.259049Z",
     "shell.execute_reply": "2024-07-12T19:12:25.257442Z"
    },
    "papermill": {
     "duration": 0.020057,
     "end_time": "2024-07-12T19:12:25.261857",
     "exception": false,
     "start_time": "2024-07-12T19:12:25.241800",
     "status": "completed"
    },
    "tags": []
   },
   "outputs": [],
   "source": [
    "with open(\"encoder.joblib\", \"wb\") as f:\n",
    "    joblib.dump(mixed_encoded_preprocessor, f)"
   ]
  },
  {
   "cell_type": "code",
   "execution_count": 9,
   "id": "bdbf3855",
   "metadata": {
    "execution": {
     "iopub.execute_input": "2024-07-12T19:12:25.280290Z",
     "iopub.status.busy": "2024-07-12T19:12:25.279317Z",
     "iopub.status.idle": "2024-07-12T19:12:27.120873Z",
     "shell.execute_reply": "2024-07-12T19:12:27.119712Z"
    },
    "papermill": {
     "duration": 1.853931,
     "end_time": "2024-07-12T19:12:27.123968",
     "exception": false,
     "start_time": "2024-07-12T19:12:25.270037",
     "status": "completed"
    },
    "tags": []
   },
   "outputs": [],
   "source": [
    "train_ids = train_metadata[id_column]\n",
    "groups = train_metadata[group_column]\n",
    "folds = train_metadata[\"fold\"]\n",
    "\n",
    "enc = mixed_encoded_preprocessor.fit(train_metadata)\n",
    "X_train = enc.transform(train_metadata)\n",
    "y_train = train_metadata[target_column]"
   ]
  },
  {
   "cell_type": "code",
   "execution_count": 10,
   "id": "651e1e4e",
   "metadata": {
    "execution": {
     "iopub.execute_input": "2024-07-12T19:12:27.141986Z",
     "iopub.status.busy": "2024-07-12T19:12:27.141561Z",
     "iopub.status.idle": "2024-07-12T19:12:27.147536Z",
     "shell.execute_reply": "2024-07-12T19:12:27.146292Z"
    },
    "papermill": {
     "duration": 0.018701,
     "end_time": "2024-07-12T19:12:27.150866",
     "exception": false,
     "start_time": "2024-07-12T19:12:27.132165",
     "status": "completed"
    },
    "tags": []
   },
   "outputs": [
    {
     "name": "stdout",
     "output_type": "stream",
     "text": [
      "Total number of columns: 41\n"
     ]
    }
   ],
   "source": [
    "columns_for_model = len(X_train.columns)\n",
    "print(f\"Total number of columns: {columns_for_model}\")"
   ]
  },
  {
   "cell_type": "code",
   "execution_count": 11,
   "id": "918955e9",
   "metadata": {
    "execution": {
     "iopub.execute_input": "2024-07-12T19:12:27.168964Z",
     "iopub.status.busy": "2024-07-12T19:12:27.168560Z",
     "iopub.status.idle": "2024-07-12T19:12:27.174370Z",
     "shell.execute_reply": "2024-07-12T19:12:27.173244Z"
    },
    "papermill": {
     "duration": 0.017931,
     "end_time": "2024-07-12T19:12:27.176966",
     "exception": false,
     "start_time": "2024-07-12T19:12:27.159035",
     "status": "completed"
    },
    "tags": []
   },
   "outputs": [],
   "source": [
    "def pauc_80(preds, data):\n",
    "    score_value = compute_pauc(data.get_label(), preds, min_tpr=0.8)   \n",
    "    return 'pauc_80', score_value, True"
   ]
  },
  {
   "cell_type": "code",
   "execution_count": 12,
   "id": "c2d8e1d8",
   "metadata": {
    "execution": {
     "iopub.execute_input": "2024-07-12T19:12:27.196385Z",
     "iopub.status.busy": "2024-07-12T19:12:27.196003Z",
     "iopub.status.idle": "2024-07-12T19:12:27.202616Z",
     "shell.execute_reply": "2024-07-12T19:12:27.201386Z"
    },
    "papermill": {
     "duration": 0.019532,
     "end_time": "2024-07-12T19:12:27.205204",
     "exception": false,
     "start_time": "2024-07-12T19:12:27.185672",
     "status": "completed"
    },
    "tags": []
   },
   "outputs": [],
   "source": [
    "params = {\n",
    "    \"objective\": \"binary\",\n",
    "    \"metric\": \"auc\",\n",
    "    \"num_leaves\": 63,\n",
    "    \"learning_rate\": 0.01,\n",
    "    \"bagging_freq\": 5,\n",
    "    \"bagging_fraction\": 0.6,\n",
    "    \"bagging_seed\": cfg.seed,\n",
    "    \"feature_fraction\": 0.3,\n",
    "    \"feature_fraction_seed\": cfg.seed,\n",
    "    \"lambda_l1\": 0.95,\n",
    "    \"lambda_l2\": 0.95,\n",
    "    \"verbosity\": -1\n",
    "}\n",
    "num_rounds = 2500\n",
    "es_rounds = 200\n",
    "log_rounds = 50"
   ]
  },
  {
   "cell_type": "code",
   "execution_count": 13,
   "id": "d130b567",
   "metadata": {
    "execution": {
     "iopub.execute_input": "2024-07-12T19:12:27.223391Z",
     "iopub.status.busy": "2024-07-12T19:12:27.223012Z",
     "iopub.status.idle": "2024-07-12T19:18:33.098847Z",
     "shell.execute_reply": "2024-07-12T19:18:33.097350Z"
    },
    "papermill": {
     "duration": 365.887912,
     "end_time": "2024-07-12T19:18:33.101504",
     "exception": false,
     "start_time": "2024-07-12T19:12:27.213592",
     "status": "completed"
    },
    "tags": []
   },
   "outputs": [
    {
     "name": "stdout",
     "output_type": "stream",
     "text": [
      "Running fold: 1\n",
      "[LightGBM] [Warning] Met negative value in categorical features, will convert it to NaN\n",
      "[LightGBM] [Warning] Met negative value in categorical features, will convert it to NaN\n",
      "Training until validation scores don't improve for 200 rounds\n",
      "[50]\tvalid_0's auc: 0.93506\tvalid_0's pauc_80: 0.151442\n",
      "[100]\tvalid_0's auc: 0.937339\tvalid_0's pauc_80: 0.151539\n",
      "[150]\tvalid_0's auc: 0.941225\tvalid_0's pauc_80: 0.153939\n",
      "[200]\tvalid_0's auc: 0.945253\tvalid_0's pauc_80: 0.157857\n",
      "[250]\tvalid_0's auc: 0.946967\tvalid_0's pauc_80: 0.159104\n",
      "[300]\tvalid_0's auc: 0.948597\tvalid_0's pauc_80: 0.160563\n",
      "[350]\tvalid_0's auc: 0.949351\tvalid_0's pauc_80: 0.161139\n",
      "[400]\tvalid_0's auc: 0.950251\tvalid_0's pauc_80: 0.161862\n",
      "[450]\tvalid_0's auc: 0.950621\tvalid_0's pauc_80: 0.162116\n",
      "[500]\tvalid_0's auc: 0.951087\tvalid_0's pauc_80: 0.162527\n",
      "[550]\tvalid_0's auc: 0.951961\tvalid_0's pauc_80: 0.163313\n",
      "[600]\tvalid_0's auc: 0.952254\tvalid_0's pauc_80: 0.163547\n",
      "[650]\tvalid_0's auc: 0.952461\tvalid_0's pauc_80: 0.16372\n",
      "[700]\tvalid_0's auc: 0.952715\tvalid_0's pauc_80: 0.163854\n",
      "[750]\tvalid_0's auc: 0.952938\tvalid_0's pauc_80: 0.163925\n",
      "[800]\tvalid_0's auc: 0.952689\tvalid_0's pauc_80: 0.1637\n",
      "[850]\tvalid_0's auc: 0.952715\tvalid_0's pauc_80: 0.163779\n",
      "[900]\tvalid_0's auc: 0.952739\tvalid_0's pauc_80: 0.16373\n",
      "Early stopping, best iteration is:\n",
      "[713]\tvalid_0's auc: 0.953032\tvalid_0's pauc_80: 0.164115\n",
      "\n",
      "\n",
      "Running fold: 2\n",
      "[LightGBM] [Warning] Met negative value in categorical features, will convert it to NaN\n",
      "[LightGBM] [Warning] Met negative value in categorical features, will convert it to NaN\n",
      "Training until validation scores don't improve for 200 rounds\n",
      "[50]\tvalid_0's auc: 0.93013\tvalid_0's pauc_80: 0.147132\n",
      "[100]\tvalid_0's auc: 0.931933\tvalid_0's pauc_80: 0.147111\n",
      "[150]\tvalid_0's auc: 0.934731\tvalid_0's pauc_80: 0.149807\n",
      "[200]\tvalid_0's auc: 0.9368\tvalid_0's pauc_80: 0.151252\n",
      "[250]\tvalid_0's auc: 0.939296\tvalid_0's pauc_80: 0.153672\n",
      "[300]\tvalid_0's auc: 0.94063\tvalid_0's pauc_80: 0.154871\n",
      "[350]\tvalid_0's auc: 0.941947\tvalid_0's pauc_80: 0.156008\n",
      "[400]\tvalid_0's auc: 0.942906\tvalid_0's pauc_80: 0.156837\n",
      "[450]\tvalid_0's auc: 0.943621\tvalid_0's pauc_80: 0.157558\n",
      "[500]\tvalid_0's auc: 0.943457\tvalid_0's pauc_80: 0.157409\n",
      "[550]\tvalid_0's auc: 0.945128\tvalid_0's pauc_80: 0.159075\n",
      "[600]\tvalid_0's auc: 0.94623\tvalid_0's pauc_80: 0.15997\n",
      "[650]\tvalid_0's auc: 0.947463\tvalid_0's pauc_80: 0.160964\n",
      "[700]\tvalid_0's auc: 0.947582\tvalid_0's pauc_80: 0.160958\n",
      "[750]\tvalid_0's auc: 0.947433\tvalid_0's pauc_80: 0.160857\n",
      "[800]\tvalid_0's auc: 0.948127\tvalid_0's pauc_80: 0.161547\n",
      "[850]\tvalid_0's auc: 0.947957\tvalid_0's pauc_80: 0.16135\n",
      "[900]\tvalid_0's auc: 0.947679\tvalid_0's pauc_80: 0.161218\n",
      "[950]\tvalid_0's auc: 0.947496\tvalid_0's pauc_80: 0.160958\n",
      "[1000]\tvalid_0's auc: 0.947617\tvalid_0's pauc_80: 0.160997\n",
      "[1050]\tvalid_0's auc: 0.947328\tvalid_0's pauc_80: 0.160827\n",
      "Early stopping, best iteration is:\n",
      "[871]\tvalid_0's auc: 0.948178\tvalid_0's pauc_80: 0.161635\n",
      "\n",
      "\n",
      "Running fold: 3\n",
      "[LightGBM] [Warning] Met negative value in categorical features, will convert it to NaN\n",
      "[LightGBM] [Warning] Met negative value in categorical features, will convert it to NaN\n",
      "Training until validation scores don't improve for 200 rounds\n",
      "[50]\tvalid_0's auc: 0.941425\tvalid_0's pauc_80: 0.153689\n",
      "[100]\tvalid_0's auc: 0.940355\tvalid_0's pauc_80: 0.151951\n",
      "[150]\tvalid_0's auc: 0.941133\tvalid_0's pauc_80: 0.152339\n",
      "[200]\tvalid_0's auc: 0.94023\tvalid_0's pauc_80: 0.151249\n",
      "Early stopping, best iteration is:\n",
      "[40]\tvalid_0's auc: 0.942408\tvalid_0's pauc_80: 0.155296\n",
      "\n",
      "\n",
      "Running fold: 4\n",
      "[LightGBM] [Warning] Met negative value in categorical features, will convert it to NaN\n",
      "[LightGBM] [Warning] Met negative value in categorical features, will convert it to NaN\n",
      "Training until validation scores don't improve for 200 rounds\n",
      "[50]\tvalid_0's auc: 0.944326\tvalid_0's pauc_80: 0.152669\n",
      "[100]\tvalid_0's auc: 0.947573\tvalid_0's pauc_80: 0.155263\n",
      "[150]\tvalid_0's auc: 0.947865\tvalid_0's pauc_80: 0.155106\n",
      "[200]\tvalid_0's auc: 0.94936\tvalid_0's pauc_80: 0.156402\n",
      "[250]\tvalid_0's auc: 0.952287\tvalid_0's pauc_80: 0.159166\n",
      "[300]\tvalid_0's auc: 0.953649\tvalid_0's pauc_80: 0.160353\n",
      "[350]\tvalid_0's auc: 0.955383\tvalid_0's pauc_80: 0.161928\n",
      "[400]\tvalid_0's auc: 0.956239\tvalid_0's pauc_80: 0.162787\n",
      "[450]\tvalid_0's auc: 0.956798\tvalid_0's pauc_80: 0.163357\n",
      "[500]\tvalid_0's auc: 0.957108\tvalid_0's pauc_80: 0.163706\n",
      "[550]\tvalid_0's auc: 0.956901\tvalid_0's pauc_80: 0.163448\n",
      "[600]\tvalid_0's auc: 0.957539\tvalid_0's pauc_80: 0.164096\n",
      "[650]\tvalid_0's auc: 0.958248\tvalid_0's pauc_80: 0.164683\n",
      "[700]\tvalid_0's auc: 0.958812\tvalid_0's pauc_80: 0.165267\n",
      "[750]\tvalid_0's auc: 0.959117\tvalid_0's pauc_80: 0.16562\n",
      "[800]\tvalid_0's auc: 0.959353\tvalid_0's pauc_80: 0.16594\n",
      "[850]\tvalid_0's auc: 0.959945\tvalid_0's pauc_80: 0.166456\n",
      "[900]\tvalid_0's auc: 0.960826\tvalid_0's pauc_80: 0.167352\n",
      "[950]\tvalid_0's auc: 0.961158\tvalid_0's pauc_80: 0.167674\n",
      "[1000]\tvalid_0's auc: 0.961834\tvalid_0's pauc_80: 0.168339\n",
      "[1050]\tvalid_0's auc: 0.961934\tvalid_0's pauc_80: 0.168564\n",
      "[1100]\tvalid_0's auc: 0.961949\tvalid_0's pauc_80: 0.168583\n",
      "[1150]\tvalid_0's auc: 0.962026\tvalid_0's pauc_80: 0.168646\n",
      "[1200]\tvalid_0's auc: 0.961964\tvalid_0's pauc_80: 0.168609\n",
      "[1250]\tvalid_0's auc: 0.962405\tvalid_0's pauc_80: 0.16902\n",
      "[1300]\tvalid_0's auc: 0.962182\tvalid_0's pauc_80: 0.168896\n",
      "[1350]\tvalid_0's auc: 0.962417\tvalid_0's pauc_80: 0.169152\n",
      "[1400]\tvalid_0's auc: 0.962204\tvalid_0's pauc_80: 0.16889\n",
      "[1450]\tvalid_0's auc: 0.962304\tvalid_0's pauc_80: 0.169014\n",
      "[1500]\tvalid_0's auc: 0.962394\tvalid_0's pauc_80: 0.169132\n",
      "[1550]\tvalid_0's auc: 0.962394\tvalid_0's pauc_80: 0.169168\n",
      "[1600]\tvalid_0's auc: 0.96269\tvalid_0's pauc_80: 0.169511\n",
      "[1650]\tvalid_0's auc: 0.962722\tvalid_0's pauc_80: 0.169572\n",
      "[1700]\tvalid_0's auc: 0.962618\tvalid_0's pauc_80: 0.169518\n",
      "[1750]\tvalid_0's auc: 0.96263\tvalid_0's pauc_80: 0.169539\n",
      "[1800]\tvalid_0's auc: 0.96252\tvalid_0's pauc_80: 0.169379\n",
      "Early stopping, best iteration is:\n",
      "[1638]\tvalid_0's auc: 0.962833\tvalid_0's pauc_80: 0.169665\n",
      "\n",
      "\n",
      "Running fold: 5\n",
      "[LightGBM] [Warning] Met negative value in categorical features, will convert it to NaN\n",
      "[LightGBM] [Warning] Met negative value in categorical features, will convert it to NaN\n",
      "Training until validation scores don't improve for 200 rounds\n",
      "[50]\tvalid_0's auc: 0.940265\tvalid_0's pauc_80: 0.157264\n",
      "[100]\tvalid_0's auc: 0.944233\tvalid_0's pauc_80: 0.159701\n",
      "[150]\tvalid_0's auc: 0.945473\tvalid_0's pauc_80: 0.160615\n",
      "[200]\tvalid_0's auc: 0.94586\tvalid_0's pauc_80: 0.160997\n",
      "[250]\tvalid_0's auc: 0.946958\tvalid_0's pauc_80: 0.161426\n",
      "[300]\tvalid_0's auc: 0.948432\tvalid_0's pauc_80: 0.162425\n",
      "[350]\tvalid_0's auc: 0.949486\tvalid_0's pauc_80: 0.16273\n",
      "[400]\tvalid_0's auc: 0.949914\tvalid_0's pauc_80: 0.162688\n",
      "[450]\tvalid_0's auc: 0.950301\tvalid_0's pauc_80: 0.162833\n",
      "[500]\tvalid_0's auc: 0.949921\tvalid_0's pauc_80: 0.162193\n",
      "[550]\tvalid_0's auc: 0.949695\tvalid_0's pauc_80: 0.161845\n",
      "[600]\tvalid_0's auc: 0.949691\tvalid_0's pauc_80: 0.161408\n",
      "Early stopping, best iteration is:\n",
      "[438]\tvalid_0's auc: 0.95057\tvalid_0's pauc_80: 0.163171\n",
      "\n",
      "\n"
     ]
    }
   ],
   "source": [
    "best_num_rounds = {}\n",
    "val_auc_scores = {}\n",
    "val_pauc_scores = {}\n",
    "all_folds = np.sort(folds.unique())\n",
    "oof_predictions = np.zeros(X_train.shape[0])\n",
    "for fold in all_folds:\n",
    "    print(f\"Running fold: {fold}\")\n",
    "    dev_index = folds != fold\n",
    "    val_index = folds == fold\n",
    "    \n",
    "    X_dev = X_train.loc[dev_index, :]\n",
    "    y_dev = y_train[dev_index]\n",
    "    \n",
    "    X_val = X_train.loc[val_index, :]\n",
    "    y_val = y_train[val_index]\n",
    "    \n",
    "    lgb_dataset_dev = lgb.Dataset(X_dev, label=y_dev, categorical_feature=categorical_features, free_raw_data=False)\n",
    "    lgb_dataset_val = lgb.Dataset(X_val, label=y_val, categorical_feature=categorical_features, free_raw_data=False)\n",
    "    \n",
    "    model = lgb.train(\n",
    "        params,\n",
    "        lgb_dataset_dev,\n",
    "        num_boost_round=num_rounds,\n",
    "        valid_sets=[lgb_dataset_val],\n",
    "        feval=pauc_80,\n",
    "        callbacks=[early_stopping(stopping_rounds=es_rounds), log_evaluation(log_rounds)],\n",
    "    )\n",
    "    \n",
    "    model.save_model(MODELS_OUTPUT_PATH / f\"{cfg.model_name}_fold_{fold}.txt\")\n",
    "    best_num_rounds[f\"fold_{fold}\"] = model.best_iteration\n",
    "    val_scores = dict(model.best_score[\"valid_0\"])\n",
    "    \n",
    "    val_auc_scores[f\"fold_{fold}\"] = val_scores[\"auc\"]\n",
    "    val_pauc_scores[f\"fold_{fold}\"] = val_scores[\"pauc_80\"]\n",
    "    \n",
    "    val_preds = model.predict(X_val, num_iteration=model.best_iteration)\n",
    "    oof_predictions[val_index] = val_preds\n",
    "    print(\"\\n\")"
   ]
  },
  {
   "cell_type": "code",
   "execution_count": 14,
   "id": "66999dc6",
   "metadata": {
    "execution": {
     "iopub.execute_input": "2024-07-12T19:18:33.139951Z",
     "iopub.status.busy": "2024-07-12T19:18:33.139536Z",
     "iopub.status.idle": "2024-07-12T19:18:35.533455Z",
     "shell.execute_reply": "2024-07-12T19:18:35.532348Z"
    },
    "papermill": {
     "duration": 2.416441,
     "end_time": "2024-07-12T19:18:35.536327",
     "exception": false,
     "start_time": "2024-07-12T19:18:33.119886",
     "status": "completed"
    },
    "tags": []
   },
   "outputs": [
    {
     "data": {
      "text/html": [
       "<div>\n",
       "<style scoped>\n",
       "    .dataframe tbody tr th:only-of-type {\n",
       "        vertical-align: middle;\n",
       "    }\n",
       "\n",
       "    .dataframe tbody tr th {\n",
       "        vertical-align: top;\n",
       "    }\n",
       "\n",
       "    .dataframe thead th {\n",
       "        text-align: right;\n",
       "    }\n",
       "</style>\n",
       "<table border=\"1\" class=\"dataframe\">\n",
       "  <thead>\n",
       "    <tr style=\"text-align: right;\">\n",
       "      <th></th>\n",
       "      <th>isic_id</th>\n",
       "      <th>patient_id</th>\n",
       "      <th>fold</th>\n",
       "      <th>final_target</th>\n",
       "      <th>oof_lgb_v1</th>\n",
       "    </tr>\n",
       "  </thead>\n",
       "  <tbody>\n",
       "    <tr>\n",
       "      <th>0</th>\n",
       "      <td>ISIC_0015670</td>\n",
       "      <td>IP_1235828</td>\n",
       "      <td>4</td>\n",
       "      <td>0</td>\n",
       "      <td>0.000031</td>\n",
       "    </tr>\n",
       "    <tr>\n",
       "      <th>1</th>\n",
       "      <td>ISIC_0015845</td>\n",
       "      <td>IP_8170065</td>\n",
       "      <td>1</td>\n",
       "      <td>0</td>\n",
       "      <td>0.517284</td>\n",
       "    </tr>\n",
       "    <tr>\n",
       "      <th>2</th>\n",
       "      <td>ISIC_0015864</td>\n",
       "      <td>IP_6724798</td>\n",
       "      <td>5</td>\n",
       "      <td>0</td>\n",
       "      <td>0.000111</td>\n",
       "    </tr>\n",
       "    <tr>\n",
       "      <th>3</th>\n",
       "      <td>ISIC_0015902</td>\n",
       "      <td>IP_4111386</td>\n",
       "      <td>2</td>\n",
       "      <td>0</td>\n",
       "      <td>0.000072</td>\n",
       "    </tr>\n",
       "    <tr>\n",
       "      <th>4</th>\n",
       "      <td>ISIC_0024200</td>\n",
       "      <td>IP_8313778</td>\n",
       "      <td>1</td>\n",
       "      <td>0</td>\n",
       "      <td>0.000566</td>\n",
       "    </tr>\n",
       "  </tbody>\n",
       "</table>\n",
       "</div>"
      ],
      "text/plain": [
       "        isic_id  patient_id  fold  final_target  oof_lgb_v1\n",
       "0  ISIC_0015670  IP_1235828     4             0    0.000031\n",
       "1  ISIC_0015845  IP_8170065     1             0    0.517284\n",
       "2  ISIC_0015864  IP_6724798     5             0    0.000111\n",
       "3  ISIC_0015902  IP_4111386     2             0    0.000072\n",
       "4  ISIC_0024200  IP_8313778     1             0    0.000566"
      ]
     },
     "execution_count": 14,
     "metadata": {},
     "output_type": "execute_result"
    }
   ],
   "source": [
    "oof_preds_df = pd.DataFrame({\n",
    "    id_column: train_ids,\n",
    "    group_column: groups,\n",
    "    \"fold\": folds,\n",
    "    target_column: y_train,\n",
    "    f\"oof_{cfg.model_name}\": oof_predictions\n",
    "})\n",
    "oof_preds_df.to_csv(f\"oof_preds_{cfg.model_name}.csv\")\n",
    "oof_preds_df.head()"
   ]
  },
  {
   "cell_type": "code",
   "execution_count": 15,
   "id": "e4390f07",
   "metadata": {
    "execution": {
     "iopub.execute_input": "2024-07-12T19:18:35.574917Z",
     "iopub.status.busy": "2024-07-12T19:18:35.574494Z",
     "iopub.status.idle": "2024-07-12T19:18:35.582194Z",
     "shell.execute_reply": "2024-07-12T19:18:35.581054Z"
    },
    "papermill": {
     "duration": 0.029875,
     "end_time": "2024-07-12T19:18:35.584629",
     "exception": false,
     "start_time": "2024-07-12T19:18:35.554754",
     "status": "completed"
    },
    "tags": []
   },
   "outputs": [
    {
     "data": {
      "text/plain": [
       "{'fold_1': 0.9530323801010251,\n",
       " 'fold_2': 0.9481783077447838,\n",
       " 'fold_3': 0.9424079788096991,\n",
       " 'fold_4': 0.9628327363941546,\n",
       " 'fold_5': 0.9505696779104739}"
      ]
     },
     "execution_count": 15,
     "metadata": {},
     "output_type": "execute_result"
    }
   ],
   "source": [
    "val_auc_scores"
   ]
  },
  {
   "cell_type": "code",
   "execution_count": 16,
   "id": "5c6c61e8",
   "metadata": {
    "execution": {
     "iopub.execute_input": "2024-07-12T19:18:35.624535Z",
     "iopub.status.busy": "2024-07-12T19:18:35.623290Z",
     "iopub.status.idle": "2024-07-12T19:18:35.631731Z",
     "shell.execute_reply": "2024-07-12T19:18:35.630495Z"
    },
    "papermill": {
     "duration": 0.031165,
     "end_time": "2024-07-12T19:18:35.634421",
     "exception": false,
     "start_time": "2024-07-12T19:18:35.603256",
     "status": "completed"
    },
    "tags": []
   },
   "outputs": [
    {
     "data": {
      "text/plain": [
       "{'fold_1': 0.16411489480109465,\n",
       " 'fold_2': 0.16163455058930135,\n",
       " 'fold_3': 0.15529609327226662,\n",
       " 'fold_4': 0.1696645181016086,\n",
       " 'fold_5': 0.16317145182032303}"
      ]
     },
     "execution_count": 16,
     "metadata": {},
     "output_type": "execute_result"
    }
   ],
   "source": [
    "val_pauc_scores"
   ]
  },
  {
   "cell_type": "code",
   "execution_count": 17,
   "id": "bdb32f6d",
   "metadata": {
    "execution": {
     "iopub.execute_input": "2024-07-12T19:18:35.675822Z",
     "iopub.status.busy": "2024-07-12T19:18:35.675386Z",
     "iopub.status.idle": "2024-07-12T19:18:35.914831Z",
     "shell.execute_reply": "2024-07-12T19:18:35.913414Z"
    },
    "papermill": {
     "duration": 0.264428,
     "end_time": "2024-07-12T19:18:35.917793",
     "exception": false,
     "start_time": "2024-07-12T19:18:35.653365",
     "status": "completed"
    },
    "tags": []
   },
   "outputs": [],
   "source": [
    "cv_auc_oof = compute_auc(oof_preds_df[target_column], oof_preds_df[f\"oof_{cfg.model_name}\"])\n",
    "cv_pauc_oof = compute_pauc(oof_preds_df[target_column], oof_preds_df[f\"oof_{cfg.model_name}\"], min_tpr=0.8)\n",
    "\n",
    "cv_auc_avg = np.mean(list(val_auc_scores.values()))\n",
    "cv_pauc_avg = np.mean(list(val_pauc_scores.values()))"
   ]
  },
  {
   "cell_type": "code",
   "execution_count": 18,
   "id": "0579eee4",
   "metadata": {
    "execution": {
     "iopub.execute_input": "2024-07-12T19:18:35.958042Z",
     "iopub.status.busy": "2024-07-12T19:18:35.957597Z",
     "iopub.status.idle": "2024-07-12T19:18:35.964141Z",
     "shell.execute_reply": "2024-07-12T19:18:35.962986Z"
    },
    "papermill": {
     "duration": 0.029204,
     "end_time": "2024-07-12T19:18:35.966520",
     "exception": false,
     "start_time": "2024-07-12T19:18:35.937316",
     "status": "completed"
    },
    "tags": []
   },
   "outputs": [
    {
     "name": "stdout",
     "output_type": "stream",
     "text": [
      "CV AUC OOF: 0.9323651978234864\n",
      "CV PAUC OOF: 0.14390959091280953\n",
      "CV AUC AVG: 0.9514042161920273\n",
      "CV PAUC AVG: 0.16277630171691884\n"
     ]
    }
   ],
   "source": [
    "print(f\"CV AUC OOF: {cv_auc_oof}\")\n",
    "print(f\"CV PAUC OOF: {cv_pauc_oof}\")\n",
    "print(f\"CV AUC AVG: {cv_auc_avg}\")\n",
    "print(f\"CV PAUC AVG: {cv_pauc_avg}\")"
   ]
  },
  {
   "cell_type": "code",
   "execution_count": 19,
   "id": "3d8bfdc4",
   "metadata": {
    "execution": {
     "iopub.execute_input": "2024-07-12T19:18:36.007185Z",
     "iopub.status.busy": "2024-07-12T19:18:36.006748Z",
     "iopub.status.idle": "2024-07-12T19:18:36.016161Z",
     "shell.execute_reply": "2024-07-12T19:18:36.015056Z"
    },
    "papermill": {
     "duration": 0.033693,
     "end_time": "2024-07-12T19:18:36.019208",
     "exception": false,
     "start_time": "2024-07-12T19:18:35.985515",
     "status": "completed"
    },
    "tags": []
   },
   "outputs": [],
   "source": [
    "metadata = {\n",
    "    \"params\": params,\n",
    "    \"num_rounds\": num_rounds,\n",
    "    \"es_rounds\": es_rounds,\n",
    "    \"best_num_rounds\": best_num_rounds,\n",
    "    \"val_auc_scores\": val_auc_scores,\n",
    "    \"val_pauc_scores\": val_pauc_scores,\n",
    "    \"cv_auc_oof\": cv_auc_oof,\n",
    "    \"cv_pauc_oof\": cv_pauc_oof,\n",
    "    \"cv_auc_avg\": cv_auc_avg,\n",
    "    \"cv_pauc_avg\": cv_pauc_avg\n",
    "}\n",
    "\n",
    "with open(\"run_metadata.json\", \"w\") as f:\n",
    "    json.dump(metadata, f)"
   ]
  },
  {
   "cell_type": "code",
   "execution_count": null,
   "id": "a3758123",
   "metadata": {
    "papermill": {
     "duration": 0.019048,
     "end_time": "2024-07-12T19:18:36.057368",
     "exception": false,
     "start_time": "2024-07-12T19:18:36.038320",
     "status": "completed"
    },
    "tags": []
   },
   "outputs": [],
   "source": []
  }
 ],
 "metadata": {
  "kaggle": {
   "accelerator": "none",
   "dataSources": [
    {
     "databundleVersionId": 9094797,
     "sourceId": 63056,
     "sourceType": "competition"
    },
    {
     "sourceId": 187439867,
     "sourceType": "kernelVersion"
    },
    {
     "sourceId": 187477024,
     "sourceType": "kernelVersion"
    }
   ],
   "dockerImageVersionId": 30732,
   "isGpuEnabled": false,
   "isInternetEnabled": false,
   "language": "python",
   "sourceType": "notebook"
  },
  "kernelspec": {
   "display_name": "Python 3",
   "language": "python",
   "name": "python3"
  },
  "language_info": {
   "codemirror_mode": {
    "name": "ipython",
    "version": 3
   },
   "file_extension": ".py",
   "mimetype": "text/x-python",
   "name": "python",
   "nbconvert_exporter": "python",
   "pygments_lexer": "ipython3",
   "version": "3.10.13"
  },
  "papermill": {
   "default_parameters": {},
   "duration": 396.197883,
   "end_time": "2024-07-12T19:18:37.401689",
   "environment_variables": {},
   "exception": null,
   "input_path": "__notebook__.ipynb",
   "output_path": "__notebook__.ipynb",
   "parameters": {},
   "start_time": "2024-07-12T19:12:01.203806",
   "version": "2.5.0"
  }
 },
 "nbformat": 4,
 "nbformat_minor": 5
}
