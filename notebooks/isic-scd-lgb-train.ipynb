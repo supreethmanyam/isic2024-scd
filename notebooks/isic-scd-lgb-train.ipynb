{
 "cells": [
  {
   "cell_type": "code",
   "execution_count": 1,
   "id": "c723a7bf",
   "metadata": {
    "_cell_guid": "b1076dfc-b9ad-4769-8c92-a6c4dae69d19",
    "_uuid": "8f2839f25d086af736a60e9eeb907d3b93b6e0e5",
    "execution": {
     "iopub.execute_input": "2024-07-09T07:05:12.268625Z",
     "iopub.status.busy": "2024-07-09T07:05:12.268207Z",
     "iopub.status.idle": "2024-07-09T07:05:19.748490Z",
     "shell.execute_reply": "2024-07-09T07:05:19.747452Z"
    },
    "papermill": {
     "duration": 7.495329,
     "end_time": "2024-07-09T07:05:19.751643",
     "exception": false,
     "start_time": "2024-07-09T07:05:12.256314",
     "status": "completed"
    },
    "tags": []
   },
   "outputs": [],
   "source": [
    "import json\n",
    "from pathlib import Path\n",
    "\n",
    "import pandas as pd\n",
    "import numpy as np\n",
    "\n",
    "from sklearn.compose import ColumnTransformer\n",
    "from sklearn.preprocessing import OrdinalEncoder\n",
    "\n",
    "import lightgbm as lgb\n",
    "from lightgbm.callback import log_evaluation, early_stopping\n",
    "\n",
    "from isic_helper import DotDict\n",
    "from isic_helper import get_folds\n",
    "from isic_helper import compute_auc, compute_pauc\n",
    "\n",
    "pd.options.display.max_columns = 1000"
   ]
  },
  {
   "cell_type": "code",
   "execution_count": 2,
   "id": "c9962db4",
   "metadata": {
    "execution": {
     "iopub.execute_input": "2024-07-09T07:05:19.767939Z",
     "iopub.status.busy": "2024-07-09T07:05:19.767279Z",
     "iopub.status.idle": "2024-07-09T07:05:19.772793Z",
     "shell.execute_reply": "2024-07-09T07:05:19.771666Z"
    },
    "papermill": {
     "duration": 0.016007,
     "end_time": "2024-07-09T07:05:19.775135",
     "exception": false,
     "start_time": "2024-07-09T07:05:19.759128",
     "status": "completed"
    },
    "tags": []
   },
   "outputs": [],
   "source": [
    "cfg = DotDict()\n",
    "cfg.seed = 2022\n",
    "\n",
    "cfg.models_output_dir = \"models\"\n",
    "cfg.model_name = \"lgb_v1\""
   ]
  },
  {
   "cell_type": "code",
   "execution_count": 3,
   "id": "3e2bb1fc",
   "metadata": {
    "execution": {
     "iopub.execute_input": "2024-07-09T07:05:19.790438Z",
     "iopub.status.busy": "2024-07-09T07:05:19.789777Z",
     "iopub.status.idle": "2024-07-09T07:05:32.582687Z",
     "shell.execute_reply": "2024-07-09T07:05:32.581131Z"
    },
    "papermill": {
     "duration": 12.803604,
     "end_time": "2024-07-09T07:05:32.585455",
     "exception": false,
     "start_time": "2024-07-09T07:05:19.781851",
     "status": "completed"
    },
    "tags": []
   },
   "outputs": [
    {
     "name": "stdout",
     "output_type": "stream",
     "text": [
      "Train data size: (401059, 57)\n"
     ]
    }
   ],
   "source": [
    "INPUT_PATH = Path(\"../input/isic-2024-challenge/\")\n",
    "MODELS_OUTPUT_PATH = Path(f\"{cfg.models_output_dir}\")\n",
    "MODELS_OUTPUT_PATH.mkdir(exist_ok=True)\n",
    "\n",
    "train_metadata = pd.read_csv(INPUT_PATH / \"train-metadata.csv\", low_memory=False)\n",
    "test_metadata = pd.read_csv(INPUT_PATH / \"test-metadata.csv\")\n",
    "\n",
    "folds_df = get_folds()\n",
    "train_metadata = train_metadata.merge(folds_df, on=[\"isic_id\", \"patient_id\"], how=\"inner\")\n",
    "print(f\"Train data size: {train_metadata.shape}\")"
   ]
  },
  {
   "cell_type": "code",
   "execution_count": 4,
   "id": "333bca07",
   "metadata": {
    "execution": {
     "iopub.execute_input": "2024-07-09T07:05:32.601265Z",
     "iopub.status.busy": "2024-07-09T07:05:32.600838Z",
     "iopub.status.idle": "2024-07-09T07:05:32.770468Z",
     "shell.execute_reply": "2024-07-09T07:05:32.769407Z"
    },
    "papermill": {
     "duration": 0.180921,
     "end_time": "2024-07-09T07:05:32.773508",
     "exception": false,
     "start_time": "2024-07-09T07:05:32.592587",
     "status": "completed"
    },
    "tags": []
   },
   "outputs": [],
   "source": [
    "def feature_engineering(df):\n",
    "    df[\"lesion_size_ratio\"]              = df[\"tbp_lv_minorAxisMM\"] / df[\"clin_size_long_diam_mm\"]\n",
    "    df[\"hue_contrast\"]                   = (df[\"tbp_lv_H\"] - df[\"tbp_lv_Hext\"]).abs()\n",
    "    df[\"normalized_lesion_size\"]         = df[\"clin_size_long_diam_mm\"] / df[\"age_approx\"]\n",
    "    df[\"overall_color_difference\"]       = (df[\"tbp_lv_deltaA\"] + df[\"tbp_lv_deltaB\"] + df[\"tbp_lv_deltaL\"]) / 3\n",
    "\n",
    "    new_num_cols = [\n",
    "        \"lesion_size_ratio\"\n",
    "        \"normalized_lesion_size\", \n",
    "        \"overall_color_difference\"\n",
    "    ]\n",
    "    \n",
    "    new_cat_cols = []\n",
    "    \n",
    "    return df, new_num_cols, new_cat_cols\n",
    "\n",
    "train_metadata, new_num_cols, new_cat_cols = feature_engineering(train_metadata.copy())"
   ]
  },
  {
   "cell_type": "code",
   "execution_count": 5,
   "id": "860c1d25",
   "metadata": {
    "execution": {
     "iopub.execute_input": "2024-07-09T07:05:32.789952Z",
     "iopub.status.busy": "2024-07-09T07:05:32.789187Z",
     "iopub.status.idle": "2024-07-09T07:05:32.797928Z",
     "shell.execute_reply": "2024-07-09T07:05:32.796607Z"
    },
    "papermill": {
     "duration": 0.019638,
     "end_time": "2024-07-09T07:05:32.800489",
     "exception": false,
     "start_time": "2024-07-09T07:05:32.780851",
     "status": "completed"
    },
    "tags": []
   },
   "outputs": [],
   "source": [
    "id_column = \"isic_id\"\n",
    "target_column = \"final_target\"\n",
    "group_column = \"patient_id\"\n",
    "drop_features = [\"image_type\", \"tbp_lv_stdLExt\"] + train_metadata.columns[~np.in1d(train_metadata.columns, test_metadata.columns)].tolist() # target column removed\n",
    "categorical_features = [\"sex\", \"anatom_site_general\", \n",
    "                        \"tbp_tile_type\", \"tbp_lv_location\", \"tbp_lv_location_simple\", \n",
    "                        \"attribution\", \"copyright_license\"] + new_cat_cols\n",
    "numerical_features = train_metadata.columns[~np.in1d(train_metadata.columns, \n",
    "                                                     [id_column] + [group_column] + categorical_features + drop_features)]"
   ]
  },
  {
   "cell_type": "code",
   "execution_count": 6,
   "id": "2e9564dd",
   "metadata": {
    "execution": {
     "iopub.execute_input": "2024-07-09T07:05:32.816183Z",
     "iopub.status.busy": "2024-07-09T07:05:32.815478Z",
     "iopub.status.idle": "2024-07-09T07:05:32.841654Z",
     "shell.execute_reply": "2024-07-09T07:05:32.840547Z"
    },
    "papermill": {
     "duration": 0.036989,
     "end_time": "2024-07-09T07:05:32.844380",
     "exception": false,
     "start_time": "2024-07-09T07:05:32.807391",
     "status": "completed"
    },
    "tags": []
   },
   "outputs": [
    {
     "data": {
      "text/html": [
       "<style>#sk-container-id-1 {color: black;background-color: white;}#sk-container-id-1 pre{padding: 0;}#sk-container-id-1 div.sk-toggleable {background-color: white;}#sk-container-id-1 label.sk-toggleable__label {cursor: pointer;display: block;width: 100%;margin-bottom: 0;padding: 0.3em;box-sizing: border-box;text-align: center;}#sk-container-id-1 label.sk-toggleable__label-arrow:before {content: \"▸\";float: left;margin-right: 0.25em;color: #696969;}#sk-container-id-1 label.sk-toggleable__label-arrow:hover:before {color: black;}#sk-container-id-1 div.sk-estimator:hover label.sk-toggleable__label-arrow:before {color: black;}#sk-container-id-1 div.sk-toggleable__content {max-height: 0;max-width: 0;overflow: hidden;text-align: left;background-color: #f0f8ff;}#sk-container-id-1 div.sk-toggleable__content pre {margin: 0.2em;color: black;border-radius: 0.25em;background-color: #f0f8ff;}#sk-container-id-1 input.sk-toggleable__control:checked~div.sk-toggleable__content {max-height: 200px;max-width: 100%;overflow: auto;}#sk-container-id-1 input.sk-toggleable__control:checked~label.sk-toggleable__label-arrow:before {content: \"▾\";}#sk-container-id-1 div.sk-estimator input.sk-toggleable__control:checked~label.sk-toggleable__label {background-color: #d4ebff;}#sk-container-id-1 div.sk-label input.sk-toggleable__control:checked~label.sk-toggleable__label {background-color: #d4ebff;}#sk-container-id-1 input.sk-hidden--visually {border: 0;clip: rect(1px 1px 1px 1px);clip: rect(1px, 1px, 1px, 1px);height: 1px;margin: -1px;overflow: hidden;padding: 0;position: absolute;width: 1px;}#sk-container-id-1 div.sk-estimator {font-family: monospace;background-color: #f0f8ff;border: 1px dotted black;border-radius: 0.25em;box-sizing: border-box;margin-bottom: 0.5em;}#sk-container-id-1 div.sk-estimator:hover {background-color: #d4ebff;}#sk-container-id-1 div.sk-parallel-item::after {content: \"\";width: 100%;border-bottom: 1px solid gray;flex-grow: 1;}#sk-container-id-1 div.sk-label:hover label.sk-toggleable__label {background-color: #d4ebff;}#sk-container-id-1 div.sk-serial::before {content: \"\";position: absolute;border-left: 1px solid gray;box-sizing: border-box;top: 0;bottom: 0;left: 50%;z-index: 0;}#sk-container-id-1 div.sk-serial {display: flex;flex-direction: column;align-items: center;background-color: white;padding-right: 0.2em;padding-left: 0.2em;position: relative;}#sk-container-id-1 div.sk-item {position: relative;z-index: 1;}#sk-container-id-1 div.sk-parallel {display: flex;align-items: stretch;justify-content: center;background-color: white;position: relative;}#sk-container-id-1 div.sk-item::before, #sk-container-id-1 div.sk-parallel-item::before {content: \"\";position: absolute;border-left: 1px solid gray;box-sizing: border-box;top: 0;bottom: 0;left: 50%;z-index: -1;}#sk-container-id-1 div.sk-parallel-item {display: flex;flex-direction: column;z-index: 1;position: relative;background-color: white;}#sk-container-id-1 div.sk-parallel-item:first-child::after {align-self: flex-end;width: 50%;}#sk-container-id-1 div.sk-parallel-item:last-child::after {align-self: flex-start;width: 50%;}#sk-container-id-1 div.sk-parallel-item:only-child::after {width: 0;}#sk-container-id-1 div.sk-dashed-wrapped {border: 1px dashed gray;margin: 0 0.4em 0.5em 0.4em;box-sizing: border-box;padding-bottom: 0.4em;background-color: white;}#sk-container-id-1 div.sk-label label {font-family: monospace;font-weight: bold;display: inline-block;line-height: 1.2em;}#sk-container-id-1 div.sk-label-container {text-align: center;}#sk-container-id-1 div.sk-container {/* jupyter's `normalize.less` sets `[hidden] { display: none; }` but bootstrap.min.css set `[hidden] { display: none !important; }` so we also need the `!important` here to be able to override the default hidden behavior on the sphinx rendered scikit-learn.org. See: https://github.com/scikit-learn/scikit-learn/issues/21755 */display: inline-block !important;position: relative;}#sk-container-id-1 div.sk-text-repr-fallback {display: none;}</style><div id=\"sk-container-id-1\" class=\"sk-top-container\"><div class=\"sk-text-repr-fallback\"><pre>ColumnTransformer(transformers=[(&#x27;numerical&#x27;, &#x27;passthrough&#x27;,\n",
       "                                 Index([&#x27;age_approx&#x27;, &#x27;clin_size_long_diam_mm&#x27;, &#x27;tbp_lv_A&#x27;, &#x27;tbp_lv_Aext&#x27;,\n",
       "       &#x27;tbp_lv_B&#x27;, &#x27;tbp_lv_Bext&#x27;, &#x27;tbp_lv_C&#x27;, &#x27;tbp_lv_Cext&#x27;, &#x27;tbp_lv_H&#x27;,\n",
       "       &#x27;tbp_lv_Hext&#x27;, &#x27;tbp_lv_L&#x27;, &#x27;tbp_lv_Lext&#x27;, &#x27;tbp_lv_areaMM2&#x27;,\n",
       "       &#x27;tbp_lv_area_perim_ratio&#x27;, &#x27;tbp_lv_color_std_mean&#x27;, &#x27;tbp_lv_deltaA&#x27;,\n",
       "       &#x27;tbp_lv_deltaB&#x27;, &#x27;tbp_lv_deltaL&#x27;, &#x27;tbp_l...\n",
       "       &#x27;tbp_lv_symm_2axis&#x27;, &#x27;tbp_lv_symm_2axis_angle&#x27;, &#x27;tbp_lv_x&#x27;, &#x27;tbp_lv_y&#x27;,\n",
       "       &#x27;tbp_lv_z&#x27;],\n",
       "      dtype=&#x27;object&#x27;)),\n",
       "                                (&#x27;categorical&#x27;,\n",
       "                                 OrdinalEncoder(dtype=&lt;class &#x27;int&#x27;&gt;,\n",
       "                                                encoded_missing_value=-1,\n",
       "                                                handle_unknown=&#x27;use_encoded_value&#x27;,\n",
       "                                                unknown_value=-2),\n",
       "                                 [&#x27;sex&#x27;, &#x27;anatom_site_general&#x27;, &#x27;tbp_tile_type&#x27;,\n",
       "                                  &#x27;tbp_lv_location&#x27;, &#x27;tbp_lv_location_simple&#x27;,\n",
       "                                  &#x27;attribution&#x27;, &#x27;copyright_license&#x27;])],\n",
       "                  verbose_feature_names_out=False)</pre><b>In a Jupyter environment, please rerun this cell to show the HTML representation or trust the notebook. <br />On GitHub, the HTML representation is unable to render, please try loading this page with nbviewer.org.</b></div><div class=\"sk-container\" hidden><div class=\"sk-item sk-dashed-wrapped\"><div class=\"sk-label-container\"><div class=\"sk-label sk-toggleable\"><input class=\"sk-toggleable__control sk-hidden--visually\" id=\"sk-estimator-id-1\" type=\"checkbox\" ><label for=\"sk-estimator-id-1\" class=\"sk-toggleable__label sk-toggleable__label-arrow\">ColumnTransformer</label><div class=\"sk-toggleable__content\"><pre>ColumnTransformer(transformers=[(&#x27;numerical&#x27;, &#x27;passthrough&#x27;,\n",
       "                                 Index([&#x27;age_approx&#x27;, &#x27;clin_size_long_diam_mm&#x27;, &#x27;tbp_lv_A&#x27;, &#x27;tbp_lv_Aext&#x27;,\n",
       "       &#x27;tbp_lv_B&#x27;, &#x27;tbp_lv_Bext&#x27;, &#x27;tbp_lv_C&#x27;, &#x27;tbp_lv_Cext&#x27;, &#x27;tbp_lv_H&#x27;,\n",
       "       &#x27;tbp_lv_Hext&#x27;, &#x27;tbp_lv_L&#x27;, &#x27;tbp_lv_Lext&#x27;, &#x27;tbp_lv_areaMM2&#x27;,\n",
       "       &#x27;tbp_lv_area_perim_ratio&#x27;, &#x27;tbp_lv_color_std_mean&#x27;, &#x27;tbp_lv_deltaA&#x27;,\n",
       "       &#x27;tbp_lv_deltaB&#x27;, &#x27;tbp_lv_deltaL&#x27;, &#x27;tbp_l...\n",
       "       &#x27;tbp_lv_symm_2axis&#x27;, &#x27;tbp_lv_symm_2axis_angle&#x27;, &#x27;tbp_lv_x&#x27;, &#x27;tbp_lv_y&#x27;,\n",
       "       &#x27;tbp_lv_z&#x27;],\n",
       "      dtype=&#x27;object&#x27;)),\n",
       "                                (&#x27;categorical&#x27;,\n",
       "                                 OrdinalEncoder(dtype=&lt;class &#x27;int&#x27;&gt;,\n",
       "                                                encoded_missing_value=-1,\n",
       "                                                handle_unknown=&#x27;use_encoded_value&#x27;,\n",
       "                                                unknown_value=-2),\n",
       "                                 [&#x27;sex&#x27;, &#x27;anatom_site_general&#x27;, &#x27;tbp_tile_type&#x27;,\n",
       "                                  &#x27;tbp_lv_location&#x27;, &#x27;tbp_lv_location_simple&#x27;,\n",
       "                                  &#x27;attribution&#x27;, &#x27;copyright_license&#x27;])],\n",
       "                  verbose_feature_names_out=False)</pre></div></div></div><div class=\"sk-parallel\"><div class=\"sk-parallel-item\"><div class=\"sk-item\"><div class=\"sk-label-container\"><div class=\"sk-label sk-toggleable\"><input class=\"sk-toggleable__control sk-hidden--visually\" id=\"sk-estimator-id-2\" type=\"checkbox\" ><label for=\"sk-estimator-id-2\" class=\"sk-toggleable__label sk-toggleable__label-arrow\">numerical</label><div class=\"sk-toggleable__content\"><pre>Index([&#x27;age_approx&#x27;, &#x27;clin_size_long_diam_mm&#x27;, &#x27;tbp_lv_A&#x27;, &#x27;tbp_lv_Aext&#x27;,\n",
       "       &#x27;tbp_lv_B&#x27;, &#x27;tbp_lv_Bext&#x27;, &#x27;tbp_lv_C&#x27;, &#x27;tbp_lv_Cext&#x27;, &#x27;tbp_lv_H&#x27;,\n",
       "       &#x27;tbp_lv_Hext&#x27;, &#x27;tbp_lv_L&#x27;, &#x27;tbp_lv_Lext&#x27;, &#x27;tbp_lv_areaMM2&#x27;,\n",
       "       &#x27;tbp_lv_area_perim_ratio&#x27;, &#x27;tbp_lv_color_std_mean&#x27;, &#x27;tbp_lv_deltaA&#x27;,\n",
       "       &#x27;tbp_lv_deltaB&#x27;, &#x27;tbp_lv_deltaL&#x27;, &#x27;tbp_lv_deltaLB&#x27;,\n",
       "       &#x27;tbp_lv_deltaLBnorm&#x27;, &#x27;tbp_lv_eccentricity&#x27;, &#x27;tbp_lv_minorAxisMM&#x27;,\n",
       "       &#x27;tbp_lv_nevi_confidence&#x27;, &#x27;tbp_lv_norm_border&#x27;, &#x27;tbp_lv_norm_color&#x27;,\n",
       "       &#x27;tbp_lv_perimeterMM&#x27;, &#x27;tbp_lv_radial_color_std_max&#x27;, &#x27;tbp_lv_stdL&#x27;,\n",
       "       &#x27;tbp_lv_symm_2axis&#x27;, &#x27;tbp_lv_symm_2axis_angle&#x27;, &#x27;tbp_lv_x&#x27;, &#x27;tbp_lv_y&#x27;,\n",
       "       &#x27;tbp_lv_z&#x27;],\n",
       "      dtype=&#x27;object&#x27;)</pre></div></div></div><div class=\"sk-serial\"><div class=\"sk-item\"><div class=\"sk-estimator sk-toggleable\"><input class=\"sk-toggleable__control sk-hidden--visually\" id=\"sk-estimator-id-3\" type=\"checkbox\" ><label for=\"sk-estimator-id-3\" class=\"sk-toggleable__label sk-toggleable__label-arrow\">passthrough</label><div class=\"sk-toggleable__content\"><pre>passthrough</pre></div></div></div></div></div></div><div class=\"sk-parallel-item\"><div class=\"sk-item\"><div class=\"sk-label-container\"><div class=\"sk-label sk-toggleable\"><input class=\"sk-toggleable__control sk-hidden--visually\" id=\"sk-estimator-id-4\" type=\"checkbox\" ><label for=\"sk-estimator-id-4\" class=\"sk-toggleable__label sk-toggleable__label-arrow\">categorical</label><div class=\"sk-toggleable__content\"><pre>[&#x27;sex&#x27;, &#x27;anatom_site_general&#x27;, &#x27;tbp_tile_type&#x27;, &#x27;tbp_lv_location&#x27;, &#x27;tbp_lv_location_simple&#x27;, &#x27;attribution&#x27;, &#x27;copyright_license&#x27;]</pre></div></div></div><div class=\"sk-serial\"><div class=\"sk-item\"><div class=\"sk-estimator sk-toggleable\"><input class=\"sk-toggleable__control sk-hidden--visually\" id=\"sk-estimator-id-5\" type=\"checkbox\" ><label for=\"sk-estimator-id-5\" class=\"sk-toggleable__label sk-toggleable__label-arrow\">OrdinalEncoder</label><div class=\"sk-toggleable__content\"><pre>OrdinalEncoder(dtype=&lt;class &#x27;int&#x27;&gt;, encoded_missing_value=-1,\n",
       "               handle_unknown=&#x27;use_encoded_value&#x27;, unknown_value=-2)</pre></div></div></div></div></div></div></div></div></div></div>"
      ],
      "text/plain": [
       "ColumnTransformer(transformers=[('numerical', 'passthrough',\n",
       "                                 Index(['age_approx', 'clin_size_long_diam_mm', 'tbp_lv_A', 'tbp_lv_Aext',\n",
       "       'tbp_lv_B', 'tbp_lv_Bext', 'tbp_lv_C', 'tbp_lv_Cext', 'tbp_lv_H',\n",
       "       'tbp_lv_Hext', 'tbp_lv_L', 'tbp_lv_Lext', 'tbp_lv_areaMM2',\n",
       "       'tbp_lv_area_perim_ratio', 'tbp_lv_color_std_mean', 'tbp_lv_deltaA',\n",
       "       'tbp_lv_deltaB', 'tbp_lv_deltaL', 'tbp_l...\n",
       "       'tbp_lv_symm_2axis', 'tbp_lv_symm_2axis_angle', 'tbp_lv_x', 'tbp_lv_y',\n",
       "       'tbp_lv_z'],\n",
       "      dtype='object')),\n",
       "                                ('categorical',\n",
       "                                 OrdinalEncoder(dtype=<class 'int'>,\n",
       "                                                encoded_missing_value=-1,\n",
       "                                                handle_unknown='use_encoded_value',\n",
       "                                                unknown_value=-2),\n",
       "                                 ['sex', 'anatom_site_general', 'tbp_tile_type',\n",
       "                                  'tbp_lv_location', 'tbp_lv_location_simple',\n",
       "                                  'attribution', 'copyright_license'])],\n",
       "                  verbose_feature_names_out=False)"
      ]
     },
     "execution_count": 6,
     "metadata": {},
     "output_type": "execute_result"
    }
   ],
   "source": [
    "mixed_encoded_preprocessor = ColumnTransformer(\n",
    "    [\n",
    "        (\"numerical\", \"passthrough\", numerical_features),\n",
    "        (\n",
    "            \"categorical\",\n",
    "            OrdinalEncoder(handle_unknown=\"use_encoded_value\", unknown_value=-2, encoded_missing_value=-1, dtype=int),\n",
    "            categorical_features,\n",
    "        ),\n",
    "    ],\n",
    "    verbose_feature_names_out=False,\n",
    "\n",
    ")\n",
    "mixed_encoded_preprocessor.set_output(transform=\"pandas\")"
   ]
  },
  {
   "cell_type": "code",
   "execution_count": 7,
   "id": "6be39e37",
   "metadata": {
    "execution": {
     "iopub.execute_input": "2024-07-09T07:05:32.860842Z",
     "iopub.status.busy": "2024-07-09T07:05:32.860372Z",
     "iopub.status.idle": "2024-07-09T07:05:34.699338Z",
     "shell.execute_reply": "2024-07-09T07:05:34.698127Z"
    },
    "papermill": {
     "duration": 1.850436,
     "end_time": "2024-07-09T07:05:34.702138",
     "exception": false,
     "start_time": "2024-07-09T07:05:32.851702",
     "status": "completed"
    },
    "tags": []
   },
   "outputs": [],
   "source": [
    "train_ids = train_metadata[id_column]\n",
    "groups = train_metadata[group_column]\n",
    "folds = train_metadata[\"fold\"]\n",
    "\n",
    "enc = mixed_encoded_preprocessor.fit(train_metadata)\n",
    "X_train = enc.transform(train_metadata)\n",
    "y_train = train_metadata[target_column]"
   ]
  },
  {
   "cell_type": "code",
   "execution_count": 8,
   "id": "d4620d0f",
   "metadata": {
    "execution": {
     "iopub.execute_input": "2024-07-09T07:05:34.718393Z",
     "iopub.status.busy": "2024-07-09T07:05:34.718014Z",
     "iopub.status.idle": "2024-07-09T07:05:34.724353Z",
     "shell.execute_reply": "2024-07-09T07:05:34.723152Z"
    },
    "papermill": {
     "duration": 0.017448,
     "end_time": "2024-07-09T07:05:34.726874",
     "exception": false,
     "start_time": "2024-07-09T07:05:34.709426",
     "status": "completed"
    },
    "tags": []
   },
   "outputs": [
    {
     "name": "stdout",
     "output_type": "stream",
     "text": [
      "Total number of columns: 40\n"
     ]
    }
   ],
   "source": [
    "columns_for_model = len(X_train.columns)\n",
    "print(f\"Total number of columns: {columns_for_model}\")"
   ]
  },
  {
   "cell_type": "code",
   "execution_count": 9,
   "id": "38c571d0",
   "metadata": {
    "execution": {
     "iopub.execute_input": "2024-07-09T07:05:34.744435Z",
     "iopub.status.busy": "2024-07-09T07:05:34.743375Z",
     "iopub.status.idle": "2024-07-09T07:05:34.749380Z",
     "shell.execute_reply": "2024-07-09T07:05:34.748241Z"
    },
    "papermill": {
     "duration": 0.017505,
     "end_time": "2024-07-09T07:05:34.751926",
     "exception": false,
     "start_time": "2024-07-09T07:05:34.734421",
     "status": "completed"
    },
    "tags": []
   },
   "outputs": [],
   "source": [
    "def pauc_80(preds, data):\n",
    "    score_value = compute_pauc(data.get_label(), preds, min_tpr=0.8)   \n",
    "    return 'pauc_80', score_value, True"
   ]
  },
  {
   "cell_type": "code",
   "execution_count": 10,
   "id": "73f381d4",
   "metadata": {
    "execution": {
     "iopub.execute_input": "2024-07-09T07:05:34.769915Z",
     "iopub.status.busy": "2024-07-09T07:05:34.768699Z",
     "iopub.status.idle": "2024-07-09T07:05:34.776153Z",
     "shell.execute_reply": "2024-07-09T07:05:34.775018Z"
    },
    "papermill": {
     "duration": 0.018725,
     "end_time": "2024-07-09T07:05:34.778545",
     "exception": false,
     "start_time": "2024-07-09T07:05:34.759820",
     "status": "completed"
    },
    "tags": []
   },
   "outputs": [],
   "source": [
    "params = {\n",
    "    \"objective\": \"binary\",\n",
    "    \"metric\": \"auc\",\n",
    "    \"num_leaves\": 31,\n",
    "    \"learning_rate\": 0.01,\n",
    "    \"bagging_freq\": 5,\n",
    "    \"bagging_fraction\": 0.6,\n",
    "    \"bagging_seed\": cfg.seed,\n",
    "    \"feature_fraction\": 0.3,\n",
    "    \"feature_fraction_seed\": cfg.seed,\n",
    "    \"lambda_l1\": 0.95,\n",
    "    \"lambda_l2\": 0.95,\n",
    "    \"verbosity\": -1\n",
    "}\n",
    "num_rounds = 2500\n",
    "es_rounds = 200\n",
    "log_rounds = 50"
   ]
  },
  {
   "cell_type": "code",
   "execution_count": 11,
   "id": "95af47c2",
   "metadata": {
    "execution": {
     "iopub.execute_input": "2024-07-09T07:05:34.795297Z",
     "iopub.status.busy": "2024-07-09T07:05:34.794899Z",
     "iopub.status.idle": "2024-07-09T07:11:54.313733Z",
     "shell.execute_reply": "2024-07-09T07:11:54.312227Z"
    },
    "papermill": {
     "duration": 379.530333,
     "end_time": "2024-07-09T07:11:54.316435",
     "exception": false,
     "start_time": "2024-07-09T07:05:34.786102",
     "status": "completed"
    },
    "tags": []
   },
   "outputs": [
    {
     "name": "stdout",
     "output_type": "stream",
     "text": [
      "Running fold: 1\n",
      "[LightGBM] [Warning] Met negative value in categorical features, will convert it to NaN\n",
      "[LightGBM] [Warning] Met negative value in categorical features, will convert it to NaN\n",
      "Training until validation scores don't improve for 200 rounds\n",
      "[50]\tvalid_0's auc: 0.93788\tvalid_0's pauc_80: 0.153036\n",
      "[100]\tvalid_0's auc: 0.943143\tvalid_0's pauc_80: 0.15763\n",
      "[150]\tvalid_0's auc: 0.942285\tvalid_0's pauc_80: 0.156079\n",
      "[200]\tvalid_0's auc: 0.94196\tvalid_0's pauc_80: 0.155916\n",
      "[250]\tvalid_0's auc: 0.944495\tvalid_0's pauc_80: 0.157835\n",
      "[300]\tvalid_0's auc: 0.944698\tvalid_0's pauc_80: 0.158032\n",
      "[350]\tvalid_0's auc: 0.947379\tvalid_0's pauc_80: 0.160498\n",
      "[400]\tvalid_0's auc: 0.948703\tvalid_0's pauc_80: 0.161799\n",
      "[450]\tvalid_0's auc: 0.948927\tvalid_0's pauc_80: 0.161974\n",
      "[500]\tvalid_0's auc: 0.949471\tvalid_0's pauc_80: 0.162367\n",
      "[550]\tvalid_0's auc: 0.949674\tvalid_0's pauc_80: 0.162442\n",
      "[600]\tvalid_0's auc: 0.949424\tvalid_0's pauc_80: 0.162188\n",
      "[650]\tvalid_0's auc: 0.949538\tvalid_0's pauc_80: 0.162189\n",
      "[700]\tvalid_0's auc: 0.950396\tvalid_0's pauc_80: 0.162827\n",
      "[750]\tvalid_0's auc: 0.950298\tvalid_0's pauc_80: 0.162525\n",
      "[800]\tvalid_0's auc: 0.950409\tvalid_0's pauc_80: 0.162714\n",
      "[850]\tvalid_0's auc: 0.950355\tvalid_0's pauc_80: 0.162583\n",
      "Early stopping, best iteration is:\n",
      "[695]\tvalid_0's auc: 0.950472\tvalid_0's pauc_80: 0.162938\n",
      "\n",
      "\n",
      "Running fold: 2\n",
      "[LightGBM] [Warning] Met negative value in categorical features, will convert it to NaN\n",
      "[LightGBM] [Warning] Met negative value in categorical features, will convert it to NaN\n",
      "Training until validation scores don't improve for 200 rounds\n",
      "[50]\tvalid_0's auc: 0.918444\tvalid_0's pauc_80: 0.137527\n",
      "[100]\tvalid_0's auc: 0.923985\tvalid_0's pauc_80: 0.140135\n",
      "[150]\tvalid_0's auc: 0.929222\tvalid_0's pauc_80: 0.144652\n",
      "[200]\tvalid_0's auc: 0.931843\tvalid_0's pauc_80: 0.146577\n",
      "[250]\tvalid_0's auc: 0.933047\tvalid_0's pauc_80: 0.147684\n",
      "[300]\tvalid_0's auc: 0.935611\tvalid_0's pauc_80: 0.149797\n",
      "[350]\tvalid_0's auc: 0.936735\tvalid_0's pauc_80: 0.150981\n",
      "[400]\tvalid_0's auc: 0.938868\tvalid_0's pauc_80: 0.15275\n",
      "[450]\tvalid_0's auc: 0.940092\tvalid_0's pauc_80: 0.153586\n",
      "[500]\tvalid_0's auc: 0.942005\tvalid_0's pauc_80: 0.155254\n",
      "[550]\tvalid_0's auc: 0.942798\tvalid_0's pauc_80: 0.156042\n",
      "[600]\tvalid_0's auc: 0.943827\tvalid_0's pauc_80: 0.15694\n",
      "[650]\tvalid_0's auc: 0.9443\tvalid_0's pauc_80: 0.157255\n",
      "[700]\tvalid_0's auc: 0.944725\tvalid_0's pauc_80: 0.157473\n",
      "[750]\tvalid_0's auc: 0.94447\tvalid_0's pauc_80: 0.157249\n",
      "[800]\tvalid_0's auc: 0.945096\tvalid_0's pauc_80: 0.158002\n",
      "[850]\tvalid_0's auc: 0.944495\tvalid_0's pauc_80: 0.157636\n",
      "[900]\tvalid_0's auc: 0.944409\tvalid_0's pauc_80: 0.157547\n",
      "[950]\tvalid_0's auc: 0.944429\tvalid_0's pauc_80: 0.157675\n",
      "Early stopping, best iteration is:\n",
      "[796]\tvalid_0's auc: 0.945101\tvalid_0's pauc_80: 0.157987\n",
      "\n",
      "\n",
      "Running fold: 3\n",
      "[LightGBM] [Warning] Met negative value in categorical features, will convert it to NaN\n",
      "[LightGBM] [Warning] Met negative value in categorical features, will convert it to NaN\n",
      "Training until validation scores don't improve for 200 rounds\n",
      "[50]\tvalid_0's auc: 0.935697\tvalid_0's pauc_80: 0.147743\n",
      "[100]\tvalid_0's auc: 0.932595\tvalid_0's pauc_80: 0.144256\n",
      "[150]\tvalid_0's auc: 0.93712\tvalid_0's pauc_80: 0.148131\n",
      "[200]\tvalid_0's auc: 0.937485\tvalid_0's pauc_80: 0.148407\n",
      "[250]\tvalid_0's auc: 0.93717\tvalid_0's pauc_80: 0.147863\n",
      "[300]\tvalid_0's auc: 0.937598\tvalid_0's pauc_80: 0.148346\n",
      "[350]\tvalid_0's auc: 0.941445\tvalid_0's pauc_80: 0.152036\n",
      "[400]\tvalid_0's auc: 0.941875\tvalid_0's pauc_80: 0.15247\n",
      "[450]\tvalid_0's auc: 0.942632\tvalid_0's pauc_80: 0.153189\n",
      "[500]\tvalid_0's auc: 0.944747\tvalid_0's pauc_80: 0.155251\n",
      "[550]\tvalid_0's auc: 0.945012\tvalid_0's pauc_80: 0.15553\n",
      "[600]\tvalid_0's auc: 0.945486\tvalid_0's pauc_80: 0.155969\n",
      "[650]\tvalid_0's auc: 0.945464\tvalid_0's pauc_80: 0.155935\n",
      "[700]\tvalid_0's auc: 0.945332\tvalid_0's pauc_80: 0.155896\n",
      "[750]\tvalid_0's auc: 0.945914\tvalid_0's pauc_80: 0.156443\n",
      "[800]\tvalid_0's auc: 0.945349\tvalid_0's pauc_80: 0.155969\n",
      "[850]\tvalid_0's auc: 0.945344\tvalid_0's pauc_80: 0.15615\n",
      "[900]\tvalid_0's auc: 0.944963\tvalid_0's pauc_80: 0.155786\n",
      "[950]\tvalid_0's auc: 0.944452\tvalid_0's pauc_80: 0.15527\n",
      "Early stopping, best iteration is:\n",
      "[759]\tvalid_0's auc: 0.946264\tvalid_0's pauc_80: 0.156831\n",
      "\n",
      "\n",
      "Running fold: 4\n",
      "[LightGBM] [Warning] Met negative value in categorical features, will convert it to NaN\n",
      "[LightGBM] [Warning] Met negative value in categorical features, will convert it to NaN\n",
      "Training until validation scores don't improve for 200 rounds\n",
      "[50]\tvalid_0's auc: 0.945375\tvalid_0's pauc_80: 0.152889\n",
      "[100]\tvalid_0's auc: 0.945641\tvalid_0's pauc_80: 0.152781\n",
      "[150]\tvalid_0's auc: 0.945813\tvalid_0's pauc_80: 0.152442\n",
      "[200]\tvalid_0's auc: 0.946862\tvalid_0's pauc_80: 0.153202\n",
      "[250]\tvalid_0's auc: 0.948842\tvalid_0's pauc_80: 0.15497\n",
      "[300]\tvalid_0's auc: 0.948155\tvalid_0's pauc_80: 0.154375\n",
      "[350]\tvalid_0's auc: 0.949244\tvalid_0's pauc_80: 0.155409\n",
      "[400]\tvalid_0's auc: 0.950865\tvalid_0's pauc_80: 0.156967\n",
      "[450]\tvalid_0's auc: 0.95201\tvalid_0's pauc_80: 0.158073\n",
      "[500]\tvalid_0's auc: 0.952921\tvalid_0's pauc_80: 0.158954\n",
      "[550]\tvalid_0's auc: 0.953752\tvalid_0's pauc_80: 0.159722\n",
      "[600]\tvalid_0's auc: 0.955241\tvalid_0's pauc_80: 0.161256\n",
      "[650]\tvalid_0's auc: 0.955919\tvalid_0's pauc_80: 0.161919\n",
      "[700]\tvalid_0's auc: 0.956855\tvalid_0's pauc_80: 0.162861\n",
      "[750]\tvalid_0's auc: 0.957543\tvalid_0's pauc_80: 0.163577\n",
      "[800]\tvalid_0's auc: 0.9585\tvalid_0's pauc_80: 0.164632\n",
      "[850]\tvalid_0's auc: 0.959062\tvalid_0's pauc_80: 0.165196\n",
      "[900]\tvalid_0's auc: 0.959814\tvalid_0's pauc_80: 0.165985\n",
      "[950]\tvalid_0's auc: 0.960263\tvalid_0's pauc_80: 0.166448\n",
      "[1000]\tvalid_0's auc: 0.960506\tvalid_0's pauc_80: 0.16669\n",
      "[1050]\tvalid_0's auc: 0.960739\tvalid_0's pauc_80: 0.166952\n",
      "[1100]\tvalid_0's auc: 0.96087\tvalid_0's pauc_80: 0.167066\n",
      "[1150]\tvalid_0's auc: 0.961282\tvalid_0's pauc_80: 0.167397\n",
      "[1200]\tvalid_0's auc: 0.961392\tvalid_0's pauc_80: 0.167533\n",
      "[1250]\tvalid_0's auc: 0.961498\tvalid_0's pauc_80: 0.167678\n",
      "[1300]\tvalid_0's auc: 0.961638\tvalid_0's pauc_80: 0.16787\n",
      "[1350]\tvalid_0's auc: 0.961422\tvalid_0's pauc_80: 0.167687\n",
      "[1400]\tvalid_0's auc: 0.96147\tvalid_0's pauc_80: 0.167731\n",
      "[1450]\tvalid_0's auc: 0.961905\tvalid_0's pauc_80: 0.168118\n",
      "[1500]\tvalid_0's auc: 0.962016\tvalid_0's pauc_80: 0.168278\n",
      "[1550]\tvalid_0's auc: 0.962096\tvalid_0's pauc_80: 0.16848\n",
      "[1600]\tvalid_0's auc: 0.962338\tvalid_0's pauc_80: 0.168737\n",
      "[1650]\tvalid_0's auc: 0.962383\tvalid_0's pauc_80: 0.168847\n",
      "[1700]\tvalid_0's auc: 0.962573\tvalid_0's pauc_80: 0.16908\n",
      "[1750]\tvalid_0's auc: 0.962799\tvalid_0's pauc_80: 0.16928\n",
      "[1800]\tvalid_0's auc: 0.963177\tvalid_0's pauc_80: 0.169613\n",
      "[1850]\tvalid_0's auc: 0.963107\tvalid_0's pauc_80: 0.169598\n",
      "[1900]\tvalid_0's auc: 0.963201\tvalid_0's pauc_80: 0.169777\n",
      "[1950]\tvalid_0's auc: 0.963174\tvalid_0's pauc_80: 0.169757\n",
      "[2000]\tvalid_0's auc: 0.963443\tvalid_0's pauc_80: 0.170035\n",
      "[2050]\tvalid_0's auc: 0.963606\tvalid_0's pauc_80: 0.170208\n",
      "[2100]\tvalid_0's auc: 0.963553\tvalid_0's pauc_80: 0.170218\n",
      "[2150]\tvalid_0's auc: 0.963621\tvalid_0's pauc_80: 0.170363\n",
      "[2200]\tvalid_0's auc: 0.963812\tvalid_0's pauc_80: 0.170535\n",
      "[2250]\tvalid_0's auc: 0.964045\tvalid_0's pauc_80: 0.170761\n",
      "[2300]\tvalid_0's auc: 0.963758\tvalid_0's pauc_80: 0.170505\n",
      "[2350]\tvalid_0's auc: 0.963985\tvalid_0's pauc_80: 0.170702\n",
      "[2400]\tvalid_0's auc: 0.964019\tvalid_0's pauc_80: 0.170692\n",
      "[2450]\tvalid_0's auc: 0.964001\tvalid_0's pauc_80: 0.170749\n",
      "[2500]\tvalid_0's auc: 0.964067\tvalid_0's pauc_80: 0.1708\n",
      "Did not meet early stopping. Best iteration is:\n",
      "[2374]\tvalid_0's auc: 0.964252\tvalid_0's pauc_80: 0.170929\n",
      "\n",
      "\n",
      "Running fold: 5\n",
      "Training until validation scores don't improve for 200 rounds\n",
      "[50]\tvalid_0's auc: 0.938109\tvalid_0's pauc_80: 0.156176\n",
      "[100]\tvalid_0's auc: 0.9412\tvalid_0's pauc_80: 0.157785\n",
      "[150]\tvalid_0's auc: 0.943809\tvalid_0's pauc_80: 0.159258\n",
      "[200]\tvalid_0's auc: 0.944397\tvalid_0's pauc_80: 0.15937\n",
      "[250]\tvalid_0's auc: 0.945892\tvalid_0's pauc_80: 0.160373\n",
      "[300]\tvalid_0's auc: 0.946343\tvalid_0's pauc_80: 0.160603\n",
      "[350]\tvalid_0's auc: 0.947519\tvalid_0's pauc_80: 0.161225\n",
      "[400]\tvalid_0's auc: 0.947019\tvalid_0's pauc_80: 0.16061\n",
      "[450]\tvalid_0's auc: 0.94866\tvalid_0's pauc_80: 0.161919\n",
      "[500]\tvalid_0's auc: 0.947815\tvalid_0's pauc_80: 0.160791\n",
      "[550]\tvalid_0's auc: 0.947631\tvalid_0's pauc_80: 0.160422\n",
      "[600]\tvalid_0's auc: 0.947642\tvalid_0's pauc_80: 0.159975\n",
      "Early stopping, best iteration is:\n",
      "[447]\tvalid_0's auc: 0.948707\tvalid_0's pauc_80: 0.161976\n",
      "\n",
      "\n"
     ]
    }
   ],
   "source": [
    "best_num_rounds = {}\n",
    "val_auc_scores = {}\n",
    "val_pauc_scores = {}\n",
    "all_folds = np.sort(folds.unique())\n",
    "oof_predictions = np.zeros(X_train.shape[0])\n",
    "for fold in all_folds:\n",
    "    print(f\"Running fold: {fold}\")\n",
    "    dev_index = folds != fold\n",
    "    val_index = folds == fold\n",
    "    \n",
    "    X_dev = X_train.loc[dev_index, :]\n",
    "    y_dev = y_train[dev_index]\n",
    "    \n",
    "    X_val = X_train.loc[val_index, :]\n",
    "    y_val = y_train[val_index]\n",
    "    \n",
    "    lgb_dataset_dev = lgb.Dataset(X_dev, label=y_dev, categorical_feature=categorical_features, free_raw_data=False)\n",
    "    lgb_dataset_val = lgb.Dataset(X_val, label=y_val, categorical_feature=categorical_features, free_raw_data=False)\n",
    "    \n",
    "    model = lgb.train(\n",
    "        params,\n",
    "        lgb_dataset_dev,\n",
    "        num_boost_round=num_rounds,\n",
    "        valid_sets=[lgb_dataset_val],\n",
    "        feval=pauc_80,\n",
    "        callbacks=[early_stopping(stopping_rounds=es_rounds), log_evaluation(log_rounds)],\n",
    "    )\n",
    "    \n",
    "    model.save_model(MODELS_OUTPUT_PATH / f\"{cfg.model_name}_fold_{fold}.txt\")\n",
    "    best_num_rounds[f\"fold_{fold}\"] = model.best_iteration\n",
    "    val_scores = dict(model.best_score[\"valid_0\"])\n",
    "    \n",
    "    val_auc_scores[f\"fold_{fold}\"] = val_scores[\"auc\"]\n",
    "    val_pauc_scores[f\"fold_{fold}\"] = val_scores[\"pauc_80\"]\n",
    "    \n",
    "    val_preds = model.predict(X_val, num_iteration=model.best_iteration)\n",
    "    oof_predictions[val_index] = val_preds\n",
    "    print(\"\\n\")"
   ]
  },
  {
   "cell_type": "code",
   "execution_count": 12,
   "id": "c629878c",
   "metadata": {
    "execution": {
     "iopub.execute_input": "2024-07-09T07:11:54.358037Z",
     "iopub.status.busy": "2024-07-09T07:11:54.357598Z",
     "iopub.status.idle": "2024-07-09T07:11:56.725786Z",
     "shell.execute_reply": "2024-07-09T07:11:56.724682Z"
    },
    "papermill": {
     "duration": 2.391825,
     "end_time": "2024-07-09T07:11:56.728236",
     "exception": false,
     "start_time": "2024-07-09T07:11:54.336411",
     "status": "completed"
    },
    "tags": []
   },
   "outputs": [
    {
     "data": {
      "text/html": [
       "<div>\n",
       "<style scoped>\n",
       "    .dataframe tbody tr th:only-of-type {\n",
       "        vertical-align: middle;\n",
       "    }\n",
       "\n",
       "    .dataframe tbody tr th {\n",
       "        vertical-align: top;\n",
       "    }\n",
       "\n",
       "    .dataframe thead th {\n",
       "        text-align: right;\n",
       "    }\n",
       "</style>\n",
       "<table border=\"1\" class=\"dataframe\">\n",
       "  <thead>\n",
       "    <tr style=\"text-align: right;\">\n",
       "      <th></th>\n",
       "      <th>isic_id</th>\n",
       "      <th>patient_id</th>\n",
       "      <th>fold</th>\n",
       "      <th>final_target</th>\n",
       "      <th>oof_lgb_v1</th>\n",
       "    </tr>\n",
       "  </thead>\n",
       "  <tbody>\n",
       "    <tr>\n",
       "      <th>0</th>\n",
       "      <td>ISIC_0015670</td>\n",
       "      <td>IP_1235828</td>\n",
       "      <td>4</td>\n",
       "      <td>0</td>\n",
       "      <td>0.000014</td>\n",
       "    </tr>\n",
       "    <tr>\n",
       "      <th>1</th>\n",
       "      <td>ISIC_0015845</td>\n",
       "      <td>IP_8170065</td>\n",
       "      <td>1</td>\n",
       "      <td>0</td>\n",
       "      <td>0.571618</td>\n",
       "    </tr>\n",
       "    <tr>\n",
       "      <th>2</th>\n",
       "      <td>ISIC_0015864</td>\n",
       "      <td>IP_6724798</td>\n",
       "      <td>5</td>\n",
       "      <td>0</td>\n",
       "      <td>0.000180</td>\n",
       "    </tr>\n",
       "    <tr>\n",
       "      <th>3</th>\n",
       "      <td>ISIC_0015902</td>\n",
       "      <td>IP_4111386</td>\n",
       "      <td>2</td>\n",
       "      <td>0</td>\n",
       "      <td>0.000093</td>\n",
       "    </tr>\n",
       "    <tr>\n",
       "      <th>4</th>\n",
       "      <td>ISIC_0024200</td>\n",
       "      <td>IP_8313778</td>\n",
       "      <td>1</td>\n",
       "      <td>0</td>\n",
       "      <td>0.000632</td>\n",
       "    </tr>\n",
       "  </tbody>\n",
       "</table>\n",
       "</div>"
      ],
      "text/plain": [
       "        isic_id  patient_id  fold  final_target  oof_lgb_v1\n",
       "0  ISIC_0015670  IP_1235828     4             0    0.000014\n",
       "1  ISIC_0015845  IP_8170065     1             0    0.571618\n",
       "2  ISIC_0015864  IP_6724798     5             0    0.000180\n",
       "3  ISIC_0015902  IP_4111386     2             0    0.000093\n",
       "4  ISIC_0024200  IP_8313778     1             0    0.000632"
      ]
     },
     "execution_count": 12,
     "metadata": {},
     "output_type": "execute_result"
    }
   ],
   "source": [
    "oof_preds_df = pd.DataFrame({\n",
    "    id_column: train_ids,\n",
    "    group_column: groups,\n",
    "    \"fold\": folds,\n",
    "    target_column: y_train,\n",
    "    f\"oof_{cfg.model_name}\": oof_predictions\n",
    "})\n",
    "oof_preds_df.to_csv(f\"oof_preds_{cfg.model_name}.csv\")\n",
    "oof_preds_df.head()"
   ]
  },
  {
   "cell_type": "code",
   "execution_count": 13,
   "id": "ea0ce3b5",
   "metadata": {
    "execution": {
     "iopub.execute_input": "2024-07-09T07:11:56.769859Z",
     "iopub.status.busy": "2024-07-09T07:11:56.769400Z",
     "iopub.status.idle": "2024-07-09T07:11:56.779377Z",
     "shell.execute_reply": "2024-07-09T07:11:56.778207Z"
    },
    "papermill": {
     "duration": 0.033519,
     "end_time": "2024-07-09T07:11:56.781786",
     "exception": false,
     "start_time": "2024-07-09T07:11:56.748267",
     "status": "completed"
    },
    "tags": []
   },
   "outputs": [
    {
     "data": {
      "text/plain": [
       "{'fold_1': 0.9504724782187128,\n",
       " 'fold_2': 0.9451006103238614,\n",
       " 'fold_3': 0.9462640863086695,\n",
       " 'fold_4': 0.9642524428747925,\n",
       " 'fold_5': 0.948707069368969}"
      ]
     },
     "execution_count": 13,
     "metadata": {},
     "output_type": "execute_result"
    }
   ],
   "source": [
    "val_auc_scores"
   ]
  },
  {
   "cell_type": "code",
   "execution_count": 14,
   "id": "f19e26bd",
   "metadata": {
    "execution": {
     "iopub.execute_input": "2024-07-09T07:11:56.823888Z",
     "iopub.status.busy": "2024-07-09T07:11:56.823441Z",
     "iopub.status.idle": "2024-07-09T07:11:56.830657Z",
     "shell.execute_reply": "2024-07-09T07:11:56.829591Z"
    },
    "papermill": {
     "duration": 0.030961,
     "end_time": "2024-07-09T07:11:56.832887",
     "exception": false,
     "start_time": "2024-07-09T07:11:56.801926",
     "status": "completed"
    },
    "tags": []
   },
   "outputs": [
    {
     "data": {
      "text/plain": [
       "{'fold_1': 0.16293781963322873,\n",
       " 'fold_2': 0.15798684639126895,\n",
       " 'fold_3': 0.15683068974554165,\n",
       " 'fold_4': 0.17092900999613128,\n",
       " 'fold_5': 0.16197555538276584}"
      ]
     },
     "execution_count": 14,
     "metadata": {},
     "output_type": "execute_result"
    }
   ],
   "source": [
    "val_pauc_scores"
   ]
  },
  {
   "cell_type": "code",
   "execution_count": 15,
   "id": "a3beda02",
   "metadata": {
    "execution": {
     "iopub.execute_input": "2024-07-09T07:11:56.877214Z",
     "iopub.status.busy": "2024-07-09T07:11:56.876789Z",
     "iopub.status.idle": "2024-07-09T07:11:57.108336Z",
     "shell.execute_reply": "2024-07-09T07:11:57.107099Z"
    },
    "papermill": {
     "duration": 0.256064,
     "end_time": "2024-07-09T07:11:57.111177",
     "exception": false,
     "start_time": "2024-07-09T07:11:56.855113",
     "status": "completed"
    },
    "tags": []
   },
   "outputs": [],
   "source": [
    "cv_auc_oof = compute_auc(oof_preds_df[target_column], oof_preds_df[f\"oof_{cfg.model_name}\"])\n",
    "cv_pauc_oof = compute_pauc(oof_preds_df[target_column], oof_preds_df[f\"oof_{cfg.model_name}\"], min_tpr=0.8)\n",
    "\n",
    "cv_auc_avg = np.mean(list(val_auc_scores.values()))\n",
    "cv_pauc_avg = np.mean(list(val_pauc_scores.values()))"
   ]
  },
  {
   "cell_type": "code",
   "execution_count": 16,
   "id": "ea35ab85",
   "metadata": {
    "execution": {
     "iopub.execute_input": "2024-07-09T07:11:57.155443Z",
     "iopub.status.busy": "2024-07-09T07:11:57.154202Z",
     "iopub.status.idle": "2024-07-09T07:11:57.162985Z",
     "shell.execute_reply": "2024-07-09T07:11:57.161833Z"
    },
    "papermill": {
     "duration": 0.033962,
     "end_time": "2024-07-09T07:11:57.165515",
     "exception": false,
     "start_time": "2024-07-09T07:11:57.131553",
     "status": "completed"
    },
    "tags": []
   },
   "outputs": [
    {
     "name": "stdout",
     "output_type": "stream",
     "text": [
      "CV AUC OOF: 0.950348204590502\n",
      "CV PAUC OOF: 0.1612749720824242\n",
      "CV AUC AVG: 0.9509593374190011\n",
      "CV PAUC AVG: 0.1621319842297873\n"
     ]
    }
   ],
   "source": [
    "print(f\"CV AUC OOF: {cv_auc_oof}\")\n",
    "print(f\"CV PAUC OOF: {cv_pauc_oof}\")\n",
    "print(f\"CV AUC AVG: {cv_auc_avg}\")\n",
    "print(f\"CV PAUC AVG: {cv_pauc_avg}\")"
   ]
  },
  {
   "cell_type": "code",
   "execution_count": 17,
   "id": "0bb9ae3f",
   "metadata": {
    "execution": {
     "iopub.execute_input": "2024-07-09T07:11:57.208299Z",
     "iopub.status.busy": "2024-07-09T07:11:57.207876Z",
     "iopub.status.idle": "2024-07-09T07:11:57.215220Z",
     "shell.execute_reply": "2024-07-09T07:11:57.214181Z"
    },
    "papermill": {
     "duration": 0.031489,
     "end_time": "2024-07-09T07:11:57.217518",
     "exception": false,
     "start_time": "2024-07-09T07:11:57.186029",
     "status": "completed"
    },
    "tags": []
   },
   "outputs": [],
   "source": [
    "metadata = {\n",
    "    \"params\": params,\n",
    "    \"num_rounds\": num_rounds,\n",
    "    \"es_rounds\": es_rounds,\n",
    "    \"best_num_rounds\": best_num_rounds,\n",
    "    \"val_auc_scores\": val_auc_scores,\n",
    "    \"val_pauc_scores\": val_pauc_scores,\n",
    "    \"cv_auc_oof\": cv_auc_oof,\n",
    "    \"cv_pauc_oof\": cv_pauc_oof,\n",
    "    \"cv_auc_avg\": cv_auc_avg,\n",
    "    \"cv_pauc_avg\": cv_pauc_avg\n",
    "}\n",
    "\n",
    "with open(\"run_metadata.json\", \"w\") as f:\n",
    "    json.dump(metadata, f)"
   ]
  },
  {
   "cell_type": "code",
   "execution_count": null,
   "id": "66ab1a72",
   "metadata": {
    "papermill": {
     "duration": 0.020699,
     "end_time": "2024-07-09T07:11:57.258824",
     "exception": false,
     "start_time": "2024-07-09T07:11:57.238125",
     "status": "completed"
    },
    "tags": []
   },
   "outputs": [],
   "source": []
  }
 ],
 "metadata": {
  "kaggle": {
   "accelerator": "none",
   "dataSources": [
    {
     "databundleVersionId": 8940774,
     "sourceId": 63056,
     "sourceType": "competition"
    },
    {
     "sourceId": 187439867,
     "sourceType": "kernelVersion"
    },
    {
     "sourceId": 187440506,
     "sourceType": "kernelVersion"
    }
   ],
   "dockerImageVersionId": 30732,
   "isGpuEnabled": false,
   "isInternetEnabled": false,
   "language": "python",
   "sourceType": "notebook"
  },
  "kernelspec": {
   "display_name": "Python 3",
   "language": "python",
   "name": "python3"
  },
  "language_info": {
   "codemirror_mode": {
    "name": "ipython",
    "version": 3
   },
   "file_extension": ".py",
   "mimetype": "text/x-python",
   "name": "python",
   "nbconvert_exporter": "python",
   "pygments_lexer": "ipython3",
   "version": "3.10.13"
  },
  "papermill": {
   "default_parameters": {},
   "duration": 409.526108,
   "end_time": "2024-07-09T07:11:58.604945",
   "environment_variables": {},
   "exception": null,
   "input_path": "__notebook__.ipynb",
   "output_path": "__notebook__.ipynb",
   "parameters": {},
   "start_time": "2024-07-09T07:05:09.078837",
   "version": "2.5.0"
  }
 },
 "nbformat": 4,
 "nbformat_minor": 5
}
