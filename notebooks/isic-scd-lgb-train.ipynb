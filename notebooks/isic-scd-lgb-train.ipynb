{
 "cells": [
  {
   "cell_type": "code",
   "execution_count": 1,
   "id": "5c4450ec",
   "metadata": {
    "_cell_guid": "b1076dfc-b9ad-4769-8c92-a6c4dae69d19",
    "_uuid": "8f2839f25d086af736a60e9eeb907d3b93b6e0e5",
    "execution": {
     "iopub.execute_input": "2024-07-14T20:23:09.835256Z",
     "iopub.status.busy": "2024-07-14T20:23:09.834864Z",
     "iopub.status.idle": "2024-07-14T20:23:16.612849Z",
     "shell.execute_reply": "2024-07-14T20:23:16.611634Z"
    },
    "papermill": {
     "duration": 6.787627,
     "end_time": "2024-07-14T20:23:16.615468",
     "exception": false,
     "start_time": "2024-07-14T20:23:09.827841",
     "status": "completed"
    },
    "tags": []
   },
   "outputs": [],
   "source": [
    "import json\n",
    "import joblib\n",
    "from pathlib import Path\n",
    "\n",
    "import pandas as pd\n",
    "import numpy as np\n",
    "\n",
    "from sklearn.compose import ColumnTransformer\n",
    "from sklearn.preprocessing import OrdinalEncoder\n",
    "\n",
    "import lightgbm as lgb\n",
    "from lightgbm.callback import log_evaluation, early_stopping\n",
    "\n",
    "from isic_helper import DotDict\n",
    "from isic_helper import get_folds\n",
    "from isic_helper import compute_auc, compute_pauc\n",
    "\n",
    "pd.options.display.max_columns = 1000"
   ]
  },
  {
   "cell_type": "code",
   "execution_count": 2,
   "id": "72ffc831",
   "metadata": {
    "execution": {
     "iopub.execute_input": "2024-07-14T20:23:16.627643Z",
     "iopub.status.busy": "2024-07-14T20:23:16.627005Z",
     "iopub.status.idle": "2024-07-14T20:23:16.632548Z",
     "shell.execute_reply": "2024-07-14T20:23:16.631362Z"
    },
    "papermill": {
     "duration": 0.013853,
     "end_time": "2024-07-14T20:23:16.634687",
     "exception": false,
     "start_time": "2024-07-14T20:23:16.620834",
     "status": "completed"
    },
    "tags": []
   },
   "outputs": [],
   "source": [
    "cfg = DotDict()\n",
    "cfg.seed = 2022\n",
    "\n",
    "cfg.models_output_dir = \"models\"\n",
    "cfg.model_name = \"lgb_v1\""
   ]
  },
  {
   "cell_type": "code",
   "execution_count": 3,
   "id": "35c15299",
   "metadata": {
    "execution": {
     "iopub.execute_input": "2024-07-14T20:23:16.646130Z",
     "iopub.status.busy": "2024-07-14T20:23:16.645750Z",
     "iopub.status.idle": "2024-07-14T20:23:26.780983Z",
     "shell.execute_reply": "2024-07-14T20:23:26.779589Z"
    },
    "papermill": {
     "duration": 10.143767,
     "end_time": "2024-07-14T20:23:26.783410",
     "exception": false,
     "start_time": "2024-07-14T20:23:16.639643",
     "status": "completed"
    },
    "tags": []
   },
   "outputs": [
    {
     "name": "stdout",
     "output_type": "stream",
     "text": [
      "Train data size: (401059, 57)\n",
      "Test data size: (3, 44)\n"
     ]
    }
   ],
   "source": [
    "INPUT_PATH = Path(\"../input/isic-2024-challenge/\")\n",
    "MODELS_OUTPUT_PATH = Path(f\"{cfg.models_output_dir}\")\n",
    "MODELS_OUTPUT_PATH.mkdir(exist_ok=True)\n",
    "\n",
    "train_metadata = pd.read_csv(INPUT_PATH / \"train-metadata.csv\", low_memory=False)\n",
    "test_metadata = pd.read_csv(INPUT_PATH / \"test-metadata.csv\")\n",
    "\n",
    "folds_df = get_folds()\n",
    "train_metadata = train_metadata.merge(folds_df, on=[\"isic_id\", \"patient_id\"], how=\"inner\")\n",
    "print(f\"Train data size: {train_metadata.shape}\")\n",
    "print(f\"Test data size: {test_metadata.shape}\")"
   ]
  },
  {
   "cell_type": "code",
   "execution_count": 4,
   "id": "8cb074ee",
   "metadata": {
    "execution": {
     "iopub.execute_input": "2024-07-14T20:23:26.795573Z",
     "iopub.status.busy": "2024-07-14T20:23:26.795160Z",
     "iopub.status.idle": "2024-07-14T20:23:26.817942Z",
     "shell.execute_reply": "2024-07-14T20:23:26.816891Z"
    },
    "papermill": {
     "duration": 0.031722,
     "end_time": "2024-07-14T20:23:26.820397",
     "exception": false,
     "start_time": "2024-07-14T20:23:26.788675",
     "status": "completed"
    },
    "tags": []
   },
   "outputs": [
    {
     "data": {
      "text/plain": [
       "target\n",
       "0    0.99902\n",
       "1    0.00098\n",
       "Name: proportion, dtype: float64"
      ]
     },
     "execution_count": 4,
     "metadata": {},
     "output_type": "execute_result"
    }
   ],
   "source": [
    "train_metadata[\"target\"].value_counts(normalize=True)"
   ]
  },
  {
   "cell_type": "code",
   "execution_count": 5,
   "id": "979ec769",
   "metadata": {
    "execution": {
     "iopub.execute_input": "2024-07-14T20:23:26.833563Z",
     "iopub.status.busy": "2024-07-14T20:23:26.832503Z",
     "iopub.status.idle": "2024-07-14T20:23:27.394071Z",
     "shell.execute_reply": "2024-07-14T20:23:27.392605Z"
    },
    "papermill": {
     "duration": 0.571027,
     "end_time": "2024-07-14T20:23:27.396959",
     "exception": false,
     "start_time": "2024-07-14T20:23:26.825932",
     "status": "completed"
    },
    "tags": []
   },
   "outputs": [],
   "source": [
    "def feature_engineering(df):\n",
    "    df[\"lesion_size_ratio\"]              = df[\"tbp_lv_minorAxisMM\"] / df[\"clin_size_long_diam_mm\"]\n",
    "    df[\"hue_contrast\"]                   = (df[\"tbp_lv_H\"] - df[\"tbp_lv_Hext\"]).abs()\n",
    "    df[\"normalized_lesion_size\"]         = df[\"clin_size_long_diam_mm\"] / df[\"age_approx\"]\n",
    "    df[\"overall_color_difference\"]       = (df[\"tbp_lv_deltaA\"] + df[\"tbp_lv_deltaB\"] + df[\"tbp_lv_deltaL\"]) / 3\n",
    "    \n",
    "    patient_num_images = df.groupby(\"patient_id\", as_index=False)[\"isic_id\"].count().rename(columns={\"isic_id\": \"num_images\"})\n",
    "    df = df.merge(patient_num_images, on=\"patient_id\", how=\"left\")\n",
    "\n",
    "    new_num_cols = [\n",
    "        \"num_images\",\n",
    "        \"lesion_size_ratio\",\n",
    "        \"hue_contrast\",\n",
    "        \"normalized_lesion_size\", \n",
    "        \"overall_color_difference\"\n",
    "    ]\n",
    "    \n",
    "    new_cat_cols = []\n",
    "    \n",
    "    return df, new_num_cols, new_cat_cols\n",
    "\n",
    "train_metadata, new_num_cols, new_cat_cols = feature_engineering(train_metadata.copy())\n",
    "test_metadata, new_num_cols, new_cat_cols = feature_engineering(test_metadata.copy())"
   ]
  },
  {
   "cell_type": "code",
   "execution_count": 6,
   "id": "6faaad1f",
   "metadata": {
    "execution": {
     "iopub.execute_input": "2024-07-14T20:23:27.413658Z",
     "iopub.status.busy": "2024-07-14T20:23:27.412449Z",
     "iopub.status.idle": "2024-07-14T20:23:27.420426Z",
     "shell.execute_reply": "2024-07-14T20:23:27.419137Z"
    },
    "papermill": {
     "duration": 0.020339,
     "end_time": "2024-07-14T20:23:27.422903",
     "exception": false,
     "start_time": "2024-07-14T20:23:27.402564",
     "status": "completed"
    },
    "tags": []
   },
   "outputs": [],
   "source": [
    "id_column = \"isic_id\"\n",
    "target_column = \"final_target\"\n",
    "group_column = \"patient_id\"\n",
    "drop_features = [\"image_type\"] + train_metadata.columns[~np.in1d(train_metadata.columns, test_metadata.columns)].tolist() # target column removed\n",
    "categorical_features = [\"sex\", \"anatom_site_general\", \n",
    "                        \"tbp_tile_type\", \"tbp_lv_location\", \"tbp_lv_location_simple\",\n",
    "                       \"attribution\", \"copyright_license\"\n",
    "                       ] + new_cat_cols\n",
    "numerical_features = train_metadata.columns[~np.in1d(train_metadata.columns, \n",
    "                                                     [id_column] + [group_column] + categorical_features + drop_features)]"
   ]
  },
  {
   "cell_type": "code",
   "execution_count": 7,
   "id": "7c90bece",
   "metadata": {
    "execution": {
     "iopub.execute_input": "2024-07-14T20:23:27.435914Z",
     "iopub.status.busy": "2024-07-14T20:23:27.435079Z",
     "iopub.status.idle": "2024-07-14T20:23:27.454997Z",
     "shell.execute_reply": "2024-07-14T20:23:27.453819Z"
    },
    "papermill": {
     "duration": 0.029366,
     "end_time": "2024-07-14T20:23:27.457825",
     "exception": false,
     "start_time": "2024-07-14T20:23:27.428459",
     "status": "completed"
    },
    "tags": []
   },
   "outputs": [
    {
     "data": {
      "text/html": [
       "<style>#sk-container-id-1 {color: black;background-color: white;}#sk-container-id-1 pre{padding: 0;}#sk-container-id-1 div.sk-toggleable {background-color: white;}#sk-container-id-1 label.sk-toggleable__label {cursor: pointer;display: block;width: 100%;margin-bottom: 0;padding: 0.3em;box-sizing: border-box;text-align: center;}#sk-container-id-1 label.sk-toggleable__label-arrow:before {content: \"▸\";float: left;margin-right: 0.25em;color: #696969;}#sk-container-id-1 label.sk-toggleable__label-arrow:hover:before {color: black;}#sk-container-id-1 div.sk-estimator:hover label.sk-toggleable__label-arrow:before {color: black;}#sk-container-id-1 div.sk-toggleable__content {max-height: 0;max-width: 0;overflow: hidden;text-align: left;background-color: #f0f8ff;}#sk-container-id-1 div.sk-toggleable__content pre {margin: 0.2em;color: black;border-radius: 0.25em;background-color: #f0f8ff;}#sk-container-id-1 input.sk-toggleable__control:checked~div.sk-toggleable__content {max-height: 200px;max-width: 100%;overflow: auto;}#sk-container-id-1 input.sk-toggleable__control:checked~label.sk-toggleable__label-arrow:before {content: \"▾\";}#sk-container-id-1 div.sk-estimator input.sk-toggleable__control:checked~label.sk-toggleable__label {background-color: #d4ebff;}#sk-container-id-1 div.sk-label input.sk-toggleable__control:checked~label.sk-toggleable__label {background-color: #d4ebff;}#sk-container-id-1 input.sk-hidden--visually {border: 0;clip: rect(1px 1px 1px 1px);clip: rect(1px, 1px, 1px, 1px);height: 1px;margin: -1px;overflow: hidden;padding: 0;position: absolute;width: 1px;}#sk-container-id-1 div.sk-estimator {font-family: monospace;background-color: #f0f8ff;border: 1px dotted black;border-radius: 0.25em;box-sizing: border-box;margin-bottom: 0.5em;}#sk-container-id-1 div.sk-estimator:hover {background-color: #d4ebff;}#sk-container-id-1 div.sk-parallel-item::after {content: \"\";width: 100%;border-bottom: 1px solid gray;flex-grow: 1;}#sk-container-id-1 div.sk-label:hover label.sk-toggleable__label {background-color: #d4ebff;}#sk-container-id-1 div.sk-serial::before {content: \"\";position: absolute;border-left: 1px solid gray;box-sizing: border-box;top: 0;bottom: 0;left: 50%;z-index: 0;}#sk-container-id-1 div.sk-serial {display: flex;flex-direction: column;align-items: center;background-color: white;padding-right: 0.2em;padding-left: 0.2em;position: relative;}#sk-container-id-1 div.sk-item {position: relative;z-index: 1;}#sk-container-id-1 div.sk-parallel {display: flex;align-items: stretch;justify-content: center;background-color: white;position: relative;}#sk-container-id-1 div.sk-item::before, #sk-container-id-1 div.sk-parallel-item::before {content: \"\";position: absolute;border-left: 1px solid gray;box-sizing: border-box;top: 0;bottom: 0;left: 50%;z-index: -1;}#sk-container-id-1 div.sk-parallel-item {display: flex;flex-direction: column;z-index: 1;position: relative;background-color: white;}#sk-container-id-1 div.sk-parallel-item:first-child::after {align-self: flex-end;width: 50%;}#sk-container-id-1 div.sk-parallel-item:last-child::after {align-self: flex-start;width: 50%;}#sk-container-id-1 div.sk-parallel-item:only-child::after {width: 0;}#sk-container-id-1 div.sk-dashed-wrapped {border: 1px dashed gray;margin: 0 0.4em 0.5em 0.4em;box-sizing: border-box;padding-bottom: 0.4em;background-color: white;}#sk-container-id-1 div.sk-label label {font-family: monospace;font-weight: bold;display: inline-block;line-height: 1.2em;}#sk-container-id-1 div.sk-label-container {text-align: center;}#sk-container-id-1 div.sk-container {/* jupyter's `normalize.less` sets `[hidden] { display: none; }` but bootstrap.min.css set `[hidden] { display: none !important; }` so we also need the `!important` here to be able to override the default hidden behavior on the sphinx rendered scikit-learn.org. See: https://github.com/scikit-learn/scikit-learn/issues/21755 */display: inline-block !important;position: relative;}#sk-container-id-1 div.sk-text-repr-fallback {display: none;}</style><div id=\"sk-container-id-1\" class=\"sk-top-container\"><div class=\"sk-text-repr-fallback\"><pre>ColumnTransformer(transformers=[(&#x27;numerical&#x27;, &#x27;passthrough&#x27;,\n",
       "                                 Index([&#x27;age_approx&#x27;, &#x27;clin_size_long_diam_mm&#x27;, &#x27;tbp_lv_A&#x27;, &#x27;tbp_lv_Aext&#x27;,\n",
       "       &#x27;tbp_lv_B&#x27;, &#x27;tbp_lv_Bext&#x27;, &#x27;tbp_lv_C&#x27;, &#x27;tbp_lv_Cext&#x27;, &#x27;tbp_lv_H&#x27;,\n",
       "       &#x27;tbp_lv_Hext&#x27;, &#x27;tbp_lv_L&#x27;, &#x27;tbp_lv_Lext&#x27;, &#x27;tbp_lv_areaMM2&#x27;,\n",
       "       &#x27;tbp_lv_area_perim_ratio&#x27;, &#x27;tbp_lv_color_std_mean&#x27;, &#x27;tbp_lv_deltaA&#x27;,\n",
       "       &#x27;tbp_lv_deltaB&#x27;, &#x27;tbp_lv_deltaL&#x27;, &#x27;tbp_l...\n",
       "       &#x27;normalized_lesion_size&#x27;, &#x27;overall_color_difference&#x27;, &#x27;num_images&#x27;],\n",
       "      dtype=&#x27;object&#x27;)),\n",
       "                                (&#x27;categorical&#x27;,\n",
       "                                 OrdinalEncoder(dtype=&lt;class &#x27;int&#x27;&gt;,\n",
       "                                                encoded_missing_value=-1,\n",
       "                                                handle_unknown=&#x27;use_encoded_value&#x27;,\n",
       "                                                unknown_value=-2),\n",
       "                                 [&#x27;sex&#x27;, &#x27;anatom_site_general&#x27;, &#x27;tbp_tile_type&#x27;,\n",
       "                                  &#x27;tbp_lv_location&#x27;, &#x27;tbp_lv_location_simple&#x27;,\n",
       "                                  &#x27;attribution&#x27;, &#x27;copyright_license&#x27;])],\n",
       "                  verbose_feature_names_out=False)</pre><b>In a Jupyter environment, please rerun this cell to show the HTML representation or trust the notebook. <br />On GitHub, the HTML representation is unable to render, please try loading this page with nbviewer.org.</b></div><div class=\"sk-container\" hidden><div class=\"sk-item sk-dashed-wrapped\"><div class=\"sk-label-container\"><div class=\"sk-label sk-toggleable\"><input class=\"sk-toggleable__control sk-hidden--visually\" id=\"sk-estimator-id-1\" type=\"checkbox\" ><label for=\"sk-estimator-id-1\" class=\"sk-toggleable__label sk-toggleable__label-arrow\">ColumnTransformer</label><div class=\"sk-toggleable__content\"><pre>ColumnTransformer(transformers=[(&#x27;numerical&#x27;, &#x27;passthrough&#x27;,\n",
       "                                 Index([&#x27;age_approx&#x27;, &#x27;clin_size_long_diam_mm&#x27;, &#x27;tbp_lv_A&#x27;, &#x27;tbp_lv_Aext&#x27;,\n",
       "       &#x27;tbp_lv_B&#x27;, &#x27;tbp_lv_Bext&#x27;, &#x27;tbp_lv_C&#x27;, &#x27;tbp_lv_Cext&#x27;, &#x27;tbp_lv_H&#x27;,\n",
       "       &#x27;tbp_lv_Hext&#x27;, &#x27;tbp_lv_L&#x27;, &#x27;tbp_lv_Lext&#x27;, &#x27;tbp_lv_areaMM2&#x27;,\n",
       "       &#x27;tbp_lv_area_perim_ratio&#x27;, &#x27;tbp_lv_color_std_mean&#x27;, &#x27;tbp_lv_deltaA&#x27;,\n",
       "       &#x27;tbp_lv_deltaB&#x27;, &#x27;tbp_lv_deltaL&#x27;, &#x27;tbp_l...\n",
       "       &#x27;normalized_lesion_size&#x27;, &#x27;overall_color_difference&#x27;, &#x27;num_images&#x27;],\n",
       "      dtype=&#x27;object&#x27;)),\n",
       "                                (&#x27;categorical&#x27;,\n",
       "                                 OrdinalEncoder(dtype=&lt;class &#x27;int&#x27;&gt;,\n",
       "                                                encoded_missing_value=-1,\n",
       "                                                handle_unknown=&#x27;use_encoded_value&#x27;,\n",
       "                                                unknown_value=-2),\n",
       "                                 [&#x27;sex&#x27;, &#x27;anatom_site_general&#x27;, &#x27;tbp_tile_type&#x27;,\n",
       "                                  &#x27;tbp_lv_location&#x27;, &#x27;tbp_lv_location_simple&#x27;,\n",
       "                                  &#x27;attribution&#x27;, &#x27;copyright_license&#x27;])],\n",
       "                  verbose_feature_names_out=False)</pre></div></div></div><div class=\"sk-parallel\"><div class=\"sk-parallel-item\"><div class=\"sk-item\"><div class=\"sk-label-container\"><div class=\"sk-label sk-toggleable\"><input class=\"sk-toggleable__control sk-hidden--visually\" id=\"sk-estimator-id-2\" type=\"checkbox\" ><label for=\"sk-estimator-id-2\" class=\"sk-toggleable__label sk-toggleable__label-arrow\">numerical</label><div class=\"sk-toggleable__content\"><pre>Index([&#x27;age_approx&#x27;, &#x27;clin_size_long_diam_mm&#x27;, &#x27;tbp_lv_A&#x27;, &#x27;tbp_lv_Aext&#x27;,\n",
       "       &#x27;tbp_lv_B&#x27;, &#x27;tbp_lv_Bext&#x27;, &#x27;tbp_lv_C&#x27;, &#x27;tbp_lv_Cext&#x27;, &#x27;tbp_lv_H&#x27;,\n",
       "       &#x27;tbp_lv_Hext&#x27;, &#x27;tbp_lv_L&#x27;, &#x27;tbp_lv_Lext&#x27;, &#x27;tbp_lv_areaMM2&#x27;,\n",
       "       &#x27;tbp_lv_area_perim_ratio&#x27;, &#x27;tbp_lv_color_std_mean&#x27;, &#x27;tbp_lv_deltaA&#x27;,\n",
       "       &#x27;tbp_lv_deltaB&#x27;, &#x27;tbp_lv_deltaL&#x27;, &#x27;tbp_lv_deltaLB&#x27;,\n",
       "       &#x27;tbp_lv_deltaLBnorm&#x27;, &#x27;tbp_lv_eccentricity&#x27;, &#x27;tbp_lv_minorAxisMM&#x27;,\n",
       "       &#x27;tbp_lv_nevi_confidence&#x27;, &#x27;tbp_lv_norm_border&#x27;, &#x27;tbp_lv_norm_color&#x27;,\n",
       "       &#x27;tbp_lv_perimeterMM&#x27;, &#x27;tbp_lv_radial_color_std_max&#x27;, &#x27;tbp_lv_stdL&#x27;,\n",
       "       &#x27;tbp_lv_stdLExt&#x27;, &#x27;tbp_lv_symm_2axis&#x27;, &#x27;tbp_lv_symm_2axis_angle&#x27;,\n",
       "       &#x27;tbp_lv_x&#x27;, &#x27;tbp_lv_y&#x27;, &#x27;tbp_lv_z&#x27;, &#x27;lesion_size_ratio&#x27;, &#x27;hue_contrast&#x27;,\n",
       "       &#x27;normalized_lesion_size&#x27;, &#x27;overall_color_difference&#x27;, &#x27;num_images&#x27;],\n",
       "      dtype=&#x27;object&#x27;)</pre></div></div></div><div class=\"sk-serial\"><div class=\"sk-item\"><div class=\"sk-estimator sk-toggleable\"><input class=\"sk-toggleable__control sk-hidden--visually\" id=\"sk-estimator-id-3\" type=\"checkbox\" ><label for=\"sk-estimator-id-3\" class=\"sk-toggleable__label sk-toggleable__label-arrow\">passthrough</label><div class=\"sk-toggleable__content\"><pre>passthrough</pre></div></div></div></div></div></div><div class=\"sk-parallel-item\"><div class=\"sk-item\"><div class=\"sk-label-container\"><div class=\"sk-label sk-toggleable\"><input class=\"sk-toggleable__control sk-hidden--visually\" id=\"sk-estimator-id-4\" type=\"checkbox\" ><label for=\"sk-estimator-id-4\" class=\"sk-toggleable__label sk-toggleable__label-arrow\">categorical</label><div class=\"sk-toggleable__content\"><pre>[&#x27;sex&#x27;, &#x27;anatom_site_general&#x27;, &#x27;tbp_tile_type&#x27;, &#x27;tbp_lv_location&#x27;, &#x27;tbp_lv_location_simple&#x27;, &#x27;attribution&#x27;, &#x27;copyright_license&#x27;]</pre></div></div></div><div class=\"sk-serial\"><div class=\"sk-item\"><div class=\"sk-estimator sk-toggleable\"><input class=\"sk-toggleable__control sk-hidden--visually\" id=\"sk-estimator-id-5\" type=\"checkbox\" ><label for=\"sk-estimator-id-5\" class=\"sk-toggleable__label sk-toggleable__label-arrow\">OrdinalEncoder</label><div class=\"sk-toggleable__content\"><pre>OrdinalEncoder(dtype=&lt;class &#x27;int&#x27;&gt;, encoded_missing_value=-1,\n",
       "               handle_unknown=&#x27;use_encoded_value&#x27;, unknown_value=-2)</pre></div></div></div></div></div></div></div></div></div></div>"
      ],
      "text/plain": [
       "ColumnTransformer(transformers=[('numerical', 'passthrough',\n",
       "                                 Index(['age_approx', 'clin_size_long_diam_mm', 'tbp_lv_A', 'tbp_lv_Aext',\n",
       "       'tbp_lv_B', 'tbp_lv_Bext', 'tbp_lv_C', 'tbp_lv_Cext', 'tbp_lv_H',\n",
       "       'tbp_lv_Hext', 'tbp_lv_L', 'tbp_lv_Lext', 'tbp_lv_areaMM2',\n",
       "       'tbp_lv_area_perim_ratio', 'tbp_lv_color_std_mean', 'tbp_lv_deltaA',\n",
       "       'tbp_lv_deltaB', 'tbp_lv_deltaL', 'tbp_l...\n",
       "       'normalized_lesion_size', 'overall_color_difference', 'num_images'],\n",
       "      dtype='object')),\n",
       "                                ('categorical',\n",
       "                                 OrdinalEncoder(dtype=<class 'int'>,\n",
       "                                                encoded_missing_value=-1,\n",
       "                                                handle_unknown='use_encoded_value',\n",
       "                                                unknown_value=-2),\n",
       "                                 ['sex', 'anatom_site_general', 'tbp_tile_type',\n",
       "                                  'tbp_lv_location', 'tbp_lv_location_simple',\n",
       "                                  'attribution', 'copyright_license'])],\n",
       "                  verbose_feature_names_out=False)"
      ]
     },
     "execution_count": 7,
     "metadata": {},
     "output_type": "execute_result"
    }
   ],
   "source": [
    "mixed_encoded_preprocessor = ColumnTransformer(\n",
    "    [\n",
    "        (\"numerical\", \"passthrough\", numerical_features),\n",
    "        (\n",
    "            \"categorical\",\n",
    "            OrdinalEncoder(handle_unknown=\"use_encoded_value\", unknown_value=-2, encoded_missing_value=-1, dtype=int),\n",
    "            categorical_features,\n",
    "        ),\n",
    "    ],\n",
    "    verbose_feature_names_out=False,\n",
    "\n",
    ")\n",
    "mixed_encoded_preprocessor.set_output(transform=\"pandas\")"
   ]
  },
  {
   "cell_type": "code",
   "execution_count": 8,
   "id": "70fd50d2",
   "metadata": {
    "execution": {
     "iopub.execute_input": "2024-07-14T20:23:27.474355Z",
     "iopub.status.busy": "2024-07-14T20:23:27.473289Z",
     "iopub.status.idle": "2024-07-14T20:23:27.480445Z",
     "shell.execute_reply": "2024-07-14T20:23:27.479380Z"
    },
    "papermill": {
     "duration": 0.0168,
     "end_time": "2024-07-14T20:23:27.483094",
     "exception": false,
     "start_time": "2024-07-14T20:23:27.466294",
     "status": "completed"
    },
    "tags": []
   },
   "outputs": [],
   "source": [
    "with open(f\"{cfg.model_name}_encoder.joblib\", \"wb\") as f:\n",
    "    joblib.dump(mixed_encoded_preprocessor, f)"
   ]
  },
  {
   "cell_type": "code",
   "execution_count": 9,
   "id": "a2a11e39",
   "metadata": {
    "execution": {
     "iopub.execute_input": "2024-07-14T20:23:27.496432Z",
     "iopub.status.busy": "2024-07-14T20:23:27.495951Z",
     "iopub.status.idle": "2024-07-14T20:23:28.921460Z",
     "shell.execute_reply": "2024-07-14T20:23:28.920365Z"
    },
    "papermill": {
     "duration": 1.43513,
     "end_time": "2024-07-14T20:23:28.924028",
     "exception": false,
     "start_time": "2024-07-14T20:23:27.488898",
     "status": "completed"
    },
    "tags": []
   },
   "outputs": [],
   "source": [
    "train_ids = train_metadata[id_column]\n",
    "groups = train_metadata[group_column]\n",
    "folds = train_metadata[\"fold\"]\n",
    "\n",
    "enc = mixed_encoded_preprocessor.fit(train_metadata)\n",
    "X_train = enc.transform(train_metadata)\n",
    "y_train = train_metadata[target_column]"
   ]
  },
  {
   "cell_type": "code",
   "execution_count": 10,
   "id": "9c124af3",
   "metadata": {
    "execution": {
     "iopub.execute_input": "2024-07-14T20:23:28.937207Z",
     "iopub.status.busy": "2024-07-14T20:23:28.936813Z",
     "iopub.status.idle": "2024-07-14T20:23:28.942326Z",
     "shell.execute_reply": "2024-07-14T20:23:28.941341Z"
    },
    "papermill": {
     "duration": 0.014739,
     "end_time": "2024-07-14T20:23:28.944593",
     "exception": false,
     "start_time": "2024-07-14T20:23:28.929854",
     "status": "completed"
    },
    "tags": []
   },
   "outputs": [
    {
     "name": "stdout",
     "output_type": "stream",
     "text": [
      "Total number of columns: 46\n"
     ]
    }
   ],
   "source": [
    "columns_for_model = len(X_train.columns)\n",
    "print(f\"Total number of columns: {columns_for_model}\")"
   ]
  },
  {
   "cell_type": "code",
   "execution_count": 11,
   "id": "6932b73b",
   "metadata": {
    "execution": {
     "iopub.execute_input": "2024-07-14T20:23:28.957626Z",
     "iopub.status.busy": "2024-07-14T20:23:28.957219Z",
     "iopub.status.idle": "2024-07-14T20:23:28.962482Z",
     "shell.execute_reply": "2024-07-14T20:23:28.961400Z"
    },
    "papermill": {
     "duration": 0.014449,
     "end_time": "2024-07-14T20:23:28.964725",
     "exception": false,
     "start_time": "2024-07-14T20:23:28.950276",
     "status": "completed"
    },
    "tags": []
   },
   "outputs": [],
   "source": [
    "def pauc_80(preds, data):\n",
    "    score_value = compute_pauc(data.get_label(), preds, min_tpr=0.8)   \n",
    "    return 'pauc_80', score_value, True"
   ]
  },
  {
   "cell_type": "code",
   "execution_count": 12,
   "id": "f52d72f3",
   "metadata": {
    "execution": {
     "iopub.execute_input": "2024-07-14T20:23:28.978136Z",
     "iopub.status.busy": "2024-07-14T20:23:28.977401Z",
     "iopub.status.idle": "2024-07-14T20:23:28.983370Z",
     "shell.execute_reply": "2024-07-14T20:23:28.982252Z"
    },
    "papermill": {
     "duration": 0.01508,
     "end_time": "2024-07-14T20:23:28.985526",
     "exception": false,
     "start_time": "2024-07-14T20:23:28.970446",
     "status": "completed"
    },
    "tags": []
   },
   "outputs": [],
   "source": [
    "params = {\n",
    "    \"objective\": \"binary\",\n",
    "    \"metric\": \"auc\",\n",
    "    \"num_leaves\": 63,\n",
    "    \"learning_rate\": 0.01,\n",
    "    \"bagging_freq\": 5,\n",
    "    \"bagging_fraction\": 0.6,\n",
    "    \"bagging_seed\": cfg.seed,\n",
    "    \"feature_fraction\": 0.3,\n",
    "    \"feature_fraction_seed\": cfg.seed,\n",
    "    \"lambda_l1\": 0.95,\n",
    "    \"lambda_l2\": 0.95,\n",
    "    \"verbosity\": -1\n",
    "}\n",
    "num_rounds = 2500\n",
    "es_rounds = 200\n",
    "log_rounds = 50"
   ]
  },
  {
   "cell_type": "code",
   "execution_count": 13,
   "id": "c13fc152",
   "metadata": {
    "execution": {
     "iopub.execute_input": "2024-07-14T20:23:28.999288Z",
     "iopub.status.busy": "2024-07-14T20:23:28.998294Z",
     "iopub.status.idle": "2024-07-14T20:29:26.230509Z",
     "shell.execute_reply": "2024-07-14T20:29:26.229110Z"
    },
    "papermill": {
     "duration": 357.241596,
     "end_time": "2024-07-14T20:29:26.233047",
     "exception": false,
     "start_time": "2024-07-14T20:23:28.991451",
     "status": "completed"
    },
    "tags": []
   },
   "outputs": [
    {
     "name": "stdout",
     "output_type": "stream",
     "text": [
      "Running fold: 1\n",
      "[LightGBM] [Warning] Met negative value in categorical features, will convert it to NaN\n",
      "Training until validation scores don't improve for 200 rounds\n",
      "[50]\tvalid_0's auc: 0.931613\tvalid_0's pauc_80: 0.147766\n",
      "[100]\tvalid_0's auc: 0.937806\tvalid_0's pauc_80: 0.151397\n",
      "[150]\tvalid_0's auc: 0.942852\tvalid_0's pauc_80: 0.155529\n",
      "[200]\tvalid_0's auc: 0.943996\tvalid_0's pauc_80: 0.156272\n",
      "[250]\tvalid_0's auc: 0.945987\tvalid_0's pauc_80: 0.157757\n",
      "[300]\tvalid_0's auc: 0.94731\tvalid_0's pauc_80: 0.159106\n",
      "[350]\tvalid_0's auc: 0.948495\tvalid_0's pauc_80: 0.160156\n",
      "[400]\tvalid_0's auc: 0.948868\tvalid_0's pauc_80: 0.16053\n",
      "[450]\tvalid_0's auc: 0.948224\tvalid_0's pauc_80: 0.159804\n",
      "[500]\tvalid_0's auc: 0.949286\tvalid_0's pauc_80: 0.160935\n",
      "[550]\tvalid_0's auc: 0.950253\tvalid_0's pauc_80: 0.161591\n",
      "[600]\tvalid_0's auc: 0.950537\tvalid_0's pauc_80: 0.161587\n",
      "[650]\tvalid_0's auc: 0.950076\tvalid_0's pauc_80: 0.16107\n",
      "[700]\tvalid_0's auc: 0.950629\tvalid_0's pauc_80: 0.161641\n",
      "[750]\tvalid_0's auc: 0.950383\tvalid_0's pauc_80: 0.16139\n",
      "Early stopping, best iteration is:\n",
      "[559]\tvalid_0's auc: 0.950642\tvalid_0's pauc_80: 0.161894\n",
      "\n",
      "\n",
      "Running fold: 2\n",
      "[LightGBM] [Warning] Met negative value in categorical features, will convert it to NaN\n",
      "Training until validation scores don't improve for 200 rounds\n",
      "[50]\tvalid_0's auc: 0.92251\tvalid_0's pauc_80: 0.140787\n",
      "[100]\tvalid_0's auc: 0.924099\tvalid_0's pauc_80: 0.140148\n",
      "[150]\tvalid_0's auc: 0.932103\tvalid_0's pauc_80: 0.147113\n",
      "[200]\tvalid_0's auc: 0.933751\tvalid_0's pauc_80: 0.148259\n",
      "[250]\tvalid_0's auc: 0.935974\tvalid_0's pauc_80: 0.150012\n",
      "[300]\tvalid_0's auc: 0.939684\tvalid_0's pauc_80: 0.153008\n",
      "[350]\tvalid_0's auc: 0.942656\tvalid_0's pauc_80: 0.155615\n",
      "[400]\tvalid_0's auc: 0.944971\tvalid_0's pauc_80: 0.157793\n",
      "[450]\tvalid_0's auc: 0.945534\tvalid_0's pauc_80: 0.158106\n",
      "[500]\tvalid_0's auc: 0.946254\tvalid_0's pauc_80: 0.158813\n",
      "[550]\tvalid_0's auc: 0.948313\tvalid_0's pauc_80: 0.160695\n",
      "[600]\tvalid_0's auc: 0.949605\tvalid_0's pauc_80: 0.161892\n",
      "[650]\tvalid_0's auc: 0.950303\tvalid_0's pauc_80: 0.162435\n",
      "[700]\tvalid_0's auc: 0.951054\tvalid_0's pauc_80: 0.163102\n",
      "[750]\tvalid_0's auc: 0.951569\tvalid_0's pauc_80: 0.163512\n",
      "[800]\tvalid_0's auc: 0.952123\tvalid_0's pauc_80: 0.164162\n",
      "[850]\tvalid_0's auc: 0.952145\tvalid_0's pauc_80: 0.16413\n",
      "[900]\tvalid_0's auc: 0.952441\tvalid_0's pauc_80: 0.164511\n",
      "[950]\tvalid_0's auc: 0.952213\tvalid_0's pauc_80: 0.16432\n",
      "[1000]\tvalid_0's auc: 0.952056\tvalid_0's pauc_80: 0.164168\n",
      "[1050]\tvalid_0's auc: 0.952207\tvalid_0's pauc_80: 0.164457\n",
      "Early stopping, best iteration is:\n",
      "[880]\tvalid_0's auc: 0.952556\tvalid_0's pauc_80: 0.164607\n",
      "\n",
      "\n",
      "Running fold: 3\n",
      "[LightGBM] [Warning] Met negative value in categorical features, will convert it to NaN\n",
      "Training until validation scores don't improve for 200 rounds\n",
      "[50]\tvalid_0's auc: 0.94315\tvalid_0's pauc_80: 0.155138\n",
      "[100]\tvalid_0's auc: 0.941032\tvalid_0's pauc_80: 0.152654\n",
      "[150]\tvalid_0's auc: 0.940668\tvalid_0's pauc_80: 0.15183\n",
      "[200]\tvalid_0's auc: 0.941585\tvalid_0's pauc_80: 0.152793\n",
      "Early stopping, best iteration is:\n",
      "[38]\tvalid_0's auc: 0.944355\tvalid_0's pauc_80: 0.156656\n",
      "\n",
      "\n",
      "Running fold: 4\n",
      "[LightGBM] [Warning] Met negative value in categorical features, will convert it to NaN\n",
      "[LightGBM] [Warning] Met negative value in categorical features, will convert it to NaN\n",
      "Training until validation scores don't improve for 200 rounds\n",
      "[50]\tvalid_0's auc: 0.942998\tvalid_0's pauc_80: 0.150935\n",
      "[100]\tvalid_0's auc: 0.943951\tvalid_0's pauc_80: 0.150778\n",
      "[150]\tvalid_0's auc: 0.9472\tvalid_0's pauc_80: 0.153192\n",
      "[200]\tvalid_0's auc: 0.949293\tvalid_0's pauc_80: 0.155106\n",
      "[250]\tvalid_0's auc: 0.952427\tvalid_0's pauc_80: 0.158126\n",
      "[300]\tvalid_0's auc: 0.953142\tvalid_0's pauc_80: 0.158757\n",
      "[350]\tvalid_0's auc: 0.955384\tvalid_0's pauc_80: 0.161033\n",
      "[400]\tvalid_0's auc: 0.957524\tvalid_0's pauc_80: 0.163093\n",
      "[450]\tvalid_0's auc: 0.959599\tvalid_0's pauc_80: 0.165185\n",
      "[500]\tvalid_0's auc: 0.960809\tvalid_0's pauc_80: 0.166381\n",
      "[550]\tvalid_0's auc: 0.961215\tvalid_0's pauc_80: 0.166736\n",
      "[600]\tvalid_0's auc: 0.961739\tvalid_0's pauc_80: 0.167393\n",
      "[650]\tvalid_0's auc: 0.962544\tvalid_0's pauc_80: 0.168202\n",
      "[700]\tvalid_0's auc: 0.962704\tvalid_0's pauc_80: 0.16839\n",
      "[750]\tvalid_0's auc: 0.963224\tvalid_0's pauc_80: 0.168904\n",
      "[800]\tvalid_0's auc: 0.963932\tvalid_0's pauc_80: 0.169672\n",
      "[850]\tvalid_0's auc: 0.964398\tvalid_0's pauc_80: 0.170137\n",
      "[900]\tvalid_0's auc: 0.96469\tvalid_0's pauc_80: 0.170414\n",
      "[950]\tvalid_0's auc: 0.9651\tvalid_0's pauc_80: 0.170903\n",
      "[1000]\tvalid_0's auc: 0.965467\tvalid_0's pauc_80: 0.171337\n",
      "[1050]\tvalid_0's auc: 0.965463\tvalid_0's pauc_80: 0.171346\n",
      "[1100]\tvalid_0's auc: 0.965456\tvalid_0's pauc_80: 0.171367\n",
      "[1150]\tvalid_0's auc: 0.965649\tvalid_0's pauc_80: 0.171493\n",
      "[1200]\tvalid_0's auc: 0.966017\tvalid_0's pauc_80: 0.171833\n",
      "[1250]\tvalid_0's auc: 0.966322\tvalid_0's pauc_80: 0.17212\n",
      "[1300]\tvalid_0's auc: 0.966383\tvalid_0's pauc_80: 0.17218\n",
      "[1350]\tvalid_0's auc: 0.966221\tvalid_0's pauc_80: 0.172058\n",
      "[1400]\tvalid_0's auc: 0.966454\tvalid_0's pauc_80: 0.172251\n",
      "[1450]\tvalid_0's auc: 0.966597\tvalid_0's pauc_80: 0.17238\n",
      "[1500]\tvalid_0's auc: 0.966655\tvalid_0's pauc_80: 0.172448\n",
      "[1550]\tvalid_0's auc: 0.966592\tvalid_0's pauc_80: 0.172486\n",
      "[1600]\tvalid_0's auc: 0.966779\tvalid_0's pauc_80: 0.172685\n",
      "[1650]\tvalid_0's auc: 0.966792\tvalid_0's pauc_80: 0.172703\n",
      "[1700]\tvalid_0's auc: 0.966843\tvalid_0's pauc_80: 0.172754\n",
      "[1750]\tvalid_0's auc: 0.9668\tvalid_0's pauc_80: 0.172704\n",
      "[1800]\tvalid_0's auc: 0.966793\tvalid_0's pauc_80: 0.172677\n",
      "[1850]\tvalid_0's auc: 0.966616\tvalid_0's pauc_80: 0.172568\n",
      "Early stopping, best iteration is:\n",
      "[1665]\tvalid_0's auc: 0.966854\tvalid_0's pauc_80: 0.172755\n",
      "\n",
      "\n",
      "Running fold: 5\n",
      "[LightGBM] [Warning] Met negative value in categorical features, will convert it to NaN\n",
      "Training until validation scores don't improve for 200 rounds\n",
      "[50]\tvalid_0's auc: 0.942571\tvalid_0's pauc_80: 0.158773\n",
      "[100]\tvalid_0's auc: 0.94301\tvalid_0's pauc_80: 0.158689\n",
      "[150]\tvalid_0's auc: 0.945343\tvalid_0's pauc_80: 0.160441\n",
      "[200]\tvalid_0's auc: 0.944863\tvalid_0's pauc_80: 0.15993\n",
      "[250]\tvalid_0's auc: 0.944744\tvalid_0's pauc_80: 0.159299\n",
      "[300]\tvalid_0's auc: 0.947655\tvalid_0's pauc_80: 0.161535\n",
      "[350]\tvalid_0's auc: 0.948322\tvalid_0's pauc_80: 0.161936\n",
      "[400]\tvalid_0's auc: 0.948574\tvalid_0's pauc_80: 0.161994\n",
      "[450]\tvalid_0's auc: 0.949302\tvalid_0's pauc_80: 0.162482\n",
      "[500]\tvalid_0's auc: 0.948986\tvalid_0's pauc_80: 0.161939\n",
      "[550]\tvalid_0's auc: 0.948082\tvalid_0's pauc_80: 0.161022\n",
      "[600]\tvalid_0's auc: 0.947936\tvalid_0's pauc_80: 0.160518\n",
      "[650]\tvalid_0's auc: 0.947722\tvalid_0's pauc_80: 0.160362\n",
      "Early stopping, best iteration is:\n",
      "[454]\tvalid_0's auc: 0.949535\tvalid_0's pauc_80: 0.162683\n",
      "\n",
      "\n"
     ]
    }
   ],
   "source": [
    "best_num_rounds = {}\n",
    "val_auc_scores = {}\n",
    "val_pauc_scores = {}\n",
    "all_folds = np.sort(folds.unique())\n",
    "oof_predictions = np.zeros(X_train.shape[0])\n",
    "for fold in all_folds:\n",
    "    print(f\"Running fold: {fold}\")\n",
    "    dev_index = folds != fold\n",
    "    val_index = folds == fold\n",
    "    \n",
    "    X_dev = X_train.loc[dev_index, :]\n",
    "    y_dev = y_train[dev_index]\n",
    "    \n",
    "    X_val = X_train.loc[val_index, :]\n",
    "    y_val = y_train[val_index]\n",
    "    \n",
    "    lgb_dataset_dev = lgb.Dataset(X_dev, label=y_dev, categorical_feature=categorical_features, free_raw_data=False)\n",
    "    lgb_dataset_val = lgb.Dataset(X_val, label=y_val, categorical_feature=categorical_features, free_raw_data=False)\n",
    "    \n",
    "    model = lgb.train(\n",
    "        params,\n",
    "        lgb_dataset_dev,\n",
    "        num_boost_round=num_rounds,\n",
    "        valid_sets=[lgb_dataset_val],\n",
    "        feval=pauc_80,\n",
    "        callbacks=[early_stopping(stopping_rounds=es_rounds), log_evaluation(log_rounds)],\n",
    "    )\n",
    "    \n",
    "    model.save_model(MODELS_OUTPUT_PATH / f\"{cfg.model_name}_fold_{fold}.txt\")\n",
    "    best_num_rounds[f\"fold_{fold}\"] = model.best_iteration\n",
    "    val_scores = dict(model.best_score[\"valid_0\"])\n",
    "    \n",
    "    val_auc_scores[f\"fold_{fold}\"] = val_scores[\"auc\"]\n",
    "    val_pauc_scores[f\"fold_{fold}\"] = val_scores[\"pauc_80\"]\n",
    "    \n",
    "    val_preds = model.predict(X_val, num_iteration=model.best_iteration)\n",
    "    oof_predictions[val_index] = val_preds\n",
    "    print(\"\\n\")"
   ]
  },
  {
   "cell_type": "code",
   "execution_count": 14,
   "id": "baffbc6a",
   "metadata": {
    "execution": {
     "iopub.execute_input": "2024-07-14T20:29:26.260856Z",
     "iopub.status.busy": "2024-07-14T20:29:26.260441Z",
     "iopub.status.idle": "2024-07-14T20:29:27.620284Z",
     "shell.execute_reply": "2024-07-14T20:29:27.618961Z"
    },
    "papermill": {
     "duration": 1.376852,
     "end_time": "2024-07-14T20:29:27.622744",
     "exception": false,
     "start_time": "2024-07-14T20:29:26.245892",
     "status": "completed"
    },
    "tags": []
   },
   "outputs": [
    {
     "data": {
      "text/html": [
       "<div>\n",
       "<style scoped>\n",
       "    .dataframe tbody tr th:only-of-type {\n",
       "        vertical-align: middle;\n",
       "    }\n",
       "\n",
       "    .dataframe tbody tr th {\n",
       "        vertical-align: top;\n",
       "    }\n",
       "\n",
       "    .dataframe thead th {\n",
       "        text-align: right;\n",
       "    }\n",
       "</style>\n",
       "<table border=\"1\" class=\"dataframe\">\n",
       "  <thead>\n",
       "    <tr style=\"text-align: right;\">\n",
       "      <th></th>\n",
       "      <th>isic_id</th>\n",
       "      <th>patient_id</th>\n",
       "      <th>fold</th>\n",
       "      <th>final_target</th>\n",
       "      <th>oof_lgb_v1</th>\n",
       "    </tr>\n",
       "  </thead>\n",
       "  <tbody>\n",
       "    <tr>\n",
       "      <th>0</th>\n",
       "      <td>ISIC_0015670</td>\n",
       "      <td>IP_1235828</td>\n",
       "      <td>4</td>\n",
       "      <td>0</td>\n",
       "      <td>0.000023</td>\n",
       "    </tr>\n",
       "    <tr>\n",
       "      <th>1</th>\n",
       "      <td>ISIC_0015845</td>\n",
       "      <td>IP_8170065</td>\n",
       "      <td>1</td>\n",
       "      <td>0</td>\n",
       "      <td>0.354119</td>\n",
       "    </tr>\n",
       "    <tr>\n",
       "      <th>2</th>\n",
       "      <td>ISIC_0015864</td>\n",
       "      <td>IP_6724798</td>\n",
       "      <td>5</td>\n",
       "      <td>0</td>\n",
       "      <td>0.000093</td>\n",
       "    </tr>\n",
       "    <tr>\n",
       "      <th>3</th>\n",
       "      <td>ISIC_0015902</td>\n",
       "      <td>IP_4111386</td>\n",
       "      <td>2</td>\n",
       "      <td>0</td>\n",
       "      <td>0.000062</td>\n",
       "    </tr>\n",
       "    <tr>\n",
       "      <th>4</th>\n",
       "      <td>ISIC_0024200</td>\n",
       "      <td>IP_8313778</td>\n",
       "      <td>1</td>\n",
       "      <td>0</td>\n",
       "      <td>0.000751</td>\n",
       "    </tr>\n",
       "  </tbody>\n",
       "</table>\n",
       "</div>"
      ],
      "text/plain": [
       "        isic_id  patient_id  fold  final_target  oof_lgb_v1\n",
       "0  ISIC_0015670  IP_1235828     4             0    0.000023\n",
       "1  ISIC_0015845  IP_8170065     1             0    0.354119\n",
       "2  ISIC_0015864  IP_6724798     5             0    0.000093\n",
       "3  ISIC_0015902  IP_4111386     2             0    0.000062\n",
       "4  ISIC_0024200  IP_8313778     1             0    0.000751"
      ]
     },
     "execution_count": 14,
     "metadata": {},
     "output_type": "execute_result"
    }
   ],
   "source": [
    "oof_preds_df = pd.DataFrame({\n",
    "    id_column: train_ids,\n",
    "    group_column: groups,\n",
    "    \"fold\": folds,\n",
    "    target_column: y_train,\n",
    "    f\"oof_{cfg.model_name}\": oof_predictions\n",
    "})\n",
    "oof_preds_df.to_csv(f\"oof_preds_{cfg.model_name}.csv\", index=False)\n",
    "oof_preds_df.head()"
   ]
  },
  {
   "cell_type": "code",
   "execution_count": 15,
   "id": "c781f416",
   "metadata": {
    "execution": {
     "iopub.execute_input": "2024-07-14T20:29:27.650152Z",
     "iopub.status.busy": "2024-07-14T20:29:27.649739Z",
     "iopub.status.idle": "2024-07-14T20:29:27.658177Z",
     "shell.execute_reply": "2024-07-14T20:29:27.657044Z"
    },
    "papermill": {
     "duration": 0.024911,
     "end_time": "2024-07-14T20:29:27.660481",
     "exception": false,
     "start_time": "2024-07-14T20:29:27.635570",
     "status": "completed"
    },
    "tags": []
   },
   "outputs": [
    {
     "data": {
      "text/plain": [
       "{'fold_1': 0.9506421551793852,\n",
       " 'fold_2': 0.9525560711449348,\n",
       " 'fold_3': 0.9443546349103343,\n",
       " 'fold_4': 0.9668538081391721,\n",
       " 'fold_5': 0.9495350198244137}"
      ]
     },
     "execution_count": 15,
     "metadata": {},
     "output_type": "execute_result"
    }
   ],
   "source": [
    "val_auc_scores"
   ]
  },
  {
   "cell_type": "code",
   "execution_count": 16,
   "id": "bb13f8b5",
   "metadata": {
    "execution": {
     "iopub.execute_input": "2024-07-14T20:29:27.688401Z",
     "iopub.status.busy": "2024-07-14T20:29:27.688002Z",
     "iopub.status.idle": "2024-07-14T20:29:27.695019Z",
     "shell.execute_reply": "2024-07-14T20:29:27.693968Z"
    },
    "papermill": {
     "duration": 0.023129,
     "end_time": "2024-07-14T20:29:27.697055",
     "exception": false,
     "start_time": "2024-07-14T20:29:27.673926",
     "status": "completed"
    },
    "tags": []
   },
   "outputs": [
    {
     "data": {
      "text/plain": [
       "{'fold_1': 0.16189363377553598,\n",
       " 'fold_2': 0.16460742359112585,\n",
       " 'fold_3': 0.1566555858531654,\n",
       " 'fold_4': 0.17275461431905254,\n",
       " 'fold_5': 0.16268287305687626}"
      ]
     },
     "execution_count": 16,
     "metadata": {},
     "output_type": "execute_result"
    }
   ],
   "source": [
    "val_pauc_scores"
   ]
  },
  {
   "cell_type": "code",
   "execution_count": 17,
   "id": "9577e4ca",
   "metadata": {
    "execution": {
     "iopub.execute_input": "2024-07-14T20:29:27.725096Z",
     "iopub.status.busy": "2024-07-14T20:29:27.724670Z",
     "iopub.status.idle": "2024-07-14T20:29:27.955237Z",
     "shell.execute_reply": "2024-07-14T20:29:27.954148Z"
    },
    "papermill": {
     "duration": 0.247797,
     "end_time": "2024-07-14T20:29:27.957885",
     "exception": false,
     "start_time": "2024-07-14T20:29:27.710088",
     "status": "completed"
    },
    "tags": []
   },
   "outputs": [
    {
     "name": "stdout",
     "output_type": "stream",
     "text": [
      "CV AUC OOF: 0.934603157371475\n",
      "CV PAUC OOF: 0.14554897076012202\n",
      "CV AUC AVG: 0.952788337839648\n",
      "CV PAUC AVG: 0.16371882611915117\n"
     ]
    }
   ],
   "source": [
    "cv_auc_oof = compute_auc(oof_preds_df[target_column], oof_preds_df[f\"oof_{cfg.model_name}\"])\n",
    "cv_pauc_oof = compute_pauc(oof_preds_df[target_column], oof_preds_df[f\"oof_{cfg.model_name}\"], min_tpr=0.8)\n",
    "\n",
    "cv_auc_avg = np.mean(list(val_auc_scores.values()))\n",
    "cv_pauc_avg = np.mean(list(val_pauc_scores.values()))\n",
    "\n",
    "print(f\"CV AUC OOF: {cv_auc_oof}\")\n",
    "print(f\"CV PAUC OOF: {cv_pauc_oof}\")\n",
    "print(f\"CV AUC AVG: {cv_auc_avg}\")\n",
    "print(f\"CV PAUC AVG: {cv_pauc_avg}\")"
   ]
  },
  {
   "cell_type": "code",
   "execution_count": 18,
   "id": "18004ad7",
   "metadata": {
    "execution": {
     "iopub.execute_input": "2024-07-14T20:29:27.986280Z",
     "iopub.status.busy": "2024-07-14T20:29:27.985340Z",
     "iopub.status.idle": "2024-07-14T20:29:27.991749Z",
     "shell.execute_reply": "2024-07-14T20:29:27.990751Z"
    },
    "papermill": {
     "duration": 0.022822,
     "end_time": "2024-07-14T20:29:27.993859",
     "exception": false,
     "start_time": "2024-07-14T20:29:27.971037",
     "status": "completed"
    },
    "tags": []
   },
   "outputs": [],
   "source": [
    "metadata = {\n",
    "    \"params\": params,\n",
    "    \"num_rounds\": num_rounds,\n",
    "    \"es_rounds\": es_rounds,\n",
    "    \"best_num_rounds\": best_num_rounds,\n",
    "    \"val_auc_scores\": val_auc_scores,\n",
    "    \"val_pauc_scores\": val_pauc_scores,\n",
    "    \"cv_auc_oof\": cv_auc_oof,\n",
    "    \"cv_pauc_oof\": cv_pauc_oof,\n",
    "    \"cv_auc_avg\": cv_auc_avg,\n",
    "    \"cv_pauc_avg\": cv_pauc_avg\n",
    "}\n",
    "\n",
    "with open(\"run_metadata.json\", \"w\") as f:\n",
    "    json.dump(metadata, f)"
   ]
  },
  {
   "cell_type": "code",
   "execution_count": null,
   "id": "b67eb2e1",
   "metadata": {
    "papermill": {
     "duration": 0.012727,
     "end_time": "2024-07-14T20:29:28.019611",
     "exception": false,
     "start_time": "2024-07-14T20:29:28.006884",
     "status": "completed"
    },
    "tags": []
   },
   "outputs": [],
   "source": []
  }
 ],
 "metadata": {
  "kaggle": {
   "accelerator": "none",
   "dataSources": [
    {
     "databundleVersionId": 9094797,
     "sourceId": 63056,
     "sourceType": "competition"
    },
    {
     "sourceId": 187439867,
     "sourceType": "kernelVersion"
    },
    {
     "sourceId": 187477024,
     "sourceType": "kernelVersion"
    }
   ],
   "dockerImageVersionId": 30732,
   "isGpuEnabled": false,
   "isInternetEnabled": false,
   "language": "python",
   "sourceType": "notebook"
  },
  "kernelspec": {
   "display_name": "Python 3",
   "language": "python",
   "name": "python3"
  },
  "language_info": {
   "codemirror_mode": {
    "name": "ipython",
    "version": 3
   },
   "file_extension": ".py",
   "mimetype": "text/x-python",
   "name": "python",
   "nbconvert_exporter": "python",
   "pygments_lexer": "ipython3",
   "version": "3.10.13"
  },
  "papermill": {
   "default_parameters": {},
   "duration": 383.299324,
   "end_time": "2024-07-14T20:29:30.247590",
   "environment_variables": {},
   "exception": null,
   "input_path": "__notebook__.ipynb",
   "output_path": "__notebook__.ipynb",
   "parameters": {},
   "start_time": "2024-07-14T20:23:06.948266",
   "version": "2.5.0"
  }
 },
 "nbformat": 4,
 "nbformat_minor": 5
}
