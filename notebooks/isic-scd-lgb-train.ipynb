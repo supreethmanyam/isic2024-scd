{
 "cells": [
  {
   "cell_type": "code",
   "execution_count": 1,
   "id": "4aab6859",
   "metadata": {
    "_cell_guid": "b1076dfc-b9ad-4769-8c92-a6c4dae69d19",
    "_uuid": "8f2839f25d086af736a60e9eeb907d3b93b6e0e5",
    "execution": {
     "iopub.execute_input": "2024-07-13T07:48:43.280913Z",
     "iopub.status.busy": "2024-07-13T07:48:43.280437Z",
     "iopub.status.idle": "2024-07-13T07:48:49.978897Z",
     "shell.execute_reply": "2024-07-13T07:48:49.977660Z"
    },
    "papermill": {
     "duration": 6.708711,
     "end_time": "2024-07-13T07:48:49.981498",
     "exception": false,
     "start_time": "2024-07-13T07:48:43.272787",
     "status": "completed"
    },
    "tags": []
   },
   "outputs": [],
   "source": [
    "import json\n",
    "import joblib\n",
    "from pathlib import Path\n",
    "\n",
    "import pandas as pd\n",
    "import numpy as np\n",
    "\n",
    "from sklearn.compose import ColumnTransformer\n",
    "from sklearn.preprocessing import OrdinalEncoder\n",
    "\n",
    "import lightgbm as lgb\n",
    "from lightgbm.callback import log_evaluation, early_stopping\n",
    "\n",
    "from isic_helper import DotDict\n",
    "from isic_helper import get_folds\n",
    "from isic_helper import compute_auc, compute_pauc\n",
    "\n",
    "pd.options.display.max_columns = 1000"
   ]
  },
  {
   "cell_type": "code",
   "execution_count": 2,
   "id": "bfe62ae8",
   "metadata": {
    "execution": {
     "iopub.execute_input": "2024-07-13T07:48:49.994216Z",
     "iopub.status.busy": "2024-07-13T07:48:49.993637Z",
     "iopub.status.idle": "2024-07-13T07:48:49.998983Z",
     "shell.execute_reply": "2024-07-13T07:48:49.997807Z"
    },
    "papermill": {
     "duration": 0.01409,
     "end_time": "2024-07-13T07:48:50.001170",
     "exception": false,
     "start_time": "2024-07-13T07:48:49.987080",
     "status": "completed"
    },
    "tags": []
   },
   "outputs": [],
   "source": [
    "cfg = DotDict()\n",
    "cfg.seed = 2022\n",
    "\n",
    "cfg.models_output_dir = \"models\"\n",
    "cfg.model_name = \"lgb_v1\""
   ]
  },
  {
   "cell_type": "code",
   "execution_count": 3,
   "id": "ea32ab58",
   "metadata": {
    "execution": {
     "iopub.execute_input": "2024-07-13T07:48:50.013282Z",
     "iopub.status.busy": "2024-07-13T07:48:50.012881Z",
     "iopub.status.idle": "2024-07-13T07:49:03.677706Z",
     "shell.execute_reply": "2024-07-13T07:49:03.676336Z"
    },
    "papermill": {
     "duration": 13.673687,
     "end_time": "2024-07-13T07:49:03.680102",
     "exception": false,
     "start_time": "2024-07-13T07:48:50.006415",
     "status": "completed"
    },
    "tags": []
   },
   "outputs": [
    {
     "name": "stdout",
     "output_type": "stream",
     "text": [
      "Train data size: (401059, 57)\n",
      "Test data size: (401059, 57)\n"
     ]
    }
   ],
   "source": [
    "INPUT_PATH = Path(\"../input/isic-2024-challenge/\")\n",
    "MODELS_OUTPUT_PATH = Path(f\"{cfg.models_output_dir}\")\n",
    "MODELS_OUTPUT_PATH.mkdir(exist_ok=True)\n",
    "\n",
    "train_metadata = pd.read_csv(INPUT_PATH / \"train-metadata.csv\", low_memory=False)\n",
    "test_metadata = pd.read_csv(INPUT_PATH / \"test-metadata.csv\")\n",
    "\n",
    "folds_df = get_folds()\n",
    "train_metadata = train_metadata.merge(folds_df, on=[\"isic_id\", \"patient_id\"], how=\"inner\")\n",
    "print(f\"Train data size: {train_metadata.shape}\")\n",
    "print(f\"Test data size: {train_metadata.shape}\")"
   ]
  },
  {
   "cell_type": "code",
   "execution_count": 4,
   "id": "fbf3a394",
   "metadata": {
    "execution": {
     "iopub.execute_input": "2024-07-13T07:49:03.692349Z",
     "iopub.status.busy": "2024-07-13T07:49:03.691928Z",
     "iopub.status.idle": "2024-07-13T07:49:03.712680Z",
     "shell.execute_reply": "2024-07-13T07:49:03.711638Z"
    },
    "papermill": {
     "duration": 0.029254,
     "end_time": "2024-07-13T07:49:03.714715",
     "exception": false,
     "start_time": "2024-07-13T07:49:03.685461",
     "status": "completed"
    },
    "tags": []
   },
   "outputs": [
    {
     "data": {
      "text/plain": [
       "target\n",
       "0    0.99902\n",
       "1    0.00098\n",
       "Name: proportion, dtype: float64"
      ]
     },
     "execution_count": 4,
     "metadata": {},
     "output_type": "execute_result"
    }
   ],
   "source": [
    "train_metadata[\"target\"].value_counts(normalize=True)"
   ]
  },
  {
   "cell_type": "code",
   "execution_count": 5,
   "id": "24654d90",
   "metadata": {
    "execution": {
     "iopub.execute_input": "2024-07-13T07:49:03.727379Z",
     "iopub.status.busy": "2024-07-13T07:49:03.726995Z",
     "iopub.status.idle": "2024-07-13T07:49:04.248394Z",
     "shell.execute_reply": "2024-07-13T07:49:04.247234Z"
    },
    "papermill": {
     "duration": 0.531003,
     "end_time": "2024-07-13T07:49:04.251177",
     "exception": false,
     "start_time": "2024-07-13T07:49:03.720174",
     "status": "completed"
    },
    "tags": []
   },
   "outputs": [],
   "source": [
    "def feature_engineering(df):\n",
    "    df[\"lesion_size_ratio\"]              = df[\"tbp_lv_minorAxisMM\"] / df[\"clin_size_long_diam_mm\"]\n",
    "    df[\"hue_contrast\"]                   = (df[\"tbp_lv_H\"] - df[\"tbp_lv_Hext\"]).abs()\n",
    "    df[\"normalized_lesion_size\"]         = df[\"clin_size_long_diam_mm\"] / df[\"age_approx\"]\n",
    "    df[\"overall_color_difference\"]       = (df[\"tbp_lv_deltaA\"] + df[\"tbp_lv_deltaB\"] + df[\"tbp_lv_deltaL\"]) / 3\n",
    "    \n",
    "    patient_num_images = df.groupby(\"patient_id\", as_index=False)[\"isic_id\"].count().rename(columns={\"isic_id\": \"num_images\"})\n",
    "    df = df.merge(patient_num_images, on=\"patient_id\", how=\"left\")\n",
    "\n",
    "    new_num_cols = [\n",
    "        \"num_images\",\n",
    "        \"lesion_size_ratio\",\n",
    "        \"normalized_lesion_size\", \n",
    "        \"overall_color_difference\"\n",
    "    ]\n",
    "    \n",
    "    new_cat_cols = []\n",
    "    \n",
    "    return df, new_num_cols, new_cat_cols\n",
    "\n",
    "train_metadata, new_num_cols, new_cat_cols = feature_engineering(train_metadata.copy())"
   ]
  },
  {
   "cell_type": "code",
   "execution_count": 6,
   "id": "b9294dfa",
   "metadata": {
    "execution": {
     "iopub.execute_input": "2024-07-13T07:49:04.263842Z",
     "iopub.status.busy": "2024-07-13T07:49:04.263449Z",
     "iopub.status.idle": "2024-07-13T07:49:04.270735Z",
     "shell.execute_reply": "2024-07-13T07:49:04.269570Z"
    },
    "papermill": {
     "duration": 0.016346,
     "end_time": "2024-07-13T07:49:04.273012",
     "exception": false,
     "start_time": "2024-07-13T07:49:04.256666",
     "status": "completed"
    },
    "tags": []
   },
   "outputs": [],
   "source": [
    "id_column = \"isic_id\"\n",
    "target_column = \"final_target\"\n",
    "group_column = \"patient_id\"\n",
    "drop_features = [\"image_type\"] + train_metadata.columns[~np.in1d(train_metadata.columns, test_metadata.columns)].tolist() # target column removed\n",
    "categorical_features = [\"sex\", \"anatom_site_general\", \n",
    "                        \"tbp_tile_type\", \"tbp_lv_location\", \"tbp_lv_location_simple\",\n",
    "                       \"attribution\", \"copyright_license\"\n",
    "                       ] + new_cat_cols\n",
    "numerical_features = train_metadata.columns[~np.in1d(train_metadata.columns, \n",
    "                                                     [id_column] + [group_column] + categorical_features + drop_features)]"
   ]
  },
  {
   "cell_type": "code",
   "execution_count": 7,
   "id": "82f76a68",
   "metadata": {
    "execution": {
     "iopub.execute_input": "2024-07-13T07:49:04.285550Z",
     "iopub.status.busy": "2024-07-13T07:49:04.285184Z",
     "iopub.status.idle": "2024-07-13T07:49:04.304588Z",
     "shell.execute_reply": "2024-07-13T07:49:04.303463Z"
    },
    "papermill": {
     "duration": 0.028447,
     "end_time": "2024-07-13T07:49:04.307007",
     "exception": false,
     "start_time": "2024-07-13T07:49:04.278560",
     "status": "completed"
    },
    "tags": []
   },
   "outputs": [
    {
     "data": {
      "text/html": [
       "<style>#sk-container-id-1 {color: black;background-color: white;}#sk-container-id-1 pre{padding: 0;}#sk-container-id-1 div.sk-toggleable {background-color: white;}#sk-container-id-1 label.sk-toggleable__label {cursor: pointer;display: block;width: 100%;margin-bottom: 0;padding: 0.3em;box-sizing: border-box;text-align: center;}#sk-container-id-1 label.sk-toggleable__label-arrow:before {content: \"▸\";float: left;margin-right: 0.25em;color: #696969;}#sk-container-id-1 label.sk-toggleable__label-arrow:hover:before {color: black;}#sk-container-id-1 div.sk-estimator:hover label.sk-toggleable__label-arrow:before {color: black;}#sk-container-id-1 div.sk-toggleable__content {max-height: 0;max-width: 0;overflow: hidden;text-align: left;background-color: #f0f8ff;}#sk-container-id-1 div.sk-toggleable__content pre {margin: 0.2em;color: black;border-radius: 0.25em;background-color: #f0f8ff;}#sk-container-id-1 input.sk-toggleable__control:checked~div.sk-toggleable__content {max-height: 200px;max-width: 100%;overflow: auto;}#sk-container-id-1 input.sk-toggleable__control:checked~label.sk-toggleable__label-arrow:before {content: \"▾\";}#sk-container-id-1 div.sk-estimator input.sk-toggleable__control:checked~label.sk-toggleable__label {background-color: #d4ebff;}#sk-container-id-1 div.sk-label input.sk-toggleable__control:checked~label.sk-toggleable__label {background-color: #d4ebff;}#sk-container-id-1 input.sk-hidden--visually {border: 0;clip: rect(1px 1px 1px 1px);clip: rect(1px, 1px, 1px, 1px);height: 1px;margin: -1px;overflow: hidden;padding: 0;position: absolute;width: 1px;}#sk-container-id-1 div.sk-estimator {font-family: monospace;background-color: #f0f8ff;border: 1px dotted black;border-radius: 0.25em;box-sizing: border-box;margin-bottom: 0.5em;}#sk-container-id-1 div.sk-estimator:hover {background-color: #d4ebff;}#sk-container-id-1 div.sk-parallel-item::after {content: \"\";width: 100%;border-bottom: 1px solid gray;flex-grow: 1;}#sk-container-id-1 div.sk-label:hover label.sk-toggleable__label {background-color: #d4ebff;}#sk-container-id-1 div.sk-serial::before {content: \"\";position: absolute;border-left: 1px solid gray;box-sizing: border-box;top: 0;bottom: 0;left: 50%;z-index: 0;}#sk-container-id-1 div.sk-serial {display: flex;flex-direction: column;align-items: center;background-color: white;padding-right: 0.2em;padding-left: 0.2em;position: relative;}#sk-container-id-1 div.sk-item {position: relative;z-index: 1;}#sk-container-id-1 div.sk-parallel {display: flex;align-items: stretch;justify-content: center;background-color: white;position: relative;}#sk-container-id-1 div.sk-item::before, #sk-container-id-1 div.sk-parallel-item::before {content: \"\";position: absolute;border-left: 1px solid gray;box-sizing: border-box;top: 0;bottom: 0;left: 50%;z-index: -1;}#sk-container-id-1 div.sk-parallel-item {display: flex;flex-direction: column;z-index: 1;position: relative;background-color: white;}#sk-container-id-1 div.sk-parallel-item:first-child::after {align-self: flex-end;width: 50%;}#sk-container-id-1 div.sk-parallel-item:last-child::after {align-self: flex-start;width: 50%;}#sk-container-id-1 div.sk-parallel-item:only-child::after {width: 0;}#sk-container-id-1 div.sk-dashed-wrapped {border: 1px dashed gray;margin: 0 0.4em 0.5em 0.4em;box-sizing: border-box;padding-bottom: 0.4em;background-color: white;}#sk-container-id-1 div.sk-label label {font-family: monospace;font-weight: bold;display: inline-block;line-height: 1.2em;}#sk-container-id-1 div.sk-label-container {text-align: center;}#sk-container-id-1 div.sk-container {/* jupyter's `normalize.less` sets `[hidden] { display: none; }` but bootstrap.min.css set `[hidden] { display: none !important; }` so we also need the `!important` here to be able to override the default hidden behavior on the sphinx rendered scikit-learn.org. See: https://github.com/scikit-learn/scikit-learn/issues/21755 */display: inline-block !important;position: relative;}#sk-container-id-1 div.sk-text-repr-fallback {display: none;}</style><div id=\"sk-container-id-1\" class=\"sk-top-container\"><div class=\"sk-text-repr-fallback\"><pre>ColumnTransformer(transformers=[(&#x27;numerical&#x27;, &#x27;passthrough&#x27;,\n",
       "                                 Index([&#x27;age_approx&#x27;, &#x27;clin_size_long_diam_mm&#x27;, &#x27;tbp_lv_A&#x27;, &#x27;tbp_lv_Aext&#x27;,\n",
       "       &#x27;tbp_lv_B&#x27;, &#x27;tbp_lv_Bext&#x27;, &#x27;tbp_lv_C&#x27;, &#x27;tbp_lv_Cext&#x27;, &#x27;tbp_lv_H&#x27;,\n",
       "       &#x27;tbp_lv_Hext&#x27;, &#x27;tbp_lv_L&#x27;, &#x27;tbp_lv_Lext&#x27;, &#x27;tbp_lv_areaMM2&#x27;,\n",
       "       &#x27;tbp_lv_area_perim_ratio&#x27;, &#x27;tbp_lv_color_std_mean&#x27;, &#x27;tbp_lv_deltaA&#x27;,\n",
       "       &#x27;tbp_lv_deltaB&#x27;, &#x27;tbp_lv_deltaL&#x27;, &#x27;tbp_l...\n",
       "       &#x27;tbp_lv_stdLExt&#x27;, &#x27;tbp_lv_symm_2axis&#x27;, &#x27;tbp_lv_symm_2axis_angle&#x27;,\n",
       "       &#x27;tbp_lv_x&#x27;, &#x27;tbp_lv_y&#x27;, &#x27;tbp_lv_z&#x27;],\n",
       "      dtype=&#x27;object&#x27;)),\n",
       "                                (&#x27;categorical&#x27;,\n",
       "                                 OrdinalEncoder(dtype=&lt;class &#x27;int&#x27;&gt;,\n",
       "                                                encoded_missing_value=-1,\n",
       "                                                handle_unknown=&#x27;use_encoded_value&#x27;,\n",
       "                                                unknown_value=-2),\n",
       "                                 [&#x27;sex&#x27;, &#x27;anatom_site_general&#x27;, &#x27;tbp_tile_type&#x27;,\n",
       "                                  &#x27;tbp_lv_location&#x27;, &#x27;tbp_lv_location_simple&#x27;,\n",
       "                                  &#x27;attribution&#x27;, &#x27;copyright_license&#x27;])],\n",
       "                  verbose_feature_names_out=False)</pre><b>In a Jupyter environment, please rerun this cell to show the HTML representation or trust the notebook. <br />On GitHub, the HTML representation is unable to render, please try loading this page with nbviewer.org.</b></div><div class=\"sk-container\" hidden><div class=\"sk-item sk-dashed-wrapped\"><div class=\"sk-label-container\"><div class=\"sk-label sk-toggleable\"><input class=\"sk-toggleable__control sk-hidden--visually\" id=\"sk-estimator-id-1\" type=\"checkbox\" ><label for=\"sk-estimator-id-1\" class=\"sk-toggleable__label sk-toggleable__label-arrow\">ColumnTransformer</label><div class=\"sk-toggleable__content\"><pre>ColumnTransformer(transformers=[(&#x27;numerical&#x27;, &#x27;passthrough&#x27;,\n",
       "                                 Index([&#x27;age_approx&#x27;, &#x27;clin_size_long_diam_mm&#x27;, &#x27;tbp_lv_A&#x27;, &#x27;tbp_lv_Aext&#x27;,\n",
       "       &#x27;tbp_lv_B&#x27;, &#x27;tbp_lv_Bext&#x27;, &#x27;tbp_lv_C&#x27;, &#x27;tbp_lv_Cext&#x27;, &#x27;tbp_lv_H&#x27;,\n",
       "       &#x27;tbp_lv_Hext&#x27;, &#x27;tbp_lv_L&#x27;, &#x27;tbp_lv_Lext&#x27;, &#x27;tbp_lv_areaMM2&#x27;,\n",
       "       &#x27;tbp_lv_area_perim_ratio&#x27;, &#x27;tbp_lv_color_std_mean&#x27;, &#x27;tbp_lv_deltaA&#x27;,\n",
       "       &#x27;tbp_lv_deltaB&#x27;, &#x27;tbp_lv_deltaL&#x27;, &#x27;tbp_l...\n",
       "       &#x27;tbp_lv_stdLExt&#x27;, &#x27;tbp_lv_symm_2axis&#x27;, &#x27;tbp_lv_symm_2axis_angle&#x27;,\n",
       "       &#x27;tbp_lv_x&#x27;, &#x27;tbp_lv_y&#x27;, &#x27;tbp_lv_z&#x27;],\n",
       "      dtype=&#x27;object&#x27;)),\n",
       "                                (&#x27;categorical&#x27;,\n",
       "                                 OrdinalEncoder(dtype=&lt;class &#x27;int&#x27;&gt;,\n",
       "                                                encoded_missing_value=-1,\n",
       "                                                handle_unknown=&#x27;use_encoded_value&#x27;,\n",
       "                                                unknown_value=-2),\n",
       "                                 [&#x27;sex&#x27;, &#x27;anatom_site_general&#x27;, &#x27;tbp_tile_type&#x27;,\n",
       "                                  &#x27;tbp_lv_location&#x27;, &#x27;tbp_lv_location_simple&#x27;,\n",
       "                                  &#x27;attribution&#x27;, &#x27;copyright_license&#x27;])],\n",
       "                  verbose_feature_names_out=False)</pre></div></div></div><div class=\"sk-parallel\"><div class=\"sk-parallel-item\"><div class=\"sk-item\"><div class=\"sk-label-container\"><div class=\"sk-label sk-toggleable\"><input class=\"sk-toggleable__control sk-hidden--visually\" id=\"sk-estimator-id-2\" type=\"checkbox\" ><label for=\"sk-estimator-id-2\" class=\"sk-toggleable__label sk-toggleable__label-arrow\">numerical</label><div class=\"sk-toggleable__content\"><pre>Index([&#x27;age_approx&#x27;, &#x27;clin_size_long_diam_mm&#x27;, &#x27;tbp_lv_A&#x27;, &#x27;tbp_lv_Aext&#x27;,\n",
       "       &#x27;tbp_lv_B&#x27;, &#x27;tbp_lv_Bext&#x27;, &#x27;tbp_lv_C&#x27;, &#x27;tbp_lv_Cext&#x27;, &#x27;tbp_lv_H&#x27;,\n",
       "       &#x27;tbp_lv_Hext&#x27;, &#x27;tbp_lv_L&#x27;, &#x27;tbp_lv_Lext&#x27;, &#x27;tbp_lv_areaMM2&#x27;,\n",
       "       &#x27;tbp_lv_area_perim_ratio&#x27;, &#x27;tbp_lv_color_std_mean&#x27;, &#x27;tbp_lv_deltaA&#x27;,\n",
       "       &#x27;tbp_lv_deltaB&#x27;, &#x27;tbp_lv_deltaL&#x27;, &#x27;tbp_lv_deltaLB&#x27;,\n",
       "       &#x27;tbp_lv_deltaLBnorm&#x27;, &#x27;tbp_lv_eccentricity&#x27;, &#x27;tbp_lv_minorAxisMM&#x27;,\n",
       "       &#x27;tbp_lv_nevi_confidence&#x27;, &#x27;tbp_lv_norm_border&#x27;, &#x27;tbp_lv_norm_color&#x27;,\n",
       "       &#x27;tbp_lv_perimeterMM&#x27;, &#x27;tbp_lv_radial_color_std_max&#x27;, &#x27;tbp_lv_stdL&#x27;,\n",
       "       &#x27;tbp_lv_stdLExt&#x27;, &#x27;tbp_lv_symm_2axis&#x27;, &#x27;tbp_lv_symm_2axis_angle&#x27;,\n",
       "       &#x27;tbp_lv_x&#x27;, &#x27;tbp_lv_y&#x27;, &#x27;tbp_lv_z&#x27;],\n",
       "      dtype=&#x27;object&#x27;)</pre></div></div></div><div class=\"sk-serial\"><div class=\"sk-item\"><div class=\"sk-estimator sk-toggleable\"><input class=\"sk-toggleable__control sk-hidden--visually\" id=\"sk-estimator-id-3\" type=\"checkbox\" ><label for=\"sk-estimator-id-3\" class=\"sk-toggleable__label sk-toggleable__label-arrow\">passthrough</label><div class=\"sk-toggleable__content\"><pre>passthrough</pre></div></div></div></div></div></div><div class=\"sk-parallel-item\"><div class=\"sk-item\"><div class=\"sk-label-container\"><div class=\"sk-label sk-toggleable\"><input class=\"sk-toggleable__control sk-hidden--visually\" id=\"sk-estimator-id-4\" type=\"checkbox\" ><label for=\"sk-estimator-id-4\" class=\"sk-toggleable__label sk-toggleable__label-arrow\">categorical</label><div class=\"sk-toggleable__content\"><pre>[&#x27;sex&#x27;, &#x27;anatom_site_general&#x27;, &#x27;tbp_tile_type&#x27;, &#x27;tbp_lv_location&#x27;, &#x27;tbp_lv_location_simple&#x27;, &#x27;attribution&#x27;, &#x27;copyright_license&#x27;]</pre></div></div></div><div class=\"sk-serial\"><div class=\"sk-item\"><div class=\"sk-estimator sk-toggleable\"><input class=\"sk-toggleable__control sk-hidden--visually\" id=\"sk-estimator-id-5\" type=\"checkbox\" ><label for=\"sk-estimator-id-5\" class=\"sk-toggleable__label sk-toggleable__label-arrow\">OrdinalEncoder</label><div class=\"sk-toggleable__content\"><pre>OrdinalEncoder(dtype=&lt;class &#x27;int&#x27;&gt;, encoded_missing_value=-1,\n",
       "               handle_unknown=&#x27;use_encoded_value&#x27;, unknown_value=-2)</pre></div></div></div></div></div></div></div></div></div></div>"
      ],
      "text/plain": [
       "ColumnTransformer(transformers=[('numerical', 'passthrough',\n",
       "                                 Index(['age_approx', 'clin_size_long_diam_mm', 'tbp_lv_A', 'tbp_lv_Aext',\n",
       "       'tbp_lv_B', 'tbp_lv_Bext', 'tbp_lv_C', 'tbp_lv_Cext', 'tbp_lv_H',\n",
       "       'tbp_lv_Hext', 'tbp_lv_L', 'tbp_lv_Lext', 'tbp_lv_areaMM2',\n",
       "       'tbp_lv_area_perim_ratio', 'tbp_lv_color_std_mean', 'tbp_lv_deltaA',\n",
       "       'tbp_lv_deltaB', 'tbp_lv_deltaL', 'tbp_l...\n",
       "       'tbp_lv_stdLExt', 'tbp_lv_symm_2axis', 'tbp_lv_symm_2axis_angle',\n",
       "       'tbp_lv_x', 'tbp_lv_y', 'tbp_lv_z'],\n",
       "      dtype='object')),\n",
       "                                ('categorical',\n",
       "                                 OrdinalEncoder(dtype=<class 'int'>,\n",
       "                                                encoded_missing_value=-1,\n",
       "                                                handle_unknown='use_encoded_value',\n",
       "                                                unknown_value=-2),\n",
       "                                 ['sex', 'anatom_site_general', 'tbp_tile_type',\n",
       "                                  'tbp_lv_location', 'tbp_lv_location_simple',\n",
       "                                  'attribution', 'copyright_license'])],\n",
       "                  verbose_feature_names_out=False)"
      ]
     },
     "execution_count": 7,
     "metadata": {},
     "output_type": "execute_result"
    }
   ],
   "source": [
    "mixed_encoded_preprocessor = ColumnTransformer(\n",
    "    [\n",
    "        (\"numerical\", \"passthrough\", numerical_features),\n",
    "        (\n",
    "            \"categorical\",\n",
    "            OrdinalEncoder(handle_unknown=\"use_encoded_value\", unknown_value=-2, encoded_missing_value=-1, dtype=int),\n",
    "            categorical_features,\n",
    "        ),\n",
    "    ],\n",
    "    verbose_feature_names_out=False,\n",
    "\n",
    ")\n",
    "mixed_encoded_preprocessor.set_output(transform=\"pandas\")"
   ]
  },
  {
   "cell_type": "code",
   "execution_count": 8,
   "id": "a9e74796",
   "metadata": {
    "execution": {
     "iopub.execute_input": "2024-07-13T07:49:04.320450Z",
     "iopub.status.busy": "2024-07-13T07:49:04.320059Z",
     "iopub.status.idle": "2024-07-13T07:49:04.326560Z",
     "shell.execute_reply": "2024-07-13T07:49:04.325495Z"
    },
    "papermill": {
     "duration": 0.016027,
     "end_time": "2024-07-13T07:49:04.328878",
     "exception": false,
     "start_time": "2024-07-13T07:49:04.312851",
     "status": "completed"
    },
    "tags": []
   },
   "outputs": [],
   "source": [
    "with open(\"encoder.joblib\", \"wb\") as f:\n",
    "    joblib.dump(mixed_encoded_preprocessor, f)"
   ]
  },
  {
   "cell_type": "code",
   "execution_count": 9,
   "id": "01305472",
   "metadata": {
    "execution": {
     "iopub.execute_input": "2024-07-13T07:49:04.342365Z",
     "iopub.status.busy": "2024-07-13T07:49:04.341614Z",
     "iopub.status.idle": "2024-07-13T07:49:05.854003Z",
     "shell.execute_reply": "2024-07-13T07:49:05.852853Z"
    },
    "papermill": {
     "duration": 1.522236,
     "end_time": "2024-07-13T07:49:05.856902",
     "exception": false,
     "start_time": "2024-07-13T07:49:04.334666",
     "status": "completed"
    },
    "tags": []
   },
   "outputs": [],
   "source": [
    "train_ids = train_metadata[id_column]\n",
    "groups = train_metadata[group_column]\n",
    "folds = train_metadata[\"fold\"]\n",
    "\n",
    "enc = mixed_encoded_preprocessor.fit(train_metadata)\n",
    "X_train = enc.transform(train_metadata)\n",
    "y_train = train_metadata[target_column]"
   ]
  },
  {
   "cell_type": "code",
   "execution_count": 10,
   "id": "92e90d3d",
   "metadata": {
    "execution": {
     "iopub.execute_input": "2024-07-13T07:49:05.877087Z",
     "iopub.status.busy": "2024-07-13T07:49:05.875912Z",
     "iopub.status.idle": "2024-07-13T07:49:05.882862Z",
     "shell.execute_reply": "2024-07-13T07:49:05.881616Z"
    },
    "papermill": {
     "duration": 0.018889,
     "end_time": "2024-07-13T07:49:05.885142",
     "exception": false,
     "start_time": "2024-07-13T07:49:05.866253",
     "status": "completed"
    },
    "tags": []
   },
   "outputs": [
    {
     "name": "stdout",
     "output_type": "stream",
     "text": [
      "Total number of columns: 41\n"
     ]
    }
   ],
   "source": [
    "columns_for_model = len(X_train.columns)\n",
    "print(f\"Total number of columns: {columns_for_model}\")"
   ]
  },
  {
   "cell_type": "code",
   "execution_count": 11,
   "id": "494f80b0",
   "metadata": {
    "execution": {
     "iopub.execute_input": "2024-07-13T07:49:05.899074Z",
     "iopub.status.busy": "2024-07-13T07:49:05.898130Z",
     "iopub.status.idle": "2024-07-13T07:49:05.903718Z",
     "shell.execute_reply": "2024-07-13T07:49:05.902652Z"
    },
    "papermill": {
     "duration": 0.014916,
     "end_time": "2024-07-13T07:49:05.906001",
     "exception": false,
     "start_time": "2024-07-13T07:49:05.891085",
     "status": "completed"
    },
    "tags": []
   },
   "outputs": [],
   "source": [
    "def pauc_80(preds, data):\n",
    "    score_value = compute_pauc(data.get_label(), preds, min_tpr=0.8)   \n",
    "    return 'pauc_80', score_value, True"
   ]
  },
  {
   "cell_type": "code",
   "execution_count": 12,
   "id": "d9e89f68",
   "metadata": {
    "execution": {
     "iopub.execute_input": "2024-07-13T07:49:05.919919Z",
     "iopub.status.busy": "2024-07-13T07:49:05.919003Z",
     "iopub.status.idle": "2024-07-13T07:49:05.924851Z",
     "shell.execute_reply": "2024-07-13T07:49:05.923734Z"
    },
    "papermill": {
     "duration": 0.015206,
     "end_time": "2024-07-13T07:49:05.927113",
     "exception": false,
     "start_time": "2024-07-13T07:49:05.911907",
     "status": "completed"
    },
    "tags": []
   },
   "outputs": [],
   "source": [
    "params = {\n",
    "    \"objective\": \"binary\",\n",
    "    \"metric\": \"auc\",\n",
    "    \"num_leaves\": 63,\n",
    "    \"learning_rate\": 0.01,\n",
    "    \"bagging_freq\": 5,\n",
    "    \"bagging_fraction\": 0.6,\n",
    "    \"bagging_seed\": cfg.seed,\n",
    "    \"feature_fraction\": 0.3,\n",
    "    \"feature_fraction_seed\": cfg.seed,\n",
    "    \"lambda_l1\": 0.95,\n",
    "    \"lambda_l2\": 0.95,\n",
    "    \"verbosity\": -1\n",
    "}\n",
    "num_rounds = 2500\n",
    "es_rounds = 200\n",
    "log_rounds = 50"
   ]
  },
  {
   "cell_type": "code",
   "execution_count": 13,
   "id": "c3ff6683",
   "metadata": {
    "execution": {
     "iopub.execute_input": "2024-07-13T07:49:05.940664Z",
     "iopub.status.busy": "2024-07-13T07:49:05.939782Z",
     "iopub.status.idle": "2024-07-13T07:54:31.592058Z",
     "shell.execute_reply": "2024-07-13T07:54:31.590523Z"
    },
    "papermill": {
     "duration": 325.66136,
     "end_time": "2024-07-13T07:54:31.594319",
     "exception": false,
     "start_time": "2024-07-13T07:49:05.932959",
     "status": "completed"
    },
    "tags": []
   },
   "outputs": [
    {
     "name": "stdout",
     "output_type": "stream",
     "text": [
      "Running fold: 1\n",
      "[LightGBM] [Warning] Met negative value in categorical features, will convert it to NaN\n",
      "[LightGBM] [Warning] Met negative value in categorical features, will convert it to NaN\n",
      "Training until validation scores don't improve for 200 rounds\n",
      "[50]\tvalid_0's auc: 0.93506\tvalid_0's pauc_80: 0.151442\n",
      "[100]\tvalid_0's auc: 0.937339\tvalid_0's pauc_80: 0.151539\n",
      "[150]\tvalid_0's auc: 0.941225\tvalid_0's pauc_80: 0.153939\n",
      "[200]\tvalid_0's auc: 0.945253\tvalid_0's pauc_80: 0.157857\n",
      "[250]\tvalid_0's auc: 0.946967\tvalid_0's pauc_80: 0.159104\n",
      "[300]\tvalid_0's auc: 0.948597\tvalid_0's pauc_80: 0.160563\n",
      "[350]\tvalid_0's auc: 0.949351\tvalid_0's pauc_80: 0.161139\n",
      "[400]\tvalid_0's auc: 0.950251\tvalid_0's pauc_80: 0.161862\n",
      "[450]\tvalid_0's auc: 0.950621\tvalid_0's pauc_80: 0.162116\n",
      "[500]\tvalid_0's auc: 0.951087\tvalid_0's pauc_80: 0.162527\n",
      "[550]\tvalid_0's auc: 0.951961\tvalid_0's pauc_80: 0.163313\n",
      "[600]\tvalid_0's auc: 0.952254\tvalid_0's pauc_80: 0.163547\n",
      "[650]\tvalid_0's auc: 0.952461\tvalid_0's pauc_80: 0.16372\n",
      "[700]\tvalid_0's auc: 0.952715\tvalid_0's pauc_80: 0.163854\n",
      "[750]\tvalid_0's auc: 0.952938\tvalid_0's pauc_80: 0.163925\n",
      "[800]\tvalid_0's auc: 0.952689\tvalid_0's pauc_80: 0.1637\n",
      "[850]\tvalid_0's auc: 0.952715\tvalid_0's pauc_80: 0.163779\n",
      "[900]\tvalid_0's auc: 0.952739\tvalid_0's pauc_80: 0.16373\n",
      "Early stopping, best iteration is:\n",
      "[713]\tvalid_0's auc: 0.953032\tvalid_0's pauc_80: 0.164115\n",
      "\n",
      "\n",
      "Running fold: 2\n",
      "[LightGBM] [Warning] Met negative value in categorical features, will convert it to NaN\n",
      "[LightGBM] [Warning] Met negative value in categorical features, will convert it to NaN\n",
      "Training until validation scores don't improve for 200 rounds\n",
      "[50]\tvalid_0's auc: 0.93013\tvalid_0's pauc_80: 0.147132\n",
      "[100]\tvalid_0's auc: 0.931933\tvalid_0's pauc_80: 0.147111\n",
      "[150]\tvalid_0's auc: 0.934731\tvalid_0's pauc_80: 0.149807\n",
      "[200]\tvalid_0's auc: 0.9368\tvalid_0's pauc_80: 0.151252\n",
      "[250]\tvalid_0's auc: 0.939296\tvalid_0's pauc_80: 0.153672\n",
      "[300]\tvalid_0's auc: 0.94063\tvalid_0's pauc_80: 0.154871\n",
      "[350]\tvalid_0's auc: 0.941947\tvalid_0's pauc_80: 0.156008\n",
      "[400]\tvalid_0's auc: 0.942906\tvalid_0's pauc_80: 0.156837\n",
      "[450]\tvalid_0's auc: 0.943621\tvalid_0's pauc_80: 0.157558\n",
      "[500]\tvalid_0's auc: 0.943457\tvalid_0's pauc_80: 0.157409\n",
      "[550]\tvalid_0's auc: 0.945128\tvalid_0's pauc_80: 0.159075\n",
      "[600]\tvalid_0's auc: 0.94623\tvalid_0's pauc_80: 0.15997\n",
      "[650]\tvalid_0's auc: 0.947463\tvalid_0's pauc_80: 0.160964\n",
      "[700]\tvalid_0's auc: 0.947582\tvalid_0's pauc_80: 0.160958\n",
      "[750]\tvalid_0's auc: 0.947433\tvalid_0's pauc_80: 0.160857\n",
      "[800]\tvalid_0's auc: 0.948127\tvalid_0's pauc_80: 0.161547\n",
      "[850]\tvalid_0's auc: 0.947957\tvalid_0's pauc_80: 0.16135\n",
      "[900]\tvalid_0's auc: 0.947679\tvalid_0's pauc_80: 0.161218\n",
      "[950]\tvalid_0's auc: 0.947496\tvalid_0's pauc_80: 0.160958\n",
      "[1000]\tvalid_0's auc: 0.947617\tvalid_0's pauc_80: 0.160997\n",
      "[1050]\tvalid_0's auc: 0.947328\tvalid_0's pauc_80: 0.160827\n",
      "Early stopping, best iteration is:\n",
      "[871]\tvalid_0's auc: 0.948178\tvalid_0's pauc_80: 0.161635\n",
      "\n",
      "\n",
      "Running fold: 3\n",
      "[LightGBM] [Warning] Met negative value in categorical features, will convert it to NaN\n",
      "[LightGBM] [Warning] Met negative value in categorical features, will convert it to NaN\n",
      "Training until validation scores don't improve for 200 rounds\n",
      "[50]\tvalid_0's auc: 0.941425\tvalid_0's pauc_80: 0.153689\n",
      "[100]\tvalid_0's auc: 0.940355\tvalid_0's pauc_80: 0.151951\n",
      "[150]\tvalid_0's auc: 0.941133\tvalid_0's pauc_80: 0.152339\n",
      "[200]\tvalid_0's auc: 0.94023\tvalid_0's pauc_80: 0.151249\n",
      "Early stopping, best iteration is:\n",
      "[40]\tvalid_0's auc: 0.942408\tvalid_0's pauc_80: 0.155296\n",
      "\n",
      "\n",
      "Running fold: 4\n",
      "[LightGBM] [Warning] Met negative value in categorical features, will convert it to NaN\n",
      "[LightGBM] [Warning] Met negative value in categorical features, will convert it to NaN\n",
      "Training until validation scores don't improve for 200 rounds\n",
      "[50]\tvalid_0's auc: 0.944326\tvalid_0's pauc_80: 0.152669\n",
      "[100]\tvalid_0's auc: 0.947573\tvalid_0's pauc_80: 0.155263\n",
      "[150]\tvalid_0's auc: 0.947865\tvalid_0's pauc_80: 0.155106\n",
      "[200]\tvalid_0's auc: 0.94936\tvalid_0's pauc_80: 0.156402\n",
      "[250]\tvalid_0's auc: 0.952287\tvalid_0's pauc_80: 0.159166\n",
      "[300]\tvalid_0's auc: 0.953649\tvalid_0's pauc_80: 0.160353\n",
      "[350]\tvalid_0's auc: 0.955383\tvalid_0's pauc_80: 0.161928\n",
      "[400]\tvalid_0's auc: 0.956239\tvalid_0's pauc_80: 0.162787\n",
      "[450]\tvalid_0's auc: 0.956798\tvalid_0's pauc_80: 0.163357\n",
      "[500]\tvalid_0's auc: 0.957108\tvalid_0's pauc_80: 0.163706\n",
      "[550]\tvalid_0's auc: 0.956901\tvalid_0's pauc_80: 0.163448\n",
      "[600]\tvalid_0's auc: 0.957539\tvalid_0's pauc_80: 0.164096\n",
      "[650]\tvalid_0's auc: 0.958248\tvalid_0's pauc_80: 0.164683\n",
      "[700]\tvalid_0's auc: 0.958812\tvalid_0's pauc_80: 0.165267\n",
      "[750]\tvalid_0's auc: 0.959117\tvalid_0's pauc_80: 0.16562\n",
      "[800]\tvalid_0's auc: 0.959353\tvalid_0's pauc_80: 0.16594\n",
      "[850]\tvalid_0's auc: 0.959945\tvalid_0's pauc_80: 0.166456\n",
      "[900]\tvalid_0's auc: 0.960826\tvalid_0's pauc_80: 0.167352\n",
      "[950]\tvalid_0's auc: 0.961158\tvalid_0's pauc_80: 0.167674\n",
      "[1000]\tvalid_0's auc: 0.961834\tvalid_0's pauc_80: 0.168339\n",
      "[1050]\tvalid_0's auc: 0.961934\tvalid_0's pauc_80: 0.168564\n",
      "[1100]\tvalid_0's auc: 0.961949\tvalid_0's pauc_80: 0.168583\n",
      "[1150]\tvalid_0's auc: 0.962026\tvalid_0's pauc_80: 0.168646\n",
      "[1200]\tvalid_0's auc: 0.961964\tvalid_0's pauc_80: 0.168609\n",
      "[1250]\tvalid_0's auc: 0.962405\tvalid_0's pauc_80: 0.16902\n",
      "[1300]\tvalid_0's auc: 0.962182\tvalid_0's pauc_80: 0.168896\n",
      "[1350]\tvalid_0's auc: 0.962417\tvalid_0's pauc_80: 0.169152\n",
      "[1400]\tvalid_0's auc: 0.962204\tvalid_0's pauc_80: 0.16889\n",
      "[1450]\tvalid_0's auc: 0.962304\tvalid_0's pauc_80: 0.169014\n",
      "[1500]\tvalid_0's auc: 0.962394\tvalid_0's pauc_80: 0.169132\n",
      "[1550]\tvalid_0's auc: 0.962394\tvalid_0's pauc_80: 0.169168\n",
      "[1600]\tvalid_0's auc: 0.96269\tvalid_0's pauc_80: 0.169511\n",
      "[1650]\tvalid_0's auc: 0.962722\tvalid_0's pauc_80: 0.169572\n",
      "[1700]\tvalid_0's auc: 0.962618\tvalid_0's pauc_80: 0.169518\n",
      "[1750]\tvalid_0's auc: 0.96263\tvalid_0's pauc_80: 0.169539\n",
      "[1800]\tvalid_0's auc: 0.96252\tvalid_0's pauc_80: 0.169379\n",
      "Early stopping, best iteration is:\n",
      "[1638]\tvalid_0's auc: 0.962833\tvalid_0's pauc_80: 0.169665\n",
      "\n",
      "\n",
      "Running fold: 5\n",
      "[LightGBM] [Warning] Met negative value in categorical features, will convert it to NaN\n",
      "[LightGBM] [Warning] Met negative value in categorical features, will convert it to NaN\n",
      "Training until validation scores don't improve for 200 rounds\n",
      "[50]\tvalid_0's auc: 0.940265\tvalid_0's pauc_80: 0.157264\n",
      "[100]\tvalid_0's auc: 0.944233\tvalid_0's pauc_80: 0.159701\n",
      "[150]\tvalid_0's auc: 0.945473\tvalid_0's pauc_80: 0.160615\n",
      "[200]\tvalid_0's auc: 0.94586\tvalid_0's pauc_80: 0.160997\n",
      "[250]\tvalid_0's auc: 0.946958\tvalid_0's pauc_80: 0.161426\n",
      "[300]\tvalid_0's auc: 0.948432\tvalid_0's pauc_80: 0.162425\n",
      "[350]\tvalid_0's auc: 0.949486\tvalid_0's pauc_80: 0.16273\n",
      "[400]\tvalid_0's auc: 0.949914\tvalid_0's pauc_80: 0.162688\n",
      "[450]\tvalid_0's auc: 0.950301\tvalid_0's pauc_80: 0.162833\n",
      "[500]\tvalid_0's auc: 0.949921\tvalid_0's pauc_80: 0.162193\n",
      "[550]\tvalid_0's auc: 0.949695\tvalid_0's pauc_80: 0.161845\n",
      "[600]\tvalid_0's auc: 0.949691\tvalid_0's pauc_80: 0.161408\n",
      "Early stopping, best iteration is:\n",
      "[438]\tvalid_0's auc: 0.95057\tvalid_0's pauc_80: 0.163171\n",
      "\n",
      "\n"
     ]
    }
   ],
   "source": [
    "best_num_rounds = {}\n",
    "val_auc_scores = {}\n",
    "val_pauc_scores = {}\n",
    "all_folds = np.sort(folds.unique())\n",
    "oof_predictions = np.zeros(X_train.shape[0])\n",
    "for fold in all_folds:\n",
    "    print(f\"Running fold: {fold}\")\n",
    "    dev_index = folds != fold\n",
    "    val_index = folds == fold\n",
    "    \n",
    "    X_dev = X_train.loc[dev_index, :]\n",
    "    y_dev = y_train[dev_index]\n",
    "    \n",
    "    X_val = X_train.loc[val_index, :]\n",
    "    y_val = y_train[val_index]\n",
    "    \n",
    "    lgb_dataset_dev = lgb.Dataset(X_dev, label=y_dev, categorical_feature=categorical_features, free_raw_data=False)\n",
    "    lgb_dataset_val = lgb.Dataset(X_val, label=y_val, categorical_feature=categorical_features, free_raw_data=False)\n",
    "    \n",
    "    model = lgb.train(\n",
    "        params,\n",
    "        lgb_dataset_dev,\n",
    "        num_boost_round=num_rounds,\n",
    "        valid_sets=[lgb_dataset_val],\n",
    "        feval=pauc_80,\n",
    "        callbacks=[early_stopping(stopping_rounds=es_rounds), log_evaluation(log_rounds)],\n",
    "    )\n",
    "    \n",
    "    model.save_model(MODELS_OUTPUT_PATH / f\"{cfg.model_name}_fold_{fold}.txt\")\n",
    "    best_num_rounds[f\"fold_{fold}\"] = model.best_iteration\n",
    "    val_scores = dict(model.best_score[\"valid_0\"])\n",
    "    \n",
    "    val_auc_scores[f\"fold_{fold}\"] = val_scores[\"auc\"]\n",
    "    val_pauc_scores[f\"fold_{fold}\"] = val_scores[\"pauc_80\"]\n",
    "    \n",
    "    val_preds = model.predict(X_val, num_iteration=model.best_iteration)\n",
    "    oof_predictions[val_index] = val_preds\n",
    "    print(\"\\n\")"
   ]
  },
  {
   "cell_type": "code",
   "execution_count": 14,
   "id": "8d7dce1a",
   "metadata": {
    "execution": {
     "iopub.execute_input": "2024-07-13T07:54:31.621573Z",
     "iopub.status.busy": "2024-07-13T07:54:31.620916Z",
     "iopub.status.idle": "2024-07-13T07:54:32.977329Z",
     "shell.execute_reply": "2024-07-13T07:54:32.976157Z"
    },
    "papermill": {
     "duration": 1.372954,
     "end_time": "2024-07-13T07:54:32.979939",
     "exception": false,
     "start_time": "2024-07-13T07:54:31.606985",
     "status": "completed"
    },
    "tags": []
   },
   "outputs": [
    {
     "data": {
      "text/html": [
       "<div>\n",
       "<style scoped>\n",
       "    .dataframe tbody tr th:only-of-type {\n",
       "        vertical-align: middle;\n",
       "    }\n",
       "\n",
       "    .dataframe tbody tr th {\n",
       "        vertical-align: top;\n",
       "    }\n",
       "\n",
       "    .dataframe thead th {\n",
       "        text-align: right;\n",
       "    }\n",
       "</style>\n",
       "<table border=\"1\" class=\"dataframe\">\n",
       "  <thead>\n",
       "    <tr style=\"text-align: right;\">\n",
       "      <th></th>\n",
       "      <th>isic_id</th>\n",
       "      <th>patient_id</th>\n",
       "      <th>fold</th>\n",
       "      <th>final_target</th>\n",
       "      <th>oof_lgb_v1</th>\n",
       "    </tr>\n",
       "  </thead>\n",
       "  <tbody>\n",
       "    <tr>\n",
       "      <th>0</th>\n",
       "      <td>ISIC_0015670</td>\n",
       "      <td>IP_1235828</td>\n",
       "      <td>4</td>\n",
       "      <td>0</td>\n",
       "      <td>0.000031</td>\n",
       "    </tr>\n",
       "    <tr>\n",
       "      <th>1</th>\n",
       "      <td>ISIC_0015845</td>\n",
       "      <td>IP_8170065</td>\n",
       "      <td>1</td>\n",
       "      <td>0</td>\n",
       "      <td>0.517284</td>\n",
       "    </tr>\n",
       "    <tr>\n",
       "      <th>2</th>\n",
       "      <td>ISIC_0015864</td>\n",
       "      <td>IP_6724798</td>\n",
       "      <td>5</td>\n",
       "      <td>0</td>\n",
       "      <td>0.000111</td>\n",
       "    </tr>\n",
       "    <tr>\n",
       "      <th>3</th>\n",
       "      <td>ISIC_0015902</td>\n",
       "      <td>IP_4111386</td>\n",
       "      <td>2</td>\n",
       "      <td>0</td>\n",
       "      <td>0.000072</td>\n",
       "    </tr>\n",
       "    <tr>\n",
       "      <th>4</th>\n",
       "      <td>ISIC_0024200</td>\n",
       "      <td>IP_8313778</td>\n",
       "      <td>1</td>\n",
       "      <td>0</td>\n",
       "      <td>0.000566</td>\n",
       "    </tr>\n",
       "  </tbody>\n",
       "</table>\n",
       "</div>"
      ],
      "text/plain": [
       "        isic_id  patient_id  fold  final_target  oof_lgb_v1\n",
       "0  ISIC_0015670  IP_1235828     4             0    0.000031\n",
       "1  ISIC_0015845  IP_8170065     1             0    0.517284\n",
       "2  ISIC_0015864  IP_6724798     5             0    0.000111\n",
       "3  ISIC_0015902  IP_4111386     2             0    0.000072\n",
       "4  ISIC_0024200  IP_8313778     1             0    0.000566"
      ]
     },
     "execution_count": 14,
     "metadata": {},
     "output_type": "execute_result"
    }
   ],
   "source": [
    "oof_preds_df = pd.DataFrame({\n",
    "    id_column: train_ids,\n",
    "    group_column: groups,\n",
    "    \"fold\": folds,\n",
    "    target_column: y_train,\n",
    "    f\"oof_{cfg.model_name}\": oof_predictions\n",
    "})\n",
    "oof_preds_df.to_csv(f\"oof_preds_{cfg.model_name}.csv\", index=False)\n",
    "oof_preds_df.head()"
   ]
  },
  {
   "cell_type": "code",
   "execution_count": 15,
   "id": "d5422778",
   "metadata": {
    "execution": {
     "iopub.execute_input": "2024-07-13T07:54:33.007663Z",
     "iopub.status.busy": "2024-07-13T07:54:33.007288Z",
     "iopub.status.idle": "2024-07-13T07:54:33.013866Z",
     "shell.execute_reply": "2024-07-13T07:54:33.012795Z"
    },
    "papermill": {
     "duration": 0.022993,
     "end_time": "2024-07-13T07:54:33.016174",
     "exception": false,
     "start_time": "2024-07-13T07:54:32.993181",
     "status": "completed"
    },
    "tags": []
   },
   "outputs": [
    {
     "data": {
      "text/plain": [
       "{'fold_1': 0.9530323801010251,\n",
       " 'fold_2': 0.9481783077447838,\n",
       " 'fold_3': 0.9424079788096991,\n",
       " 'fold_4': 0.9628327363941546,\n",
       " 'fold_5': 0.9505696779104739}"
      ]
     },
     "execution_count": 15,
     "metadata": {},
     "output_type": "execute_result"
    }
   ],
   "source": [
    "val_auc_scores"
   ]
  },
  {
   "cell_type": "code",
   "execution_count": 16,
   "id": "4373cc60",
   "metadata": {
    "execution": {
     "iopub.execute_input": "2024-07-13T07:54:33.044577Z",
     "iopub.status.busy": "2024-07-13T07:54:33.044208Z",
     "iopub.status.idle": "2024-07-13T07:54:33.051201Z",
     "shell.execute_reply": "2024-07-13T07:54:33.050022Z"
    },
    "papermill": {
     "duration": 0.024068,
     "end_time": "2024-07-13T07:54:33.053448",
     "exception": false,
     "start_time": "2024-07-13T07:54:33.029380",
     "status": "completed"
    },
    "tags": []
   },
   "outputs": [
    {
     "data": {
      "text/plain": [
       "{'fold_1': 0.16411489480109465,\n",
       " 'fold_2': 0.16163455058930135,\n",
       " 'fold_3': 0.15529609327226662,\n",
       " 'fold_4': 0.1696645181016086,\n",
       " 'fold_5': 0.16317145182032303}"
      ]
     },
     "execution_count": 16,
     "metadata": {},
     "output_type": "execute_result"
    }
   ],
   "source": [
    "val_pauc_scores"
   ]
  },
  {
   "cell_type": "code",
   "execution_count": 17,
   "id": "d53534a9",
   "metadata": {
    "execution": {
     "iopub.execute_input": "2024-07-13T07:54:33.081756Z",
     "iopub.status.busy": "2024-07-13T07:54:33.081394Z",
     "iopub.status.idle": "2024-07-13T07:54:33.308490Z",
     "shell.execute_reply": "2024-07-13T07:54:33.307531Z"
    },
    "papermill": {
     "duration": 0.244768,
     "end_time": "2024-07-13T07:54:33.311381",
     "exception": false,
     "start_time": "2024-07-13T07:54:33.066613",
     "status": "completed"
    },
    "tags": []
   },
   "outputs": [],
   "source": [
    "cv_auc_oof = compute_auc(oof_preds_df[target_column], oof_preds_df[f\"oof_{cfg.model_name}\"])\n",
    "cv_pauc_oof = compute_pauc(oof_preds_df[target_column], oof_preds_df[f\"oof_{cfg.model_name}\"], min_tpr=0.8)\n",
    "\n",
    "cv_auc_avg = np.mean(list(val_auc_scores.values()))\n",
    "cv_pauc_avg = np.mean(list(val_pauc_scores.values()))"
   ]
  },
  {
   "cell_type": "code",
   "execution_count": 18,
   "id": "314627d7",
   "metadata": {
    "execution": {
     "iopub.execute_input": "2024-07-13T07:54:33.340149Z",
     "iopub.status.busy": "2024-07-13T07:54:33.339728Z",
     "iopub.status.idle": "2024-07-13T07:54:33.347998Z",
     "shell.execute_reply": "2024-07-13T07:54:33.346922Z"
    },
    "papermill": {
     "duration": 0.025769,
     "end_time": "2024-07-13T07:54:33.350526",
     "exception": false,
     "start_time": "2024-07-13T07:54:33.324757",
     "status": "completed"
    },
    "tags": []
   },
   "outputs": [
    {
     "name": "stdout",
     "output_type": "stream",
     "text": [
      "CV AUC OOF: 0.9323651978234864\n",
      "CV PAUC OOF: 0.14390959091280953\n",
      "CV AUC AVG: 0.9514042161920273\n",
      "CV PAUC AVG: 0.16277630171691884\n"
     ]
    }
   ],
   "source": [
    "print(f\"CV AUC OOF: {cv_auc_oof}\")\n",
    "print(f\"CV PAUC OOF: {cv_pauc_oof}\")\n",
    "print(f\"CV AUC AVG: {cv_auc_avg}\")\n",
    "print(f\"CV PAUC AVG: {cv_pauc_avg}\")"
   ]
  },
  {
   "cell_type": "code",
   "execution_count": 19,
   "id": "eac47f12",
   "metadata": {
    "execution": {
     "iopub.execute_input": "2024-07-13T07:54:33.378711Z",
     "iopub.status.busy": "2024-07-13T07:54:33.378349Z",
     "iopub.status.idle": "2024-07-13T07:54:33.384683Z",
     "shell.execute_reply": "2024-07-13T07:54:33.383466Z"
    },
    "papermill": {
     "duration": 0.023205,
     "end_time": "2024-07-13T07:54:33.386936",
     "exception": false,
     "start_time": "2024-07-13T07:54:33.363731",
     "status": "completed"
    },
    "tags": []
   },
   "outputs": [],
   "source": [
    "metadata = {\n",
    "    \"params\": params,\n",
    "    \"num_rounds\": num_rounds,\n",
    "    \"es_rounds\": es_rounds,\n",
    "    \"best_num_rounds\": best_num_rounds,\n",
    "    \"val_auc_scores\": val_auc_scores,\n",
    "    \"val_pauc_scores\": val_pauc_scores,\n",
    "    \"cv_auc_oof\": cv_auc_oof,\n",
    "    \"cv_pauc_oof\": cv_pauc_oof,\n",
    "    \"cv_auc_avg\": cv_auc_avg,\n",
    "    \"cv_pauc_avg\": cv_pauc_avg\n",
    "}\n",
    "\n",
    "with open(\"run_metadata.json\", \"w\") as f:\n",
    "    json.dump(metadata, f)"
   ]
  },
  {
   "cell_type": "code",
   "execution_count": null,
   "id": "0be7f01d",
   "metadata": {
    "papermill": {
     "duration": 0.012901,
     "end_time": "2024-07-13T07:54:33.413556",
     "exception": false,
     "start_time": "2024-07-13T07:54:33.400655",
     "status": "completed"
    },
    "tags": []
   },
   "outputs": [],
   "source": []
  }
 ],
 "metadata": {
  "kaggle": {
   "accelerator": "none",
   "dataSources": [
    {
     "databundleVersionId": 9094797,
     "sourceId": 63056,
     "sourceType": "competition"
    },
    {
     "sourceId": 187439867,
     "sourceType": "kernelVersion"
    },
    {
     "sourceId": 187477024,
     "sourceType": "kernelVersion"
    }
   ],
   "dockerImageVersionId": 30732,
   "isGpuEnabled": false,
   "isInternetEnabled": false,
   "language": "python",
   "sourceType": "notebook"
  },
  "kernelspec": {
   "display_name": "Python 3",
   "language": "python",
   "name": "python3"
  },
  "language_info": {
   "codemirror_mode": {
    "name": "ipython",
    "version": 3
   },
   "file_extension": ".py",
   "mimetype": "text/x-python",
   "name": "python",
   "nbconvert_exporter": "python",
   "pygments_lexer": "ipython3",
   "version": "3.10.13"
  },
  "papermill": {
   "default_parameters": {},
   "duration": 354.15764,
   "end_time": "2024-07-13T07:54:34.651403",
   "environment_variables": {},
   "exception": null,
   "input_path": "__notebook__.ipynb",
   "output_path": "__notebook__.ipynb",
   "parameters": {},
   "start_time": "2024-07-13T07:48:40.493763",
   "version": "2.5.0"
  }
 },
 "nbformat": 4,
 "nbformat_minor": 5
}
