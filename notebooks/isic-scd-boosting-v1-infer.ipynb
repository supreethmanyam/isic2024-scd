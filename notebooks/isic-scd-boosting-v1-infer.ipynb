{
 "cells": [
  {
   "cell_type": "code",
   "execution_count": 1,
   "id": "05bbe0f8",
   "metadata": {
    "_cell_guid": "2c50f189-b15c-453a-9304-6953a9bbb607",
    "_uuid": "c4112aea-4f8f-44d3-9698-d5fc847eed39",
    "collapsed": false,
    "execution": {
     "iopub.execute_input": "2024-08-12T04:03:47.496484Z",
     "iopub.status.busy": "2024-08-12T04:03:47.496067Z",
     "iopub.status.idle": "2024-08-12T04:03:54.383029Z",
     "shell.execute_reply": "2024-08-12T04:03:54.381738Z"
    },
    "jupyter": {
     "outputs_hidden": false
    },
    "papermill": {
     "duration": 6.897613,
     "end_time": "2024-08-12T04:03:54.385834",
     "exception": false,
     "start_time": "2024-08-12T04:03:47.488221",
     "status": "completed"
    },
    "tags": []
   },
   "outputs": [],
   "source": [
    "import json\n",
    "import joblib\n",
    "\n",
    "from pathlib import Path\n",
    "\n",
    "import pandas as pd\n",
    "import numpy as np\n",
    "\n",
    "from isic_helper import DotDict, get_folds"
   ]
  },
  {
   "cell_type": "code",
   "execution_count": 2,
   "id": "8de8f2c3",
   "metadata": {
    "execution": {
     "iopub.execute_input": "2024-08-12T04:03:54.400676Z",
     "iopub.status.busy": "2024-08-12T04:03:54.399845Z",
     "iopub.status.idle": "2024-08-12T04:03:54.406211Z",
     "shell.execute_reply": "2024-08-12T04:03:54.405014Z"
    },
    "papermill": {
     "duration": 0.016406,
     "end_time": "2024-08-12T04:03:54.409188",
     "exception": false,
     "start_time": "2024-08-12T04:03:54.392782",
     "status": "completed"
    },
    "tags": []
   },
   "outputs": [],
   "source": [
    "cfg = DotDict()\n",
    "\n",
    "cfg.models_output_dir = \"models\"\n",
    "cfg.model_name = \"boosting_v1\""
   ]
  },
  {
   "cell_type": "code",
   "execution_count": 3,
   "id": "7ce5bf3d",
   "metadata": {
    "execution": {
     "iopub.execute_input": "2024-08-12T04:03:54.423922Z",
     "iopub.status.busy": "2024-08-12T04:03:54.423464Z",
     "iopub.status.idle": "2024-08-12T04:03:54.472757Z",
     "shell.execute_reply": "2024-08-12T04:03:54.471341Z"
    },
    "papermill": {
     "duration": 0.06028,
     "end_time": "2024-08-12T04:03:54.475787",
     "exception": false,
     "start_time": "2024-08-12T04:03:54.415507",
     "status": "completed"
    },
    "tags": []
   },
   "outputs": [],
   "source": [
    "id_column = 'isic_id'\n",
    "target_column = 'target'\n",
    "group_column = 'patient_id'\n",
    "\n",
    "numerical_features = [\n",
    "    \"age_approx\",\n",
    "    \"clin_size_long_diam_mm\",\n",
    "    \"tbp_lv_A\", \"tbp_lv_Aext\",\n",
    "    \"tbp_lv_B\", \"tbp_lv_Bext\",\n",
    "    \"tbp_lv_C\", \"tbp_lv_Cext\",\n",
    "    \"tbp_lv_H\", \"tbp_lv_Hext\",\n",
    "    \"tbp_lv_L\", \"tbp_lv_Lext\",\n",
    "    \"tbp_lv_areaMM2\",\n",
    "    \"tbp_lv_area_perim_ratio\",\n",
    "    \"tbp_lv_color_std_mean\",\n",
    "    \"tbp_lv_deltaA\", \"tbp_lv_deltaB\", \"tbp_lv_deltaL\", \"tbp_lv_deltaLB\", \"tbp_lv_deltaLBnorm\",\n",
    "    \"tbp_lv_eccentricity\",\n",
    "    \"tbp_lv_minorAxisMM\",\n",
    "    \"tbp_lv_nevi_confidence\",\n",
    "    \"tbp_lv_norm_border\", \"tbp_lv_norm_color\",\n",
    "    \"tbp_lv_perimeterMM\",\n",
    "    \"tbp_lv_radial_color_std_max\",\n",
    "    \"tbp_lv_stdL\", \"tbp_lv_stdLExt\",\n",
    "    \"tbp_lv_symm_2axis\", \"tbp_lv_symm_2axis_angle\",\n",
    "    \"tbp_lv_x\", \"tbp_lv_y\", \"tbp_lv_z\",\n",
    "]\n",
    "\n",
    "ord_categorical_features = []\n",
    "\n",
    "ohe_categorical_features = [\n",
    "    \"sex\", \n",
    "    \"anatom_site_general\", \n",
    "    \"tbp_tile_type\", \n",
    "    \"tbp_lv_location\", \n",
    "    \"tbp_lv_location_simple\",\n",
    "    \"attribution\",\n",
    "]\n",
    "\n",
    "def preprocess(df):\n",
    "    df[\"anatom_site_general\"] = df[\"anatom_site_general\"].fillna(\"missing\")\n",
    "    df[\"sex\"] = df[\"sex\"].fillna(\"missing\")\n",
    "    df[\"tbp_tile_type\"] = df[\"tbp_tile_type\"].map({\"3D: white\": \"white\", \"3D: XP\": \"XP\"})\n",
    "    df[\"anatom_site_general\"] = df[\"anatom_site_general\"].str.replace(\" \", \"-\").str.replace(\"/\", \"OR\")\n",
    "    df[\"tbp_lv_location\"] = df[\"tbp_lv_location\"].str.replace(\" \", \"\").str.replace(\"&\", \"AND\")\n",
    "    df[\"tbp_lv_location_simple\"] = df[\"tbp_lv_location_simple\"].str.replace(\" \", \"\").str.replace(\"&\", \"AND\")\n",
    "    attribution_mapper = {\n",
    "        \"Memorial Sloan Kettering Cancer Center\": \"MSKCC\",\n",
    "        \"ACEMID MIA\": \"ACEMIDMIA\",\n",
    "        \"Department of Dermatology, Hospital Clínic de Barcelona\": \"DoD_HCB\",\n",
    "        \"University Hospital of Basel\": \"UHB\",\n",
    "        \"Frazer Institute, The University of Queensland, Dermatology Research Centre\": \"FI_TUQ-DRC\",\n",
    "        \"Department of Dermatology, University of Athens, Andreas Syggros Hospital of Skin and Venereal Diseases, Alexander Stratigos, Konstantinos Liopyris\": \"DoD_UA\",\n",
    "        \"ViDIR Group, Department of Dermatology, Medical University of Vienna\": \"ViDIR\"\n",
    "    }\n",
    "    df[\"attribution\"] = df[\"attribution\"].map(attribution_mapper)\n",
    "    \n",
    "    return df\n",
    "\n",
    "def stat_feature(df, value_col, stats=[\"mean\", \"std\"], err=1e-5):\n",
    "    tmp = df.groupby(group_column)[value_col].agg(stats)\n",
    "    tmp.columns = [f\"{value_col}_{stat}\" for stat in stats]\n",
    "    tmp.reset_index(inplace=True)\n",
    "    df = df.merge(tmp, on=group_column, how=\"left\")\n",
    "    feature_name = f\"{value_col}_patient_norm\"\n",
    "    df[feature_name] = ((df[value_col] - df[f\"{value_col}_mean\"]) / \n",
    "                                       (df[f\"{value_col}_std\"] + err))\n",
    "    return df, feature_name\n",
    "\n",
    "def feature_engineering(df, err=1e-5):\n",
    "    new_num_cols = []\n",
    "    \n",
    "    df[\"lesion_size_ratio\"] = df[\"tbp_lv_minorAxisMM\"] / df[\"clin_size_long_diam_mm\"]\n",
    "    new_num_cols += [\"lesion_size_ratio\"]\n",
    "    \n",
    "    df[\"lesion_shape_index\"] = df[\"tbp_lv_areaMM2\"] / df[\"tbp_lv_perimeterMM\"]**2\n",
    "    new_num_cols += [\"lesion_shape_index\"]\n",
    "    \n",
    "    df[\"hue_contrast\"] = np.abs(df[\"tbp_lv_H\"] - df[\"tbp_lv_Hext\"])\n",
    "    new_num_cols += [\"hue_contrast\"]\n",
    "    \n",
    "    df[\"luminance_contrast\"] = np.abs(df[\"tbp_lv_L\"] - df[\"tbp_lv_Lext\"])\n",
    "    new_num_cols += [\"luminance_contrast\"]\n",
    "    \n",
    "    df[\"lesion_color_difference\"] = np.sqrt(df[\"tbp_lv_deltaA\"]**2 +\n",
    "                                            df[\"tbp_lv_deltaB\"]**2 +\n",
    "                                            df[\"tbp_lv_deltaL\"]**2)\n",
    "    new_num_cols += [\"lesion_color_difference\"]\n",
    "    \n",
    "    df[\"border_complexity\"] = df[\"tbp_lv_norm_border\"] + df[\"tbp_lv_symm_2axis\"]\n",
    "    new_num_cols += [\"border_complexity\"]\n",
    "    \n",
    "    df[\"color_uniformity\"] = df[\"tbp_lv_color_std_mean\"] / (df[\"tbp_lv_radial_color_std_max\"] + err)\n",
    "    new_num_cols += [\"color_uniformity\"]\n",
    "    \n",
    "    df[\"position_distance_3d\"] = np.sqrt(df[\"tbp_lv_x\"]**2 +\n",
    "                                         df[\"tbp_lv_y\"]**2 +\n",
    "                                         df[\"tbp_lv_z\"]**2)\n",
    "    new_num_cols += [\"position_distance_3d\"]\n",
    "    \n",
    "    df[\"perimeter_to_area_ratio\"] = df[\"tbp_lv_perimeterMM\"] / df[\"tbp_lv_areaMM2\"]\n",
    "    new_num_cols += [\"perimeter_to_area_ratio\"]\n",
    "    \n",
    "    df[\"area_to_perimeter_ratio\"] = df[\"tbp_lv_areaMM2\"] / df[\"tbp_lv_perimeterMM\"]\n",
    "    new_num_cols += [\"area_to_perimeter_ratio\"]\n",
    "    \n",
    "    df[\"lesion_visibility_score\"] = df[\"tbp_lv_deltaLBnorm\"] + df[\"tbp_lv_norm_color\"]\n",
    "    new_num_cols += [\"lesion_visibility_score\"]\n",
    "    \n",
    "    df[\"symmetry_border_consistency\"] = df[\"tbp_lv_symm_2axis\"] * df[\"tbp_lv_norm_border\"]\n",
    "    new_num_cols += [\"symmetry_border_consistency\"]\n",
    "    \n",
    "    df[\"consistency_symmetry_border\"] = (df[\"tbp_lv_symm_2axis\"] * df[\"tbp_lv_norm_border\"] /\n",
    "                                         (df[\"tbp_lv_symm_2axis\"] + df[\"tbp_lv_norm_border\"]))\n",
    "    new_num_cols += [\"consistency_symmetry_border\"]\n",
    "    \n",
    "    df[\"color_consistency\"] = df[\"tbp_lv_stdL\"] / df[\"tbp_lv_Lext\"]\n",
    "    new_num_cols += [\"color_consistency\"]\n",
    "    \n",
    "    df[\"consistency_color\"] = (df[\"tbp_lv_stdL\"] * df[\"tbp_lv_Lext\"] /\n",
    "                               (df[\"tbp_lv_stdL\"] * df[\"tbp_lv_Lext\"]))\n",
    "    new_num_cols += [\"consistency_color\"]\n",
    "    \n",
    "    df[\"size_age_interaction\"] = df[\"clin_size_long_diam_mm\"] * df[\"age_approx\"]\n",
    "    new_num_cols += [\"size_age_interaction\"]\n",
    "    \n",
    "    df[\"hue_color_std_interaction\"] = df[\"tbp_lv_H\"] * df[\"tbp_lv_color_std_mean\"]\n",
    "    new_num_cols += [\"hue_color_std_interaction\"]\n",
    "    \n",
    "    df[\"lesion_severity_index\"] = (df[\"tbp_lv_norm_border\"] +\n",
    "                                   df[\"tbp_lv_norm_color\"] +\n",
    "                                   df[\"tbp_lv_eccentricity\"]) / 3\n",
    "    new_num_cols += [\"lesion_severity_index\"]\n",
    "    \n",
    "    df[\"shape_complexity_index\"] = df[\"border_complexity\"] + df[\"lesion_shape_index\"]\n",
    "    new_num_cols += [\"shape_complexity_index\"]\n",
    "    \n",
    "    df[\"color_contrast_index\"] = (df[\"tbp_lv_deltaA\"] +\n",
    "                                  df[\"tbp_lv_deltaB\"] + \n",
    "                                  df[\"tbp_lv_deltaL\"] +\n",
    "                                  df[\"tbp_lv_deltaLBnorm\"])\n",
    "    new_num_cols += [\"color_contrast_index\"]\n",
    "    \n",
    "    df[\"log_lesion_area\"] = np.log1p(df[\"tbp_lv_areaMM2\"])\n",
    "    new_num_cols += [\"log_lesion_area\"]\n",
    "    \n",
    "    df[\"normalized_lesion_size\"] = df[\"clin_size_long_diam_mm\"] / df[\"age_approx\"]\n",
    "    new_num_cols += [\"normalized_lesion_size\"]\n",
    "    \n",
    "    df[\"mean_hue_difference\"] = (df[\"tbp_lv_H\"] + df[\"tbp_lv_Hext\"]) / 2\n",
    "    new_num_cols += [\"mean_hue_difference\"]\n",
    "    \n",
    "    df[\"std_dev_contrast\"] = np.sqrt((df[\"tbp_lv_deltaA\"]**2 +\n",
    "                                      df[\"tbp_lv_deltaB\"]**2 + \n",
    "                                      df[\"tbp_lv_deltaL\"]**2) / 3)\n",
    "    new_num_cols += [\"std_dev_contrast\"]\n",
    "    \n",
    "    df[\"color_shape_composite_index\"] = (df[\"tbp_lv_color_std_mean\"] + \n",
    "                                         df[\"tbp_lv_area_perim_ratio\"] +\n",
    "                                         df[\"tbp_lv_symm_2axis\"]) / 3\n",
    "    new_num_cols += [\"color_shape_composite_index\"]\n",
    "    \n",
    "    df[\"lesion_orientation_3d\"] = np.arctan2(df[\"tbp_lv_y\"], df[\"tbp_lv_x\"])\n",
    "    new_num_cols += [\"lesion_orientation_3d\"]\n",
    "    \n",
    "    df[\"overall_color_difference\"] = (df[\"tbp_lv_deltaA\"] + \n",
    "                                      df[\"tbp_lv_deltaB\"] + \n",
    "                                      df[\"tbp_lv_deltaL\"]) / 3\n",
    "    new_num_cols += [\"overall_color_difference\"]\n",
    "    \n",
    "    df[\"symmetry_perimeter_interaction\"] = df[\"tbp_lv_symm_2axis\"] * df[\"tbp_lv_perimeterMM\"]\n",
    "    new_num_cols += [\"symmetry_perimeter_interaction\"]\n",
    "    \n",
    "    df[\"comprehensive_lesion_index\"] = (df[\"tbp_lv_area_perim_ratio\"] +\n",
    "                                        df[\"tbp_lv_eccentricity\"] +\n",
    "                                        df[\"tbp_lv_norm_color\"] +\n",
    "                                        df[\"tbp_lv_symm_2axis\"]) / 4\n",
    "    new_num_cols += [\"comprehensive_lesion_index\"]\n",
    "    \n",
    "    df[\"color_variance_ratio\"] = df[\"tbp_lv_color_std_mean\"] / df[\"tbp_lv_stdLExt\"]\n",
    "    new_num_cols += [\"color_variance_ratio\"]\n",
    "    \n",
    "    df[\"border_color_interaction\"] = df[\"tbp_lv_norm_border\"] * df[\"tbp_lv_norm_color\"]\n",
    "    new_num_cols += [\"border_color_interaction\"]\n",
    "    \n",
    "    df[\"border_color_interaction_2\"] = ((df[\"tbp_lv_norm_border\"] * df[\"tbp_lv_norm_color\"]) /\n",
    "                                        (df[\"tbp_lv_norm_border\"] + df[\"tbp_lv_norm_color\"]))\n",
    "    new_num_cols += [\"border_color_interaction_2\"]\n",
    "    \n",
    "    df[\"size_color_contrast_ratio\"] = df[\"clin_size_long_diam_mm\"] / df[\"tbp_lv_deltaLBnorm\"]\n",
    "    new_num_cols += [\"size_color_contrast_ratio\"]\n",
    "    \n",
    "    df[\"age_normalized_nevi_confidence\"] = df[\"tbp_lv_nevi_confidence\"] / df[\"age_approx\"]\n",
    "    new_num_cols += [\"age_normalized_nevi_confidence\"]\n",
    "    \n",
    "    df[\"age_normalized_nevi_confidence_2\"] = np.sqrt(df[\"tbp_lv_nevi_confidence\"]**2 + df[\"age_approx\"]**2)\n",
    "    new_num_cols += [\"age_normalized_nevi_confidence_2\"]\n",
    "    \n",
    "    df[\"color_asymmetry_index\"] = df[\"tbp_lv_radial_color_std_max\"] * df[\"tbp_lv_symm_2axis\"]\n",
    "    new_num_cols += [\"color_asymmetry_index\"]\n",
    "    \n",
    "    df[\"volume_approximation_3d\"] = df[\"tbp_lv_areaMM2\"] * np.sqrt(df[\"tbp_lv_x\"]**2 +\n",
    "                                                                   df[\"tbp_lv_y\"]**2 +\n",
    "                                                                   df[\"tbp_lv_z\"]**2)\n",
    "    new_num_cols += [\"volume_approximation_3d\"]\n",
    "    \n",
    "    df[\"color_range\"] = (np.abs(df[\"tbp_lv_L\"] - df[\"tbp_lv_Lext\"]) +\n",
    "                         np.abs(df[\"tbp_lv_A\"] - df[\"tbp_lv_Aext\"]) +\n",
    "                         np.abs(df[\"tbp_lv_B\"] - df[\"tbp_lv_Bext\"]))\n",
    "    new_num_cols += [\"color_range\"]\n",
    "    \n",
    "    df[\"shape_color_consistency\"] = df[\"tbp_lv_eccentricity\"] * df[\"tbp_lv_color_std_mean\"]\n",
    "    new_num_cols += [\"shape_color_consistency\"]\n",
    "    \n",
    "    df[\"border_length_ratio\"] = df[\"tbp_lv_perimeterMM\"] / np.sqrt(2 * df[\"tbp_lv_areaMM2\"])\n",
    "    new_num_cols += [\"border_length_ratio\"]\n",
    "    \n",
    "    df[\"age_size_symmetry_index\"] = (df[\"age_approx\"] *\n",
    "                                     df[\"clin_size_long_diam_mm\"] *\n",
    "                                     df[\"tbp_lv_symm_2axis\"])\n",
    "    new_num_cols += [\"age_size_symmetry_index\"]\n",
    "    \n",
    "    df[\"age_area_symmetry\"] = (df[\"age_approx\"] *\n",
    "                               df[\"tbp_lv_areaMM2\"] *\n",
    "                               df[\"tbp_lv_symm_2axis\"])\n",
    "    new_num_cols += [\"age_area_symmetry\"]\n",
    "    \n",
    "    for col in numerical_features + new_num_cols:\n",
    "        df, feature_name = stat_feature(df, col)\n",
    "        new_num_cols += [feature_name]\n",
    "    \n",
    "    df[\"num_images\"] = df.patient_id.map(df.groupby(group_column)[id_column].count())\n",
    "    new_num_cols += [\"num_images\"]\n",
    "\n",
    "    return df, new_num_cols"
   ]
  },
  {
   "cell_type": "code",
   "execution_count": 4,
   "id": "88560a68",
   "metadata": {
    "execution": {
     "iopub.execute_input": "2024-08-12T04:03:54.489553Z",
     "iopub.status.busy": "2024-08-12T04:03:54.489036Z",
     "iopub.status.idle": "2024-08-12T04:05:17.849148Z",
     "shell.execute_reply": "2024-08-12T04:05:17.847868Z"
    },
    "papermill": {
     "duration": 83.370933,
     "end_time": "2024-08-12T04:05:17.852238",
     "exception": false,
     "start_time": "2024-08-12T04:03:54.481305",
     "status": "completed"
    },
    "tags": []
   },
   "outputs": [
    {
     "name": "stdout",
     "output_type": "stream",
     "text": [
      "Train data size: (401059, 57)\n",
      "Test data size: (3, 44)\n"
     ]
    }
   ],
   "source": [
    "INPUT_PATH = Path(\"/kaggle/input/isic-2024-challenge/\")\n",
    "ARTIFACTS_INPUT_PATH = Path(\"/kaggle/input/isic-scd-boosting-v1-train/\")\n",
    "MODELS_INPUT_PATH = ARTIFACTS_INPUT_PATH / cfg.models_output_dir\n",
    "\n",
    "train_metadata = pd.read_csv(INPUT_PATH / \"train-metadata.csv\", low_memory=False, na_values=[\"NA\"])\n",
    "test_metadata = pd.read_csv(INPUT_PATH / \"test-metadata.csv\", low_memory=False, na_values=[\"NA\"])\n",
    "\n",
    "folds_df = get_folds()\n",
    "train_metadata = train_metadata.merge(folds_df, on=[\"isic_id\", \"patient_id\"], how=\"inner\")\n",
    "print(f\"Train data size: {train_metadata.shape}\")\n",
    "print(f\"Test data size: {test_metadata.shape}\")\n",
    "\n",
    "train_metadata = preprocess(train_metadata)\n",
    "test_metadata = preprocess(test_metadata)\n",
    "\n",
    "train_metadata, new_num_cols = feature_engineering(train_metadata)\n",
    "test_metadata, _ = feature_engineering(test_metadata)"
   ]
  },
  {
   "cell_type": "code",
   "execution_count": 5,
   "id": "eec3aaa9",
   "metadata": {
    "execution": {
     "iopub.execute_input": "2024-08-12T04:05:17.867246Z",
     "iopub.status.busy": "2024-08-12T04:05:17.866818Z",
     "iopub.status.idle": "2024-08-12T04:05:19.712235Z",
     "shell.execute_reply": "2024-08-12T04:05:19.711028Z"
    },
    "papermill": {
     "duration": 1.855541,
     "end_time": "2024-08-12T04:05:19.714831",
     "exception": false,
     "start_time": "2024-08-12T04:05:17.859290",
     "status": "completed"
    },
    "tags": []
   },
   "outputs": [
    {
     "name": "stdout",
     "output_type": "stream",
     "text": [
      "Total number of columns: 200\n"
     ]
    }
   ],
   "source": [
    "with open(ARTIFACTS_INPUT_PATH / f\"{cfg.model_name}_encoder.joblib\", \"rb\") as f:\n",
    "    mixed_encoded_preprocessor = joblib.load(f)\n",
    "    \n",
    "enc = mixed_encoded_preprocessor.fit(train_metadata)\n",
    "X_test = enc.transform(test_metadata)\n",
    "\n",
    "columns_for_model = len(X_test.columns)\n",
    "print(f\"Total number of columns: {columns_for_model}\")"
   ]
  },
  {
   "cell_type": "code",
   "execution_count": 6,
   "id": "b1bd2741",
   "metadata": {
    "execution": {
     "iopub.execute_input": "2024-08-12T04:05:19.728023Z",
     "iopub.status.busy": "2024-08-12T04:05:19.727590Z",
     "iopub.status.idle": "2024-08-12T04:05:22.812439Z",
     "shell.execute_reply": "2024-08-12T04:05:22.811237Z"
    },
    "papermill": {
     "duration": 3.095024,
     "end_time": "2024-08-12T04:05:22.815636",
     "exception": false,
     "start_time": "2024-08-12T04:05:19.720612",
     "status": "completed"
    },
    "tags": []
   },
   "outputs": [],
   "source": [
    "all_folds = np.unique(train_metadata[\"fold\"])\n",
    "test_predictions_df = pd.DataFrame({id_column: test_metadata[id_column]})\n",
    "for fold in all_folds:\n",
    "    with open(MODELS_INPUT_PATH / f\"{cfg.model_name}_fold_{fold}.txt\", \"rb\") as f:\n",
    "        estimator = joblib.load(f)\n",
    "    test_predictions_df[f\"fold_{fold}\"] = estimator.predict_proba(X_test)[:, -1]"
   ]
  },
  {
   "cell_type": "code",
   "execution_count": 7,
   "id": "ccc250f8",
   "metadata": {
    "execution": {
     "iopub.execute_input": "2024-08-12T04:05:22.830460Z",
     "iopub.status.busy": "2024-08-12T04:05:22.829863Z",
     "iopub.status.idle": "2024-08-12T04:05:22.854830Z",
     "shell.execute_reply": "2024-08-12T04:05:22.853552Z"
    },
    "papermill": {
     "duration": 0.036158,
     "end_time": "2024-08-12T04:05:22.858345",
     "exception": false,
     "start_time": "2024-08-12T04:05:22.822187",
     "status": "completed"
    },
    "tags": []
   },
   "outputs": [
    {
     "data": {
      "text/html": [
       "<div>\n",
       "<style scoped>\n",
       "    .dataframe tbody tr th:only-of-type {\n",
       "        vertical-align: middle;\n",
       "    }\n",
       "\n",
       "    .dataframe tbody tr th {\n",
       "        vertical-align: top;\n",
       "    }\n",
       "\n",
       "    .dataframe thead th {\n",
       "        text-align: right;\n",
       "    }\n",
       "</style>\n",
       "<table border=\"1\" class=\"dataframe\">\n",
       "  <thead>\n",
       "    <tr style=\"text-align: right;\">\n",
       "      <th></th>\n",
       "      <th>isic_id</th>\n",
       "      <th>fold_1</th>\n",
       "      <th>fold_2</th>\n",
       "      <th>fold_3</th>\n",
       "      <th>fold_4</th>\n",
       "      <th>fold_5</th>\n",
       "    </tr>\n",
       "  </thead>\n",
       "  <tbody>\n",
       "    <tr>\n",
       "      <th>0</th>\n",
       "      <td>ISIC_0015657</td>\n",
       "      <td>0.521433</td>\n",
       "      <td>0.540319</td>\n",
       "      <td>0.046139</td>\n",
       "      <td>0.661866</td>\n",
       "      <td>0.519844</td>\n",
       "    </tr>\n",
       "    <tr>\n",
       "      <th>1</th>\n",
       "      <td>ISIC_0015729</td>\n",
       "      <td>0.503948</td>\n",
       "      <td>0.523280</td>\n",
       "      <td>0.044461</td>\n",
       "      <td>0.672395</td>\n",
       "      <td>0.468169</td>\n",
       "    </tr>\n",
       "    <tr>\n",
       "      <th>2</th>\n",
       "      <td>ISIC_0015740</td>\n",
       "      <td>0.577508</td>\n",
       "      <td>0.592682</td>\n",
       "      <td>0.056244</td>\n",
       "      <td>0.700100</td>\n",
       "      <td>0.610509</td>\n",
       "    </tr>\n",
       "  </tbody>\n",
       "</table>\n",
       "</div>"
      ],
      "text/plain": [
       "        isic_id    fold_1    fold_2    fold_3    fold_4    fold_5\n",
       "0  ISIC_0015657  0.521433  0.540319  0.046139  0.661866  0.519844\n",
       "1  ISIC_0015729  0.503948  0.523280  0.044461  0.672395  0.468169\n",
       "2  ISIC_0015740  0.577508  0.592682  0.056244  0.700100  0.610509"
      ]
     },
     "execution_count": 7,
     "metadata": {},
     "output_type": "execute_result"
    }
   ],
   "source": [
    "test_predictions_df.head()"
   ]
  },
  {
   "cell_type": "code",
   "execution_count": 8,
   "id": "64efc4d4",
   "metadata": {
    "execution": {
     "iopub.execute_input": "2024-08-12T04:05:22.874074Z",
     "iopub.status.busy": "2024-08-12T04:05:22.873639Z",
     "iopub.status.idle": "2024-08-12T04:05:22.883047Z",
     "shell.execute_reply": "2024-08-12T04:05:22.881796Z"
    },
    "papermill": {
     "duration": 0.020258,
     "end_time": "2024-08-12T04:05:22.885641",
     "exception": false,
     "start_time": "2024-08-12T04:05:22.865383",
     "status": "completed"
    },
    "tags": []
   },
   "outputs": [],
   "source": [
    "test_predictions_df[target_column] = test_predictions_df[[f\"fold_{fold}\" for fold in all_folds]].mean(axis=1)"
   ]
  },
  {
   "cell_type": "code",
   "execution_count": 9,
   "id": "9263339c",
   "metadata": {
    "execution": {
     "iopub.execute_input": "2024-08-12T04:05:22.900058Z",
     "iopub.status.busy": "2024-08-12T04:05:22.899624Z",
     "iopub.status.idle": "2024-08-12T04:05:22.914583Z",
     "shell.execute_reply": "2024-08-12T04:05:22.913395Z"
    },
    "papermill": {
     "duration": 0.026375,
     "end_time": "2024-08-12T04:05:22.918077",
     "exception": false,
     "start_time": "2024-08-12T04:05:22.891702",
     "status": "completed"
    },
    "tags": []
   },
   "outputs": [
    {
     "data": {
      "text/html": [
       "<div>\n",
       "<style scoped>\n",
       "    .dataframe tbody tr th:only-of-type {\n",
       "        vertical-align: middle;\n",
       "    }\n",
       "\n",
       "    .dataframe tbody tr th {\n",
       "        vertical-align: top;\n",
       "    }\n",
       "\n",
       "    .dataframe thead th {\n",
       "        text-align: right;\n",
       "    }\n",
       "</style>\n",
       "<table border=\"1\" class=\"dataframe\">\n",
       "  <thead>\n",
       "    <tr style=\"text-align: right;\">\n",
       "      <th></th>\n",
       "      <th>isic_id</th>\n",
       "      <th>fold_1</th>\n",
       "      <th>fold_2</th>\n",
       "      <th>fold_3</th>\n",
       "      <th>fold_4</th>\n",
       "      <th>fold_5</th>\n",
       "      <th>target</th>\n",
       "    </tr>\n",
       "  </thead>\n",
       "  <tbody>\n",
       "    <tr>\n",
       "      <th>0</th>\n",
       "      <td>ISIC_0015657</td>\n",
       "      <td>0.521433</td>\n",
       "      <td>0.540319</td>\n",
       "      <td>0.046139</td>\n",
       "      <td>0.661866</td>\n",
       "      <td>0.519844</td>\n",
       "      <td>0.457920</td>\n",
       "    </tr>\n",
       "    <tr>\n",
       "      <th>1</th>\n",
       "      <td>ISIC_0015729</td>\n",
       "      <td>0.503948</td>\n",
       "      <td>0.523280</td>\n",
       "      <td>0.044461</td>\n",
       "      <td>0.672395</td>\n",
       "      <td>0.468169</td>\n",
       "      <td>0.442451</td>\n",
       "    </tr>\n",
       "    <tr>\n",
       "      <th>2</th>\n",
       "      <td>ISIC_0015740</td>\n",
       "      <td>0.577508</td>\n",
       "      <td>0.592682</td>\n",
       "      <td>0.056244</td>\n",
       "      <td>0.700100</td>\n",
       "      <td>0.610509</td>\n",
       "      <td>0.507409</td>\n",
       "    </tr>\n",
       "  </tbody>\n",
       "</table>\n",
       "</div>"
      ],
      "text/plain": [
       "        isic_id    fold_1    fold_2    fold_3    fold_4    fold_5    target\n",
       "0  ISIC_0015657  0.521433  0.540319  0.046139  0.661866  0.519844  0.457920\n",
       "1  ISIC_0015729  0.503948  0.523280  0.044461  0.672395  0.468169  0.442451\n",
       "2  ISIC_0015740  0.577508  0.592682  0.056244  0.700100  0.610509  0.507409"
      ]
     },
     "execution_count": 9,
     "metadata": {},
     "output_type": "execute_result"
    }
   ],
   "source": [
    "test_predictions_df.head()"
   ]
  },
  {
   "cell_type": "code",
   "execution_count": 10,
   "id": "72cc4e97",
   "metadata": {
    "execution": {
     "iopub.execute_input": "2024-08-12T04:05:22.932220Z",
     "iopub.status.busy": "2024-08-12T04:05:22.931829Z",
     "iopub.status.idle": "2024-08-12T04:05:22.948307Z",
     "shell.execute_reply": "2024-08-12T04:05:22.947286Z"
    },
    "papermill": {
     "duration": 0.026467,
     "end_time": "2024-08-12T04:05:22.950883",
     "exception": false,
     "start_time": "2024-08-12T04:05:22.924416",
     "status": "completed"
    },
    "tags": []
   },
   "outputs": [
    {
     "data": {
      "text/plain": [
       "count    3.000000\n",
       "mean     0.469260\n",
       "std      0.033931\n",
       "min      0.442451\n",
       "25%      0.450186\n",
       "50%      0.457920\n",
       "75%      0.482664\n",
       "max      0.507409\n",
       "Name: target, dtype: float64"
      ]
     },
     "execution_count": 10,
     "metadata": {},
     "output_type": "execute_result"
    }
   ],
   "source": [
    "test_predictions_df[target_column].describe()"
   ]
  },
  {
   "cell_type": "code",
   "execution_count": 11,
   "id": "19ad0c3a",
   "metadata": {
    "execution": {
     "iopub.execute_input": "2024-08-12T04:05:22.966064Z",
     "iopub.status.busy": "2024-08-12T04:05:22.965643Z",
     "iopub.status.idle": "2024-08-12T04:05:22.976727Z",
     "shell.execute_reply": "2024-08-12T04:05:22.975531Z"
    },
    "papermill": {
     "duration": 0.022267,
     "end_time": "2024-08-12T04:05:22.979564",
     "exception": false,
     "start_time": "2024-08-12T04:05:22.957297",
     "status": "completed"
    },
    "tags": []
   },
   "outputs": [],
   "source": [
    "test_predictions_df[[id_column, target_column]].to_csv(\"submission.csv\", index=False)"
   ]
  },
  {
   "cell_type": "code",
   "execution_count": null,
   "id": "ba448382",
   "metadata": {
    "papermill": {
     "duration": 0.006159,
     "end_time": "2024-08-12T04:05:22.992269",
     "exception": false,
     "start_time": "2024-08-12T04:05:22.986110",
     "status": "completed"
    },
    "tags": []
   },
   "outputs": [],
   "source": []
  }
 ],
 "metadata": {
  "kaggle": {
   "accelerator": "none",
   "dataSources": [
    {
     "databundleVersionId": 9094797,
     "sourceId": 63056,
     "sourceType": "competition"
    },
    {
     "sourceId": 187477024,
     "sourceType": "kernelVersion"
    },
    {
     "sourceId": 189656082,
     "sourceType": "kernelVersion"
    },
    {
     "sourceId": 192189821,
     "sourceType": "kernelVersion"
    }
   ],
   "dockerImageVersionId": 30746,
   "isGpuEnabled": false,
   "isInternetEnabled": false,
   "language": "python",
   "sourceType": "notebook"
  },
  "kernelspec": {
   "display_name": "Python 3",
   "language": "python",
   "name": "python3"
  },
  "language_info": {
   "codemirror_mode": {
    "name": "ipython",
    "version": 3
   },
   "file_extension": ".py",
   "mimetype": "text/x-python",
   "name": "python",
   "nbconvert_exporter": "python",
   "pygments_lexer": "ipython3",
   "version": "3.10.13"
  },
  "papermill": {
   "default_parameters": {},
   "duration": 100.225281,
   "end_time": "2024-08-12T04:05:24.426195",
   "environment_variables": {},
   "exception": null,
   "input_path": "__notebook__.ipynb",
   "output_path": "__notebook__.ipynb",
   "parameters": {},
   "start_time": "2024-08-12T04:03:44.200914",
   "version": "2.5.0"
  }
 },
 "nbformat": 4,
 "nbformat_minor": 5
}
