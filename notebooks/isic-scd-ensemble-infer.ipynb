{
 "cells": [
  {
   "cell_type": "code",
   "execution_count": 1,
   "id": "8a280618",
   "metadata": {
    "_cell_guid": "b1076dfc-b9ad-4769-8c92-a6c4dae69d19",
    "_uuid": "8f2839f25d086af736a60e9eeb907d3b93b6e0e5",
    "execution": {
     "iopub.execute_input": "2024-07-14T22:41:34.079309Z",
     "iopub.status.busy": "2024-07-14T22:41:34.078911Z",
     "iopub.status.idle": "2024-07-14T22:41:47.586463Z",
     "shell.execute_reply": "2024-07-14T22:41:47.585411Z"
    },
    "papermill": {
     "duration": 13.518348,
     "end_time": "2024-07-14T22:41:47.588921",
     "exception": false,
     "start_time": "2024-07-14T22:41:34.070573",
     "status": "completed"
    },
    "tags": []
   },
   "outputs": [],
   "source": [
    "import json\n",
    "import joblib\n",
    "from tqdm import tqdm\n",
    "from pathlib import Path\n",
    "from timeit import default_timer as timer\n",
    "\n",
    "import pandas as pd\n",
    "import numpy as np\n",
    "from io import BytesIO\n",
    "from PIL import Image\n",
    "import h5py\n",
    "\n",
    "import catboost as cb\n",
    "import lightgbm as lgb\n",
    "\n",
    "import torch\n",
    "import torch.nn as nn\n",
    "import torch.nn.functional as F\n",
    "from torch.utils.data import DataLoader, Dataset\n",
    "import albumentations as A\n",
    "from albumentations.pytorch import ToTensorV2\n",
    "from timm import create_model\n",
    "\n",
    "from accelerate import Accelerator\n",
    "\n",
    "from isic_helper import DotDict\n",
    "from isic_helper import get_folds\n",
    "from isic_helper import time_to_str"
   ]
  },
  {
   "cell_type": "code",
   "execution_count": 2,
   "id": "62c437b1",
   "metadata": {
    "execution": {
     "iopub.execute_input": "2024-07-14T22:41:47.602018Z",
     "iopub.status.busy": "2024-07-14T22:41:47.601295Z",
     "iopub.status.idle": "2024-07-14T22:41:58.301776Z",
     "shell.execute_reply": "2024-07-14T22:41:58.300872Z"
    },
    "papermill": {
     "duration": 10.709724,
     "end_time": "2024-07-14T22:41:58.304462",
     "exception": false,
     "start_time": "2024-07-14T22:41:47.594738",
     "status": "completed"
    },
    "tags": []
   },
   "outputs": [
    {
     "name": "stdout",
     "output_type": "stream",
     "text": [
      "Train data size: (401059, 55)\n",
      "Test data size: (3, 44)\n"
     ]
    }
   ],
   "source": [
    "INPUT_PATH = Path(\"../input/isic-2024-challenge/\")\n",
    "# CB_ARTIFACTS_INPUT_PATH = Path(f\"../input/isic-scd-cb-train/\")\n",
    "LGB_ARTIFACTS_INPUT_PATH = Path(f\"../input/isic-scd-lgb-train/\")\n",
    "RESNET18_ARTIFACTS_INPUT_PATH = Path(f\"../input/isic-scd-resnet18-train/\")\n",
    "\n",
    "# with open(CB_ARTIFACTS_INPUT_PATH / \"run_metadata.json\", \"r\") as f:\n",
    "#     cb_run_metadata = json.load(f)\n",
    "    \n",
    "with open(LGB_ARTIFACTS_INPUT_PATH / \"run_metadata.json\", \"r\") as f:\n",
    "    lgb_run_metadata = json.load(f)\n",
    "\n",
    "with open(RESNET18_ARTIFACTS_INPUT_PATH / \"run_metadata.json\", \"r\") as f:\n",
    "    resnet18_run_metadata = json.load(f)\n",
    "\n",
    "# cb_cfg = DotDict()\n",
    "# cb_cfg.models_output_dir = \"models\"\n",
    "# cb_cfg.model_name = \"cb_v1\"\n",
    "\n",
    "lgb_cfg = DotDict()\n",
    "lgb_cfg.models_output_dir = \"models\"\n",
    "lgb_cfg.model_name = \"lgb_v1\"\n",
    "\n",
    "resnet18_cfg = DotDict()\n",
    "for k, v in resnet18_run_metadata[\"params\"].items():\n",
    "    setattr(resnet18_cfg, k, v)\n",
    "setattr(resnet18_cfg, \"infer\", True)\n",
    "\n",
    "# CB_MODELS_INPUT_PATH = CB_ARTIFACTS_INPUT_PATH / cb_cfg.models_output_dir\n",
    "LGB_MODELS_INPUT_PATH = LGB_ARTIFACTS_INPUT_PATH / lgb_cfg.models_output_dir\n",
    "RESNET18_MODELS_INPUT_PATH = RESNET18_ARTIFACTS_INPUT_PATH / resnet18_cfg.models_output_dir\n",
    "\n",
    "train_metadata = pd.read_csv(INPUT_PATH / \"train-metadata.csv\", low_memory=False)\n",
    "test_metadata = pd.read_csv(INPUT_PATH / \"test-metadata.csv\", low_memory=False)\n",
    "print(f\"Train data size: {train_metadata.shape}\")\n",
    "print(f\"Test data size: {test_metadata.shape}\")\n",
    "\n",
    "test_images = h5py.File(INPUT_PATH / \"test-image.hdf5\", mode=\"r\")\n",
    "\n",
    "folds_df = get_folds()\n",
    "train_metadata = train_metadata.merge(folds_df, on=[\"isic_id\", \"patient_id\"], how=\"inner\")\n",
    "\n",
    "id_column = \"isic_id\"\n",
    "target_column = \"target\"\n",
    "folds = train_metadata[\"fold\"]"
   ]
  },
  {
   "cell_type": "code",
   "execution_count": 3,
   "id": "1ed72d92",
   "metadata": {
    "execution": {
     "iopub.execute_input": "2024-07-14T22:41:58.319001Z",
     "iopub.status.busy": "2024-07-14T22:41:58.318480Z",
     "iopub.status.idle": "2024-07-14T22:42:04.282883Z",
     "shell.execute_reply": "2024-07-14T22:42:04.281636Z"
    },
    "papermill": {
     "duration": 5.973689,
     "end_time": "2024-07-14T22:42:04.284958",
     "exception": false,
     "start_time": "2024-07-14T22:41:58.311269",
     "status": "completed"
    },
    "tags": []
   },
   "outputs": [
    {
     "name": "stderr",
     "output_type": "stream",
     "text": [
      "100%|██████████| 1/1 [00:00<00:00,  1.06it/s]\n",
      "100%|██████████| 1/1 [00:00<00:00,  8.21it/s]\n",
      "100%|██████████| 1/1 [00:00<00:00,  8.39it/s]\n",
      "100%|██████████| 1/1 [00:00<00:00,  7.99it/s]\n",
      "100%|██████████| 1/1 [00:00<00:00,  8.35it/s]\n"
     ]
    }
   ],
   "source": [
    "def test_augment(image_size):\n",
    "    transform = A.Compose([\n",
    "        A.Resize(image_size, image_size),\n",
    "#         A.Normalize(\n",
    "#             mean=[0., 0., 0.],\n",
    "#             std=[1, 1, 1],\n",
    "#             max_pixel_value=255.0,\n",
    "#             p=1.0\n",
    "#         ),\n",
    "        ToTensorV2()\n",
    "    ], p=1.)\n",
    "    return transform\n",
    "\n",
    "class ISICDataset(Dataset):\n",
    "    def __init__(self, metadata, images, augment, infer=False):\n",
    "        self.metadata = metadata\n",
    "        self.images = images\n",
    "        self.augment = augment\n",
    "        self.length = len(self.metadata)\n",
    "        self.infer = infer\n",
    "    \n",
    "    def __len__(self):\n",
    "        return self.length\n",
    "    \n",
    "    def __getitem__(self, index):\n",
    "        data = self.metadata.iloc[index]\n",
    "        \n",
    "        image = np.array(Image.open(BytesIO(self.images[data[id_column]][()])))\n",
    "        image = self.augment(image=image)[\"image\"]\n",
    "        \n",
    "        record = {\n",
    "            \"image\": image\n",
    "        }\n",
    "        \n",
    "        if not self.infer:\n",
    "            target = data[target_column]\n",
    "            record[\"target\"] = torch.tensor(target).float()\n",
    "        \n",
    "        return record\n",
    "\n",
    "class ISICNet(nn.Module):\n",
    "    def __init__(self, arch=\"resnet18\", pretrained=False, infer=False):\n",
    "        super(ISICNet, self).__init__()\n",
    "        self.infer = infer\n",
    "        self.model = create_model(model_name=arch, pretrained=pretrained, in_chans=3,  num_classes=0, global_pool='')\n",
    "        self.classifier = nn.Linear(self.model.num_features, 1)\n",
    "        \n",
    "        self.dropouts = nn.ModuleList([nn.Dropout(0.5) for i in range(5)])\n",
    "        \n",
    "    def forward(self, batch):\n",
    "        image = batch[\"image\"]\n",
    "        image = image.float() / 255\n",
    "        \n",
    "        x = self.model(image)\n",
    "        bs = len(image)\n",
    "        pool = F.adaptive_avg_pool2d(x, 1).reshape(bs,-1)\n",
    "        \n",
    "        if self.training:\n",
    "            logit = 0\n",
    "            for i in range(len(self.dropouts)):\n",
    "                logit += self.classifier(self.dropouts[i](pool))\n",
    "            logit = logit/len(self.dropouts)\n",
    "        else:\n",
    "            logit = self.classifier(pool)\n",
    "        return logit\n",
    "    \n",
    "\n",
    "all_folds = np.sort(folds.unique())\n",
    "resnet18_test_predictions_df = pd.DataFrame({id_column: test_metadata[id_column]})\n",
    "test_dataset = ISICDataset(test_metadata, test_images, augment=test_augment(image_size=resnet18_cfg.image_size), infer=True)\n",
    "test_dataloader = DataLoader(test_dataset, shuffle=False, batch_size=resnet18_cfg.val_batch_size, num_workers=resnet18_cfg.val_num_worker, drop_last=False, pin_memory=True)\n",
    "for fold in all_folds:\n",
    "    accelerator = Accelerator(cpu=resnet18_cfg.cpu, mixed_precision=resnet18_cfg.mixed_precision)\n",
    "    \n",
    "    net = ISICNet(pretrained=False, infer=True)\n",
    "    net = net.to(accelerator.device)\n",
    "    \n",
    "    net, test_dataloader = accelerator.prepare(net, test_dataloader)\n",
    "    \n",
    "    accelerator.load_state(RESNET18_MODELS_INPUT_PATH / \n",
    "                           f\"fold_{fold}/model_{resnet18_cfg.model_name}_epoch_{resnet18_run_metadata['best_num_epochs'][f'fold_{fold}']}\")\n",
    "    \n",
    "    net.eval()\n",
    "    test_preds = []\n",
    "    for step, batch in tqdm(enumerate(test_dataloader), total=len(test_dataloader)):\n",
    "        # We could avoid this line since we set the accelerator with `device_placement=True`.\n",
    "        batch = {k: v.to(accelerator.device) for k, v in batch.items()}\n",
    "        \n",
    "        image0 = batch['image'].clone().detach()\n",
    "        test_preds_batch = 0\n",
    "        counter = 0\n",
    "        with torch.no_grad():\n",
    "            outputs = net(batch)\n",
    "        preds = torch.sigmoid(outputs)\n",
    "        preds = accelerator.gather_for_metrics((preds))\n",
    "        test_preds_batch += preds.data.cpu().numpy().reshape(-1)\n",
    "        counter += 1\n",
    "        if resnet18_cfg.tta:\n",
    "            batch[\"image\"] = torch.flip(image0,dims=[2])\n",
    "            with torch.no_grad():\n",
    "                outputs = net(batch)\n",
    "            preds = torch.sigmoid(outputs)\n",
    "            preds = accelerator.gather_for_metrics((preds))\n",
    "            test_preds_batch += preds.data.cpu().numpy().reshape(-1)\n",
    "            counter += 1\n",
    "\n",
    "            batch[\"image\"] = torch.flip(image0,dims=[3])\n",
    "            with torch.no_grad():\n",
    "                outputs = net(batch)\n",
    "            preds = torch.sigmoid(outputs)\n",
    "            preds = accelerator.gather_for_metrics((preds))\n",
    "            test_preds_batch += preds.data.cpu().numpy().reshape(-1)\n",
    "            counter += 1\n",
    "\n",
    "            for k in [1, 2, 3]:\n",
    "                batch[\"image\"] = torch.rot90(image0,k, dims=[2, 3])\n",
    "                with torch.no_grad():\n",
    "                    outputs = net(batch)\n",
    "                preds = torch.sigmoid(outputs)\n",
    "                preds = accelerator.gather_for_metrics((preds))\n",
    "                test_preds_batch += preds.data.cpu().numpy().reshape(-1)\n",
    "                counter += 1\n",
    "                \n",
    "        test_preds_batch = test_preds_batch / counter   \n",
    "        test_preds.append(test_preds_batch)\n",
    "\n",
    "    resnet18_test_predictions_df[f\"fold_{fold}\"] = np.concatenate(test_preds)"
   ]
  },
  {
   "cell_type": "code",
   "execution_count": 4,
   "id": "8d8f4c79",
   "metadata": {
    "execution": {
     "iopub.execute_input": "2024-07-14T22:42:04.302029Z",
     "iopub.status.busy": "2024-07-14T22:42:04.301728Z",
     "iopub.status.idle": "2024-07-14T22:42:04.906422Z",
     "shell.execute_reply": "2024-07-14T22:42:04.905500Z"
    },
    "papermill": {
     "duration": 0.616485,
     "end_time": "2024-07-14T22:42:04.909236",
     "exception": false,
     "start_time": "2024-07-14T22:42:04.292751",
     "status": "completed"
    },
    "tags": []
   },
   "outputs": [],
   "source": [
    "def feature_engineering(df):\n",
    "    df[\"lesion_size_ratio\"]              = df[\"tbp_lv_minorAxisMM\"] / df[\"clin_size_long_diam_mm\"]\n",
    "    df[\"hue_contrast\"]                   = (df[\"tbp_lv_H\"] - df[\"tbp_lv_Hext\"]).abs()\n",
    "    df[\"normalized_lesion_size\"]         = df[\"clin_size_long_diam_mm\"] / df[\"age_approx\"]\n",
    "    df[\"overall_color_difference\"]       = (df[\"tbp_lv_deltaA\"] + df[\"tbp_lv_deltaB\"] + df[\"tbp_lv_deltaL\"]) / 3\n",
    "    \n",
    "    patient_num_images = df.groupby(\"patient_id\", as_index=False)[\"isic_id\"].count().rename(columns={\"isic_id\": \"num_images\"})\n",
    "    df = df.merge(patient_num_images, on=\"patient_id\", how=\"left\")\n",
    "\n",
    "    new_num_cols = [\n",
    "        \"num_images\",\n",
    "        \"lesion_size_ratio\",\n",
    "        \"hue_contrast\",\n",
    "        \"normalized_lesion_size\", \n",
    "        \"overall_color_difference\"\n",
    "    ]\n",
    "    \n",
    "    new_cat_cols = []\n",
    "    \n",
    "    return df, new_num_cols, new_cat_cols\n",
    "\n",
    "train_metadata, new_num_cols, new_cat_cols = feature_engineering(train_metadata.copy())\n",
    "test_metadata, new_num_cols, new_cat_cols = feature_engineering(test_metadata.copy())"
   ]
  },
  {
   "cell_type": "code",
   "execution_count": 5,
   "id": "ee7948f0",
   "metadata": {
    "execution": {
     "iopub.execute_input": "2024-07-14T22:42:04.926882Z",
     "iopub.status.busy": "2024-07-14T22:42:04.926503Z",
     "iopub.status.idle": "2024-07-14T22:42:04.931268Z",
     "shell.execute_reply": "2024-07-14T22:42:04.930282Z"
    },
    "papermill": {
     "duration": 0.015823,
     "end_time": "2024-07-14T22:42:04.933443",
     "exception": false,
     "start_time": "2024-07-14T22:42:04.917620",
     "status": "completed"
    },
    "tags": []
   },
   "outputs": [],
   "source": [
    "# with open(CB_ARTIFACTS_INPUT_PATH / f\"{cb_cfg.model_name}_encoder.joblib\", \"rb\") as f:\n",
    "#     mixed_encoded_preprocessor = joblib.load(f)\n",
    "\n",
    "# enc = mixed_encoded_preprocessor.fit(train_metadata)\n",
    "# X_test = enc.transform(test_metadata)\n",
    "\n",
    "# columns_for_model = len(X_test.columns)\n",
    "# print(f\"Total number of columns: {columns_for_model}\")\n",
    "\n",
    "# all_folds = np.sort(folds.unique())\n",
    "# cb_test_predictions_df = pd.DataFrame({id_column: test_metadata[id_column]})\n",
    "# for fold in all_folds:\n",
    "#     model = cb.CatBoostClassifier(use_best_model=True)\n",
    "#     model.load_model(CB_MODELS_INPUT_PATH / f\"{cb_cfg.model_name}_fold_{fold}.txt\")\n",
    "#     cb_test_predictions_df[f\"fold_{fold}\"] = model.predict_proba(X_test)[:, -1]"
   ]
  },
  {
   "cell_type": "code",
   "execution_count": 6,
   "id": "0cdf0a72",
   "metadata": {
    "execution": {
     "iopub.execute_input": "2024-07-14T22:42:04.951388Z",
     "iopub.status.busy": "2024-07-14T22:42:04.951110Z",
     "iopub.status.idle": "2024-07-14T22:42:06.334706Z",
     "shell.execute_reply": "2024-07-14T22:42:06.333602Z"
    },
    "papermill": {
     "duration": 1.395701,
     "end_time": "2024-07-14T22:42:06.337603",
     "exception": false,
     "start_time": "2024-07-14T22:42:04.941902",
     "status": "completed"
    },
    "tags": []
   },
   "outputs": [
    {
     "name": "stdout",
     "output_type": "stream",
     "text": [
      "Total number of columns: 46\n"
     ]
    }
   ],
   "source": [
    "with open(LGB_ARTIFACTS_INPUT_PATH / f\"{lgb_cfg.model_name}_encoder.joblib\", \"rb\") as f:\n",
    "    mixed_encoded_preprocessor = joblib.load(f)\n",
    "\n",
    "enc = mixed_encoded_preprocessor.fit(train_metadata)\n",
    "X_test = enc.transform(test_metadata)\n",
    "\n",
    "columns_for_model = len(X_test.columns)\n",
    "print(f\"Total number of columns: {columns_for_model}\")\n",
    "\n",
    "all_folds = np.sort(folds.unique())\n",
    "lgb_test_predictions_df = pd.DataFrame({id_column: test_metadata[id_column]})\n",
    "for fold in all_folds:\n",
    "    model = lgb.Booster(model_file=LGB_MODELS_INPUT_PATH / f\"{lgb_cfg.model_name}_fold_{fold}.txt\")\n",
    "    lgb_test_predictions_df[f\"fold_{fold}\"] = model.predict(X_test, num_iteration=lgb_run_metadata[\"best_num_rounds\"][f\"fold_{fold}\"])"
   ]
  },
  {
   "cell_type": "code",
   "execution_count": 7,
   "id": "afcf08a0",
   "metadata": {
    "execution": {
     "iopub.execute_input": "2024-07-14T22:42:06.358809Z",
     "iopub.status.busy": "2024-07-14T22:42:06.358365Z",
     "iopub.status.idle": "2024-07-14T22:42:06.370514Z",
     "shell.execute_reply": "2024-07-14T22:42:06.369285Z"
    },
    "papermill": {
     "duration": 0.024625,
     "end_time": "2024-07-14T22:42:06.373013",
     "exception": false,
     "start_time": "2024-07-14T22:42:06.348388",
     "status": "completed"
    },
    "tags": []
   },
   "outputs": [],
   "source": [
    "# cb_test_predictions_df[target_column] = cb_test_predictions_df[[f\"fold_{fold}\" for fold in all_folds]].mean(axis=1)\n",
    "lgb_test_predictions_df[target_column] = lgb_test_predictions_df[[f\"fold_{fold}\" for fold in all_folds]].mean(axis=1)\n",
    "resnet18_test_predictions_df[target_column] = resnet18_test_predictions_df[[f\"fold_{fold}\" for fold in all_folds]].mean(axis=1)"
   ]
  },
  {
   "cell_type": "code",
   "execution_count": 8,
   "id": "9937c14f",
   "metadata": {
    "execution": {
     "iopub.execute_input": "2024-07-14T22:42:06.391460Z",
     "iopub.status.busy": "2024-07-14T22:42:06.391038Z",
     "iopub.status.idle": "2024-07-14T22:42:06.403535Z",
     "shell.execute_reply": "2024-07-14T22:42:06.402553Z"
    },
    "papermill": {
     "duration": 0.024464,
     "end_time": "2024-07-14T22:42:06.405919",
     "exception": false,
     "start_time": "2024-07-14T22:42:06.381455",
     "status": "completed"
    },
    "tags": []
   },
   "outputs": [],
   "source": [
    "# test_predictions_df = (pd.merge(cb_test_predictions_df[[id_column, target_column]],\n",
    "#                                lgb_test_predictions_df[[id_column, target_column]], on=id_column,\n",
    "#                               suffixes=(\"_cb\", \"\"))\n",
    "#                          .merge(resnet18_test_predictions_df[[id_column, target_column]]\n",
    "#                                , on=id_column, suffixes=(\"_lgb\", \"_resnet18\")))\n",
    "\n",
    "test_predictions_df = (lgb_test_predictions_df[[id_column, target_column]].merge(\n",
    "                            resnet18_test_predictions_df[[id_column, target_column]]\n",
    "                        ,on=id_column, suffixes=(\"_lgb\", \"_resnet18\")))"
   ]
  },
  {
   "cell_type": "code",
   "execution_count": 9,
   "id": "4772e465",
   "metadata": {
    "execution": {
     "iopub.execute_input": "2024-07-14T22:42:06.423540Z",
     "iopub.status.busy": "2024-07-14T22:42:06.423152Z",
     "iopub.status.idle": "2024-07-14T22:42:06.440930Z",
     "shell.execute_reply": "2024-07-14T22:42:06.439794Z"
    },
    "papermill": {
     "duration": 0.029395,
     "end_time": "2024-07-14T22:42:06.443579",
     "exception": false,
     "start_time": "2024-07-14T22:42:06.414184",
     "status": "completed"
    },
    "tags": []
   },
   "outputs": [
    {
     "data": {
      "text/html": [
       "<div>\n",
       "<style scoped>\n",
       "    .dataframe tbody tr th:only-of-type {\n",
       "        vertical-align: middle;\n",
       "    }\n",
       "\n",
       "    .dataframe tbody tr th {\n",
       "        vertical-align: top;\n",
       "    }\n",
       "\n",
       "    .dataframe thead th {\n",
       "        text-align: right;\n",
       "    }\n",
       "</style>\n",
       "<table border=\"1\" class=\"dataframe\">\n",
       "  <thead>\n",
       "    <tr style=\"text-align: right;\">\n",
       "      <th></th>\n",
       "      <th>isic_id</th>\n",
       "      <th>target_lgb</th>\n",
       "      <th>target_resnet18</th>\n",
       "    </tr>\n",
       "  </thead>\n",
       "  <tbody>\n",
       "    <tr>\n",
       "      <th>0</th>\n",
       "      <td>ISIC_0015657</td>\n",
       "      <td>0.000226</td>\n",
       "      <td>0.023122</td>\n",
       "    </tr>\n",
       "    <tr>\n",
       "      <th>1</th>\n",
       "      <td>ISIC_0015729</td>\n",
       "      <td>0.000206</td>\n",
       "      <td>0.004345</td>\n",
       "    </tr>\n",
       "    <tr>\n",
       "      <th>2</th>\n",
       "      <td>ISIC_0015740</td>\n",
       "      <td>0.000303</td>\n",
       "      <td>0.001377</td>\n",
       "    </tr>\n",
       "  </tbody>\n",
       "</table>\n",
       "</div>"
      ],
      "text/plain": [
       "        isic_id  target_lgb  target_resnet18\n",
       "0  ISIC_0015657    0.000226         0.023122\n",
       "1  ISIC_0015729    0.000206         0.004345\n",
       "2  ISIC_0015740    0.000303         0.001377"
      ]
     },
     "execution_count": 9,
     "metadata": {},
     "output_type": "execute_result"
    }
   ],
   "source": [
    "test_predictions_df"
   ]
  },
  {
   "cell_type": "code",
   "execution_count": 10,
   "id": "fecf35ab",
   "metadata": {
    "execution": {
     "iopub.execute_input": "2024-07-14T22:42:06.463134Z",
     "iopub.status.busy": "2024-07-14T22:42:06.462802Z",
     "iopub.status.idle": "2024-07-14T22:42:06.471345Z",
     "shell.execute_reply": "2024-07-14T22:42:06.470404Z"
    },
    "papermill": {
     "duration": 0.021403,
     "end_time": "2024-07-14T22:42:06.473594",
     "exception": false,
     "start_time": "2024-07-14T22:42:06.452191",
     "status": "completed"
    },
    "tags": []
   },
   "outputs": [],
   "source": [
    "# test_predictions_df[\"target_cb\"] = test_predictions_df[\"target_cb\"].rank(pct=True).values\n",
    "test_predictions_df[\"target_lgb\"] = test_predictions_df[\"target_lgb\"].rank(pct=True).values\n",
    "test_predictions_df[\"target_resnet18\"] = test_predictions_df[\"target_resnet18\"].rank(pct=True).values"
   ]
  },
  {
   "cell_type": "code",
   "execution_count": 11,
   "id": "832108ef",
   "metadata": {
    "execution": {
     "iopub.execute_input": "2024-07-14T22:42:06.491176Z",
     "iopub.status.busy": "2024-07-14T22:42:06.490858Z",
     "iopub.status.idle": "2024-07-14T22:42:06.496760Z",
     "shell.execute_reply": "2024-07-14T22:42:06.495845Z"
    },
    "papermill": {
     "duration": 0.01705,
     "end_time": "2024-07-14T22:42:06.498868",
     "exception": false,
     "start_time": "2024-07-14T22:42:06.481818",
     "status": "completed"
    },
    "tags": []
   },
   "outputs": [],
   "source": [
    "# test_predictions_df[target_column] = (test_predictions_df[\"target_cb\"] * 0.35 + \n",
    "#                                       test_predictions_df[\"target_lgb\"] * 0.35 + \n",
    "#                                       test_predictions_df[\"target_resnet18\"] * 0.3)\n",
    "\n",
    "test_predictions_df[target_column] = (test_predictions_df[\"target_lgb\"] * 0.65 + \n",
    "                                      test_predictions_df[\"target_resnet18\"] * 0.35)"
   ]
  },
  {
   "cell_type": "code",
   "execution_count": 12,
   "id": "f4a60919",
   "metadata": {
    "execution": {
     "iopub.execute_input": "2024-07-14T22:42:06.516193Z",
     "iopub.status.busy": "2024-07-14T22:42:06.515891Z",
     "iopub.status.idle": "2024-07-14T22:42:06.527821Z",
     "shell.execute_reply": "2024-07-14T22:42:06.526791Z"
    },
    "papermill": {
     "duration": 0.023312,
     "end_time": "2024-07-14T22:42:06.530032",
     "exception": false,
     "start_time": "2024-07-14T22:42:06.506720",
     "status": "completed"
    },
    "tags": []
   },
   "outputs": [
    {
     "data": {
      "text/html": [
       "<div>\n",
       "<style scoped>\n",
       "    .dataframe tbody tr th:only-of-type {\n",
       "        vertical-align: middle;\n",
       "    }\n",
       "\n",
       "    .dataframe tbody tr th {\n",
       "        vertical-align: top;\n",
       "    }\n",
       "\n",
       "    .dataframe thead th {\n",
       "        text-align: right;\n",
       "    }\n",
       "</style>\n",
       "<table border=\"1\" class=\"dataframe\">\n",
       "  <thead>\n",
       "    <tr style=\"text-align: right;\">\n",
       "      <th></th>\n",
       "      <th>isic_id</th>\n",
       "      <th>target_lgb</th>\n",
       "      <th>target_resnet18</th>\n",
       "      <th>target</th>\n",
       "    </tr>\n",
       "  </thead>\n",
       "  <tbody>\n",
       "    <tr>\n",
       "      <th>0</th>\n",
       "      <td>ISIC_0015657</td>\n",
       "      <td>0.666667</td>\n",
       "      <td>1.000000</td>\n",
       "      <td>0.783333</td>\n",
       "    </tr>\n",
       "    <tr>\n",
       "      <th>1</th>\n",
       "      <td>ISIC_0015729</td>\n",
       "      <td>0.333333</td>\n",
       "      <td>0.666667</td>\n",
       "      <td>0.450000</td>\n",
       "    </tr>\n",
       "    <tr>\n",
       "      <th>2</th>\n",
       "      <td>ISIC_0015740</td>\n",
       "      <td>1.000000</td>\n",
       "      <td>0.333333</td>\n",
       "      <td>0.766667</td>\n",
       "    </tr>\n",
       "  </tbody>\n",
       "</table>\n",
       "</div>"
      ],
      "text/plain": [
       "        isic_id  target_lgb  target_resnet18    target\n",
       "0  ISIC_0015657    0.666667         1.000000  0.783333\n",
       "1  ISIC_0015729    0.333333         0.666667  0.450000\n",
       "2  ISIC_0015740    1.000000         0.333333  0.766667"
      ]
     },
     "execution_count": 12,
     "metadata": {},
     "output_type": "execute_result"
    }
   ],
   "source": [
    "test_predictions_df.head()"
   ]
  },
  {
   "cell_type": "code",
   "execution_count": 13,
   "id": "ad3c7526",
   "metadata": {
    "execution": {
     "iopub.execute_input": "2024-07-14T22:42:06.547924Z",
     "iopub.status.busy": "2024-07-14T22:42:06.547562Z",
     "iopub.status.idle": "2024-07-14T22:42:06.559075Z",
     "shell.execute_reply": "2024-07-14T22:42:06.558082Z"
    },
    "papermill": {
     "duration": 0.022836,
     "end_time": "2024-07-14T22:42:06.561299",
     "exception": false,
     "start_time": "2024-07-14T22:42:06.538463",
     "status": "completed"
    },
    "tags": []
   },
   "outputs": [
    {
     "data": {
      "text/plain": [
       "count    3.000000\n",
       "mean     0.666667\n",
       "std      0.187824\n",
       "min      0.450000\n",
       "25%      0.608333\n",
       "50%      0.766667\n",
       "75%      0.775000\n",
       "max      0.783333\n",
       "Name: target, dtype: float64"
      ]
     },
     "execution_count": 13,
     "metadata": {},
     "output_type": "execute_result"
    }
   ],
   "source": [
    "test_predictions_df[target_column].describe()"
   ]
  },
  {
   "cell_type": "code",
   "execution_count": 14,
   "id": "33cbc76b",
   "metadata": {
    "execution": {
     "iopub.execute_input": "2024-07-14T22:42:06.578553Z",
     "iopub.status.busy": "2024-07-14T22:42:06.578274Z",
     "iopub.status.idle": "2024-07-14T22:42:06.588114Z",
     "shell.execute_reply": "2024-07-14T22:42:06.587058Z"
    },
    "papermill": {
     "duration": 0.021078,
     "end_time": "2024-07-14T22:42:06.590587",
     "exception": false,
     "start_time": "2024-07-14T22:42:06.569509",
     "status": "completed"
    },
    "tags": []
   },
   "outputs": [
    {
     "data": {
      "text/html": [
       "<div>\n",
       "<style scoped>\n",
       "    .dataframe tbody tr th:only-of-type {\n",
       "        vertical-align: middle;\n",
       "    }\n",
       "\n",
       "    .dataframe tbody tr th {\n",
       "        vertical-align: top;\n",
       "    }\n",
       "\n",
       "    .dataframe thead th {\n",
       "        text-align: right;\n",
       "    }\n",
       "</style>\n",
       "<table border=\"1\" class=\"dataframe\">\n",
       "  <thead>\n",
       "    <tr style=\"text-align: right;\">\n",
       "      <th></th>\n",
       "      <th>isic_id</th>\n",
       "      <th>target</th>\n",
       "    </tr>\n",
       "  </thead>\n",
       "  <tbody>\n",
       "    <tr>\n",
       "      <th>0</th>\n",
       "      <td>ISIC_0015657</td>\n",
       "      <td>0.783333</td>\n",
       "    </tr>\n",
       "    <tr>\n",
       "      <th>1</th>\n",
       "      <td>ISIC_0015729</td>\n",
       "      <td>0.450000</td>\n",
       "    </tr>\n",
       "    <tr>\n",
       "      <th>2</th>\n",
       "      <td>ISIC_0015740</td>\n",
       "      <td>0.766667</td>\n",
       "    </tr>\n",
       "  </tbody>\n",
       "</table>\n",
       "</div>"
      ],
      "text/plain": [
       "        isic_id    target\n",
       "0  ISIC_0015657  0.783333\n",
       "1  ISIC_0015729  0.450000\n",
       "2  ISIC_0015740  0.766667"
      ]
     },
     "execution_count": 14,
     "metadata": {},
     "output_type": "execute_result"
    }
   ],
   "source": [
    "test_predictions_df[[id_column, target_column]].head()"
   ]
  },
  {
   "cell_type": "code",
   "execution_count": 15,
   "id": "69be4103",
   "metadata": {
    "execution": {
     "iopub.execute_input": "2024-07-14T22:42:06.608731Z",
     "iopub.status.busy": "2024-07-14T22:42:06.608431Z",
     "iopub.status.idle": "2024-07-14T22:42:06.616563Z",
     "shell.execute_reply": "2024-07-14T22:42:06.615578Z"
    },
    "papermill": {
     "duration": 0.019568,
     "end_time": "2024-07-14T22:42:06.619072",
     "exception": false,
     "start_time": "2024-07-14T22:42:06.599504",
     "status": "completed"
    },
    "tags": []
   },
   "outputs": [],
   "source": [
    "test_predictions_df[[id_column, target_column]].to_csv(\"submission.csv\", index=False)"
   ]
  },
  {
   "cell_type": "code",
   "execution_count": null,
   "id": "3270fed4",
   "metadata": {
    "papermill": {
     "duration": 0.00788,
     "end_time": "2024-07-14T22:42:06.635768",
     "exception": false,
     "start_time": "2024-07-14T22:42:06.627888",
     "status": "completed"
    },
    "tags": []
   },
   "outputs": [],
   "source": []
  }
 ],
 "metadata": {
  "kaggle": {
   "accelerator": "gpu",
   "dataSources": [
    {
     "databundleVersionId": 9094797,
     "sourceId": 63056,
     "sourceType": "competition"
    },
    {
     "sourceId": 187439867,
     "sourceType": "kernelVersion"
    },
    {
     "sourceId": 187477024,
     "sourceType": "kernelVersion"
    },
    {
     "sourceId": 188057910,
     "sourceType": "kernelVersion"
    },
    {
     "sourceId": 188282340,
     "sourceType": "kernelVersion"
    },
    {
     "sourceId": 188283416,
     "sourceType": "kernelVersion"
    }
   ],
   "dockerImageVersionId": 30733,
   "isGpuEnabled": true,
   "isInternetEnabled": false,
   "language": "python",
   "sourceType": "notebook"
  },
  "kernelspec": {
   "display_name": "Python 3",
   "language": "python",
   "name": "python3"
  },
  "language_info": {
   "codemirror_mode": {
    "name": "ipython",
    "version": 3
   },
   "file_extension": ".py",
   "mimetype": "text/x-python",
   "name": "python",
   "nbconvert_exporter": "python",
   "pygments_lexer": "ipython3",
   "version": "3.10.13"
  },
  "papermill": {
   "default_parameters": {},
   "duration": 38.268605,
   "end_time": "2024-07-14T22:42:09.285894",
   "environment_variables": {},
   "exception": null,
   "input_path": "__notebook__.ipynb",
   "output_path": "__notebook__.ipynb",
   "parameters": {},
   "start_time": "2024-07-14T22:41:31.017289",
   "version": "2.5.0"
  }
 },
 "nbformat": 4,
 "nbformat_minor": 5
}
