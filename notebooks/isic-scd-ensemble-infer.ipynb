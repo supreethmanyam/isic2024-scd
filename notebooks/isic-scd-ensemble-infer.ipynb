{
 "cells": [
  {
   "cell_type": "code",
   "execution_count": 1,
   "id": "8e1595ca",
   "metadata": {
    "_cell_guid": "b1076dfc-b9ad-4769-8c92-a6c4dae69d19",
    "_uuid": "8f2839f25d086af736a60e9eeb907d3b93b6e0e5",
    "execution": {
     "iopub.execute_input": "2024-07-26T00:53:01.005119Z",
     "iopub.status.busy": "2024-07-26T00:53:01.004240Z",
     "iopub.status.idle": "2024-07-26T00:53:10.179730Z",
     "shell.execute_reply": "2024-07-26T00:53:10.178739Z"
    },
    "papermill": {
     "duration": 9.184238,
     "end_time": "2024-07-26T00:53:10.182119",
     "exception": false,
     "start_time": "2024-07-26T00:53:00.997881",
     "status": "completed"
    },
    "tags": []
   },
   "outputs": [],
   "source": [
    "import json\n",
    "import joblib\n",
    "\n",
    "from pathlib import Path\n",
    "\n",
    "import pandas as pd\n",
    "import numpy as np\n",
    "\n",
    "import lightgbm as lgb\n",
    "import catboost as cb\n",
    "\n",
    "from isic_helper import DotDict, get_folds"
   ]
  },
  {
   "cell_type": "code",
   "execution_count": 2,
   "id": "0ae68b20",
   "metadata": {
    "execution": {
     "iopub.execute_input": "2024-07-26T00:53:10.193019Z",
     "iopub.status.busy": "2024-07-26T00:53:10.192199Z",
     "iopub.status.idle": "2024-07-26T00:53:10.197368Z",
     "shell.execute_reply": "2024-07-26T00:53:10.196494Z"
    },
    "papermill": {
     "duration": 0.012317,
     "end_time": "2024-07-26T00:53:10.199254",
     "exception": false,
     "start_time": "2024-07-26T00:53:10.186937",
     "status": "completed"
    },
    "tags": []
   },
   "outputs": [],
   "source": [
    "model_names = [\"cb\", \"lgb\"]\n",
    "versions = [\"v1\", \"v3\"]\n",
    "paths = [Path(f\"/kaggle/input/isic-scd-{model_name}-{version}-train\") for model_name, version in zip(model_names, versions)]\n",
    "\n",
    "weights = [0.4, 0.6]"
   ]
  },
  {
   "cell_type": "code",
   "execution_count": 3,
   "id": "2c5d88bd",
   "metadata": {
    "execution": {
     "iopub.execute_input": "2024-07-26T00:53:10.208835Z",
     "iopub.status.busy": "2024-07-26T00:53:10.208560Z",
     "iopub.status.idle": "2024-07-26T00:53:10.212379Z",
     "shell.execute_reply": "2024-07-26T00:53:10.211573Z"
    },
    "papermill": {
     "duration": 0.010757,
     "end_time": "2024-07-26T00:53:10.214349",
     "exception": false,
     "start_time": "2024-07-26T00:53:10.203592",
     "status": "completed"
    },
    "tags": []
   },
   "outputs": [],
   "source": [
    "id_column = \"isic_id\"\n",
    "target_column = \"target\"\n",
    "group_column = \"patient_id\""
   ]
  },
  {
   "cell_type": "code",
   "execution_count": 4,
   "id": "555ab9a1",
   "metadata": {
    "execution": {
     "iopub.execute_input": "2024-07-26T00:53:10.224178Z",
     "iopub.status.busy": "2024-07-26T00:53:10.223936Z",
     "iopub.status.idle": "2024-07-26T00:53:10.241342Z",
     "shell.execute_reply": "2024-07-26T00:53:10.240683Z"
    },
    "papermill": {
     "duration": 0.024551,
     "end_time": "2024-07-26T00:53:10.243184",
     "exception": false,
     "start_time": "2024-07-26T00:53:10.218633",
     "status": "completed"
    },
    "tags": []
   },
   "outputs": [],
   "source": [
    "def count_features(df, col):\n",
    "    tmp = df[[id_column, group_column, col]].pivot_table(\n",
    "        values=id_column, \n",
    "        index=group_column, \n",
    "        columns=col, \n",
    "        aggfunc=\"count\", \n",
    "        fill_value=0)\n",
    "    feature_cols = tmp.columns.tolist()\n",
    "    tmp.reset_index(inplace=True)\n",
    "    tmp.index.name = None\n",
    "    df = df.merge(tmp, on=group_column, how=\"left\")\n",
    "    return df, feature_cols\n",
    "\n",
    "def mean_features(df, col, val):\n",
    "    tmp = df[[id_column, group_column, col, val]].pivot_table(\n",
    "        values=val, \n",
    "        index=group_column, \n",
    "        columns=col, \n",
    "        aggfunc=\"mean\", \n",
    "        fill_value=0)\n",
    "    tmp.columns = [f\"{c}_{val}_mean\" for c in tmp.columns.tolist()]\n",
    "    feature_cols = tmp.columns.tolist()\n",
    "    tmp.reset_index(inplace=True)\n",
    "    tmp.index.name = None\n",
    "    df = df.merge(tmp, on=group_column, how=\"left\")\n",
    "    return df, feature_cols\n",
    "\n",
    "\n",
    "def stat_features(df, group_cols, value_col, stats):\n",
    "    tmp = df.groupby(group_cols)[value_col].agg(stats)\n",
    "    tmp.columns = [f\"{value_col}_{stat}\" for stat in stats]\n",
    "    tmp.reset_index(inplace=True)\n",
    "    df = df.merge(tmp, on=group_cols, how=\"left\")\n",
    "    df[f\"{value_col}_mean_diff\"] = df[value_col] - df[f\"{value_col}_mean\"]\n",
    "    return df\n",
    "\n",
    "\n",
    "def feature_engineering(df):\n",
    "    new_num_cols = []\n",
    "    \n",
    "    df[\"lesion_size_ratio\"] = df[\"tbp_lv_minorAxisMM\"] / df[\"clin_size_long_diam_mm\"]\n",
    "    new_num_cols += [\"lesion_size_ratio\"]\n",
    "    \n",
    "    df[\"lesion_distance\"] = np.sqrt(df[\"tbp_lv_x\"]**2 + df[\"tbp_lv_y\"]**2 + df[\"tbp_lv_z\"]**2)\n",
    "    new_num_cols += [\"lesion_distance\"]\n",
    "    \n",
    "    df[\"hue_contrast\"] = df[\"tbp_lv_H\"] - df[\"tbp_lv_Hext\"]\n",
    "    df, feature_cols = mean_features(df, \"anatom_site_general\", \"hue_contrast\")\n",
    "    new_num_cols += feature_cols\n",
    "    \n",
    "    df, feature_cols = count_features(df, \"anatom_site_general\")\n",
    "    new_num_cols += feature_cols\n",
    "    \n",
    "    df[\"tbp_lv_A_diff\"] =  df[\"tbp_lv_Aext\"] - df[\"tbp_lv_A\"]\n",
    "    df = stat_features(df, [\"patient_id\", \"tbp_lv_location\"], \"tbp_lv_A_diff\", [\"mean\"])\n",
    "    new_num_cols += [\"tbp_lv_A_diff_mean_diff\"]\n",
    "    \n",
    "    df[\"tbp_lv_B_diff\"] =  df[\"tbp_lv_Bext\"] - df[\"tbp_lv_B\"]\n",
    "    df = stat_features(df, [\"patient_id\", \"tbp_lv_location\"], \"tbp_lv_B_diff\", [\"mean\"])\n",
    "    new_num_cols += [\"tbp_lv_B_diff_mean_diff\"]\n",
    "    \n",
    "    df[\"tbp_lv_L_diff\"] =  df[\"tbp_lv_Lext\"] - df[\"tbp_lv_L\"]\n",
    "    df = stat_features(df, [\"patient_id\", \"tbp_lv_location\"], \"tbp_lv_L_diff\", [\"mean\"])\n",
    "    new_num_cols += [\"tbp_lv_L_diff_mean_diff\"]\n",
    "    \n",
    "    df[\"tbp_lv_L_std_diff\"] =  df[\"tbp_lv_stdLExt\"] - df[\"tbp_lv_stdL\"]\n",
    "    df = stat_features(df, [\"patient_id\", \"tbp_lv_location\"], \"tbp_lv_L_std_diff\", [\"mean\"])\n",
    "    new_num_cols += [\"tbp_lv_L_std_diff_mean_diff\"]\n",
    "    \n",
    "    df[\"color_uniformity\"] = df[\"tbp_lv_color_std_mean\"] / df[\"tbp_lv_radial_color_std_max\"]\n",
    "    df, feature_cols = mean_features(df, \"anatom_site_general\", \"color_uniformity\")\n",
    "    new_num_cols += feature_cols\n",
    "    \n",
    "    df[\"radius\"] = np.cos(df[\"tbp_lv_symm_2axis_angle\"]) * np.sqrt(df[\"tbp_lv_x\"]**2 + df[\"tbp_lv_y\"]**2 + df[\"tbp_lv_z\"]**2)\n",
    "    new_num_cols += [\"radius\"]\n",
    "    \n",
    "    return df, new_num_cols"
   ]
  },
  {
   "cell_type": "code",
   "execution_count": 5,
   "id": "f588a587",
   "metadata": {
    "execution": {
     "iopub.execute_input": "2024-07-26T00:53:10.252714Z",
     "iopub.status.busy": "2024-07-26T00:53:10.252459Z",
     "iopub.status.idle": "2024-07-26T00:53:23.872960Z",
     "shell.execute_reply": "2024-07-26T00:53:23.872163Z"
    },
    "papermill": {
     "duration": 13.627875,
     "end_time": "2024-07-26T00:53:23.875346",
     "exception": false,
     "start_time": "2024-07-26T00:53:10.247471",
     "status": "completed"
    },
    "tags": []
   },
   "outputs": [
    {
     "name": "stdout",
     "output_type": "stream",
     "text": [
      "Train data size: (401059, 57)\n",
      "Test data size: (3, 44)\n"
     ]
    }
   ],
   "source": [
    "INPUT_PATH = Path(\"../input/isic-2024-challenge/\")\n",
    "\n",
    "train_metadata = pd.read_csv(INPUT_PATH / \"train-metadata.csv\", low_memory=False)\n",
    "test_metadata = pd.read_csv(INPUT_PATH / \"test-metadata.csv\")\n",
    "\n",
    "folds_df = get_folds()\n",
    "train_metadata = train_metadata.merge(folds_df, on=[\"isic_id\", \"patient_id\"], how=\"inner\")\n",
    "print(f\"Train data size: {train_metadata.shape}\")\n",
    "print(f\"Test data size: {test_metadata.shape}\")\n",
    "\n",
    "train_metadata, new_num_cols = feature_engineering(train_metadata.copy())\n",
    "test_metadata, _ = feature_engineering(test_metadata.copy())"
   ]
  },
  {
   "cell_type": "code",
   "execution_count": 6,
   "id": "be2d08e5",
   "metadata": {
    "execution": {
     "iopub.execute_input": "2024-07-26T00:53:23.885633Z",
     "iopub.status.busy": "2024-07-26T00:53:23.885329Z",
     "iopub.status.idle": "2024-07-26T00:53:23.895146Z",
     "shell.execute_reply": "2024-07-26T00:53:23.894328Z"
    },
    "papermill": {
     "duration": 0.017012,
     "end_time": "2024-07-26T00:53:23.897087",
     "exception": false,
     "start_time": "2024-07-26T00:53:23.880075",
     "status": "completed"
    },
    "tags": []
   },
   "outputs": [],
   "source": [
    "def get_boosting_predictions(train, test, model_name, version, path):\n",
    "    with open(path / f\"{model_name}_{version}_encoder.joblib\", \"rb\") as f:\n",
    "        mixed_encoded_preprocessor = joblib.load(f)\n",
    "\n",
    "    enc = mixed_encoded_preprocessor.fit(train)\n",
    "\n",
    "    for col in mixed_encoded_preprocessor.feature_names_in_:\n",
    "        if col not in test.columns:\n",
    "            test[col] = np.nan\n",
    "\n",
    "    X_test = enc.transform(test)\n",
    "\n",
    "    columns_for_model = len(X_test.columns)\n",
    "    print(f\"Total number of columns: {columns_for_model}\")\n",
    "\n",
    "    with open(path / f\"{model_name}_{version}_run_metadata.json\", \"r\") as f:\n",
    "        run_metadata = json.load(f)\n",
    "        \n",
    "    all_folds = np.unique(train[\"fold\"])\n",
    "    test_predictions_df = pd.DataFrame({id_column: test_metadata[id_column]})\n",
    "    for fold in all_folds:\n",
    "        model_filepath = path / f\"models/{model_name}_{version}_fold_{fold}.txt\"\n",
    "        if \"lgb\" in model_name:\n",
    "            model = lgb.Booster(model_file=model_filepath)\n",
    "            test_predictions_df[f\"fold_{fold}\"] = model.predict(X_test, num_iteration=run_metadata[\"best_num_rounds\"][f\"fold_{fold}\"])\n",
    "        elif \"cb\" in model_name:\n",
    "            model = cb.CatBoostClassifier(use_best_model=True)\n",
    "            model.load_model(model_filepath)\n",
    "            test_predictions_df[f\"fold_{fold}\"] = model.predict_proba(X_test)[:, -1]\n",
    "    test_predictions_df[target_column] = test_predictions_df[[f\"fold_{fold}\" for fold in all_folds]].mean(axis=1)\n",
    "    return test_predictions_df[[id_column, target_column]]"
   ]
  },
  {
   "cell_type": "code",
   "execution_count": 7,
   "id": "a7f0b301",
   "metadata": {
    "execution": {
     "iopub.execute_input": "2024-07-26T00:53:23.906930Z",
     "iopub.status.busy": "2024-07-26T00:53:23.906634Z",
     "iopub.status.idle": "2024-07-26T00:53:23.910519Z",
     "shell.execute_reply": "2024-07-26T00:53:23.909658Z"
    },
    "papermill": {
     "duration": 0.010977,
     "end_time": "2024-07-26T00:53:23.912450",
     "exception": false,
     "start_time": "2024-07-26T00:53:23.901473",
     "status": "completed"
    },
    "tags": []
   },
   "outputs": [],
   "source": [
    "model_predict_function_topology = {\n",
    "    \"lgb\": get_boosting_predictions,\n",
    "    \"cb\": get_boosting_predictions\n",
    "}"
   ]
  },
  {
   "cell_type": "code",
   "execution_count": 8,
   "id": "b988c631",
   "metadata": {
    "execution": {
     "iopub.execute_input": "2024-07-26T00:53:23.922360Z",
     "iopub.status.busy": "2024-07-26T00:53:23.922071Z",
     "iopub.status.idle": "2024-07-26T00:53:25.884101Z",
     "shell.execute_reply": "2024-07-26T00:53:25.882899Z"
    },
    "papermill": {
     "duration": 1.969277,
     "end_time": "2024-07-26T00:53:25.886161",
     "exception": false,
     "start_time": "2024-07-26T00:53:23.916884",
     "status": "completed"
    },
    "tags": []
   },
   "outputs": [
    {
     "name": "stdout",
     "output_type": "stream",
     "text": [
      "Generating predictions for cb_v1\n",
      "Total number of columns: 60\n",
      "\n",
      "\n",
      "Generating predictions for lgb_v3\n",
      "Total number of columns: 60\n",
      "\n",
      "\n"
     ]
    }
   ],
   "source": [
    "ensemble_preds = 0\n",
    "previous_model_name = None\n",
    "for idx, (model_name, version, path, weight) in enumerate(zip(model_names, versions, paths, weights)):\n",
    "    print(f\"Generating predictions for {model_name}_{version}\")\n",
    "    model_preds_df = model_predict_function_topology[model_name](train_metadata, test_metadata, model_name, version, path)\n",
    "    if idx == 0:\n",
    "        ensemble_preds_df = model_preds_df.copy()\n",
    "    else:\n",
    "        ensemble_preds_df = ensemble_preds_df.merge(model_preds_df, on=id_column, how=\"inner\", suffixes=(f\"_{previous_model_name}\", \"\"))\n",
    "    ensemble_preds += ensemble_preds_df[target_column].rank(pct=True).values * weight\n",
    "    previous_model_name = model_name\n",
    "    print(\"\\n\")\n",
    "ensemble_preds_df.rename(columns={target_column: f\"{target_column}_{previous_model_name}\"}, inplace=True)\n",
    "ensemble_preds_df[target_column] = ensemble_preds"
   ]
  },
  {
   "cell_type": "code",
   "execution_count": 9,
   "id": "566fcd19",
   "metadata": {
    "execution": {
     "iopub.execute_input": "2024-07-26T00:53:25.897241Z",
     "iopub.status.busy": "2024-07-26T00:53:25.896943Z",
     "iopub.status.idle": "2024-07-26T00:53:25.912943Z",
     "shell.execute_reply": "2024-07-26T00:53:25.912115Z"
    },
    "papermill": {
     "duration": 0.023533,
     "end_time": "2024-07-26T00:53:25.914838",
     "exception": false,
     "start_time": "2024-07-26T00:53:25.891305",
     "status": "completed"
    },
    "tags": []
   },
   "outputs": [
    {
     "data": {
      "text/html": [
       "<div>\n",
       "<style scoped>\n",
       "    .dataframe tbody tr th:only-of-type {\n",
       "        vertical-align: middle;\n",
       "    }\n",
       "\n",
       "    .dataframe tbody tr th {\n",
       "        vertical-align: top;\n",
       "    }\n",
       "\n",
       "    .dataframe thead th {\n",
       "        text-align: right;\n",
       "    }\n",
       "</style>\n",
       "<table border=\"1\" class=\"dataframe\">\n",
       "  <thead>\n",
       "    <tr style=\"text-align: right;\">\n",
       "      <th></th>\n",
       "      <th>isic_id</th>\n",
       "      <th>target_cb</th>\n",
       "      <th>target_lgb</th>\n",
       "      <th>target</th>\n",
       "    </tr>\n",
       "  </thead>\n",
       "  <tbody>\n",
       "    <tr>\n",
       "      <th>0</th>\n",
       "      <td>ISIC_0015657</td>\n",
       "      <td>0.000182</td>\n",
       "      <td>0.000036</td>\n",
       "      <td>0.800000</td>\n",
       "    </tr>\n",
       "    <tr>\n",
       "      <th>1</th>\n",
       "      <td>ISIC_0015729</td>\n",
       "      <td>0.000023</td>\n",
       "      <td>0.000028</td>\n",
       "      <td>0.333333</td>\n",
       "    </tr>\n",
       "    <tr>\n",
       "      <th>2</th>\n",
       "      <td>ISIC_0015740</td>\n",
       "      <td>0.000113</td>\n",
       "      <td>0.000049</td>\n",
       "      <td>0.866667</td>\n",
       "    </tr>\n",
       "  </tbody>\n",
       "</table>\n",
       "</div>"
      ],
      "text/plain": [
       "        isic_id  target_cb  target_lgb    target\n",
       "0  ISIC_0015657   0.000182    0.000036  0.800000\n",
       "1  ISIC_0015729   0.000023    0.000028  0.333333\n",
       "2  ISIC_0015740   0.000113    0.000049  0.866667"
      ]
     },
     "execution_count": 9,
     "metadata": {},
     "output_type": "execute_result"
    }
   ],
   "source": [
    "ensemble_preds_df.head()"
   ]
  },
  {
   "cell_type": "code",
   "execution_count": 10,
   "id": "8d003569",
   "metadata": {
    "execution": {
     "iopub.execute_input": "2024-07-26T00:53:25.925680Z",
     "iopub.status.busy": "2024-07-26T00:53:25.925414Z",
     "iopub.status.idle": "2024-07-26T00:53:25.933522Z",
     "shell.execute_reply": "2024-07-26T00:53:25.932755Z"
    },
    "papermill": {
     "duration": 0.015703,
     "end_time": "2024-07-26T00:53:25.935389",
     "exception": false,
     "start_time": "2024-07-26T00:53:25.919686",
     "status": "completed"
    },
    "tags": []
   },
   "outputs": [
    {
     "data": {
      "text/plain": [
       "count    3.000000\n",
       "mean     0.666667\n",
       "std      0.290593\n",
       "min      0.333333\n",
       "25%      0.566667\n",
       "50%      0.800000\n",
       "75%      0.833333\n",
       "max      0.866667\n",
       "Name: target, dtype: float64"
      ]
     },
     "execution_count": 10,
     "metadata": {},
     "output_type": "execute_result"
    }
   ],
   "source": [
    "ensemble_preds_df[target_column].describe()"
   ]
  },
  {
   "cell_type": "code",
   "execution_count": 11,
   "id": "c3698082",
   "metadata": {
    "execution": {
     "iopub.execute_input": "2024-07-26T00:53:25.946235Z",
     "iopub.status.busy": "2024-07-26T00:53:25.945982Z",
     "iopub.status.idle": "2024-07-26T00:53:25.954593Z",
     "shell.execute_reply": "2024-07-26T00:53:25.953850Z"
    },
    "papermill": {
     "duration": 0.016067,
     "end_time": "2024-07-26T00:53:25.956340",
     "exception": false,
     "start_time": "2024-07-26T00:53:25.940273",
     "status": "completed"
    },
    "tags": []
   },
   "outputs": [
    {
     "data": {
      "text/html": [
       "<div>\n",
       "<style scoped>\n",
       "    .dataframe tbody tr th:only-of-type {\n",
       "        vertical-align: middle;\n",
       "    }\n",
       "\n",
       "    .dataframe tbody tr th {\n",
       "        vertical-align: top;\n",
       "    }\n",
       "\n",
       "    .dataframe thead th {\n",
       "        text-align: right;\n",
       "    }\n",
       "</style>\n",
       "<table border=\"1\" class=\"dataframe\">\n",
       "  <thead>\n",
       "    <tr style=\"text-align: right;\">\n",
       "      <th></th>\n",
       "      <th>isic_id</th>\n",
       "      <th>target</th>\n",
       "    </tr>\n",
       "  </thead>\n",
       "  <tbody>\n",
       "    <tr>\n",
       "      <th>0</th>\n",
       "      <td>ISIC_0015657</td>\n",
       "      <td>0.800000</td>\n",
       "    </tr>\n",
       "    <tr>\n",
       "      <th>1</th>\n",
       "      <td>ISIC_0015729</td>\n",
       "      <td>0.333333</td>\n",
       "    </tr>\n",
       "    <tr>\n",
       "      <th>2</th>\n",
       "      <td>ISIC_0015740</td>\n",
       "      <td>0.866667</td>\n",
       "    </tr>\n",
       "  </tbody>\n",
       "</table>\n",
       "</div>"
      ],
      "text/plain": [
       "        isic_id    target\n",
       "0  ISIC_0015657  0.800000\n",
       "1  ISIC_0015729  0.333333\n",
       "2  ISIC_0015740  0.866667"
      ]
     },
     "execution_count": 11,
     "metadata": {},
     "output_type": "execute_result"
    }
   ],
   "source": [
    "ensemble_preds_df[[id_column, target_column]].head()"
   ]
  },
  {
   "cell_type": "code",
   "execution_count": 12,
   "id": "1ec577cb",
   "metadata": {
    "execution": {
     "iopub.execute_input": "2024-07-26T00:53:25.969382Z",
     "iopub.status.busy": "2024-07-26T00:53:25.968447Z",
     "iopub.status.idle": "2024-07-26T00:53:25.976943Z",
     "shell.execute_reply": "2024-07-26T00:53:25.975752Z"
    },
    "papermill": {
     "duration": 0.018396,
     "end_time": "2024-07-26T00:53:25.979770",
     "exception": false,
     "start_time": "2024-07-26T00:53:25.961374",
     "status": "completed"
    },
    "tags": []
   },
   "outputs": [],
   "source": [
    "ensemble_preds_df[[id_column, target_column]].to_csv(\"submission.csv\", index=False)"
   ]
  },
  {
   "cell_type": "code",
   "execution_count": null,
   "id": "3b80e39c",
   "metadata": {
    "papermill": {
     "duration": 0.005173,
     "end_time": "2024-07-26T00:53:25.990213",
     "exception": false,
     "start_time": "2024-07-26T00:53:25.985040",
     "status": "completed"
    },
    "tags": []
   },
   "outputs": [],
   "source": []
  }
 ],
 "metadata": {
  "kaggle": {
   "accelerator": "gpu",
   "dataSources": [
    {
     "databundleVersionId": 9094797,
     "sourceId": 63056,
     "sourceType": "competition"
    },
    {
     "sourceId": 187477024,
     "sourceType": "kernelVersion"
    },
    {
     "sourceId": 189656082,
     "sourceType": "kernelVersion"
    },
    {
     "sourceId": 189785376,
     "sourceType": "kernelVersion"
    },
    {
     "sourceId": 189786208,
     "sourceType": "kernelVersion"
    }
   ],
   "dockerImageVersionId": 30733,
   "isGpuEnabled": true,
   "isInternetEnabled": false,
   "language": "python",
   "sourceType": "notebook"
  },
  "kernelspec": {
   "display_name": "Python 3",
   "language": "python",
   "name": "python3"
  },
  "language_info": {
   "codemirror_mode": {
    "name": "ipython",
    "version": 3
   },
   "file_extension": ".py",
   "mimetype": "text/x-python",
   "name": "python",
   "nbconvert_exporter": "python",
   "pygments_lexer": "ipython3",
   "version": "3.10.13"
  },
  "papermill": {
   "default_parameters": {},
   "duration": 30.17759,
   "end_time": "2024-07-26T00:53:28.418464",
   "environment_variables": {},
   "exception": null,
   "input_path": "__notebook__.ipynb",
   "output_path": "__notebook__.ipynb",
   "parameters": {},
   "start_time": "2024-07-26T00:52:58.240874",
   "version": "2.5.0"
  }
 },
 "nbformat": 4,
 "nbformat_minor": 5
}
