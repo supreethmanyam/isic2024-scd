{
 "cells": [
  {
   "cell_type": "code",
   "execution_count": 1,
   "id": "357956a2",
   "metadata": {
    "_cell_guid": "b1076dfc-b9ad-4769-8c92-a6c4dae69d19",
    "_uuid": "8f2839f25d086af736a60e9eeb907d3b93b6e0e5",
    "execution": {
     "iopub.execute_input": "2024-07-17T00:33:57.190714Z",
     "iopub.status.busy": "2024-07-17T00:33:57.190125Z",
     "iopub.status.idle": "2024-07-17T00:34:10.133923Z",
     "shell.execute_reply": "2024-07-17T00:34:10.133066Z"
    },
    "papermill": {
     "duration": 12.95548,
     "end_time": "2024-07-17T00:34:10.136317",
     "exception": false,
     "start_time": "2024-07-17T00:33:57.180837",
     "status": "completed"
    },
    "tags": []
   },
   "outputs": [],
   "source": [
    "import json\n",
    "import joblib\n",
    "from tqdm import tqdm\n",
    "from pathlib import Path\n",
    "from timeit import default_timer as timer\n",
    "\n",
    "import pandas as pd\n",
    "import numpy as np\n",
    "from io import BytesIO\n",
    "from PIL import Image\n",
    "import h5py\n",
    "\n",
    "import catboost as cb\n",
    "import lightgbm as lgb\n",
    "\n",
    "import torch\n",
    "import torch.nn as nn\n",
    "import torch.nn.functional as F\n",
    "from torch.utils.data import DataLoader, Dataset\n",
    "import albumentations as A\n",
    "from albumentations.pytorch import ToTensorV2\n",
    "from timm import create_model\n",
    "\n",
    "from accelerate import Accelerator\n",
    "\n",
    "from isic_helper import DotDict\n",
    "from isic_helper import get_folds\n",
    "from isic_helper import time_to_str"
   ]
  },
  {
   "cell_type": "code",
   "execution_count": 2,
   "id": "7609ca9f",
   "metadata": {
    "execution": {
     "iopub.execute_input": "2024-07-17T00:34:10.150783Z",
     "iopub.status.busy": "2024-07-17T00:34:10.149521Z",
     "iopub.status.idle": "2024-07-17T00:34:20.288162Z",
     "shell.execute_reply": "2024-07-17T00:34:20.287348Z"
    },
    "papermill": {
     "duration": 10.147978,
     "end_time": "2024-07-17T00:34:20.290578",
     "exception": false,
     "start_time": "2024-07-17T00:34:10.142600",
     "status": "completed"
    },
    "tags": []
   },
   "outputs": [
    {
     "name": "stdout",
     "output_type": "stream",
     "text": [
      "Train data size: (401059, 55)\n",
      "Test data size: (3, 44)\n"
     ]
    }
   ],
   "source": [
    "INPUT_PATH = Path(\"../input/isic-2024-challenge/\")\n",
    "CB_ARTIFACTS_INPUT_PATH = Path(f\"../input/isic-scd-cb-train/\")\n",
    "LGB_V1_ARTIFACTS_INPUT_PATH = Path(f\"../input/isic-scd-lgb-v1-train/\")\n",
    "LGB_V2_ARTIFACTS_INPUT_PATH = Path(f\"../input/isic-scd-lgb-v2-train/\")\n",
    "RESNET18_ARTIFACTS_INPUT_PATH = Path(f\"../input/isic-scd-resnet18-train/\")\n",
    "\n",
    "cb_cfg = DotDict()\n",
    "cb_cfg.models_output_dir = \"models\"\n",
    "cb_cfg.model_name = \"cb_v1\"\n",
    "\n",
    "lgb_v1_cfg = DotDict()\n",
    "lgb_v1_cfg.models_output_dir = \"models\"\n",
    "lgb_v1_cfg.model_name = \"lgb_v1\"\n",
    "\n",
    "lgb_v2_cfg = DotDict()\n",
    "lgb_v2_cfg.models_output_dir = \"models\"\n",
    "lgb_v2_cfg.model_name = \"lgb_v2\"\n",
    "\n",
    "with open(CB_ARTIFACTS_INPUT_PATH / \"run_metadata.json\", \"r\") as f:\n",
    "    cb_run_metadata = json.load(f)\n",
    "    \n",
    "with open(LGB_V1_ARTIFACTS_INPUT_PATH / f\"{lgb_v1_cfg.model_name}_run_metadata.json\", \"r\") as f:\n",
    "    lgb_v1_run_metadata = json.load(f)\n",
    "\n",
    "with open(LGB_V2_ARTIFACTS_INPUT_PATH / f\"{lgb_v2_cfg.model_name}_run_metadata.json\", \"r\") as f:\n",
    "    lgb_v2_run_metadata = json.load(f)\n",
    "\n",
    "with open(RESNET18_ARTIFACTS_INPUT_PATH / \"run_metadata.json\", \"r\") as f:\n",
    "    resnet18_run_metadata = json.load(f)\n",
    "\n",
    "resnet18_cfg = DotDict()\n",
    "for k, v in resnet18_run_metadata[\"params\"].items():\n",
    "    setattr(resnet18_cfg, k, v)\n",
    "setattr(resnet18_cfg, \"infer\", True)\n",
    "\n",
    "CB_MODELS_INPUT_PATH = CB_ARTIFACTS_INPUT_PATH / cb_cfg.models_output_dir\n",
    "LGB_V1_MODELS_INPUT_PATH = LGB_V1_ARTIFACTS_INPUT_PATH / lgb_v1_cfg.models_output_dir\n",
    "LGB_V2_MODELS_INPUT_PATH = LGB_V2_ARTIFACTS_INPUT_PATH / lgb_v2_cfg.models_output_dir\n",
    "RESNET18_MODELS_INPUT_PATH = RESNET18_ARTIFACTS_INPUT_PATH / resnet18_cfg.models_output_dir\n",
    "\n",
    "train_metadata = pd.read_csv(INPUT_PATH / \"train-metadata.csv\", low_memory=False)\n",
    "test_metadata = pd.read_csv(INPUT_PATH / \"test-metadata.csv\", low_memory=False)\n",
    "print(f\"Train data size: {train_metadata.shape}\")\n",
    "print(f\"Test data size: {test_metadata.shape}\")\n",
    "\n",
    "test_images = h5py.File(INPUT_PATH / \"test-image.hdf5\", mode=\"r\")\n",
    "\n",
    "folds_df = get_folds()\n",
    "train_metadata = train_metadata.merge(folds_df, on=[\"isic_id\", \"patient_id\"], how=\"inner\")\n",
    "\n",
    "id_column = \"isic_id\"\n",
    "target_column = \"target\"\n",
    "folds = train_metadata[\"fold\"]"
   ]
  },
  {
   "cell_type": "code",
   "execution_count": 3,
   "id": "b6416d0d",
   "metadata": {
    "execution": {
     "iopub.execute_input": "2024-07-17T00:34:20.303838Z",
     "iopub.status.busy": "2024-07-17T00:34:20.303521Z",
     "iopub.status.idle": "2024-07-17T00:34:26.758669Z",
     "shell.execute_reply": "2024-07-17T00:34:26.757516Z"
    },
    "papermill": {
     "duration": 6.464119,
     "end_time": "2024-07-17T00:34:26.760734",
     "exception": false,
     "start_time": "2024-07-17T00:34:20.296615",
     "status": "completed"
    },
    "tags": []
   },
   "outputs": [
    {
     "name": "stderr",
     "output_type": "stream",
     "text": [
      "100%|██████████| 1/1 [00:00<00:00,  1.06it/s]\n",
      "100%|██████████| 1/1 [00:00<00:00,  7.86it/s]\n",
      "100%|██████████| 1/1 [00:00<00:00,  9.04it/s]\n",
      "100%|██████████| 1/1 [00:00<00:00,  8.89it/s]\n",
      "100%|██████████| 1/1 [00:00<00:00,  9.01it/s]\n"
     ]
    }
   ],
   "source": [
    "def test_augment(image_size):\n",
    "    transform = A.Compose([\n",
    "        A.Resize(image_size, image_size),\n",
    "#         A.Normalize(\n",
    "#             mean=[0., 0., 0.],\n",
    "#             std=[1, 1, 1],\n",
    "#             max_pixel_value=255.0,\n",
    "#             p=1.0\n",
    "#         ),\n",
    "        ToTensorV2()\n",
    "    ], p=1.)\n",
    "    return transform\n",
    "\n",
    "class ISICDataset(Dataset):\n",
    "    def __init__(self, metadata, images, augment, infer=False):\n",
    "        self.metadata = metadata\n",
    "        self.images = images\n",
    "        self.augment = augment\n",
    "        self.length = len(self.metadata)\n",
    "        self.infer = infer\n",
    "    \n",
    "    def __len__(self):\n",
    "        return self.length\n",
    "    \n",
    "    def __getitem__(self, index):\n",
    "        data = self.metadata.iloc[index]\n",
    "        \n",
    "        image = np.array(Image.open(BytesIO(self.images[data[id_column]][()])))\n",
    "        image = self.augment(image=image)[\"image\"]\n",
    "        \n",
    "        record = {\n",
    "            \"image\": image\n",
    "        }\n",
    "        \n",
    "        if not self.infer:\n",
    "            target = data[target_column]\n",
    "            record[\"target\"] = torch.tensor(target).float()\n",
    "        \n",
    "        return record\n",
    "\n",
    "class ISICNet(nn.Module):\n",
    "    def __init__(self, arch=\"resnet18\", pretrained=False, infer=False):\n",
    "        super(ISICNet, self).__init__()\n",
    "        self.infer = infer\n",
    "        self.model = create_model(model_name=arch, pretrained=pretrained, in_chans=3,  num_classes=0, global_pool='')\n",
    "        self.classifier = nn.Linear(self.model.num_features, 1)\n",
    "        \n",
    "        self.dropouts = nn.ModuleList([nn.Dropout(0.5) for i in range(5)])\n",
    "        \n",
    "    def forward(self, batch):\n",
    "        image = batch[\"image\"]\n",
    "        image = image.float() / 255\n",
    "        \n",
    "        x = self.model(image)\n",
    "        bs = len(image)\n",
    "        pool = F.adaptive_avg_pool2d(x, 1).reshape(bs,-1)\n",
    "        \n",
    "        if self.training:\n",
    "            logit = 0\n",
    "            for i in range(len(self.dropouts)):\n",
    "                logit += self.classifier(self.dropouts[i](pool))\n",
    "            logit = logit/len(self.dropouts)\n",
    "        else:\n",
    "            logit = self.classifier(pool)\n",
    "        return logit\n",
    "    \n",
    "\n",
    "all_folds = np.sort(folds.unique())\n",
    "resnet18_test_predictions_df = pd.DataFrame({id_column: test_metadata[id_column]})\n",
    "test_dataset = ISICDataset(test_metadata, test_images, augment=test_augment(image_size=resnet18_cfg.image_size), infer=True)\n",
    "test_dataloader = DataLoader(test_dataset, shuffle=False, batch_size=resnet18_cfg.val_batch_size, num_workers=resnet18_cfg.val_num_worker, drop_last=False, pin_memory=True)\n",
    "for fold in all_folds:\n",
    "    accelerator = Accelerator(cpu=resnet18_cfg.cpu, mixed_precision=resnet18_cfg.mixed_precision)\n",
    "    \n",
    "    net = ISICNet(pretrained=False, infer=True)\n",
    "    net = net.to(accelerator.device)\n",
    "    \n",
    "    net, test_dataloader = accelerator.prepare(net, test_dataloader)\n",
    "    \n",
    "    accelerator.load_state(RESNET18_MODELS_INPUT_PATH / \n",
    "                           f\"fold_{fold}/model_{resnet18_cfg.model_name}_epoch_{resnet18_run_metadata['best_num_epochs'][f'fold_{fold}']}\")\n",
    "    \n",
    "    net.eval()\n",
    "    test_preds = []\n",
    "    for step, batch in tqdm(enumerate(test_dataloader), total=len(test_dataloader)):\n",
    "        # We could avoid this line since we set the accelerator with `device_placement=True`.\n",
    "        batch = {k: v.to(accelerator.device) for k, v in batch.items()}\n",
    "        \n",
    "        image0 = batch['image'].clone().detach()\n",
    "        test_preds_batch = 0\n",
    "        counter = 0\n",
    "        with torch.no_grad():\n",
    "            outputs = net(batch)\n",
    "        preds = torch.sigmoid(outputs)\n",
    "        preds = accelerator.gather_for_metrics((preds))\n",
    "        test_preds_batch += preds.data.cpu().numpy().reshape(-1)\n",
    "        counter += 1\n",
    "        if resnet18_cfg.tta:\n",
    "            batch[\"image\"] = torch.flip(image0,dims=[2])\n",
    "            with torch.no_grad():\n",
    "                outputs = net(batch)\n",
    "            preds = torch.sigmoid(outputs)\n",
    "            preds = accelerator.gather_for_metrics((preds))\n",
    "            test_preds_batch += preds.data.cpu().numpy().reshape(-1)\n",
    "            counter += 1\n",
    "\n",
    "            batch[\"image\"] = torch.flip(image0,dims=[3])\n",
    "            with torch.no_grad():\n",
    "                outputs = net(batch)\n",
    "            preds = torch.sigmoid(outputs)\n",
    "            preds = accelerator.gather_for_metrics((preds))\n",
    "            test_preds_batch += preds.data.cpu().numpy().reshape(-1)\n",
    "            counter += 1\n",
    "\n",
    "            for k in [1, 2, 3]:\n",
    "                batch[\"image\"] = torch.rot90(image0,k, dims=[2, 3])\n",
    "                with torch.no_grad():\n",
    "                    outputs = net(batch)\n",
    "                preds = torch.sigmoid(outputs)\n",
    "                preds = accelerator.gather_for_metrics((preds))\n",
    "                test_preds_batch += preds.data.cpu().numpy().reshape(-1)\n",
    "                counter += 1\n",
    "                \n",
    "        test_preds_batch = test_preds_batch / counter   \n",
    "        test_preds.append(test_preds_batch)\n",
    "\n",
    "    resnet18_test_predictions_df[f\"fold_{fold}\"] = np.concatenate(test_preds)"
   ]
  },
  {
   "cell_type": "code",
   "execution_count": 4,
   "id": "51816f79",
   "metadata": {
    "execution": {
     "iopub.execute_input": "2024-07-17T00:34:26.777912Z",
     "iopub.status.busy": "2024-07-17T00:34:26.777034Z",
     "iopub.status.idle": "2024-07-17T00:34:29.224439Z",
     "shell.execute_reply": "2024-07-17T00:34:29.223630Z"
    },
    "papermill": {
     "duration": 2.458371,
     "end_time": "2024-07-17T00:34:29.226734",
     "exception": false,
     "start_time": "2024-07-17T00:34:26.768363",
     "status": "completed"
    },
    "tags": []
   },
   "outputs": [],
   "source": [
    "def stat_features(df, group_cols, value_col, stats):\n",
    "    tmp = df.groupby(group_cols)[value_col].agg(stats)\n",
    "    tmp.columns = [f\"{value_col}_{stat}\" for stat in stats]\n",
    "    tmp.reset_index(inplace=True)\n",
    "    df = df.merge(tmp, on=group_cols, how=\"left\")\n",
    "    df[f\"{value_col}_mean_diff\"] = df[value_col] - df[f\"{value_col}_mean\"]\n",
    "    return df\n",
    "\n",
    "\n",
    "def feature_engineering(df):\n",
    "    # v1 features\n",
    "    df[\"lesion_size_ratio\"]              = df[\"tbp_lv_minorAxisMM\"] / df[\"clin_size_long_diam_mm\"]\n",
    "    df[\"hue_contrast\"]                   = (df[\"tbp_lv_H\"] - df[\"tbp_lv_Hext\"]).abs()\n",
    "    df[\"normalized_lesion_size\"]         = df[\"clin_size_long_diam_mm\"] / df[\"age_approx\"]\n",
    "    df[\"overall_color_difference\"]       = (df[\"tbp_lv_deltaA\"] + df[\"tbp_lv_deltaB\"] + df[\"tbp_lv_deltaL\"]) / 3\n",
    "    patient_num_images = df.groupby(\"patient_id\", as_index=False)[\"isic_id\"].count().rename(columns={\"isic_id\": \"num_images\"})\n",
    "    df = df.merge(patient_num_images, on=\"patient_id\", how=\"left\")\n",
    "    \n",
    "    # v2 features\n",
    "    df[\"max_minus_min_lesion_size\"] = df[\"clin_size_long_diam_mm\"] - df[\"tbp_lv_minorAxisMM\"]\n",
    "    \n",
    "    df[\"tbp_lv_A_diff\"] =  df[\"tbp_lv_Aext\"] - df[\"tbp_lv_A\"]\n",
    "    df = stat_features(df, [\"patient_id\", \"tbp_lv_location\"], \"tbp_lv_A_diff\", [\"mean\"])\n",
    "    \n",
    "    df[\"tbp_lv_B_diff\"] =  df[\"tbp_lv_Bext\"] - df[\"tbp_lv_B\"]\n",
    "    df = stat_features(df, [\"patient_id\", \"tbp_lv_location\"], \"tbp_lv_B_diff\", [\"mean\"])\n",
    "    \n",
    "    df[\"tbp_lv_L_diff\"] =  df[\"tbp_lv_Lext\"] - df[\"tbp_lv_L\"]\n",
    "    df = stat_features(df, [\"patient_id\", \"tbp_lv_location\"], \"tbp_lv_L_diff\", [\"mean\"])\n",
    "    \n",
    "    df[\"tbp_lv_L_std_diff\"] =  df[\"tbp_lv_stdLExt\"] - df[\"tbp_lv_stdL\"]\n",
    "    df = stat_features(df, [\"patient_id\", \"tbp_lv_location\"], \"tbp_lv_L_std_diff\", [\"mean\"])\n",
    "    \n",
    "    return df\n",
    "\n",
    "train_metadata = feature_engineering(train_metadata.copy())\n",
    "test_metadata = feature_engineering(test_metadata.copy())"
   ]
  },
  {
   "cell_type": "code",
   "execution_count": 5,
   "id": "dab9543a",
   "metadata": {
    "execution": {
     "iopub.execute_input": "2024-07-17T00:34:29.242596Z",
     "iopub.status.busy": "2024-07-17T00:34:29.242230Z",
     "iopub.status.idle": "2024-07-17T00:34:30.442057Z",
     "shell.execute_reply": "2024-07-17T00:34:30.441058Z"
    },
    "papermill": {
     "duration": 1.210272,
     "end_time": "2024-07-17T00:34:30.444357",
     "exception": false,
     "start_time": "2024-07-17T00:34:29.234085",
     "status": "completed"
    },
    "tags": []
   },
   "outputs": [
    {
     "name": "stdout",
     "output_type": "stream",
     "text": [
      "Total number of columns: 46\n"
     ]
    }
   ],
   "source": [
    "with open(CB_ARTIFACTS_INPUT_PATH / f\"{cb_cfg.model_name}_encoder.joblib\", \"rb\") as f:\n",
    "    mixed_encoded_preprocessor = joblib.load(f)\n",
    "\n",
    "enc = mixed_encoded_preprocessor.fit(train_metadata)\n",
    "X_test = enc.transform(test_metadata)\n",
    "\n",
    "columns_for_model = len(X_test.columns)\n",
    "print(f\"Total number of columns: {columns_for_model}\")\n",
    "\n",
    "all_folds = np.sort(folds.unique())\n",
    "cb_test_predictions_df = pd.DataFrame({id_column: test_metadata[id_column]})\n",
    "for fold in all_folds:\n",
    "    model = cb.CatBoostClassifier(use_best_model=True)\n",
    "    model.load_model(CB_MODELS_INPUT_PATH / f\"{cb_cfg.model_name}_fold_{fold}.txt\")\n",
    "    cb_test_predictions_df[f\"fold_{fold}\"] = model.predict_proba(X_test)[:, -1]"
   ]
  },
  {
   "cell_type": "code",
   "execution_count": 6,
   "id": "62280d02",
   "metadata": {
    "execution": {
     "iopub.execute_input": "2024-07-17T00:34:30.460498Z",
     "iopub.status.busy": "2024-07-17T00:34:30.460156Z",
     "iopub.status.idle": "2024-07-17T00:34:31.668331Z",
     "shell.execute_reply": "2024-07-17T00:34:31.667511Z"
    },
    "papermill": {
     "duration": 1.218691,
     "end_time": "2024-07-17T00:34:31.670713",
     "exception": false,
     "start_time": "2024-07-17T00:34:30.452022",
     "status": "completed"
    },
    "tags": []
   },
   "outputs": [
    {
     "name": "stdout",
     "output_type": "stream",
     "text": [
      "lgb_v1: Total number of columns: 46\n"
     ]
    }
   ],
   "source": [
    "with open(LGB_V1_ARTIFACTS_INPUT_PATH / f\"{lgb_v1_cfg.model_name}_encoder.joblib\", \"rb\") as f:\n",
    "    mixed_encoded_preprocessor = joblib.load(f)\n",
    "\n",
    "enc = mixed_encoded_preprocessor.fit(train_metadata)\n",
    "X_test = enc.transform(test_metadata)\n",
    "\n",
    "columns_for_model = len(X_test.columns)\n",
    "print(f\"{lgb_v1_cfg.model_name}: Total number of columns: {columns_for_model}\")\n",
    "\n",
    "all_folds = np.sort(folds.unique())\n",
    "lgb_v1_test_predictions_df = pd.DataFrame({id_column: test_metadata[id_column]})\n",
    "for fold in all_folds:\n",
    "    model = lgb.Booster(model_file=LGB_V1_MODELS_INPUT_PATH / f\"{lgb_v1_cfg.model_name}_fold_{fold}.txt\")\n",
    "    lgb_v1_test_predictions_df[f\"fold_{fold}\"] = model.predict(X_test, num_iteration=lgb_v1_run_metadata[\"best_num_rounds\"][f\"fold_{fold}\"])"
   ]
  },
  {
   "cell_type": "code",
   "execution_count": 7,
   "id": "7782c1e9",
   "metadata": {
    "execution": {
     "iopub.execute_input": "2024-07-17T00:34:31.687424Z",
     "iopub.status.busy": "2024-07-17T00:34:31.686878Z",
     "iopub.status.idle": "2024-07-17T00:34:32.438517Z",
     "shell.execute_reply": "2024-07-17T00:34:32.437703Z"
    },
    "papermill": {
     "duration": 0.762264,
     "end_time": "2024-07-17T00:34:32.440872",
     "exception": false,
     "start_time": "2024-07-17T00:34:31.678608",
     "status": "completed"
    },
    "tags": []
   },
   "outputs": [
    {
     "name": "stdout",
     "output_type": "stream",
     "text": [
      "lgb_v2: Total number of columns: 20\n"
     ]
    }
   ],
   "source": [
    "with open(LGB_V2_ARTIFACTS_INPUT_PATH / f\"{lgb_v2_cfg.model_name}_encoder.joblib\", \"rb\") as f:\n",
    "    mixed_encoded_preprocessor = joblib.load(f)\n",
    "\n",
    "enc = mixed_encoded_preprocessor.fit(train_metadata)\n",
    "X_test = enc.transform(test_metadata)\n",
    "\n",
    "columns_for_model = len(X_test.columns)\n",
    "print(f\"{lgb_v2_cfg.model_name}: Total number of columns: {columns_for_model}\")\n",
    "\n",
    "all_folds = np.sort(folds.unique())\n",
    "lgb_v2_test_predictions_df = pd.DataFrame({id_column: test_metadata[id_column]})\n",
    "for fold in all_folds:\n",
    "    model = lgb.Booster(model_file=LGB_V2_MODELS_INPUT_PATH / f\"{lgb_v2_cfg.model_name}_fold_{fold}.txt\")\n",
    "    lgb_v2_test_predictions_df[f\"fold_{fold}\"] = model.predict(X_test, num_iteration=lgb_v2_run_metadata[\"best_num_rounds\"][f\"fold_{fold}\"])"
   ]
  },
  {
   "cell_type": "code",
   "execution_count": 8,
   "id": "b604458b",
   "metadata": {
    "execution": {
     "iopub.execute_input": "2024-07-17T00:34:32.458614Z",
     "iopub.status.busy": "2024-07-17T00:34:32.458278Z",
     "iopub.status.idle": "2024-07-17T00:34:32.472265Z",
     "shell.execute_reply": "2024-07-17T00:34:32.471393Z"
    },
    "papermill": {
     "duration": 0.02455,
     "end_time": "2024-07-17T00:34:32.474175",
     "exception": false,
     "start_time": "2024-07-17T00:34:32.449625",
     "status": "completed"
    },
    "tags": []
   },
   "outputs": [],
   "source": [
    "cb_test_predictions_df[target_column] = cb_test_predictions_df[[f\"fold_{fold}\" for fold in all_folds]].mean(axis=1)\n",
    "lgb_v1_test_predictions_df[target_column] = lgb_v1_test_predictions_df[[f\"fold_{fold}\" for fold in all_folds]].mean(axis=1)\n",
    "lgb_v2_test_predictions_df[target_column] = lgb_v2_test_predictions_df[[f\"fold_{fold}\" for fold in all_folds]].mean(axis=1)\n",
    "resnet18_test_predictions_df[target_column] = resnet18_test_predictions_df[[f\"fold_{fold}\" for fold in all_folds]].mean(axis=1)"
   ]
  },
  {
   "cell_type": "code",
   "execution_count": 9,
   "id": "a1b1a62a",
   "metadata": {
    "execution": {
     "iopub.execute_input": "2024-07-17T00:34:32.489803Z",
     "iopub.status.busy": "2024-07-17T00:34:32.489509Z",
     "iopub.status.idle": "2024-07-17T00:34:32.504334Z",
     "shell.execute_reply": "2024-07-17T00:34:32.503682Z"
    },
    "papermill": {
     "duration": 0.024754,
     "end_time": "2024-07-17T00:34:32.506154",
     "exception": false,
     "start_time": "2024-07-17T00:34:32.481400",
     "status": "completed"
    },
    "tags": []
   },
   "outputs": [],
   "source": [
    "test_predictions_df = (\n",
    "    cb_test_predictions_df[[id_column, target_column]].merge(\n",
    "        lgb_v1_test_predictions_df[[id_column, target_column]], on=id_column, suffixes=(\"_cb\", \"\")).merge(\n",
    "            lgb_v2_test_predictions_df[[id_column, target_column]], on=id_column, suffixes=(\"_lgb_v1\", \"\")).merge(\n",
    "                resnet18_test_predictions_df[[id_column, target_column]], on=id_column, suffixes=(\"_lgb_v2\", \"_resnet18\"))\n",
    "    )"
   ]
  },
  {
   "cell_type": "code",
   "execution_count": 10,
   "id": "d3f88d42",
   "metadata": {
    "execution": {
     "iopub.execute_input": "2024-07-17T00:34:32.522808Z",
     "iopub.status.busy": "2024-07-17T00:34:32.522518Z",
     "iopub.status.idle": "2024-07-17T00:34:32.538910Z",
     "shell.execute_reply": "2024-07-17T00:34:32.537961Z"
    },
    "papermill": {
     "duration": 0.027768,
     "end_time": "2024-07-17T00:34:32.541120",
     "exception": false,
     "start_time": "2024-07-17T00:34:32.513352",
     "status": "completed"
    },
    "tags": []
   },
   "outputs": [
    {
     "data": {
      "text/html": [
       "<div>\n",
       "<style scoped>\n",
       "    .dataframe tbody tr th:only-of-type {\n",
       "        vertical-align: middle;\n",
       "    }\n",
       "\n",
       "    .dataframe tbody tr th {\n",
       "        vertical-align: top;\n",
       "    }\n",
       "\n",
       "    .dataframe thead th {\n",
       "        text-align: right;\n",
       "    }\n",
       "</style>\n",
       "<table border=\"1\" class=\"dataframe\">\n",
       "  <thead>\n",
       "    <tr style=\"text-align: right;\">\n",
       "      <th></th>\n",
       "      <th>isic_id</th>\n",
       "      <th>target_cb</th>\n",
       "      <th>target_lgb_v1</th>\n",
       "      <th>target_lgb_v2</th>\n",
       "      <th>target_resnet18</th>\n",
       "    </tr>\n",
       "  </thead>\n",
       "  <tbody>\n",
       "    <tr>\n",
       "      <th>0</th>\n",
       "      <td>ISIC_0015657</td>\n",
       "      <td>0.000180</td>\n",
       "      <td>0.000226</td>\n",
       "      <td>0.000296</td>\n",
       "      <td>0.023122</td>\n",
       "    </tr>\n",
       "    <tr>\n",
       "      <th>1</th>\n",
       "      <td>ISIC_0015729</td>\n",
       "      <td>0.000033</td>\n",
       "      <td>0.000206</td>\n",
       "      <td>0.000322</td>\n",
       "      <td>0.004345</td>\n",
       "    </tr>\n",
       "    <tr>\n",
       "      <th>2</th>\n",
       "      <td>ISIC_0015740</td>\n",
       "      <td>0.000514</td>\n",
       "      <td>0.000303</td>\n",
       "      <td>0.000332</td>\n",
       "      <td>0.001377</td>\n",
       "    </tr>\n",
       "  </tbody>\n",
       "</table>\n",
       "</div>"
      ],
      "text/plain": [
       "        isic_id  target_cb  target_lgb_v1  target_lgb_v2  target_resnet18\n",
       "0  ISIC_0015657   0.000180       0.000226       0.000296         0.023122\n",
       "1  ISIC_0015729   0.000033       0.000206       0.000322         0.004345\n",
       "2  ISIC_0015740   0.000514       0.000303       0.000332         0.001377"
      ]
     },
     "execution_count": 10,
     "metadata": {},
     "output_type": "execute_result"
    }
   ],
   "source": [
    "test_predictions_df"
   ]
  },
  {
   "cell_type": "code",
   "execution_count": 11,
   "id": "d44be99a",
   "metadata": {
    "execution": {
     "iopub.execute_input": "2024-07-17T00:34:32.557574Z",
     "iopub.status.busy": "2024-07-17T00:34:32.557251Z",
     "iopub.status.idle": "2024-07-17T00:34:32.565294Z",
     "shell.execute_reply": "2024-07-17T00:34:32.564430Z"
    },
    "papermill": {
     "duration": 0.018411,
     "end_time": "2024-07-17T00:34:32.567309",
     "exception": false,
     "start_time": "2024-07-17T00:34:32.548898",
     "status": "completed"
    },
    "tags": []
   },
   "outputs": [],
   "source": [
    "test_predictions_df[\"target_cb\"] = test_predictions_df[\"target_cb\"].rank(pct=True).values\n",
    "test_predictions_df[\"target_lgb_v1\"] = test_predictions_df[\"target_lgb_v1\"].rank(pct=True).values\n",
    "test_predictions_df[\"target_lgb_v2\"] = test_predictions_df[\"target_lgb_v2\"].rank(pct=True).values\n",
    "test_predictions_df[\"target_resnet18\"] = test_predictions_df[\"target_resnet18\"].rank(pct=True).values"
   ]
  },
  {
   "cell_type": "code",
   "execution_count": 12,
   "id": "71f7c019",
   "metadata": {
    "execution": {
     "iopub.execute_input": "2024-07-17T00:34:32.583891Z",
     "iopub.status.busy": "2024-07-17T00:34:32.583255Z",
     "iopub.status.idle": "2024-07-17T00:34:32.588960Z",
     "shell.execute_reply": "2024-07-17T00:34:32.588105Z"
    },
    "papermill": {
     "duration": 0.015777,
     "end_time": "2024-07-17T00:34:32.590761",
     "exception": false,
     "start_time": "2024-07-17T00:34:32.574984",
     "status": "completed"
    },
    "tags": []
   },
   "outputs": [],
   "source": [
    "test_predictions_df[target_column] = (test_predictions_df[\"target_cb\"] * 0.26 + \n",
    "                                      test_predictions_df[\"target_lgb_v1\"] * 0.26 + \n",
    "                                      test_predictions_df[\"target_lgb_v1\"] * 0.22 + \n",
    "                                      test_predictions_df[\"target_resnet18\"] * 0.26)"
   ]
  },
  {
   "cell_type": "code",
   "execution_count": 13,
   "id": "88c2d246",
   "metadata": {
    "execution": {
     "iopub.execute_input": "2024-07-17T00:34:32.607012Z",
     "iopub.status.busy": "2024-07-17T00:34:32.606377Z",
     "iopub.status.idle": "2024-07-17T00:34:32.616885Z",
     "shell.execute_reply": "2024-07-17T00:34:32.616048Z"
    },
    "papermill": {
     "duration": 0.020851,
     "end_time": "2024-07-17T00:34:32.619076",
     "exception": false,
     "start_time": "2024-07-17T00:34:32.598225",
     "status": "completed"
    },
    "tags": []
   },
   "outputs": [
    {
     "data": {
      "text/html": [
       "<div>\n",
       "<style scoped>\n",
       "    .dataframe tbody tr th:only-of-type {\n",
       "        vertical-align: middle;\n",
       "    }\n",
       "\n",
       "    .dataframe tbody tr th {\n",
       "        vertical-align: top;\n",
       "    }\n",
       "\n",
       "    .dataframe thead th {\n",
       "        text-align: right;\n",
       "    }\n",
       "</style>\n",
       "<table border=\"1\" class=\"dataframe\">\n",
       "  <thead>\n",
       "    <tr style=\"text-align: right;\">\n",
       "      <th></th>\n",
       "      <th>isic_id</th>\n",
       "      <th>target_cb</th>\n",
       "      <th>target_lgb_v1</th>\n",
       "      <th>target_lgb_v2</th>\n",
       "      <th>target_resnet18</th>\n",
       "      <th>target</th>\n",
       "    </tr>\n",
       "  </thead>\n",
       "  <tbody>\n",
       "    <tr>\n",
       "      <th>0</th>\n",
       "      <td>ISIC_0015657</td>\n",
       "      <td>0.666667</td>\n",
       "      <td>0.666667</td>\n",
       "      <td>0.333333</td>\n",
       "      <td>1.000000</td>\n",
       "      <td>0.753333</td>\n",
       "    </tr>\n",
       "    <tr>\n",
       "      <th>1</th>\n",
       "      <td>ISIC_0015729</td>\n",
       "      <td>0.333333</td>\n",
       "      <td>0.333333</td>\n",
       "      <td>0.666667</td>\n",
       "      <td>0.666667</td>\n",
       "      <td>0.420000</td>\n",
       "    </tr>\n",
       "    <tr>\n",
       "      <th>2</th>\n",
       "      <td>ISIC_0015740</td>\n",
       "      <td>1.000000</td>\n",
       "      <td>1.000000</td>\n",
       "      <td>1.000000</td>\n",
       "      <td>0.333333</td>\n",
       "      <td>0.826667</td>\n",
       "    </tr>\n",
       "  </tbody>\n",
       "</table>\n",
       "</div>"
      ],
      "text/plain": [
       "        isic_id  target_cb  target_lgb_v1  target_lgb_v2  target_resnet18  \\\n",
       "0  ISIC_0015657   0.666667       0.666667       0.333333         1.000000   \n",
       "1  ISIC_0015729   0.333333       0.333333       0.666667         0.666667   \n",
       "2  ISIC_0015740   1.000000       1.000000       1.000000         0.333333   \n",
       "\n",
       "     target  \n",
       "0  0.753333  \n",
       "1  0.420000  \n",
       "2  0.826667  "
      ]
     },
     "execution_count": 13,
     "metadata": {},
     "output_type": "execute_result"
    }
   ],
   "source": [
    "test_predictions_df.head()"
   ]
  },
  {
   "cell_type": "code",
   "execution_count": 14,
   "id": "62c190c3",
   "metadata": {
    "execution": {
     "iopub.execute_input": "2024-07-17T00:34:32.635525Z",
     "iopub.status.busy": "2024-07-17T00:34:32.635244Z",
     "iopub.status.idle": "2024-07-17T00:34:32.645828Z",
     "shell.execute_reply": "2024-07-17T00:34:32.644934Z"
    },
    "papermill": {
     "duration": 0.020854,
     "end_time": "2024-07-17T00:34:32.647721",
     "exception": false,
     "start_time": "2024-07-17T00:34:32.626867",
     "status": "completed"
    },
    "tags": []
   },
   "outputs": [
    {
     "data": {
      "text/plain": [
       "count    3.000000\n",
       "mean     0.666667\n",
       "std      0.216744\n",
       "min      0.420000\n",
       "25%      0.586667\n",
       "50%      0.753333\n",
       "75%      0.790000\n",
       "max      0.826667\n",
       "Name: target, dtype: float64"
      ]
     },
     "execution_count": 14,
     "metadata": {},
     "output_type": "execute_result"
    }
   ],
   "source": [
    "test_predictions_df[target_column].describe()"
   ]
  },
  {
   "cell_type": "code",
   "execution_count": 15,
   "id": "73d99198",
   "metadata": {
    "execution": {
     "iopub.execute_input": "2024-07-17T00:34:32.664147Z",
     "iopub.status.busy": "2024-07-17T00:34:32.663907Z",
     "iopub.status.idle": "2024-07-17T00:34:32.672761Z",
     "shell.execute_reply": "2024-07-17T00:34:32.671848Z"
    },
    "papermill": {
     "duration": 0.019118,
     "end_time": "2024-07-17T00:34:32.674619",
     "exception": false,
     "start_time": "2024-07-17T00:34:32.655501",
     "status": "completed"
    },
    "tags": []
   },
   "outputs": [
    {
     "data": {
      "text/html": [
       "<div>\n",
       "<style scoped>\n",
       "    .dataframe tbody tr th:only-of-type {\n",
       "        vertical-align: middle;\n",
       "    }\n",
       "\n",
       "    .dataframe tbody tr th {\n",
       "        vertical-align: top;\n",
       "    }\n",
       "\n",
       "    .dataframe thead th {\n",
       "        text-align: right;\n",
       "    }\n",
       "</style>\n",
       "<table border=\"1\" class=\"dataframe\">\n",
       "  <thead>\n",
       "    <tr style=\"text-align: right;\">\n",
       "      <th></th>\n",
       "      <th>isic_id</th>\n",
       "      <th>target</th>\n",
       "    </tr>\n",
       "  </thead>\n",
       "  <tbody>\n",
       "    <tr>\n",
       "      <th>0</th>\n",
       "      <td>ISIC_0015657</td>\n",
       "      <td>0.753333</td>\n",
       "    </tr>\n",
       "    <tr>\n",
       "      <th>1</th>\n",
       "      <td>ISIC_0015729</td>\n",
       "      <td>0.420000</td>\n",
       "    </tr>\n",
       "    <tr>\n",
       "      <th>2</th>\n",
       "      <td>ISIC_0015740</td>\n",
       "      <td>0.826667</td>\n",
       "    </tr>\n",
       "  </tbody>\n",
       "</table>\n",
       "</div>"
      ],
      "text/plain": [
       "        isic_id    target\n",
       "0  ISIC_0015657  0.753333\n",
       "1  ISIC_0015729  0.420000\n",
       "2  ISIC_0015740  0.826667"
      ]
     },
     "execution_count": 15,
     "metadata": {},
     "output_type": "execute_result"
    }
   ],
   "source": [
    "test_predictions_df[[id_column, target_column]].head()"
   ]
  },
  {
   "cell_type": "code",
   "execution_count": 16,
   "id": "fc4e7b2d",
   "metadata": {
    "execution": {
     "iopub.execute_input": "2024-07-17T00:34:32.691930Z",
     "iopub.status.busy": "2024-07-17T00:34:32.691661Z",
     "iopub.status.idle": "2024-07-17T00:34:32.699067Z",
     "shell.execute_reply": "2024-07-17T00:34:32.698188Z"
    },
    "papermill": {
     "duration": 0.018243,
     "end_time": "2024-07-17T00:34:32.700933",
     "exception": false,
     "start_time": "2024-07-17T00:34:32.682690",
     "status": "completed"
    },
    "tags": []
   },
   "outputs": [],
   "source": [
    "test_predictions_df[[id_column, target_column]].to_csv(\"submission.csv\", index=False)"
   ]
  },
  {
   "cell_type": "code",
   "execution_count": null,
   "id": "48a5ca63",
   "metadata": {
    "papermill": {
     "duration": 0.007804,
     "end_time": "2024-07-17T00:34:32.716648",
     "exception": false,
     "start_time": "2024-07-17T00:34:32.708844",
     "status": "completed"
    },
    "tags": []
   },
   "outputs": [],
   "source": []
  }
 ],
 "metadata": {
  "kaggle": {
   "accelerator": "gpu",
   "dataSources": [
    {
     "databundleVersionId": 9094797,
     "sourceId": 63056,
     "sourceType": "competition"
    },
    {
     "sourceId": 187439867,
     "sourceType": "kernelVersion"
    },
    {
     "sourceId": 187477024,
     "sourceType": "kernelVersion"
    },
    {
     "sourceId": 188057910,
     "sourceType": "kernelVersion"
    },
    {
     "sourceId": 188282340,
     "sourceType": "kernelVersion"
    },
    {
     "sourceId": 188607193,
     "sourceType": "kernelVersion"
    },
    {
     "sourceId": 188608161,
     "sourceType": "kernelVersion"
    }
   ],
   "dockerImageVersionId": 30733,
   "isGpuEnabled": true,
   "isInternetEnabled": false,
   "language": "python",
   "sourceType": "notebook"
  },
  "kernelspec": {
   "display_name": "Python 3",
   "language": "python",
   "name": "python3"
  },
  "language_info": {
   "codemirror_mode": {
    "name": "ipython",
    "version": 3
   },
   "file_extension": ".py",
   "mimetype": "text/x-python",
   "name": "python",
   "nbconvert_exporter": "python",
   "pygments_lexer": "ipython3",
   "version": "3.10.13"
  },
  "papermill": {
   "default_parameters": {},
   "duration": 41.243827,
   "end_time": "2024-07-17T00:34:35.577455",
   "environment_variables": {},
   "exception": null,
   "input_path": "__notebook__.ipynb",
   "output_path": "__notebook__.ipynb",
   "parameters": {},
   "start_time": "2024-07-17T00:33:54.333628",
   "version": "2.5.0"
  }
 },
 "nbformat": 4,
 "nbformat_minor": 5
}
