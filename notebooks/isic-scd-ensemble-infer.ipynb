{
 "cells": [
  {
   "cell_type": "code",
   "execution_count": 1,
   "id": "236382ac",
   "metadata": {
    "_cell_guid": "b1076dfc-b9ad-4769-8c92-a6c4dae69d19",
    "_uuid": "8f2839f25d086af736a60e9eeb907d3b93b6e0e5",
    "execution": {
     "iopub.execute_input": "2024-08-01T22:33:06.981287Z",
     "iopub.status.busy": "2024-08-01T22:33:06.980955Z",
     "iopub.status.idle": "2024-08-01T22:33:20.094927Z",
     "shell.execute_reply": "2024-08-01T22:33:20.094133Z"
    },
    "papermill": {
     "duration": 13.123342,
     "end_time": "2024-08-01T22:33:20.097251",
     "exception": false,
     "start_time": "2024-08-01T22:33:06.973909",
     "status": "completed"
    },
    "tags": []
   },
   "outputs": [],
   "source": [
    "import json\n",
    "import joblib\n",
    "from pprint import pprint\n",
    "from tqdm import tqdm\n",
    "from pathlib import Path\n",
    "\n",
    "import pandas as pd\n",
    "import numpy as np\n",
    "\n",
    "import lightgbm as lgb\n",
    "import catboost as cb\n",
    "\n",
    "import h5py\n",
    "from io import BytesIO\n",
    "from PIL import Image\n",
    "\n",
    "import torch\n",
    "from torch.utils.data import DataLoader, Dataset\n",
    "import torch.nn as nn\n",
    "import torch.nn.functional as F\n",
    "\n",
    "from timm import create_model\n",
    "\n",
    "import albumentations as A\n",
    "from albumentations.pytorch import ToTensorV2\n",
    "\n",
    "from accelerate import Accelerator\n",
    "\n",
    "from isic_helper import DotDict, get_folds"
   ]
  },
  {
   "cell_type": "code",
   "execution_count": 2,
   "id": "fe33ac5e",
   "metadata": {
    "execution": {
     "iopub.execute_input": "2024-08-01T22:33:20.109924Z",
     "iopub.status.busy": "2024-08-01T22:33:20.108938Z",
     "iopub.status.idle": "2024-08-01T22:33:20.114254Z",
     "shell.execute_reply": "2024-08-01T22:33:20.113400Z"
    },
    "papermill": {
     "duration": 0.013434,
     "end_time": "2024-08-01T22:33:20.116261",
     "exception": false,
     "start_time": "2024-08-01T22:33:20.102827",
     "status": "completed"
    },
    "tags": []
   },
   "outputs": [],
   "source": [
    "model_names = [\"cb\", \"lgb\", \"resnet18\"]\n",
    "versions = [\"v1\", \"v3\", \"v5\"]\n",
    "paths = [f\"/kaggle/input/isic-scd-{model_name.replace('_', '-')}-{version}-train\" for model_name, version in zip(model_names, versions)]\n",
    "\n",
    "weights = [3.30655822204979, 3.764848402784958, 6.301137081207355]"
   ]
  },
  {
   "cell_type": "code",
   "execution_count": 3,
   "id": "54073dc9",
   "metadata": {
    "execution": {
     "iopub.execute_input": "2024-08-01T22:33:20.127606Z",
     "iopub.status.busy": "2024-08-01T22:33:20.127315Z",
     "iopub.status.idle": "2024-08-01T22:33:20.131310Z",
     "shell.execute_reply": "2024-08-01T22:33:20.130490Z"
    },
    "papermill": {
     "duration": 0.011804,
     "end_time": "2024-08-01T22:33:20.133245",
     "exception": false,
     "start_time": "2024-08-01T22:33:20.121441",
     "status": "completed"
    },
    "tags": []
   },
   "outputs": [],
   "source": [
    "id_column = \"isic_id\"\n",
    "target_column = \"target\"\n",
    "group_column = \"patient_id\""
   ]
  },
  {
   "cell_type": "code",
   "execution_count": 4,
   "id": "23563090",
   "metadata": {
    "execution": {
     "iopub.execute_input": "2024-08-01T22:33:20.144545Z",
     "iopub.status.busy": "2024-08-01T22:33:20.144225Z",
     "iopub.status.idle": "2024-08-01T22:33:20.160965Z",
     "shell.execute_reply": "2024-08-01T22:33:20.160080Z"
    },
    "papermill": {
     "duration": 0.024752,
     "end_time": "2024-08-01T22:33:20.162964",
     "exception": false,
     "start_time": "2024-08-01T22:33:20.138212",
     "status": "completed"
    },
    "tags": []
   },
   "outputs": [],
   "source": [
    "def count_features(df, col):\n",
    "    tmp = df[[id_column, group_column, col]].pivot_table(\n",
    "        values=id_column, \n",
    "        index=group_column, \n",
    "        columns=col, \n",
    "        aggfunc=\"count\", \n",
    "        fill_value=0)\n",
    "    feature_cols = tmp.columns.tolist()\n",
    "    tmp.reset_index(inplace=True)\n",
    "    tmp.index.name = None\n",
    "    df = df.merge(tmp, on=group_column, how=\"left\")\n",
    "    return df, feature_cols\n",
    "\n",
    "def mean_features(df, col, val):\n",
    "    tmp = df[[id_column, group_column, col, val]].pivot_table(\n",
    "        values=val, \n",
    "        index=group_column, \n",
    "        columns=col, \n",
    "        aggfunc=\"mean\", \n",
    "        fill_value=0)\n",
    "    tmp.columns = [f\"{c}_{val}_mean\" for c in tmp.columns.tolist()]\n",
    "    feature_cols = tmp.columns.tolist()\n",
    "    tmp.reset_index(inplace=True)\n",
    "    tmp.index.name = None\n",
    "    df = df.merge(tmp, on=group_column, how=\"left\")\n",
    "    return df, feature_cols\n",
    "\n",
    "\n",
    "def stat_features(df, group_cols, value_col, stats):\n",
    "    tmp = df.groupby(group_cols)[value_col].agg(stats)\n",
    "    tmp.columns = [f\"{value_col}_{stat}\" for stat in stats]\n",
    "    tmp.reset_index(inplace=True)\n",
    "    df = df.merge(tmp, on=group_cols, how=\"left\")\n",
    "    df[f\"{value_col}_mean_diff\"] = df[value_col] - df[f\"{value_col}_mean\"]\n",
    "    return df\n",
    "\n",
    "\n",
    "def feature_engineering(df):\n",
    "    new_num_cols = []\n",
    "    \n",
    "    df[\"lesion_size_ratio\"] = df[\"tbp_lv_minorAxisMM\"] / df[\"clin_size_long_diam_mm\"]\n",
    "    new_num_cols += [\"lesion_size_ratio\"]\n",
    "    \n",
    "    df[\"lesion_distance\"] = np.sqrt(df[\"tbp_lv_x\"]**2 + df[\"tbp_lv_y\"]**2 + df[\"tbp_lv_z\"]**2)\n",
    "    new_num_cols += [\"lesion_distance\"]\n",
    "    \n",
    "    df[\"hue_contrast\"] = df[\"tbp_lv_H\"] - df[\"tbp_lv_Hext\"]\n",
    "    df, feature_cols = mean_features(df, \"anatom_site_general\", \"hue_contrast\")\n",
    "    new_num_cols += feature_cols\n",
    "    \n",
    "    df, feature_cols = count_features(df, \"anatom_site_general\")\n",
    "    new_num_cols += feature_cols\n",
    "    \n",
    "    df[\"tbp_lv_A_diff\"] =  df[\"tbp_lv_Aext\"] - df[\"tbp_lv_A\"]\n",
    "    df = stat_features(df, [\"patient_id\", \"tbp_lv_location\"], \"tbp_lv_A_diff\", [\"mean\"])\n",
    "    new_num_cols += [\"tbp_lv_A_diff_mean_diff\"]\n",
    "    \n",
    "    df[\"tbp_lv_B_diff\"] =  df[\"tbp_lv_Bext\"] - df[\"tbp_lv_B\"]\n",
    "    df = stat_features(df, [\"patient_id\", \"tbp_lv_location\"], \"tbp_lv_B_diff\", [\"mean\"])\n",
    "    new_num_cols += [\"tbp_lv_B_diff_mean_diff\"]\n",
    "    \n",
    "    df[\"tbp_lv_L_diff\"] =  df[\"tbp_lv_Lext\"] - df[\"tbp_lv_L\"]\n",
    "    df = stat_features(df, [\"patient_id\", \"tbp_lv_location\"], \"tbp_lv_L_diff\", [\"mean\"])\n",
    "    new_num_cols += [\"tbp_lv_L_diff_mean_diff\"]\n",
    "    \n",
    "    df[\"tbp_lv_L_std_diff\"] =  df[\"tbp_lv_stdLExt\"] - df[\"tbp_lv_stdL\"]\n",
    "    df = stat_features(df, [\"patient_id\", \"tbp_lv_location\"], \"tbp_lv_L_std_diff\", [\"mean\"])\n",
    "    new_num_cols += [\"tbp_lv_L_std_diff_mean_diff\"]\n",
    "    \n",
    "    df[\"color_uniformity\"] = df[\"tbp_lv_color_std_mean\"] / df[\"tbp_lv_radial_color_std_max\"]\n",
    "    df, feature_cols = mean_features(df, \"anatom_site_general\", \"color_uniformity\")\n",
    "    new_num_cols += feature_cols\n",
    "    \n",
    "    df[\"radius\"] = np.cos(df[\"tbp_lv_symm_2axis_angle\"]) * np.sqrt(df[\"tbp_lv_x\"]**2 + df[\"tbp_lv_y\"]**2 + df[\"tbp_lv_z\"]**2)\n",
    "    new_num_cols += [\"radius\"]\n",
    "    \n",
    "    return df, new_num_cols"
   ]
  },
  {
   "cell_type": "code",
   "execution_count": 5,
   "id": "23d4ac2b",
   "metadata": {
    "execution": {
     "iopub.execute_input": "2024-08-01T22:33:20.174655Z",
     "iopub.status.busy": "2024-08-01T22:33:20.174302Z",
     "iopub.status.idle": "2024-08-01T22:33:20.184439Z",
     "shell.execute_reply": "2024-08-01T22:33:20.183562Z"
    },
    "papermill": {
     "duration": 0.018273,
     "end_time": "2024-08-01T22:33:20.186471",
     "exception": false,
     "start_time": "2024-08-01T22:33:20.168198",
     "status": "completed"
    },
    "tags": []
   },
   "outputs": [],
   "source": [
    "label_mapping = {\n",
    "    \"2024\": {\n",
    "        \"Hidradenoma\": \"unknown\",\n",
    "        \"Lichen planus like keratosis\": \"BKL\",\n",
    "        \"Pigmented benign keratosis\": \"BKL\",\n",
    "        \"Seborrheic keratosis\": \"BKL\",\n",
    "        \"Solar lentigo\": \"BKL\",\n",
    "        \"Nevus\": \"NV\",\n",
    "        \"Angiofibroma\": \"unknown\",\n",
    "        \"Dermatofibroma\": \"DF\",\n",
    "        \"Fibroepithelial polyp\": \"unknown\",\n",
    "        \"Scar\": \"unknown\",\n",
    "        \"Hemangioma\": \"unknown\",\n",
    "        \"Trichilemmal or isthmic-catagen or pilar cyst\": \"unknown\",\n",
    "        \"Lentigo NOS\": \"BKL\",\n",
    "        \"Verruca\": \"unknown\",\n",
    "        \"Solar or actinic keratosis\": \"AKIEC\",\n",
    "        \"Atypical intraepithelial melanocytic proliferation\": \"unknown\",\n",
    "        \"Atypical melanocytic neoplasm\": \"unknown\",\n",
    "        \"Basal cell carcinoma\": \"BCC\",\n",
    "        \"Squamous cell carcinoma in situ\": \"SCC\",\n",
    "        \"Squamous cell carcinoma, Invasive\": \"SCC\",\n",
    "        \"Squamous cell carcinoma, NOS\": \"SCC\",\n",
    "        \"Melanoma in situ\": \"MEL\",\n",
    "        \"Melanoma Invasive\": \"MEL\",\n",
    "        \"Melanoma metastasis\": \"MEL\",\n",
    "        \"Melanoma, NOS\": \"MEL\"\n",
    "    },\n",
    "    \"2020\": {\n",
    "        \"nevus\": \"NV\",\n",
    "        \"melanoma\": \"MEL\",\n",
    "        \"seborrheic keratosis\": \"BKL\",\n",
    "        \"lentigo NOS\": \"BKL\",\n",
    "        \"lichenoid keratosis\": \"BKL\",\n",
    "        \"other\": \"unknown\",\n",
    "        \"solar lentigo\": \"BKL\",\n",
    "        \"scar\": \"unknown\",\n",
    "        \"cafe-au-lait macule\": \"unknown\",\n",
    "        \"atypical melanocytic proliferation\": \"unknown\",\n",
    "        \"pigmented benign keratosis\": \"BKL\"\n",
    "    },\n",
    "    \"2019\": {\n",
    "        \"nevus\": \"NV\",\n",
    "        \"melanoma\": \"MEL\",\n",
    "        \"seborrheic keratosis\": \"BKL\",\n",
    "        \"pigmented benign keratosis\": \"BKL\",\n",
    "        \"dermatofibroma\": \"DF\",\n",
    "        \"squamous cell carcinoma\": \"SCC\",\n",
    "        \"basal cell carcinoma\": \"BCC\",\n",
    "        \"vascular lesion\": \"VASC\",\n",
    "        \"actinic keratosis\": \"AKIEC\",\n",
    "        \"solar lentigo\": \"BKL\",\n",
    "    },\n",
    "}\n",
    "\n",
    "\n",
    "all_labels = np.unique(list(label_mapping[\"2024\"].values()) +\n",
    "                       list(label_mapping[\"2020\"].values()) +\n",
    "                       list(label_mapping[\"2019\"].values()))\n",
    "label2idx = {label: idx for idx, label in enumerate(all_labels)}\n",
    "malignant_labels = [\"BCC\", \"MEL\", \"SCC\"]\n",
    "malignant_idx = [label2idx[label] for label in malignant_labels]"
   ]
  },
  {
   "cell_type": "code",
   "execution_count": 6,
   "id": "ea31f128",
   "metadata": {
    "execution": {
     "iopub.execute_input": "2024-08-01T22:33:20.197922Z",
     "iopub.status.busy": "2024-08-01T22:33:20.197659Z",
     "iopub.status.idle": "2024-08-01T22:33:20.219142Z",
     "shell.execute_reply": "2024-08-01T22:33:20.218201Z"
    },
    "papermill": {
     "duration": 0.030346,
     "end_time": "2024-08-01T22:33:20.221866",
     "exception": false,
     "start_time": "2024-08-01T22:33:20.191520",
     "status": "completed"
    },
    "tags": []
   },
   "outputs": [],
   "source": [
    "def val_augment(image_size):\n",
    "    transform = A.Compose([A.Resize(image_size, image_size), ToTensorV2()], p=1.0)\n",
    "    return transform\n",
    "\n",
    "\n",
    "class ISICDataset(Dataset):\n",
    "    def __init__(self, metadata, images, augment, infer=False):\n",
    "        self.metadata = metadata\n",
    "        self.images = images\n",
    "        self.augment = augment\n",
    "        self.length = len(self.metadata)\n",
    "        self.infer = infer\n",
    "\n",
    "    def __len__(self):\n",
    "        return self.length\n",
    "\n",
    "    def __getitem__(self, index):\n",
    "        row = self.metadata.iloc[index]\n",
    "\n",
    "        image = np.array(Image.open(BytesIO(self.images[row[\"isic_id\"]][()])))\n",
    "        image = self.augment(image=image)[\"image\"]\n",
    "\n",
    "        data = image.float().div(255)\n",
    "\n",
    "        if not self.infer:\n",
    "            label = torch.tensor(row[\"label\"]).long()\n",
    "            return data, label\n",
    "\n",
    "        return data\n",
    "\n",
    "    \n",
    "class ISICNet(nn.Module):\n",
    "    def __init__(self, model_name, out_dim, pretrained=True, infer=False):\n",
    "        super(ISICNet, self).__init__()\n",
    "        self.infer = infer\n",
    "        self.model = create_model(\n",
    "            model_name=model_name,\n",
    "            pretrained=pretrained,\n",
    "            in_chans=3,\n",
    "            num_classes=0,\n",
    "            global_pool=\"\",\n",
    "        )\n",
    "        self.classifier = nn.Linear(self.model.num_features, out_dim)\n",
    "\n",
    "        self.dropouts = nn.ModuleList([nn.Dropout(0.5) for _ in range(5)])\n",
    "\n",
    "    def forward(self, data):\n",
    "        image = data\n",
    "        x = self.model(image)\n",
    "        bs = len(image)\n",
    "        pool = F.adaptive_avg_pool2d(x, 1).reshape(bs, -1)\n",
    "\n",
    "        if self.training:\n",
    "            logit = 0\n",
    "            for i in range(len(self.dropouts)):\n",
    "                logit += self.classifier(self.dropouts[i](pool))\n",
    "            logit = logit / len(self.dropouts)\n",
    "        else:\n",
    "            logit = self.classifier(pool)\n",
    "        return logit\n",
    "    \n",
    "\n",
    "def get_trans(img, iteration):\n",
    "    if iteration >= 6:\n",
    "        img = img.transpose(2, 3)\n",
    "    if iteration % 6 == 0:\n",
    "        return img\n",
    "    elif iteration % 6 == 1:\n",
    "        return torch.flip(img, dims=[2])\n",
    "    elif iteration % 6 == 2:\n",
    "        return torch.flip(img, dims=[3])\n",
    "    elif iteration % 6 == 3:\n",
    "        return torch.rot90(img, 1, dims=[2, 3])\n",
    "    elif iteration % 6 == 4:\n",
    "        return torch.rot90(img, 2, dims=[2, 3])\n",
    "    elif iteration % 6 == 5:\n",
    "        return torch.rot90(img, 3, dims=[2, 3])\n",
    "\n",
    "    \n",
    "def predict(model, test_dataloader, accelerator, out_dim, n_tta, malignant_idx, log_interval=50):\n",
    "    model.eval()\n",
    "    test_probs = []\n",
    "    total_steps = len(test_dataloader)\n",
    "    with torch.no_grad():\n",
    "        for step, data in enumerate(test_dataloader):\n",
    "            logits = torch.zeros((data.shape[0], out_dim)).to(accelerator.device)\n",
    "            probs = torch.zeros((data.shape[0], out_dim)).to(accelerator.device)\n",
    "            for idx in range(n_tta):\n",
    "                logits_iter = model(get_trans(data, idx))\n",
    "                logits += logits_iter\n",
    "                probs += logits_iter.softmax(1)\n",
    "            logits /= n_tta\n",
    "            probs /= n_tta\n",
    "\n",
    "            logits, probs = accelerator.gather((logits, probs))\n",
    "            test_probs.append(probs)\n",
    "\n",
    "            if step % log_interval == 0:\n",
    "                print(\n",
    "                    f\"Step: {step + 1}/{total_steps}\"\n",
    "                )\n",
    "\n",
    "    test_probs = torch.cat(test_probs).cpu().numpy()\n",
    "    if out_dim == 9:\n",
    "        binary_probs = test_probs[:, malignant_idx].sum(1)\n",
    "    else:\n",
    "        binary_probs = val_probs[:, 1]\n",
    "    return binary_probs"
   ]
  },
  {
   "cell_type": "code",
   "execution_count": 7,
   "id": "5bff5d78",
   "metadata": {
    "execution": {
     "iopub.execute_input": "2024-08-01T22:33:20.233363Z",
     "iopub.status.busy": "2024-08-01T22:33:20.233036Z",
     "iopub.status.idle": "2024-08-01T22:33:34.360019Z",
     "shell.execute_reply": "2024-08-01T22:33:34.359229Z"
    },
    "papermill": {
     "duration": 14.135526,
     "end_time": "2024-08-01T22:33:34.362617",
     "exception": false,
     "start_time": "2024-08-01T22:33:20.227091",
     "status": "completed"
    },
    "tags": []
   },
   "outputs": [
    {
     "name": "stdout",
     "output_type": "stream",
     "text": [
      "Train data size: (401059, 57)\n",
      "Test data size: (3, 44)\n"
     ]
    }
   ],
   "source": [
    "INPUT_PATH = Path(\"../input/isic-2024-challenge/\")\n",
    "\n",
    "train_metadata = pd.read_csv(INPUT_PATH / \"train-metadata.csv\", low_memory=False)\n",
    "test_metadata = pd.read_csv(INPUT_PATH / \"test-metadata.csv\")\n",
    "\n",
    "folds_df = get_folds()\n",
    "train_metadata = train_metadata.merge(folds_df, on=[\"isic_id\", \"patient_id\"], how=\"inner\")\n",
    "print(f\"Train data size: {train_metadata.shape}\")\n",
    "print(f\"Test data size: {test_metadata.shape}\")\n",
    "\n",
    "train_metadata, new_num_cols = feature_engineering(train_metadata.copy())\n",
    "test_metadata, _ = feature_engineering(test_metadata.copy())\n",
    "\n",
    "test_images = h5py.File(INPUT_PATH / \"test-image.hdf5\", mode=\"r\")"
   ]
  },
  {
   "cell_type": "code",
   "execution_count": 8,
   "id": "98a45770",
   "metadata": {
    "execution": {
     "iopub.execute_input": "2024-08-01T22:33:34.376691Z",
     "iopub.status.busy": "2024-08-01T22:33:34.375923Z",
     "iopub.status.idle": "2024-08-01T22:33:34.392484Z",
     "shell.execute_reply": "2024-08-01T22:33:34.391571Z"
    },
    "papermill": {
     "duration": 0.025736,
     "end_time": "2024-08-01T22:33:34.394629",
     "exception": false,
     "start_time": "2024-08-01T22:33:34.368893",
     "status": "completed"
    },
    "tags": []
   },
   "outputs": [],
   "source": [
    "def get_boosting_predictions(train, test, test_images, model_name, version, path):\n",
    "    with open(path / f\"{model_name}_{version}_encoder.joblib\", \"rb\") as f:\n",
    "        mixed_encoded_preprocessor = joblib.load(f)\n",
    "\n",
    "    enc = mixed_encoded_preprocessor.fit(train)\n",
    "\n",
    "    for col in mixed_encoded_preprocessor.feature_names_in_:\n",
    "        if col not in test.columns:\n",
    "            test[col] = np.nan\n",
    "\n",
    "    X_test = enc.transform(test)\n",
    "\n",
    "    columns_for_model = len(X_test.columns)\n",
    "    print(f\"Total number of columns: {columns_for_model}\")\n",
    "\n",
    "    with open(path / f\"{model_name}_{version}_run_metadata.json\", \"r\") as f:\n",
    "        run_metadata = json.load(f)\n",
    "        \n",
    "    all_folds = np.unique(train[\"fold\"])\n",
    "    test_predictions_df = pd.DataFrame({id_column: test_metadata[id_column]})\n",
    "    for fold in all_folds:\n",
    "        model_filepath = path / f\"models/{model_name}_{version}_fold_{fold}.txt\"\n",
    "        if \"lgb\" in model_name:\n",
    "            model = lgb.Booster(model_file=model_filepath)\n",
    "            test_predictions_df[f\"fold_{fold}\"] = model.predict(X_test, num_iteration=run_metadata[\"best_num_rounds\"][f\"fold_{fold}\"])\n",
    "        elif \"cb\" in model_name:\n",
    "            model = cb.CatBoostClassifier(use_best_model=True)\n",
    "            model.load_model(model_filepath)\n",
    "            test_predictions_df[f\"fold_{fold}\"] = model.predict_proba(X_test)[:, -1]\n",
    "    test_predictions_df[target_column] = test_predictions_df[[f\"fold_{fold}\" for fold in all_folds]].mean(axis=1)\n",
    "    return test_predictions_df[[id_column, target_column]]\n",
    "\n",
    "\n",
    "def get_dnn_predictions(train, test, test_images, model_name, version, path):\n",
    "    with open(path / f\"{model_name}_{version}_run_metadata.json\", \"r\") as f:\n",
    "        run_metadata = json.load(f)\n",
    "    if model_name == \"resnet18\" and version == \"v5\":\n",
    "        run_metadata[\"params\"][\"out_dim\"] = 9\n",
    "    pprint(run_metadata)\n",
    "    \n",
    "    test_dataset = ISICDataset(\n",
    "        test, test_images, augment=val_augment(run_metadata[\"params\"][\"image_size\"]), infer=True\n",
    "    )\n",
    "    test_dataloader = DataLoader(\n",
    "        test_dataset,\n",
    "        batch_size=run_metadata[\"params\"][\"val_batch_size\"],\n",
    "        shuffle=False,\n",
    "        num_workers=2,\n",
    "        drop_last=False,\n",
    "        pin_memory=True,\n",
    "    )\n",
    "    \n",
    "    all_folds = np.unique(train[\"fold\"])\n",
    "    test_predictions_df = pd.DataFrame({id_column: test_metadata[id_column]})\n",
    "    for fold in all_folds:\n",
    "        accelerator = Accelerator(\n",
    "            mixed_precision=run_metadata[\"params\"][\"mixed_precision\"],\n",
    "        )\n",
    "        \n",
    "        model = ISICNet(model_name=model_name, out_dim=run_metadata[\"params\"][\"out_dim\"], pretrained=False, infer=True)\n",
    "        model = model.to(accelerator.device)\n",
    "        \n",
    "        model, test_dataloader = accelerator.prepare(model, test_dataloader)\n",
    "        model_filepath = path / f\"models/fold_{fold}\"\n",
    "        accelerator.load_state(model_filepath)\n",
    "\n",
    "        test_predictions_df[f\"fold_{fold}\"] = predict(model, test_dataloader, accelerator, out_dim=run_metadata[\"params\"][\"out_dim\"], n_tta=run_metadata[\"params\"][\"n_tta\"], malignant_idx=malignant_idx)\n",
    "    test_predictions_df[target_column] = test_predictions_df[[f\"fold_{fold}\" for fold in all_folds]].mean(axis=1)\n",
    "    return test_predictions_df[[id_column, target_column]]"
   ]
  },
  {
   "cell_type": "code",
   "execution_count": 9,
   "id": "7523bf71",
   "metadata": {
    "execution": {
     "iopub.execute_input": "2024-08-01T22:33:34.406737Z",
     "iopub.status.busy": "2024-08-01T22:33:34.406184Z",
     "iopub.status.idle": "2024-08-01T22:33:34.410373Z",
     "shell.execute_reply": "2024-08-01T22:33:34.409485Z"
    },
    "papermill": {
     "duration": 0.012368,
     "end_time": "2024-08-01T22:33:34.412354",
     "exception": false,
     "start_time": "2024-08-01T22:33:34.399986",
     "status": "completed"
    },
    "tags": []
   },
   "outputs": [],
   "source": [
    "model_predict_function_topology = {\n",
    "    \"lgb\": get_boosting_predictions,\n",
    "    \"cb\": get_boosting_predictions,\n",
    "    \"resnet18\": get_dnn_predictions,\n",
    "}"
   ]
  },
  {
   "cell_type": "code",
   "execution_count": 10,
   "id": "f8ef20d9",
   "metadata": {
    "execution": {
     "iopub.execute_input": "2024-08-01T22:33:34.424115Z",
     "iopub.status.busy": "2024-08-01T22:33:34.423828Z",
     "iopub.status.idle": "2024-08-01T22:33:42.131398Z",
     "shell.execute_reply": "2024-08-01T22:33:42.130224Z"
    },
    "papermill": {
     "duration": 7.716122,
     "end_time": "2024-08-01T22:33:42.133756",
     "exception": false,
     "start_time": "2024-08-01T22:33:34.417634",
     "status": "completed"
    },
    "tags": []
   },
   "outputs": [
    {
     "name": "stdout",
     "output_type": "stream",
     "text": [
      "Generating predictions for cb_v1\n",
      "Total number of columns: 60\n",
      "\n",
      "\n",
      "Generating predictions for lgb_v3\n",
      "Total number of columns: 60\n",
      "\n",
      "\n",
      "Generating predictions for resnet18_v5\n",
      "{'best_num_epochs': {'fold_1': 6,\n",
      "                     'fold_2': 6,\n",
      "                     'fold_3': 6,\n",
      "                     'fold_4': 6,\n",
      "                     'fold_5': 2},\n",
      " 'cv_auc_avg': 0.9478524769593033,\n",
      " 'cv_auc_oof': 0.9470367334571145,\n",
      " 'cv_auc_std': 0.007899703488679211,\n",
      " 'cv_pauc_avg': 0.1637758309746066,\n",
      " 'cv_pauc_oof': 0.16271825095694034,\n",
      " 'cv_pauc_std': 0.006161478619758375,\n",
      " 'params': {'image_size': 64,\n",
      "            'learning_rate': 0.001,\n",
      "            'mixed_precision': 'fp16',\n",
      "            'n_tta': 6,\n",
      "            'num_epochs': 6,\n",
      "            'num_workers': 4,\n",
      "            'out_dim': 9,\n",
      "            'seed': 2022,\n",
      "            'train_batch_size': 256,\n",
      "            'val_batch_size': 512},\n",
      " 'val_auc_scores': {'fold_1': 0.9586380401484536,\n",
      "                    'fold_2': 0.9532613001427737,\n",
      "                    'fold_3': 0.9402818509690383,\n",
      "                    'fold_4': 0.9495382561056271,\n",
      "                    'fold_5': 0.9375429374306242},\n",
      " 'val_pauc_scores': {'fold_1': 0.17233685365759183,\n",
      "                     'fold_2': 0.1685326437192062,\n",
      "                     'fold_3': 0.15481711197913414,\n",
      "                     'fold_4': 0.16303521733161946,\n",
      "                     'fold_5': 0.16015732818548134}}\n",
      "Step: 1/1\n",
      "Step: 1/1\n",
      "Step: 1/1\n",
      "Step: 1/1\n",
      "Step: 1/1\n",
      "\n",
      "\n"
     ]
    }
   ],
   "source": [
    "ensemble_preds = 0\n",
    "previous_model_name = None\n",
    "for idx, (model_name, version, path, weight) in enumerate(zip(model_names, versions, paths, weights)):\n",
    "    print(f\"Generating predictions for {model_name}_{version}\")\n",
    "    model_preds_df = model_predict_function_topology[model_name](train_metadata, test_metadata, test_images, model_name, version, Path(path))\n",
    "    if idx == 0:\n",
    "        ensemble_preds_df = model_preds_df.copy()\n",
    "    else:\n",
    "        ensemble_preds_df = ensemble_preds_df.merge(model_preds_df, on=id_column, how=\"inner\", suffixes=(f\"_{previous_model_name}\", \"\"))\n",
    "    ensemble_preds += ensemble_preds_df[target_column].rank(pct=True).values * weight\n",
    "    previous_model_name = model_name\n",
    "    print(\"\\n\")\n",
    "ensemble_preds_df.rename(columns={target_column: f\"{target_column}_{previous_model_name}\"}, inplace=True)\n",
    "ensemble_preds_df[target_column] = ensemble_preds"
   ]
  },
  {
   "cell_type": "code",
   "execution_count": 11,
   "id": "e95eda60",
   "metadata": {
    "execution": {
     "iopub.execute_input": "2024-08-01T22:33:42.147999Z",
     "iopub.status.busy": "2024-08-01T22:33:42.147512Z",
     "iopub.status.idle": "2024-08-01T22:33:42.167451Z",
     "shell.execute_reply": "2024-08-01T22:33:42.166547Z"
    },
    "papermill": {
     "duration": 0.029555,
     "end_time": "2024-08-01T22:33:42.169557",
     "exception": false,
     "start_time": "2024-08-01T22:33:42.140002",
     "status": "completed"
    },
    "tags": []
   },
   "outputs": [
    {
     "data": {
      "text/html": [
       "<div>\n",
       "<style scoped>\n",
       "    .dataframe tbody tr th:only-of-type {\n",
       "        vertical-align: middle;\n",
       "    }\n",
       "\n",
       "    .dataframe tbody tr th {\n",
       "        vertical-align: top;\n",
       "    }\n",
       "\n",
       "    .dataframe thead th {\n",
       "        text-align: right;\n",
       "    }\n",
       "</style>\n",
       "<table border=\"1\" class=\"dataframe\">\n",
       "  <thead>\n",
       "    <tr style=\"text-align: right;\">\n",
       "      <th></th>\n",
       "      <th>isic_id</th>\n",
       "      <th>target_cb</th>\n",
       "      <th>target_lgb</th>\n",
       "      <th>target_resnet18</th>\n",
       "      <th>target</th>\n",
       "    </tr>\n",
       "  </thead>\n",
       "  <tbody>\n",
       "    <tr>\n",
       "      <th>0</th>\n",
       "      <td>ISIC_0015657</td>\n",
       "      <td>0.000182</td>\n",
       "      <td>0.000036</td>\n",
       "      <td>0.001117</td>\n",
       "      <td>12.117594</td>\n",
       "    </tr>\n",
       "    <tr>\n",
       "      <th>1</th>\n",
       "      <td>ISIC_0015729</td>\n",
       "      <td>0.000023</td>\n",
       "      <td>0.000028</td>\n",
       "      <td>0.000133</td>\n",
       "      <td>6.557894</td>\n",
       "    </tr>\n",
       "    <tr>\n",
       "      <th>2</th>\n",
       "      <td>ISIC_0015740</td>\n",
       "      <td>0.000113</td>\n",
       "      <td>0.000049</td>\n",
       "      <td>0.000080</td>\n",
       "      <td>8.069600</td>\n",
       "    </tr>\n",
       "  </tbody>\n",
       "</table>\n",
       "</div>"
      ],
      "text/plain": [
       "        isic_id  target_cb  target_lgb  target_resnet18     target\n",
       "0  ISIC_0015657   0.000182    0.000036         0.001117  12.117594\n",
       "1  ISIC_0015729   0.000023    0.000028         0.000133   6.557894\n",
       "2  ISIC_0015740   0.000113    0.000049         0.000080   8.069600"
      ]
     },
     "execution_count": 11,
     "metadata": {},
     "output_type": "execute_result"
    }
   ],
   "source": [
    "ensemble_preds_df.head()"
   ]
  },
  {
   "cell_type": "code",
   "execution_count": 12,
   "id": "bcd3a580",
   "metadata": {
    "execution": {
     "iopub.execute_input": "2024-08-01T22:33:42.183197Z",
     "iopub.status.busy": "2024-08-01T22:33:42.182886Z",
     "iopub.status.idle": "2024-08-01T22:33:42.192442Z",
     "shell.execute_reply": "2024-08-01T22:33:42.191463Z"
    },
    "papermill": {
     "duration": 0.018501,
     "end_time": "2024-08-01T22:33:42.194310",
     "exception": false,
     "start_time": "2024-08-01T22:33:42.175809",
     "status": "completed"
    },
    "tags": []
   },
   "outputs": [
    {
     "data": {
      "text/plain": [
       "count     3.000000\n",
       "mean      8.915029\n",
       "std       2.874653\n",
       "min       6.557894\n",
       "25%       7.313747\n",
       "50%       8.069600\n",
       "75%      10.093597\n",
       "max      12.117594\n",
       "Name: target, dtype: float64"
      ]
     },
     "execution_count": 12,
     "metadata": {},
     "output_type": "execute_result"
    }
   ],
   "source": [
    "ensemble_preds_df[target_column].describe()"
   ]
  },
  {
   "cell_type": "code",
   "execution_count": 13,
   "id": "74ae9b5d",
   "metadata": {
    "execution": {
     "iopub.execute_input": "2024-08-01T22:33:42.209068Z",
     "iopub.status.busy": "2024-08-01T22:33:42.208762Z",
     "iopub.status.idle": "2024-08-01T22:33:42.218642Z",
     "shell.execute_reply": "2024-08-01T22:33:42.217724Z"
    },
    "papermill": {
     "duration": 0.019045,
     "end_time": "2024-08-01T22:33:42.220682",
     "exception": false,
     "start_time": "2024-08-01T22:33:42.201637",
     "status": "completed"
    },
    "tags": []
   },
   "outputs": [
    {
     "data": {
      "text/html": [
       "<div>\n",
       "<style scoped>\n",
       "    .dataframe tbody tr th:only-of-type {\n",
       "        vertical-align: middle;\n",
       "    }\n",
       "\n",
       "    .dataframe tbody tr th {\n",
       "        vertical-align: top;\n",
       "    }\n",
       "\n",
       "    .dataframe thead th {\n",
       "        text-align: right;\n",
       "    }\n",
       "</style>\n",
       "<table border=\"1\" class=\"dataframe\">\n",
       "  <thead>\n",
       "    <tr style=\"text-align: right;\">\n",
       "      <th></th>\n",
       "      <th>isic_id</th>\n",
       "      <th>target</th>\n",
       "    </tr>\n",
       "  </thead>\n",
       "  <tbody>\n",
       "    <tr>\n",
       "      <th>0</th>\n",
       "      <td>ISIC_0015657</td>\n",
       "      <td>12.117594</td>\n",
       "    </tr>\n",
       "    <tr>\n",
       "      <th>1</th>\n",
       "      <td>ISIC_0015729</td>\n",
       "      <td>6.557894</td>\n",
       "    </tr>\n",
       "    <tr>\n",
       "      <th>2</th>\n",
       "      <td>ISIC_0015740</td>\n",
       "      <td>8.069600</td>\n",
       "    </tr>\n",
       "  </tbody>\n",
       "</table>\n",
       "</div>"
      ],
      "text/plain": [
       "        isic_id     target\n",
       "0  ISIC_0015657  12.117594\n",
       "1  ISIC_0015729   6.557894\n",
       "2  ISIC_0015740   8.069600"
      ]
     },
     "execution_count": 13,
     "metadata": {},
     "output_type": "execute_result"
    }
   ],
   "source": [
    "ensemble_preds_df[[id_column, target_column]].head()"
   ]
  },
  {
   "cell_type": "code",
   "execution_count": 14,
   "id": "cc801cf2",
   "metadata": {
    "execution": {
     "iopub.execute_input": "2024-08-01T22:33:42.235299Z",
     "iopub.status.busy": "2024-08-01T22:33:42.234625Z",
     "iopub.status.idle": "2024-08-01T22:33:42.242269Z",
     "shell.execute_reply": "2024-08-01T22:33:42.241445Z"
    },
    "papermill": {
     "duration": 0.016962,
     "end_time": "2024-08-01T22:33:42.244265",
     "exception": false,
     "start_time": "2024-08-01T22:33:42.227303",
     "status": "completed"
    },
    "tags": []
   },
   "outputs": [],
   "source": [
    "ensemble_preds_df[[id_column, target_column]].to_csv(\"submission.csv\", index=False)"
   ]
  },
  {
   "cell_type": "code",
   "execution_count": null,
   "id": "aa465285",
   "metadata": {
    "papermill": {
     "duration": 0.006175,
     "end_time": "2024-08-01T22:33:42.257031",
     "exception": false,
     "start_time": "2024-08-01T22:33:42.250856",
     "status": "completed"
    },
    "tags": []
   },
   "outputs": [],
   "source": []
  }
 ],
 "metadata": {
  "kaggle": {
   "accelerator": "gpu",
   "dataSources": [
    {
     "databundleVersionId": 9094797,
     "sourceId": 63056,
     "sourceType": "competition"
    },
    {
     "datasetId": 5480389,
     "sourceId": 9083280,
     "sourceType": "datasetVersion"
    },
    {
     "sourceId": 187477024,
     "sourceType": "kernelVersion"
    },
    {
     "sourceId": 189656082,
     "sourceType": "kernelVersion"
    },
    {
     "sourceId": 189785376,
     "sourceType": "kernelVersion"
    },
    {
     "sourceId": 189786208,
     "sourceType": "kernelVersion"
    }
   ],
   "dockerImageVersionId": 30733,
   "isGpuEnabled": true,
   "isInternetEnabled": false,
   "language": "python",
   "sourceType": "notebook"
  },
  "kernelspec": {
   "display_name": "Python 3",
   "language": "python",
   "name": "python3"
  },
  "language_info": {
   "codemirror_mode": {
    "name": "ipython",
    "version": 3
   },
   "file_extension": ".py",
   "mimetype": "text/x-python",
   "name": "python",
   "nbconvert_exporter": "python",
   "pygments_lexer": "ipython3",
   "version": "3.10.13"
  },
  "papermill": {
   "default_parameters": {},
   "duration": 41.207314,
   "end_time": "2024-08-01T22:33:45.373509",
   "environment_variables": {},
   "exception": null,
   "input_path": "__notebook__.ipynb",
   "output_path": "__notebook__.ipynb",
   "parameters": {},
   "start_time": "2024-08-01T22:33:04.166195",
   "version": "2.5.0"
  }
 },
 "nbformat": 4,
 "nbformat_minor": 5
}
