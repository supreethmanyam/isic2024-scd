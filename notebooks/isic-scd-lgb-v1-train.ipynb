{
 "cells": [
  {
   "cell_type": "code",
   "execution_count": 1,
   "id": "951eb233",
   "metadata": {
    "_cell_guid": "b1076dfc-b9ad-4769-8c92-a6c4dae69d19",
    "_uuid": "8f2839f25d086af736a60e9eeb907d3b93b6e0e5",
    "execution": {
     "iopub.execute_input": "2024-07-16T23:10:58.788902Z",
     "iopub.status.busy": "2024-07-16T23:10:58.788485Z",
     "iopub.status.idle": "2024-07-16T23:11:06.490752Z",
     "shell.execute_reply": "2024-07-16T23:11:06.489422Z"
    },
    "papermill": {
     "duration": 7.711359,
     "end_time": "2024-07-16T23:11:06.493515",
     "exception": false,
     "start_time": "2024-07-16T23:10:58.782156",
     "status": "completed"
    },
    "tags": []
   },
   "outputs": [],
   "source": [
    "import json\n",
    "import joblib\n",
    "from pprint import pprint\n",
    "from pathlib import Path\n",
    "\n",
    "import pandas as pd\n",
    "import numpy as np\n",
    "\n",
    "from sklearn.compose import ColumnTransformer\n",
    "from sklearn.preprocessing import OrdinalEncoder, OneHotEncoder\n",
    "\n",
    "import lightgbm as lgb\n",
    "from lightgbm.callback import log_evaluation, early_stopping\n",
    "\n",
    "from isic_helper import DotDict\n",
    "from isic_helper import get_folds\n",
    "from isic_helper import compute_auc, compute_pauc\n",
    "\n",
    "pd.options.display.max_columns = 1000"
   ]
  },
  {
   "cell_type": "code",
   "execution_count": 2,
   "id": "3c3cd0f0",
   "metadata": {
    "execution": {
     "iopub.execute_input": "2024-07-16T23:11:06.504697Z",
     "iopub.status.busy": "2024-07-16T23:11:06.503230Z",
     "iopub.status.idle": "2024-07-16T23:11:06.509445Z",
     "shell.execute_reply": "2024-07-16T23:11:06.508209Z"
    },
    "papermill": {
     "duration": 0.014689,
     "end_time": "2024-07-16T23:11:06.512576",
     "exception": false,
     "start_time": "2024-07-16T23:11:06.497887",
     "status": "completed"
    },
    "tags": []
   },
   "outputs": [],
   "source": [
    "cfg = DotDict()\n",
    "cfg.seed = 2022\n",
    "\n",
    "cfg.models_output_dir = \"models\"\n",
    "cfg.model_name = \"lgb_v1\""
   ]
  },
  {
   "cell_type": "code",
   "execution_count": 3,
   "id": "6b866e24",
   "metadata": {
    "execution": {
     "iopub.execute_input": "2024-07-16T23:11:06.522632Z",
     "iopub.status.busy": "2024-07-16T23:11:06.522208Z",
     "iopub.status.idle": "2024-07-16T23:11:17.017048Z",
     "shell.execute_reply": "2024-07-16T23:11:17.015829Z"
    },
    "papermill": {
     "duration": 10.502881,
     "end_time": "2024-07-16T23:11:17.019701",
     "exception": false,
     "start_time": "2024-07-16T23:11:06.516820",
     "status": "completed"
    },
    "tags": []
   },
   "outputs": [
    {
     "name": "stdout",
     "output_type": "stream",
     "text": [
      "Train data size: (401059, 57)\n",
      "Test data size: (3, 44)\n"
     ]
    }
   ],
   "source": [
    "INPUT_PATH = Path(\"../input/isic-2024-challenge/\")\n",
    "MODELS_OUTPUT_PATH = Path(f\"{cfg.models_output_dir}\")\n",
    "MODELS_OUTPUT_PATH.mkdir(exist_ok=True)\n",
    "\n",
    "train_metadata = pd.read_csv(INPUT_PATH / \"train-metadata.csv\", low_memory=False)\n",
    "test_metadata = pd.read_csv(INPUT_PATH / \"test-metadata.csv\")\n",
    "\n",
    "folds_df = get_folds()\n",
    "train_metadata = train_metadata.merge(folds_df, on=[\"isic_id\", \"patient_id\"], how=\"inner\")\n",
    "print(f\"Train data size: {train_metadata.shape}\")\n",
    "print(f\"Test data size: {test_metadata.shape}\")"
   ]
  },
  {
   "cell_type": "code",
   "execution_count": 4,
   "id": "24ff843b",
   "metadata": {
    "execution": {
     "iopub.execute_input": "2024-07-16T23:11:17.029978Z",
     "iopub.status.busy": "2024-07-16T23:11:17.029587Z",
     "iopub.status.idle": "2024-07-16T23:11:18.981603Z",
     "shell.execute_reply": "2024-07-16T23:11:18.980395Z"
    },
    "papermill": {
     "duration": 1.960422,
     "end_time": "2024-07-16T23:11:18.984405",
     "exception": false,
     "start_time": "2024-07-16T23:11:17.023983",
     "status": "completed"
    },
    "tags": []
   },
   "outputs": [],
   "source": [
    "def stat_features(df, group_cols, value_col, stats):\n",
    "    tmp = df.groupby(group_cols)[value_col].agg(stats)\n",
    "    tmp.columns = [f\"{value_col}_{stat}\" for stat in stats]\n",
    "    tmp.reset_index(inplace=True)\n",
    "    df = df.merge(tmp, on=group_cols, how=\"left\")\n",
    "    df[f\"{value_col}_mean_diff\"] = df[value_col] - df[f\"{value_col}_mean\"]\n",
    "    \n",
    "    new_stat_num_cols = (\n",
    "        [f\"{value_col}_mean_diff\"]\n",
    "    )\n",
    "    return df, new_stat_num_cols\n",
    "\n",
    "\n",
    "def feature_engineering(df):\n",
    "    new_num_cols = []\n",
    "    new_cat_cols = []\n",
    "    \n",
    "    # v1 features\n",
    "    df[\"lesion_size_ratio\"]              = df[\"tbp_lv_minorAxisMM\"] / df[\"clin_size_long_diam_mm\"]\n",
    "    df[\"hue_contrast\"]                   = (df[\"tbp_lv_H\"] - df[\"tbp_lv_Hext\"]).abs()\n",
    "    df[\"normalized_lesion_size\"]         = df[\"clin_size_long_diam_mm\"] / df[\"age_approx\"]\n",
    "    df[\"overall_color_difference\"]       = (df[\"tbp_lv_deltaA\"] + df[\"tbp_lv_deltaB\"] + df[\"tbp_lv_deltaL\"]) / 3\n",
    "    \n",
    "    # v2 features\n",
    "    df[\"max_minus_min_lesion_size\"] = df[\"clin_size_long_diam_mm\"] - df[\"tbp_lv_minorAxisMM\"]\n",
    "    \n",
    "    df[\"tbp_lv_A_diff\"] =  df[\"tbp_lv_Aext\"] - df[\"tbp_lv_A\"]\n",
    "    df, new_stat_num_cols = stat_features(df, [\"patient_id\", \"tbp_lv_location\"], \"tbp_lv_A_diff\", [\"mean\"])\n",
    "    new_num_cols += new_stat_num_cols\n",
    "    \n",
    "    df[\"tbp_lv_B_diff\"] =  df[\"tbp_lv_Bext\"] - df[\"tbp_lv_B\"]\n",
    "    df, new_stat_num_cols = stat_features(df, [\"patient_id\", \"tbp_lv_location\"], \"tbp_lv_B_diff\", [\"mean\"])\n",
    "    new_num_cols += new_stat_num_cols\n",
    "    \n",
    "    df[\"tbp_lv_L_diff\"] =  df[\"tbp_lv_Lext\"] - df[\"tbp_lv_L\"]\n",
    "    df, new_stat_num_cols = stat_features(df, [\"patient_id\", \"tbp_lv_location\"], \"tbp_lv_L_diff\", [\"mean\"])\n",
    "    new_num_cols += new_stat_num_cols\n",
    "    \n",
    "    df[\"tbp_lv_L_std_diff\"] =  df[\"tbp_lv_stdLExt\"] - df[\"tbp_lv_stdL\"]\n",
    "    df, new_stat_num_cols = stat_features(df, [\"patient_id\", \"tbp_lv_location\"], \"tbp_lv_L_std_diff\", [\"mean\"])\n",
    "    new_num_cols += new_stat_num_cols\n",
    "\n",
    "    new_num_cols += [\n",
    "        \"max_minus_min_lesion_size\"\n",
    "    ]\n",
    "    \n",
    "    new_cat_cols += [\n",
    "    ]\n",
    "    \n",
    "    return df, new_num_cols, new_cat_cols\n",
    "\n",
    "train_metadata, new_num_cols, new_cat_cols = feature_engineering(train_metadata.copy())\n",
    "test_metadata, new_num_cols, new_cat_cols = feature_engineering(test_metadata.copy())"
   ]
  },
  {
   "cell_type": "code",
   "execution_count": 5,
   "id": "11b15683",
   "metadata": {
    "execution": {
     "iopub.execute_input": "2024-07-16T23:11:18.995167Z",
     "iopub.status.busy": "2024-07-16T23:11:18.994230Z",
     "iopub.status.idle": "2024-07-16T23:11:19.003964Z",
     "shell.execute_reply": "2024-07-16T23:11:19.002695Z"
    },
    "papermill": {
     "duration": 0.01802,
     "end_time": "2024-07-16T23:11:19.006684",
     "exception": false,
     "start_time": "2024-07-16T23:11:18.988664",
     "status": "completed"
    },
    "tags": []
   },
   "outputs": [
    {
     "data": {
      "text/plain": [
       "Index(['isic_id', 'target', 'patient_id', 'age_approx', 'sex',\n",
       "       'anatom_site_general', 'clin_size_long_diam_mm', 'image_type',\n",
       "       'tbp_tile_type', 'tbp_lv_A', 'tbp_lv_Aext', 'tbp_lv_B', 'tbp_lv_Bext',\n",
       "       'tbp_lv_C', 'tbp_lv_Cext', 'tbp_lv_H', 'tbp_lv_Hext', 'tbp_lv_L',\n",
       "       'tbp_lv_Lext', 'tbp_lv_areaMM2', 'tbp_lv_area_perim_ratio',\n",
       "       'tbp_lv_color_std_mean', 'tbp_lv_deltaA', 'tbp_lv_deltaB',\n",
       "       'tbp_lv_deltaL', 'tbp_lv_deltaLB', 'tbp_lv_deltaLBnorm',\n",
       "       'tbp_lv_eccentricity', 'tbp_lv_location', 'tbp_lv_location_simple',\n",
       "       'tbp_lv_minorAxisMM', 'tbp_lv_nevi_confidence', 'tbp_lv_norm_border',\n",
       "       'tbp_lv_norm_color', 'tbp_lv_perimeterMM',\n",
       "       'tbp_lv_radial_color_std_max', 'tbp_lv_stdL', 'tbp_lv_stdLExt',\n",
       "       'tbp_lv_symm_2axis', 'tbp_lv_symm_2axis_angle', 'tbp_lv_x', 'tbp_lv_y',\n",
       "       'tbp_lv_z', 'attribution', 'copyright_license', 'lesion_id',\n",
       "       'iddx_full', 'iddx_1', 'iddx_2', 'iddx_3', 'iddx_4', 'iddx_5',\n",
       "       'mel_mitotic_index', 'mel_thick_mm', 'tbp_lv_dnn_lesion_confidence',\n",
       "       'final_target', 'fold', 'lesion_size_ratio', 'hue_contrast',\n",
       "       'normalized_lesion_size', 'overall_color_difference',\n",
       "       'max_minus_min_lesion_size', 'tbp_lv_A_diff', 'tbp_lv_A_diff_mean',\n",
       "       'tbp_lv_A_diff_mean_diff', 'tbp_lv_B_diff', 'tbp_lv_B_diff_mean',\n",
       "       'tbp_lv_B_diff_mean_diff', 'tbp_lv_L_diff', 'tbp_lv_L_diff_mean',\n",
       "       'tbp_lv_L_diff_mean_diff', 'tbp_lv_L_std_diff',\n",
       "       'tbp_lv_L_std_diff_mean', 'tbp_lv_L_std_diff_mean_diff'],\n",
       "      dtype='object')"
      ]
     },
     "execution_count": 5,
     "metadata": {},
     "output_type": "execute_result"
    }
   ],
   "source": [
    "train_metadata.columns"
   ]
  },
  {
   "cell_type": "code",
   "execution_count": 6,
   "id": "ef512d4f",
   "metadata": {
    "execution": {
     "iopub.execute_input": "2024-07-16T23:11:19.017130Z",
     "iopub.status.busy": "2024-07-16T23:11:19.016725Z",
     "iopub.status.idle": "2024-07-16T23:11:19.024024Z",
     "shell.execute_reply": "2024-07-16T23:11:19.022841Z"
    },
    "papermill": {
     "duration": 0.015425,
     "end_time": "2024-07-16T23:11:19.026427",
     "exception": false,
     "start_time": "2024-07-16T23:11:19.011002",
     "status": "completed"
    },
    "tags": []
   },
   "outputs": [],
   "source": [
    "id_column = \"isic_id\"\n",
    "target_column = \"final_target\"\n",
    "group_column = \"patient_id\"\n",
    "ord_categorical_features = [\n",
    "    \"sex\", \n",
    "    \"anatom_site_general\", \n",
    "    \"tbp_tile_type\", \n",
    "    \"tbp_lv_location\", \"tbp_lv_location_simple\",\n",
    "    \"attribution\", \"copyright_license\"\n",
    "]\n",
    "ohe_categorical_features = []\n",
    "numerical_features = [\n",
    "    \"age_approx\", \n",
    "    \"clin_size_long_diam_mm\",\n",
    "    \"tbp_lv_A\", \"tbp_lv_Aext\",\n",
    "    \"tbp_lv_B\", \"tbp_lv_Bext\",\n",
    "    \"tbp_lv_C\", \"tbp_lv_Cext\",\n",
    "    \"tbp_lv_H\", \"tbp_lv_Hext\",\n",
    "    \"tbp_lv_L\", \"tbp_lv_Lext\",\n",
    "    \"tbp_lv_areaMM2\",\n",
    "    \"tbp_lv_area_perim_ratio\",\n",
    "    \"tbp_lv_color_std_mean\",\n",
    "    \"tbp_lv_deltaA\", \"tbp_lv_deltaB\", \"tbp_lv_deltaL\", \"tbp_lv_deltaLB\", \"tbp_lv_deltaLBnorm\",\n",
    "    \"tbp_lv_eccentricity\",\n",
    "    \"tbp_lv_minorAxisMM\",\n",
    "    \"tbp_lv_nevi_confidence\",\n",
    "    \"tbp_lv_norm_border\", \"tbp_lv_norm_color\",\n",
    "    \"tbp_lv_perimeterMM\",\n",
    "    \"tbp_lv_radial_color_std_max\",\n",
    "    \"tbp_lv_stdL\", \"tbp_lv_stdLExt\",\n",
    "    \"tbp_lv_symm_2axis\", \"tbp_lv_symm_2axis_angle\",\n",
    "    \"tbp_lv_x\", \"tbp_lv_y\", \"tbp_lv_z\",\n",
    "    \"lesion_size_ratio\", \"hue_contrast\", \"normalized_lesion_size\", \"overall_color_difference\"\n",
    "]"
   ]
  },
  {
   "cell_type": "code",
   "execution_count": 7,
   "id": "452080fc",
   "metadata": {
    "execution": {
     "iopub.execute_input": "2024-07-16T23:11:19.037102Z",
     "iopub.status.busy": "2024-07-16T23:11:19.036686Z",
     "iopub.status.idle": "2024-07-16T23:11:19.045575Z",
     "shell.execute_reply": "2024-07-16T23:11:19.044530Z"
    },
    "papermill": {
     "duration": 0.017365,
     "end_time": "2024-07-16T23:11:19.048132",
     "exception": false,
     "start_time": "2024-07-16T23:11:19.030767",
     "status": "completed"
    },
    "tags": []
   },
   "outputs": [],
   "source": [
    "mixed_encoded_preprocessor = ColumnTransformer(\n",
    "    [\n",
    "        (\"numerical\", \"passthrough\", numerical_features),\n",
    "        (\n",
    "            \"ord_categorical\",\n",
    "            OrdinalEncoder(handle_unknown=\"use_encoded_value\", unknown_value=-2, encoded_missing_value=-1, dtype=int),\n",
    "            ord_categorical_features,\n",
    "        ),\n",
    "        (\n",
    "            \"ohe_categorical\",\n",
    "            OneHotEncoder(sparse_output=False),\n",
    "            ohe_categorical_features\n",
    "        )\n",
    "    ],\n",
    "    verbose_feature_names_out=False,\n",
    "\n",
    ")\n",
    "mixed_encoded_preprocessor.set_output(transform=\"pandas\")\n",
    "\n",
    "with open(f\"{cfg.model_name}_encoder.joblib\", \"wb\") as f:\n",
    "    joblib.dump(mixed_encoded_preprocessor, f)"
   ]
  },
  {
   "cell_type": "code",
   "execution_count": 8,
   "id": "0113b9f1",
   "metadata": {
    "execution": {
     "iopub.execute_input": "2024-07-16T23:11:19.058669Z",
     "iopub.status.busy": "2024-07-16T23:11:19.058158Z",
     "iopub.status.idle": "2024-07-16T23:11:20.491137Z",
     "shell.execute_reply": "2024-07-16T23:11:20.489712Z"
    },
    "papermill": {
     "duration": 1.441236,
     "end_time": "2024-07-16T23:11:20.493767",
     "exception": false,
     "start_time": "2024-07-16T23:11:19.052531",
     "status": "completed"
    },
    "tags": []
   },
   "outputs": [
    {
     "name": "stdout",
     "output_type": "stream",
     "text": [
      "Total number of columns: 45\n"
     ]
    }
   ],
   "source": [
    "train_ids = train_metadata[id_column]\n",
    "groups = train_metadata[group_column]\n",
    "folds = train_metadata[\"fold\"]\n",
    "\n",
    "enc = mixed_encoded_preprocessor.fit(train_metadata)\n",
    "X_train = enc.transform(train_metadata)\n",
    "y_train = train_metadata[target_column]\n",
    "\n",
    "categorical_features = ord_categorical_features[:]\n",
    "for ohe_col in ohe_categorical_features:\n",
    "    categorical_features += [col for col in X_train.columns if col.startswith(ohe_col)]\n",
    "\n",
    "print(f\"Total number of columns: {len(X_train.columns)}\")"
   ]
  },
  {
   "cell_type": "code",
   "execution_count": 9,
   "id": "734d7e36",
   "metadata": {
    "execution": {
     "iopub.execute_input": "2024-07-16T23:11:20.504549Z",
     "iopub.status.busy": "2024-07-16T23:11:20.504125Z",
     "iopub.status.idle": "2024-07-16T23:11:20.511001Z",
     "shell.execute_reply": "2024-07-16T23:11:20.509864Z"
    },
    "papermill": {
     "duration": 0.01533,
     "end_time": "2024-07-16T23:11:20.513754",
     "exception": false,
     "start_time": "2024-07-16T23:11:20.498424",
     "status": "completed"
    },
    "tags": []
   },
   "outputs": [],
   "source": [
    "def pauc_80(preds, data):\n",
    "    score_value = compute_pauc(data.get_label(), preds, min_tpr=0.8)   \n",
    "    return 'pauc_80', score_value, True\n",
    "\n",
    "\n",
    "params = {\n",
    "    \"objective\": \"binary\",\n",
    "    \"metric\": \"auc\",\n",
    "    \"num_leaves\": 63,\n",
    "    \"learning_rate\": 0.01,\n",
    "    \"bagging_freq\": 5,\n",
    "    \"bagging_fraction\": 0.6,\n",
    "    \"bagging_seed\": cfg.seed,\n",
    "    \"feature_fraction\": 0.3,\n",
    "    \"feature_fraction_seed\": cfg.seed,\n",
    "    \"lambda_l1\": 0.95,\n",
    "    \"lambda_l2\": 0.95,\n",
    "    \"verbosity\": -1\n",
    "}\n",
    "num_rounds = 2500\n",
    "es_rounds = 200\n",
    "log_rounds = 50"
   ]
  },
  {
   "cell_type": "code",
   "execution_count": 10,
   "id": "71a952e7",
   "metadata": {
    "execution": {
     "iopub.execute_input": "2024-07-16T23:11:20.524983Z",
     "iopub.status.busy": "2024-07-16T23:11:20.524583Z",
     "iopub.status.idle": "2024-07-16T23:19:48.349849Z",
     "shell.execute_reply": "2024-07-16T23:19:48.348011Z"
    },
    "papermill": {
     "duration": 507.834458,
     "end_time": "2024-07-16T23:19:48.352667",
     "exception": false,
     "start_time": "2024-07-16T23:11:20.518209",
     "status": "completed"
    },
    "tags": []
   },
   "outputs": [
    {
     "name": "stdout",
     "output_type": "stream",
     "text": [
      "Running fold: 1\n",
      "[LightGBM] [Warning] Met negative value in categorical features, will convert it to NaN\n",
      "Training until validation scores don't improve for 200 rounds\n",
      "[50]\tvalid_0's auc: 0.942246\tvalid_0's pauc_80: 0.156836\n",
      "[100]\tvalid_0's auc: 0.944884\tvalid_0's pauc_80: 0.158535\n",
      "[150]\tvalid_0's auc: 0.944898\tvalid_0's pauc_80: 0.157837\n",
      "[200]\tvalid_0's auc: 0.945828\tvalid_0's pauc_80: 0.158675\n",
      "Early stopping, best iteration is:\n",
      "[18]\tvalid_0's auc: 0.940677\tvalid_0's pauc_80: 0.159405\n",
      "\n",
      "\n",
      "Running fold: 2\n",
      "[LightGBM] [Warning] Met negative value in categorical features, will convert it to NaN\n",
      "[LightGBM] [Warning] Met negative value in categorical features, will convert it to NaN\n",
      "Training until validation scores don't improve for 200 rounds\n",
      "[50]\tvalid_0's auc: 0.927743\tvalid_0's pauc_80: 0.144444\n",
      "[100]\tvalid_0's auc: 0.932635\tvalid_0's pauc_80: 0.148041\n",
      "[150]\tvalid_0's auc: 0.933829\tvalid_0's pauc_80: 0.148644\n",
      "[200]\tvalid_0's auc: 0.937231\tvalid_0's pauc_80: 0.151834\n",
      "[250]\tvalid_0's auc: 0.937718\tvalid_0's pauc_80: 0.152422\n",
      "[300]\tvalid_0's auc: 0.938078\tvalid_0's pauc_80: 0.152416\n",
      "[350]\tvalid_0's auc: 0.939588\tvalid_0's pauc_80: 0.153732\n",
      "[400]\tvalid_0's auc: 0.942101\tvalid_0's pauc_80: 0.156261\n",
      "[450]\tvalid_0's auc: 0.943838\tvalid_0's pauc_80: 0.157653\n",
      "[500]\tvalid_0's auc: 0.944672\tvalid_0's pauc_80: 0.158508\n",
      "[550]\tvalid_0's auc: 0.945378\tvalid_0's pauc_80: 0.159167\n",
      "[600]\tvalid_0's auc: 0.945828\tvalid_0's pauc_80: 0.159507\n",
      "[650]\tvalid_0's auc: 0.946345\tvalid_0's pauc_80: 0.160149\n",
      "[700]\tvalid_0's auc: 0.947211\tvalid_0's pauc_80: 0.160833\n",
      "[750]\tvalid_0's auc: 0.947265\tvalid_0's pauc_80: 0.160934\n",
      "[800]\tvalid_0's auc: 0.948354\tvalid_0's pauc_80: 0.162091\n",
      "[850]\tvalid_0's auc: 0.94896\tvalid_0's pauc_80: 0.162643\n",
      "[900]\tvalid_0's auc: 0.948848\tvalid_0's pauc_80: 0.16259\n",
      "[950]\tvalid_0's auc: 0.948903\tvalid_0's pauc_80: 0.162635\n",
      "[1000]\tvalid_0's auc: 0.94886\tvalid_0's pauc_80: 0.162635\n",
      "[1050]\tvalid_0's auc: 0.948939\tvalid_0's pauc_80: 0.162836\n",
      "[1100]\tvalid_0's auc: 0.948684\tvalid_0's pauc_80: 0.162608\n",
      "[1150]\tvalid_0's auc: 0.949086\tvalid_0's pauc_80: 0.163002\n",
      "[1200]\tvalid_0's auc: 0.949288\tvalid_0's pauc_80: 0.163229\n",
      "[1250]\tvalid_0's auc: 0.949162\tvalid_0's pauc_80: 0.163144\n",
      "[1300]\tvalid_0's auc: 0.949387\tvalid_0's pauc_80: 0.163347\n",
      "[1350]\tvalid_0's auc: 0.949528\tvalid_0's pauc_80: 0.163471\n",
      "[1400]\tvalid_0's auc: 0.949557\tvalid_0's pauc_80: 0.16349\n",
      "[1450]\tvalid_0's auc: 0.949719\tvalid_0's pauc_80: 0.163656\n",
      "[1500]\tvalid_0's auc: 0.949459\tvalid_0's pauc_80: 0.163366\n",
      "[1550]\tvalid_0's auc: 0.94938\tvalid_0's pauc_80: 0.163322\n",
      "[1600]\tvalid_0's auc: 0.949435\tvalid_0's pauc_80: 0.163421\n",
      "[1650]\tvalid_0's auc: 0.94976\tvalid_0's pauc_80: 0.163838\n",
      "Early stopping, best iteration is:\n",
      "[1454]\tvalid_0's auc: 0.94983\tvalid_0's pauc_80: 0.163742\n",
      "\n",
      "\n",
      "Running fold: 3\n",
      "[LightGBM] [Warning] Met negative value in categorical features, will convert it to NaN\n",
      "Training until validation scores don't improve for 200 rounds\n",
      "[50]\tvalid_0's auc: 0.937227\tvalid_0's pauc_80: 0.14848\n",
      "[100]\tvalid_0's auc: 0.935973\tvalid_0's pauc_80: 0.14639\n",
      "[150]\tvalid_0's auc: 0.939232\tvalid_0's pauc_80: 0.149475\n",
      "[200]\tvalid_0's auc: 0.942954\tvalid_0's pauc_80: 0.153029\n",
      "[250]\tvalid_0's auc: 0.944565\tvalid_0's pauc_80: 0.154489\n",
      "[300]\tvalid_0's auc: 0.945463\tvalid_0's pauc_80: 0.155211\n",
      "[350]\tvalid_0's auc: 0.944661\tvalid_0's pauc_80: 0.15449\n",
      "[400]\tvalid_0's auc: 0.944788\tvalid_0's pauc_80: 0.154604\n",
      "[450]\tvalid_0's auc: 0.945362\tvalid_0's pauc_80: 0.155239\n",
      "[500]\tvalid_0's auc: 0.945938\tvalid_0's pauc_80: 0.155738\n",
      "Early stopping, best iteration is:\n",
      "[305]\tvalid_0's auc: 0.946281\tvalid_0's pauc_80: 0.155984\n",
      "\n",
      "\n",
      "Running fold: 4\n",
      "[LightGBM] [Warning] Met negative value in categorical features, will convert it to NaN\n",
      "Training until validation scores don't improve for 200 rounds\n",
      "[50]\tvalid_0's auc: 0.944152\tvalid_0's pauc_80: 0.152542\n",
      "[100]\tvalid_0's auc: 0.944136\tvalid_0's pauc_80: 0.151884\n",
      "[150]\tvalid_0's auc: 0.945724\tvalid_0's pauc_80: 0.152769\n",
      "[200]\tvalid_0's auc: 0.947292\tvalid_0's pauc_80: 0.154385\n",
      "[250]\tvalid_0's auc: 0.948873\tvalid_0's pauc_80: 0.155822\n",
      "[300]\tvalid_0's auc: 0.949984\tvalid_0's pauc_80: 0.156903\n",
      "[350]\tvalid_0's auc: 0.951775\tvalid_0's pauc_80: 0.158621\n",
      "[400]\tvalid_0's auc: 0.953369\tvalid_0's pauc_80: 0.160052\n",
      "[450]\tvalid_0's auc: 0.95406\tvalid_0's pauc_80: 0.160789\n",
      "[500]\tvalid_0's auc: 0.954936\tvalid_0's pauc_80: 0.161544\n",
      "[550]\tvalid_0's auc: 0.955341\tvalid_0's pauc_80: 0.161996\n",
      "[600]\tvalid_0's auc: 0.95615\tvalid_0's pauc_80: 0.162819\n",
      "[650]\tvalid_0's auc: 0.956934\tvalid_0's pauc_80: 0.163594\n",
      "[700]\tvalid_0's auc: 0.95734\tvalid_0's pauc_80: 0.163998\n",
      "[750]\tvalid_0's auc: 0.958081\tvalid_0's pauc_80: 0.164765\n",
      "[800]\tvalid_0's auc: 0.958481\tvalid_0's pauc_80: 0.165214\n",
      "[850]\tvalid_0's auc: 0.959316\tvalid_0's pauc_80: 0.165952\n",
      "[900]\tvalid_0's auc: 0.959951\tvalid_0's pauc_80: 0.166644\n",
      "[950]\tvalid_0's auc: 0.96022\tvalid_0's pauc_80: 0.166857\n",
      "[1000]\tvalid_0's auc: 0.960646\tvalid_0's pauc_80: 0.167437\n",
      "[1050]\tvalid_0's auc: 0.960703\tvalid_0's pauc_80: 0.167506\n",
      "[1100]\tvalid_0's auc: 0.961085\tvalid_0's pauc_80: 0.167898\n",
      "[1150]\tvalid_0's auc: 0.961329\tvalid_0's pauc_80: 0.168193\n",
      "[1200]\tvalid_0's auc: 0.961667\tvalid_0's pauc_80: 0.168576\n",
      "[1250]\tvalid_0's auc: 0.961958\tvalid_0's pauc_80: 0.168844\n",
      "[1300]\tvalid_0's auc: 0.962002\tvalid_0's pauc_80: 0.16891\n",
      "[1350]\tvalid_0's auc: 0.962085\tvalid_0's pauc_80: 0.169042\n",
      "[1400]\tvalid_0's auc: 0.962026\tvalid_0's pauc_80: 0.168953\n",
      "[1450]\tvalid_0's auc: 0.962506\tvalid_0's pauc_80: 0.169367\n",
      "[1500]\tvalid_0's auc: 0.962505\tvalid_0's pauc_80: 0.169366\n",
      "[1550]\tvalid_0's auc: 0.962654\tvalid_0's pauc_80: 0.169603\n",
      "[1600]\tvalid_0's auc: 0.962781\tvalid_0's pauc_80: 0.169757\n",
      "[1650]\tvalid_0's auc: 0.962456\tvalid_0's pauc_80: 0.169479\n",
      "[1700]\tvalid_0's auc: 0.962609\tvalid_0's pauc_80: 0.169653\n",
      "[1750]\tvalid_0's auc: 0.962964\tvalid_0's pauc_80: 0.169968\n",
      "[1800]\tvalid_0's auc: 0.963168\tvalid_0's pauc_80: 0.170153\n",
      "[1850]\tvalid_0's auc: 0.962973\tvalid_0's pauc_80: 0.170039\n",
      "[1900]\tvalid_0's auc: 0.96316\tvalid_0's pauc_80: 0.170227\n",
      "[1950]\tvalid_0's auc: 0.963225\tvalid_0's pauc_80: 0.170354\n",
      "[2000]\tvalid_0's auc: 0.963343\tvalid_0's pauc_80: 0.170435\n",
      "[2050]\tvalid_0's auc: 0.963567\tvalid_0's pauc_80: 0.170681\n",
      "[2100]\tvalid_0's auc: 0.963705\tvalid_0's pauc_80: 0.170859\n",
      "[2150]\tvalid_0's auc: 0.963647\tvalid_0's pauc_80: 0.170776\n",
      "[2200]\tvalid_0's auc: 0.963711\tvalid_0's pauc_80: 0.170803\n",
      "[2250]\tvalid_0's auc: 0.963762\tvalid_0's pauc_80: 0.170835\n",
      "[2300]\tvalid_0's auc: 0.963522\tvalid_0's pauc_80: 0.170616\n",
      "Early stopping, best iteration is:\n",
      "[2109]\tvalid_0's auc: 0.963733\tvalid_0's pauc_80: 0.1709\n",
      "\n",
      "\n",
      "Running fold: 5\n",
      "[LightGBM] [Warning] Met negative value in categorical features, will convert it to NaN\n",
      "[LightGBM] [Warning] Met negative value in categorical features, will convert it to NaN\n",
      "Training until validation scores don't improve for 200 rounds\n",
      "[50]\tvalid_0's auc: 0.935248\tvalid_0's pauc_80: 0.150934\n",
      "[100]\tvalid_0's auc: 0.94331\tvalid_0's pauc_80: 0.158069\n",
      "[150]\tvalid_0's auc: 0.944858\tvalid_0's pauc_80: 0.159525\n",
      "[200]\tvalid_0's auc: 0.947436\tvalid_0's pauc_80: 0.161503\n",
      "[250]\tvalid_0's auc: 0.94803\tvalid_0's pauc_80: 0.161232\n",
      "[300]\tvalid_0's auc: 0.948973\tvalid_0's pauc_80: 0.161827\n",
      "[350]\tvalid_0's auc: 0.950094\tvalid_0's pauc_80: 0.162738\n",
      "[400]\tvalid_0's auc: 0.949757\tvalid_0's pauc_80: 0.162225\n",
      "[450]\tvalid_0's auc: 0.951323\tvalid_0's pauc_80: 0.1636\n",
      "[500]\tvalid_0's auc: 0.951164\tvalid_0's pauc_80: 0.163166\n",
      "[550]\tvalid_0's auc: 0.950694\tvalid_0's pauc_80: 0.16269\n",
      "[600]\tvalid_0's auc: 0.95011\tvalid_0's pauc_80: 0.161928\n",
      "[650]\tvalid_0's auc: 0.9494\tvalid_0's pauc_80: 0.161267\n",
      "Early stopping, best iteration is:\n",
      "[450]\tvalid_0's auc: 0.951323\tvalid_0's pauc_80: 0.1636\n",
      "\n",
      "\n",
      "Val AUC scores:\n",
      "{'fold_1': 0.9406773206079394,\n",
      " 'fold_2': 0.9498300282923539,\n",
      " 'fold_3': 0.9462809337210318,\n",
      " 'fold_4': 0.9637325130099462,\n",
      " 'fold_5': 0.9513232328177482}\n",
      "Val PAUC scores:\n",
      "{'fold_1': 0.1594050869703814,\n",
      " 'fold_2': 0.16374153421224572,\n",
      " 'fold_3': 0.15598426326889714,\n",
      " 'fold_4': 0.1709004629918508,\n",
      " 'fold_5': 0.1636003221567221}\n",
      "CV AUC OOF: 0.9186160037176777\n",
      "CV PAUC OOF: 0.13174947173515886\n",
      "CV AUC AVG: 0.9503688056898039\n",
      "CV PAUC AVG: 0.16272633392001942\n",
      "CV AUC STD: 0.007621357699124993\n",
      "CV PAUC STD: 0.005001941045622075\n",
      "Index(['age_approx', 'clin_size_long_diam_mm', 'tbp_lv_A', 'tbp_lv_Aext',\n",
      "       'tbp_lv_B', 'tbp_lv_Bext', 'tbp_lv_C', 'tbp_lv_Cext', 'tbp_lv_H',\n",
      "       'tbp_lv_Hext', 'tbp_lv_L', 'tbp_lv_Lext', 'tbp_lv_areaMM2',\n",
      "       'tbp_lv_area_perim_ratio', 'tbp_lv_color_std_mean', 'tbp_lv_deltaA',\n",
      "       'tbp_lv_deltaB', 'tbp_lv_deltaL', 'tbp_lv_deltaLB',\n",
      "       'tbp_lv_deltaLBnorm', 'tbp_lv_eccentricity', 'tbp_lv_minorAxisMM',\n",
      "       'tbp_lv_nevi_confidence', 'tbp_lv_norm_border', 'tbp_lv_norm_color',\n",
      "       'tbp_lv_perimeterMM', 'tbp_lv_radial_color_std_max', 'tbp_lv_stdL',\n",
      "       'tbp_lv_stdLExt', 'tbp_lv_symm_2axis', 'tbp_lv_symm_2axis_angle',\n",
      "       'tbp_lv_x', 'tbp_lv_y', 'tbp_lv_z', 'lesion_size_ratio', 'hue_contrast',\n",
      "       'normalized_lesion_size', 'overall_color_difference', 'sex',\n",
      "       'anatom_site_general', 'tbp_tile_type', 'tbp_lv_location',\n",
      "       'tbp_lv_location_simple', 'attribution', 'copyright_license'],\n",
      "      dtype='object')\n"
     ]
    }
   ],
   "source": [
    "best_num_rounds = {}\n",
    "val_auc_scores = {}\n",
    "val_pauc_scores = {}\n",
    "all_folds = np.sort(folds.unique())\n",
    "oof_predictions = np.zeros(X_train.shape[0])\n",
    "for fold in all_folds:\n",
    "    print(f\"Running fold: {fold}\")\n",
    "    dev_index = folds[folds != fold].index\n",
    "    val_index = folds[folds == fold].index\n",
    "    \n",
    "    X_dev = X_train.loc[dev_index, :]\n",
    "    y_dev = y_train[dev_index]\n",
    "    \n",
    "    X_val = X_train.loc[val_index, :]\n",
    "    y_val = y_train[val_index]\n",
    "    \n",
    "    lgb_dataset_dev = lgb.Dataset(X_dev, label=y_dev, categorical_feature=categorical_features, free_raw_data=False)\n",
    "    lgb_dataset_val = lgb.Dataset(X_val, label=y_val, categorical_feature=categorical_features, free_raw_data=False)\n",
    "    \n",
    "    model = lgb.train(\n",
    "        params,\n",
    "        lgb_dataset_dev,\n",
    "        num_boost_round=num_rounds,\n",
    "        valid_sets=[lgb_dataset_val],\n",
    "        feval=pauc_80,\n",
    "        callbacks=[early_stopping(stopping_rounds=es_rounds), log_evaluation(log_rounds)],\n",
    "    )\n",
    "    \n",
    "    model.save_model(MODELS_OUTPUT_PATH / f\"{cfg.model_name}_fold_{fold}.txt\")\n",
    "    best_num_rounds[f\"fold_{fold}\"] = model.best_iteration\n",
    "    val_scores = dict(model.best_score[\"valid_0\"])\n",
    "    \n",
    "    val_auc_scores[f\"fold_{fold}\"] = val_scores[\"auc\"]\n",
    "    val_pauc_scores[f\"fold_{fold}\"] = val_scores[\"pauc_80\"]\n",
    "    \n",
    "    val_preds = model.predict(X_val, num_iteration=model.best_iteration)\n",
    "    oof_predictions[val_index] = val_preds\n",
    "    print(\"\\n\")\n",
    "\n",
    "print(\"Val AUC scores:\")\n",
    "pprint(val_auc_scores)\n",
    "print(\"Val PAUC scores:\")\n",
    "pprint(val_pauc_scores)\n",
    "\n",
    "oof_preds_df = pd.DataFrame({\n",
    "    id_column: train_ids,\n",
    "    group_column: groups,\n",
    "    \"fold\": folds,\n",
    "    target_column: y_train,\n",
    "    f\"oof_{cfg.model_name}\": oof_predictions\n",
    "})\n",
    "oof_preds_df.to_csv(f\"oof_preds_{cfg.model_name}.csv\", index=False)\n",
    "\n",
    "cv_auc_oof = compute_auc(oof_preds_df[target_column], oof_preds_df[f\"oof_{cfg.model_name}\"])\n",
    "cv_pauc_oof = compute_pauc(oof_preds_df[target_column], oof_preds_df[f\"oof_{cfg.model_name}\"], min_tpr=0.8)\n",
    "\n",
    "cv_auc_avg = np.mean(list(val_auc_scores.values()))\n",
    "cv_pauc_avg = np.mean(list(val_pauc_scores.values()))\n",
    "\n",
    "cv_auc_std = np.std(list(val_auc_scores.values()))\n",
    "cv_pauc_std = np.std(list(val_pauc_scores.values()))\n",
    "\n",
    "print(f\"CV AUC OOF: {cv_auc_oof}\")\n",
    "print(f\"CV PAUC OOF: {cv_pauc_oof}\")\n",
    "print(f\"CV AUC AVG: {cv_auc_avg}\")\n",
    "print(f\"CV PAUC AVG: {cv_pauc_avg}\")\n",
    "print(f\"CV AUC STD: {cv_auc_std}\")\n",
    "print(f\"CV PAUC STD: {cv_pauc_std}\")\n",
    "print(X_train.columns)"
   ]
  },
  {
   "cell_type": "code",
   "execution_count": 11,
   "id": "f5722b43",
   "metadata": {
    "execution": {
     "iopub.execute_input": "2024-07-16T23:19:48.381880Z",
     "iopub.status.busy": "2024-07-16T23:19:48.381346Z",
     "iopub.status.idle": "2024-07-16T23:19:49.365547Z",
     "shell.execute_reply": "2024-07-16T23:19:49.363913Z"
    },
    "papermill": {
     "duration": 1.003713,
     "end_time": "2024-07-16T23:19:49.368922",
     "exception": false,
     "start_time": "2024-07-16T23:19:48.365209",
     "status": "completed"
    },
    "tags": []
   },
   "outputs": [
    {
     "data": {
      "text/plain": [
       "<Axes: >"
      ]
     },
     "execution_count": 11,
     "metadata": {},
     "output_type": "execute_result"
    },
    {
     "data": {
      "image/png": "[encoded data removed]",
      "text/plain": [
       "<Figure size 1000x1500 with 1 Axes>"
      ]
     },
     "metadata": {},
     "output_type": "display_data"
    }
   ],
   "source": [
    "feature_importances = 0\n",
    "for fold in all_folds:\n",
    "    model = lgb.Booster(model_file=MODELS_OUTPUT_PATH / f\"{cfg.model_name}_fold_{fold}.txt\")\n",
    "    if fold == 1:\n",
    "        feature_names = model.feature_name()\n",
    "    feature_importances += model.feature_importance(importance_type=\"gain\")\n",
    "feature_importances /= len(all_folds)\n",
    "\n",
    "imp = pd.DataFrame.from_dict(dict(zip(feature_names, feature_importances)), \n",
    "                             orient=\"index\", columns=[\"imp\"]).sort_values(\"imp\", ascending=True)\n",
    "imp.plot(kind=\"barh\", figsize=(10, 15))"
   ]
  },
  {
   "cell_type": "code",
   "execution_count": 12,
   "id": "2d611585",
   "metadata": {
    "execution": {
     "iopub.execute_input": "2024-07-16T23:19:49.402200Z",
     "iopub.status.busy": "2024-07-16T23:19:49.401710Z",
     "iopub.status.idle": "2024-07-16T23:19:49.414964Z",
     "shell.execute_reply": "2024-07-16T23:19:49.413661Z"
    },
    "papermill": {
     "duration": 0.033823,
     "end_time": "2024-07-16T23:19:49.418765",
     "exception": false,
     "start_time": "2024-07-16T23:19:49.384942",
     "status": "completed"
    },
    "tags": []
   },
   "outputs": [],
   "source": [
    "metadata = {\n",
    "    \"params\": params,\n",
    "    \"num_rounds\": num_rounds,\n",
    "    \"es_rounds\": es_rounds,\n",
    "    \"best_num_rounds\": best_num_rounds,\n",
    "    \"val_auc_scores\": val_auc_scores,\n",
    "    \"val_pauc_scores\": val_pauc_scores,\n",
    "    \"cv_auc_oof\": cv_auc_oof,\n",
    "    \"cv_pauc_oof\": cv_pauc_oof,\n",
    "    \"cv_auc_avg\": cv_auc_avg,\n",
    "    \"cv_pauc_avg\": cv_pauc_avg\n",
    "}\n",
    "\n",
    "with open(f\"{cfg.model_name}_run_metadata.json\", \"w\") as f:\n",
    "    json.dump(metadata, f)"
   ]
  },
  {
   "cell_type": "code",
   "execution_count": null,
   "id": "f130bdff",
   "metadata": {
    "papermill": {
     "duration": 0.015083,
     "end_time": "2024-07-16T23:19:49.449778",
     "exception": false,
     "start_time": "2024-07-16T23:19:49.434695",
     "status": "completed"
    },
    "tags": []
   },
   "outputs": [],
   "source": []
  }
 ],
 "metadata": {
  "kaggle": {
   "accelerator": "none",
   "dataSources": [
    {
     "databundleVersionId": 9094797,
     "sourceId": 63056,
     "sourceType": "competition"
    },
    {
     "sourceId": 187439867,
     "sourceType": "kernelVersion"
    },
    {
     "sourceId": 187477024,
     "sourceType": "kernelVersion"
    }
   ],
   "dockerImageVersionId": 30732,
   "isGpuEnabled": false,
   "isInternetEnabled": false,
   "language": "python",
   "sourceType": "notebook"
  },
  "kernelspec": {
   "display_name": "Python 3",
   "language": "python",
   "name": "python3"
  },
  "language_info": {
   "codemirror_mode": {
    "name": "ipython",
    "version": 3
   },
   "file_extension": ".py",
   "mimetype": "text/x-python",
   "name": "python",
   "nbconvert_exporter": "python",
   "pygments_lexer": "ipython3",
   "version": "3.10.13"
  },
  "papermill": {
   "default_parameters": {},
   "duration": 535.474141,
   "end_time": "2024-07-16T23:19:50.793102",
   "environment_variables": {},
   "exception": null,
   "input_path": "__notebook__.ipynb",
   "output_path": "__notebook__.ipynb",
   "parameters": {},
   "start_time": "2024-07-16T23:10:55.318961",
   "version": "2.5.0"
  }
 },
 "nbformat": 4,
 "nbformat_minor": 5
}
