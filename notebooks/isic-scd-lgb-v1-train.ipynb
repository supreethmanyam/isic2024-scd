{
 "cells": [
  {
   "cell_type": "code",
   "execution_count": 1,
   "id": "e940c4c9",
   "metadata": {
    "_cell_guid": "b1076dfc-b9ad-4769-8c92-a6c4dae69d19",
    "_uuid": "8f2839f25d086af736a60e9eeb907d3b93b6e0e5",
    "execution": {
     "iopub.execute_input": "2024-07-16T23:41:16.716211Z",
     "iopub.status.busy": "2024-07-16T23:41:16.715896Z",
     "iopub.status.idle": "2024-07-16T23:41:22.023397Z",
     "shell.execute_reply": "2024-07-16T23:41:22.022353Z"
    },
    "papermill": {
     "duration": 5.314678,
     "end_time": "2024-07-16T23:41:22.025638",
     "exception": false,
     "start_time": "2024-07-16T23:41:16.710960",
     "status": "completed"
    },
    "tags": []
   },
   "outputs": [],
   "source": [
    "import json\n",
    "import joblib\n",
    "from pprint import pprint\n",
    "from pathlib import Path\n",
    "\n",
    "import pandas as pd\n",
    "import numpy as np\n",
    "\n",
    "from sklearn.compose import ColumnTransformer\n",
    "from sklearn.preprocessing import OrdinalEncoder, OneHotEncoder\n",
    "\n",
    "import lightgbm as lgb\n",
    "from lightgbm.callback import log_evaluation, early_stopping\n",
    "\n",
    "from isic_helper import DotDict\n",
    "from isic_helper import get_folds\n",
    "from isic_helper import compute_auc, compute_pauc\n",
    "\n",
    "pd.options.display.max_columns = 1000"
   ]
  },
  {
   "cell_type": "code",
   "execution_count": 2,
   "id": "c639998e",
   "metadata": {
    "execution": {
     "iopub.execute_input": "2024-07-16T23:41:22.035035Z",
     "iopub.status.busy": "2024-07-16T23:41:22.033987Z",
     "iopub.status.idle": "2024-07-16T23:41:22.038294Z",
     "shell.execute_reply": "2024-07-16T23:41:22.037593Z"
    },
    "papermill": {
     "duration": 0.010393,
     "end_time": "2024-07-16T23:41:22.040002",
     "exception": false,
     "start_time": "2024-07-16T23:41:22.029609",
     "status": "completed"
    },
    "tags": []
   },
   "outputs": [],
   "source": [
    "cfg = DotDict()\n",
    "cfg.seed = 2022\n",
    "\n",
    "cfg.models_output_dir = \"models\"\n",
    "cfg.model_name = \"lgb_v1\""
   ]
  },
  {
   "cell_type": "code",
   "execution_count": 3,
   "id": "45557baa",
   "metadata": {
    "execution": {
     "iopub.execute_input": "2024-07-16T23:41:22.047816Z",
     "iopub.status.busy": "2024-07-16T23:41:22.047457Z",
     "iopub.status.idle": "2024-07-16T23:41:30.293170Z",
     "shell.execute_reply": "2024-07-16T23:41:30.292010Z"
    },
    "papermill": {
     "duration": 8.251702,
     "end_time": "2024-07-16T23:41:30.295029",
     "exception": false,
     "start_time": "2024-07-16T23:41:22.043327",
     "status": "completed"
    },
    "tags": []
   },
   "outputs": [
    {
     "name": "stdout",
     "output_type": "stream",
     "text": [
      "Train data size: (401059, 57)\n",
      "Test data size: (3, 44)\n"
     ]
    }
   ],
   "source": [
    "INPUT_PATH = Path(\"../input/isic-2024-challenge/\")\n",
    "MODELS_OUTPUT_PATH = Path(f\"{cfg.models_output_dir}\")\n",
    "MODELS_OUTPUT_PATH.mkdir(exist_ok=True)\n",
    "\n",
    "train_metadata = pd.read_csv(INPUT_PATH / \"train-metadata.csv\", low_memory=False)\n",
    "test_metadata = pd.read_csv(INPUT_PATH / \"test-metadata.csv\")\n",
    "\n",
    "folds_df = get_folds()\n",
    "train_metadata = train_metadata.merge(folds_df, on=[\"isic_id\", \"patient_id\"], how=\"inner\")\n",
    "print(f\"Train data size: {train_metadata.shape}\")\n",
    "print(f\"Test data size: {test_metadata.shape}\")"
   ]
  },
  {
   "cell_type": "code",
   "execution_count": 4,
   "id": "8bf0848c",
   "metadata": {
    "execution": {
     "iopub.execute_input": "2024-07-16T23:41:30.302705Z",
     "iopub.status.busy": "2024-07-16T23:41:30.302401Z",
     "iopub.status.idle": "2024-07-16T23:41:31.764834Z",
     "shell.execute_reply": "2024-07-16T23:41:31.763867Z"
    },
    "papermill": {
     "duration": 1.468738,
     "end_time": "2024-07-16T23:41:31.767121",
     "exception": false,
     "start_time": "2024-07-16T23:41:30.298383",
     "status": "completed"
    },
    "tags": []
   },
   "outputs": [],
   "source": [
    "def stat_features(df, group_cols, value_col, stats):\n",
    "    tmp = df.groupby(group_cols)[value_col].agg(stats)\n",
    "    tmp.columns = [f\"{value_col}_{stat}\" for stat in stats]\n",
    "    tmp.reset_index(inplace=True)\n",
    "    df = df.merge(tmp, on=group_cols, how=\"left\")\n",
    "    df[f\"{value_col}_mean_diff\"] = df[value_col] - df[f\"{value_col}_mean\"]\n",
    "    return df\n",
    "\n",
    "\n",
    "def feature_engineering(df):\n",
    "    # v1 features\n",
    "    df[\"lesion_size_ratio\"]              = df[\"tbp_lv_minorAxisMM\"] / df[\"clin_size_long_diam_mm\"]\n",
    "    df[\"hue_contrast\"]                   = (df[\"tbp_lv_H\"] - df[\"tbp_lv_Hext\"]).abs()\n",
    "    df[\"normalized_lesion_size\"]         = df[\"clin_size_long_diam_mm\"] / df[\"age_approx\"]\n",
    "    df[\"overall_color_difference\"]       = (df[\"tbp_lv_deltaA\"] + df[\"tbp_lv_deltaB\"] + df[\"tbp_lv_deltaL\"]) / 3\n",
    "    patient_num_images = df.groupby(\"patient_id\", as_index=False)[\"isic_id\"].count().rename(columns={\"isic_id\": \"num_images\"})\n",
    "    df = df.merge(patient_num_images, on=\"patient_id\", how=\"left\")\n",
    "    \n",
    "    # v2 features\n",
    "    df[\"max_minus_min_lesion_size\"] = df[\"clin_size_long_diam_mm\"] - df[\"tbp_lv_minorAxisMM\"]\n",
    "    \n",
    "    df[\"tbp_lv_A_diff\"] =  df[\"tbp_lv_Aext\"] - df[\"tbp_lv_A\"]\n",
    "    df = stat_features(df, [\"patient_id\", \"tbp_lv_location\"], \"tbp_lv_A_diff\", [\"mean\"])\n",
    "    \n",
    "    df[\"tbp_lv_B_diff\"] =  df[\"tbp_lv_Bext\"] - df[\"tbp_lv_B\"]\n",
    "    df = stat_features(df, [\"patient_id\", \"tbp_lv_location\"], \"tbp_lv_B_diff\", [\"mean\"])\n",
    "    \n",
    "    df[\"tbp_lv_L_diff\"] =  df[\"tbp_lv_Lext\"] - df[\"tbp_lv_L\"]\n",
    "    df = stat_features(df, [\"patient_id\", \"tbp_lv_location\"], \"tbp_lv_L_diff\", [\"mean\"])\n",
    "    \n",
    "    df[\"tbp_lv_L_std_diff\"] =  df[\"tbp_lv_stdLExt\"] - df[\"tbp_lv_stdL\"]\n",
    "    df = stat_features(df, [\"patient_id\", \"tbp_lv_location\"], \"tbp_lv_L_std_diff\", [\"mean\"])\n",
    "    \n",
    "    return df\n",
    "\n",
    "train_metadata = feature_engineering(train_metadata.copy())\n",
    "test_metadata = feature_engineering(test_metadata.copy())"
   ]
  },
  {
   "cell_type": "code",
   "execution_count": 5,
   "id": "4340874e",
   "metadata": {
    "execution": {
     "iopub.execute_input": "2024-07-16T23:41:31.775044Z",
     "iopub.status.busy": "2024-07-16T23:41:31.774715Z",
     "iopub.status.idle": "2024-07-16T23:41:31.781160Z",
     "shell.execute_reply": "2024-07-16T23:41:31.780093Z"
    },
    "papermill": {
     "duration": 0.01251,
     "end_time": "2024-07-16T23:41:31.782948",
     "exception": false,
     "start_time": "2024-07-16T23:41:31.770438",
     "status": "completed"
    },
    "tags": []
   },
   "outputs": [],
   "source": [
    "id_column = \"isic_id\"\n",
    "target_column = \"final_target\"\n",
    "group_column = \"patient_id\"\n",
    "ord_categorical_features = [\n",
    "    \"sex\", \n",
    "    \"anatom_site_general\", \n",
    "    \"tbp_tile_type\", \n",
    "    \"tbp_lv_location\", \"tbp_lv_location_simple\",\n",
    "    \"attribution\", \"copyright_license\"\n",
    "]\n",
    "ohe_categorical_features = []\n",
    "numerical_features = [\n",
    "    \"age_approx\", \n",
    "    \"clin_size_long_diam_mm\",\n",
    "    \"tbp_lv_A\", \"tbp_lv_Aext\",\n",
    "    \"tbp_lv_B\", \"tbp_lv_Bext\",\n",
    "    \"tbp_lv_C\", \"tbp_lv_Cext\",\n",
    "    \"tbp_lv_H\", \"tbp_lv_Hext\",\n",
    "    \"tbp_lv_L\", \"tbp_lv_Lext\",\n",
    "    \"tbp_lv_areaMM2\",\n",
    "    \"tbp_lv_area_perim_ratio\",\n",
    "    \"tbp_lv_color_std_mean\",\n",
    "    \"tbp_lv_deltaA\", \"tbp_lv_deltaB\", \"tbp_lv_deltaL\", \"tbp_lv_deltaLB\", \"tbp_lv_deltaLBnorm\",\n",
    "    \"tbp_lv_eccentricity\",\n",
    "    \"tbp_lv_minorAxisMM\",\n",
    "    \"tbp_lv_nevi_confidence\",\n",
    "    \"tbp_lv_norm_border\", \"tbp_lv_norm_color\",\n",
    "    \"tbp_lv_perimeterMM\",\n",
    "    \"tbp_lv_radial_color_std_max\",\n",
    "    \"tbp_lv_stdL\", \"tbp_lv_stdLExt\",\n",
    "    \"tbp_lv_symm_2axis\", \"tbp_lv_symm_2axis_angle\",\n",
    "    \"tbp_lv_x\", \"tbp_lv_y\", \"tbp_lv_z\",\n",
    "    \"lesion_size_ratio\", \"hue_contrast\", \"normalized_lesion_size\", \"overall_color_difference\", \"num_images\"\n",
    "]"
   ]
  },
  {
   "cell_type": "code",
   "execution_count": 6,
   "id": "280c64da",
   "metadata": {
    "execution": {
     "iopub.execute_input": "2024-07-16T23:41:31.790636Z",
     "iopub.status.busy": "2024-07-16T23:41:31.790277Z",
     "iopub.status.idle": "2024-07-16T23:41:31.798105Z",
     "shell.execute_reply": "2024-07-16T23:41:31.797178Z"
    },
    "papermill": {
     "duration": 0.014217,
     "end_time": "2024-07-16T23:41:31.800341",
     "exception": false,
     "start_time": "2024-07-16T23:41:31.786124",
     "status": "completed"
    },
    "tags": []
   },
   "outputs": [],
   "source": [
    "mixed_encoded_preprocessor = ColumnTransformer(\n",
    "    [\n",
    "        (\"numerical\", \"passthrough\", numerical_features),\n",
    "        (\n",
    "            \"ord_categorical\",\n",
    "            OrdinalEncoder(handle_unknown=\"use_encoded_value\", unknown_value=-2, encoded_missing_value=-1, dtype=int),\n",
    "            ord_categorical_features,\n",
    "        ),\n",
    "        (\n",
    "            \"ohe_categorical\",\n",
    "            OneHotEncoder(sparse_output=False),\n",
    "            ohe_categorical_features\n",
    "        )\n",
    "    ],\n",
    "    verbose_feature_names_out=False,\n",
    "\n",
    ")\n",
    "mixed_encoded_preprocessor.set_output(transform=\"pandas\")\n",
    "\n",
    "with open(f\"{cfg.model_name}_encoder.joblib\", \"wb\") as f:\n",
    "    joblib.dump(mixed_encoded_preprocessor, f)"
   ]
  },
  {
   "cell_type": "code",
   "execution_count": 7,
   "id": "b679c60e",
   "metadata": {
    "execution": {
     "iopub.execute_input": "2024-07-16T23:41:31.808247Z",
     "iopub.status.busy": "2024-07-16T23:41:31.807971Z",
     "iopub.status.idle": "2024-07-16T23:41:32.931681Z",
     "shell.execute_reply": "2024-07-16T23:41:32.930483Z"
    },
    "papermill": {
     "duration": 1.130006,
     "end_time": "2024-07-16T23:41:32.933936",
     "exception": false,
     "start_time": "2024-07-16T23:41:31.803930",
     "status": "completed"
    },
    "tags": []
   },
   "outputs": [
    {
     "name": "stdout",
     "output_type": "stream",
     "text": [
      "Total number of columns: 46\n"
     ]
    }
   ],
   "source": [
    "train_ids = train_metadata[id_column]\n",
    "groups = train_metadata[group_column]\n",
    "folds = train_metadata[\"fold\"]\n",
    "\n",
    "enc = mixed_encoded_preprocessor.fit(train_metadata)\n",
    "X_train = enc.transform(train_metadata)\n",
    "y_train = train_metadata[target_column]\n",
    "\n",
    "categorical_features = ord_categorical_features[:]\n",
    "for ohe_col in ohe_categorical_features:\n",
    "    categorical_features += [col for col in X_train.columns if col.startswith(ohe_col)]\n",
    "\n",
    "print(f\"Total number of columns: {len(X_train.columns)}\")"
   ]
  },
  {
   "cell_type": "code",
   "execution_count": 8,
   "id": "044326fe",
   "metadata": {
    "execution": {
     "iopub.execute_input": "2024-07-16T23:41:32.942710Z",
     "iopub.status.busy": "2024-07-16T23:41:32.942361Z",
     "iopub.status.idle": "2024-07-16T23:41:32.948745Z",
     "shell.execute_reply": "2024-07-16T23:41:32.947549Z"
    },
    "papermill": {
     "duration": 0.012841,
     "end_time": "2024-07-16T23:41:32.950588",
     "exception": false,
     "start_time": "2024-07-16T23:41:32.937747",
     "status": "completed"
    },
    "tags": []
   },
   "outputs": [],
   "source": [
    "def pauc_80(preds, data):\n",
    "    score_value = compute_pauc(data.get_label(), preds, min_tpr=0.8)   \n",
    "    return 'pauc_80', score_value, True\n",
    "\n",
    "\n",
    "params = {\n",
    "    \"objective\": \"binary\",\n",
    "    \"metric\": \"auc\",\n",
    "    \"num_leaves\": 63,\n",
    "    \"learning_rate\": 0.01,\n",
    "    \"bagging_freq\": 5,\n",
    "    \"bagging_fraction\": 0.6,\n",
    "    \"bagging_seed\": cfg.seed,\n",
    "    \"feature_fraction\": 0.3,\n",
    "    \"feature_fraction_seed\": cfg.seed,\n",
    "    \"lambda_l1\": 0.95,\n",
    "    \"lambda_l2\": 0.95,\n",
    "    \"verbosity\": -1\n",
    "}\n",
    "num_rounds = 2500\n",
    "es_rounds = 200\n",
    "log_rounds = 50"
   ]
  },
  {
   "cell_type": "code",
   "execution_count": 9,
   "id": "be7fe697",
   "metadata": {
    "execution": {
     "iopub.execute_input": "2024-07-16T23:41:32.959341Z",
     "iopub.status.busy": "2024-07-16T23:41:32.958454Z",
     "iopub.status.idle": "2024-07-16T23:46:07.739907Z",
     "shell.execute_reply": "2024-07-16T23:46:07.738843Z"
    },
    "papermill": {
     "duration": 274.787834,
     "end_time": "2024-07-16T23:46:07.741853",
     "exception": false,
     "start_time": "2024-07-16T23:41:32.954019",
     "status": "completed"
    },
    "tags": []
   },
   "outputs": [
    {
     "name": "stdout",
     "output_type": "stream",
     "text": [
      "Running fold: 1\n",
      "[LightGBM] [Warning] Met negative value in categorical features, will convert it to NaN\n",
      "Training until validation scores don't improve for 200 rounds\n",
      "[50]\tvalid_0's auc: 0.931613\tvalid_0's pauc_80: 0.147766\n",
      "[100]\tvalid_0's auc: 0.937806\tvalid_0's pauc_80: 0.151397\n",
      "[150]\tvalid_0's auc: 0.942852\tvalid_0's pauc_80: 0.155529\n",
      "[200]\tvalid_0's auc: 0.943996\tvalid_0's pauc_80: 0.156272\n",
      "[250]\tvalid_0's auc: 0.945987\tvalid_0's pauc_80: 0.157757\n",
      "[300]\tvalid_0's auc: 0.94731\tvalid_0's pauc_80: 0.159106\n",
      "[350]\tvalid_0's auc: 0.948495\tvalid_0's pauc_80: 0.160156\n",
      "[400]\tvalid_0's auc: 0.948868\tvalid_0's pauc_80: 0.16053\n",
      "[450]\tvalid_0's auc: 0.948224\tvalid_0's pauc_80: 0.159804\n",
      "[500]\tvalid_0's auc: 0.949286\tvalid_0's pauc_80: 0.160935\n",
      "[550]\tvalid_0's auc: 0.950253\tvalid_0's pauc_80: 0.161591\n",
      "[600]\tvalid_0's auc: 0.950537\tvalid_0's pauc_80: 0.161587\n",
      "[650]\tvalid_0's auc: 0.950076\tvalid_0's pauc_80: 0.16107\n",
      "[700]\tvalid_0's auc: 0.950629\tvalid_0's pauc_80: 0.161641\n",
      "[750]\tvalid_0's auc: 0.950383\tvalid_0's pauc_80: 0.16139\n",
      "Early stopping, best iteration is:\n",
      "[559]\tvalid_0's auc: 0.950642\tvalid_0's pauc_80: 0.161894\n",
      "\n",
      "\n",
      "Running fold: 2\n",
      "[LightGBM] [Warning] Met negative value in categorical features, will convert it to NaN\n",
      "Training until validation scores don't improve for 200 rounds\n",
      "[50]\tvalid_0's auc: 0.92251\tvalid_0's pauc_80: 0.140787\n",
      "[100]\tvalid_0's auc: 0.924099\tvalid_0's pauc_80: 0.140148\n",
      "[150]\tvalid_0's auc: 0.932103\tvalid_0's pauc_80: 0.147113\n",
      "[200]\tvalid_0's auc: 0.933751\tvalid_0's pauc_80: 0.148259\n",
      "[250]\tvalid_0's auc: 0.935974\tvalid_0's pauc_80: 0.150012\n",
      "[300]\tvalid_0's auc: 0.939684\tvalid_0's pauc_80: 0.153008\n",
      "[350]\tvalid_0's auc: 0.942656\tvalid_0's pauc_80: 0.155615\n",
      "[400]\tvalid_0's auc: 0.944971\tvalid_0's pauc_80: 0.157793\n",
      "[450]\tvalid_0's auc: 0.945534\tvalid_0's pauc_80: 0.158106\n",
      "[500]\tvalid_0's auc: 0.946254\tvalid_0's pauc_80: 0.158813\n",
      "[550]\tvalid_0's auc: 0.948313\tvalid_0's pauc_80: 0.160695\n",
      "[600]\tvalid_0's auc: 0.949605\tvalid_0's pauc_80: 0.161892\n",
      "[650]\tvalid_0's auc: 0.950303\tvalid_0's pauc_80: 0.162435\n",
      "[700]\tvalid_0's auc: 0.951054\tvalid_0's pauc_80: 0.163102\n",
      "[750]\tvalid_0's auc: 0.951569\tvalid_0's pauc_80: 0.163512\n",
      "[800]\tvalid_0's auc: 0.952123\tvalid_0's pauc_80: 0.164162\n",
      "[850]\tvalid_0's auc: 0.952145\tvalid_0's pauc_80: 0.16413\n",
      "[900]\tvalid_0's auc: 0.952441\tvalid_0's pauc_80: 0.164511\n",
      "[950]\tvalid_0's auc: 0.952213\tvalid_0's pauc_80: 0.16432\n",
      "[1000]\tvalid_0's auc: 0.952056\tvalid_0's pauc_80: 0.164168\n",
      "[1050]\tvalid_0's auc: 0.952207\tvalid_0's pauc_80: 0.164457\n",
      "Early stopping, best iteration is:\n",
      "[880]\tvalid_0's auc: 0.952556\tvalid_0's pauc_80: 0.164607\n",
      "\n",
      "\n",
      "Running fold: 3\n",
      "[LightGBM] [Warning] Met negative value in categorical features, will convert it to NaN\n",
      "Training until validation scores don't improve for 200 rounds\n",
      "[50]\tvalid_0's auc: 0.94315\tvalid_0's pauc_80: 0.155138\n",
      "[100]\tvalid_0's auc: 0.941032\tvalid_0's pauc_80: 0.152654\n",
      "[150]\tvalid_0's auc: 0.940668\tvalid_0's pauc_80: 0.15183\n",
      "[200]\tvalid_0's auc: 0.941585\tvalid_0's pauc_80: 0.152793\n",
      "Early stopping, best iteration is:\n",
      "[38]\tvalid_0's auc: 0.944355\tvalid_0's pauc_80: 0.156656\n",
      "\n",
      "\n",
      "Running fold: 4\n",
      "[LightGBM] [Warning] Met negative value in categorical features, will convert it to NaN\n",
      "Training until validation scores don't improve for 200 rounds\n",
      "[50]\tvalid_0's auc: 0.942998\tvalid_0's pauc_80: 0.150935\n",
      "[100]\tvalid_0's auc: 0.943951\tvalid_0's pauc_80: 0.150778\n",
      "[150]\tvalid_0's auc: 0.9472\tvalid_0's pauc_80: 0.153192\n",
      "[200]\tvalid_0's auc: 0.949293\tvalid_0's pauc_80: 0.155106\n",
      "[250]\tvalid_0's auc: 0.952427\tvalid_0's pauc_80: 0.158126\n",
      "[300]\tvalid_0's auc: 0.953142\tvalid_0's pauc_80: 0.158757\n",
      "[350]\tvalid_0's auc: 0.955384\tvalid_0's pauc_80: 0.161033\n",
      "[400]\tvalid_0's auc: 0.957524\tvalid_0's pauc_80: 0.163093\n",
      "[450]\tvalid_0's auc: 0.959599\tvalid_0's pauc_80: 0.165185\n",
      "[500]\tvalid_0's auc: 0.960809\tvalid_0's pauc_80: 0.166381\n",
      "[550]\tvalid_0's auc: 0.961215\tvalid_0's pauc_80: 0.166736\n",
      "[600]\tvalid_0's auc: 0.961739\tvalid_0's pauc_80: 0.167393\n",
      "[650]\tvalid_0's auc: 0.962544\tvalid_0's pauc_80: 0.168202\n",
      "[700]\tvalid_0's auc: 0.962704\tvalid_0's pauc_80: 0.16839\n",
      "[750]\tvalid_0's auc: 0.963224\tvalid_0's pauc_80: 0.168904\n",
      "[800]\tvalid_0's auc: 0.963932\tvalid_0's pauc_80: 0.169672\n",
      "[850]\tvalid_0's auc: 0.964398\tvalid_0's pauc_80: 0.170137\n",
      "[900]\tvalid_0's auc: 0.96469\tvalid_0's pauc_80: 0.170414\n",
      "[950]\tvalid_0's auc: 0.9651\tvalid_0's pauc_80: 0.170903\n",
      "[1000]\tvalid_0's auc: 0.965467\tvalid_0's pauc_80: 0.171337\n",
      "[1050]\tvalid_0's auc: 0.965463\tvalid_0's pauc_80: 0.171346\n",
      "[1100]\tvalid_0's auc: 0.965456\tvalid_0's pauc_80: 0.171367\n",
      "[1150]\tvalid_0's auc: 0.965649\tvalid_0's pauc_80: 0.171493\n",
      "[1200]\tvalid_0's auc: 0.966017\tvalid_0's pauc_80: 0.171833\n",
      "[1250]\tvalid_0's auc: 0.966322\tvalid_0's pauc_80: 0.17212\n",
      "[1300]\tvalid_0's auc: 0.966383\tvalid_0's pauc_80: 0.17218\n",
      "[1350]\tvalid_0's auc: 0.966221\tvalid_0's pauc_80: 0.172058\n",
      "[1400]\tvalid_0's auc: 0.966454\tvalid_0's pauc_80: 0.172251\n",
      "[1450]\tvalid_0's auc: 0.966597\tvalid_0's pauc_80: 0.17238\n",
      "[1500]\tvalid_0's auc: 0.966655\tvalid_0's pauc_80: 0.172448\n",
      "[1550]\tvalid_0's auc: 0.966592\tvalid_0's pauc_80: 0.172486\n",
      "[1600]\tvalid_0's auc: 0.966779\tvalid_0's pauc_80: 0.172685\n",
      "[1650]\tvalid_0's auc: 0.966792\tvalid_0's pauc_80: 0.172703\n",
      "[1700]\tvalid_0's auc: 0.966843\tvalid_0's pauc_80: 0.172754\n",
      "[1750]\tvalid_0's auc: 0.9668\tvalid_0's pauc_80: 0.172704\n",
      "[1800]\tvalid_0's auc: 0.966793\tvalid_0's pauc_80: 0.172677\n",
      "[1850]\tvalid_0's auc: 0.966616\tvalid_0's pauc_80: 0.172568\n",
      "Early stopping, best iteration is:\n",
      "[1665]\tvalid_0's auc: 0.966854\tvalid_0's pauc_80: 0.172755\n",
      "\n",
      "\n",
      "Running fold: 5\n",
      "[LightGBM] [Warning] Met negative value in categorical features, will convert it to NaN\n",
      "[LightGBM] [Warning] Met negative value in categorical features, will convert it to NaN\n",
      "Training until validation scores don't improve for 200 rounds\n",
      "[50]\tvalid_0's auc: 0.942571\tvalid_0's pauc_80: 0.158773\n",
      "[100]\tvalid_0's auc: 0.94301\tvalid_0's pauc_80: 0.158689\n",
      "[150]\tvalid_0's auc: 0.945343\tvalid_0's pauc_80: 0.160441\n",
      "[200]\tvalid_0's auc: 0.944863\tvalid_0's pauc_80: 0.15993\n",
      "[250]\tvalid_0's auc: 0.944744\tvalid_0's pauc_80: 0.159299\n",
      "[300]\tvalid_0's auc: 0.947655\tvalid_0's pauc_80: 0.161535\n",
      "[350]\tvalid_0's auc: 0.948322\tvalid_0's pauc_80: 0.161936\n",
      "[400]\tvalid_0's auc: 0.948574\tvalid_0's pauc_80: 0.161994\n",
      "[450]\tvalid_0's auc: 0.949302\tvalid_0's pauc_80: 0.162482\n",
      "[500]\tvalid_0's auc: 0.948986\tvalid_0's pauc_80: 0.161939\n",
      "[550]\tvalid_0's auc: 0.948082\tvalid_0's pauc_80: 0.161022\n",
      "[600]\tvalid_0's auc: 0.947936\tvalid_0's pauc_80: 0.160518\n",
      "[650]\tvalid_0's auc: 0.947722\tvalid_0's pauc_80: 0.160362\n",
      "Early stopping, best iteration is:\n",
      "[454]\tvalid_0's auc: 0.949535\tvalid_0's pauc_80: 0.162683\n",
      "\n",
      "\n",
      "Val AUC scores:\n",
      "{'fold_1': 0.9506421551793852,\n",
      " 'fold_2': 0.9525560711449348,\n",
      " 'fold_3': 0.9443546349103343,\n",
      " 'fold_4': 0.9668538081391721,\n",
      " 'fold_5': 0.9495350198244137}\n",
      "Val PAUC scores:\n",
      "{'fold_1': 0.16189363377553598,\n",
      " 'fold_2': 0.16460742359112585,\n",
      " 'fold_3': 0.1566555858531654,\n",
      " 'fold_4': 0.17275461431905254,\n",
      " 'fold_5': 0.16268287305687626}\n",
      "CV AUC OOF: 0.934603157371475\n",
      "CV PAUC OOF: 0.14554897076012202\n",
      "CV AUC AVG: 0.952788337839648\n",
      "CV PAUC AVG: 0.16371882611915117\n",
      "CV AUC STD: 0.0075393491202310325\n",
      "CV PAUC STD: 0.005229320467405825\n",
      "Index(['age_approx', 'clin_size_long_diam_mm', 'tbp_lv_A', 'tbp_lv_Aext',\n",
      "       'tbp_lv_B', 'tbp_lv_Bext', 'tbp_lv_C', 'tbp_lv_Cext', 'tbp_lv_H',\n",
      "       'tbp_lv_Hext', 'tbp_lv_L', 'tbp_lv_Lext', 'tbp_lv_areaMM2',\n",
      "       'tbp_lv_area_perim_ratio', 'tbp_lv_color_std_mean', 'tbp_lv_deltaA',\n",
      "       'tbp_lv_deltaB', 'tbp_lv_deltaL', 'tbp_lv_deltaLB',\n",
      "       'tbp_lv_deltaLBnorm', 'tbp_lv_eccentricity', 'tbp_lv_minorAxisMM',\n",
      "       'tbp_lv_nevi_confidence', 'tbp_lv_norm_border', 'tbp_lv_norm_color',\n",
      "       'tbp_lv_perimeterMM', 'tbp_lv_radial_color_std_max', 'tbp_lv_stdL',\n",
      "       'tbp_lv_stdLExt', 'tbp_lv_symm_2axis', 'tbp_lv_symm_2axis_angle',\n",
      "       'tbp_lv_x', 'tbp_lv_y', 'tbp_lv_z', 'lesion_size_ratio', 'hue_contrast',\n",
      "       'normalized_lesion_size', 'overall_color_difference', 'num_images',\n",
      "       'sex', 'anatom_site_general', 'tbp_tile_type', 'tbp_lv_location',\n",
      "       'tbp_lv_location_simple', 'attribution', 'copyright_license'],\n",
      "      dtype='object')\n"
     ]
    }
   ],
   "source": [
    "best_num_rounds = {}\n",
    "val_auc_scores = {}\n",
    "val_pauc_scores = {}\n",
    "all_folds = np.sort(folds.unique())\n",
    "oof_predictions = np.zeros(X_train.shape[0])\n",
    "for fold in all_folds:\n",
    "    print(f\"Running fold: {fold}\")\n",
    "    dev_index = folds[folds != fold].index\n",
    "    val_index = folds[folds == fold].index\n",
    "    \n",
    "    X_dev = X_train.loc[dev_index, :]\n",
    "    y_dev = y_train[dev_index]\n",
    "    \n",
    "    X_val = X_train.loc[val_index, :]\n",
    "    y_val = y_train[val_index]\n",
    "    \n",
    "    lgb_dataset_dev = lgb.Dataset(X_dev, label=y_dev, categorical_feature=categorical_features, free_raw_data=False)\n",
    "    lgb_dataset_val = lgb.Dataset(X_val, label=y_val, categorical_feature=categorical_features, free_raw_data=False)\n",
    "    \n",
    "    model = lgb.train(\n",
    "        params,\n",
    "        lgb_dataset_dev,\n",
    "        num_boost_round=num_rounds,\n",
    "        valid_sets=[lgb_dataset_val],\n",
    "        feval=pauc_80,\n",
    "        callbacks=[early_stopping(stopping_rounds=es_rounds), log_evaluation(log_rounds)],\n",
    "    )\n",
    "    \n",
    "    model.save_model(MODELS_OUTPUT_PATH / f\"{cfg.model_name}_fold_{fold}.txt\")\n",
    "    best_num_rounds[f\"fold_{fold}\"] = model.best_iteration\n",
    "    val_scores = dict(model.best_score[\"valid_0\"])\n",
    "    \n",
    "    val_auc_scores[f\"fold_{fold}\"] = val_scores[\"auc\"]\n",
    "    val_pauc_scores[f\"fold_{fold}\"] = val_scores[\"pauc_80\"]\n",
    "    \n",
    "    val_preds = model.predict(X_val, num_iteration=model.best_iteration)\n",
    "    oof_predictions[val_index] = val_preds\n",
    "    print(\"\\n\")\n",
    "\n",
    "print(\"Val AUC scores:\")\n",
    "pprint(val_auc_scores)\n",
    "print(\"Val PAUC scores:\")\n",
    "pprint(val_pauc_scores)\n",
    "\n",
    "oof_preds_df = pd.DataFrame({\n",
    "    id_column: train_ids,\n",
    "    group_column: groups,\n",
    "    \"fold\": folds,\n",
    "    target_column: y_train,\n",
    "    f\"oof_{cfg.model_name}\": oof_predictions\n",
    "})\n",
    "oof_preds_df.to_csv(f\"oof_preds_{cfg.model_name}.csv\", index=False)\n",
    "\n",
    "cv_auc_oof = compute_auc(oof_preds_df[target_column], oof_preds_df[f\"oof_{cfg.model_name}\"])\n",
    "cv_pauc_oof = compute_pauc(oof_preds_df[target_column], oof_preds_df[f\"oof_{cfg.model_name}\"], min_tpr=0.8)\n",
    "\n",
    "cv_auc_avg = np.mean(list(val_auc_scores.values()))\n",
    "cv_pauc_avg = np.mean(list(val_pauc_scores.values()))\n",
    "\n",
    "cv_auc_std = np.std(list(val_auc_scores.values()))\n",
    "cv_pauc_std = np.std(list(val_pauc_scores.values()))\n",
    "\n",
    "print(f\"CV AUC OOF: {cv_auc_oof}\")\n",
    "print(f\"CV PAUC OOF: {cv_pauc_oof}\")\n",
    "print(f\"CV AUC AVG: {cv_auc_avg}\")\n",
    "print(f\"CV PAUC AVG: {cv_pauc_avg}\")\n",
    "print(f\"CV AUC STD: {cv_auc_std}\")\n",
    "print(f\"CV PAUC STD: {cv_pauc_std}\")\n",
    "print(X_train.columns)"
   ]
  },
  {
   "cell_type": "code",
   "execution_count": 10,
   "id": "8cd46c15",
   "metadata": {
    "execution": {
     "iopub.execute_input": "2024-07-16T23:46:07.762079Z",
     "iopub.status.busy": "2024-07-16T23:46:07.761786Z",
     "iopub.status.idle": "2024-07-16T23:46:08.412740Z",
     "shell.execute_reply": "2024-07-16T23:46:08.411797Z"
    },
    "papermill": {
     "duration": 0.663126,
     "end_time": "2024-07-16T23:46:08.414565",
     "exception": false,
     "start_time": "2024-07-16T23:46:07.751439",
     "status": "completed"
    },
    "tags": []
   },
   "outputs": [
    {
     "data": {
      "text/plain": [
       "<Axes: >"
      ]
     },
     "execution_count": 10,
     "metadata": {},
     "output_type": "execute_result"
    },
    {
     "data": {
      "image/png": "[encoded data removed]",
      "text/plain": [
       "<Figure size 1000x1500 with 1 Axes>"
      ]
     },
     "metadata": {},
     "output_type": "display_data"
    }
   ],
   "source": [
    "feature_importances = 0\n",
    "for fold in all_folds:\n",
    "    model = lgb.Booster(model_file=MODELS_OUTPUT_PATH / f\"{cfg.model_name}_fold_{fold}.txt\")\n",
    "    if fold == 1:\n",
    "        feature_names = model.feature_name()\n",
    "    feature_importances += model.feature_importance(importance_type=\"gain\")\n",
    "feature_importances /= len(all_folds)\n",
    "\n",
    "imp = pd.DataFrame.from_dict(dict(zip(feature_names, feature_importances)), \n",
    "                             orient=\"index\", columns=[\"imp\"]).sort_values(\"imp\", ascending=True)\n",
    "imp.plot(kind=\"barh\", figsize=(10, 15))"
   ]
  },
  {
   "cell_type": "code",
   "execution_count": 11,
   "id": "42f0e89e",
   "metadata": {
    "execution": {
     "iopub.execute_input": "2024-07-16T23:46:08.438406Z",
     "iopub.status.busy": "2024-07-16T23:46:08.438090Z",
     "iopub.status.idle": "2024-07-16T23:46:08.448993Z",
     "shell.execute_reply": "2024-07-16T23:46:08.448310Z"
    },
    "papermill": {
     "duration": 0.024567,
     "end_time": "2024-07-16T23:46:08.450580",
     "exception": false,
     "start_time": "2024-07-16T23:46:08.426013",
     "status": "completed"
    },
    "tags": []
   },
   "outputs": [],
   "source": [
    "metadata = {\n",
    "    \"params\": params,\n",
    "    \"num_rounds\": num_rounds,\n",
    "    \"es_rounds\": es_rounds,\n",
    "    \"best_num_rounds\": best_num_rounds,\n",
    "    \"val_auc_scores\": val_auc_scores,\n",
    "    \"val_pauc_scores\": val_pauc_scores,\n",
    "    \"cv_auc_oof\": cv_auc_oof,\n",
    "    \"cv_pauc_oof\": cv_pauc_oof,\n",
    "    \"cv_auc_avg\": cv_auc_avg,\n",
    "    \"cv_pauc_avg\": cv_pauc_avg\n",
    "}\n",
    "\n",
    "with open(f\"{cfg.model_name}_run_metadata.json\", \"w\") as f:\n",
    "    json.dump(metadata, f)"
   ]
  },
  {
   "cell_type": "code",
   "execution_count": null,
   "id": "1115aa70",
   "metadata": {
    "papermill": {
     "duration": 0.010226,
     "end_time": "2024-07-16T23:46:08.471435",
     "exception": false,
     "start_time": "2024-07-16T23:46:08.461209",
     "status": "completed"
    },
    "tags": []
   },
   "outputs": [],
   "source": []
  }
 ],
 "metadata": {
  "kaggle": {
   "accelerator": "none",
   "dataSources": [
    {
     "databundleVersionId": 9094797,
     "sourceId": 63056,
     "sourceType": "competition"
    },
    {
     "sourceId": 187439867,
     "sourceType": "kernelVersion"
    },
    {
     "sourceId": 187477024,
     "sourceType": "kernelVersion"
    }
   ],
   "dockerImageVersionId": 30732,
   "isGpuEnabled": false,
   "isInternetEnabled": false,
   "language": "python",
   "sourceType": "notebook"
  },
  "kernelspec": {
   "display_name": "Python 3",
   "language": "python",
   "name": "python3"
  },
  "language_info": {
   "codemirror_mode": {
    "name": "ipython",
    "version": 3
   },
   "file_extension": ".py",
   "mimetype": "text/x-python",
   "name": "python",
   "nbconvert_exporter": "python",
   "pygments_lexer": "ipython3",
   "version": "3.10.13"
  },
  "papermill": {
   "default_parameters": {},
   "duration": 295.302034,
   "end_time": "2024-07-16T23:46:09.505188",
   "environment_variables": {},
   "exception": null,
   "input_path": "__notebook__.ipynb",
   "output_path": "__notebook__.ipynb",
   "parameters": {},
   "start_time": "2024-07-16T23:41:14.203154",
   "version": "2.5.0"
  }
 },
 "nbformat": 4,
 "nbformat_minor": 5
}
