{
 "cells": [
  {
   "cell_type": "code",
   "execution_count": 1,
   "id": "c9ad9712",
   "metadata": {
    "_cell_guid": "b1076dfc-b9ad-4769-8c92-a6c4dae69d19",
    "_uuid": "8f2839f25d086af736a60e9eeb907d3b93b6e0e5",
    "execution": {
     "iopub.execute_input": "2024-07-16T23:22:50.989891Z",
     "iopub.status.busy": "2024-07-16T23:22:50.989473Z",
     "iopub.status.idle": "2024-07-16T23:22:58.228272Z",
     "shell.execute_reply": "2024-07-16T23:22:58.226944Z"
    },
    "papermill": {
     "duration": 7.247024,
     "end_time": "2024-07-16T23:22:58.230801",
     "exception": false,
     "start_time": "2024-07-16T23:22:50.983777",
     "status": "completed"
    },
    "tags": []
   },
   "outputs": [],
   "source": [
    "import json\n",
    "import joblib\n",
    "from pprint import pprint\n",
    "from pathlib import Path\n",
    "\n",
    "import pandas as pd\n",
    "import numpy as np\n",
    "\n",
    "from sklearn.compose import ColumnTransformer\n",
    "from sklearn.preprocessing import OrdinalEncoder, OneHotEncoder\n",
    "\n",
    "import lightgbm as lgb\n",
    "from lightgbm.callback import log_evaluation, early_stopping\n",
    "\n",
    "from isic_helper import DotDict\n",
    "from isic_helper import get_folds\n",
    "from isic_helper import compute_auc, compute_pauc\n",
    "\n",
    "pd.options.display.max_columns = 1000"
   ]
  },
  {
   "cell_type": "code",
   "execution_count": 2,
   "id": "8a0f615d",
   "metadata": {
    "execution": {
     "iopub.execute_input": "2024-07-16T23:22:58.240693Z",
     "iopub.status.busy": "2024-07-16T23:22:58.240109Z",
     "iopub.status.idle": "2024-07-16T23:22:58.245878Z",
     "shell.execute_reply": "2024-07-16T23:22:58.244717Z"
    },
    "papermill": {
     "duration": 0.013195,
     "end_time": "2024-07-16T23:22:58.248203",
     "exception": false,
     "start_time": "2024-07-16T23:22:58.235008",
     "status": "completed"
    },
    "tags": []
   },
   "outputs": [],
   "source": [
    "cfg = DotDict()\n",
    "cfg.seed = 2022\n",
    "\n",
    "cfg.models_output_dir = \"models\"\n",
    "cfg.model_name = \"lgb_v1\""
   ]
  },
  {
   "cell_type": "code",
   "execution_count": 3,
   "id": "f2862704",
   "metadata": {
    "execution": {
     "iopub.execute_input": "2024-07-16T23:22:58.257813Z",
     "iopub.status.busy": "2024-07-16T23:22:58.257394Z",
     "iopub.status.idle": "2024-07-16T23:23:08.894123Z",
     "shell.execute_reply": "2024-07-16T23:23:08.892815Z"
    },
    "papermill": {
     "duration": 10.644666,
     "end_time": "2024-07-16T23:23:08.896667",
     "exception": false,
     "start_time": "2024-07-16T23:22:58.252001",
     "status": "completed"
    },
    "tags": []
   },
   "outputs": [
    {
     "name": "stdout",
     "output_type": "stream",
     "text": [
      "Train data size: (401059, 57)\n",
      "Test data size: (3, 44)\n"
     ]
    }
   ],
   "source": [
    "INPUT_PATH = Path(\"../input/isic-2024-challenge/\")\n",
    "MODELS_OUTPUT_PATH = Path(f\"{cfg.models_output_dir}\")\n",
    "MODELS_OUTPUT_PATH.mkdir(exist_ok=True)\n",
    "\n",
    "train_metadata = pd.read_csv(INPUT_PATH / \"train-metadata.csv\", low_memory=False)\n",
    "test_metadata = pd.read_csv(INPUT_PATH / \"test-metadata.csv\")\n",
    "\n",
    "folds_df = get_folds()\n",
    "train_metadata = train_metadata.merge(folds_df, on=[\"isic_id\", \"patient_id\"], how=\"inner\")\n",
    "print(f\"Train data size: {train_metadata.shape}\")\n",
    "print(f\"Test data size: {test_metadata.shape}\")"
   ]
  },
  {
   "cell_type": "code",
   "execution_count": 4,
   "id": "6a9d323d",
   "metadata": {
    "execution": {
     "iopub.execute_input": "2024-07-16T23:23:08.906266Z",
     "iopub.status.busy": "2024-07-16T23:23:08.905820Z",
     "iopub.status.idle": "2024-07-16T23:23:11.194473Z",
     "shell.execute_reply": "2024-07-16T23:23:11.193468Z"
    },
    "papermill": {
     "duration": 2.296201,
     "end_time": "2024-07-16T23:23:11.196890",
     "exception": false,
     "start_time": "2024-07-16T23:23:08.900689",
     "status": "completed"
    },
    "tags": []
   },
   "outputs": [],
   "source": [
    "def stat_features(df, group_cols, value_col, stats):\n",
    "    tmp = df.groupby(group_cols)[value_col].agg(stats)\n",
    "    tmp.columns = [f\"{value_col}_{stat}\" for stat in stats]\n",
    "    tmp.reset_index(inplace=True)\n",
    "    df = df.merge(tmp, on=group_cols, how=\"left\")\n",
    "    df[f\"{value_col}_mean_diff\"] = df[value_col] - df[f\"{value_col}_mean\"]\n",
    "    return df\n",
    "\n",
    "\n",
    "def feature_engineering(df):\n",
    "    # v1 features\n",
    "    df[\"lesion_size_ratio\"]              = df[\"tbp_lv_minorAxisMM\"] / df[\"clin_size_long_diam_mm\"]\n",
    "    df[\"hue_contrast\"]                   = (df[\"tbp_lv_H\"] - df[\"tbp_lv_Hext\"]).abs()\n",
    "    df[\"normalized_lesion_size\"]         = df[\"clin_size_long_diam_mm\"] / df[\"age_approx\"]\n",
    "    df[\"overall_color_difference\"]       = (df[\"tbp_lv_deltaA\"] + df[\"tbp_lv_deltaB\"] + df[\"tbp_lv_deltaL\"]) / 3\n",
    "    patient_num_images = df.groupby(\"patient_id\", as_index=False)[\"isic_id\"].count().rename(columns={\"isic_id\": \"num_images\"})\n",
    "    df = df.merge(patient_num_images, on=\"patient_id\", how=\"left\")\n",
    "    \n",
    "    # v2 features\n",
    "    df[\"max_minus_min_lesion_size\"] = df[\"clin_size_long_diam_mm\"] - df[\"tbp_lv_minorAxisMM\"]\n",
    "    \n",
    "    df[\"tbp_lv_A_diff\"] =  df[\"tbp_lv_Aext\"] - df[\"tbp_lv_A\"]\n",
    "    df = stat_features(df, [\"patient_id\", \"tbp_lv_location\"], \"tbp_lv_A_diff\", [\"mean\"])\n",
    "    \n",
    "    df[\"tbp_lv_B_diff\"] =  df[\"tbp_lv_Bext\"] - df[\"tbp_lv_B\"]\n",
    "    df = stat_features(df, [\"patient_id\", \"tbp_lv_location\"], \"tbp_lv_B_diff\", [\"mean\"])\n",
    "    \n",
    "    df[\"tbp_lv_L_diff\"] =  df[\"tbp_lv_Lext\"] - df[\"tbp_lv_L\"]\n",
    "    df = stat_features(df, [\"patient_id\", \"tbp_lv_location\"], \"tbp_lv_L_diff\", [\"mean\"])\n",
    "    \n",
    "    df[\"tbp_lv_L_std_diff\"] =  df[\"tbp_lv_stdLExt\"] - df[\"tbp_lv_stdL\"]\n",
    "    df = stat_features(df, [\"patient_id\", \"tbp_lv_location\"], \"tbp_lv_L_std_diff\", [\"mean\"])\n",
    "    \n",
    "    return df\n",
    "\n",
    "train_metadata = feature_engineering(train_metadata.copy())\n",
    "test_metadata = feature_engineering(test_metadata.copy())"
   ]
  },
  {
   "cell_type": "code",
   "execution_count": 5,
   "id": "a403b337",
   "metadata": {
    "execution": {
     "iopub.execute_input": "2024-07-16T23:23:11.206800Z",
     "iopub.status.busy": "2024-07-16T23:23:11.206435Z",
     "iopub.status.idle": "2024-07-16T23:23:11.213935Z",
     "shell.execute_reply": "2024-07-16T23:23:11.212858Z"
    },
    "papermill": {
     "duration": 0.015087,
     "end_time": "2024-07-16T23:23:11.216274",
     "exception": false,
     "start_time": "2024-07-16T23:23:11.201187",
     "status": "completed"
    },
    "tags": []
   },
   "outputs": [],
   "source": [
    "id_column = \"isic_id\"\n",
    "target_column = \"final_target\"\n",
    "group_column = \"patient_id\"\n",
    "ord_categorical_features = [\n",
    "    \"sex\", \n",
    "    \"anatom_site_general\", \n",
    "    \"tbp_tile_type\", \n",
    "    \"tbp_lv_location\", \"tbp_lv_location_simple\",\n",
    "    \"attribution\", \"copyright_license\"\n",
    "]\n",
    "ohe_categorical_features = []\n",
    "numerical_features = [\n",
    "    \"age_approx\", \n",
    "    \"clin_size_long_diam_mm\",\n",
    "    \"tbp_lv_A\", \"tbp_lv_Aext\",\n",
    "    \"tbp_lv_B\", \"tbp_lv_Bext\",\n",
    "    \"tbp_lv_C\", \"tbp_lv_Cext\",\n",
    "    \"tbp_lv_H\", \"tbp_lv_Hext\",\n",
    "    \"tbp_lv_L\", \"tbp_lv_Lext\",\n",
    "    \"tbp_lv_areaMM2\",\n",
    "    \"tbp_lv_area_perim_ratio\",\n",
    "    \"tbp_lv_color_std_mean\",\n",
    "    \"tbp_lv_deltaA\", \"tbp_lv_deltaB\", \"tbp_lv_deltaL\", \"tbp_lv_deltaLB\", \"tbp_lv_deltaLBnorm\",\n",
    "    \"tbp_lv_eccentricity\",\n",
    "    \"tbp_lv_minorAxisMM\",\n",
    "    \"tbp_lv_nevi_confidence\",\n",
    "    \"tbp_lv_norm_border\", \"tbp_lv_norm_color\",\n",
    "    \"tbp_lv_perimeterMM\",\n",
    "    \"tbp_lv_radial_color_std_max\",\n",
    "    \"tbp_lv_stdL\", \"tbp_lv_stdLExt\",\n",
    "    \"tbp_lv_symm_2axis\", \"tbp_lv_symm_2axis_angle\",\n",
    "    \"tbp_lv_x\", \"tbp_lv_y\", \"tbp_lv_z\",\n",
    "    \"num_images\", \"lesion_size_ratio\", \"hue_contrast\", \"normalized_lesion_size\", \"overall_color_difference\"\n",
    "]"
   ]
  },
  {
   "cell_type": "code",
   "execution_count": 6,
   "id": "bec32ea5",
   "metadata": {
    "execution": {
     "iopub.execute_input": "2024-07-16T23:23:11.225575Z",
     "iopub.status.busy": "2024-07-16T23:23:11.225161Z",
     "iopub.status.idle": "2024-07-16T23:23:11.233935Z",
     "shell.execute_reply": "2024-07-16T23:23:11.232594Z"
    },
    "papermill": {
     "duration": 0.016313,
     "end_time": "2024-07-16T23:23:11.236383",
     "exception": false,
     "start_time": "2024-07-16T23:23:11.220070",
     "status": "completed"
    },
    "tags": []
   },
   "outputs": [],
   "source": [
    "mixed_encoded_preprocessor = ColumnTransformer(\n",
    "    [\n",
    "        (\"numerical\", \"passthrough\", numerical_features),\n",
    "        (\n",
    "            \"ord_categorical\",\n",
    "            OrdinalEncoder(handle_unknown=\"use_encoded_value\", unknown_value=-2, encoded_missing_value=-1, dtype=int),\n",
    "            ord_categorical_features,\n",
    "        ),\n",
    "        (\n",
    "            \"ohe_categorical\",\n",
    "            OneHotEncoder(sparse_output=False),\n",
    "            ohe_categorical_features\n",
    "        )\n",
    "    ],\n",
    "    verbose_feature_names_out=False,\n",
    "\n",
    ")\n",
    "mixed_encoded_preprocessor.set_output(transform=\"pandas\")\n",
    "\n",
    "with open(f\"{cfg.model_name}_encoder.joblib\", \"wb\") as f:\n",
    "    joblib.dump(mixed_encoded_preprocessor, f)"
   ]
  },
  {
   "cell_type": "code",
   "execution_count": 7,
   "id": "cd541ecd",
   "metadata": {
    "execution": {
     "iopub.execute_input": "2024-07-16T23:23:11.245832Z",
     "iopub.status.busy": "2024-07-16T23:23:11.245449Z",
     "iopub.status.idle": "2024-07-16T23:23:12.656005Z",
     "shell.execute_reply": "2024-07-16T23:23:12.654653Z"
    },
    "papermill": {
     "duration": 1.418229,
     "end_time": "2024-07-16T23:23:12.658619",
     "exception": false,
     "start_time": "2024-07-16T23:23:11.240390",
     "status": "completed"
    },
    "tags": []
   },
   "outputs": [
    {
     "name": "stdout",
     "output_type": "stream",
     "text": [
      "Total number of columns: 46\n"
     ]
    }
   ],
   "source": [
    "train_ids = train_metadata[id_column]\n",
    "groups = train_metadata[group_column]\n",
    "folds = train_metadata[\"fold\"]\n",
    "\n",
    "enc = mixed_encoded_preprocessor.fit(train_metadata)\n",
    "X_train = enc.transform(train_metadata)\n",
    "y_train = train_metadata[target_column]\n",
    "\n",
    "categorical_features = ord_categorical_features[:]\n",
    "for ohe_col in ohe_categorical_features:\n",
    "    categorical_features += [col for col in X_train.columns if col.startswith(ohe_col)]\n",
    "\n",
    "print(f\"Total number of columns: {len(X_train.columns)}\")"
   ]
  },
  {
   "cell_type": "code",
   "execution_count": 8,
   "id": "32d1332f",
   "metadata": {
    "execution": {
     "iopub.execute_input": "2024-07-16T23:23:12.669208Z",
     "iopub.status.busy": "2024-07-16T23:23:12.667875Z",
     "iopub.status.idle": "2024-07-16T23:23:12.675261Z",
     "shell.execute_reply": "2024-07-16T23:23:12.674099Z"
    },
    "papermill": {
     "duration": 0.015207,
     "end_time": "2024-07-16T23:23:12.677806",
     "exception": false,
     "start_time": "2024-07-16T23:23:12.662599",
     "status": "completed"
    },
    "tags": []
   },
   "outputs": [],
   "source": [
    "def pauc_80(preds, data):\n",
    "    score_value = compute_pauc(data.get_label(), preds, min_tpr=0.8)   \n",
    "    return 'pauc_80', score_value, True\n",
    "\n",
    "\n",
    "params = {\n",
    "    \"objective\": \"binary\",\n",
    "    \"metric\": \"auc\",\n",
    "    \"num_leaves\": 63,\n",
    "    \"learning_rate\": 0.01,\n",
    "    \"bagging_freq\": 5,\n",
    "    \"bagging_fraction\": 0.6,\n",
    "    \"bagging_seed\": cfg.seed,\n",
    "    \"feature_fraction\": 0.3,\n",
    "    \"feature_fraction_seed\": cfg.seed,\n",
    "    \"lambda_l1\": 0.95,\n",
    "    \"lambda_l2\": 0.95,\n",
    "    \"verbosity\": -1\n",
    "}\n",
    "num_rounds = 2500\n",
    "es_rounds = 200\n",
    "log_rounds = 50"
   ]
  },
  {
   "cell_type": "code",
   "execution_count": 9,
   "id": "64436a28",
   "metadata": {
    "execution": {
     "iopub.execute_input": "2024-07-16T23:23:12.688180Z",
     "iopub.status.busy": "2024-07-16T23:23:12.687788Z",
     "iopub.status.idle": "2024-07-16T23:29:03.938883Z",
     "shell.execute_reply": "2024-07-16T23:29:03.937505Z"
    },
    "papermill": {
     "duration": 351.259622,
     "end_time": "2024-07-16T23:29:03.941634",
     "exception": false,
     "start_time": "2024-07-16T23:23:12.682012",
     "status": "completed"
    },
    "tags": []
   },
   "outputs": [
    {
     "name": "stdout",
     "output_type": "stream",
     "text": [
      "Running fold: 1\n",
      "[LightGBM] [Warning] Met negative value in categorical features, will convert it to NaN\n",
      "[LightGBM] [Warning] Met negative value in categorical features, will convert it to NaN\n",
      "Training until validation scores don't improve for 200 rounds\n",
      "[50]\tvalid_0's auc: 0.933314\tvalid_0's pauc_80: 0.149467\n",
      "[100]\tvalid_0's auc: 0.94081\tvalid_0's pauc_80: 0.154706\n",
      "[150]\tvalid_0's auc: 0.94419\tvalid_0's pauc_80: 0.157044\n",
      "[200]\tvalid_0's auc: 0.946217\tvalid_0's pauc_80: 0.158785\n",
      "[250]\tvalid_0's auc: 0.946864\tvalid_0's pauc_80: 0.158943\n",
      "[300]\tvalid_0's auc: 0.94906\tvalid_0's pauc_80: 0.160836\n",
      "[350]\tvalid_0's auc: 0.950069\tvalid_0's pauc_80: 0.161602\n",
      "[400]\tvalid_0's auc: 0.95058\tvalid_0's pauc_80: 0.162066\n",
      "[450]\tvalid_0's auc: 0.950041\tvalid_0's pauc_80: 0.161313\n",
      "[500]\tvalid_0's auc: 0.95157\tvalid_0's pauc_80: 0.162791\n",
      "[550]\tvalid_0's auc: 0.952259\tvalid_0's pauc_80: 0.163291\n",
      "[600]\tvalid_0's auc: 0.952539\tvalid_0's pauc_80: 0.163384\n",
      "[650]\tvalid_0's auc: 0.952218\tvalid_0's pauc_80: 0.163098\n",
      "[700]\tvalid_0's auc: 0.952352\tvalid_0's pauc_80: 0.16334\n",
      "[750]\tvalid_0's auc: 0.952634\tvalid_0's pauc_80: 0.16362\n",
      "[800]\tvalid_0's auc: 0.952806\tvalid_0's pauc_80: 0.163871\n",
      "[850]\tvalid_0's auc: 0.951863\tvalid_0's pauc_80: 0.163009\n",
      "[900]\tvalid_0's auc: 0.951203\tvalid_0's pauc_80: 0.162401\n",
      "[950]\tvalid_0's auc: 0.95171\tvalid_0's pauc_80: 0.16278\n",
      "Early stopping, best iteration is:\n",
      "[767]\tvalid_0's auc: 0.953167\tvalid_0's pauc_80: 0.1642\n",
      "\n",
      "\n",
      "Running fold: 2\n",
      "[LightGBM] [Warning] Met negative value in categorical features, will convert it to NaN\n",
      "[LightGBM] [Warning] Met negative value in categorical features, will convert it to NaN\n",
      "Training until validation scores don't improve for 200 rounds\n",
      "[50]\tvalid_0's auc: 0.923482\tvalid_0's pauc_80: 0.141678\n",
      "[100]\tvalid_0's auc: 0.924954\tvalid_0's pauc_80: 0.140861\n",
      "[150]\tvalid_0's auc: 0.929632\tvalid_0's pauc_80: 0.144643\n",
      "[200]\tvalid_0's auc: 0.93156\tvalid_0's pauc_80: 0.146127\n",
      "[250]\tvalid_0's auc: 0.934199\tvalid_0's pauc_80: 0.148374\n",
      "[300]\tvalid_0's auc: 0.937212\tvalid_0's pauc_80: 0.151007\n",
      "[350]\tvalid_0's auc: 0.940817\tvalid_0's pauc_80: 0.154333\n",
      "[400]\tvalid_0's auc: 0.943446\tvalid_0's pauc_80: 0.156675\n",
      "[450]\tvalid_0's auc: 0.945269\tvalid_0's pauc_80: 0.158366\n",
      "[500]\tvalid_0's auc: 0.946519\tvalid_0's pauc_80: 0.159415\n",
      "[550]\tvalid_0's auc: 0.947548\tvalid_0's pauc_80: 0.160275\n",
      "[600]\tvalid_0's auc: 0.949164\tvalid_0's pauc_80: 0.161748\n",
      "[650]\tvalid_0's auc: 0.949337\tvalid_0's pauc_80: 0.161936\n",
      "[700]\tvalid_0's auc: 0.949873\tvalid_0's pauc_80: 0.162458\n",
      "[750]\tvalid_0's auc: 0.950171\tvalid_0's pauc_80: 0.162624\n",
      "[800]\tvalid_0's auc: 0.950731\tvalid_0's pauc_80: 0.163263\n",
      "[850]\tvalid_0's auc: 0.950566\tvalid_0's pauc_80: 0.163154\n",
      "[900]\tvalid_0's auc: 0.950915\tvalid_0's pauc_80: 0.163385\n",
      "[950]\tvalid_0's auc: 0.950904\tvalid_0's pauc_80: 0.163412\n",
      "[1000]\tvalid_0's auc: 0.951293\tvalid_0's pauc_80: 0.163711\n",
      "[1050]\tvalid_0's auc: 0.951095\tvalid_0's pauc_80: 0.163671\n",
      "[1100]\tvalid_0's auc: 0.951308\tvalid_0's pauc_80: 0.163925\n",
      "[1150]\tvalid_0's auc: 0.951157\tvalid_0's pauc_80: 0.163756\n",
      "Early stopping, best iteration is:\n",
      "[988]\tvalid_0's auc: 0.951444\tvalid_0's pauc_80: 0.16389\n",
      "\n",
      "\n",
      "Running fold: 3\n",
      "[LightGBM] [Warning] Met negative value in categorical features, will convert it to NaN\n",
      "[LightGBM] [Warning] Met negative value in categorical features, will convert it to NaN\n",
      "Training until validation scores don't improve for 200 rounds\n",
      "[50]\tvalid_0's auc: 0.937613\tvalid_0's pauc_80: 0.149129\n",
      "[100]\tvalid_0's auc: 0.937666\tvalid_0's pauc_80: 0.148879\n",
      "[150]\tvalid_0's auc: 0.939599\tvalid_0's pauc_80: 0.150403\n",
      "[200]\tvalid_0's auc: 0.938583\tvalid_0's pauc_80: 0.149168\n",
      "[250]\tvalid_0's auc: 0.938844\tvalid_0's pauc_80: 0.149311\n",
      "Early stopping, best iteration is:\n",
      "[63]\tvalid_0's auc: 0.939533\tvalid_0's pauc_80: 0.151309\n",
      "\n",
      "\n",
      "Running fold: 4\n",
      "Training until validation scores don't improve for 200 rounds\n",
      "[50]\tvalid_0's auc: 0.943981\tvalid_0's pauc_80: 0.152037\n",
      "[100]\tvalid_0's auc: 0.944024\tvalid_0's pauc_80: 0.151133\n",
      "[150]\tvalid_0's auc: 0.947533\tvalid_0's pauc_80: 0.154087\n",
      "[200]\tvalid_0's auc: 0.948948\tvalid_0's pauc_80: 0.155306\n",
      "[250]\tvalid_0's auc: 0.951481\tvalid_0's pauc_80: 0.157641\n",
      "[300]\tvalid_0's auc: 0.952347\tvalid_0's pauc_80: 0.158463\n",
      "[350]\tvalid_0's auc: 0.954156\tvalid_0's pauc_80: 0.160243\n",
      "[400]\tvalid_0's auc: 0.955315\tvalid_0's pauc_80: 0.161197\n",
      "[450]\tvalid_0's auc: 0.957114\tvalid_0's pauc_80: 0.162881\n",
      "[500]\tvalid_0's auc: 0.958717\tvalid_0's pauc_80: 0.164516\n",
      "[550]\tvalid_0's auc: 0.95871\tvalid_0's pauc_80: 0.164548\n",
      "[600]\tvalid_0's auc: 0.959131\tvalid_0's pauc_80: 0.165012\n",
      "[650]\tvalid_0's auc: 0.960206\tvalid_0's pauc_80: 0.166182\n",
      "[700]\tvalid_0's auc: 0.960585\tvalid_0's pauc_80: 0.166629\n",
      "[750]\tvalid_0's auc: 0.961376\tvalid_0's pauc_80: 0.167494\n",
      "[800]\tvalid_0's auc: 0.961992\tvalid_0's pauc_80: 0.168022\n",
      "[850]\tvalid_0's auc: 0.962776\tvalid_0's pauc_80: 0.168755\n",
      "[900]\tvalid_0's auc: 0.963513\tvalid_0's pauc_80: 0.169467\n",
      "[950]\tvalid_0's auc: 0.963691\tvalid_0's pauc_80: 0.169706\n",
      "[1000]\tvalid_0's auc: 0.963716\tvalid_0's pauc_80: 0.169848\n",
      "[1050]\tvalid_0's auc: 0.963962\tvalid_0's pauc_80: 0.170148\n",
      "[1100]\tvalid_0's auc: 0.963964\tvalid_0's pauc_80: 0.170173\n",
      "[1150]\tvalid_0's auc: 0.963922\tvalid_0's pauc_80: 0.17005\n",
      "[1200]\tvalid_0's auc: 0.964189\tvalid_0's pauc_80: 0.170271\n",
      "[1250]\tvalid_0's auc: 0.964512\tvalid_0's pauc_80: 0.170589\n",
      "[1300]\tvalid_0's auc: 0.96466\tvalid_0's pauc_80: 0.170752\n",
      "[1350]\tvalid_0's auc: 0.964636\tvalid_0's pauc_80: 0.170748\n",
      "[1400]\tvalid_0's auc: 0.964615\tvalid_0's pauc_80: 0.170709\n",
      "[1450]\tvalid_0's auc: 0.964954\tvalid_0's pauc_80: 0.171037\n",
      "[1500]\tvalid_0's auc: 0.965161\tvalid_0's pauc_80: 0.171283\n",
      "[1550]\tvalid_0's auc: 0.965274\tvalid_0's pauc_80: 0.171442\n",
      "[1600]\tvalid_0's auc: 0.965432\tvalid_0's pauc_80: 0.171596\n",
      "[1650]\tvalid_0's auc: 0.965435\tvalid_0's pauc_80: 0.171581\n",
      "[1700]\tvalid_0's auc: 0.965406\tvalid_0's pauc_80: 0.171583\n",
      "[1750]\tvalid_0's auc: 0.96531\tvalid_0's pauc_80: 0.171519\n",
      "[1800]\tvalid_0's auc: 0.96532\tvalid_0's pauc_80: 0.171528\n",
      "[1850]\tvalid_0's auc: 0.965213\tvalid_0's pauc_80: 0.171458\n",
      "Early stopping, best iteration is:\n",
      "[1658]\tvalid_0's auc: 0.965487\tvalid_0's pauc_80: 0.171625\n",
      "\n",
      "\n",
      "Running fold: 5\n",
      "[LightGBM] [Warning] Met negative value in categorical features, will convert it to NaN\n",
      "[LightGBM] [Warning] Met negative value in categorical features, will convert it to NaN\n",
      "Training until validation scores don't improve for 200 rounds\n",
      "[50]\tvalid_0's auc: 0.944224\tvalid_0's pauc_80: 0.159514\n",
      "[100]\tvalid_0's auc: 0.943235\tvalid_0's pauc_80: 0.159063\n",
      "[150]\tvalid_0's auc: 0.944547\tvalid_0's pauc_80: 0.159895\n",
      "[200]\tvalid_0's auc: 0.944163\tvalid_0's pauc_80: 0.158692\n",
      "Early stopping, best iteration is:\n",
      "[28]\tvalid_0's auc: 0.944412\tvalid_0's pauc_80: 0.161043\n",
      "\n",
      "\n",
      "Val AUC scores:\n",
      "{'fold_1': 0.9531667279524074,\n",
      " 'fold_2': 0.9514443115473888,\n",
      " 'fold_3': 0.9395333890753891,\n",
      " 'fold_4': 0.9654872958031224,\n",
      " 'fold_5': 0.9444118063975052}\n",
      "Val PAUC scores:\n",
      "{'fold_1': 0.16420023566784733,\n",
      " 'fold_2': 0.163890291454122,\n",
      " 'fold_3': 0.15130895034381198,\n",
      " 'fold_4': 0.17162505771798678,\n",
      " 'fold_5': 0.1610431311790302}\n",
      "CV AUC OOF: 0.9201900273703317\n",
      "CV PAUC OOF: 0.13156450616593596\n",
      "CV AUC AVG: 0.9508087061551626\n",
      "CV PAUC AVG: 0.16241353327255967\n",
      "CV AUC STD: 0.008825852444076455\n",
      "CV PAUC STD: 0.006563765180202958\n",
      "Index(['age_approx', 'clin_size_long_diam_mm', 'tbp_lv_A', 'tbp_lv_Aext',\n",
      "       'tbp_lv_B', 'tbp_lv_Bext', 'tbp_lv_C', 'tbp_lv_Cext', 'tbp_lv_H',\n",
      "       'tbp_lv_Hext', 'tbp_lv_L', 'tbp_lv_Lext', 'tbp_lv_areaMM2',\n",
      "       'tbp_lv_area_perim_ratio', 'tbp_lv_color_std_mean', 'tbp_lv_deltaA',\n",
      "       'tbp_lv_deltaB', 'tbp_lv_deltaL', 'tbp_lv_deltaLB',\n",
      "       'tbp_lv_deltaLBnorm', 'tbp_lv_eccentricity', 'tbp_lv_minorAxisMM',\n",
      "       'tbp_lv_nevi_confidence', 'tbp_lv_norm_border', 'tbp_lv_norm_color',\n",
      "       'tbp_lv_perimeterMM', 'tbp_lv_radial_color_std_max', 'tbp_lv_stdL',\n",
      "       'tbp_lv_stdLExt', 'tbp_lv_symm_2axis', 'tbp_lv_symm_2axis_angle',\n",
      "       'tbp_lv_x', 'tbp_lv_y', 'tbp_lv_z', 'num_images', 'lesion_size_ratio',\n",
      "       'hue_contrast', 'normalized_lesion_size', 'overall_color_difference',\n",
      "       'sex', 'anatom_site_general', 'tbp_tile_type', 'tbp_lv_location',\n",
      "       'tbp_lv_location_simple', 'attribution', 'copyright_license'],\n",
      "      dtype='object')\n"
     ]
    }
   ],
   "source": [
    "best_num_rounds = {}\n",
    "val_auc_scores = {}\n",
    "val_pauc_scores = {}\n",
    "all_folds = np.sort(folds.unique())\n",
    "oof_predictions = np.zeros(X_train.shape[0])\n",
    "for fold in all_folds:\n",
    "    print(f\"Running fold: {fold}\")\n",
    "    dev_index = folds[folds != fold].index\n",
    "    val_index = folds[folds == fold].index\n",
    "    \n",
    "    X_dev = X_train.loc[dev_index, :]\n",
    "    y_dev = y_train[dev_index]\n",
    "    \n",
    "    X_val = X_train.loc[val_index, :]\n",
    "    y_val = y_train[val_index]\n",
    "    \n",
    "    lgb_dataset_dev = lgb.Dataset(X_dev, label=y_dev, categorical_feature=categorical_features, free_raw_data=False)\n",
    "    lgb_dataset_val = lgb.Dataset(X_val, label=y_val, categorical_feature=categorical_features, free_raw_data=False)\n",
    "    \n",
    "    model = lgb.train(\n",
    "        params,\n",
    "        lgb_dataset_dev,\n",
    "        num_boost_round=num_rounds,\n",
    "        valid_sets=[lgb_dataset_val],\n",
    "        feval=pauc_80,\n",
    "        callbacks=[early_stopping(stopping_rounds=es_rounds), log_evaluation(log_rounds)],\n",
    "    )\n",
    "    \n",
    "    model.save_model(MODELS_OUTPUT_PATH / f\"{cfg.model_name}_fold_{fold}.txt\")\n",
    "    best_num_rounds[f\"fold_{fold}\"] = model.best_iteration\n",
    "    val_scores = dict(model.best_score[\"valid_0\"])\n",
    "    \n",
    "    val_auc_scores[f\"fold_{fold}\"] = val_scores[\"auc\"]\n",
    "    val_pauc_scores[f\"fold_{fold}\"] = val_scores[\"pauc_80\"]\n",
    "    \n",
    "    val_preds = model.predict(X_val, num_iteration=model.best_iteration)\n",
    "    oof_predictions[val_index] = val_preds\n",
    "    print(\"\\n\")\n",
    "\n",
    "print(\"Val AUC scores:\")\n",
    "pprint(val_auc_scores)\n",
    "print(\"Val PAUC scores:\")\n",
    "pprint(val_pauc_scores)\n",
    "\n",
    "oof_preds_df = pd.DataFrame({\n",
    "    id_column: train_ids,\n",
    "    group_column: groups,\n",
    "    \"fold\": folds,\n",
    "    target_column: y_train,\n",
    "    f\"oof_{cfg.model_name}\": oof_predictions\n",
    "})\n",
    "oof_preds_df.to_csv(f\"oof_preds_{cfg.model_name}.csv\", index=False)\n",
    "\n",
    "cv_auc_oof = compute_auc(oof_preds_df[target_column], oof_preds_df[f\"oof_{cfg.model_name}\"])\n",
    "cv_pauc_oof = compute_pauc(oof_preds_df[target_column], oof_preds_df[f\"oof_{cfg.model_name}\"], min_tpr=0.8)\n",
    "\n",
    "cv_auc_avg = np.mean(list(val_auc_scores.values()))\n",
    "cv_pauc_avg = np.mean(list(val_pauc_scores.values()))\n",
    "\n",
    "cv_auc_std = np.std(list(val_auc_scores.values()))\n",
    "cv_pauc_std = np.std(list(val_pauc_scores.values()))\n",
    "\n",
    "print(f\"CV AUC OOF: {cv_auc_oof}\")\n",
    "print(f\"CV PAUC OOF: {cv_pauc_oof}\")\n",
    "print(f\"CV AUC AVG: {cv_auc_avg}\")\n",
    "print(f\"CV PAUC AVG: {cv_pauc_avg}\")\n",
    "print(f\"CV AUC STD: {cv_auc_std}\")\n",
    "print(f\"CV PAUC STD: {cv_pauc_std}\")\n",
    "print(X_train.columns)"
   ]
  },
  {
   "cell_type": "code",
   "execution_count": 10,
   "id": "2181c9c1",
   "metadata": {
    "execution": {
     "iopub.execute_input": "2024-07-16T23:29:03.965184Z",
     "iopub.status.busy": "2024-07-16T23:29:03.964274Z",
     "iopub.status.idle": "2024-07-16T23:29:04.866503Z",
     "shell.execute_reply": "2024-07-16T23:29:04.865374Z"
    },
    "papermill": {
     "duration": 0.917442,
     "end_time": "2024-07-16T23:29:04.869687",
     "exception": false,
     "start_time": "2024-07-16T23:29:03.952245",
     "status": "completed"
    },
    "tags": []
   },
   "outputs": [
    {
     "data": {
      "text/plain": [
       "<Axes: >"
      ]
     },
     "execution_count": 10,
     "metadata": {},
     "output_type": "execute_result"
    },
    {
     "data": {
      "image/png": "[encoded data removed]",
      "text/plain": [
       "<Figure size 1000x1500 with 1 Axes>"
      ]
     },
     "metadata": {},
     "output_type": "display_data"
    }
   ],
   "source": [
    "feature_importances = 0\n",
    "for fold in all_folds:\n",
    "    model = lgb.Booster(model_file=MODELS_OUTPUT_PATH / f\"{cfg.model_name}_fold_{fold}.txt\")\n",
    "    if fold == 1:\n",
    "        feature_names = model.feature_name()\n",
    "    feature_importances += model.feature_importance(importance_type=\"gain\")\n",
    "feature_importances /= len(all_folds)\n",
    "\n",
    "imp = pd.DataFrame.from_dict(dict(zip(feature_names, feature_importances)), \n",
    "                             orient=\"index\", columns=[\"imp\"]).sort_values(\"imp\", ascending=True)\n",
    "imp.plot(kind=\"barh\", figsize=(10, 15))"
   ]
  },
  {
   "cell_type": "code",
   "execution_count": 11,
   "id": "44847299",
   "metadata": {
    "execution": {
     "iopub.execute_input": "2024-07-16T23:29:04.896000Z",
     "iopub.status.busy": "2024-07-16T23:29:04.895633Z",
     "iopub.status.idle": "2024-07-16T23:29:04.907096Z",
     "shell.execute_reply": "2024-07-16T23:29:04.906104Z"
    },
    "papermill": {
     "duration": 0.027636,
     "end_time": "2024-07-16T23:29:04.909627",
     "exception": false,
     "start_time": "2024-07-16T23:29:04.881991",
     "status": "completed"
    },
    "tags": []
   },
   "outputs": [],
   "source": [
    "metadata = {\n",
    "    \"params\": params,\n",
    "    \"num_rounds\": num_rounds,\n",
    "    \"es_rounds\": es_rounds,\n",
    "    \"best_num_rounds\": best_num_rounds,\n",
    "    \"val_auc_scores\": val_auc_scores,\n",
    "    \"val_pauc_scores\": val_pauc_scores,\n",
    "    \"cv_auc_oof\": cv_auc_oof,\n",
    "    \"cv_pauc_oof\": cv_pauc_oof,\n",
    "    \"cv_auc_avg\": cv_auc_avg,\n",
    "    \"cv_pauc_avg\": cv_pauc_avg\n",
    "}\n",
    "\n",
    "with open(f\"{cfg.model_name}_run_metadata.json\", \"w\") as f:\n",
    "    json.dump(metadata, f)"
   ]
  },
  {
   "cell_type": "code",
   "execution_count": null,
   "id": "59cb3714",
   "metadata": {
    "papermill": {
     "duration": 0.012022,
     "end_time": "2024-07-16T23:29:04.935612",
     "exception": false,
     "start_time": "2024-07-16T23:29:04.923590",
     "status": "completed"
    },
    "tags": []
   },
   "outputs": [],
   "source": []
  }
 ],
 "metadata": {
  "kaggle": {
   "accelerator": "none",
   "dataSources": [
    {
     "databundleVersionId": 9094797,
     "sourceId": 63056,
     "sourceType": "competition"
    },
    {
     "sourceId": 187439867,
     "sourceType": "kernelVersion"
    },
    {
     "sourceId": 187477024,
     "sourceType": "kernelVersion"
    }
   ],
   "dockerImageVersionId": 30732,
   "isGpuEnabled": false,
   "isInternetEnabled": false,
   "language": "python",
   "sourceType": "notebook"
  },
  "kernelspec": {
   "display_name": "Python 3",
   "language": "python",
   "name": "python3"
  },
  "language_info": {
   "codemirror_mode": {
    "name": "ipython",
    "version": 3
   },
   "file_extension": ".py",
   "mimetype": "text/x-python",
   "name": "python",
   "nbconvert_exporter": "python",
   "pygments_lexer": "ipython3",
   "version": "3.10.13"
  },
  "papermill": {
   "default_parameters": {},
   "duration": 378.106265,
   "end_time": "2024-07-16T23:29:06.172176",
   "environment_variables": {},
   "exception": null,
   "input_path": "__notebook__.ipynb",
   "output_path": "__notebook__.ipynb",
   "parameters": {},
   "start_time": "2024-07-16T23:22:48.065911",
   "version": "2.5.0"
  }
 },
 "nbformat": 4,
 "nbformat_minor": 5
}
