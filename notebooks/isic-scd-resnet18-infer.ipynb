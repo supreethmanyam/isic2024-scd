{
 "cells": [
  {
   "cell_type": "code",
   "execution_count": 1,
   "id": "52973339",
   "metadata": {
    "_cell_guid": "b1076dfc-b9ad-4769-8c92-a6c4dae69d19",
    "_uuid": "8f2839f25d086af736a60e9eeb907d3b93b6e0e5",
    "execution": {
     "iopub.execute_input": "2024-07-13T02:10:17.439568Z",
     "iopub.status.busy": "2024-07-13T02:10:17.438822Z",
     "iopub.status.idle": "2024-07-13T02:10:27.028348Z",
     "shell.execute_reply": "2024-07-13T02:10:27.027536Z"
    },
    "papermill": {
     "duration": 9.59809,
     "end_time": "2024-07-13T02:10:27.030652",
     "exception": false,
     "start_time": "2024-07-13T02:10:17.432562",
     "status": "completed"
    },
    "tags": []
   },
   "outputs": [],
   "source": [
    "import json\n",
    "from tqdm import tqdm\n",
    "from pathlib import Path\n",
    "from timeit import default_timer as timer\n",
    "\n",
    "import pandas as pd\n",
    "import numpy as np\n",
    "from io import BytesIO\n",
    "from PIL import Image\n",
    "import h5py\n",
    "\n",
    "import torch\n",
    "import torch.nn as nn\n",
    "import torch.nn.functional as F\n",
    "from torch.utils.data import DataLoader, Dataset\n",
    "import albumentations as A\n",
    "from albumentations.pytorch import ToTensorV2\n",
    "from timm import create_model\n",
    "\n",
    "from accelerate import Accelerator\n",
    "\n",
    "from isic_helper import DotDict\n",
    "from isic_helper import get_folds\n",
    "from isic_helper import time_to_str"
   ]
  },
  {
   "cell_type": "code",
   "execution_count": 2,
   "id": "fbc3f58b",
   "metadata": {
    "execution": {
     "iopub.execute_input": "2024-07-13T02:10:27.040828Z",
     "iopub.status.busy": "2024-07-13T02:10:27.040319Z",
     "iopub.status.idle": "2024-07-13T02:10:37.019516Z",
     "shell.execute_reply": "2024-07-13T02:10:37.018545Z"
    },
    "papermill": {
     "duration": 9.986994,
     "end_time": "2024-07-13T02:10:37.022244",
     "exception": false,
     "start_time": "2024-07-13T02:10:27.035250",
     "status": "completed"
    },
    "tags": []
   },
   "outputs": [
    {
     "name": "stdout",
     "output_type": "stream",
     "text": [
      "Train data size: (401059, 57)\n",
      "Test data size: (3, 44)\n"
     ]
    }
   ],
   "source": [
    "INPUT_PATH = Path(\"../input/isic-2024-challenge/\")\n",
    "ARTIFACTS_INPUT_PATH = Path(f\"../input/isic-scd-resnet18-train/\")\n",
    "\n",
    "# with open(ARTIFACTS_INPUT_PATH / \"run_metadata.json\", \"r\") as f:\n",
    "#     run_metadata = json.load(f)\n",
    "\n",
    "# cfg = DotDict()\n",
    "# for k, v in run_metadata[\"params\"].items():\n",
    "#     cfg[k] = v\n",
    "\n",
    "cfg = DotDict()\n",
    "cfg.infer = False\n",
    "cfg.cpu = False\n",
    "cfg.mixed_precision = \"fp16\"\n",
    "cfg.tta = False\n",
    "\n",
    "cfg.pos_ratio = 0.1\n",
    "\n",
    "cfg.image_size = 64\n",
    "cfg.lr = 5e-4\n",
    "cfg.num_epochs = 2\n",
    "cfg.seed = 2022\n",
    "cfg.train_batch_size = 256\n",
    "cfg.train_num_worker = 2\n",
    "cfg.val_batch_size = 256\n",
    "cfg.val_num_worker = 2\n",
    "cfg.log_every = 10\n",
    "\n",
    "cfg.models_output_dir = \"models\"\n",
    "cfg.model_name = \"resnet18_v1\"\n",
    "\n",
    "MODELS_INPUT_PATH = ARTIFACTS_INPUT_PATH / cfg.models_output_dir\n",
    "\n",
    "train_metadata = pd.read_csv(INPUT_PATH / \"train-metadata.csv\", low_memory=False)\n",
    "\n",
    "test_metadata = pd.read_csv(INPUT_PATH / \"test-metadata.csv\", low_memory=False)\n",
    "test_images = h5py.File(INPUT_PATH / \"test-image.hdf5\", mode=\"r\")\n",
    "\n",
    "folds_df = get_folds()\n",
    "train_metadata = train_metadata.merge(folds_df, on=[\"isic_id\", \"patient_id\"], how=\"inner\")\n",
    "print(f\"Train data size: {train_metadata.shape}\")\n",
    "print(f\"Test data size: {test_metadata.shape}\")"
   ]
  },
  {
   "cell_type": "code",
   "execution_count": 3,
   "id": "cc5fb834",
   "metadata": {
    "execution": {
     "iopub.execute_input": "2024-07-13T02:10:37.032415Z",
     "iopub.status.busy": "2024-07-13T02:10:37.032114Z",
     "iopub.status.idle": "2024-07-13T02:10:37.036583Z",
     "shell.execute_reply": "2024-07-13T02:10:37.035722Z"
    },
    "papermill": {
     "duration": 0.011582,
     "end_time": "2024-07-13T02:10:37.038535",
     "exception": false,
     "start_time": "2024-07-13T02:10:37.026953",
     "status": "completed"
    },
    "tags": []
   },
   "outputs": [],
   "source": [
    "id_column = \"isic_id\"\n",
    "target_column = \"target\"\n",
    "folds = train_metadata[\"fold\"]"
   ]
  },
  {
   "cell_type": "code",
   "execution_count": 4,
   "id": "ddd47fce",
   "metadata": {
    "execution": {
     "iopub.execute_input": "2024-07-13T02:10:37.048264Z",
     "iopub.status.busy": "2024-07-13T02:10:37.047971Z",
     "iopub.status.idle": "2024-07-13T02:10:37.137182Z",
     "shell.execute_reply": "2024-07-13T02:10:37.136389Z"
    },
    "papermill": {
     "duration": 0.09659,
     "end_time": "2024-07-13T02:10:37.139384",
     "exception": false,
     "start_time": "2024-07-13T02:10:37.042794",
     "status": "completed"
    },
    "tags": []
   },
   "outputs": [],
   "source": [
    "accelerator = Accelerator(cpu=cfg.cpu, mixed_precision=cfg.mixed_precision)"
   ]
  },
  {
   "cell_type": "code",
   "execution_count": 5,
   "id": "9c226a71",
   "metadata": {
    "execution": {
     "iopub.execute_input": "2024-07-13T02:10:37.149423Z",
     "iopub.status.busy": "2024-07-13T02:10:37.149120Z",
     "iopub.status.idle": "2024-07-13T02:10:37.155630Z",
     "shell.execute_reply": "2024-07-13T02:10:37.154809Z"
    },
    "papermill": {
     "duration": 0.013841,
     "end_time": "2024-07-13T02:10:37.157651",
     "exception": false,
     "start_time": "2024-07-13T02:10:37.143810",
     "status": "completed"
    },
    "tags": []
   },
   "outputs": [
    {
     "data": {
      "text/plain": [
       "device(type='cuda')"
      ]
     },
     "execution_count": 5,
     "metadata": {},
     "output_type": "execute_result"
    }
   ],
   "source": [
    "accelerator.device"
   ]
  },
  {
   "cell_type": "code",
   "execution_count": 6,
   "id": "b6ec2f55",
   "metadata": {
    "execution": {
     "iopub.execute_input": "2024-07-13T02:10:37.167622Z",
     "iopub.status.busy": "2024-07-13T02:10:37.167335Z",
     "iopub.status.idle": "2024-07-13T02:10:37.180638Z",
     "shell.execute_reply": "2024-07-13T02:10:37.179762Z"
    },
    "papermill": {
     "duration": 0.020641,
     "end_time": "2024-07-13T02:10:37.182671",
     "exception": false,
     "start_time": "2024-07-13T02:10:37.162030",
     "status": "completed"
    },
    "tags": []
   },
   "outputs": [],
   "source": [
    "def test_augment(image_size):\n",
    "    transform = A.Compose([\n",
    "        A.Resize(image_size, image_size),\n",
    "#         A.Normalize(\n",
    "#             mean=[0., 0., 0.],\n",
    "#             std=[1, 1, 1],\n",
    "#             max_pixel_value=255.0,\n",
    "#             p=1.0\n",
    "#         ),\n",
    "        ToTensorV2()\n",
    "    ], p=1.)\n",
    "    return transform\n",
    "\n",
    "class ISICDataset(Dataset):\n",
    "    def __init__(self, metadata, images, augment, infer=False):\n",
    "        self.metadata = metadata\n",
    "        self.images = images\n",
    "        self.augment = augment\n",
    "        self.length = len(self.metadata)\n",
    "        self.infer = infer\n",
    "    \n",
    "    def __len__(self):\n",
    "        return self.length\n",
    "    \n",
    "    def __getitem__(self, index):\n",
    "        data = self.metadata.iloc[index]\n",
    "        \n",
    "        image = np.array(Image.open(BytesIO(self.images[data[id_column]][()])))\n",
    "        image = self.augment(image=image)[\"image\"]\n",
    "        \n",
    "        record = {\n",
    "            \"image\": image\n",
    "        }\n",
    "        \n",
    "        if not self.infer:\n",
    "            target = data[target_column]\n",
    "            record[\"target\"] = torch.tensor(target).float()\n",
    "        \n",
    "        return record\n",
    "\n",
    "class ISICNet(nn.Module):\n",
    "    def __init__(self, arch=\"resnet18\", pretrained=False, infer=False):\n",
    "        super(ISICNet, self).__init__()\n",
    "        self.infer = infer\n",
    "        self.model = create_model(model_name=arch, pretrained=pretrained, in_chans=3,  num_classes=0, global_pool='')\n",
    "        self.classifier = nn.Linear(self.model.num_features, 1)\n",
    "        \n",
    "        self.dropouts = nn.ModuleList([nn.Dropout(0.5) for i in range(5)])\n",
    "        \n",
    "    def forward(self, batch):\n",
    "        image = batch[\"image\"]\n",
    "        image = image.float() / 255\n",
    "        \n",
    "        x = self.model(image)\n",
    "        bs = len(image)\n",
    "        pool = F.adaptive_avg_pool2d(x, 1).reshape(bs,-1)\n",
    "        \n",
    "        if self.training:\n",
    "            logit = 0\n",
    "            for i in range(len(self.dropouts)):\n",
    "                logit += self.classifier(self.dropouts[i](pool))\n",
    "            logit = logit/len(self.dropouts)\n",
    "        else:\n",
    "            logit = self.classifier(pool)\n",
    "        return logit"
   ]
  },
  {
   "cell_type": "code",
   "execution_count": 7,
   "id": "7bdd43dd",
   "metadata": {
    "execution": {
     "iopub.execute_input": "2024-07-13T02:10:37.192782Z",
     "iopub.status.busy": "2024-07-13T02:10:37.192461Z",
     "iopub.status.idle": "2024-07-13T02:10:38.974190Z",
     "shell.execute_reply": "2024-07-13T02:10:38.972859Z"
    },
    "papermill": {
     "duration": 1.789061,
     "end_time": "2024-07-13T02:10:38.976203",
     "exception": false,
     "start_time": "2024-07-13T02:10:37.187142",
     "status": "completed"
    },
    "tags": []
   },
   "outputs": [
    {
     "name": "stderr",
     "output_type": "stream",
     "text": [
      "100%|██████████| 1/1 [00:00<00:00,  1.15it/s]\n"
     ]
    }
   ],
   "source": [
    "all_folds = np.sort(folds.unique())\n",
    "test_predictions_df = pd.DataFrame({id_column: test_metadata[id_column]})\n",
    "test_dataset = ISICDataset(test_metadata, test_images, augment=test_augment(image_size=cfg.image_size), infer=True)\n",
    "test_dataloader = DataLoader(test_dataset, shuffle=False, batch_size=cfg.val_batch_size, num_workers=cfg.val_num_worker, drop_last=False, pin_memory=True)\n",
    "for fold in all_folds:\n",
    "    net = ISICNet(pretrained=False, infer=True)\n",
    "    net = net.to(accelerator.device)\n",
    "    \n",
    "    net, test_dataloader = accelerator.prepare(net, test_dataloader)\n",
    "    \n",
    "    accelerator.load_state(MODELS_INPUT_PATH / f\"fold_{fold}/model_{cfg.model_name}_epoch_{1}\")\n",
    "    \n",
    "    net.eval()\n",
    "    test_preds = []\n",
    "    for step, batch in tqdm(enumerate(test_dataloader), total=len(test_dataloader)):\n",
    "        # We could avoid this line since we set the accelerator with `device_placement=True`.\n",
    "        batch = {k: v.to(accelerator.device) for k, v in batch.items()}\n",
    "        test_preds_batch = 0\n",
    "        counter = 0\n",
    "        with torch.no_grad():\n",
    "            outputs = net(batch)\n",
    "        preds = torch.sigmoid(outputs)\n",
    "        preds = accelerator.gather_for_metrics((preds))\n",
    "        test_preds_batch += preds.data.cpu().numpy().reshape(-1)\n",
    "        counter += 1\n",
    "        if cfg.tta:\n",
    "            batch[\"image\"] = torch.flip(image0,dims=[2])\n",
    "            with torch.no_grad():\n",
    "                outputs = net(batch)\n",
    "            preds = torch.sigmoid(outputs)\n",
    "            preds = accelerator.gather_for_metrics((preds))\n",
    "            test_preds_batch += preds.data.cpu().numpy().reshape(-1)\n",
    "            counter += 1\n",
    "\n",
    "            batch[\"image\"] = torch.flip(image0,dims=[3])\n",
    "            with torch.no_grad():\n",
    "                outputs = net(batch)\n",
    "            preds = torch.sigmoid(outputs)\n",
    "            preds = accelerator.gather_for_metrics((preds))\n",
    "            test_preds_batch += preds.data.cpu().numpy().reshape(-1)\n",
    "            counter += 1\n",
    "\n",
    "            for k in [1, 2, 3]:\n",
    "                batch[\"image\"] = torch.rot90(image0,k, dims=[2, 2])\n",
    "                with torch.no_grad():\n",
    "                    outputs = net(batch)\n",
    "                preds = torch.sigmoid(outputs)\n",
    "                preds = accelerator.gather_for_metrics((preds))\n",
    "                test_preds_batch += preds.data.cpu().numpy().reshape(-1)\n",
    "                counter += 1\n",
    "        test_preds_batch = test_preds_batch / counter   \n",
    "        test_preds.append(test_preds_batch)\n",
    "\n",
    "    test_preds = np.concatenate(test_preds)\n",
    "    break"
   ]
  },
  {
   "cell_type": "code",
   "execution_count": 8,
   "id": "05ee3fbb",
   "metadata": {
    "execution": {
     "iopub.execute_input": "2024-07-13T02:10:38.987139Z",
     "iopub.status.busy": "2024-07-13T02:10:38.986801Z",
     "iopub.status.idle": "2024-07-13T02:10:38.993042Z",
     "shell.execute_reply": "2024-07-13T02:10:38.992180Z"
    },
    "papermill": {
     "duration": 0.013986,
     "end_time": "2024-07-13T02:10:38.995047",
     "exception": false,
     "start_time": "2024-07-13T02:10:38.981061",
     "status": "completed"
    },
    "tags": []
   },
   "outputs": [],
   "source": [
    "test_predictions_df[target_column] = test_preds"
   ]
  },
  {
   "cell_type": "code",
   "execution_count": 9,
   "id": "21ce2dcb",
   "metadata": {
    "execution": {
     "iopub.execute_input": "2024-07-13T02:10:39.005661Z",
     "iopub.status.busy": "2024-07-13T02:10:39.005341Z",
     "iopub.status.idle": "2024-07-13T02:10:39.018473Z",
     "shell.execute_reply": "2024-07-13T02:10:39.017462Z"
    },
    "papermill": {
     "duration": 0.02081,
     "end_time": "2024-07-13T02:10:39.020529",
     "exception": false,
     "start_time": "2024-07-13T02:10:38.999719",
     "status": "completed"
    },
    "tags": []
   },
   "outputs": [
    {
     "data": {
      "text/html": [
       "<div>\n",
       "<style scoped>\n",
       "    .dataframe tbody tr th:only-of-type {\n",
       "        vertical-align: middle;\n",
       "    }\n",
       "\n",
       "    .dataframe tbody tr th {\n",
       "        vertical-align: top;\n",
       "    }\n",
       "\n",
       "    .dataframe thead th {\n",
       "        text-align: right;\n",
       "    }\n",
       "</style>\n",
       "<table border=\"1\" class=\"dataframe\">\n",
       "  <thead>\n",
       "    <tr style=\"text-align: right;\">\n",
       "      <th></th>\n",
       "      <th>isic_id</th>\n",
       "      <th>target</th>\n",
       "    </tr>\n",
       "  </thead>\n",
       "  <tbody>\n",
       "    <tr>\n",
       "      <th>0</th>\n",
       "      <td>ISIC_0015657</td>\n",
       "      <td>0.038829</td>\n",
       "    </tr>\n",
       "    <tr>\n",
       "      <th>1</th>\n",
       "      <td>ISIC_0015729</td>\n",
       "      <td>0.010987</td>\n",
       "    </tr>\n",
       "    <tr>\n",
       "      <th>2</th>\n",
       "      <td>ISIC_0015740</td>\n",
       "      <td>0.002878</td>\n",
       "    </tr>\n",
       "  </tbody>\n",
       "</table>\n",
       "</div>"
      ],
      "text/plain": [
       "        isic_id    target\n",
       "0  ISIC_0015657  0.038829\n",
       "1  ISIC_0015729  0.010987\n",
       "2  ISIC_0015740  0.002878"
      ]
     },
     "execution_count": 9,
     "metadata": {},
     "output_type": "execute_result"
    }
   ],
   "source": [
    "test_predictions_df.head()"
   ]
  },
  {
   "cell_type": "code",
   "execution_count": 10,
   "id": "22cf77d7",
   "metadata": {
    "execution": {
     "iopub.execute_input": "2024-07-13T02:10:39.031383Z",
     "iopub.status.busy": "2024-07-13T02:10:39.031081Z",
     "iopub.status.idle": "2024-07-13T02:10:39.044040Z",
     "shell.execute_reply": "2024-07-13T02:10:39.043190Z"
    },
    "papermill": {
     "duration": 0.020598,
     "end_time": "2024-07-13T02:10:39.046037",
     "exception": false,
     "start_time": "2024-07-13T02:10:39.025439",
     "status": "completed"
    },
    "tags": []
   },
   "outputs": [
    {
     "data": {
      "text/plain": [
       "count    3.000000\n",
       "mean     0.017565\n",
       "std      0.018856\n",
       "min      0.002878\n",
       "25%      0.006933\n",
       "50%      0.010987\n",
       "75%      0.024908\n",
       "max      0.038829\n",
       "Name: target, dtype: float64"
      ]
     },
     "execution_count": 10,
     "metadata": {},
     "output_type": "execute_result"
    }
   ],
   "source": [
    "test_predictions_df[target_column].describe()"
   ]
  },
  {
   "cell_type": "code",
   "execution_count": 11,
   "id": "74036120",
   "metadata": {
    "execution": {
     "iopub.execute_input": "2024-07-13T02:10:39.057181Z",
     "iopub.status.busy": "2024-07-13T02:10:39.056872Z",
     "iopub.status.idle": "2024-07-13T02:10:39.064781Z",
     "shell.execute_reply": "2024-07-13T02:10:39.063941Z"
    },
    "papermill": {
     "duration": 0.015679,
     "end_time": "2024-07-13T02:10:39.066727",
     "exception": false,
     "start_time": "2024-07-13T02:10:39.051048",
     "status": "completed"
    },
    "tags": []
   },
   "outputs": [],
   "source": [
    "test_predictions_df[[id_column, target_column]].to_csv(\"submission.csv\", index=False)"
   ]
  },
  {
   "cell_type": "code",
   "execution_count": null,
   "id": "e7642850",
   "metadata": {
    "papermill": {
     "duration": 0.004703,
     "end_time": "2024-07-13T02:10:39.076468",
     "exception": false,
     "start_time": "2024-07-13T02:10:39.071765",
     "status": "completed"
    },
    "tags": []
   },
   "outputs": [],
   "source": []
  }
 ],
 "metadata": {
  "kaggle": {
   "accelerator": "gpu",
   "dataSources": [
    {
     "databundleVersionId": 8940774,
     "sourceId": 63056,
     "sourceType": "competition"
    },
    {
     "sourceId": 187477024,
     "sourceType": "kernelVersion"
    },
    {
     "sourceId": 188039676,
     "sourceType": "kernelVersion"
    },
    {
     "sourceId": 187439867,
     "sourceType": "kernelVersion"
    }
   ],
   "dockerImageVersionId": 30733,
   "isGpuEnabled": true,
   "isInternetEnabled": false,
   "language": "python",
   "sourceType": "notebook"
  },
  "kernelspec": {
   "display_name": "Python 3",
   "language": "python",
   "name": "python3"
  },
  "language_info": {
   "codemirror_mode": {
    "name": "ipython",
    "version": 3
   },
   "file_extension": ".py",
   "mimetype": "text/x-python",
   "name": "python",
   "nbconvert_exporter": "python",
   "pygments_lexer": "ipython3",
   "version": "3.10.13"
  },
  "papermill": {
   "default_parameters": {},
   "duration": 27.16789,
   "end_time": "2024-07-13T02:10:41.800535",
   "environment_variables": {},
   "exception": null,
   "input_path": "__notebook__.ipynb",
   "output_path": "__notebook__.ipynb",
   "parameters": {},
   "start_time": "2024-07-13T02:10:14.632645",
   "version": "2.5.0"
  }
 },
 "nbformat": 4,
 "nbformat_minor": 5
}
