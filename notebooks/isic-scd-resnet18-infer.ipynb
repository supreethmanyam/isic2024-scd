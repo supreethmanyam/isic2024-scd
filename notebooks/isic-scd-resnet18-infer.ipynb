{
 "cells": [
  {
   "cell_type": "code",
   "execution_count": 1,
   "id": "cead2920",
   "metadata": {
    "_cell_guid": "b1076dfc-b9ad-4769-8c92-a6c4dae69d19",
    "_uuid": "8f2839f25d086af736a60e9eeb907d3b93b6e0e5",
    "execution": {
     "iopub.execute_input": "2024-07-13T07:56:19.698367Z",
     "iopub.status.busy": "2024-07-13T07:56:19.698100Z",
     "iopub.status.idle": "2024-07-13T07:56:28.533276Z",
     "shell.execute_reply": "2024-07-13T07:56:28.532367Z"
    },
    "papermill": {
     "duration": 8.843097,
     "end_time": "2024-07-13T07:56:28.535696",
     "exception": false,
     "start_time": "2024-07-13T07:56:19.692599",
     "status": "completed"
    },
    "tags": []
   },
   "outputs": [],
   "source": [
    "import json\n",
    "from tqdm import tqdm\n",
    "from pathlib import Path\n",
    "from timeit import default_timer as timer\n",
    "\n",
    "import pandas as pd\n",
    "import numpy as np\n",
    "from io import BytesIO\n",
    "from PIL import Image\n",
    "import h5py\n",
    "\n",
    "import torch\n",
    "import torch.nn as nn\n",
    "import torch.nn.functional as F\n",
    "from torch.utils.data import DataLoader, Dataset\n",
    "import albumentations as A\n",
    "from albumentations.pytorch import ToTensorV2\n",
    "from timm import create_model\n",
    "\n",
    "from accelerate import Accelerator\n",
    "\n",
    "from isic_helper import DotDict\n",
    "from isic_helper import get_folds\n",
    "from isic_helper import time_to_str"
   ]
  },
  {
   "cell_type": "code",
   "execution_count": 2,
   "id": "9a010826",
   "metadata": {
    "execution": {
     "iopub.execute_input": "2024-07-13T07:56:28.546465Z",
     "iopub.status.busy": "2024-07-13T07:56:28.545687Z",
     "iopub.status.idle": "2024-07-13T07:56:38.172191Z",
     "shell.execute_reply": "2024-07-13T07:56:38.171005Z"
    },
    "papermill": {
     "duration": 9.634093,
     "end_time": "2024-07-13T07:56:38.174426",
     "exception": false,
     "start_time": "2024-07-13T07:56:28.540333",
     "status": "completed"
    },
    "tags": []
   },
   "outputs": [
    {
     "name": "stdout",
     "output_type": "stream",
     "text": [
      "DotDict(_temp=False, _key=None, _parent=None, infer=True, cpu=False, mixed_precision='fp16', tta=True, pos_ratio=0.1, image_size=64, lr=0.0005, num_epochs=2, seed=2022, train_batch_size=256, train_num_worker=2, val_batch_size=256, val_num_worker=2, log_every=10, models_output_dir='models', model_name='resnet18_v1')\n",
      "Train data size: (401059, 57)\n",
      "Test data size: (3, 44)\n"
     ]
    }
   ],
   "source": [
    "INPUT_PATH = Path(\"../input/isic-2024-challenge/\")\n",
    "ARTIFACTS_INPUT_PATH = Path(f\"../input/isic-scd-resnet18-train/\")\n",
    "\n",
    "with open(ARTIFACTS_INPUT_PATH / \"run_metadata.json\", \"r\") as f:\n",
    "    run_metadata = json.load(f)\n",
    "\n",
    "cfg = DotDict()\n",
    "for k, v in run_metadata[\"params\"].items():\n",
    "    setattr(cfg, k, v)\n",
    "setattr(cfg, \"infer\", True)\n",
    "print(cfg)\n",
    "\n",
    "MODELS_INPUT_PATH = ARTIFACTS_INPUT_PATH / cfg.models_output_dir\n",
    "\n",
    "train_metadata = pd.read_csv(INPUT_PATH / \"train-metadata.csv\", low_memory=False)\n",
    "\n",
    "test_metadata = pd.read_csv(INPUT_PATH / \"test-metadata.csv\", low_memory=False)\n",
    "test_images = h5py.File(INPUT_PATH / \"test-image.hdf5\", mode=\"r\")\n",
    "\n",
    "folds_df = get_folds()\n",
    "train_metadata = train_metadata.merge(folds_df, on=[\"isic_id\", \"patient_id\"], how=\"inner\")\n",
    "print(f\"Train data size: {train_metadata.shape}\")\n",
    "print(f\"Test data size: {test_metadata.shape}\")"
   ]
  },
  {
   "cell_type": "code",
   "execution_count": 3,
   "id": "4148683f",
   "metadata": {
    "execution": {
     "iopub.execute_input": "2024-07-13T07:56:38.184190Z",
     "iopub.status.busy": "2024-07-13T07:56:38.183920Z",
     "iopub.status.idle": "2024-07-13T07:56:38.188214Z",
     "shell.execute_reply": "2024-07-13T07:56:38.187328Z"
    },
    "papermill": {
     "duration": 0.011291,
     "end_time": "2024-07-13T07:56:38.190129",
     "exception": false,
     "start_time": "2024-07-13T07:56:38.178838",
     "status": "completed"
    },
    "tags": []
   },
   "outputs": [],
   "source": [
    "id_column = \"isic_id\"\n",
    "target_column = \"target\"\n",
    "folds = train_metadata[\"fold\"]"
   ]
  },
  {
   "cell_type": "code",
   "execution_count": 4,
   "id": "43ac1d40",
   "metadata": {
    "execution": {
     "iopub.execute_input": "2024-07-13T07:56:38.199737Z",
     "iopub.status.busy": "2024-07-13T07:56:38.199469Z",
     "iopub.status.idle": "2024-07-13T07:56:38.212482Z",
     "shell.execute_reply": "2024-07-13T07:56:38.211678Z"
    },
    "papermill": {
     "duration": 0.019947,
     "end_time": "2024-07-13T07:56:38.214356",
     "exception": false,
     "start_time": "2024-07-13T07:56:38.194409",
     "status": "completed"
    },
    "tags": []
   },
   "outputs": [],
   "source": [
    "def test_augment(image_size):\n",
    "    transform = A.Compose([\n",
    "        A.Resize(image_size, image_size),\n",
    "#         A.Normalize(\n",
    "#             mean=[0., 0., 0.],\n",
    "#             std=[1, 1, 1],\n",
    "#             max_pixel_value=255.0,\n",
    "#             p=1.0\n",
    "#         ),\n",
    "        ToTensorV2()\n",
    "    ], p=1.)\n",
    "    return transform\n",
    "\n",
    "class ISICDataset(Dataset):\n",
    "    def __init__(self, metadata, images, augment, infer=False):\n",
    "        self.metadata = metadata\n",
    "        self.images = images\n",
    "        self.augment = augment\n",
    "        self.length = len(self.metadata)\n",
    "        self.infer = infer\n",
    "    \n",
    "    def __len__(self):\n",
    "        return self.length\n",
    "    \n",
    "    def __getitem__(self, index):\n",
    "        data = self.metadata.iloc[index]\n",
    "        \n",
    "        image = np.array(Image.open(BytesIO(self.images[data[id_column]][()])))\n",
    "        image = self.augment(image=image)[\"image\"]\n",
    "        \n",
    "        record = {\n",
    "            \"image\": image\n",
    "        }\n",
    "        \n",
    "        if not self.infer:\n",
    "            target = data[target_column]\n",
    "            record[\"target\"] = torch.tensor(target).float()\n",
    "        \n",
    "        return record\n",
    "\n",
    "class ISICNet(nn.Module):\n",
    "    def __init__(self, arch=\"resnet18\", pretrained=False, infer=False):\n",
    "        super(ISICNet, self).__init__()\n",
    "        self.infer = infer\n",
    "        self.model = create_model(model_name=arch, pretrained=pretrained, in_chans=3,  num_classes=0, global_pool='')\n",
    "        self.classifier = nn.Linear(self.model.num_features, 1)\n",
    "        \n",
    "        self.dropouts = nn.ModuleList([nn.Dropout(0.5) for i in range(5)])\n",
    "        \n",
    "    def forward(self, batch):\n",
    "        image = batch[\"image\"]\n",
    "        image = image.float() / 255\n",
    "        \n",
    "        x = self.model(image)\n",
    "        bs = len(image)\n",
    "        pool = F.adaptive_avg_pool2d(x, 1).reshape(bs,-1)\n",
    "        \n",
    "        if self.training:\n",
    "            logit = 0\n",
    "            for i in range(len(self.dropouts)):\n",
    "                logit += self.classifier(self.dropouts[i](pool))\n",
    "            logit = logit/len(self.dropouts)\n",
    "        else:\n",
    "            logit = self.classifier(pool)\n",
    "        return logit"
   ]
  },
  {
   "cell_type": "code",
   "execution_count": 5,
   "id": "3aac5f77",
   "metadata": {
    "execution": {
     "iopub.execute_input": "2024-07-13T07:56:38.223765Z",
     "iopub.status.busy": "2024-07-13T07:56:38.223488Z",
     "iopub.status.idle": "2024-07-13T07:56:43.509553Z",
     "shell.execute_reply": "2024-07-13T07:56:43.508489Z"
    },
    "papermill": {
     "duration": 5.29324,
     "end_time": "2024-07-13T07:56:43.511795",
     "exception": false,
     "start_time": "2024-07-13T07:56:38.218555",
     "status": "completed"
    },
    "tags": []
   },
   "outputs": [
    {
     "name": "stderr",
     "output_type": "stream",
     "text": [
      "100%|██████████| 1/1 [00:00<00:00,  1.14it/s]\n",
      "100%|██████████| 1/1 [00:00<00:00, 10.03it/s]\n",
      "100%|██████████| 1/1 [00:00<00:00,  9.98it/s]\n",
      "100%|██████████| 1/1 [00:00<00:00, 10.37it/s]\n",
      "100%|██████████| 1/1 [00:00<00:00, 10.09it/s]\n"
     ]
    }
   ],
   "source": [
    "all_folds = np.sort(folds.unique())\n",
    "test_predictions_df = pd.DataFrame({id_column: test_metadata[id_column]})\n",
    "test_dataset = ISICDataset(test_metadata, test_images, augment=test_augment(image_size=cfg.image_size), infer=True)\n",
    "test_dataloader = DataLoader(test_dataset, shuffle=False, batch_size=cfg.val_batch_size, num_workers=cfg.val_num_worker, drop_last=False, pin_memory=True)\n",
    "for fold in all_folds:\n",
    "    accelerator = Accelerator(cpu=cfg.cpu, mixed_precision=cfg.mixed_precision)\n",
    "    \n",
    "    net = ISICNet(pretrained=False, infer=True)\n",
    "    net = net.to(accelerator.device)\n",
    "    \n",
    "    net, test_dataloader = accelerator.prepare(net, test_dataloader)\n",
    "    \n",
    "    accelerator.load_state(MODELS_INPUT_PATH / \n",
    "                           f\"fold_{fold}/model_{cfg.model_name}_epoch_{run_metadata['best_num_epochs'][f'fold_{fold}']}\")\n",
    "    \n",
    "    net.eval()\n",
    "    test_preds = []\n",
    "    for step, batch in tqdm(enumerate(test_dataloader), total=len(test_dataloader)):\n",
    "        # We could avoid this line since we set the accelerator with `device_placement=True`.\n",
    "        batch = {k: v.to(accelerator.device) for k, v in batch.items()}\n",
    "        \n",
    "        image0 = batch['image'].clone().detach()\n",
    "        test_preds_batch = 0\n",
    "        counter = 0\n",
    "        with torch.no_grad():\n",
    "            outputs = net(batch)\n",
    "        preds = torch.sigmoid(outputs)\n",
    "        preds = accelerator.gather_for_metrics((preds))\n",
    "        test_preds_batch += preds.data.cpu().numpy().reshape(-1)\n",
    "        counter += 1\n",
    "        if cfg.tta:\n",
    "            batch[\"image\"] = torch.flip(image0,dims=[2])\n",
    "            with torch.no_grad():\n",
    "                outputs = net(batch)\n",
    "            preds = torch.sigmoid(outputs)\n",
    "            preds = accelerator.gather_for_metrics((preds))\n",
    "            test_preds_batch += preds.data.cpu().numpy().reshape(-1)\n",
    "            counter += 1\n",
    "\n",
    "            batch[\"image\"] = torch.flip(image0,dims=[3])\n",
    "            with torch.no_grad():\n",
    "                outputs = net(batch)\n",
    "            preds = torch.sigmoid(outputs)\n",
    "            preds = accelerator.gather_for_metrics((preds))\n",
    "            test_preds_batch += preds.data.cpu().numpy().reshape(-1)\n",
    "            counter += 1\n",
    "\n",
    "            for k in [1, 2, 3]:\n",
    "                batch[\"image\"] = torch.rot90(image0,k, dims=[2, 3])\n",
    "                with torch.no_grad():\n",
    "                    outputs = net(batch)\n",
    "                preds = torch.sigmoid(outputs)\n",
    "                preds = accelerator.gather_for_metrics((preds))\n",
    "                test_preds_batch += preds.data.cpu().numpy().reshape(-1)\n",
    "                counter += 1\n",
    "                \n",
    "        test_preds_batch = test_preds_batch / counter   \n",
    "        test_preds.append(test_preds_batch)\n",
    "\n",
    "    test_predictions_df[f\"fold_{fold}\"] = np.concatenate(test_preds)"
   ]
  },
  {
   "cell_type": "code",
   "execution_count": 6,
   "id": "a98296da",
   "metadata": {
    "execution": {
     "iopub.execute_input": "2024-07-13T07:56:43.525181Z",
     "iopub.status.busy": "2024-07-13T07:56:43.524890Z",
     "iopub.status.idle": "2024-07-13T07:56:43.541395Z",
     "shell.execute_reply": "2024-07-13T07:56:43.540583Z"
    },
    "papermill": {
     "duration": 0.025041,
     "end_time": "2024-07-13T07:56:43.543304",
     "exception": false,
     "start_time": "2024-07-13T07:56:43.518263",
     "status": "completed"
    },
    "tags": []
   },
   "outputs": [
    {
     "data": {
      "text/html": [
       "<div>\n",
       "<style scoped>\n",
       "    .dataframe tbody tr th:only-of-type {\n",
       "        vertical-align: middle;\n",
       "    }\n",
       "\n",
       "    .dataframe tbody tr th {\n",
       "        vertical-align: top;\n",
       "    }\n",
       "\n",
       "    .dataframe thead th {\n",
       "        text-align: right;\n",
       "    }\n",
       "</style>\n",
       "<table border=\"1\" class=\"dataframe\">\n",
       "  <thead>\n",
       "    <tr style=\"text-align: right;\">\n",
       "      <th></th>\n",
       "      <th>isic_id</th>\n",
       "      <th>fold_1</th>\n",
       "      <th>fold_2</th>\n",
       "      <th>fold_3</th>\n",
       "      <th>fold_4</th>\n",
       "      <th>fold_5</th>\n",
       "    </tr>\n",
       "  </thead>\n",
       "  <tbody>\n",
       "    <tr>\n",
       "      <th>0</th>\n",
       "      <td>ISIC_0015657</td>\n",
       "      <td>0.034406</td>\n",
       "      <td>0.004699</td>\n",
       "      <td>0.044073</td>\n",
       "      <td>0.022713</td>\n",
       "      <td>0.009722</td>\n",
       "    </tr>\n",
       "    <tr>\n",
       "      <th>1</th>\n",
       "      <td>ISIC_0015729</td>\n",
       "      <td>0.002871</td>\n",
       "      <td>0.007256</td>\n",
       "      <td>0.004397</td>\n",
       "      <td>0.002938</td>\n",
       "      <td>0.004260</td>\n",
       "    </tr>\n",
       "    <tr>\n",
       "      <th>2</th>\n",
       "      <td>ISIC_0015740</td>\n",
       "      <td>0.001809</td>\n",
       "      <td>0.001002</td>\n",
       "      <td>0.000895</td>\n",
       "      <td>0.000653</td>\n",
       "      <td>0.002529</td>\n",
       "    </tr>\n",
       "  </tbody>\n",
       "</table>\n",
       "</div>"
      ],
      "text/plain": [
       "        isic_id    fold_1    fold_2    fold_3    fold_4    fold_5\n",
       "0  ISIC_0015657  0.034406  0.004699  0.044073  0.022713  0.009722\n",
       "1  ISIC_0015729  0.002871  0.007256  0.004397  0.002938  0.004260\n",
       "2  ISIC_0015740  0.001809  0.001002  0.000895  0.000653  0.002529"
      ]
     },
     "execution_count": 6,
     "metadata": {},
     "output_type": "execute_result"
    }
   ],
   "source": [
    "test_predictions_df.head()"
   ]
  },
  {
   "cell_type": "code",
   "execution_count": 7,
   "id": "192b8cfe",
   "metadata": {
    "execution": {
     "iopub.execute_input": "2024-07-13T07:56:43.555827Z",
     "iopub.status.busy": "2024-07-13T07:56:43.555583Z",
     "iopub.status.idle": "2024-07-13T07:56:43.561837Z",
     "shell.execute_reply": "2024-07-13T07:56:43.560993Z"
    },
    "papermill": {
     "duration": 0.014685,
     "end_time": "2024-07-13T07:56:43.563730",
     "exception": false,
     "start_time": "2024-07-13T07:56:43.549045",
     "status": "completed"
    },
    "tags": []
   },
   "outputs": [],
   "source": [
    "test_predictions_df[target_column] = test_predictions_df[[f\"fold_{fold}\" for fold in all_folds]].mean(axis=1)"
   ]
  },
  {
   "cell_type": "code",
   "execution_count": 8,
   "id": "a1c659ab",
   "metadata": {
    "execution": {
     "iopub.execute_input": "2024-07-13T07:56:43.576215Z",
     "iopub.status.busy": "2024-07-13T07:56:43.575982Z",
     "iopub.status.idle": "2024-07-13T07:56:43.587280Z",
     "shell.execute_reply": "2024-07-13T07:56:43.586438Z"
    },
    "papermill": {
     "duration": 0.019859,
     "end_time": "2024-07-13T07:56:43.589255",
     "exception": false,
     "start_time": "2024-07-13T07:56:43.569396",
     "status": "completed"
    },
    "tags": []
   },
   "outputs": [
    {
     "data": {
      "text/html": [
       "<div>\n",
       "<style scoped>\n",
       "    .dataframe tbody tr th:only-of-type {\n",
       "        vertical-align: middle;\n",
       "    }\n",
       "\n",
       "    .dataframe tbody tr th {\n",
       "        vertical-align: top;\n",
       "    }\n",
       "\n",
       "    .dataframe thead th {\n",
       "        text-align: right;\n",
       "    }\n",
       "</style>\n",
       "<table border=\"1\" class=\"dataframe\">\n",
       "  <thead>\n",
       "    <tr style=\"text-align: right;\">\n",
       "      <th></th>\n",
       "      <th>isic_id</th>\n",
       "      <th>fold_1</th>\n",
       "      <th>fold_2</th>\n",
       "      <th>fold_3</th>\n",
       "      <th>fold_4</th>\n",
       "      <th>fold_5</th>\n",
       "      <th>target</th>\n",
       "    </tr>\n",
       "  </thead>\n",
       "  <tbody>\n",
       "    <tr>\n",
       "      <th>0</th>\n",
       "      <td>ISIC_0015657</td>\n",
       "      <td>0.034406</td>\n",
       "      <td>0.004699</td>\n",
       "      <td>0.044073</td>\n",
       "      <td>0.022713</td>\n",
       "      <td>0.009722</td>\n",
       "      <td>0.023122</td>\n",
       "    </tr>\n",
       "    <tr>\n",
       "      <th>1</th>\n",
       "      <td>ISIC_0015729</td>\n",
       "      <td>0.002871</td>\n",
       "      <td>0.007256</td>\n",
       "      <td>0.004397</td>\n",
       "      <td>0.002938</td>\n",
       "      <td>0.004260</td>\n",
       "      <td>0.004345</td>\n",
       "    </tr>\n",
       "    <tr>\n",
       "      <th>2</th>\n",
       "      <td>ISIC_0015740</td>\n",
       "      <td>0.001809</td>\n",
       "      <td>0.001002</td>\n",
       "      <td>0.000895</td>\n",
       "      <td>0.000653</td>\n",
       "      <td>0.002529</td>\n",
       "      <td>0.001377</td>\n",
       "    </tr>\n",
       "  </tbody>\n",
       "</table>\n",
       "</div>"
      ],
      "text/plain": [
       "        isic_id    fold_1    fold_2    fold_3    fold_4    fold_5    target\n",
       "0  ISIC_0015657  0.034406  0.004699  0.044073  0.022713  0.009722  0.023122\n",
       "1  ISIC_0015729  0.002871  0.007256  0.004397  0.002938  0.004260  0.004345\n",
       "2  ISIC_0015740  0.001809  0.001002  0.000895  0.000653  0.002529  0.001377"
      ]
     },
     "execution_count": 8,
     "metadata": {},
     "output_type": "execute_result"
    }
   ],
   "source": [
    "test_predictions_df.head()"
   ]
  },
  {
   "cell_type": "code",
   "execution_count": 9,
   "id": "ae389f9a",
   "metadata": {
    "execution": {
     "iopub.execute_input": "2024-07-13T07:56:43.602392Z",
     "iopub.status.busy": "2024-07-13T07:56:43.601777Z",
     "iopub.status.idle": "2024-07-13T07:56:43.614272Z",
     "shell.execute_reply": "2024-07-13T07:56:43.613458Z"
    },
    "papermill": {
     "duration": 0.021149,
     "end_time": "2024-07-13T07:56:43.616244",
     "exception": false,
     "start_time": "2024-07-13T07:56:43.595095",
     "status": "completed"
    },
    "tags": []
   },
   "outputs": [
    {
     "data": {
      "text/plain": [
       "count    3.000000\n",
       "mean     0.009615\n",
       "std      0.011792\n",
       "min      0.001377\n",
       "25%      0.002861\n",
       "50%      0.004345\n",
       "75%      0.013733\n",
       "max      0.023122\n",
       "Name: target, dtype: float64"
      ]
     },
     "execution_count": 9,
     "metadata": {},
     "output_type": "execute_result"
    }
   ],
   "source": [
    "test_predictions_df[target_column].describe()"
   ]
  },
  {
   "cell_type": "code",
   "execution_count": 10,
   "id": "9bd7e875",
   "metadata": {
    "execution": {
     "iopub.execute_input": "2024-07-13T07:56:43.629368Z",
     "iopub.status.busy": "2024-07-13T07:56:43.629110Z",
     "iopub.status.idle": "2024-07-13T07:56:43.637735Z",
     "shell.execute_reply": "2024-07-13T07:56:43.636870Z"
    },
    "papermill": {
     "duration": 0.017451,
     "end_time": "2024-07-13T07:56:43.639719",
     "exception": false,
     "start_time": "2024-07-13T07:56:43.622268",
     "status": "completed"
    },
    "tags": []
   },
   "outputs": [
    {
     "data": {
      "text/html": [
       "<div>\n",
       "<style scoped>\n",
       "    .dataframe tbody tr th:only-of-type {\n",
       "        vertical-align: middle;\n",
       "    }\n",
       "\n",
       "    .dataframe tbody tr th {\n",
       "        vertical-align: top;\n",
       "    }\n",
       "\n",
       "    .dataframe thead th {\n",
       "        text-align: right;\n",
       "    }\n",
       "</style>\n",
       "<table border=\"1\" class=\"dataframe\">\n",
       "  <thead>\n",
       "    <tr style=\"text-align: right;\">\n",
       "      <th></th>\n",
       "      <th>isic_id</th>\n",
       "      <th>target</th>\n",
       "    </tr>\n",
       "  </thead>\n",
       "  <tbody>\n",
       "    <tr>\n",
       "      <th>0</th>\n",
       "      <td>ISIC_0015657</td>\n",
       "      <td>0.023122</td>\n",
       "    </tr>\n",
       "    <tr>\n",
       "      <th>1</th>\n",
       "      <td>ISIC_0015729</td>\n",
       "      <td>0.004345</td>\n",
       "    </tr>\n",
       "    <tr>\n",
       "      <th>2</th>\n",
       "      <td>ISIC_0015740</td>\n",
       "      <td>0.001377</td>\n",
       "    </tr>\n",
       "  </tbody>\n",
       "</table>\n",
       "</div>"
      ],
      "text/plain": [
       "        isic_id    target\n",
       "0  ISIC_0015657  0.023122\n",
       "1  ISIC_0015729  0.004345\n",
       "2  ISIC_0015740  0.001377"
      ]
     },
     "execution_count": 10,
     "metadata": {},
     "output_type": "execute_result"
    }
   ],
   "source": [
    "test_predictions_df[[id_column, target_column]].head(10)"
   ]
  },
  {
   "cell_type": "code",
   "execution_count": 11,
   "id": "db73f203",
   "metadata": {
    "execution": {
     "iopub.execute_input": "2024-07-13T07:56:43.652904Z",
     "iopub.status.busy": "2024-07-13T07:56:43.652648Z",
     "iopub.status.idle": "2024-07-13T07:56:43.659557Z",
     "shell.execute_reply": "2024-07-13T07:56:43.658870Z"
    },
    "papermill": {
     "duration": 0.015665,
     "end_time": "2024-07-13T07:56:43.661479",
     "exception": false,
     "start_time": "2024-07-13T07:56:43.645814",
     "status": "completed"
    },
    "tags": []
   },
   "outputs": [],
   "source": [
    "test_predictions_df[[id_column, target_column]].to_csv(\"submission.csv\", index=False)"
   ]
  },
  {
   "cell_type": "code",
   "execution_count": null,
   "id": "1f75de8a",
   "metadata": {
    "papermill": {
     "duration": 0.005918,
     "end_time": "2024-07-13T07:56:43.673958",
     "exception": false,
     "start_time": "2024-07-13T07:56:43.668040",
     "status": "completed"
    },
    "tags": []
   },
   "outputs": [],
   "source": []
  }
 ],
 "metadata": {
  "kaggle": {
   "accelerator": "gpu",
   "dataSources": [
    {
     "databundleVersionId": 9094797,
     "sourceId": 63056,
     "sourceType": "competition"
    },
    {
     "sourceId": 187439867,
     "sourceType": "kernelVersion"
    },
    {
     "sourceId": 187477024,
     "sourceType": "kernelVersion"
    },
    {
     "sourceId": 188057079,
     "sourceType": "kernelVersion"
    }
   ],
   "dockerImageVersionId": 30733,
   "isGpuEnabled": true,
   "isInternetEnabled": false,
   "language": "python",
   "sourceType": "notebook"
  },
  "kernelspec": {
   "display_name": "Python 3",
   "language": "python",
   "name": "python3"
  },
  "language_info": {
   "codemirror_mode": {
    "name": "ipython",
    "version": 3
   },
   "file_extension": ".py",
   "mimetype": "text/x-python",
   "name": "python",
   "nbconvert_exporter": "python",
   "pygments_lexer": "ipython3",
   "version": "3.10.13"
  },
  "papermill": {
   "default_parameters": {},
   "duration": 29.183878,
   "end_time": "2024-07-13T07:56:46.137136",
   "environment_variables": {},
   "exception": null,
   "input_path": "__notebook__.ipynb",
   "output_path": "__notebook__.ipynb",
   "parameters": {},
   "start_time": "2024-07-13T07:56:16.953258",
   "version": "2.5.0"
  }
 },
 "nbformat": 4,
 "nbformat_minor": 5
}
