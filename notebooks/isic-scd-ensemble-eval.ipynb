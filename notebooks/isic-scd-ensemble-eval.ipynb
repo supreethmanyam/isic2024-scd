{
 "cells": [
  {
   "cell_type": "code",
   "execution_count": 1,
   "id": "0a148b1c",
   "metadata": {
    "_cell_guid": "b1076dfc-b9ad-4769-8c92-a6c4dae69d19",
    "_uuid": "8f2839f25d086af736a60e9eeb907d3b93b6e0e5",
    "execution": {
     "iopub.execute_input": "2024-07-17T00:19:29.015216Z",
     "iopub.status.busy": "2024-07-17T00:19:29.014898Z",
     "iopub.status.idle": "2024-07-17T00:19:34.653278Z",
     "shell.execute_reply": "2024-07-17T00:19:34.652375Z"
    },
    "papermill": {
     "duration": 5.644677,
     "end_time": "2024-07-17T00:19:34.655533",
     "exception": false,
     "start_time": "2024-07-17T00:19:29.010856",
     "status": "completed"
    },
    "tags": []
   },
   "outputs": [],
   "source": [
    "from pathlib import Path\n",
    "\n",
    "import pandas as pd\n",
    "import numpy as np\n",
    "\n",
    "from sklearn.linear_model import LogisticRegression\n",
    "from isic_helper import get_folds\n",
    "from isic_helper import compute_pauc, compute_auc"
   ]
  },
  {
   "cell_type": "code",
   "execution_count": 2,
   "id": "26b4cf49",
   "metadata": {
    "execution": {
     "iopub.execute_input": "2024-07-17T00:19:34.661616Z",
     "iopub.status.busy": "2024-07-17T00:19:34.661147Z",
     "iopub.status.idle": "2024-07-17T00:19:34.666895Z",
     "shell.execute_reply": "2024-07-17T00:19:34.666018Z"
    },
    "papermill": {
     "duration": 0.010833,
     "end_time": "2024-07-17T00:19:34.668729",
     "exception": false,
     "start_time": "2024-07-17T00:19:34.657896",
     "status": "completed"
    },
    "tags": []
   },
   "outputs": [],
   "source": [
    "model_names = [\"cb\", \"lgb\", \"lgb\", \"resnet18\"]\n",
    "versions = [\"v1\", \"v1\", \"v2\", \"v1\"]\n",
    "paths = [\"/kaggle/input/isic-scd-cb-train\",\n",
    "         \"/kaggle/input/isic-scd-lgb-v1-train\",\n",
    "         \"/kaggle/input/isic-scd-lgb-v2-train\",\n",
    "         \"/kaggle/input/isic-scd-resnet18-train\"]\n",
    "target_column = \"final_target\"\n",
    "wts = [0.26, 0.26, 0.22, 0.26]\n",
    "\n",
    "# model_names = [\"lgb\", \"lgb\"]\n",
    "# versions = [\"v1\", \"v2\"]\n",
    "# paths = [\"/kaggle/input/isic-scd-lgb-v1-train\",\n",
    "#          \"/kaggle/input/isic-scd-lgb-v2-train\"]\n",
    "# target_column = \"final_target\"\n",
    "# wts = [0.7, 0.3]\n",
    "\n",
    "# model_names = [\"cb\", \"lgb\", \"lgb\"]\n",
    "# versions = [\"v1\", \"v1\", \"v2\"]\n",
    "# paths = [\"/kaggle/input/isic-scd-cb-train\",\n",
    "#          \"/kaggle/input/isic-scd-lgb-v1-train\",\n",
    "#          \"/kaggle/input/isic-scd-lgb-v2-train\"]\n",
    "# target_column = \"final_target\"\n",
    "# wts = [0.35, 0.35, 0.3]\n",
    "\n",
    "# model_names = [\"lgb\", \"resnet18\"]\n",
    "# versions = [\"v1\", \"v1\"]\n",
    "# paths = [\"/kaggle/input/isic-scd-lgb-train\", \"/kaggle/input/isic-scd-resnet18-train\"]\n",
    "# target_column = \"final_target\"\n",
    "# wts = [0.65, 0.35]"
   ]
  },
  {
   "cell_type": "code",
   "execution_count": 3,
   "id": "26c39dff",
   "metadata": {
    "execution": {
     "iopub.execute_input": "2024-07-17T00:19:34.673399Z",
     "iopub.status.busy": "2024-07-17T00:19:34.673117Z",
     "iopub.status.idle": "2024-07-17T00:19:37.459954Z",
     "shell.execute_reply": "2024-07-17T00:19:37.458862Z"
    },
    "papermill": {
     "duration": 2.791804,
     "end_time": "2024-07-17T00:19:37.462396",
     "exception": false,
     "start_time": "2024-07-17T00:19:34.670592",
     "status": "completed"
    },
    "tags": []
   },
   "outputs": [
    {
     "name": "stdout",
     "output_type": "stream",
     "text": [
      "cb_v1:\n",
      "Fold scores: {'fold_1': 0.1575768055646264, 'fold_2': 0.16761408614928966, 'fold_3': 0.16231764236063442, 'fold_4': 0.16628848385768302, 'fold_5': 0.16223697973913237}\n",
      " Avg score: 0.16320679953427314\n",
      " Std score: 0.00353125860250401\n",
      "lgb_v1:\n",
      "Fold scores: {'fold_1': 0.16189363377553598, 'fold_2': 0.16460742359112585, 'fold_3': 0.1566555858531654, 'fold_4': 0.17275461431905254, 'fold_5': 0.16268287305687626}\n",
      " Avg score: 0.16371882611915117\n",
      " Std score: 0.005229320467405825\n",
      "lgb_v2:\n",
      "Fold scores: {'fold_1': 0.1536264925535799, 'fold_2': 0.1538011011043681, 'fold_3': 0.15813215235052597, 'fold_4': 0.1689839138410852, 'fold_5': 0.16497719976436606}\n",
      " Avg score: 0.15990417192278505\n",
      " Std score: 0.006131461649982304\n",
      "resnet18_v1:\n",
      "Fold scores: {'fold_1': 0.15586849727633634, 'fold_2': 0.15323922173948376, 'fold_3': 0.14612993098800708, 'fold_4': 0.15783404674844936, 'fold_5': 0.15046869195347348}\n",
      " Avg score: 0.15270807774115\n",
      " Std score: 0.00411904812453264\n",
      "Ensemble:\n",
      "Fold scores: {'fold_1': 0.16787443062197543, 'fold_2': 0.17367140808376733, 'fold_3': 0.16775389674408153, 'fold_4': 0.17820459622368365, 'fold_5': 0.17033399921348702}\n",
      " Avg score: 0.171567666177399\n",
      " Std score: 0.003954271887063039\n",
      "[0.26, 0.26, 0.22, 0.26]\n"
     ]
    }
   ],
   "source": [
    "subs = {}\n",
    "cv_pauc_oof_avg = {}\n",
    "for i in range(len(model_names)):\n",
    "    model_name = model_names[i]\n",
    "    version = versions[i]\n",
    "    path = paths[i]\n",
    "    subs[f\"{model_name}_{version}\"] = pd.read_csv(f\"{path}/oof_preds_{model_name}_{version}.csv\")\n",
    "    cv_pauc_oof_avg[f\"{model_name}_{version}\"] = {}\n",
    "cv_pauc_oof_avg[\"ensemble\"] = {}\n",
    "\n",
    "folds = np.sort(subs[list(subs.keys())[0]][\"fold\"].unique())\n",
    "for fold in folds:\n",
    "    fold_ens_preds = []\n",
    "    for idx, (version, (model_name, df)) in enumerate(zip(versions, subs.items())):\n",
    "        fold_df = df[df[\"fold\"] == fold]\n",
    "        fold_model_preds = fold_df[f\"oof_{model_name}\"]\n",
    "        cv_pauc_oof_avg[model_name][f\"fold_{fold}\"] = compute_pauc(fold_df[target_column], fold_model_preds)\n",
    "        fold_ens_preds.append(wts[idx] * fold_df[f\"oof_{model_name}\"].rank(pct=True).values)\n",
    "    cv_pauc_oof_avg[\"ensemble\"][f\"fold_{fold}\"] = compute_pauc(fold_df[target_column], np.sum(fold_ens_preds, axis=0))\n",
    "\n",
    "for key in subs.keys():\n",
    "    print(f\"{key}:\\nFold scores: {cv_pauc_oof_avg[key]}\\n Avg score: {np.mean(list(cv_pauc_oof_avg[key].values()))}\\n Std score: {np.std(list(cv_pauc_oof_avg[key].values()))}\")\n",
    "print(f\"Ensemble:\\nFold scores: {cv_pauc_oof_avg['ensemble']}\\n Avg score: {np.mean(list(cv_pauc_oof_avg['ensemble'].values()))}\\n Std score: {np.std(list(cv_pauc_oof_avg['ensemble'].values()))}\")\n",
    "\n",
    "print(wts)"
   ]
  }
 ],
 "metadata": {
  "kaggle": {
   "accelerator": "none",
   "dataSources": [
    {
     "databundleVersionId": 9094797,
     "sourceId": 63056,
     "sourceType": "competition"
    },
    {
     "sourceId": 187439867,
     "sourceType": "kernelVersion"
    },
    {
     "sourceId": 187477024,
     "sourceType": "kernelVersion"
    },
    {
     "sourceId": 188057910,
     "sourceType": "kernelVersion"
    },
    {
     "sourceId": 188282340,
     "sourceType": "kernelVersion"
    },
    {
     "sourceId": 188608161,
     "sourceType": "kernelVersion"
    },
    {
     "sourceId": 188607193,
     "sourceType": "kernelVersion"
    }
   ],
   "dockerImageVersionId": 30746,
   "isGpuEnabled": false,
   "isInternetEnabled": false,
   "language": "python",
   "sourceType": "notebook"
  },
  "kernelspec": {
   "display_name": "Python 3",
   "language": "python",
   "name": "python3"
  },
  "language_info": {
   "codemirror_mode": {
    "name": "ipython",
    "version": 3
   },
   "file_extension": ".py",
   "mimetype": "text/x-python",
   "name": "python",
   "nbconvert_exporter": "python",
   "pygments_lexer": "ipython3",
   "version": "3.10.13"
  },
  "papermill": {
   "default_parameters": {},
   "duration": 12.628521,
   "end_time": "2024-07-17T00:19:38.586892",
   "environment_variables": {},
   "exception": null,
   "input_path": "__notebook__.ipynb",
   "output_path": "__notebook__.ipynb",
   "parameters": {},
   "start_time": "2024-07-17T00:19:25.958371",
   "version": "2.5.0"
  }
 },
 "nbformat": 4,
 "nbformat_minor": 5
}
