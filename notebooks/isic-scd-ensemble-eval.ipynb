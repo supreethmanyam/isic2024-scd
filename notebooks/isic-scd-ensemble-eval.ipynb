{
 "cells": [
  {
   "cell_type": "code",
   "execution_count": 1,
   "id": "a979b5b6",
   "metadata": {
    "_cell_guid": "b1076dfc-b9ad-4769-8c92-a6c4dae69d19",
    "_uuid": "8f2839f25d086af736a60e9eeb907d3b93b6e0e5",
    "execution": {
     "iopub.execute_input": "2024-07-13T08:15:35.284946Z",
     "iopub.status.busy": "2024-07-13T08:15:35.284508Z",
     "iopub.status.idle": "2024-07-13T08:15:42.526771Z",
     "shell.execute_reply": "2024-07-13T08:15:42.525360Z"
    },
    "papermill": {
     "duration": 7.250774,
     "end_time": "2024-07-13T08:15:42.529797",
     "exception": false,
     "start_time": "2024-07-13T08:15:35.279023",
     "status": "completed"
    },
    "tags": []
   },
   "outputs": [],
   "source": [
    "from pathlib import Path\n",
    "\n",
    "import pandas as pd\n",
    "import numpy as np\n",
    "\n",
    "from isic_helper import compute_pauc, compute_auc"
   ]
  },
  {
   "cell_type": "code",
   "execution_count": 2,
   "id": "46236fc2",
   "metadata": {
    "execution": {
     "iopub.execute_input": "2024-07-13T08:15:42.538872Z",
     "iopub.status.busy": "2024-07-13T08:15:42.538204Z",
     "iopub.status.idle": "2024-07-13T08:15:42.544221Z",
     "shell.execute_reply": "2024-07-13T08:15:42.543073Z"
    },
    "papermill": {
     "duration": 0.012851,
     "end_time": "2024-07-13T08:15:42.546529",
     "exception": false,
     "start_time": "2024-07-13T08:15:42.533678",
     "status": "completed"
    },
    "tags": []
   },
   "outputs": [],
   "source": [
    "model_names = [\"lgb\", \"resnet18\"]\n",
    "versions = [\"v1\", \"v1\"]\n",
    "target_column = \"final_target\""
   ]
  },
  {
   "cell_type": "code",
   "execution_count": 3,
   "id": "3b238f37",
   "metadata": {
    "execution": {
     "iopub.execute_input": "2024-07-13T08:15:42.554274Z",
     "iopub.status.busy": "2024-07-13T08:15:42.553841Z",
     "iopub.status.idle": "2024-07-13T08:15:44.504026Z",
     "shell.execute_reply": "2024-07-13T08:15:44.502917Z"
    },
    "papermill": {
     "duration": 1.957736,
     "end_time": "2024-07-13T08:15:44.507332",
     "exception": false,
     "start_time": "2024-07-13T08:15:42.549596",
     "status": "completed"
    },
    "tags": []
   },
   "outputs": [],
   "source": [
    "subs = {}\n",
    "cv_pauc_oof_avg = {}\n",
    "for model_name, version in zip(model_names, versions):\n",
    "    subs[model_name] = pd.read_csv(f\"/kaggle/input/isic-scd-{model_name}-train/oof_preds_{model_name}_{version}.csv\")\n",
    "    cv_pauc_oof_avg[model_name] = {}\n",
    "cv_pauc_oof_avg[\"ensemble\"] = {}\n",
    "\n",
    "# wts = [1/len(subs)]*len(subs)\n",
    "wts = [0.65, 0.35]\n",
    "folds = np.sort(subs[model_names[0]][\"fold\"].unique())\n",
    "for fold in folds:\n",
    "    fold_ens_preds = []\n",
    "    for idx, (version, (model_name, df)) in enumerate(zip(versions, subs.items())):\n",
    "        fold_df = df[df[\"fold\"] == fold]\n",
    "        fold_model_preds = fold_df[f\"oof_{model_name}_{version}\"]\n",
    "        cv_pauc_oof_avg[model_name][f\"fold_{fold}\"] = compute_pauc(fold_df[target_column], fold_model_preds)\n",
    "        fold_ens_preds.append(wts[idx] * fold_df[f\"oof_{model_name}_{version}\"].rank(pct=True).values)\n",
    "    cv_pauc_oof_avg[\"ensemble\"][f\"fold_{fold}\"] = compute_pauc(fold_df[target_column], np.sum(fold_ens_preds, axis=0))"
   ]
  },
  {
   "cell_type": "code",
   "execution_count": 4,
   "id": "ec470a8d",
   "metadata": {
    "execution": {
     "iopub.execute_input": "2024-07-13T08:15:44.515541Z",
     "iopub.status.busy": "2024-07-13T08:15:44.515122Z",
     "iopub.status.idle": "2024-07-13T08:15:44.522071Z",
     "shell.execute_reply": "2024-07-13T08:15:44.520675Z"
    },
    "papermill": {
     "duration": 0.01575,
     "end_time": "2024-07-13T08:15:44.526255",
     "exception": false,
     "start_time": "2024-07-13T08:15:44.510505",
     "status": "completed"
    },
    "tags": []
   },
   "outputs": [
    {
     "name": "stdout",
     "output_type": "stream",
     "text": [
      "lgb:\n",
      "Fold scores: {'fold_1': 0.16411489480109465, 'fold_2': 0.16163455058930135, 'fold_3': 0.15529609327226662, 'fold_4': 0.1696645181016086, 'fold_5': 0.16317145182032303}\n",
      " Avg score: 0.16277630171691884\n",
      "resnet18:\n",
      "Fold scores: {'fold_1': 0.15586849727633634, 'fold_2': 0.15323922173948376, 'fold_3': 0.14612993098800708, 'fold_4': 0.15783404674844936, 'fold_5': 0.15046869195347348}\n",
      " Avg score: 0.15270807774115\n",
      "Ensemble:\n",
      "Fold scores: {'fold_1': 0.16939685593615736, 'fold_2': 0.16963936368121854, 'fold_3': 0.16170013789919002, 'fold_4': 0.17493245435599203, 'fold_5': 0.16782189353789065}\n",
      " Avg score: 0.16869814108208975\n"
     ]
    }
   ],
   "source": [
    "for model_name in model_names:\n",
    "    print(f\"{model_name}:\\nFold scores: {cv_pauc_oof_avg[model_name]}\\n Avg score: {np.mean(list(cv_pauc_oof_avg[model_name].values()))}\")\n",
    "print(f\"Ensemble:\\nFold scores: {cv_pauc_oof_avg['ensemble']}\\n Avg score: {np.mean(list(cv_pauc_oof_avg['ensemble'].values()))}\")"
   ]
  },
  {
   "cell_type": "code",
   "execution_count": null,
   "id": "de3523f1",
   "metadata": {
    "papermill": {
     "duration": 0.002952,
     "end_time": "2024-07-13T08:15:44.532685",
     "exception": false,
     "start_time": "2024-07-13T08:15:44.529733",
     "status": "completed"
    },
    "tags": []
   },
   "outputs": [],
   "source": []
  }
 ],
 "metadata": {
  "kaggle": {
   "accelerator": "none",
   "dataSources": [
    {
     "databundleVersionId": 9094797,
     "sourceId": 63056,
     "sourceType": "competition"
    },
    {
     "sourceId": 187439867,
     "sourceType": "kernelVersion"
    },
    {
     "sourceId": 187477024,
     "sourceType": "kernelVersion"
    },
    {
     "sourceId": 188057910,
     "sourceType": "kernelVersion"
    },
    {
     "sourceId": 188069088,
     "sourceType": "kernelVersion"
    }
   ],
   "dockerImageVersionId": 30746,
   "isGpuEnabled": false,
   "isInternetEnabled": true,
   "language": "python",
   "sourceType": "notebook"
  },
  "kernelspec": {
   "display_name": "Python 3",
   "language": "python",
   "name": "python3"
  },
  "language_info": {
   "codemirror_mode": {
    "name": "ipython",
    "version": 3
   },
   "file_extension": ".py",
   "mimetype": "text/x-python",
   "name": "python",
   "nbconvert_exporter": "python",
   "pygments_lexer": "ipython3",
   "version": "3.10.13"
  },
  "papermill": {
   "default_parameters": {},
   "duration": 14.053091,
   "end_time": "2024-07-13T08:15:45.760221",
   "environment_variables": {},
   "exception": null,
   "input_path": "__notebook__.ipynb",
   "output_path": "__notebook__.ipynb",
   "parameters": {},
   "start_time": "2024-07-13T08:15:31.707130",
   "version": "2.5.0"
  }
 },
 "nbformat": 4,
 "nbformat_minor": 5
}
