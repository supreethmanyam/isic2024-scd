{
 "cells": [
  {
   "cell_type": "code",
   "execution_count": 1,
   "id": "2b6ca437",
   "metadata": {
    "_cell_guid": "b1076dfc-b9ad-4769-8c92-a6c4dae69d19",
    "_uuid": "8f2839f25d086af736a60e9eeb907d3b93b6e0e5",
    "execution": {
     "iopub.execute_input": "2024-07-14T22:39:32.818729Z",
     "iopub.status.busy": "2024-07-14T22:39:32.818267Z",
     "iopub.status.idle": "2024-07-14T22:39:39.779515Z",
     "shell.execute_reply": "2024-07-14T22:39:39.778354Z"
    },
    "papermill": {
     "duration": 6.969583,
     "end_time": "2024-07-14T22:39:39.782370",
     "exception": false,
     "start_time": "2024-07-14T22:39:32.812787",
     "status": "completed"
    },
    "tags": []
   },
   "outputs": [],
   "source": [
    "from pathlib import Path\n",
    "\n",
    "import pandas as pd\n",
    "import numpy as np\n",
    "\n",
    "from isic_helper import compute_pauc, compute_auc"
   ]
  },
  {
   "cell_type": "code",
   "execution_count": 2,
   "id": "9b6906a5",
   "metadata": {
    "execution": {
     "iopub.execute_input": "2024-07-14T22:39:39.791971Z",
     "iopub.status.busy": "2024-07-14T22:39:39.791379Z",
     "iopub.status.idle": "2024-07-14T22:39:39.801228Z",
     "shell.execute_reply": "2024-07-14T22:39:39.799833Z"
    },
    "papermill": {
     "duration": 0.01768,
     "end_time": "2024-07-14T22:39:39.803972",
     "exception": false,
     "start_time": "2024-07-14T22:39:39.786292",
     "status": "completed"
    },
    "tags": []
   },
   "outputs": [],
   "source": [
    "# model_names = [\"cb\", \"lgb\", \"resnet18\"]\n",
    "# versions = [\"v1\", \"v1\", \"v1\"]\n",
    "# paths = [\"/kaggle/input/isic-scd-cb-train\", \"/kaggle/input/isic-scd-lgb-train\", \"/kaggle/input/isic-scd-resnet18-train\"]\n",
    "# target_column = \"final_target\"\n",
    "# wts = [0.35, 0.35, 0.3]\n",
    "\n",
    "# model_names = [\"cb\", \"lgb\"]\n",
    "# versions = [\"v1\", \"v1\", \"v1\"]\n",
    "# paths = [\"/kaggle/input/isic-scd-cb-train\", \"/kaggle/input/isic-scd-lgb-train\"]\n",
    "# target_column = \"final_target\"\n",
    "# wts = [0.5, 0.5]\n",
    "\n",
    "model_names = [\"lgb\", \"resnet18\"]\n",
    "versions = [\"v1\", \"v1\"]\n",
    "paths = [\"/kaggle/input/isic-scd-lgb-train\", \"/kaggle/input/isic-scd-resnet18-train\"]\n",
    "target_column = \"final_target\"\n",
    "wts = [0.65, 0.35]"
   ]
  },
  {
   "cell_type": "code",
   "execution_count": 3,
   "id": "163fa595",
   "metadata": {
    "execution": {
     "iopub.execute_input": "2024-07-14T22:39:39.813355Z",
     "iopub.status.busy": "2024-07-14T22:39:39.812880Z",
     "iopub.status.idle": "2024-07-14T22:39:41.897280Z",
     "shell.execute_reply": "2024-07-14T22:39:41.895881Z"
    },
    "papermill": {
     "duration": 2.09232,
     "end_time": "2024-07-14T22:39:41.900277",
     "exception": false,
     "start_time": "2024-07-14T22:39:39.807957",
     "status": "completed"
    },
    "tags": []
   },
   "outputs": [],
   "source": [
    "subs = {}\n",
    "cv_pauc_oof_avg = {}\n",
    "for i in range(len(model_names)):\n",
    "    model_name = model_names[i]\n",
    "    version = versions[i]\n",
    "    path = paths[i]\n",
    "    subs[model_name] = pd.read_csv(f\"{path}/oof_preds_{model_name}_{version}.csv\")\n",
    "    cv_pauc_oof_avg[model_name] = {}\n",
    "cv_pauc_oof_avg[\"ensemble\"] = {}\n",
    "\n",
    "folds = np.sort(subs[model_names[0]][\"fold\"].unique())\n",
    "for fold in folds:\n",
    "    fold_ens_preds = []\n",
    "    for idx, (version, (model_name, df)) in enumerate(zip(versions, subs.items())):\n",
    "        fold_df = df[df[\"fold\"] == fold]\n",
    "        fold_model_preds = fold_df[f\"oof_{model_name}_{version}\"]\n",
    "        cv_pauc_oof_avg[model_name][f\"fold_{fold}\"] = compute_pauc(fold_df[target_column], fold_model_preds)\n",
    "        fold_ens_preds.append(wts[idx] * fold_df[f\"oof_{model_name}_{version}\"].rank(pct=True).values)\n",
    "    cv_pauc_oof_avg[\"ensemble\"][f\"fold_{fold}\"] = compute_pauc(fold_df[target_column], np.sum(fold_ens_preds, axis=0))"
   ]
  },
  {
   "cell_type": "code",
   "execution_count": 4,
   "id": "d84d93ea",
   "metadata": {
    "execution": {
     "iopub.execute_input": "2024-07-14T22:39:41.909429Z",
     "iopub.status.busy": "2024-07-14T22:39:41.908129Z",
     "iopub.status.idle": "2024-07-14T22:39:41.916548Z",
     "shell.execute_reply": "2024-07-14T22:39:41.914934Z"
    },
    "papermill": {
     "duration": 0.015749,
     "end_time": "2024-07-14T22:39:41.919306",
     "exception": false,
     "start_time": "2024-07-14T22:39:41.903557",
     "status": "completed"
    },
    "tags": []
   },
   "outputs": [
    {
     "name": "stdout",
     "output_type": "stream",
     "text": [
      "lgb:\n",
      "Fold scores: {'fold_1': 0.16189363377553598, 'fold_2': 0.16460742359112585, 'fold_3': 0.1566555858531654, 'fold_4': 0.17275461431905254, 'fold_5': 0.16268287305687626}\n",
      " Avg score: 0.16371882611915117\n",
      "resnet18:\n",
      "Fold scores: {'fold_1': 0.15586849727633634, 'fold_2': 0.15323922173948376, 'fold_3': 0.14612993098800708, 'fold_4': 0.15783404674844936, 'fold_5': 0.15046869195347348}\n",
      " Avg score: 0.15270807774115\n",
      "Ensemble:\n",
      "Fold scores: {'fold_1': 0.16760549182900902, 'fold_2': 0.17149450951707168, 'fold_3': 0.16299309880071378, 'fold_4': 0.17566750071757492, 'fold_5': 0.16728517365520842}\n",
      " Avg score: 0.1690091549039156\n"
     ]
    }
   ],
   "source": [
    "for model_name in model_names:\n",
    "    print(f\"{model_name}:\\nFold scores: {cv_pauc_oof_avg[model_name]}\\n Avg score: {np.mean(list(cv_pauc_oof_avg[model_name].values()))}\")\n",
    "print(f\"Ensemble:\\nFold scores: {cv_pauc_oof_avg['ensemble']}\\n Avg score: {np.mean(list(cv_pauc_oof_avg['ensemble'].values()))}\")"
   ]
  },
  {
   "cell_type": "code",
   "execution_count": null,
   "id": "67b5fd95",
   "metadata": {
    "papermill": {
     "duration": 0.002991,
     "end_time": "2024-07-14T22:39:41.925760",
     "exception": false,
     "start_time": "2024-07-14T22:39:41.922769",
     "status": "completed"
    },
    "tags": []
   },
   "outputs": [],
   "source": []
  }
 ],
 "metadata": {
  "kaggle": {
   "accelerator": "none",
   "dataSources": [
    {
     "databundleVersionId": 9094797,
     "sourceId": 63056,
     "sourceType": "competition"
    },
    {
     "sourceId": 187439867,
     "sourceType": "kernelVersion"
    },
    {
     "sourceId": 187477024,
     "sourceType": "kernelVersion"
    },
    {
     "sourceId": 188057910,
     "sourceType": "kernelVersion"
    },
    {
     "sourceId": 188282340,
     "sourceType": "kernelVersion"
    },
    {
     "sourceId": 188283416,
     "sourceType": "kernelVersion"
    }
   ],
   "dockerImageVersionId": 30746,
   "isGpuEnabled": false,
   "isInternetEnabled": false,
   "language": "python",
   "sourceType": "notebook"
  },
  "kernelspec": {
   "display_name": "Python 3",
   "language": "python",
   "name": "python3"
  },
  "language_info": {
   "codemirror_mode": {
    "name": "ipython",
    "version": 3
   },
   "file_extension": ".py",
   "mimetype": "text/x-python",
   "name": "python",
   "nbconvert_exporter": "python",
   "pygments_lexer": "ipython3",
   "version": "3.10.13"
  },
  "papermill": {
   "default_parameters": {},
   "duration": 13.693249,
   "end_time": "2024-07-14T22:39:43.153873",
   "environment_variables": {},
   "exception": null,
   "input_path": "__notebook__.ipynb",
   "output_path": "__notebook__.ipynb",
   "parameters": {},
   "start_time": "2024-07-14T22:39:29.460624",
   "version": "2.5.0"
  }
 },
 "nbformat": 4,
 "nbformat_minor": 5
}
