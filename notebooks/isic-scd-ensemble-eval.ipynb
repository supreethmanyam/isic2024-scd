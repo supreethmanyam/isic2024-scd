{
 "cells": [
  {
   "cell_type": "code",
   "execution_count": 1,
   "id": "ee81c92f",
   "metadata": {
    "_cell_guid": "b1076dfc-b9ad-4769-8c92-a6c4dae69d19",
    "_uuid": "8f2839f25d086af736a60e9eeb907d3b93b6e0e5",
    "execution": {
     "iopub.execute_input": "2024-08-19T19:44:34.204454Z",
     "iopub.status.busy": "2024-08-19T19:44:34.203192Z",
     "iopub.status.idle": "2024-08-19T19:44:40.049099Z",
     "shell.execute_reply": "2024-08-19T19:44:40.048002Z"
    },
    "papermill": {
     "duration": 5.857245,
     "end_time": "2024-08-19T19:44:40.051998",
     "exception": false,
     "start_time": "2024-08-19T19:44:34.194753",
     "status": "completed"
    },
    "tags": []
   },
   "outputs": [],
   "source": [
    "from pathlib import Path\n",
    "from pprint import pprint\n",
    "\n",
    "import pandas as pd\n",
    "import numpy as np\n",
    "\n",
    "from bayes_opt import BayesianOptimization\n",
    "from isic_helper import compute_pauc, compute_auc"
   ]
  },
  {
   "cell_type": "code",
   "execution_count": 2,
   "id": "c97994e7",
   "metadata": {
    "execution": {
     "iopub.execute_input": "2024-08-19T19:44:40.063396Z",
     "iopub.status.busy": "2024-08-19T19:44:40.062753Z",
     "iopub.status.idle": "2024-08-19T19:44:40.069992Z",
     "shell.execute_reply": "2024-08-19T19:44:40.068894Z"
    },
    "papermill": {
     "duration": 0.015431,
     "end_time": "2024-08-19T19:44:40.072441",
     "exception": false,
     "start_time": "2024-08-19T19:44:40.057010",
     "status": "completed"
    },
    "tags": []
   },
   "outputs": [],
   "source": [
    "id_column = \"isic_id\"\n",
    "target_column = \"target\"\n",
    "ensemble_column = \"oof_preds_ensemble\"\n",
    "fold_column = \"fold\"\n",
    "\n",
    "model_names = [\"xgb\", \"xgb\", \"lgb\"]\n",
    "versions = [\"v1\", \"v2\", \"v6\"]\n",
    "modes = [\"train\", \"train\", \"train\", \"train\"]\n",
    "\n",
    "paths = [f\"/kaggle/input/isic-scd-{model_name.replace('_', '-')}-{version}-{mode}\" for model_name, version, mode in zip(model_names, versions, modes)]"
   ]
  },
  {
   "cell_type": "code",
   "execution_count": 3,
   "id": "d4a098ef",
   "metadata": {
    "execution": {
     "iopub.execute_input": "2024-08-19T19:44:40.082760Z",
     "iopub.status.busy": "2024-08-19T19:44:40.082329Z",
     "iopub.status.idle": "2024-08-19T19:44:42.710482Z",
     "shell.execute_reply": "2024-08-19T19:44:42.709259Z"
    },
    "papermill": {
     "duration": 2.636558,
     "end_time": "2024-08-19T19:44:42.713367",
     "exception": false,
     "start_time": "2024-08-19T19:44:40.076809",
     "status": "completed"
    },
    "tags": []
   },
   "outputs": [],
   "source": [
    "val_auc_scores = {}\n",
    "val_pauc_scores = {}\n",
    "for idx, path in enumerate(paths):\n",
    "    model_name = model_names[idx]\n",
    "    version = versions[idx]\n",
    "    mode = modes[idx]\n",
    "    model_identifier = f\"{model_name}_{version}\"\n",
    "    oof_preds_model_df = pd.read_csv(f\"{path}/oof_preds_{model_identifier}.csv\")\n",
    "    if idx == 0:\n",
    "        oof_preds_df = oof_preds_model_df.copy()\n",
    "    else:\n",
    "        oof_preds_df = oof_preds_df.merge(oof_preds_model_df[[id_column, f\"oof_{model_name}_{version}\"]],\n",
    "                                          on=\"isic_id\", how=\"inner\")\n",
    "        assert oof_preds_df.shape[0] == oof_preds_model_df.shape[0]\n",
    "    val_auc_scores[f\"{model_name}_{version}\"] = {}\n",
    "    val_pauc_scores[f\"{model_name}_{version}\"] = {}\n",
    "val_auc_scores[\"ensemble\"] = {}\n",
    "val_pauc_scores[\"ensemble\"] = {}\n",
    "\n",
    "oof_columns = [col for col in oof_preds_df.columns if col.startswith(\"oof\")]\n",
    "all_folds = np.unique(oof_preds_df[\"fold\"])"
   ]
  },
  {
   "cell_type": "code",
   "execution_count": 4,
   "id": "886f25c7",
   "metadata": {
    "execution": {
     "iopub.execute_input": "2024-08-19T19:44:42.723980Z",
     "iopub.status.busy": "2024-08-19T19:44:42.723594Z",
     "iopub.status.idle": "2024-08-19T19:45:20.163436Z",
     "shell.execute_reply": "2024-08-19T19:45:20.162268Z"
    },
    "papermill": {
     "duration": 37.448737,
     "end_time": "2024-08-19T19:45:20.166499",
     "exception": false,
     "start_time": "2024-08-19T19:44:42.717762",
     "status": "completed"
    },
    "tags": []
   },
   "outputs": [
    {
     "name": "stdout",
     "output_type": "stream",
     "text": [
      "|   iter    |  target   |    w0     |    w1     |    w2     |\n",
      "-------------------------------------------------------------\n",
      "| \u001b[30m1         | \u001b[30m0.1735    | \u001b[30m0.09359   | \u001b[30m4.991     | \u001b[30m1.134     |\n",
      "| \u001b[35m2         | \u001b[35m0.1741    | \u001b[35m0.4997    | \u001b[35m6.854     | \u001b[35m4.87      |\n",
      "| \u001b[35m3         | \u001b[35m0.1752    | \u001b[35m8.977     | \u001b[35m6.475     | \u001b[35m8.97      |\n",
      "| \u001b[30m4         | \u001b[30m0.1751    | \u001b[30m7.211     | \u001b[30m8.314     | \u001b[30m8.276     |\n",
      "| \u001b[35m5         | \u001b[35m0.1752    | \u001b[35m8.336     | \u001b[35m9.57      | \u001b[35m3.68      |\n",
      "| \u001b[30m6         | \u001b[30m0.1751    | \u001b[30m4.948     | \u001b[30m3.395     | \u001b[30m6.194     |\n",
      "| \u001b[30m7         | \u001b[30m0.1751    | \u001b[30m9.775     | \u001b[30m0.9643    | \u001b[30m7.442     |\n",
      "| \u001b[30m8         | \u001b[30m0.1747    | \u001b[30m2.925     | \u001b[30m2.987     | \u001b[30m7.525     |\n",
      "| \u001b[30m9         | \u001b[30m0.1738    | \u001b[30m0.1866    | \u001b[30m5.237     | \u001b[30m8.644     |\n",
      "| \u001b[30m10        | \u001b[30m0.1751    | \u001b[30m3.888     | \u001b[30m2.122     | \u001b[30m4.752     |\n",
      "| \u001b[30m11        | \u001b[30m0.1749    | \u001b[30m5.647     | \u001b[30m3.494     | \u001b[30m9.759     |\n",
      "| \u001b[30m12        | \u001b[30m0.1739    | \u001b[30m0.3782    | \u001b[30m7.943     | \u001b[30m3.579     |\n",
      "| \u001b[30m13        | \u001b[30m0.1752    | \u001b[30m7.48      | \u001b[30m9.145     | \u001b[30m3.727     |\n",
      "| \u001b[30m14        | \u001b[30m0.1744    | \u001b[30m9.649     | \u001b[30m0.8139    | \u001b[30m0.4245    |\n",
      "| \u001b[30m15        | \u001b[30m0.175     | \u001b[30m2.968     | \u001b[30m3.637     | \u001b[30m4.903     |\n",
      "| \u001b[30m16        | \u001b[30m0.1752    | \u001b[30m6.685     | \u001b[30m6.734     | \u001b[30m5.721     |\n",
      "| \u001b[30m17        | \u001b[30m0.1735    | \u001b[30m0.8059    | \u001b[30m8.983     | \u001b[30m0.3839    |\n",
      "| \u001b[30m18        | \u001b[30m0.1749    | \u001b[30m7.822     | \u001b[30m0.3666    | \u001b[30m2.672     |\n",
      "| \u001b[30m19        | \u001b[30m0.1743    | \u001b[30m2.052     | \u001b[30m2.589     | \u001b[30m9.326     |\n",
      "| \u001b[30m20        | \u001b[30m0.1737    | \u001b[30m0.08125   | \u001b[30m4.035     | \u001b[30m8.941     |\n",
      "| \u001b[30m21        | \u001b[30m0.1741    | \u001b[30m2.042     | \u001b[30m0.2178    | \u001b[30m6.972     |\n",
      "| \u001b[30m22        | \u001b[30m0.1746    | \u001b[30m1.91      | \u001b[30m5.464     | \u001b[30m6.032     |\n",
      "| \u001b[30m23        | \u001b[30m0.1745    | \u001b[30m9.888     | \u001b[30m0.9245    | \u001b[30m0.6429    |\n",
      "| \u001b[35m24        | \u001b[35m0.1752    | \u001b[35m9.88      | \u001b[35m4.521     | \u001b[35m8.539     |\n",
      "| \u001b[30m25        | \u001b[30m0.1748    | \u001b[30m4.014     | \u001b[30m3.882     | \u001b[30m8.844     |\n",
      "| \u001b[30m26        | \u001b[30m0.1751    | \u001b[30m6.52      | \u001b[30m7.768     | \u001b[30m0.9633    |\n",
      "| \u001b[30m27        | \u001b[30m0.1752    | \u001b[30m9.662     | \u001b[30m3.223     | \u001b[30m2.932     |\n",
      "| \u001b[35m28        | \u001b[35m0.1752    | \u001b[35m7.016     | \u001b[35m3.583     | \u001b[35m1.582     |\n",
      "| \u001b[30m29        | \u001b[30m0.1739    | \u001b[30m0.08231   | \u001b[30m8.3       | \u001b[30m6.264     |\n",
      "| \u001b[30m30        | \u001b[30m0.1752    | \u001b[30m8.714     | \u001b[30m6.259     | \u001b[30m1.306     |\n",
      "| \u001b[30m31        | \u001b[30m0.1747    | \u001b[30m4.524     | \u001b[30m1.944     | \u001b[30m9.449     |\n",
      "| \u001b[30m32        | \u001b[30m0.1746    | \u001b[30m4.18      | \u001b[30m0.7896    | \u001b[30m8.664     |\n",
      "| \u001b[30m33        | \u001b[30m0.1744    | \u001b[30m6.865     | \u001b[30m0.1976    | \u001b[30m0.7446    |\n",
      "| \u001b[30m34        | \u001b[30m0.174     | \u001b[30m0.2534    | \u001b[30m4.489     | \u001b[30m5.096     |\n",
      "| \u001b[30m35        | \u001b[30m0.1751    | \u001b[30m7.745     | \u001b[30m2.848     | \u001b[30m0.7835    |\n",
      "| \u001b[30m36        | \u001b[30m0.1752    | \u001b[30m9.156     | \u001b[30m6.43      | \u001b[30m8.172     |\n",
      "| \u001b[30m37        | \u001b[30m0.1752    | \u001b[30m6.366     | \u001b[30m7.713     | \u001b[30m2.052     |\n",
      "| \u001b[30m38        | \u001b[30m0.1752    | \u001b[30m7.482     | \u001b[30m1.657     | \u001b[30m2.782     |\n",
      "| \u001b[35m39        | \u001b[35m0.1753    | \u001b[35m3.846     | \u001b[35m2.511     | \u001b[35m2.412     |\n",
      "| \u001b[30m40        | \u001b[30m0.1749    | \u001b[30m8.415     | \u001b[30m0.2093    | \u001b[30m8.949     |\n",
      "| \u001b[30m41        | \u001b[30m0.1752    | \u001b[30m10.0      | \u001b[30m10.0      | \u001b[30m10.0      |\n",
      "| \u001b[30m42        | \u001b[30m0.1751    | \u001b[30m10.0      | \u001b[30m10.0      | \u001b[30m0.0       |\n",
      "| \u001b[30m43        | \u001b[30m0.1753    | \u001b[30m10.0      | \u001b[30m10.0      | \u001b[30m6.528     |\n",
      "| \u001b[35m44        | \u001b[35m0.1753    | \u001b[35m10.0      | \u001b[35m7.101     | \u001b[35m4.6       |\n",
      "| \u001b[30m45        | \u001b[30m0.1753    | \u001b[30m5.151     | \u001b[30m3.613     | \u001b[30m3.198     |\n",
      "| \u001b[30m46        | \u001b[30m0.1753    | \u001b[30m10.0      | \u001b[30m4.376     | \u001b[30m5.638     |\n",
      "| \u001b[35m47        | \u001b[35m0.1753    | \u001b[35m8.086     | \u001b[35m5.113     | \u001b[35m4.391     |\n",
      "| \u001b[30m48        | \u001b[30m0.1753    | \u001b[30m8.149     | \u001b[30m2.881     | \u001b[30m5.745     |\n",
      "| \u001b[30m49        | \u001b[30m0.1753    | \u001b[30m10.0      | \u001b[30m7.983     | \u001b[30m6.926     |\n",
      "| \u001b[30m50        | \u001b[30m0.1753    | \u001b[30m10.0      | \u001b[30m8.469     | \u001b[30m2.625     |\n",
      "| \u001b[30m51        | \u001b[30m0.1753    | \u001b[30m4.99      | \u001b[30m2.117     | \u001b[30m2.825     |\n",
      "| \u001b[30m52        | \u001b[30m0.1753    | \u001b[30m4.834     | \u001b[30m3.587     | \u001b[30m1.137     |\n",
      "| \u001b[30m53        | \u001b[30m0.1753    | \u001b[30m8.349     | \u001b[30m7.382     | \u001b[30m3.899     |\n",
      "| \u001b[30m54        | \u001b[30m0.1753    | \u001b[30m8.948     | \u001b[30m5.971     | \u001b[30m5.99      |\n",
      "| \u001b[30m55        | \u001b[30m0.1753    | \u001b[30m10.0      | \u001b[30m8.942     | \u001b[30m4.796     |\n",
      "| \u001b[30m56        | \u001b[30m0.1753    | \u001b[30m10.0      | \u001b[30m5.647     | \u001b[30m3.608     |\n",
      "| \u001b[30m57        | \u001b[30m0.1751    | \u001b[30m10.0      | \u001b[30m3.126     | \u001b[30m10.0      |\n",
      "| \u001b[30m58        | \u001b[30m0.1753    | \u001b[30m6.578     | \u001b[30m5.472     | \u001b[30m2.847     |\n",
      "| \u001b[30m59        | \u001b[30m0.1752    | \u001b[30m10.0      | \u001b[30m7.309     | \u001b[30m10.0      |\n",
      "| \u001b[30m60        | \u001b[30m0.1752    | \u001b[30m9.957     | \u001b[30m2.007     | \u001b[30m4.501     |\n",
      "| \u001b[30m61        | \u001b[30m0.1753    | \u001b[30m10.0      | \u001b[30m5.985     | \u001b[30m6.502     |\n",
      "| \u001b[30m62        | \u001b[30m0.1753    | \u001b[30m7.071     | \u001b[30m3.525     | \u001b[30m3.832     |\n",
      "| \u001b[35m63        | \u001b[35m0.1753    | \u001b[35m4.739     | \u001b[35m3.045     | \u001b[35m2.353     |\n",
      "| \u001b[30m64        | \u001b[30m0.1753    | \u001b[30m8.297     | \u001b[30m5.275     | \u001b[30m3.022     |\n",
      "| \u001b[30m65        | \u001b[30m0.1753    | \u001b[30m9.666     | \u001b[30m5.648     | \u001b[30m4.895     |\n",
      "| \u001b[30m66        | \u001b[30m0.1752    | \u001b[30m8.646     | \u001b[30m8.732     | \u001b[30m6.134     |\n",
      "| \u001b[30m67        | \u001b[30m0.1753    | \u001b[30m6.076     | \u001b[30m5.12      | \u001b[30m1.536     |\n",
      "| \u001b[30m68        | \u001b[30m0.1753    | \u001b[30m10.0      | \u001b[30m10.0      | \u001b[30m3.447     |\n",
      "| \u001b[30m69        | \u001b[30m0.1753    | \u001b[30m6.322     | \u001b[30m4.783     | \u001b[30m4.356     |\n",
      "| \u001b[30m70        | \u001b[30m0.1753    | \u001b[30m8.2       | \u001b[30m4.597     | \u001b[30m6.281     |\n",
      "| \u001b[30m71        | \u001b[30m0.1753    | \u001b[30m8.762     | \u001b[30m4.133     | \u001b[30m4.725     |\n",
      "| \u001b[30m72        | \u001b[30m0.1753    | \u001b[30m10.0      | \u001b[30m7.058     | \u001b[30m5.72      |\n",
      "| \u001b[30m73        | \u001b[30m0.1753    | \u001b[30m8.949     | \u001b[30m6.159     | \u001b[30m3.922     |\n",
      "| \u001b[30m74        | \u001b[30m0.1753    | \u001b[30m7.431     | \u001b[30m5.933     | \u001b[30m3.663     |\n",
      "| \u001b[30m75        | \u001b[30m0.1753    | \u001b[30m4.437     | \u001b[30m2.875     | \u001b[30m2.883     |\n",
      "| \u001b[30m76        | \u001b[30m0.1753    | \u001b[30m6.15      | \u001b[30m4.12      | \u001b[30m2.819     |\n",
      "| \u001b[30m77        | \u001b[30m0.1753    | \u001b[30m4.264     | \u001b[30m2.263     | \u001b[30m1.924     |\n",
      "| \u001b[30m78        | \u001b[30m0.1753    | \u001b[30m7.485     | \u001b[30m4.289     | \u001b[30m3.32      |\n",
      "| \u001b[30m79        | \u001b[30m0.1753    | \u001b[30m9.047     | \u001b[30m6.603     | \u001b[30m5.042     |\n",
      "| \u001b[30m80        | \u001b[30m0.1753    | \u001b[30m5.526     | \u001b[30m4.656     | \u001b[30m2.673     |\n",
      "=============================================================\n",
      "Best pAUC: 0.1753250227428506\n",
      "Best weights: [4.738609740544901, 3.044864170712692, 2.3528220847626327]\n"
     ]
    }
   ],
   "source": [
    "def blend_optimizer(oof_preds_df, oof_columns, init_points = 20, n_iter = 100):\n",
    "    pbounds = {f\"w{i}\": (0.0, 10.0) for i in range(len(oof_columns))}\n",
    "\n",
    "    def dim_opt(oof_preds_df, *args):\n",
    "        weights = args\n",
    "        score = 0\n",
    "        for fold in all_folds:\n",
    "            fold_ensemble_preds = 0\n",
    "            for weight, oof_column in zip(weights, oof_columns):\n",
    "                fold_ensemble_preds += weight * oof_preds_df.loc[oof_preds_df[\"fold\"] == fold, oof_column].rank(pct=True).values\n",
    "            score += compute_pauc(np.array(oof_preds_df.loc[oof_preds_df[\"fold\"] == fold, \"target\"]), fold_ensemble_preds)\n",
    "        return score / len(all_folds)\n",
    "\n",
    "    def q(**ws):\n",
    "        ws = tuple(ws.values())\n",
    "        return dim_opt(oof_preds_df, *ws)\n",
    "\n",
    "    optimizer = BayesianOptimization(\n",
    "        f=q,\n",
    "        pbounds=pbounds,\n",
    "        random_state=2022,\n",
    "    )\n",
    "\n",
    "    optimizer.maximize(\n",
    "        init_points=init_points,\n",
    "        n_iter=n_iter,\n",
    "    )\n",
    "    \n",
    "    weights = []\n",
    "    for i in range(len(oof_columns)):\n",
    "        weights.append(optimizer.max[\"params\"][f\"w{i}\"])\n",
    "    \n",
    "    print(f\"Best pAUC: {optimizer.max['target']}\")\n",
    "    print(f\"Best weights: {weights}\")\n",
    "    return weights\n",
    "\n",
    "\n",
    "weights = blend_optimizer(\n",
    "    oof_preds_df, oof_columns, \n",
    "    init_points=40, \n",
    "    n_iter=40\n",
    ")"
   ]
  },
  {
   "cell_type": "code",
   "execution_count": 5,
   "id": "dbc7eea4",
   "metadata": {
    "execution": {
     "iopub.execute_input": "2024-08-19T19:45:20.192285Z",
     "iopub.status.busy": "2024-08-19T19:45:20.191857Z",
     "iopub.status.idle": "2024-08-19T19:45:20.200224Z",
     "shell.execute_reply": "2024-08-19T19:45:20.199141Z"
    },
    "papermill": {
     "duration": 0.024539,
     "end_time": "2024-08-19T19:45:20.203004",
     "exception": false,
     "start_time": "2024-08-19T19:45:20.178465",
     "status": "completed"
    },
    "tags": []
   },
   "outputs": [
    {
     "data": {
      "text/plain": [
       "[4.738609740544901, 3.044864170712692, 2.3528220847626327]"
      ]
     },
     "execution_count": 5,
     "metadata": {},
     "output_type": "execute_result"
    }
   ],
   "source": [
    "weights"
   ]
  },
  {
   "cell_type": "code",
   "execution_count": 6,
   "id": "3210dccf",
   "metadata": {
    "execution": {
     "iopub.execute_input": "2024-08-19T19:45:20.229189Z",
     "iopub.status.busy": "2024-08-19T19:45:20.228749Z",
     "iopub.status.idle": "2024-08-19T19:45:22.343445Z",
     "shell.execute_reply": "2024-08-19T19:45:22.341799Z"
    },
    "papermill": {
     "duration": 2.130844,
     "end_time": "2024-08-19T19:45:22.346042",
     "exception": false,
     "start_time": "2024-08-19T19:45:20.215198",
     "status": "completed"
    },
    "tags": []
   },
   "outputs": [
    {
     "name": "stdout",
     "output_type": "stream",
     "text": [
      "Model: xgb_v1 | Weightage: 4.738609740544901\n",
      "Val AUC scores:\n",
      "{'fold_1': 0.9763855695822203,\n",
      " 'fold_2': 0.9572885288935904,\n",
      " 'fold_3': 0.9635023430382749,\n",
      " 'fold_4': 0.9709627048208559,\n",
      " 'fold_5': 0.9687397106157167}\n",
      "Val PAUC scores:\n",
      "{'fold_1': 0.18367412688887158,\n",
      " 'fold_2': 0.16537818384974395,\n",
      " 'fold_3': 0.17194383259911888,\n",
      " 'fold_4': 0.17426448565474031,\n",
      " 'fold_5': 0.17318846840205077}\n",
      "CV AUC OOF: 0.9464921630675764\n",
      "CV PAUC OOF: 0.15296119492851015\n",
      "CV AUC AVG: 0.9673757713901316\n",
      "CV PAUC AVG: 0.17368981947890508\n",
      "CV AUC STD: 0.006521637731286478\n",
      "CV PAUC STD: 0.00587196296972231\n",
      "\n",
      "\n",
      "Model: xgb_v2 | Weightage: 3.044864170712692\n",
      "Val AUC scores:\n",
      "{'fold_1': 0.9751129113471103,\n",
      " 'fold_2': 0.963817176741778,\n",
      " 'fold_3': 0.9639184585241667,\n",
      " 'fold_4': 0.9684925309805195,\n",
      " 'fold_5': 0.9623259344160846}\n",
      "Val PAUC scores:\n",
      "{'fold_1': 0.18166898925849218,\n",
      " 'fold_2': 0.17040633221405424,\n",
      " 'fold_3': 0.17186716127341475,\n",
      " 'fold_4': 0.17183237448677788,\n",
      " 'fold_5': 0.16723127288063078}\n",
      "CV AUC OOF: 0.9584420660973526\n",
      "CV PAUC OOF: 0.1645339574493963\n",
      "CV AUC AVG: 0.9667334024019318\n",
      "CV PAUC AVG: 0.17260122602267397\n",
      "CV AUC STD: 0.004672574423174126\n",
      "CV PAUC STD: 0.004837525595179168\n",
      "\n",
      "\n",
      "Model: lgb_v6 | Weightage: 2.3528220847626327\n",
      "Val AUC scores:\n",
      "{'fold_1': 0.9772534016017052,\n",
      " 'fold_2': 0.9545421675104455,\n",
      " 'fold_3': 0.9649406908687025,\n",
      " 'fold_4': 0.9693242939686264,\n",
      " 'fold_5': 0.9686356368434913}\n",
      "Val PAUC scores:\n",
      "{'fold_1': 0.18387722064924852,\n",
      " 'fold_2': 0.16025631426335243,\n",
      " 'fold_3': 0.17205357477131192,\n",
      " 'fold_4': 0.17308064294717396,\n",
      " 'fold_5': 0.17298238473409747}\n",
      "CV AUC OOF: 0.9646024610753375\n",
      "CV PAUC OOF: 0.17008720048549186\n",
      "CV AUC AVG: 0.9669392381585942\n",
      "CV PAUC AVG: 0.17245002747303687\n",
      "CV AUC STD: 0.0073841692717788975\n",
      "CV PAUC STD: 0.007484726322328974\n",
      "\n",
      "\n",
      "Val AUC scores:\n",
      "{'fold_1': 0.9781189647793089,\n",
      " 'fold_2': 0.961478785854207,\n",
      " 'fold_3': 0.969269695873008,\n",
      " 'fold_4': 0.971638473250053,\n",
      " 'fold_5': 0.9690116143449976}\n",
      "Val PAUC scores:\n",
      "{'fold_1': 0.18457547294414153,\n",
      " 'fold_2': 0.16802711227923992,\n",
      " 'fold_3': 0.176331413560295,\n",
      " 'fold_4': 0.17454995569754522,\n",
      " 'fold_5': 0.17314115923303147}\n",
      "CV AUC OOF: 0.9697985360735698\n",
      "CV PAUC OOF: 0.17519780202095825\n",
      "CV AUC AVG: 0.9699035068203148\n",
      "CV PAUC AVG: 0.1753250227428506\n",
      "CV AUC STD: 0.0053418530464539845\n",
      "CV PAUC STD: 0.0053891212139478934\n"
     ]
    }
   ],
   "source": [
    "all_folds = np.unique(oof_preds_df[\"fold\"])\n",
    "for fold in all_folds:\n",
    "    fold_index = oof_preds_df[oof_preds_df[\"fold\"] == fold].index\n",
    "    fold_target = oof_preds_df.loc[fold_index, target_column]\n",
    "    fold_ensemble_preds = 0\n",
    "    for model_name, version, weight in zip(model_names, versions, weights):\n",
    "        fold_model_preds = oof_preds_df.loc[fold_index, f\"oof_{model_name}_{version}\"]\n",
    "        fold_ensemble_preds += fold_model_preds.rank(pct=True).values * weight \n",
    "        \n",
    "        val_auc_scores[f\"{model_name}_{version}\"][f\"fold_{fold}\"] = compute_auc(fold_target, fold_model_preds)\n",
    "        val_pauc_scores[f\"{model_name}_{version}\"][f\"fold_{fold}\"] = compute_pauc(fold_target, fold_model_preds, min_tpr=0.8)\n",
    "    \n",
    "    oof_preds_df.loc[fold_index, ensemble_column] = fold_ensemble_preds\n",
    "    val_auc_scores[\"ensemble\"][f\"fold_{fold}\"] = compute_auc(fold_target, fold_ensemble_preds)\n",
    "    val_pauc_scores[\"ensemble\"][f\"fold_{fold}\"] = compute_pauc(fold_target, fold_ensemble_preds, min_tpr=0.8)\n",
    "\n",
    "for model_name, version, weight in zip(model_names, versions, weights):\n",
    "    print(f\"Model: {model_name}_{version} | Weightage: {weight}\")\n",
    "    \n",
    "    print(\"Val AUC scores:\")\n",
    "    pprint(val_auc_scores[f\"{model_name}_{version}\"])\n",
    "    print(\"Val PAUC scores:\")\n",
    "    pprint(val_pauc_scores[f\"{model_name}_{version}\"])\n",
    "    \n",
    "    cv_model_auc_oof = compute_auc(oof_preds_df[target_column], oof_preds_df[f\"oof_{model_name}_{version}\"])\n",
    "    cv_model_pauc_oof = compute_pauc(oof_preds_df[target_column], oof_preds_df[f\"oof_{model_name}_{version}\"], min_tpr=0.8)\n",
    "\n",
    "    cv_model_auc_avg = np.mean(list(val_auc_scores[f\"{model_name}_{version}\"].values()))\n",
    "    cv_model_pauc_avg = np.mean(list(val_pauc_scores[f\"{model_name}_{version}\"].values()))\n",
    "\n",
    "    cv_model_auc_std = np.std(list(val_auc_scores[f\"{model_name}_{version}\"].values()))\n",
    "    cv_model_pauc_std = np.std(list(val_pauc_scores[f\"{model_name}_{version}\"].values()))\n",
    "    \n",
    "    print(f\"CV AUC OOF: {cv_model_auc_oof}\")\n",
    "    print(f\"CV PAUC OOF: {cv_model_pauc_oof}\")\n",
    "    print(f\"CV AUC AVG: {cv_model_auc_avg}\")\n",
    "    print(f\"CV PAUC AVG: {cv_model_pauc_avg}\")\n",
    "    print(f\"CV AUC STD: {cv_model_auc_std}\")\n",
    "    print(f\"CV PAUC STD: {cv_model_pauc_std}\")\n",
    "    print(\"\\n\")\n",
    "\n",
    "print(\"Val AUC scores:\")\n",
    "pprint(val_auc_scores[\"ensemble\"])\n",
    "print(\"Val PAUC scores:\")\n",
    "pprint(val_pauc_scores[\"ensemble\"])\n",
    "\n",
    "cv_ensemble_auc_oof = compute_auc(oof_preds_df[target_column], oof_preds_df[ensemble_column])\n",
    "cv_ensemble_pauc_oof = compute_pauc(oof_preds_df[target_column], oof_preds_df[ensemble_column], min_tpr=0.8)\n",
    "\n",
    "cv_ensemble_auc_avg = np.mean(list(val_auc_scores[\"ensemble\"].values()))\n",
    "cv_ensemble_pauc_avg = np.mean(list(val_pauc_scores[\"ensemble\"].values()))\n",
    "\n",
    "cv_ensemble_auc_std = np.std(list(val_auc_scores[\"ensemble\"].values()))\n",
    "cv_ensemble_pauc_std = np.std(list(val_pauc_scores[\"ensemble\"].values()))\n",
    "\n",
    "print(f\"CV AUC OOF: {cv_ensemble_auc_oof}\")\n",
    "print(f\"CV PAUC OOF: {cv_ensemble_pauc_oof}\")\n",
    "print(f\"CV AUC AVG: {cv_ensemble_auc_avg}\")\n",
    "print(f\"CV PAUC AVG: {cv_ensemble_pauc_avg}\")\n",
    "print(f\"CV AUC STD: {cv_ensemble_auc_std}\")\n",
    "print(f\"CV PAUC STD: {cv_ensemble_pauc_std}\")"
   ]
  },
  {
   "cell_type": "code",
   "execution_count": 7,
   "id": "d00d43d7",
   "metadata": {
    "execution": {
     "iopub.execute_input": "2024-08-19T19:45:22.373080Z",
     "iopub.status.busy": "2024-08-19T19:45:22.372644Z",
     "iopub.status.idle": "2024-08-19T19:45:22.416736Z",
     "shell.execute_reply": "2024-08-19T19:45:22.415608Z"
    },
    "papermill": {
     "duration": 0.061039,
     "end_time": "2024-08-19T19:45:22.419679",
     "exception": false,
     "start_time": "2024-08-19T19:45:22.358640",
     "status": "completed"
    },
    "tags": []
   },
   "outputs": [
    {
     "data": {
      "text/html": [
       "<div>\n",
       "<style scoped>\n",
       "    .dataframe tbody tr th:only-of-type {\n",
       "        vertical-align: middle;\n",
       "    }\n",
       "\n",
       "    .dataframe tbody tr th {\n",
       "        vertical-align: top;\n",
       "    }\n",
       "\n",
       "    .dataframe thead th {\n",
       "        text-align: right;\n",
       "    }\n",
       "</style>\n",
       "<table border=\"1\" class=\"dataframe\">\n",
       "  <thead>\n",
       "    <tr style=\"text-align: right;\">\n",
       "      <th></th>\n",
       "      <th>oof_lgb_v6</th>\n",
       "      <th>oof_preds_ensemble</th>\n",
       "      <th>oof_xgb_v1</th>\n",
       "      <th>oof_xgb_v2</th>\n",
       "    </tr>\n",
       "    <tr>\n",
       "      <th>target</th>\n",
       "      <th></th>\n",
       "      <th></th>\n",
       "      <th></th>\n",
       "      <th></th>\n",
       "    </tr>\n",
       "  </thead>\n",
       "  <tbody>\n",
       "    <tr>\n",
       "      <th>0</th>\n",
       "      <td>0.011006</td>\n",
       "      <td>5.063572</td>\n",
       "      <td>0.014516</td>\n",
       "      <td>0.009843</td>\n",
       "    </tr>\n",
       "    <tr>\n",
       "      <th>1</th>\n",
       "      <td>0.386260</td>\n",
       "      <td>9.797793</td>\n",
       "      <td>0.328668</td>\n",
       "      <td>0.339775</td>\n",
       "    </tr>\n",
       "  </tbody>\n",
       "</table>\n",
       "</div>"
      ],
      "text/plain": [
       "        oof_lgb_v6  oof_preds_ensemble  oof_xgb_v1  oof_xgb_v2\n",
       "target                                                        \n",
       "0         0.011006            5.063572    0.014516    0.009843\n",
       "1         0.386260            9.797793    0.328668    0.339775"
      ]
     },
     "execution_count": 7,
     "metadata": {},
     "output_type": "execute_result"
    }
   ],
   "source": [
    "oof_preds_df.pivot_table(index=\"target\", values=oof_columns+[\"oof_preds_ensemble\"], aggfunc=\"mean\")"
   ]
  },
  {
   "cell_type": "code",
   "execution_count": 8,
   "id": "e983e27a",
   "metadata": {
    "execution": {
     "iopub.execute_input": "2024-08-19T19:45:22.448368Z",
     "iopub.status.busy": "2024-08-19T19:45:22.447435Z",
     "iopub.status.idle": "2024-08-19T19:45:22.492344Z",
     "shell.execute_reply": "2024-08-19T19:45:22.491238Z"
    },
    "papermill": {
     "duration": 0.061803,
     "end_time": "2024-08-19T19:45:22.494784",
     "exception": false,
     "start_time": "2024-08-19T19:45:22.432981",
     "status": "completed"
    },
    "tags": []
   },
   "outputs": [
    {
     "data": {
      "text/html": [
       "<div>\n",
       "<style scoped>\n",
       "    .dataframe tbody tr th:only-of-type {\n",
       "        vertical-align: middle;\n",
       "    }\n",
       "\n",
       "    .dataframe tbody tr th {\n",
       "        vertical-align: top;\n",
       "    }\n",
       "\n",
       "    .dataframe thead th {\n",
       "        text-align: right;\n",
       "    }\n",
       "</style>\n",
       "<table border=\"1\" class=\"dataframe\">\n",
       "  <thead>\n",
       "    <tr style=\"text-align: right;\">\n",
       "      <th></th>\n",
       "      <th>oof_xgb_v1</th>\n",
       "      <th>oof_xgb_v2</th>\n",
       "      <th>oof_lgb_v6</th>\n",
       "      <th>oof_preds_ensemble</th>\n",
       "    </tr>\n",
       "  </thead>\n",
       "  <tbody>\n",
       "    <tr>\n",
       "      <th>oof_xgb_v1</th>\n",
       "      <td>1.000000</td>\n",
       "      <td>0.875487</td>\n",
       "      <td>0.866551</td>\n",
       "      <td>0.322250</td>\n",
       "    </tr>\n",
       "    <tr>\n",
       "      <th>oof_xgb_v2</th>\n",
       "      <td>0.875487</td>\n",
       "      <td>1.000000</td>\n",
       "      <td>0.914023</td>\n",
       "      <td>0.309096</td>\n",
       "    </tr>\n",
       "    <tr>\n",
       "      <th>oof_lgb_v6</th>\n",
       "      <td>0.866551</td>\n",
       "      <td>0.914023</td>\n",
       "      <td>1.000000</td>\n",
       "      <td>0.333915</td>\n",
       "    </tr>\n",
       "    <tr>\n",
       "      <th>oof_preds_ensemble</th>\n",
       "      <td>0.322250</td>\n",
       "      <td>0.309096</td>\n",
       "      <td>0.333915</td>\n",
       "      <td>1.000000</td>\n",
       "    </tr>\n",
       "  </tbody>\n",
       "</table>\n",
       "</div>"
      ],
      "text/plain": [
       "                    oof_xgb_v1  oof_xgb_v2  oof_lgb_v6  oof_preds_ensemble\n",
       "oof_xgb_v1            1.000000    0.875487    0.866551            0.322250\n",
       "oof_xgb_v2            0.875487    1.000000    0.914023            0.309096\n",
       "oof_lgb_v6            0.866551    0.914023    1.000000            0.333915\n",
       "oof_preds_ensemble    0.322250    0.309096    0.333915            1.000000"
      ]
     },
     "execution_count": 8,
     "metadata": {},
     "output_type": "execute_result"
    }
   ],
   "source": [
    "oof_preds_df[oof_columns+[\"oof_preds_ensemble\"]].corr()"
   ]
  },
  {
   "cell_type": "code",
   "execution_count": null,
   "id": "95ece4da",
   "metadata": {
    "papermill": {
     "duration": 0.012724,
     "end_time": "2024-08-19T19:45:22.520765",
     "exception": false,
     "start_time": "2024-08-19T19:45:22.508041",
     "status": "completed"
    },
    "tags": []
   },
   "outputs": [],
   "source": []
  }
 ],
 "metadata": {
  "kaggle": {
   "accelerator": "none",
   "dataSources": [
    {
     "databundleVersionId": 9094797,
     "sourceId": 63056,
     "sourceType": "competition"
    },
    {
     "sourceId": 187477024,
     "sourceType": "kernelVersion"
    },
    {
     "sourceId": 193130710,
     "sourceType": "kernelVersion"
    },
    {
     "sourceId": 193147264,
     "sourceType": "kernelVersion"
    },
    {
     "sourceId": 193147342,
     "sourceType": "kernelVersion"
    },
    {
     "sourceId": 193228312,
     "sourceType": "kernelVersion"
    },
    {
     "sourceId": 193229111,
     "sourceType": "kernelVersion"
    }
   ],
   "dockerImageVersionId": 30746,
   "isGpuEnabled": false,
   "isInternetEnabled": false,
   "language": "python",
   "sourceType": "notebook"
  },
  "kernelspec": {
   "display_name": "Python 3",
   "language": "python",
   "name": "python3"
  },
  "language_info": {
   "codemirror_mode": {
    "name": "ipython",
    "version": 3
   },
   "file_extension": ".py",
   "mimetype": "text/x-python",
   "name": "python",
   "nbconvert_exporter": "python",
   "pygments_lexer": "ipython3",
   "version": "3.10.13"
  },
  "papermill": {
   "default_parameters": {},
   "duration": 52.549804,
   "end_time": "2024-08-19T19:45:23.658672",
   "environment_variables": {},
   "exception": null,
   "input_path": "__notebook__.ipynb",
   "output_path": "__notebook__.ipynb",
   "parameters": {},
   "start_time": "2024-08-19T19:44:31.108868",
   "version": "2.5.0"
  }
 },
 "nbformat": 4,
 "nbformat_minor": 5
}
