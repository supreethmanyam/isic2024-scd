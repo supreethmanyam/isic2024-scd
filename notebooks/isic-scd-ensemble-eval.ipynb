{
 "cells": [
  {
   "cell_type": "code",
   "execution_count": 1,
   "id": "2e15b27b",
   "metadata": {
    "_cell_guid": "b1076dfc-b9ad-4769-8c92-a6c4dae69d19",
    "_uuid": "8f2839f25d086af736a60e9eeb907d3b93b6e0e5",
    "execution": {
     "iopub.execute_input": "2024-08-19T06:15:31.697728Z",
     "iopub.status.busy": "2024-08-19T06:15:31.697370Z",
     "iopub.status.idle": "2024-08-19T06:15:36.637340Z",
     "shell.execute_reply": "2024-08-19T06:15:36.636447Z"
    },
    "papermill": {
     "duration": 4.947521,
     "end_time": "2024-08-19T06:15:36.639845",
     "exception": false,
     "start_time": "2024-08-19T06:15:31.692324",
     "status": "completed"
    },
    "tags": []
   },
   "outputs": [],
   "source": [
    "from pathlib import Path\n",
    "from pprint import pprint\n",
    "\n",
    "import pandas as pd\n",
    "import numpy as np\n",
    "\n",
    "from bayes_opt import BayesianOptimization\n",
    "from isic_helper import compute_pauc, compute_auc"
   ]
  },
  {
   "cell_type": "code",
   "execution_count": 2,
   "id": "d82d68b4",
   "metadata": {
    "execution": {
     "iopub.execute_input": "2024-08-19T06:15:36.648342Z",
     "iopub.status.busy": "2024-08-19T06:15:36.647539Z",
     "iopub.status.idle": "2024-08-19T06:15:36.654148Z",
     "shell.execute_reply": "2024-08-19T06:15:36.653005Z"
    },
    "papermill": {
     "duration": 0.012932,
     "end_time": "2024-08-19T06:15:36.656299",
     "exception": false,
     "start_time": "2024-08-19T06:15:36.643367",
     "status": "completed"
    },
    "tags": []
   },
   "outputs": [],
   "source": [
    "id_column = \"isic_id\"\n",
    "target_column = \"target\"\n",
    "ensemble_column = \"oof_preds_ensemble\"\n",
    "fold_column = \"fold\"\n",
    "\n",
    "model_names = [\"xgb\", \"xgb\"]\n",
    "versions = [\"v1\", \"v2\"]\n",
    "modes = [\"train\", \"train\"]\n",
    "\n",
    "paths = [f\"/kaggle/input/isic-scd-{model_name.replace('_', '-')}-{version}-{mode}\" for model_name, version, mode in zip(model_names, versions, modes)]"
   ]
  },
  {
   "cell_type": "code",
   "execution_count": 3,
   "id": "347793a1",
   "metadata": {
    "execution": {
     "iopub.execute_input": "2024-08-19T06:15:36.663944Z",
     "iopub.status.busy": "2024-08-19T06:15:36.663366Z",
     "iopub.status.idle": "2024-08-19T06:15:38.090952Z",
     "shell.execute_reply": "2024-08-19T06:15:38.089822Z"
    },
    "papermill": {
     "duration": 1.43406,
     "end_time": "2024-08-19T06:15:38.093443",
     "exception": false,
     "start_time": "2024-08-19T06:15:36.659383",
     "status": "completed"
    },
    "tags": []
   },
   "outputs": [],
   "source": [
    "val_auc_scores = {}\n",
    "val_pauc_scores = {}\n",
    "for idx, path in enumerate(paths):\n",
    "    model_name = model_names[idx]\n",
    "    version = versions[idx]\n",
    "    mode = modes[idx]\n",
    "    model_identifier = f\"{model_name}_{version}\"\n",
    "    oof_preds_model_df = pd.read_csv(f\"{path}/oof_preds_{model_identifier}.csv\")\n",
    "    if idx == 0:\n",
    "        oof_preds_df = oof_preds_model_df.copy()\n",
    "    else:\n",
    "        oof_preds_df = oof_preds_df.merge(oof_preds_model_df[[id_column, f\"oof_{model_name}_{version}\"]],\n",
    "                                          on=\"isic_id\", how=\"inner\")\n",
    "        assert oof_preds_df.shape[0] == oof_preds_model_df.shape[0]\n",
    "    val_auc_scores[f\"{model_name}_{version}\"] = {}\n",
    "    val_pauc_scores[f\"{model_name}_{version}\"] = {}\n",
    "val_auc_scores[\"ensemble\"] = {}\n",
    "val_pauc_scores[\"ensemble\"] = {}\n",
    "\n",
    "oof_columns = [col for col in oof_preds_df.columns if col.startswith(\"oof\")]\n",
    "all_folds = np.unique(oof_preds_df[\"fold\"])"
   ]
  },
  {
   "cell_type": "code",
   "execution_count": 4,
   "id": "70d0297a",
   "metadata": {
    "execution": {
     "iopub.execute_input": "2024-08-19T06:15:38.101696Z",
     "iopub.status.busy": "2024-08-19T06:15:38.101007Z",
     "iopub.status.idle": "2024-08-19T06:16:06.281938Z",
     "shell.execute_reply": "2024-08-19T06:16:06.280832Z"
    },
    "papermill": {
     "duration": 28.187636,
     "end_time": "2024-08-19T06:16:06.284320",
     "exception": false,
     "start_time": "2024-08-19T06:15:38.096684",
     "status": "completed"
    },
    "tags": []
   },
   "outputs": [
    {
     "name": "stdout",
     "output_type": "stream",
     "text": [
      "|   iter    |  target   |    w0     |    w1     |\n",
      "-------------------------------------------------\n",
      "| \u001b[30m1         | \u001b[30m0.1728    | \u001b[30m0.09359   | \u001b[30m4.991     |\n",
      "| \u001b[35m2         | \u001b[35m0.175     | \u001b[35m1.134     | \u001b[35m0.4997    |\n",
      "| \u001b[35m3         | \u001b[35m0.1751    | \u001b[35m6.854     | \u001b[35m4.87      |\n",
      "| \u001b[35m4         | \u001b[35m0.1751    | \u001b[35m8.977     | \u001b[35m6.475     |\n",
      "| \u001b[35m5         | \u001b[35m0.1751    | \u001b[35m8.97      | \u001b[35m7.211     |\n",
      "| \u001b[30m6         | \u001b[30m0.1751    | \u001b[30m8.314     | \u001b[30m8.276     |\n",
      "| \u001b[30m7         | \u001b[30m0.175     | \u001b[30m8.336     | \u001b[30m9.57      |\n",
      "| \u001b[30m8         | \u001b[30m0.175     | \u001b[30m3.68      | \u001b[30m4.948     |\n",
      "| \u001b[30m9         | \u001b[30m0.1748    | \u001b[30m3.395     | \u001b[30m6.194     |\n",
      "| \u001b[30m10        | \u001b[30m0.1742    | \u001b[30m9.775     | \u001b[30m0.9643    |\n",
      "| \u001b[30m11        | \u001b[30m0.1749    | \u001b[30m7.442     | \u001b[30m2.925     |\n",
      "| \u001b[30m12        | \u001b[30m0.1745    | \u001b[30m2.987     | \u001b[30m7.525     |\n",
      "| \u001b[30m13        | \u001b[30m0.1729    | \u001b[30m0.1866    | \u001b[30m5.237     |\n",
      "| \u001b[30m14        | \u001b[30m0.175     | \u001b[30m8.644     | \u001b[30m3.888     |\n",
      "| \u001b[30m15        | \u001b[30m0.1746    | \u001b[30m2.122     | \u001b[30m4.752     |\n",
      "| \u001b[30m16        | \u001b[30m0.175     | \u001b[30m5.647     | \u001b[30m3.494     |\n",
      "| \u001b[30m17        | \u001b[30m0.1739    | \u001b[30m9.759     | \u001b[30m0.3782    |\n",
      "| \u001b[30m18        | \u001b[30m0.175     | \u001b[30m7.943     | \u001b[30m3.579     |\n",
      "| \u001b[30m19        | \u001b[30m0.175     | \u001b[30m7.48      | \u001b[30m9.145     |\n",
      "| \u001b[30m20        | \u001b[30m0.1745    | \u001b[30m3.727     | \u001b[30m9.649     |\n",
      "| \u001b[30m21        | \u001b[30m0.175     | \u001b[30m0.8139    | \u001b[30m0.4245    |\n",
      "| \u001b[30m22        | \u001b[30m0.175     | \u001b[30m2.968     | \u001b[30m3.637     |\n",
      "| \u001b[30m23        | \u001b[30m0.175     | \u001b[30m4.903     | \u001b[30m6.685     |\n",
      "| \u001b[35m24        | \u001b[35m0.1751    | \u001b[35m6.734     | \u001b[35m5.721     |\n",
      "| \u001b[30m25        | \u001b[30m0.1733    | \u001b[30m0.8059    | \u001b[30m8.983     |\n",
      "| \u001b[30m26        | \u001b[30m0.173     | \u001b[30m0.3839    | \u001b[30m7.822     |\n",
      "| \u001b[30m27        | \u001b[30m0.1736    | \u001b[30m0.3666    | \u001b[30m2.672     |\n",
      "| \u001b[30m28        | \u001b[30m0.175     | \u001b[30m2.052     | \u001b[30m2.589     |\n",
      "| \u001b[30m29        | \u001b[30m0.1738    | \u001b[30m9.326     | \u001b[30m0.08125   |\n",
      "| \u001b[30m30        | \u001b[30m0.1746    | \u001b[30m4.035     | \u001b[30m8.941     |\n",
      "| \u001b[30m31        | \u001b[30m0.1743    | \u001b[30m2.042     | \u001b[30m0.2178    |\n",
      "| \u001b[30m32        | \u001b[30m0.1747    | \u001b[30m6.972     | \u001b[30m1.91      |\n",
      "| \u001b[30m33        | \u001b[30m0.1751    | \u001b[30m5.464     | \u001b[30m6.032     |\n",
      "| \u001b[30m34        | \u001b[30m0.1742    | \u001b[30m9.888     | \u001b[30m0.9245    |\n",
      "| \u001b[30m35        | \u001b[30m0.1731    | \u001b[30m0.6429    | \u001b[30m9.88      |\n",
      "| \u001b[30m36        | \u001b[30m0.1747    | \u001b[30m4.521     | \u001b[30m8.539     |\n",
      "| \u001b[30m37        | \u001b[30m0.1751    | \u001b[30m4.014     | \u001b[30m3.882     |\n",
      "| \u001b[30m38        | \u001b[30m0.1751    | \u001b[30m8.844     | \u001b[30m6.52      |\n",
      "| \u001b[30m39        | \u001b[30m0.1743    | \u001b[30m7.768     | \u001b[30m0.9633    |\n",
      "| \u001b[30m40        | \u001b[30m0.1748    | \u001b[30m9.662     | \u001b[30m3.223     |\n",
      "| \u001b[30m41        | \u001b[30m0.1751    | \u001b[30m10.0      | \u001b[30m10.0      |\n",
      "| \u001b[30m42        | \u001b[30m0.1751    | \u001b[30m10.0      | \u001b[30m8.436     |\n",
      "| \u001b[30m43        | \u001b[30m0.175     | \u001b[30m6.723     | \u001b[30m7.453     |\n",
      "| \u001b[30m44        | \u001b[30m0.175     | \u001b[30m10.0      | \u001b[30m5.126     |\n",
      "| \u001b[30m45        | \u001b[30m0.1749    | \u001b[30m6.111     | \u001b[30m10.0      |\n",
      "| \u001b[30m46        | \u001b[30m0.1751    | \u001b[30m3.652     | \u001b[30m2.454     |\n",
      "| \u001b[30m47        | \u001b[30m0.1751    | \u001b[30m10.0      | \u001b[30m6.948     |\n",
      "| \u001b[30m48        | \u001b[30m0.1751    | \u001b[30m5.285     | \u001b[30m4.667     |\n",
      "| \u001b[30m49        | \u001b[30m0.1751    | \u001b[30m8.121     | \u001b[30m5.309     |\n",
      "| \u001b[30m50        | \u001b[30m0.1751    | \u001b[30m2.681     | \u001b[30m2.231     |\n",
      "| \u001b[30m51        | \u001b[30m0.1751    | \u001b[30m9.392     | \u001b[30m9.143     |\n",
      "| \u001b[30m52        | \u001b[30m0.1751    | \u001b[30m7.524     | \u001b[30m6.763     |\n",
      "| \u001b[30m53        | \u001b[30m0.1751    | \u001b[30m4.621     | \u001b[30m3.039     |\n",
      "| \u001b[30m54        | \u001b[30m0.1751    | \u001b[30m3.086     | \u001b[30m2.825     |\n",
      "| \u001b[30m55        | \u001b[30m0.1751    | \u001b[30m1.642     | \u001b[30m1.593     |\n",
      "| \u001b[30m56        | \u001b[30m0.02      | \u001b[30m0.0       | \u001b[30m0.0       |\n",
      "| \u001b[30m57        | \u001b[30m0.1747    | \u001b[30m8.605     | \u001b[30m2.395     |\n",
      "| \u001b[30m58        | \u001b[30m0.1749    | \u001b[30m6.136     | \u001b[30m8.665     |\n",
      "| \u001b[30m59        | \u001b[30m0.175     | \u001b[30m5.513     | \u001b[30m7.666     |\n",
      "| \u001b[30m60        | \u001b[30m0.1747    | \u001b[30m4.977     | \u001b[30m9.71      |\n",
      "| \u001b[30m61        | \u001b[30m0.1749    | \u001b[30m5.658     | \u001b[30m2.204     |\n",
      "| \u001b[30m62        | \u001b[30m0.1748    | \u001b[30m3.109     | \u001b[30m1.002     |\n",
      "| \u001b[30m63        | \u001b[30m0.175     | \u001b[30m1.708     | \u001b[30m2.084     |\n",
      "| \u001b[30m64        | \u001b[30m0.1751    | \u001b[30m7.86      | \u001b[30m4.973     |\n",
      "| \u001b[30m65        | \u001b[30m0.1748    | \u001b[30m4.527     | \u001b[30m1.385     |\n",
      "| \u001b[30m66        | \u001b[30m0.1744    | \u001b[30m5.94      | \u001b[30m0.8621    |\n",
      "| \u001b[30m67        | \u001b[30m0.1743    | \u001b[30m2.036     | \u001b[30m6.227     |\n",
      "| \u001b[30m68        | \u001b[30m0.1751    | \u001b[30m6.498     | \u001b[30m6.432     |\n",
      "| \u001b[30m69        | \u001b[30m0.1751    | \u001b[30m5.234     | \u001b[30m5.097     |\n",
      "| \u001b[30m70        | \u001b[30m0.1737    | \u001b[30m4.095     | \u001b[30m0.009861  |\n",
      "| \u001b[30m71        | \u001b[30m0.1751    | \u001b[30m6.679     | \u001b[30m5.712     |\n",
      "| \u001b[30m72        | \u001b[30m0.1749    | \u001b[30m0.552     | \u001b[30m0.7831    |\n",
      "| \u001b[30m73        | \u001b[30m0.1745    | \u001b[30m0.6681    | \u001b[30m1.624     |\n",
      "| \u001b[30m74        | \u001b[30m0.1742    | \u001b[30m2.441     | \u001b[30m8.918     |\n",
      "| \u001b[30m75        | \u001b[30m0.1744    | \u001b[30m1.252     | \u001b[30m3.762     |\n",
      "| \u001b[30m76        | \u001b[30m0.1748    | \u001b[30m8.509     | \u001b[30m2.802     |\n",
      "| \u001b[30m77        | \u001b[30m0.174     | \u001b[30m1.712     | \u001b[30m7.612     |\n",
      "| \u001b[30m78        | \u001b[30m0.1738    | \u001b[30m3.682     | \u001b[30m0.04105   |\n",
      "| \u001b[30m79        | \u001b[30m0.1737    | \u001b[30m6.916     | \u001b[30m0.0       |\n",
      "| \u001b[30m80        | \u001b[30m0.1734    | \u001b[30m0.7236    | \u001b[30m6.527     |\n",
      "=================================================\n",
      "Best pAUC: 0.17508885589859363\n",
      "Best weights: [6.73414629518269, 5.721006401618444]\n"
     ]
    }
   ],
   "source": [
    "def blend_optimizer(oof_preds_df, oof_columns, init_points = 20, n_iter = 100):\n",
    "    pbounds = {f\"w{i}\": (0.0, 10.0) for i in range(len(oof_columns))}\n",
    "\n",
    "    def dim_opt(oof_preds_df, *args):\n",
    "        weights = args\n",
    "        score = 0\n",
    "        for fold in all_folds:\n",
    "            fold_ensemble_preds = 0\n",
    "            for weight, oof_column in zip(weights, oof_columns):\n",
    "                fold_ensemble_preds += weight * oof_preds_df.loc[oof_preds_df[\"fold\"] == fold, oof_column].rank(pct=True).values\n",
    "            score += compute_pauc(np.array(oof_preds_df.loc[oof_preds_df[\"fold\"] == fold, \"target\"]), fold_ensemble_preds)\n",
    "        return score / len(all_folds)\n",
    "\n",
    "    def q(**ws):\n",
    "        ws = tuple(ws.values())\n",
    "        return dim_opt(oof_preds_df, *ws)\n",
    "\n",
    "    optimizer = BayesianOptimization(\n",
    "        f=q,\n",
    "        pbounds=pbounds,\n",
    "        random_state=2022,\n",
    "    )\n",
    "\n",
    "    optimizer.maximize(\n",
    "        init_points=init_points,\n",
    "        n_iter=n_iter,\n",
    "    )\n",
    "    \n",
    "    weights = []\n",
    "    for i in range(len(oof_columns)):\n",
    "        weights.append(optimizer.max[\"params\"][f\"w{i}\"])\n",
    "    \n",
    "    print(f\"Best pAUC: {optimizer.max['target']}\")\n",
    "    print(f\"Best weights: {weights}\")\n",
    "    return weights\n",
    "\n",
    "\n",
    "weights = blend_optimizer(\n",
    "    oof_preds_df, oof_columns, \n",
    "    init_points=40, \n",
    "    n_iter=40\n",
    ")"
   ]
  },
  {
   "cell_type": "code",
   "execution_count": 5,
   "id": "e7426ec8",
   "metadata": {
    "execution": {
     "iopub.execute_input": "2024-08-19T06:16:06.302684Z",
     "iopub.status.busy": "2024-08-19T06:16:06.302061Z",
     "iopub.status.idle": "2024-08-19T06:16:06.309119Z",
     "shell.execute_reply": "2024-08-19T06:16:06.308134Z"
    },
    "papermill": {
     "duration": 0.01866,
     "end_time": "2024-08-19T06:16:06.311228",
     "exception": false,
     "start_time": "2024-08-19T06:16:06.292568",
     "status": "completed"
    },
    "tags": []
   },
   "outputs": [
    {
     "data": {
      "text/plain": [
       "[6.73414629518269, 5.721006401618444]"
      ]
     },
     "execution_count": 5,
     "metadata": {},
     "output_type": "execute_result"
    }
   ],
   "source": [
    "weights"
   ]
  },
  {
   "cell_type": "code",
   "execution_count": 6,
   "id": "cfb37f8b",
   "metadata": {
    "execution": {
     "iopub.execute_input": "2024-08-19T06:16:06.330097Z",
     "iopub.status.busy": "2024-08-19T06:16:06.329540Z",
     "iopub.status.idle": "2024-08-19T06:16:07.937376Z",
     "shell.execute_reply": "2024-08-19T06:16:07.936299Z"
    },
    "papermill": {
     "duration": 1.620147,
     "end_time": "2024-08-19T06:16:07.939817",
     "exception": false,
     "start_time": "2024-08-19T06:16:06.319670",
     "status": "completed"
    },
    "tags": []
   },
   "outputs": [
    {
     "name": "stdout",
     "output_type": "stream",
     "text": [
      "Model: xgb_v1 | Weightage: 6.73414629518269\n",
      "Val AUC scores:\n",
      "{'fold_1': 0.9763855695822203,\n",
      " 'fold_2': 0.9572885288935904,\n",
      " 'fold_3': 0.9635023430382749,\n",
      " 'fold_4': 0.9709627048208559,\n",
      " 'fold_5': 0.9687397106157167}\n",
      "Val PAUC scores:\n",
      "{'fold_1': 0.18367412688887158,\n",
      " 'fold_2': 0.16537818384974395,\n",
      " 'fold_3': 0.17194383259911888,\n",
      " 'fold_4': 0.17426448565474031,\n",
      " 'fold_5': 0.17318846840205077}\n",
      "CV AUC OOF: 0.9464921630675764\n",
      "CV PAUC OOF: 0.15296119492851015\n",
      "CV AUC AVG: 0.9673757713901316\n",
      "CV PAUC AVG: 0.17368981947890508\n",
      "CV AUC STD: 0.006521637731286478\n",
      "CV PAUC STD: 0.00587196296972231\n",
      "\n",
      "\n",
      "Model: xgb_v2 | Weightage: 5.721006401618444\n",
      "Val AUC scores:\n",
      "{'fold_1': 0.9751129113471103,\n",
      " 'fold_2': 0.963817176741778,\n",
      " 'fold_3': 0.9639184585241667,\n",
      " 'fold_4': 0.9684925309805195,\n",
      " 'fold_5': 0.9623259344160846}\n",
      "Val PAUC scores:\n",
      "{'fold_1': 0.18166898925849218,\n",
      " 'fold_2': 0.17040633221405424,\n",
      " 'fold_3': 0.17186716127341475,\n",
      " 'fold_4': 0.17183237448677788,\n",
      " 'fold_5': 0.16723127288063078}\n",
      "CV AUC OOF: 0.9584420660973526\n",
      "CV PAUC OOF: 0.1645339574493963\n",
      "CV AUC AVG: 0.9667334024019318\n",
      "CV PAUC AVG: 0.17260122602267397\n",
      "CV AUC STD: 0.004672574423174126\n",
      "CV PAUC STD: 0.004837525595179168\n",
      "\n",
      "\n",
      "Val AUC scores:\n",
      "{'fold_1': 0.9774266438853334,\n",
      " 'fold_2': 0.9623955195560258,\n",
      " 'fold_3': 0.9684018981417928,\n",
      " 'fold_4': 0.9711740774481786,\n",
      " 'fold_5': 0.9677497698537719}\n",
      "Val PAUC scores:\n",
      "{'fold_1': 0.1838954362083503,\n",
      " 'fold_2': 0.1694802871856307,\n",
      " 'fold_3': 0.1759166240281538,\n",
      " 'fold_4': 0.17411067501965527,\n",
      " 'fold_5': 0.17204125705117804}\n",
      "CV AUC OOF: 0.9693320195665565\n",
      "CV PAUC OOF: 0.17492182005510437\n",
      "CV AUC AVG: 0.9694295817770204\n",
      "CV PAUC AVG: 0.17508885589859363\n",
      "CV AUC STD: 0.0049061634826273745\n",
      "CV PAUC STD: 0.004897791265524196\n"
     ]
    }
   ],
   "source": [
    "all_folds = np.unique(oof_preds_df[\"fold\"])\n",
    "for fold in all_folds:\n",
    "    if fold < 0:\n",
    "        continue\n",
    "    fold_index = oof_preds_df[oof_preds_df[\"fold\"] == fold].index\n",
    "    fold_target = oof_preds_df.loc[fold_index, target_column]\n",
    "    fold_ensemble_preds = 0\n",
    "    for model_name, version, weight in zip(model_names, versions, weights):\n",
    "        fold_model_preds = oof_preds_df.loc[fold_index, f\"oof_{model_name}_{version}\"]\n",
    "        fold_ensemble_preds += fold_model_preds.rank(pct=True).values * weight \n",
    "        \n",
    "        val_auc_scores[f\"{model_name}_{version}\"][f\"fold_{fold}\"] = compute_auc(fold_target, fold_model_preds)\n",
    "        val_pauc_scores[f\"{model_name}_{version}\"][f\"fold_{fold}\"] = compute_pauc(fold_target, fold_model_preds, min_tpr=0.8)\n",
    "    \n",
    "    oof_preds_df.loc[fold_index, ensemble_column] = fold_ensemble_preds\n",
    "    val_auc_scores[\"ensemble\"][f\"fold_{fold}\"] = compute_auc(fold_target, fold_ensemble_preds)\n",
    "    val_pauc_scores[\"ensemble\"][f\"fold_{fold}\"] = compute_pauc(fold_target, fold_ensemble_preds, min_tpr=0.8)\n",
    "\n",
    "for model_name, version, weight in zip(model_names, versions, weights):\n",
    "    print(f\"Model: {model_name}_{version} | Weightage: {weight}\")\n",
    "    \n",
    "    print(\"Val AUC scores:\")\n",
    "    pprint(val_auc_scores[f\"{model_name}_{version}\"])\n",
    "    print(\"Val PAUC scores:\")\n",
    "    pprint(val_pauc_scores[f\"{model_name}_{version}\"])\n",
    "    \n",
    "    cv_model_auc_oof = compute_auc(oof_preds_df[target_column], oof_preds_df[f\"oof_{model_name}_{version}\"])\n",
    "    cv_model_pauc_oof = compute_pauc(oof_preds_df[target_column], oof_preds_df[f\"oof_{model_name}_{version}\"], min_tpr=0.8)\n",
    "\n",
    "    cv_model_auc_avg = np.mean(list(val_auc_scores[f\"{model_name}_{version}\"].values()))\n",
    "    cv_model_pauc_avg = np.mean(list(val_pauc_scores[f\"{model_name}_{version}\"].values()))\n",
    "\n",
    "    cv_model_auc_std = np.std(list(val_auc_scores[f\"{model_name}_{version}\"].values()))\n",
    "    cv_model_pauc_std = np.std(list(val_pauc_scores[f\"{model_name}_{version}\"].values()))\n",
    "    \n",
    "    print(f\"CV AUC OOF: {cv_model_auc_oof}\")\n",
    "    print(f\"CV PAUC OOF: {cv_model_pauc_oof}\")\n",
    "    print(f\"CV AUC AVG: {cv_model_auc_avg}\")\n",
    "    print(f\"CV PAUC AVG: {cv_model_pauc_avg}\")\n",
    "    print(f\"CV AUC STD: {cv_model_auc_std}\")\n",
    "    print(f\"CV PAUC STD: {cv_model_pauc_std}\")\n",
    "    print(\"\\n\")\n",
    "\n",
    "print(\"Val AUC scores:\")\n",
    "pprint(val_auc_scores[\"ensemble\"])\n",
    "print(\"Val PAUC scores:\")\n",
    "pprint(val_pauc_scores[\"ensemble\"])\n",
    "\n",
    "cv_ensemble_auc_oof = compute_auc(oof_preds_df[target_column], oof_preds_df[ensemble_column])\n",
    "cv_ensemble_pauc_oof = compute_pauc(oof_preds_df[target_column], oof_preds_df[ensemble_column], min_tpr=0.8)\n",
    "\n",
    "cv_ensemble_auc_avg = np.mean(list(val_auc_scores[\"ensemble\"].values()))\n",
    "cv_ensemble_pauc_avg = np.mean(list(val_pauc_scores[\"ensemble\"].values()))\n",
    "\n",
    "cv_ensemble_auc_std = np.std(list(val_auc_scores[\"ensemble\"].values()))\n",
    "cv_ensemble_pauc_std = np.std(list(val_pauc_scores[\"ensemble\"].values()))\n",
    "\n",
    "print(f\"CV AUC OOF: {cv_ensemble_auc_oof}\")\n",
    "print(f\"CV PAUC OOF: {cv_ensemble_pauc_oof}\")\n",
    "print(f\"CV AUC AVG: {cv_ensemble_auc_avg}\")\n",
    "print(f\"CV PAUC AVG: {cv_ensemble_pauc_avg}\")\n",
    "print(f\"CV AUC STD: {cv_ensemble_auc_std}\")\n",
    "print(f\"CV PAUC STD: {cv_ensemble_pauc_std}\")"
   ]
  },
  {
   "cell_type": "code",
   "execution_count": 7,
   "id": "a7641dca",
   "metadata": {
    "execution": {
     "iopub.execute_input": "2024-08-19T06:16:07.958779Z",
     "iopub.status.busy": "2024-08-19T06:16:07.958357Z",
     "iopub.status.idle": "2024-08-19T06:16:08.004907Z",
     "shell.execute_reply": "2024-08-19T06:16:08.003838Z"
    },
    "papermill": {
     "duration": 0.058654,
     "end_time": "2024-08-19T06:16:08.007182",
     "exception": false,
     "start_time": "2024-08-19T06:16:07.948528",
     "status": "completed"
    },
    "tags": []
   },
   "outputs": [
    {
     "data": {
      "text/html": [
       "<div>\n",
       "<style scoped>\n",
       "    .dataframe tbody tr th:only-of-type {\n",
       "        vertical-align: middle;\n",
       "    }\n",
       "\n",
       "    .dataframe tbody tr th {\n",
       "        vertical-align: top;\n",
       "    }\n",
       "\n",
       "    .dataframe thead th {\n",
       "        text-align: right;\n",
       "    }\n",
       "</style>\n",
       "<table border=\"1\" class=\"dataframe\">\n",
       "  <thead>\n",
       "    <tr style=\"text-align: right;\">\n",
       "      <th></th>\n",
       "      <th>oof_preds_ensemble</th>\n",
       "      <th>oof_xgb_v1</th>\n",
       "      <th>oof_xgb_v2</th>\n",
       "    </tr>\n",
       "    <tr>\n",
       "      <th>target</th>\n",
       "      <th></th>\n",
       "      <th></th>\n",
       "      <th></th>\n",
       "    </tr>\n",
       "  </thead>\n",
       "  <tbody>\n",
       "    <tr>\n",
       "      <th>0</th>\n",
       "      <td>6.221954</td>\n",
       "      <td>0.014516</td>\n",
       "      <td>0.009843</td>\n",
       "    </tr>\n",
       "    <tr>\n",
       "      <th>1</th>\n",
       "      <td>12.039197</td>\n",
       "      <td>0.328668</td>\n",
       "      <td>0.339775</td>\n",
       "    </tr>\n",
       "  </tbody>\n",
       "</table>\n",
       "</div>"
      ],
      "text/plain": [
       "        oof_preds_ensemble  oof_xgb_v1  oof_xgb_v2\n",
       "target                                            \n",
       "0                 6.221954    0.014516    0.009843\n",
       "1                12.039197    0.328668    0.339775"
      ]
     },
     "execution_count": 7,
     "metadata": {},
     "output_type": "execute_result"
    }
   ],
   "source": [
    "oof_preds_df.pivot_table(index=\"target\", values=oof_columns+[\"oof_preds_ensemble\"], aggfunc=\"mean\")"
   ]
  },
  {
   "cell_type": "code",
   "execution_count": 8,
   "id": "7424bdd8",
   "metadata": {
    "execution": {
     "iopub.execute_input": "2024-08-19T06:16:08.027586Z",
     "iopub.status.busy": "2024-08-19T06:16:08.027211Z",
     "iopub.status.idle": "2024-08-19T06:16:08.062182Z",
     "shell.execute_reply": "2024-08-19T06:16:08.061206Z"
    },
    "papermill": {
     "duration": 0.047742,
     "end_time": "2024-08-19T06:16:08.064354",
     "exception": false,
     "start_time": "2024-08-19T06:16:08.016612",
     "status": "completed"
    },
    "tags": []
   },
   "outputs": [
    {
     "data": {
      "text/html": [
       "<div>\n",
       "<style scoped>\n",
       "    .dataframe tbody tr th:only-of-type {\n",
       "        vertical-align: middle;\n",
       "    }\n",
       "\n",
       "    .dataframe tbody tr th {\n",
       "        vertical-align: top;\n",
       "    }\n",
       "\n",
       "    .dataframe thead th {\n",
       "        text-align: right;\n",
       "    }\n",
       "</style>\n",
       "<table border=\"1\" class=\"dataframe\">\n",
       "  <thead>\n",
       "    <tr style=\"text-align: right;\">\n",
       "      <th></th>\n",
       "      <th>oof_xgb_v1</th>\n",
       "      <th>oof_xgb_v2</th>\n",
       "      <th>oof_preds_ensemble</th>\n",
       "    </tr>\n",
       "  </thead>\n",
       "  <tbody>\n",
       "    <tr>\n",
       "      <th>oof_xgb_v1</th>\n",
       "      <td>1.000000</td>\n",
       "      <td>0.875487</td>\n",
       "      <td>0.320781</td>\n",
       "    </tr>\n",
       "    <tr>\n",
       "      <th>oof_xgb_v2</th>\n",
       "      <td>0.875487</td>\n",
       "      <td>1.000000</td>\n",
       "      <td>0.307615</td>\n",
       "    </tr>\n",
       "    <tr>\n",
       "      <th>oof_preds_ensemble</th>\n",
       "      <td>0.320781</td>\n",
       "      <td>0.307615</td>\n",
       "      <td>1.000000</td>\n",
       "    </tr>\n",
       "  </tbody>\n",
       "</table>\n",
       "</div>"
      ],
      "text/plain": [
       "                    oof_xgb_v1  oof_xgb_v2  oof_preds_ensemble\n",
       "oof_xgb_v1            1.000000    0.875487            0.320781\n",
       "oof_xgb_v2            0.875487    1.000000            0.307615\n",
       "oof_preds_ensemble    0.320781    0.307615            1.000000"
      ]
     },
     "execution_count": 8,
     "metadata": {},
     "output_type": "execute_result"
    }
   ],
   "source": [
    "oof_preds_df[oof_columns+[\"oof_preds_ensemble\"]].corr()"
   ]
  },
  {
   "cell_type": "code",
   "execution_count": null,
   "id": "9ac57d06",
   "metadata": {
    "papermill": {
     "duration": 0.008731,
     "end_time": "2024-08-19T06:16:08.082053",
     "exception": false,
     "start_time": "2024-08-19T06:16:08.073322",
     "status": "completed"
    },
    "tags": []
   },
   "outputs": [],
   "source": []
  }
 ],
 "metadata": {
  "kaggle": {
   "accelerator": "none",
   "dataSources": [
    {
     "databundleVersionId": 9094797,
     "sourceId": 63056,
     "sourceType": "competition"
    },
    {
     "sourceId": 187477024,
     "sourceType": "kernelVersion"
    },
    {
     "sourceId": 193130710,
     "sourceType": "kernelVersion"
    },
    {
     "sourceId": 193147264,
     "sourceType": "kernelVersion"
    },
    {
     "sourceId": 193147342,
     "sourceType": "kernelVersion"
    }
   ],
   "dockerImageVersionId": 30746,
   "isGpuEnabled": false,
   "isInternetEnabled": false,
   "language": "python",
   "sourceType": "notebook"
  },
  "kernelspec": {
   "display_name": "Python 3",
   "language": "python",
   "name": "python3"
  },
  "language_info": {
   "codemirror_mode": {
    "name": "ipython",
    "version": 3
   },
   "file_extension": ".py",
   "mimetype": "text/x-python",
   "name": "python",
   "nbconvert_exporter": "python",
   "pygments_lexer": "ipython3",
   "version": "3.10.13"
  },
  "papermill": {
   "default_parameters": {},
   "duration": 40.068063,
   "end_time": "2024-08-19T06:16:09.112563",
   "environment_variables": {},
   "exception": null,
   "input_path": "__notebook__.ipynb",
   "output_path": "__notebook__.ipynb",
   "parameters": {},
   "start_time": "2024-08-19T06:15:29.044500",
   "version": "2.5.0"
  }
 },
 "nbformat": 4,
 "nbformat_minor": 5
}
