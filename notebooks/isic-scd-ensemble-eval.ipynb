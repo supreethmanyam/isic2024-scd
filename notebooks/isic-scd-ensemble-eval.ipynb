{
 "cells": [
  {
   "cell_type": "code",
   "execution_count": 1,
   "id": "5424c737",
   "metadata": {
    "_cell_guid": "b1076dfc-b9ad-4769-8c92-a6c4dae69d19",
    "_uuid": "8f2839f25d086af736a60e9eeb907d3b93b6e0e5",
    "execution": {
     "iopub.execute_input": "2024-07-14T20:49:19.930780Z",
     "iopub.status.busy": "2024-07-14T20:49:19.930057Z",
     "iopub.status.idle": "2024-07-14T20:49:25.606004Z",
     "shell.execute_reply": "2024-07-14T20:49:25.604950Z"
    },
    "papermill": {
     "duration": 5.683455,
     "end_time": "2024-07-14T20:49:25.608734",
     "exception": false,
     "start_time": "2024-07-14T20:49:19.925279",
     "status": "completed"
    },
    "tags": []
   },
   "outputs": [],
   "source": [
    "from pathlib import Path\n",
    "\n",
    "import pandas as pd\n",
    "import numpy as np\n",
    "\n",
    "from isic_helper import compute_pauc, compute_auc"
   ]
  },
  {
   "cell_type": "code",
   "execution_count": 2,
   "id": "c692c74a",
   "metadata": {
    "execution": {
     "iopub.execute_input": "2024-07-14T20:49:25.615402Z",
     "iopub.status.busy": "2024-07-14T20:49:25.614896Z",
     "iopub.status.idle": "2024-07-14T20:49:25.622083Z",
     "shell.execute_reply": "2024-07-14T20:49:25.621000Z"
    },
    "papermill": {
     "duration": 0.012628,
     "end_time": "2024-07-14T20:49:25.624114",
     "exception": false,
     "start_time": "2024-07-14T20:49:25.611486",
     "status": "completed"
    },
    "tags": []
   },
   "outputs": [],
   "source": [
    "model_names = [\"cb\", \"lgb\", \"resnet18\"]\n",
    "versions = [\"v1\", \"v1\", \"v1\"]\n",
    "paths = [\"/kaggle/input/isic-scd-cb-train\", \"/kaggle/input/isic-scd-lgb-train\", \"/kaggle/input/isic-scd-resnet18-train\"]\n",
    "target_column = \"final_target\"\n",
    "wts = [0.35, 0.35, 0.3]\n",
    "\n",
    "# model_names = [\"cb\", \"lgb\"]\n",
    "# versions = [\"v1\", \"v1\", \"v1\"]\n",
    "# paths = [\"/kaggle/input/isic-scd-cb-train\", \"/kaggle/input/isic-scd-lgb-train\"]\n",
    "# target_column = \"final_target\"\n",
    "# wts = [0.5, 0.5]"
   ]
  },
  {
   "cell_type": "code",
   "execution_count": 3,
   "id": "2a8142fa",
   "metadata": {
    "execution": {
     "iopub.execute_input": "2024-07-14T20:49:25.630999Z",
     "iopub.status.busy": "2024-07-14T20:49:25.629853Z",
     "iopub.status.idle": "2024-07-14T20:49:28.455113Z",
     "shell.execute_reply": "2024-07-14T20:49:28.453938Z"
    },
    "papermill": {
     "duration": 2.831226,
     "end_time": "2024-07-14T20:49:28.457804",
     "exception": false,
     "start_time": "2024-07-14T20:49:25.626578",
     "status": "completed"
    },
    "tags": []
   },
   "outputs": [],
   "source": [
    "subs = {}\n",
    "cv_pauc_oof_avg = {}\n",
    "for i in range(len(model_names)):\n",
    "    model_name = model_names[i]\n",
    "    version = versions[i]\n",
    "    path = paths[i]\n",
    "    subs[model_name] = pd.read_csv(f\"{path}/oof_preds_{model_name}_{version}.csv\")\n",
    "    cv_pauc_oof_avg[model_name] = {}\n",
    "cv_pauc_oof_avg[\"ensemble\"] = {}\n",
    "\n",
    "folds = np.sort(subs[model_names[0]][\"fold\"].unique())\n",
    "for fold in folds:\n",
    "    fold_ens_preds = []\n",
    "    for idx, (version, (model_name, df)) in enumerate(zip(versions, subs.items())):\n",
    "        fold_df = df[df[\"fold\"] == fold]\n",
    "        fold_model_preds = fold_df[f\"oof_{model_name}_{version}\"]\n",
    "        cv_pauc_oof_avg[model_name][f\"fold_{fold}\"] = compute_pauc(fold_df[target_column], fold_model_preds)\n",
    "        fold_ens_preds.append(wts[idx] * fold_df[f\"oof_{model_name}_{version}\"].rank(pct=True).values)\n",
    "    cv_pauc_oof_avg[\"ensemble\"][f\"fold_{fold}\"] = compute_pauc(fold_df[target_column], np.sum(fold_ens_preds, axis=0))"
   ]
  },
  {
   "cell_type": "code",
   "execution_count": 4,
   "id": "e61c9c37",
   "metadata": {
    "execution": {
     "iopub.execute_input": "2024-07-14T20:49:28.464346Z",
     "iopub.status.busy": "2024-07-14T20:49:28.463960Z",
     "iopub.status.idle": "2024-07-14T20:49:28.470713Z",
     "shell.execute_reply": "2024-07-14T20:49:28.469664Z"
    },
    "papermill": {
     "duration": 0.013103,
     "end_time": "2024-07-14T20:49:28.473460",
     "exception": false,
     "start_time": "2024-07-14T20:49:28.460357",
     "status": "completed"
    },
    "tags": []
   },
   "outputs": [
    {
     "name": "stdout",
     "output_type": "stream",
     "text": [
      "cb:\n",
      "Fold scores: {'fold_1': 0.1575768055646264, 'fold_2': 0.16761408614928966, 'fold_3': 0.16231764236063442, 'fold_4': 0.16628848385768302, 'fold_5': 0.16223697973913237}\n",
      " Avg score: 0.16320679953427314\n",
      "lgb:\n",
      "Fold scores: {'fold_1': 0.16189363377553598, 'fold_2': 0.16460742359112585, 'fold_3': 0.1566555858531654, 'fold_4': 0.17275461431905254, 'fold_5': 0.16268287305687626}\n",
      " Avg score: 0.16371882611915117\n",
      "resnet18:\n",
      "Fold scores: {'fold_1': 0.15586849727633634, 'fold_2': 0.15323922173948376, 'fold_3': 0.14612993098800708, 'fold_4': 0.15783404674844936, 'fold_5': 0.15046869195347348}\n",
      " Avg score: 0.15270807774115\n",
      "Ensemble:\n",
      "Fold scores: {'fold_1': 0.16850371012368587, 'fold_2': 0.17393346913151236, 'fold_3': 0.1662165703660256, 'fold_4': 0.1764607330496312, 'fold_5': 0.16844521623826025}\n",
      " Avg score: 0.17071193978182303\n"
     ]
    }
   ],
   "source": [
    "for model_name in model_names:\n",
    "    print(f\"{model_name}:\\nFold scores: {cv_pauc_oof_avg[model_name]}\\n Avg score: {np.mean(list(cv_pauc_oof_avg[model_name].values()))}\")\n",
    "print(f\"Ensemble:\\nFold scores: {cv_pauc_oof_avg['ensemble']}\\n Avg score: {np.mean(list(cv_pauc_oof_avg['ensemble'].values()))}\")"
   ]
  },
  {
   "cell_type": "code",
   "execution_count": null,
   "id": "3768c07d",
   "metadata": {
    "papermill": {
     "duration": 0.002113,
     "end_time": "2024-07-14T20:49:28.478115",
     "exception": false,
     "start_time": "2024-07-14T20:49:28.476002",
     "status": "completed"
    },
    "tags": []
   },
   "outputs": [],
   "source": []
  }
 ],
 "metadata": {
  "kaggle": {
   "accelerator": "none",
   "dataSources": [
    {
     "databundleVersionId": 9094797,
     "sourceId": 63056,
     "sourceType": "competition"
    },
    {
     "sourceId": 187439867,
     "sourceType": "kernelVersion"
    },
    {
     "sourceId": 187477024,
     "sourceType": "kernelVersion"
    },
    {
     "sourceId": 188057910,
     "sourceType": "kernelVersion"
    },
    {
     "sourceId": 188282340,
     "sourceType": "kernelVersion"
    },
    {
     "sourceId": 188283416,
     "sourceType": "kernelVersion"
    }
   ],
   "dockerImageVersionId": 30746,
   "isGpuEnabled": false,
   "isInternetEnabled": false,
   "language": "python",
   "sourceType": "notebook"
  },
  "kernelspec": {
   "display_name": "Python 3",
   "language": "python",
   "name": "python3"
  },
  "language_info": {
   "codemirror_mode": {
    "name": "ipython",
    "version": 3
   },
   "file_extension": ".py",
   "mimetype": "text/x-python",
   "name": "python",
   "nbconvert_exporter": "python",
   "pygments_lexer": "ipython3",
   "version": "3.10.13"
  },
  "papermill": {
   "default_parameters": {},
   "duration": 12.361125,
   "end_time": "2024-07-14T20:49:29.503405",
   "environment_variables": {},
   "exception": null,
   "input_path": "__notebook__.ipynb",
   "output_path": "__notebook__.ipynb",
   "parameters": {},
   "start_time": "2024-07-14T20:49:17.142280",
   "version": "2.5.0"
  }
 },
 "nbformat": 4,
 "nbformat_minor": 5
}
