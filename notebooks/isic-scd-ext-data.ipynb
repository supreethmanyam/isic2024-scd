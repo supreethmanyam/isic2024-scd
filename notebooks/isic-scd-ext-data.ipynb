{
 "cells": [
  {
   "cell_type": "code",
   "execution_count": 1,
   "id": "e8fb3f81",
   "metadata": {
    "execution": {
     "iopub.execute_input": "2024-07-30T06:50:22.754538Z",
     "iopub.status.busy": "2024-07-30T06:50:22.753805Z",
     "iopub.status.idle": "2024-07-30T06:50:44.292284Z",
     "shell.execute_reply": "2024-07-30T06:50:44.290998Z"
    },
    "papermill": {
     "duration": 21.548278,
     "end_time": "2024-07-30T06:50:44.295037",
     "exception": false,
     "start_time": "2024-07-30T06:50:22.746759",
     "status": "completed"
    },
    "tags": []
   },
   "outputs": [
    {
     "name": "stdout",
     "output_type": "stream",
     "text": [
      "If you have been granted special permissions, logging in with `isic user login` might return more data.\r\n",
      "\r\n",
      "\u001b[2KDownloading images (and metadata) (10 total) \u001b[90m━━━━━━━━━━━━━━━━━━━━━━\u001b[0m \u001b[35m100%\u001b[0m \u001b[36m0:00:00\u001b[0m\r\n",
      "\u001b[?25h\r\n",
      "\u001b[32mSuccessfully downloaded 10 images to images/.\u001b[0m\r\n",
      "\u001b[32mSuccessfully wrote 10 metadata records to images/metadata.csv.\u001b[0m\r\n",
      "\u001b[32mSuccessfully wrote attributions to images/attribution.txt.\u001b[0m\r\n",
      "\u001b[32mSuccessfully wrote 1 license(s) to images/licenses.\u001b[0m\r\n"
     ]
    }
   ],
   "source": [
    "!pip install -q -U isic-cli\n",
    "!isic image download -l 10 images/"
   ]
  },
  {
   "cell_type": "code",
   "execution_count": 2,
   "id": "212164c9",
   "metadata": {
    "execution": {
     "iopub.execute_input": "2024-07-30T06:50:44.307372Z",
     "iopub.status.busy": "2024-07-30T06:50:44.306955Z",
     "iopub.status.idle": "2024-07-30T06:50:45.456086Z",
     "shell.execute_reply": "2024-07-30T06:50:45.454931Z"
    },
    "papermill": {
     "duration": 1.15859,
     "end_time": "2024-07-30T06:50:45.458820",
     "exception": false,
     "start_time": "2024-07-30T06:50:44.300230",
     "status": "completed"
    },
    "tags": []
   },
   "outputs": [],
   "source": [
    "import h5py\n",
    "from tqdm import tqdm\n",
    "import numpy as np\n",
    "import pandas as pd\n",
    "from PIL import Image\n",
    "import io,os\n",
    "from glob import glob\n",
    "from io import BytesIO\n",
    "\n",
    "pd.options.display.max_columns=1000"
   ]
  },
  {
   "cell_type": "code",
   "execution_count": 3,
   "id": "e316f269",
   "metadata": {
    "execution": {
     "iopub.execute_input": "2024-07-30T06:50:45.471149Z",
     "iopub.status.busy": "2024-07-30T06:50:45.470595Z",
     "iopub.status.idle": "2024-07-30T06:50:45.476474Z",
     "shell.execute_reply": "2024-07-30T06:50:45.475288Z"
    },
    "papermill": {
     "duration": 0.014437,
     "end_time": "2024-07-30T06:50:45.478526",
     "exception": false,
     "start_time": "2024-07-30T06:50:45.464089",
     "status": "completed"
    },
    "tags": []
   },
   "outputs": [],
   "source": [
    "# Supported Image Extension (One can extend the list in case needed)\n",
    "extensions = ['JPG','jpg','.PNG','png','.BMP','bmp']\n",
    "\n",
    "# Location of the target folder where the images reside\n",
    "# This code assumes that the isic_id of the image is the basename of the image (without the extension)\n",
    "direc = './images'\n",
    "\n",
    "# Determine the name of the HDF5 file\n",
    "HDF5_Dataset_name = 'external_images.hdf5'"
   ]
  },
  {
   "cell_type": "code",
   "execution_count": 4,
   "id": "c65689aa",
   "metadata": {
    "execution": {
     "iopub.execute_input": "2024-07-30T06:50:45.490196Z",
     "iopub.status.busy": "2024-07-30T06:50:45.489801Z",
     "iopub.status.idle": "2024-07-30T06:50:45.540750Z",
     "shell.execute_reply": "2024-07-30T06:50:45.539647Z"
    },
    "papermill": {
     "duration": 0.059494,
     "end_time": "2024-07-30T06:50:45.543106",
     "exception": false,
     "start_time": "2024-07-30T06:50:45.483612",
     "status": "completed"
    },
    "tags": []
   },
   "outputs": [
    {
     "name": "stderr",
     "output_type": "stream",
     "text": [
      "100%|██████████| 13/13 [00:00<00:00, 480.79it/s]"
     ]
    },
    {
     "name": "stdout",
     "output_type": "stream",
     "text": [
      "./images/metadata.csv does not have a supported extension. Skipping!!\n",
      "./images/licenses does not have a supported extension. Skipping!!\n",
      "./images/attribution.txt does not have a supported extension. Skipping!!\n"
     ]
    },
    {
     "name": "stderr",
     "output_type": "stream",
     "text": [
      "\n"
     ]
    }
   ],
   "source": [
    "# Read the files names from the target folder \n",
    "flist = glob(os.path.join(direc,'*'))\n",
    "\n",
    "## Save the samples in an HDF5 File\n",
    "# Open the HDF5 file for writing\n",
    "f = h5py.File(HDF5_Dataset_name, 'w')\n",
    "for file in tqdm(flist):\n",
    "    ext = os.path.splitext(file)[1][1:]\n",
    "    if ext not in extensions:\n",
    "        print('%s does not have a supported extension. Skipping!!'%(file))\n",
    "        continue\n",
    "    if ext == 'JPG' or ext =='jpg':\n",
    "        fin = open(file, 'rb')\n",
    "        binary_data = fin.read()\n",
    "        binary_data_np = np.asarray(binary_data)\n",
    "        fin.close()\n",
    "    else:\n",
    "        #If the sample is not jpeg encoded, we need to encode first and then write into the HDF5 file\n",
    "        print('JPEG Compression is applied to sample %s'%(file))\n",
    "        tmp = Image.open(file)\n",
    "        tmp.save('temp.jpg','jpeg',quality=100)\n",
    "        fin = open('temp.jpg', 'rb')\n",
    "        binary_data = fin.read()\n",
    "        binary_data_np = np.asarray(binary_data)\n",
    "        fin.close()\n",
    "\n",
    "    fname = os.path.splitext(os.path.basename(file))[0]\n",
    "    f.create_dataset(fname, data=binary_data_np)\n",
    "f.close()"
   ]
  },
  {
   "cell_type": "code",
   "execution_count": 5,
   "id": "89a6b317",
   "metadata": {
    "execution": {
     "iopub.execute_input": "2024-07-30T06:50:45.555923Z",
     "iopub.status.busy": "2024-07-30T06:50:45.555123Z",
     "iopub.status.idle": "2024-07-30T06:50:45.577204Z",
     "shell.execute_reply": "2024-07-30T06:50:45.576128Z"
    },
    "papermill": {
     "duration": 0.031302,
     "end_time": "2024-07-30T06:50:45.579702",
     "exception": false,
     "start_time": "2024-07-30T06:50:45.548400",
     "status": "completed"
    },
    "tags": []
   },
   "outputs": [],
   "source": [
    "data = pd.read_csv(f\"{direc}/metadata.csv\")\n",
    "data[\"target\"] = np.where(data[\"benign_malignant\"] == \"malignant\", 1, 0)"
   ]
  },
  {
   "cell_type": "code",
   "execution_count": 6,
   "id": "669fc861",
   "metadata": {
    "execution": {
     "iopub.execute_input": "2024-07-30T06:50:45.592250Z",
     "iopub.status.busy": "2024-07-30T06:50:45.591857Z",
     "iopub.status.idle": "2024-07-30T06:50:45.608003Z",
     "shell.execute_reply": "2024-07-30T06:50:45.606900Z"
    },
    "papermill": {
     "duration": 0.025019,
     "end_time": "2024-07-30T06:50:45.610326",
     "exception": false,
     "start_time": "2024-07-30T06:50:45.585307",
     "status": "completed"
    },
    "tags": []
   },
   "outputs": [
    {
     "data": {
      "text/plain": [
       "benign_malignant\n",
       "benign    10\n",
       "Name: count, dtype: int64"
      ]
     },
     "execution_count": 6,
     "metadata": {},
     "output_type": "execute_result"
    }
   ],
   "source": [
    "data[\"benign_malignant\"].value_counts()"
   ]
  },
  {
   "cell_type": "code",
   "execution_count": 7,
   "id": "5d8ee8a8",
   "metadata": {
    "execution": {
     "iopub.execute_input": "2024-07-30T06:50:45.622735Z",
     "iopub.status.busy": "2024-07-30T06:50:45.622340Z",
     "iopub.status.idle": "2024-07-30T06:50:45.632330Z",
     "shell.execute_reply": "2024-07-30T06:50:45.631265Z"
    },
    "papermill": {
     "duration": 0.018967,
     "end_time": "2024-07-30T06:50:45.634697",
     "exception": false,
     "start_time": "2024-07-30T06:50:45.615730",
     "status": "completed"
    },
    "tags": []
   },
   "outputs": [
    {
     "data": {
      "text/plain": [
       "target\n",
       "0    10\n",
       "Name: count, dtype: int64"
      ]
     },
     "execution_count": 7,
     "metadata": {},
     "output_type": "execute_result"
    }
   ],
   "source": [
    "data[\"target\"].value_counts()"
   ]
  },
  {
   "cell_type": "code",
   "execution_count": 8,
   "id": "99f67242",
   "metadata": {
    "execution": {
     "iopub.execute_input": "2024-07-30T06:50:45.646958Z",
     "iopub.status.busy": "2024-07-30T06:50:45.646569Z",
     "iopub.status.idle": "2024-07-30T06:50:45.659873Z",
     "shell.execute_reply": "2024-07-30T06:50:45.658887Z"
    },
    "papermill": {
     "duration": 0.022331,
     "end_time": "2024-07-30T06:50:45.662400",
     "exception": false,
     "start_time": "2024-07-30T06:50:45.640069",
     "status": "completed"
    },
    "tags": []
   },
   "outputs": [],
   "source": [
    "data.to_csv(\"external_metadata.csv\", index=False)"
   ]
  },
  {
   "cell_type": "code",
   "execution_count": 9,
   "id": "5198a267",
   "metadata": {
    "execution": {
     "iopub.execute_input": "2024-07-30T06:50:45.675194Z",
     "iopub.status.busy": "2024-07-30T06:50:45.674821Z",
     "iopub.status.idle": "2024-07-30T06:50:46.736360Z",
     "shell.execute_reply": "2024-07-30T06:50:46.734628Z"
    },
    "papermill": {
     "duration": 1.071246,
     "end_time": "2024-07-30T06:50:46.739315",
     "exception": false,
     "start_time": "2024-07-30T06:50:45.668069",
     "status": "completed"
    },
    "tags": []
   },
   "outputs": [],
   "source": [
    "!rm -rf images/"
   ]
  },
  {
   "cell_type": "code",
   "execution_count": null,
   "id": "68d18f55",
   "metadata": {
    "papermill": {
     "duration": 0.005243,
     "end_time": "2024-07-30T06:50:46.750138",
     "exception": false,
     "start_time": "2024-07-30T06:50:46.744895",
     "status": "completed"
    },
    "tags": []
   },
   "outputs": [],
   "source": []
  }
 ],
 "metadata": {
  "kaggle": {
   "accelerator": "none",
   "dataSources": [
    {
     "databundleVersionId": 9094797,
     "sourceId": 63056,
     "sourceType": "competition"
    }
   ],
   "dockerImageVersionId": 30746,
   "isGpuEnabled": false,
   "isInternetEnabled": true,
   "language": "python",
   "sourceType": "notebook"
  },
  "kernelspec": {
   "display_name": "Python 3",
   "language": "python",
   "name": "python3"
  },
  "language_info": {
   "codemirror_mode": {
    "name": "ipython",
    "version": 3
   },
   "file_extension": ".py",
   "mimetype": "text/x-python",
   "name": "python",
   "nbconvert_exporter": "python",
   "pygments_lexer": "ipython3",
   "version": "3.10.13"
  },
  "papermill": {
   "default_parameters": {},
   "duration": 27.342735,
   "end_time": "2024-07-30T06:50:47.278193",
   "environment_variables": {},
   "exception": null,
   "input_path": "__notebook__.ipynb",
   "output_path": "__notebook__.ipynb",
   "parameters": {},
   "start_time": "2024-07-30T06:50:19.935458",
   "version": "2.5.0"
  }
 },
 "nbformat": 4,
 "nbformat_minor": 5
}
