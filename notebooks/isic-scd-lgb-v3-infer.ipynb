{
 "cells": [
  {
   "cell_type": "code",
   "execution_count": 1,
   "id": "6143dffe",
   "metadata": {
    "_cell_guid": "a30e467f-ec41-4133-b8d4-e794f559da50",
    "_uuid": "c0ebb1a4-b5f7-4a24-864f-eb38f15fed58",
    "collapsed": false,
    "execution": {
     "iopub.execute_input": "2024-07-25T22:57:26.572100Z",
     "iopub.status.busy": "2024-07-25T22:57:26.571326Z",
     "iopub.status.idle": "2024-07-25T22:57:32.557691Z",
     "shell.execute_reply": "2024-07-25T22:57:32.556490Z"
    },
    "jupyter": {
     "outputs_hidden": false
    },
    "papermill": {
     "duration": 5.995441,
     "end_time": "2024-07-25T22:57:32.560622",
     "exception": false,
     "start_time": "2024-07-25T22:57:26.565181",
     "status": "completed"
    },
    "tags": []
   },
   "outputs": [],
   "source": [
    "import json\n",
    "import joblib\n",
    "\n",
    "from pathlib import Path\n",
    "\n",
    "import pandas as pd\n",
    "import numpy as np\n",
    "\n",
    "import lightgbm as lgb\n",
    "\n",
    "from isic_helper import DotDict, get_folds"
   ]
  },
  {
   "cell_type": "code",
   "execution_count": 2,
   "id": "a6761395",
   "metadata": {
    "execution": {
     "iopub.execute_input": "2024-07-25T22:57:32.571932Z",
     "iopub.status.busy": "2024-07-25T22:57:32.570754Z",
     "iopub.status.idle": "2024-07-25T22:57:32.575952Z",
     "shell.execute_reply": "2024-07-25T22:57:32.574974Z"
    },
    "papermill": {
     "duration": 0.012753,
     "end_time": "2024-07-25T22:57:32.578111",
     "exception": false,
     "start_time": "2024-07-25T22:57:32.565358",
     "status": "completed"
    },
    "tags": []
   },
   "outputs": [],
   "source": [
    "cfg = DotDict()\n",
    "\n",
    "cfg.models_output_dir = \"models\"\n",
    "cfg.model_name = \"lgb_v3\""
   ]
  },
  {
   "cell_type": "code",
   "execution_count": 3,
   "id": "ded65e3b",
   "metadata": {
    "execution": {
     "iopub.execute_input": "2024-07-25T22:57:32.588269Z",
     "iopub.status.busy": "2024-07-25T22:57:32.587614Z",
     "iopub.status.idle": "2024-07-25T22:57:32.593957Z",
     "shell.execute_reply": "2024-07-25T22:57:32.592876Z"
    },
    "papermill": {
     "duration": 0.014098,
     "end_time": "2024-07-25T22:57:32.596508",
     "exception": false,
     "start_time": "2024-07-25T22:57:32.582410",
     "status": "completed"
    },
    "tags": []
   },
   "outputs": [],
   "source": [
    "id_column = \"isic_id\"\n",
    "target_column = \"target\"\n",
    "group_column = \"patient_id\""
   ]
  },
  {
   "cell_type": "code",
   "execution_count": 4,
   "id": "83124dbf",
   "metadata": {
    "execution": {
     "iopub.execute_input": "2024-07-25T22:57:32.609311Z",
     "iopub.status.busy": "2024-07-25T22:57:32.608894Z",
     "iopub.status.idle": "2024-07-25T22:57:32.628935Z",
     "shell.execute_reply": "2024-07-25T22:57:32.627630Z"
    },
    "papermill": {
     "duration": 0.029166,
     "end_time": "2024-07-25T22:57:32.631724",
     "exception": false,
     "start_time": "2024-07-25T22:57:32.602558",
     "status": "completed"
    },
    "tags": []
   },
   "outputs": [],
   "source": [
    "def count_features(df, col):\n",
    "    tmp = df[[id_column, group_column, col]].pivot_table(\n",
    "        values=id_column, \n",
    "        index=group_column, \n",
    "        columns=col, \n",
    "        aggfunc=\"count\", \n",
    "        fill_value=0)\n",
    "    feature_cols = tmp.columns.tolist()\n",
    "    tmp.reset_index(inplace=True)\n",
    "    tmp.index.name = None\n",
    "    df = df.merge(tmp, on=group_column, how=\"left\")\n",
    "    return df, feature_cols\n",
    "\n",
    "def mean_features(df, col, val):\n",
    "    tmp = df[[id_column, group_column, col, val]].pivot_table(\n",
    "        values=val, \n",
    "        index=group_column, \n",
    "        columns=col, \n",
    "        aggfunc=\"mean\", \n",
    "        fill_value=0)\n",
    "    tmp.columns = [f\"{c}_{val}_mean\" for c in tmp.columns.tolist()]\n",
    "    feature_cols = tmp.columns.tolist()\n",
    "    tmp.reset_index(inplace=True)\n",
    "    tmp.index.name = None\n",
    "    df = df.merge(tmp, on=group_column, how=\"left\")\n",
    "    return df, feature_cols\n",
    "\n",
    "\n",
    "def stat_features(df, group_cols, value_col, stats):\n",
    "    tmp = df.groupby(group_cols)[value_col].agg(stats)\n",
    "    tmp.columns = [f\"{value_col}_{stat}\" for stat in stats]\n",
    "    tmp.reset_index(inplace=True)\n",
    "    df = df.merge(tmp, on=group_cols, how=\"left\")\n",
    "    df[f\"{value_col}_mean_diff\"] = df[value_col] - df[f\"{value_col}_mean\"]\n",
    "    return df\n",
    "\n",
    "\n",
    "def feature_engineering(df):\n",
    "    new_num_cols = []\n",
    "    \n",
    "    df[\"lesion_size_ratio\"] = df[\"tbp_lv_minorAxisMM\"] / df[\"clin_size_long_diam_mm\"]\n",
    "    new_num_cols += [\"lesion_size_ratio\"]\n",
    "    \n",
    "    df[\"lesion_distance\"] = np.sqrt(df[\"tbp_lv_x\"]**2 + df[\"tbp_lv_y\"]**2 + df[\"tbp_lv_z\"]**2)\n",
    "    new_num_cols += [\"lesion_distance\"]\n",
    "    \n",
    "    df[\"hue_contrast\"] = df[\"tbp_lv_H\"] - df[\"tbp_lv_Hext\"]\n",
    "    df, feature_cols = mean_features(df, \"anatom_site_general\", \"hue_contrast\")\n",
    "    new_num_cols += feature_cols\n",
    "    \n",
    "    df, feature_cols = count_features(df, \"anatom_site_general\")\n",
    "    new_num_cols += feature_cols\n",
    "    \n",
    "    df[\"tbp_lv_A_diff\"] =  df[\"tbp_lv_Aext\"] - df[\"tbp_lv_A\"]\n",
    "    df = stat_features(df, [\"patient_id\", \"tbp_lv_location\"], \"tbp_lv_A_diff\", [\"mean\"])\n",
    "    new_num_cols += [\"tbp_lv_A_diff_mean_diff\"]\n",
    "    \n",
    "    df[\"tbp_lv_B_diff\"] =  df[\"tbp_lv_Bext\"] - df[\"tbp_lv_B\"]\n",
    "    df = stat_features(df, [\"patient_id\", \"tbp_lv_location\"], \"tbp_lv_B_diff\", [\"mean\"])\n",
    "    new_num_cols += [\"tbp_lv_B_diff_mean_diff\"]\n",
    "    \n",
    "    df[\"tbp_lv_L_diff\"] =  df[\"tbp_lv_Lext\"] - df[\"tbp_lv_L\"]\n",
    "    df = stat_features(df, [\"patient_id\", \"tbp_lv_location\"], \"tbp_lv_L_diff\", [\"mean\"])\n",
    "    new_num_cols += [\"tbp_lv_L_diff_mean_diff\"]\n",
    "    \n",
    "    df[\"tbp_lv_L_std_diff\"] =  df[\"tbp_lv_stdLExt\"] - df[\"tbp_lv_stdL\"]\n",
    "    df = stat_features(df, [\"patient_id\", \"tbp_lv_location\"], \"tbp_lv_L_std_diff\", [\"mean\"])\n",
    "    new_num_cols += [\"tbp_lv_L_std_diff_mean_diff\"]\n",
    "    \n",
    "    df[\"color_uniformity\"] = df[\"tbp_lv_color_std_mean\"] / df[\"tbp_lv_radial_color_std_max\"]\n",
    "    df, feature_cols = mean_features(df, \"anatom_site_general\", \"color_uniformity\")\n",
    "    new_num_cols += feature_cols\n",
    "    \n",
    "    df[\"radius\"] = np.cos(df[\"tbp_lv_symm_2axis_angle\"]) * np.sqrt(df[\"tbp_lv_x\"]**2 + df[\"tbp_lv_y\"]**2 + df[\"tbp_lv_z\"]**2)\n",
    "    new_num_cols += [\"radius\"]\n",
    "    \n",
    "    return df, new_num_cols"
   ]
  },
  {
   "cell_type": "code",
   "execution_count": 5,
   "id": "d099ce7c",
   "metadata": {
    "execution": {
     "iopub.execute_input": "2024-07-25T22:57:32.645944Z",
     "iopub.status.busy": "2024-07-25T22:57:32.644477Z",
     "iopub.status.idle": "2024-07-25T22:57:46.257630Z",
     "shell.execute_reply": "2024-07-25T22:57:46.256611Z"
    },
    "papermill": {
     "duration": 13.622804,
     "end_time": "2024-07-25T22:57:46.260141",
     "exception": false,
     "start_time": "2024-07-25T22:57:32.637337",
     "status": "completed"
    },
    "tags": []
   },
   "outputs": [
    {
     "name": "stdout",
     "output_type": "stream",
     "text": [
      "Train data size: (401059, 57)\n",
      "Test data size: (3, 44)\n"
     ]
    }
   ],
   "source": [
    "INPUT_PATH = Path(\"../input/isic-2024-challenge/\")\n",
    "ARTIFACTS_INPUT_PATH = Path(f\"../input/isic-scd-lgb-v3-train/\")\n",
    "MODELS_INPUT_PATH = ARTIFACTS_INPUT_PATH / cfg.models_output_dir\n",
    "\n",
    "train_metadata = pd.read_csv(INPUT_PATH / \"train-metadata.csv\", low_memory=False)\n",
    "test_metadata = pd.read_csv(INPUT_PATH / \"test-metadata.csv\")\n",
    "\n",
    "folds_df = get_folds()\n",
    "train_metadata = train_metadata.merge(folds_df, on=[\"isic_id\", \"patient_id\"], how=\"inner\")\n",
    "print(f\"Train data size: {train_metadata.shape}\")\n",
    "print(f\"Test data size: {test_metadata.shape}\")\n",
    "\n",
    "train_metadata, new_num_cols = feature_engineering(train_metadata.copy())\n",
    "test_metadata, _ = feature_engineering(test_metadata.copy())"
   ]
  },
  {
   "cell_type": "code",
   "execution_count": 6,
   "id": "05dbbaaa",
   "metadata": {
    "execution": {
     "iopub.execute_input": "2024-07-25T22:57:46.270981Z",
     "iopub.status.busy": "2024-07-25T22:57:46.270122Z",
     "iopub.status.idle": "2024-07-25T22:57:46.882960Z",
     "shell.execute_reply": "2024-07-25T22:57:46.881805Z"
    },
    "papermill": {
     "duration": 0.620663,
     "end_time": "2024-07-25T22:57:46.885320",
     "exception": false,
     "start_time": "2024-07-25T22:57:46.264657",
     "status": "completed"
    },
    "tags": []
   },
   "outputs": [
    {
     "name": "stdout",
     "output_type": "stream",
     "text": [
      "Total number of columns: 60\n"
     ]
    }
   ],
   "source": [
    "with open(ARTIFACTS_INPUT_PATH / f\"{cfg.model_name}_encoder.joblib\", \"rb\") as f:\n",
    "    mixed_encoded_preprocessor = joblib.load(f)\n",
    "    \n",
    "enc = mixed_encoded_preprocessor.fit(train_metadata)\n",
    "\n",
    "for col in mixed_encoded_preprocessor.feature_names_in_:\n",
    "    if col not in test_metadata.columns:\n",
    "        test_metadata[col] = np.nan\n",
    "\n",
    "X_test = enc.transform(test_metadata)\n",
    "\n",
    "columns_for_model = len(X_test.columns)\n",
    "print(f\"Total number of columns: {columns_for_model}\")"
   ]
  },
  {
   "cell_type": "code",
   "execution_count": 7,
   "id": "4330fbe7",
   "metadata": {
    "execution": {
     "iopub.execute_input": "2024-07-25T22:57:46.895867Z",
     "iopub.status.busy": "2024-07-25T22:57:46.895501Z",
     "iopub.status.idle": "2024-07-25T22:57:46.902467Z",
     "shell.execute_reply": "2024-07-25T22:57:46.901631Z"
    },
    "papermill": {
     "duration": 0.014596,
     "end_time": "2024-07-25T22:57:46.904496",
     "exception": false,
     "start_time": "2024-07-25T22:57:46.889900",
     "status": "completed"
    },
    "tags": []
   },
   "outputs": [],
   "source": [
    "folds = train_metadata[\"fold\"]\n",
    "\n",
    "with open(ARTIFACTS_INPUT_PATH / f\"{cfg.model_name}_run_metadata.json\", \"r\") as f:\n",
    "    run_metadata = json.load(f)"
   ]
  },
  {
   "cell_type": "code",
   "execution_count": 8,
   "id": "095ccd17",
   "metadata": {
    "execution": {
     "iopub.execute_input": "2024-07-25T22:57:46.914943Z",
     "iopub.status.busy": "2024-07-25T22:57:46.914625Z",
     "iopub.status.idle": "2024-07-25T22:57:47.423032Z",
     "shell.execute_reply": "2024-07-25T22:57:47.422002Z"
    },
    "papermill": {
     "duration": 0.51643,
     "end_time": "2024-07-25T22:57:47.425424",
     "exception": false,
     "start_time": "2024-07-25T22:57:46.908994",
     "status": "completed"
    },
    "tags": []
   },
   "outputs": [],
   "source": [
    "all_folds = np.sort(folds.unique())\n",
    "test_predictions_df = pd.DataFrame({id_column: test_metadata[id_column]})\n",
    "for fold in all_folds:\n",
    "    model = lgb.Booster(model_file=MODELS_INPUT_PATH / f\"{cfg.model_name}_fold_{fold}.txt\")\n",
    "    test_predictions_df[f\"fold_{fold}\"] = model.predict(X_test, num_iteration=run_metadata[\"best_num_rounds\"][f\"fold_{fold}\"])"
   ]
  },
  {
   "cell_type": "code",
   "execution_count": 9,
   "id": "7690004c",
   "metadata": {
    "execution": {
     "iopub.execute_input": "2024-07-25T22:57:47.435732Z",
     "iopub.status.busy": "2024-07-25T22:57:47.435046Z",
     "iopub.status.idle": "2024-07-25T22:57:47.450971Z",
     "shell.execute_reply": "2024-07-25T22:57:47.450008Z"
    },
    "papermill": {
     "duration": 0.023208,
     "end_time": "2024-07-25T22:57:47.452977",
     "exception": false,
     "start_time": "2024-07-25T22:57:47.429769",
     "status": "completed"
    },
    "tags": []
   },
   "outputs": [
    {
     "data": {
      "text/html": [
       "<div>\n",
       "<style scoped>\n",
       "    .dataframe tbody tr th:only-of-type {\n",
       "        vertical-align: middle;\n",
       "    }\n",
       "\n",
       "    .dataframe tbody tr th {\n",
       "        vertical-align: top;\n",
       "    }\n",
       "\n",
       "    .dataframe thead th {\n",
       "        text-align: right;\n",
       "    }\n",
       "</style>\n",
       "<table border=\"1\" class=\"dataframe\">\n",
       "  <thead>\n",
       "    <tr style=\"text-align: right;\">\n",
       "      <th></th>\n",
       "      <th>isic_id</th>\n",
       "      <th>fold_1</th>\n",
       "      <th>fold_2</th>\n",
       "      <th>fold_3</th>\n",
       "      <th>fold_4</th>\n",
       "      <th>fold_5</th>\n",
       "    </tr>\n",
       "  </thead>\n",
       "  <tbody>\n",
       "    <tr>\n",
       "      <th>0</th>\n",
       "      <td>ISIC_0015657</td>\n",
       "      <td>0.000056</td>\n",
       "      <td>0.000012</td>\n",
       "      <td>0.000040</td>\n",
       "      <td>0.000029</td>\n",
       "      <td>0.000041</td>\n",
       "    </tr>\n",
       "    <tr>\n",
       "      <th>1</th>\n",
       "      <td>ISIC_0015729</td>\n",
       "      <td>0.000030</td>\n",
       "      <td>0.000012</td>\n",
       "      <td>0.000044</td>\n",
       "      <td>0.000020</td>\n",
       "      <td>0.000032</td>\n",
       "    </tr>\n",
       "    <tr>\n",
       "      <th>2</th>\n",
       "      <td>ISIC_0015740</td>\n",
       "      <td>0.000065</td>\n",
       "      <td>0.000013</td>\n",
       "      <td>0.000062</td>\n",
       "      <td>0.000054</td>\n",
       "      <td>0.000049</td>\n",
       "    </tr>\n",
       "  </tbody>\n",
       "</table>\n",
       "</div>"
      ],
      "text/plain": [
       "        isic_id    fold_1    fold_2    fold_3    fold_4    fold_5\n",
       "0  ISIC_0015657  0.000056  0.000012  0.000040  0.000029  0.000041\n",
       "1  ISIC_0015729  0.000030  0.000012  0.000044  0.000020  0.000032\n",
       "2  ISIC_0015740  0.000065  0.000013  0.000062  0.000054  0.000049"
      ]
     },
     "execution_count": 9,
     "metadata": {},
     "output_type": "execute_result"
    }
   ],
   "source": [
    "test_predictions_df.head()"
   ]
  },
  {
   "cell_type": "code",
   "execution_count": 10,
   "id": "58b804aa",
   "metadata": {
    "execution": {
     "iopub.execute_input": "2024-07-25T22:57:47.463770Z",
     "iopub.status.busy": "2024-07-25T22:57:47.462947Z",
     "iopub.status.idle": "2024-07-25T22:57:47.470398Z",
     "shell.execute_reply": "2024-07-25T22:57:47.469497Z"
    },
    "papermill": {
     "duration": 0.014714,
     "end_time": "2024-07-25T22:57:47.472337",
     "exception": false,
     "start_time": "2024-07-25T22:57:47.457623",
     "status": "completed"
    },
    "tags": []
   },
   "outputs": [],
   "source": [
    "test_predictions_df[target_column] = test_predictions_df[[f\"fold_{fold}\" for fold in all_folds]].mean(axis=1)"
   ]
  },
  {
   "cell_type": "code",
   "execution_count": 11,
   "id": "9b48c8d0",
   "metadata": {
    "execution": {
     "iopub.execute_input": "2024-07-25T22:57:47.482552Z",
     "iopub.status.busy": "2024-07-25T22:57:47.481819Z",
     "iopub.status.idle": "2024-07-25T22:57:47.493471Z",
     "shell.execute_reply": "2024-07-25T22:57:47.492571Z"
    },
    "papermill": {
     "duration": 0.018785,
     "end_time": "2024-07-25T22:57:47.495488",
     "exception": false,
     "start_time": "2024-07-25T22:57:47.476703",
     "status": "completed"
    },
    "tags": []
   },
   "outputs": [
    {
     "data": {
      "text/html": [
       "<div>\n",
       "<style scoped>\n",
       "    .dataframe tbody tr th:only-of-type {\n",
       "        vertical-align: middle;\n",
       "    }\n",
       "\n",
       "    .dataframe tbody tr th {\n",
       "        vertical-align: top;\n",
       "    }\n",
       "\n",
       "    .dataframe thead th {\n",
       "        text-align: right;\n",
       "    }\n",
       "</style>\n",
       "<table border=\"1\" class=\"dataframe\">\n",
       "  <thead>\n",
       "    <tr style=\"text-align: right;\">\n",
       "      <th></th>\n",
       "      <th>isic_id</th>\n",
       "      <th>fold_1</th>\n",
       "      <th>fold_2</th>\n",
       "      <th>fold_3</th>\n",
       "      <th>fold_4</th>\n",
       "      <th>fold_5</th>\n",
       "      <th>target</th>\n",
       "    </tr>\n",
       "  </thead>\n",
       "  <tbody>\n",
       "    <tr>\n",
       "      <th>0</th>\n",
       "      <td>ISIC_0015657</td>\n",
       "      <td>0.000056</td>\n",
       "      <td>0.000012</td>\n",
       "      <td>0.000040</td>\n",
       "      <td>0.000029</td>\n",
       "      <td>0.000041</td>\n",
       "      <td>0.000036</td>\n",
       "    </tr>\n",
       "    <tr>\n",
       "      <th>1</th>\n",
       "      <td>ISIC_0015729</td>\n",
       "      <td>0.000030</td>\n",
       "      <td>0.000012</td>\n",
       "      <td>0.000044</td>\n",
       "      <td>0.000020</td>\n",
       "      <td>0.000032</td>\n",
       "      <td>0.000028</td>\n",
       "    </tr>\n",
       "    <tr>\n",
       "      <th>2</th>\n",
       "      <td>ISIC_0015740</td>\n",
       "      <td>0.000065</td>\n",
       "      <td>0.000013</td>\n",
       "      <td>0.000062</td>\n",
       "      <td>0.000054</td>\n",
       "      <td>0.000049</td>\n",
       "      <td>0.000049</td>\n",
       "    </tr>\n",
       "  </tbody>\n",
       "</table>\n",
       "</div>"
      ],
      "text/plain": [
       "        isic_id    fold_1    fold_2    fold_3    fold_4    fold_5    target\n",
       "0  ISIC_0015657  0.000056  0.000012  0.000040  0.000029  0.000041  0.000036\n",
       "1  ISIC_0015729  0.000030  0.000012  0.000044  0.000020  0.000032  0.000028\n",
       "2  ISIC_0015740  0.000065  0.000013  0.000062  0.000054  0.000049  0.000049"
      ]
     },
     "execution_count": 11,
     "metadata": {},
     "output_type": "execute_result"
    }
   ],
   "source": [
    "test_predictions_df.head()"
   ]
  },
  {
   "cell_type": "code",
   "execution_count": 12,
   "id": "0b6559b7",
   "metadata": {
    "execution": {
     "iopub.execute_input": "2024-07-25T22:57:47.505864Z",
     "iopub.status.busy": "2024-07-25T22:57:47.505564Z",
     "iopub.status.idle": "2024-07-25T22:57:47.516097Z",
     "shell.execute_reply": "2024-07-25T22:57:47.515373Z"
    },
    "papermill": {
     "duration": 0.017825,
     "end_time": "2024-07-25T22:57:47.517986",
     "exception": false,
     "start_time": "2024-07-25T22:57:47.500161",
     "status": "completed"
    },
    "tags": []
   },
   "outputs": [
    {
     "data": {
      "text/plain": [
       "count    3.000000\n",
       "mean     0.000037\n",
       "std      0.000011\n",
       "min      0.000028\n",
       "25%      0.000032\n",
       "50%      0.000036\n",
       "75%      0.000042\n",
       "max      0.000049\n",
       "Name: target, dtype: float64"
      ]
     },
     "execution_count": 12,
     "metadata": {},
     "output_type": "execute_result"
    }
   ],
   "source": [
    "test_predictions_df[target_column].describe()"
   ]
  },
  {
   "cell_type": "code",
   "execution_count": 13,
   "id": "dcc42169",
   "metadata": {
    "execution": {
     "iopub.execute_input": "2024-07-25T22:57:47.528704Z",
     "iopub.status.busy": "2024-07-25T22:57:47.528378Z",
     "iopub.status.idle": "2024-07-25T22:57:47.538404Z",
     "shell.execute_reply": "2024-07-25T22:57:47.537395Z"
    },
    "papermill": {
     "duration": 0.017646,
     "end_time": "2024-07-25T22:57:47.540312",
     "exception": false,
     "start_time": "2024-07-25T22:57:47.522666",
     "status": "completed"
    },
    "tags": []
   },
   "outputs": [
    {
     "data": {
      "text/html": [
       "<div>\n",
       "<style scoped>\n",
       "    .dataframe tbody tr th:only-of-type {\n",
       "        vertical-align: middle;\n",
       "    }\n",
       "\n",
       "    .dataframe tbody tr th {\n",
       "        vertical-align: top;\n",
       "    }\n",
       "\n",
       "    .dataframe thead th {\n",
       "        text-align: right;\n",
       "    }\n",
       "</style>\n",
       "<table border=\"1\" class=\"dataframe\">\n",
       "  <thead>\n",
       "    <tr style=\"text-align: right;\">\n",
       "      <th></th>\n",
       "      <th>isic_id</th>\n",
       "      <th>target</th>\n",
       "    </tr>\n",
       "  </thead>\n",
       "  <tbody>\n",
       "    <tr>\n",
       "      <th>0</th>\n",
       "      <td>ISIC_0015657</td>\n",
       "      <td>0.000036</td>\n",
       "    </tr>\n",
       "    <tr>\n",
       "      <th>1</th>\n",
       "      <td>ISIC_0015729</td>\n",
       "      <td>0.000028</td>\n",
       "    </tr>\n",
       "    <tr>\n",
       "      <th>2</th>\n",
       "      <td>ISIC_0015740</td>\n",
       "      <td>0.000049</td>\n",
       "    </tr>\n",
       "  </tbody>\n",
       "</table>\n",
       "</div>"
      ],
      "text/plain": [
       "        isic_id    target\n",
       "0  ISIC_0015657  0.000036\n",
       "1  ISIC_0015729  0.000028\n",
       "2  ISIC_0015740  0.000049"
      ]
     },
     "execution_count": 13,
     "metadata": {},
     "output_type": "execute_result"
    }
   ],
   "source": [
    "test_predictions_df[[id_column, target_column]].head(10)"
   ]
  },
  {
   "cell_type": "code",
   "execution_count": 14,
   "id": "3e693cc4",
   "metadata": {
    "execution": {
     "iopub.execute_input": "2024-07-25T22:57:47.552143Z",
     "iopub.status.busy": "2024-07-25T22:57:47.551264Z",
     "iopub.status.idle": "2024-07-25T22:57:47.560272Z",
     "shell.execute_reply": "2024-07-25T22:57:47.558976Z"
    },
    "papermill": {
     "duration": 0.017053,
     "end_time": "2024-07-25T22:57:47.562321",
     "exception": false,
     "start_time": "2024-07-25T22:57:47.545268",
     "status": "completed"
    },
    "tags": []
   },
   "outputs": [],
   "source": [
    "test_predictions_df[[id_column, target_column]].to_csv(\"submission.csv\", index=False)"
   ]
  },
  {
   "cell_type": "code",
   "execution_count": null,
   "id": "5499300f",
   "metadata": {
    "papermill": {
     "duration": 0.004535,
     "end_time": "2024-07-25T22:57:47.571933",
     "exception": false,
     "start_time": "2024-07-25T22:57:47.567398",
     "status": "completed"
    },
    "tags": []
   },
   "outputs": [],
   "source": []
  }
 ],
 "metadata": {
  "kaggle": {
   "accelerator": "none",
   "dataSources": [
    {
     "databundleVersionId": 9094797,
     "sourceId": 63056,
     "sourceType": "competition"
    },
    {
     "sourceId": 187439867,
     "sourceType": "kernelVersion"
    },
    {
     "sourceId": 187477024,
     "sourceType": "kernelVersion"
    },
    {
     "sourceId": 189562484,
     "sourceType": "kernelVersion"
    }
   ],
   "dockerImageVersionId": 30732,
   "isGpuEnabled": false,
   "isInternetEnabled": false,
   "language": "python",
   "sourceType": "notebook"
  },
  "kernelspec": {
   "display_name": "Python 3",
   "language": "python",
   "name": "python3"
  },
  "language_info": {
   "codemirror_mode": {
    "name": "ipython",
    "version": 3
   },
   "file_extension": ".py",
   "mimetype": "text/x-python",
   "name": "python",
   "nbconvert_exporter": "python",
   "pygments_lexer": "ipython3",
   "version": "3.10.13"
  },
  "papermill": {
   "default_parameters": {},
   "duration": 24.794303,
   "end_time": "2024-07-25T22:57:48.699021",
   "environment_variables": {},
   "exception": null,
   "input_path": "__notebook__.ipynb",
   "output_path": "__notebook__.ipynb",
   "parameters": {},
   "start_time": "2024-07-25T22:57:23.904718",
   "version": "2.5.0"
  }
 },
 "nbformat": 4,
 "nbformat_minor": 5
}
