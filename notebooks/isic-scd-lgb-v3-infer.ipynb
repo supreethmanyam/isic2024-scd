{
 "cells": [
  {
   "cell_type": "code",
   "execution_count": 1,
   "id": "90d54ba2",
   "metadata": {
    "_cell_guid": "a30e467f-ec41-4133-b8d4-e794f559da50",
    "_uuid": "c0ebb1a4-b5f7-4a24-864f-eb38f15fed58",
    "collapsed": false,
    "execution": {
     "iopub.execute_input": "2024-07-24T19:22:13.641996Z",
     "iopub.status.busy": "2024-07-24T19:22:13.641555Z",
     "iopub.status.idle": "2024-07-24T19:22:22.051299Z",
     "shell.execute_reply": "2024-07-24T19:22:22.050025Z"
    },
    "jupyter": {
     "outputs_hidden": false
    },
    "papermill": {
     "duration": 8.42116,
     "end_time": "2024-07-24T19:22:22.054250",
     "exception": false,
     "start_time": "2024-07-24T19:22:13.633090",
     "status": "completed"
    },
    "tags": []
   },
   "outputs": [],
   "source": [
    "import json\n",
    "import joblib\n",
    "\n",
    "from pathlib import Path\n",
    "\n",
    "import pandas as pd\n",
    "import numpy as np\n",
    "\n",
    "import lightgbm as lgb\n",
    "\n",
    "from isic_helper import DotDict, get_folds"
   ]
  },
  {
   "cell_type": "code",
   "execution_count": 2,
   "id": "acaab722",
   "metadata": {
    "execution": {
     "iopub.execute_input": "2024-07-24T19:22:22.068795Z",
     "iopub.status.busy": "2024-07-24T19:22:22.068155Z",
     "iopub.status.idle": "2024-07-24T19:22:22.074494Z",
     "shell.execute_reply": "2024-07-24T19:22:22.073320Z"
    },
    "papermill": {
     "duration": 0.016594,
     "end_time": "2024-07-24T19:22:22.077355",
     "exception": false,
     "start_time": "2024-07-24T19:22:22.060761",
     "status": "completed"
    },
    "tags": []
   },
   "outputs": [],
   "source": [
    "cfg = DotDict()\n",
    "\n",
    "cfg.models_output_dir = \"models\"\n",
    "cfg.model_name = \"lgb_v3\""
   ]
  },
  {
   "cell_type": "code",
   "execution_count": 3,
   "id": "40d1439c",
   "metadata": {
    "execution": {
     "iopub.execute_input": "2024-07-24T19:22:22.091623Z",
     "iopub.status.busy": "2024-07-24T19:22:22.091154Z",
     "iopub.status.idle": "2024-07-24T19:22:34.978784Z",
     "shell.execute_reply": "2024-07-24T19:22:34.977300Z"
    },
    "papermill": {
     "duration": 12.89808,
     "end_time": "2024-07-24T19:22:34.981645",
     "exception": false,
     "start_time": "2024-07-24T19:22:22.083565",
     "status": "completed"
    },
    "tags": []
   },
   "outputs": [
    {
     "name": "stdout",
     "output_type": "stream",
     "text": [
      "Train data size: (401059, 57)\n",
      "Test data size: (3, 44)\n"
     ]
    }
   ],
   "source": [
    "INPUT_PATH = Path(\"../input/isic-2024-challenge/\")\n",
    "ARTIFACTS_INPUT_PATH = Path(f\"../input/isic-scd-lgb-v3-train/\")\n",
    "MODELS_INPUT_PATH = ARTIFACTS_INPUT_PATH / cfg.models_output_dir\n",
    "\n",
    "train_metadata = pd.read_csv(INPUT_PATH / \"train-metadata.csv\", low_memory=False)\n",
    "test_metadata = pd.read_csv(INPUT_PATH / \"test-metadata.csv\", low_memory=False)\n",
    "\n",
    "folds_df = get_folds()\n",
    "train_metadata = train_metadata.merge(folds_df, on=[\"isic_id\", \"patient_id\"], how=\"inner\")\n",
    "print(f\"Train data size: {train_metadata.shape}\")\n",
    "print(f\"Test data size: {test_metadata.shape}\")"
   ]
  },
  {
   "cell_type": "code",
   "execution_count": 4,
   "id": "ffa0e795",
   "metadata": {
    "execution": {
     "iopub.execute_input": "2024-07-24T19:22:34.997355Z",
     "iopub.status.busy": "2024-07-24T19:22:34.996879Z",
     "iopub.status.idle": "2024-07-24T19:22:35.006946Z",
     "shell.execute_reply": "2024-07-24T19:22:35.005433Z"
    },
    "papermill": {
     "duration": 0.020853,
     "end_time": "2024-07-24T19:22:35.009923",
     "exception": false,
     "start_time": "2024-07-24T19:22:34.989070",
     "status": "completed"
    },
    "tags": []
   },
   "outputs": [],
   "source": [
    "with open(ARTIFACTS_INPUT_PATH / f\"{cfg.model_name}_run_metadata.json\", \"r\") as f:\n",
    "    run_metadata = json.load(f)"
   ]
  },
  {
   "cell_type": "code",
   "execution_count": 5,
   "id": "aff2d65f",
   "metadata": {
    "execution": {
     "iopub.execute_input": "2024-07-24T19:22:35.024380Z",
     "iopub.status.busy": "2024-07-24T19:22:35.023920Z",
     "iopub.status.idle": "2024-07-24T19:22:35.029877Z",
     "shell.execute_reply": "2024-07-24T19:22:35.028752Z"
    },
    "papermill": {
     "duration": 0.016132,
     "end_time": "2024-07-24T19:22:35.032490",
     "exception": false,
     "start_time": "2024-07-24T19:22:35.016358",
     "status": "completed"
    },
    "tags": []
   },
   "outputs": [],
   "source": [
    "id_column = \"isic_id\"\n",
    "target_column = \"target\"\n",
    "group_column = \"patient_id\"\n",
    "folds = train_metadata[\"fold\"]"
   ]
  },
  {
   "cell_type": "code",
   "execution_count": 6,
   "id": "637d251a",
   "metadata": {
    "execution": {
     "iopub.execute_input": "2024-07-24T19:22:35.047125Z",
     "iopub.status.busy": "2024-07-24T19:22:35.046705Z",
     "iopub.status.idle": "2024-07-24T19:22:38.671457Z",
     "shell.execute_reply": "2024-07-24T19:22:38.670407Z"
    },
    "papermill": {
     "duration": 3.635693,
     "end_time": "2024-07-24T19:22:38.674371",
     "exception": false,
     "start_time": "2024-07-24T19:22:35.038678",
     "status": "completed"
    },
    "tags": []
   },
   "outputs": [],
   "source": [
    "def count_features(df, col):\n",
    "    tmp = df[[id_column, group_column, col]].pivot_table(\n",
    "        values=id_column, \n",
    "        index=group_column, \n",
    "        columns=col, \n",
    "        aggfunc=\"count\", \n",
    "        fill_value=0)\n",
    "    feature_cols = tmp.columns.tolist()\n",
    "    tmp.reset_index(inplace=True)\n",
    "    tmp.index.name = None\n",
    "    df = df.merge(tmp, on=group_column, how=\"left\")\n",
    "    return df, feature_cols\n",
    "\n",
    "def mean_features(df, col, val):\n",
    "    tmp = df[[id_column, group_column, col, val]].pivot_table(\n",
    "        values=val, \n",
    "        index=group_column, \n",
    "        columns=col, \n",
    "        aggfunc=\"mean\", \n",
    "        fill_value=0)\n",
    "    tmp.columns = [f\"{c}_{val}_mean\" for c in tmp.columns.tolist()]\n",
    "    feature_cols = tmp.columns.tolist()\n",
    "    tmp.reset_index(inplace=True)\n",
    "    tmp.index.name = None\n",
    "    df = df.merge(tmp, on=group_column, how=\"left\")\n",
    "    return df, feature_cols\n",
    "\n",
    "\n",
    "def stat_features(df, group_cols, value_col, stats):\n",
    "    tmp = df.groupby(group_cols)[value_col].agg(stats)\n",
    "    tmp.columns = [f\"{value_col}_{stat}\" for stat in stats]\n",
    "    tmp.reset_index(inplace=True)\n",
    "    df = df.merge(tmp, on=group_cols, how=\"left\")\n",
    "    df[f\"{value_col}_mean_diff\"] = df[value_col] - df[f\"{value_col}_mean\"]\n",
    "    return df\n",
    "\n",
    "\n",
    "def feature_engineering(df):\n",
    "    new_num_cols = []\n",
    "    \n",
    "    df[\"lesion_size_ratio\"] = df[\"tbp_lv_minorAxisMM\"] / df[\"clin_size_long_diam_mm\"]\n",
    "    new_num_cols += [\"lesion_size_ratio\"]\n",
    "    \n",
    "    df[\"lesion_distance\"] = np.sqrt(df[\"tbp_lv_x\"]**2 + df[\"tbp_lv_y\"]**2 + df[\"tbp_lv_z\"]**2)\n",
    "    new_num_cols += [\"lesion_distance\"]\n",
    "    \n",
    "#     df[\"hue_contrast\"] = (df[\"tbp_lv_H\"] - df[\"tbp_lv_Hext\"]).abs()\n",
    "#     new_num_cols += [\"hue_contrast\"]\n",
    "#     df[\"normalized_lesion_size\"] = df[\"clin_size_long_diam_mm\"] / df[\"age_approx\"]\n",
    "#     df[\"overall_color_difference\"] = (df[\"tbp_lv_deltaA\"] + df[\"tbp_lv_deltaB\"] + df[\"tbp_lv_deltaL\"]) / 3\n",
    "#     df[\"max_minus_min_lesion_size\"] = df[\"clin_size_long_diam_mm\"] - df[\"tbp_lv_minorAxisMM\"]\n",
    "#     new_num_cols += [\"lesion_size_ratio\", \"hue_contrast\", \"normalized_lesion_size\", \"overall_color_difference\", \"max_minus_min_lesion_size\"]\n",
    "    \n",
    "    df[\"hue_contrast\"] = df[\"tbp_lv_H\"] - df[\"tbp_lv_Hext\"]\n",
    "    df, feature_cols = mean_features(df, \"anatom_site_general\", \"hue_contrast\")\n",
    "    new_num_cols += feature_cols\n",
    "    \n",
    "    df, feature_cols = count_features(df, \"anatom_site_general\")\n",
    "    new_num_cols += feature_cols\n",
    "    \n",
    "    df[\"tbp_lv_A_diff\"] =  df[\"tbp_lv_Aext\"] - df[\"tbp_lv_A\"]\n",
    "    df = stat_features(df, [\"patient_id\", \"tbp_lv_location\"], \"tbp_lv_A_diff\", [\"mean\"])\n",
    "    new_num_cols += [\"tbp_lv_A_diff_mean_diff\"]\n",
    "    \n",
    "    df[\"tbp_lv_B_diff\"] =  df[\"tbp_lv_Bext\"] - df[\"tbp_lv_B\"]\n",
    "    df = stat_features(df, [\"patient_id\", \"tbp_lv_location\"], \"tbp_lv_B_diff\", [\"mean\"])\n",
    "    new_num_cols += [\"tbp_lv_B_diff_mean_diff\"]\n",
    "    \n",
    "    df[\"tbp_lv_L_diff\"] =  df[\"tbp_lv_Lext\"] - df[\"tbp_lv_L\"]\n",
    "    df = stat_features(df, [\"patient_id\", \"tbp_lv_location\"], \"tbp_lv_L_diff\", [\"mean\"])\n",
    "    new_num_cols += [\"tbp_lv_L_diff_mean_diff\"]\n",
    "    \n",
    "    df[\"tbp_lv_L_std_diff\"] =  df[\"tbp_lv_stdLExt\"] - df[\"tbp_lv_stdL\"]\n",
    "    df = stat_features(df, [\"patient_id\", \"tbp_lv_location\"], \"tbp_lv_L_std_diff\", [\"mean\"])\n",
    "    new_num_cols += [\"tbp_lv_L_std_diff_mean_diff\"]\n",
    "    \n",
    "    return df, new_num_cols\n",
    "\n",
    "train_metadata, new_num_cols = feature_engineering(train_metadata.copy())\n",
    "test_metadata, _ = feature_engineering(test_metadata.copy())"
   ]
  },
  {
   "cell_type": "code",
   "execution_count": 7,
   "id": "ef8829e6",
   "metadata": {
    "execution": {
     "iopub.execute_input": "2024-07-24T19:22:38.690233Z",
     "iopub.status.busy": "2024-07-24T19:22:38.689782Z",
     "iopub.status.idle": "2024-07-24T19:22:38.708172Z",
     "shell.execute_reply": "2024-07-24T19:22:38.706882Z"
    },
    "papermill": {
     "duration": 0.029107,
     "end_time": "2024-07-24T19:22:38.711008",
     "exception": false,
     "start_time": "2024-07-24T19:22:38.681901",
     "status": "completed"
    },
    "tags": []
   },
   "outputs": [],
   "source": [
    "with open(ARTIFACTS_INPUT_PATH / f\"{cfg.model_name}_encoder.joblib\", \"rb\") as f:\n",
    "    mixed_encoded_preprocessor = joblib.load(f)"
   ]
  },
  {
   "cell_type": "code",
   "execution_count": 8,
   "id": "56c2bc32",
   "metadata": {
    "execution": {
     "iopub.execute_input": "2024-07-24T19:22:38.726039Z",
     "iopub.status.busy": "2024-07-24T19:22:38.725017Z",
     "iopub.status.idle": "2024-07-24T19:22:39.469005Z",
     "shell.execute_reply": "2024-07-24T19:22:39.467183Z"
    },
    "papermill": {
     "duration": 0.754633,
     "end_time": "2024-07-24T19:22:39.472054",
     "exception": false,
     "start_time": "2024-07-24T19:22:38.717421",
     "status": "completed"
    },
    "tags": []
   },
   "outputs": [
    {
     "name": "stdout",
     "output_type": "stream",
     "text": [
      "Total number of columns: 54\n"
     ]
    }
   ],
   "source": [
    "enc = mixed_encoded_preprocessor.fit(train_metadata)\n",
    "\n",
    "for col in mixed_encoded_preprocessor.feature_names_in_:\n",
    "    if col not in test_metadata.columns:\n",
    "        test_metadata[col] = np.nan\n",
    "\n",
    "X_test = enc.transform(test_metadata)\n",
    "\n",
    "columns_for_model = len(X_test.columns)\n",
    "print(f\"Total number of columns: {columns_for_model}\")"
   ]
  },
  {
   "cell_type": "code",
   "execution_count": 9,
   "id": "f228538d",
   "metadata": {
    "execution": {
     "iopub.execute_input": "2024-07-24T19:22:39.486817Z",
     "iopub.status.busy": "2024-07-24T19:22:39.486423Z",
     "iopub.status.idle": "2024-07-24T19:22:40.122872Z",
     "shell.execute_reply": "2024-07-24T19:22:40.121628Z"
    },
    "papermill": {
     "duration": 0.647682,
     "end_time": "2024-07-24T19:22:40.126229",
     "exception": false,
     "start_time": "2024-07-24T19:22:39.478547",
     "status": "completed"
    },
    "tags": []
   },
   "outputs": [],
   "source": [
    "all_folds = np.sort(folds.unique())\n",
    "test_predictions_df = pd.DataFrame({id_column: test_metadata[id_column]})\n",
    "for fold in all_folds:\n",
    "    model = lgb.Booster(model_file=MODELS_INPUT_PATH / f\"{cfg.model_name}_fold_{fold}.txt\")\n",
    "    test_predictions_df[f\"fold_{fold}\"] = model.predict(X_test, num_iteration=run_metadata[\"best_num_rounds\"][f\"fold_{fold}\"])"
   ]
  },
  {
   "cell_type": "code",
   "execution_count": 10,
   "id": "fab227fc",
   "metadata": {
    "execution": {
     "iopub.execute_input": "2024-07-24T19:22:40.142501Z",
     "iopub.status.busy": "2024-07-24T19:22:40.142018Z",
     "iopub.status.idle": "2024-07-24T19:22:40.162779Z",
     "shell.execute_reply": "2024-07-24T19:22:40.161629Z"
    },
    "papermill": {
     "duration": 0.032035,
     "end_time": "2024-07-24T19:22:40.165618",
     "exception": false,
     "start_time": "2024-07-24T19:22:40.133583",
     "status": "completed"
    },
    "tags": []
   },
   "outputs": [
    {
     "data": {
      "text/html": [
       "<div>\n",
       "<style scoped>\n",
       "    .dataframe tbody tr th:only-of-type {\n",
       "        vertical-align: middle;\n",
       "    }\n",
       "\n",
       "    .dataframe tbody tr th {\n",
       "        vertical-align: top;\n",
       "    }\n",
       "\n",
       "    .dataframe thead th {\n",
       "        text-align: right;\n",
       "    }\n",
       "</style>\n",
       "<table border=\"1\" class=\"dataframe\">\n",
       "  <thead>\n",
       "    <tr style=\"text-align: right;\">\n",
       "      <th></th>\n",
       "      <th>isic_id</th>\n",
       "      <th>fold_1</th>\n",
       "      <th>fold_2</th>\n",
       "      <th>fold_3</th>\n",
       "      <th>fold_4</th>\n",
       "      <th>fold_5</th>\n",
       "    </tr>\n",
       "  </thead>\n",
       "  <tbody>\n",
       "    <tr>\n",
       "      <th>0</th>\n",
       "      <td>ISIC_0015657</td>\n",
       "      <td>0.000061</td>\n",
       "      <td>0.000019</td>\n",
       "      <td>0.000209</td>\n",
       "      <td>0.000021</td>\n",
       "      <td>0.000114</td>\n",
       "    </tr>\n",
       "    <tr>\n",
       "      <th>1</th>\n",
       "      <td>ISIC_0015729</td>\n",
       "      <td>0.000046</td>\n",
       "      <td>0.000020</td>\n",
       "      <td>0.000153</td>\n",
       "      <td>0.000016</td>\n",
       "      <td>0.000083</td>\n",
       "    </tr>\n",
       "    <tr>\n",
       "      <th>2</th>\n",
       "      <td>ISIC_0015740</td>\n",
       "      <td>0.000066</td>\n",
       "      <td>0.000026</td>\n",
       "      <td>0.000200</td>\n",
       "      <td>0.000037</td>\n",
       "      <td>0.000122</td>\n",
       "    </tr>\n",
       "  </tbody>\n",
       "</table>\n",
       "</div>"
      ],
      "text/plain": [
       "        isic_id    fold_1    fold_2    fold_3    fold_4    fold_5\n",
       "0  ISIC_0015657  0.000061  0.000019  0.000209  0.000021  0.000114\n",
       "1  ISIC_0015729  0.000046  0.000020  0.000153  0.000016  0.000083\n",
       "2  ISIC_0015740  0.000066  0.000026  0.000200  0.000037  0.000122"
      ]
     },
     "execution_count": 10,
     "metadata": {},
     "output_type": "execute_result"
    }
   ],
   "source": [
    "test_predictions_df.head()"
   ]
  },
  {
   "cell_type": "code",
   "execution_count": 11,
   "id": "9aee8c7c",
   "metadata": {
    "execution": {
     "iopub.execute_input": "2024-07-24T19:22:40.181301Z",
     "iopub.status.busy": "2024-07-24T19:22:40.180904Z",
     "iopub.status.idle": "2024-07-24T19:22:40.189621Z",
     "shell.execute_reply": "2024-07-24T19:22:40.188161Z"
    },
    "papermill": {
     "duration": 0.019166,
     "end_time": "2024-07-24T19:22:40.192208",
     "exception": false,
     "start_time": "2024-07-24T19:22:40.173042",
     "status": "completed"
    },
    "tags": []
   },
   "outputs": [],
   "source": [
    "test_predictions_df[target_column] = test_predictions_df[[f\"fold_{fold}\" for fold in all_folds]].mean(axis=1)"
   ]
  },
  {
   "cell_type": "code",
   "execution_count": 12,
   "id": "85b72a88",
   "metadata": {
    "execution": {
     "iopub.execute_input": "2024-07-24T19:22:40.207503Z",
     "iopub.status.busy": "2024-07-24T19:22:40.206432Z",
     "iopub.status.idle": "2024-07-24T19:22:40.221374Z",
     "shell.execute_reply": "2024-07-24T19:22:40.220099Z"
    },
    "papermill": {
     "duration": 0.02536,
     "end_time": "2024-07-24T19:22:40.224087",
     "exception": false,
     "start_time": "2024-07-24T19:22:40.198727",
     "status": "completed"
    },
    "tags": []
   },
   "outputs": [
    {
     "data": {
      "text/html": [
       "<div>\n",
       "<style scoped>\n",
       "    .dataframe tbody tr th:only-of-type {\n",
       "        vertical-align: middle;\n",
       "    }\n",
       "\n",
       "    .dataframe tbody tr th {\n",
       "        vertical-align: top;\n",
       "    }\n",
       "\n",
       "    .dataframe thead th {\n",
       "        text-align: right;\n",
       "    }\n",
       "</style>\n",
       "<table border=\"1\" class=\"dataframe\">\n",
       "  <thead>\n",
       "    <tr style=\"text-align: right;\">\n",
       "      <th></th>\n",
       "      <th>isic_id</th>\n",
       "      <th>fold_1</th>\n",
       "      <th>fold_2</th>\n",
       "      <th>fold_3</th>\n",
       "      <th>fold_4</th>\n",
       "      <th>fold_5</th>\n",
       "      <th>target</th>\n",
       "    </tr>\n",
       "  </thead>\n",
       "  <tbody>\n",
       "    <tr>\n",
       "      <th>0</th>\n",
       "      <td>ISIC_0015657</td>\n",
       "      <td>0.000061</td>\n",
       "      <td>0.000019</td>\n",
       "      <td>0.000209</td>\n",
       "      <td>0.000021</td>\n",
       "      <td>0.000114</td>\n",
       "      <td>0.000085</td>\n",
       "    </tr>\n",
       "    <tr>\n",
       "      <th>1</th>\n",
       "      <td>ISIC_0015729</td>\n",
       "      <td>0.000046</td>\n",
       "      <td>0.000020</td>\n",
       "      <td>0.000153</td>\n",
       "      <td>0.000016</td>\n",
       "      <td>0.000083</td>\n",
       "      <td>0.000063</td>\n",
       "    </tr>\n",
       "    <tr>\n",
       "      <th>2</th>\n",
       "      <td>ISIC_0015740</td>\n",
       "      <td>0.000066</td>\n",
       "      <td>0.000026</td>\n",
       "      <td>0.000200</td>\n",
       "      <td>0.000037</td>\n",
       "      <td>0.000122</td>\n",
       "      <td>0.000090</td>\n",
       "    </tr>\n",
       "  </tbody>\n",
       "</table>\n",
       "</div>"
      ],
      "text/plain": [
       "        isic_id    fold_1    fold_2    fold_3    fold_4    fold_5    target\n",
       "0  ISIC_0015657  0.000061  0.000019  0.000209  0.000021  0.000114  0.000085\n",
       "1  ISIC_0015729  0.000046  0.000020  0.000153  0.000016  0.000083  0.000063\n",
       "2  ISIC_0015740  0.000066  0.000026  0.000200  0.000037  0.000122  0.000090"
      ]
     },
     "execution_count": 12,
     "metadata": {},
     "output_type": "execute_result"
    }
   ],
   "source": [
    "test_predictions_df.head()"
   ]
  },
  {
   "cell_type": "code",
   "execution_count": 13,
   "id": "d148515c",
   "metadata": {
    "execution": {
     "iopub.execute_input": "2024-07-24T19:22:40.239867Z",
     "iopub.status.busy": "2024-07-24T19:22:40.239488Z",
     "iopub.status.idle": "2024-07-24T19:22:40.251946Z",
     "shell.execute_reply": "2024-07-24T19:22:40.250819Z"
    },
    "papermill": {
     "duration": 0.024122,
     "end_time": "2024-07-24T19:22:40.254987",
     "exception": false,
     "start_time": "2024-07-24T19:22:40.230865",
     "status": "completed"
    },
    "tags": []
   },
   "outputs": [
    {
     "data": {
      "text/plain": [
       "count    3.000000\n",
       "mean     0.000079\n",
       "std      0.000014\n",
       "min      0.000063\n",
       "25%      0.000074\n",
       "50%      0.000085\n",
       "75%      0.000087\n",
       "max      0.000090\n",
       "Name: target, dtype: float64"
      ]
     },
     "execution_count": 13,
     "metadata": {},
     "output_type": "execute_result"
    }
   ],
   "source": [
    "test_predictions_df[target_column].describe()"
   ]
  },
  {
   "cell_type": "code",
   "execution_count": 14,
   "id": "1c6bb7a3",
   "metadata": {
    "execution": {
     "iopub.execute_input": "2024-07-24T19:22:40.270836Z",
     "iopub.status.busy": "2024-07-24T19:22:40.270465Z",
     "iopub.status.idle": "2024-07-24T19:22:40.283057Z",
     "shell.execute_reply": "2024-07-24T19:22:40.281808Z"
    },
    "papermill": {
     "duration": 0.023619,
     "end_time": "2024-07-24T19:22:40.285769",
     "exception": false,
     "start_time": "2024-07-24T19:22:40.262150",
     "status": "completed"
    },
    "tags": []
   },
   "outputs": [
    {
     "data": {
      "text/html": [
       "<div>\n",
       "<style scoped>\n",
       "    .dataframe tbody tr th:only-of-type {\n",
       "        vertical-align: middle;\n",
       "    }\n",
       "\n",
       "    .dataframe tbody tr th {\n",
       "        vertical-align: top;\n",
       "    }\n",
       "\n",
       "    .dataframe thead th {\n",
       "        text-align: right;\n",
       "    }\n",
       "</style>\n",
       "<table border=\"1\" class=\"dataframe\">\n",
       "  <thead>\n",
       "    <tr style=\"text-align: right;\">\n",
       "      <th></th>\n",
       "      <th>isic_id</th>\n",
       "      <th>target</th>\n",
       "    </tr>\n",
       "  </thead>\n",
       "  <tbody>\n",
       "    <tr>\n",
       "      <th>0</th>\n",
       "      <td>ISIC_0015657</td>\n",
       "      <td>0.000085</td>\n",
       "    </tr>\n",
       "    <tr>\n",
       "      <th>1</th>\n",
       "      <td>ISIC_0015729</td>\n",
       "      <td>0.000063</td>\n",
       "    </tr>\n",
       "    <tr>\n",
       "      <th>2</th>\n",
       "      <td>ISIC_0015740</td>\n",
       "      <td>0.000090</td>\n",
       "    </tr>\n",
       "  </tbody>\n",
       "</table>\n",
       "</div>"
      ],
      "text/plain": [
       "        isic_id    target\n",
       "0  ISIC_0015657  0.000085\n",
       "1  ISIC_0015729  0.000063\n",
       "2  ISIC_0015740  0.000090"
      ]
     },
     "execution_count": 14,
     "metadata": {},
     "output_type": "execute_result"
    }
   ],
   "source": [
    "test_predictions_df[[id_column, target_column]].head(10)"
   ]
  },
  {
   "cell_type": "code",
   "execution_count": 15,
   "id": "d7e0e6b8",
   "metadata": {
    "execution": {
     "iopub.execute_input": "2024-07-24T19:22:40.302579Z",
     "iopub.status.busy": "2024-07-24T19:22:40.301970Z",
     "iopub.status.idle": "2024-07-24T19:22:40.312534Z",
     "shell.execute_reply": "2024-07-24T19:22:40.311275Z"
    },
    "papermill": {
     "duration": 0.022539,
     "end_time": "2024-07-24T19:22:40.315557",
     "exception": false,
     "start_time": "2024-07-24T19:22:40.293018",
     "status": "completed"
    },
    "tags": []
   },
   "outputs": [],
   "source": [
    "test_predictions_df[[id_column, target_column]].to_csv(\"submission.csv\", index=False)"
   ]
  }
 ],
 "metadata": {
  "kaggle": {
   "accelerator": "none",
   "dataSources": [
    {
     "databundleVersionId": 9094797,
     "sourceId": 63056,
     "sourceType": "competition"
    },
    {
     "sourceId": 187439867,
     "sourceType": "kernelVersion"
    },
    {
     "sourceId": 187477024,
     "sourceType": "kernelVersion"
    },
    {
     "sourceId": 189562484,
     "sourceType": "kernelVersion"
    }
   ],
   "dockerImageVersionId": 30732,
   "isGpuEnabled": false,
   "isInternetEnabled": false,
   "language": "python",
   "sourceType": "notebook"
  },
  "kernelspec": {
   "display_name": "Python 3",
   "language": "python",
   "name": "python3"
  },
  "language_info": {
   "codemirror_mode": {
    "name": "ipython",
    "version": 3
   },
   "file_extension": ".py",
   "mimetype": "text/x-python",
   "name": "python",
   "nbconvert_exporter": "python",
   "pygments_lexer": "ipython3",
   "version": "3.10.13"
  },
  "papermill": {
   "default_parameters": {},
   "duration": 31.4634,
   "end_time": "2024-07-24T19:22:41.648741",
   "environment_variables": {},
   "exception": null,
   "input_path": "__notebook__.ipynb",
   "output_path": "__notebook__.ipynb",
   "parameters": {},
   "start_time": "2024-07-24T19:22:10.185341",
   "version": "2.5.0"
  }
 },
 "nbformat": 4,
 "nbformat_minor": 5
}
