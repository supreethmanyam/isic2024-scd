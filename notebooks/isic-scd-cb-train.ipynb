{
 "cells": [
  {
   "cell_type": "code",
   "execution_count": 1,
   "id": "7d1f89f2",
   "metadata": {
    "_cell_guid": "b1076dfc-b9ad-4769-8c92-a6c4dae69d19",
    "_uuid": "8f2839f25d086af736a60e9eeb907d3b93b6e0e5",
    "execution": {
     "iopub.execute_input": "2024-07-14T19:46:54.976175Z",
     "iopub.status.busy": "2024-07-14T19:46:54.975823Z",
     "iopub.status.idle": "2024-07-14T19:47:00.953083Z",
     "shell.execute_reply": "2024-07-14T19:47:00.952127Z"
    },
    "papermill": {
     "duration": 5.987441,
     "end_time": "2024-07-14T19:47:00.955493",
     "exception": false,
     "start_time": "2024-07-14T19:46:54.968052",
     "status": "completed"
    },
    "tags": []
   },
   "outputs": [],
   "source": [
    "import json\n",
    "import joblib\n",
    "from pathlib import Path\n",
    "\n",
    "import pandas as pd\n",
    "import numpy as np\n",
    "\n",
    "from sklearn.compose import ColumnTransformer\n",
    "from sklearn.preprocessing import OrdinalEncoder\n",
    "\n",
    "import catboost as cb\n",
    "\n",
    "from isic_helper import DotDict\n",
    "from isic_helper import get_folds\n",
    "from isic_helper import compute_auc, compute_pauc\n",
    "\n",
    "pd.options.display.max_columns = 1000"
   ]
  },
  {
   "cell_type": "code",
   "execution_count": 2,
   "id": "5a8f66bc",
   "metadata": {
    "execution": {
     "iopub.execute_input": "2024-07-14T19:47:00.969510Z",
     "iopub.status.busy": "2024-07-14T19:47:00.969086Z",
     "iopub.status.idle": "2024-07-14T19:47:00.973554Z",
     "shell.execute_reply": "2024-07-14T19:47:00.972658Z"
    },
    "papermill": {
     "duration": 0.013632,
     "end_time": "2024-07-14T19:47:00.975486",
     "exception": false,
     "start_time": "2024-07-14T19:47:00.961854",
     "status": "completed"
    },
    "tags": []
   },
   "outputs": [],
   "source": [
    "cfg = DotDict()\n",
    "cfg.seed = 2022\n",
    "\n",
    "cfg.models_output_dir = \"models\"\n",
    "cfg.model_name = \"cb_v1\""
   ]
  },
  {
   "cell_type": "code",
   "execution_count": 3,
   "id": "b7e4e4b4",
   "metadata": {
    "execution": {
     "iopub.execute_input": "2024-07-14T19:47:00.992080Z",
     "iopub.status.busy": "2024-07-14T19:47:00.991233Z",
     "iopub.status.idle": "2024-07-14T19:47:10.731117Z",
     "shell.execute_reply": "2024-07-14T19:47:10.730072Z"
    },
    "papermill": {
     "duration": 9.751323,
     "end_time": "2024-07-14T19:47:10.733316",
     "exception": false,
     "start_time": "2024-07-14T19:47:00.981993",
     "status": "completed"
    },
    "tags": []
   },
   "outputs": [
    {
     "name": "stdout",
     "output_type": "stream",
     "text": [
      "Train data size: (401059, 57)\n",
      "Test data size: (401059, 57)\n"
     ]
    }
   ],
   "source": [
    "INPUT_PATH = Path(\"../input/isic-2024-challenge/\")\n",
    "MODELS_OUTPUT_PATH = Path(f\"{cfg.models_output_dir}\")\n",
    "MODELS_OUTPUT_PATH.mkdir(exist_ok=True)\n",
    "\n",
    "train_metadata = pd.read_csv(INPUT_PATH / \"train-metadata.csv\", low_memory=False)\n",
    "test_metadata = pd.read_csv(INPUT_PATH / \"test-metadata.csv\")\n",
    "\n",
    "folds_df = get_folds()\n",
    "train_metadata = train_metadata.merge(folds_df, on=[\"isic_id\", \"patient_id\"], how=\"inner\")\n",
    "print(f\"Train data size: {train_metadata.shape}\")\n",
    "print(f\"Test data size: {train_metadata.shape}\")"
   ]
  },
  {
   "cell_type": "code",
   "execution_count": 4,
   "id": "cf5390ea",
   "metadata": {
    "execution": {
     "iopub.execute_input": "2024-07-14T19:47:10.746563Z",
     "iopub.status.busy": "2024-07-14T19:47:10.746259Z",
     "iopub.status.idle": "2024-07-14T19:47:10.764612Z",
     "shell.execute_reply": "2024-07-14T19:47:10.763634Z"
    },
    "papermill": {
     "duration": 0.027214,
     "end_time": "2024-07-14T19:47:10.766764",
     "exception": false,
     "start_time": "2024-07-14T19:47:10.739550",
     "status": "completed"
    },
    "tags": []
   },
   "outputs": [
    {
     "data": {
      "text/plain": [
       "target\n",
       "0    0.99902\n",
       "1    0.00098\n",
       "Name: proportion, dtype: float64"
      ]
     },
     "execution_count": 4,
     "metadata": {},
     "output_type": "execute_result"
    }
   ],
   "source": [
    "train_metadata[\"target\"].value_counts(normalize=True)"
   ]
  },
  {
   "cell_type": "code",
   "execution_count": 5,
   "id": "461f3f23",
   "metadata": {
    "execution": {
     "iopub.execute_input": "2024-07-14T19:47:10.780610Z",
     "iopub.status.busy": "2024-07-14T19:47:10.780074Z",
     "iopub.status.idle": "2024-07-14T19:47:11.302083Z",
     "shell.execute_reply": "2024-07-14T19:47:11.301159Z"
    },
    "papermill": {
     "duration": 0.531472,
     "end_time": "2024-07-14T19:47:11.304525",
     "exception": false,
     "start_time": "2024-07-14T19:47:10.773053",
     "status": "completed"
    },
    "tags": []
   },
   "outputs": [],
   "source": [
    "def feature_engineering(df):\n",
    "    df[\"lesion_size_ratio\"]              = df[\"tbp_lv_minorAxisMM\"] / df[\"clin_size_long_diam_mm\"]\n",
    "    df[\"hue_contrast\"]                   = (df[\"tbp_lv_H\"] - df[\"tbp_lv_Hext\"]).abs()\n",
    "    df[\"normalized_lesion_size\"]         = df[\"clin_size_long_diam_mm\"] / df[\"age_approx\"]\n",
    "    df[\"overall_color_difference\"]       = (df[\"tbp_lv_deltaA\"] + df[\"tbp_lv_deltaB\"] + df[\"tbp_lv_deltaL\"]) / 3\n",
    "    \n",
    "    patient_num_images = df.groupby(\"patient_id\", as_index=False)[\"isic_id\"].count().rename(columns={\"isic_id\": \"num_images\"})\n",
    "    df = df.merge(patient_num_images, on=\"patient_id\", how=\"left\")\n",
    "\n",
    "    new_num_cols = [\n",
    "        \"num_images\",\n",
    "        \"lesion_size_ratio\",\n",
    "        \"hue_contrast\",\n",
    "        \"normalized_lesion_size\", \n",
    "        \"overall_color_difference\"\n",
    "    ]\n",
    "    \n",
    "    new_cat_cols = []\n",
    "    \n",
    "    return df, new_num_cols, new_cat_cols\n",
    "\n",
    "train_metadata, new_num_cols, new_cat_cols = feature_engineering(train_metadata.copy())\n",
    "test_metadata, new_num_cols, new_cat_cols = feature_engineering(test_metadata.copy())"
   ]
  },
  {
   "cell_type": "code",
   "execution_count": 6,
   "id": "ad7da521",
   "metadata": {
    "execution": {
     "iopub.execute_input": "2024-07-14T19:47:11.318269Z",
     "iopub.status.busy": "2024-07-14T19:47:11.317960Z",
     "iopub.status.idle": "2024-07-14T19:47:11.324804Z",
     "shell.execute_reply": "2024-07-14T19:47:11.323904Z"
    },
    "papermill": {
     "duration": 0.01581,
     "end_time": "2024-07-14T19:47:11.326798",
     "exception": false,
     "start_time": "2024-07-14T19:47:11.310988",
     "status": "completed"
    },
    "tags": []
   },
   "outputs": [],
   "source": [
    "id_column = \"isic_id\"\n",
    "target_column = \"final_target\"\n",
    "group_column = \"patient_id\"\n",
    "drop_features = [\"image_type\"] + train_metadata.columns[~np.in1d(train_metadata.columns, test_metadata.columns)].tolist() # target column removed\n",
    "categorical_features = [\"sex\", \"anatom_site_general\", \n",
    "                        \"tbp_tile_type\", \"tbp_lv_location\", \"tbp_lv_location_simple\",\n",
    "                        \"attribution\", \"copyright_license\"\n",
    "                       ] + new_cat_cols\n",
    "numerical_features = train_metadata.columns[~np.in1d(train_metadata.columns, \n",
    "                                                     [id_column] + [group_column] + categorical_features + drop_features)]"
   ]
  },
  {
   "cell_type": "code",
   "execution_count": 7,
   "id": "58189f9d",
   "metadata": {
    "execution": {
     "iopub.execute_input": "2024-07-14T19:47:11.340630Z",
     "iopub.status.busy": "2024-07-14T19:47:11.340331Z",
     "iopub.status.idle": "2024-07-14T19:47:11.359951Z",
     "shell.execute_reply": "2024-07-14T19:47:11.359124Z"
    },
    "papermill": {
     "duration": 0.028722,
     "end_time": "2024-07-14T19:47:11.361839",
     "exception": false,
     "start_time": "2024-07-14T19:47:11.333117",
     "status": "completed"
    },
    "tags": []
   },
   "outputs": [
    {
     "data": {
      "text/html": [
       "<style>#sk-container-id-1 {color: black;background-color: white;}#sk-container-id-1 pre{padding: 0;}#sk-container-id-1 div.sk-toggleable {background-color: white;}#sk-container-id-1 label.sk-toggleable__label {cursor: pointer;display: block;width: 100%;margin-bottom: 0;padding: 0.3em;box-sizing: border-box;text-align: center;}#sk-container-id-1 label.sk-toggleable__label-arrow:before {content: \"▸\";float: left;margin-right: 0.25em;color: #696969;}#sk-container-id-1 label.sk-toggleable__label-arrow:hover:before {color: black;}#sk-container-id-1 div.sk-estimator:hover label.sk-toggleable__label-arrow:before {color: black;}#sk-container-id-1 div.sk-toggleable__content {max-height: 0;max-width: 0;overflow: hidden;text-align: left;background-color: #f0f8ff;}#sk-container-id-1 div.sk-toggleable__content pre {margin: 0.2em;color: black;border-radius: 0.25em;background-color: #f0f8ff;}#sk-container-id-1 input.sk-toggleable__control:checked~div.sk-toggleable__content {max-height: 200px;max-width: 100%;overflow: auto;}#sk-container-id-1 input.sk-toggleable__control:checked~label.sk-toggleable__label-arrow:before {content: \"▾\";}#sk-container-id-1 div.sk-estimator input.sk-toggleable__control:checked~label.sk-toggleable__label {background-color: #d4ebff;}#sk-container-id-1 div.sk-label input.sk-toggleable__control:checked~label.sk-toggleable__label {background-color: #d4ebff;}#sk-container-id-1 input.sk-hidden--visually {border: 0;clip: rect(1px 1px 1px 1px);clip: rect(1px, 1px, 1px, 1px);height: 1px;margin: -1px;overflow: hidden;padding: 0;position: absolute;width: 1px;}#sk-container-id-1 div.sk-estimator {font-family: monospace;background-color: #f0f8ff;border: 1px dotted black;border-radius: 0.25em;box-sizing: border-box;margin-bottom: 0.5em;}#sk-container-id-1 div.sk-estimator:hover {background-color: #d4ebff;}#sk-container-id-1 div.sk-parallel-item::after {content: \"\";width: 100%;border-bottom: 1px solid gray;flex-grow: 1;}#sk-container-id-1 div.sk-label:hover label.sk-toggleable__label {background-color: #d4ebff;}#sk-container-id-1 div.sk-serial::before {content: \"\";position: absolute;border-left: 1px solid gray;box-sizing: border-box;top: 0;bottom: 0;left: 50%;z-index: 0;}#sk-container-id-1 div.sk-serial {display: flex;flex-direction: column;align-items: center;background-color: white;padding-right: 0.2em;padding-left: 0.2em;position: relative;}#sk-container-id-1 div.sk-item {position: relative;z-index: 1;}#sk-container-id-1 div.sk-parallel {display: flex;align-items: stretch;justify-content: center;background-color: white;position: relative;}#sk-container-id-1 div.sk-item::before, #sk-container-id-1 div.sk-parallel-item::before {content: \"\";position: absolute;border-left: 1px solid gray;box-sizing: border-box;top: 0;bottom: 0;left: 50%;z-index: -1;}#sk-container-id-1 div.sk-parallel-item {display: flex;flex-direction: column;z-index: 1;position: relative;background-color: white;}#sk-container-id-1 div.sk-parallel-item:first-child::after {align-self: flex-end;width: 50%;}#sk-container-id-1 div.sk-parallel-item:last-child::after {align-self: flex-start;width: 50%;}#sk-container-id-1 div.sk-parallel-item:only-child::after {width: 0;}#sk-container-id-1 div.sk-dashed-wrapped {border: 1px dashed gray;margin: 0 0.4em 0.5em 0.4em;box-sizing: border-box;padding-bottom: 0.4em;background-color: white;}#sk-container-id-1 div.sk-label label {font-family: monospace;font-weight: bold;display: inline-block;line-height: 1.2em;}#sk-container-id-1 div.sk-label-container {text-align: center;}#sk-container-id-1 div.sk-container {/* jupyter's `normalize.less` sets `[hidden] { display: none; }` but bootstrap.min.css set `[hidden] { display: none !important; }` so we also need the `!important` here to be able to override the default hidden behavior on the sphinx rendered scikit-learn.org. See: https://github.com/scikit-learn/scikit-learn/issues/21755 */display: inline-block !important;position: relative;}#sk-container-id-1 div.sk-text-repr-fallback {display: none;}</style><div id=\"sk-container-id-1\" class=\"sk-top-container\"><div class=\"sk-text-repr-fallback\"><pre>ColumnTransformer(transformers=[(&#x27;numerical&#x27;, &#x27;passthrough&#x27;,\n",
       "                                 Index([&#x27;age_approx&#x27;, &#x27;clin_size_long_diam_mm&#x27;, &#x27;tbp_lv_A&#x27;, &#x27;tbp_lv_Aext&#x27;,\n",
       "       &#x27;tbp_lv_B&#x27;, &#x27;tbp_lv_Bext&#x27;, &#x27;tbp_lv_C&#x27;, &#x27;tbp_lv_Cext&#x27;, &#x27;tbp_lv_H&#x27;,\n",
       "       &#x27;tbp_lv_Hext&#x27;, &#x27;tbp_lv_L&#x27;, &#x27;tbp_lv_Lext&#x27;, &#x27;tbp_lv_areaMM2&#x27;,\n",
       "       &#x27;tbp_lv_area_perim_ratio&#x27;, &#x27;tbp_lv_color_std_mean&#x27;, &#x27;tbp_lv_deltaA&#x27;,\n",
       "       &#x27;tbp_lv_deltaB&#x27;, &#x27;tbp_lv_deltaL&#x27;, &#x27;tbp_l...\n",
       "       &#x27;normalized_lesion_size&#x27;, &#x27;overall_color_difference&#x27;, &#x27;num_images&#x27;],\n",
       "      dtype=&#x27;object&#x27;)),\n",
       "                                (&#x27;categorical&#x27;,\n",
       "                                 OrdinalEncoder(dtype=&lt;class &#x27;int&#x27;&gt;,\n",
       "                                                encoded_missing_value=-1,\n",
       "                                                handle_unknown=&#x27;use_encoded_value&#x27;,\n",
       "                                                unknown_value=-2),\n",
       "                                 [&#x27;sex&#x27;, &#x27;anatom_site_general&#x27;, &#x27;tbp_tile_type&#x27;,\n",
       "                                  &#x27;tbp_lv_location&#x27;, &#x27;tbp_lv_location_simple&#x27;,\n",
       "                                  &#x27;attribution&#x27;, &#x27;copyright_license&#x27;])],\n",
       "                  verbose_feature_names_out=False)</pre><b>In a Jupyter environment, please rerun this cell to show the HTML representation or trust the notebook. <br />On GitHub, the HTML representation is unable to render, please try loading this page with nbviewer.org.</b></div><div class=\"sk-container\" hidden><div class=\"sk-item sk-dashed-wrapped\"><div class=\"sk-label-container\"><div class=\"sk-label sk-toggleable\"><input class=\"sk-toggleable__control sk-hidden--visually\" id=\"sk-estimator-id-1\" type=\"checkbox\" ><label for=\"sk-estimator-id-1\" class=\"sk-toggleable__label sk-toggleable__label-arrow\">ColumnTransformer</label><div class=\"sk-toggleable__content\"><pre>ColumnTransformer(transformers=[(&#x27;numerical&#x27;, &#x27;passthrough&#x27;,\n",
       "                                 Index([&#x27;age_approx&#x27;, &#x27;clin_size_long_diam_mm&#x27;, &#x27;tbp_lv_A&#x27;, &#x27;tbp_lv_Aext&#x27;,\n",
       "       &#x27;tbp_lv_B&#x27;, &#x27;tbp_lv_Bext&#x27;, &#x27;tbp_lv_C&#x27;, &#x27;tbp_lv_Cext&#x27;, &#x27;tbp_lv_H&#x27;,\n",
       "       &#x27;tbp_lv_Hext&#x27;, &#x27;tbp_lv_L&#x27;, &#x27;tbp_lv_Lext&#x27;, &#x27;tbp_lv_areaMM2&#x27;,\n",
       "       &#x27;tbp_lv_area_perim_ratio&#x27;, &#x27;tbp_lv_color_std_mean&#x27;, &#x27;tbp_lv_deltaA&#x27;,\n",
       "       &#x27;tbp_lv_deltaB&#x27;, &#x27;tbp_lv_deltaL&#x27;, &#x27;tbp_l...\n",
       "       &#x27;normalized_lesion_size&#x27;, &#x27;overall_color_difference&#x27;, &#x27;num_images&#x27;],\n",
       "      dtype=&#x27;object&#x27;)),\n",
       "                                (&#x27;categorical&#x27;,\n",
       "                                 OrdinalEncoder(dtype=&lt;class &#x27;int&#x27;&gt;,\n",
       "                                                encoded_missing_value=-1,\n",
       "                                                handle_unknown=&#x27;use_encoded_value&#x27;,\n",
       "                                                unknown_value=-2),\n",
       "                                 [&#x27;sex&#x27;, &#x27;anatom_site_general&#x27;, &#x27;tbp_tile_type&#x27;,\n",
       "                                  &#x27;tbp_lv_location&#x27;, &#x27;tbp_lv_location_simple&#x27;,\n",
       "                                  &#x27;attribution&#x27;, &#x27;copyright_license&#x27;])],\n",
       "                  verbose_feature_names_out=False)</pre></div></div></div><div class=\"sk-parallel\"><div class=\"sk-parallel-item\"><div class=\"sk-item\"><div class=\"sk-label-container\"><div class=\"sk-label sk-toggleable\"><input class=\"sk-toggleable__control sk-hidden--visually\" id=\"sk-estimator-id-2\" type=\"checkbox\" ><label for=\"sk-estimator-id-2\" class=\"sk-toggleable__label sk-toggleable__label-arrow\">numerical</label><div class=\"sk-toggleable__content\"><pre>Index([&#x27;age_approx&#x27;, &#x27;clin_size_long_diam_mm&#x27;, &#x27;tbp_lv_A&#x27;, &#x27;tbp_lv_Aext&#x27;,\n",
       "       &#x27;tbp_lv_B&#x27;, &#x27;tbp_lv_Bext&#x27;, &#x27;tbp_lv_C&#x27;, &#x27;tbp_lv_Cext&#x27;, &#x27;tbp_lv_H&#x27;,\n",
       "       &#x27;tbp_lv_Hext&#x27;, &#x27;tbp_lv_L&#x27;, &#x27;tbp_lv_Lext&#x27;, &#x27;tbp_lv_areaMM2&#x27;,\n",
       "       &#x27;tbp_lv_area_perim_ratio&#x27;, &#x27;tbp_lv_color_std_mean&#x27;, &#x27;tbp_lv_deltaA&#x27;,\n",
       "       &#x27;tbp_lv_deltaB&#x27;, &#x27;tbp_lv_deltaL&#x27;, &#x27;tbp_lv_deltaLB&#x27;,\n",
       "       &#x27;tbp_lv_deltaLBnorm&#x27;, &#x27;tbp_lv_eccentricity&#x27;, &#x27;tbp_lv_minorAxisMM&#x27;,\n",
       "       &#x27;tbp_lv_nevi_confidence&#x27;, &#x27;tbp_lv_norm_border&#x27;, &#x27;tbp_lv_norm_color&#x27;,\n",
       "       &#x27;tbp_lv_perimeterMM&#x27;, &#x27;tbp_lv_radial_color_std_max&#x27;, &#x27;tbp_lv_stdL&#x27;,\n",
       "       &#x27;tbp_lv_stdLExt&#x27;, &#x27;tbp_lv_symm_2axis&#x27;, &#x27;tbp_lv_symm_2axis_angle&#x27;,\n",
       "       &#x27;tbp_lv_x&#x27;, &#x27;tbp_lv_y&#x27;, &#x27;tbp_lv_z&#x27;, &#x27;lesion_size_ratio&#x27;, &#x27;hue_contrast&#x27;,\n",
       "       &#x27;normalized_lesion_size&#x27;, &#x27;overall_color_difference&#x27;, &#x27;num_images&#x27;],\n",
       "      dtype=&#x27;object&#x27;)</pre></div></div></div><div class=\"sk-serial\"><div class=\"sk-item\"><div class=\"sk-estimator sk-toggleable\"><input class=\"sk-toggleable__control sk-hidden--visually\" id=\"sk-estimator-id-3\" type=\"checkbox\" ><label for=\"sk-estimator-id-3\" class=\"sk-toggleable__label sk-toggleable__label-arrow\">passthrough</label><div class=\"sk-toggleable__content\"><pre>passthrough</pre></div></div></div></div></div></div><div class=\"sk-parallel-item\"><div class=\"sk-item\"><div class=\"sk-label-container\"><div class=\"sk-label sk-toggleable\"><input class=\"sk-toggleable__control sk-hidden--visually\" id=\"sk-estimator-id-4\" type=\"checkbox\" ><label for=\"sk-estimator-id-4\" class=\"sk-toggleable__label sk-toggleable__label-arrow\">categorical</label><div class=\"sk-toggleable__content\"><pre>[&#x27;sex&#x27;, &#x27;anatom_site_general&#x27;, &#x27;tbp_tile_type&#x27;, &#x27;tbp_lv_location&#x27;, &#x27;tbp_lv_location_simple&#x27;, &#x27;attribution&#x27;, &#x27;copyright_license&#x27;]</pre></div></div></div><div class=\"sk-serial\"><div class=\"sk-item\"><div class=\"sk-estimator sk-toggleable\"><input class=\"sk-toggleable__control sk-hidden--visually\" id=\"sk-estimator-id-5\" type=\"checkbox\" ><label for=\"sk-estimator-id-5\" class=\"sk-toggleable__label sk-toggleable__label-arrow\">OrdinalEncoder</label><div class=\"sk-toggleable__content\"><pre>OrdinalEncoder(dtype=&lt;class &#x27;int&#x27;&gt;, encoded_missing_value=-1,\n",
       "               handle_unknown=&#x27;use_encoded_value&#x27;, unknown_value=-2)</pre></div></div></div></div></div></div></div></div></div></div>"
      ],
      "text/plain": [
       "ColumnTransformer(transformers=[('numerical', 'passthrough',\n",
       "                                 Index(['age_approx', 'clin_size_long_diam_mm', 'tbp_lv_A', 'tbp_lv_Aext',\n",
       "       'tbp_lv_B', 'tbp_lv_Bext', 'tbp_lv_C', 'tbp_lv_Cext', 'tbp_lv_H',\n",
       "       'tbp_lv_Hext', 'tbp_lv_L', 'tbp_lv_Lext', 'tbp_lv_areaMM2',\n",
       "       'tbp_lv_area_perim_ratio', 'tbp_lv_color_std_mean', 'tbp_lv_deltaA',\n",
       "       'tbp_lv_deltaB', 'tbp_lv_deltaL', 'tbp_l...\n",
       "       'normalized_lesion_size', 'overall_color_difference', 'num_images'],\n",
       "      dtype='object')),\n",
       "                                ('categorical',\n",
       "                                 OrdinalEncoder(dtype=<class 'int'>,\n",
       "                                                encoded_missing_value=-1,\n",
       "                                                handle_unknown='use_encoded_value',\n",
       "                                                unknown_value=-2),\n",
       "                                 ['sex', 'anatom_site_general', 'tbp_tile_type',\n",
       "                                  'tbp_lv_location', 'tbp_lv_location_simple',\n",
       "                                  'attribution', 'copyright_license'])],\n",
       "                  verbose_feature_names_out=False)"
      ]
     },
     "execution_count": 7,
     "metadata": {},
     "output_type": "execute_result"
    }
   ],
   "source": [
    "mixed_encoded_preprocessor = ColumnTransformer(\n",
    "    [\n",
    "        (\"numerical\", \"passthrough\", numerical_features),\n",
    "        (\n",
    "            \"categorical\",\n",
    "            OrdinalEncoder(handle_unknown=\"use_encoded_value\", unknown_value=-2, encoded_missing_value=-1, dtype=int),\n",
    "            categorical_features,\n",
    "        ),\n",
    "    ],\n",
    "    verbose_feature_names_out=False,\n",
    "\n",
    ")\n",
    "mixed_encoded_preprocessor.set_output(transform=\"pandas\")"
   ]
  },
  {
   "cell_type": "code",
   "execution_count": 8,
   "id": "1d949c1d",
   "metadata": {
    "execution": {
     "iopub.execute_input": "2024-07-14T19:47:11.376549Z",
     "iopub.status.busy": "2024-07-14T19:47:11.376188Z",
     "iopub.status.idle": "2024-07-14T19:47:11.381714Z",
     "shell.execute_reply": "2024-07-14T19:47:11.380862Z"
    },
    "papermill": {
     "duration": 0.015115,
     "end_time": "2024-07-14T19:47:11.383588",
     "exception": false,
     "start_time": "2024-07-14T19:47:11.368473",
     "status": "completed"
    },
    "tags": []
   },
   "outputs": [],
   "source": [
    "with open(f\"{cfg.model_name}_encoder.joblib\", \"wb\") as f:\n",
    "    joblib.dump(mixed_encoded_preprocessor, f)"
   ]
  },
  {
   "cell_type": "code",
   "execution_count": 9,
   "id": "4242f4d2",
   "metadata": {
    "execution": {
     "iopub.execute_input": "2024-07-14T19:47:11.397974Z",
     "iopub.status.busy": "2024-07-14T19:47:11.397695Z",
     "iopub.status.idle": "2024-07-14T19:47:13.013496Z",
     "shell.execute_reply": "2024-07-14T19:47:13.012491Z"
    },
    "papermill": {
     "duration": 1.626052,
     "end_time": "2024-07-14T19:47:13.015993",
     "exception": false,
     "start_time": "2024-07-14T19:47:11.389941",
     "status": "completed"
    },
    "tags": []
   },
   "outputs": [],
   "source": [
    "train_ids = train_metadata[id_column]\n",
    "groups = train_metadata[group_column]\n",
    "folds = train_metadata[\"fold\"]\n",
    "\n",
    "enc = mixed_encoded_preprocessor.fit(train_metadata)\n",
    "X_train = enc.transform(train_metadata)\n",
    "y_train = train_metadata[target_column]"
   ]
  },
  {
   "cell_type": "code",
   "execution_count": 10,
   "id": "03960b48",
   "metadata": {
    "execution": {
     "iopub.execute_input": "2024-07-14T19:47:13.030792Z",
     "iopub.status.busy": "2024-07-14T19:47:13.030044Z",
     "iopub.status.idle": "2024-07-14T19:47:13.035078Z",
     "shell.execute_reply": "2024-07-14T19:47:13.034114Z"
    },
    "papermill": {
     "duration": 0.014378,
     "end_time": "2024-07-14T19:47:13.037041",
     "exception": false,
     "start_time": "2024-07-14T19:47:13.022663",
     "status": "completed"
    },
    "tags": []
   },
   "outputs": [
    {
     "name": "stdout",
     "output_type": "stream",
     "text": [
      "Total number of columns: 46\n"
     ]
    }
   ],
   "source": [
    "columns_for_model = len(X_train.columns)\n",
    "print(f\"Total number of columns: {columns_for_model}\")"
   ]
  },
  {
   "cell_type": "code",
   "execution_count": 11,
   "id": "0de40490",
   "metadata": {
    "execution": {
     "iopub.execute_input": "2024-07-14T19:47:13.052046Z",
     "iopub.status.busy": "2024-07-14T19:47:13.051782Z",
     "iopub.status.idle": "2024-07-14T19:47:13.057110Z",
     "shell.execute_reply": "2024-07-14T19:47:13.056310Z"
    },
    "papermill": {
     "duration": 0.015414,
     "end_time": "2024-07-14T19:47:13.059024",
     "exception": false,
     "start_time": "2024-07-14T19:47:13.043610",
     "status": "completed"
    },
    "tags": []
   },
   "outputs": [],
   "source": [
    "class PAUC:\n",
    "    def get_final_error(self, error, weight):\n",
    "        return error\n",
    "\n",
    "    def is_max_optimal(self):\n",
    "        return True\n",
    "\n",
    "    def evaluate(self, approxes, target, weight):\n",
    "        y_true = target.astype(int)\n",
    "        y_pred = approxes[0].astype(float)\n",
    "        \n",
    "        score = compute_pauc(y_true, y_pred, min_tpr=0.8)\n",
    "        \n",
    "        return score, 1.0"
   ]
  },
  {
   "cell_type": "code",
   "execution_count": 12,
   "id": "169c0fad",
   "metadata": {
    "execution": {
     "iopub.execute_input": "2024-07-14T19:47:13.072884Z",
     "iopub.status.busy": "2024-07-14T19:47:13.072624Z",
     "iopub.status.idle": "2024-07-14T19:47:13.077129Z",
     "shell.execute_reply": "2024-07-14T19:47:13.076355Z"
    },
    "papermill": {
     "duration": 0.013607,
     "end_time": "2024-07-14T19:47:13.079009",
     "exception": false,
     "start_time": "2024-07-14T19:47:13.065402",
     "status": "completed"
    },
    "tags": []
   },
   "outputs": [],
   "source": [
    "params = {\n",
    "    \"objective\": \"Logloss\",\n",
    "#     \"boosting_type\": \"Ordered\",\n",
    "    \"iterations\": 3000,\n",
    "    \"learning_rate\": 0.05,\n",
    "    \"max_depth\": 8,\n",
    "    \"l2_leaf_reg\": 5,\n",
    "    \"verbose\": 50,\n",
    "    \"custom_metric\": \"AUC\",\n",
    "    \"task_type\": \"GPU\",\n",
    "    \"devices\": \"0\",\n",
    "    \"random_state\": cfg.seed,\n",
    "}\n",
    "es_rounds = 200"
   ]
  },
  {
   "cell_type": "code",
   "execution_count": 13,
   "id": "019474a6",
   "metadata": {
    "execution": {
     "iopub.execute_input": "2024-07-14T19:47:13.092799Z",
     "iopub.status.busy": "2024-07-14T19:47:13.092538Z",
     "iopub.status.idle": "2024-07-14T19:52:46.464218Z",
     "shell.execute_reply": "2024-07-14T19:52:46.462884Z"
    },
    "papermill": {
     "duration": 333.381221,
     "end_time": "2024-07-14T19:52:46.466618",
     "exception": false,
     "start_time": "2024-07-14T19:47:13.085397",
     "status": "completed"
    },
    "tags": []
   },
   "outputs": [
    {
     "name": "stdout",
     "output_type": "stream",
     "text": [
      "Running fold: 1\n"
     ]
    },
    {
     "name": "stderr",
     "output_type": "stream",
     "text": [
      "/opt/conda/lib/python3.10/site-packages/catboost/core.py:1780: UserWarning: Failed to optimize method \"evaluate\" in the passed object:\n",
      "Failed in nopython mode pipeline (step: nopython frontend)\n",
      "\u001b[1mUntyped global name 'compute_pauc':\u001b[0m \u001b[1m\u001b[1mCannot determine Numba type of <class 'function'>\u001b[0m\n",
      "\u001b[1m\n",
      "File \"../../tmp/ipykernel_25/1392371515.py\", line 12:\u001b[0m\n",
      "\u001b[1m<source missing, REPL/exec in use?>\u001b[0m\n",
      "\u001b[0m\n",
      "  self._object._train(train_pool, test_pool, params, allow_clear_pool, init_model._object if init_model else None)\n"
     ]
    },
    {
     "name": "stdout",
     "output_type": "stream",
     "text": [
      "0:\tlearn: 0.0734167\ttest: 0.1208176\tbest: 0.1208176 (0)\ttotal: 7.89s\tremaining: 6h 34m 15s\n",
      "50:\tlearn: 0.1528272\ttest: 0.1395086\tbest: 0.1408190 (44)\ttotal: 11.1s\tremaining: 10m 44s\n",
      "100:\tlearn: 0.1653599\ttest: 0.1494783\tbest: 0.1495240 (99)\ttotal: 14.6s\tremaining: 6m 59s\n",
      "150:\tlearn: 0.1741007\ttest: 0.1536138\tbest: 0.1538425 (141)\ttotal: 18s\tremaining: 5m 40s\n",
      "200:\tlearn: 0.1795383\ttest: 0.1569665\tbest: 0.1569665 (200)\ttotal: 21.5s\tremaining: 4m 59s\n",
      "250:\tlearn: 0.1827266\ttest: 0.1577486\tbest: 0.1581364 (239)\ttotal: 24.9s\tremaining: 4m 32s\n",
      "300:\tlearn: 0.1852169\ttest: 0.1580744\tbest: 0.1581725 (296)\ttotal: 28.4s\tremaining: 4m 14s\n",
      "350:\tlearn: 0.1875383\ttest: 0.1598226\tbest: 0.1598226 (350)\ttotal: 31.8s\tremaining: 3m 59s\n",
      "400:\tlearn: 0.1895519\ttest: 0.1604126\tbest: 0.1604522 (390)\ttotal: 35.3s\tremaining: 3m 48s\n",
      "450:\tlearn: 0.1912313\ttest: 0.1599136\tbest: 0.1609848 (421)\ttotal: 38.7s\tremaining: 3m 38s\n",
      "500:\tlearn: 0.1926902\ttest: 0.1596439\tbest: 0.1609848 (421)\ttotal: 42.1s\tremaining: 3m 30s\n",
      "550:\tlearn: 0.1938084\ttest: 0.1606483\tbest: 0.1609848 (421)\ttotal: 45.5s\tremaining: 3m 22s\n",
      "600:\tlearn: 0.1947060\ttest: 0.1608536\tbest: 0.1611515 (582)\ttotal: 48.9s\tremaining: 3m 15s\n",
      "650:\tlearn: 0.1954413\ttest: 0.1613569\tbest: 0.1617566 (632)\ttotal: 52.2s\tremaining: 3m 8s\n",
      "700:\tlearn: 0.1961304\ttest: 0.1617113\tbest: 0.1620889 (674)\ttotal: 55.6s\tremaining: 3m 2s\n",
      "750:\tlearn: 0.1967423\ttest: 0.1618065\tbest: 0.1621604 (744)\ttotal: 59s\tremaining: 2m 56s\n",
      "800:\tlearn: 0.1972306\ttest: 0.1608199\tbest: 0.1621604 (744)\ttotal: 1m 2s\tremaining: 2m 51s\n",
      "850:\tlearn: 0.1975598\ttest: 0.1608059\tbest: 0.1621604 (744)\ttotal: 1m 5s\tremaining: 2m 46s\n",
      "900:\tlearn: 0.1979544\ttest: 0.1608768\tbest: 0.1621604 (744)\ttotal: 1m 9s\tremaining: 2m 41s\n",
      "bestTest = 0.1621604496\n",
      "bestIteration = 744\n",
      "Shrink model to first 745 iterations.\n",
      "\n",
      "\n",
      "Running fold: 2\n"
     ]
    },
    {
     "name": "stderr",
     "output_type": "stream",
     "text": [
      "/opt/conda/lib/python3.10/site-packages/catboost/core.py:1780: UserWarning: Failed to optimize method \"evaluate\" in the passed object:\n",
      "Failed in nopython mode pipeline (step: nopython frontend)\n",
      "\u001b[1mUntyped global name 'compute_pauc':\u001b[0m \u001b[1m\u001b[1mCannot determine Numba type of <class 'function'>\u001b[0m\n",
      "\u001b[1m\n",
      "File \"../../tmp/ipykernel_25/1392371515.py\", line 12:\u001b[0m\n",
      "\u001b[1m<source missing, REPL/exec in use?>\u001b[0m\n",
      "\u001b[0m\n",
      "  self._object._train(train_pool, test_pool, params, allow_clear_pool, init_model._object if init_model else None)\n"
     ]
    },
    {
     "name": "stdout",
     "output_type": "stream",
     "text": [
      "0:\tlearn: 0.0924686\ttest: 0.0662902\tbest: 0.0662902 (0)\ttotal: 157ms\tremaining: 7m 49s\n",
      "50:\tlearn: 0.1600662\ttest: 0.1437933\tbest: 0.1437933 (50)\ttotal: 3.42s\tremaining: 3m 18s\n",
      "100:\tlearn: 0.1706627\ttest: 0.1490593\tbest: 0.1490726 (99)\ttotal: 6.75s\tremaining: 3m 13s\n",
      "150:\tlearn: 0.1782556\ttest: 0.1518876\tbest: 0.1519599 (149)\ttotal: 10.1s\tremaining: 3m 10s\n",
      "200:\tlearn: 0.1836477\ttest: 0.1539270\tbest: 0.1539825 (199)\ttotal: 13.4s\tremaining: 3m 7s\n",
      "250:\tlearn: 0.1863838\ttest: 0.1558662\tbest: 0.1559655 (244)\ttotal: 16.9s\tremaining: 3m 5s\n",
      "300:\tlearn: 0.1887643\ttest: 0.1567439\tbest: 0.1568633 (275)\ttotal: 20.3s\tremaining: 3m 1s\n",
      "350:\tlearn: 0.1904455\ttest: 0.1586254\tbest: 0.1587156 (345)\ttotal: 23.7s\tremaining: 2m 58s\n",
      "400:\tlearn: 0.1919135\ttest: 0.1598671\tbest: 0.1602008 (385)\ttotal: 27s\tremaining: 2m 55s\n",
      "450:\tlearn: 0.1929985\ttest: 0.1608648\tbest: 0.1608957 (448)\ttotal: 30.4s\tremaining: 2m 51s\n",
      "500:\tlearn: 0.1940823\ttest: 0.1614353\tbest: 0.1618550 (477)\ttotal: 33.8s\tremaining: 2m 48s\n",
      "550:\tlearn: 0.1949358\ttest: 0.1619852\tbest: 0.1621686 (530)\ttotal: 37.1s\tremaining: 2m 44s\n",
      "600:\tlearn: 0.1956469\ttest: 0.1637431\tbest: 0.1637431 (600)\ttotal: 40.4s\tremaining: 2m 41s\n",
      "650:\tlearn: 0.1961801\ttest: 0.1633629\tbest: 0.1641061 (610)\ttotal: 43.8s\tremaining: 2m 38s\n",
      "700:\tlearn: 0.1966629\ttest: 0.1632736\tbest: 0.1641061 (610)\ttotal: 47.2s\tremaining: 2m 34s\n",
      "750:\tlearn: 0.1972060\ttest: 0.1634311\tbest: 0.1641061 (610)\ttotal: 50.6s\tremaining: 2m 31s\n",
      "800:\tlearn: 0.1975844\ttest: 0.1636654\tbest: 0.1641061 (610)\ttotal: 53.9s\tremaining: 2m 28s\n",
      "bestTest = 0.1641061158\n",
      "bestIteration = 610\n",
      "Shrink model to first 611 iterations.\n",
      "\n",
      "\n",
      "Running fold: 3\n"
     ]
    },
    {
     "name": "stderr",
     "output_type": "stream",
     "text": [
      "/opt/conda/lib/python3.10/site-packages/catboost/core.py:1780: UserWarning: Failed to optimize method \"evaluate\" in the passed object:\n",
      "Failed in nopython mode pipeline (step: nopython frontend)\n",
      "\u001b[1mUntyped global name 'compute_pauc':\u001b[0m \u001b[1m\u001b[1mCannot determine Numba type of <class 'function'>\u001b[0m\n",
      "\u001b[1m\n",
      "File \"../../tmp/ipykernel_25/1392371515.py\", line 12:\u001b[0m\n",
      "\u001b[1m<source missing, REPL/exec in use?>\u001b[0m\n",
      "\u001b[0m\n",
      "  self._object._train(train_pool, test_pool, params, allow_clear_pool, init_model._object if init_model else None)\n"
     ]
    },
    {
     "name": "stdout",
     "output_type": "stream",
     "text": [
      "0:\tlearn: 0.0542149\ttest: 0.0347709\tbest: 0.0347709 (0)\ttotal: 147ms\tremaining: 7m 20s\n",
      "50:\tlearn: 0.1543162\ttest: 0.1346183\tbest: 0.1346183 (50)\ttotal: 3.33s\tremaining: 3m 12s\n",
      "100:\tlearn: 0.1688751\ttest: 0.1490477\tbest: 0.1490477 (100)\ttotal: 6.65s\tremaining: 3m 10s\n",
      "150:\tlearn: 0.1762507\ttest: 0.1540508\tbest: 0.1540677 (149)\ttotal: 9.98s\tremaining: 3m 8s\n",
      "200:\tlearn: 0.1808474\ttest: 0.1581822\tbest: 0.1582325 (198)\ttotal: 13.4s\tremaining: 3m 6s\n",
      "250:\tlearn: 0.1841179\ttest: 0.1586365\tbest: 0.1588045 (234)\ttotal: 16.8s\tremaining: 3m 3s\n",
      "300:\tlearn: 0.1866814\ttest: 0.1603273\tbest: 0.1603326 (297)\ttotal: 20.1s\tremaining: 3m\n",
      "350:\tlearn: 0.1885581\ttest: 0.1607321\tbest: 0.1607607 (345)\ttotal: 23.6s\tremaining: 2m 58s\n",
      "400:\tlearn: 0.1903155\ttest: 0.1615002\tbest: 0.1618696 (391)\ttotal: 27s\tremaining: 2m 55s\n",
      "450:\tlearn: 0.1916799\ttest: 0.1628145\tbest: 0.1629679 (435)\ttotal: 30.3s\tremaining: 2m 51s\n",
      "500:\tlearn: 0.1928008\ttest: 0.1633753\tbest: 0.1637781 (478)\ttotal: 33.7s\tremaining: 2m 48s\n",
      "550:\tlearn: 0.1941172\ttest: 0.1629338\tbest: 0.1637781 (478)\ttotal: 37.1s\tremaining: 2m 44s\n",
      "600:\tlearn: 0.1949713\ttest: 0.1626182\tbest: 0.1637781 (478)\ttotal: 40.5s\tremaining: 2m 41s\n",
      "650:\tlearn: 0.1955780\ttest: 0.1626127\tbest: 0.1637781 (478)\ttotal: 43.8s\tremaining: 2m 38s\n",
      "bestTest = 0.1637780634\n",
      "bestIteration = 478\n",
      "Shrink model to first 479 iterations.\n",
      "\n",
      "\n",
      "Running fold: 4\n"
     ]
    },
    {
     "name": "stderr",
     "output_type": "stream",
     "text": [
      "/opt/conda/lib/python3.10/site-packages/catboost/core.py:1780: UserWarning: Failed to optimize method \"evaluate\" in the passed object:\n",
      "Failed in nopython mode pipeline (step: nopython frontend)\n",
      "\u001b[1mUntyped global name 'compute_pauc':\u001b[0m \u001b[1m\u001b[1mCannot determine Numba type of <class 'function'>\u001b[0m\n",
      "\u001b[1m\n",
      "File \"../../tmp/ipykernel_25/1392371515.py\", line 12:\u001b[0m\n",
      "\u001b[1m<source missing, REPL/exec in use?>\u001b[0m\n",
      "\u001b[0m\n",
      "  self._object._train(train_pool, test_pool, params, allow_clear_pool, init_model._object if init_model else None)\n"
     ]
    },
    {
     "name": "stdout",
     "output_type": "stream",
     "text": [
      "0:\tlearn: 0.0669240\ttest: 0.0702879\tbest: 0.0702879 (0)\ttotal: 159ms\tremaining: 7m 55s\n",
      "50:\tlearn: 0.1516753\ttest: 0.1388150\tbest: 0.1390192 (49)\ttotal: 3.4s\tremaining: 3m 16s\n",
      "100:\tlearn: 0.1642901\ttest: 0.1470771\tbest: 0.1470771 (100)\ttotal: 6.85s\tremaining: 3m 16s\n",
      "150:\tlearn: 0.1723209\ttest: 0.1510523\tbest: 0.1510857 (148)\ttotal: 10.2s\tremaining: 3m 11s\n",
      "200:\tlearn: 0.1782513\ttest: 0.1542276\tbest: 0.1542276 (200)\ttotal: 13.5s\tremaining: 3m 7s\n",
      "250:\tlearn: 0.1828457\ttest: 0.1577298\tbest: 0.1577298 (250)\ttotal: 16.9s\tremaining: 3m 4s\n",
      "300:\tlearn: 0.1857219\ttest: 0.1590968\tbest: 0.1592093 (291)\ttotal: 20.2s\tremaining: 3m 1s\n",
      "350:\tlearn: 0.1881225\ttest: 0.1595678\tbest: 0.1599387 (340)\ttotal: 23.5s\tremaining: 2m 57s\n",
      "400:\tlearn: 0.1903176\ttest: 0.1595802\tbest: 0.1599387 (340)\ttotal: 26.9s\tremaining: 2m 54s\n",
      "450:\tlearn: 0.1918781\ttest: 0.1594982\tbest: 0.1599387 (340)\ttotal: 30.2s\tremaining: 2m 50s\n",
      "500:\tlearn: 0.1932275\ttest: 0.1610968\tbest: 0.1610968 (500)\ttotal: 33.5s\tremaining: 2m 47s\n",
      "550:\tlearn: 0.1942959\ttest: 0.1609276\tbest: 0.1610968 (500)\ttotal: 36.9s\tremaining: 2m 44s\n",
      "600:\tlearn: 0.1952553\ttest: 0.1616271\tbest: 0.1616271 (600)\ttotal: 40.3s\tremaining: 2m 40s\n",
      "650:\tlearn: 0.1959471\ttest: 0.1621292\tbest: 0.1622562 (647)\ttotal: 43.6s\tremaining: 2m 37s\n",
      "700:\tlearn: 0.1965002\ttest: 0.1617487\tbest: 0.1622562 (647)\ttotal: 46.9s\tremaining: 2m 33s\n",
      "750:\tlearn: 0.1970928\ttest: 0.1628588\tbest: 0.1629237 (742)\ttotal: 50.2s\tremaining: 2m 30s\n",
      "800:\tlearn: 0.1975924\ttest: 0.1629812\tbest: 0.1629881 (767)\ttotal: 53.6s\tremaining: 2m 27s\n",
      "850:\tlearn: 0.1980055\ttest: 0.1629304\tbest: 0.1631271 (834)\ttotal: 56.9s\tremaining: 2m 23s\n",
      "900:\tlearn: 0.1983046\ttest: 0.1640185\tbest: 0.1640185 (900)\ttotal: 1m\tremaining: 2m 20s\n",
      "950:\tlearn: 0.1985656\ttest: 0.1635169\tbest: 0.1640911 (903)\ttotal: 1m 3s\tremaining: 2m 17s\n",
      "1000:\tlearn: 0.1988617\ttest: 0.1640495\tbest: 0.1640911 (903)\ttotal: 1m 7s\tremaining: 2m 13s\n",
      "1050:\tlearn: 0.1989961\ttest: 0.1637676\tbest: 0.1640911 (903)\ttotal: 1m 10s\tremaining: 2m 10s\n",
      "1100:\tlearn: 0.1991896\ttest: 0.1639902\tbest: 0.1641370 (1091)\ttotal: 1m 13s\tremaining: 2m 7s\n",
      "1150:\tlearn: 0.1993783\ttest: 0.1639043\tbest: 0.1641370 (1091)\ttotal: 1m 17s\tremaining: 2m 3s\n",
      "1200:\tlearn: 0.1994749\ttest: 0.1639888\tbest: 0.1641370 (1091)\ttotal: 1m 20s\tremaining: 2m\n",
      "1250:\tlearn: 0.1995759\ttest: 0.1635923\tbest: 0.1641370 (1091)\ttotal: 1m 23s\tremaining: 1m 57s\n",
      "bestTest = 0.1641370069\n",
      "bestIteration = 1091\n",
      "Shrink model to first 1092 iterations.\n",
      "\n",
      "\n",
      "Running fold: 5\n"
     ]
    },
    {
     "name": "stderr",
     "output_type": "stream",
     "text": [
      "/opt/conda/lib/python3.10/site-packages/catboost/core.py:1780: UserWarning: Failed to optimize method \"evaluate\" in the passed object:\n",
      "Failed in nopython mode pipeline (step: nopython frontend)\n",
      "\u001b[1mUntyped global name 'compute_pauc':\u001b[0m \u001b[1m\u001b[1mCannot determine Numba type of <class 'function'>\u001b[0m\n",
      "\u001b[1m\n",
      "File \"../../tmp/ipykernel_25/1392371515.py\", line 12:\u001b[0m\n",
      "\u001b[1m<source missing, REPL/exec in use?>\u001b[0m\n",
      "\u001b[0m\n",
      "  self._object._train(train_pool, test_pool, params, allow_clear_pool, init_model._object if init_model else None)\n"
     ]
    },
    {
     "name": "stdout",
     "output_type": "stream",
     "text": [
      "0:\tlearn: 0.0809995\ttest: 0.0891250\tbest: 0.0891250 (0)\ttotal: 157ms\tremaining: 7m 50s\n",
      "50:\tlearn: 0.1518143\ttest: 0.1268442\tbest: 0.1268442 (50)\ttotal: 3.37s\tremaining: 3m 14s\n",
      "100:\tlearn: 0.1669723\ttest: 0.1458558\tbest: 0.1459123 (94)\ttotal: 6.73s\tremaining: 3m 13s\n",
      "150:\tlearn: 0.1759233\ttest: 0.1532550\tbest: 0.1535574 (146)\ttotal: 10.1s\tremaining: 3m 10s\n",
      "200:\tlearn: 0.1817249\ttest: 0.1552741\tbest: 0.1557196 (194)\ttotal: 13.6s\tremaining: 3m 9s\n",
      "250:\tlearn: 0.1857053\ttest: 0.1557932\tbest: 0.1562424 (220)\ttotal: 16.9s\tremaining: 3m 5s\n",
      "300:\tlearn: 0.1880176\ttest: 0.1584211\tbest: 0.1586245 (281)\ttotal: 20.3s\tremaining: 3m 1s\n",
      "350:\tlearn: 0.1896343\ttest: 0.1592736\tbest: 0.1593599 (342)\ttotal: 23.6s\tremaining: 2m 57s\n",
      "400:\tlearn: 0.1910052\ttest: 0.1595454\tbest: 0.1595454 (400)\ttotal: 26.9s\tremaining: 2m 54s\n",
      "450:\tlearn: 0.1923063\ttest: 0.1593933\tbest: 0.1595454 (400)\ttotal: 30.2s\tremaining: 2m 50s\n",
      "500:\tlearn: 0.1933018\ttest: 0.1571572\tbest: 0.1595454 (400)\ttotal: 33.5s\tremaining: 2m 47s\n",
      "550:\tlearn: 0.1941189\ttest: 0.1565174\tbest: 0.1595454 (400)\ttotal: 36.8s\tremaining: 2m 43s\n",
      "600:\tlearn: 0.1949119\ttest: 0.1553696\tbest: 0.1595454 (400)\ttotal: 40.2s\tremaining: 2m 40s\n",
      "bestTest = 0.1595454288\n",
      "bestIteration = 400\n",
      "Shrink model to first 401 iterations.\n",
      "\n",
      "\n"
     ]
    }
   ],
   "source": [
    "best_num_rounds = {}\n",
    "val_auc_scores = {}\n",
    "val_pauc_scores = {}\n",
    "all_folds = np.sort(folds.unique())\n",
    "oof_predictions = np.zeros(X_train.shape[0])\n",
    "for fold in all_folds:\n",
    "    print(f\"Running fold: {fold}\")\n",
    "    dev_index = folds != fold\n",
    "    val_index = folds == fold\n",
    "    \n",
    "    X_dev = X_train.loc[dev_index, :]\n",
    "    y_dev = y_train[dev_index]\n",
    "    \n",
    "    X_val = X_train.loc[val_index, :]\n",
    "    y_val = y_train[val_index]\n",
    "    \n",
    "    model = cb.CatBoostClassifier(**params, eval_metric=PAUC())\n",
    "    \n",
    "    cb_dataset_dev = cb.Pool(X_dev, y_dev, cat_features=categorical_features)\n",
    "    cb_dataset_val = cb.Pool(X_val, y_val, cat_features=categorical_features)\n",
    "    \n",
    "    model.fit(cb_dataset_dev, eval_set=cb_dataset_val, \n",
    "              early_stopping_rounds=es_rounds, \n",
    "              metric_period=params[\"verbose\"], use_best_model=True,\n",
    "              init_model=None)\n",
    "    model.save_model(MODELS_OUTPUT_PATH / f\"{cfg.model_name}_fold_{fold}.txt\")\n",
    "    best_num_rounds[f\"fold_{fold}\"] = model.best_iteration_\n",
    "    \n",
    "    val_preds = model.predict_proba(X_val)[:, -1]\n",
    "    val_pauc_scores[f\"fold_{fold}\"] = compute_pauc(y_val, val_preds)\n",
    "    val_auc_scores[f\"fold_{fold}\"] = compute_auc(y_val, val_preds)\n",
    "    oof_predictions[val_index] = val_preds\n",
    "    print(\"\\n\")"
   ]
  },
  {
   "cell_type": "code",
   "execution_count": 14,
   "id": "a6f6f4e2",
   "metadata": {
    "execution": {
     "iopub.execute_input": "2024-07-14T19:52:46.501049Z",
     "iopub.status.busy": "2024-07-14T19:52:46.500735Z",
     "iopub.status.idle": "2024-07-14T19:52:48.259574Z",
     "shell.execute_reply": "2024-07-14T19:52:48.258605Z"
    },
    "papermill": {
     "duration": 1.777096,
     "end_time": "2024-07-14T19:52:48.261897",
     "exception": false,
     "start_time": "2024-07-14T19:52:46.484801",
     "status": "completed"
    },
    "tags": []
   },
   "outputs": [
    {
     "data": {
      "text/html": [
       "<div>\n",
       "<style scoped>\n",
       "    .dataframe tbody tr th:only-of-type {\n",
       "        vertical-align: middle;\n",
       "    }\n",
       "\n",
       "    .dataframe tbody tr th {\n",
       "        vertical-align: top;\n",
       "    }\n",
       "\n",
       "    .dataframe thead th {\n",
       "        text-align: right;\n",
       "    }\n",
       "</style>\n",
       "<table border=\"1\" class=\"dataframe\">\n",
       "  <thead>\n",
       "    <tr style=\"text-align: right;\">\n",
       "      <th></th>\n",
       "      <th>isic_id</th>\n",
       "      <th>patient_id</th>\n",
       "      <th>fold</th>\n",
       "      <th>final_target</th>\n",
       "      <th>oof_cb_v1</th>\n",
       "    </tr>\n",
       "  </thead>\n",
       "  <tbody>\n",
       "    <tr>\n",
       "      <th>0</th>\n",
       "      <td>ISIC_0015670</td>\n",
       "      <td>IP_1235828</td>\n",
       "      <td>4</td>\n",
       "      <td>0</td>\n",
       "      <td>0.000031</td>\n",
       "    </tr>\n",
       "    <tr>\n",
       "      <th>1</th>\n",
       "      <td>ISIC_0015845</td>\n",
       "      <td>IP_8170065</td>\n",
       "      <td>1</td>\n",
       "      <td>0</td>\n",
       "      <td>0.401362</td>\n",
       "    </tr>\n",
       "    <tr>\n",
       "      <th>2</th>\n",
       "      <td>ISIC_0015864</td>\n",
       "      <td>IP_6724798</td>\n",
       "      <td>5</td>\n",
       "      <td>0</td>\n",
       "      <td>0.000051</td>\n",
       "    </tr>\n",
       "    <tr>\n",
       "      <th>3</th>\n",
       "      <td>ISIC_0015902</td>\n",
       "      <td>IP_4111386</td>\n",
       "      <td>2</td>\n",
       "      <td>0</td>\n",
       "      <td>0.000033</td>\n",
       "    </tr>\n",
       "    <tr>\n",
       "      <th>4</th>\n",
       "      <td>ISIC_0024200</td>\n",
       "      <td>IP_8313778</td>\n",
       "      <td>1</td>\n",
       "      <td>0</td>\n",
       "      <td>0.000363</td>\n",
       "    </tr>\n",
       "  </tbody>\n",
       "</table>\n",
       "</div>"
      ],
      "text/plain": [
       "        isic_id  patient_id  fold  final_target  oof_cb_v1\n",
       "0  ISIC_0015670  IP_1235828     4             0   0.000031\n",
       "1  ISIC_0015845  IP_8170065     1             0   0.401362\n",
       "2  ISIC_0015864  IP_6724798     5             0   0.000051\n",
       "3  ISIC_0015902  IP_4111386     2             0   0.000033\n",
       "4  ISIC_0024200  IP_8313778     1             0   0.000363"
      ]
     },
     "execution_count": 14,
     "metadata": {},
     "output_type": "execute_result"
    }
   ],
   "source": [
    "oof_preds_df = pd.DataFrame({\n",
    "    id_column: train_ids,\n",
    "    group_column: groups,\n",
    "    \"fold\": folds,\n",
    "    target_column: y_train,\n",
    "    f\"oof_{cfg.model_name}\": oof_predictions\n",
    "})\n",
    "oof_preds_df.to_csv(f\"oof_preds_{cfg.model_name}.csv\", index=False)\n",
    "oof_preds_df.head()"
   ]
  },
  {
   "cell_type": "code",
   "execution_count": 15,
   "id": "48218e15",
   "metadata": {
    "execution": {
     "iopub.execute_input": "2024-07-14T19:52:48.292699Z",
     "iopub.status.busy": "2024-07-14T19:52:48.292390Z",
     "iopub.status.idle": "2024-07-14T19:52:48.298086Z",
     "shell.execute_reply": "2024-07-14T19:52:48.297227Z"
    },
    "papermill": {
     "duration": 0.023042,
     "end_time": "2024-07-14T19:52:48.299968",
     "exception": false,
     "start_time": "2024-07-14T19:52:48.276926",
     "status": "completed"
    },
    "tags": []
   },
   "outputs": [
    {
     "data": {
      "text/plain": [
       "{'fold_1': 0.9509077717395972,\n",
       " 'fold_2': 0.9523324073203026,\n",
       " 'fold_3': 0.9505116621532241,\n",
       " 'fold_4': 0.9524636220688623,\n",
       " 'fold_5': 0.9490689677129721}"
      ]
     },
     "execution_count": 15,
     "metadata": {},
     "output_type": "execute_result"
    }
   ],
   "source": [
    "val_auc_scores"
   ]
  },
  {
   "cell_type": "code",
   "execution_count": 16,
   "id": "7955437c",
   "metadata": {
    "execution": {
     "iopub.execute_input": "2024-07-14T19:52:48.330720Z",
     "iopub.status.busy": "2024-07-14T19:52:48.330442Z",
     "iopub.status.idle": "2024-07-14T19:52:48.335771Z",
     "shell.execute_reply": "2024-07-14T19:52:48.334945Z"
    },
    "papermill": {
     "duration": 0.023079,
     "end_time": "2024-07-14T19:52:48.337711",
     "exception": false,
     "start_time": "2024-07-14T19:52:48.314632",
     "status": "completed"
    },
    "tags": []
   },
   "outputs": [
    {
     "data": {
      "text/plain": [
       "{'fold_1': 0.1621604495807423,\n",
       " 'fold_2': 0.16410595585727236,\n",
       " 'fold_3': 0.16377806342114784,\n",
       " 'fold_4': 0.16413716289575817,\n",
       " 'fold_5': 0.1595454288015405}"
      ]
     },
     "execution_count": 16,
     "metadata": {},
     "output_type": "execute_result"
    }
   ],
   "source": [
    "val_pauc_scores"
   ]
  },
  {
   "cell_type": "code",
   "execution_count": 17,
   "id": "7ab11fbd",
   "metadata": {
    "execution": {
     "iopub.execute_input": "2024-07-14T19:52:48.376838Z",
     "iopub.status.busy": "2024-07-14T19:52:48.374469Z",
     "iopub.status.idle": "2024-07-14T19:52:48.636057Z",
     "shell.execute_reply": "2024-07-14T19:52:48.634811Z"
    },
    "papermill": {
     "duration": 0.282854,
     "end_time": "2024-07-14T19:52:48.638876",
     "exception": false,
     "start_time": "2024-07-14T19:52:48.356022",
     "status": "completed"
    },
    "tags": []
   },
   "outputs": [
    {
     "name": "stdout",
     "output_type": "stream",
     "text": [
      "CV AUC OOF: 0.9509141643032035\n",
      "CV PAUC OOF: 0.16259879590558052\n",
      "CV AUC AVG: 0.9510568861989916\n",
      "CV PAUC AVG: 0.16274541211129226\n"
     ]
    }
   ],
   "source": [
    "cv_auc_oof = compute_auc(oof_preds_df[target_column], oof_preds_df[f\"oof_{cfg.model_name}\"])\n",
    "cv_pauc_oof = compute_pauc(oof_preds_df[target_column], oof_preds_df[f\"oof_{cfg.model_name}\"], min_tpr=0.8)\n",
    "\n",
    "cv_auc_avg = np.mean(list(val_auc_scores.values()))\n",
    "cv_pauc_avg = np.mean(list(val_pauc_scores.values()))\n",
    "\n",
    "print(f\"CV AUC OOF: {cv_auc_oof}\")\n",
    "print(f\"CV PAUC OOF: {cv_pauc_oof}\")\n",
    "print(f\"CV AUC AVG: {cv_auc_avg}\")\n",
    "print(f\"CV PAUC AVG: {cv_pauc_avg}\")"
   ]
  },
  {
   "cell_type": "code",
   "execution_count": 18,
   "id": "ec254bde",
   "metadata": {
    "execution": {
     "iopub.execute_input": "2024-07-14T19:52:48.674517Z",
     "iopub.status.busy": "2024-07-14T19:52:48.673660Z",
     "iopub.status.idle": "2024-07-14T19:52:48.680700Z",
     "shell.execute_reply": "2024-07-14T19:52:48.679666Z"
    },
    "papermill": {
     "duration": 0.025145,
     "end_time": "2024-07-14T19:52:48.682631",
     "exception": false,
     "start_time": "2024-07-14T19:52:48.657486",
     "status": "completed"
    },
    "tags": []
   },
   "outputs": [
    {
     "data": {
      "text/plain": [
       "{'objective': 'Logloss',\n",
       " 'iterations': 3000,\n",
       " 'learning_rate': 0.05,\n",
       " 'max_depth': 8,\n",
       " 'l2_leaf_reg': 5,\n",
       " 'verbose': 50,\n",
       " 'custom_metric': 'AUC',\n",
       " 'task_type': 'GPU',\n",
       " 'devices': '0',\n",
       " 'random_state': 2022}"
      ]
     },
     "execution_count": 18,
     "metadata": {},
     "output_type": "execute_result"
    }
   ],
   "source": [
    "params"
   ]
  },
  {
   "cell_type": "code",
   "execution_count": 19,
   "id": "c884af27",
   "metadata": {
    "execution": {
     "iopub.execute_input": "2024-07-14T19:52:48.717607Z",
     "iopub.status.busy": "2024-07-14T19:52:48.717277Z",
     "iopub.status.idle": "2024-07-14T19:52:48.722864Z",
     "shell.execute_reply": "2024-07-14T19:52:48.722015Z"
    },
    "papermill": {
     "duration": 0.027503,
     "end_time": "2024-07-14T19:52:48.725221",
     "exception": false,
     "start_time": "2024-07-14T19:52:48.697718",
     "status": "completed"
    },
    "tags": []
   },
   "outputs": [],
   "source": [
    "metadata = {\n",
    "    \"params\": params,\n",
    "    \"best_num_rounds\": best_num_rounds,\n",
    "    \"val_auc_scores\": val_auc_scores,\n",
    "    \"val_pauc_scores\": val_pauc_scores,\n",
    "    \"cv_auc_oof\": cv_auc_oof,\n",
    "    \"cv_pauc_oof\": cv_pauc_oof,\n",
    "    \"cv_auc_avg\": cv_auc_avg,\n",
    "    \"cv_pauc_avg\": cv_pauc_avg\n",
    "}\n",
    "\n",
    "with open(\"run_metadata.json\", \"w\") as f:\n",
    "    json.dump(metadata, f)"
   ]
  },
  {
   "cell_type": "code",
   "execution_count": null,
   "id": "82d11e86",
   "metadata": {
    "papermill": {
     "duration": 0.014615,
     "end_time": "2024-07-14T19:52:48.758617",
     "exception": false,
     "start_time": "2024-07-14T19:52:48.744002",
     "status": "completed"
    },
    "tags": []
   },
   "outputs": [],
   "source": []
  }
 ],
 "metadata": {
  "kaggle": {
   "accelerator": "gpu",
   "dataSources": [
    {
     "databundleVersionId": 9094797,
     "sourceId": 63056,
     "sourceType": "competition"
    },
    {
     "sourceId": 187439867,
     "sourceType": "kernelVersion"
    },
    {
     "sourceId": 187477024,
     "sourceType": "kernelVersion"
    }
   ],
   "dockerImageVersionId": 30747,
   "isGpuEnabled": true,
   "isInternetEnabled": false,
   "language": "python",
   "sourceType": "notebook"
  },
  "kernelspec": {
   "display_name": "Python 3",
   "language": "python",
   "name": "python3"
  },
  "language_info": {
   "codemirror_mode": {
    "name": "ipython",
    "version": 3
   },
   "file_extension": ".py",
   "mimetype": "text/x-python",
   "name": "python",
   "nbconvert_exporter": "python",
   "pygments_lexer": "ipython3",
   "version": "3.10.13"
  },
  "papermill": {
   "default_parameters": {},
   "duration": 358.084464,
   "end_time": "2024-07-14T19:52:50.298921",
   "environment_variables": {},
   "exception": null,
   "input_path": "__notebook__.ipynb",
   "output_path": "__notebook__.ipynb",
   "parameters": {},
   "start_time": "2024-07-14T19:46:52.214457",
   "version": "2.5.0"
  }
 },
 "nbformat": 4,
 "nbformat_minor": 5
}
