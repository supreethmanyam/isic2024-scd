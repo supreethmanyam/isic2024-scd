{
 "cells": [
  {
   "cell_type": "code",
   "execution_count": 1,
   "id": "e62b4f39",
   "metadata": {
    "_cell_guid": "b1076dfc-b9ad-4769-8c92-a6c4dae69d19",
    "_uuid": "8f2839f25d086af736a60e9eeb907d3b93b6e0e5",
    "execution": {
     "iopub.execute_input": "2024-07-14T20:04:57.741975Z",
     "iopub.status.busy": "2024-07-14T20:04:57.741046Z",
     "iopub.status.idle": "2024-07-14T20:05:04.093667Z",
     "shell.execute_reply": "2024-07-14T20:05:04.092495Z"
    },
    "papermill": {
     "duration": 6.362535,
     "end_time": "2024-07-14T20:05:04.096383",
     "exception": false,
     "start_time": "2024-07-14T20:04:57.733848",
     "status": "completed"
    },
    "tags": []
   },
   "outputs": [],
   "source": [
    "import json\n",
    "import joblib\n",
    "from pathlib import Path\n",
    "\n",
    "import pandas as pd\n",
    "import numpy as np\n",
    "\n",
    "from sklearn.compose import ColumnTransformer\n",
    "from sklearn.preprocessing import OrdinalEncoder\n",
    "\n",
    "import catboost as cb\n",
    "\n",
    "from isic_helper import DotDict\n",
    "from isic_helper import get_folds\n",
    "from isic_helper import compute_auc, compute_pauc\n",
    "\n",
    "pd.options.display.max_columns = 1000"
   ]
  },
  {
   "cell_type": "code",
   "execution_count": 2,
   "id": "44b2a352",
   "metadata": {
    "execution": {
     "iopub.execute_input": "2024-07-14T20:05:04.109011Z",
     "iopub.status.busy": "2024-07-14T20:05:04.108445Z",
     "iopub.status.idle": "2024-07-14T20:05:04.113785Z",
     "shell.execute_reply": "2024-07-14T20:05:04.112857Z"
    },
    "papermill": {
     "duration": 0.014114,
     "end_time": "2024-07-14T20:05:04.115967",
     "exception": false,
     "start_time": "2024-07-14T20:05:04.101853",
     "status": "completed"
    },
    "tags": []
   },
   "outputs": [],
   "source": [
    "cfg = DotDict()\n",
    "cfg.seed = 2022\n",
    "\n",
    "cfg.models_output_dir = \"models\"\n",
    "cfg.model_name = \"cb_v1\""
   ]
  },
  {
   "cell_type": "code",
   "execution_count": 3,
   "id": "d8da88e4",
   "metadata": {
    "execution": {
     "iopub.execute_input": "2024-07-14T20:05:04.128083Z",
     "iopub.status.busy": "2024-07-14T20:05:04.127694Z",
     "iopub.status.idle": "2024-07-14T20:05:15.005032Z",
     "shell.execute_reply": "2024-07-14T20:05:15.003884Z"
    },
    "papermill": {
     "duration": 10.88625,
     "end_time": "2024-07-14T20:05:15.007523",
     "exception": false,
     "start_time": "2024-07-14T20:05:04.121273",
     "status": "completed"
    },
    "tags": []
   },
   "outputs": [
    {
     "name": "stdout",
     "output_type": "stream",
     "text": [
      "Train data size: (401059, 57)\n",
      "Test data size: (401059, 57)\n"
     ]
    }
   ],
   "source": [
    "INPUT_PATH = Path(\"../input/isic-2024-challenge/\")\n",
    "MODELS_OUTPUT_PATH = Path(f\"{cfg.models_output_dir}\")\n",
    "MODELS_OUTPUT_PATH.mkdir(exist_ok=True)\n",
    "\n",
    "train_metadata = pd.read_csv(INPUT_PATH / \"train-metadata.csv\", low_memory=False)\n",
    "test_metadata = pd.read_csv(INPUT_PATH / \"test-metadata.csv\")\n",
    "\n",
    "folds_df = get_folds()\n",
    "train_metadata = train_metadata.merge(folds_df, on=[\"isic_id\", \"patient_id\"], how=\"inner\")\n",
    "print(f\"Train data size: {train_metadata.shape}\")\n",
    "print(f\"Test data size: {train_metadata.shape}\")"
   ]
  },
  {
   "cell_type": "code",
   "execution_count": 4,
   "id": "b6697ae9",
   "metadata": {
    "execution": {
     "iopub.execute_input": "2024-07-14T20:05:15.020146Z",
     "iopub.status.busy": "2024-07-14T20:05:15.019737Z",
     "iopub.status.idle": "2024-07-14T20:05:15.041269Z",
     "shell.execute_reply": "2024-07-14T20:05:15.040041Z"
    },
    "papermill": {
     "duration": 0.030784,
     "end_time": "2024-07-14T20:05:15.043773",
     "exception": false,
     "start_time": "2024-07-14T20:05:15.012989",
     "status": "completed"
    },
    "tags": []
   },
   "outputs": [
    {
     "data": {
      "text/plain": [
       "target\n",
       "0    0.99902\n",
       "1    0.00098\n",
       "Name: proportion, dtype: float64"
      ]
     },
     "execution_count": 4,
     "metadata": {},
     "output_type": "execute_result"
    }
   ],
   "source": [
    "train_metadata[\"target\"].value_counts(normalize=True)"
   ]
  },
  {
   "cell_type": "code",
   "execution_count": 5,
   "id": "db36a50f",
   "metadata": {
    "execution": {
     "iopub.execute_input": "2024-07-14T20:05:15.056430Z",
     "iopub.status.busy": "2024-07-14T20:05:15.056053Z",
     "iopub.status.idle": "2024-07-14T20:05:15.589748Z",
     "shell.execute_reply": "2024-07-14T20:05:15.588577Z"
    },
    "papermill": {
     "duration": 0.542846,
     "end_time": "2024-07-14T20:05:15.592173",
     "exception": false,
     "start_time": "2024-07-14T20:05:15.049327",
     "status": "completed"
    },
    "tags": []
   },
   "outputs": [],
   "source": [
    "def feature_engineering(df):\n",
    "    df[\"lesion_size_ratio\"]              = df[\"tbp_lv_minorAxisMM\"] / df[\"clin_size_long_diam_mm\"]\n",
    "    df[\"hue_contrast\"]                   = (df[\"tbp_lv_H\"] - df[\"tbp_lv_Hext\"]).abs()\n",
    "    df[\"normalized_lesion_size\"]         = df[\"clin_size_long_diam_mm\"] / df[\"age_approx\"]\n",
    "    df[\"overall_color_difference\"]       = (df[\"tbp_lv_deltaA\"] + df[\"tbp_lv_deltaB\"] + df[\"tbp_lv_deltaL\"]) / 3\n",
    "    \n",
    "    patient_num_images = df.groupby(\"patient_id\", as_index=False)[\"isic_id\"].count().rename(columns={\"isic_id\": \"num_images\"})\n",
    "    df = df.merge(patient_num_images, on=\"patient_id\", how=\"left\")\n",
    "\n",
    "    new_num_cols = [\n",
    "        \"num_images\",\n",
    "        \"lesion_size_ratio\",\n",
    "        \"hue_contrast\",\n",
    "        \"normalized_lesion_size\", \n",
    "        \"overall_color_difference\"\n",
    "    ]\n",
    "    \n",
    "    new_cat_cols = []\n",
    "    \n",
    "    return df, new_num_cols, new_cat_cols\n",
    "\n",
    "train_metadata, new_num_cols, new_cat_cols = feature_engineering(train_metadata.copy())\n",
    "test_metadata, new_num_cols, new_cat_cols = feature_engineering(test_metadata.copy())"
   ]
  },
  {
   "cell_type": "code",
   "execution_count": 6,
   "id": "29fb24ab",
   "metadata": {
    "execution": {
     "iopub.execute_input": "2024-07-14T20:05:15.604796Z",
     "iopub.status.busy": "2024-07-14T20:05:15.604413Z",
     "iopub.status.idle": "2024-07-14T20:05:15.611332Z",
     "shell.execute_reply": "2024-07-14T20:05:15.610258Z"
    },
    "papermill": {
     "duration": 0.015799,
     "end_time": "2024-07-14T20:05:15.613463",
     "exception": false,
     "start_time": "2024-07-14T20:05:15.597664",
     "status": "completed"
    },
    "tags": []
   },
   "outputs": [],
   "source": [
    "id_column = \"isic_id\"\n",
    "target_column = \"final_target\"\n",
    "group_column = \"patient_id\"\n",
    "drop_features = [\"image_type\"] + train_metadata.columns[~np.in1d(train_metadata.columns, test_metadata.columns)].tolist() # target column removed\n",
    "categorical_features = [\"sex\", \"anatom_site_general\", \n",
    "                        \"tbp_tile_type\", \"tbp_lv_location\", \"tbp_lv_location_simple\",\n",
    "                        \"attribution\", \"copyright_license\"\n",
    "                       ] + new_cat_cols\n",
    "numerical_features = train_metadata.columns[~np.in1d(train_metadata.columns, \n",
    "                                                     [id_column] + [group_column] + categorical_features + drop_features)]"
   ]
  },
  {
   "cell_type": "code",
   "execution_count": 7,
   "id": "3c93c4c5",
   "metadata": {
    "execution": {
     "iopub.execute_input": "2024-07-14T20:05:15.626202Z",
     "iopub.status.busy": "2024-07-14T20:05:15.625811Z",
     "iopub.status.idle": "2024-07-14T20:05:15.645503Z",
     "shell.execute_reply": "2024-07-14T20:05:15.644482Z"
    },
    "papermill": {
     "duration": 0.028965,
     "end_time": "2024-07-14T20:05:15.648010",
     "exception": false,
     "start_time": "2024-07-14T20:05:15.619045",
     "status": "completed"
    },
    "tags": []
   },
   "outputs": [
    {
     "data": {
      "text/html": [
       "<style>#sk-container-id-1 {color: black;background-color: white;}#sk-container-id-1 pre{padding: 0;}#sk-container-id-1 div.sk-toggleable {background-color: white;}#sk-container-id-1 label.sk-toggleable__label {cursor: pointer;display: block;width: 100%;margin-bottom: 0;padding: 0.3em;box-sizing: border-box;text-align: center;}#sk-container-id-1 label.sk-toggleable__label-arrow:before {content: \"▸\";float: left;margin-right: 0.25em;color: #696969;}#sk-container-id-1 label.sk-toggleable__label-arrow:hover:before {color: black;}#sk-container-id-1 div.sk-estimator:hover label.sk-toggleable__label-arrow:before {color: black;}#sk-container-id-1 div.sk-toggleable__content {max-height: 0;max-width: 0;overflow: hidden;text-align: left;background-color: #f0f8ff;}#sk-container-id-1 div.sk-toggleable__content pre {margin: 0.2em;color: black;border-radius: 0.25em;background-color: #f0f8ff;}#sk-container-id-1 input.sk-toggleable__control:checked~div.sk-toggleable__content {max-height: 200px;max-width: 100%;overflow: auto;}#sk-container-id-1 input.sk-toggleable__control:checked~label.sk-toggleable__label-arrow:before {content: \"▾\";}#sk-container-id-1 div.sk-estimator input.sk-toggleable__control:checked~label.sk-toggleable__label {background-color: #d4ebff;}#sk-container-id-1 div.sk-label input.sk-toggleable__control:checked~label.sk-toggleable__label {background-color: #d4ebff;}#sk-container-id-1 input.sk-hidden--visually {border: 0;clip: rect(1px 1px 1px 1px);clip: rect(1px, 1px, 1px, 1px);height: 1px;margin: -1px;overflow: hidden;padding: 0;position: absolute;width: 1px;}#sk-container-id-1 div.sk-estimator {font-family: monospace;background-color: #f0f8ff;border: 1px dotted black;border-radius: 0.25em;box-sizing: border-box;margin-bottom: 0.5em;}#sk-container-id-1 div.sk-estimator:hover {background-color: #d4ebff;}#sk-container-id-1 div.sk-parallel-item::after {content: \"\";width: 100%;border-bottom: 1px solid gray;flex-grow: 1;}#sk-container-id-1 div.sk-label:hover label.sk-toggleable__label {background-color: #d4ebff;}#sk-container-id-1 div.sk-serial::before {content: \"\";position: absolute;border-left: 1px solid gray;box-sizing: border-box;top: 0;bottom: 0;left: 50%;z-index: 0;}#sk-container-id-1 div.sk-serial {display: flex;flex-direction: column;align-items: center;background-color: white;padding-right: 0.2em;padding-left: 0.2em;position: relative;}#sk-container-id-1 div.sk-item {position: relative;z-index: 1;}#sk-container-id-1 div.sk-parallel {display: flex;align-items: stretch;justify-content: center;background-color: white;position: relative;}#sk-container-id-1 div.sk-item::before, #sk-container-id-1 div.sk-parallel-item::before {content: \"\";position: absolute;border-left: 1px solid gray;box-sizing: border-box;top: 0;bottom: 0;left: 50%;z-index: -1;}#sk-container-id-1 div.sk-parallel-item {display: flex;flex-direction: column;z-index: 1;position: relative;background-color: white;}#sk-container-id-1 div.sk-parallel-item:first-child::after {align-self: flex-end;width: 50%;}#sk-container-id-1 div.sk-parallel-item:last-child::after {align-self: flex-start;width: 50%;}#sk-container-id-1 div.sk-parallel-item:only-child::after {width: 0;}#sk-container-id-1 div.sk-dashed-wrapped {border: 1px dashed gray;margin: 0 0.4em 0.5em 0.4em;box-sizing: border-box;padding-bottom: 0.4em;background-color: white;}#sk-container-id-1 div.sk-label label {font-family: monospace;font-weight: bold;display: inline-block;line-height: 1.2em;}#sk-container-id-1 div.sk-label-container {text-align: center;}#sk-container-id-1 div.sk-container {/* jupyter's `normalize.less` sets `[hidden] { display: none; }` but bootstrap.min.css set `[hidden] { display: none !important; }` so we also need the `!important` here to be able to override the default hidden behavior on the sphinx rendered scikit-learn.org. See: https://github.com/scikit-learn/scikit-learn/issues/21755 */display: inline-block !important;position: relative;}#sk-container-id-1 div.sk-text-repr-fallback {display: none;}</style><div id=\"sk-container-id-1\" class=\"sk-top-container\"><div class=\"sk-text-repr-fallback\"><pre>ColumnTransformer(transformers=[(&#x27;numerical&#x27;, &#x27;passthrough&#x27;,\n",
       "                                 Index([&#x27;age_approx&#x27;, &#x27;clin_size_long_diam_mm&#x27;, &#x27;tbp_lv_A&#x27;, &#x27;tbp_lv_Aext&#x27;,\n",
       "       &#x27;tbp_lv_B&#x27;, &#x27;tbp_lv_Bext&#x27;, &#x27;tbp_lv_C&#x27;, &#x27;tbp_lv_Cext&#x27;, &#x27;tbp_lv_H&#x27;,\n",
       "       &#x27;tbp_lv_Hext&#x27;, &#x27;tbp_lv_L&#x27;, &#x27;tbp_lv_Lext&#x27;, &#x27;tbp_lv_areaMM2&#x27;,\n",
       "       &#x27;tbp_lv_area_perim_ratio&#x27;, &#x27;tbp_lv_color_std_mean&#x27;, &#x27;tbp_lv_deltaA&#x27;,\n",
       "       &#x27;tbp_lv_deltaB&#x27;, &#x27;tbp_lv_deltaL&#x27;, &#x27;tbp_l...\n",
       "       &#x27;normalized_lesion_size&#x27;, &#x27;overall_color_difference&#x27;, &#x27;num_images&#x27;],\n",
       "      dtype=&#x27;object&#x27;)),\n",
       "                                (&#x27;categorical&#x27;,\n",
       "                                 OrdinalEncoder(dtype=&lt;class &#x27;int&#x27;&gt;,\n",
       "                                                encoded_missing_value=-1,\n",
       "                                                handle_unknown=&#x27;use_encoded_value&#x27;,\n",
       "                                                unknown_value=-2),\n",
       "                                 [&#x27;sex&#x27;, &#x27;anatom_site_general&#x27;, &#x27;tbp_tile_type&#x27;,\n",
       "                                  &#x27;tbp_lv_location&#x27;, &#x27;tbp_lv_location_simple&#x27;,\n",
       "                                  &#x27;attribution&#x27;, &#x27;copyright_license&#x27;])],\n",
       "                  verbose_feature_names_out=False)</pre><b>In a Jupyter environment, please rerun this cell to show the HTML representation or trust the notebook. <br />On GitHub, the HTML representation is unable to render, please try loading this page with nbviewer.org.</b></div><div class=\"sk-container\" hidden><div class=\"sk-item sk-dashed-wrapped\"><div class=\"sk-label-container\"><div class=\"sk-label sk-toggleable\"><input class=\"sk-toggleable__control sk-hidden--visually\" id=\"sk-estimator-id-1\" type=\"checkbox\" ><label for=\"sk-estimator-id-1\" class=\"sk-toggleable__label sk-toggleable__label-arrow\">ColumnTransformer</label><div class=\"sk-toggleable__content\"><pre>ColumnTransformer(transformers=[(&#x27;numerical&#x27;, &#x27;passthrough&#x27;,\n",
       "                                 Index([&#x27;age_approx&#x27;, &#x27;clin_size_long_diam_mm&#x27;, &#x27;tbp_lv_A&#x27;, &#x27;tbp_lv_Aext&#x27;,\n",
       "       &#x27;tbp_lv_B&#x27;, &#x27;tbp_lv_Bext&#x27;, &#x27;tbp_lv_C&#x27;, &#x27;tbp_lv_Cext&#x27;, &#x27;tbp_lv_H&#x27;,\n",
       "       &#x27;tbp_lv_Hext&#x27;, &#x27;tbp_lv_L&#x27;, &#x27;tbp_lv_Lext&#x27;, &#x27;tbp_lv_areaMM2&#x27;,\n",
       "       &#x27;tbp_lv_area_perim_ratio&#x27;, &#x27;tbp_lv_color_std_mean&#x27;, &#x27;tbp_lv_deltaA&#x27;,\n",
       "       &#x27;tbp_lv_deltaB&#x27;, &#x27;tbp_lv_deltaL&#x27;, &#x27;tbp_l...\n",
       "       &#x27;normalized_lesion_size&#x27;, &#x27;overall_color_difference&#x27;, &#x27;num_images&#x27;],\n",
       "      dtype=&#x27;object&#x27;)),\n",
       "                                (&#x27;categorical&#x27;,\n",
       "                                 OrdinalEncoder(dtype=&lt;class &#x27;int&#x27;&gt;,\n",
       "                                                encoded_missing_value=-1,\n",
       "                                                handle_unknown=&#x27;use_encoded_value&#x27;,\n",
       "                                                unknown_value=-2),\n",
       "                                 [&#x27;sex&#x27;, &#x27;anatom_site_general&#x27;, &#x27;tbp_tile_type&#x27;,\n",
       "                                  &#x27;tbp_lv_location&#x27;, &#x27;tbp_lv_location_simple&#x27;,\n",
       "                                  &#x27;attribution&#x27;, &#x27;copyright_license&#x27;])],\n",
       "                  verbose_feature_names_out=False)</pre></div></div></div><div class=\"sk-parallel\"><div class=\"sk-parallel-item\"><div class=\"sk-item\"><div class=\"sk-label-container\"><div class=\"sk-label sk-toggleable\"><input class=\"sk-toggleable__control sk-hidden--visually\" id=\"sk-estimator-id-2\" type=\"checkbox\" ><label for=\"sk-estimator-id-2\" class=\"sk-toggleable__label sk-toggleable__label-arrow\">numerical</label><div class=\"sk-toggleable__content\"><pre>Index([&#x27;age_approx&#x27;, &#x27;clin_size_long_diam_mm&#x27;, &#x27;tbp_lv_A&#x27;, &#x27;tbp_lv_Aext&#x27;,\n",
       "       &#x27;tbp_lv_B&#x27;, &#x27;tbp_lv_Bext&#x27;, &#x27;tbp_lv_C&#x27;, &#x27;tbp_lv_Cext&#x27;, &#x27;tbp_lv_H&#x27;,\n",
       "       &#x27;tbp_lv_Hext&#x27;, &#x27;tbp_lv_L&#x27;, &#x27;tbp_lv_Lext&#x27;, &#x27;tbp_lv_areaMM2&#x27;,\n",
       "       &#x27;tbp_lv_area_perim_ratio&#x27;, &#x27;tbp_lv_color_std_mean&#x27;, &#x27;tbp_lv_deltaA&#x27;,\n",
       "       &#x27;tbp_lv_deltaB&#x27;, &#x27;tbp_lv_deltaL&#x27;, &#x27;tbp_lv_deltaLB&#x27;,\n",
       "       &#x27;tbp_lv_deltaLBnorm&#x27;, &#x27;tbp_lv_eccentricity&#x27;, &#x27;tbp_lv_minorAxisMM&#x27;,\n",
       "       &#x27;tbp_lv_nevi_confidence&#x27;, &#x27;tbp_lv_norm_border&#x27;, &#x27;tbp_lv_norm_color&#x27;,\n",
       "       &#x27;tbp_lv_perimeterMM&#x27;, &#x27;tbp_lv_radial_color_std_max&#x27;, &#x27;tbp_lv_stdL&#x27;,\n",
       "       &#x27;tbp_lv_stdLExt&#x27;, &#x27;tbp_lv_symm_2axis&#x27;, &#x27;tbp_lv_symm_2axis_angle&#x27;,\n",
       "       &#x27;tbp_lv_x&#x27;, &#x27;tbp_lv_y&#x27;, &#x27;tbp_lv_z&#x27;, &#x27;lesion_size_ratio&#x27;, &#x27;hue_contrast&#x27;,\n",
       "       &#x27;normalized_lesion_size&#x27;, &#x27;overall_color_difference&#x27;, &#x27;num_images&#x27;],\n",
       "      dtype=&#x27;object&#x27;)</pre></div></div></div><div class=\"sk-serial\"><div class=\"sk-item\"><div class=\"sk-estimator sk-toggleable\"><input class=\"sk-toggleable__control sk-hidden--visually\" id=\"sk-estimator-id-3\" type=\"checkbox\" ><label for=\"sk-estimator-id-3\" class=\"sk-toggleable__label sk-toggleable__label-arrow\">passthrough</label><div class=\"sk-toggleable__content\"><pre>passthrough</pre></div></div></div></div></div></div><div class=\"sk-parallel-item\"><div class=\"sk-item\"><div class=\"sk-label-container\"><div class=\"sk-label sk-toggleable\"><input class=\"sk-toggleable__control sk-hidden--visually\" id=\"sk-estimator-id-4\" type=\"checkbox\" ><label for=\"sk-estimator-id-4\" class=\"sk-toggleable__label sk-toggleable__label-arrow\">categorical</label><div class=\"sk-toggleable__content\"><pre>[&#x27;sex&#x27;, &#x27;anatom_site_general&#x27;, &#x27;tbp_tile_type&#x27;, &#x27;tbp_lv_location&#x27;, &#x27;tbp_lv_location_simple&#x27;, &#x27;attribution&#x27;, &#x27;copyright_license&#x27;]</pre></div></div></div><div class=\"sk-serial\"><div class=\"sk-item\"><div class=\"sk-estimator sk-toggleable\"><input class=\"sk-toggleable__control sk-hidden--visually\" id=\"sk-estimator-id-5\" type=\"checkbox\" ><label for=\"sk-estimator-id-5\" class=\"sk-toggleable__label sk-toggleable__label-arrow\">OrdinalEncoder</label><div class=\"sk-toggleable__content\"><pre>OrdinalEncoder(dtype=&lt;class &#x27;int&#x27;&gt;, encoded_missing_value=-1,\n",
       "               handle_unknown=&#x27;use_encoded_value&#x27;, unknown_value=-2)</pre></div></div></div></div></div></div></div></div></div></div>"
      ],
      "text/plain": [
       "ColumnTransformer(transformers=[('numerical', 'passthrough',\n",
       "                                 Index(['age_approx', 'clin_size_long_diam_mm', 'tbp_lv_A', 'tbp_lv_Aext',\n",
       "       'tbp_lv_B', 'tbp_lv_Bext', 'tbp_lv_C', 'tbp_lv_Cext', 'tbp_lv_H',\n",
       "       'tbp_lv_Hext', 'tbp_lv_L', 'tbp_lv_Lext', 'tbp_lv_areaMM2',\n",
       "       'tbp_lv_area_perim_ratio', 'tbp_lv_color_std_mean', 'tbp_lv_deltaA',\n",
       "       'tbp_lv_deltaB', 'tbp_lv_deltaL', 'tbp_l...\n",
       "       'normalized_lesion_size', 'overall_color_difference', 'num_images'],\n",
       "      dtype='object')),\n",
       "                                ('categorical',\n",
       "                                 OrdinalEncoder(dtype=<class 'int'>,\n",
       "                                                encoded_missing_value=-1,\n",
       "                                                handle_unknown='use_encoded_value',\n",
       "                                                unknown_value=-2),\n",
       "                                 ['sex', 'anatom_site_general', 'tbp_tile_type',\n",
       "                                  'tbp_lv_location', 'tbp_lv_location_simple',\n",
       "                                  'attribution', 'copyright_license'])],\n",
       "                  verbose_feature_names_out=False)"
      ]
     },
     "execution_count": 7,
     "metadata": {},
     "output_type": "execute_result"
    }
   ],
   "source": [
    "mixed_encoded_preprocessor = ColumnTransformer(\n",
    "    [\n",
    "        (\"numerical\", \"passthrough\", numerical_features),\n",
    "        (\n",
    "            \"categorical\",\n",
    "            OrdinalEncoder(handle_unknown=\"use_encoded_value\", unknown_value=-2, encoded_missing_value=-1, dtype=int),\n",
    "            categorical_features,\n",
    "        ),\n",
    "    ],\n",
    "    verbose_feature_names_out=False,\n",
    "\n",
    ")\n",
    "mixed_encoded_preprocessor.set_output(transform=\"pandas\")"
   ]
  },
  {
   "cell_type": "code",
   "execution_count": 8,
   "id": "7facb805",
   "metadata": {
    "execution": {
     "iopub.execute_input": "2024-07-14T20:05:15.661844Z",
     "iopub.status.busy": "2024-07-14T20:05:15.660938Z",
     "iopub.status.idle": "2024-07-14T20:05:15.667319Z",
     "shell.execute_reply": "2024-07-14T20:05:15.666227Z"
    },
    "papermill": {
     "duration": 0.015677,
     "end_time": "2024-07-14T20:05:15.669539",
     "exception": false,
     "start_time": "2024-07-14T20:05:15.653862",
     "status": "completed"
    },
    "tags": []
   },
   "outputs": [],
   "source": [
    "with open(f\"{cfg.model_name}_encoder.joblib\", \"wb\") as f:\n",
    "    joblib.dump(mixed_encoded_preprocessor, f)"
   ]
  },
  {
   "cell_type": "code",
   "execution_count": 9,
   "id": "c2decb76",
   "metadata": {
    "execution": {
     "iopub.execute_input": "2024-07-14T20:05:15.682649Z",
     "iopub.status.busy": "2024-07-14T20:05:15.682272Z",
     "iopub.status.idle": "2024-07-14T20:05:17.093009Z",
     "shell.execute_reply": "2024-07-14T20:05:17.091634Z"
    },
    "papermill": {
     "duration": 1.420285,
     "end_time": "2024-07-14T20:05:17.095693",
     "exception": false,
     "start_time": "2024-07-14T20:05:15.675408",
     "status": "completed"
    },
    "tags": []
   },
   "outputs": [],
   "source": [
    "train_ids = train_metadata[id_column]\n",
    "groups = train_metadata[group_column]\n",
    "folds = train_metadata[\"fold\"]\n",
    "\n",
    "enc = mixed_encoded_preprocessor.fit(train_metadata)\n",
    "X_train = enc.transform(train_metadata)\n",
    "y_train = train_metadata[target_column]"
   ]
  },
  {
   "cell_type": "code",
   "execution_count": 10,
   "id": "c717e02a",
   "metadata": {
    "execution": {
     "iopub.execute_input": "2024-07-14T20:05:17.109109Z",
     "iopub.status.busy": "2024-07-14T20:05:17.108748Z",
     "iopub.status.idle": "2024-07-14T20:05:17.114595Z",
     "shell.execute_reply": "2024-07-14T20:05:17.113409Z"
    },
    "papermill": {
     "duration": 0.015296,
     "end_time": "2024-07-14T20:05:17.116960",
     "exception": false,
     "start_time": "2024-07-14T20:05:17.101664",
     "status": "completed"
    },
    "tags": []
   },
   "outputs": [
    {
     "name": "stdout",
     "output_type": "stream",
     "text": [
      "Total number of columns: 46\n"
     ]
    }
   ],
   "source": [
    "columns_for_model = len(X_train.columns)\n",
    "print(f\"Total number of columns: {columns_for_model}\")"
   ]
  },
  {
   "cell_type": "code",
   "execution_count": 11,
   "id": "e24d6067",
   "metadata": {
    "execution": {
     "iopub.execute_input": "2024-07-14T20:05:17.130787Z",
     "iopub.status.busy": "2024-07-14T20:05:17.130383Z",
     "iopub.status.idle": "2024-07-14T20:05:17.136868Z",
     "shell.execute_reply": "2024-07-14T20:05:17.135783Z"
    },
    "papermill": {
     "duration": 0.01626,
     "end_time": "2024-07-14T20:05:17.139165",
     "exception": false,
     "start_time": "2024-07-14T20:05:17.122905",
     "status": "completed"
    },
    "tags": []
   },
   "outputs": [],
   "source": [
    "class PAUC:\n",
    "    def get_final_error(self, error, weight):\n",
    "        return error\n",
    "\n",
    "    def is_max_optimal(self):\n",
    "        return True\n",
    "\n",
    "    def evaluate(self, approxes, target, weight):\n",
    "        y_true = target.astype(int)\n",
    "        y_pred = approxes[0].astype(float)\n",
    "        \n",
    "        score = compute_pauc(y_true, y_pred, min_tpr=0.8)\n",
    "        \n",
    "        return score, 1.0"
   ]
  },
  {
   "cell_type": "code",
   "execution_count": 12,
   "id": "bfc720fa",
   "metadata": {
    "execution": {
     "iopub.execute_input": "2024-07-14T20:05:17.153023Z",
     "iopub.status.busy": "2024-07-14T20:05:17.152633Z",
     "iopub.status.idle": "2024-07-14T20:05:17.158477Z",
     "shell.execute_reply": "2024-07-14T20:05:17.157191Z"
    },
    "papermill": {
     "duration": 0.015453,
     "end_time": "2024-07-14T20:05:17.160647",
     "exception": false,
     "start_time": "2024-07-14T20:05:17.145194",
     "status": "completed"
    },
    "tags": []
   },
   "outputs": [],
   "source": [
    "params = {\n",
    "    \"objective\": \"Logloss\",\n",
    "#     \"boosting_type\": \"Ordered\",\n",
    "    \"iterations\": 3000,\n",
    "    \"learning_rate\": 0.05,\n",
    "    \"max_depth\": 8,\n",
    "    \"l2_leaf_reg\": 5,\n",
    "    \"verbose\": 50,\n",
    "    \"custom_metric\": \"AUC\",\n",
    "    \"random_state\": cfg.seed,\n",
    "}\n",
    "es_rounds = 200"
   ]
  },
  {
   "cell_type": "code",
   "execution_count": 13,
   "id": "89ee5409",
   "metadata": {
    "execution": {
     "iopub.execute_input": "2024-07-14T20:05:17.174004Z",
     "iopub.status.busy": "2024-07-14T20:05:17.173634Z",
     "iopub.status.idle": "2024-07-14T20:37:53.225875Z",
     "shell.execute_reply": "2024-07-14T20:37:53.224097Z"
    },
    "papermill": {
     "duration": 1956.062905,
     "end_time": "2024-07-14T20:37:53.229426",
     "exception": false,
     "start_time": "2024-07-14T20:05:17.166521",
     "status": "completed"
    },
    "tags": []
   },
   "outputs": [
    {
     "name": "stdout",
     "output_type": "stream",
     "text": [
      "Running fold: 1\n"
     ]
    },
    {
     "name": "stderr",
     "output_type": "stream",
     "text": [
      "Warning: Overfitting detector is active, thus evaluation metric is calculated on every iteration. 'metric_period' is ignored for evaluation metric.\n",
      "/opt/conda/lib/python3.10/site-packages/catboost/core.py:1780: UserWarning: Failed to optimize method \"evaluate\" in the passed object:\n",
      "Failed in nopython mode pipeline (step: nopython frontend)\n",
      "\u001b[1mUntyped global name 'compute_pauc':\u001b[0m \u001b[1m\u001b[1mCannot determine Numba type of <class 'function'>\u001b[0m\n",
      "\u001b[1m\n",
      "File \"../../tmp/ipykernel_18/1392371515.py\", line 12:\u001b[0m\n",
      "\u001b[1m<source missing, REPL/exec in use?>\u001b[0m\n",
      "\u001b[0m\n",
      "  self._object._train(train_pool, test_pool, params, allow_clear_pool, init_model._object if init_model else None)\n"
     ]
    },
    {
     "name": "stdout",
     "output_type": "stream",
     "text": [
      "0:\tlearn: 0.0773160\ttest: 0.0667397\tbest: 0.0667397 (0)\ttotal: 1.83s\tremaining: 1h 31m 26s\n",
      "50:\tlearn: 0.1617511\ttest: 0.1427070\tbest: 0.1427920 (49)\ttotal: 29.6s\tremaining: 28m 33s\n",
      "100:\tlearn: 0.1695377\ttest: 0.1510287\tbest: 0.1510287 (100)\ttotal: 56.3s\tremaining: 26m 56s\n",
      "150:\tlearn: 0.1749511\ttest: 0.1523460\tbest: 0.1531773 (138)\ttotal: 1m 23s\tremaining: 26m 13s\n",
      "200:\tlearn: 0.1792676\ttest: 0.1558899\tbest: 0.1562087 (199)\ttotal: 1m 49s\tremaining: 25m 31s\n",
      "250:\tlearn: 0.1824340\ttest: 0.1556460\tbest: 0.1564580 (215)\ttotal: 2m 15s\tremaining: 24m 47s\n",
      "300:\tlearn: 0.1845519\ttest: 0.1561612\tbest: 0.1564580 (215)\ttotal: 2m 42s\tremaining: 24m 13s\n",
      "350:\tlearn: 0.1863370\ttest: 0.1563331\tbest: 0.1566920 (318)\ttotal: 3m 8s\tremaining: 23m 43s\n",
      "400:\tlearn: 0.1881107\ttest: 0.1569603\tbest: 0.1575768 (377)\ttotal: 3m 35s\tremaining: 23m 13s\n",
      "450:\tlearn: 0.1892066\ttest: 0.1562203\tbest: 0.1575768 (377)\ttotal: 4m 1s\tremaining: 22m 43s\n",
      "500:\tlearn: 0.1901295\ttest: 0.1560792\tbest: 0.1575768 (377)\ttotal: 4m 27s\tremaining: 22m 12s\n",
      "550:\tlearn: 0.1909694\ttest: 0.1567003\tbest: 0.1575768 (377)\ttotal: 4m 52s\tremaining: 21m 41s\n",
      "Stopped by overfitting detector  (200 iterations wait)\n",
      "\n",
      "bestTest = 0.1575768056\n",
      "bestIteration = 377\n",
      "\n",
      "Shrink model to first 378 iterations.\n",
      "\n",
      "\n",
      "Running fold: 2\n"
     ]
    },
    {
     "name": "stderr",
     "output_type": "stream",
     "text": [
      "Warning: Overfitting detector is active, thus evaluation metric is calculated on every iteration. 'metric_period' is ignored for evaluation metric.\n",
      "/opt/conda/lib/python3.10/site-packages/catboost/core.py:1780: UserWarning: Failed to optimize method \"evaluate\" in the passed object:\n",
      "Failed in nopython mode pipeline (step: nopython frontend)\n",
      "\u001b[1mUntyped global name 'compute_pauc':\u001b[0m \u001b[1m\u001b[1mCannot determine Numba type of <class 'function'>\u001b[0m\n",
      "\u001b[1m\n",
      "File \"../../tmp/ipykernel_18/1392371515.py\", line 12:\u001b[0m\n",
      "\u001b[1m<source missing, REPL/exec in use?>\u001b[0m\n",
      "\u001b[0m\n",
      "  self._object._train(train_pool, test_pool, params, allow_clear_pool, init_model._object if init_model else None)\n"
     ]
    },
    {
     "name": "stdout",
     "output_type": "stream",
     "text": [
      "0:\tlearn: 0.0797063\ttest: 0.0693681\tbest: 0.0693681 (0)\ttotal: 682ms\tremaining: 34m 3s\n",
      "50:\tlearn: 0.1645189\ttest: 0.1392392\tbest: 0.1392392 (50)\ttotal: 28.8s\tremaining: 27m 43s\n",
      "100:\tlearn: 0.1704676\ttest: 0.1454901\tbest: 0.1454901 (100)\ttotal: 54.4s\tremaining: 26m\n",
      "150:\tlearn: 0.1750580\ttest: 0.1473624\tbest: 0.1481590 (143)\ttotal: 1m 17s\tremaining: 24m 25s\n",
      "200:\tlearn: 0.1797583\ttest: 0.1500709\tbest: 0.1501549 (194)\ttotal: 1m 42s\tremaining: 23m 49s\n",
      "250:\tlearn: 0.1833866\ttest: 0.1539478\tbest: 0.1539478 (250)\ttotal: 2m 7s\tremaining: 23m 15s\n",
      "300:\tlearn: 0.1848204\ttest: 0.1555990\tbest: 0.1555990 (300)\ttotal: 2m 33s\tremaining: 22m 53s\n",
      "350:\tlearn: 0.1865480\ttest: 0.1566863\tbest: 0.1567282 (344)\ttotal: 2m 59s\tremaining: 22m 31s\n",
      "400:\tlearn: 0.1873926\ttest: 0.1577563\tbest: 0.1579346 (387)\ttotal: 3m 25s\tremaining: 22m 10s\n",
      "450:\tlearn: 0.1884949\ttest: 0.1591272\tbest: 0.1591272 (450)\ttotal: 3m 52s\tremaining: 21m 53s\n",
      "500:\tlearn: 0.1896205\ttest: 0.1601734\tbest: 0.1603777 (489)\ttotal: 4m 19s\tremaining: 21m 32s\n",
      "550:\tlearn: 0.1904839\ttest: 0.1613882\tbest: 0.1614337 (545)\ttotal: 4m 45s\tremaining: 21m 7s\n",
      "600:\tlearn: 0.1912882\ttest: 0.1617805\tbest: 0.1619909 (566)\ttotal: 5m 11s\tremaining: 20m 44s\n",
      "650:\tlearn: 0.1921329\ttest: 0.1617434\tbest: 0.1619909 (566)\ttotal: 5m 38s\tremaining: 20m 21s\n",
      "700:\tlearn: 0.1927091\ttest: 0.1621786\tbest: 0.1621786 (700)\ttotal: 6m 5s\tremaining: 19m 57s\n",
      "750:\tlearn: 0.1934200\ttest: 0.1627014\tbest: 0.1627015 (749)\ttotal: 6m 32s\tremaining: 19m 34s\n",
      "800:\tlearn: 0.1939126\ttest: 0.1630419\tbest: 0.1630419 (800)\ttotal: 6m 58s\tremaining: 19m 9s\n",
      "850:\tlearn: 0.1942910\ttest: 0.1634714\tbest: 0.1635813 (838)\ttotal: 7m 24s\tremaining: 18m 43s\n",
      "900:\tlearn: 0.1947241\ttest: 0.1642333\tbest: 0.1643379 (892)\ttotal: 7m 51s\tremaining: 18m 18s\n",
      "950:\tlearn: 0.1952281\ttest: 0.1638103\tbest: 0.1643810 (905)\ttotal: 8m 18s\tremaining: 17m 54s\n",
      "1000:\tlearn: 0.1955426\ttest: 0.1643299\tbest: 0.1645498 (997)\ttotal: 8m 45s\tremaining: 17m 30s\n",
      "1050:\tlearn: 0.1959060\ttest: 0.1646587\tbest: 0.1648441 (1033)\ttotal: 9m 12s\tremaining: 17m 5s\n",
      "1100:\tlearn: 0.1963197\ttest: 0.1651564\tbest: 0.1651564 (1100)\ttotal: 9m 40s\tremaining: 16m 41s\n",
      "1150:\tlearn: 0.1967126\ttest: 0.1662326\tbest: 0.1662326 (1150)\ttotal: 10m 7s\tremaining: 16m 16s\n",
      "1200:\tlearn: 0.1969835\ttest: 0.1670027\tbest: 0.1670258 (1199)\ttotal: 10m 35s\tremaining: 15m 52s\n",
      "1250:\tlearn: 0.1972384\ttest: 0.1672034\tbest: 0.1672492 (1224)\ttotal: 11m 2s\tremaining: 15m 26s\n",
      "1300:\tlearn: 0.1974314\ttest: 0.1672446\tbest: 0.1673592 (1269)\ttotal: 11m 29s\tremaining: 15m\n",
      "1350:\tlearn: 0.1977048\ttest: 0.1673977\tbest: 0.1676141 (1326)\ttotal: 11m 56s\tremaining: 14m 34s\n",
      "1400:\tlearn: 0.1978674\ttest: 0.1672281\tbest: 0.1676141 (1326)\ttotal: 12m 23s\tremaining: 14m 8s\n",
      "1450:\tlearn: 0.1980926\ttest: 0.1667318\tbest: 0.1676141 (1326)\ttotal: 12m 51s\tremaining: 13m 43s\n",
      "1500:\tlearn: 0.1982552\ttest: 0.1665638\tbest: 0.1676141 (1326)\ttotal: 13m 17s\tremaining: 13m 16s\n",
      "Stopped by overfitting detector  (200 iterations wait)\n",
      "\n",
      "bestTest = 0.1676140861\n",
      "bestIteration = 1326\n",
      "\n",
      "Shrink model to first 1327 iterations.\n",
      "\n",
      "\n",
      "Running fold: 3\n"
     ]
    },
    {
     "name": "stderr",
     "output_type": "stream",
     "text": [
      "Warning: Overfitting detector is active, thus evaluation metric is calculated on every iteration. 'metric_period' is ignored for evaluation metric.\n",
      "/opt/conda/lib/python3.10/site-packages/catboost/core.py:1780: UserWarning: Failed to optimize method \"evaluate\" in the passed object:\n",
      "Failed in nopython mode pipeline (step: nopython frontend)\n",
      "\u001b[1mUntyped global name 'compute_pauc':\u001b[0m \u001b[1m\u001b[1mCannot determine Numba type of <class 'function'>\u001b[0m\n",
      "\u001b[1m\n",
      "File \"../../tmp/ipykernel_18/1392371515.py\", line 12:\u001b[0m\n",
      "\u001b[1m<source missing, REPL/exec in use?>\u001b[0m\n",
      "\u001b[0m\n",
      "  self._object._train(train_pool, test_pool, params, allow_clear_pool, init_model._object if init_model else None)\n"
     ]
    },
    {
     "name": "stdout",
     "output_type": "stream",
     "text": [
      "0:\tlearn: 0.0837277\ttest: 0.0550993\tbest: 0.0550993 (0)\ttotal: 737ms\tremaining: 36m 49s\n",
      "50:\tlearn: 0.1692352\ttest: 0.1542168\tbest: 0.1542168 (50)\ttotal: 28.9s\tremaining: 27m 49s\n",
      "100:\tlearn: 0.1784490\ttest: 0.1569074\tbest: 0.1573890 (93)\ttotal: 56.5s\tremaining: 27m\n",
      "150:\tlearn: 0.1817130\ttest: 0.1589482\tbest: 0.1591586 (141)\ttotal: 1m 24s\tremaining: 26m 25s\n",
      "200:\tlearn: 0.1846809\ttest: 0.1603619\tbest: 0.1604668 (192)\ttotal: 1m 49s\tremaining: 25m 29s\n",
      "250:\tlearn: 0.1868858\ttest: 0.1618618\tbest: 0.1621593 (249)\ttotal: 2m 15s\tremaining: 24m 42s\n",
      "300:\tlearn: 0.1885287\ttest: 0.1621100\tbest: 0.1623176 (263)\ttotal: 2m 40s\tremaining: 24m 3s\n",
      "350:\tlearn: 0.1901712\ttest: 0.1617996\tbest: 0.1623176 (263)\ttotal: 3m 7s\tremaining: 23m 31s\n",
      "400:\tlearn: 0.1912355\ttest: 0.1613296\tbest: 0.1623176 (263)\ttotal: 3m 33s\tremaining: 23m 5s\n",
      "450:\tlearn: 0.1922869\ttest: 0.1608894\tbest: 0.1623176 (263)\ttotal: 4m\tremaining: 22m 37s\n",
      "Stopped by overfitting detector  (200 iterations wait)\n",
      "\n",
      "bestTest = 0.1623176424\n",
      "bestIteration = 263\n",
      "\n",
      "Shrink model to first 264 iterations.\n",
      "\n",
      "\n",
      "Running fold: 4\n"
     ]
    },
    {
     "name": "stderr",
     "output_type": "stream",
     "text": [
      "Warning: Overfitting detector is active, thus evaluation metric is calculated on every iteration. 'metric_period' is ignored for evaluation metric.\n",
      "/opt/conda/lib/python3.10/site-packages/catboost/core.py:1780: UserWarning: Failed to optimize method \"evaluate\" in the passed object:\n",
      "Failed in nopython mode pipeline (step: nopython frontend)\n",
      "\u001b[1mUntyped global name 'compute_pauc':\u001b[0m \u001b[1m\u001b[1mCannot determine Numba type of <class 'function'>\u001b[0m\n",
      "\u001b[1m\n",
      "File \"../../tmp/ipykernel_18/1392371515.py\", line 12:\u001b[0m\n",
      "\u001b[1m<source missing, REPL/exec in use?>\u001b[0m\n",
      "\u001b[0m\n",
      "  self._object._train(train_pool, test_pool, params, allow_clear_pool, init_model._object if init_model else None)\n"
     ]
    },
    {
     "name": "stdout",
     "output_type": "stream",
     "text": [
      "0:\tlearn: 0.0868856\ttest: 0.0594133\tbest: 0.0594133 (0)\ttotal: 714ms\tremaining: 35m 40s\n",
      "50:\tlearn: 0.1629072\ttest: 0.1484561\tbest: 0.1484561 (50)\ttotal: 28.2s\tremaining: 27m 12s\n",
      "100:\tlearn: 0.1739177\ttest: 0.1592293\tbest: 0.1593289 (99)\ttotal: 55.1s\tremaining: 26m 20s\n",
      "150:\tlearn: 0.1805194\ttest: 0.1615364\tbest: 0.1619004 (148)\ttotal: 1m 22s\tremaining: 25m 51s\n",
      "200:\tlearn: 0.1841056\ttest: 0.1628301\tbest: 0.1628301 (200)\ttotal: 1m 49s\tremaining: 25m 19s\n",
      "250:\tlearn: 0.1863896\ttest: 0.1641922\tbest: 0.1645619 (243)\ttotal: 2m 16s\tremaining: 24m 55s\n",
      "300:\tlearn: 0.1878141\ttest: 0.1646323\tbest: 0.1646340 (299)\ttotal: 2m 41s\tremaining: 24m 12s\n",
      "350:\tlearn: 0.1890722\ttest: 0.1657706\tbest: 0.1658341 (345)\ttotal: 3m 7s\tremaining: 23m 35s\n",
      "400:\tlearn: 0.1903008\ttest: 0.1659765\tbest: 0.1662885 (368)\ttotal: 3m 34s\tremaining: 23m 7s\n",
      "450:\tlearn: 0.1911273\ttest: 0.1658987\tbest: 0.1662885 (368)\ttotal: 4m\tremaining: 22m 41s\n",
      "500:\tlearn: 0.1921420\ttest: 0.1650067\tbest: 0.1662885 (368)\ttotal: 4m 26s\tremaining: 22m 11s\n",
      "550:\tlearn: 0.1926670\ttest: 0.1654889\tbest: 0.1662885 (368)\ttotal: 4m 52s\tremaining: 21m 40s\n",
      "Stopped by overfitting detector  (200 iterations wait)\n",
      "\n",
      "bestTest = 0.1662884839\n",
      "bestIteration = 368\n",
      "\n",
      "Shrink model to first 369 iterations.\n",
      "\n",
      "\n",
      "Running fold: 5\n"
     ]
    },
    {
     "name": "stderr",
     "output_type": "stream",
     "text": [
      "Warning: Overfitting detector is active, thus evaluation metric is calculated on every iteration. 'metric_period' is ignored for evaluation metric.\n",
      "/opt/conda/lib/python3.10/site-packages/catboost/core.py:1780: UserWarning: Failed to optimize method \"evaluate\" in the passed object:\n",
      "Failed in nopython mode pipeline (step: nopython frontend)\n",
      "\u001b[1mUntyped global name 'compute_pauc':\u001b[0m \u001b[1m\u001b[1mCannot determine Numba type of <class 'function'>\u001b[0m\n",
      "\u001b[1m\n",
      "File \"../../tmp/ipykernel_18/1392371515.py\", line 12:\u001b[0m\n",
      "\u001b[1m<source missing, REPL/exec in use?>\u001b[0m\n",
      "\u001b[0m\n",
      "  self._object._train(train_pool, test_pool, params, allow_clear_pool, init_model._object if init_model else None)\n"
     ]
    },
    {
     "name": "stdout",
     "output_type": "stream",
     "text": [
      "0:\tlearn: 0.0750779\ttest: 0.1049415\tbest: 0.1049415 (0)\ttotal: 708ms\tremaining: 35m 24s\n",
      "50:\tlearn: 0.1660872\ttest: 0.1446424\tbest: 0.1446424 (50)\ttotal: 28.3s\tremaining: 27m 17s\n",
      "100:\tlearn: 0.1751420\ttest: 0.1528695\tbest: 0.1528695 (100)\ttotal: 55.8s\tremaining: 26m 40s\n",
      "150:\tlearn: 0.1798026\ttest: 0.1589252\tbest: 0.1589252 (150)\ttotal: 1m 23s\tremaining: 26m 7s\n",
      "200:\tlearn: 0.1824342\ttest: 0.1584612\tbest: 0.1597190 (179)\ttotal: 1m 49s\tremaining: 25m 22s\n",
      "250:\tlearn: 0.1846858\ttest: 0.1595538\tbest: 0.1597299 (249)\ttotal: 2m 15s\tremaining: 24m 38s\n",
      "300:\tlearn: 0.1862431\ttest: 0.1617145\tbest: 0.1617948 (298)\ttotal: 2m 39s\tremaining: 23m 47s\n",
      "350:\tlearn: 0.1871104\ttest: 0.1618818\tbest: 0.1622370 (329)\ttotal: 3m 4s\tremaining: 23m 12s\n",
      "400:\tlearn: 0.1880379\ttest: 0.1611827\tbest: 0.1622370 (329)\ttotal: 3m 31s\tremaining: 22m 49s\n",
      "450:\tlearn: 0.1891804\ttest: 0.1608976\tbest: 0.1622370 (329)\ttotal: 3m 57s\tremaining: 22m 24s\n",
      "500:\tlearn: 0.1900282\ttest: 0.1595106\tbest: 0.1622370 (329)\ttotal: 4m 23s\tremaining: 21m 52s\n",
      "Stopped by overfitting detector  (200 iterations wait)\n",
      "\n",
      "bestTest = 0.1622369797\n",
      "bestIteration = 329\n",
      "\n",
      "Shrink model to first 330 iterations.\n",
      "\n",
      "\n"
     ]
    }
   ],
   "source": [
    "best_num_rounds = {}\n",
    "val_auc_scores = {}\n",
    "val_pauc_scores = {}\n",
    "all_folds = np.sort(folds.unique())\n",
    "oof_predictions = np.zeros(X_train.shape[0])\n",
    "for fold in all_folds:\n",
    "    print(f\"Running fold: {fold}\")\n",
    "    dev_index = folds != fold\n",
    "    val_index = folds == fold\n",
    "    \n",
    "    X_dev = X_train.loc[dev_index, :]\n",
    "    y_dev = y_train[dev_index]\n",
    "    \n",
    "    X_val = X_train.loc[val_index, :]\n",
    "    y_val = y_train[val_index]\n",
    "    \n",
    "    model = cb.CatBoostClassifier(**params, eval_metric=PAUC())\n",
    "    \n",
    "    cb_dataset_dev = cb.Pool(X_dev, y_dev, cat_features=categorical_features)\n",
    "    cb_dataset_val = cb.Pool(X_val, y_val, cat_features=categorical_features)\n",
    "    \n",
    "    model.fit(cb_dataset_dev, eval_set=cb_dataset_val, \n",
    "              early_stopping_rounds=es_rounds, \n",
    "              metric_period=params[\"verbose\"], use_best_model=True,\n",
    "              init_model=None)\n",
    "    model.save_model(MODELS_OUTPUT_PATH / f\"{cfg.model_name}_fold_{fold}.txt\")\n",
    "    best_num_rounds[f\"fold_{fold}\"] = model.best_iteration_\n",
    "    \n",
    "    val_preds = model.predict_proba(X_val)[:, -1]\n",
    "    val_pauc_scores[f\"fold_{fold}\"] = compute_pauc(y_val, val_preds)\n",
    "    val_auc_scores[f\"fold_{fold}\"] = compute_auc(y_val, val_preds)\n",
    "    oof_predictions[val_index] = val_preds\n",
    "    print(\"\\n\")"
   ]
  },
  {
   "cell_type": "code",
   "execution_count": 14,
   "id": "ce3e7e33",
   "metadata": {
    "execution": {
     "iopub.execute_input": "2024-07-14T20:37:53.259086Z",
     "iopub.status.busy": "2024-07-14T20:37:53.258672Z",
     "iopub.status.idle": "2024-07-14T20:37:54.652446Z",
     "shell.execute_reply": "2024-07-14T20:37:54.651215Z"
    },
    "papermill": {
     "duration": 1.411078,
     "end_time": "2024-07-14T20:37:54.654815",
     "exception": false,
     "start_time": "2024-07-14T20:37:53.243737",
     "status": "completed"
    },
    "tags": []
   },
   "outputs": [
    {
     "data": {
      "text/html": [
       "<div>\n",
       "<style scoped>\n",
       "    .dataframe tbody tr th:only-of-type {\n",
       "        vertical-align: middle;\n",
       "    }\n",
       "\n",
       "    .dataframe tbody tr th {\n",
       "        vertical-align: top;\n",
       "    }\n",
       "\n",
       "    .dataframe thead th {\n",
       "        text-align: right;\n",
       "    }\n",
       "</style>\n",
       "<table border=\"1\" class=\"dataframe\">\n",
       "  <thead>\n",
       "    <tr style=\"text-align: right;\">\n",
       "      <th></th>\n",
       "      <th>isic_id</th>\n",
       "      <th>patient_id</th>\n",
       "      <th>fold</th>\n",
       "      <th>final_target</th>\n",
       "      <th>oof_cb_v1</th>\n",
       "    </tr>\n",
       "  </thead>\n",
       "  <tbody>\n",
       "    <tr>\n",
       "      <th>0</th>\n",
       "      <td>ISIC_0015670</td>\n",
       "      <td>IP_1235828</td>\n",
       "      <td>4</td>\n",
       "      <td>0</td>\n",
       "      <td>0.000198</td>\n",
       "    </tr>\n",
       "    <tr>\n",
       "      <th>1</th>\n",
       "      <td>ISIC_0015845</td>\n",
       "      <td>IP_8170065</td>\n",
       "      <td>1</td>\n",
       "      <td>0</td>\n",
       "      <td>0.392500</td>\n",
       "    </tr>\n",
       "    <tr>\n",
       "      <th>2</th>\n",
       "      <td>ISIC_0015864</td>\n",
       "      <td>IP_6724798</td>\n",
       "      <td>5</td>\n",
       "      <td>0</td>\n",
       "      <td>0.000023</td>\n",
       "    </tr>\n",
       "    <tr>\n",
       "      <th>3</th>\n",
       "      <td>ISIC_0015902</td>\n",
       "      <td>IP_4111386</td>\n",
       "      <td>2</td>\n",
       "      <td>0</td>\n",
       "      <td>0.000018</td>\n",
       "    </tr>\n",
       "    <tr>\n",
       "      <th>4</th>\n",
       "      <td>ISIC_0024200</td>\n",
       "      <td>IP_8313778</td>\n",
       "      <td>1</td>\n",
       "      <td>0</td>\n",
       "      <td>0.000797</td>\n",
       "    </tr>\n",
       "  </tbody>\n",
       "</table>\n",
       "</div>"
      ],
      "text/plain": [
       "        isic_id  patient_id  fold  final_target  oof_cb_v1\n",
       "0  ISIC_0015670  IP_1235828     4             0   0.000198\n",
       "1  ISIC_0015845  IP_8170065     1             0   0.392500\n",
       "2  ISIC_0015864  IP_6724798     5             0   0.000023\n",
       "3  ISIC_0015902  IP_4111386     2             0   0.000018\n",
       "4  ISIC_0024200  IP_8313778     1             0   0.000797"
      ]
     },
     "execution_count": 14,
     "metadata": {},
     "output_type": "execute_result"
    }
   ],
   "source": [
    "oof_preds_df = pd.DataFrame({\n",
    "    id_column: train_ids,\n",
    "    group_column: groups,\n",
    "    \"fold\": folds,\n",
    "    target_column: y_train,\n",
    "    f\"oof_{cfg.model_name}\": oof_predictions\n",
    "})\n",
    "oof_preds_df.to_csv(f\"oof_preds_{cfg.model_name}.csv\", index=False)\n",
    "oof_preds_df.head()"
   ]
  },
  {
   "cell_type": "code",
   "execution_count": 15,
   "id": "5d260f47",
   "metadata": {
    "execution": {
     "iopub.execute_input": "2024-07-14T20:37:54.682177Z",
     "iopub.status.busy": "2024-07-14T20:37:54.681307Z",
     "iopub.status.idle": "2024-07-14T20:37:54.688119Z",
     "shell.execute_reply": "2024-07-14T20:37:54.687069Z"
    },
    "papermill": {
     "duration": 0.022727,
     "end_time": "2024-07-14T20:37:54.690194",
     "exception": false,
     "start_time": "2024-07-14T20:37:54.667467",
     "status": "completed"
    },
    "tags": []
   },
   "outputs": [
    {
     "data": {
      "text/plain": [
       "{'fold_1': 0.9442278150615123,\n",
       " 'fold_2': 0.9548778232358236,\n",
       " 'fold_3': 0.9505865395415009,\n",
       " 'fold_4': 0.9604536633762214,\n",
       " 'fold_5': 0.9512827552399264}"
      ]
     },
     "execution_count": 15,
     "metadata": {},
     "output_type": "execute_result"
    }
   ],
   "source": [
    "val_auc_scores"
   ]
  },
  {
   "cell_type": "code",
   "execution_count": 16,
   "id": "2c620e49",
   "metadata": {
    "execution": {
     "iopub.execute_input": "2024-07-14T20:37:54.717349Z",
     "iopub.status.busy": "2024-07-14T20:37:54.716973Z",
     "iopub.status.idle": "2024-07-14T20:37:54.723745Z",
     "shell.execute_reply": "2024-07-14T20:37:54.722580Z"
    },
    "papermill": {
     "duration": 0.023262,
     "end_time": "2024-07-14T20:37:54.726042",
     "exception": false,
     "start_time": "2024-07-14T20:37:54.702780",
     "status": "completed"
    },
    "tags": []
   },
   "outputs": [
    {
     "data": {
      "text/plain": [
       "{'fold_1': 0.1575768055646264,\n",
       " 'fold_2': 0.16761408614928966,\n",
       " 'fold_3': 0.16231764236063442,\n",
       " 'fold_4': 0.16628848385768302,\n",
       " 'fold_5': 0.16223697973913237}"
      ]
     },
     "execution_count": 16,
     "metadata": {},
     "output_type": "execute_result"
    }
   ],
   "source": [
    "val_pauc_scores"
   ]
  },
  {
   "cell_type": "code",
   "execution_count": 17,
   "id": "1c39a054",
   "metadata": {
    "execution": {
     "iopub.execute_input": "2024-07-14T20:37:54.753694Z",
     "iopub.status.busy": "2024-07-14T20:37:54.752830Z",
     "iopub.status.idle": "2024-07-14T20:37:54.993828Z",
     "shell.execute_reply": "2024-07-14T20:37:54.992374Z"
    },
    "papermill": {
     "duration": 0.25727,
     "end_time": "2024-07-14T20:37:54.996320",
     "exception": false,
     "start_time": "2024-07-14T20:37:54.739050",
     "status": "completed"
    },
    "tags": []
   },
   "outputs": [
    {
     "name": "stdout",
     "output_type": "stream",
     "text": [
      "CV AUC OOF: 0.9500921995411991\n",
      "CV PAUC OOF: 0.16129688470731848\n",
      "CV AUC AVG: 0.9522857192909969\n",
      "CV PAUC AVG: 0.16320679953427314\n"
     ]
    }
   ],
   "source": [
    "cv_auc_oof = compute_auc(oof_preds_df[target_column], oof_preds_df[f\"oof_{cfg.model_name}\"])\n",
    "cv_pauc_oof = compute_pauc(oof_preds_df[target_column], oof_preds_df[f\"oof_{cfg.model_name}\"], min_tpr=0.8)\n",
    "\n",
    "cv_auc_avg = np.mean(list(val_auc_scores.values()))\n",
    "cv_pauc_avg = np.mean(list(val_pauc_scores.values()))\n",
    "\n",
    "print(f\"CV AUC OOF: {cv_auc_oof}\")\n",
    "print(f\"CV PAUC OOF: {cv_pauc_oof}\")\n",
    "print(f\"CV AUC AVG: {cv_auc_avg}\")\n",
    "print(f\"CV PAUC AVG: {cv_pauc_avg}\")"
   ]
  },
  {
   "cell_type": "code",
   "execution_count": 18,
   "id": "cef53f8b",
   "metadata": {
    "execution": {
     "iopub.execute_input": "2024-07-14T20:37:55.024580Z",
     "iopub.status.busy": "2024-07-14T20:37:55.024166Z",
     "iopub.status.idle": "2024-07-14T20:37:55.031314Z",
     "shell.execute_reply": "2024-07-14T20:37:55.030288Z"
    },
    "papermill": {
     "duration": 0.024326,
     "end_time": "2024-07-14T20:37:55.033732",
     "exception": false,
     "start_time": "2024-07-14T20:37:55.009406",
     "status": "completed"
    },
    "tags": []
   },
   "outputs": [
    {
     "data": {
      "text/plain": [
       "{'objective': 'Logloss',\n",
       " 'iterations': 3000,\n",
       " 'learning_rate': 0.05,\n",
       " 'max_depth': 8,\n",
       " 'l2_leaf_reg': 5,\n",
       " 'verbose': 50,\n",
       " 'custom_metric': 'AUC',\n",
       " 'random_state': 2022}"
      ]
     },
     "execution_count": 18,
     "metadata": {},
     "output_type": "execute_result"
    }
   ],
   "source": [
    "params"
   ]
  },
  {
   "cell_type": "code",
   "execution_count": 19,
   "id": "fc4c33be",
   "metadata": {
    "execution": {
     "iopub.execute_input": "2024-07-14T20:37:55.061635Z",
     "iopub.status.busy": "2024-07-14T20:37:55.061204Z",
     "iopub.status.idle": "2024-07-14T20:37:55.067942Z",
     "shell.execute_reply": "2024-07-14T20:37:55.066693Z"
    },
    "papermill": {
     "duration": 0.023577,
     "end_time": "2024-07-14T20:37:55.070428",
     "exception": false,
     "start_time": "2024-07-14T20:37:55.046851",
     "status": "completed"
    },
    "tags": []
   },
   "outputs": [],
   "source": [
    "metadata = {\n",
    "    \"params\": params,\n",
    "    \"best_num_rounds\": best_num_rounds,\n",
    "    \"val_auc_scores\": val_auc_scores,\n",
    "    \"val_pauc_scores\": val_pauc_scores,\n",
    "    \"cv_auc_oof\": cv_auc_oof,\n",
    "    \"cv_pauc_oof\": cv_pauc_oof,\n",
    "    \"cv_auc_avg\": cv_auc_avg,\n",
    "    \"cv_pauc_avg\": cv_pauc_avg\n",
    "}\n",
    "\n",
    "with open(\"run_metadata.json\", \"w\") as f:\n",
    "    json.dump(metadata, f)"
   ]
  },
  {
   "cell_type": "code",
   "execution_count": null,
   "id": "653edfc4",
   "metadata": {
    "papermill": {
     "duration": 0.012474,
     "end_time": "2024-07-14T20:37:55.095858",
     "exception": false,
     "start_time": "2024-07-14T20:37:55.083384",
     "status": "completed"
    },
    "tags": []
   },
   "outputs": [],
   "source": []
  }
 ],
 "metadata": {
  "kaggle": {
   "accelerator": "none",
   "dataSources": [
    {
     "databundleVersionId": 9094797,
     "sourceId": 63056,
     "sourceType": "competition"
    },
    {
     "sourceId": 187439867,
     "sourceType": "kernelVersion"
    },
    {
     "sourceId": 187477024,
     "sourceType": "kernelVersion"
    }
   ],
   "dockerImageVersionId": 30746,
   "isGpuEnabled": false,
   "isInternetEnabled": false,
   "language": "python",
   "sourceType": "notebook"
  },
  "kernelspec": {
   "display_name": "Python 3",
   "language": "python",
   "name": "python3"
  },
  "language_info": {
   "codemirror_mode": {
    "name": "ipython",
    "version": 3
   },
   "file_extension": ".py",
   "mimetype": "text/x-python",
   "name": "python",
   "nbconvert_exporter": "python",
   "pygments_lexer": "ipython3",
   "version": "3.10.13"
  },
  "papermill": {
   "default_parameters": {},
   "duration": 1981.711897,
   "end_time": "2024-07-14T20:37:56.636133",
   "environment_variables": {},
   "exception": null,
   "input_path": "__notebook__.ipynb",
   "output_path": "__notebook__.ipynb",
   "parameters": {},
   "start_time": "2024-07-14T20:04:54.924236",
   "version": "2.5.0"
  }
 },
 "nbformat": 4,
 "nbformat_minor": 5
}
