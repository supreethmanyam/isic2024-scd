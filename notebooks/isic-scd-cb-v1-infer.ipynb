{
 "cells": [
  {
   "cell_type": "code",
   "execution_count": 1,
   "id": "a0cefd7b",
   "metadata": {
    "_cell_guid": "a30e467f-ec41-4133-b8d4-e794f559da50",
    "_uuid": "c0ebb1a4-b5f7-4a24-864f-eb38f15fed58",
    "collapsed": false,
    "execution": {
     "iopub.execute_input": "2024-07-25T23:12:22.763267Z",
     "iopub.status.busy": "2024-07-25T23:12:22.762815Z",
     "iopub.status.idle": "2024-07-25T23:12:28.807839Z",
     "shell.execute_reply": "2024-07-25T23:12:28.806609Z"
    },
    "jupyter": {
     "outputs_hidden": false
    },
    "papermill": {
     "duration": 6.0542,
     "end_time": "2024-07-25T23:12:28.810471",
     "exception": false,
     "start_time": "2024-07-25T23:12:22.756271",
     "status": "completed"
    },
    "tags": []
   },
   "outputs": [],
   "source": [
    "import json\n",
    "import joblib\n",
    "\n",
    "from pathlib import Path\n",
    "\n",
    "import pandas as pd\n",
    "import numpy as np\n",
    "\n",
    "import catboost as cb\n",
    "\n",
    "from isic_helper import DotDict, get_folds"
   ]
  },
  {
   "cell_type": "code",
   "execution_count": 2,
   "id": "61325c6c",
   "metadata": {
    "execution": {
     "iopub.execute_input": "2024-07-25T23:12:28.821371Z",
     "iopub.status.busy": "2024-07-25T23:12:28.820824Z",
     "iopub.status.idle": "2024-07-25T23:12:28.826027Z",
     "shell.execute_reply": "2024-07-25T23:12:28.824785Z"
    },
    "papermill": {
     "duration": 0.013002,
     "end_time": "2024-07-25T23:12:28.828259",
     "exception": false,
     "start_time": "2024-07-25T23:12:28.815257",
     "status": "completed"
    },
    "tags": []
   },
   "outputs": [],
   "source": [
    "cfg = DotDict()\n",
    "\n",
    "cfg.models_output_dir = \"models\"\n",
    "cfg.model_name = \"cb_v1\""
   ]
  },
  {
   "cell_type": "code",
   "execution_count": 3,
   "id": "182a1b2f",
   "metadata": {
    "execution": {
     "iopub.execute_input": "2024-07-25T23:12:28.838563Z",
     "iopub.status.busy": "2024-07-25T23:12:28.838201Z",
     "iopub.status.idle": "2024-07-25T23:12:28.843076Z",
     "shell.execute_reply": "2024-07-25T23:12:28.841924Z"
    },
    "papermill": {
     "duration": 0.012985,
     "end_time": "2024-07-25T23:12:28.845645",
     "exception": false,
     "start_time": "2024-07-25T23:12:28.832660",
     "status": "completed"
    },
    "tags": []
   },
   "outputs": [],
   "source": [
    "id_column = \"isic_id\"\n",
    "target_column = \"target\"\n",
    "group_column = \"patient_id\""
   ]
  },
  {
   "cell_type": "code",
   "execution_count": 4,
   "id": "101f2207",
   "metadata": {
    "execution": {
     "iopub.execute_input": "2024-07-25T23:12:28.856220Z",
     "iopub.status.busy": "2024-07-25T23:12:28.855836Z",
     "iopub.status.idle": "2024-07-25T23:12:28.872685Z",
     "shell.execute_reply": "2024-07-25T23:12:28.871431Z"
    },
    "papermill": {
     "duration": 0.024926,
     "end_time": "2024-07-25T23:12:28.875077",
     "exception": false,
     "start_time": "2024-07-25T23:12:28.850151",
     "status": "completed"
    },
    "tags": []
   },
   "outputs": [],
   "source": [
    "def count_features(df, col):\n",
    "    tmp = df[[id_column, group_column, col]].pivot_table(\n",
    "        values=id_column, \n",
    "        index=group_column, \n",
    "        columns=col, \n",
    "        aggfunc=\"count\", \n",
    "        fill_value=0)\n",
    "    feature_cols = tmp.columns.tolist()\n",
    "    tmp.reset_index(inplace=True)\n",
    "    tmp.index.name = None\n",
    "    df = df.merge(tmp, on=group_column, how=\"left\")\n",
    "    return df, feature_cols\n",
    "\n",
    "def mean_features(df, col, val):\n",
    "    tmp = df[[id_column, group_column, col, val]].pivot_table(\n",
    "        values=val, \n",
    "        index=group_column, \n",
    "        columns=col, \n",
    "        aggfunc=\"mean\", \n",
    "        fill_value=0)\n",
    "    tmp.columns = [f\"{c}_{val}_mean\" for c in tmp.columns.tolist()]\n",
    "    feature_cols = tmp.columns.tolist()\n",
    "    tmp.reset_index(inplace=True)\n",
    "    tmp.index.name = None\n",
    "    df = df.merge(tmp, on=group_column, how=\"left\")\n",
    "    return df, feature_cols\n",
    "\n",
    "\n",
    "def stat_features(df, group_cols, value_col, stats):\n",
    "    tmp = df.groupby(group_cols)[value_col].agg(stats)\n",
    "    tmp.columns = [f\"{value_col}_{stat}\" for stat in stats]\n",
    "    tmp.reset_index(inplace=True)\n",
    "    df = df.merge(tmp, on=group_cols, how=\"left\")\n",
    "    df[f\"{value_col}_mean_diff\"] = df[value_col] - df[f\"{value_col}_mean\"]\n",
    "    return df\n",
    "\n",
    "\n",
    "def feature_engineering(df):\n",
    "    new_num_cols = []\n",
    "    \n",
    "    df[\"lesion_size_ratio\"] = df[\"tbp_lv_minorAxisMM\"] / df[\"clin_size_long_diam_mm\"]\n",
    "    new_num_cols += [\"lesion_size_ratio\"]\n",
    "    \n",
    "    df[\"lesion_distance\"] = np.sqrt(df[\"tbp_lv_x\"]**2 + df[\"tbp_lv_y\"]**2 + df[\"tbp_lv_z\"]**2)\n",
    "    new_num_cols += [\"lesion_distance\"]\n",
    "    \n",
    "    df[\"hue_contrast\"] = df[\"tbp_lv_H\"] - df[\"tbp_lv_Hext\"]\n",
    "    df, feature_cols = mean_features(df, \"anatom_site_general\", \"hue_contrast\")\n",
    "    new_num_cols += feature_cols\n",
    "    \n",
    "    df, feature_cols = count_features(df, \"anatom_site_general\")\n",
    "    new_num_cols += feature_cols\n",
    "    \n",
    "    df[\"tbp_lv_A_diff\"] =  df[\"tbp_lv_Aext\"] - df[\"tbp_lv_A\"]\n",
    "    df = stat_features(df, [\"patient_id\", \"tbp_lv_location\"], \"tbp_lv_A_diff\", [\"mean\"])\n",
    "    new_num_cols += [\"tbp_lv_A_diff_mean_diff\"]\n",
    "    \n",
    "    df[\"tbp_lv_B_diff\"] =  df[\"tbp_lv_Bext\"] - df[\"tbp_lv_B\"]\n",
    "    df = stat_features(df, [\"patient_id\", \"tbp_lv_location\"], \"tbp_lv_B_diff\", [\"mean\"])\n",
    "    new_num_cols += [\"tbp_lv_B_diff_mean_diff\"]\n",
    "    \n",
    "    df[\"tbp_lv_L_diff\"] =  df[\"tbp_lv_Lext\"] - df[\"tbp_lv_L\"]\n",
    "    df = stat_features(df, [\"patient_id\", \"tbp_lv_location\"], \"tbp_lv_L_diff\", [\"mean\"])\n",
    "    new_num_cols += [\"tbp_lv_L_diff_mean_diff\"]\n",
    "    \n",
    "    df[\"tbp_lv_L_std_diff\"] =  df[\"tbp_lv_stdLExt\"] - df[\"tbp_lv_stdL\"]\n",
    "    df = stat_features(df, [\"patient_id\", \"tbp_lv_location\"], \"tbp_lv_L_std_diff\", [\"mean\"])\n",
    "    new_num_cols += [\"tbp_lv_L_std_diff_mean_diff\"]\n",
    "    \n",
    "    df[\"color_uniformity\"] = df[\"tbp_lv_color_std_mean\"] / df[\"tbp_lv_radial_color_std_max\"]\n",
    "    df, feature_cols = mean_features(df, \"anatom_site_general\", \"color_uniformity\")\n",
    "    new_num_cols += feature_cols\n",
    "    \n",
    "    df[\"radius\"] = np.cos(df[\"tbp_lv_symm_2axis_angle\"]) * np.sqrt(df[\"tbp_lv_x\"]**2 + df[\"tbp_lv_y\"]**2 + df[\"tbp_lv_z\"]**2)\n",
    "    new_num_cols += [\"radius\"]\n",
    "    \n",
    "    return df, new_num_cols"
   ]
  },
  {
   "cell_type": "code",
   "execution_count": 5,
   "id": "9d390482",
   "metadata": {
    "execution": {
     "iopub.execute_input": "2024-07-25T23:12:28.885646Z",
     "iopub.status.busy": "2024-07-25T23:12:28.885267Z",
     "iopub.status.idle": "2024-07-25T23:12:42.760840Z",
     "shell.execute_reply": "2024-07-25T23:12:42.759652Z"
    },
    "papermill": {
     "duration": 13.884497,
     "end_time": "2024-07-25T23:12:42.764053",
     "exception": false,
     "start_time": "2024-07-25T23:12:28.879556",
     "status": "completed"
    },
    "tags": []
   },
   "outputs": [
    {
     "name": "stdout",
     "output_type": "stream",
     "text": [
      "Train data size: (401059, 57)\n",
      "Test data size: (3, 44)\n"
     ]
    }
   ],
   "source": [
    "INPUT_PATH = Path(\"../input/isic-2024-challenge/\")\n",
    "ARTIFACTS_INPUT_PATH = Path(f\"../input/isic-scd-cb-v1-train/\")\n",
    "MODELS_INPUT_PATH = ARTIFACTS_INPUT_PATH / cfg.models_output_dir\n",
    "\n",
    "train_metadata = pd.read_csv(INPUT_PATH / \"train-metadata.csv\", low_memory=False)\n",
    "test_metadata = pd.read_csv(INPUT_PATH / \"test-metadata.csv\")\n",
    "\n",
    "folds_df = get_folds()\n",
    "train_metadata = train_metadata.merge(folds_df, on=[\"isic_id\", \"patient_id\"], how=\"inner\")\n",
    "print(f\"Train data size: {train_metadata.shape}\")\n",
    "print(f\"Test data size: {test_metadata.shape}\")\n",
    "\n",
    "train_metadata, new_num_cols = feature_engineering(train_metadata.copy())\n",
    "test_metadata, _ = feature_engineering(test_metadata.copy())"
   ]
  },
  {
   "cell_type": "code",
   "execution_count": 6,
   "id": "14c248cf",
   "metadata": {
    "execution": {
     "iopub.execute_input": "2024-07-25T23:12:42.779627Z",
     "iopub.status.busy": "2024-07-25T23:12:42.779223Z",
     "iopub.status.idle": "2024-07-25T23:12:43.413650Z",
     "shell.execute_reply": "2024-07-25T23:12:43.412347Z"
    },
    "papermill": {
     "duration": 0.644923,
     "end_time": "2024-07-25T23:12:43.416017",
     "exception": false,
     "start_time": "2024-07-25T23:12:42.771094",
     "status": "completed"
    },
    "tags": []
   },
   "outputs": [
    {
     "name": "stdout",
     "output_type": "stream",
     "text": [
      "Total number of columns: 60\n"
     ]
    }
   ],
   "source": [
    "with open(ARTIFACTS_INPUT_PATH / f\"{cfg.model_name}_encoder.joblib\", \"rb\") as f:\n",
    "    mixed_encoded_preprocessor = joblib.load(f)\n",
    "    \n",
    "enc = mixed_encoded_preprocessor.fit(train_metadata)\n",
    "\n",
    "for col in mixed_encoded_preprocessor.feature_names_in_:\n",
    "    if col not in test_metadata.columns:\n",
    "        test_metadata[col] = np.nan\n",
    "\n",
    "X_test = enc.transform(test_metadata)\n",
    "\n",
    "columns_for_model = len(X_test.columns)\n",
    "print(f\"Total number of columns: {columns_for_model}\")"
   ]
  },
  {
   "cell_type": "code",
   "execution_count": 7,
   "id": "ffa5ca76",
   "metadata": {
    "execution": {
     "iopub.execute_input": "2024-07-25T23:12:43.426745Z",
     "iopub.status.busy": "2024-07-25T23:12:43.426365Z",
     "iopub.status.idle": "2024-07-25T23:12:43.436270Z",
     "shell.execute_reply": "2024-07-25T23:12:43.435094Z"
    },
    "papermill": {
     "duration": 0.018304,
     "end_time": "2024-07-25T23:12:43.438848",
     "exception": false,
     "start_time": "2024-07-25T23:12:43.420544",
     "status": "completed"
    },
    "tags": []
   },
   "outputs": [],
   "source": [
    "folds = train_metadata[\"fold\"]\n",
    "\n",
    "with open(ARTIFACTS_INPUT_PATH / f\"{cfg.model_name}_run_metadata.json\", \"r\") as f:\n",
    "    run_metadata = json.load(f)"
   ]
  },
  {
   "cell_type": "code",
   "execution_count": 8,
   "id": "b23c1fd6",
   "metadata": {
    "execution": {
     "iopub.execute_input": "2024-07-25T23:12:43.449553Z",
     "iopub.status.busy": "2024-07-25T23:12:43.449185Z",
     "iopub.status.idle": "2024-07-25T23:12:43.676956Z",
     "shell.execute_reply": "2024-07-25T23:12:43.675934Z"
    },
    "papermill": {
     "duration": 0.236119,
     "end_time": "2024-07-25T23:12:43.679651",
     "exception": false,
     "start_time": "2024-07-25T23:12:43.443532",
     "status": "completed"
    },
    "tags": []
   },
   "outputs": [],
   "source": [
    "all_folds = np.sort(folds.unique())\n",
    "test_predictions_df = pd.DataFrame({id_column: test_metadata[id_column]})\n",
    "for fold in all_folds:\n",
    "    model = cb.CatBoostClassifier(use_best_model=True)\n",
    "    model.load_model(MODELS_INPUT_PATH / f\"{cfg.model_name}_fold_{fold}.txt\")\n",
    "    test_predictions_df[f\"fold_{fold}\"] = model.predict_proba(X_test)[:, -1]"
   ]
  },
  {
   "cell_type": "code",
   "execution_count": 9,
   "id": "91cfdfa2",
   "metadata": {
    "execution": {
     "iopub.execute_input": "2024-07-25T23:12:43.690872Z",
     "iopub.status.busy": "2024-07-25T23:12:43.690488Z",
     "iopub.status.idle": "2024-07-25T23:12:43.710074Z",
     "shell.execute_reply": "2024-07-25T23:12:43.708670Z"
    },
    "papermill": {
     "duration": 0.028347,
     "end_time": "2024-07-25T23:12:43.712930",
     "exception": false,
     "start_time": "2024-07-25T23:12:43.684583",
     "status": "completed"
    },
    "tags": []
   },
   "outputs": [
    {
     "data": {
      "text/html": [
       "<div>\n",
       "<style scoped>\n",
       "    .dataframe tbody tr th:only-of-type {\n",
       "        vertical-align: middle;\n",
       "    }\n",
       "\n",
       "    .dataframe tbody tr th {\n",
       "        vertical-align: top;\n",
       "    }\n",
       "\n",
       "    .dataframe thead th {\n",
       "        text-align: right;\n",
       "    }\n",
       "</style>\n",
       "<table border=\"1\" class=\"dataframe\">\n",
       "  <thead>\n",
       "    <tr style=\"text-align: right;\">\n",
       "      <th></th>\n",
       "      <th>isic_id</th>\n",
       "      <th>fold_1</th>\n",
       "      <th>fold_2</th>\n",
       "      <th>fold_3</th>\n",
       "      <th>fold_4</th>\n",
       "      <th>fold_5</th>\n",
       "    </tr>\n",
       "  </thead>\n",
       "  <tbody>\n",
       "    <tr>\n",
       "      <th>0</th>\n",
       "      <td>ISIC_0015657</td>\n",
       "      <td>0.000311</td>\n",
       "      <td>0.000110</td>\n",
       "      <td>0.000115</td>\n",
       "      <td>0.000127</td>\n",
       "      <td>0.000246</td>\n",
       "    </tr>\n",
       "    <tr>\n",
       "      <th>1</th>\n",
       "      <td>ISIC_0015729</td>\n",
       "      <td>0.000032</td>\n",
       "      <td>0.000002</td>\n",
       "      <td>0.000023</td>\n",
       "      <td>0.000007</td>\n",
       "      <td>0.000051</td>\n",
       "    </tr>\n",
       "    <tr>\n",
       "      <th>2</th>\n",
       "      <td>ISIC_0015740</td>\n",
       "      <td>0.000128</td>\n",
       "      <td>0.000064</td>\n",
       "      <td>0.000179</td>\n",
       "      <td>0.000120</td>\n",
       "      <td>0.000076</td>\n",
       "    </tr>\n",
       "  </tbody>\n",
       "</table>\n",
       "</div>"
      ],
      "text/plain": [
       "        isic_id    fold_1    fold_2    fold_3    fold_4    fold_5\n",
       "0  ISIC_0015657  0.000311  0.000110  0.000115  0.000127  0.000246\n",
       "1  ISIC_0015729  0.000032  0.000002  0.000023  0.000007  0.000051\n",
       "2  ISIC_0015740  0.000128  0.000064  0.000179  0.000120  0.000076"
      ]
     },
     "execution_count": 9,
     "metadata": {},
     "output_type": "execute_result"
    }
   ],
   "source": [
    "test_predictions_df.head()"
   ]
  },
  {
   "cell_type": "code",
   "execution_count": 10,
   "id": "7efda8da",
   "metadata": {
    "execution": {
     "iopub.execute_input": "2024-07-25T23:12:43.724698Z",
     "iopub.status.busy": "2024-07-25T23:12:43.724298Z",
     "iopub.status.idle": "2024-07-25T23:12:43.735265Z",
     "shell.execute_reply": "2024-07-25T23:12:43.733888Z"
    },
    "papermill": {
     "duration": 0.019514,
     "end_time": "2024-07-25T23:12:43.737790",
     "exception": false,
     "start_time": "2024-07-25T23:12:43.718276",
     "status": "completed"
    },
    "tags": []
   },
   "outputs": [],
   "source": [
    "test_predictions_df[target_column] = test_predictions_df[[f\"fold_{fold}\" for fold in all_folds]].mean(axis=1)"
   ]
  },
  {
   "cell_type": "code",
   "execution_count": 11,
   "id": "222546c4",
   "metadata": {
    "execution": {
     "iopub.execute_input": "2024-07-25T23:12:43.749594Z",
     "iopub.status.busy": "2024-07-25T23:12:43.748488Z",
     "iopub.status.idle": "2024-07-25T23:12:43.762802Z",
     "shell.execute_reply": "2024-07-25T23:12:43.761702Z"
    },
    "papermill": {
     "duration": 0.022366,
     "end_time": "2024-07-25T23:12:43.764952",
     "exception": false,
     "start_time": "2024-07-25T23:12:43.742586",
     "status": "completed"
    },
    "tags": []
   },
   "outputs": [
    {
     "data": {
      "text/html": [
       "<div>\n",
       "<style scoped>\n",
       "    .dataframe tbody tr th:only-of-type {\n",
       "        vertical-align: middle;\n",
       "    }\n",
       "\n",
       "    .dataframe tbody tr th {\n",
       "        vertical-align: top;\n",
       "    }\n",
       "\n",
       "    .dataframe thead th {\n",
       "        text-align: right;\n",
       "    }\n",
       "</style>\n",
       "<table border=\"1\" class=\"dataframe\">\n",
       "  <thead>\n",
       "    <tr style=\"text-align: right;\">\n",
       "      <th></th>\n",
       "      <th>isic_id</th>\n",
       "      <th>fold_1</th>\n",
       "      <th>fold_2</th>\n",
       "      <th>fold_3</th>\n",
       "      <th>fold_4</th>\n",
       "      <th>fold_5</th>\n",
       "      <th>target</th>\n",
       "    </tr>\n",
       "  </thead>\n",
       "  <tbody>\n",
       "    <tr>\n",
       "      <th>0</th>\n",
       "      <td>ISIC_0015657</td>\n",
       "      <td>0.000311</td>\n",
       "      <td>0.000110</td>\n",
       "      <td>0.000115</td>\n",
       "      <td>0.000127</td>\n",
       "      <td>0.000246</td>\n",
       "      <td>0.000182</td>\n",
       "    </tr>\n",
       "    <tr>\n",
       "      <th>1</th>\n",
       "      <td>ISIC_0015729</td>\n",
       "      <td>0.000032</td>\n",
       "      <td>0.000002</td>\n",
       "      <td>0.000023</td>\n",
       "      <td>0.000007</td>\n",
       "      <td>0.000051</td>\n",
       "      <td>0.000023</td>\n",
       "    </tr>\n",
       "    <tr>\n",
       "      <th>2</th>\n",
       "      <td>ISIC_0015740</td>\n",
       "      <td>0.000128</td>\n",
       "      <td>0.000064</td>\n",
       "      <td>0.000179</td>\n",
       "      <td>0.000120</td>\n",
       "      <td>0.000076</td>\n",
       "      <td>0.000113</td>\n",
       "    </tr>\n",
       "  </tbody>\n",
       "</table>\n",
       "</div>"
      ],
      "text/plain": [
       "        isic_id    fold_1    fold_2    fold_3    fold_4    fold_5    target\n",
       "0  ISIC_0015657  0.000311  0.000110  0.000115  0.000127  0.000246  0.000182\n",
       "1  ISIC_0015729  0.000032  0.000002  0.000023  0.000007  0.000051  0.000023\n",
       "2  ISIC_0015740  0.000128  0.000064  0.000179  0.000120  0.000076  0.000113"
      ]
     },
     "execution_count": 11,
     "metadata": {},
     "output_type": "execute_result"
    }
   ],
   "source": [
    "test_predictions_df.head()"
   ]
  },
  {
   "cell_type": "code",
   "execution_count": 12,
   "id": "f9644d78",
   "metadata": {
    "execution": {
     "iopub.execute_input": "2024-07-25T23:12:43.776358Z",
     "iopub.status.busy": "2024-07-25T23:12:43.775950Z",
     "iopub.status.idle": "2024-07-25T23:12:43.787203Z",
     "shell.execute_reply": "2024-07-25T23:12:43.786113Z"
    },
    "papermill": {
     "duration": 0.01962,
     "end_time": "2024-07-25T23:12:43.789520",
     "exception": false,
     "start_time": "2024-07-25T23:12:43.769900",
     "status": "completed"
    },
    "tags": []
   },
   "outputs": [
    {
     "data": {
      "text/plain": [
       "count    3.000000\n",
       "mean     0.000106\n",
       "std      0.000080\n",
       "min      0.000023\n",
       "25%      0.000068\n",
       "50%      0.000113\n",
       "75%      0.000148\n",
       "max      0.000182\n",
       "Name: target, dtype: float64"
      ]
     },
     "execution_count": 12,
     "metadata": {},
     "output_type": "execute_result"
    }
   ],
   "source": [
    "test_predictions_df[target_column].describe()"
   ]
  },
  {
   "cell_type": "code",
   "execution_count": 13,
   "id": "8c7fdab3",
   "metadata": {
    "execution": {
     "iopub.execute_input": "2024-07-25T23:12:43.801155Z",
     "iopub.status.busy": "2024-07-25T23:12:43.800759Z",
     "iopub.status.idle": "2024-07-25T23:12:43.812037Z",
     "shell.execute_reply": "2024-07-25T23:12:43.810967Z"
    },
    "papermill": {
     "duration": 0.019721,
     "end_time": "2024-07-25T23:12:43.814283",
     "exception": false,
     "start_time": "2024-07-25T23:12:43.794562",
     "status": "completed"
    },
    "tags": []
   },
   "outputs": [
    {
     "data": {
      "text/html": [
       "<div>\n",
       "<style scoped>\n",
       "    .dataframe tbody tr th:only-of-type {\n",
       "        vertical-align: middle;\n",
       "    }\n",
       "\n",
       "    .dataframe tbody tr th {\n",
       "        vertical-align: top;\n",
       "    }\n",
       "\n",
       "    .dataframe thead th {\n",
       "        text-align: right;\n",
       "    }\n",
       "</style>\n",
       "<table border=\"1\" class=\"dataframe\">\n",
       "  <thead>\n",
       "    <tr style=\"text-align: right;\">\n",
       "      <th></th>\n",
       "      <th>isic_id</th>\n",
       "      <th>target</th>\n",
       "    </tr>\n",
       "  </thead>\n",
       "  <tbody>\n",
       "    <tr>\n",
       "      <th>0</th>\n",
       "      <td>ISIC_0015657</td>\n",
       "      <td>0.000182</td>\n",
       "    </tr>\n",
       "    <tr>\n",
       "      <th>1</th>\n",
       "      <td>ISIC_0015729</td>\n",
       "      <td>0.000023</td>\n",
       "    </tr>\n",
       "    <tr>\n",
       "      <th>2</th>\n",
       "      <td>ISIC_0015740</td>\n",
       "      <td>0.000113</td>\n",
       "    </tr>\n",
       "  </tbody>\n",
       "</table>\n",
       "</div>"
      ],
      "text/plain": [
       "        isic_id    target\n",
       "0  ISIC_0015657  0.000182\n",
       "1  ISIC_0015729  0.000023\n",
       "2  ISIC_0015740  0.000113"
      ]
     },
     "execution_count": 13,
     "metadata": {},
     "output_type": "execute_result"
    }
   ],
   "source": [
    "test_predictions_df[[id_column, target_column]].head(10)"
   ]
  },
  {
   "cell_type": "code",
   "execution_count": 14,
   "id": "eea0d053",
   "metadata": {
    "execution": {
     "iopub.execute_input": "2024-07-25T23:12:43.826492Z",
     "iopub.status.busy": "2024-07-25T23:12:43.826092Z",
     "iopub.status.idle": "2024-07-25T23:12:43.835215Z",
     "shell.execute_reply": "2024-07-25T23:12:43.833947Z"
    },
    "papermill": {
     "duration": 0.018144,
     "end_time": "2024-07-25T23:12:43.837714",
     "exception": false,
     "start_time": "2024-07-25T23:12:43.819570",
     "status": "completed"
    },
    "tags": []
   },
   "outputs": [],
   "source": [
    "test_predictions_df[[id_column, target_column]].to_csv(\"submission.csv\", index=False)"
   ]
  },
  {
   "cell_type": "code",
   "execution_count": null,
   "id": "d76f439e",
   "metadata": {
    "papermill": {
     "duration": 0.00484,
     "end_time": "2024-07-25T23:12:43.847799",
     "exception": false,
     "start_time": "2024-07-25T23:12:43.842959",
     "status": "completed"
    },
    "tags": []
   },
   "outputs": [],
   "source": []
  }
 ],
 "metadata": {
  "kaggle": {
   "accelerator": "none",
   "dataSources": [
    {
     "databundleVersionId": 9094797,
     "sourceId": 63056,
     "sourceType": "competition"
    },
    {
     "sourceId": 187477024,
     "sourceType": "kernelVersion"
    },
    {
     "sourceId": 189656082,
     "sourceType": "kernelVersion"
    },
    {
     "sourceId": 189786208,
     "sourceType": "kernelVersion"
    }
   ],
   "dockerImageVersionId": 30732,
   "isGpuEnabled": false,
   "isInternetEnabled": false,
   "language": "python",
   "sourceType": "notebook"
  },
  "kernelspec": {
   "display_name": "Python 3",
   "language": "python",
   "name": "python3"
  },
  "language_info": {
   "codemirror_mode": {
    "name": "ipython",
    "version": 3
   },
   "file_extension": ".py",
   "mimetype": "text/x-python",
   "name": "python",
   "nbconvert_exporter": "python",
   "pygments_lexer": "ipython3",
   "version": "3.10.13"
  },
  "papermill": {
   "default_parameters": {},
   "duration": 25.128733,
   "end_time": "2024-07-25T23:12:44.976013",
   "environment_variables": {},
   "exception": null,
   "input_path": "__notebook__.ipynb",
   "output_path": "__notebook__.ipynb",
   "parameters": {},
   "start_time": "2024-07-25T23:12:19.847280",
   "version": "2.5.0"
  }
 },
 "nbformat": 4,
 "nbformat_minor": 5
}
