{
 "cells": [
  {
   "cell_type": "code",
   "execution_count": 1,
   "id": "9278bc3a",
   "metadata": {
    "_cell_guid": "b1076dfc-b9ad-4769-8c92-a6c4dae69d19",
    "_uuid": "8f2839f25d086af736a60e9eeb907d3b93b6e0e5",
    "execution": {
     "iopub.execute_input": "2024-07-13T04:59:59.802584Z",
     "iopub.status.busy": "2024-07-13T04:59:59.802173Z",
     "iopub.status.idle": "2024-07-13T05:00:09.000236Z",
     "shell.execute_reply": "2024-07-13T05:00:08.999422Z"
    },
    "papermill": {
     "duration": 9.208498,
     "end_time": "2024-07-13T05:00:09.002637",
     "exception": false,
     "start_time": "2024-07-13T04:59:59.794139",
     "status": "completed"
    },
    "tags": []
   },
   "outputs": [],
   "source": [
    "import json\n",
    "import joblib\n",
    "from tqdm import tqdm\n",
    "from pathlib import Path\n",
    "from timeit import default_timer as timer\n",
    "\n",
    "import pandas as pd\n",
    "import numpy as np\n",
    "from io import BytesIO\n",
    "from PIL import Image\n",
    "import h5py\n",
    "\n",
    "import torch\n",
    "import torch.nn as nn\n",
    "import torch.nn.functional as F\n",
    "from torch.utils.data import DataLoader, Dataset\n",
    "import albumentations as A\n",
    "from albumentations.pytorch import ToTensorV2\n",
    "from timm import create_model\n",
    "from torch.optim.lr_scheduler import OneCycleLR\n",
    "\n",
    "from accelerate import Accelerator\n",
    "\n",
    "from isic_helper import DotDict\n",
    "from isic_helper import get_folds\n",
    "from isic_helper import compute_auc, compute_pauc\n",
    "from isic_helper import set_seed\n",
    "from isic_helper import time_to_str"
   ]
  },
  {
   "cell_type": "code",
   "execution_count": 2,
   "id": "02f980fa",
   "metadata": {
    "execution": {
     "iopub.execute_input": "2024-07-13T05:00:09.015796Z",
     "iopub.status.busy": "2024-07-13T05:00:09.014981Z",
     "iopub.status.idle": "2024-07-13T05:00:09.021317Z",
     "shell.execute_reply": "2024-07-13T05:00:09.020449Z"
    },
    "papermill": {
     "duration": 0.014691,
     "end_time": "2024-07-13T05:00:09.023271",
     "exception": false,
     "start_time": "2024-07-13T05:00:09.008580",
     "status": "completed"
    },
    "tags": []
   },
   "outputs": [],
   "source": [
    "cfg = DotDict()\n",
    "cfg.infer = False\n",
    "cfg.cpu = False\n",
    "cfg.mixed_precision = \"fp16\"\n",
    "cfg.tta = True\n",
    "\n",
    "cfg.pos_ratio = 0.1\n",
    "\n",
    "cfg.image_size = 64\n",
    "cfg.lr = 5e-4\n",
    "cfg.num_epochs = 1\n",
    "cfg.seed = 2022\n",
    "cfg.train_batch_size = 256\n",
    "cfg.train_num_worker = 2\n",
    "cfg.val_batch_size = 256\n",
    "cfg.val_num_worker = 2\n",
    "cfg.log_every = 10\n",
    "\n",
    "cfg.models_output_dir = \"models\"\n",
    "cfg.model_name = \"resnet18_v1\""
   ]
  },
  {
   "cell_type": "code",
   "execution_count": 3,
   "id": "322bf122",
   "metadata": {
    "execution": {
     "iopub.execute_input": "2024-07-13T05:00:09.035258Z",
     "iopub.status.busy": "2024-07-13T05:00:09.034961Z",
     "iopub.status.idle": "2024-07-13T05:00:19.066466Z",
     "shell.execute_reply": "2024-07-13T05:00:19.065541Z"
    },
    "papermill": {
     "duration": 10.040085,
     "end_time": "2024-07-13T05:00:19.068785",
     "exception": false,
     "start_time": "2024-07-13T05:00:09.028700",
     "status": "completed"
    },
    "tags": []
   },
   "outputs": [
    {
     "name": "stdout",
     "output_type": "stream",
     "text": [
      "Train data size: (20053, 57)\n"
     ]
    }
   ],
   "source": [
    "INPUT_PATH = Path(\"../input/isic-2024-challenge/\")\n",
    "MODELS_OUTPUT_PATH = Path(f\"{cfg.models_output_dir}\")\n",
    "MODELS_OUTPUT_PATH.mkdir(exist_ok=True)\n",
    "\n",
    "train_metadata = pd.read_csv(INPUT_PATH / \"train-metadata.csv\", low_memory=False)\n",
    "train_images = h5py.File(INPUT_PATH / \"train-image.hdf5\", mode=\"r\")\n",
    "\n",
    "folds_df = get_folds()\n",
    "train_metadata = train_metadata.merge(folds_df, on=[\"isic_id\", \"patient_id\"], how=\"inner\")\n",
    "train_metadata = train_metadata.sample(frac=0.05, random_state=cfg.seed).reset_index(drop=True)\n",
    "print(f\"Train data size: {train_metadata.shape}\")"
   ]
  },
  {
   "cell_type": "code",
   "execution_count": 4,
   "id": "93b041a7",
   "metadata": {
    "execution": {
     "iopub.execute_input": "2024-07-13T05:00:19.082432Z",
     "iopub.status.busy": "2024-07-13T05:00:19.082108Z",
     "iopub.status.idle": "2024-07-13T05:00:19.087413Z",
     "shell.execute_reply": "2024-07-13T05:00:19.086637Z"
    },
    "papermill": {
     "duration": 0.013964,
     "end_time": "2024-07-13T05:00:19.089349",
     "exception": false,
     "start_time": "2024-07-13T05:00:19.075385",
     "status": "completed"
    },
    "tags": []
   },
   "outputs": [],
   "source": [
    "id_column = \"isic_id\"\n",
    "target_column = \"final_target\"\n",
    "group_column = \"patient_id\"\n",
    "\n",
    "train_ids = train_metadata[id_column]\n",
    "groups = train_metadata[group_column]\n",
    "folds = train_metadata[\"fold\"]\n",
    "y_train = train_metadata[target_column]"
   ]
  },
  {
   "cell_type": "code",
   "execution_count": 5,
   "id": "eb09be48",
   "metadata": {
    "execution": {
     "iopub.execute_input": "2024-07-13T05:00:19.101554Z",
     "iopub.status.busy": "2024-07-13T05:00:19.101264Z",
     "iopub.status.idle": "2024-07-13T05:00:19.185541Z",
     "shell.execute_reply": "2024-07-13T05:00:19.184762Z"
    },
    "papermill": {
     "duration": 0.092607,
     "end_time": "2024-07-13T05:00:19.187572",
     "exception": false,
     "start_time": "2024-07-13T05:00:19.094965",
     "status": "completed"
    },
    "tags": []
   },
   "outputs": [],
   "source": [
    "accelerator = Accelerator(cpu=cfg.cpu, mixed_precision=cfg.mixed_precision)"
   ]
  },
  {
   "cell_type": "code",
   "execution_count": 6,
   "id": "27fab5a1",
   "metadata": {
    "execution": {
     "iopub.execute_input": "2024-07-13T05:00:19.199872Z",
     "iopub.status.busy": "2024-07-13T05:00:19.199583Z",
     "iopub.status.idle": "2024-07-13T05:00:19.205956Z",
     "shell.execute_reply": "2024-07-13T05:00:19.205123Z"
    },
    "papermill": {
     "duration": 0.014584,
     "end_time": "2024-07-13T05:00:19.207822",
     "exception": false,
     "start_time": "2024-07-13T05:00:19.193238",
     "status": "completed"
    },
    "tags": []
   },
   "outputs": [
    {
     "data": {
      "text/plain": [
       "device(type='cuda')"
      ]
     },
     "execution_count": 6,
     "metadata": {},
     "output_type": "execute_result"
    }
   ],
   "source": [
    "accelerator.device"
   ]
  },
  {
   "cell_type": "code",
   "execution_count": 7,
   "id": "1aa6d73c",
   "metadata": {
    "execution": {
     "iopub.execute_input": "2024-07-13T05:00:19.220156Z",
     "iopub.status.busy": "2024-07-13T05:00:19.219869Z",
     "iopub.status.idle": "2024-07-13T05:00:19.237707Z",
     "shell.execute_reply": "2024-07-13T05:00:19.237065Z"
    },
    "papermill": {
     "duration": 0.02602,
     "end_time": "2024-07-13T05:00:19.239564",
     "exception": false,
     "start_time": "2024-07-13T05:00:19.213544",
     "status": "completed"
    },
    "tags": []
   },
   "outputs": [],
   "source": [
    "def dev_augment(image_size):\n",
    "    transform = A.Compose([\n",
    "        A.Transpose(p=0.5),\n",
    "        A.VerticalFlip(p=0.5),\n",
    "        A.HorizontalFlip(p=0.5),\n",
    "        A.RandomBrightnessContrast(brightness_limit=0.2, contrast_limit=0.2, p=0.75),\n",
    "        A.OneOf([\n",
    "            A.MotionBlur(blur_limit=5),\n",
    "            A.MedianBlur(blur_limit=5),\n",
    "            A.GaussianBlur(blur_limit=5),\n",
    "            A.GaussNoise(var_limit=(5.0, 30.0)),\n",
    "        ], p=0.7),\n",
    "\n",
    "        A.OneOf([\n",
    "            A.OpticalDistortion(distort_limit=1.0),\n",
    "            A.GridDistortion(num_steps=5, distort_limit=1.),\n",
    "            A.ElasticTransform(alpha=3),\n",
    "        ], p=0.7),\n",
    "\n",
    "        A.CLAHE(clip_limit=4.0, p=0.7),\n",
    "        A.HueSaturationValue(hue_shift_limit=10, sat_shift_limit=20, val_shift_limit=10, p=0.5),\n",
    "        A.ShiftScaleRotate(shift_limit=0.1, scale_limit=0.1, rotate_limit=15, border_mode=0, p=0.85),\n",
    "        A.Resize(image_size, image_size),\n",
    "#         A.Cutout(max_h_size=int(image_size * 0.375), max_w_size=int(image_size * 0.375), num_holes=1, p=0.7),\n",
    "        ToTensorV2()\n",
    "    ], p=1.)\n",
    "    return transform\n",
    "\n",
    "def val_augment(image_size):\n",
    "    transform = A.Compose([\n",
    "        A.Resize(image_size, image_size),\n",
    "#         A.Normalize(\n",
    "#             mean=[0., 0., 0.],\n",
    "#             std=[1, 1, 1],\n",
    "#             max_pixel_value=255.0,\n",
    "#             p=1.0\n",
    "#         ),\n",
    "        ToTensorV2()\n",
    "    ], p=1.)\n",
    "    return transform\n",
    "\n",
    "class ISICDataset(Dataset):\n",
    "    def __init__(self, metadata, images, augment, infer=False):\n",
    "        self.metadata = metadata\n",
    "        self.images = images\n",
    "        self.augment = augment\n",
    "        self.length = len(self.metadata)\n",
    "        self.infer = infer\n",
    "    \n",
    "    def __len__(self):\n",
    "        return self.length\n",
    "    \n",
    "    def __getitem__(self, index):\n",
    "        data = self.metadata.iloc[index]\n",
    "        \n",
    "        image = np.array(Image.open(BytesIO(self.images[data[id_column]][()])))\n",
    "        image = self.augment(image=image)[\"image\"]\n",
    "        \n",
    "        record = {\n",
    "            \"image\": image\n",
    "        }\n",
    "        \n",
    "        if not self.infer:\n",
    "            target = data[target_column]\n",
    "            record[\"target\"] = torch.tensor(target).float()\n",
    "        \n",
    "        return record\n",
    "\n",
    "class ISICNet(nn.Module):\n",
    "    def __init__(self, arch=\"resnet18\", pretrained=False, infer=False):\n",
    "        super(ISICNet, self).__init__()\n",
    "        self.infer = infer\n",
    "        self.model = create_model(model_name=arch, pretrained=pretrained, in_chans=3,  num_classes=0, global_pool='')\n",
    "        self.classifier = nn.Linear(self.model.num_features, 1)\n",
    "        \n",
    "        self.dropouts = nn.ModuleList([nn.Dropout(0.5) for i in range(5)])\n",
    "        \n",
    "    def forward(self, batch):\n",
    "        image = batch[\"image\"]\n",
    "        image = image.float() / 255\n",
    "        \n",
    "        x = self.model(image)\n",
    "        bs = len(image)\n",
    "        pool = F.adaptive_avg_pool2d(x, 1).reshape(bs,-1)\n",
    "        \n",
    "        if self.training:\n",
    "            logit = 0\n",
    "            for i in range(len(self.dropouts)):\n",
    "                logit += self.classifier(self.dropouts[i](pool))\n",
    "            logit = logit/len(self.dropouts)\n",
    "        else:\n",
    "            logit = self.classifier(pool)\n",
    "        return logit"
   ]
  },
  {
   "cell_type": "code",
   "execution_count": 8,
   "id": "daa55516",
   "metadata": {
    "execution": {
     "iopub.execute_input": "2024-07-13T05:00:19.251413Z",
     "iopub.status.busy": "2024-07-13T05:00:19.251160Z",
     "iopub.status.idle": "2024-07-13T05:00:19.258029Z",
     "shell.execute_reply": "2024-07-13T05:00:19.257203Z"
    },
    "papermill": {
     "duration": 0.014896,
     "end_time": "2024-07-13T05:00:19.259888",
     "exception": false,
     "start_time": "2024-07-13T05:00:19.244992",
     "status": "completed"
    },
    "tags": []
   },
   "outputs": [],
   "source": [
    "def make_over_sample(train_index, target, pos_ratio):\n",
    "    target_series = pd.Series(y_train, index=train_index)\n",
    "    \n",
    "    # Separate positive and negative indices\n",
    "    pos_indices = target_series[target_series == 1].index\n",
    "    neg_indices = target_series[target_series == 0].index\n",
    "    \n",
    "    # Calculate the number of positive samples needed\n",
    "    n_pos = len(pos_indices)\n",
    "    n_neg = len(neg_indices)\n",
    "    n_total = n_pos + n_neg\n",
    "    n_desired_pos = int((pos_ratio * n_total) / (1 - pos_ratio))\n",
    "    \n",
    "    # Oversample positive indices\n",
    "    if n_desired_pos > n_pos:\n",
    "        pos_indices_oversampled = np.random.choice(pos_indices, size=n_desired_pos, replace=True)\n",
    "    else:\n",
    "        pos_indices_oversampled = pos_indices\n",
    "    \n",
    "    ned_indices_undersampled = np.unique(np.random.choice(neg_indices, size=n_desired_pos * 3, replace=True))\n",
    "    \n",
    "    # Combine with negative indices\n",
    "    oversampled_indices = np.concatenate([ned_indices_undersampled, pos_indices_oversampled])\n",
    "    np.random.shuffle(oversampled_indices)\n",
    "    return oversampled_indices"
   ]
  },
  {
   "cell_type": "code",
   "execution_count": 9,
   "id": "88183b06",
   "metadata": {
    "execution": {
     "iopub.execute_input": "2024-07-13T05:00:19.272379Z",
     "iopub.status.busy": "2024-07-13T05:00:19.272122Z",
     "iopub.status.idle": "2024-07-13T05:04:13.190987Z",
     "shell.execute_reply": "2024-07-13T05:04:13.190023Z"
    },
    "papermill": {
     "duration": 233.927952,
     "end_time": "2024-07-13T05:04:13.193461",
     "exception": false,
     "start_time": "2024-07-13T05:00:19.265509",
     "status": "completed"
    },
    "tags": []
   },
   "outputs": [
    {
     "name": "stdout",
     "output_type": "stream",
     "text": [
      "Running fold: 1\n",
      "Dev data size after oversampling: (6369, 57)\n",
      "Val data size: (4013, 57)\n",
      "final_target\n",
      "0    0.720207\n",
      "1    0.279793\n",
      "Name: proportion, dtype: float64\n"
     ]
    },
    {
     "name": "stderr",
     "output_type": "stream",
     "text": [
      "/opt/conda/lib/python3.10/site-packages/albumentations/augmentations/blur/transforms.py:180: UserWarning: blur_limit and sigma_limit minimum value can not be both equal to 0. blur_limit minimum value changed to 3.\n",
      "  warnings.warn(\n"
     ]
    },
    {
     "data": {
      "application/vnd.jupyter.widget-view+json": {
       "model_id": "98b2639e0c9d48beadbe04f8ca0c1312",
       "version_major": 2,
       "version_minor": 0
      },
      "text/plain": [
       "model.safetensors:   0%|          | 0.00/46.8M [00:00<?, ?B/s]"
      ]
     },
     "metadata": {},
     "output_type": "display_data"
    },
    {
     "name": "stdout",
     "output_type": "stream",
     "text": [
      "Ready to train\n"
     ]
    },
    {
     "name": "stderr",
     "output_type": "stream",
     "text": [
      "100%|██████████| 25/25 [00:46<00:00,  1.88s/it]\n",
      "100%|██████████| 16/16 [00:10<00:00,  1.49it/s]\n"
     ]
    },
    {
     "name": "stdout",
     "output_type": "stream",
     "text": [
      "Epoch pauc: 0.11944167497507475 | Best auc: 0.5972083748753738 | Best pauc: 0.11944167497507475 | Best epoch: 0\n",
      "\n",
      "\n",
      "Running fold: 2\n",
      "Dev data size after oversampling: (6366, 57)\n",
      "Val data size: (4016, 57)\n",
      "final_target\n",
      "0    0.720232\n",
      "1    0.279768\n",
      "Name: proportion, dtype: float64\n"
     ]
    },
    {
     "name": "stderr",
     "output_type": "stream",
     "text": [
      "/opt/conda/lib/python3.10/site-packages/albumentations/augmentations/blur/transforms.py:180: UserWarning: blur_limit and sigma_limit minimum value can not be both equal to 0. blur_limit minimum value changed to 3.\n",
      "  warnings.warn(\n"
     ]
    },
    {
     "name": "stdout",
     "output_type": "stream",
     "text": [
      "Ready to train\n"
     ]
    },
    {
     "name": "stderr",
     "output_type": "stream",
     "text": [
      "100%|██████████| 25/25 [00:39<00:00,  1.60s/it]\n",
      "100%|██████████| 16/16 [00:07<00:00,  2.12it/s]\n"
     ]
    },
    {
     "name": "stdout",
     "output_type": "stream",
     "text": [
      "Epoch pauc: 0.08771492648891102 | Best auc: 0.6161641332336573 | Best pauc: 0.08771492648891102 | Best epoch: 0\n",
      "\n",
      "\n",
      "Running fold: 3\n",
      "Dev data size after oversampling: (6401, 57)\n",
      "Val data size: (3948, 57)\n",
      "final_target\n",
      "0    0.720512\n",
      "1    0.279488\n",
      "Name: proportion, dtype: float64\n"
     ]
    },
    {
     "name": "stderr",
     "output_type": "stream",
     "text": [
      "/opt/conda/lib/python3.10/site-packages/albumentations/augmentations/blur/transforms.py:180: UserWarning: blur_limit and sigma_limit minimum value can not be both equal to 0. blur_limit minimum value changed to 3.\n",
      "  warnings.warn(\n"
     ]
    },
    {
     "name": "stdout",
     "output_type": "stream",
     "text": [
      "Ready to train\n"
     ]
    },
    {
     "name": "stderr",
     "output_type": "stream",
     "text": [
      "100%|██████████| 26/26 [00:36<00:00,  1.42s/it]\n",
      "100%|██████████| 16/16 [00:06<00:00,  2.63it/s]\n"
     ]
    },
    {
     "name": "stdout",
     "output_type": "stream",
     "text": [
      "Epoch pauc: 0.018803852002027364 | Best auc: 0.2995438418651799 | Best pauc: 0.018803852002027364 | Best epoch: 0\n",
      "\n",
      "\n",
      "Running fold: 4\n",
      "Dev data size after oversampling: (6359, 57)\n",
      "Val data size: (4057, 57)\n",
      "final_target\n",
      "0    0.720554\n",
      "1    0.279446\n",
      "Name: proportion, dtype: float64\n"
     ]
    },
    {
     "name": "stderr",
     "output_type": "stream",
     "text": [
      "/opt/conda/lib/python3.10/site-packages/albumentations/augmentations/blur/transforms.py:180: UserWarning: blur_limit and sigma_limit minimum value can not be both equal to 0. blur_limit minimum value changed to 3.\n",
      "  warnings.warn(\n"
     ]
    },
    {
     "name": "stdout",
     "output_type": "stream",
     "text": [
      "Ready to train\n"
     ]
    },
    {
     "name": "stderr",
     "output_type": "stream",
     "text": [
      "100%|██████████| 25/25 [00:35<00:00,  1.43s/it]\n",
      "100%|██████████| 16/16 [00:05<00:00,  3.07it/s]\n"
     ]
    },
    {
     "name": "stdout",
     "output_type": "stream",
     "text": [
      "Epoch pauc: 0.11072749691738593 | Best auc: 0.5771886559802712 | Best pauc: 0.11072749691738593 | Best epoch: 0\n",
      "\n",
      "\n",
      "Running fold: 5\n",
      "Dev data size after oversampling: (6358, 57)\n",
      "Val data size: (4019, 57)\n",
      "final_target\n",
      "0    0.71988\n",
      "1    0.28012\n",
      "Name: proportion, dtype: float64\n"
     ]
    },
    {
     "name": "stderr",
     "output_type": "stream",
     "text": [
      "/opt/conda/lib/python3.10/site-packages/albumentations/augmentations/blur/transforms.py:180: UserWarning: blur_limit and sigma_limit minimum value can not be both equal to 0. blur_limit minimum value changed to 3.\n",
      "  warnings.warn(\n"
     ]
    },
    {
     "name": "stdout",
     "output_type": "stream",
     "text": [
      "Ready to train\n"
     ]
    },
    {
     "name": "stderr",
     "output_type": "stream",
     "text": [
      "100%|██████████| 25/25 [00:34<00:00,  1.38s/it]\n",
      "100%|██████████| 16/16 [00:04<00:00,  3.59it/s]\n"
     ]
    },
    {
     "name": "stdout",
     "output_type": "stream",
     "text": [
      "Epoch pauc: 0.023916292974588933 | Best auc: 0.36696562032884905 | Best pauc: 0.023916292974588933 | Best epoch: 0\n",
      "\n",
      "\n"
     ]
    }
   ],
   "source": [
    "best_num_epochs = {}\n",
    "val_auc_scores = {}\n",
    "val_pauc_scores = {}\n",
    "all_folds = np.sort(folds.unique())\n",
    "oof_predictions = np.zeros(train_metadata.shape[0])\n",
    "for fold in all_folds:\n",
    "    set_seed(cfg.seed)\n",
    "    \n",
    "    print(f\"Running fold: {fold}\")\n",
    "    dev_index = folds[folds != fold].index\n",
    "    val_index = folds[folds == fold].index\n",
    "    \n",
    "    oversampled_dev_index = make_over_sample(dev_index, y_train, cfg.pos_ratio)\n",
    "    \n",
    "    dev_metadata = train_metadata.loc[oversampled_dev_index, :].reset_index(drop=True);print(f\"Dev data size after oversampling: {dev_metadata.shape}\")\n",
    "    val_metadata = train_metadata.loc[val_index, :].reset_index(drop=True);print(f\"Val data size: {val_metadata.shape}\")\n",
    "    \n",
    "    print(dev_metadata[target_column].value_counts(normalize=True))\n",
    "    \n",
    "    dev_dataset = ISICDataset(dev_metadata, train_images, augment=dev_augment(image_size=cfg.image_size))\n",
    "    val_dataset = ISICDataset(val_metadata, train_images, augment=val_augment(image_size=cfg.image_size))\n",
    "\n",
    "    dev_dataloader = DataLoader(dev_dataset, shuffle=True, batch_size=cfg.train_batch_size, num_workers=cfg.train_num_worker, pin_memory=True)\n",
    "    val_dataloader = DataLoader(val_dataset, shuffle=False, batch_size=cfg.val_batch_size, num_workers=cfg.val_num_worker, drop_last=False, pin_memory=True)\n",
    "    \n",
    "    net = ISICNet(pretrained=True)\n",
    "    net = net.to(accelerator.device)\n",
    "        \n",
    "    optimizer = torch.optim.Adam(net.parameters(), lr=cfg.lr / 5)\n",
    "    lr_scheduler = OneCycleLR(optimizer=optimizer, max_lr=cfg.lr, epochs=cfg.num_epochs, steps_per_epoch=len(dev_dataloader))\n",
    "\n",
    "    net, optimizer, dev_dataloader, val_dataloader, lr_scheduler = accelerator.prepare(\n",
    "        net, optimizer, dev_dataloader, val_dataloader, lr_scheduler\n",
    "    )\n",
    "    \n",
    "    print(\"Ready to train\")\n",
    "    \n",
    "    overall_step = 0\n",
    "    starting_epoch = 0\n",
    "    best_pauc_score = -np.Inf\n",
    "    best_auc_score = -np.Inf\n",
    "    best_epoch = None\n",
    "    best_val_preds = None\n",
    "\n",
    "    for epoch in range(starting_epoch, cfg.num_epochs):\n",
    "        net.train()\n",
    "        for step, batch in tqdm(enumerate(dev_dataloader), total=len(dev_dataloader)):\n",
    "            # We could avoid this line since we set the accelerator with `device_placement=True`.\n",
    "            batch = {k: v.to(accelerator.device) for k, v in batch.items()}\n",
    "            optimizer.zero_grad()\n",
    "            outputs = net(batch)\n",
    "            loss = F.binary_cross_entropy_with_logits(outputs, batch[\"target\"].unsqueeze(1))\n",
    "            accelerator.backward(loss)\n",
    "            optimizer.step()\n",
    "            lr_scheduler.step()\n",
    "\n",
    "        net.eval()\n",
    "        val_preds = []\n",
    "        val_y = []\n",
    "        for step, batch in tqdm(enumerate(val_dataloader), total=len(val_dataloader)):\n",
    "            # We could avoid this line since we set the accelerator with `device_placement=True`.\n",
    "            batch = {k: v.to(accelerator.device) for k, v in batch.items()}\n",
    "            image0 = batch['image'].clone().detach()\n",
    "            val_preds_batch = 0\n",
    "            counter = 0\n",
    "            with torch.no_grad():\n",
    "                outputs = net(batch)\n",
    "            preds = torch.sigmoid(outputs)\n",
    "            val_y_batch = batch[\"target\"]\n",
    "            preds, val_y_batch = accelerator.gather_for_metrics((preds, val_y_batch))\n",
    "            val_preds_batch += preds.data.cpu().numpy().reshape(-1)\n",
    "            counter += 1\n",
    "            if cfg.tta:\n",
    "                batch[\"image\"] = torch.flip(image0,dims=[2])\n",
    "                with torch.no_grad():\n",
    "                    outputs = net(batch)\n",
    "                preds = torch.sigmoid(outputs)\n",
    "                preds = accelerator.gather_for_metrics((preds))\n",
    "                val_preds_batch += preds.data.cpu().numpy().reshape(-1)\n",
    "                counter += 1\n",
    "                \n",
    "                batch[\"image\"] = torch.flip(image0,dims=[3])\n",
    "                with torch.no_grad():\n",
    "                    outputs = net(batch)\n",
    "                preds = torch.sigmoid(outputs)\n",
    "                preds = accelerator.gather_for_metrics((preds))\n",
    "                val_preds_batch += preds.data.cpu().numpy().reshape(-1)\n",
    "                counter += 1\n",
    "                \n",
    "                for k in [1, 2, 3]:\n",
    "                    batch[\"image\"] = torch.rot90(image0,k, dims=[2, 3])\n",
    "                    with torch.no_grad():\n",
    "                        outputs = net(batch)\n",
    "                    preds = torch.sigmoid(outputs)\n",
    "                    preds = accelerator.gather_for_metrics((preds))\n",
    "                    val_preds_batch += preds.data.cpu().numpy().reshape(-1)\n",
    "                    counter += 1\n",
    "            val_preds_batch = val_preds_batch / counter   \n",
    "            val_preds.append(val_preds_batch)    \n",
    "            val_y.append(val_y_batch.data.cpu().numpy().reshape(-1))\n",
    "            \n",
    "        val_preds = np.concatenate(val_preds)\n",
    "        val_y = np.concatenate(val_y)\n",
    "        auc = compute_auc(val_y, val_preds) \n",
    "        pauc = compute_pauc(val_y, val_preds, min_tpr=0.80)\n",
    "        \n",
    "        if pauc >= best_pauc_score:\n",
    "            best_auc_score = auc\n",
    "            best_pauc_score = pauc\n",
    "            best_epoch = epoch\n",
    "            best_val_preds = val_preds\n",
    "        print(f\"Epoch pauc: {pauc} | Best auc: {best_auc_score} | Best pauc: {best_pauc_score} | Best epoch: {best_epoch}\")\n",
    "        \n",
    "        output_dir = f\"fold_{fold}/model_{cfg.model_name}_epoch_{epoch}\"\n",
    "        if cfg.models_output_dir is not None:\n",
    "            output_dir = Path(f\"{cfg.models_output_dir}/{output_dir}\")\n",
    "        accelerator.save_state(output_dir)\n",
    "    \n",
    "    best_num_epochs[f\"fold_{fold}\"] = best_epoch\n",
    "    val_auc_scores[f\"fold_{fold}\"] = best_auc_score\n",
    "    val_pauc_scores[f\"fold_{fold}\"] = best_pauc_score\n",
    "    \n",
    "    oof_predictions[val_index] = best_val_preds\n",
    "    print(\"\\n\")\n",
    "#     break"
   ]
  },
  {
   "cell_type": "code",
   "execution_count": 10,
   "id": "f822e5b0",
   "metadata": {
    "execution": {
     "iopub.execute_input": "2024-07-13T05:04:13.245043Z",
     "iopub.status.busy": "2024-07-13T05:04:13.244737Z",
     "iopub.status.idle": "2024-07-13T05:04:13.367300Z",
     "shell.execute_reply": "2024-07-13T05:04:13.366376Z"
    },
    "papermill": {
     "duration": 0.150404,
     "end_time": "2024-07-13T05:04:13.369260",
     "exception": false,
     "start_time": "2024-07-13T05:04:13.218856",
     "status": "completed"
    },
    "tags": []
   },
   "outputs": [
    {
     "data": {
      "text/html": [
       "<div>\n",
       "<style scoped>\n",
       "    .dataframe tbody tr th:only-of-type {\n",
       "        vertical-align: middle;\n",
       "    }\n",
       "\n",
       "    .dataframe tbody tr th {\n",
       "        vertical-align: top;\n",
       "    }\n",
       "\n",
       "    .dataframe thead th {\n",
       "        text-align: right;\n",
       "    }\n",
       "</style>\n",
       "<table border=\"1\" class=\"dataframe\">\n",
       "  <thead>\n",
       "    <tr style=\"text-align: right;\">\n",
       "      <th></th>\n",
       "      <th>isic_id</th>\n",
       "      <th>patient_id</th>\n",
       "      <th>fold</th>\n",
       "      <th>final_target</th>\n",
       "      <th>oof_resnet18_v1</th>\n",
       "    </tr>\n",
       "  </thead>\n",
       "  <tbody>\n",
       "    <tr>\n",
       "      <th>0</th>\n",
       "      <td>ISIC_3531602</td>\n",
       "      <td>IP_9742855</td>\n",
       "      <td>2</td>\n",
       "      <td>0</td>\n",
       "      <td>0.448608</td>\n",
       "    </tr>\n",
       "    <tr>\n",
       "      <th>1</th>\n",
       "      <td>ISIC_3939264</td>\n",
       "      <td>IP_0028775</td>\n",
       "      <td>3</td>\n",
       "      <td>0</td>\n",
       "      <td>0.266442</td>\n",
       "    </tr>\n",
       "    <tr>\n",
       "      <th>2</th>\n",
       "      <td>ISIC_7485201</td>\n",
       "      <td>IP_3864041</td>\n",
       "      <td>4</td>\n",
       "      <td>0</td>\n",
       "      <td>0.233626</td>\n",
       "    </tr>\n",
       "    <tr>\n",
       "      <th>3</th>\n",
       "      <td>ISIC_8613136</td>\n",
       "      <td>IP_3549978</td>\n",
       "      <td>3</td>\n",
       "      <td>0</td>\n",
       "      <td>0.273575</td>\n",
       "    </tr>\n",
       "    <tr>\n",
       "      <th>4</th>\n",
       "      <td>ISIC_4447313</td>\n",
       "      <td>IP_4549819</td>\n",
       "      <td>4</td>\n",
       "      <td>0</td>\n",
       "      <td>0.385062</td>\n",
       "    </tr>\n",
       "  </tbody>\n",
       "</table>\n",
       "</div>"
      ],
      "text/plain": [
       "        isic_id  patient_id  fold  final_target  oof_resnet18_v1\n",
       "0  ISIC_3531602  IP_9742855     2             0         0.448608\n",
       "1  ISIC_3939264  IP_0028775     3             0         0.266442\n",
       "2  ISIC_7485201  IP_3864041     4             0         0.233626\n",
       "3  ISIC_8613136  IP_3549978     3             0         0.273575\n",
       "4  ISIC_4447313  IP_4549819     4             0         0.385062"
      ]
     },
     "execution_count": 10,
     "metadata": {},
     "output_type": "execute_result"
    }
   ],
   "source": [
    "oof_preds_df = pd.DataFrame({\n",
    "    id_column: train_ids,\n",
    "    group_column: groups,\n",
    "    \"fold\": folds,\n",
    "    target_column: y_train,\n",
    "    f\"oof_{cfg.model_name}\": oof_predictions\n",
    "})\n",
    "oof_preds_df.to_csv(f\"oof_preds_{cfg.model_name}.csv\")\n",
    "oof_preds_df.head()"
   ]
  },
  {
   "cell_type": "code",
   "execution_count": 11,
   "id": "a5db2b03",
   "metadata": {
    "execution": {
     "iopub.execute_input": "2024-07-13T05:04:13.422218Z",
     "iopub.status.busy": "2024-07-13T05:04:13.421613Z",
     "iopub.status.idle": "2024-07-13T05:04:13.427626Z",
     "shell.execute_reply": "2024-07-13T05:04:13.426755Z"
    },
    "papermill": {
     "duration": 0.034253,
     "end_time": "2024-07-13T05:04:13.429639",
     "exception": false,
     "start_time": "2024-07-13T05:04:13.395386",
     "status": "completed"
    },
    "tags": []
   },
   "outputs": [
    {
     "data": {
      "text/plain": [
       "{'fold_1': 0, 'fold_2': 0, 'fold_3': 0, 'fold_4': 0, 'fold_5': 0}"
      ]
     },
     "execution_count": 11,
     "metadata": {},
     "output_type": "execute_result"
    }
   ],
   "source": [
    "best_num_epochs"
   ]
  },
  {
   "cell_type": "code",
   "execution_count": 12,
   "id": "e052d157",
   "metadata": {
    "execution": {
     "iopub.execute_input": "2024-07-13T05:04:13.481143Z",
     "iopub.status.busy": "2024-07-13T05:04:13.480843Z",
     "iopub.status.idle": "2024-07-13T05:04:13.486405Z",
     "shell.execute_reply": "2024-07-13T05:04:13.485607Z"
    },
    "papermill": {
     "duration": 0.033428,
     "end_time": "2024-07-13T05:04:13.488329",
     "exception": false,
     "start_time": "2024-07-13T05:04:13.454901",
     "status": "completed"
    },
    "tags": []
   },
   "outputs": [
    {
     "data": {
      "text/plain": [
       "{'fold_1': 0.5972083748753738,\n",
       " 'fold_2': 0.6161641332336573,\n",
       " 'fold_3': 0.2995438418651799,\n",
       " 'fold_4': 0.5771886559802712,\n",
       " 'fold_5': 0.36696562032884905}"
      ]
     },
     "execution_count": 12,
     "metadata": {},
     "output_type": "execute_result"
    }
   ],
   "source": [
    "val_auc_scores"
   ]
  },
  {
   "cell_type": "code",
   "execution_count": 13,
   "id": "a50ad6aa",
   "metadata": {
    "execution": {
     "iopub.execute_input": "2024-07-13T05:04:13.539708Z",
     "iopub.status.busy": "2024-07-13T05:04:13.539460Z",
     "iopub.status.idle": "2024-07-13T05:04:13.545085Z",
     "shell.execute_reply": "2024-07-13T05:04:13.544239Z"
    },
    "papermill": {
     "duration": 0.03352,
     "end_time": "2024-07-13T05:04:13.546983",
     "exception": false,
     "start_time": "2024-07-13T05:04:13.513463",
     "status": "completed"
    },
    "tags": []
   },
   "outputs": [
    {
     "data": {
      "text/plain": [
       "{'fold_1': 0.11944167497507475,\n",
       " 'fold_2': 0.08771492648891102,\n",
       " 'fold_3': 0.018803852002027364,\n",
       " 'fold_4': 0.11072749691738593,\n",
       " 'fold_5': 0.023916292974588933}"
      ]
     },
     "execution_count": 13,
     "metadata": {},
     "output_type": "execute_result"
    }
   ],
   "source": [
    "val_pauc_scores"
   ]
  },
  {
   "cell_type": "code",
   "execution_count": 14,
   "id": "883074f7",
   "metadata": {
    "execution": {
     "iopub.execute_input": "2024-07-13T05:04:13.607979Z",
     "iopub.status.busy": "2024-07-13T05:04:13.607551Z",
     "iopub.status.idle": "2024-07-13T05:04:13.629493Z",
     "shell.execute_reply": "2024-07-13T05:04:13.628574Z"
    },
    "papermill": {
     "duration": 0.060166,
     "end_time": "2024-07-13T05:04:13.632454",
     "exception": false,
     "start_time": "2024-07-13T05:04:13.572288",
     "status": "completed"
    },
    "tags": []
   },
   "outputs": [],
   "source": [
    "cv_auc_oof = compute_auc(oof_preds_df[target_column], oof_preds_df[f\"oof_{cfg.model_name}\"])\n",
    "cv_pauc_oof = compute_pauc(oof_preds_df[target_column], oof_preds_df[f\"oof_{cfg.model_name}\"], min_tpr=0.8)\n",
    "\n",
    "cv_auc_avg = np.mean(list(val_auc_scores.values()))\n",
    "cv_pauc_avg = np.mean(list(val_pauc_scores.values()))"
   ]
  },
  {
   "cell_type": "code",
   "execution_count": 15,
   "id": "5c3b2e85",
   "metadata": {
    "execution": {
     "iopub.execute_input": "2024-07-13T05:04:13.714627Z",
     "iopub.status.busy": "2024-07-13T05:04:13.713780Z",
     "iopub.status.idle": "2024-07-13T05:04:13.719294Z",
     "shell.execute_reply": "2024-07-13T05:04:13.718394Z"
    },
    "papermill": {
     "duration": 0.034604,
     "end_time": "2024-07-13T05:04:13.721438",
     "exception": false,
     "start_time": "2024-07-13T05:04:13.686834",
     "status": "completed"
    },
    "tags": []
   },
   "outputs": [
    {
     "name": "stdout",
     "output_type": "stream",
     "text": [
      "CV AUC OOF: 0.5138070013818516\n",
      "CV PAUC OOF: 0.04463304160908949\n",
      "CV AUC AVG: 0.4914141252566663\n",
      "CV PAUC AVG: 0.0721208486715976\n"
     ]
    }
   ],
   "source": [
    "print(f\"CV AUC OOF: {cv_auc_oof}\")\n",
    "print(f\"CV PAUC OOF: {cv_pauc_oof}\")\n",
    "print(f\"CV AUC AVG: {cv_auc_avg}\")\n",
    "print(f\"CV PAUC AVG: {cv_pauc_avg}\")"
   ]
  },
  {
   "cell_type": "code",
   "execution_count": 16,
   "id": "b9e2b2e1",
   "metadata": {
    "execution": {
     "iopub.execute_input": "2024-07-13T05:04:13.774164Z",
     "iopub.status.busy": "2024-07-13T05:04:13.773887Z",
     "iopub.status.idle": "2024-07-13T05:04:13.780248Z",
     "shell.execute_reply": "2024-07-13T05:04:13.779475Z"
    },
    "papermill": {
     "duration": 0.034375,
     "end_time": "2024-07-13T05:04:13.782165",
     "exception": false,
     "start_time": "2024-07-13T05:04:13.747790",
     "status": "completed"
    },
    "tags": []
   },
   "outputs": [],
   "source": [
    "params = vars(cfg)\n",
    "params = {k: v for k, v in params.items() if not k.startswith(\"_\")}\n",
    "\n",
    "metadata = {\n",
    "    \"params\": params,\n",
    "    \"best_num_epochs\": best_num_epochs,\n",
    "    \"val_auc_scores\": val_auc_scores,\n",
    "    \"val_pauc_scores\": val_pauc_scores,\n",
    "    \"cv_auc_oof\": cv_auc_oof,\n",
    "    \"cv_pauc_oof\": cv_pauc_oof,\n",
    "    \"cv_auc_avg\": cv_auc_avg,\n",
    "    \"cv_pauc_avg\": cv_pauc_avg\n",
    "}\n",
    "\n",
    "with open(\"run_metadata.json\", \"w\") as f:\n",
    "    json.dump(metadata, f)"
   ]
  },
  {
   "cell_type": "code",
   "execution_count": null,
   "id": "91f628b7",
   "metadata": {
    "papermill": {
     "duration": 0.024957,
     "end_time": "2024-07-13T05:04:13.833565",
     "exception": false,
     "start_time": "2024-07-13T05:04:13.808608",
     "status": "completed"
    },
    "tags": []
   },
   "outputs": [],
   "source": []
  }
 ],
 "metadata": {
  "kaggle": {
   "accelerator": "gpu",
   "dataSources": [
    {
     "databundleVersionId": 9094797,
     "sourceId": 63056,
     "sourceType": "competition"
    },
    {
     "sourceId": 187439867,
     "sourceType": "kernelVersion"
    },
    {
     "sourceId": 187477024,
     "sourceType": "kernelVersion"
    }
   ],
   "dockerImageVersionId": 30732,
   "isGpuEnabled": true,
   "isInternetEnabled": true,
   "language": "python",
   "sourceType": "notebook"
  },
  "kernelspec": {
   "display_name": "Python 3",
   "language": "python",
   "name": "python3"
  },
  "language_info": {
   "codemirror_mode": {
    "name": "ipython",
    "version": 3
   },
   "file_extension": ".py",
   "mimetype": "text/x-python",
   "name": "python",
   "nbconvert_exporter": "python",
   "pygments_lexer": "ipython3",
   "version": "3.10.13"
  },
  "papermill": {
   "default_parameters": {},
   "duration": 259.284089,
   "end_time": "2024-07-13T05:04:16.332109",
   "environment_variables": {},
   "exception": null,
   "input_path": "__notebook__.ipynb",
   "output_path": "__notebook__.ipynb",
   "parameters": {},
   "start_time": "2024-07-13T04:59:57.048020",
   "version": "2.5.0"
  },
  "widgets": {
   "application/vnd.jupyter.widget-state+json": {
    "state": {
     "0a10f366e9894bc59aaaddbdc68ef390": {
      "model_module": "@jupyter-widgets/controls",
      "model_module_version": "1.5.0",
      "model_name": "HTMLModel",
      "state": {
       "_dom_classes": [],
       "_model_module": "@jupyter-widgets/controls",
       "_model_module_version": "1.5.0",
       "_model_name": "HTMLModel",
       "_view_count": null,
       "_view_module": "@jupyter-widgets/controls",
       "_view_module_version": "1.5.0",
       "_view_name": "HTMLView",
       "description": "",
       "description_tooltip": null,
       "layout": "IPY_MODEL_e1a0ab1287ee42e1a2a2086e3d9fd1df",
       "placeholder": "​",
       "style": "IPY_MODEL_cb7c702c791f406ea87f747f84733364",
       "value": "model.safetensors: 100%"
      }
     },
     "123cb6c8797246d9b70ec0cfa69ec886": {
      "model_module": "@jupyter-widgets/controls",
      "model_module_version": "1.5.0",
      "model_name": "FloatProgressModel",
      "state": {
       "_dom_classes": [],
       "_model_module": "@jupyter-widgets/controls",
       "_model_module_version": "1.5.0",
       "_model_name": "FloatProgressModel",
       "_view_count": null,
       "_view_module": "@jupyter-widgets/controls",
       "_view_module_version": "1.5.0",
       "_view_name": "ProgressView",
       "bar_style": "success",
       "description": "",
       "description_tooltip": null,
       "layout": "IPY_MODEL_9e024030f5e54bada3f8ff99a38b18d1",
       "max": 46807446.0,
       "min": 0.0,
       "orientation": "horizontal",
       "style": "IPY_MODEL_c1ed5ec3d7914c3c8a4147f0028c3c43",
       "value": 46807446.0
      }
     },
     "98b2639e0c9d48beadbe04f8ca0c1312": {
      "model_module": "@jupyter-widgets/controls",
      "model_module_version": "1.5.0",
      "model_name": "HBoxModel",
      "state": {
       "_dom_classes": [],
       "_model_module": "@jupyter-widgets/controls",
       "_model_module_version": "1.5.0",
       "_model_name": "HBoxModel",
       "_view_count": null,
       "_view_module": "@jupyter-widgets/controls",
       "_view_module_version": "1.5.0",
       "_view_name": "HBoxView",
       "box_style": "",
       "children": [
        "IPY_MODEL_0a10f366e9894bc59aaaddbdc68ef390",
        "IPY_MODEL_123cb6c8797246d9b70ec0cfa69ec886",
        "IPY_MODEL_e108316f374e404984fe5592ba5a92a7"
       ],
       "layout": "IPY_MODEL_d645f815bc4246878d5633d7d10cc329"
      }
     },
     "9a650d5fb5044b9fb73c9b91f2a14210": {
      "model_module": "@jupyter-widgets/base",
      "model_module_version": "1.2.0",
      "model_name": "LayoutModel",
      "state": {
       "_model_module": "@jupyter-widgets/base",
       "_model_module_version": "1.2.0",
       "_model_name": "LayoutModel",
       "_view_count": null,
       "_view_module": "@jupyter-widgets/base",
       "_view_module_version": "1.2.0",
       "_view_name": "LayoutView",
       "align_content": null,
       "align_items": null,
       "align_self": null,
       "border": null,
       "bottom": null,
       "display": null,
       "flex": null,
       "flex_flow": null,
       "grid_area": null,
       "grid_auto_columns": null,
       "grid_auto_flow": null,
       "grid_auto_rows": null,
       "grid_column": null,
       "grid_gap": null,
       "grid_row": null,
       "grid_template_areas": null,
       "grid_template_columns": null,
       "grid_template_rows": null,
       "height": null,
       "justify_content": null,
       "justify_items": null,
       "left": null,
       "margin": null,
       "max_height": null,
       "max_width": null,
       "min_height": null,
       "min_width": null,
       "object_fit": null,
       "object_position": null,
       "order": null,
       "overflow": null,
       "overflow_x": null,
       "overflow_y": null,
       "padding": null,
       "right": null,
       "top": null,
       "visibility": null,
       "width": null
      }
     },
     "9e024030f5e54bada3f8ff99a38b18d1": {
      "model_module": "@jupyter-widgets/base",
      "model_module_version": "1.2.0",
      "model_name": "LayoutModel",
      "state": {
       "_model_module": "@jupyter-widgets/base",
       "_model_module_version": "1.2.0",
       "_model_name": "LayoutModel",
       "_view_count": null,
       "_view_module": "@jupyter-widgets/base",
       "_view_module_version": "1.2.0",
       "_view_name": "LayoutView",
       "align_content": null,
       "align_items": null,
       "align_self": null,
       "border": null,
       "bottom": null,
       "display": null,
       "flex": null,
       "flex_flow": null,
       "grid_area": null,
       "grid_auto_columns": null,
       "grid_auto_flow": null,
       "grid_auto_rows": null,
       "grid_column": null,
       "grid_gap": null,
       "grid_row": null,
       "grid_template_areas": null,
       "grid_template_columns": null,
       "grid_template_rows": null,
       "height": null,
       "justify_content": null,
       "justify_items": null,
       "left": null,
       "margin": null,
       "max_height": null,
       "max_width": null,
       "min_height": null,
       "min_width": null,
       "object_fit": null,
       "object_position": null,
       "order": null,
       "overflow": null,
       "overflow_x": null,
       "overflow_y": null,
       "padding": null,
       "right": null,
       "top": null,
       "visibility": null,
       "width": null
      }
     },
     "c1ed5ec3d7914c3c8a4147f0028c3c43": {
      "model_module": "@jupyter-widgets/controls",
      "model_module_version": "1.5.0",
      "model_name": "ProgressStyleModel",
      "state": {
       "_model_module": "@jupyter-widgets/controls",
       "_model_module_version": "1.5.0",
       "_model_name": "ProgressStyleModel",
       "_view_count": null,
       "_view_module": "@jupyter-widgets/base",
       "_view_module_version": "1.2.0",
       "_view_name": "StyleView",
       "bar_color": null,
       "description_width": ""
      }
     },
     "cb7c702c791f406ea87f747f84733364": {
      "model_module": "@jupyter-widgets/controls",
      "model_module_version": "1.5.0",
      "model_name": "DescriptionStyleModel",
      "state": {
       "_model_module": "@jupyter-widgets/controls",
       "_model_module_version": "1.5.0",
       "_model_name": "DescriptionStyleModel",
       "_view_count": null,
       "_view_module": "@jupyter-widgets/base",
       "_view_module_version": "1.2.0",
       "_view_name": "StyleView",
       "description_width": ""
      }
     },
     "d645f815bc4246878d5633d7d10cc329": {
      "model_module": "@jupyter-widgets/base",
      "model_module_version": "1.2.0",
      "model_name": "LayoutModel",
      "state": {
       "_model_module": "@jupyter-widgets/base",
       "_model_module_version": "1.2.0",
       "_model_name": "LayoutModel",
       "_view_count": null,
       "_view_module": "@jupyter-widgets/base",
       "_view_module_version": "1.2.0",
       "_view_name": "LayoutView",
       "align_content": null,
       "align_items": null,
       "align_self": null,
       "border": null,
       "bottom": null,
       "display": null,
       "flex": null,
       "flex_flow": null,
       "grid_area": null,
       "grid_auto_columns": null,
       "grid_auto_flow": null,
       "grid_auto_rows": null,
       "grid_column": null,
       "grid_gap": null,
       "grid_row": null,
       "grid_template_areas": null,
       "grid_template_columns": null,
       "grid_template_rows": null,
       "height": null,
       "justify_content": null,
       "justify_items": null,
       "left": null,
       "margin": null,
       "max_height": null,
       "max_width": null,
       "min_height": null,
       "min_width": null,
       "object_fit": null,
       "object_position": null,
       "order": null,
       "overflow": null,
       "overflow_x": null,
       "overflow_y": null,
       "padding": null,
       "right": null,
       "top": null,
       "visibility": null,
       "width": null
      }
     },
     "e108316f374e404984fe5592ba5a92a7": {
      "model_module": "@jupyter-widgets/controls",
      "model_module_version": "1.5.0",
      "model_name": "HTMLModel",
      "state": {
       "_dom_classes": [],
       "_model_module": "@jupyter-widgets/controls",
       "_model_module_version": "1.5.0",
       "_model_name": "HTMLModel",
       "_view_count": null,
       "_view_module": "@jupyter-widgets/controls",
       "_view_module_version": "1.5.0",
       "_view_name": "HTMLView",
       "description": "",
       "description_tooltip": null,
       "layout": "IPY_MODEL_9a650d5fb5044b9fb73c9b91f2a14210",
       "placeholder": "​",
       "style": "IPY_MODEL_fa98e313d5b24545ad3898315d1ae8fe",
       "value": " 46.8M/46.8M [00:00&lt;00:00, 180MB/s]"
      }
     },
     "e1a0ab1287ee42e1a2a2086e3d9fd1df": {
      "model_module": "@jupyter-widgets/base",
      "model_module_version": "1.2.0",
      "model_name": "LayoutModel",
      "state": {
       "_model_module": "@jupyter-widgets/base",
       "_model_module_version": "1.2.0",
       "_model_name": "LayoutModel",
       "_view_count": null,
       "_view_module": "@jupyter-widgets/base",
       "_view_module_version": "1.2.0",
       "_view_name": "LayoutView",
       "align_content": null,
       "align_items": null,
       "align_self": null,
       "border": null,
       "bottom": null,
       "display": null,
       "flex": null,
       "flex_flow": null,
       "grid_area": null,
       "grid_auto_columns": null,
       "grid_auto_flow": null,
       "grid_auto_rows": null,
       "grid_column": null,
       "grid_gap": null,
       "grid_row": null,
       "grid_template_areas": null,
       "grid_template_columns": null,
       "grid_template_rows": null,
       "height": null,
       "justify_content": null,
       "justify_items": null,
       "left": null,
       "margin": null,
       "max_height": null,
       "max_width": null,
       "min_height": null,
       "min_width": null,
       "object_fit": null,
       "object_position": null,
       "order": null,
       "overflow": null,
       "overflow_x": null,
       "overflow_y": null,
       "padding": null,
       "right": null,
       "top": null,
       "visibility": null,
       "width": null
      }
     },
     "fa98e313d5b24545ad3898315d1ae8fe": {
      "model_module": "@jupyter-widgets/controls",
      "model_module_version": "1.5.0",
      "model_name": "DescriptionStyleModel",
      "state": {
       "_model_module": "@jupyter-widgets/controls",
       "_model_module_version": "1.5.0",
       "_model_name": "DescriptionStyleModel",
       "_view_count": null,
       "_view_module": "@jupyter-widgets/base",
       "_view_module_version": "1.2.0",
       "_view_name": "StyleView",
       "description_width": ""
      }
     }
    },
    "version_major": 2,
    "version_minor": 0
   }
  }
 },
 "nbformat": 4,
 "nbformat_minor": 5
}
