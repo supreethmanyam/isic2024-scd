{
 "cells": [
  {
   "cell_type": "code",
   "execution_count": 1,
   "id": "6d4134cf",
   "metadata": {
    "_cell_guid": "b1076dfc-b9ad-4769-8c92-a6c4dae69d19",
    "_uuid": "8f2839f25d086af736a60e9eeb907d3b93b6e0e5",
    "execution": {
     "iopub.execute_input": "2024-07-13T01:17:12.154972Z",
     "iopub.status.busy": "2024-07-13T01:17:12.154593Z",
     "iopub.status.idle": "2024-07-13T01:17:21.561288Z",
     "shell.execute_reply": "2024-07-13T01:17:21.560469Z"
    },
    "papermill": {
     "duration": 9.415843,
     "end_time": "2024-07-13T01:17:21.563486",
     "exception": false,
     "start_time": "2024-07-13T01:17:12.147643",
     "status": "completed"
    },
    "tags": []
   },
   "outputs": [],
   "source": [
    "import json\n",
    "import joblib\n",
    "from tqdm import tqdm\n",
    "from pathlib import Path\n",
    "from timeit import default_timer as timer\n",
    "\n",
    "import pandas as pd\n",
    "import numpy as np\n",
    "from io import BytesIO\n",
    "from PIL import Image\n",
    "import h5py\n",
    "\n",
    "import torch\n",
    "import torch.nn as nn\n",
    "import torch.nn.functional as F\n",
    "from torch.utils.data import DataLoader, Dataset\n",
    "import albumentations as A\n",
    "from albumentations.pytorch import ToTensorV2\n",
    "from timm import create_model\n",
    "from torch.optim.lr_scheduler import OneCycleLR\n",
    "\n",
    "from accelerate import Accelerator\n",
    "\n",
    "from isic_helper import DotDict\n",
    "from isic_helper import get_folds\n",
    "from isic_helper import compute_auc, compute_pauc\n",
    "from isic_helper import set_seed\n",
    "from isic_helper import time_to_str"
   ]
  },
  {
   "cell_type": "code",
   "execution_count": 2,
   "id": "d1bf9a22",
   "metadata": {
    "execution": {
     "iopub.execute_input": "2024-07-13T01:17:21.575200Z",
     "iopub.status.busy": "2024-07-13T01:17:21.574682Z",
     "iopub.status.idle": "2024-07-13T01:17:21.582234Z",
     "shell.execute_reply": "2024-07-13T01:17:21.581479Z"
    },
    "papermill": {
     "duration": 0.015672,
     "end_time": "2024-07-13T01:17:21.584443",
     "exception": false,
     "start_time": "2024-07-13T01:17:21.568771",
     "status": "completed"
    },
    "tags": []
   },
   "outputs": [],
   "source": [
    "cfg = DotDict()\n",
    "cfg.infer = False\n",
    "cfg.cpu = False\n",
    "cfg.mixed_precision = \"fp16\"\n",
    "cfg.tta = False\n",
    "\n",
    "cfg.pos_ratio = 0.1\n",
    "\n",
    "cfg.image_size = 64\n",
    "cfg.lr = 5e-4\n",
    "cfg.num_epochs = 2\n",
    "cfg.seed = 2022\n",
    "cfg.train_batch_size = 256\n",
    "cfg.train_num_worker = 2\n",
    "cfg.val_batch_size = 256\n",
    "cfg.val_num_worker = 2\n",
    "cfg.log_every = 10\n",
    "\n",
    "cfg.models_output_dir = \"models\"\n",
    "cfg.model_name = \"resnet18_v1\""
   ]
  },
  {
   "cell_type": "code",
   "execution_count": 3,
   "id": "b7a796fb",
   "metadata": {
    "execution": {
     "iopub.execute_input": "2024-07-13T01:17:21.596913Z",
     "iopub.status.busy": "2024-07-13T01:17:21.596573Z",
     "iopub.status.idle": "2024-07-13T01:17:31.191021Z",
     "shell.execute_reply": "2024-07-13T01:17:31.190078Z"
    },
    "papermill": {
     "duration": 9.603351,
     "end_time": "2024-07-13T01:17:31.193477",
     "exception": false,
     "start_time": "2024-07-13T01:17:21.590126",
     "status": "completed"
    },
    "tags": []
   },
   "outputs": [
    {
     "name": "stdout",
     "output_type": "stream",
     "text": [
      "Train data size: (401059, 57)\n"
     ]
    }
   ],
   "source": [
    "INPUT_PATH = Path(\"../input/isic-2024-challenge/\")\n",
    "MODELS_OUTPUT_PATH = Path(f\"{cfg.models_output_dir}\")\n",
    "MODELS_OUTPUT_PATH.mkdir(exist_ok=True)\n",
    "\n",
    "train_metadata = pd.read_csv(INPUT_PATH / \"train-metadata.csv\", low_memory=False)\n",
    "train_images = h5py.File(INPUT_PATH / \"train-image.hdf5\", mode=\"r\")\n",
    "\n",
    "folds_df = get_folds()\n",
    "train_metadata = train_metadata.merge(folds_df, on=[\"isic_id\", \"patient_id\"], how=\"inner\")\n",
    "# train_metadata = train_metadata.sample(frac=0.05, random_state=cfg.seed)\n",
    "print(f\"Train data size: {train_metadata.shape}\")"
   ]
  },
  {
   "cell_type": "code",
   "execution_count": 4,
   "id": "7be141b6",
   "metadata": {
    "execution": {
     "iopub.execute_input": "2024-07-13T01:17:31.205462Z",
     "iopub.status.busy": "2024-07-13T01:17:31.205159Z",
     "iopub.status.idle": "2024-07-13T01:17:31.210589Z",
     "shell.execute_reply": "2024-07-13T01:17:31.209629Z"
    },
    "papermill": {
     "duration": 0.013217,
     "end_time": "2024-07-13T01:17:31.212495",
     "exception": false,
     "start_time": "2024-07-13T01:17:31.199278",
     "status": "completed"
    },
    "tags": []
   },
   "outputs": [],
   "source": [
    "id_column = \"isic_id\"\n",
    "target_column = \"final_target\"\n",
    "group_column = \"patient_id\"\n",
    "\n",
    "train_ids = train_metadata[id_column]\n",
    "groups = train_metadata[group_column]\n",
    "folds = train_metadata[\"fold\"]\n",
    "y_train = train_metadata[target_column]"
   ]
  },
  {
   "cell_type": "code",
   "execution_count": 5,
   "id": "59535373",
   "metadata": {
    "execution": {
     "iopub.execute_input": "2024-07-13T01:17:31.223217Z",
     "iopub.status.busy": "2024-07-13T01:17:31.222907Z",
     "iopub.status.idle": "2024-07-13T01:17:31.312545Z",
     "shell.execute_reply": "2024-07-13T01:17:31.311755Z"
    },
    "papermill": {
     "duration": 0.097364,
     "end_time": "2024-07-13T01:17:31.314618",
     "exception": false,
     "start_time": "2024-07-13T01:17:31.217254",
     "status": "completed"
    },
    "tags": []
   },
   "outputs": [],
   "source": [
    "accelerator = Accelerator(cpu=cfg.cpu, mixed_precision=cfg.mixed_precision)"
   ]
  },
  {
   "cell_type": "code",
   "execution_count": 6,
   "id": "6a1a4743",
   "metadata": {
    "execution": {
     "iopub.execute_input": "2024-07-13T01:17:31.326065Z",
     "iopub.status.busy": "2024-07-13T01:17:31.325721Z",
     "iopub.status.idle": "2024-07-13T01:17:31.332355Z",
     "shell.execute_reply": "2024-07-13T01:17:31.331516Z"
    },
    "papermill": {
     "duration": 0.014372,
     "end_time": "2024-07-13T01:17:31.334284",
     "exception": false,
     "start_time": "2024-07-13T01:17:31.319912",
     "status": "completed"
    },
    "tags": []
   },
   "outputs": [
    {
     "data": {
      "text/plain": [
       "device(type='cuda')"
      ]
     },
     "execution_count": 6,
     "metadata": {},
     "output_type": "execute_result"
    }
   ],
   "source": [
    "accelerator.device"
   ]
  },
  {
   "cell_type": "code",
   "execution_count": 7,
   "id": "a5366664",
   "metadata": {
    "execution": {
     "iopub.execute_input": "2024-07-13T01:17:31.345401Z",
     "iopub.status.busy": "2024-07-13T01:17:31.345125Z",
     "iopub.status.idle": "2024-07-13T01:17:31.363171Z",
     "shell.execute_reply": "2024-07-13T01:17:31.362326Z"
    },
    "papermill": {
     "duration": 0.025826,
     "end_time": "2024-07-13T01:17:31.365008",
     "exception": false,
     "start_time": "2024-07-13T01:17:31.339182",
     "status": "completed"
    },
    "tags": []
   },
   "outputs": [],
   "source": [
    "def dev_augment(image_size):\n",
    "    transform = A.Compose([\n",
    "        A.Transpose(p=0.5),\n",
    "        A.VerticalFlip(p=0.5),\n",
    "        A.HorizontalFlip(p=0.5),\n",
    "        A.RandomBrightnessContrast(brightness_limit=0.2, contrast_limit=0.2, p=0.75),\n",
    "        A.OneOf([\n",
    "            A.MotionBlur(blur_limit=5),\n",
    "            A.MedianBlur(blur_limit=5),\n",
    "            A.GaussianBlur(blur_limit=5),\n",
    "            A.GaussNoise(var_limit=(5.0, 30.0)),\n",
    "        ], p=0.7),\n",
    "\n",
    "        A.OneOf([\n",
    "            A.OpticalDistortion(distort_limit=1.0),\n",
    "            A.GridDistortion(num_steps=5, distort_limit=1.),\n",
    "            A.ElasticTransform(alpha=3),\n",
    "        ], p=0.7),\n",
    "\n",
    "        A.CLAHE(clip_limit=4.0, p=0.7),\n",
    "        A.HueSaturationValue(hue_shift_limit=10, sat_shift_limit=20, val_shift_limit=10, p=0.5),\n",
    "        A.ShiftScaleRotate(shift_limit=0.1, scale_limit=0.1, rotate_limit=15, border_mode=0, p=0.85),\n",
    "        A.Resize(image_size, image_size),\n",
    "#         A.Cutout(max_h_size=int(image_size * 0.375), max_w_size=int(image_size * 0.375), num_holes=1, p=0.7),\n",
    "        ToTensorV2()\n",
    "    ], p=1.)\n",
    "    return transform\n",
    "\n",
    "def val_augment(image_size):\n",
    "    transform = A.Compose([\n",
    "        A.Resize(image_size, image_size),\n",
    "#         A.Normalize(\n",
    "#             mean=[0., 0., 0.],\n",
    "#             std=[1, 1, 1],\n",
    "#             max_pixel_value=255.0,\n",
    "#             p=1.0\n",
    "#         ),\n",
    "        ToTensorV2()\n",
    "    ], p=1.)\n",
    "    return transform\n",
    "\n",
    "class ISICDataset(Dataset):\n",
    "    def __init__(self, metadata, images, augment, infer=False):\n",
    "        self.metadata = metadata\n",
    "        self.images = images\n",
    "        self.augment = augment\n",
    "        self.length = len(self.metadata)\n",
    "        self.infer = infer\n",
    "    \n",
    "    def __len__(self):\n",
    "        return self.length\n",
    "    \n",
    "    def __getitem__(self, index):\n",
    "        data = self.metadata.iloc[index]\n",
    "        \n",
    "        image = np.array(Image.open(BytesIO(self.images[data[id_column]][()])))\n",
    "        image = self.augment(image=image)[\"image\"]\n",
    "        \n",
    "        record = {\n",
    "            \"image\": image\n",
    "        }\n",
    "        \n",
    "        if not self.infer:\n",
    "            target = data[target_column]\n",
    "            record[\"target\"] = torch.tensor(target).float()\n",
    "        \n",
    "        return record\n",
    "\n",
    "class ISICNet(nn.Module):\n",
    "    def __init__(self, arch=\"resnet18\", pretrained=False, infer=False):\n",
    "        super(ISICNet, self).__init__()\n",
    "        self.infer = infer\n",
    "        self.model = create_model(model_name=arch, pretrained=pretrained, in_chans=3,  num_classes=0, global_pool='')\n",
    "        self.classifier = nn.Linear(self.model.num_features, 1)\n",
    "        \n",
    "        self.dropouts = nn.ModuleList([nn.Dropout(0.5) for i in range(5)])\n",
    "        \n",
    "    def forward(self, batch):\n",
    "        image = batch[\"image\"]\n",
    "        image = image.float() / 255\n",
    "        \n",
    "        x = self.model(image)\n",
    "        bs = len(image)\n",
    "        pool = F.adaptive_avg_pool2d(x, 1).reshape(bs,-1)\n",
    "        \n",
    "        if self.training:\n",
    "            logit = 0\n",
    "            for i in range(len(self.dropouts)):\n",
    "                logit += self.classifier(self.dropouts[i](pool))\n",
    "            logit = logit/len(self.dropouts)\n",
    "        else:\n",
    "            logit = self.classifier(pool)\n",
    "        return logit"
   ]
  },
  {
   "cell_type": "code",
   "execution_count": 8,
   "id": "9bb8d7fe",
   "metadata": {
    "execution": {
     "iopub.execute_input": "2024-07-13T01:17:31.376594Z",
     "iopub.status.busy": "2024-07-13T01:17:31.376326Z",
     "iopub.status.idle": "2024-07-13T01:17:31.383237Z",
     "shell.execute_reply": "2024-07-13T01:17:31.382445Z"
    },
    "papermill": {
     "duration": 0.014517,
     "end_time": "2024-07-13T01:17:31.385096",
     "exception": false,
     "start_time": "2024-07-13T01:17:31.370579",
     "status": "completed"
    },
    "tags": []
   },
   "outputs": [],
   "source": [
    "def make_over_sample(train_index, target, pos_ratio):\n",
    "    target_series = pd.Series(y_train, index=train_index)\n",
    "    \n",
    "    # Separate positive and negative indices\n",
    "    pos_indices = target_series[target_series == 1].index\n",
    "    neg_indices = target_series[target_series == 0].index\n",
    "    \n",
    "    # Calculate the number of positive samples needed\n",
    "    n_pos = len(pos_indices)\n",
    "    n_neg = len(neg_indices)\n",
    "    n_total = n_pos + n_neg\n",
    "    n_desired_pos = int((pos_ratio * n_total) / (1 - pos_ratio))\n",
    "    \n",
    "    # Oversample positive indices\n",
    "    if n_desired_pos > n_pos:\n",
    "        pos_indices_oversampled = np.random.choice(pos_indices, size=n_desired_pos, replace=True)\n",
    "    else:\n",
    "        pos_indices_oversampled = pos_indices\n",
    "    \n",
    "    ned_indices_undersampled = np.unique(np.random.choice(neg_indices, size=n_desired_pos * 3, replace=True))\n",
    "    \n",
    "    # Combine with negative indices\n",
    "    oversampled_indices = np.concatenate([ned_indices_undersampled, pos_indices_oversampled])\n",
    "    np.random.shuffle(oversampled_indices)\n",
    "    return oversampled_indices"
   ]
  },
  {
   "cell_type": "code",
   "execution_count": 9,
   "id": "6f32b710",
   "metadata": {
    "execution": {
     "iopub.execute_input": "2024-07-13T01:17:31.396325Z",
     "iopub.status.busy": "2024-07-13T01:17:31.396034Z",
     "iopub.status.idle": "2024-07-13T01:42:48.271384Z",
     "shell.execute_reply": "2024-07-13T01:42:48.270171Z"
    },
    "papermill": {
     "duration": 1516.883285,
     "end_time": "2024-07-13T01:42:48.273516",
     "exception": false,
     "start_time": "2024-07-13T01:17:31.390231",
     "status": "completed"
    },
    "tags": []
   },
   "outputs": [
    {
     "name": "stdout",
     "output_type": "stream",
     "text": [
      "Running fold: 1\n",
      "Dev data size after oversampling: (126580, 57)\n",
      "Val data size: (80214, 57)\n",
      "final_target\n",
      "0    0.718368\n",
      "1    0.281632\n",
      "Name: proportion, dtype: float64\n"
     ]
    },
    {
     "name": "stderr",
     "output_type": "stream",
     "text": [
      "/opt/conda/lib/python3.10/site-packages/albumentations/augmentations/blur/transforms.py:180: UserWarning: blur_limit and sigma_limit minimum value can not be both equal to 0. blur_limit minimum value changed to 3.\n",
      "  warnings.warn(\n"
     ]
    },
    {
     "data": {
      "application/vnd.jupyter.widget-view+json": {
       "model_id": "e0435fabc6424960bd5ace05b9725583",
       "version_major": 2,
       "version_minor": 0
      },
      "text/plain": [
       "model.safetensors:   0%|          | 0.00/46.8M [00:00<?, ?B/s]"
      ]
     },
     "metadata": {},
     "output_type": "display_data"
    },
    {
     "name": "stdout",
     "output_type": "stream",
     "text": [
      "Ready to train\n"
     ]
    },
    {
     "name": "stderr",
     "output_type": "stream",
     "text": [
      "100%|██████████| 495/495 [12:53<00:00,  1.56s/it]\n",
      "100%|██████████| 314/314 [00:43<00:00,  7.19it/s]\n"
     ]
    },
    {
     "name": "stdout",
     "output_type": "stream",
     "text": [
      "Epoch pauc: 0.148750718939271 | Best auc: 0.9289729325542995 | Best pauc: 0.148750718939271 | Best epoch: 0\n"
     ]
    },
    {
     "name": "stderr",
     "output_type": "stream",
     "text": [
      "100%|██████████| 495/495 [10:57<00:00,  1.33s/it]\n",
      "100%|██████████| 314/314 [00:39<00:00,  7.88it/s]\n"
     ]
    },
    {
     "name": "stdout",
     "output_type": "stream",
     "text": [
      "Epoch pauc: 0.1523025520095537 | Best auc: 0.9368791172390009 | Best pauc: 0.1523025520095537 | Best epoch: 1\n",
      "\n",
      "\n"
     ]
    }
   ],
   "source": [
    "best_num_epochs = {}\n",
    "val_auc_scores = {}\n",
    "val_pauc_scores = {}\n",
    "all_folds = np.sort(folds.unique())\n",
    "oof_predictions = np.zeros(train_metadata.shape[0])\n",
    "for fold in all_folds:\n",
    "    set_seed(cfg.seed)\n",
    "    \n",
    "    print(f\"Running fold: {fold}\")\n",
    "    dev_index = folds[folds != fold].index\n",
    "    val_index = folds[folds == fold].index\n",
    "    \n",
    "    oversampled_dev_index = make_over_sample(dev_index, y_train, cfg.pos_ratio)\n",
    "    \n",
    "    dev_metadata = train_metadata.loc[oversampled_dev_index, :].reset_index(drop=True);print(f\"Dev data size after oversampling: {dev_metadata.shape}\")\n",
    "    val_metadata = train_metadata.loc[val_index, :].reset_index(drop=True);print(f\"Val data size: {val_metadata.shape}\")\n",
    "    \n",
    "    print(dev_metadata[target_column].value_counts(normalize=True))\n",
    "    \n",
    "    dev_dataset = ISICDataset(dev_metadata, train_images, augment=dev_augment(image_size=cfg.image_size))\n",
    "    val_dataset = ISICDataset(val_metadata, train_images, augment=val_augment(image_size=cfg.image_size))\n",
    "\n",
    "    dev_dataloader = DataLoader(dev_dataset, shuffle=True, batch_size=cfg.train_batch_size, num_workers=cfg.train_num_worker, pin_memory=True)\n",
    "    val_dataloader = DataLoader(val_dataset, shuffle=False, batch_size=cfg.val_batch_size, num_workers=cfg.val_num_worker, drop_last=False, pin_memory=True)\n",
    "    \n",
    "    net = ISICNet(pretrained=True)\n",
    "    net = net.to(accelerator.device)\n",
    "        \n",
    "    optimizer = torch.optim.Adam(net.parameters(), lr=cfg.lr / 5)\n",
    "    lr_scheduler = OneCycleLR(optimizer=optimizer, max_lr=cfg.lr, epochs=cfg.num_epochs, steps_per_epoch=len(dev_dataloader))\n",
    "\n",
    "    net, optimizer, dev_dataloader, val_dataloader, lr_scheduler = accelerator.prepare(\n",
    "        net, optimizer, dev_dataloader, val_dataloader, lr_scheduler\n",
    "    )\n",
    "    \n",
    "    print(\"Ready to train\")\n",
    "    \n",
    "    overall_step = 0\n",
    "    starting_epoch = 0\n",
    "    best_pauc_score = -np.Inf\n",
    "    best_auc_score = -np.Inf\n",
    "    best_epoch = None\n",
    "    best_val_preds = None\n",
    "\n",
    "    for epoch in range(starting_epoch, cfg.num_epochs):\n",
    "        net.train()\n",
    "        for step, batch in tqdm(enumerate(dev_dataloader), total=len(dev_dataloader)):\n",
    "            # We could avoid this line since we set the accelerator with `device_placement=True`.\n",
    "            batch = {k: v.to(accelerator.device) for k, v in batch.items()}\n",
    "            optimizer.zero_grad()\n",
    "            outputs = net(batch)\n",
    "            loss = F.binary_cross_entropy_with_logits(outputs, batch[\"target\"].unsqueeze(1))\n",
    "            accelerator.backward(loss)\n",
    "            optimizer.step()\n",
    "            lr_scheduler.step()\n",
    "\n",
    "        net.eval()\n",
    "        val_preds = []\n",
    "        val_y = []\n",
    "        for step, batch in tqdm(enumerate(val_dataloader), total=len(val_dataloader)):\n",
    "            # We could avoid this line since we set the accelerator with `device_placement=True`.\n",
    "            batch = {k: v.to(accelerator.device) for k, v in batch.items()}\n",
    "            val_preds_batch = 0\n",
    "            counter = 0\n",
    "            with torch.no_grad():\n",
    "                outputs = net(batch)\n",
    "            preds = torch.sigmoid(outputs)\n",
    "            val_y_batch = batch[\"target\"]\n",
    "            preds, val_y_batch = accelerator.gather_for_metrics((preds, val_y_batch))\n",
    "            val_preds_batch += preds.data.cpu().numpy().reshape(-1)\n",
    "            counter += 1\n",
    "            if cfg.tta:\n",
    "                batch[\"image\"] = torch.flip(image0,dims=[2])\n",
    "                with torch.no_grad():\n",
    "                    outputs = net(batch)\n",
    "                preds = torch.sigmoid(outputs)\n",
    "                preds = accelerator.gather_for_metrics((preds))\n",
    "                val_preds_batch += preds.data.cpu().numpy().reshape(-1)\n",
    "                counter += 1\n",
    "                \n",
    "                batch[\"image\"] = torch.flip(image0,dims=[3])\n",
    "                with torch.no_grad():\n",
    "                    outputs = net(batch)\n",
    "                preds = torch.sigmoid(outputs)\n",
    "                preds = accelerator.gather_for_metrics((preds))\n",
    "                val_preds_batch += preds.data.cpu().numpy().reshape(-1)\n",
    "                counter += 1\n",
    "                \n",
    "                for k in [1, 2, 3]:\n",
    "                    batch[\"image\"] = torch.rot90(image0,k, dims=[2, 2])\n",
    "                    with torch.no_grad():\n",
    "                        outputs = net(batch)\n",
    "                    preds = torch.sigmoid(outputs)\n",
    "                    preds = accelerator.gather_for_metrics((preds))\n",
    "                    val_preds_batch += preds.data.cpu().numpy().reshape(-1)\n",
    "                    counter += 1\n",
    "            val_preds_batch = val_preds_batch / counter   \n",
    "            val_preds.append(val_preds_batch)    \n",
    "            val_y.append(val_y_batch.data.cpu().numpy().reshape(-1))\n",
    "            \n",
    "        val_preds = np.concatenate(val_preds)\n",
    "        val_y = np.concatenate(val_y)\n",
    "        auc = compute_auc(val_y, val_preds) \n",
    "        pauc = compute_pauc(val_y, val_preds, min_tpr=0.80)\n",
    "        \n",
    "        if pauc >= best_pauc_score:\n",
    "            best_auc_score = auc\n",
    "            best_pauc_score = pauc\n",
    "            best_epoch = epoch\n",
    "            best_val_preds = val_preds\n",
    "        print(f\"Epoch pauc: {pauc} | Best auc: {best_auc_score} | Best pauc: {best_pauc_score} | Best epoch: {best_epoch}\")\n",
    "        \n",
    "        output_dir = f\"fold_{fold}/model_{cfg.model_name}_epoch_{epoch}\"\n",
    "        if cfg.models_output_dir is not None:\n",
    "            output_dir = Path(f\"{cfg.models_output_dir}/{output_dir}\")\n",
    "        accelerator.save_state(output_dir)\n",
    "    \n",
    "    best_num_epochs[f\"fold_{fold}\"] = best_epoch\n",
    "    val_auc_scores[f\"fold_{fold}\"] = best_auc_score\n",
    "    val_pauc_scores[f\"fold_{fold}\"] = best_pauc_score\n",
    "    \n",
    "    oof_predictions[val_index] = best_val_preds\n",
    "    print(\"\\n\")\n",
    "    break"
   ]
  },
  {
   "cell_type": "code",
   "execution_count": 10,
   "id": "3e27a127",
   "metadata": {
    "execution": {
     "iopub.execute_input": "2024-07-13T01:42:48.451705Z",
     "iopub.status.busy": "2024-07-13T01:42:48.450924Z",
     "iopub.status.idle": "2024-07-13T01:42:48.455566Z",
     "shell.execute_reply": "2024-07-13T01:42:48.454681Z"
    },
    "papermill": {
     "duration": 0.096097,
     "end_time": "2024-07-13T01:42:48.457449",
     "exception": false,
     "start_time": "2024-07-13T01:42:48.361352",
     "status": "completed"
    },
    "tags": []
   },
   "outputs": [],
   "source": [
    "# oof_preds_df = pd.DataFrame({\n",
    "#     id_column: train_ids,\n",
    "#     group_column: groups,\n",
    "#     \"fold\": folds,\n",
    "#     target_column: y_train,\n",
    "#     f\"oof_{cfg.model_name}\": oof_predictions\n",
    "# })\n",
    "# oof_preds_df.to_csv(f\"oof_preds_{cfg.model_name}.csv\")\n",
    "# oof_preds_df.head()"
   ]
  },
  {
   "cell_type": "code",
   "execution_count": 11,
   "id": "bf41ffeb",
   "metadata": {
    "execution": {
     "iopub.execute_input": "2024-07-13T01:42:48.632756Z",
     "iopub.status.busy": "2024-07-13T01:42:48.632424Z",
     "iopub.status.idle": "2024-07-13T01:42:48.636560Z",
     "shell.execute_reply": "2024-07-13T01:42:48.635694Z"
    },
    "papermill": {
     "duration": 0.093554,
     "end_time": "2024-07-13T01:42:48.638469",
     "exception": false,
     "start_time": "2024-07-13T01:42:48.544915",
     "status": "completed"
    },
    "tags": []
   },
   "outputs": [],
   "source": [
    "# best_num_epochs"
   ]
  },
  {
   "cell_type": "code",
   "execution_count": 12,
   "id": "a658cdef",
   "metadata": {
    "execution": {
     "iopub.execute_input": "2024-07-13T01:42:48.815948Z",
     "iopub.status.busy": "2024-07-13T01:42:48.814968Z",
     "iopub.status.idle": "2024-07-13T01:42:48.819578Z",
     "shell.execute_reply": "2024-07-13T01:42:48.818677Z"
    },
    "papermill": {
     "duration": 0.096235,
     "end_time": "2024-07-13T01:42:48.821593",
     "exception": false,
     "start_time": "2024-07-13T01:42:48.725358",
     "status": "completed"
    },
    "tags": []
   },
   "outputs": [],
   "source": [
    "# val_auc_scores"
   ]
  },
  {
   "cell_type": "code",
   "execution_count": 13,
   "id": "cb281764",
   "metadata": {
    "execution": {
     "iopub.execute_input": "2024-07-13T01:42:48.998924Z",
     "iopub.status.busy": "2024-07-13T01:42:48.998276Z",
     "iopub.status.idle": "2024-07-13T01:42:49.002331Z",
     "shell.execute_reply": "2024-07-13T01:42:49.001418Z"
    },
    "papermill": {
     "duration": 0.094496,
     "end_time": "2024-07-13T01:42:49.004225",
     "exception": false,
     "start_time": "2024-07-13T01:42:48.909729",
     "status": "completed"
    },
    "tags": []
   },
   "outputs": [],
   "source": [
    "# val_pauc_scores"
   ]
  },
  {
   "cell_type": "code",
   "execution_count": 14,
   "id": "ef16d919",
   "metadata": {
    "execution": {
     "iopub.execute_input": "2024-07-13T01:42:49.181737Z",
     "iopub.status.busy": "2024-07-13T01:42:49.181394Z",
     "iopub.status.idle": "2024-07-13T01:42:49.185550Z",
     "shell.execute_reply": "2024-07-13T01:42:49.184667Z"
    },
    "papermill": {
     "duration": 0.095548,
     "end_time": "2024-07-13T01:42:49.187576",
     "exception": false,
     "start_time": "2024-07-13T01:42:49.092028",
     "status": "completed"
    },
    "tags": []
   },
   "outputs": [],
   "source": [
    "# cv_auc_oof = compute_auc(oof_preds_df[target_column], oof_preds_df[f\"oof_{cfg.model_name}\"])\n",
    "# cv_pauc_oof = compute_pauc(oof_preds_df[target_column], oof_preds_df[f\"oof_{cfg.model_name}\"], min_tpr=0.8)\n",
    "\n",
    "# cv_auc_avg = np.mean(list(val_auc_scores.values()))\n",
    "# cv_pauc_avg = np.mean(list(val_pauc_scores.values()))"
   ]
  },
  {
   "cell_type": "code",
   "execution_count": 15,
   "id": "7100cbbd",
   "metadata": {
    "execution": {
     "iopub.execute_input": "2024-07-13T01:42:49.366348Z",
     "iopub.status.busy": "2024-07-13T01:42:49.366022Z",
     "iopub.status.idle": "2024-07-13T01:42:49.369958Z",
     "shell.execute_reply": "2024-07-13T01:42:49.369181Z"
    },
    "papermill": {
     "duration": 0.095372,
     "end_time": "2024-07-13T01:42:49.371917",
     "exception": false,
     "start_time": "2024-07-13T01:42:49.276545",
     "status": "completed"
    },
    "tags": []
   },
   "outputs": [],
   "source": [
    "# print(f\"CV AUC OOF: {cv_auc_oof}\")\n",
    "# print(f\"CV PAUC OOF: {cv_pauc_oof}\")\n",
    "# print(f\"CV AUC AVG: {cv_auc_avg}\")\n",
    "# print(f\"CV PAUC AVG: {cv_pauc_avg}\")"
   ]
  },
  {
   "cell_type": "code",
   "execution_count": 16,
   "id": "287bfed6",
   "metadata": {
    "execution": {
     "iopub.execute_input": "2024-07-13T01:42:49.550397Z",
     "iopub.status.busy": "2024-07-13T01:42:49.549560Z",
     "iopub.status.idle": "2024-07-13T01:42:49.554024Z",
     "shell.execute_reply": "2024-07-13T01:42:49.553185Z"
    },
    "papermill": {
     "duration": 0.096621,
     "end_time": "2024-07-13T01:42:49.556002",
     "exception": false,
     "start_time": "2024-07-13T01:42:49.459381",
     "status": "completed"
    },
    "tags": []
   },
   "outputs": [],
   "source": [
    "# params = vars(cfg)\n",
    "# params = {k: v for k, v in params.items() if not k.startswith(\"_\")}\n",
    "\n",
    "# metadata = {\n",
    "#     \"params\": params,\n",
    "#     \"best_num_epochs\": best_num_epochs,\n",
    "#     \"val_auc_scores\": val_auc_scores,\n",
    "#     \"val_pauc_scores\": val_pauc_scores,\n",
    "#     \"cv_auc_oof\": cv_auc_oof,\n",
    "#     \"cv_pauc_oof\": cv_pauc_oof,\n",
    "#     \"cv_auc_avg\": cv_auc_avg,\n",
    "#     \"cv_pauc_avg\": cv_pauc_avg\n",
    "# }\n",
    "\n",
    "# with open(\"run_metadata.json\", \"w\") as f:\n",
    "#     json.dump(metadata, f)"
   ]
  }
 ],
 "metadata": {
  "kaggle": {
   "accelerator": "gpu",
   "dataSources": [
    {
     "databundleVersionId": 8940774,
     "sourceId": 63056,
     "sourceType": "competition"
    },
    {
     "sourceId": 187439867,
     "sourceType": "kernelVersion"
    },
    {
     "sourceId": 187477024,
     "sourceType": "kernelVersion"
    }
   ],
   "dockerImageVersionId": 30732,
   "isGpuEnabled": true,
   "isInternetEnabled": true,
   "language": "python",
   "sourceType": "notebook"
  },
  "kernelspec": {
   "display_name": "Python 3",
   "language": "python",
   "name": "python3"
  },
  "language_info": {
   "codemirror_mode": {
    "name": "ipython",
    "version": 3
   },
   "file_extension": ".py",
   "mimetype": "text/x-python",
   "name": "python",
   "nbconvert_exporter": "python",
   "pygments_lexer": "ipython3",
   "version": "3.10.13"
  },
  "papermill": {
   "default_parameters": {},
   "duration": 1542.910768,
   "end_time": "2024-07-13T01:42:52.277428",
   "environment_variables": {},
   "exception": null,
   "input_path": "__notebook__.ipynb",
   "output_path": "__notebook__.ipynb",
   "parameters": {},
   "start_time": "2024-07-13T01:17:09.366660",
   "version": "2.5.0"
  },
  "widgets": {
   "application/vnd.jupyter.widget-state+json": {
    "state": {
     "1b7c9d0684f9482fb3620735901099f8": {
      "model_module": "@jupyter-widgets/controls",
      "model_module_version": "1.5.0",
      "model_name": "FloatProgressModel",
      "state": {
       "_dom_classes": [],
       "_model_module": "@jupyter-widgets/controls",
       "_model_module_version": "1.5.0",
       "_model_name": "FloatProgressModel",
       "_view_count": null,
       "_view_module": "@jupyter-widgets/controls",
       "_view_module_version": "1.5.0",
       "_view_name": "ProgressView",
       "bar_style": "success",
       "description": "",
       "description_tooltip": null,
       "layout": "IPY_MODEL_92ca09533c2c4829aa7c032643cff84f",
       "max": 46807446.0,
       "min": 0.0,
       "orientation": "horizontal",
       "style": "IPY_MODEL_7b7e83cab39044cd871e7a30c24bf5c1",
       "value": 46807446.0
      }
     },
     "2cde038816a9428bb7b2ae9081e6f576": {
      "model_module": "@jupyter-widgets/base",
      "model_module_version": "1.2.0",
      "model_name": "LayoutModel",
      "state": {
       "_model_module": "@jupyter-widgets/base",
       "_model_module_version": "1.2.0",
       "_model_name": "LayoutModel",
       "_view_count": null,
       "_view_module": "@jupyter-widgets/base",
       "_view_module_version": "1.2.0",
       "_view_name": "LayoutView",
       "align_content": null,
       "align_items": null,
       "align_self": null,
       "border": null,
       "bottom": null,
       "display": null,
       "flex": null,
       "flex_flow": null,
       "grid_area": null,
       "grid_auto_columns": null,
       "grid_auto_flow": null,
       "grid_auto_rows": null,
       "grid_column": null,
       "grid_gap": null,
       "grid_row": null,
       "grid_template_areas": null,
       "grid_template_columns": null,
       "grid_template_rows": null,
       "height": null,
       "justify_content": null,
       "justify_items": null,
       "left": null,
       "margin": null,
       "max_height": null,
       "max_width": null,
       "min_height": null,
       "min_width": null,
       "object_fit": null,
       "object_position": null,
       "order": null,
       "overflow": null,
       "overflow_x": null,
       "overflow_y": null,
       "padding": null,
       "right": null,
       "top": null,
       "visibility": null,
       "width": null
      }
     },
     "667413e4cba5441bb34fcba373a51479": {
      "model_module": "@jupyter-widgets/controls",
      "model_module_version": "1.5.0",
      "model_name": "DescriptionStyleModel",
      "state": {
       "_model_module": "@jupyter-widgets/controls",
       "_model_module_version": "1.5.0",
       "_model_name": "DescriptionStyleModel",
       "_view_count": null,
       "_view_module": "@jupyter-widgets/base",
       "_view_module_version": "1.2.0",
       "_view_name": "StyleView",
       "description_width": ""
      }
     },
     "772fd6801ab0434f8617e668888692ae": {
      "model_module": "@jupyter-widgets/controls",
      "model_module_version": "1.5.0",
      "model_name": "DescriptionStyleModel",
      "state": {
       "_model_module": "@jupyter-widgets/controls",
       "_model_module_version": "1.5.0",
       "_model_name": "DescriptionStyleModel",
       "_view_count": null,
       "_view_module": "@jupyter-widgets/base",
       "_view_module_version": "1.2.0",
       "_view_name": "StyleView",
       "description_width": ""
      }
     },
     "7b7e83cab39044cd871e7a30c24bf5c1": {
      "model_module": "@jupyter-widgets/controls",
      "model_module_version": "1.5.0",
      "model_name": "ProgressStyleModel",
      "state": {
       "_model_module": "@jupyter-widgets/controls",
       "_model_module_version": "1.5.0",
       "_model_name": "ProgressStyleModel",
       "_view_count": null,
       "_view_module": "@jupyter-widgets/base",
       "_view_module_version": "1.2.0",
       "_view_name": "StyleView",
       "bar_color": null,
       "description_width": ""
      }
     },
     "80f2b19e782b4984a4dd38479c25fcb8": {
      "model_module": "@jupyter-widgets/base",
      "model_module_version": "1.2.0",
      "model_name": "LayoutModel",
      "state": {
       "_model_module": "@jupyter-widgets/base",
       "_model_module_version": "1.2.0",
       "_model_name": "LayoutModel",
       "_view_count": null,
       "_view_module": "@jupyter-widgets/base",
       "_view_module_version": "1.2.0",
       "_view_name": "LayoutView",
       "align_content": null,
       "align_items": null,
       "align_self": null,
       "border": null,
       "bottom": null,
       "display": null,
       "flex": null,
       "flex_flow": null,
       "grid_area": null,
       "grid_auto_columns": null,
       "grid_auto_flow": null,
       "grid_auto_rows": null,
       "grid_column": null,
       "grid_gap": null,
       "grid_row": null,
       "grid_template_areas": null,
       "grid_template_columns": null,
       "grid_template_rows": null,
       "height": null,
       "justify_content": null,
       "justify_items": null,
       "left": null,
       "margin": null,
       "max_height": null,
       "max_width": null,
       "min_height": null,
       "min_width": null,
       "object_fit": null,
       "object_position": null,
       "order": null,
       "overflow": null,
       "overflow_x": null,
       "overflow_y": null,
       "padding": null,
       "right": null,
       "top": null,
       "visibility": null,
       "width": null
      }
     },
     "92ca09533c2c4829aa7c032643cff84f": {
      "model_module": "@jupyter-widgets/base",
      "model_module_version": "1.2.0",
      "model_name": "LayoutModel",
      "state": {
       "_model_module": "@jupyter-widgets/base",
       "_model_module_version": "1.2.0",
       "_model_name": "LayoutModel",
       "_view_count": null,
       "_view_module": "@jupyter-widgets/base",
       "_view_module_version": "1.2.0",
       "_view_name": "LayoutView",
       "align_content": null,
       "align_items": null,
       "align_self": null,
       "border": null,
       "bottom": null,
       "display": null,
       "flex": null,
       "flex_flow": null,
       "grid_area": null,
       "grid_auto_columns": null,
       "grid_auto_flow": null,
       "grid_auto_rows": null,
       "grid_column": null,
       "grid_gap": null,
       "grid_row": null,
       "grid_template_areas": null,
       "grid_template_columns": null,
       "grid_template_rows": null,
       "height": null,
       "justify_content": null,
       "justify_items": null,
       "left": null,
       "margin": null,
       "max_height": null,
       "max_width": null,
       "min_height": null,
       "min_width": null,
       "object_fit": null,
       "object_position": null,
       "order": null,
       "overflow": null,
       "overflow_x": null,
       "overflow_y": null,
       "padding": null,
       "right": null,
       "top": null,
       "visibility": null,
       "width": null
      }
     },
     "b4ad2b4c99e8403ea12932273b15d54f": {
      "model_module": "@jupyter-widgets/controls",
      "model_module_version": "1.5.0",
      "model_name": "HTMLModel",
      "state": {
       "_dom_classes": [],
       "_model_module": "@jupyter-widgets/controls",
       "_model_module_version": "1.5.0",
       "_model_name": "HTMLModel",
       "_view_count": null,
       "_view_module": "@jupyter-widgets/controls",
       "_view_module_version": "1.5.0",
       "_view_name": "HTMLView",
       "description": "",
       "description_tooltip": null,
       "layout": "IPY_MODEL_80f2b19e782b4984a4dd38479c25fcb8",
       "placeholder": "​",
       "style": "IPY_MODEL_667413e4cba5441bb34fcba373a51479",
       "value": " 46.8M/46.8M [00:00&lt;00:00, 153MB/s]"
      }
     },
     "c991c6e8eba943058077ca93df433467": {
      "model_module": "@jupyter-widgets/controls",
      "model_module_version": "1.5.0",
      "model_name": "HTMLModel",
      "state": {
       "_dom_classes": [],
       "_model_module": "@jupyter-widgets/controls",
       "_model_module_version": "1.5.0",
       "_model_name": "HTMLModel",
       "_view_count": null,
       "_view_module": "@jupyter-widgets/controls",
       "_view_module_version": "1.5.0",
       "_view_name": "HTMLView",
       "description": "",
       "description_tooltip": null,
       "layout": "IPY_MODEL_f1795d75fe0747d8acf8e5b6d2dc72aa",
       "placeholder": "​",
       "style": "IPY_MODEL_772fd6801ab0434f8617e668888692ae",
       "value": "model.safetensors: 100%"
      }
     },
     "e0435fabc6424960bd5ace05b9725583": {
      "model_module": "@jupyter-widgets/controls",
      "model_module_version": "1.5.0",
      "model_name": "HBoxModel",
      "state": {
       "_dom_classes": [],
       "_model_module": "@jupyter-widgets/controls",
       "_model_module_version": "1.5.0",
       "_model_name": "HBoxModel",
       "_view_count": null,
       "_view_module": "@jupyter-widgets/controls",
       "_view_module_version": "1.5.0",
       "_view_name": "HBoxView",
       "box_style": "",
       "children": [
        "IPY_MODEL_c991c6e8eba943058077ca93df433467",
        "IPY_MODEL_1b7c9d0684f9482fb3620735901099f8",
        "IPY_MODEL_b4ad2b4c99e8403ea12932273b15d54f"
       ],
       "layout": "IPY_MODEL_2cde038816a9428bb7b2ae9081e6f576"
      }
     },
     "f1795d75fe0747d8acf8e5b6d2dc72aa": {
      "model_module": "@jupyter-widgets/base",
      "model_module_version": "1.2.0",
      "model_name": "LayoutModel",
      "state": {
       "_model_module": "@jupyter-widgets/base",
       "_model_module_version": "1.2.0",
       "_model_name": "LayoutModel",
       "_view_count": null,
       "_view_module": "@jupyter-widgets/base",
       "_view_module_version": "1.2.0",
       "_view_name": "LayoutView",
       "align_content": null,
       "align_items": null,
       "align_self": null,
       "border": null,
       "bottom": null,
       "display": null,
       "flex": null,
       "flex_flow": null,
       "grid_area": null,
       "grid_auto_columns": null,
       "grid_auto_flow": null,
       "grid_auto_rows": null,
       "grid_column": null,
       "grid_gap": null,
       "grid_row": null,
       "grid_template_areas": null,
       "grid_template_columns": null,
       "grid_template_rows": null,
       "height": null,
       "justify_content": null,
       "justify_items": null,
       "left": null,
       "margin": null,
       "max_height": null,
       "max_width": null,
       "min_height": null,
       "min_width": null,
       "object_fit": null,
       "object_position": null,
       "order": null,
       "overflow": null,
       "overflow_x": null,
       "overflow_y": null,
       "padding": null,
       "right": null,
       "top": null,
       "visibility": null,
       "width": null
      }
     }
    },
    "version_major": 2,
    "version_minor": 0
   }
  }
 },
 "nbformat": 4,
 "nbformat_minor": 5
}
