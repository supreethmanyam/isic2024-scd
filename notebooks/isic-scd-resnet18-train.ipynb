{
 "cells": [
  {
   "cell_type": "code",
   "execution_count": 1,
   "id": "cbc78ccc",
   "metadata": {
    "_cell_guid": "b1076dfc-b9ad-4769-8c92-a6c4dae69d19",
    "_uuid": "8f2839f25d086af736a60e9eeb907d3b93b6e0e5",
    "execution": {
     "iopub.execute_input": "2024-07-13T05:44:18.858459Z",
     "iopub.status.busy": "2024-07-13T05:44:18.857886Z",
     "iopub.status.idle": "2024-07-13T05:44:27.717312Z",
     "shell.execute_reply": "2024-07-13T05:44:27.716379Z"
    },
    "papermill": {
     "duration": 8.868312,
     "end_time": "2024-07-13T05:44:27.719570",
     "exception": false,
     "start_time": "2024-07-13T05:44:18.851258",
     "status": "completed"
    },
    "tags": []
   },
   "outputs": [],
   "source": [
    "import json\n",
    "import joblib\n",
    "from tqdm import tqdm\n",
    "from pathlib import Path\n",
    "from timeit import default_timer as timer\n",
    "\n",
    "import pandas as pd\n",
    "import numpy as np\n",
    "from io import BytesIO\n",
    "from PIL import Image\n",
    "import h5py\n",
    "\n",
    "import torch\n",
    "import torch.nn as nn\n",
    "import torch.nn.functional as F\n",
    "from torch.utils.data import DataLoader, Dataset\n",
    "import albumentations as A\n",
    "from albumentations.pytorch import ToTensorV2\n",
    "from timm import create_model\n",
    "from torch.optim.lr_scheduler import OneCycleLR\n",
    "\n",
    "from accelerate import Accelerator\n",
    "\n",
    "from isic_helper import DotDict\n",
    "from isic_helper import get_folds\n",
    "from isic_helper import compute_auc, compute_pauc\n",
    "from isic_helper import set_seed\n",
    "from isic_helper import time_to_str"
   ]
  },
  {
   "cell_type": "code",
   "execution_count": 2,
   "id": "a11cf95a",
   "metadata": {
    "execution": {
     "iopub.execute_input": "2024-07-13T05:44:27.731143Z",
     "iopub.status.busy": "2024-07-13T05:44:27.730662Z",
     "iopub.status.idle": "2024-07-13T05:44:27.736911Z",
     "shell.execute_reply": "2024-07-13T05:44:27.736111Z"
    },
    "papermill": {
     "duration": 0.013848,
     "end_time": "2024-07-13T05:44:27.738740",
     "exception": false,
     "start_time": "2024-07-13T05:44:27.724892",
     "status": "completed"
    },
    "tags": []
   },
   "outputs": [],
   "source": [
    "cfg = DotDict()\n",
    "cfg.infer = False\n",
    "cfg.cpu = False\n",
    "cfg.mixed_precision = \"fp16\"\n",
    "cfg.tta = True\n",
    "\n",
    "cfg.pos_ratio = 0.1\n",
    "\n",
    "cfg.image_size = 64\n",
    "cfg.lr = 5e-4\n",
    "cfg.num_epochs = 2\n",
    "cfg.seed = 2022\n",
    "cfg.train_batch_size = 256\n",
    "cfg.train_num_worker = 2\n",
    "cfg.val_batch_size = 256\n",
    "cfg.val_num_worker = 2\n",
    "cfg.log_every = 10\n",
    "\n",
    "cfg.models_output_dir = \"models\"\n",
    "cfg.model_name = \"resnet18_v1\""
   ]
  },
  {
   "cell_type": "code",
   "execution_count": 3,
   "id": "58af4fdd",
   "metadata": {
    "execution": {
     "iopub.execute_input": "2024-07-13T05:44:27.749574Z",
     "iopub.status.busy": "2024-07-13T05:44:27.749090Z",
     "iopub.status.idle": "2024-07-13T05:44:37.196395Z",
     "shell.execute_reply": "2024-07-13T05:44:37.195413Z"
    },
    "papermill": {
     "duration": 9.455055,
     "end_time": "2024-07-13T05:44:37.198557",
     "exception": false,
     "start_time": "2024-07-13T05:44:27.743502",
     "status": "completed"
    },
    "tags": []
   },
   "outputs": [
    {
     "name": "stdout",
     "output_type": "stream",
     "text": [
      "Train data size: (401059, 57)\n"
     ]
    }
   ],
   "source": [
    "INPUT_PATH = Path(\"../input/isic-2024-challenge/\")\n",
    "MODELS_OUTPUT_PATH = Path(f\"{cfg.models_output_dir}\")\n",
    "MODELS_OUTPUT_PATH.mkdir(exist_ok=True)\n",
    "\n",
    "train_metadata = pd.read_csv(INPUT_PATH / \"train-metadata.csv\", low_memory=False)\n",
    "train_images = h5py.File(INPUT_PATH / \"train-image.hdf5\", mode=\"r\")\n",
    "\n",
    "folds_df = get_folds()\n",
    "train_metadata = train_metadata.merge(folds_df, on=[\"isic_id\", \"patient_id\"], how=\"inner\")\n",
    "# train_metadata = train_metadata.sample(frac=0.05, random_state=cfg.seed).reset_index(drop=True)\n",
    "print(f\"Train data size: {train_metadata.shape}\")"
   ]
  },
  {
   "cell_type": "code",
   "execution_count": 4,
   "id": "93ead8a9",
   "metadata": {
    "execution": {
     "iopub.execute_input": "2024-07-13T05:44:37.210483Z",
     "iopub.status.busy": "2024-07-13T05:44:37.209771Z",
     "iopub.status.idle": "2024-07-13T05:44:37.214833Z",
     "shell.execute_reply": "2024-07-13T05:44:37.214008Z"
    },
    "papermill": {
     "duration": 0.012914,
     "end_time": "2024-07-13T05:44:37.216729",
     "exception": false,
     "start_time": "2024-07-13T05:44:37.203815",
     "status": "completed"
    },
    "tags": []
   },
   "outputs": [],
   "source": [
    "id_column = \"isic_id\"\n",
    "target_column = \"final_target\"\n",
    "group_column = \"patient_id\"\n",
    "\n",
    "train_ids = train_metadata[id_column]\n",
    "groups = train_metadata[group_column]\n",
    "folds = train_metadata[\"fold\"]\n",
    "y_train = train_metadata[target_column]"
   ]
  },
  {
   "cell_type": "code",
   "execution_count": 5,
   "id": "6b98e3b8",
   "metadata": {
    "execution": {
     "iopub.execute_input": "2024-07-13T05:44:37.227735Z",
     "iopub.status.busy": "2024-07-13T05:44:37.227471Z",
     "iopub.status.idle": "2024-07-13T05:44:37.244903Z",
     "shell.execute_reply": "2024-07-13T05:44:37.244091Z"
    },
    "papermill": {
     "duration": 0.025229,
     "end_time": "2024-07-13T05:44:37.246836",
     "exception": false,
     "start_time": "2024-07-13T05:44:37.221607",
     "status": "completed"
    },
    "tags": []
   },
   "outputs": [],
   "source": [
    "def dev_augment(image_size):\n",
    "    transform = A.Compose([\n",
    "        A.Transpose(p=0.5),\n",
    "        A.VerticalFlip(p=0.5),\n",
    "        A.HorizontalFlip(p=0.5),\n",
    "        A.RandomBrightnessContrast(brightness_limit=0.2, contrast_limit=0.2, p=0.75),\n",
    "        A.OneOf([\n",
    "            A.MotionBlur(blur_limit=5),\n",
    "            A.MedianBlur(blur_limit=5),\n",
    "            A.GaussianBlur(blur_limit=5),\n",
    "            A.GaussNoise(var_limit=(5.0, 30.0)),\n",
    "        ], p=0.7),\n",
    "\n",
    "        A.OneOf([\n",
    "            A.OpticalDistortion(distort_limit=1.0),\n",
    "            A.GridDistortion(num_steps=5, distort_limit=1.),\n",
    "            A.ElasticTransform(alpha=3),\n",
    "        ], p=0.7),\n",
    "\n",
    "        A.CLAHE(clip_limit=4.0, p=0.7),\n",
    "        A.HueSaturationValue(hue_shift_limit=10, sat_shift_limit=20, val_shift_limit=10, p=0.5),\n",
    "        A.ShiftScaleRotate(shift_limit=0.1, scale_limit=0.1, rotate_limit=15, border_mode=0, p=0.85),\n",
    "        A.Resize(image_size, image_size),\n",
    "#         A.Cutout(max_h_size=int(image_size * 0.375), max_w_size=int(image_size * 0.375), num_holes=1, p=0.7),\n",
    "        ToTensorV2()\n",
    "    ], p=1.)\n",
    "    return transform\n",
    "\n",
    "def val_augment(image_size):\n",
    "    transform = A.Compose([\n",
    "        A.Resize(image_size, image_size),\n",
    "#         A.Normalize(\n",
    "#             mean=[0., 0., 0.],\n",
    "#             std=[1, 1, 1],\n",
    "#             max_pixel_value=255.0,\n",
    "#             p=1.0\n",
    "#         ),\n",
    "        ToTensorV2()\n",
    "    ], p=1.)\n",
    "    return transform\n",
    "\n",
    "class ISICDataset(Dataset):\n",
    "    def __init__(self, metadata, images, augment, infer=False):\n",
    "        self.metadata = metadata\n",
    "        self.images = images\n",
    "        self.augment = augment\n",
    "        self.length = len(self.metadata)\n",
    "        self.infer = infer\n",
    "    \n",
    "    def __len__(self):\n",
    "        return self.length\n",
    "    \n",
    "    def __getitem__(self, index):\n",
    "        data = self.metadata.iloc[index]\n",
    "        \n",
    "        image = np.array(Image.open(BytesIO(self.images[data[id_column]][()])))\n",
    "        image = self.augment(image=image)[\"image\"]\n",
    "        \n",
    "        record = {\n",
    "            \"image\": image\n",
    "        }\n",
    "        \n",
    "        if not self.infer:\n",
    "            target = data[target_column]\n",
    "            record[\"target\"] = torch.tensor(target).float()\n",
    "        \n",
    "        return record\n",
    "\n",
    "class ISICNet(nn.Module):\n",
    "    def __init__(self, arch=\"resnet18\", pretrained=False, infer=False):\n",
    "        super(ISICNet, self).__init__()\n",
    "        self.infer = infer\n",
    "        self.model = create_model(model_name=arch, pretrained=pretrained, in_chans=3,  num_classes=0, global_pool='')\n",
    "        self.classifier = nn.Linear(self.model.num_features, 1)\n",
    "        \n",
    "        self.dropouts = nn.ModuleList([nn.Dropout(0.5) for i in range(5)])\n",
    "        \n",
    "    def forward(self, batch):\n",
    "        image = batch[\"image\"]\n",
    "        image = image.float() / 255\n",
    "        \n",
    "        x = self.model(image)\n",
    "        bs = len(image)\n",
    "        pool = F.adaptive_avg_pool2d(x, 1).reshape(bs,-1)\n",
    "        \n",
    "        if self.training:\n",
    "            logit = 0\n",
    "            for i in range(len(self.dropouts)):\n",
    "                logit += self.classifier(self.dropouts[i](pool))\n",
    "            logit = logit/len(self.dropouts)\n",
    "        else:\n",
    "            logit = self.classifier(pool)\n",
    "        return logit"
   ]
  },
  {
   "cell_type": "code",
   "execution_count": 6,
   "id": "16e82521",
   "metadata": {
    "execution": {
     "iopub.execute_input": "2024-07-13T05:44:37.257665Z",
     "iopub.status.busy": "2024-07-13T05:44:37.257403Z",
     "iopub.status.idle": "2024-07-13T05:44:37.264390Z",
     "shell.execute_reply": "2024-07-13T05:44:37.263601Z"
    },
    "papermill": {
     "duration": 0.014472,
     "end_time": "2024-07-13T05:44:37.266256",
     "exception": false,
     "start_time": "2024-07-13T05:44:37.251784",
     "status": "completed"
    },
    "tags": []
   },
   "outputs": [],
   "source": [
    "def make_over_sample(train_index, target, pos_ratio):\n",
    "    target_series = pd.Series(y_train, index=train_index)\n",
    "    \n",
    "    # Separate positive and negative indices\n",
    "    pos_indices = target_series[target_series == 1].index\n",
    "    neg_indices = target_series[target_series == 0].index\n",
    "    \n",
    "    # Calculate the number of positive samples needed\n",
    "    n_pos = len(pos_indices)\n",
    "    n_neg = len(neg_indices)\n",
    "    n_total = n_pos + n_neg\n",
    "    n_desired_pos = int((pos_ratio * n_total) / (1 - pos_ratio))\n",
    "    \n",
    "    # Oversample positive indices\n",
    "    if n_desired_pos > n_pos:\n",
    "        pos_indices_oversampled = np.random.choice(pos_indices, size=n_desired_pos, replace=True)\n",
    "    else:\n",
    "        pos_indices_oversampled = pos_indices\n",
    "    \n",
    "    ned_indices_undersampled = np.unique(np.random.choice(neg_indices, size=n_desired_pos * 3, replace=True))\n",
    "    \n",
    "    # Combine with negative indices\n",
    "    oversampled_indices = np.concatenate([ned_indices_undersampled, pos_indices_oversampled])\n",
    "    np.random.shuffle(oversampled_indices)\n",
    "    return oversampled_indices"
   ]
  },
  {
   "cell_type": "code",
   "execution_count": 7,
   "id": "e067bdc4",
   "metadata": {
    "execution": {
     "iopub.execute_input": "2024-07-13T05:44:37.277082Z",
     "iopub.status.busy": "2024-07-13T05:44:37.276840Z",
     "iopub.status.idle": "2024-07-13T07:43:04.260700Z",
     "shell.execute_reply": "2024-07-13T07:43:04.259637Z"
    },
    "papermill": {
     "duration": 7106.991533,
     "end_time": "2024-07-13T07:43:04.262618",
     "exception": false,
     "start_time": "2024-07-13T05:44:37.271085",
     "status": "completed"
    },
    "tags": []
   },
   "outputs": [
    {
     "name": "stdout",
     "output_type": "stream",
     "text": [
      "Running fold: 1\n",
      "Dev data size after oversampling: (126580, 57)\n",
      "Val data size: (80214, 57)\n",
      "final_target\n",
      "0    0.718368\n",
      "1    0.281632\n",
      "Name: proportion, dtype: float64\n"
     ]
    },
    {
     "name": "stderr",
     "output_type": "stream",
     "text": [
      "/opt/conda/lib/python3.10/site-packages/albumentations/augmentations/blur/transforms.py:180: UserWarning: blur_limit and sigma_limit minimum value can not be both equal to 0. blur_limit minimum value changed to 3.\n",
      "  warnings.warn(\n"
     ]
    },
    {
     "data": {
      "application/vnd.jupyter.widget-view+json": {
       "model_id": "b96978acd853451e8276602b783a3901",
       "version_major": 2,
       "version_minor": 0
      },
      "text/plain": [
       "model.safetensors:   0%|          | 0.00/46.8M [00:00<?, ?B/s]"
      ]
     },
     "metadata": {},
     "output_type": "display_data"
    },
    {
     "name": "stdout",
     "output_type": "stream",
     "text": [
      "Ready to train\n"
     ]
    },
    {
     "name": "stderr",
     "output_type": "stream",
     "text": [
      "100%|██████████| 495/495 [12:57<00:00,  1.57s/it]\n",
      "100%|██████████| 314/314 [00:46<00:00,  6.76it/s]\n"
     ]
    },
    {
     "name": "stdout",
     "output_type": "stream",
     "text": [
      "Epoch pauc: 0.15467437338233594 | Best auc: 0.9343784483357963 | Best pauc: 0.15467437338233594 | Best epoch: 0\n"
     ]
    },
    {
     "name": "stderr",
     "output_type": "stream",
     "text": [
      "100%|██████████| 495/495 [10:57<00:00,  1.33s/it]\n",
      "100%|██████████| 314/314 [00:43<00:00,  7.27it/s]\n"
     ]
    },
    {
     "name": "stdout",
     "output_type": "stream",
     "text": [
      "Epoch pauc: 0.15586849727633634 | Best auc: 0.9391681356067345 | Best pauc: 0.15586849727633634 | Best epoch: 1\n",
      "\n",
      "\n",
      "Running fold: 2\n",
      "Dev data size after oversampling: (126587, 57)\n",
      "Val data size: (80212, 57)\n",
      "final_target\n",
      "0    0.718383\n",
      "1    0.281617\n",
      "Name: proportion, dtype: float64\n"
     ]
    },
    {
     "name": "stderr",
     "output_type": "stream",
     "text": [
      "/opt/conda/lib/python3.10/site-packages/albumentations/augmentations/blur/transforms.py:180: UserWarning: blur_limit and sigma_limit minimum value can not be both equal to 0. blur_limit minimum value changed to 3.\n",
      "  warnings.warn(\n"
     ]
    },
    {
     "name": "stdout",
     "output_type": "stream",
     "text": [
      "Ready to train\n"
     ]
    },
    {
     "name": "stderr",
     "output_type": "stream",
     "text": [
      "100%|██████████| 495/495 [10:50<00:00,  1.31s/it]\n",
      "100%|██████████| 314/314 [00:43<00:00,  7.24it/s]\n"
     ]
    },
    {
     "name": "stdout",
     "output_type": "stream",
     "text": [
      "Epoch pauc: 0.14457191255928367 | Best auc: 0.9249212696937759 | Best pauc: 0.14457191255928367 | Best epoch: 0\n"
     ]
    },
    {
     "name": "stderr",
     "output_type": "stream",
     "text": [
      "100%|██████████| 495/495 [10:51<00:00,  1.32s/it]\n",
      "100%|██████████| 314/314 [00:43<00:00,  7.29it/s]\n"
     ]
    },
    {
     "name": "stdout",
     "output_type": "stream",
     "text": [
      "Epoch pauc: 0.15323922173948376 | Best auc: 0.9362478105583404 | Best pauc: 0.15323922173948376 | Best epoch: 1\n",
      "\n",
      "\n",
      "Running fold: 3\n",
      "Dev data size after oversampling: (126579, 57)\n",
      "Val data size: (80211, 57)\n",
      "final_target\n",
      "0    0.718366\n",
      "1    0.281634\n",
      "Name: proportion, dtype: float64\n"
     ]
    },
    {
     "name": "stderr",
     "output_type": "stream",
     "text": [
      "/opt/conda/lib/python3.10/site-packages/albumentations/augmentations/blur/transforms.py:180: UserWarning: blur_limit and sigma_limit minimum value can not be both equal to 0. blur_limit minimum value changed to 3.\n",
      "  warnings.warn(\n"
     ]
    },
    {
     "name": "stdout",
     "output_type": "stream",
     "text": [
      "Ready to train\n"
     ]
    },
    {
     "name": "stderr",
     "output_type": "stream",
     "text": [
      "100%|██████████| 495/495 [10:48<00:00,  1.31s/it]\n",
      "100%|██████████| 314/314 [00:43<00:00,  7.24it/s]\n"
     ]
    },
    {
     "name": "stdout",
     "output_type": "stream",
     "text": [
      "Epoch pauc: 0.1393973618200197 | Best auc: 0.9213317879472364 | Best pauc: 0.1393973618200197 | Best epoch: 0\n"
     ]
    },
    {
     "name": "stderr",
     "output_type": "stream",
     "text": [
      "100%|██████████| 495/495 [10:46<00:00,  1.31s/it]\n",
      "100%|██████████| 314/314 [00:43<00:00,  7.26it/s]\n"
     ]
    },
    {
     "name": "stdout",
     "output_type": "stream",
     "text": [
      "Epoch pauc: 0.14612993098800708 | Best auc: 0.9315484955884739 | Best pauc: 0.14612993098800708 | Best epoch: 1\n",
      "\n",
      "\n",
      "Running fold: 4\n",
      "Dev data size after oversampling: (126579, 57)\n",
      "Val data size: (80211, 57)\n",
      "final_target\n",
      "0    0.718366\n",
      "1    0.281634\n",
      "Name: proportion, dtype: float64\n"
     ]
    },
    {
     "name": "stderr",
     "output_type": "stream",
     "text": [
      "/opt/conda/lib/python3.10/site-packages/albumentations/augmentations/blur/transforms.py:180: UserWarning: blur_limit and sigma_limit minimum value can not be both equal to 0. blur_limit minimum value changed to 3.\n",
      "  warnings.warn(\n"
     ]
    },
    {
     "name": "stdout",
     "output_type": "stream",
     "text": [
      "Ready to train\n"
     ]
    },
    {
     "name": "stderr",
     "output_type": "stream",
     "text": [
      "100%|██████████| 495/495 [11:09<00:00,  1.35s/it]\n",
      "100%|██████████| 314/314 [00:43<00:00,  7.18it/s]\n"
     ]
    },
    {
     "name": "stdout",
     "output_type": "stream",
     "text": [
      "Epoch pauc: 0.15588317879472358 | Best auc: 0.9383029039947087 | Best pauc: 0.15588317879472358 | Best epoch: 0\n"
     ]
    },
    {
     "name": "stderr",
     "output_type": "stream",
     "text": [
      "100%|██████████| 495/495 [10:58<00:00,  1.33s/it]\n",
      "100%|██████████| 314/314 [00:43<00:00,  7.28it/s]\n"
     ]
    },
    {
     "name": "stdout",
     "output_type": "stream",
     "text": [
      "Epoch pauc: 0.15783404674844936 | Best auc: 0.9431025445832449 | Best pauc: 0.15783404674844936 | Best epoch: 1\n",
      "\n",
      "\n",
      "Running fold: 5\n",
      "Dev data size after oversampling: (126586, 57)\n",
      "Val data size: (80211, 57)\n",
      "final_target\n",
      "0    0.718381\n",
      "1    0.281619\n",
      "Name: proportion, dtype: float64\n"
     ]
    },
    {
     "name": "stderr",
     "output_type": "stream",
     "text": [
      "/opt/conda/lib/python3.10/site-packages/albumentations/augmentations/blur/transforms.py:180: UserWarning: blur_limit and sigma_limit minimum value can not be both equal to 0. blur_limit minimum value changed to 3.\n",
      "  warnings.warn(\n"
     ]
    },
    {
     "name": "stdout",
     "output_type": "stream",
     "text": [
      "Ready to train\n"
     ]
    },
    {
     "name": "stderr",
     "output_type": "stream",
     "text": [
      "100%|██████████| 495/495 [10:53<00:00,  1.32s/it]\n",
      "100%|██████████| 314/314 [00:43<00:00,  7.29it/s]\n"
     ]
    },
    {
     "name": "stdout",
     "output_type": "stream",
     "text": [
      "Epoch pauc: 0.1340723291118259 | Best auc: 0.9101815347369614 | Best pauc: 0.1340723291118259 | Best epoch: 0\n"
     ]
    },
    {
     "name": "stderr",
     "output_type": "stream",
     "text": [
      "100%|██████████| 495/495 [10:51<00:00,  1.32s/it]\n",
      "100%|██████████| 314/314 [00:42<00:00,  7.34it/s]\n"
     ]
    },
    {
     "name": "stdout",
     "output_type": "stream",
     "text": [
      "Epoch pauc: 0.15046869195347348 | Best auc: 0.9288057002668961 | Best pauc: 0.15046869195347348 | Best epoch: 1\n",
      "\n",
      "\n"
     ]
    }
   ],
   "source": [
    "best_num_epochs = {}\n",
    "val_auc_scores = {}\n",
    "val_pauc_scores = {}\n",
    "all_folds = np.sort(folds.unique())\n",
    "oof_predictions = np.zeros(train_metadata.shape[0])\n",
    "for fold in all_folds:\n",
    "    accelerator = Accelerator(cpu=cfg.cpu, mixed_precision=cfg.mixed_precision)\n",
    "    \n",
    "    set_seed(cfg.seed)\n",
    "    \n",
    "    print(f\"Running fold: {fold}\")\n",
    "    dev_index = folds[folds != fold].index\n",
    "    val_index = folds[folds == fold].index\n",
    "    \n",
    "    oversampled_dev_index = make_over_sample(dev_index, y_train, cfg.pos_ratio)\n",
    "    \n",
    "    dev_metadata = train_metadata.loc[oversampled_dev_index, :].reset_index(drop=True);print(f\"Dev data size after oversampling: {dev_metadata.shape}\")\n",
    "    val_metadata = train_metadata.loc[val_index, :].reset_index(drop=True);print(f\"Val data size: {val_metadata.shape}\")\n",
    "    \n",
    "    print(dev_metadata[target_column].value_counts(normalize=True))\n",
    "    \n",
    "    dev_dataset = ISICDataset(dev_metadata, train_images, augment=dev_augment(image_size=cfg.image_size))\n",
    "    val_dataset = ISICDataset(val_metadata, train_images, augment=val_augment(image_size=cfg.image_size))\n",
    "\n",
    "    dev_dataloader = DataLoader(dev_dataset, shuffle=True, batch_size=cfg.train_batch_size, num_workers=cfg.train_num_worker, pin_memory=True)\n",
    "    val_dataloader = DataLoader(val_dataset, shuffle=False, batch_size=cfg.val_batch_size, num_workers=cfg.val_num_worker, drop_last=False, pin_memory=True)\n",
    "    \n",
    "    net = ISICNet(pretrained=True)\n",
    "    net = net.to(accelerator.device)\n",
    "        \n",
    "    optimizer = torch.optim.Adam(net.parameters(), lr=cfg.lr / 5)\n",
    "    lr_scheduler = OneCycleLR(optimizer=optimizer, max_lr=cfg.lr, epochs=cfg.num_epochs, steps_per_epoch=len(dev_dataloader))\n",
    "\n",
    "    net, optimizer, dev_dataloader, val_dataloader, lr_scheduler = accelerator.prepare(\n",
    "        net, optimizer, dev_dataloader, val_dataloader, lr_scheduler\n",
    "    )\n",
    "    \n",
    "    print(\"Ready to train\")\n",
    "    \n",
    "    overall_step = 0\n",
    "    starting_epoch = 0\n",
    "    best_pauc_score = -np.Inf\n",
    "    best_auc_score = -np.Inf\n",
    "    best_epoch = None\n",
    "    best_val_preds = None\n",
    "\n",
    "    for epoch in range(starting_epoch, cfg.num_epochs):\n",
    "        net.train()\n",
    "        for step, batch in tqdm(enumerate(dev_dataloader), total=len(dev_dataloader)):\n",
    "            # We could avoid this line since we set the accelerator with `device_placement=True`.\n",
    "            batch = {k: v.to(accelerator.device) for k, v in batch.items()}\n",
    "            optimizer.zero_grad()\n",
    "            outputs = net(batch)\n",
    "            loss = F.binary_cross_entropy_with_logits(outputs, batch[\"target\"].unsqueeze(1))\n",
    "            accelerator.backward(loss)\n",
    "            optimizer.step()\n",
    "            lr_scheduler.step()\n",
    "\n",
    "        net.eval()\n",
    "        val_preds = []\n",
    "        val_y = []\n",
    "        for step, batch in tqdm(enumerate(val_dataloader), total=len(val_dataloader)):\n",
    "            # We could avoid this line since we set the accelerator with `device_placement=True`.\n",
    "            batch = {k: v.to(accelerator.device) for k, v in batch.items()}\n",
    "            image0 = batch['image'].clone().detach()\n",
    "            val_preds_batch = 0\n",
    "            counter = 0\n",
    "            with torch.no_grad():\n",
    "                outputs = net(batch)\n",
    "            preds = torch.sigmoid(outputs)\n",
    "            val_y_batch = batch[\"target\"]\n",
    "            preds, val_y_batch = accelerator.gather_for_metrics((preds, val_y_batch))\n",
    "            val_preds_batch += preds.data.cpu().numpy().reshape(-1)\n",
    "            counter += 1\n",
    "            if cfg.tta:\n",
    "                batch[\"image\"] = torch.flip(image0,dims=[2])\n",
    "                with torch.no_grad():\n",
    "                    outputs = net(batch)\n",
    "                preds = torch.sigmoid(outputs)\n",
    "                preds = accelerator.gather_for_metrics((preds))\n",
    "                val_preds_batch += preds.data.cpu().numpy().reshape(-1)\n",
    "                counter += 1\n",
    "                \n",
    "                batch[\"image\"] = torch.flip(image0,dims=[3])\n",
    "                with torch.no_grad():\n",
    "                    outputs = net(batch)\n",
    "                preds = torch.sigmoid(outputs)\n",
    "                preds = accelerator.gather_for_metrics((preds))\n",
    "                val_preds_batch += preds.data.cpu().numpy().reshape(-1)\n",
    "                counter += 1\n",
    "                \n",
    "                for k in [1, 2, 3]:\n",
    "                    batch[\"image\"] = torch.rot90(image0,k, dims=[2, 3])\n",
    "                    with torch.no_grad():\n",
    "                        outputs = net(batch)\n",
    "                    preds = torch.sigmoid(outputs)\n",
    "                    preds = accelerator.gather_for_metrics((preds))\n",
    "                    val_preds_batch += preds.data.cpu().numpy().reshape(-1)\n",
    "                    counter += 1\n",
    "            val_preds_batch = val_preds_batch / counter   \n",
    "            val_preds.append(val_preds_batch)    \n",
    "            val_y.append(val_y_batch.data.cpu().numpy().reshape(-1))\n",
    "            \n",
    "        val_preds = np.concatenate(val_preds)\n",
    "        val_y = np.concatenate(val_y)\n",
    "        auc = compute_auc(val_y, val_preds) \n",
    "        pauc = compute_pauc(val_y, val_preds, min_tpr=0.80)\n",
    "        \n",
    "        if pauc >= best_pauc_score:\n",
    "            best_auc_score = auc\n",
    "            best_pauc_score = pauc\n",
    "            best_epoch = epoch\n",
    "            best_val_preds = val_preds\n",
    "        print(f\"Epoch pauc: {pauc} | Best auc: {best_auc_score} | Best pauc: {best_pauc_score} | Best epoch: {best_epoch}\")\n",
    "        \n",
    "        output_dir = f\"fold_{fold}/model_{cfg.model_name}_epoch_{epoch}\"\n",
    "        if cfg.models_output_dir is not None:\n",
    "            output_dir = Path(f\"{cfg.models_output_dir}/{output_dir}\")\n",
    "        accelerator.save_state(output_dir)\n",
    "    \n",
    "    best_num_epochs[f\"fold_{fold}\"] = best_epoch\n",
    "    val_auc_scores[f\"fold_{fold}\"] = best_auc_score\n",
    "    val_pauc_scores[f\"fold_{fold}\"] = best_pauc_score\n",
    "    \n",
    "    oof_predictions[val_index] = best_val_preds\n",
    "    print(\"\\n\")\n",
    "#     break"
   ]
  },
  {
   "cell_type": "code",
   "execution_count": 8,
   "id": "9bdbff5a",
   "metadata": {
    "execution": {
     "iopub.execute_input": "2024-07-13T07:43:05.397196Z",
     "iopub.status.busy": "2024-07-13T07:43:05.396452Z",
     "iopub.status.idle": "2024-07-13T07:43:07.102259Z",
     "shell.execute_reply": "2024-07-13T07:43:07.101339Z"
    },
    "papermill": {
     "duration": 2.243947,
     "end_time": "2024-07-13T07:43:07.104461",
     "exception": false,
     "start_time": "2024-07-13T07:43:04.860514",
     "status": "completed"
    },
    "tags": []
   },
   "outputs": [
    {
     "data": {
      "text/html": [
       "<div>\n",
       "<style scoped>\n",
       "    .dataframe tbody tr th:only-of-type {\n",
       "        vertical-align: middle;\n",
       "    }\n",
       "\n",
       "    .dataframe tbody tr th {\n",
       "        vertical-align: top;\n",
       "    }\n",
       "\n",
       "    .dataframe thead th {\n",
       "        text-align: right;\n",
       "    }\n",
       "</style>\n",
       "<table border=\"1\" class=\"dataframe\">\n",
       "  <thead>\n",
       "    <tr style=\"text-align: right;\">\n",
       "      <th></th>\n",
       "      <th>isic_id</th>\n",
       "      <th>patient_id</th>\n",
       "      <th>fold</th>\n",
       "      <th>final_target</th>\n",
       "      <th>oof_resnet18_v1</th>\n",
       "    </tr>\n",
       "  </thead>\n",
       "  <tbody>\n",
       "    <tr>\n",
       "      <th>0</th>\n",
       "      <td>ISIC_0015670</td>\n",
       "      <td>IP_1235828</td>\n",
       "      <td>4</td>\n",
       "      <td>0</td>\n",
       "      <td>0.021297</td>\n",
       "    </tr>\n",
       "    <tr>\n",
       "      <th>1</th>\n",
       "      <td>ISIC_0015845</td>\n",
       "      <td>IP_8170065</td>\n",
       "      <td>1</td>\n",
       "      <td>0</td>\n",
       "      <td>0.284120</td>\n",
       "    </tr>\n",
       "    <tr>\n",
       "      <th>2</th>\n",
       "      <td>ISIC_0015864</td>\n",
       "      <td>IP_6724798</td>\n",
       "      <td>5</td>\n",
       "      <td>0</td>\n",
       "      <td>0.006801</td>\n",
       "    </tr>\n",
       "    <tr>\n",
       "      <th>3</th>\n",
       "      <td>ISIC_0015902</td>\n",
       "      <td>IP_4111386</td>\n",
       "      <td>2</td>\n",
       "      <td>0</td>\n",
       "      <td>0.007543</td>\n",
       "    </tr>\n",
       "    <tr>\n",
       "      <th>4</th>\n",
       "      <td>ISIC_0024200</td>\n",
       "      <td>IP_8313778</td>\n",
       "      <td>1</td>\n",
       "      <td>0</td>\n",
       "      <td>0.165792</td>\n",
       "    </tr>\n",
       "  </tbody>\n",
       "</table>\n",
       "</div>"
      ],
      "text/plain": [
       "        isic_id  patient_id  fold  final_target  oof_resnet18_v1\n",
       "0  ISIC_0015670  IP_1235828     4             0         0.021297\n",
       "1  ISIC_0015845  IP_8170065     1             0         0.284120\n",
       "2  ISIC_0015864  IP_6724798     5             0         0.006801\n",
       "3  ISIC_0015902  IP_4111386     2             0         0.007543\n",
       "4  ISIC_0024200  IP_8313778     1             0         0.165792"
      ]
     },
     "execution_count": 8,
     "metadata": {},
     "output_type": "execute_result"
    }
   ],
   "source": [
    "oof_preds_df = pd.DataFrame({\n",
    "    id_column: train_ids,\n",
    "    group_column: groups,\n",
    "    \"fold\": folds,\n",
    "    target_column: y_train,\n",
    "    f\"oof_{cfg.model_name}\": oof_predictions\n",
    "})\n",
    "oof_preds_df.to_csv(f\"oof_preds_{cfg.model_name}.csv\", index=False)\n",
    "oof_preds_df.head()"
   ]
  },
  {
   "cell_type": "code",
   "execution_count": 9,
   "id": "1da355e7",
   "metadata": {
    "execution": {
     "iopub.execute_input": "2024-07-13T07:43:08.175684Z",
     "iopub.status.busy": "2024-07-13T07:43:08.175327Z",
     "iopub.status.idle": "2024-07-13T07:43:08.181482Z",
     "shell.execute_reply": "2024-07-13T07:43:08.180480Z"
    },
    "papermill": {
     "duration": 0.54233,
     "end_time": "2024-07-13T07:43:08.183581",
     "exception": false,
     "start_time": "2024-07-13T07:43:07.641251",
     "status": "completed"
    },
    "tags": []
   },
   "outputs": [
    {
     "data": {
      "text/plain": [
       "{'fold_1': 1, 'fold_2': 1, 'fold_3': 1, 'fold_4': 1, 'fold_5': 1}"
      ]
     },
     "execution_count": 9,
     "metadata": {},
     "output_type": "execute_result"
    }
   ],
   "source": [
    "best_num_epochs"
   ]
  },
  {
   "cell_type": "code",
   "execution_count": 10,
   "id": "bbfc1e71",
   "metadata": {
    "execution": {
     "iopub.execute_input": "2024-07-13T07:43:09.261023Z",
     "iopub.status.busy": "2024-07-13T07:43:09.260653Z",
     "iopub.status.idle": "2024-07-13T07:43:09.266932Z",
     "shell.execute_reply": "2024-07-13T07:43:09.266088Z"
    },
    "papermill": {
     "duration": 0.546609,
     "end_time": "2024-07-13T07:43:09.269012",
     "exception": false,
     "start_time": "2024-07-13T07:43:08.722403",
     "status": "completed"
    },
    "tags": []
   },
   "outputs": [
    {
     "data": {
      "text/plain": [
       "{'fold_1': 0.9391681356067345,\n",
       " 'fold_2': 0.9362478105583404,\n",
       " 'fold_3': 0.9315484955884739,\n",
       " 'fold_4': 0.9431025445832449,\n",
       " 'fold_5': 0.9288057002668961}"
      ]
     },
     "execution_count": 10,
     "metadata": {},
     "output_type": "execute_result"
    }
   ],
   "source": [
    "val_auc_scores"
   ]
  },
  {
   "cell_type": "code",
   "execution_count": 11,
   "id": "7d8fc2d1",
   "metadata": {
    "execution": {
     "iopub.execute_input": "2024-07-13T07:43:10.399034Z",
     "iopub.status.busy": "2024-07-13T07:43:10.398663Z",
     "iopub.status.idle": "2024-07-13T07:43:10.404356Z",
     "shell.execute_reply": "2024-07-13T07:43:10.403468Z"
    },
    "papermill": {
     "duration": 0.543707,
     "end_time": "2024-07-13T07:43:10.406144",
     "exception": false,
     "start_time": "2024-07-13T07:43:09.862437",
     "status": "completed"
    },
    "tags": []
   },
   "outputs": [
    {
     "data": {
      "text/plain": [
       "{'fold_1': 0.15586849727633634,\n",
       " 'fold_2': 0.15323922173948376,\n",
       " 'fold_3': 0.14612993098800708,\n",
       " 'fold_4': 0.15783404674844936,\n",
       " 'fold_5': 0.15046869195347348}"
      ]
     },
     "execution_count": 11,
     "metadata": {},
     "output_type": "execute_result"
    }
   ],
   "source": [
    "val_pauc_scores"
   ]
  },
  {
   "cell_type": "code",
   "execution_count": 12,
   "id": "e1229f05",
   "metadata": {
    "execution": {
     "iopub.execute_input": "2024-07-13T07:43:11.483380Z",
     "iopub.status.busy": "2024-07-13T07:43:11.482671Z",
     "iopub.status.idle": "2024-07-13T07:43:11.708653Z",
     "shell.execute_reply": "2024-07-13T07:43:11.707626Z"
    },
    "papermill": {
     "duration": 0.768096,
     "end_time": "2024-07-13T07:43:11.710966",
     "exception": false,
     "start_time": "2024-07-13T07:43:10.942870",
     "status": "completed"
    },
    "tags": []
   },
   "outputs": [],
   "source": [
    "cv_auc_oof = compute_auc(oof_preds_df[target_column], oof_preds_df[f\"oof_{cfg.model_name}\"])\n",
    "cv_pauc_oof = compute_pauc(oof_preds_df[target_column], oof_preds_df[f\"oof_{cfg.model_name}\"], min_tpr=0.8)\n",
    "\n",
    "cv_auc_avg = np.mean(list(val_auc_scores.values()))\n",
    "cv_pauc_avg = np.mean(list(val_pauc_scores.values()))"
   ]
  },
  {
   "cell_type": "code",
   "execution_count": 13,
   "id": "d8fb15d2",
   "metadata": {
    "execution": {
     "iopub.execute_input": "2024-07-13T07:43:12.845365Z",
     "iopub.status.busy": "2024-07-13T07:43:12.844544Z",
     "iopub.status.idle": "2024-07-13T07:43:12.849576Z",
     "shell.execute_reply": "2024-07-13T07:43:12.848750Z"
    },
    "papermill": {
     "duration": 0.54749,
     "end_time": "2024-07-13T07:43:12.851805",
     "exception": false,
     "start_time": "2024-07-13T07:43:12.304315",
     "status": "completed"
    },
    "tags": []
   },
   "outputs": [
    {
     "name": "stdout",
     "output_type": "stream",
     "text": [
      "CV AUC OOF: 0.9354068542035272\n",
      "CV PAUC OOF: 0.15227224406731746\n",
      "CV AUC AVG: 0.9357745373207379\n",
      "CV PAUC AVG: 0.15270807774115\n"
     ]
    }
   ],
   "source": [
    "print(f\"CV AUC OOF: {cv_auc_oof}\")\n",
    "print(f\"CV PAUC OOF: {cv_pauc_oof}\")\n",
    "print(f\"CV AUC AVG: {cv_auc_avg}\")\n",
    "print(f\"CV PAUC AVG: {cv_pauc_avg}\")"
   ]
  },
  {
   "cell_type": "code",
   "execution_count": 14,
   "id": "de307599",
   "metadata": {
    "execution": {
     "iopub.execute_input": "2024-07-13T07:43:13.946290Z",
     "iopub.status.busy": "2024-07-13T07:43:13.945917Z",
     "iopub.status.idle": "2024-07-13T07:43:13.952134Z",
     "shell.execute_reply": "2024-07-13T07:43:13.951421Z"
    },
    "papermill": {
     "duration": 0.562211,
     "end_time": "2024-07-13T07:43:13.954030",
     "exception": false,
     "start_time": "2024-07-13T07:43:13.391819",
     "status": "completed"
    },
    "tags": []
   },
   "outputs": [],
   "source": [
    "params = vars(cfg)\n",
    "params = {k: v for k, v in params.items() if not k.startswith(\"_\")}\n",
    "\n",
    "metadata = {\n",
    "    \"params\": params,\n",
    "    \"best_num_epochs\": best_num_epochs,\n",
    "    \"val_auc_scores\": val_auc_scores,\n",
    "    \"val_pauc_scores\": val_pauc_scores,\n",
    "    \"cv_auc_oof\": cv_auc_oof,\n",
    "    \"cv_pauc_oof\": cv_pauc_oof,\n",
    "    \"cv_auc_avg\": cv_auc_avg,\n",
    "    \"cv_pauc_avg\": cv_pauc_avg\n",
    "}\n",
    "\n",
    "with open(\"run_metadata.json\", \"w\") as f:\n",
    "    json.dump(metadata, f)"
   ]
  },
  {
   "cell_type": "code",
   "execution_count": null,
   "id": "55d05e45",
   "metadata": {
    "papermill": {
     "duration": 0.538589,
     "end_time": "2024-07-13T07:43:15.108531",
     "exception": false,
     "start_time": "2024-07-13T07:43:14.569942",
     "status": "completed"
    },
    "tags": []
   },
   "outputs": [],
   "source": []
  }
 ],
 "metadata": {
  "kaggle": {
   "accelerator": "gpu",
   "dataSources": [
    {
     "databundleVersionId": 9094797,
     "sourceId": 63056,
     "sourceType": "competition"
    },
    {
     "sourceId": 187439867,
     "sourceType": "kernelVersion"
    },
    {
     "sourceId": 187477024,
     "sourceType": "kernelVersion"
    }
   ],
   "dockerImageVersionId": 30732,
   "isGpuEnabled": true,
   "isInternetEnabled": true,
   "language": "python",
   "sourceType": "notebook"
  },
  "kernelspec": {
   "display_name": "Python 3",
   "language": "python",
   "name": "python3"
  },
  "language_info": {
   "codemirror_mode": {
    "name": "ipython",
    "version": 3
   },
   "file_extension": ".py",
   "mimetype": "text/x-python",
   "name": "python",
   "nbconvert_exporter": "python",
   "pygments_lexer": "ipython3",
   "version": "3.10.13"
  },
  "papermill": {
   "default_parameters": {},
   "duration": 7142.273964,
   "end_time": "2024-07-13T07:43:18.393587",
   "environment_variables": {},
   "exception": null,
   "input_path": "__notebook__.ipynb",
   "output_path": "__notebook__.ipynb",
   "parameters": {},
   "start_time": "2024-07-13T05:44:16.119623",
   "version": "2.5.0"
  },
  "widgets": {
   "application/vnd.jupyter.widget-state+json": {
    "state": {
     "2c2552facc4541c98323138deb1132ce": {
      "model_module": "@jupyter-widgets/base",
      "model_module_version": "1.2.0",
      "model_name": "LayoutModel",
      "state": {
       "_model_module": "@jupyter-widgets/base",
       "_model_module_version": "1.2.0",
       "_model_name": "LayoutModel",
       "_view_count": null,
       "_view_module": "@jupyter-widgets/base",
       "_view_module_version": "1.2.0",
       "_view_name": "LayoutView",
       "align_content": null,
       "align_items": null,
       "align_self": null,
       "border": null,
       "bottom": null,
       "display": null,
       "flex": null,
       "flex_flow": null,
       "grid_area": null,
       "grid_auto_columns": null,
       "grid_auto_flow": null,
       "grid_auto_rows": null,
       "grid_column": null,
       "grid_gap": null,
       "grid_row": null,
       "grid_template_areas": null,
       "grid_template_columns": null,
       "grid_template_rows": null,
       "height": null,
       "justify_content": null,
       "justify_items": null,
       "left": null,
       "margin": null,
       "max_height": null,
       "max_width": null,
       "min_height": null,
       "min_width": null,
       "object_fit": null,
       "object_position": null,
       "order": null,
       "overflow": null,
       "overflow_x": null,
       "overflow_y": null,
       "padding": null,
       "right": null,
       "top": null,
       "visibility": null,
       "width": null
      }
     },
     "32dfbcc201bc45e09bb8404ab94765c6": {
      "model_module": "@jupyter-widgets/base",
      "model_module_version": "1.2.0",
      "model_name": "LayoutModel",
      "state": {
       "_model_module": "@jupyter-widgets/base",
       "_model_module_version": "1.2.0",
       "_model_name": "LayoutModel",
       "_view_count": null,
       "_view_module": "@jupyter-widgets/base",
       "_view_module_version": "1.2.0",
       "_view_name": "LayoutView",
       "align_content": null,
       "align_items": null,
       "align_self": null,
       "border": null,
       "bottom": null,
       "display": null,
       "flex": null,
       "flex_flow": null,
       "grid_area": null,
       "grid_auto_columns": null,
       "grid_auto_flow": null,
       "grid_auto_rows": null,
       "grid_column": null,
       "grid_gap": null,
       "grid_row": null,
       "grid_template_areas": null,
       "grid_template_columns": null,
       "grid_template_rows": null,
       "height": null,
       "justify_content": null,
       "justify_items": null,
       "left": null,
       "margin": null,
       "max_height": null,
       "max_width": null,
       "min_height": null,
       "min_width": null,
       "object_fit": null,
       "object_position": null,
       "order": null,
       "overflow": null,
       "overflow_x": null,
       "overflow_y": null,
       "padding": null,
       "right": null,
       "top": null,
       "visibility": null,
       "width": null
      }
     },
     "3688c8c0e90d46998c27eaa2ae1959a5": {
      "model_module": "@jupyter-widgets/base",
      "model_module_version": "1.2.0",
      "model_name": "LayoutModel",
      "state": {
       "_model_module": "@jupyter-widgets/base",
       "_model_module_version": "1.2.0",
       "_model_name": "LayoutModel",
       "_view_count": null,
       "_view_module": "@jupyter-widgets/base",
       "_view_module_version": "1.2.0",
       "_view_name": "LayoutView",
       "align_content": null,
       "align_items": null,
       "align_self": null,
       "border": null,
       "bottom": null,
       "display": null,
       "flex": null,
       "flex_flow": null,
       "grid_area": null,
       "grid_auto_columns": null,
       "grid_auto_flow": null,
       "grid_auto_rows": null,
       "grid_column": null,
       "grid_gap": null,
       "grid_row": null,
       "grid_template_areas": null,
       "grid_template_columns": null,
       "grid_template_rows": null,
       "height": null,
       "justify_content": null,
       "justify_items": null,
       "left": null,
       "margin": null,
       "max_height": null,
       "max_width": null,
       "min_height": null,
       "min_width": null,
       "object_fit": null,
       "object_position": null,
       "order": null,
       "overflow": null,
       "overflow_x": null,
       "overflow_y": null,
       "padding": null,
       "right": null,
       "top": null,
       "visibility": null,
       "width": null
      }
     },
     "3980cba083034b5ca7f23437c0360ae6": {
      "model_module": "@jupyter-widgets/controls",
      "model_module_version": "1.5.0",
      "model_name": "HTMLModel",
      "state": {
       "_dom_classes": [],
       "_model_module": "@jupyter-widgets/controls",
       "_model_module_version": "1.5.0",
       "_model_name": "HTMLModel",
       "_view_count": null,
       "_view_module": "@jupyter-widgets/controls",
       "_view_module_version": "1.5.0",
       "_view_name": "HTMLView",
       "description": "",
       "description_tooltip": null,
       "layout": "IPY_MODEL_3688c8c0e90d46998c27eaa2ae1959a5",
       "placeholder": "​",
       "style": "IPY_MODEL_471c314d192b4eab952b3f03677eee8c",
       "value": "model.safetensors: 100%"
      }
     },
     "471c314d192b4eab952b3f03677eee8c": {
      "model_module": "@jupyter-widgets/controls",
      "model_module_version": "1.5.0",
      "model_name": "DescriptionStyleModel",
      "state": {
       "_model_module": "@jupyter-widgets/controls",
       "_model_module_version": "1.5.0",
       "_model_name": "DescriptionStyleModel",
       "_view_count": null,
       "_view_module": "@jupyter-widgets/base",
       "_view_module_version": "1.2.0",
       "_view_name": "StyleView",
       "description_width": ""
      }
     },
     "50f110106a334dc58e2570be638b03eb": {
      "model_module": "@jupyter-widgets/controls",
      "model_module_version": "1.5.0",
      "model_name": "HTMLModel",
      "state": {
       "_dom_classes": [],
       "_model_module": "@jupyter-widgets/controls",
       "_model_module_version": "1.5.0",
       "_model_name": "HTMLModel",
       "_view_count": null,
       "_view_module": "@jupyter-widgets/controls",
       "_view_module_version": "1.5.0",
       "_view_name": "HTMLView",
       "description": "",
       "description_tooltip": null,
       "layout": "IPY_MODEL_d78520f23fe347e18bd2a5bce6d1565f",
       "placeholder": "​",
       "style": "IPY_MODEL_82ca49826b0445d0be3aede3abd175c8",
       "value": " 46.8M/46.8M [00:00&lt;00:00, 167MB/s]"
      }
     },
     "82ca49826b0445d0be3aede3abd175c8": {
      "model_module": "@jupyter-widgets/controls",
      "model_module_version": "1.5.0",
      "model_name": "DescriptionStyleModel",
      "state": {
       "_model_module": "@jupyter-widgets/controls",
       "_model_module_version": "1.5.0",
       "_model_name": "DescriptionStyleModel",
       "_view_count": null,
       "_view_module": "@jupyter-widgets/base",
       "_view_module_version": "1.2.0",
       "_view_name": "StyleView",
       "description_width": ""
      }
     },
     "87505e4286e14db2b0ba3f4a7e7f6149": {
      "model_module": "@jupyter-widgets/controls",
      "model_module_version": "1.5.0",
      "model_name": "FloatProgressModel",
      "state": {
       "_dom_classes": [],
       "_model_module": "@jupyter-widgets/controls",
       "_model_module_version": "1.5.0",
       "_model_name": "FloatProgressModel",
       "_view_count": null,
       "_view_module": "@jupyter-widgets/controls",
       "_view_module_version": "1.5.0",
       "_view_name": "ProgressView",
       "bar_style": "success",
       "description": "",
       "description_tooltip": null,
       "layout": "IPY_MODEL_32dfbcc201bc45e09bb8404ab94765c6",
       "max": 46807446.0,
       "min": 0.0,
       "orientation": "horizontal",
       "style": "IPY_MODEL_bf15927bdaba4d859345a5725604f587",
       "value": 46807446.0
      }
     },
     "b96978acd853451e8276602b783a3901": {
      "model_module": "@jupyter-widgets/controls",
      "model_module_version": "1.5.0",
      "model_name": "HBoxModel",
      "state": {
       "_dom_classes": [],
       "_model_module": "@jupyter-widgets/controls",
       "_model_module_version": "1.5.0",
       "_model_name": "HBoxModel",
       "_view_count": null,
       "_view_module": "@jupyter-widgets/controls",
       "_view_module_version": "1.5.0",
       "_view_name": "HBoxView",
       "box_style": "",
       "children": [
        "IPY_MODEL_3980cba083034b5ca7f23437c0360ae6",
        "IPY_MODEL_87505e4286e14db2b0ba3f4a7e7f6149",
        "IPY_MODEL_50f110106a334dc58e2570be638b03eb"
       ],
       "layout": "IPY_MODEL_2c2552facc4541c98323138deb1132ce"
      }
     },
     "bf15927bdaba4d859345a5725604f587": {
      "model_module": "@jupyter-widgets/controls",
      "model_module_version": "1.5.0",
      "model_name": "ProgressStyleModel",
      "state": {
       "_model_module": "@jupyter-widgets/controls",
       "_model_module_version": "1.5.0",
       "_model_name": "ProgressStyleModel",
       "_view_count": null,
       "_view_module": "@jupyter-widgets/base",
       "_view_module_version": "1.2.0",
       "_view_name": "StyleView",
       "bar_color": null,
       "description_width": ""
      }
     },
     "d78520f23fe347e18bd2a5bce6d1565f": {
      "model_module": "@jupyter-widgets/base",
      "model_module_version": "1.2.0",
      "model_name": "LayoutModel",
      "state": {
       "_model_module": "@jupyter-widgets/base",
       "_model_module_version": "1.2.0",
       "_model_name": "LayoutModel",
       "_view_count": null,
       "_view_module": "@jupyter-widgets/base",
       "_view_module_version": "1.2.0",
       "_view_name": "LayoutView",
       "align_content": null,
       "align_items": null,
       "align_self": null,
       "border": null,
       "bottom": null,
       "display": null,
       "flex": null,
       "flex_flow": null,
       "grid_area": null,
       "grid_auto_columns": null,
       "grid_auto_flow": null,
       "grid_auto_rows": null,
       "grid_column": null,
       "grid_gap": null,
       "grid_row": null,
       "grid_template_areas": null,
       "grid_template_columns": null,
       "grid_template_rows": null,
       "height": null,
       "justify_content": null,
       "justify_items": null,
       "left": null,
       "margin": null,
       "max_height": null,
       "max_width": null,
       "min_height": null,
       "min_width": null,
       "object_fit": null,
       "object_position": null,
       "order": null,
       "overflow": null,
       "overflow_x": null,
       "overflow_y": null,
       "padding": null,
       "right": null,
       "top": null,
       "visibility": null,
       "width": null
      }
     }
    },
    "version_major": 2,
    "version_minor": 0
   }
  }
 },
 "nbformat": 4,
 "nbformat_minor": 5
}
