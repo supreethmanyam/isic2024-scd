{
 "cells": [
  {
   "cell_type": "code",
   "execution_count": 1,
   "id": "ac6050f1",
   "metadata": {
    "_cell_guid": "b1076dfc-b9ad-4769-8c92-a6c4dae69d19",
    "_uuid": "8f2839f25d086af736a60e9eeb907d3b93b6e0e5",
    "execution": {
     "iopub.execute_input": "2024-07-09T20:56:47.723624Z",
     "iopub.status.busy": "2024-07-09T20:56:47.723311Z",
     "iopub.status.idle": "2024-07-09T20:56:57.498315Z",
     "shell.execute_reply": "2024-07-09T20:56:57.497542Z"
    },
    "papermill": {
     "duration": 9.783542,
     "end_time": "2024-07-09T20:56:57.500715",
     "exception": false,
     "start_time": "2024-07-09T20:56:47.717173",
     "status": "completed"
    },
    "tags": []
   },
   "outputs": [],
   "source": [
    "import json\n",
    "import joblib\n",
    "from pathlib import Path\n",
    "from timeit import default_timer as timer\n",
    "\n",
    "import pandas as pd\n",
    "import numpy as np\n",
    "from io import BytesIO\n",
    "from PIL import Image\n",
    "import h5py\n",
    "\n",
    "import torch\n",
    "import torch.nn as nn\n",
    "import torch.nn.functional as F\n",
    "from torch.utils.data import DataLoader, Dataset\n",
    "import albumentations as A\n",
    "from albumentations.pytorch import ToTensorV2\n",
    "from timm import create_model\n",
    "from torch.optim.lr_scheduler import OneCycleLR\n",
    "\n",
    "from accelerate import Accelerator\n",
    "\n",
    "from isic_helper import DotDict\n",
    "from isic_helper import get_folds\n",
    "from isic_helper import compute_auc, compute_pauc\n",
    "from isic_helper import set_seed\n",
    "from isic_helper import time_to_str"
   ]
  },
  {
   "cell_type": "code",
   "execution_count": 2,
   "id": "ab3ff93c",
   "metadata": {
    "execution": {
     "iopub.execute_input": "2024-07-09T20:56:57.511589Z",
     "iopub.status.busy": "2024-07-09T20:56:57.511131Z",
     "iopub.status.idle": "2024-07-09T20:56:57.516925Z",
     "shell.execute_reply": "2024-07-09T20:56:57.516045Z"
    },
    "papermill": {
     "duration": 0.013233,
     "end_time": "2024-07-09T20:56:57.518977",
     "exception": false,
     "start_time": "2024-07-09T20:56:57.505744",
     "status": "completed"
    },
    "tags": []
   },
   "outputs": [],
   "source": [
    "cfg = DotDict()\n",
    "cfg.infer = False\n",
    "cfg.cpu = False\n",
    "cfg.mixed_precision = None\n",
    "\n",
    "cfg.image_size = 384\n",
    "cfg.lr = 5e-4\n",
    "cfg.num_epochs = 2\n",
    "cfg.seed = 2022\n",
    "cfg.train_batch_size = 32\n",
    "cfg.train_num_worker = 2\n",
    "cfg.val_batch_size = 256\n",
    "cfg.val_num_worker = 2\n",
    "# cfg.log_every = 10\n",
    "\n",
    "cfg.models_output_dir = \"models\"\n",
    "cfg.model_name = \"resnet18_v1\""
   ]
  },
  {
   "cell_type": "code",
   "execution_count": 3,
   "id": "63096cc2",
   "metadata": {
    "execution": {
     "iopub.execute_input": "2024-07-09T20:56:57.528823Z",
     "iopub.status.busy": "2024-07-09T20:56:57.528511Z",
     "iopub.status.idle": "2024-07-09T20:57:07.936659Z",
     "shell.execute_reply": "2024-07-09T20:57:07.935579Z"
    },
    "papermill": {
     "duration": 10.415834,
     "end_time": "2024-07-09T20:57:07.939119",
     "exception": false,
     "start_time": "2024-07-09T20:56:57.523285",
     "status": "completed"
    },
    "tags": []
   },
   "outputs": [
    {
     "name": "stdout",
     "output_type": "stream",
     "text": [
      "Train data size: (20053, 57)\n"
     ]
    }
   ],
   "source": [
    "INPUT_PATH = Path(\"../input/isic-2024-challenge/\")\n",
    "MODELS_OUTPUT_PATH = Path(f\"{cfg.models_output_dir}\")\n",
    "MODELS_OUTPUT_PATH.mkdir(exist_ok=True)\n",
    "\n",
    "train_metadata = pd.read_csv(INPUT_PATH / \"train-metadata.csv\", low_memory=False)\n",
    "train_images = h5py.File(INPUT_PATH / \"train-image.hdf5\", mode=\"r\")\n",
    "\n",
    "folds_df = get_folds()\n",
    "train_metadata = train_metadata.merge(folds_df, on=[\"isic_id\", \"patient_id\"], how=\"inner\")\n",
    "train_metadata = train_metadata.sample(frac=0.05, random_state=cfg.seed)\n",
    "print(f\"Train data size: {train_metadata.shape}\")"
   ]
  },
  {
   "cell_type": "code",
   "execution_count": 4,
   "id": "60ce5c13",
   "metadata": {
    "execution": {
     "iopub.execute_input": "2024-07-09T20:57:07.950210Z",
     "iopub.status.busy": "2024-07-09T20:57:07.949851Z",
     "iopub.status.idle": "2024-07-09T20:57:07.955557Z",
     "shell.execute_reply": "2024-07-09T20:57:07.954570Z"
    },
    "papermill": {
     "duration": 0.013797,
     "end_time": "2024-07-09T20:57:07.957738",
     "exception": false,
     "start_time": "2024-07-09T20:57:07.943941",
     "status": "completed"
    },
    "tags": []
   },
   "outputs": [],
   "source": [
    "id_column = \"isic_id\"\n",
    "target_column = \"final_target\"\n",
    "group_column = \"patient_id\"\n",
    "\n",
    "train_ids = train_metadata[id_column]\n",
    "groups = train_metadata[group_column]\n",
    "folds = train_metadata[\"fold\"]\n",
    "y_train = train_metadata[target_column]"
   ]
  },
  {
   "cell_type": "code",
   "execution_count": 5,
   "id": "94c7659e",
   "metadata": {
    "execution": {
     "iopub.execute_input": "2024-07-09T20:57:07.968892Z",
     "iopub.status.busy": "2024-07-09T20:57:07.968620Z",
     "iopub.status.idle": "2024-07-09T20:57:08.056941Z",
     "shell.execute_reply": "2024-07-09T20:57:08.056075Z"
    },
    "papermill": {
     "duration": 0.096558,
     "end_time": "2024-07-09T20:57:08.059306",
     "exception": false,
     "start_time": "2024-07-09T20:57:07.962748",
     "status": "completed"
    },
    "tags": []
   },
   "outputs": [],
   "source": [
    "accelerator = Accelerator(cpu=cfg.cpu, mixed_precision=cfg.mixed_precision, device_placement=True)"
   ]
  },
  {
   "cell_type": "code",
   "execution_count": 6,
   "id": "817b2868",
   "metadata": {
    "execution": {
     "iopub.execute_input": "2024-07-09T20:57:08.071761Z",
     "iopub.status.busy": "2024-07-09T20:57:08.071018Z",
     "iopub.status.idle": "2024-07-09T20:57:08.089735Z",
     "shell.execute_reply": "2024-07-09T20:57:08.088930Z"
    },
    "papermill": {
     "duration": 0.027221,
     "end_time": "2024-07-09T20:57:08.091730",
     "exception": false,
     "start_time": "2024-07-09T20:57:08.064509",
     "status": "completed"
    },
    "tags": []
   },
   "outputs": [],
   "source": [
    "def dev_augment(image_size):\n",
    "    transform = A.Compose([\n",
    "        A.Resize(image_size, image_size),\n",
    "        A.Normalize(\n",
    "            mean=[0., 0., 0.],\n",
    "            std=[1, 1, 1],\n",
    "            max_pixel_value=255.0,\n",
    "            p=1.0\n",
    "        ),\n",
    "        ToTensorV2()\n",
    "    ], p=1.)\n",
    "    return transform\n",
    "\n",
    "def val_augment(image_size):\n",
    "    transform = A.Compose([\n",
    "        A.Resize(image_size, image_size),\n",
    "        A.Normalize(\n",
    "            mean=[0., 0., 0.],\n",
    "            std=[1, 1, 1],\n",
    "            max_pixel_value=255.0,\n",
    "            p=1.0\n",
    "        ),\n",
    "        ToTensorV2()\n",
    "    ], p=1.)\n",
    "    return transform\n",
    "\n",
    "class ISICDataset(Dataset):\n",
    "    def __init__(self, metadata, images, augment, infer=False):\n",
    "        self.metadata = metadata\n",
    "        self.images = images\n",
    "        self.augment = augment\n",
    "        self.length = len(self.metadata)\n",
    "        self.infer = infer\n",
    "    \n",
    "    def __len__(self):\n",
    "        return self.length\n",
    "    \n",
    "    def __getitem__(self, index):\n",
    "        data = self.metadata.iloc[index]\n",
    "        \n",
    "        image = np.array(Image.open(BytesIO(self.images[data[id_column]][()])))\n",
    "        image = self.augment(image=image)[\"image\"]\n",
    "        \n",
    "        record = {\n",
    "            \"index\": index,\n",
    "            \"image\": image\n",
    "        }\n",
    "        \n",
    "        if not self.infer:\n",
    "            target = data[target_column]\n",
    "            record[\"target\"] = target\n",
    "        \n",
    "        return record\n",
    "\n",
    "class ISICNet(nn.Module):\n",
    "    def __init__(self, arch=\"resnet18\", pretrained=False, infer=False):\n",
    "        super(ISICNet, self).__init__()\n",
    "        self.infer = infer\n",
    "        self.model = create_model(model_name=arch, pretrained=pretrained, in_chans=3,  num_classes=0, global_pool='')\n",
    "        self.classifier = nn.Linear(self.model.num_features, 1)\n",
    "        \n",
    "        self.dropout = nn.ModuleList([nn.Dropout(0.5) for i in range(5)])\n",
    "        \n",
    "    def forward(self, batch):\n",
    "        image = batch[\"image\"]\n",
    "        \n",
    "        x = self.model(image)\n",
    "        bs = len(image)\n",
    "        pool = F.adaptive_avg_pool2d(x, 1).reshape(bs,-1)\n",
    "        \n",
    "        if self.training:\n",
    "            logit=0\n",
    "            for i in range(len(self.dropout)):\n",
    "                logit += self.classifier(self.dropout[i](pool))\n",
    "            logit = logit/len(self.dropout)\n",
    "        else:\n",
    "            logit = self.classifier(pool)\n",
    "            \n",
    "        output = {}\n",
    "        output[\"preds\"] = torch.sigmoid(logit)\n",
    "        \n",
    "        if not self.infer:\n",
    "            target = batch[\"target\"].unsqueeze(1)\n",
    "            output[\"bce_loss\"] = F.binary_cross_entropy_with_logits(logit.float(), target.float())\n",
    "            \n",
    "        return output"
   ]
  },
  {
   "cell_type": "code",
   "execution_count": 7,
   "id": "3e75315a",
   "metadata": {
    "execution": {
     "iopub.execute_input": "2024-07-09T20:57:08.103160Z",
     "iopub.status.busy": "2024-07-09T20:57:08.102843Z",
     "iopub.status.idle": "2024-07-09T21:10:18.661496Z",
     "shell.execute_reply": "2024-07-09T21:10:18.660327Z"
    },
    "papermill": {
     "duration": 790.567018,
     "end_time": "2024-07-09T21:10:18.663739",
     "exception": false,
     "start_time": "2024-07-09T20:57:08.096721",
     "status": "completed"
    },
    "tags": []
   },
   "outputs": [
    {
     "name": "stdout",
     "output_type": "stream",
     "text": [
      "Running fold: 1\n",
      "Dev data size: (16040, 57)\n",
      "Val data size: (4013, 57)\n"
     ]
    },
    {
     "data": {
      "application/vnd.jupyter.widget-view+json": {
       "model_id": "7b3ceebaa79d4c019ca3ab39a780fdf5",
       "version_major": 2,
       "version_minor": 0
      },
      "text/plain": [
       "model.safetensors:   0%|          | 0.00/46.8M [00:00<?, ?B/s]"
      ]
     },
     "metadata": {},
     "output_type": "display_data"
    },
    {
     "name": "stdout",
     "output_type": "stream",
     "text": [
      "Ready to train\n",
      "Validation: 4013/4013 0 min 20.92 sec\n",
      "Epoch pauc: 0.17268195413758722 | Best auc: 0.8634097706879361 | Best pauc: 0.17268195413758722 | Best epoch: 0\n",
      "Validation: 4013/4013 0 min 16.25 sec\n",
      "Epoch pauc: 0.1628115653040877 | Best auc: 0.8634097706879361 | Best pauc: 0.17268195413758722 | Best epoch: 0\n",
      "\n",
      "\n",
      "Running fold: 2\n",
      "Dev data size: (16037, 57)\n",
      "Val data size: (4016, 57)\n",
      "Ready to train\n",
      "Validation: 4016/4016 0 min 17.09 sec\n",
      "Epoch pauc: 0.046399202591577364 | Best auc: 0.6194036049505773 | Best pauc: 0.046399202591577364 | Best epoch: 0\n",
      "Validation: 4016/4016 0 min 16.07 sec\n",
      "Epoch pauc: 0.07430849738350359 | Best auc: 0.6311986045352603 | Best pauc: 0.07430849738350359 | Best epoch: 1\n",
      "\n",
      "\n",
      "Running fold: 3\n",
      "Dev data size: (16105, 57)\n",
      "Val data size: (3948, 57)\n",
      "Ready to train\n",
      "Validation: 3948/3948 0 min 16.24 sec\n",
      "Epoch pauc: 0.012924480486568673 | Best auc: 0.2461986822098327 | Best pauc: 0.012924480486568673 | Best epoch: 0\n",
      "Validation: 3948/3948 0 min 15.67 sec\n",
      "Epoch pauc: 0.013684744044602126 | Best auc: 0.23859604662949824 | Best pauc: 0.013684744044602126 | Best epoch: 1\n",
      "\n",
      "\n",
      "Running fold: 4\n",
      "Dev data size: (15996, 57)\n",
      "Val data size: (4057, 57)\n",
      "Ready to train\n",
      "Validation: 4057/4057 0 min 16.76 sec\n",
      "Epoch pauc: 0.07916152897657212 | Best auc: 0.6758323057953144 | Best pauc: 0.07916152897657212 | Best epoch: 0\n",
      "Validation: 4057/4057 0 min 16.86 sec\n",
      "Epoch pauc: 0.04453760789149198 | Best auc: 0.6758323057953144 | Best pauc: 0.07916152897657212 | Best epoch: 0\n",
      "\n",
      "\n",
      "Running fold: 5\n",
      "Dev data size: (16034, 57)\n",
      "Val data size: (4019, 57)\n",
      "Ready to train\n",
      "Validation: 4019/4019 0 min 16.49 sec\n",
      "Epoch pauc: 0.0075236671649227685 | Best auc: 0.3858993522670653 | Best pauc: 0.0075236671649227685 | Best epoch: 0\n",
      "Validation: 4019/4019 0 min 17.16 sec\n",
      "Epoch pauc: 0.00717488789237668 | Best auc: 0.3858993522670653 | Best pauc: 0.0075236671649227685 | Best epoch: 0\n",
      "\n",
      "\n"
     ]
    }
   ],
   "source": [
    "best_num_epochs = {}\n",
    "val_auc_scores = {}\n",
    "val_pauc_scores = {}\n",
    "all_folds = np.sort(folds.unique())\n",
    "oof_predictions = np.zeros(train_metadata.shape[0])\n",
    "for fold in all_folds:\n",
    "    set_seed(cfg.seed)\n",
    "    \n",
    "    print(f\"Running fold: {fold}\")\n",
    "    dev_index = folds != fold\n",
    "    val_index = folds == fold\n",
    "    \n",
    "    dev_metadata = train_metadata[train_metadata[\"fold\"] != fold].reset_index(drop=True);print(f\"Dev data size: {dev_metadata.shape}\")\n",
    "    val_metadata = train_metadata[train_metadata[\"fold\"] == fold].reset_index(drop=True);print(f\"Val data size: {val_metadata.shape}\")\n",
    "    \n",
    "    dev_dataset = ISICDataset(dev_metadata, train_images, augment=dev_augment(image_size=cfg.image_size))\n",
    "    val_dataset = ISICDataset(val_metadata, train_images, augment=val_augment(image_size=cfg.image_size))\n",
    "\n",
    "    dev_dataloader = DataLoader(dev_dataset, shuffle=True, batch_size=cfg.train_batch_size, num_workers=cfg.train_num_worker)\n",
    "    val_dataloader = DataLoader(val_dataset, shuffle=False, batch_size=cfg.val_batch_size, num_workers=cfg.val_num_worker, drop_last=False)\n",
    "    \n",
    "    net = ISICNet(pretrained=True)\n",
    "    net = net.to(accelerator.device)\n",
    "    \n",
    "    for param in net.parameters():\n",
    "        param.requires_grad = False\n",
    "\n",
    "    for param in net.classifier.parameters():\n",
    "        param.requires_grad = True\n",
    "        \n",
    "    optimizer = torch.optim.Adam(params=net.model.parameters(), lr=cfg.lr / 25)\n",
    "    lr_scheduler = OneCycleLR(optimizer=optimizer, max_lr=cfg.lr, epochs=cfg.num_epochs, steps_per_epoch=len(dev_dataloader))\n",
    "\n",
    "    net, optimizer, dev_dataloader, val_dataloader, lr_scheduler = accelerator.prepare(\n",
    "        net, optimizer, dev_dataloader, val_dataloader, lr_scheduler\n",
    "    )\n",
    "    \n",
    "    print(\"Ready to train\")\n",
    "    \n",
    "    overall_step = 0\n",
    "    starting_epoch = 0\n",
    "    best_pauc_score = -np.Inf\n",
    "    best_auc_score = -np.Inf\n",
    "    best_epoch = None\n",
    "    best_val_preds = None\n",
    "\n",
    "    for epoch in range(starting_epoch, cfg.num_epochs):\n",
    "        net.train()\n",
    "        count = 0\n",
    "        start_timer = timer()\n",
    "        for step, batch in enumerate(dev_dataloader):\n",
    "            output = net(batch)\n",
    "            loss = output[\"bce_loss\"]\n",
    "            accelerator.backward(loss)\n",
    "            optimizer.step()\n",
    "            lr_scheduler.step()\n",
    "            optimizer.zero_grad()\n",
    "            overall_step += 1\n",
    "            count += len(batch[\"index\"])\n",
    "#             if step % cfg.log_every == 0:\n",
    "            print(f'\\rTraining: {count}/{len(dev_dataset)}',\n",
    "                      time_to_str(timer() - start_timer, \"min\"),\n",
    "                      end='', flush=True) \n",
    "\n",
    "        net.eval()\n",
    "        val_preds = []\n",
    "        val_y = []\n",
    "        count = 0\n",
    "        start_timer = timer()\n",
    "        for step, batch in enumerate(val_dataloader):\n",
    "            with torch.no_grad():\n",
    "                output = net(batch)\n",
    "            val_preds_batch = output[\"preds\"]\n",
    "            val_preds.append(val_preds_batch.data.cpu().numpy().reshape(-1))\n",
    "            val_y_batch = batch[\"target\"]\n",
    "            val_y.append(val_y_batch.data.cpu().numpy().reshape(-1))\n",
    "            count += len(batch[\"index\"])\n",
    "#             if step % cfg.log_every == 0:\n",
    "            print(f'\\rValidation: {count}/{len(val_dataset)}',\n",
    "                      time_to_str(timer() - start_timer, \"min\"),\n",
    "                      end='', flush=True)\n",
    "\n",
    "        print('')\n",
    "        val_preds = np.concatenate(val_preds)\n",
    "        val_y = np.concatenate(val_y)\n",
    "        auc = compute_auc(val_y, val_preds) \n",
    "        pauc = compute_pauc(val_y, val_preds, min_tpr=0.80)\n",
    "        \n",
    "        if pauc >= best_pauc_score:\n",
    "            best_auc_score = auc\n",
    "            best_pauc_score = pauc\n",
    "            best_epoch = epoch\n",
    "            best_val_preds = val_preds\n",
    "        print(f\"Epoch pauc: {pauc} | Best auc: {best_auc_score} | Best pauc: {best_pauc_score} | Best epoch: {best_epoch}\")\n",
    "        \n",
    "        output_dir = f\"fold_{fold}/model_{cfg.model_name}_epoch_{epoch}\"\n",
    "        if cfg.models_output_dir is not None:\n",
    "            output_dir = Path(f\"{cfg.models_output_dir}/{output_dir}\")\n",
    "        accelerator.save_state(output_dir)\n",
    "    \n",
    "    best_num_epochs[f\"fold_{fold}\"] = best_epoch\n",
    "    val_auc_scores[f\"fold_{fold}\"] = best_auc_score\n",
    "    val_pauc_scores[f\"fold_{fold}\"] = best_pauc_score\n",
    "    \n",
    "    oof_predictions[val_index] = best_val_preds\n",
    "    print(\"\\n\")"
   ]
  },
  {
   "cell_type": "code",
   "execution_count": 8,
   "id": "e98f2e54",
   "metadata": {
    "execution": {
     "iopub.execute_input": "2024-07-09T21:10:19.576095Z",
     "iopub.status.busy": "2024-07-09T21:10:19.575675Z",
     "iopub.status.idle": "2024-07-09T21:10:19.716490Z",
     "shell.execute_reply": "2024-07-09T21:10:19.715408Z"
    },
    "papermill": {
     "duration": 0.602724,
     "end_time": "2024-07-09T21:10:19.718732",
     "exception": false,
     "start_time": "2024-07-09T21:10:19.116008",
     "status": "completed"
    },
    "tags": []
   },
   "outputs": [
    {
     "data": {
      "text/html": [
       "<div>\n",
       "<style scoped>\n",
       "    .dataframe tbody tr th:only-of-type {\n",
       "        vertical-align: middle;\n",
       "    }\n",
       "\n",
       "    .dataframe tbody tr th {\n",
       "        vertical-align: top;\n",
       "    }\n",
       "\n",
       "    .dataframe thead th {\n",
       "        text-align: right;\n",
       "    }\n",
       "</style>\n",
       "<table border=\"1\" class=\"dataframe\">\n",
       "  <thead>\n",
       "    <tr style=\"text-align: right;\">\n",
       "      <th></th>\n",
       "      <th>isic_id</th>\n",
       "      <th>patient_id</th>\n",
       "      <th>fold</th>\n",
       "      <th>final_target</th>\n",
       "      <th>oof_resnet18_v1</th>\n",
       "    </tr>\n",
       "  </thead>\n",
       "  <tbody>\n",
       "    <tr>\n",
       "      <th>139465</th>\n",
       "      <td>ISIC_3531602</td>\n",
       "      <td>IP_9742855</td>\n",
       "      <td>2</td>\n",
       "      <td>0</td>\n",
       "      <td>0.524050</td>\n",
       "    </tr>\n",
       "    <tr>\n",
       "      <th>155858</th>\n",
       "      <td>ISIC_3939264</td>\n",
       "      <td>IP_0028775</td>\n",
       "      <td>3</td>\n",
       "      <td>0</td>\n",
       "      <td>0.556670</td>\n",
       "    </tr>\n",
       "    <tr>\n",
       "      <th>299181</th>\n",
       "      <td>ISIC_7485201</td>\n",
       "      <td>IP_3864041</td>\n",
       "      <td>4</td>\n",
       "      <td>0</td>\n",
       "      <td>0.502346</td>\n",
       "    </tr>\n",
       "    <tr>\n",
       "      <th>344904</th>\n",
       "      <td>ISIC_8613136</td>\n",
       "      <td>IP_3549978</td>\n",
       "      <td>3</td>\n",
       "      <td>0</td>\n",
       "      <td>0.520417</td>\n",
       "    </tr>\n",
       "    <tr>\n",
       "      <th>176332</th>\n",
       "      <td>ISIC_4447313</td>\n",
       "      <td>IP_4549819</td>\n",
       "      <td>4</td>\n",
       "      <td>0</td>\n",
       "      <td>0.535450</td>\n",
       "    </tr>\n",
       "  </tbody>\n",
       "</table>\n",
       "</div>"
      ],
      "text/plain": [
       "             isic_id  patient_id  fold  final_target  oof_resnet18_v1\n",
       "139465  ISIC_3531602  IP_9742855     2             0         0.524050\n",
       "155858  ISIC_3939264  IP_0028775     3             0         0.556670\n",
       "299181  ISIC_7485201  IP_3864041     4             0         0.502346\n",
       "344904  ISIC_8613136  IP_3549978     3             0         0.520417\n",
       "176332  ISIC_4447313  IP_4549819     4             0         0.535450"
      ]
     },
     "execution_count": 8,
     "metadata": {},
     "output_type": "execute_result"
    }
   ],
   "source": [
    "oof_preds_df = pd.DataFrame({\n",
    "    id_column: train_ids,\n",
    "    group_column: groups,\n",
    "    \"fold\": folds,\n",
    "    target_column: y_train,\n",
    "    f\"oof_{cfg.model_name}\": oof_predictions\n",
    "})\n",
    "oof_preds_df.to_csv(f\"oof_preds_{cfg.model_name}.csv\")\n",
    "oof_preds_df.head()"
   ]
  },
  {
   "cell_type": "code",
   "execution_count": 9,
   "id": "7df19695",
   "metadata": {
    "execution": {
     "iopub.execute_input": "2024-07-09T21:10:20.633785Z",
     "iopub.status.busy": "2024-07-09T21:10:20.633401Z",
     "iopub.status.idle": "2024-07-09T21:10:20.639941Z",
     "shell.execute_reply": "2024-07-09T21:10:20.639065Z"
    },
    "papermill": {
     "duration": 0.466802,
     "end_time": "2024-07-09T21:10:20.641969",
     "exception": false,
     "start_time": "2024-07-09T21:10:20.175167",
     "status": "completed"
    },
    "tags": []
   },
   "outputs": [
    {
     "data": {
      "text/plain": [
       "{'fold_1': 0, 'fold_2': 1, 'fold_3': 1, 'fold_4': 0, 'fold_5': 0}"
      ]
     },
     "execution_count": 9,
     "metadata": {},
     "output_type": "execute_result"
    }
   ],
   "source": [
    "best_num_epochs"
   ]
  },
  {
   "cell_type": "code",
   "execution_count": 10,
   "id": "8c3e5ca4",
   "metadata": {
    "execution": {
     "iopub.execute_input": "2024-07-09T21:10:21.622527Z",
     "iopub.status.busy": "2024-07-09T21:10:21.622119Z",
     "iopub.status.idle": "2024-07-09T21:10:21.628683Z",
     "shell.execute_reply": "2024-07-09T21:10:21.627584Z"
    },
    "papermill": {
     "duration": 0.52589,
     "end_time": "2024-07-09T21:10:21.630951",
     "exception": false,
     "start_time": "2024-07-09T21:10:21.105061",
     "status": "completed"
    },
    "tags": []
   },
   "outputs": [
    {
     "data": {
      "text/plain": [
       "{'fold_1': 0.8634097706879361,\n",
       " 'fold_2': 0.6311986045352603,\n",
       " 'fold_3': 0.23859604662949824,\n",
       " 'fold_4': 0.6758323057953144,\n",
       " 'fold_5': 0.3858993522670653}"
      ]
     },
     "execution_count": 10,
     "metadata": {},
     "output_type": "execute_result"
    }
   ],
   "source": [
    "val_auc_scores"
   ]
  },
  {
   "cell_type": "code",
   "execution_count": 11,
   "id": "0ee0a7c6",
   "metadata": {
    "execution": {
     "iopub.execute_input": "2024-07-09T21:10:22.576267Z",
     "iopub.status.busy": "2024-07-09T21:10:22.575903Z",
     "iopub.status.idle": "2024-07-09T21:10:22.581870Z",
     "shell.execute_reply": "2024-07-09T21:10:22.581063Z"
    },
    "papermill": {
     "duration": 0.468357,
     "end_time": "2024-07-09T21:10:22.583825",
     "exception": false,
     "start_time": "2024-07-09T21:10:22.115468",
     "status": "completed"
    },
    "tags": []
   },
   "outputs": [
    {
     "data": {
      "text/plain": [
       "{'fold_1': 0.17268195413758722,\n",
       " 'fold_2': 0.07430849738350359,\n",
       " 'fold_3': 0.013684744044602126,\n",
       " 'fold_4': 0.07916152897657212,\n",
       " 'fold_5': 0.0075236671649227685}"
      ]
     },
     "execution_count": 11,
     "metadata": {},
     "output_type": "execute_result"
    }
   ],
   "source": [
    "val_pauc_scores"
   ]
  },
  {
   "cell_type": "code",
   "execution_count": 12,
   "id": "226144c5",
   "metadata": {
    "execution": {
     "iopub.execute_input": "2024-07-09T21:10:23.525727Z",
     "iopub.status.busy": "2024-07-09T21:10:23.524782Z",
     "iopub.status.idle": "2024-07-09T21:10:23.545378Z",
     "shell.execute_reply": "2024-07-09T21:10:23.544408Z"
    },
    "papermill": {
     "duration": 0.528109,
     "end_time": "2024-07-09T21:10:23.547422",
     "exception": false,
     "start_time": "2024-07-09T21:10:23.019313",
     "status": "completed"
    },
    "tags": []
   },
   "outputs": [],
   "source": [
    "cv_auc_oof = compute_auc(oof_preds_df[target_column], oof_preds_df[f\"oof_{cfg.model_name}\"])\n",
    "cv_pauc_oof = compute_pauc(oof_preds_df[target_column], oof_preds_df[f\"oof_{cfg.model_name}\"], min_tpr=0.8)\n",
    "\n",
    "cv_auc_avg = np.mean(list(val_auc_scores.values()))\n",
    "cv_pauc_avg = np.mean(list(val_pauc_scores.values()))"
   ]
  },
  {
   "cell_type": "code",
   "execution_count": 13,
   "id": "7cbc1900",
   "metadata": {
    "execution": {
     "iopub.execute_input": "2024-07-09T21:10:24.437791Z",
     "iopub.status.busy": "2024-07-09T21:10:24.437419Z",
     "iopub.status.idle": "2024-07-09T21:10:24.442949Z",
     "shell.execute_reply": "2024-07-09T21:10:24.442075Z"
    },
    "papermill": {
     "duration": 0.471922,
     "end_time": "2024-07-09T21:10:24.445090",
     "exception": false,
     "start_time": "2024-07-09T21:10:23.973168",
     "status": "completed"
    },
    "tags": []
   },
   "outputs": [
    {
     "name": "stdout",
     "output_type": "stream",
     "text": [
      "CV AUC OOF: 0.4961077844311378\n",
      "CV PAUC OOF: 0.01958928297251649\n",
      "CV AUC AVG: 0.5589872159830149\n",
      "CV PAUC AVG: 0.06947207834143757\n"
     ]
    }
   ],
   "source": [
    "print(f\"CV AUC OOF: {cv_auc_oof}\")\n",
    "print(f\"CV PAUC OOF: {cv_pauc_oof}\")\n",
    "print(f\"CV AUC AVG: {cv_auc_avg}\")\n",
    "print(f\"CV PAUC AVG: {cv_pauc_avg}\")"
   ]
  },
  {
   "cell_type": "code",
   "execution_count": 14,
   "id": "b50a298f",
   "metadata": {
    "execution": {
     "iopub.execute_input": "2024-07-09T21:10:25.329668Z",
     "iopub.status.busy": "2024-07-09T21:10:25.328628Z",
     "iopub.status.idle": "2024-07-09T21:10:25.336044Z",
     "shell.execute_reply": "2024-07-09T21:10:25.335077Z"
    },
    "papermill": {
     "duration": 0.459486,
     "end_time": "2024-07-09T21:10:25.338333",
     "exception": false,
     "start_time": "2024-07-09T21:10:24.878847",
     "status": "completed"
    },
    "tags": []
   },
   "outputs": [],
   "source": [
    "params = vars(cfg)\n",
    "params = {k: v for k, v in params.items() if not k.startswith(\"_\")}\n",
    "\n",
    "metadata = {\n",
    "    \"params\": params,\n",
    "    \"best_num_epochs\": best_num_epochs,\n",
    "    \"val_auc_scores\": val_auc_scores,\n",
    "    \"val_pauc_scores\": val_pauc_scores,\n",
    "    \"cv_auc_oof\": cv_auc_oof,\n",
    "    \"cv_pauc_oof\": cv_pauc_oof,\n",
    "    \"cv_auc_avg\": cv_auc_avg,\n",
    "    \"cv_pauc_avg\": cv_pauc_avg\n",
    "}\n",
    "\n",
    "with open(\"run_metadata.json\", \"w\") as f:\n",
    "    json.dump(metadata, f)"
   ]
  }
 ],
 "metadata": {
  "kaggle": {
   "accelerator": "gpu",
   "dataSources": [
    {
     "databundleVersionId": 8940774,
     "sourceId": 63056,
     "sourceType": "competition"
    },
    {
     "sourceId": 187477024,
     "sourceType": "kernelVersion"
    },
    {
     "sourceId": 187439867,
     "sourceType": "kernelVersion"
    }
   ],
   "dockerImageVersionId": 30732,
   "isGpuEnabled": true,
   "isInternetEnabled": true,
   "language": "python",
   "sourceType": "notebook"
  },
  "kernelspec": {
   "display_name": "Python 3",
   "language": "python",
   "name": "python3"
  },
  "language_info": {
   "codemirror_mode": {
    "name": "ipython",
    "version": 3
   },
   "file_extension": ".py",
   "mimetype": "text/x-python",
   "name": "python",
   "nbconvert_exporter": "python",
   "pygments_lexer": "ipython3",
   "version": "3.10.13"
  },
  "papermill": {
   "default_parameters": {},
   "duration": 823.867676,
   "end_time": "2024-07-09T21:10:28.703767",
   "environment_variables": {},
   "exception": null,
   "input_path": "__notebook__.ipynb",
   "output_path": "__notebook__.ipynb",
   "parameters": {},
   "start_time": "2024-07-09T20:56:44.836091",
   "version": "2.5.0"
  },
  "widgets": {
   "application/vnd.jupyter.widget-state+json": {
    "state": {
     "01254a1a85c44ae9ac3df67768024789": {
      "model_module": "@jupyter-widgets/controls",
      "model_module_version": "1.5.0",
      "model_name": "FloatProgressModel",
      "state": {
       "_dom_classes": [],
       "_model_module": "@jupyter-widgets/controls",
       "_model_module_version": "1.5.0",
       "_model_name": "FloatProgressModel",
       "_view_count": null,
       "_view_module": "@jupyter-widgets/controls",
       "_view_module_version": "1.5.0",
       "_view_name": "ProgressView",
       "bar_style": "success",
       "description": "",
       "description_tooltip": null,
       "layout": "IPY_MODEL_a6e14c4806c64764a0e4156d04de02c1",
       "max": 46807446.0,
       "min": 0.0,
       "orientation": "horizontal",
       "style": "IPY_MODEL_bb059b973f144dc2b6024b7aadd85b28",
       "value": 46807446.0
      }
     },
     "084ffa189cfc44aab38ce023303ae916": {
      "model_module": "@jupyter-widgets/controls",
      "model_module_version": "1.5.0",
      "model_name": "DescriptionStyleModel",
      "state": {
       "_model_module": "@jupyter-widgets/controls",
       "_model_module_version": "1.5.0",
       "_model_name": "DescriptionStyleModel",
       "_view_count": null,
       "_view_module": "@jupyter-widgets/base",
       "_view_module_version": "1.2.0",
       "_view_name": "StyleView",
       "description_width": ""
      }
     },
     "52d1bc30a21241198deb57f3b34c3897": {
      "model_module": "@jupyter-widgets/controls",
      "model_module_version": "1.5.0",
      "model_name": "HTMLModel",
      "state": {
       "_dom_classes": [],
       "_model_module": "@jupyter-widgets/controls",
       "_model_module_version": "1.5.0",
       "_model_name": "HTMLModel",
       "_view_count": null,
       "_view_module": "@jupyter-widgets/controls",
       "_view_module_version": "1.5.0",
       "_view_name": "HTMLView",
       "description": "",
       "description_tooltip": null,
       "layout": "IPY_MODEL_b350fc30e49d43168fb0773b8c0694d5",
       "placeholder": "​",
       "style": "IPY_MODEL_6962248b876b4a9d816f129e7d6b0913",
       "value": "model.safetensors: 100%"
      }
     },
     "6962248b876b4a9d816f129e7d6b0913": {
      "model_module": "@jupyter-widgets/controls",
      "model_module_version": "1.5.0",
      "model_name": "DescriptionStyleModel",
      "state": {
       "_model_module": "@jupyter-widgets/controls",
       "_model_module_version": "1.5.0",
       "_model_name": "DescriptionStyleModel",
       "_view_count": null,
       "_view_module": "@jupyter-widgets/base",
       "_view_module_version": "1.2.0",
       "_view_name": "StyleView",
       "description_width": ""
      }
     },
     "741a6be7c5b8426da9f935f7cc3ba441": {
      "model_module": "@jupyter-widgets/base",
      "model_module_version": "1.2.0",
      "model_name": "LayoutModel",
      "state": {
       "_model_module": "@jupyter-widgets/base",
       "_model_module_version": "1.2.0",
       "_model_name": "LayoutModel",
       "_view_count": null,
       "_view_module": "@jupyter-widgets/base",
       "_view_module_version": "1.2.0",
       "_view_name": "LayoutView",
       "align_content": null,
       "align_items": null,
       "align_self": null,
       "border": null,
       "bottom": null,
       "display": null,
       "flex": null,
       "flex_flow": null,
       "grid_area": null,
       "grid_auto_columns": null,
       "grid_auto_flow": null,
       "grid_auto_rows": null,
       "grid_column": null,
       "grid_gap": null,
       "grid_row": null,
       "grid_template_areas": null,
       "grid_template_columns": null,
       "grid_template_rows": null,
       "height": null,
       "justify_content": null,
       "justify_items": null,
       "left": null,
       "margin": null,
       "max_height": null,
       "max_width": null,
       "min_height": null,
       "min_width": null,
       "object_fit": null,
       "object_position": null,
       "order": null,
       "overflow": null,
       "overflow_x": null,
       "overflow_y": null,
       "padding": null,
       "right": null,
       "top": null,
       "visibility": null,
       "width": null
      }
     },
     "7b3ceebaa79d4c019ca3ab39a780fdf5": {
      "model_module": "@jupyter-widgets/controls",
      "model_module_version": "1.5.0",
      "model_name": "HBoxModel",
      "state": {
       "_dom_classes": [],
       "_model_module": "@jupyter-widgets/controls",
       "_model_module_version": "1.5.0",
       "_model_name": "HBoxModel",
       "_view_count": null,
       "_view_module": "@jupyter-widgets/controls",
       "_view_module_version": "1.5.0",
       "_view_name": "HBoxView",
       "box_style": "",
       "children": [
        "IPY_MODEL_52d1bc30a21241198deb57f3b34c3897",
        "IPY_MODEL_01254a1a85c44ae9ac3df67768024789",
        "IPY_MODEL_8bc393c3a3bb4a5c89aed0fc0dcd5d24"
       ],
       "layout": "IPY_MODEL_af98669b03a841a78f519e80225d9b03"
      }
     },
     "8bc393c3a3bb4a5c89aed0fc0dcd5d24": {
      "model_module": "@jupyter-widgets/controls",
      "model_module_version": "1.5.0",
      "model_name": "HTMLModel",
      "state": {
       "_dom_classes": [],
       "_model_module": "@jupyter-widgets/controls",
       "_model_module_version": "1.5.0",
       "_model_name": "HTMLModel",
       "_view_count": null,
       "_view_module": "@jupyter-widgets/controls",
       "_view_module_version": "1.5.0",
       "_view_name": "HTMLView",
       "description": "",
       "description_tooltip": null,
       "layout": "IPY_MODEL_741a6be7c5b8426da9f935f7cc3ba441",
       "placeholder": "​",
       "style": "IPY_MODEL_084ffa189cfc44aab38ce023303ae916",
       "value": " 46.8M/46.8M [00:00&lt;00:00, 75.2MB/s]"
      }
     },
     "a6e14c4806c64764a0e4156d04de02c1": {
      "model_module": "@jupyter-widgets/base",
      "model_module_version": "1.2.0",
      "model_name": "LayoutModel",
      "state": {
       "_model_module": "@jupyter-widgets/base",
       "_model_module_version": "1.2.0",
       "_model_name": "LayoutModel",
       "_view_count": null,
       "_view_module": "@jupyter-widgets/base",
       "_view_module_version": "1.2.0",
       "_view_name": "LayoutView",
       "align_content": null,
       "align_items": null,
       "align_self": null,
       "border": null,
       "bottom": null,
       "display": null,
       "flex": null,
       "flex_flow": null,
       "grid_area": null,
       "grid_auto_columns": null,
       "grid_auto_flow": null,
       "grid_auto_rows": null,
       "grid_column": null,
       "grid_gap": null,
       "grid_row": null,
       "grid_template_areas": null,
       "grid_template_columns": null,
       "grid_template_rows": null,
       "height": null,
       "justify_content": null,
       "justify_items": null,
       "left": null,
       "margin": null,
       "max_height": null,
       "max_width": null,
       "min_height": null,
       "min_width": null,
       "object_fit": null,
       "object_position": null,
       "order": null,
       "overflow": null,
       "overflow_x": null,
       "overflow_y": null,
       "padding": null,
       "right": null,
       "top": null,
       "visibility": null,
       "width": null
      }
     },
     "af98669b03a841a78f519e80225d9b03": {
      "model_module": "@jupyter-widgets/base",
      "model_module_version": "1.2.0",
      "model_name": "LayoutModel",
      "state": {
       "_model_module": "@jupyter-widgets/base",
       "_model_module_version": "1.2.0",
       "_model_name": "LayoutModel",
       "_view_count": null,
       "_view_module": "@jupyter-widgets/base",
       "_view_module_version": "1.2.0",
       "_view_name": "LayoutView",
       "align_content": null,
       "align_items": null,
       "align_self": null,
       "border": null,
       "bottom": null,
       "display": null,
       "flex": null,
       "flex_flow": null,
       "grid_area": null,
       "grid_auto_columns": null,
       "grid_auto_flow": null,
       "grid_auto_rows": null,
       "grid_column": null,
       "grid_gap": null,
       "grid_row": null,
       "grid_template_areas": null,
       "grid_template_columns": null,
       "grid_template_rows": null,
       "height": null,
       "justify_content": null,
       "justify_items": null,
       "left": null,
       "margin": null,
       "max_height": null,
       "max_width": null,
       "min_height": null,
       "min_width": null,
       "object_fit": null,
       "object_position": null,
       "order": null,
       "overflow": null,
       "overflow_x": null,
       "overflow_y": null,
       "padding": null,
       "right": null,
       "top": null,
       "visibility": null,
       "width": null
      }
     },
     "b350fc30e49d43168fb0773b8c0694d5": {
      "model_module": "@jupyter-widgets/base",
      "model_module_version": "1.2.0",
      "model_name": "LayoutModel",
      "state": {
       "_model_module": "@jupyter-widgets/base",
       "_model_module_version": "1.2.0",
       "_model_name": "LayoutModel",
       "_view_count": null,
       "_view_module": "@jupyter-widgets/base",
       "_view_module_version": "1.2.0",
       "_view_name": "LayoutView",
       "align_content": null,
       "align_items": null,
       "align_self": null,
       "border": null,
       "bottom": null,
       "display": null,
       "flex": null,
       "flex_flow": null,
       "grid_area": null,
       "grid_auto_columns": null,
       "grid_auto_flow": null,
       "grid_auto_rows": null,
       "grid_column": null,
       "grid_gap": null,
       "grid_row": null,
       "grid_template_areas": null,
       "grid_template_columns": null,
       "grid_template_rows": null,
       "height": null,
       "justify_content": null,
       "justify_items": null,
       "left": null,
       "margin": null,
       "max_height": null,
       "max_width": null,
       "min_height": null,
       "min_width": null,
       "object_fit": null,
       "object_position": null,
       "order": null,
       "overflow": null,
       "overflow_x": null,
       "overflow_y": null,
       "padding": null,
       "right": null,
       "top": null,
       "visibility": null,
       "width": null
      }
     },
     "bb059b973f144dc2b6024b7aadd85b28": {
      "model_module": "@jupyter-widgets/controls",
      "model_module_version": "1.5.0",
      "model_name": "ProgressStyleModel",
      "state": {
       "_model_module": "@jupyter-widgets/controls",
       "_model_module_version": "1.5.0",
       "_model_name": "ProgressStyleModel",
       "_view_count": null,
       "_view_module": "@jupyter-widgets/base",
       "_view_module_version": "1.2.0",
       "_view_name": "StyleView",
       "bar_color": null,
       "description_width": ""
      }
     }
    },
    "version_major": 2,
    "version_minor": 0
   }
  }
 },
 "nbformat": 4,
 "nbformat_minor": 5
}
