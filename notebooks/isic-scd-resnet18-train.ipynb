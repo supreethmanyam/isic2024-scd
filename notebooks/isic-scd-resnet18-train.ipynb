{
 "cells": [
  {
   "cell_type": "code",
   "execution_count": 1,
   "id": "67752236",
   "metadata": {
    "_cell_guid": "b1076dfc-b9ad-4769-8c92-a6c4dae69d19",
    "_uuid": "8f2839f25d086af736a60e9eeb907d3b93b6e0e5",
    "execution": {
     "iopub.execute_input": "2024-07-13T05:20:52.546462Z",
     "iopub.status.busy": "2024-07-13T05:20:52.546167Z",
     "iopub.status.idle": "2024-07-13T05:21:01.611975Z",
     "shell.execute_reply": "2024-07-13T05:21:01.611055Z"
    },
    "papermill": {
     "duration": 9.07485,
     "end_time": "2024-07-13T05:21:01.614600",
     "exception": false,
     "start_time": "2024-07-13T05:20:52.539750",
     "status": "completed"
    },
    "tags": []
   },
   "outputs": [],
   "source": [
    "import json\n",
    "import joblib\n",
    "from tqdm import tqdm\n",
    "from pathlib import Path\n",
    "from timeit import default_timer as timer\n",
    "\n",
    "import pandas as pd\n",
    "import numpy as np\n",
    "from io import BytesIO\n",
    "from PIL import Image\n",
    "import h5py\n",
    "\n",
    "import torch\n",
    "import torch.nn as nn\n",
    "import torch.nn.functional as F\n",
    "from torch.utils.data import DataLoader, Dataset\n",
    "import albumentations as A\n",
    "from albumentations.pytorch import ToTensorV2\n",
    "from timm import create_model\n",
    "from torch.optim.lr_scheduler import OneCycleLR\n",
    "\n",
    "from accelerate import Accelerator\n",
    "\n",
    "from isic_helper import DotDict\n",
    "from isic_helper import get_folds\n",
    "from isic_helper import compute_auc, compute_pauc\n",
    "from isic_helper import set_seed\n",
    "from isic_helper import time_to_str"
   ]
  },
  {
   "cell_type": "code",
   "execution_count": 2,
   "id": "161723ae",
   "metadata": {
    "execution": {
     "iopub.execute_input": "2024-07-13T05:21:01.627553Z",
     "iopub.status.busy": "2024-07-13T05:21:01.627074Z",
     "iopub.status.idle": "2024-07-13T05:21:01.633271Z",
     "shell.execute_reply": "2024-07-13T05:21:01.632355Z"
    },
    "papermill": {
     "duration": 0.015229,
     "end_time": "2024-07-13T05:21:01.635172",
     "exception": false,
     "start_time": "2024-07-13T05:21:01.619943",
     "status": "completed"
    },
    "tags": []
   },
   "outputs": [],
   "source": [
    "cfg = DotDict()\n",
    "cfg.infer = False\n",
    "cfg.cpu = False\n",
    "cfg.mixed_precision = \"fp16\"\n",
    "cfg.tta = True\n",
    "\n",
    "cfg.pos_ratio = 0.1\n",
    "\n",
    "cfg.image_size = 64\n",
    "cfg.lr = 5e-4\n",
    "cfg.num_epochs = 1\n",
    "cfg.seed = 2022\n",
    "cfg.train_batch_size = 256\n",
    "cfg.train_num_worker = 2\n",
    "cfg.val_batch_size = 256\n",
    "cfg.val_num_worker = 2\n",
    "cfg.log_every = 10\n",
    "\n",
    "cfg.models_output_dir = \"models\"\n",
    "cfg.model_name = \"resnet18_v1\""
   ]
  },
  {
   "cell_type": "code",
   "execution_count": 3,
   "id": "846b7ebb",
   "metadata": {
    "execution": {
     "iopub.execute_input": "2024-07-13T05:21:01.645816Z",
     "iopub.status.busy": "2024-07-13T05:21:01.645533Z",
     "iopub.status.idle": "2024-07-13T05:21:11.314403Z",
     "shell.execute_reply": "2024-07-13T05:21:11.313256Z"
    },
    "papermill": {
     "duration": 9.676613,
     "end_time": "2024-07-13T05:21:11.316545",
     "exception": false,
     "start_time": "2024-07-13T05:21:01.639932",
     "status": "completed"
    },
    "tags": []
   },
   "outputs": [
    {
     "name": "stdout",
     "output_type": "stream",
     "text": [
      "Train data size: (20053, 57)\n"
     ]
    }
   ],
   "source": [
    "INPUT_PATH = Path(\"../input/isic-2024-challenge/\")\n",
    "MODELS_OUTPUT_PATH = Path(f\"{cfg.models_output_dir}\")\n",
    "MODELS_OUTPUT_PATH.mkdir(exist_ok=True)\n",
    "\n",
    "train_metadata = pd.read_csv(INPUT_PATH / \"train-metadata.csv\", low_memory=False)\n",
    "train_images = h5py.File(INPUT_PATH / \"train-image.hdf5\", mode=\"r\")\n",
    "\n",
    "folds_df = get_folds()\n",
    "train_metadata = train_metadata.merge(folds_df, on=[\"isic_id\", \"patient_id\"], how=\"inner\")\n",
    "train_metadata = train_metadata.sample(frac=0.05, random_state=cfg.seed).reset_index(drop=True)\n",
    "print(f\"Train data size: {train_metadata.shape}\")"
   ]
  },
  {
   "cell_type": "code",
   "execution_count": 4,
   "id": "55545427",
   "metadata": {
    "execution": {
     "iopub.execute_input": "2024-07-13T05:21:11.328220Z",
     "iopub.status.busy": "2024-07-13T05:21:11.327916Z",
     "iopub.status.idle": "2024-07-13T05:21:11.333027Z",
     "shell.execute_reply": "2024-07-13T05:21:11.332135Z"
    },
    "papermill": {
     "duration": 0.013245,
     "end_time": "2024-07-13T05:21:11.335064",
     "exception": false,
     "start_time": "2024-07-13T05:21:11.321819",
     "status": "completed"
    },
    "tags": []
   },
   "outputs": [],
   "source": [
    "id_column = \"isic_id\"\n",
    "target_column = \"final_target\"\n",
    "group_column = \"patient_id\"\n",
    "\n",
    "train_ids = train_metadata[id_column]\n",
    "groups = train_metadata[group_column]\n",
    "folds = train_metadata[\"fold\"]\n",
    "y_train = train_metadata[target_column]"
   ]
  },
  {
   "cell_type": "code",
   "execution_count": 5,
   "id": "c1cf60bf",
   "metadata": {
    "execution": {
     "iopub.execute_input": "2024-07-13T05:21:11.346508Z",
     "iopub.status.busy": "2024-07-13T05:21:11.345874Z",
     "iopub.status.idle": "2024-07-13T05:21:11.363910Z",
     "shell.execute_reply": "2024-07-13T05:21:11.363100Z"
    },
    "papermill": {
     "duration": 0.0257,
     "end_time": "2024-07-13T05:21:11.365732",
     "exception": false,
     "start_time": "2024-07-13T05:21:11.340032",
     "status": "completed"
    },
    "tags": []
   },
   "outputs": [],
   "source": [
    "def dev_augment(image_size):\n",
    "    transform = A.Compose([\n",
    "        A.Transpose(p=0.5),\n",
    "        A.VerticalFlip(p=0.5),\n",
    "        A.HorizontalFlip(p=0.5),\n",
    "        A.RandomBrightnessContrast(brightness_limit=0.2, contrast_limit=0.2, p=0.75),\n",
    "        A.OneOf([\n",
    "            A.MotionBlur(blur_limit=5),\n",
    "            A.MedianBlur(blur_limit=5),\n",
    "            A.GaussianBlur(blur_limit=5),\n",
    "            A.GaussNoise(var_limit=(5.0, 30.0)),\n",
    "        ], p=0.7),\n",
    "\n",
    "        A.OneOf([\n",
    "            A.OpticalDistortion(distort_limit=1.0),\n",
    "            A.GridDistortion(num_steps=5, distort_limit=1.),\n",
    "            A.ElasticTransform(alpha=3),\n",
    "        ], p=0.7),\n",
    "\n",
    "        A.CLAHE(clip_limit=4.0, p=0.7),\n",
    "        A.HueSaturationValue(hue_shift_limit=10, sat_shift_limit=20, val_shift_limit=10, p=0.5),\n",
    "        A.ShiftScaleRotate(shift_limit=0.1, scale_limit=0.1, rotate_limit=15, border_mode=0, p=0.85),\n",
    "        A.Resize(image_size, image_size),\n",
    "#         A.Cutout(max_h_size=int(image_size * 0.375), max_w_size=int(image_size * 0.375), num_holes=1, p=0.7),\n",
    "        ToTensorV2()\n",
    "    ], p=1.)\n",
    "    return transform\n",
    "\n",
    "def val_augment(image_size):\n",
    "    transform = A.Compose([\n",
    "        A.Resize(image_size, image_size),\n",
    "#         A.Normalize(\n",
    "#             mean=[0., 0., 0.],\n",
    "#             std=[1, 1, 1],\n",
    "#             max_pixel_value=255.0,\n",
    "#             p=1.0\n",
    "#         ),\n",
    "        ToTensorV2()\n",
    "    ], p=1.)\n",
    "    return transform\n",
    "\n",
    "class ISICDataset(Dataset):\n",
    "    def __init__(self, metadata, images, augment, infer=False):\n",
    "        self.metadata = metadata\n",
    "        self.images = images\n",
    "        self.augment = augment\n",
    "        self.length = len(self.metadata)\n",
    "        self.infer = infer\n",
    "    \n",
    "    def __len__(self):\n",
    "        return self.length\n",
    "    \n",
    "    def __getitem__(self, index):\n",
    "        data = self.metadata.iloc[index]\n",
    "        \n",
    "        image = np.array(Image.open(BytesIO(self.images[data[id_column]][()])))\n",
    "        image = self.augment(image=image)[\"image\"]\n",
    "        \n",
    "        record = {\n",
    "            \"image\": image\n",
    "        }\n",
    "        \n",
    "        if not self.infer:\n",
    "            target = data[target_column]\n",
    "            record[\"target\"] = torch.tensor(target).float()\n",
    "        \n",
    "        return record\n",
    "\n",
    "class ISICNet(nn.Module):\n",
    "    def __init__(self, arch=\"resnet18\", pretrained=False, infer=False):\n",
    "        super(ISICNet, self).__init__()\n",
    "        self.infer = infer\n",
    "        self.model = create_model(model_name=arch, pretrained=pretrained, in_chans=3,  num_classes=0, global_pool='')\n",
    "        self.classifier = nn.Linear(self.model.num_features, 1)\n",
    "        \n",
    "        self.dropouts = nn.ModuleList([nn.Dropout(0.5) for i in range(5)])\n",
    "        \n",
    "    def forward(self, batch):\n",
    "        image = batch[\"image\"]\n",
    "        image = image.float() / 255\n",
    "        \n",
    "        x = self.model(image)\n",
    "        bs = len(image)\n",
    "        pool = F.adaptive_avg_pool2d(x, 1).reshape(bs,-1)\n",
    "        \n",
    "        if self.training:\n",
    "            logit = 0\n",
    "            for i in range(len(self.dropouts)):\n",
    "                logit += self.classifier(self.dropouts[i](pool))\n",
    "            logit = logit/len(self.dropouts)\n",
    "        else:\n",
    "            logit = self.classifier(pool)\n",
    "        return logit"
   ]
  },
  {
   "cell_type": "code",
   "execution_count": 6,
   "id": "28752fbd",
   "metadata": {
    "execution": {
     "iopub.execute_input": "2024-07-13T05:21:11.376497Z",
     "iopub.status.busy": "2024-07-13T05:21:11.376234Z",
     "iopub.status.idle": "2024-07-13T05:21:11.383192Z",
     "shell.execute_reply": "2024-07-13T05:21:11.382378Z"
    },
    "papermill": {
     "duration": 0.014547,
     "end_time": "2024-07-13T05:21:11.385203",
     "exception": false,
     "start_time": "2024-07-13T05:21:11.370656",
     "status": "completed"
    },
    "tags": []
   },
   "outputs": [],
   "source": [
    "def make_over_sample(train_index, target, pos_ratio):\n",
    "    target_series = pd.Series(y_train, index=train_index)\n",
    "    \n",
    "    # Separate positive and negative indices\n",
    "    pos_indices = target_series[target_series == 1].index\n",
    "    neg_indices = target_series[target_series == 0].index\n",
    "    \n",
    "    # Calculate the number of positive samples needed\n",
    "    n_pos = len(pos_indices)\n",
    "    n_neg = len(neg_indices)\n",
    "    n_total = n_pos + n_neg\n",
    "    n_desired_pos = int((pos_ratio * n_total) / (1 - pos_ratio))\n",
    "    \n",
    "    # Oversample positive indices\n",
    "    if n_desired_pos > n_pos:\n",
    "        pos_indices_oversampled = np.random.choice(pos_indices, size=n_desired_pos, replace=True)\n",
    "    else:\n",
    "        pos_indices_oversampled = pos_indices\n",
    "    \n",
    "    ned_indices_undersampled = np.unique(np.random.choice(neg_indices, size=n_desired_pos * 3, replace=True))\n",
    "    \n",
    "    # Combine with negative indices\n",
    "    oversampled_indices = np.concatenate([ned_indices_undersampled, pos_indices_oversampled])\n",
    "    np.random.shuffle(oversampled_indices)\n",
    "    return oversampled_indices"
   ]
  },
  {
   "cell_type": "code",
   "execution_count": 7,
   "id": "ec21dbf2",
   "metadata": {
    "execution": {
     "iopub.execute_input": "2024-07-13T05:21:11.396191Z",
     "iopub.status.busy": "2024-07-13T05:21:11.395954Z",
     "iopub.status.idle": "2024-07-13T05:25:03.750254Z",
     "shell.execute_reply": "2024-07-13T05:25:03.749130Z"
    },
    "papermill": {
     "duration": 232.362359,
     "end_time": "2024-07-13T05:25:03.752367",
     "exception": false,
     "start_time": "2024-07-13T05:21:11.390008",
     "status": "completed"
    },
    "tags": []
   },
   "outputs": [
    {
     "name": "stdout",
     "output_type": "stream",
     "text": [
      "Running fold: 1\n",
      "Dev data size after oversampling: (6369, 57)\n",
      "Val data size: (4013, 57)\n",
      "final_target\n",
      "0    0.720207\n",
      "1    0.279793\n",
      "Name: proportion, dtype: float64\n"
     ]
    },
    {
     "name": "stderr",
     "output_type": "stream",
     "text": [
      "/opt/conda/lib/python3.10/site-packages/albumentations/augmentations/blur/transforms.py:180: UserWarning: blur_limit and sigma_limit minimum value can not be both equal to 0. blur_limit minimum value changed to 3.\n",
      "  warnings.warn(\n"
     ]
    },
    {
     "data": {
      "application/vnd.jupyter.widget-view+json": {
       "model_id": "9df9d9e45f3e4aaba8b385df01feb526",
       "version_major": 2,
       "version_minor": 0
      },
      "text/plain": [
       "model.safetensors:   0%|          | 0.00/46.8M [00:00<?, ?B/s]"
      ]
     },
     "metadata": {},
     "output_type": "display_data"
    },
    {
     "name": "stdout",
     "output_type": "stream",
     "text": [
      "Ready to train\n"
     ]
    },
    {
     "name": "stderr",
     "output_type": "stream",
     "text": [
      "100%|██████████| 25/25 [00:46<00:00,  1.85s/it]\n",
      "100%|██████████| 16/16 [00:09<00:00,  1.63it/s]\n"
     ]
    },
    {
     "name": "stdout",
     "output_type": "stream",
     "text": [
      "Epoch pauc: 0.12407776669990027 | Best auc: 0.6203888334995015 | Best pauc: 0.12407776669990027 | Best epoch: 0\n",
      "\n",
      "\n",
      "Running fold: 2\n",
      "Dev data size after oversampling: (6366, 57)\n",
      "Val data size: (4016, 57)\n",
      "final_target\n",
      "0    0.720232\n",
      "1    0.279768\n",
      "Name: proportion, dtype: float64\n"
     ]
    },
    {
     "name": "stderr",
     "output_type": "stream",
     "text": [
      "/opt/conda/lib/python3.10/site-packages/albumentations/augmentations/blur/transforms.py:180: UserWarning: blur_limit and sigma_limit minimum value can not be both equal to 0. blur_limit minimum value changed to 3.\n",
      "  warnings.warn(\n"
     ]
    },
    {
     "name": "stdout",
     "output_type": "stream",
     "text": [
      "Ready to train\n"
     ]
    },
    {
     "name": "stderr",
     "output_type": "stream",
     "text": [
      "100%|██████████| 25/25 [00:40<00:00,  1.60s/it]\n",
      "100%|██████████| 16/16 [00:07<00:00,  2.09it/s]\n"
     ]
    },
    {
     "name": "stdout",
     "output_type": "stream",
     "text": [
      "Epoch pauc: 0.07346125093446298 | Best auc: 0.6008804717999834 | Best pauc: 0.07346125093446298 | Best epoch: 0\n",
      "\n",
      "\n",
      "Running fold: 3\n",
      "Dev data size after oversampling: (6401, 57)\n",
      "Val data size: (3948, 57)\n",
      "final_target\n",
      "0    0.720512\n",
      "1    0.279488\n",
      "Name: proportion, dtype: float64\n"
     ]
    },
    {
     "name": "stderr",
     "output_type": "stream",
     "text": [
      "/opt/conda/lib/python3.10/site-packages/albumentations/augmentations/blur/transforms.py:180: UserWarning: blur_limit and sigma_limit minimum value can not be both equal to 0. blur_limit minimum value changed to 3.\n",
      "  warnings.warn(\n"
     ]
    },
    {
     "name": "stdout",
     "output_type": "stream",
     "text": [
      "Ready to train\n"
     ]
    },
    {
     "name": "stderr",
     "output_type": "stream",
     "text": [
      "100%|██████████| 26/26 [00:37<00:00,  1.44s/it]\n",
      "100%|██████████| 16/16 [00:05<00:00,  2.74it/s]\n"
     ]
    },
    {
     "name": "stdout",
     "output_type": "stream",
     "text": [
      "Epoch pauc: 0.017790167257982763 | Best auc: 0.3456664977192093 | Best pauc: 0.017790167257982763 | Best epoch: 0\n",
      "\n",
      "\n",
      "Running fold: 4\n",
      "Dev data size after oversampling: (6359, 57)\n",
      "Val data size: (4057, 57)\n",
      "final_target\n",
      "0    0.720554\n",
      "1    0.279446\n",
      "Name: proportion, dtype: float64\n"
     ]
    },
    {
     "name": "stderr",
     "output_type": "stream",
     "text": [
      "/opt/conda/lib/python3.10/site-packages/albumentations/augmentations/blur/transforms.py:180: UserWarning: blur_limit and sigma_limit minimum value can not be both equal to 0. blur_limit minimum value changed to 3.\n",
      "  warnings.warn(\n"
     ]
    },
    {
     "name": "stdout",
     "output_type": "stream",
     "text": [
      "Ready to train\n"
     ]
    },
    {
     "name": "stderr",
     "output_type": "stream",
     "text": [
      "100%|██████████| 25/25 [00:36<00:00,  1.45s/it]\n",
      "100%|██████████| 16/16 [00:04<00:00,  3.32it/s]\n"
     ]
    },
    {
     "name": "stdout",
     "output_type": "stream",
     "text": [
      "Epoch pauc: 0.09933415536374843 | Best auc: 0.5088779284833539 | Best pauc: 0.09933415536374843 | Best epoch: 0\n",
      "\n",
      "\n",
      "Running fold: 5\n",
      "Dev data size after oversampling: (6358, 57)\n",
      "Val data size: (4019, 57)\n",
      "final_target\n",
      "0    0.71988\n",
      "1    0.28012\n",
      "Name: proportion, dtype: float64\n"
     ]
    },
    {
     "name": "stderr",
     "output_type": "stream",
     "text": [
      "/opt/conda/lib/python3.10/site-packages/albumentations/augmentations/blur/transforms.py:180: UserWarning: blur_limit and sigma_limit minimum value can not be both equal to 0. blur_limit minimum value changed to 3.\n",
      "  warnings.warn(\n"
     ]
    },
    {
     "name": "stdout",
     "output_type": "stream",
     "text": [
      "Ready to train\n"
     ]
    },
    {
     "name": "stderr",
     "output_type": "stream",
     "text": [
      "100%|██████████| 25/25 [00:35<00:00,  1.43s/it]\n",
      "100%|██████████| 16/16 [00:04<00:00,  3.61it/s]\n"
     ]
    },
    {
     "name": "stdout",
     "output_type": "stream",
     "text": [
      "Epoch pauc: 0.05311410064773292 | Best auc: 0.40762331838565025 | Best pauc: 0.05311410064773292 | Best epoch: 0\n",
      "\n",
      "\n"
     ]
    }
   ],
   "source": [
    "best_num_epochs = {}\n",
    "val_auc_scores = {}\n",
    "val_pauc_scores = {}\n",
    "all_folds = np.sort(folds.unique())\n",
    "oof_predictions = np.zeros(train_metadata.shape[0])\n",
    "for fold in all_folds:\n",
    "    accelerator = Accelerator(cpu=cfg.cpu, mixed_precision=cfg.mixed_precision)\n",
    "    \n",
    "    set_seed(cfg.seed)\n",
    "    \n",
    "    print(f\"Running fold: {fold}\")\n",
    "    dev_index = folds[folds != fold].index\n",
    "    val_index = folds[folds == fold].index\n",
    "    \n",
    "    oversampled_dev_index = make_over_sample(dev_index, y_train, cfg.pos_ratio)\n",
    "    \n",
    "    dev_metadata = train_metadata.loc[oversampled_dev_index, :].reset_index(drop=True);print(f\"Dev data size after oversampling: {dev_metadata.shape}\")\n",
    "    val_metadata = train_metadata.loc[val_index, :].reset_index(drop=True);print(f\"Val data size: {val_metadata.shape}\")\n",
    "    \n",
    "    print(dev_metadata[target_column].value_counts(normalize=True))\n",
    "    \n",
    "    dev_dataset = ISICDataset(dev_metadata, train_images, augment=dev_augment(image_size=cfg.image_size))\n",
    "    val_dataset = ISICDataset(val_metadata, train_images, augment=val_augment(image_size=cfg.image_size))\n",
    "\n",
    "    dev_dataloader = DataLoader(dev_dataset, shuffle=True, batch_size=cfg.train_batch_size, num_workers=cfg.train_num_worker, pin_memory=True)\n",
    "    val_dataloader = DataLoader(val_dataset, shuffle=False, batch_size=cfg.val_batch_size, num_workers=cfg.val_num_worker, drop_last=False, pin_memory=True)\n",
    "    \n",
    "    net = ISICNet(pretrained=True)\n",
    "    net = net.to(accelerator.device)\n",
    "        \n",
    "    optimizer = torch.optim.Adam(net.parameters(), lr=cfg.lr / 5)\n",
    "    lr_scheduler = OneCycleLR(optimizer=optimizer, max_lr=cfg.lr, epochs=cfg.num_epochs, steps_per_epoch=len(dev_dataloader))\n",
    "\n",
    "    net, optimizer, dev_dataloader, val_dataloader, lr_scheduler = accelerator.prepare(\n",
    "        net, optimizer, dev_dataloader, val_dataloader, lr_scheduler\n",
    "    )\n",
    "    \n",
    "    print(\"Ready to train\")\n",
    "    \n",
    "    overall_step = 0\n",
    "    starting_epoch = 0\n",
    "    best_pauc_score = -np.Inf\n",
    "    best_auc_score = -np.Inf\n",
    "    best_epoch = None\n",
    "    best_val_preds = None\n",
    "\n",
    "    for epoch in range(starting_epoch, cfg.num_epochs):\n",
    "        net.train()\n",
    "        for step, batch in tqdm(enumerate(dev_dataloader), total=len(dev_dataloader)):\n",
    "            # We could avoid this line since we set the accelerator with `device_placement=True`.\n",
    "            batch = {k: v.to(accelerator.device) for k, v in batch.items()}\n",
    "            optimizer.zero_grad()\n",
    "            outputs = net(batch)\n",
    "            loss = F.binary_cross_entropy_with_logits(outputs, batch[\"target\"].unsqueeze(1))\n",
    "            accelerator.backward(loss)\n",
    "            optimizer.step()\n",
    "            lr_scheduler.step()\n",
    "\n",
    "        net.eval()\n",
    "        val_preds = []\n",
    "        val_y = []\n",
    "        for step, batch in tqdm(enumerate(val_dataloader), total=len(val_dataloader)):\n",
    "            # We could avoid this line since we set the accelerator with `device_placement=True`.\n",
    "            batch = {k: v.to(accelerator.device) for k, v in batch.items()}\n",
    "            image0 = batch['image'].clone().detach()\n",
    "            val_preds_batch = 0\n",
    "            counter = 0\n",
    "            with torch.no_grad():\n",
    "                outputs = net(batch)\n",
    "            preds = torch.sigmoid(outputs)\n",
    "            val_y_batch = batch[\"target\"]\n",
    "            preds, val_y_batch = accelerator.gather_for_metrics((preds, val_y_batch))\n",
    "            val_preds_batch += preds.data.cpu().numpy().reshape(-1)\n",
    "            counter += 1\n",
    "            if cfg.tta:\n",
    "                batch[\"image\"] = torch.flip(image0,dims=[2])\n",
    "                with torch.no_grad():\n",
    "                    outputs = net(batch)\n",
    "                preds = torch.sigmoid(outputs)\n",
    "                preds = accelerator.gather_for_metrics((preds))\n",
    "                val_preds_batch += preds.data.cpu().numpy().reshape(-1)\n",
    "                counter += 1\n",
    "                \n",
    "                batch[\"image\"] = torch.flip(image0,dims=[3])\n",
    "                with torch.no_grad():\n",
    "                    outputs = net(batch)\n",
    "                preds = torch.sigmoid(outputs)\n",
    "                preds = accelerator.gather_for_metrics((preds))\n",
    "                val_preds_batch += preds.data.cpu().numpy().reshape(-1)\n",
    "                counter += 1\n",
    "                \n",
    "                for k in [1, 2, 3]:\n",
    "                    batch[\"image\"] = torch.rot90(image0,k, dims=[2, 3])\n",
    "                    with torch.no_grad():\n",
    "                        outputs = net(batch)\n",
    "                    preds = torch.sigmoid(outputs)\n",
    "                    preds = accelerator.gather_for_metrics((preds))\n",
    "                    val_preds_batch += preds.data.cpu().numpy().reshape(-1)\n",
    "                    counter += 1\n",
    "            val_preds_batch = val_preds_batch / counter   \n",
    "            val_preds.append(val_preds_batch)    \n",
    "            val_y.append(val_y_batch.data.cpu().numpy().reshape(-1))\n",
    "            \n",
    "        val_preds = np.concatenate(val_preds)\n",
    "        val_y = np.concatenate(val_y)\n",
    "        auc = compute_auc(val_y, val_preds) \n",
    "        pauc = compute_pauc(val_y, val_preds, min_tpr=0.80)\n",
    "        \n",
    "        if pauc >= best_pauc_score:\n",
    "            best_auc_score = auc\n",
    "            best_pauc_score = pauc\n",
    "            best_epoch = epoch\n",
    "            best_val_preds = val_preds\n",
    "        print(f\"Epoch pauc: {pauc} | Best auc: {best_auc_score} | Best pauc: {best_pauc_score} | Best epoch: {best_epoch}\")\n",
    "        \n",
    "        output_dir = f\"fold_{fold}/model_{cfg.model_name}_epoch_{epoch}\"\n",
    "        if cfg.models_output_dir is not None:\n",
    "            output_dir = Path(f\"{cfg.models_output_dir}/{output_dir}\")\n",
    "        accelerator.save_state(output_dir)\n",
    "    \n",
    "    best_num_epochs[f\"fold_{fold}\"] = best_epoch\n",
    "    val_auc_scores[f\"fold_{fold}\"] = best_auc_score\n",
    "    val_pauc_scores[f\"fold_{fold}\"] = best_pauc_score\n",
    "    \n",
    "    oof_predictions[val_index] = best_val_preds\n",
    "    print(\"\\n\")\n",
    "#     break"
   ]
  },
  {
   "cell_type": "code",
   "execution_count": 8,
   "id": "764bc1fc",
   "metadata": {
    "execution": {
     "iopub.execute_input": "2024-07-13T05:25:03.803341Z",
     "iopub.status.busy": "2024-07-13T05:25:03.802969Z",
     "iopub.status.idle": "2024-07-13T05:25:03.932603Z",
     "shell.execute_reply": "2024-07-13T05:25:03.931710Z"
    },
    "papermill": {
     "duration": 0.157507,
     "end_time": "2024-07-13T05:25:03.934911",
     "exception": false,
     "start_time": "2024-07-13T05:25:03.777404",
     "status": "completed"
    },
    "tags": []
   },
   "outputs": [
    {
     "data": {
      "text/html": [
       "<div>\n",
       "<style scoped>\n",
       "    .dataframe tbody tr th:only-of-type {\n",
       "        vertical-align: middle;\n",
       "    }\n",
       "\n",
       "    .dataframe tbody tr th {\n",
       "        vertical-align: top;\n",
       "    }\n",
       "\n",
       "    .dataframe thead th {\n",
       "        text-align: right;\n",
       "    }\n",
       "</style>\n",
       "<table border=\"1\" class=\"dataframe\">\n",
       "  <thead>\n",
       "    <tr style=\"text-align: right;\">\n",
       "      <th></th>\n",
       "      <th>isic_id</th>\n",
       "      <th>patient_id</th>\n",
       "      <th>fold</th>\n",
       "      <th>final_target</th>\n",
       "      <th>oof_resnet18_v1</th>\n",
       "    </tr>\n",
       "  </thead>\n",
       "  <tbody>\n",
       "    <tr>\n",
       "      <th>0</th>\n",
       "      <td>ISIC_3531602</td>\n",
       "      <td>IP_9742855</td>\n",
       "      <td>2</td>\n",
       "      <td>0</td>\n",
       "      <td>0.412972</td>\n",
       "    </tr>\n",
       "    <tr>\n",
       "      <th>1</th>\n",
       "      <td>ISIC_3939264</td>\n",
       "      <td>IP_0028775</td>\n",
       "      <td>3</td>\n",
       "      <td>0</td>\n",
       "      <td>0.242674</td>\n",
       "    </tr>\n",
       "    <tr>\n",
       "      <th>2</th>\n",
       "      <td>ISIC_7485201</td>\n",
       "      <td>IP_3864041</td>\n",
       "      <td>4</td>\n",
       "      <td>0</td>\n",
       "      <td>0.246867</td>\n",
       "    </tr>\n",
       "    <tr>\n",
       "      <th>3</th>\n",
       "      <td>ISIC_8613136</td>\n",
       "      <td>IP_3549978</td>\n",
       "      <td>3</td>\n",
       "      <td>0</td>\n",
       "      <td>0.305728</td>\n",
       "    </tr>\n",
       "    <tr>\n",
       "      <th>4</th>\n",
       "      <td>ISIC_4447313</td>\n",
       "      <td>IP_4549819</td>\n",
       "      <td>4</td>\n",
       "      <td>0</td>\n",
       "      <td>0.411196</td>\n",
       "    </tr>\n",
       "  </tbody>\n",
       "</table>\n",
       "</div>"
      ],
      "text/plain": [
       "        isic_id  patient_id  fold  final_target  oof_resnet18_v1\n",
       "0  ISIC_3531602  IP_9742855     2             0         0.412972\n",
       "1  ISIC_3939264  IP_0028775     3             0         0.242674\n",
       "2  ISIC_7485201  IP_3864041     4             0         0.246867\n",
       "3  ISIC_8613136  IP_3549978     3             0         0.305728\n",
       "4  ISIC_4447313  IP_4549819     4             0         0.411196"
      ]
     },
     "execution_count": 8,
     "metadata": {},
     "output_type": "execute_result"
    }
   ],
   "source": [
    "oof_preds_df = pd.DataFrame({\n",
    "    id_column: train_ids,\n",
    "    group_column: groups,\n",
    "    \"fold\": folds,\n",
    "    target_column: y_train,\n",
    "    f\"oof_{cfg.model_name}\": oof_predictions\n",
    "})\n",
    "oof_preds_df.to_csv(f\"oof_preds_{cfg.model_name}.csv\")\n",
    "oof_preds_df.head()"
   ]
  },
  {
   "cell_type": "code",
   "execution_count": 9,
   "id": "e0efb24e",
   "metadata": {
    "execution": {
     "iopub.execute_input": "2024-07-13T05:25:03.986885Z",
     "iopub.status.busy": "2024-07-13T05:25:03.986060Z",
     "iopub.status.idle": "2024-07-13T05:25:03.992330Z",
     "shell.execute_reply": "2024-07-13T05:25:03.991530Z"
    },
    "papermill": {
     "duration": 0.034018,
     "end_time": "2024-07-13T05:25:03.994265",
     "exception": false,
     "start_time": "2024-07-13T05:25:03.960247",
     "status": "completed"
    },
    "tags": []
   },
   "outputs": [
    {
     "data": {
      "text/plain": [
       "{'fold_1': 0, 'fold_2': 0, 'fold_3': 0, 'fold_4': 0, 'fold_5': 0}"
      ]
     },
     "execution_count": 9,
     "metadata": {},
     "output_type": "execute_result"
    }
   ],
   "source": [
    "best_num_epochs"
   ]
  },
  {
   "cell_type": "code",
   "execution_count": 10,
   "id": "40e1af79",
   "metadata": {
    "execution": {
     "iopub.execute_input": "2024-07-13T05:25:04.045585Z",
     "iopub.status.busy": "2024-07-13T05:25:04.045308Z",
     "iopub.status.idle": "2024-07-13T05:25:04.050949Z",
     "shell.execute_reply": "2024-07-13T05:25:04.050101Z"
    },
    "papermill": {
     "duration": 0.033147,
     "end_time": "2024-07-13T05:25:04.052849",
     "exception": false,
     "start_time": "2024-07-13T05:25:04.019702",
     "status": "completed"
    },
    "tags": []
   },
   "outputs": [
    {
     "data": {
      "text/plain": [
       "{'fold_1': 0.6203888334995015,\n",
       " 'fold_2': 0.6008804717999834,\n",
       " 'fold_3': 0.3456664977192093,\n",
       " 'fold_4': 0.5088779284833539,\n",
       " 'fold_5': 0.40762331838565025}"
      ]
     },
     "execution_count": 10,
     "metadata": {},
     "output_type": "execute_result"
    }
   ],
   "source": [
    "val_auc_scores"
   ]
  },
  {
   "cell_type": "code",
   "execution_count": 11,
   "id": "b4fd2cc7",
   "metadata": {
    "execution": {
     "iopub.execute_input": "2024-07-13T05:25:04.104196Z",
     "iopub.status.busy": "2024-07-13T05:25:04.103893Z",
     "iopub.status.idle": "2024-07-13T05:25:04.109347Z",
     "shell.execute_reply": "2024-07-13T05:25:04.108547Z"
    },
    "papermill": {
     "duration": 0.033238,
     "end_time": "2024-07-13T05:25:04.111203",
     "exception": false,
     "start_time": "2024-07-13T05:25:04.077965",
     "status": "completed"
    },
    "tags": []
   },
   "outputs": [
    {
     "data": {
      "text/plain": [
       "{'fold_1': 0.12407776669990027,\n",
       " 'fold_2': 0.07346125093446298,\n",
       " 'fold_3': 0.017790167257982763,\n",
       " 'fold_4': 0.09933415536374843,\n",
       " 'fold_5': 0.05311410064773292}"
      ]
     },
     "execution_count": 11,
     "metadata": {},
     "output_type": "execute_result"
    }
   ],
   "source": [
    "val_pauc_scores"
   ]
  },
  {
   "cell_type": "code",
   "execution_count": 12,
   "id": "6d61bfe7",
   "metadata": {
    "execution": {
     "iopub.execute_input": "2024-07-13T05:25:04.162220Z",
     "iopub.status.busy": "2024-07-13T05:25:04.161914Z",
     "iopub.status.idle": "2024-07-13T05:25:04.185397Z",
     "shell.execute_reply": "2024-07-13T05:25:04.184357Z"
    },
    "papermill": {
     "duration": 0.051177,
     "end_time": "2024-07-13T05:25:04.187391",
     "exception": false,
     "start_time": "2024-07-13T05:25:04.136214",
     "status": "completed"
    },
    "tags": []
   },
   "outputs": [],
   "source": [
    "cv_auc_oof = compute_auc(oof_preds_df[target_column], oof_preds_df[f\"oof_{cfg.model_name}\"])\n",
    "cv_pauc_oof = compute_pauc(oof_preds_df[target_column], oof_preds_df[f\"oof_{cfg.model_name}\"], min_tpr=0.8)\n",
    "\n",
    "cv_auc_avg = np.mean(list(val_auc_scores.values()))\n",
    "cv_pauc_avg = np.mean(list(val_pauc_scores.values()))"
   ]
  },
  {
   "cell_type": "code",
   "execution_count": 13,
   "id": "ef841c87",
   "metadata": {
    "execution": {
     "iopub.execute_input": "2024-07-13T05:25:04.239253Z",
     "iopub.status.busy": "2024-07-13T05:25:04.238937Z",
     "iopub.status.idle": "2024-07-13T05:25:04.243919Z",
     "shell.execute_reply": "2024-07-13T05:25:04.242940Z"
    },
    "papermill": {
     "duration": 0.033463,
     "end_time": "2024-07-13T05:25:04.246085",
     "exception": false,
     "start_time": "2024-07-13T05:25:04.212622",
     "status": "completed"
    },
    "tags": []
   },
   "outputs": [
    {
     "name": "stdout",
     "output_type": "stream",
     "text": [
      "CV AUC OOF: 0.5125594963918318\n",
      "CV PAUC OOF: 0.04292875786887761\n",
      "CV AUC AVG: 0.4966874099775397\n",
      "CV PAUC AVG: 0.07355548818076547\n"
     ]
    }
   ],
   "source": [
    "print(f\"CV AUC OOF: {cv_auc_oof}\")\n",
    "print(f\"CV PAUC OOF: {cv_pauc_oof}\")\n",
    "print(f\"CV AUC AVG: {cv_auc_avg}\")\n",
    "print(f\"CV PAUC AVG: {cv_pauc_avg}\")"
   ]
  },
  {
   "cell_type": "code",
   "execution_count": 14,
   "id": "cb24f4f0",
   "metadata": {
    "execution": {
     "iopub.execute_input": "2024-07-13T05:25:04.297223Z",
     "iopub.status.busy": "2024-07-13T05:25:04.296942Z",
     "iopub.status.idle": "2024-07-13T05:25:04.303699Z",
     "shell.execute_reply": "2024-07-13T05:25:04.302839Z"
    },
    "papermill": {
     "duration": 0.03461,
     "end_time": "2024-07-13T05:25:04.305630",
     "exception": false,
     "start_time": "2024-07-13T05:25:04.271020",
     "status": "completed"
    },
    "tags": []
   },
   "outputs": [],
   "source": [
    "params = vars(cfg)\n",
    "params = {k: v for k, v in params.items() if not k.startswith(\"_\")}\n",
    "\n",
    "metadata = {\n",
    "    \"params\": params,\n",
    "    \"best_num_epochs\": best_num_epochs,\n",
    "    \"val_auc_scores\": val_auc_scores,\n",
    "    \"val_pauc_scores\": val_pauc_scores,\n",
    "    \"cv_auc_oof\": cv_auc_oof,\n",
    "    \"cv_pauc_oof\": cv_pauc_oof,\n",
    "    \"cv_auc_avg\": cv_auc_avg,\n",
    "    \"cv_pauc_avg\": cv_pauc_avg\n",
    "}\n",
    "\n",
    "with open(\"run_metadata.json\", \"w\") as f:\n",
    "    json.dump(metadata, f)"
   ]
  },
  {
   "cell_type": "code",
   "execution_count": null,
   "id": "b56b3883",
   "metadata": {
    "papermill": {
     "duration": 0.024378,
     "end_time": "2024-07-13T05:25:04.355542",
     "exception": false,
     "start_time": "2024-07-13T05:25:04.331164",
     "status": "completed"
    },
    "tags": []
   },
   "outputs": [],
   "source": []
  }
 ],
 "metadata": {
  "kaggle": {
   "accelerator": "gpu",
   "dataSources": [
    {
     "databundleVersionId": 9094797,
     "sourceId": 63056,
     "sourceType": "competition"
    },
    {
     "sourceId": 187439867,
     "sourceType": "kernelVersion"
    },
    {
     "sourceId": 187477024,
     "sourceType": "kernelVersion"
    }
   ],
   "dockerImageVersionId": 30732,
   "isGpuEnabled": true,
   "isInternetEnabled": true,
   "language": "python",
   "sourceType": "notebook"
  },
  "kernelspec": {
   "display_name": "Python 3",
   "language": "python",
   "name": "python3"
  },
  "language_info": {
   "codemirror_mode": {
    "name": "ipython",
    "version": 3
   },
   "file_extension": ".py",
   "mimetype": "text/x-python",
   "name": "python",
   "nbconvert_exporter": "python",
   "pygments_lexer": "ipython3",
   "version": "3.10.13"
  },
  "papermill": {
   "default_parameters": {},
   "duration": 257.282699,
   "end_time": "2024-07-13T05:25:07.073571",
   "environment_variables": {},
   "exception": null,
   "input_path": "__notebook__.ipynb",
   "output_path": "__notebook__.ipynb",
   "parameters": {},
   "start_time": "2024-07-13T05:20:49.790872",
   "version": "2.5.0"
  },
  "widgets": {
   "application/vnd.jupyter.widget-state+json": {
    "state": {
     "0b0f9a7d7f1c48b8ad34571732adec3f": {
      "model_module": "@jupyter-widgets/base",
      "model_module_version": "1.2.0",
      "model_name": "LayoutModel",
      "state": {
       "_model_module": "@jupyter-widgets/base",
       "_model_module_version": "1.2.0",
       "_model_name": "LayoutModel",
       "_view_count": null,
       "_view_module": "@jupyter-widgets/base",
       "_view_module_version": "1.2.0",
       "_view_name": "LayoutView",
       "align_content": null,
       "align_items": null,
       "align_self": null,
       "border": null,
       "bottom": null,
       "display": null,
       "flex": null,
       "flex_flow": null,
       "grid_area": null,
       "grid_auto_columns": null,
       "grid_auto_flow": null,
       "grid_auto_rows": null,
       "grid_column": null,
       "grid_gap": null,
       "grid_row": null,
       "grid_template_areas": null,
       "grid_template_columns": null,
       "grid_template_rows": null,
       "height": null,
       "justify_content": null,
       "justify_items": null,
       "left": null,
       "margin": null,
       "max_height": null,
       "max_width": null,
       "min_height": null,
       "min_width": null,
       "object_fit": null,
       "object_position": null,
       "order": null,
       "overflow": null,
       "overflow_x": null,
       "overflow_y": null,
       "padding": null,
       "right": null,
       "top": null,
       "visibility": null,
       "width": null
      }
     },
     "1c126a8dd22245afb52af1fb17f99358": {
      "model_module": "@jupyter-widgets/controls",
      "model_module_version": "1.5.0",
      "model_name": "DescriptionStyleModel",
      "state": {
       "_model_module": "@jupyter-widgets/controls",
       "_model_module_version": "1.5.0",
       "_model_name": "DescriptionStyleModel",
       "_view_count": null,
       "_view_module": "@jupyter-widgets/base",
       "_view_module_version": "1.2.0",
       "_view_name": "StyleView",
       "description_width": ""
      }
     },
     "254afc80c4664f12ae93158ba352c2a9": {
      "model_module": "@jupyter-widgets/base",
      "model_module_version": "1.2.0",
      "model_name": "LayoutModel",
      "state": {
       "_model_module": "@jupyter-widgets/base",
       "_model_module_version": "1.2.0",
       "_model_name": "LayoutModel",
       "_view_count": null,
       "_view_module": "@jupyter-widgets/base",
       "_view_module_version": "1.2.0",
       "_view_name": "LayoutView",
       "align_content": null,
       "align_items": null,
       "align_self": null,
       "border": null,
       "bottom": null,
       "display": null,
       "flex": null,
       "flex_flow": null,
       "grid_area": null,
       "grid_auto_columns": null,
       "grid_auto_flow": null,
       "grid_auto_rows": null,
       "grid_column": null,
       "grid_gap": null,
       "grid_row": null,
       "grid_template_areas": null,
       "grid_template_columns": null,
       "grid_template_rows": null,
       "height": null,
       "justify_content": null,
       "justify_items": null,
       "left": null,
       "margin": null,
       "max_height": null,
       "max_width": null,
       "min_height": null,
       "min_width": null,
       "object_fit": null,
       "object_position": null,
       "order": null,
       "overflow": null,
       "overflow_x": null,
       "overflow_y": null,
       "padding": null,
       "right": null,
       "top": null,
       "visibility": null,
       "width": null
      }
     },
     "9db76245bbb9423e87d4441bc7b1fab6": {
      "model_module": "@jupyter-widgets/controls",
      "model_module_version": "1.5.0",
      "model_name": "HTMLModel",
      "state": {
       "_dom_classes": [],
       "_model_module": "@jupyter-widgets/controls",
       "_model_module_version": "1.5.0",
       "_model_name": "HTMLModel",
       "_view_count": null,
       "_view_module": "@jupyter-widgets/controls",
       "_view_module_version": "1.5.0",
       "_view_name": "HTMLView",
       "description": "",
       "description_tooltip": null,
       "layout": "IPY_MODEL_254afc80c4664f12ae93158ba352c2a9",
       "placeholder": "​",
       "style": "IPY_MODEL_1c126a8dd22245afb52af1fb17f99358",
       "value": " 46.8M/46.8M [00:00&lt;00:00, 258MB/s]"
      }
     },
     "9df9d9e45f3e4aaba8b385df01feb526": {
      "model_module": "@jupyter-widgets/controls",
      "model_module_version": "1.5.0",
      "model_name": "HBoxModel",
      "state": {
       "_dom_classes": [],
       "_model_module": "@jupyter-widgets/controls",
       "_model_module_version": "1.5.0",
       "_model_name": "HBoxModel",
       "_view_count": null,
       "_view_module": "@jupyter-widgets/controls",
       "_view_module_version": "1.5.0",
       "_view_name": "HBoxView",
       "box_style": "",
       "children": [
        "IPY_MODEL_cf10d6fc9ac6449e895f7b0e08ee6952",
        "IPY_MODEL_a38126ebbc4e4b57bd64a323fb19b1db",
        "IPY_MODEL_9db76245bbb9423e87d4441bc7b1fab6"
       ],
       "layout": "IPY_MODEL_d4a4fdc4e50741c8a328f8cbdd9efe0e"
      }
     },
     "a38126ebbc4e4b57bd64a323fb19b1db": {
      "model_module": "@jupyter-widgets/controls",
      "model_module_version": "1.5.0",
      "model_name": "FloatProgressModel",
      "state": {
       "_dom_classes": [],
       "_model_module": "@jupyter-widgets/controls",
       "_model_module_version": "1.5.0",
       "_model_name": "FloatProgressModel",
       "_view_count": null,
       "_view_module": "@jupyter-widgets/controls",
       "_view_module_version": "1.5.0",
       "_view_name": "ProgressView",
       "bar_style": "success",
       "description": "",
       "description_tooltip": null,
       "layout": "IPY_MODEL_e1e141eda70e49edb9ba27294bdd6fc5",
       "max": 46807446.0,
       "min": 0.0,
       "orientation": "horizontal",
       "style": "IPY_MODEL_d9d54dc4995d4422b049147748727f11",
       "value": 46807446.0
      }
     },
     "cf10d6fc9ac6449e895f7b0e08ee6952": {
      "model_module": "@jupyter-widgets/controls",
      "model_module_version": "1.5.0",
      "model_name": "HTMLModel",
      "state": {
       "_dom_classes": [],
       "_model_module": "@jupyter-widgets/controls",
       "_model_module_version": "1.5.0",
       "_model_name": "HTMLModel",
       "_view_count": null,
       "_view_module": "@jupyter-widgets/controls",
       "_view_module_version": "1.5.0",
       "_view_name": "HTMLView",
       "description": "",
       "description_tooltip": null,
       "layout": "IPY_MODEL_0b0f9a7d7f1c48b8ad34571732adec3f",
       "placeholder": "​",
       "style": "IPY_MODEL_d1fc33d1261d426282d9959797bc32ce",
       "value": "model.safetensors: 100%"
      }
     },
     "d1fc33d1261d426282d9959797bc32ce": {
      "model_module": "@jupyter-widgets/controls",
      "model_module_version": "1.5.0",
      "model_name": "DescriptionStyleModel",
      "state": {
       "_model_module": "@jupyter-widgets/controls",
       "_model_module_version": "1.5.0",
       "_model_name": "DescriptionStyleModel",
       "_view_count": null,
       "_view_module": "@jupyter-widgets/base",
       "_view_module_version": "1.2.0",
       "_view_name": "StyleView",
       "description_width": ""
      }
     },
     "d4a4fdc4e50741c8a328f8cbdd9efe0e": {
      "model_module": "@jupyter-widgets/base",
      "model_module_version": "1.2.0",
      "model_name": "LayoutModel",
      "state": {
       "_model_module": "@jupyter-widgets/base",
       "_model_module_version": "1.2.0",
       "_model_name": "LayoutModel",
       "_view_count": null,
       "_view_module": "@jupyter-widgets/base",
       "_view_module_version": "1.2.0",
       "_view_name": "LayoutView",
       "align_content": null,
       "align_items": null,
       "align_self": null,
       "border": null,
       "bottom": null,
       "display": null,
       "flex": null,
       "flex_flow": null,
       "grid_area": null,
       "grid_auto_columns": null,
       "grid_auto_flow": null,
       "grid_auto_rows": null,
       "grid_column": null,
       "grid_gap": null,
       "grid_row": null,
       "grid_template_areas": null,
       "grid_template_columns": null,
       "grid_template_rows": null,
       "height": null,
       "justify_content": null,
       "justify_items": null,
       "left": null,
       "margin": null,
       "max_height": null,
       "max_width": null,
       "min_height": null,
       "min_width": null,
       "object_fit": null,
       "object_position": null,
       "order": null,
       "overflow": null,
       "overflow_x": null,
       "overflow_y": null,
       "padding": null,
       "right": null,
       "top": null,
       "visibility": null,
       "width": null
      }
     },
     "d9d54dc4995d4422b049147748727f11": {
      "model_module": "@jupyter-widgets/controls",
      "model_module_version": "1.5.0",
      "model_name": "ProgressStyleModel",
      "state": {
       "_model_module": "@jupyter-widgets/controls",
       "_model_module_version": "1.5.0",
       "_model_name": "ProgressStyleModel",
       "_view_count": null,
       "_view_module": "@jupyter-widgets/base",
       "_view_module_version": "1.2.0",
       "_view_name": "StyleView",
       "bar_color": null,
       "description_width": ""
      }
     },
     "e1e141eda70e49edb9ba27294bdd6fc5": {
      "model_module": "@jupyter-widgets/base",
      "model_module_version": "1.2.0",
      "model_name": "LayoutModel",
      "state": {
       "_model_module": "@jupyter-widgets/base",
       "_model_module_version": "1.2.0",
       "_model_name": "LayoutModel",
       "_view_count": null,
       "_view_module": "@jupyter-widgets/base",
       "_view_module_version": "1.2.0",
       "_view_name": "LayoutView",
       "align_content": null,
       "align_items": null,
       "align_self": null,
       "border": null,
       "bottom": null,
       "display": null,
       "flex": null,
       "flex_flow": null,
       "grid_area": null,
       "grid_auto_columns": null,
       "grid_auto_flow": null,
       "grid_auto_rows": null,
       "grid_column": null,
       "grid_gap": null,
       "grid_row": null,
       "grid_template_areas": null,
       "grid_template_columns": null,
       "grid_template_rows": null,
       "height": null,
       "justify_content": null,
       "justify_items": null,
       "left": null,
       "margin": null,
       "max_height": null,
       "max_width": null,
       "min_height": null,
       "min_width": null,
       "object_fit": null,
       "object_position": null,
       "order": null,
       "overflow": null,
       "overflow_x": null,
       "overflow_y": null,
       "padding": null,
       "right": null,
       "top": null,
       "visibility": null,
       "width": null
      }
     }
    },
    "version_major": 2,
    "version_minor": 0
   }
  }
 },
 "nbformat": 4,
 "nbformat_minor": 5
}
