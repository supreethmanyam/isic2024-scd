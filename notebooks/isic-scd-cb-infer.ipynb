{
 "cells": [
  {
   "cell_type": "code",
   "execution_count": 1,
   "id": "56ab7a43",
   "metadata": {
    "_cell_guid": "a30e467f-ec41-4133-b8d4-e794f559da50",
    "_uuid": "c0ebb1a4-b5f7-4a24-864f-eb38f15fed58",
    "collapsed": false,
    "execution": {
     "iopub.execute_input": "2024-07-14T16:50:28.842666Z",
     "iopub.status.busy": "2024-07-14T16:50:28.842262Z",
     "iopub.status.idle": "2024-07-14T16:50:35.838369Z",
     "shell.execute_reply": "2024-07-14T16:50:35.837228Z"
    },
    "jupyter": {
     "outputs_hidden": false
    },
    "papermill": {
     "duration": 7.007663,
     "end_time": "2024-07-14T16:50:35.841150",
     "exception": false,
     "start_time": "2024-07-14T16:50:28.833487",
     "status": "completed"
    },
    "tags": []
   },
   "outputs": [],
   "source": [
    "import json\n",
    "import joblib\n",
    "\n",
    "from pathlib import Path\n",
    "\n",
    "import pandas as pd\n",
    "import numpy as np\n",
    "\n",
    "import catboost as cb\n",
    "\n",
    "from isic_helper import DotDict, get_folds"
   ]
  },
  {
   "cell_type": "code",
   "execution_count": 2,
   "id": "5c5ef656",
   "metadata": {
    "execution": {
     "iopub.execute_input": "2024-07-14T16:50:35.857403Z",
     "iopub.status.busy": "2024-07-14T16:50:35.856181Z",
     "iopub.status.idle": "2024-07-14T16:50:35.861950Z",
     "shell.execute_reply": "2024-07-14T16:50:35.860873Z"
    },
    "papermill": {
     "duration": 0.016004,
     "end_time": "2024-07-14T16:50:35.864297",
     "exception": false,
     "start_time": "2024-07-14T16:50:35.848293",
     "status": "completed"
    },
    "tags": []
   },
   "outputs": [],
   "source": [
    "cfg = DotDict()\n",
    "\n",
    "cfg.models_output_dir = \"models\"\n",
    "cfg.model_name = \"cb_v1\""
   ]
  },
  {
   "cell_type": "code",
   "execution_count": 3,
   "id": "fa12be00",
   "metadata": {
    "execution": {
     "iopub.execute_input": "2024-07-14T16:50:35.879117Z",
     "iopub.status.busy": "2024-07-14T16:50:35.878717Z",
     "iopub.status.idle": "2024-07-14T16:50:47.461239Z",
     "shell.execute_reply": "2024-07-14T16:50:47.459917Z"
    },
    "papermill": {
     "duration": 11.593202,
     "end_time": "2024-07-14T16:50:47.464133",
     "exception": false,
     "start_time": "2024-07-14T16:50:35.870931",
     "status": "completed"
    },
    "tags": []
   },
   "outputs": [
    {
     "name": "stdout",
     "output_type": "stream",
     "text": [
      "Train data size: (401059, 57)\n",
      "Test data size: (3, 44)\n"
     ]
    }
   ],
   "source": [
    "INPUT_PATH = Path(\"../input/isic-2024-challenge/\")\n",
    "ARTIFACTS_INPUT_PATH = Path(f\"../input/isic-scd-cb-lgb-train/\")\n",
    "MODELS_INPUT_PATH = ARTIFACTS_INPUT_PATH / cfg.models_output_dir\n",
    "\n",
    "train_metadata = pd.read_csv(INPUT_PATH / \"train-metadata.csv\", low_memory=False)\n",
    "test_metadata = pd.read_csv(INPUT_PATH / \"test-metadata.csv\", low_memory=False)\n",
    "\n",
    "folds_df = get_folds()\n",
    "train_metadata = train_metadata.merge(folds_df, on=[\"isic_id\", \"patient_id\"], how=\"inner\")\n",
    "print(f\"Train data size: {train_metadata.shape}\")\n",
    "print(f\"Test data size: {test_metadata.shape}\")"
   ]
  },
  {
   "cell_type": "code",
   "execution_count": 4,
   "id": "b0f140f8",
   "metadata": {
    "execution": {
     "iopub.execute_input": "2024-07-14T16:50:47.479711Z",
     "iopub.status.busy": "2024-07-14T16:50:47.479277Z",
     "iopub.status.idle": "2024-07-14T16:50:47.488159Z",
     "shell.execute_reply": "2024-07-14T16:50:47.486880Z"
    },
    "papermill": {
     "duration": 0.019848,
     "end_time": "2024-07-14T16:50:47.490930",
     "exception": false,
     "start_time": "2024-07-14T16:50:47.471082",
     "status": "completed"
    },
    "tags": []
   },
   "outputs": [],
   "source": [
    "with open(ARTIFACTS_INPUT_PATH / \"cb_run_metadata.json\", \"r\") as f:\n",
    "    run_metadata = json.load(f)"
   ]
  },
  {
   "cell_type": "code",
   "execution_count": 5,
   "id": "e0d0df65",
   "metadata": {
    "execution": {
     "iopub.execute_input": "2024-07-14T16:50:47.508421Z",
     "iopub.status.busy": "2024-07-14T16:50:47.506843Z",
     "iopub.status.idle": "2024-07-14T16:50:47.518199Z",
     "shell.execute_reply": "2024-07-14T16:50:47.516943Z"
    },
    "papermill": {
     "duration": 0.022668,
     "end_time": "2024-07-14T16:50:47.520899",
     "exception": false,
     "start_time": "2024-07-14T16:50:47.498231",
     "status": "completed"
    },
    "tags": []
   },
   "outputs": [
    {
     "data": {
      "text/plain": [
       "{'params': {'objective': 'Logloss',\n",
       "  'random_state': 2022,\n",
       "  'iterations': 2500,\n",
       "  'learning_rate': 0.05,\n",
       "  'cat_features': ['sex',\n",
       "   'anatom_site_general',\n",
       "   'tbp_tile_type',\n",
       "   'tbp_lv_location',\n",
       "   'tbp_lv_location_simple',\n",
       "   'attribution',\n",
       "   'copyright_license'],\n",
       "  'max_depth': 8,\n",
       "  'l2_leaf_reg': 5,\n",
       "  'verbose': 50,\n",
       "  'early_stopping_rounds': 100,\n",
       "  'eval_metric': 'AUC',\n",
       "  'task_type': 'GPU',\n",
       "  'devices': '0'},\n",
       " 'cb_best_num_rounds': {'fold_1': 414,\n",
       "  'fold_2': 649,\n",
       "  'fold_3': 408,\n",
       "  'fold_4': 642,\n",
       "  'fold_5': 231},\n",
       " 'cb_val_auc_scores': {'fold_1': 0.9494343400001526,\n",
       "  'fold_2': 0.9503380060195923,\n",
       "  'fold_3': 0.955212414264679,\n",
       "  'fold_4': 0.9614055156707764,\n",
       "  'fold_5': 0.950451135635376},\n",
       " 'cb_val_pauc_scores': {'fold_1': 0.16176580074155472,\n",
       "  'fold_2': 0.16379234653749836,\n",
       "  'fold_3': 0.16503569155507852,\n",
       "  'fold_4': 0.16790786337372549,\n",
       "  'fold_5': 0.16277633946384645},\n",
       " 'cb_cv_auc_oof': 0.952448562456487,\n",
       " 'cb_cv_pauc_oof': 0.1632807063262568,\n",
       " 'cb_cv_auc_avg': 0.9533682823181152,\n",
       " 'cb_cv_pauc_avg': 0.16425560833434072}"
      ]
     },
     "execution_count": 5,
     "metadata": {},
     "output_type": "execute_result"
    }
   ],
   "source": [
    "run_metadata"
   ]
  },
  {
   "cell_type": "code",
   "execution_count": 6,
   "id": "d4d98638",
   "metadata": {
    "execution": {
     "iopub.execute_input": "2024-07-14T16:50:47.537060Z",
     "iopub.status.busy": "2024-07-14T16:50:47.536629Z",
     "iopub.status.idle": "2024-07-14T16:50:48.146093Z",
     "shell.execute_reply": "2024-07-14T16:50:48.144839Z"
    },
    "papermill": {
     "duration": 0.620979,
     "end_time": "2024-07-14T16:50:48.149069",
     "exception": false,
     "start_time": "2024-07-14T16:50:47.528090",
     "status": "completed"
    },
    "tags": []
   },
   "outputs": [],
   "source": [
    "def feature_engineering(df):\n",
    "    df[\"lesion_size_ratio\"]              = df[\"tbp_lv_minorAxisMM\"] / df[\"clin_size_long_diam_mm\"]\n",
    "    df[\"hue_contrast\"]                   = (df[\"tbp_lv_H\"] - df[\"tbp_lv_Hext\"]).abs()\n",
    "    df[\"normalized_lesion_size\"]         = df[\"clin_size_long_diam_mm\"] / df[\"age_approx\"]\n",
    "    df[\"overall_color_difference\"]       = (df[\"tbp_lv_deltaA\"] + df[\"tbp_lv_deltaB\"] + df[\"tbp_lv_deltaL\"]) / 3\n",
    "    \n",
    "    patient_num_images = df.groupby(\"patient_id\", as_index=False)[\"isic_id\"].count().rename(columns={\"isic_id\": \"num_images\"})\n",
    "    df = df.merge(patient_num_images, on=\"patient_id\", how=\"left\")\n",
    "\n",
    "    new_num_cols = [\n",
    "        \"num_images\",\n",
    "        \"lesion_size_ratio\",\n",
    "        \"normalized_lesion_size\", \n",
    "        \"overall_color_difference\"\n",
    "    ]\n",
    "    \n",
    "    new_cat_cols = []\n",
    "    \n",
    "    return df, new_num_cols, new_cat_cols\n",
    "\n",
    "train_metadata, _, _ = feature_engineering(train_metadata.copy())\n",
    "test_metadata, _, _ = feature_engineering(test_metadata.copy())"
   ]
  },
  {
   "cell_type": "code",
   "execution_count": 7,
   "id": "22c3fc6b",
   "metadata": {
    "execution": {
     "iopub.execute_input": "2024-07-14T16:50:48.165580Z",
     "iopub.status.busy": "2024-07-14T16:50:48.164573Z",
     "iopub.status.idle": "2024-07-14T16:50:48.170254Z",
     "shell.execute_reply": "2024-07-14T16:50:48.169000Z"
    },
    "papermill": {
     "duration": 0.01678,
     "end_time": "2024-07-14T16:50:48.173052",
     "exception": false,
     "start_time": "2024-07-14T16:50:48.156272",
     "status": "completed"
    },
    "tags": []
   },
   "outputs": [],
   "source": [
    "id_column = \"isic_id\"\n",
    "target_column = \"target\"\n",
    "folds = train_metadata[\"fold\"]"
   ]
  },
  {
   "cell_type": "code",
   "execution_count": 8,
   "id": "a4e6c4a2",
   "metadata": {
    "execution": {
     "iopub.execute_input": "2024-07-14T16:50:48.188945Z",
     "iopub.status.busy": "2024-07-14T16:50:48.188512Z",
     "iopub.status.idle": "2024-07-14T16:50:48.207626Z",
     "shell.execute_reply": "2024-07-14T16:50:48.206569Z"
    },
    "papermill": {
     "duration": 0.030383,
     "end_time": "2024-07-14T16:50:48.210456",
     "exception": false,
     "start_time": "2024-07-14T16:50:48.180073",
     "status": "completed"
    },
    "tags": []
   },
   "outputs": [],
   "source": [
    "with open(ARTIFACTS_INPUT_PATH / \"encoder.joblib\", \"rb\") as f:\n",
    "    mixed_encoded_preprocessor = joblib.load(f)"
   ]
  },
  {
   "cell_type": "code",
   "execution_count": 9,
   "id": "6c9c3f31",
   "metadata": {
    "execution": {
     "iopub.execute_input": "2024-07-14T16:50:48.226550Z",
     "iopub.status.busy": "2024-07-14T16:50:48.226126Z",
     "iopub.status.idle": "2024-07-14T16:50:49.221358Z",
     "shell.execute_reply": "2024-07-14T16:50:49.220260Z"
    },
    "papermill": {
     "duration": 1.006418,
     "end_time": "2024-07-14T16:50:49.224214",
     "exception": false,
     "start_time": "2024-07-14T16:50:48.217796",
     "status": "completed"
    },
    "tags": []
   },
   "outputs": [],
   "source": [
    "enc = mixed_encoded_preprocessor.fit(train_metadata)\n",
    "X_test = enc.transform(test_metadata)"
   ]
  },
  {
   "cell_type": "code",
   "execution_count": 10,
   "id": "1ade1224",
   "metadata": {
    "execution": {
     "iopub.execute_input": "2024-07-14T16:50:49.241343Z",
     "iopub.status.busy": "2024-07-14T16:50:49.240027Z",
     "iopub.status.idle": "2024-07-14T16:50:49.246358Z",
     "shell.execute_reply": "2024-07-14T16:50:49.245265Z"
    },
    "papermill": {
     "duration": 0.018534,
     "end_time": "2024-07-14T16:50:49.249741",
     "exception": false,
     "start_time": "2024-07-14T16:50:49.231207",
     "status": "completed"
    },
    "tags": []
   },
   "outputs": [
    {
     "name": "stdout",
     "output_type": "stream",
     "text": [
      "Total number of columns: 41\n"
     ]
    }
   ],
   "source": [
    "columns_for_model = len(X_test.columns)\n",
    "print(f\"Total number of columns: {columns_for_model}\")"
   ]
  },
  {
   "cell_type": "code",
   "execution_count": 11,
   "id": "9b6c87d3",
   "metadata": {
    "execution": {
     "iopub.execute_input": "2024-07-14T16:50:49.265473Z",
     "iopub.status.busy": "2024-07-14T16:50:49.265076Z",
     "iopub.status.idle": "2024-07-14T16:50:49.628885Z",
     "shell.execute_reply": "2024-07-14T16:50:49.627757Z"
    },
    "papermill": {
     "duration": 0.374801,
     "end_time": "2024-07-14T16:50:49.631617",
     "exception": false,
     "start_time": "2024-07-14T16:50:49.256816",
     "status": "completed"
    },
    "tags": []
   },
   "outputs": [],
   "source": [
    "all_folds = np.sort(folds.unique())\n",
    "test_predictions_df = pd.DataFrame({id_column: test_metadata[id_column]})\n",
    "for fold in all_folds:\n",
    "    model = cb.CatBoostClassifier(**run_metadata[\"params\"])\n",
    "    model.load_model(MODELS_INPUT_PATH / f\"{cfg.model_name}_fold_{fold}.txt\")\n",
    "    test_predictions_df[f\"fold_{fold}\"] = model.predict_proba(X_test, ntree_end=run_metadata[\"cb_best_num_rounds\"][f\"fold_{fold}\"])[:, -1]"
   ]
  },
  {
   "cell_type": "code",
   "execution_count": 12,
   "id": "7abe8933",
   "metadata": {
    "execution": {
     "iopub.execute_input": "2024-07-14T16:50:49.648014Z",
     "iopub.status.busy": "2024-07-14T16:50:49.647113Z",
     "iopub.status.idle": "2024-07-14T16:50:49.666661Z",
     "shell.execute_reply": "2024-07-14T16:50:49.665355Z"
    },
    "papermill": {
     "duration": 0.030507,
     "end_time": "2024-07-14T16:50:49.669350",
     "exception": false,
     "start_time": "2024-07-14T16:50:49.638843",
     "status": "completed"
    },
    "tags": []
   },
   "outputs": [
    {
     "data": {
      "text/html": [
       "<div>\n",
       "<style scoped>\n",
       "    .dataframe tbody tr th:only-of-type {\n",
       "        vertical-align: middle;\n",
       "    }\n",
       "\n",
       "    .dataframe tbody tr th {\n",
       "        vertical-align: top;\n",
       "    }\n",
       "\n",
       "    .dataframe thead th {\n",
       "        text-align: right;\n",
       "    }\n",
       "</style>\n",
       "<table border=\"1\" class=\"dataframe\">\n",
       "  <thead>\n",
       "    <tr style=\"text-align: right;\">\n",
       "      <th></th>\n",
       "      <th>isic_id</th>\n",
       "      <th>fold_1</th>\n",
       "      <th>fold_2</th>\n",
       "      <th>fold_3</th>\n",
       "      <th>fold_4</th>\n",
       "      <th>fold_5</th>\n",
       "    </tr>\n",
       "  </thead>\n",
       "  <tbody>\n",
       "    <tr>\n",
       "      <th>0</th>\n",
       "      <td>ISIC_0015657</td>\n",
       "      <td>0.000040</td>\n",
       "      <td>0.000081</td>\n",
       "      <td>0.000129</td>\n",
       "      <td>0.000059</td>\n",
       "      <td>0.000102</td>\n",
       "    </tr>\n",
       "    <tr>\n",
       "      <th>1</th>\n",
       "      <td>ISIC_0015729</td>\n",
       "      <td>0.000022</td>\n",
       "      <td>0.000021</td>\n",
       "      <td>0.000008</td>\n",
       "      <td>0.000010</td>\n",
       "      <td>0.000042</td>\n",
       "    </tr>\n",
       "    <tr>\n",
       "      <th>2</th>\n",
       "      <td>ISIC_0015740</td>\n",
       "      <td>0.000136</td>\n",
       "      <td>0.000251</td>\n",
       "      <td>0.000364</td>\n",
       "      <td>0.000094</td>\n",
       "      <td>0.000285</td>\n",
       "    </tr>\n",
       "  </tbody>\n",
       "</table>\n",
       "</div>"
      ],
      "text/plain": [
       "        isic_id    fold_1    fold_2    fold_3    fold_4    fold_5\n",
       "0  ISIC_0015657  0.000040  0.000081  0.000129  0.000059  0.000102\n",
       "1  ISIC_0015729  0.000022  0.000021  0.000008  0.000010  0.000042\n",
       "2  ISIC_0015740  0.000136  0.000251  0.000364  0.000094  0.000285"
      ]
     },
     "execution_count": 12,
     "metadata": {},
     "output_type": "execute_result"
    }
   ],
   "source": [
    "test_predictions_df.head()"
   ]
  },
  {
   "cell_type": "code",
   "execution_count": 13,
   "id": "e0f23079",
   "metadata": {
    "execution": {
     "iopub.execute_input": "2024-07-14T16:50:49.685977Z",
     "iopub.status.busy": "2024-07-14T16:50:49.685543Z",
     "iopub.status.idle": "2024-07-14T16:50:49.694736Z",
     "shell.execute_reply": "2024-07-14T16:50:49.693481Z"
    },
    "papermill": {
     "duration": 0.020366,
     "end_time": "2024-07-14T16:50:49.697127",
     "exception": false,
     "start_time": "2024-07-14T16:50:49.676761",
     "status": "completed"
    },
    "tags": []
   },
   "outputs": [],
   "source": [
    "test_predictions_df[target_column] = test_predictions_df[[f\"fold_{fold}\" for fold in all_folds]].mean(axis=1)"
   ]
  },
  {
   "cell_type": "code",
   "execution_count": 14,
   "id": "5ef8af0a",
   "metadata": {
    "execution": {
     "iopub.execute_input": "2024-07-14T16:50:49.713846Z",
     "iopub.status.busy": "2024-07-14T16:50:49.713427Z",
     "iopub.status.idle": "2024-07-14T16:50:49.728055Z",
     "shell.execute_reply": "2024-07-14T16:50:49.726990Z"
    },
    "papermill": {
     "duration": 0.02577,
     "end_time": "2024-07-14T16:50:49.730364",
     "exception": false,
     "start_time": "2024-07-14T16:50:49.704594",
     "status": "completed"
    },
    "tags": []
   },
   "outputs": [
    {
     "data": {
      "text/html": [
       "<div>\n",
       "<style scoped>\n",
       "    .dataframe tbody tr th:only-of-type {\n",
       "        vertical-align: middle;\n",
       "    }\n",
       "\n",
       "    .dataframe tbody tr th {\n",
       "        vertical-align: top;\n",
       "    }\n",
       "\n",
       "    .dataframe thead th {\n",
       "        text-align: right;\n",
       "    }\n",
       "</style>\n",
       "<table border=\"1\" class=\"dataframe\">\n",
       "  <thead>\n",
       "    <tr style=\"text-align: right;\">\n",
       "      <th></th>\n",
       "      <th>isic_id</th>\n",
       "      <th>fold_1</th>\n",
       "      <th>fold_2</th>\n",
       "      <th>fold_3</th>\n",
       "      <th>fold_4</th>\n",
       "      <th>fold_5</th>\n",
       "      <th>target</th>\n",
       "    </tr>\n",
       "  </thead>\n",
       "  <tbody>\n",
       "    <tr>\n",
       "      <th>0</th>\n",
       "      <td>ISIC_0015657</td>\n",
       "      <td>0.000040</td>\n",
       "      <td>0.000081</td>\n",
       "      <td>0.000129</td>\n",
       "      <td>0.000059</td>\n",
       "      <td>0.000102</td>\n",
       "      <td>0.000082</td>\n",
       "    </tr>\n",
       "    <tr>\n",
       "      <th>1</th>\n",
       "      <td>ISIC_0015729</td>\n",
       "      <td>0.000022</td>\n",
       "      <td>0.000021</td>\n",
       "      <td>0.000008</td>\n",
       "      <td>0.000010</td>\n",
       "      <td>0.000042</td>\n",
       "      <td>0.000021</td>\n",
       "    </tr>\n",
       "    <tr>\n",
       "      <th>2</th>\n",
       "      <td>ISIC_0015740</td>\n",
       "      <td>0.000136</td>\n",
       "      <td>0.000251</td>\n",
       "      <td>0.000364</td>\n",
       "      <td>0.000094</td>\n",
       "      <td>0.000285</td>\n",
       "      <td>0.000226</td>\n",
       "    </tr>\n",
       "  </tbody>\n",
       "</table>\n",
       "</div>"
      ],
      "text/plain": [
       "        isic_id    fold_1    fold_2    fold_3    fold_4    fold_5    target\n",
       "0  ISIC_0015657  0.000040  0.000081  0.000129  0.000059  0.000102  0.000082\n",
       "1  ISIC_0015729  0.000022  0.000021  0.000008  0.000010  0.000042  0.000021\n",
       "2  ISIC_0015740  0.000136  0.000251  0.000364  0.000094  0.000285  0.000226"
      ]
     },
     "execution_count": 14,
     "metadata": {},
     "output_type": "execute_result"
    }
   ],
   "source": [
    "test_predictions_df.head()"
   ]
  },
  {
   "cell_type": "code",
   "execution_count": 15,
   "id": "e8b096ad",
   "metadata": {
    "execution": {
     "iopub.execute_input": "2024-07-14T16:50:49.747401Z",
     "iopub.status.busy": "2024-07-14T16:50:49.747028Z",
     "iopub.status.idle": "2024-07-14T16:50:49.761405Z",
     "shell.execute_reply": "2024-07-14T16:50:49.760246Z"
    },
    "papermill": {
     "duration": 0.026161,
     "end_time": "2024-07-14T16:50:49.764035",
     "exception": false,
     "start_time": "2024-07-14T16:50:49.737874",
     "status": "completed"
    },
    "tags": []
   },
   "outputs": [
    {
     "data": {
      "text/plain": [
       "count    3.000000\n",
       "mean     0.000110\n",
       "std      0.000105\n",
       "min      0.000021\n",
       "25%      0.000051\n",
       "50%      0.000082\n",
       "75%      0.000154\n",
       "max      0.000226\n",
       "Name: target, dtype: float64"
      ]
     },
     "execution_count": 15,
     "metadata": {},
     "output_type": "execute_result"
    }
   ],
   "source": [
    "test_predictions_df[target_column].describe()"
   ]
  },
  {
   "cell_type": "code",
   "execution_count": 16,
   "id": "54be0e49",
   "metadata": {
    "execution": {
     "iopub.execute_input": "2024-07-14T16:50:49.782370Z",
     "iopub.status.busy": "2024-07-14T16:50:49.781974Z",
     "iopub.status.idle": "2024-07-14T16:50:49.794239Z",
     "shell.execute_reply": "2024-07-14T16:50:49.792966Z"
    },
    "papermill": {
     "duration": 0.024554,
     "end_time": "2024-07-14T16:50:49.796756",
     "exception": false,
     "start_time": "2024-07-14T16:50:49.772202",
     "status": "completed"
    },
    "tags": []
   },
   "outputs": [
    {
     "data": {
      "text/html": [
       "<div>\n",
       "<style scoped>\n",
       "    .dataframe tbody tr th:only-of-type {\n",
       "        vertical-align: middle;\n",
       "    }\n",
       "\n",
       "    .dataframe tbody tr th {\n",
       "        vertical-align: top;\n",
       "    }\n",
       "\n",
       "    .dataframe thead th {\n",
       "        text-align: right;\n",
       "    }\n",
       "</style>\n",
       "<table border=\"1\" class=\"dataframe\">\n",
       "  <thead>\n",
       "    <tr style=\"text-align: right;\">\n",
       "      <th></th>\n",
       "      <th>isic_id</th>\n",
       "      <th>target</th>\n",
       "    </tr>\n",
       "  </thead>\n",
       "  <tbody>\n",
       "    <tr>\n",
       "      <th>0</th>\n",
       "      <td>ISIC_0015657</td>\n",
       "      <td>0.000082</td>\n",
       "    </tr>\n",
       "    <tr>\n",
       "      <th>1</th>\n",
       "      <td>ISIC_0015729</td>\n",
       "      <td>0.000021</td>\n",
       "    </tr>\n",
       "    <tr>\n",
       "      <th>2</th>\n",
       "      <td>ISIC_0015740</td>\n",
       "      <td>0.000226</td>\n",
       "    </tr>\n",
       "  </tbody>\n",
       "</table>\n",
       "</div>"
      ],
      "text/plain": [
       "        isic_id    target\n",
       "0  ISIC_0015657  0.000082\n",
       "1  ISIC_0015729  0.000021\n",
       "2  ISIC_0015740  0.000226"
      ]
     },
     "execution_count": 16,
     "metadata": {},
     "output_type": "execute_result"
    }
   ],
   "source": [
    "test_predictions_df[[id_column, target_column]].head(10)"
   ]
  },
  {
   "cell_type": "code",
   "execution_count": 17,
   "id": "4ef6c9e9",
   "metadata": {
    "execution": {
     "iopub.execute_input": "2024-07-14T16:50:49.814453Z",
     "iopub.status.busy": "2024-07-14T16:50:49.814069Z",
     "iopub.status.idle": "2024-07-14T16:50:49.824057Z",
     "shell.execute_reply": "2024-07-14T16:50:49.822981Z"
    },
    "papermill": {
     "duration": 0.022042,
     "end_time": "2024-07-14T16:50:49.826789",
     "exception": false,
     "start_time": "2024-07-14T16:50:49.804747",
     "status": "completed"
    },
    "tags": []
   },
   "outputs": [],
   "source": [
    "test_predictions_df[[id_column, target_column]].to_csv(\"submission.csv\", index=False)"
   ]
  },
  {
   "cell_type": "code",
   "execution_count": null,
   "id": "81bd060b",
   "metadata": {
    "papermill": {
     "duration": 0.007587,
     "end_time": "2024-07-14T16:50:49.842552",
     "exception": false,
     "start_time": "2024-07-14T16:50:49.834965",
     "status": "completed"
    },
    "tags": []
   },
   "outputs": [],
   "source": []
  }
 ],
 "metadata": {
  "kaggle": {
   "accelerator": "none",
   "dataSources": [
    {
     "databundleVersionId": 9094797,
     "sourceId": 63056,
     "sourceType": "competition"
    },
    {
     "sourceId": 187439867,
     "sourceType": "kernelVersion"
    },
    {
     "sourceId": 187477024,
     "sourceType": "kernelVersion"
    },
    {
     "sourceId": 188218862,
     "sourceType": "kernelVersion"
    }
   ],
   "dockerImageVersionId": 30732,
   "isGpuEnabled": false,
   "isInternetEnabled": false,
   "language": "python",
   "sourceType": "notebook"
  },
  "kernelspec": {
   "display_name": "Python 3",
   "language": "python",
   "name": "python3"
  },
  "language_info": {
   "codemirror_mode": {
    "name": "ipython",
    "version": 3
   },
   "file_extension": ".py",
   "mimetype": "text/x-python",
   "name": "python",
   "nbconvert_exporter": "python",
   "pygments_lexer": "ipython3",
   "version": "3.10.13"
  },
  "papermill": {
   "default_parameters": {},
   "duration": 25.509342,
   "end_time": "2024-07-14T16:50:51.075242",
   "environment_variables": {},
   "exception": null,
   "input_path": "__notebook__.ipynb",
   "output_path": "__notebook__.ipynb",
   "parameters": {},
   "start_time": "2024-07-14T16:50:25.565900",
   "version": "2.5.0"
  }
 },
 "nbformat": 4,
 "nbformat_minor": 5
}
