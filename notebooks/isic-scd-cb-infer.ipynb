{
 "cells": [
  {
   "cell_type": "code",
   "execution_count": 1,
   "id": "22c0fb22",
   "metadata": {
    "_cell_guid": "a30e467f-ec41-4133-b8d4-e794f559da50",
    "_uuid": "c0ebb1a4-b5f7-4a24-864f-eb38f15fed58",
    "collapsed": false,
    "execution": {
     "iopub.execute_input": "2024-07-14T19:58:24.237488Z",
     "iopub.status.busy": "2024-07-14T19:58:24.237216Z",
     "iopub.status.idle": "2024-07-14T19:58:29.865461Z",
     "shell.execute_reply": "2024-07-14T19:58:29.864693Z"
    },
    "jupyter": {
     "outputs_hidden": false
    },
    "papermill": {
     "duration": 5.637199,
     "end_time": "2024-07-14T19:58:29.867797",
     "exception": false,
     "start_time": "2024-07-14T19:58:24.230598",
     "status": "completed"
    },
    "tags": []
   },
   "outputs": [],
   "source": [
    "import json\n",
    "import joblib\n",
    "\n",
    "from pathlib import Path\n",
    "\n",
    "import pandas as pd\n",
    "import numpy as np\n",
    "\n",
    "import catboost as cb\n",
    "\n",
    "from isic_helper import DotDict, get_folds"
   ]
  },
  {
   "cell_type": "code",
   "execution_count": 2,
   "id": "646de9cc",
   "metadata": {
    "execution": {
     "iopub.execute_input": "2024-07-14T19:58:29.880388Z",
     "iopub.status.busy": "2024-07-14T19:58:29.879882Z",
     "iopub.status.idle": "2024-07-14T19:58:29.885821Z",
     "shell.execute_reply": "2024-07-14T19:58:29.884494Z"
    },
    "papermill": {
     "duration": 0.015419,
     "end_time": "2024-07-14T19:58:29.888888",
     "exception": false,
     "start_time": "2024-07-14T19:58:29.873469",
     "status": "completed"
    },
    "tags": []
   },
   "outputs": [],
   "source": [
    "cfg = DotDict()\n",
    "\n",
    "cfg.models_output_dir = \"models\"\n",
    "cfg.model_name = \"cb_v1\""
   ]
  },
  {
   "cell_type": "code",
   "execution_count": 3,
   "id": "d068597a",
   "metadata": {
    "execution": {
     "iopub.execute_input": "2024-07-14T19:58:29.903716Z",
     "iopub.status.busy": "2024-07-14T19:58:29.902932Z",
     "iopub.status.idle": "2024-07-14T19:58:39.549485Z",
     "shell.execute_reply": "2024-07-14T19:58:39.548595Z"
    },
    "papermill": {
     "duration": 9.655852,
     "end_time": "2024-07-14T19:58:39.551750",
     "exception": false,
     "start_time": "2024-07-14T19:58:29.895898",
     "status": "completed"
    },
    "tags": []
   },
   "outputs": [
    {
     "name": "stdout",
     "output_type": "stream",
     "text": [
      "Train data size: (401059, 57)\n",
      "Test data size: (3, 44)\n"
     ]
    }
   ],
   "source": [
    "INPUT_PATH = Path(\"../input/isic-2024-challenge/\")\n",
    "ARTIFACTS_INPUT_PATH = Path(f\"../input/isic-scd-cb-train/\")\n",
    "MODELS_INPUT_PATH = ARTIFACTS_INPUT_PATH / cfg.models_output_dir\n",
    "\n",
    "train_metadata = pd.read_csv(INPUT_PATH / \"train-metadata.csv\", low_memory=False)\n",
    "test_metadata = pd.read_csv(INPUT_PATH / \"test-metadata.csv\", low_memory=False)\n",
    "\n",
    "folds_df = get_folds()\n",
    "train_metadata = train_metadata.merge(folds_df, on=[\"isic_id\", \"patient_id\"], how=\"inner\")\n",
    "print(f\"Train data size: {train_metadata.shape}\")\n",
    "print(f\"Test data size: {test_metadata.shape}\")"
   ]
  },
  {
   "cell_type": "code",
   "execution_count": 4,
   "id": "0a615354",
   "metadata": {
    "execution": {
     "iopub.execute_input": "2024-07-14T19:58:39.563720Z",
     "iopub.status.busy": "2024-07-14T19:58:39.563140Z",
     "iopub.status.idle": "2024-07-14T19:58:39.570555Z",
     "shell.execute_reply": "2024-07-14T19:58:39.569890Z"
    },
    "papermill": {
     "duration": 0.015378,
     "end_time": "2024-07-14T19:58:39.572472",
     "exception": false,
     "start_time": "2024-07-14T19:58:39.557094",
     "status": "completed"
    },
    "tags": []
   },
   "outputs": [],
   "source": [
    "with open(ARTIFACTS_INPUT_PATH / \"run_metadata.json\", \"r\") as f:\n",
    "    run_metadata = json.load(f)"
   ]
  },
  {
   "cell_type": "code",
   "execution_count": 5,
   "id": "cb28d71c",
   "metadata": {
    "execution": {
     "iopub.execute_input": "2024-07-14T19:58:39.585847Z",
     "iopub.status.busy": "2024-07-14T19:58:39.584735Z",
     "iopub.status.idle": "2024-07-14T19:58:40.129065Z",
     "shell.execute_reply": "2024-07-14T19:58:40.128268Z"
    },
    "papermill": {
     "duration": 0.553796,
     "end_time": "2024-07-14T19:58:40.131543",
     "exception": false,
     "start_time": "2024-07-14T19:58:39.577747",
     "status": "completed"
    },
    "tags": []
   },
   "outputs": [],
   "source": [
    "def feature_engineering(df):\n",
    "    df[\"lesion_size_ratio\"]              = df[\"tbp_lv_minorAxisMM\"] / df[\"clin_size_long_diam_mm\"]\n",
    "    df[\"hue_contrast\"]                   = (df[\"tbp_lv_H\"] - df[\"tbp_lv_Hext\"]).abs()\n",
    "    df[\"normalized_lesion_size\"]         = df[\"clin_size_long_diam_mm\"] / df[\"age_approx\"]\n",
    "    df[\"overall_color_difference\"]       = (df[\"tbp_lv_deltaA\"] + df[\"tbp_lv_deltaB\"] + df[\"tbp_lv_deltaL\"]) / 3\n",
    "    \n",
    "    patient_num_images = df.groupby(\"patient_id\", as_index=False)[\"isic_id\"].count().rename(columns={\"isic_id\": \"num_images\"})\n",
    "    df = df.merge(patient_num_images, on=\"patient_id\", how=\"left\")\n",
    "\n",
    "    new_num_cols = [\n",
    "        \"num_images\",\n",
    "        \"lesion_size_ratio\",\n",
    "        \"hue_contrast\",\n",
    "        \"normalized_lesion_size\", \n",
    "        \"overall_color_difference\"\n",
    "    ]\n",
    "    \n",
    "    new_cat_cols = []\n",
    "    \n",
    "    return df, new_num_cols, new_cat_cols\n",
    "\n",
    "train_metadata, new_num_cols, new_cat_cols = feature_engineering(train_metadata.copy())\n",
    "test_metadata, new_num_cols, new_cat_cols = feature_engineering(test_metadata.copy())"
   ]
  },
  {
   "cell_type": "code",
   "execution_count": 6,
   "id": "d4b4eb70",
   "metadata": {
    "execution": {
     "iopub.execute_input": "2024-07-14T19:58:40.143843Z",
     "iopub.status.busy": "2024-07-14T19:58:40.143533Z",
     "iopub.status.idle": "2024-07-14T19:58:40.147621Z",
     "shell.execute_reply": "2024-07-14T19:58:40.146814Z"
    },
    "papermill": {
     "duration": 0.011989,
     "end_time": "2024-07-14T19:58:40.149396",
     "exception": false,
     "start_time": "2024-07-14T19:58:40.137407",
     "status": "completed"
    },
    "tags": []
   },
   "outputs": [],
   "source": [
    "id_column = \"isic_id\"\n",
    "target_column = \"target\"\n",
    "folds = train_metadata[\"fold\"]"
   ]
  },
  {
   "cell_type": "code",
   "execution_count": 7,
   "id": "90921f19",
   "metadata": {
    "execution": {
     "iopub.execute_input": "2024-07-14T19:58:40.160815Z",
     "iopub.status.busy": "2024-07-14T19:58:40.160518Z",
     "iopub.status.idle": "2024-07-14T19:58:40.175234Z",
     "shell.execute_reply": "2024-07-14T19:58:40.174520Z"
    },
    "papermill": {
     "duration": 0.022615,
     "end_time": "2024-07-14T19:58:40.177144",
     "exception": false,
     "start_time": "2024-07-14T19:58:40.154529",
     "status": "completed"
    },
    "tags": []
   },
   "outputs": [],
   "source": [
    "with open(ARTIFACTS_INPUT_PATH / f\"{cfg.model_name}_encoder.joblib\", \"rb\") as f:\n",
    "    mixed_encoded_preprocessor = joblib.load(f)"
   ]
  },
  {
   "cell_type": "code",
   "execution_count": 8,
   "id": "b627d854",
   "metadata": {
    "execution": {
     "iopub.execute_input": "2024-07-14T19:58:40.188433Z",
     "iopub.status.busy": "2024-07-14T19:58:40.188176Z",
     "iopub.status.idle": "2024-07-14T19:58:41.134826Z",
     "shell.execute_reply": "2024-07-14T19:58:41.134065Z"
    },
    "papermill": {
     "duration": 0.954701,
     "end_time": "2024-07-14T19:58:41.136997",
     "exception": false,
     "start_time": "2024-07-14T19:58:40.182296",
     "status": "completed"
    },
    "tags": []
   },
   "outputs": [],
   "source": [
    "enc = mixed_encoded_preprocessor.fit(train_metadata)\n",
    "X_test = enc.transform(test_metadata)"
   ]
  },
  {
   "cell_type": "code",
   "execution_count": 9,
   "id": "7f6e8cd4",
   "metadata": {
    "execution": {
     "iopub.execute_input": "2024-07-14T19:58:41.148783Z",
     "iopub.status.busy": "2024-07-14T19:58:41.148463Z",
     "iopub.status.idle": "2024-07-14T19:58:41.153055Z",
     "shell.execute_reply": "2024-07-14T19:58:41.152179Z"
    },
    "papermill": {
     "duration": 0.01283,
     "end_time": "2024-07-14T19:58:41.155263",
     "exception": false,
     "start_time": "2024-07-14T19:58:41.142433",
     "status": "completed"
    },
    "tags": []
   },
   "outputs": [
    {
     "name": "stdout",
     "output_type": "stream",
     "text": [
      "Total number of columns: 46\n"
     ]
    }
   ],
   "source": [
    "columns_for_model = len(X_test.columns)\n",
    "print(f\"Total number of columns: {columns_for_model}\")"
   ]
  },
  {
   "cell_type": "code",
   "execution_count": 10,
   "id": "03cfa615",
   "metadata": {
    "execution": {
     "iopub.execute_input": "2024-07-14T19:58:41.166920Z",
     "iopub.status.busy": "2024-07-14T19:58:41.166648Z",
     "iopub.status.idle": "2024-07-14T19:58:41.378273Z",
     "shell.execute_reply": "2024-07-14T19:58:41.377498Z"
    },
    "papermill": {
     "duration": 0.220152,
     "end_time": "2024-07-14T19:58:41.380663",
     "exception": false,
     "start_time": "2024-07-14T19:58:41.160511",
     "status": "completed"
    },
    "tags": []
   },
   "outputs": [],
   "source": [
    "all_folds = np.sort(folds.unique())\n",
    "test_predictions_df = pd.DataFrame({id_column: test_metadata[id_column]})\n",
    "for fold in all_folds:\n",
    "    model = cb.CatBoostClassifier(use_best_model=True)\n",
    "    model.load_model(MODELS_INPUT_PATH / f\"{cfg.model_name}_fold_{fold}.txt\")\n",
    "    test_predictions_df[f\"fold_{fold}\"] = model.predict_proba(X_test)[:, -1]"
   ]
  },
  {
   "cell_type": "code",
   "execution_count": 11,
   "id": "f87f251f",
   "metadata": {
    "execution": {
     "iopub.execute_input": "2024-07-14T19:58:41.393301Z",
     "iopub.status.busy": "2024-07-14T19:58:41.392716Z",
     "iopub.status.idle": "2024-07-14T19:58:41.408624Z",
     "shell.execute_reply": "2024-07-14T19:58:41.407774Z"
    },
    "papermill": {
     "duration": 0.024239,
     "end_time": "2024-07-14T19:58:41.410644",
     "exception": false,
     "start_time": "2024-07-14T19:58:41.386405",
     "status": "completed"
    },
    "tags": []
   },
   "outputs": [
    {
     "data": {
      "text/html": [
       "<div>\n",
       "<style scoped>\n",
       "    .dataframe tbody tr th:only-of-type {\n",
       "        vertical-align: middle;\n",
       "    }\n",
       "\n",
       "    .dataframe tbody tr th {\n",
       "        vertical-align: top;\n",
       "    }\n",
       "\n",
       "    .dataframe thead th {\n",
       "        text-align: right;\n",
       "    }\n",
       "</style>\n",
       "<table border=\"1\" class=\"dataframe\">\n",
       "  <thead>\n",
       "    <tr style=\"text-align: right;\">\n",
       "      <th></th>\n",
       "      <th>isic_id</th>\n",
       "      <th>fold_1</th>\n",
       "      <th>fold_2</th>\n",
       "      <th>fold_3</th>\n",
       "      <th>fold_4</th>\n",
       "      <th>fold_5</th>\n",
       "    </tr>\n",
       "  </thead>\n",
       "  <tbody>\n",
       "    <tr>\n",
       "      <th>0</th>\n",
       "      <td>ISIC_0015657</td>\n",
       "      <td>0.000079</td>\n",
       "      <td>0.000048</td>\n",
       "      <td>0.000099</td>\n",
       "      <td>0.000047</td>\n",
       "      <td>0.000255</td>\n",
       "    </tr>\n",
       "    <tr>\n",
       "      <th>1</th>\n",
       "      <td>ISIC_0015729</td>\n",
       "      <td>0.000013</td>\n",
       "      <td>0.000011</td>\n",
       "      <td>0.000012</td>\n",
       "      <td>0.000003</td>\n",
       "      <td>0.000028</td>\n",
       "    </tr>\n",
       "    <tr>\n",
       "      <th>2</th>\n",
       "      <td>ISIC_0015740</td>\n",
       "      <td>0.000172</td>\n",
       "      <td>0.000148</td>\n",
       "      <td>0.000206</td>\n",
       "      <td>0.000154</td>\n",
       "      <td>0.000390</td>\n",
       "    </tr>\n",
       "  </tbody>\n",
       "</table>\n",
       "</div>"
      ],
      "text/plain": [
       "        isic_id    fold_1    fold_2    fold_3    fold_4    fold_5\n",
       "0  ISIC_0015657  0.000079  0.000048  0.000099  0.000047  0.000255\n",
       "1  ISIC_0015729  0.000013  0.000011  0.000012  0.000003  0.000028\n",
       "2  ISIC_0015740  0.000172  0.000148  0.000206  0.000154  0.000390"
      ]
     },
     "execution_count": 11,
     "metadata": {},
     "output_type": "execute_result"
    }
   ],
   "source": [
    "test_predictions_df.head()"
   ]
  },
  {
   "cell_type": "code",
   "execution_count": 12,
   "id": "45ab1d02",
   "metadata": {
    "execution": {
     "iopub.execute_input": "2024-07-14T19:58:41.422551Z",
     "iopub.status.busy": "2024-07-14T19:58:41.422288Z",
     "iopub.status.idle": "2024-07-14T19:58:41.428614Z",
     "shell.execute_reply": "2024-07-14T19:58:41.427818Z"
    },
    "papermill": {
     "duration": 0.0144,
     "end_time": "2024-07-14T19:58:41.430470",
     "exception": false,
     "start_time": "2024-07-14T19:58:41.416070",
     "status": "completed"
    },
    "tags": []
   },
   "outputs": [],
   "source": [
    "test_predictions_df[target_column] = test_predictions_df[[f\"fold_{fold}\" for fold in all_folds]].mean(axis=1)"
   ]
  },
  {
   "cell_type": "code",
   "execution_count": 13,
   "id": "23024173",
   "metadata": {
    "execution": {
     "iopub.execute_input": "2024-07-14T19:58:41.443328Z",
     "iopub.status.busy": "2024-07-14T19:58:41.443071Z",
     "iopub.status.idle": "2024-07-14T19:58:41.454140Z",
     "shell.execute_reply": "2024-07-14T19:58:41.453337Z"
    },
    "papermill": {
     "duration": 0.018997,
     "end_time": "2024-07-14T19:58:41.455983",
     "exception": false,
     "start_time": "2024-07-14T19:58:41.436986",
     "status": "completed"
    },
    "tags": []
   },
   "outputs": [
    {
     "data": {
      "text/html": [
       "<div>\n",
       "<style scoped>\n",
       "    .dataframe tbody tr th:only-of-type {\n",
       "        vertical-align: middle;\n",
       "    }\n",
       "\n",
       "    .dataframe tbody tr th {\n",
       "        vertical-align: top;\n",
       "    }\n",
       "\n",
       "    .dataframe thead th {\n",
       "        text-align: right;\n",
       "    }\n",
       "</style>\n",
       "<table border=\"1\" class=\"dataframe\">\n",
       "  <thead>\n",
       "    <tr style=\"text-align: right;\">\n",
       "      <th></th>\n",
       "      <th>isic_id</th>\n",
       "      <th>fold_1</th>\n",
       "      <th>fold_2</th>\n",
       "      <th>fold_3</th>\n",
       "      <th>fold_4</th>\n",
       "      <th>fold_5</th>\n",
       "      <th>target</th>\n",
       "    </tr>\n",
       "  </thead>\n",
       "  <tbody>\n",
       "    <tr>\n",
       "      <th>0</th>\n",
       "      <td>ISIC_0015657</td>\n",
       "      <td>0.000079</td>\n",
       "      <td>0.000048</td>\n",
       "      <td>0.000099</td>\n",
       "      <td>0.000047</td>\n",
       "      <td>0.000255</td>\n",
       "      <td>0.000106</td>\n",
       "    </tr>\n",
       "    <tr>\n",
       "      <th>1</th>\n",
       "      <td>ISIC_0015729</td>\n",
       "      <td>0.000013</td>\n",
       "      <td>0.000011</td>\n",
       "      <td>0.000012</td>\n",
       "      <td>0.000003</td>\n",
       "      <td>0.000028</td>\n",
       "      <td>0.000013</td>\n",
       "    </tr>\n",
       "    <tr>\n",
       "      <th>2</th>\n",
       "      <td>ISIC_0015740</td>\n",
       "      <td>0.000172</td>\n",
       "      <td>0.000148</td>\n",
       "      <td>0.000206</td>\n",
       "      <td>0.000154</td>\n",
       "      <td>0.000390</td>\n",
       "      <td>0.000214</td>\n",
       "    </tr>\n",
       "  </tbody>\n",
       "</table>\n",
       "</div>"
      ],
      "text/plain": [
       "        isic_id    fold_1    fold_2    fold_3    fold_4    fold_5    target\n",
       "0  ISIC_0015657  0.000079  0.000048  0.000099  0.000047  0.000255  0.000106\n",
       "1  ISIC_0015729  0.000013  0.000011  0.000012  0.000003  0.000028  0.000013\n",
       "2  ISIC_0015740  0.000172  0.000148  0.000206  0.000154  0.000390  0.000214"
      ]
     },
     "execution_count": 13,
     "metadata": {},
     "output_type": "execute_result"
    }
   ],
   "source": [
    "test_predictions_df.head()"
   ]
  },
  {
   "cell_type": "code",
   "execution_count": 14,
   "id": "5fcb617c",
   "metadata": {
    "execution": {
     "iopub.execute_input": "2024-07-14T19:58:41.468004Z",
     "iopub.status.busy": "2024-07-14T19:58:41.467766Z",
     "iopub.status.idle": "2024-07-14T19:58:41.477890Z",
     "shell.execute_reply": "2024-07-14T19:58:41.477074Z"
    },
    "papermill": {
     "duration": 0.018265,
     "end_time": "2024-07-14T19:58:41.479737",
     "exception": false,
     "start_time": "2024-07-14T19:58:41.461472",
     "status": "completed"
    },
    "tags": []
   },
   "outputs": [
    {
     "data": {
      "text/plain": [
       "count    3.000000\n",
       "mean     0.000111\n",
       "std      0.000100\n",
       "min      0.000013\n",
       "25%      0.000060\n",
       "50%      0.000106\n",
       "75%      0.000160\n",
       "max      0.000214\n",
       "Name: target, dtype: float64"
      ]
     },
     "execution_count": 14,
     "metadata": {},
     "output_type": "execute_result"
    }
   ],
   "source": [
    "test_predictions_df[target_column].describe()"
   ]
  },
  {
   "cell_type": "code",
   "execution_count": 15,
   "id": "2ecddcb6",
   "metadata": {
    "execution": {
     "iopub.execute_input": "2024-07-14T19:58:41.492010Z",
     "iopub.status.busy": "2024-07-14T19:58:41.491769Z",
     "iopub.status.idle": "2024-07-14T19:58:41.500225Z",
     "shell.execute_reply": "2024-07-14T19:58:41.499441Z"
    },
    "papermill": {
     "duration": 0.016807,
     "end_time": "2024-07-14T19:58:41.502172",
     "exception": false,
     "start_time": "2024-07-14T19:58:41.485365",
     "status": "completed"
    },
    "tags": []
   },
   "outputs": [
    {
     "data": {
      "text/html": [
       "<div>\n",
       "<style scoped>\n",
       "    .dataframe tbody tr th:only-of-type {\n",
       "        vertical-align: middle;\n",
       "    }\n",
       "\n",
       "    .dataframe tbody tr th {\n",
       "        vertical-align: top;\n",
       "    }\n",
       "\n",
       "    .dataframe thead th {\n",
       "        text-align: right;\n",
       "    }\n",
       "</style>\n",
       "<table border=\"1\" class=\"dataframe\">\n",
       "  <thead>\n",
       "    <tr style=\"text-align: right;\">\n",
       "      <th></th>\n",
       "      <th>isic_id</th>\n",
       "      <th>target</th>\n",
       "    </tr>\n",
       "  </thead>\n",
       "  <tbody>\n",
       "    <tr>\n",
       "      <th>0</th>\n",
       "      <td>ISIC_0015657</td>\n",
       "      <td>0.000106</td>\n",
       "    </tr>\n",
       "    <tr>\n",
       "      <th>1</th>\n",
       "      <td>ISIC_0015729</td>\n",
       "      <td>0.000013</td>\n",
       "    </tr>\n",
       "    <tr>\n",
       "      <th>2</th>\n",
       "      <td>ISIC_0015740</td>\n",
       "      <td>0.000214</td>\n",
       "    </tr>\n",
       "  </tbody>\n",
       "</table>\n",
       "</div>"
      ],
      "text/plain": [
       "        isic_id    target\n",
       "0  ISIC_0015657  0.000106\n",
       "1  ISIC_0015729  0.000013\n",
       "2  ISIC_0015740  0.000214"
      ]
     },
     "execution_count": 15,
     "metadata": {},
     "output_type": "execute_result"
    }
   ],
   "source": [
    "test_predictions_df[[id_column, target_column]].head(10)"
   ]
  },
  {
   "cell_type": "code",
   "execution_count": 16,
   "id": "7014a5cd",
   "metadata": {
    "execution": {
     "iopub.execute_input": "2024-07-14T19:58:41.515418Z",
     "iopub.status.busy": "2024-07-14T19:58:41.514958Z",
     "iopub.status.idle": "2024-07-14T19:58:41.521442Z",
     "shell.execute_reply": "2024-07-14T19:58:41.520787Z"
    },
    "papermill": {
     "duration": 0.014823,
     "end_time": "2024-07-14T19:58:41.523280",
     "exception": false,
     "start_time": "2024-07-14T19:58:41.508457",
     "status": "completed"
    },
    "tags": []
   },
   "outputs": [],
   "source": [
    "test_predictions_df[[id_column, target_column]].to_csv(\"submission.csv\", index=False)"
   ]
  },
  {
   "cell_type": "code",
   "execution_count": null,
   "id": "1dac155a",
   "metadata": {
    "papermill": {
     "duration": 0.005699,
     "end_time": "2024-07-14T19:58:41.534842",
     "exception": false,
     "start_time": "2024-07-14T19:58:41.529143",
     "status": "completed"
    },
    "tags": []
   },
   "outputs": [],
   "source": []
  }
 ],
 "metadata": {
  "kaggle": {
   "accelerator": "gpu",
   "dataSources": [
    {
     "databundleVersionId": 9094797,
     "sourceId": 63056,
     "sourceType": "competition"
    },
    {
     "sourceId": 187439867,
     "sourceType": "kernelVersion"
    },
    {
     "sourceId": 187477024,
     "sourceType": "kernelVersion"
    },
    {
     "sourceId": 188281162,
     "sourceType": "kernelVersion"
    }
   ],
   "dockerImageVersionId": 30732,
   "isGpuEnabled": true,
   "isInternetEnabled": false,
   "language": "python",
   "sourceType": "notebook"
  },
  "kernelspec": {
   "display_name": "Python 3",
   "language": "python",
   "name": "python3"
  },
  "language_info": {
   "codemirror_mode": {
    "name": "ipython",
    "version": 3
   },
   "file_extension": ".py",
   "mimetype": "text/x-python",
   "name": "python",
   "nbconvert_exporter": "python",
   "pygments_lexer": "ipython3",
   "version": "3.10.13"
  },
  "papermill": {
   "default_parameters": {},
   "duration": 21.18284,
   "end_time": "2024-07-14T19:58:42.760957",
   "environment_variables": {},
   "exception": null,
   "input_path": "__notebook__.ipynb",
   "output_path": "__notebook__.ipynb",
   "parameters": {},
   "start_time": "2024-07-14T19:58:21.578117",
   "version": "2.5.0"
  }
 },
 "nbformat": 4,
 "nbformat_minor": 5
}
