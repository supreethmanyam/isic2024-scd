{
 "cells": [
  {
   "cell_type": "code",
   "execution_count": 1,
   "id": "f51cd6b3",
   "metadata": {
    "_cell_guid": "a30e467f-ec41-4133-b8d4-e794f559da50",
    "_uuid": "c0ebb1a4-b5f7-4a24-864f-eb38f15fed58",
    "collapsed": false,
    "execution": {
     "iopub.execute_input": "2024-07-14T20:41:35.303189Z",
     "iopub.status.busy": "2024-07-14T20:41:35.302700Z",
     "iopub.status.idle": "2024-07-14T20:41:41.988148Z",
     "shell.execute_reply": "2024-07-14T20:41:41.986652Z"
    },
    "jupyter": {
     "outputs_hidden": false
    },
    "papermill": {
     "duration": 6.697195,
     "end_time": "2024-07-14T20:41:41.991133",
     "exception": false,
     "start_time": "2024-07-14T20:41:35.293938",
     "status": "completed"
    },
    "tags": []
   },
   "outputs": [],
   "source": [
    "import json\n",
    "import joblib\n",
    "\n",
    "from pathlib import Path\n",
    "\n",
    "import pandas as pd\n",
    "import numpy as np\n",
    "\n",
    "import catboost as cb\n",
    "\n",
    "from isic_helper import DotDict, get_folds"
   ]
  },
  {
   "cell_type": "code",
   "execution_count": 2,
   "id": "e72cab9e",
   "metadata": {
    "execution": {
     "iopub.execute_input": "2024-07-14T20:41:42.006672Z",
     "iopub.status.busy": "2024-07-14T20:41:42.006055Z",
     "iopub.status.idle": "2024-07-14T20:41:42.012128Z",
     "shell.execute_reply": "2024-07-14T20:41:42.010787Z"
    },
    "papermill": {
     "duration": 0.016527,
     "end_time": "2024-07-14T20:41:42.014594",
     "exception": false,
     "start_time": "2024-07-14T20:41:41.998067",
     "status": "completed"
    },
    "tags": []
   },
   "outputs": [],
   "source": [
    "cfg = DotDict()\n",
    "\n",
    "cfg.models_output_dir = \"models\"\n",
    "cfg.model_name = \"cb_v1\""
   ]
  },
  {
   "cell_type": "code",
   "execution_count": 3,
   "id": "89d339d0",
   "metadata": {
    "execution": {
     "iopub.execute_input": "2024-07-14T20:41:42.029487Z",
     "iopub.status.busy": "2024-07-14T20:41:42.029021Z",
     "iopub.status.idle": "2024-07-14T20:41:53.804808Z",
     "shell.execute_reply": "2024-07-14T20:41:53.803467Z"
    },
    "papermill": {
     "duration": 11.786435,
     "end_time": "2024-07-14T20:41:53.807557",
     "exception": false,
     "start_time": "2024-07-14T20:41:42.021122",
     "status": "completed"
    },
    "tags": []
   },
   "outputs": [
    {
     "name": "stdout",
     "output_type": "stream",
     "text": [
      "Train data size: (401059, 57)\n",
      "Test data size: (3, 44)\n"
     ]
    }
   ],
   "source": [
    "INPUT_PATH = Path(\"../input/isic-2024-challenge/\")\n",
    "ARTIFACTS_INPUT_PATH = Path(f\"../input/isic-scd-cb-train/\")\n",
    "MODELS_INPUT_PATH = ARTIFACTS_INPUT_PATH / cfg.models_output_dir\n",
    "\n",
    "train_metadata = pd.read_csv(INPUT_PATH / \"train-metadata.csv\", low_memory=False)\n",
    "test_metadata = pd.read_csv(INPUT_PATH / \"test-metadata.csv\", low_memory=False)\n",
    "\n",
    "folds_df = get_folds()\n",
    "train_metadata = train_metadata.merge(folds_df, on=[\"isic_id\", \"patient_id\"], how=\"inner\")\n",
    "print(f\"Train data size: {train_metadata.shape}\")\n",
    "print(f\"Test data size: {test_metadata.shape}\")"
   ]
  },
  {
   "cell_type": "code",
   "execution_count": 4,
   "id": "b25f9c60",
   "metadata": {
    "execution": {
     "iopub.execute_input": "2024-07-14T20:41:53.823446Z",
     "iopub.status.busy": "2024-07-14T20:41:53.823008Z",
     "iopub.status.idle": "2024-07-14T20:41:53.833351Z",
     "shell.execute_reply": "2024-07-14T20:41:53.831926Z"
    },
    "papermill": {
     "duration": 0.021685,
     "end_time": "2024-07-14T20:41:53.836314",
     "exception": false,
     "start_time": "2024-07-14T20:41:53.814629",
     "status": "completed"
    },
    "tags": []
   },
   "outputs": [],
   "source": [
    "with open(ARTIFACTS_INPUT_PATH / \"run_metadata.json\", \"r\") as f:\n",
    "    run_metadata = json.load(f)"
   ]
  },
  {
   "cell_type": "code",
   "execution_count": 5,
   "id": "c1947fda",
   "metadata": {
    "execution": {
     "iopub.execute_input": "2024-07-14T20:41:53.852638Z",
     "iopub.status.busy": "2024-07-14T20:41:53.852223Z",
     "iopub.status.idle": "2024-07-14T20:41:54.516463Z",
     "shell.execute_reply": "2024-07-14T20:41:54.515310Z"
    },
    "papermill": {
     "duration": 0.675892,
     "end_time": "2024-07-14T20:41:54.519522",
     "exception": false,
     "start_time": "2024-07-14T20:41:53.843630",
     "status": "completed"
    },
    "tags": []
   },
   "outputs": [],
   "source": [
    "def feature_engineering(df):\n",
    "    df[\"lesion_size_ratio\"]              = df[\"tbp_lv_minorAxisMM\"] / df[\"clin_size_long_diam_mm\"]\n",
    "    df[\"hue_contrast\"]                   = (df[\"tbp_lv_H\"] - df[\"tbp_lv_Hext\"]).abs()\n",
    "    df[\"normalized_lesion_size\"]         = df[\"clin_size_long_diam_mm\"] / df[\"age_approx\"]\n",
    "    df[\"overall_color_difference\"]       = (df[\"tbp_lv_deltaA\"] + df[\"tbp_lv_deltaB\"] + df[\"tbp_lv_deltaL\"]) / 3\n",
    "    \n",
    "    patient_num_images = df.groupby(\"patient_id\", as_index=False)[\"isic_id\"].count().rename(columns={\"isic_id\": \"num_images\"})\n",
    "    df = df.merge(patient_num_images, on=\"patient_id\", how=\"left\")\n",
    "\n",
    "    new_num_cols = [\n",
    "        \"num_images\",\n",
    "        \"lesion_size_ratio\",\n",
    "        \"hue_contrast\",\n",
    "        \"normalized_lesion_size\", \n",
    "        \"overall_color_difference\"\n",
    "    ]\n",
    "    \n",
    "    new_cat_cols = []\n",
    "    \n",
    "    return df, new_num_cols, new_cat_cols\n",
    "\n",
    "train_metadata, new_num_cols, new_cat_cols = feature_engineering(train_metadata.copy())\n",
    "test_metadata, new_num_cols, new_cat_cols = feature_engineering(test_metadata.copy())"
   ]
  },
  {
   "cell_type": "code",
   "execution_count": 6,
   "id": "ea517c1b",
   "metadata": {
    "execution": {
     "iopub.execute_input": "2024-07-14T20:41:54.535014Z",
     "iopub.status.busy": "2024-07-14T20:41:54.534557Z",
     "iopub.status.idle": "2024-07-14T20:41:54.540320Z",
     "shell.execute_reply": "2024-07-14T20:41:54.539230Z"
    },
    "papermill": {
     "duration": 0.016376,
     "end_time": "2024-07-14T20:41:54.542689",
     "exception": false,
     "start_time": "2024-07-14T20:41:54.526313",
     "status": "completed"
    },
    "tags": []
   },
   "outputs": [],
   "source": [
    "id_column = \"isic_id\"\n",
    "target_column = \"target\"\n",
    "folds = train_metadata[\"fold\"]"
   ]
  },
  {
   "cell_type": "code",
   "execution_count": 7,
   "id": "18601fd1",
   "metadata": {
    "execution": {
     "iopub.execute_input": "2024-07-14T20:41:54.558080Z",
     "iopub.status.busy": "2024-07-14T20:41:54.557548Z",
     "iopub.status.idle": "2024-07-14T20:41:54.575577Z",
     "shell.execute_reply": "2024-07-14T20:41:54.574248Z"
    },
    "papermill": {
     "duration": 0.028998,
     "end_time": "2024-07-14T20:41:54.578510",
     "exception": false,
     "start_time": "2024-07-14T20:41:54.549512",
     "status": "completed"
    },
    "tags": []
   },
   "outputs": [],
   "source": [
    "with open(ARTIFACTS_INPUT_PATH / f\"{cfg.model_name}_encoder.joblib\", \"rb\") as f:\n",
    "    mixed_encoded_preprocessor = joblib.load(f)"
   ]
  },
  {
   "cell_type": "code",
   "execution_count": 8,
   "id": "cd380178",
   "metadata": {
    "execution": {
     "iopub.execute_input": "2024-07-14T20:41:54.593824Z",
     "iopub.status.busy": "2024-07-14T20:41:54.593408Z",
     "iopub.status.idle": "2024-07-14T20:41:55.607414Z",
     "shell.execute_reply": "2024-07-14T20:41:55.606253Z"
    },
    "papermill": {
     "duration": 1.024823,
     "end_time": "2024-07-14T20:41:55.610173",
     "exception": false,
     "start_time": "2024-07-14T20:41:54.585350",
     "status": "completed"
    },
    "tags": []
   },
   "outputs": [],
   "source": [
    "enc = mixed_encoded_preprocessor.fit(train_metadata)\n",
    "X_test = enc.transform(test_metadata)"
   ]
  },
  {
   "cell_type": "code",
   "execution_count": 9,
   "id": "ddfb3a03",
   "metadata": {
    "execution": {
     "iopub.execute_input": "2024-07-14T20:41:55.625293Z",
     "iopub.status.busy": "2024-07-14T20:41:55.624820Z",
     "iopub.status.idle": "2024-07-14T20:41:55.631172Z",
     "shell.execute_reply": "2024-07-14T20:41:55.629920Z"
    },
    "papermill": {
     "duration": 0.016642,
     "end_time": "2024-07-14T20:41:55.633583",
     "exception": false,
     "start_time": "2024-07-14T20:41:55.616941",
     "status": "completed"
    },
    "tags": []
   },
   "outputs": [
    {
     "name": "stdout",
     "output_type": "stream",
     "text": [
      "Total number of columns: 46\n"
     ]
    }
   ],
   "source": [
    "columns_for_model = len(X_test.columns)\n",
    "print(f\"Total number of columns: {columns_for_model}\")"
   ]
  },
  {
   "cell_type": "code",
   "execution_count": 10,
   "id": "dc7ba3c0",
   "metadata": {
    "execution": {
     "iopub.execute_input": "2024-07-14T20:41:55.648540Z",
     "iopub.status.busy": "2024-07-14T20:41:55.648133Z",
     "iopub.status.idle": "2024-07-14T20:41:56.012496Z",
     "shell.execute_reply": "2024-07-14T20:41:56.011254Z"
    },
    "papermill": {
     "duration": 0.375384,
     "end_time": "2024-07-14T20:41:56.015614",
     "exception": false,
     "start_time": "2024-07-14T20:41:55.640230",
     "status": "completed"
    },
    "tags": []
   },
   "outputs": [],
   "source": [
    "all_folds = np.sort(folds.unique())\n",
    "test_predictions_df = pd.DataFrame({id_column: test_metadata[id_column]})\n",
    "for fold in all_folds:\n",
    "    model = cb.CatBoostClassifier(use_best_model=True)\n",
    "    model.load_model(MODELS_INPUT_PATH / f\"{cfg.model_name}_fold_{fold}.txt\")\n",
    "    test_predictions_df[f\"fold_{fold}\"] = model.predict_proba(X_test)[:, -1]"
   ]
  },
  {
   "cell_type": "code",
   "execution_count": 11,
   "id": "d806e2b6",
   "metadata": {
    "execution": {
     "iopub.execute_input": "2024-07-14T20:41:56.030856Z",
     "iopub.status.busy": "2024-07-14T20:41:56.030425Z",
     "iopub.status.idle": "2024-07-14T20:41:56.051339Z",
     "shell.execute_reply": "2024-07-14T20:41:56.050169Z"
    },
    "papermill": {
     "duration": 0.031845,
     "end_time": "2024-07-14T20:41:56.054296",
     "exception": false,
     "start_time": "2024-07-14T20:41:56.022451",
     "status": "completed"
    },
    "tags": []
   },
   "outputs": [
    {
     "data": {
      "text/html": [
       "<div>\n",
       "<style scoped>\n",
       "    .dataframe tbody tr th:only-of-type {\n",
       "        vertical-align: middle;\n",
       "    }\n",
       "\n",
       "    .dataframe tbody tr th {\n",
       "        vertical-align: top;\n",
       "    }\n",
       "\n",
       "    .dataframe thead th {\n",
       "        text-align: right;\n",
       "    }\n",
       "</style>\n",
       "<table border=\"1\" class=\"dataframe\">\n",
       "  <thead>\n",
       "    <tr style=\"text-align: right;\">\n",
       "      <th></th>\n",
       "      <th>isic_id</th>\n",
       "      <th>fold_1</th>\n",
       "      <th>fold_2</th>\n",
       "      <th>fold_3</th>\n",
       "      <th>fold_4</th>\n",
       "      <th>fold_5</th>\n",
       "    </tr>\n",
       "  </thead>\n",
       "  <tbody>\n",
       "    <tr>\n",
       "      <th>0</th>\n",
       "      <td>ISIC_0015657</td>\n",
       "      <td>0.000223</td>\n",
       "      <td>0.000097</td>\n",
       "      <td>0.000119</td>\n",
       "      <td>0.000137</td>\n",
       "      <td>0.000323</td>\n",
       "    </tr>\n",
       "    <tr>\n",
       "      <th>1</th>\n",
       "      <td>ISIC_0015729</td>\n",
       "      <td>0.000043</td>\n",
       "      <td>0.000008</td>\n",
       "      <td>0.000042</td>\n",
       "      <td>0.000035</td>\n",
       "      <td>0.000037</td>\n",
       "    </tr>\n",
       "    <tr>\n",
       "      <th>2</th>\n",
       "      <td>ISIC_0015740</td>\n",
       "      <td>0.000297</td>\n",
       "      <td>0.000688</td>\n",
       "      <td>0.000230</td>\n",
       "      <td>0.000972</td>\n",
       "      <td>0.000385</td>\n",
       "    </tr>\n",
       "  </tbody>\n",
       "</table>\n",
       "</div>"
      ],
      "text/plain": [
       "        isic_id    fold_1    fold_2    fold_3    fold_4    fold_5\n",
       "0  ISIC_0015657  0.000223  0.000097  0.000119  0.000137  0.000323\n",
       "1  ISIC_0015729  0.000043  0.000008  0.000042  0.000035  0.000037\n",
       "2  ISIC_0015740  0.000297  0.000688  0.000230  0.000972  0.000385"
      ]
     },
     "execution_count": 11,
     "metadata": {},
     "output_type": "execute_result"
    }
   ],
   "source": [
    "test_predictions_df.head()"
   ]
  },
  {
   "cell_type": "code",
   "execution_count": 12,
   "id": "783c78a2",
   "metadata": {
    "execution": {
     "iopub.execute_input": "2024-07-14T20:41:56.071127Z",
     "iopub.status.busy": "2024-07-14T20:41:56.069831Z",
     "iopub.status.idle": "2024-07-14T20:41:56.078808Z",
     "shell.execute_reply": "2024-07-14T20:41:56.077631Z"
    },
    "papermill": {
     "duration": 0.019843,
     "end_time": "2024-07-14T20:41:56.081256",
     "exception": false,
     "start_time": "2024-07-14T20:41:56.061413",
     "status": "completed"
    },
    "tags": []
   },
   "outputs": [],
   "source": [
    "test_predictions_df[target_column] = test_predictions_df[[f\"fold_{fold}\" for fold in all_folds]].mean(axis=1)"
   ]
  },
  {
   "cell_type": "code",
   "execution_count": 13,
   "id": "396ca7f6",
   "metadata": {
    "execution": {
     "iopub.execute_input": "2024-07-14T20:41:56.097175Z",
     "iopub.status.busy": "2024-07-14T20:41:56.096722Z",
     "iopub.status.idle": "2024-07-14T20:41:56.113195Z",
     "shell.execute_reply": "2024-07-14T20:41:56.111962Z"
    },
    "papermill": {
     "duration": 0.027458,
     "end_time": "2024-07-14T20:41:56.115780",
     "exception": false,
     "start_time": "2024-07-14T20:41:56.088322",
     "status": "completed"
    },
    "tags": []
   },
   "outputs": [
    {
     "data": {
      "text/html": [
       "<div>\n",
       "<style scoped>\n",
       "    .dataframe tbody tr th:only-of-type {\n",
       "        vertical-align: middle;\n",
       "    }\n",
       "\n",
       "    .dataframe tbody tr th {\n",
       "        vertical-align: top;\n",
       "    }\n",
       "\n",
       "    .dataframe thead th {\n",
       "        text-align: right;\n",
       "    }\n",
       "</style>\n",
       "<table border=\"1\" class=\"dataframe\">\n",
       "  <thead>\n",
       "    <tr style=\"text-align: right;\">\n",
       "      <th></th>\n",
       "      <th>isic_id</th>\n",
       "      <th>fold_1</th>\n",
       "      <th>fold_2</th>\n",
       "      <th>fold_3</th>\n",
       "      <th>fold_4</th>\n",
       "      <th>fold_5</th>\n",
       "      <th>target</th>\n",
       "    </tr>\n",
       "  </thead>\n",
       "  <tbody>\n",
       "    <tr>\n",
       "      <th>0</th>\n",
       "      <td>ISIC_0015657</td>\n",
       "      <td>0.000223</td>\n",
       "      <td>0.000097</td>\n",
       "      <td>0.000119</td>\n",
       "      <td>0.000137</td>\n",
       "      <td>0.000323</td>\n",
       "      <td>0.000180</td>\n",
       "    </tr>\n",
       "    <tr>\n",
       "      <th>1</th>\n",
       "      <td>ISIC_0015729</td>\n",
       "      <td>0.000043</td>\n",
       "      <td>0.000008</td>\n",
       "      <td>0.000042</td>\n",
       "      <td>0.000035</td>\n",
       "      <td>0.000037</td>\n",
       "      <td>0.000033</td>\n",
       "    </tr>\n",
       "    <tr>\n",
       "      <th>2</th>\n",
       "      <td>ISIC_0015740</td>\n",
       "      <td>0.000297</td>\n",
       "      <td>0.000688</td>\n",
       "      <td>0.000230</td>\n",
       "      <td>0.000972</td>\n",
       "      <td>0.000385</td>\n",
       "      <td>0.000514</td>\n",
       "    </tr>\n",
       "  </tbody>\n",
       "</table>\n",
       "</div>"
      ],
      "text/plain": [
       "        isic_id    fold_1    fold_2    fold_3    fold_4    fold_5    target\n",
       "0  ISIC_0015657  0.000223  0.000097  0.000119  0.000137  0.000323  0.000180\n",
       "1  ISIC_0015729  0.000043  0.000008  0.000042  0.000035  0.000037  0.000033\n",
       "2  ISIC_0015740  0.000297  0.000688  0.000230  0.000972  0.000385  0.000514"
      ]
     },
     "execution_count": 13,
     "metadata": {},
     "output_type": "execute_result"
    }
   ],
   "source": [
    "test_predictions_df.head()"
   ]
  },
  {
   "cell_type": "code",
   "execution_count": 14,
   "id": "13ed8b30",
   "metadata": {
    "execution": {
     "iopub.execute_input": "2024-07-14T20:41:56.132091Z",
     "iopub.status.busy": "2024-07-14T20:41:56.131662Z",
     "iopub.status.idle": "2024-07-14T20:41:56.148117Z",
     "shell.execute_reply": "2024-07-14T20:41:56.146930Z"
    },
    "papermill": {
     "duration": 0.027689,
     "end_time": "2024-07-14T20:41:56.150807",
     "exception": false,
     "start_time": "2024-07-14T20:41:56.123118",
     "status": "completed"
    },
    "tags": []
   },
   "outputs": [
    {
     "data": {
      "text/plain": [
       "count    3.000000\n",
       "mean     0.000242\n",
       "std      0.000247\n",
       "min      0.000033\n",
       "25%      0.000106\n",
       "50%      0.000180\n",
       "75%      0.000347\n",
       "max      0.000514\n",
       "Name: target, dtype: float64"
      ]
     },
     "execution_count": 14,
     "metadata": {},
     "output_type": "execute_result"
    }
   ],
   "source": [
    "test_predictions_df[target_column].describe()"
   ]
  },
  {
   "cell_type": "code",
   "execution_count": 15,
   "id": "338cdadb",
   "metadata": {
    "execution": {
     "iopub.execute_input": "2024-07-14T20:41:56.167810Z",
     "iopub.status.busy": "2024-07-14T20:41:56.167377Z",
     "iopub.status.idle": "2024-07-14T20:41:56.180262Z",
     "shell.execute_reply": "2024-07-14T20:41:56.179071Z"
    },
    "papermill": {
     "duration": 0.024067,
     "end_time": "2024-07-14T20:41:56.182695",
     "exception": false,
     "start_time": "2024-07-14T20:41:56.158628",
     "status": "completed"
    },
    "tags": []
   },
   "outputs": [
    {
     "data": {
      "text/html": [
       "<div>\n",
       "<style scoped>\n",
       "    .dataframe tbody tr th:only-of-type {\n",
       "        vertical-align: middle;\n",
       "    }\n",
       "\n",
       "    .dataframe tbody tr th {\n",
       "        vertical-align: top;\n",
       "    }\n",
       "\n",
       "    .dataframe thead th {\n",
       "        text-align: right;\n",
       "    }\n",
       "</style>\n",
       "<table border=\"1\" class=\"dataframe\">\n",
       "  <thead>\n",
       "    <tr style=\"text-align: right;\">\n",
       "      <th></th>\n",
       "      <th>isic_id</th>\n",
       "      <th>target</th>\n",
       "    </tr>\n",
       "  </thead>\n",
       "  <tbody>\n",
       "    <tr>\n",
       "      <th>0</th>\n",
       "      <td>ISIC_0015657</td>\n",
       "      <td>0.000180</td>\n",
       "    </tr>\n",
       "    <tr>\n",
       "      <th>1</th>\n",
       "      <td>ISIC_0015729</td>\n",
       "      <td>0.000033</td>\n",
       "    </tr>\n",
       "    <tr>\n",
       "      <th>2</th>\n",
       "      <td>ISIC_0015740</td>\n",
       "      <td>0.000514</td>\n",
       "    </tr>\n",
       "  </tbody>\n",
       "</table>\n",
       "</div>"
      ],
      "text/plain": [
       "        isic_id    target\n",
       "0  ISIC_0015657  0.000180\n",
       "1  ISIC_0015729  0.000033\n",
       "2  ISIC_0015740  0.000514"
      ]
     },
     "execution_count": 15,
     "metadata": {},
     "output_type": "execute_result"
    }
   ],
   "source": [
    "test_predictions_df[[id_column, target_column]].head(10)"
   ]
  },
  {
   "cell_type": "code",
   "execution_count": 16,
   "id": "dcd9739c",
   "metadata": {
    "execution": {
     "iopub.execute_input": "2024-07-14T20:41:56.199750Z",
     "iopub.status.busy": "2024-07-14T20:41:56.199329Z",
     "iopub.status.idle": "2024-07-14T20:41:56.209488Z",
     "shell.execute_reply": "2024-07-14T20:41:56.208427Z"
    },
    "papermill": {
     "duration": 0.02159,
     "end_time": "2024-07-14T20:41:56.212017",
     "exception": false,
     "start_time": "2024-07-14T20:41:56.190427",
     "status": "completed"
    },
    "tags": []
   },
   "outputs": [],
   "source": [
    "test_predictions_df[[id_column, target_column]].to_csv(\"submission.csv\", index=False)"
   ]
  },
  {
   "cell_type": "code",
   "execution_count": null,
   "id": "736a0c54",
   "metadata": {
    "papermill": {
     "duration": 0.00712,
     "end_time": "2024-07-14T20:41:56.226813",
     "exception": false,
     "start_time": "2024-07-14T20:41:56.219693",
     "status": "completed"
    },
    "tags": []
   },
   "outputs": [],
   "source": []
  }
 ],
 "metadata": {
  "kaggle": {
   "accelerator": "none",
   "dataSources": [
    {
     "databundleVersionId": 9094797,
     "sourceId": 63056,
     "sourceType": "competition"
    },
    {
     "sourceId": 187439867,
     "sourceType": "kernelVersion"
    },
    {
     "sourceId": 187477024,
     "sourceType": "kernelVersion"
    },
    {
     "sourceId": 188281162,
     "sourceType": "kernelVersion"
    }
   ],
   "dockerImageVersionId": 30732,
   "isGpuEnabled": false,
   "isInternetEnabled": false,
   "language": "python",
   "sourceType": "notebook"
  },
  "kernelspec": {
   "display_name": "Python 3",
   "language": "python",
   "name": "python3"
  },
  "language_info": {
   "codemirror_mode": {
    "name": "ipython",
    "version": 3
   },
   "file_extension": ".py",
   "mimetype": "text/x-python",
   "name": "python",
   "nbconvert_exporter": "python",
   "pygments_lexer": "ipython3",
   "version": "3.10.13"
  },
  "papermill": {
   "default_parameters": {},
   "duration": 25.841305,
   "end_time": "2024-07-14T20:41:57.458411",
   "environment_variables": {},
   "exception": null,
   "input_path": "__notebook__.ipynb",
   "output_path": "__notebook__.ipynb",
   "parameters": {},
   "start_time": "2024-07-14T20:41:31.617106",
   "version": "2.5.0"
  }
 },
 "nbformat": 4,
 "nbformat_minor": 5
}
