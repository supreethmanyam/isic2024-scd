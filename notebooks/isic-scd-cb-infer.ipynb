{
 "cells": [
  {
   "cell_type": "code",
   "execution_count": 1,
   "id": "3aa79706",
   "metadata": {
    "_cell_guid": "a30e467f-ec41-4133-b8d4-e794f559da50",
    "_uuid": "c0ebb1a4-b5f7-4a24-864f-eb38f15fed58",
    "collapsed": false,
    "execution": {
     "iopub.execute_input": "2024-07-14T17:04:11.845371Z",
     "iopub.status.busy": "2024-07-14T17:04:11.845073Z",
     "iopub.status.idle": "2024-07-14T17:04:17.855459Z",
     "shell.execute_reply": "2024-07-14T17:04:17.854676Z"
    },
    "jupyter": {
     "outputs_hidden": false
    },
    "papermill": {
     "duration": 6.019517,
     "end_time": "2024-07-14T17:04:17.857714",
     "exception": false,
     "start_time": "2024-07-14T17:04:11.838197",
     "status": "completed"
    },
    "tags": []
   },
   "outputs": [],
   "source": [
    "import json\n",
    "import joblib\n",
    "\n",
    "from pathlib import Path\n",
    "\n",
    "import pandas as pd\n",
    "import numpy as np\n",
    "\n",
    "import catboost as cb\n",
    "\n",
    "from isic_helper import DotDict, get_folds"
   ]
  },
  {
   "cell_type": "code",
   "execution_count": 2,
   "id": "78eee6ad",
   "metadata": {
    "execution": {
     "iopub.execute_input": "2024-07-14T17:04:17.870362Z",
     "iopub.status.busy": "2024-07-14T17:04:17.869943Z",
     "iopub.status.idle": "2024-07-14T17:04:17.874604Z",
     "shell.execute_reply": "2024-07-14T17:04:17.873779Z"
    },
    "papermill": {
     "duration": 0.012874,
     "end_time": "2024-07-14T17:04:17.876579",
     "exception": false,
     "start_time": "2024-07-14T17:04:17.863705",
     "status": "completed"
    },
    "tags": []
   },
   "outputs": [],
   "source": [
    "cfg = DotDict()\n",
    "\n",
    "cfg.models_output_dir = \"models\"\n",
    "cfg.model_name = \"cb_v1\""
   ]
  },
  {
   "cell_type": "code",
   "execution_count": 3,
   "id": "2fdc679d",
   "metadata": {
    "execution": {
     "iopub.execute_input": "2024-07-14T17:04:17.888864Z",
     "iopub.status.busy": "2024-07-14T17:04:17.888111Z",
     "iopub.status.idle": "2024-07-14T17:04:28.527275Z",
     "shell.execute_reply": "2024-07-14T17:04:28.526376Z"
    },
    "papermill": {
     "duration": 10.647489,
     "end_time": "2024-07-14T17:04:28.529364",
     "exception": false,
     "start_time": "2024-07-14T17:04:17.881875",
     "status": "completed"
    },
    "tags": []
   },
   "outputs": [
    {
     "name": "stdout",
     "output_type": "stream",
     "text": [
      "Train data size: (401059, 57)\n",
      "Test data size: (3, 44)\n"
     ]
    }
   ],
   "source": [
    "INPUT_PATH = Path(\"../input/isic-2024-challenge/\")\n",
    "ARTIFACTS_INPUT_PATH = Path(f\"../input/isic-scd-cb-lgb-train/\")\n",
    "MODELS_INPUT_PATH = ARTIFACTS_INPUT_PATH / cfg.models_output_dir\n",
    "\n",
    "train_metadata = pd.read_csv(INPUT_PATH / \"train-metadata.csv\", low_memory=False)\n",
    "test_metadata = pd.read_csv(INPUT_PATH / \"test-metadata.csv\", low_memory=False)\n",
    "\n",
    "folds_df = get_folds()\n",
    "train_metadata = train_metadata.merge(folds_df, on=[\"isic_id\", \"patient_id\"], how=\"inner\")\n",
    "print(f\"Train data size: {train_metadata.shape}\")\n",
    "print(f\"Test data size: {test_metadata.shape}\")"
   ]
  },
  {
   "cell_type": "code",
   "execution_count": 4,
   "id": "a902026c",
   "metadata": {
    "execution": {
     "iopub.execute_input": "2024-07-14T17:04:28.542483Z",
     "iopub.status.busy": "2024-07-14T17:04:28.541757Z",
     "iopub.status.idle": "2024-07-14T17:04:28.549503Z",
     "shell.execute_reply": "2024-07-14T17:04:28.548823Z"
    },
    "papermill": {
     "duration": 0.016181,
     "end_time": "2024-07-14T17:04:28.551302",
     "exception": false,
     "start_time": "2024-07-14T17:04:28.535121",
     "status": "completed"
    },
    "tags": []
   },
   "outputs": [],
   "source": [
    "with open(ARTIFACTS_INPUT_PATH / \"cb_run_metadata.json\", \"r\") as f:\n",
    "    run_metadata = json.load(f)"
   ]
  },
  {
   "cell_type": "code",
   "execution_count": 5,
   "id": "2e555087",
   "metadata": {
    "execution": {
     "iopub.execute_input": "2024-07-14T17:04:28.563672Z",
     "iopub.status.busy": "2024-07-14T17:04:28.563420Z",
     "iopub.status.idle": "2024-07-14T17:04:28.571030Z",
     "shell.execute_reply": "2024-07-14T17:04:28.570204Z"
    },
    "papermill": {
     "duration": 0.016173,
     "end_time": "2024-07-14T17:04:28.573199",
     "exception": false,
     "start_time": "2024-07-14T17:04:28.557026",
     "status": "completed"
    },
    "tags": []
   },
   "outputs": [
    {
     "data": {
      "text/plain": [
       "{'params': {'objective': 'Logloss',\n",
       "  'random_state': 2022,\n",
       "  'iterations': 2500,\n",
       "  'learning_rate': 0.05,\n",
       "  'cat_features': ['sex',\n",
       "   'anatom_site_general',\n",
       "   'tbp_tile_type',\n",
       "   'tbp_lv_location',\n",
       "   'tbp_lv_location_simple',\n",
       "   'attribution',\n",
       "   'copyright_license'],\n",
       "  'max_depth': 8,\n",
       "  'l2_leaf_reg': 5,\n",
       "  'verbose': 50,\n",
       "  'early_stopping_rounds': 100,\n",
       "  'eval_metric': 'AUC',\n",
       "  'task_type': 'GPU',\n",
       "  'devices': '0'},\n",
       " 'cb_best_num_rounds': {'fold_1': 414,\n",
       "  'fold_2': 649,\n",
       "  'fold_3': 408,\n",
       "  'fold_4': 642,\n",
       "  'fold_5': 231},\n",
       " 'cb_val_auc_scores': {'fold_1': 0.9494343400001526,\n",
       "  'fold_2': 0.9503380060195923,\n",
       "  'fold_3': 0.955212414264679,\n",
       "  'fold_4': 0.9614055156707764,\n",
       "  'fold_5': 0.950451135635376},\n",
       " 'cb_val_pauc_scores': {'fold_1': 0.16176580074155472,\n",
       "  'fold_2': 0.16379234653749836,\n",
       "  'fold_3': 0.16503569155507852,\n",
       "  'fold_4': 0.16790786337372549,\n",
       "  'fold_5': 0.16277633946384645},\n",
       " 'cb_cv_auc_oof': 0.952448562456487,\n",
       " 'cb_cv_pauc_oof': 0.1632807063262568,\n",
       " 'cb_cv_auc_avg': 0.9533682823181152,\n",
       " 'cb_cv_pauc_avg': 0.16425560833434072}"
      ]
     },
     "execution_count": 5,
     "metadata": {},
     "output_type": "execute_result"
    }
   ],
   "source": [
    "run_metadata"
   ]
  },
  {
   "cell_type": "code",
   "execution_count": 6,
   "id": "68bfa4fd",
   "metadata": {
    "execution": {
     "iopub.execute_input": "2024-07-14T17:04:28.585980Z",
     "iopub.status.busy": "2024-07-14T17:04:28.585697Z",
     "iopub.status.idle": "2024-07-14T17:04:29.113392Z",
     "shell.execute_reply": "2024-07-14T17:04:29.112538Z"
    },
    "papermill": {
     "duration": 0.536911,
     "end_time": "2024-07-14T17:04:29.116027",
     "exception": false,
     "start_time": "2024-07-14T17:04:28.579116",
     "status": "completed"
    },
    "tags": []
   },
   "outputs": [],
   "source": [
    "def feature_engineering(df):\n",
    "    df[\"lesion_size_ratio\"]              = df[\"tbp_lv_minorAxisMM\"] / df[\"clin_size_long_diam_mm\"]\n",
    "    df[\"hue_contrast\"]                   = (df[\"tbp_lv_H\"] - df[\"tbp_lv_Hext\"]).abs()\n",
    "    df[\"normalized_lesion_size\"]         = df[\"clin_size_long_diam_mm\"] / df[\"age_approx\"]\n",
    "    df[\"overall_color_difference\"]       = (df[\"tbp_lv_deltaA\"] + df[\"tbp_lv_deltaB\"] + df[\"tbp_lv_deltaL\"]) / 3\n",
    "    \n",
    "    patient_num_images = df.groupby(\"patient_id\", as_index=False)[\"isic_id\"].count().rename(columns={\"isic_id\": \"num_images\"})\n",
    "    df = df.merge(patient_num_images, on=\"patient_id\", how=\"left\")\n",
    "\n",
    "    new_num_cols = [\n",
    "        \"num_images\",\n",
    "        \"lesion_size_ratio\",\n",
    "        \"normalized_lesion_size\", \n",
    "        \"overall_color_difference\"\n",
    "    ]\n",
    "    \n",
    "    new_cat_cols = []\n",
    "    \n",
    "    return df, new_num_cols, new_cat_cols\n",
    "\n",
    "train_metadata, _, _ = feature_engineering(train_metadata.copy())\n",
    "test_metadata, _, _ = feature_engineering(test_metadata.copy())"
   ]
  },
  {
   "cell_type": "code",
   "execution_count": 7,
   "id": "4211c43c",
   "metadata": {
    "execution": {
     "iopub.execute_input": "2024-07-14T17:04:29.129992Z",
     "iopub.status.busy": "2024-07-14T17:04:29.129698Z",
     "iopub.status.idle": "2024-07-14T17:04:29.134043Z",
     "shell.execute_reply": "2024-07-14T17:04:29.133131Z"
    },
    "papermill": {
     "duration": 0.013275,
     "end_time": "2024-07-14T17:04:29.136060",
     "exception": false,
     "start_time": "2024-07-14T17:04:29.122785",
     "status": "completed"
    },
    "tags": []
   },
   "outputs": [],
   "source": [
    "id_column = \"isic_id\"\n",
    "target_column = \"target\"\n",
    "folds = train_metadata[\"fold\"]"
   ]
  },
  {
   "cell_type": "code",
   "execution_count": 8,
   "id": "bdf0ec3e",
   "metadata": {
    "execution": {
     "iopub.execute_input": "2024-07-14T17:04:29.149148Z",
     "iopub.status.busy": "2024-07-14T17:04:29.148779Z",
     "iopub.status.idle": "2024-07-14T17:04:29.163564Z",
     "shell.execute_reply": "2024-07-14T17:04:29.162743Z"
    },
    "papermill": {
     "duration": 0.023447,
     "end_time": "2024-07-14T17:04:29.165503",
     "exception": false,
     "start_time": "2024-07-14T17:04:29.142056",
     "status": "completed"
    },
    "tags": []
   },
   "outputs": [],
   "source": [
    "with open(ARTIFACTS_INPUT_PATH / \"encoder.joblib\", \"rb\") as f:\n",
    "    mixed_encoded_preprocessor = joblib.load(f)"
   ]
  },
  {
   "cell_type": "code",
   "execution_count": 9,
   "id": "98fc3189",
   "metadata": {
    "execution": {
     "iopub.execute_input": "2024-07-14T17:04:29.178842Z",
     "iopub.status.busy": "2024-07-14T17:04:29.178585Z",
     "iopub.status.idle": "2024-07-14T17:04:30.130236Z",
     "shell.execute_reply": "2024-07-14T17:04:30.129238Z"
    },
    "papermill": {
     "duration": 0.960787,
     "end_time": "2024-07-14T17:04:30.132651",
     "exception": false,
     "start_time": "2024-07-14T17:04:29.171864",
     "status": "completed"
    },
    "tags": []
   },
   "outputs": [],
   "source": [
    "enc = mixed_encoded_preprocessor.fit(train_metadata)\n",
    "X_test = enc.transform(test_metadata)"
   ]
  },
  {
   "cell_type": "code",
   "execution_count": 10,
   "id": "6355640d",
   "metadata": {
    "execution": {
     "iopub.execute_input": "2024-07-14T17:04:30.145768Z",
     "iopub.status.busy": "2024-07-14T17:04:30.145485Z",
     "iopub.status.idle": "2024-07-14T17:04:30.150175Z",
     "shell.execute_reply": "2024-07-14T17:04:30.149226Z"
    },
    "papermill": {
     "duration": 0.013432,
     "end_time": "2024-07-14T17:04:30.152090",
     "exception": false,
     "start_time": "2024-07-14T17:04:30.138658",
     "status": "completed"
    },
    "tags": []
   },
   "outputs": [
    {
     "name": "stdout",
     "output_type": "stream",
     "text": [
      "Total number of columns: 41\n"
     ]
    }
   ],
   "source": [
    "columns_for_model = len(X_test.columns)\n",
    "print(f\"Total number of columns: {columns_for_model}\")"
   ]
  },
  {
   "cell_type": "code",
   "execution_count": 11,
   "id": "d944b54b",
   "metadata": {
    "execution": {
     "iopub.execute_input": "2024-07-14T17:04:30.165235Z",
     "iopub.status.busy": "2024-07-14T17:04:30.164568Z",
     "iopub.status.idle": "2024-07-14T17:04:30.333501Z",
     "shell.execute_reply": "2024-07-14T17:04:30.332654Z"
    },
    "papermill": {
     "duration": 0.177795,
     "end_time": "2024-07-14T17:04:30.335822",
     "exception": false,
     "start_time": "2024-07-14T17:04:30.158027",
     "status": "completed"
    },
    "tags": []
   },
   "outputs": [],
   "source": [
    "all_folds = np.sort(folds.unique())\n",
    "test_predictions_df = pd.DataFrame({id_column: test_metadata[id_column]})\n",
    "for fold in all_folds:\n",
    "    model = cb.CatBoostClassifier()\n",
    "    model.load_model(MODELS_INPUT_PATH / f\"{cfg.model_name}_fold_{fold}.txt\")\n",
    "    test_predictions_df[f\"fold_{fold}\"] = model.predict_proba(X_test, ntree_end=run_metadata[\"cb_best_num_rounds\"][f\"fold_{fold}\"])[:, -1]"
   ]
  },
  {
   "cell_type": "code",
   "execution_count": 12,
   "id": "a77a1e95",
   "metadata": {
    "execution": {
     "iopub.execute_input": "2024-07-14T17:04:30.348525Z",
     "iopub.status.busy": "2024-07-14T17:04:30.348233Z",
     "iopub.status.idle": "2024-07-14T17:04:30.364268Z",
     "shell.execute_reply": "2024-07-14T17:04:30.363334Z"
    },
    "papermill": {
     "duration": 0.024386,
     "end_time": "2024-07-14T17:04:30.366132",
     "exception": false,
     "start_time": "2024-07-14T17:04:30.341746",
     "status": "completed"
    },
    "tags": []
   },
   "outputs": [
    {
     "data": {
      "text/html": [
       "<div>\n",
       "<style scoped>\n",
       "    .dataframe tbody tr th:only-of-type {\n",
       "        vertical-align: middle;\n",
       "    }\n",
       "\n",
       "    .dataframe tbody tr th {\n",
       "        vertical-align: top;\n",
       "    }\n",
       "\n",
       "    .dataframe thead th {\n",
       "        text-align: right;\n",
       "    }\n",
       "</style>\n",
       "<table border=\"1\" class=\"dataframe\">\n",
       "  <thead>\n",
       "    <tr style=\"text-align: right;\">\n",
       "      <th></th>\n",
       "      <th>isic_id</th>\n",
       "      <th>fold_1</th>\n",
       "      <th>fold_2</th>\n",
       "      <th>fold_3</th>\n",
       "      <th>fold_4</th>\n",
       "      <th>fold_5</th>\n",
       "    </tr>\n",
       "  </thead>\n",
       "  <tbody>\n",
       "    <tr>\n",
       "      <th>0</th>\n",
       "      <td>ISIC_0015657</td>\n",
       "      <td>0.000040</td>\n",
       "      <td>0.000081</td>\n",
       "      <td>0.000129</td>\n",
       "      <td>0.000059</td>\n",
       "      <td>0.000102</td>\n",
       "    </tr>\n",
       "    <tr>\n",
       "      <th>1</th>\n",
       "      <td>ISIC_0015729</td>\n",
       "      <td>0.000022</td>\n",
       "      <td>0.000021</td>\n",
       "      <td>0.000008</td>\n",
       "      <td>0.000010</td>\n",
       "      <td>0.000042</td>\n",
       "    </tr>\n",
       "    <tr>\n",
       "      <th>2</th>\n",
       "      <td>ISIC_0015740</td>\n",
       "      <td>0.000136</td>\n",
       "      <td>0.000251</td>\n",
       "      <td>0.000364</td>\n",
       "      <td>0.000094</td>\n",
       "      <td>0.000285</td>\n",
       "    </tr>\n",
       "  </tbody>\n",
       "</table>\n",
       "</div>"
      ],
      "text/plain": [
       "        isic_id    fold_1    fold_2    fold_3    fold_4    fold_5\n",
       "0  ISIC_0015657  0.000040  0.000081  0.000129  0.000059  0.000102\n",
       "1  ISIC_0015729  0.000022  0.000021  0.000008  0.000010  0.000042\n",
       "2  ISIC_0015740  0.000136  0.000251  0.000364  0.000094  0.000285"
      ]
     },
     "execution_count": 12,
     "metadata": {},
     "output_type": "execute_result"
    }
   ],
   "source": [
    "test_predictions_df.head()"
   ]
  },
  {
   "cell_type": "code",
   "execution_count": 13,
   "id": "7d0c2ced",
   "metadata": {
    "execution": {
     "iopub.execute_input": "2024-07-14T17:04:30.380036Z",
     "iopub.status.busy": "2024-07-14T17:04:30.379731Z",
     "iopub.status.idle": "2024-07-14T17:04:30.386028Z",
     "shell.execute_reply": "2024-07-14T17:04:30.385312Z"
    },
    "papermill": {
     "duration": 0.015041,
     "end_time": "2024-07-14T17:04:30.387874",
     "exception": false,
     "start_time": "2024-07-14T17:04:30.372833",
     "status": "completed"
    },
    "tags": []
   },
   "outputs": [],
   "source": [
    "test_predictions_df[target_column] = test_predictions_df[[f\"fold_{fold}\" for fold in all_folds]].mean(axis=1)"
   ]
  },
  {
   "cell_type": "code",
   "execution_count": 14,
   "id": "bb553746",
   "metadata": {
    "execution": {
     "iopub.execute_input": "2024-07-14T17:04:30.400933Z",
     "iopub.status.busy": "2024-07-14T17:04:30.400665Z",
     "iopub.status.idle": "2024-07-14T17:04:30.411922Z",
     "shell.execute_reply": "2024-07-14T17:04:30.411091Z"
    },
    "papermill": {
     "duration": 0.020378,
     "end_time": "2024-07-14T17:04:30.414147",
     "exception": false,
     "start_time": "2024-07-14T17:04:30.393769",
     "status": "completed"
    },
    "tags": []
   },
   "outputs": [
    {
     "data": {
      "text/html": [
       "<div>\n",
       "<style scoped>\n",
       "    .dataframe tbody tr th:only-of-type {\n",
       "        vertical-align: middle;\n",
       "    }\n",
       "\n",
       "    .dataframe tbody tr th {\n",
       "        vertical-align: top;\n",
       "    }\n",
       "\n",
       "    .dataframe thead th {\n",
       "        text-align: right;\n",
       "    }\n",
       "</style>\n",
       "<table border=\"1\" class=\"dataframe\">\n",
       "  <thead>\n",
       "    <tr style=\"text-align: right;\">\n",
       "      <th></th>\n",
       "      <th>isic_id</th>\n",
       "      <th>fold_1</th>\n",
       "      <th>fold_2</th>\n",
       "      <th>fold_3</th>\n",
       "      <th>fold_4</th>\n",
       "      <th>fold_5</th>\n",
       "      <th>target</th>\n",
       "    </tr>\n",
       "  </thead>\n",
       "  <tbody>\n",
       "    <tr>\n",
       "      <th>0</th>\n",
       "      <td>ISIC_0015657</td>\n",
       "      <td>0.000040</td>\n",
       "      <td>0.000081</td>\n",
       "      <td>0.000129</td>\n",
       "      <td>0.000059</td>\n",
       "      <td>0.000102</td>\n",
       "      <td>0.000082</td>\n",
       "    </tr>\n",
       "    <tr>\n",
       "      <th>1</th>\n",
       "      <td>ISIC_0015729</td>\n",
       "      <td>0.000022</td>\n",
       "      <td>0.000021</td>\n",
       "      <td>0.000008</td>\n",
       "      <td>0.000010</td>\n",
       "      <td>0.000042</td>\n",
       "      <td>0.000021</td>\n",
       "    </tr>\n",
       "    <tr>\n",
       "      <th>2</th>\n",
       "      <td>ISIC_0015740</td>\n",
       "      <td>0.000136</td>\n",
       "      <td>0.000251</td>\n",
       "      <td>0.000364</td>\n",
       "      <td>0.000094</td>\n",
       "      <td>0.000285</td>\n",
       "      <td>0.000226</td>\n",
       "    </tr>\n",
       "  </tbody>\n",
       "</table>\n",
       "</div>"
      ],
      "text/plain": [
       "        isic_id    fold_1    fold_2    fold_3    fold_4    fold_5    target\n",
       "0  ISIC_0015657  0.000040  0.000081  0.000129  0.000059  0.000102  0.000082\n",
       "1  ISIC_0015729  0.000022  0.000021  0.000008  0.000010  0.000042  0.000021\n",
       "2  ISIC_0015740  0.000136  0.000251  0.000364  0.000094  0.000285  0.000226"
      ]
     },
     "execution_count": 14,
     "metadata": {},
     "output_type": "execute_result"
    }
   ],
   "source": [
    "test_predictions_df.head()"
   ]
  },
  {
   "cell_type": "code",
   "execution_count": 15,
   "id": "826787db",
   "metadata": {
    "execution": {
     "iopub.execute_input": "2024-07-14T17:04:30.427591Z",
     "iopub.status.busy": "2024-07-14T17:04:30.427322Z",
     "iopub.status.idle": "2024-07-14T17:04:30.438005Z",
     "shell.execute_reply": "2024-07-14T17:04:30.437150Z"
    },
    "papermill": {
     "duration": 0.019598,
     "end_time": "2024-07-14T17:04:30.439989",
     "exception": false,
     "start_time": "2024-07-14T17:04:30.420391",
     "status": "completed"
    },
    "tags": []
   },
   "outputs": [
    {
     "data": {
      "text/plain": [
       "count    3.000000\n",
       "mean     0.000110\n",
       "std      0.000105\n",
       "min      0.000021\n",
       "25%      0.000051\n",
       "50%      0.000082\n",
       "75%      0.000154\n",
       "max      0.000226\n",
       "Name: target, dtype: float64"
      ]
     },
     "execution_count": 15,
     "metadata": {},
     "output_type": "execute_result"
    }
   ],
   "source": [
    "test_predictions_df[target_column].describe()"
   ]
  },
  {
   "cell_type": "code",
   "execution_count": 16,
   "id": "678cc3bc",
   "metadata": {
    "execution": {
     "iopub.execute_input": "2024-07-14T17:04:30.453487Z",
     "iopub.status.busy": "2024-07-14T17:04:30.453209Z",
     "iopub.status.idle": "2024-07-14T17:04:30.462322Z",
     "shell.execute_reply": "2024-07-14T17:04:30.461462Z"
    },
    "papermill": {
     "duration": 0.018127,
     "end_time": "2024-07-14T17:04:30.464432",
     "exception": false,
     "start_time": "2024-07-14T17:04:30.446305",
     "status": "completed"
    },
    "tags": []
   },
   "outputs": [
    {
     "data": {
      "text/html": [
       "<div>\n",
       "<style scoped>\n",
       "    .dataframe tbody tr th:only-of-type {\n",
       "        vertical-align: middle;\n",
       "    }\n",
       "\n",
       "    .dataframe tbody tr th {\n",
       "        vertical-align: top;\n",
       "    }\n",
       "\n",
       "    .dataframe thead th {\n",
       "        text-align: right;\n",
       "    }\n",
       "</style>\n",
       "<table border=\"1\" class=\"dataframe\">\n",
       "  <thead>\n",
       "    <tr style=\"text-align: right;\">\n",
       "      <th></th>\n",
       "      <th>isic_id</th>\n",
       "      <th>target</th>\n",
       "    </tr>\n",
       "  </thead>\n",
       "  <tbody>\n",
       "    <tr>\n",
       "      <th>0</th>\n",
       "      <td>ISIC_0015657</td>\n",
       "      <td>0.000082</td>\n",
       "    </tr>\n",
       "    <tr>\n",
       "      <th>1</th>\n",
       "      <td>ISIC_0015729</td>\n",
       "      <td>0.000021</td>\n",
       "    </tr>\n",
       "    <tr>\n",
       "      <th>2</th>\n",
       "      <td>ISIC_0015740</td>\n",
       "      <td>0.000226</td>\n",
       "    </tr>\n",
       "  </tbody>\n",
       "</table>\n",
       "</div>"
      ],
      "text/plain": [
       "        isic_id    target\n",
       "0  ISIC_0015657  0.000082\n",
       "1  ISIC_0015729  0.000021\n",
       "2  ISIC_0015740  0.000226"
      ]
     },
     "execution_count": 16,
     "metadata": {},
     "output_type": "execute_result"
    }
   ],
   "source": [
    "test_predictions_df[[id_column, target_column]].head(10)"
   ]
  },
  {
   "cell_type": "code",
   "execution_count": 17,
   "id": "54e1109d",
   "metadata": {
    "execution": {
     "iopub.execute_input": "2024-07-14T17:04:30.478520Z",
     "iopub.status.busy": "2024-07-14T17:04:30.478275Z",
     "iopub.status.idle": "2024-07-14T17:04:30.484396Z",
     "shell.execute_reply": "2024-07-14T17:04:30.483703Z"
    },
    "papermill": {
     "duration": 0.015782,
     "end_time": "2024-07-14T17:04:30.486523",
     "exception": false,
     "start_time": "2024-07-14T17:04:30.470741",
     "status": "completed"
    },
    "tags": []
   },
   "outputs": [],
   "source": [
    "test_predictions_df[[id_column, target_column]].to_csv(\"submission.csv\", index=False)"
   ]
  },
  {
   "cell_type": "code",
   "execution_count": null,
   "id": "3fb27561",
   "metadata": {
    "papermill": {
     "duration": 0.006264,
     "end_time": "2024-07-14T17:04:30.499114",
     "exception": false,
     "start_time": "2024-07-14T17:04:30.492850",
     "status": "completed"
    },
    "tags": []
   },
   "outputs": [],
   "source": []
  }
 ],
 "metadata": {
  "kaggle": {
   "accelerator": "gpu",
   "dataSources": [
    {
     "databundleVersionId": 9094797,
     "sourceId": 63056,
     "sourceType": "competition"
    },
    {
     "sourceId": 187439867,
     "sourceType": "kernelVersion"
    },
    {
     "sourceId": 187477024,
     "sourceType": "kernelVersion"
    },
    {
     "sourceId": 188218862,
     "sourceType": "kernelVersion"
    }
   ],
   "dockerImageVersionId": 30732,
   "isGpuEnabled": true,
   "isInternetEnabled": false,
   "language": "python",
   "sourceType": "notebook"
  },
  "kernelspec": {
   "display_name": "Python 3",
   "language": "python",
   "name": "python3"
  },
  "language_info": {
   "codemirror_mode": {
    "name": "ipython",
    "version": 3
   },
   "file_extension": ".py",
   "mimetype": "text/x-python",
   "name": "python",
   "nbconvert_exporter": "python",
   "pygments_lexer": "ipython3",
   "version": "3.10.13"
  },
  "papermill": {
   "default_parameters": {},
   "duration": 22.774853,
   "end_time": "2024-07-14T17:04:31.826630",
   "environment_variables": {},
   "exception": null,
   "input_path": "__notebook__.ipynb",
   "output_path": "__notebook__.ipynb",
   "parameters": {},
   "start_time": "2024-07-14T17:04:09.051777",
   "version": "2.5.0"
  }
 },
 "nbformat": 4,
 "nbformat_minor": 5
}
