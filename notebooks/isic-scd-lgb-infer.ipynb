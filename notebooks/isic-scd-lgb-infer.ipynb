{
 "cells": [
  {
   "cell_type": "code",
   "execution_count": 1,
   "id": "fe261396",
   "metadata": {
    "_cell_guid": "a30e467f-ec41-4133-b8d4-e794f559da50",
    "_uuid": "c0ebb1a4-b5f7-4a24-864f-eb38f15fed58",
    "collapsed": false,
    "execution": {
     "iopub.execute_input": "2024-07-09T08:15:27.609731Z",
     "iopub.status.busy": "2024-07-09T08:15:27.609324Z",
     "iopub.status.idle": "2024-07-09T08:15:34.513187Z",
     "shell.execute_reply": "2024-07-09T08:15:34.511998Z"
    },
    "jupyter": {
     "outputs_hidden": false
    },
    "papermill": {
     "duration": 6.914607,
     "end_time": "2024-07-09T08:15:34.515961",
     "exception": false,
     "start_time": "2024-07-09T08:15:27.601354",
     "status": "completed"
    },
    "tags": []
   },
   "outputs": [],
   "source": [
    "import json\n",
    "import joblib\n",
    "\n",
    "from pathlib import Path\n",
    "\n",
    "import pandas as pd\n",
    "import numpy as np\n",
    "\n",
    "import lightgbm as lgb\n",
    "\n",
    "from isic_helper import DotDict, get_folds"
   ]
  },
  {
   "cell_type": "code",
   "execution_count": 2,
   "id": "6e90379b",
   "metadata": {
    "execution": {
     "iopub.execute_input": "2024-07-09T08:15:34.530291Z",
     "iopub.status.busy": "2024-07-09T08:15:34.529597Z",
     "iopub.status.idle": "2024-07-09T08:15:34.534980Z",
     "shell.execute_reply": "2024-07-09T08:15:34.533955Z"
    },
    "papermill": {
     "duration": 0.014945,
     "end_time": "2024-07-09T08:15:34.537308",
     "exception": false,
     "start_time": "2024-07-09T08:15:34.522363",
     "status": "completed"
    },
    "tags": []
   },
   "outputs": [],
   "source": [
    "cfg = DotDict()\n",
    "\n",
    "cfg.models_output_dir = \"models\"\n",
    "cfg.model_name = \"lgb_v1\""
   ]
  },
  {
   "cell_type": "code",
   "execution_count": 3,
   "id": "f5f11dc8",
   "metadata": {
    "execution": {
     "iopub.execute_input": "2024-07-09T08:15:34.550814Z",
     "iopub.status.busy": "2024-07-09T08:15:34.550423Z",
     "iopub.status.idle": "2024-07-09T08:15:46.001443Z",
     "shell.execute_reply": "2024-07-09T08:15:46.000363Z"
    },
    "papermill": {
     "duration": 11.460571,
     "end_time": "2024-07-09T08:15:46.003824",
     "exception": false,
     "start_time": "2024-07-09T08:15:34.543253",
     "status": "completed"
    },
    "tags": []
   },
   "outputs": [
    {
     "name": "stdout",
     "output_type": "stream",
     "text": [
      "Train data size: (401059, 57)\n",
      "Test data size: (3, 44)\n"
     ]
    }
   ],
   "source": [
    "INPUT_PATH = Path(\"../input/isic-2024-challenge/\")\n",
    "ARTIFACTS_INPUT_PATH = Path(f\"../input/isic-scd-lgb-train/\")\n",
    "MODELS_INPUT_PATH = ARTIFACTS_INPUT_PATH / cfg.models_output_dir\n",
    "\n",
    "train_metadata = pd.read_csv(INPUT_PATH / \"train-metadata.csv\", low_memory=False)\n",
    "test_metadata = pd.read_csv(INPUT_PATH / \"test-metadata.csv\", low_memory=False)\n",
    "\n",
    "folds_df = get_folds()\n",
    "train_metadata = train_metadata.merge(folds_df, on=[\"isic_id\", \"patient_id\"], how=\"inner\")\n",
    "print(f\"Train data size: {train_metadata.shape}\")\n",
    "print(f\"Test data size: {test_metadata.shape}\")"
   ]
  },
  {
   "cell_type": "code",
   "execution_count": 4,
   "id": "bbd6e889",
   "metadata": {
    "execution": {
     "iopub.execute_input": "2024-07-09T08:15:46.017369Z",
     "iopub.status.busy": "2024-07-09T08:15:46.016666Z",
     "iopub.status.idle": "2024-07-09T08:15:46.024143Z",
     "shell.execute_reply": "2024-07-09T08:15:46.023125Z"
    },
    "papermill": {
     "duration": 0.016703,
     "end_time": "2024-07-09T08:15:46.026452",
     "exception": false,
     "start_time": "2024-07-09T08:15:46.009749",
     "status": "completed"
    },
    "tags": []
   },
   "outputs": [],
   "source": [
    "with open(ARTIFACTS_INPUT_PATH / \"run_metadata.json\", \"r\") as f:\n",
    "    run_metadata = json.load(f)"
   ]
  },
  {
   "cell_type": "code",
   "execution_count": 5,
   "id": "527ce0b9",
   "metadata": {
    "execution": {
     "iopub.execute_input": "2024-07-09T08:15:46.040081Z",
     "iopub.status.busy": "2024-07-09T08:15:46.039411Z",
     "iopub.status.idle": "2024-07-09T08:15:46.209409Z",
     "shell.execute_reply": "2024-07-09T08:15:46.208476Z"
    },
    "papermill": {
     "duration": 0.179481,
     "end_time": "2024-07-09T08:15:46.212011",
     "exception": false,
     "start_time": "2024-07-09T08:15:46.032530",
     "status": "completed"
    },
    "tags": []
   },
   "outputs": [],
   "source": [
    "def feature_engineering(df):\n",
    "    df[\"lesion_size_ratio\"]              = df[\"tbp_lv_minorAxisMM\"] / df[\"clin_size_long_diam_mm\"]\n",
    "    df[\"hue_contrast\"]                   = (df[\"tbp_lv_H\"] - df[\"tbp_lv_Hext\"]).abs()\n",
    "    df[\"normalized_lesion_size\"]         = df[\"clin_size_long_diam_mm\"] / df[\"age_approx\"]\n",
    "    df[\"overall_color_difference\"]       = (df[\"tbp_lv_deltaA\"] + df[\"tbp_lv_deltaB\"] + df[\"tbp_lv_deltaL\"]) / 3\n",
    "\n",
    "    new_num_cols = [\n",
    "        \"lesion_size_ratio\"\n",
    "        \"normalized_lesion_size\", \n",
    "        \"overall_color_difference\"\n",
    "    ]\n",
    "    \n",
    "    new_cat_cols = []\n",
    "    \n",
    "    return df, new_num_cols, new_cat_cols\n",
    "\n",
    "train_metadata, _, _ = feature_engineering(train_metadata.copy())\n",
    "test_metadata, _, _ = feature_engineering(test_metadata.copy())"
   ]
  },
  {
   "cell_type": "code",
   "execution_count": 6,
   "id": "dde757bd",
   "metadata": {
    "execution": {
     "iopub.execute_input": "2024-07-09T08:15:46.225840Z",
     "iopub.status.busy": "2024-07-09T08:15:46.225235Z",
     "iopub.status.idle": "2024-07-09T08:15:46.230442Z",
     "shell.execute_reply": "2024-07-09T08:15:46.229425Z"
    },
    "papermill": {
     "duration": 0.014475,
     "end_time": "2024-07-09T08:15:46.232608",
     "exception": false,
     "start_time": "2024-07-09T08:15:46.218133",
     "status": "completed"
    },
    "tags": []
   },
   "outputs": [],
   "source": [
    "id_column = \"isic_id\"\n",
    "target_column = \"target\"\n",
    "folds = train_metadata[\"fold\"]"
   ]
  },
  {
   "cell_type": "code",
   "execution_count": 7,
   "id": "1a78baa9",
   "metadata": {
    "execution": {
     "iopub.execute_input": "2024-07-09T08:15:46.246385Z",
     "iopub.status.busy": "2024-07-09T08:15:46.245720Z",
     "iopub.status.idle": "2024-07-09T08:15:46.261973Z",
     "shell.execute_reply": "2024-07-09T08:15:46.261036Z"
    },
    "papermill": {
     "duration": 0.025961,
     "end_time": "2024-07-09T08:15:46.264599",
     "exception": false,
     "start_time": "2024-07-09T08:15:46.238638",
     "status": "completed"
    },
    "tags": []
   },
   "outputs": [],
   "source": [
    "with open(ARTIFACTS_INPUT_PATH / \"encoder.joblib\", \"rb\") as f:\n",
    "    mixed_encoded_preprocessor = joblib.load(f)"
   ]
  },
  {
   "cell_type": "code",
   "execution_count": 8,
   "id": "9e7c8d7e",
   "metadata": {
    "execution": {
     "iopub.execute_input": "2024-07-09T08:15:46.278778Z",
     "iopub.status.busy": "2024-07-09T08:15:46.278045Z",
     "iopub.status.idle": "2024-07-09T08:15:47.239188Z",
     "shell.execute_reply": "2024-07-09T08:15:47.237982Z"
    },
    "papermill": {
     "duration": 0.971096,
     "end_time": "2024-07-09T08:15:47.241934",
     "exception": false,
     "start_time": "2024-07-09T08:15:46.270838",
     "status": "completed"
    },
    "tags": []
   },
   "outputs": [],
   "source": [
    "enc = mixed_encoded_preprocessor.fit(train_metadata)\n",
    "X_test = enc.transform(test_metadata)"
   ]
  },
  {
   "cell_type": "code",
   "execution_count": 9,
   "id": "a4ee09ef",
   "metadata": {
    "execution": {
     "iopub.execute_input": "2024-07-09T08:15:47.255989Z",
     "iopub.status.busy": "2024-07-09T08:15:47.255594Z",
     "iopub.status.idle": "2024-07-09T08:15:47.261232Z",
     "shell.execute_reply": "2024-07-09T08:15:47.260183Z"
    },
    "papermill": {
     "duration": 0.015652,
     "end_time": "2024-07-09T08:15:47.263910",
     "exception": false,
     "start_time": "2024-07-09T08:15:47.248258",
     "status": "completed"
    },
    "tags": []
   },
   "outputs": [
    {
     "name": "stdout",
     "output_type": "stream",
     "text": [
      "Total number of columns: 40\n"
     ]
    }
   ],
   "source": [
    "columns_for_model = len(X_test.columns)\n",
    "print(f\"Total number of columns: {columns_for_model}\")"
   ]
  },
  {
   "cell_type": "code",
   "execution_count": 10,
   "id": "96032066",
   "metadata": {
    "execution": {
     "iopub.execute_input": "2024-07-09T08:15:47.277856Z",
     "iopub.status.busy": "2024-07-09T08:15:47.277482Z",
     "iopub.status.idle": "2024-07-09T08:15:47.611666Z",
     "shell.execute_reply": "2024-07-09T08:15:47.610531Z"
    },
    "papermill": {
     "duration": 0.344447,
     "end_time": "2024-07-09T08:15:47.614500",
     "exception": false,
     "start_time": "2024-07-09T08:15:47.270053",
     "status": "completed"
    },
    "tags": []
   },
   "outputs": [],
   "source": [
    "all_folds = np.sort(folds.unique())\n",
    "test_predictions_df = pd.DataFrame({id_column: test_metadata[id_column]})\n",
    "for fold in all_folds:\n",
    "    model = lgb.Booster(model_file=MODELS_INPUT_PATH / f\"{cfg.model_name}_fold_{fold}.txt\")\n",
    "    test_predictions_df[f\"fold_{fold}\"] = model.predict(X_test, num_iteration=run_metadata[\"best_num_rounds\"][f\"fold_{fold}\"])"
   ]
  },
  {
   "cell_type": "code",
   "execution_count": 11,
   "id": "9cd7aeb4",
   "metadata": {
    "execution": {
     "iopub.execute_input": "2024-07-09T08:15:47.628640Z",
     "iopub.status.busy": "2024-07-09T08:15:47.628260Z",
     "iopub.status.idle": "2024-07-09T08:15:47.646947Z",
     "shell.execute_reply": "2024-07-09T08:15:47.646006Z"
    },
    "papermill": {
     "duration": 0.028423,
     "end_time": "2024-07-09T08:15:47.649364",
     "exception": false,
     "start_time": "2024-07-09T08:15:47.620941",
     "status": "completed"
    },
    "tags": []
   },
   "outputs": [
    {
     "data": {
      "text/html": [
       "<div>\n",
       "<style scoped>\n",
       "    .dataframe tbody tr th:only-of-type {\n",
       "        vertical-align: middle;\n",
       "    }\n",
       "\n",
       "    .dataframe tbody tr th {\n",
       "        vertical-align: top;\n",
       "    }\n",
       "\n",
       "    .dataframe thead th {\n",
       "        text-align: right;\n",
       "    }\n",
       "</style>\n",
       "<table border=\"1\" class=\"dataframe\">\n",
       "  <thead>\n",
       "    <tr style=\"text-align: right;\">\n",
       "      <th></th>\n",
       "      <th>isic_id</th>\n",
       "      <th>fold_1</th>\n",
       "      <th>fold_2</th>\n",
       "      <th>fold_3</th>\n",
       "      <th>fold_4</th>\n",
       "      <th>fold_5</th>\n",
       "    </tr>\n",
       "  </thead>\n",
       "  <tbody>\n",
       "    <tr>\n",
       "      <th>0</th>\n",
       "      <td>ISIC_0015657</td>\n",
       "      <td>0.000099</td>\n",
       "      <td>0.000085</td>\n",
       "      <td>0.000122</td>\n",
       "      <td>0.000007</td>\n",
       "      <td>0.000212</td>\n",
       "    </tr>\n",
       "    <tr>\n",
       "      <th>1</th>\n",
       "      <td>ISIC_0015729</td>\n",
       "      <td>0.000059</td>\n",
       "      <td>0.000079</td>\n",
       "      <td>0.000082</td>\n",
       "      <td>0.000010</td>\n",
       "      <td>0.000180</td>\n",
       "    </tr>\n",
       "    <tr>\n",
       "      <th>2</th>\n",
       "      <td>ISIC_0015740</td>\n",
       "      <td>0.000115</td>\n",
       "      <td>0.000079</td>\n",
       "      <td>0.000190</td>\n",
       "      <td>0.000046</td>\n",
       "      <td>0.000273</td>\n",
       "    </tr>\n",
       "  </tbody>\n",
       "</table>\n",
       "</div>"
      ],
      "text/plain": [
       "        isic_id    fold_1    fold_2    fold_3    fold_4    fold_5\n",
       "0  ISIC_0015657  0.000099  0.000085  0.000122  0.000007  0.000212\n",
       "1  ISIC_0015729  0.000059  0.000079  0.000082  0.000010  0.000180\n",
       "2  ISIC_0015740  0.000115  0.000079  0.000190  0.000046  0.000273"
      ]
     },
     "execution_count": 11,
     "metadata": {},
     "output_type": "execute_result"
    }
   ],
   "source": [
    "test_predictions_df.head()"
   ]
  },
  {
   "cell_type": "code",
   "execution_count": 12,
   "id": "5669d2aa",
   "metadata": {
    "execution": {
     "iopub.execute_input": "2024-07-09T08:15:47.663655Z",
     "iopub.status.busy": "2024-07-09T08:15:47.663267Z",
     "iopub.status.idle": "2024-07-09T08:15:47.673082Z",
     "shell.execute_reply": "2024-07-09T08:15:47.672009Z"
    },
    "papermill": {
     "duration": 0.019597,
     "end_time": "2024-07-09T08:15:47.675278",
     "exception": false,
     "start_time": "2024-07-09T08:15:47.655681",
     "status": "completed"
    },
    "tags": []
   },
   "outputs": [],
   "source": [
    "test_predictions_df[target_column] = test_predictions_df[[f\"fold_{fold}\" for fold in all_folds]].mean(axis=1)"
   ]
  },
  {
   "cell_type": "code",
   "execution_count": 13,
   "id": "7a80426d",
   "metadata": {
    "execution": {
     "iopub.execute_input": "2024-07-09T08:15:47.689968Z",
     "iopub.status.busy": "2024-07-09T08:15:47.689579Z",
     "iopub.status.idle": "2024-07-09T08:15:47.703132Z",
     "shell.execute_reply": "2024-07-09T08:15:47.702215Z"
    },
    "papermill": {
     "duration": 0.023977,
     "end_time": "2024-07-09T08:15:47.705877",
     "exception": false,
     "start_time": "2024-07-09T08:15:47.681900",
     "status": "completed"
    },
    "tags": []
   },
   "outputs": [
    {
     "data": {
      "text/html": [
       "<div>\n",
       "<style scoped>\n",
       "    .dataframe tbody tr th:only-of-type {\n",
       "        vertical-align: middle;\n",
       "    }\n",
       "\n",
       "    .dataframe tbody tr th {\n",
       "        vertical-align: top;\n",
       "    }\n",
       "\n",
       "    .dataframe thead th {\n",
       "        text-align: right;\n",
       "    }\n",
       "</style>\n",
       "<table border=\"1\" class=\"dataframe\">\n",
       "  <thead>\n",
       "    <tr style=\"text-align: right;\">\n",
       "      <th></th>\n",
       "      <th>isic_id</th>\n",
       "      <th>fold_1</th>\n",
       "      <th>fold_2</th>\n",
       "      <th>fold_3</th>\n",
       "      <th>fold_4</th>\n",
       "      <th>fold_5</th>\n",
       "      <th>target</th>\n",
       "    </tr>\n",
       "  </thead>\n",
       "  <tbody>\n",
       "    <tr>\n",
       "      <th>0</th>\n",
       "      <td>ISIC_0015657</td>\n",
       "      <td>0.000099</td>\n",
       "      <td>0.000085</td>\n",
       "      <td>0.000122</td>\n",
       "      <td>0.000007</td>\n",
       "      <td>0.000212</td>\n",
       "      <td>0.000105</td>\n",
       "    </tr>\n",
       "    <tr>\n",
       "      <th>1</th>\n",
       "      <td>ISIC_0015729</td>\n",
       "      <td>0.000059</td>\n",
       "      <td>0.000079</td>\n",
       "      <td>0.000082</td>\n",
       "      <td>0.000010</td>\n",
       "      <td>0.000180</td>\n",
       "      <td>0.000082</td>\n",
       "    </tr>\n",
       "    <tr>\n",
       "      <th>2</th>\n",
       "      <td>ISIC_0015740</td>\n",
       "      <td>0.000115</td>\n",
       "      <td>0.000079</td>\n",
       "      <td>0.000190</td>\n",
       "      <td>0.000046</td>\n",
       "      <td>0.000273</td>\n",
       "      <td>0.000141</td>\n",
       "    </tr>\n",
       "  </tbody>\n",
       "</table>\n",
       "</div>"
      ],
      "text/plain": [
       "        isic_id    fold_1    fold_2    fold_3    fold_4    fold_5    target\n",
       "0  ISIC_0015657  0.000099  0.000085  0.000122  0.000007  0.000212  0.000105\n",
       "1  ISIC_0015729  0.000059  0.000079  0.000082  0.000010  0.000180  0.000082\n",
       "2  ISIC_0015740  0.000115  0.000079  0.000190  0.000046  0.000273  0.000141"
      ]
     },
     "execution_count": 13,
     "metadata": {},
     "output_type": "execute_result"
    }
   ],
   "source": [
    "test_predictions_df.head()"
   ]
  },
  {
   "cell_type": "code",
   "execution_count": 14,
   "id": "11c01f84",
   "metadata": {
    "execution": {
     "iopub.execute_input": "2024-07-09T08:15:47.720305Z",
     "iopub.status.busy": "2024-07-09T08:15:47.719921Z",
     "iopub.status.idle": "2024-07-09T08:15:47.733021Z",
     "shell.execute_reply": "2024-07-09T08:15:47.732069Z"
    },
    "papermill": {
     "duration": 0.023247,
     "end_time": "2024-07-09T08:15:47.735572",
     "exception": false,
     "start_time": "2024-07-09T08:15:47.712325",
     "status": "completed"
    },
    "tags": []
   },
   "outputs": [
    {
     "data": {
      "text/plain": [
       "count    3.000000\n",
       "mean     0.000109\n",
       "std      0.000030\n",
       "min      0.000082\n",
       "25%      0.000093\n",
       "50%      0.000105\n",
       "75%      0.000123\n",
       "max      0.000141\n",
       "Name: target, dtype: float64"
      ]
     },
     "execution_count": 14,
     "metadata": {},
     "output_type": "execute_result"
    }
   ],
   "source": [
    "test_predictions_df[target_column].describe()"
   ]
  },
  {
   "cell_type": "code",
   "execution_count": 15,
   "id": "4c73ae4b",
   "metadata": {
    "execution": {
     "iopub.execute_input": "2024-07-09T08:15:47.751036Z",
     "iopub.status.busy": "2024-07-09T08:15:47.750649Z",
     "iopub.status.idle": "2024-07-09T08:15:47.761928Z",
     "shell.execute_reply": "2024-07-09T08:15:47.760915Z"
    },
    "papermill": {
     "duration": 0.021949,
     "end_time": "2024-07-09T08:15:47.764646",
     "exception": false,
     "start_time": "2024-07-09T08:15:47.742697",
     "status": "completed"
    },
    "tags": []
   },
   "outputs": [
    {
     "data": {
      "text/html": [
       "<div>\n",
       "<style scoped>\n",
       "    .dataframe tbody tr th:only-of-type {\n",
       "        vertical-align: middle;\n",
       "    }\n",
       "\n",
       "    .dataframe tbody tr th {\n",
       "        vertical-align: top;\n",
       "    }\n",
       "\n",
       "    .dataframe thead th {\n",
       "        text-align: right;\n",
       "    }\n",
       "</style>\n",
       "<table border=\"1\" class=\"dataframe\">\n",
       "  <thead>\n",
       "    <tr style=\"text-align: right;\">\n",
       "      <th></th>\n",
       "      <th>isic_id</th>\n",
       "      <th>target</th>\n",
       "    </tr>\n",
       "  </thead>\n",
       "  <tbody>\n",
       "    <tr>\n",
       "      <th>0</th>\n",
       "      <td>ISIC_0015657</td>\n",
       "      <td>0.000105</td>\n",
       "    </tr>\n",
       "    <tr>\n",
       "      <th>1</th>\n",
       "      <td>ISIC_0015729</td>\n",
       "      <td>0.000082</td>\n",
       "    </tr>\n",
       "    <tr>\n",
       "      <th>2</th>\n",
       "      <td>ISIC_0015740</td>\n",
       "      <td>0.000141</td>\n",
       "    </tr>\n",
       "  </tbody>\n",
       "</table>\n",
       "</div>"
      ],
      "text/plain": [
       "        isic_id    target\n",
       "0  ISIC_0015657  0.000105\n",
       "1  ISIC_0015729  0.000082\n",
       "2  ISIC_0015740  0.000141"
      ]
     },
     "execution_count": 15,
     "metadata": {},
     "output_type": "execute_result"
    }
   ],
   "source": [
    "test_predictions_df[[id_column, target_column]].head(10)"
   ]
  },
  {
   "cell_type": "code",
   "execution_count": 16,
   "id": "7eabedc3",
   "metadata": {
    "execution": {
     "iopub.execute_input": "2024-07-09T08:15:47.780380Z",
     "iopub.status.busy": "2024-07-09T08:15:47.779968Z",
     "iopub.status.idle": "2024-07-09T08:15:47.788600Z",
     "shell.execute_reply": "2024-07-09T08:15:47.787740Z"
    },
    "papermill": {
     "duration": 0.019203,
     "end_time": "2024-07-09T08:15:47.790876",
     "exception": false,
     "start_time": "2024-07-09T08:15:47.771673",
     "status": "completed"
    },
    "tags": []
   },
   "outputs": [],
   "source": [
    "test_predictions_df[[id_column, target_column]].to_csv(\"submission.csv\", index=False)"
   ]
  }
 ],
 "metadata": {
  "kaggle": {
   "accelerator": "none",
   "dataSources": [
    {
     "databundleVersionId": 8940774,
     "sourceId": 63056,
     "sourceType": "competition"
    },
    {
     "sourceId": 187477024,
     "sourceType": "kernelVersion"
    },
    {
     "sourceId": 187439867,
     "sourceType": "kernelVersion"
    },
    {
     "sourceId": 187477118,
     "sourceType": "kernelVersion"
    }
   ],
   "dockerImageVersionId": 30732,
   "isGpuEnabled": false,
   "isInternetEnabled": false,
   "language": "python",
   "sourceType": "notebook"
  },
  "kernelspec": {
   "display_name": "Python 3",
   "language": "python",
   "name": "python3"
  },
  "language_info": {
   "codemirror_mode": {
    "name": "ipython",
    "version": 3
   },
   "file_extension": ".py",
   "mimetype": "text/x-python",
   "name": "python",
   "nbconvert_exporter": "python",
   "pygments_lexer": "ipython3",
   "version": "3.10.13"
  },
  "papermill": {
   "default_parameters": {},
   "duration": 24.348591,
   "end_time": "2024-07-09T08:15:49.021456",
   "environment_variables": {},
   "exception": null,
   "input_path": "__notebook__.ipynb",
   "output_path": "__notebook__.ipynb",
   "parameters": {},
   "start_time": "2024-07-09T08:15:24.672865",
   "version": "2.5.0"
  }
 },
 "nbformat": 4,
 "nbformat_minor": 5
}
