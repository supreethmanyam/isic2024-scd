{
 "cells": [
  {
   "cell_type": "code",
   "execution_count": 1,
   "id": "f4eb1c34",
   "metadata": {
    "_cell_guid": "a30e467f-ec41-4133-b8d4-e794f559da50",
    "_uuid": "c0ebb1a4-b5f7-4a24-864f-eb38f15fed58",
    "collapsed": false,
    "execution": {
     "iopub.execute_input": "2024-07-13T08:16:50.067264Z",
     "iopub.status.busy": "2024-07-13T08:16:50.066758Z",
     "iopub.status.idle": "2024-07-13T08:16:58.238062Z",
     "shell.execute_reply": "2024-07-13T08:16:58.236836Z"
    },
    "jupyter": {
     "outputs_hidden": false
    },
    "papermill": {
     "duration": 8.182652,
     "end_time": "2024-07-13T08:16:58.240857",
     "exception": false,
     "start_time": "2024-07-13T08:16:50.058205",
     "status": "completed"
    },
    "tags": []
   },
   "outputs": [],
   "source": [
    "import json\n",
    "import joblib\n",
    "\n",
    "from pathlib import Path\n",
    "\n",
    "import pandas as pd\n",
    "import numpy as np\n",
    "\n",
    "import lightgbm as lgb\n",
    "\n",
    "from isic_helper import DotDict, get_folds"
   ]
  },
  {
   "cell_type": "code",
   "execution_count": 2,
   "id": "a3efb630",
   "metadata": {
    "execution": {
     "iopub.execute_input": "2024-07-13T08:16:58.255963Z",
     "iopub.status.busy": "2024-07-13T08:16:58.254831Z",
     "iopub.status.idle": "2024-07-13T08:16:58.260501Z",
     "shell.execute_reply": "2024-07-13T08:16:58.259345Z"
    },
    "papermill": {
     "duration": 0.01571,
     "end_time": "2024-07-13T08:16:58.263044",
     "exception": false,
     "start_time": "2024-07-13T08:16:58.247334",
     "status": "completed"
    },
    "tags": []
   },
   "outputs": [],
   "source": [
    "cfg = DotDict()\n",
    "\n",
    "cfg.models_output_dir = \"models\"\n",
    "cfg.model_name = \"lgb_v1\""
   ]
  },
  {
   "cell_type": "code",
   "execution_count": 3,
   "id": "d483fd3e",
   "metadata": {
    "execution": {
     "iopub.execute_input": "2024-07-13T08:16:58.277385Z",
     "iopub.status.busy": "2024-07-13T08:16:58.276984Z",
     "iopub.status.idle": "2024-07-13T08:17:10.485749Z",
     "shell.execute_reply": "2024-07-13T08:17:10.484422Z"
    },
    "papermill": {
     "duration": 12.220186,
     "end_time": "2024-07-13T08:17:10.489536",
     "exception": false,
     "start_time": "2024-07-13T08:16:58.269350",
     "status": "completed"
    },
    "tags": []
   },
   "outputs": [
    {
     "name": "stdout",
     "output_type": "stream",
     "text": [
      "Train data size: (401059, 57)\n",
      "Test data size: (3, 44)\n"
     ]
    }
   ],
   "source": [
    "INPUT_PATH = Path(\"../input/isic-2024-challenge/\")\n",
    "ARTIFACTS_INPUT_PATH = Path(f\"../input/isic-scd-lgb-train/\")\n",
    "MODELS_INPUT_PATH = ARTIFACTS_INPUT_PATH / cfg.models_output_dir\n",
    "\n",
    "train_metadata = pd.read_csv(INPUT_PATH / \"train-metadata.csv\", low_memory=False)\n",
    "test_metadata = pd.read_csv(INPUT_PATH / \"test-metadata.csv\", low_memory=False)\n",
    "\n",
    "folds_df = get_folds()\n",
    "train_metadata = train_metadata.merge(folds_df, on=[\"isic_id\", \"patient_id\"], how=\"inner\")\n",
    "print(f\"Train data size: {train_metadata.shape}\")\n",
    "print(f\"Test data size: {test_metadata.shape}\")"
   ]
  },
  {
   "cell_type": "code",
   "execution_count": 4,
   "id": "6dee8050",
   "metadata": {
    "execution": {
     "iopub.execute_input": "2024-07-13T08:17:10.504143Z",
     "iopub.status.busy": "2024-07-13T08:17:10.503724Z",
     "iopub.status.idle": "2024-07-13T08:17:10.512518Z",
     "shell.execute_reply": "2024-07-13T08:17:10.511387Z"
    },
    "papermill": {
     "duration": 0.019448,
     "end_time": "2024-07-13T08:17:10.515535",
     "exception": false,
     "start_time": "2024-07-13T08:17:10.496087",
     "status": "completed"
    },
    "tags": []
   },
   "outputs": [],
   "source": [
    "with open(ARTIFACTS_INPUT_PATH / \"run_metadata.json\", \"r\") as f:\n",
    "    run_metadata = json.load(f)"
   ]
  },
  {
   "cell_type": "code",
   "execution_count": 5,
   "id": "a4c6bb98",
   "metadata": {
    "execution": {
     "iopub.execute_input": "2024-07-13T08:17:10.530684Z",
     "iopub.status.busy": "2024-07-13T08:17:10.530246Z",
     "iopub.status.idle": "2024-07-13T08:17:11.157047Z",
     "shell.execute_reply": "2024-07-13T08:17:11.155821Z"
    },
    "papermill": {
     "duration": 0.637994,
     "end_time": "2024-07-13T08:17:11.160184",
     "exception": false,
     "start_time": "2024-07-13T08:17:10.522190",
     "status": "completed"
    },
    "tags": []
   },
   "outputs": [],
   "source": [
    "def feature_engineering(df):\n",
    "    df[\"lesion_size_ratio\"]              = df[\"tbp_lv_minorAxisMM\"] / df[\"clin_size_long_diam_mm\"]\n",
    "    df[\"hue_contrast\"]                   = (df[\"tbp_lv_H\"] - df[\"tbp_lv_Hext\"]).abs()\n",
    "    df[\"normalized_lesion_size\"]         = df[\"clin_size_long_diam_mm\"] / df[\"age_approx\"]\n",
    "    df[\"overall_color_difference\"]       = (df[\"tbp_lv_deltaA\"] + df[\"tbp_lv_deltaB\"] + df[\"tbp_lv_deltaL\"]) / 3\n",
    "    \n",
    "    patient_num_images = df.groupby(\"patient_id\", as_index=False)[\"isic_id\"].count().rename(columns={\"isic_id\": \"num_images\"})\n",
    "    df = df.merge(patient_num_images, on=\"patient_id\", how=\"left\")\n",
    "\n",
    "    new_num_cols = [\n",
    "        \"num_images\",\n",
    "        \"lesion_size_ratio\",\n",
    "        \"normalized_lesion_size\", \n",
    "        \"overall_color_difference\"\n",
    "    ]\n",
    "    \n",
    "    new_cat_cols = []\n",
    "    \n",
    "    return df, new_num_cols, new_cat_cols\n",
    "\n",
    "train_metadata, _, _ = feature_engineering(train_metadata.copy())\n",
    "test_metadata, _, _ = feature_engineering(test_metadata.copy())"
   ]
  },
  {
   "cell_type": "code",
   "execution_count": 6,
   "id": "1a1ba112",
   "metadata": {
    "execution": {
     "iopub.execute_input": "2024-07-13T08:17:11.174807Z",
     "iopub.status.busy": "2024-07-13T08:17:11.174371Z",
     "iopub.status.idle": "2024-07-13T08:17:11.180448Z",
     "shell.execute_reply": "2024-07-13T08:17:11.179215Z"
    },
    "papermill": {
     "duration": 0.016555,
     "end_time": "2024-07-13T08:17:11.183183",
     "exception": false,
     "start_time": "2024-07-13T08:17:11.166628",
     "status": "completed"
    },
    "tags": []
   },
   "outputs": [],
   "source": [
    "id_column = \"isic_id\"\n",
    "target_column = \"target\"\n",
    "folds = train_metadata[\"fold\"]"
   ]
  },
  {
   "cell_type": "code",
   "execution_count": 7,
   "id": "8dcb60a5",
   "metadata": {
    "execution": {
     "iopub.execute_input": "2024-07-13T08:17:11.199102Z",
     "iopub.status.busy": "2024-07-13T08:17:11.198658Z",
     "iopub.status.idle": "2024-07-13T08:17:11.221839Z",
     "shell.execute_reply": "2024-07-13T08:17:11.220555Z"
    },
    "papermill": {
     "duration": 0.034789,
     "end_time": "2024-07-13T08:17:11.225045",
     "exception": false,
     "start_time": "2024-07-13T08:17:11.190256",
     "status": "completed"
    },
    "tags": []
   },
   "outputs": [],
   "source": [
    "with open(ARTIFACTS_INPUT_PATH / \"encoder.joblib\", \"rb\") as f:\n",
    "    mixed_encoded_preprocessor = joblib.load(f)"
   ]
  },
  {
   "cell_type": "code",
   "execution_count": 8,
   "id": "e8bbb43d",
   "metadata": {
    "execution": {
     "iopub.execute_input": "2024-07-13T08:17:11.239873Z",
     "iopub.status.busy": "2024-07-13T08:17:11.239458Z",
     "iopub.status.idle": "2024-07-13T08:17:12.235425Z",
     "shell.execute_reply": "2024-07-13T08:17:12.234015Z"
    },
    "papermill": {
     "duration": 1.006968,
     "end_time": "2024-07-13T08:17:12.238500",
     "exception": false,
     "start_time": "2024-07-13T08:17:11.231532",
     "status": "completed"
    },
    "tags": []
   },
   "outputs": [],
   "source": [
    "enc = mixed_encoded_preprocessor.fit(train_metadata)\n",
    "X_test = enc.transform(test_metadata)"
   ]
  },
  {
   "cell_type": "code",
   "execution_count": 9,
   "id": "fa3e5e4e",
   "metadata": {
    "execution": {
     "iopub.execute_input": "2024-07-13T08:17:12.253675Z",
     "iopub.status.busy": "2024-07-13T08:17:12.253249Z",
     "iopub.status.idle": "2024-07-13T08:17:12.259446Z",
     "shell.execute_reply": "2024-07-13T08:17:12.258240Z"
    },
    "papermill": {
     "duration": 0.017962,
     "end_time": "2024-07-13T08:17:12.263021",
     "exception": false,
     "start_time": "2024-07-13T08:17:12.245059",
     "status": "completed"
    },
    "tags": []
   },
   "outputs": [
    {
     "name": "stdout",
     "output_type": "stream",
     "text": [
      "Total number of columns: 41\n"
     ]
    }
   ],
   "source": [
    "columns_for_model = len(X_test.columns)\n",
    "print(f\"Total number of columns: {columns_for_model}\")"
   ]
  },
  {
   "cell_type": "code",
   "execution_count": 10,
   "id": "12e1bc0e",
   "metadata": {
    "execution": {
     "iopub.execute_input": "2024-07-13T08:17:12.277715Z",
     "iopub.status.busy": "2024-07-13T08:17:12.277314Z",
     "iopub.status.idle": "2024-07-13T08:17:12.775744Z",
     "shell.execute_reply": "2024-07-13T08:17:12.774450Z"
    },
    "papermill": {
     "duration": 0.509276,
     "end_time": "2024-07-13T08:17:12.778834",
     "exception": false,
     "start_time": "2024-07-13T08:17:12.269558",
     "status": "completed"
    },
    "tags": []
   },
   "outputs": [],
   "source": [
    "all_folds = np.sort(folds.unique())\n",
    "test_predictions_df = pd.DataFrame({id_column: test_metadata[id_column]})\n",
    "for fold in all_folds:\n",
    "    model = lgb.Booster(model_file=MODELS_INPUT_PATH / f\"{cfg.model_name}_fold_{fold}.txt\")\n",
    "    test_predictions_df[f\"fold_{fold}\"] = model.predict(X_test, num_iteration=run_metadata[\"best_num_rounds\"][f\"fold_{fold}\"])"
   ]
  },
  {
   "cell_type": "code",
   "execution_count": 11,
   "id": "2001d363",
   "metadata": {
    "execution": {
     "iopub.execute_input": "2024-07-13T08:17:12.793865Z",
     "iopub.status.busy": "2024-07-13T08:17:12.793436Z",
     "iopub.status.idle": "2024-07-13T08:17:12.816355Z",
     "shell.execute_reply": "2024-07-13T08:17:12.814976Z"
    },
    "papermill": {
     "duration": 0.033535,
     "end_time": "2024-07-13T08:17:12.819009",
     "exception": false,
     "start_time": "2024-07-13T08:17:12.785474",
     "status": "completed"
    },
    "tags": []
   },
   "outputs": [
    {
     "data": {
      "text/html": [
       "<div>\n",
       "<style scoped>\n",
       "    .dataframe tbody tr th:only-of-type {\n",
       "        vertical-align: middle;\n",
       "    }\n",
       "\n",
       "    .dataframe tbody tr th {\n",
       "        vertical-align: top;\n",
       "    }\n",
       "\n",
       "    .dataframe thead th {\n",
       "        text-align: right;\n",
       "    }\n",
       "</style>\n",
       "<table border=\"1\" class=\"dataframe\">\n",
       "  <thead>\n",
       "    <tr style=\"text-align: right;\">\n",
       "      <th></th>\n",
       "      <th>isic_id</th>\n",
       "      <th>fold_1</th>\n",
       "      <th>fold_2</th>\n",
       "      <th>fold_3</th>\n",
       "      <th>fold_4</th>\n",
       "      <th>fold_5</th>\n",
       "    </tr>\n",
       "  </thead>\n",
       "  <tbody>\n",
       "    <tr>\n",
       "      <th>0</th>\n",
       "      <td>ISIC_0015657</td>\n",
       "      <td>0.000070</td>\n",
       "      <td>0.000058</td>\n",
       "      <td>0.000775</td>\n",
       "      <td>0.000007</td>\n",
       "      <td>0.000159</td>\n",
       "    </tr>\n",
       "    <tr>\n",
       "      <th>1</th>\n",
       "      <td>ISIC_0015729</td>\n",
       "      <td>0.000045</td>\n",
       "      <td>0.000031</td>\n",
       "      <td>0.000780</td>\n",
       "      <td>0.000013</td>\n",
       "      <td>0.000134</td>\n",
       "    </tr>\n",
       "    <tr>\n",
       "      <th>2</th>\n",
       "      <td>ISIC_0015740</td>\n",
       "      <td>0.000135</td>\n",
       "      <td>0.000104</td>\n",
       "      <td>0.000750</td>\n",
       "      <td>0.000056</td>\n",
       "      <td>0.000270</td>\n",
       "    </tr>\n",
       "  </tbody>\n",
       "</table>\n",
       "</div>"
      ],
      "text/plain": [
       "        isic_id    fold_1    fold_2    fold_3    fold_4    fold_5\n",
       "0  ISIC_0015657  0.000070  0.000058  0.000775  0.000007  0.000159\n",
       "1  ISIC_0015729  0.000045  0.000031  0.000780  0.000013  0.000134\n",
       "2  ISIC_0015740  0.000135  0.000104  0.000750  0.000056  0.000270"
      ]
     },
     "execution_count": 11,
     "metadata": {},
     "output_type": "execute_result"
    }
   ],
   "source": [
    "test_predictions_df.head()"
   ]
  },
  {
   "cell_type": "code",
   "execution_count": 12,
   "id": "9fdf7399",
   "metadata": {
    "execution": {
     "iopub.execute_input": "2024-07-13T08:17:12.834279Z",
     "iopub.status.busy": "2024-07-13T08:17:12.833827Z",
     "iopub.status.idle": "2024-07-13T08:17:12.844444Z",
     "shell.execute_reply": "2024-07-13T08:17:12.843280Z"
    },
    "papermill": {
     "duration": 0.021388,
     "end_time": "2024-07-13T08:17:12.847143",
     "exception": false,
     "start_time": "2024-07-13T08:17:12.825755",
     "status": "completed"
    },
    "tags": []
   },
   "outputs": [],
   "source": [
    "test_predictions_df[target_column] = test_predictions_df[[f\"fold_{fold}\" for fold in all_folds]].mean(axis=1)"
   ]
  },
  {
   "cell_type": "code",
   "execution_count": 13,
   "id": "0ff21a84",
   "metadata": {
    "execution": {
     "iopub.execute_input": "2024-07-13T08:17:12.863543Z",
     "iopub.status.busy": "2024-07-13T08:17:12.863094Z",
     "iopub.status.idle": "2024-07-13T08:17:12.878989Z",
     "shell.execute_reply": "2024-07-13T08:17:12.877774Z"
    },
    "papermill": {
     "duration": 0.027453,
     "end_time": "2024-07-13T08:17:12.881756",
     "exception": false,
     "start_time": "2024-07-13T08:17:12.854303",
     "status": "completed"
    },
    "tags": []
   },
   "outputs": [
    {
     "data": {
      "text/html": [
       "<div>\n",
       "<style scoped>\n",
       "    .dataframe tbody tr th:only-of-type {\n",
       "        vertical-align: middle;\n",
       "    }\n",
       "\n",
       "    .dataframe tbody tr th {\n",
       "        vertical-align: top;\n",
       "    }\n",
       "\n",
       "    .dataframe thead th {\n",
       "        text-align: right;\n",
       "    }\n",
       "</style>\n",
       "<table border=\"1\" class=\"dataframe\">\n",
       "  <thead>\n",
       "    <tr style=\"text-align: right;\">\n",
       "      <th></th>\n",
       "      <th>isic_id</th>\n",
       "      <th>fold_1</th>\n",
       "      <th>fold_2</th>\n",
       "      <th>fold_3</th>\n",
       "      <th>fold_4</th>\n",
       "      <th>fold_5</th>\n",
       "      <th>target</th>\n",
       "    </tr>\n",
       "  </thead>\n",
       "  <tbody>\n",
       "    <tr>\n",
       "      <th>0</th>\n",
       "      <td>ISIC_0015657</td>\n",
       "      <td>0.000070</td>\n",
       "      <td>0.000058</td>\n",
       "      <td>0.000775</td>\n",
       "      <td>0.000007</td>\n",
       "      <td>0.000159</td>\n",
       "      <td>0.000214</td>\n",
       "    </tr>\n",
       "    <tr>\n",
       "      <th>1</th>\n",
       "      <td>ISIC_0015729</td>\n",
       "      <td>0.000045</td>\n",
       "      <td>0.000031</td>\n",
       "      <td>0.000780</td>\n",
       "      <td>0.000013</td>\n",
       "      <td>0.000134</td>\n",
       "      <td>0.000201</td>\n",
       "    </tr>\n",
       "    <tr>\n",
       "      <th>2</th>\n",
       "      <td>ISIC_0015740</td>\n",
       "      <td>0.000135</td>\n",
       "      <td>0.000104</td>\n",
       "      <td>0.000750</td>\n",
       "      <td>0.000056</td>\n",
       "      <td>0.000270</td>\n",
       "      <td>0.000263</td>\n",
       "    </tr>\n",
       "  </tbody>\n",
       "</table>\n",
       "</div>"
      ],
      "text/plain": [
       "        isic_id    fold_1    fold_2    fold_3    fold_4    fold_5    target\n",
       "0  ISIC_0015657  0.000070  0.000058  0.000775  0.000007  0.000159  0.000214\n",
       "1  ISIC_0015729  0.000045  0.000031  0.000780  0.000013  0.000134  0.000201\n",
       "2  ISIC_0015740  0.000135  0.000104  0.000750  0.000056  0.000270  0.000263"
      ]
     },
     "execution_count": 13,
     "metadata": {},
     "output_type": "execute_result"
    }
   ],
   "source": [
    "test_predictions_df.head()"
   ]
  },
  {
   "cell_type": "code",
   "execution_count": 14,
   "id": "6453db2c",
   "metadata": {
    "execution": {
     "iopub.execute_input": "2024-07-13T08:17:12.897986Z",
     "iopub.status.busy": "2024-07-13T08:17:12.897419Z",
     "iopub.status.idle": "2024-07-13T08:17:12.914120Z",
     "shell.execute_reply": "2024-07-13T08:17:12.912797Z"
    },
    "papermill": {
     "duration": 0.028026,
     "end_time": "2024-07-13T08:17:12.916756",
     "exception": false,
     "start_time": "2024-07-13T08:17:12.888730",
     "status": "completed"
    },
    "tags": []
   },
   "outputs": [
    {
     "data": {
      "text/plain": [
       "count    3.000000\n",
       "mean     0.000226\n",
       "std      0.000033\n",
       "min      0.000201\n",
       "25%      0.000207\n",
       "50%      0.000214\n",
       "75%      0.000238\n",
       "max      0.000263\n",
       "Name: target, dtype: float64"
      ]
     },
     "execution_count": 14,
     "metadata": {},
     "output_type": "execute_result"
    }
   ],
   "source": [
    "test_predictions_df[target_column].describe()"
   ]
  },
  {
   "cell_type": "code",
   "execution_count": 15,
   "id": "322ec570",
   "metadata": {
    "execution": {
     "iopub.execute_input": "2024-07-13T08:17:12.934026Z",
     "iopub.status.busy": "2024-07-13T08:17:12.932901Z",
     "iopub.status.idle": "2024-07-13T08:17:12.945472Z",
     "shell.execute_reply": "2024-07-13T08:17:12.944303Z"
    },
    "papermill": {
     "duration": 0.024315,
     "end_time": "2024-07-13T08:17:12.948146",
     "exception": false,
     "start_time": "2024-07-13T08:17:12.923831",
     "status": "completed"
    },
    "tags": []
   },
   "outputs": [
    {
     "data": {
      "text/html": [
       "<div>\n",
       "<style scoped>\n",
       "    .dataframe tbody tr th:only-of-type {\n",
       "        vertical-align: middle;\n",
       "    }\n",
       "\n",
       "    .dataframe tbody tr th {\n",
       "        vertical-align: top;\n",
       "    }\n",
       "\n",
       "    .dataframe thead th {\n",
       "        text-align: right;\n",
       "    }\n",
       "</style>\n",
       "<table border=\"1\" class=\"dataframe\">\n",
       "  <thead>\n",
       "    <tr style=\"text-align: right;\">\n",
       "      <th></th>\n",
       "      <th>isic_id</th>\n",
       "      <th>target</th>\n",
       "    </tr>\n",
       "  </thead>\n",
       "  <tbody>\n",
       "    <tr>\n",
       "      <th>0</th>\n",
       "      <td>ISIC_0015657</td>\n",
       "      <td>0.000214</td>\n",
       "    </tr>\n",
       "    <tr>\n",
       "      <th>1</th>\n",
       "      <td>ISIC_0015729</td>\n",
       "      <td>0.000201</td>\n",
       "    </tr>\n",
       "    <tr>\n",
       "      <th>2</th>\n",
       "      <td>ISIC_0015740</td>\n",
       "      <td>0.000263</td>\n",
       "    </tr>\n",
       "  </tbody>\n",
       "</table>\n",
       "</div>"
      ],
      "text/plain": [
       "        isic_id    target\n",
       "0  ISIC_0015657  0.000214\n",
       "1  ISIC_0015729  0.000201\n",
       "2  ISIC_0015740  0.000263"
      ]
     },
     "execution_count": 15,
     "metadata": {},
     "output_type": "execute_result"
    }
   ],
   "source": [
    "test_predictions_df[[id_column, target_column]].head(10)"
   ]
  },
  {
   "cell_type": "code",
   "execution_count": 16,
   "id": "02f2e172",
   "metadata": {
    "execution": {
     "iopub.execute_input": "2024-07-13T08:17:12.964462Z",
     "iopub.status.busy": "2024-07-13T08:17:12.964041Z",
     "iopub.status.idle": "2024-07-13T08:17:12.974233Z",
     "shell.execute_reply": "2024-07-13T08:17:12.972965Z"
    },
    "papermill": {
     "duration": 0.021812,
     "end_time": "2024-07-13T08:17:12.977291",
     "exception": false,
     "start_time": "2024-07-13T08:17:12.955479",
     "status": "completed"
    },
    "tags": []
   },
   "outputs": [],
   "source": [
    "test_predictions_df[[id_column, target_column]].to_csv(\"submission.csv\", index=False)"
   ]
  }
 ],
 "metadata": {
  "kaggle": {
   "accelerator": "none",
   "dataSources": [
    {
     "databundleVersionId": 9094797,
     "sourceId": 63056,
     "sourceType": "competition"
    },
    {
     "sourceId": 187439867,
     "sourceType": "kernelVersion"
    },
    {
     "sourceId": 187477024,
     "sourceType": "kernelVersion"
    },
    {
     "sourceId": 188057947,
     "sourceType": "kernelVersion"
    }
   ],
   "dockerImageVersionId": 30732,
   "isGpuEnabled": false,
   "isInternetEnabled": false,
   "language": "python",
   "sourceType": "notebook"
  },
  "kernelspec": {
   "display_name": "Python 3",
   "language": "python",
   "name": "python3"
  },
  "language_info": {
   "codemirror_mode": {
    "name": "ipython",
    "version": 3
   },
   "file_extension": ".py",
   "mimetype": "text/x-python",
   "name": "python",
   "nbconvert_exporter": "python",
   "pygments_lexer": "ipython3",
   "version": "3.10.13"
  },
  "papermill": {
   "default_parameters": {},
   "duration": 27.594892,
   "end_time": "2024-07-13T08:17:14.311071",
   "environment_variables": {},
   "exception": null,
   "input_path": "__notebook__.ipynb",
   "output_path": "__notebook__.ipynb",
   "parameters": {},
   "start_time": "2024-07-13T08:16:46.716179",
   "version": "2.5.0"
  }
 },
 "nbformat": 4,
 "nbformat_minor": 5
}
