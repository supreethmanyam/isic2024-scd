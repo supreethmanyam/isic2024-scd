{
 "cells": [
  {
   "cell_type": "code",
   "execution_count": 1,
   "id": "2e490b34",
   "metadata": {
    "_cell_guid": "b1076dfc-b9ad-4769-8c92-a6c4dae69d19",
    "_uuid": "8f2839f25d086af736a60e9eeb907d3b93b6e0e5",
    "execution": {
     "iopub.execute_input": "2024-08-11T20:44:32.540026Z",
     "iopub.status.busy": "2024-08-11T20:44:32.539557Z",
     "iopub.status.idle": "2024-08-11T20:44:42.574327Z",
     "shell.execute_reply": "2024-08-11T20:44:42.572971Z"
    },
    "papermill": {
     "duration": 10.045925,
     "end_time": "2024-08-11T20:44:42.577512",
     "exception": false,
     "start_time": "2024-08-11T20:44:32.531587",
     "status": "completed"
    },
    "tags": []
   },
   "outputs": [],
   "source": [
    "import json\n",
    "import joblib\n",
    "from pprint import pprint\n",
    "from pathlib import Path\n",
    "\n",
    "import numpy as np\n",
    "import pandas as pd\n",
    "import polars as pl\n",
    "\n",
    "from sklearn.model_selection import StratifiedGroupKFold, GroupKFold\n",
    "from sklearn.model_selection import cross_val_score\n",
    "from sklearn.preprocessing import OneHotEncoder\n",
    "from sklearn.ensemble import VotingClassifier\n",
    "\n",
    "from imblearn.under_sampling import RandomUnderSampler\n",
    "from imblearn.pipeline import Pipeline\n",
    "\n",
    "import lightgbm as lgb\n",
    "import catboost as cb\n",
    "import xgboost as xgb\n",
    "\n",
    "from isic_helper import get_folds, compute_auc, compute_pauc, DotDict"
   ]
  },
  {
   "cell_type": "code",
   "execution_count": 2,
   "id": "b0cc6af5",
   "metadata": {
    "execution": {
     "iopub.execute_input": "2024-08-11T20:44:42.591589Z",
     "iopub.status.busy": "2024-08-11T20:44:42.590934Z",
     "iopub.status.idle": "2024-08-11T20:44:42.597262Z",
     "shell.execute_reply": "2024-08-11T20:44:42.596005Z"
    },
    "papermill": {
     "duration": 0.015912,
     "end_time": "2024-08-11T20:44:42.599736",
     "exception": false,
     "start_time": "2024-08-11T20:44:42.583824",
     "status": "completed"
    },
    "tags": []
   },
   "outputs": [],
   "source": [
    "cfg = DotDict()\n",
    "cfg.seed = 2022\n",
    "\n",
    "cfg.models_output_dir = \"models\"\n",
    "cfg.model_name = \"boosting_v1\"\n",
    "\n",
    "cfg.sampling_ratio = 0.01"
   ]
  },
  {
   "cell_type": "code",
   "execution_count": 3,
   "id": "c1a97da5",
   "metadata": {
    "execution": {
     "iopub.execute_input": "2024-08-11T20:44:42.613686Z",
     "iopub.status.busy": "2024-08-11T20:44:42.613197Z",
     "iopub.status.idle": "2024-08-11T20:44:42.633762Z",
     "shell.execute_reply": "2024-08-11T20:44:42.632248Z"
    },
    "papermill": {
     "duration": 0.031323,
     "end_time": "2024-08-11T20:44:42.636748",
     "exception": false,
     "start_time": "2024-08-11T20:44:42.605425",
     "status": "completed"
    },
    "tags": []
   },
   "outputs": [],
   "source": [
    "INPUT_PATH = Path(\"/kaggle/input/isic-2024-challenge/\")\n",
    "MODELS_OUTPUT_PATH = Path(f\"{cfg.models_output_dir}\")\n",
    "MODELS_OUTPUT_PATH.mkdir(exist_ok=True)\n",
    "\n",
    "id_column = 'isic_id'\n",
    "target_column = 'target'\n",
    "group_column = 'patient_id'\n",
    "\n",
    "num_cols = [\n",
    "    'age_approx',                        # Approximate age of patient at time of imaging.\n",
    "    'clin_size_long_diam_mm',            # Maximum diameter of the lesion (mm).+\n",
    "    'tbp_lv_A',                          # A inside  lesion.+\n",
    "    'tbp_lv_Aext',                       # A outside lesion.+\n",
    "    'tbp_lv_B',                          # B inside  lesion.+\n",
    "    'tbp_lv_Bext',                       # B outside lesion.+ \n",
    "    'tbp_lv_C',                          # Chroma inside  lesion.+\n",
    "    'tbp_lv_Cext',                       # Chroma outside lesion.+\n",
    "    'tbp_lv_H',                          # Hue inside the lesion; calculated as the angle of A* and B* in LAB* color space. Typical values range from 25 (red) to 75 (brown).+\n",
    "    'tbp_lv_Hext',                       # Hue outside lesion.+\n",
    "    'tbp_lv_L',                          # L inside lesion.+\n",
    "    'tbp_lv_Lext',                       # L outside lesion.+\n",
    "    'tbp_lv_areaMM2',                    # Area of lesion (mm^2).+\n",
    "    'tbp_lv_area_perim_ratio',           # Border jaggedness, the ratio between lesions perimeter and area. Circular lesions will have low values; irregular shaped lesions will have higher values. Values range 0-10.+\n",
    "    'tbp_lv_color_std_mean',             # Color irregularity, calculated as the variance of colors within the lesion's boundary.\n",
    "    'tbp_lv_deltaA',                     # Average A contrast (inside vs. outside lesion).+\n",
    "    'tbp_lv_deltaB',                     # Average B contrast (inside vs. outside lesion).+\n",
    "    'tbp_lv_deltaL',                     # Average L contrast (inside vs. outside lesion).+\n",
    "    'tbp_lv_deltaLB',                    #\n",
    "    'tbp_lv_deltaLBnorm',                # Contrast between the lesion and its immediate surrounding skin. Low contrast lesions tend to be faintly visible such as freckles; high contrast lesions tend to be those with darker pigment. Calculated as the average delta LB of the lesion relative to its immediate background in LAB* color space. Typical values range from 5.5 to 25.+\n",
    "    'tbp_lv_eccentricity',               # Eccentricity.+\n",
    "    'tbp_lv_minorAxisMM',                # Smallest lesion diameter (mm).+\n",
    "    'tbp_lv_nevi_confidence',            # Nevus confidence score (0-100 scale) is a convolutional neural network classifier estimated probability that the lesion is a nevus. The neural network was trained on approximately 57,000 lesions that were classified and labeled by a dermatologist.+,++\n",
    "    'tbp_lv_norm_border',                # Border irregularity (0-10 scale); the normalized average of border jaggedness and asymmetry.+\n",
    "    'tbp_lv_norm_color',                 # Color variation (0-10 scale); the normalized average of color asymmetry and color irregularity.+\n",
    "    'tbp_lv_perimeterMM',                # Perimeter of lesion (mm).+\n",
    "    'tbp_lv_radial_color_std_max',       # Color asymmetry, a measure of asymmetry of the spatial distribution of color within the lesion. This score is calculated by looking at the average standard deviation in LAB* color space within concentric rings originating from the lesion center. Values range 0-10.+\n",
    "    'tbp_lv_stdL',                       # Standard deviation of L inside  lesion.+\n",
    "    'tbp_lv_stdLExt',                    # Standard deviation of L outside lesion.+\n",
    "    'tbp_lv_symm_2axis',                 # Border asymmetry; a measure of asymmetry of the lesion's contour about an axis perpendicular to the lesion's most symmetric axis. Lesions with two axes of symmetry will therefore have low scores (more symmetric), while lesions with only one or zero axes of symmetry will have higher scores (less symmetric). This score is calculated by comparing opposite halves of the lesion contour over many degrees of rotation. The angle where the halves are most similar identifies the principal axis of symmetry, while the second axis of symmetry is perpendicular to the principal axis. Border asymmetry is reported as the asymmetry value about this second axis. Values range 0-10.+\n",
    "    'tbp_lv_symm_2axis_angle',           # Lesion border asymmetry angle.+\n",
    "    'tbp_lv_x',                          # X-coordinate of the lesion on 3D TBP.+\n",
    "    'tbp_lv_y',                          # Y-coordinate of the lesion on 3D TBP.+\n",
    "    'tbp_lv_z',                          # Z-coordinate of the lesion on 3D TBP.+\n",
    "]\n",
    "\n",
    "new_num_cols = [\n",
    "    'lesion_size_ratio',             # tbp_lv_minorAxisMM      / clin_size_long_diam_mm\n",
    "    'lesion_shape_index',            # tbp_lv_areaMM2          / tbp_lv_perimeterMM **2\n",
    "    'hue_contrast',                  # tbp_lv_H                - tbp_lv_Hext              abs\n",
    "    'luminance_contrast',            # tbp_lv_L                - tbp_lv_Lext              abs\n",
    "    'lesion_color_difference',       # tbp_lv_deltaA **2       + tbp_lv_deltaB **2 + tbp_lv_deltaL **2  sqrt  \n",
    "    'border_complexity',             # tbp_lv_norm_border      + tbp_lv_symm_2axis\n",
    "    'color_uniformity',              # tbp_lv_color_std_mean   / tbp_lv_radial_color_std_max\n",
    "\n",
    "    'position_distance_3d',          # tbp_lv_x **2 + tbp_lv_y **2 + tbp_lv_z **2  sqrt\n",
    "    'perimeter_to_area_ratio',       # tbp_lv_perimeterMM      / tbp_lv_areaMM2\n",
    "    'area_to_perimeter_ratio',       # tbp_lv_areaMM2          / tbp_lv_perimeterMM\n",
    "    'lesion_visibility_score',       # tbp_lv_deltaLBnorm      + tbp_lv_norm_color\n",
    "    'symmetry_border_consistency',   # tbp_lv_symm_2axis       * tbp_lv_norm_border\n",
    "    'consistency_symmetry_border',   # tbp_lv_symm_2axis       * tbp_lv_norm_border / (tbp_lv_symm_2axis + tbp_lv_norm_border)\n",
    "\n",
    "    'color_consistency',             # tbp_lv_stdL             / tbp_lv_Lext\n",
    "    'consistency_color',             # tbp_lv_stdL*tbp_lv_Lext / tbp_lv_stdL + tbp_lv_Lext\n",
    "    'size_age_interaction',          # clin_size_long_diam_mm  * age_approx\n",
    "    'hue_color_std_interaction',     # tbp_lv_H                * tbp_lv_color_std_mean\n",
    "    'lesion_severity_index',         # tbp_lv_norm_border      + tbp_lv_norm_color + tbp_lv_eccentricity / 3\n",
    "    'shape_complexity_index',        # border_complexity       + lesion_shape_index\n",
    "    'color_contrast_index',          # tbp_lv_deltaA + tbp_lv_deltaB + tbp_lv_deltaL + tbp_lv_deltaLBnorm\n",
    "\n",
    "    'log_lesion_area',               # tbp_lv_areaMM2          + 1  np.log\n",
    "    'normalized_lesion_size',        # clin_size_long_diam_mm  / age_approx\n",
    "    'mean_hue_difference',           # tbp_lv_H                + tbp_lv_Hext    / 2\n",
    "    'std_dev_contrast',              # tbp_lv_deltaA **2 + tbp_lv_deltaB **2 + tbp_lv_deltaL **2   / 3  np.sqrt\n",
    "    'color_shape_composite_index',   # tbp_lv_color_std_mean   + bp_lv_area_perim_ratio + tbp_lv_symm_2axis   / 3\n",
    "    'lesion_orientation_3d',         # tbp_lv_y                , tbp_lv_x  np.arctan2\n",
    "    'overall_color_difference',      # tbp_lv_deltaA           + tbp_lv_deltaB + tbp_lv_deltaL   / 3\n",
    "\n",
    "    'symmetry_perimeter_interaction',# tbp_lv_symm_2axis       * tbp_lv_perimeterMM\n",
    "    'comprehensive_lesion_index',    # tbp_lv_area_perim_ratio + tbp_lv_eccentricity + bp_lv_norm_color + tbp_lv_symm_2axis   / 4\n",
    "    'color_variance_ratio',          # tbp_lv_color_std_mean   / tbp_lv_stdLExt\n",
    "    'border_color_interaction',      # tbp_lv_norm_border      * tbp_lv_norm_color\n",
    "    'border_color_interaction_2',\n",
    "    'size_color_contrast_ratio',     # clin_size_long_diam_mm  / tbp_lv_deltaLBnorm\n",
    "    'age_normalized_nevi_confidence',# tbp_lv_nevi_confidence  / age_approx\n",
    "    'age_normalized_nevi_confidence_2',\n",
    "    'color_asymmetry_index',         # tbp_lv_symm_2axis       * tbp_lv_radial_color_std_max\n",
    "\n",
    "    'volume_approximation_3d',       # tbp_lv_areaMM2          * sqrt(tbp_lv_x**2 + tbp_lv_y**2 + tbp_lv_z**2)\n",
    "    'color_range',                   # abs(tbp_lv_L - tbp_lv_Lext) + abs(tbp_lv_A - tbp_lv_Aext) + abs(tbp_lv_B - tbp_lv_Bext)\n",
    "    'shape_color_consistency',       # tbp_lv_eccentricity     * tbp_lv_color_std_mean\n",
    "    'border_length_ratio',           # tbp_lv_perimeterMM      / pi * sqrt(tbp_lv_areaMM2 / pi)\n",
    "    'age_size_symmetry_index',       # age_approx              * clin_size_long_diam_mm * tbp_lv_symm_2axis\n",
    "    'index_age_size_symmetry',       # age_approx              * tbp_lv_areaMM2 * tbp_lv_symm_2axis\n",
    "]\n",
    "\n",
    "cat_cols = ['sex', 'anatom_site_general', 'tbp_tile_type', 'tbp_lv_location', 'tbp_lv_location_simple', 'attribution']\n",
    "norm_cols = [f'{col}_patient_norm' for col in num_cols + new_num_cols]\n",
    "special_cols = ['count_per_patient']\n",
    "feature_cols = num_cols + new_num_cols + cat_cols + norm_cols + special_cols"
   ]
  },
  {
   "cell_type": "code",
   "execution_count": 4,
   "id": "825ea937",
   "metadata": {
    "execution": {
     "iopub.execute_input": "2024-08-11T20:44:42.650377Z",
     "iopub.status.busy": "2024-08-11T20:44:42.649919Z",
     "iopub.status.idle": "2024-08-11T20:44:42.685301Z",
     "shell.execute_reply": "2024-08-11T20:44:42.683976Z"
    },
    "papermill": {
     "duration": 0.045599,
     "end_time": "2024-08-11T20:44:42.688095",
     "exception": false,
     "start_time": "2024-08-11T20:44:42.642496",
     "status": "completed"
    },
    "tags": []
   },
   "outputs": [],
   "source": [
    "def read_data(path, err=1e-5):\n",
    "    return (\n",
    "        pl.read_csv(path)\n",
    "        .with_columns(\n",
    "            pl.col('age_approx').cast(pl.String).replace('NA', np.nan).cast(pl.Float64),\n",
    "        )\n",
    "        .with_columns(\n",
    "            lesion_size_ratio = pl.col('tbp_lv_minorAxisMM') / pl.col('clin_size_long_diam_mm'),\n",
    "            lesion_shape_index = pl.col('tbp_lv_areaMM2') / (pl.col('tbp_lv_perimeterMM') ** 2),\n",
    "            hue_contrast = (pl.col('tbp_lv_H') - pl.col('tbp_lv_Hext')).abs(),\n",
    "            luminance_contrast = (pl.col('tbp_lv_L') - pl.col('tbp_lv_Lext')).abs(),\n",
    "            lesion_color_difference = (pl.col('tbp_lv_deltaA') ** 2 + pl.col('tbp_lv_deltaB') ** 2 + pl.col('tbp_lv_deltaL') ** 2).sqrt(),\n",
    "            border_complexity = pl.col('tbp_lv_norm_border') + pl.col('tbp_lv_symm_2axis'),\n",
    "            color_uniformity = pl.col('tbp_lv_color_std_mean') / (pl.col('tbp_lv_radial_color_std_max') + err),\n",
    "        )\n",
    "        .with_columns(\n",
    "            position_distance_3d = (pl.col('tbp_lv_x') ** 2 + pl.col('tbp_lv_y') ** 2 + pl.col('tbp_lv_z') ** 2).sqrt(),\n",
    "            perimeter_to_area_ratio = pl.col('tbp_lv_perimeterMM') / pl.col('tbp_lv_areaMM2'),\n",
    "            area_to_perimeter_ratio = pl.col('tbp_lv_areaMM2') / pl.col('tbp_lv_perimeterMM'),\n",
    "            lesion_visibility_score = pl.col('tbp_lv_deltaLBnorm') + pl.col('tbp_lv_norm_color'),\n",
    "            combined_anatomical_site = pl.col('anatom_site_general') + '_' + pl.col('tbp_lv_location'),\n",
    "            symmetry_border_consistency = pl.col('tbp_lv_symm_2axis') * pl.col('tbp_lv_norm_border'),\n",
    "            consistency_symmetry_border = pl.col('tbp_lv_symm_2axis') * pl.col('tbp_lv_norm_border') / (pl.col('tbp_lv_symm_2axis') + pl.col('tbp_lv_norm_border')),\n",
    "        )\n",
    "        .with_columns(\n",
    "            color_consistency              = pl.col('tbp_lv_stdL') / pl.col('tbp_lv_Lext'),\n",
    "            consistency_color              = pl.col('tbp_lv_stdL') * pl.col('tbp_lv_Lext') / (pl.col('tbp_lv_stdL') + pl.col('tbp_lv_Lext')),\n",
    "            size_age_interaction           = pl.col('clin_size_long_diam_mm') * pl.col('age_approx'),\n",
    "            hue_color_std_interaction      = pl.col('tbp_lv_H') * pl.col('tbp_lv_color_std_mean'),\n",
    "            lesion_severity_index          = (pl.col('tbp_lv_norm_border') + pl.col('tbp_lv_norm_color') + pl.col('tbp_lv_eccentricity')) / 3,\n",
    "            shape_complexity_index         = pl.col('border_complexity') + pl.col('lesion_shape_index'),\n",
    "            color_contrast_index           = pl.col('tbp_lv_deltaA') + pl.col('tbp_lv_deltaB') + pl.col('tbp_lv_deltaL') + pl.col('tbp_lv_deltaLBnorm'),\n",
    "        )\n",
    "        .with_columns(\n",
    "            log_lesion_area                = (pl.col('tbp_lv_areaMM2') + 1).log(),\n",
    "            normalized_lesion_size         = pl.col('clin_size_long_diam_mm') / pl.col('age_approx'),\n",
    "            mean_hue_difference            = (pl.col('tbp_lv_H') + pl.col('tbp_lv_Hext')) / 2,\n",
    "            std_dev_contrast               = ((pl.col('tbp_lv_deltaA') ** 2 + pl.col('tbp_lv_deltaB') ** 2 + pl.col('tbp_lv_deltaL') ** 2) / 3).sqrt(),\n",
    "            color_shape_composite_index    = (pl.col('tbp_lv_color_std_mean') + pl.col('tbp_lv_area_perim_ratio') + pl.col('tbp_lv_symm_2axis')) / 3,\n",
    "            lesion_orientation_3d          = pl.arctan2(pl.col('tbp_lv_y'), pl.col('tbp_lv_x')),\n",
    "            overall_color_difference       = (pl.col('tbp_lv_deltaA') + pl.col('tbp_lv_deltaB') + pl.col('tbp_lv_deltaL')) / 3,\n",
    "        )\n",
    "        .with_columns(\n",
    "            symmetry_perimeter_interaction = pl.col('tbp_lv_symm_2axis') * pl.col('tbp_lv_perimeterMM'),\n",
    "            comprehensive_lesion_index     = (pl.col('tbp_lv_area_perim_ratio') + pl.col('tbp_lv_eccentricity') + pl.col('tbp_lv_norm_color') + pl.col('tbp_lv_symm_2axis')) / 4,\n",
    "            color_variance_ratio           = pl.col('tbp_lv_color_std_mean') / pl.col('tbp_lv_stdLExt'),\n",
    "            border_color_interaction       = pl.col('tbp_lv_norm_border') * pl.col('tbp_lv_norm_color'),\n",
    "            border_color_interaction_2     = pl.col('tbp_lv_norm_border') * pl.col('tbp_lv_norm_color') / (pl.col('tbp_lv_norm_border') + pl.col('tbp_lv_norm_color')),\n",
    "            size_color_contrast_ratio      = pl.col('clin_size_long_diam_mm') / pl.col('tbp_lv_deltaLBnorm'),\n",
    "            age_normalized_nevi_confidence = pl.col('tbp_lv_nevi_confidence') / pl.col('age_approx'),\n",
    "            age_normalized_nevi_confidence_2 = (pl.col('clin_size_long_diam_mm')**2 + pl.col('age_approx')**2).sqrt(),\n",
    "            color_asymmetry_index          = pl.col('tbp_lv_radial_color_std_max') * pl.col('tbp_lv_symm_2axis'),\n",
    "        )\n",
    "        .with_columns(\n",
    "            volume_approximation_3d        = pl.col('tbp_lv_areaMM2') * (pl.col('tbp_lv_x')**2 + pl.col('tbp_lv_y')**2 + pl.col('tbp_lv_z')**2).sqrt(),\n",
    "            color_range                    = (pl.col('tbp_lv_L') - pl.col('tbp_lv_Lext')).abs() + (pl.col('tbp_lv_A') - pl.col('tbp_lv_Aext')).abs() + (pl.col('tbp_lv_B') - pl.col('tbp_lv_Bext')).abs(),\n",
    "            shape_color_consistency        = pl.col('tbp_lv_eccentricity') * pl.col('tbp_lv_color_std_mean'),\n",
    "            border_length_ratio            = pl.col('tbp_lv_perimeterMM') / (2 * np.pi * (pl.col('tbp_lv_areaMM2') / np.pi).sqrt()),\n",
    "            age_size_symmetry_index        = pl.col('age_approx') * pl.col('clin_size_long_diam_mm') * pl.col('tbp_lv_symm_2axis'),\n",
    "            index_age_size_symmetry        = pl.col('age_approx') * pl.col('tbp_lv_areaMM2') * pl.col('tbp_lv_symm_2axis'),\n",
    "        )\n",
    "        .with_columns(\n",
    "            ((pl.col(col) - pl.col(col).mean().over('patient_id')) / (pl.col(col).std().over('patient_id') + err)).alias(f'{col}_patient_norm') for col in (num_cols + new_num_cols)\n",
    "        )\n",
    "        .with_columns(\n",
    "            count_per_patient = pl.col('isic_id').count().over('patient_id'),\n",
    "        )\n",
    "        .with_columns(\n",
    "            pl.col(cat_cols).cast(pl.Categorical),\n",
    "        )\n",
    "        .to_pandas()\n",
    "        .set_index(id_column)\n",
    "    )"
   ]
  },
  {
   "cell_type": "code",
   "execution_count": 5,
   "id": "10b8ff37",
   "metadata": {
    "execution": {
     "iopub.execute_input": "2024-08-11T20:44:42.701408Z",
     "iopub.status.busy": "2024-08-11T20:44:42.700983Z",
     "iopub.status.idle": "2024-08-11T20:44:42.710055Z",
     "shell.execute_reply": "2024-08-11T20:44:42.708700Z"
    },
    "papermill": {
     "duration": 0.01887,
     "end_time": "2024-08-11T20:44:42.712746",
     "exception": false,
     "start_time": "2024-08-11T20:44:42.693876",
     "status": "completed"
    },
    "tags": []
   },
   "outputs": [],
   "source": [
    "def preprocess(df_train, df_test):\n",
    "    global cat_cols\n",
    "    \n",
    "    encoder = OneHotEncoder(sparse_output=False, dtype=np.int32, handle_unknown='ignore')\n",
    "    encoder.fit(df_train[cat_cols])\n",
    "    \n",
    "    new_cat_cols = [f'onehot_{i}' for i in range(len(encoder.get_feature_names_out()))]\n",
    "\n",
    "    df_train[new_cat_cols] = encoder.transform(df_train[cat_cols])\n",
    "    df_train[new_cat_cols] = df_train[new_cat_cols].astype('category')\n",
    "\n",
    "    df_test[new_cat_cols] = encoder.transform(df_test[cat_cols])\n",
    "    df_test[new_cat_cols] = df_test[new_cat_cols].astype('category')\n",
    "\n",
    "    for col in cat_cols:\n",
    "        feature_cols.remove(col)\n",
    "\n",
    "    feature_cols.extend(new_cat_cols)\n",
    "    cat_cols = new_cat_cols\n",
    "    \n",
    "    return df_train, df_test"
   ]
  },
  {
   "cell_type": "markdown",
   "id": "1075a3cf",
   "metadata": {
    "papermill": {
     "duration": 0.005375,
     "end_time": "2024-08-11T20:44:42.723865",
     "exception": false,
     "start_time": "2024-08-11T20:44:42.718490",
     "status": "completed"
    },
    "tags": []
   },
   "source": [
    "### Data Read & Feature Engineering"
   ]
  },
  {
   "cell_type": "code",
   "execution_count": 6,
   "id": "b5fcab3b",
   "metadata": {
    "execution": {
     "iopub.execute_input": "2024-08-11T20:44:42.737626Z",
     "iopub.status.busy": "2024-08-11T20:44:42.737211Z",
     "iopub.status.idle": "2024-08-11T20:44:50.517676Z",
     "shell.execute_reply": "2024-08-11T20:44:50.516375Z"
    },
    "papermill": {
     "duration": 7.790678,
     "end_time": "2024-08-11T20:44:50.520758",
     "exception": false,
     "start_time": "2024-08-11T20:44:42.730080",
     "status": "completed"
    },
    "tags": []
   },
   "outputs": [],
   "source": [
    "train_metadata = read_data(INPUT_PATH / 'train-metadata.csv')\n",
    "test_metadata = read_data(INPUT_PATH / 'test-metadata.csv')\n",
    "\n",
    "train_metadata, test_metadata = preprocess(train_metadata, test_metadata)"
   ]
  },
  {
   "cell_type": "markdown",
   "id": "2745b332",
   "metadata": {
    "papermill": {
     "duration": 0.00548,
     "end_time": "2024-08-11T20:44:50.532018",
     "exception": false,
     "start_time": "2024-08-11T20:44:50.526538",
     "status": "completed"
    },
    "tags": []
   },
   "source": [
    "### Optuna HyperParam Tuned Models"
   ]
  },
  {
   "cell_type": "code",
   "execution_count": 7,
   "id": "302dfc58",
   "metadata": {
    "execution": {
     "iopub.execute_input": "2024-08-11T20:44:50.545124Z",
     "iopub.status.busy": "2024-08-11T20:44:50.544716Z",
     "iopub.status.idle": "2024-08-11T20:44:50.562462Z",
     "shell.execute_reply": "2024-08-11T20:44:50.561304Z"
    },
    "papermill": {
     "duration": 0.027701,
     "end_time": "2024-08-11T20:44:50.565236",
     "exception": false,
     "start_time": "2024-08-11T20:44:50.537535",
     "status": "completed"
    },
    "tags": []
   },
   "outputs": [],
   "source": [
    "lgb_params = {\n",
    "    'objective':        'binary',\n",
    "    'verbosity':        -1,\n",
    "    'n_iter':           200,\n",
    "    'boosting_type':    'gbdt',\n",
    "    'random_state':     cfg.seed,\n",
    "    'lambda_l1':        0.08758718919397321, \n",
    "    'lambda_l2':        0.0039689175176025465, \n",
    "    'learning_rate':    0.03231007103195577, \n",
    "    'max_depth':        4, \n",
    "    'num_leaves':       103, \n",
    "    'colsample_bytree': 0.8329551585827726, \n",
    "    'colsample_bynode': 0.4025961355653304, \n",
    "    'bagging_fraction': 0.7738954452473223, \n",
    "    'bagging_freq':     4, \n",
    "    'min_data_in_leaf': 85, \n",
    "    'scale_pos_weight': 2.7984184778875543,\n",
    "}\n",
    "\n",
    "lgb_model = Pipeline([\n",
    "    ('sampler', RandomUnderSampler(sampling_strategy=cfg.sampling_ratio, random_state=cfg.seed)),\n",
    "    ('classifier', lgb.LGBMClassifier(**lgb_params)),\n",
    "])\n",
    "\n",
    "cb_params = {\n",
    "    'loss_function':     'Logloss',\n",
    "    'iterations':        200,\n",
    "    'verbose':           False,\n",
    "    'random_state':      cfg.seed,\n",
    "    'max_depth':         7, \n",
    "    'learning_rate':     0.06936242010150652, \n",
    "    'scale_pos_weight':  2.6149345838209532, \n",
    "    'l2_leaf_reg':       6.216113851699493, \n",
    "    'subsample':         0.6249261779711819, \n",
    "    'min_data_in_leaf':  24,\n",
    "    'cat_features':      cat_cols,\n",
    "}\n",
    "\n",
    "cb_model = Pipeline([\n",
    "    ('sampler', RandomUnderSampler(sampling_strategy=cfg.sampling_ratio, random_state=cfg.seed)),\n",
    "    ('classifier', cb.CatBoostClassifier(**cb_params)),\n",
    "])\n",
    "\n",
    "xgb_params = {\n",
    "    'enable_categorical': True,\n",
    "    'tree_method':        'hist',\n",
    "    'random_state':       cfg.seed,\n",
    "    'learning_rate':      0.08501257473292347, \n",
    "    'lambda':             8.879624125465703, \n",
    "    'alpha':              0.6779926606782505, \n",
    "    'max_depth':          6, \n",
    "    'subsample':          0.6012681388711075, \n",
    "    'colsample_bytree':   0.8437772277074493, \n",
    "    'colsample_bylevel':  0.5476090898823716, \n",
    "    'colsample_bynode':   0.9928601203635129, \n",
    "    'scale_pos_weight':   3.29440313334688,\n",
    "}\n",
    "\n",
    "xgb_model = Pipeline([\n",
    "    ('sampler', RandomUnderSampler(sampling_strategy=cfg.sampling_ratio, random_state=cfg.seed)),\n",
    "    ('classifier', xgb.XGBClassifier(**xgb_params)),\n",
    "])"
   ]
  },
  {
   "cell_type": "code",
   "execution_count": 8,
   "id": "39982f51",
   "metadata": {
    "execution": {
     "iopub.execute_input": "2024-08-11T20:44:50.579148Z",
     "iopub.status.busy": "2024-08-11T20:44:50.578735Z",
     "iopub.status.idle": "2024-08-11T20:44:50.584670Z",
     "shell.execute_reply": "2024-08-11T20:44:50.583395Z"
    },
    "papermill": {
     "duration": 0.016185,
     "end_time": "2024-08-11T20:44:50.587224",
     "exception": false,
     "start_time": "2024-08-11T20:44:50.571039",
     "status": "completed"
    },
    "tags": []
   },
   "outputs": [],
   "source": [
    "estimator = VotingClassifier([\n",
    "    ('lgb', lgb_model), ('cb', cb_model), ('xgb', xgb_model),\n",
    "], voting='soft')"
   ]
  },
  {
   "cell_type": "code",
   "execution_count": 9,
   "id": "f8ffe343",
   "metadata": {
    "execution": {
     "iopub.execute_input": "2024-08-11T20:44:50.600704Z",
     "iopub.status.busy": "2024-08-11T20:44:50.600277Z",
     "iopub.status.idle": "2024-08-11T20:44:52.965300Z",
     "shell.execute_reply": "2024-08-11T20:44:52.963883Z"
    },
    "papermill": {
     "duration": 2.375283,
     "end_time": "2024-08-11T20:44:52.968338",
     "exception": false,
     "start_time": "2024-08-11T20:44:50.593055",
     "status": "completed"
    },
    "tags": []
   },
   "outputs": [],
   "source": [
    "folds_df = get_folds()\n",
    "train_metadata = train_metadata.merge(folds_df, on=[\"isic_id\", \"patient_id\"], how=\"inner\")\n",
    "\n",
    "train_ids = train_metadata[id_column]\n",
    "groups = train_metadata[group_column]\n",
    "folds = train_metadata[\"fold\"]\n",
    "\n",
    "X_train = train_metadata[feature_cols]\n",
    "y_train = train_metadata[target_column]"
   ]
  },
  {
   "cell_type": "code",
   "execution_count": 10,
   "id": "82253e13",
   "metadata": {
    "execution": {
     "iopub.execute_input": "2024-08-11T20:44:52.982665Z",
     "iopub.status.busy": "2024-08-11T20:44:52.982173Z",
     "iopub.status.idle": "2024-08-11T20:47:27.116187Z",
     "shell.execute_reply": "2024-08-11T20:47:27.114509Z"
    },
    "papermill": {
     "duration": 154.145298,
     "end_time": "2024-08-11T20:47:27.120092",
     "exception": false,
     "start_time": "2024-08-11T20:44:52.974794",
     "status": "completed"
    },
    "tags": []
   },
   "outputs": [
    {
     "name": "stdout",
     "output_type": "stream",
     "text": [
      "Running fold: 1\n"
     ]
    },
    {
     "name": "stderr",
     "output_type": "stream",
     "text": [
      "/opt/conda/lib/python3.10/site-packages/lightgbm/engine.py:172: UserWarning: Found `n_iter` in params. Will use it instead of argument\n",
      "  _log_warning(f\"Found `{alias}` in params. Will use it instead of argument\")\n"
     ]
    },
    {
     "name": "stdout",
     "output_type": "stream",
     "text": [
      "\n",
      "\n",
      "Running fold: 2\n"
     ]
    },
    {
     "name": "stderr",
     "output_type": "stream",
     "text": [
      "/opt/conda/lib/python3.10/site-packages/lightgbm/engine.py:172: UserWarning: Found `n_iter` in params. Will use it instead of argument\n",
      "  _log_warning(f\"Found `{alias}` in params. Will use it instead of argument\")\n"
     ]
    },
    {
     "name": "stdout",
     "output_type": "stream",
     "text": [
      "\n",
      "\n",
      "Running fold: 3\n"
     ]
    },
    {
     "name": "stderr",
     "output_type": "stream",
     "text": [
      "/opt/conda/lib/python3.10/site-packages/lightgbm/engine.py:172: UserWarning: Found `n_iter` in params. Will use it instead of argument\n",
      "  _log_warning(f\"Found `{alias}` in params. Will use it instead of argument\")\n"
     ]
    },
    {
     "name": "stdout",
     "output_type": "stream",
     "text": [
      "\n",
      "\n",
      "Running fold: 4\n"
     ]
    },
    {
     "name": "stderr",
     "output_type": "stream",
     "text": [
      "/opt/conda/lib/python3.10/site-packages/lightgbm/engine.py:172: UserWarning: Found `n_iter` in params. Will use it instead of argument\n",
      "  _log_warning(f\"Found `{alias}` in params. Will use it instead of argument\")\n"
     ]
    },
    {
     "name": "stdout",
     "output_type": "stream",
     "text": [
      "\n",
      "\n",
      "Running fold: 5\n"
     ]
    },
    {
     "name": "stderr",
     "output_type": "stream",
     "text": [
      "/opt/conda/lib/python3.10/site-packages/lightgbm/engine.py:172: UserWarning: Found `n_iter` in params. Will use it instead of argument\n",
      "  _log_warning(f\"Found `{alias}` in params. Will use it instead of argument\")\n"
     ]
    },
    {
     "name": "stdout",
     "output_type": "stream",
     "text": [
      "\n",
      "\n",
      "Val AUC scores:\n",
      "{'fold_1': 0.9782059910714589,\n",
      " 'fold_2': 0.9547482326078178,\n",
      " 'fold_3': 0.9667686351100073,\n",
      " 'fold_4': 0.9663930002121526,\n",
      " 'fold_5': 0.9663628128492792}\n",
      "Val PAUC scores:\n",
      "{'fold_1': 0.18358227120471773,\n",
      " 'fold_2': 0.1604582836569259,\n",
      " 'fold_3': 0.17266304551297246,\n",
      " 'fold_4': 0.16945517340355165,\n",
      " 'fold_5': 0.1699866280001804}\n",
      "CV AUC OOF: 0.966373119798792\n",
      "CV PAUC OOF: 0.17109167815739462\n",
      "CV AUC AVG: 0.9664957343701431\n",
      "CV PAUC AVG: 0.17122908035566964\n",
      "CV AUC STD: 0.007419388208178517\n",
      "CV PAUC STD: 0.007421025205205358\n",
      "Index(['age_approx', 'clin_size_long_diam_mm', 'tbp_lv_A', 'tbp_lv_Aext',\n",
      "       'tbp_lv_B', 'tbp_lv_Bext', 'tbp_lv_C', 'tbp_lv_Cext', 'tbp_lv_H',\n",
      "       'tbp_lv_Hext',\n",
      "       ...\n",
      "       'onehot_37', 'onehot_38', 'onehot_39', 'onehot_40', 'onehot_41',\n",
      "       'onehot_42', 'onehot_43', 'onehot_44', 'onehot_45', 'onehot_46'],\n",
      "      dtype='object', length=200)\n"
     ]
    }
   ],
   "source": [
    "best_num_rounds = {}\n",
    "val_auc_scores = {}\n",
    "val_pauc_scores = {}\n",
    "all_folds = np.unique(folds)\n",
    "oof_predictions = np.zeros(X_train.shape[0])\n",
    "for fold in all_folds:\n",
    "    print(f\"Running fold: {fold}\")\n",
    "    dev_index = folds[folds != fold].index\n",
    "    val_index = folds[folds == fold].index\n",
    "    \n",
    "    X_dev = X_train.loc[dev_index, :]\n",
    "    y_dev = y_train[dev_index]\n",
    "    \n",
    "    X_val = X_train.loc[val_index, :]\n",
    "    y_val = y_train[val_index]\n",
    "    \n",
    "    estimator.fit(X_dev, y_dev)\n",
    "    val_preds = estimator.predict_proba(X_val)[:, 1]\n",
    "    oof_predictions[val_index] = val_preds\n",
    "    \n",
    "    val_auc_scores[f\"fold_{fold}\"] = compute_auc(y_val, val_preds)\n",
    "    val_pauc_scores[f\"fold_{fold}\"] = compute_pauc(y_val, val_preds, min_tpr=0.8)\n",
    "    print(\"\\n\")\n",
    "    \n",
    "    with open(MODELS_OUTPUT_PATH / f\"{cfg.model_name}_fold_{fold}.txt\", \"wb\") as f:\n",
    "        joblib.dump(estimator, f)\n",
    "\n",
    "print(\"Val AUC scores:\")\n",
    "pprint(val_auc_scores)\n",
    "print(\"Val PAUC scores:\")\n",
    "pprint(val_pauc_scores)\n",
    "\n",
    "oof_preds_df = pd.DataFrame({\n",
    "    id_column: train_ids,\n",
    "    group_column: groups,\n",
    "    \"fold\": folds,\n",
    "    target_column: y_train,\n",
    "    f\"oof_{cfg.model_name}\": oof_predictions\n",
    "})\n",
    "oof_preds_df.to_csv(f\"oof_preds_{cfg.model_name}.csv\", index=False)\n",
    "\n",
    "cv_auc_oof = compute_auc(oof_preds_df[target_column], oof_preds_df[f\"oof_{cfg.model_name}\"])\n",
    "cv_pauc_oof = compute_pauc(oof_preds_df[target_column], oof_preds_df[f\"oof_{cfg.model_name}\"], min_tpr=0.8)\n",
    "\n",
    "cv_auc_avg = np.mean(list(val_auc_scores.values()))\n",
    "cv_pauc_avg = np.mean(list(val_pauc_scores.values()))\n",
    "\n",
    "cv_auc_std = np.std(list(val_auc_scores.values()))\n",
    "cv_pauc_std = np.std(list(val_pauc_scores.values()))\n",
    "\n",
    "print(f\"CV AUC OOF: {cv_auc_oof}\")\n",
    "print(f\"CV PAUC OOF: {cv_pauc_oof}\")\n",
    "print(f\"CV AUC AVG: {cv_auc_avg}\")\n",
    "print(f\"CV PAUC AVG: {cv_pauc_avg}\")\n",
    "print(f\"CV AUC STD: {cv_auc_std}\")\n",
    "print(f\"CV PAUC STD: {cv_pauc_std}\")\n",
    "print(X_train.columns)"
   ]
  },
  {
   "cell_type": "code",
   "execution_count": 11,
   "id": "b4ead6ab",
   "metadata": {
    "execution": {
     "iopub.execute_input": "2024-08-11T20:47:27.139580Z",
     "iopub.status.busy": "2024-08-11T20:47:27.138794Z",
     "iopub.status.idle": "2024-08-11T20:47:27.146042Z",
     "shell.execute_reply": "2024-08-11T20:47:27.144935Z"
    },
    "papermill": {
     "duration": 0.018516,
     "end_time": "2024-08-11T20:47:27.148749",
     "exception": false,
     "start_time": "2024-08-11T20:47:27.130233",
     "status": "completed"
    },
    "tags": []
   },
   "outputs": [],
   "source": [
    "metadata = {\n",
    "    \"params\": cfg.__dict__,\n",
    "    \"val_auc_scores\": val_auc_scores,\n",
    "    \"val_pauc_scores\": val_pauc_scores,\n",
    "    \"cv_auc_oof\": cv_auc_oof,\n",
    "    \"cv_pauc_oof\": cv_pauc_oof,\n",
    "    \"cv_auc_avg\": cv_auc_avg,\n",
    "    \"cv_pauc_avg\": cv_pauc_avg\n",
    "}\n",
    "\n",
    "with open(f\"{cfg.model_name}_run_metadata.json\", \"w\") as f:\n",
    "    json.dump(metadata, f)"
   ]
  }
 ],
 "metadata": {
  "kaggle": {
   "accelerator": "none",
   "dataSources": [
    {
     "databundleVersionId": 9094797,
     "sourceId": 63056,
     "sourceType": "competition"
    },
    {
     "sourceId": 187477024,
     "sourceType": "kernelVersion"
    },
    {
     "sourceId": 189656082,
     "sourceType": "kernelVersion"
    }
   ],
   "dockerImageVersionId": 30746,
   "isGpuEnabled": false,
   "isInternetEnabled": false,
   "language": "python",
   "sourceType": "notebook"
  },
  "kernelspec": {
   "display_name": "Python 3",
   "language": "python",
   "name": "python3"
  },
  "language_info": {
   "codemirror_mode": {
    "name": "ipython",
    "version": 3
   },
   "file_extension": ".py",
   "mimetype": "text/x-python",
   "name": "python",
   "nbconvert_exporter": "python",
   "pygments_lexer": "ipython3",
   "version": "3.10.13"
  },
  "papermill": {
   "default_parameters": {},
   "duration": 180.323365,
   "end_time": "2024-08-11T20:47:29.518946",
   "environment_variables": {},
   "exception": null,
   "input_path": "__notebook__.ipynb",
   "output_path": "__notebook__.ipynb",
   "parameters": {},
   "start_time": "2024-08-11T20:44:29.195581",
   "version": "2.5.0"
  }
 },
 "nbformat": 4,
 "nbformat_minor": 5
}
