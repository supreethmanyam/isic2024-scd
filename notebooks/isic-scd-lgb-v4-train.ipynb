{
 "cells": [
  {
   "cell_type": "code",
   "execution_count": 1,
   "id": "4a14089f",
   "metadata": {
    "_cell_guid": "b1076dfc-b9ad-4769-8c92-a6c4dae69d19",
    "_uuid": "8f2839f25d086af736a60e9eeb907d3b93b6e0e5",
    "execution": {
     "iopub.execute_input": "2024-08-08T02:29:38.230808Z",
     "iopub.status.busy": "2024-08-08T02:29:38.230405Z",
     "iopub.status.idle": "2024-08-08T02:29:46.333302Z",
     "shell.execute_reply": "2024-08-08T02:29:46.332224Z"
    },
    "papermill": {
     "duration": 8.114715,
     "end_time": "2024-08-08T02:29:46.336307",
     "exception": false,
     "start_time": "2024-08-08T02:29:38.221592",
     "status": "completed"
    },
    "tags": []
   },
   "outputs": [],
   "source": [
    "import json\n",
    "import joblib\n",
    "from pprint import pprint\n",
    "from pathlib import Path\n",
    "\n",
    "import pandas as pd\n",
    "import numpy as np\n",
    "import polars as pl\n",
    "\n",
    "from sklearn.compose import ColumnTransformer\n",
    "from sklearn.preprocessing import OrdinalEncoder, OneHotEncoder\n",
    "\n",
    "import lightgbm as lgb\n",
    "from lightgbm.callback import log_evaluation, early_stopping\n",
    "\n",
    "from isic_helper import DotDict\n",
    "from isic_helper import get_folds\n",
    "from isic_helper import compute_auc, compute_pauc\n",
    "\n",
    "pd.options.display.max_columns = 1000"
   ]
  },
  {
   "cell_type": "code",
   "execution_count": 2,
   "id": "5b6d67b0",
   "metadata": {
    "execution": {
     "iopub.execute_input": "2024-08-08T02:29:46.351708Z",
     "iopub.status.busy": "2024-08-08T02:29:46.351099Z",
     "iopub.status.idle": "2024-08-08T02:29:46.357679Z",
     "shell.execute_reply": "2024-08-08T02:29:46.356392Z"
    },
    "papermill": {
     "duration": 0.017221,
     "end_time": "2024-08-08T02:29:46.360763",
     "exception": false,
     "start_time": "2024-08-08T02:29:46.343542",
     "status": "completed"
    },
    "tags": []
   },
   "outputs": [],
   "source": [
    "cfg = DotDict()\n",
    "cfg.seed = 2022\n",
    "\n",
    "cfg.models_output_dir = \"models\"\n",
    "cfg.model_name = \"lgb_v4\""
   ]
  },
  {
   "cell_type": "code",
   "execution_count": 3,
   "id": "dbc81d71",
   "metadata": {
    "execution": {
     "iopub.execute_input": "2024-08-08T02:29:46.374817Z",
     "iopub.status.busy": "2024-08-08T02:29:46.374393Z",
     "iopub.status.idle": "2024-08-08T02:29:46.381292Z",
     "shell.execute_reply": "2024-08-08T02:29:46.379913Z"
    },
    "papermill": {
     "duration": 0.016929,
     "end_time": "2024-08-08T02:29:46.383823",
     "exception": false,
     "start_time": "2024-08-08T02:29:46.366894",
     "status": "completed"
    },
    "tags": []
   },
   "outputs": [],
   "source": [
    "INPUT_PATH = Path(\"/kaggle/input/isic-2024-challenge/\")\n",
    "MODELS_OUTPUT_PATH = Path(f\"{cfg.models_output_dir}\")\n",
    "MODELS_OUTPUT_PATH.mkdir(exist_ok=True)\n",
    "\n",
    "id_column = \"isic_id\"\n",
    "target_column = \"target\"\n",
    "group_column = \"patient_id\""
   ]
  },
  {
   "cell_type": "code",
   "execution_count": 4,
   "id": "4ef76dc1",
   "metadata": {
    "execution": {
     "iopub.execute_input": "2024-08-08T02:29:46.398233Z",
     "iopub.status.busy": "2024-08-08T02:29:46.397732Z",
     "iopub.status.idle": "2024-08-08T02:29:46.405956Z",
     "shell.execute_reply": "2024-08-08T02:29:46.404771Z"
    },
    "papermill": {
     "duration": 0.018335,
     "end_time": "2024-08-08T02:29:46.408306",
     "exception": false,
     "start_time": "2024-08-08T02:29:46.389971",
     "status": "completed"
    },
    "tags": []
   },
   "outputs": [],
   "source": [
    "numerical_features = [\n",
    "    \"age_approx\", \n",
    "    \"clin_size_long_diam_mm\",\n",
    "    \"tbp_lv_A\", \"tbp_lv_Aext\",\n",
    "    \"tbp_lv_B\", \"tbp_lv_Bext\",\n",
    "    \"tbp_lv_C\", \"tbp_lv_Cext\",\n",
    "    \"tbp_lv_H\", \"tbp_lv_Hext\",\n",
    "    \"tbp_lv_L\", \"tbp_lv_Lext\",\n",
    "    \"tbp_lv_areaMM2\",\n",
    "    \"tbp_lv_area_perim_ratio\",\n",
    "    \"tbp_lv_color_std_mean\",\n",
    "    \"tbp_lv_deltaA\", \"tbp_lv_deltaB\", \"tbp_lv_deltaL\", \"tbp_lv_deltaLB\", \"tbp_lv_deltaLBnorm\",\n",
    "    \"tbp_lv_eccentricity\",\n",
    "    \"tbp_lv_minorAxisMM\",\n",
    "    \"tbp_lv_nevi_confidence\",\n",
    "    \"tbp_lv_norm_border\", \"tbp_lv_norm_color\",\n",
    "    \"tbp_lv_perimeterMM\",\n",
    "    \"tbp_lv_radial_color_std_max\",\n",
    "    \"tbp_lv_stdL\", \"tbp_lv_stdLExt\",\n",
    "    \"tbp_lv_symm_2axis\", \"tbp_lv_symm_2axis_angle\",\n",
    "    \"tbp_lv_x\", \"tbp_lv_y\", \"tbp_lv_z\",\n",
    "]\n",
    "\n",
    "ord_categorical_features = [\n",
    "    \"sex\", \n",
    "    \"anatom_site_general\", \n",
    "    \"tbp_tile_type\", \n",
    "    \"tbp_lv_location\", \n",
    "    \"tbp_lv_location_simple\",\n",
    "    \"attribution\", \n",
    "    \"copyright_license\"\n",
    "]"
   ]
  },
  {
   "cell_type": "code",
   "execution_count": 5,
   "id": "682df47d",
   "metadata": {
    "execution": {
     "iopub.execute_input": "2024-08-08T02:29:46.422262Z",
     "iopub.status.busy": "2024-08-08T02:29:46.421833Z",
     "iopub.status.idle": "2024-08-08T02:29:46.436578Z",
     "shell.execute_reply": "2024-08-08T02:29:46.435361Z"
    },
    "papermill": {
     "duration": 0.024861,
     "end_time": "2024-08-08T02:29:46.439253",
     "exception": false,
     "start_time": "2024-08-08T02:29:46.414392",
     "status": "completed"
    },
    "tags": []
   },
   "outputs": [],
   "source": [
    "def read_data(path, is_train=True):\n",
    "    df = pl.read_csv(path, \n",
    "                     schema_overrides={\"age_approx\": pl.Float32}, \n",
    "                     null_values=[\"NA\"])\n",
    "    df = df.rename({\"age_approx\": \"age\"})\n",
    "    if is_train:\n",
    "        folds_df = pl.read_csv(path.parent.parent / \"isic-scd-folds/folds.csv\")\n",
    "        df = df.join(folds_df, on=[id_column , group_column], how=\"left\")\n",
    "    return df\n",
    "\n",
    "def feature_engineering(df):\n",
    "    df = df.join(\n",
    "        df.group_by(group_column).agg(pl.col(\"age\").max().alias(\"age_approx\")),\n",
    "        on=group_column,\n",
    "        how=\"left\"\n",
    "    ).drop(\"age\")\n",
    "#     df = df.with_columns(\n",
    "#         pl.concat_str(\n",
    "#             [pl.col(\"sex\"), pl.col(\"age_approx\").cast(pl.Utf8).fill_null(\"NA\")]\n",
    "#         ).alias(\"sex_age_approx\")\n",
    "#     )\n",
    "    df = df.with_columns(\n",
    "        lesion_size_ratio = pl.col('tbp_lv_minorAxisMM') / pl.col('clin_size_long_diam_mm')\n",
    "    ).with_columns(\n",
    "        ((pl.col(\"lesion_size_ratio\") - pl.col(\"lesion_size_ratio\").mean().over(group_column)) / (pl.col(\"lesion_size_ratio\").std().over(group_column) + 1e-5)).alias(\"lesion_size_ratio_norm\")\n",
    "    ).drop(\"lesion_size_ratio\")\n",
    "    return df.to_pandas()\n",
    "\n",
    "def get_encoder_and_fit(df, num_cols, ord_cat_cols, ohe_cat_cols):\n",
    "    mixed_encoded_preprocessor = ColumnTransformer(\n",
    "    [\n",
    "        (\"numerical\", \"passthrough\", num_cols),\n",
    "        (\n",
    "            \"ord_categorical\",\n",
    "            OrdinalEncoder(handle_unknown=\"use_encoded_value\", unknown_value=-2, encoded_missing_value=-1, dtype=int),\n",
    "            ord_cat_cols,\n",
    "        ),\n",
    "        (\n",
    "            \"ohe_categorical\",\n",
    "            OneHotEncoder(sparse_output=False, dtype=np.int32, handle_unknown=\"ignore\"),\n",
    "            ohe_cat_cols\n",
    "        )\n",
    "    ],\n",
    "    verbose_feature_names_out=False,\n",
    "\n",
    "    )\n",
    "    mixed_encoded_preprocessor.set_output(transform=\"pandas\")\n",
    "    \n",
    "    mixed_encoded_preprocessor.fit(df)\n",
    "    return mixed_encoded_preprocessor\n",
    "    "
   ]
  },
  {
   "cell_type": "code",
   "execution_count": 6,
   "id": "2b358a60",
   "metadata": {
    "execution": {
     "iopub.execute_input": "2024-08-08T02:29:46.453939Z",
     "iopub.status.busy": "2024-08-08T02:29:46.453534Z",
     "iopub.status.idle": "2024-08-08T02:29:48.060322Z",
     "shell.execute_reply": "2024-08-08T02:29:48.059036Z"
    },
    "papermill": {
     "duration": 1.617664,
     "end_time": "2024-08-08T02:29:48.063275",
     "exception": false,
     "start_time": "2024-08-08T02:29:46.445611",
     "status": "completed"
    },
    "tags": []
   },
   "outputs": [],
   "source": [
    "train = read_data(INPUT_PATH / \"train-metadata.csv\")\n",
    "test = read_data(INPUT_PATH / \"test-metadata.csv\", is_train=False)"
   ]
  },
  {
   "cell_type": "code",
   "execution_count": 7,
   "id": "0dd72d3c",
   "metadata": {
    "execution": {
     "iopub.execute_input": "2024-08-08T02:29:48.077724Z",
     "iopub.status.busy": "2024-08-08T02:29:48.077250Z",
     "iopub.status.idle": "2024-08-08T02:29:49.328097Z",
     "shell.execute_reply": "2024-08-08T02:29:49.326836Z"
    },
    "papermill": {
     "duration": 1.261495,
     "end_time": "2024-08-08T02:29:49.331161",
     "exception": false,
     "start_time": "2024-08-08T02:29:48.069666",
     "status": "completed"
    },
    "tags": []
   },
   "outputs": [],
   "source": [
    "train = feature_engineering(train)\n",
    "test = feature_engineering(test)"
   ]
  },
  {
   "cell_type": "code",
   "execution_count": 8,
   "id": "06e9e195",
   "metadata": {
    "execution": {
     "iopub.execute_input": "2024-08-08T02:29:49.345944Z",
     "iopub.status.busy": "2024-08-08T02:29:49.345529Z",
     "iopub.status.idle": "2024-08-08T02:29:49.351267Z",
     "shell.execute_reply": "2024-08-08T02:29:49.349998Z"
    },
    "papermill": {
     "duration": 0.016407,
     "end_time": "2024-08-08T02:29:49.353843",
     "exception": false,
     "start_time": "2024-08-08T02:29:49.337436",
     "status": "completed"
    },
    "tags": []
   },
   "outputs": [],
   "source": [
    "numerical_features += [\n",
    "    \"lesion_size_ratio_norm\"\n",
    "]\n",
    "\n",
    "ord_categorical_features += []"
   ]
  },
  {
   "cell_type": "code",
   "execution_count": 9,
   "id": "727d8550",
   "metadata": {
    "execution": {
     "iopub.execute_input": "2024-08-08T02:29:49.367970Z",
     "iopub.status.busy": "2024-08-08T02:29:49.367545Z",
     "iopub.status.idle": "2024-08-08T02:29:50.454520Z",
     "shell.execute_reply": "2024-08-08T02:29:50.453292Z"
    },
    "papermill": {
     "duration": 1.097376,
     "end_time": "2024-08-08T02:29:50.457407",
     "exception": false,
     "start_time": "2024-08-08T02:29:49.360031",
     "status": "completed"
    },
    "tags": []
   },
   "outputs": [],
   "source": [
    "encoder = get_encoder_and_fit(train, numerical_features, ord_categorical_features, [])\n",
    "with open(f\"{cfg.model_name}_encoder.joblib\", \"wb\") as f:\n",
    "    joblib.dump(encoder, f)"
   ]
  },
  {
   "cell_type": "code",
   "execution_count": 10,
   "id": "548bc8cb",
   "metadata": {
    "execution": {
     "iopub.execute_input": "2024-08-08T02:29:50.472430Z",
     "iopub.status.busy": "2024-08-08T02:29:50.472003Z",
     "iopub.status.idle": "2024-08-08T02:29:50.478186Z",
     "shell.execute_reply": "2024-08-08T02:29:50.477010Z"
    },
    "papermill": {
     "duration": 0.016848,
     "end_time": "2024-08-08T02:29:50.480970",
     "exception": false,
     "start_time": "2024-08-08T02:29:50.464122",
     "status": "completed"
    },
    "tags": []
   },
   "outputs": [],
   "source": [
    "categorical_features = ord_categorical_features + [\"age_approx\"]"
   ]
  },
  {
   "cell_type": "code",
   "execution_count": 11,
   "id": "7924fed6",
   "metadata": {
    "execution": {
     "iopub.execute_input": "2024-08-08T02:29:50.495464Z",
     "iopub.status.busy": "2024-08-08T02:29:50.494899Z",
     "iopub.status.idle": "2024-08-08T02:29:51.420114Z",
     "shell.execute_reply": "2024-08-08T02:29:51.418614Z"
    },
    "papermill": {
     "duration": 0.935926,
     "end_time": "2024-08-08T02:29:51.423363",
     "exception": false,
     "start_time": "2024-08-08T02:29:50.487437",
     "status": "completed"
    },
    "tags": []
   },
   "outputs": [
    {
     "name": "stdout",
     "output_type": "stream",
     "text": [
      "Total number of columns: 42\n"
     ]
    }
   ],
   "source": [
    "X_train = encoder.transform(train)\n",
    "X_test = encoder.transform(test)\n",
    "\n",
    "train_ids = train[id_column]\n",
    "y_train = train[target_column]\n",
    "groups = train[group_column]\n",
    "folds = train[\"fold\"]\n",
    "\n",
    "print(f\"Total number of columns: {len(X_train.columns)}\")"
   ]
  },
  {
   "cell_type": "code",
   "execution_count": 12,
   "id": "804ed042",
   "metadata": {
    "execution": {
     "iopub.execute_input": "2024-08-08T02:29:51.439273Z",
     "iopub.status.busy": "2024-08-08T02:29:51.438239Z",
     "iopub.status.idle": "2024-08-08T02:29:51.446571Z",
     "shell.execute_reply": "2024-08-08T02:29:51.445381Z"
    },
    "papermill": {
     "duration": 0.019099,
     "end_time": "2024-08-08T02:29:51.449187",
     "exception": false,
     "start_time": "2024-08-08T02:29:51.430088",
     "status": "completed"
    },
    "tags": []
   },
   "outputs": [],
   "source": [
    "def pauc_80(preds, data):\n",
    "    score_value = compute_pauc(data.get_label(), preds, min_tpr=0.8)   \n",
    "    return \"pauc_80\", score_value, True\n",
    "\n",
    "\n",
    "params = {\n",
    "    \"objective\": \"binary\",\n",
    "    \"metric\": \"custom\",\n",
    "    \"metric_freq\": 10,\n",
    "    \"num_leaves\": 63,\n",
    "    \"learning_rate\": 0.01,\n",
    "    \"bagging_freq\": 6,\n",
    "    \"bagging_fraction\": 0.6,\n",
    "    \"bagging_seed\": cfg.seed,\n",
    "    \"feature_fraction\": 0.3,\n",
    "    \"feature_fraction_seed\": cfg.seed,\n",
    "    \"lambda_l1\": 0.95,\n",
    "    \"lambda_l2\": 0.95,\n",
    "    \"verbosity\": -1\n",
    "}\n",
    "num_rounds = 3000\n",
    "es_rounds = 250\n",
    "log_rounds = 50"
   ]
  },
  {
   "cell_type": "code",
   "execution_count": 13,
   "id": "3b8aa3dd",
   "metadata": {
    "execution": {
     "iopub.execute_input": "2024-08-08T02:29:51.463782Z",
     "iopub.status.busy": "2024-08-08T02:29:51.463376Z",
     "iopub.status.idle": "2024-08-08T02:36:33.738626Z",
     "shell.execute_reply": "2024-08-08T02:36:33.737025Z"
    },
    "papermill": {
     "duration": 402.285639,
     "end_time": "2024-08-08T02:36:33.741316",
     "exception": false,
     "start_time": "2024-08-08T02:29:51.455677",
     "status": "completed"
    },
    "tags": []
   },
   "outputs": [
    {
     "name": "stdout",
     "output_type": "stream",
     "text": [
      "Running fold: 1\n",
      "Training until validation scores don't improve for 250 rounds\n",
      "[50]\tvalid_0's pauc_80: 0.153134\n",
      "[100]\tvalid_0's pauc_80: 0.153442\n",
      "[150]\tvalid_0's pauc_80: 0.157231\n",
      "[200]\tvalid_0's pauc_80: 0.157571\n",
      "[250]\tvalid_0's pauc_80: 0.158142\n",
      "[300]\tvalid_0's pauc_80: 0.16086\n",
      "[350]\tvalid_0's pauc_80: 0.162369\n",
      "[400]\tvalid_0's pauc_80: 0.163199\n",
      "[450]\tvalid_0's pauc_80: 0.163319\n",
      "[500]\tvalid_0's pauc_80: 0.163455\n",
      "[550]\tvalid_0's pauc_80: 0.163845\n",
      "[600]\tvalid_0's pauc_80: 0.163895\n",
      "[650]\tvalid_0's pauc_80: 0.16317\n",
      "[700]\tvalid_0's pauc_80: 0.163148\n",
      "[750]\tvalid_0's pauc_80: 0.163137\n",
      "[800]\tvalid_0's pauc_80: 0.163664\n",
      "Early stopping, best iteration is:\n",
      "[594]\tvalid_0's pauc_80: 0.16413\n",
      "\n",
      "\n",
      "Running fold: 2\n",
      "Training until validation scores don't improve for 250 rounds\n",
      "[50]\tvalid_0's pauc_80: 0.14039\n",
      "[100]\tvalid_0's pauc_80: 0.143646\n",
      "[150]\tvalid_0's pauc_80: 0.148591\n",
      "[200]\tvalid_0's pauc_80: 0.151807\n",
      "[250]\tvalid_0's pauc_80: 0.153481\n",
      "[300]\tvalid_0's pauc_80: 0.155089\n",
      "[350]\tvalid_0's pauc_80: 0.155622\n",
      "[400]\tvalid_0's pauc_80: 0.156173\n",
      "[450]\tvalid_0's pauc_80: 0.157182\n",
      "[500]\tvalid_0's pauc_80: 0.158032\n",
      "[550]\tvalid_0's pauc_80: 0.159014\n",
      "[600]\tvalid_0's pauc_80: 0.159471\n",
      "[650]\tvalid_0's pauc_80: 0.159604\n",
      "[700]\tvalid_0's pauc_80: 0.159514\n",
      "[750]\tvalid_0's pauc_80: 0.159572\n",
      "[800]\tvalid_0's pauc_80: 0.160508\n",
      "[850]\tvalid_0's pauc_80: 0.160814\n",
      "[900]\tvalid_0's pauc_80: 0.161057\n",
      "[950]\tvalid_0's pauc_80: 0.161697\n",
      "[1000]\tvalid_0's pauc_80: 0.162161\n",
      "[1050]\tvalid_0's pauc_80: 0.161922\n",
      "[1100]\tvalid_0's pauc_80: 0.161514\n",
      "[1150]\tvalid_0's pauc_80: 0.161521\n",
      "[1200]\tvalid_0's pauc_80: 0.161052\n",
      "Early stopping, best iteration is:\n",
      "[959]\tvalid_0's pauc_80: 0.162191\n",
      "\n",
      "\n",
      "Running fold: 3\n",
      "Training until validation scores don't improve for 250 rounds\n",
      "[50]\tvalid_0's pauc_80: 0.152566\n",
      "[100]\tvalid_0's pauc_80: 0.152317\n",
      "[150]\tvalid_0's pauc_80: 0.151763\n",
      "[200]\tvalid_0's pauc_80: 0.153218\n",
      "[250]\tvalid_0's pauc_80: 0.152885\n",
      "Early stopping, best iteration is:\n",
      "[38]\tvalid_0's pauc_80: 0.154083\n",
      "\n",
      "\n",
      "Running fold: 4\n",
      "Training until validation scores don't improve for 250 rounds\n",
      "[50]\tvalid_0's pauc_80: 0.151045\n",
      "[100]\tvalid_0's pauc_80: 0.149987\n",
      "[150]\tvalid_0's pauc_80: 0.152318\n",
      "[200]\tvalid_0's pauc_80: 0.154878\n",
      "[250]\tvalid_0's pauc_80: 0.156128\n",
      "[300]\tvalid_0's pauc_80: 0.157212\n",
      "[350]\tvalid_0's pauc_80: 0.157704\n",
      "[400]\tvalid_0's pauc_80: 0.159685\n",
      "[450]\tvalid_0's pauc_80: 0.160626\n",
      "[500]\tvalid_0's pauc_80: 0.161215\n",
      "[550]\tvalid_0's pauc_80: 0.162031\n",
      "[600]\tvalid_0's pauc_80: 0.163018\n",
      "[650]\tvalid_0's pauc_80: 0.163494\n",
      "[700]\tvalid_0's pauc_80: 0.164085\n",
      "[750]\tvalid_0's pauc_80: 0.164698\n",
      "[800]\tvalid_0's pauc_80: 0.164955\n",
      "[850]\tvalid_0's pauc_80: 0.165871\n",
      "[900]\tvalid_0's pauc_80: 0.166428\n",
      "[950]\tvalid_0's pauc_80: 0.166745\n",
      "[1000]\tvalid_0's pauc_80: 0.166833\n",
      "[1050]\tvalid_0's pauc_80: 0.167377\n",
      "[1100]\tvalid_0's pauc_80: 0.167656\n",
      "[1150]\tvalid_0's pauc_80: 0.167951\n",
      "[1200]\tvalid_0's pauc_80: 0.168114\n",
      "[1250]\tvalid_0's pauc_80: 0.168386\n",
      "[1300]\tvalid_0's pauc_80: 0.168724\n",
      "[1350]\tvalid_0's pauc_80: 0.168827\n",
      "[1400]\tvalid_0's pauc_80: 0.169038\n",
      "[1450]\tvalid_0's pauc_80: 0.168827\n",
      "[1500]\tvalid_0's pauc_80: 0.169395\n",
      "[1550]\tvalid_0's pauc_80: 0.169364\n",
      "[1600]\tvalid_0's pauc_80: 0.169394\n",
      "[1650]\tvalid_0's pauc_80: 0.169114\n",
      "[1700]\tvalid_0's pauc_80: 0.169385\n",
      "[1750]\tvalid_0's pauc_80: 0.169703\n",
      "[1800]\tvalid_0's pauc_80: 0.169636\n",
      "[1850]\tvalid_0's pauc_80: 0.169826\n",
      "[1900]\tvalid_0's pauc_80: 0.169765\n",
      "[1950]\tvalid_0's pauc_80: 0.16947\n",
      "[2000]\tvalid_0's pauc_80: 0.169571\n",
      "[2050]\tvalid_0's pauc_80: 0.169618\n",
      "Early stopping, best iteration is:\n",
      "[1819]\tvalid_0's pauc_80: 0.169941\n",
      "\n",
      "\n",
      "Running fold: 5\n",
      "Training until validation scores don't improve for 250 rounds\n",
      "[50]\tvalid_0's pauc_80: 0.156486\n",
      "[100]\tvalid_0's pauc_80: 0.157957\n",
      "[150]\tvalid_0's pauc_80: 0.160154\n",
      "[200]\tvalid_0's pauc_80: 0.160742\n",
      "[250]\tvalid_0's pauc_80: 0.15974\n",
      "[300]\tvalid_0's pauc_80: 0.160686\n",
      "[350]\tvalid_0's pauc_80: 0.162451\n",
      "[400]\tvalid_0's pauc_80: 0.162186\n",
      "[450]\tvalid_0's pauc_80: 0.16111\n",
      "[500]\tvalid_0's pauc_80: 0.161954\n",
      "[550]\tvalid_0's pauc_80: 0.162163\n",
      "[600]\tvalid_0's pauc_80: 0.161859\n",
      "Early stopping, best iteration is:\n",
      "[355]\tvalid_0's pauc_80: 0.162703\n",
      "\n",
      "\n",
      "Val AUC scores:\n",
      "{'fold_1': 0.9523544825590072,\n",
      " 'fold_2': 0.9488443395773617,\n",
      " 'fold_3': 0.9388063764335901,\n",
      " 'fold_4': 0.9637897630130662,\n",
      " 'fold_5': 0.9506984702035429}\n",
      "Val PAUC scores:\n",
      "{'fold_1': 0.1641304201619661,\n",
      " 'fold_2': 0.16219131032443726,\n",
      " 'fold_3': 0.15408307958218415,\n",
      " 'fold_4': 0.16994062847087887,\n",
      " 'fold_5': 0.16270296785440355}\n",
      "CV AUC OOF: 0.9303936649041687\n",
      "CV PAUC OOF: 0.14229887961734547\n",
      "CV AUC AVG: 0.9508986863573137\n",
      "CV PAUC AVG: 0.16260968127877398\n",
      "CV AUC STD: 0.007984780352862137\n",
      "CV PAUC STD: 0.0050782301369118165\n",
      "Index(['age_approx', 'clin_size_long_diam_mm', 'tbp_lv_A', 'tbp_lv_Aext',\n",
      "       'tbp_lv_B', 'tbp_lv_Bext', 'tbp_lv_C', 'tbp_lv_Cext', 'tbp_lv_H',\n",
      "       'tbp_lv_Hext', 'tbp_lv_L', 'tbp_lv_Lext', 'tbp_lv_areaMM2',\n",
      "       'tbp_lv_area_perim_ratio', 'tbp_lv_color_std_mean', 'tbp_lv_deltaA',\n",
      "       'tbp_lv_deltaB', 'tbp_lv_deltaL', 'tbp_lv_deltaLB',\n",
      "       'tbp_lv_deltaLBnorm', 'tbp_lv_eccentricity', 'tbp_lv_minorAxisMM',\n",
      "       'tbp_lv_nevi_confidence', 'tbp_lv_norm_border', 'tbp_lv_norm_color',\n",
      "       'tbp_lv_perimeterMM', 'tbp_lv_radial_color_std_max', 'tbp_lv_stdL',\n",
      "       'tbp_lv_stdLExt', 'tbp_lv_symm_2axis', 'tbp_lv_symm_2axis_angle',\n",
      "       'tbp_lv_x', 'tbp_lv_y', 'tbp_lv_z', 'lesion_size_ratio_norm', 'sex',\n",
      "       'anatom_site_general', 'tbp_tile_type', 'tbp_lv_location',\n",
      "       'tbp_lv_location_simple', 'attribution', 'copyright_license'],\n",
      "      dtype='object')\n"
     ]
    }
   ],
   "source": [
    "best_num_rounds = {}\n",
    "val_auc_scores = {}\n",
    "val_pauc_scores = {}\n",
    "all_folds = np.sort(folds.unique())\n",
    "oof_predictions = np.zeros(X_train.shape[0])\n",
    "for fold in all_folds:\n",
    "    print(f\"Running fold: {fold}\")\n",
    "    dev_index = folds[folds != fold].index\n",
    "    val_index = folds[folds == fold].index\n",
    "    \n",
    "    X_dev = X_train.loc[dev_index, :]\n",
    "    y_dev = y_train[dev_index]\n",
    "    \n",
    "    X_val = X_train.loc[val_index, :]\n",
    "    y_val = y_train[val_index]\n",
    "    \n",
    "    lgb_dataset_dev = lgb.Dataset(X_dev, label=y_dev, categorical_feature=categorical_features, free_raw_data=False)\n",
    "    lgb_dataset_val = lgb.Dataset(X_val, label=y_val, categorical_feature=categorical_features, free_raw_data=False)\n",
    "    \n",
    "    model = lgb.train(\n",
    "        params,\n",
    "        lgb_dataset_dev,\n",
    "        num_boost_round=num_rounds,\n",
    "        valid_sets=[lgb_dataset_val],\n",
    "        feval=pauc_80,\n",
    "        callbacks=[early_stopping(stopping_rounds=es_rounds), log_evaluation(log_rounds)],\n",
    "    )\n",
    "    \n",
    "    model.save_model(MODELS_OUTPUT_PATH / f\"{cfg.model_name}_fold_{fold}.txt\")\n",
    "    best_num_rounds[f\"fold_{fold}\"] = model.best_iteration\n",
    "    val_scores = dict(model.best_score[\"valid_0\"])\n",
    "    \n",
    "    val_preds = model.predict(X_val, num_iteration=model.best_iteration)\n",
    "    oof_predictions[val_index] = val_preds\n",
    "    \n",
    "    val_auc_scores[f\"fold_{fold}\"] = compute_auc(y_val, val_preds)\n",
    "    val_pauc_scores[f\"fold_{fold}\"] = val_scores[\"pauc_80\"]\n",
    "    print(\"\\n\")\n",
    "\n",
    "print(\"Val AUC scores:\")\n",
    "pprint(val_auc_scores)\n",
    "print(\"Val PAUC scores:\")\n",
    "pprint(val_pauc_scores)\n",
    "\n",
    "oof_preds_df = pd.DataFrame({\n",
    "    id_column: train_ids,\n",
    "    group_column: groups,\n",
    "    \"fold\": folds,\n",
    "    target_column: y_train,\n",
    "    f\"oof_{cfg.model_name}\": oof_predictions\n",
    "})\n",
    "oof_preds_df.to_csv(f\"oof_preds_{cfg.model_name}.csv\", index=False)\n",
    "\n",
    "cv_auc_oof = compute_auc(oof_preds_df[target_column], oof_preds_df[f\"oof_{cfg.model_name}\"])\n",
    "cv_pauc_oof = compute_pauc(oof_preds_df[target_column], oof_preds_df[f\"oof_{cfg.model_name}\"], min_tpr=0.8)\n",
    "\n",
    "cv_auc_avg = np.mean(list(val_auc_scores.values()))\n",
    "cv_pauc_avg = np.mean(list(val_pauc_scores.values()))\n",
    "\n",
    "cv_auc_std = np.std(list(val_auc_scores.values()))\n",
    "cv_pauc_std = np.std(list(val_pauc_scores.values()))\n",
    "\n",
    "print(f\"CV AUC OOF: {cv_auc_oof}\")\n",
    "print(f\"CV PAUC OOF: {cv_pauc_oof}\")\n",
    "print(f\"CV AUC AVG: {cv_auc_avg}\")\n",
    "print(f\"CV PAUC AVG: {cv_pauc_avg}\")\n",
    "print(f\"CV AUC STD: {cv_auc_std}\")\n",
    "print(f\"CV PAUC STD: {cv_pauc_std}\")\n",
    "print(X_train.columns)"
   ]
  },
  {
   "cell_type": "code",
   "execution_count": 14,
   "id": "ddba4bff",
   "metadata": {
    "execution": {
     "iopub.execute_input": "2024-08-08T02:36:33.776478Z",
     "iopub.status.busy": "2024-08-08T02:36:33.776025Z",
     "iopub.status.idle": "2024-08-08T02:36:34.764206Z",
     "shell.execute_reply": "2024-08-08T02:36:34.762885Z"
    },
    "papermill": {
     "duration": 1.009798,
     "end_time": "2024-08-08T02:36:34.767698",
     "exception": false,
     "start_time": "2024-08-08T02:36:33.757900",
     "status": "completed"
    },
    "tags": []
   },
   "outputs": [
    {
     "data": {
      "image/png": "[encoded data removed]",
      "text/plain": [
       "<Figure size 1000x1500 with 1 Axes>"
      ]
     },
     "metadata": {},
     "output_type": "display_data"
    }
   ],
   "source": [
    "feature_importances = 0\n",
    "for fold in all_folds:\n",
    "    model = lgb.Booster(model_file=MODELS_OUTPUT_PATH / f\"{cfg.model_name}_fold_{fold}.txt\")\n",
    "    if fold == 1:\n",
    "        feature_names = model.feature_name()\n",
    "    feature_importances += model.feature_importance(importance_type=\"gain\")\n",
    "feature_importances /= len(all_folds)\n",
    "\n",
    "imp = pd.DataFrame.from_dict(dict(zip(feature_names, feature_importances)), \n",
    "                             orient=\"index\", columns=[\"imp\"]).sort_values(\"imp\", ascending=True)\n",
    "imp.plot(kind=\"barh\", figsize=(10, 15))\n",
    "\n",
    "metadata = {\n",
    "    \"params\": params,\n",
    "    \"num_rounds\": num_rounds,\n",
    "    \"es_rounds\": es_rounds,\n",
    "    \"best_num_rounds\": best_num_rounds,\n",
    "    \"val_auc_scores\": val_auc_scores,\n",
    "    \"val_pauc_scores\": val_pauc_scores,\n",
    "    \"cv_auc_oof\": cv_auc_oof,\n",
    "    \"cv_pauc_oof\": cv_pauc_oof,\n",
    "    \"cv_auc_avg\": cv_auc_avg,\n",
    "    \"cv_pauc_avg\": cv_pauc_avg\n",
    "}\n",
    "\n",
    "with open(f\"{cfg.model_name}_run_metadata.json\", \"w\") as f:\n",
    "    json.dump(metadata, f)"
   ]
  },
  {
   "cell_type": "code",
   "execution_count": null,
   "id": "e59eb662",
   "metadata": {
    "papermill": {
     "duration": 0.01807,
     "end_time": "2024-08-08T02:36:34.805145",
     "exception": false,
     "start_time": "2024-08-08T02:36:34.787075",
     "status": "completed"
    },
    "tags": []
   },
   "outputs": [],
   "source": []
  }
 ],
 "metadata": {
  "kaggle": {
   "accelerator": "none",
   "dataSources": [
    {
     "databundleVersionId": 9094797,
     "sourceId": 63056,
     "sourceType": "competition"
    },
    {
     "sourceId": 187477024,
     "sourceType": "kernelVersion"
    },
    {
     "sourceId": 189656082,
     "sourceType": "kernelVersion"
    }
   ],
   "dockerImageVersionId": 30746,
   "isGpuEnabled": false,
   "isInternetEnabled": false,
   "language": "python",
   "sourceType": "notebook"
  },
  "kernelspec": {
   "display_name": "Python 3",
   "language": "python",
   "name": "python3"
  },
  "language_info": {
   "codemirror_mode": {
    "name": "ipython",
    "version": 3
   },
   "file_extension": ".py",
   "mimetype": "text/x-python",
   "name": "python",
   "nbconvert_exporter": "python",
   "pygments_lexer": "ipython3",
   "version": "3.10.13"
  },
  "papermill": {
   "default_parameters": {},
   "duration": 421.132673,
   "end_time": "2024-08-08T02:36:36.150181",
   "environment_variables": {},
   "exception": null,
   "input_path": "__notebook__.ipynb",
   "output_path": "__notebook__.ipynb",
   "parameters": {},
   "start_time": "2024-08-08T02:29:35.017508",
   "version": "2.5.0"
  }
 },
 "nbformat": 4,
 "nbformat_minor": 5
}
