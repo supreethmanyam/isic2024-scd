{
 "cells": [
  {
   "cell_type": "code",
   "execution_count": 1,
   "id": "180d4e6c",
   "metadata": {
    "_cell_guid": "b1076dfc-b9ad-4769-8c92-a6c4dae69d19",
    "_uuid": "8f2839f25d086af736a60e9eeb907d3b93b6e0e5",
    "execution": {
     "iopub.execute_input": "2024-08-08T01:34:46.363693Z",
     "iopub.status.busy": "2024-08-08T01:34:46.363228Z",
     "iopub.status.idle": "2024-08-08T01:34:53.721394Z",
     "shell.execute_reply": "2024-08-08T01:34:53.720157Z"
    },
    "papermill": {
     "duration": 7.367288,
     "end_time": "2024-08-08T01:34:53.724114",
     "exception": false,
     "start_time": "2024-08-08T01:34:46.356826",
     "status": "completed"
    },
    "tags": []
   },
   "outputs": [],
   "source": [
    "import json\n",
    "import joblib\n",
    "from pprint import pprint\n",
    "from pathlib import Path\n",
    "\n",
    "import pandas as pd\n",
    "import numpy as np\n",
    "import polars as pl\n",
    "\n",
    "from sklearn.compose import ColumnTransformer\n",
    "from sklearn.preprocessing import OrdinalEncoder, OneHotEncoder\n",
    "\n",
    "import lightgbm as lgb\n",
    "from lightgbm.callback import log_evaluation, early_stopping\n",
    "\n",
    "from isic_helper import DotDict\n",
    "from isic_helper import get_folds\n",
    "from isic_helper import compute_auc, compute_pauc\n",
    "\n",
    "pd.options.display.max_columns = 1000"
   ]
  },
  {
   "cell_type": "code",
   "execution_count": 2,
   "id": "d6500b42",
   "metadata": {
    "execution": {
     "iopub.execute_input": "2024-08-08T01:34:53.735305Z",
     "iopub.status.busy": "2024-08-08T01:34:53.734674Z",
     "iopub.status.idle": "2024-08-08T01:34:53.742312Z",
     "shell.execute_reply": "2024-08-08T01:34:53.739715Z"
    },
    "papermill": {
     "duration": 0.016318,
     "end_time": "2024-08-08T01:34:53.745256",
     "exception": false,
     "start_time": "2024-08-08T01:34:53.728938",
     "status": "completed"
    },
    "tags": []
   },
   "outputs": [],
   "source": [
    "cfg = DotDict()\n",
    "cfg.seed = 2022\n",
    "\n",
    "cfg.models_output_dir = \"models\"\n",
    "cfg.model_name = \"lgb_v4\""
   ]
  },
  {
   "cell_type": "code",
   "execution_count": 3,
   "id": "92d4cf88",
   "metadata": {
    "execution": {
     "iopub.execute_input": "2024-08-08T01:34:53.755695Z",
     "iopub.status.busy": "2024-08-08T01:34:53.755255Z",
     "iopub.status.idle": "2024-08-08T01:34:53.761421Z",
     "shell.execute_reply": "2024-08-08T01:34:53.760257Z"
    },
    "papermill": {
     "duration": 0.014334,
     "end_time": "2024-08-08T01:34:53.763994",
     "exception": false,
     "start_time": "2024-08-08T01:34:53.749660",
     "status": "completed"
    },
    "tags": []
   },
   "outputs": [],
   "source": [
    "INPUT_PATH = Path(\"/kaggle/input/isic-2024-challenge/\")\n",
    "MODELS_OUTPUT_PATH = Path(f\"{cfg.models_output_dir}\")\n",
    "MODELS_OUTPUT_PATH.mkdir(exist_ok=True)\n",
    "\n",
    "id_column = \"isic_id\"\n",
    "target_column = \"target\"\n",
    "group_column = \"patient_id\""
   ]
  },
  {
   "cell_type": "code",
   "execution_count": 4,
   "id": "3c8afb6b",
   "metadata": {
    "execution": {
     "iopub.execute_input": "2024-08-08T01:34:53.774500Z",
     "iopub.status.busy": "2024-08-08T01:34:53.774063Z",
     "iopub.status.idle": "2024-08-08T01:34:53.780816Z",
     "shell.execute_reply": "2024-08-08T01:34:53.779609Z"
    },
    "papermill": {
     "duration": 0.014642,
     "end_time": "2024-08-08T01:34:53.783171",
     "exception": false,
     "start_time": "2024-08-08T01:34:53.768529",
     "status": "completed"
    },
    "tags": []
   },
   "outputs": [],
   "source": [
    "numerical_features = [\n",
    "    \"age_approx\", \n",
    "    \"clin_size_long_diam_mm\",\n",
    "    \"tbp_lv_A\", \"tbp_lv_Aext\",\n",
    "    \"tbp_lv_B\", \"tbp_lv_Bext\",\n",
    "    \"tbp_lv_C\", \"tbp_lv_Cext\",\n",
    "    \"tbp_lv_H\", \"tbp_lv_Hext\",\n",
    "    \"tbp_lv_L\", \"tbp_lv_Lext\",\n",
    "    \"tbp_lv_areaMM2\",\n",
    "    \"tbp_lv_area_perim_ratio\",\n",
    "    \"tbp_lv_color_std_mean\",\n",
    "    \"tbp_lv_deltaA\", \"tbp_lv_deltaB\", \"tbp_lv_deltaL\", \"tbp_lv_deltaLB\", \"tbp_lv_deltaLBnorm\",\n",
    "    \"tbp_lv_eccentricity\",\n",
    "    \"tbp_lv_minorAxisMM\",\n",
    "    \"tbp_lv_nevi_confidence\",\n",
    "    \"tbp_lv_norm_border\", \"tbp_lv_norm_color\",\n",
    "    \"tbp_lv_perimeterMM\",\n",
    "    \"tbp_lv_radial_color_std_max\",\n",
    "    \"tbp_lv_stdL\", \"tbp_lv_stdLExt\",\n",
    "    \"tbp_lv_symm_2axis\", \"tbp_lv_symm_2axis_angle\",\n",
    "    \"tbp_lv_x\", \"tbp_lv_y\", \"tbp_lv_z\",\n",
    "]\n",
    "\n",
    "ord_categorical_features = [\n",
    "    \"sex\", \n",
    "    \"anatom_site_general\", \n",
    "    \"tbp_tile_type\", \n",
    "    \"tbp_lv_location\", \n",
    "    \"tbp_lv_location_simple\",\n",
    "    \"attribution\", \"copyright_license\"\n",
    "]"
   ]
  },
  {
   "cell_type": "code",
   "execution_count": 5,
   "id": "cfe61a75",
   "metadata": {
    "execution": {
     "iopub.execute_input": "2024-08-08T01:34:53.794405Z",
     "iopub.status.busy": "2024-08-08T01:34:53.793638Z",
     "iopub.status.idle": "2024-08-08T01:34:53.804336Z",
     "shell.execute_reply": "2024-08-08T01:34:53.803046Z"
    },
    "papermill": {
     "duration": 0.019635,
     "end_time": "2024-08-08T01:34:53.807198",
     "exception": false,
     "start_time": "2024-08-08T01:34:53.787563",
     "status": "completed"
    },
    "tags": []
   },
   "outputs": [],
   "source": [
    "def read_data(path, is_train=True):\n",
    "    df = pl.read_csv(path, \n",
    "                     schema_overrides={\"age_approx\": pl.Float32}, \n",
    "                     null_values=[\"NA\"])\n",
    "    df = df.rename({\"age_approx\": \"age\"})\n",
    "    if is_train:\n",
    "        folds_df = pl.read_csv(path.parent.parent / \"isic-scd-folds/folds.csv\")\n",
    "        df = df.join(folds_df, on=[id_column , group_column], how=\"left\")\n",
    "    return df\n",
    "\n",
    "def feature_engineering(df):\n",
    "    df = df.join(\n",
    "        df.group_by(group_column).agg(pl.col(\"age\").max().alias(\"age_approx\")),\n",
    "        on=group_column,\n",
    "        how=\"left\"\n",
    "    ).drop(\"age\")\n",
    "    return df.to_pandas()\n",
    "\n",
    "def get_encoder_and_fit(df, num_cols, ord_cat_cols, ohe_cat_cols):\n",
    "    mixed_encoded_preprocessor = ColumnTransformer(\n",
    "    [\n",
    "        (\"numerical\", \"passthrough\", num_cols),\n",
    "        (\n",
    "            \"ord_categorical\",\n",
    "            OrdinalEncoder(handle_unknown=\"use_encoded_value\", unknown_value=-2, encoded_missing_value=-1, dtype=int),\n",
    "            ord_cat_cols,\n",
    "        ),\n",
    "        (\n",
    "            \"ohe_categorical\",\n",
    "            OneHotEncoder(sparse_output=False, dtype=np.int32, handle_unknown=\"ignore\"),\n",
    "            ohe_cat_cols\n",
    "        )\n",
    "    ],\n",
    "    verbose_feature_names_out=False,\n",
    "\n",
    "    )\n",
    "    mixed_encoded_preprocessor.set_output(transform=\"pandas\")\n",
    "    \n",
    "    mixed_encoded_preprocessor.fit(df)\n",
    "    return mixed_encoded_preprocessor\n",
    "    "
   ]
  },
  {
   "cell_type": "code",
   "execution_count": 6,
   "id": "33e29159",
   "metadata": {
    "execution": {
     "iopub.execute_input": "2024-08-08T01:34:53.818665Z",
     "iopub.status.busy": "2024-08-08T01:34:53.817287Z",
     "iopub.status.idle": "2024-08-08T01:34:55.457841Z",
     "shell.execute_reply": "2024-08-08T01:34:55.456665Z"
    },
    "papermill": {
     "duration": 1.648842,
     "end_time": "2024-08-08T01:34:55.460407",
     "exception": false,
     "start_time": "2024-08-08T01:34:53.811565",
     "status": "completed"
    },
    "tags": []
   },
   "outputs": [],
   "source": [
    "train = read_data(INPUT_PATH / \"train-metadata.csv\")\n",
    "test = read_data(INPUT_PATH / \"test-metadata.csv\", is_train=False)"
   ]
  },
  {
   "cell_type": "code",
   "execution_count": 7,
   "id": "1f55c114",
   "metadata": {
    "execution": {
     "iopub.execute_input": "2024-08-08T01:34:55.470752Z",
     "iopub.status.busy": "2024-08-08T01:34:55.470319Z",
     "iopub.status.idle": "2024-08-08T01:34:56.731299Z",
     "shell.execute_reply": "2024-08-08T01:34:56.730098Z"
    },
    "papermill": {
     "duration": 1.269527,
     "end_time": "2024-08-08T01:34:56.734295",
     "exception": false,
     "start_time": "2024-08-08T01:34:55.464768",
     "status": "completed"
    },
    "tags": []
   },
   "outputs": [],
   "source": [
    "train = feature_engineering(train)\n",
    "test = feature_engineering(test)"
   ]
  },
  {
   "cell_type": "code",
   "execution_count": 8,
   "id": "9695702b",
   "metadata": {
    "execution": {
     "iopub.execute_input": "2024-08-08T01:34:56.745695Z",
     "iopub.status.busy": "2024-08-08T01:34:56.744465Z",
     "iopub.status.idle": "2024-08-08T01:34:57.549374Z",
     "shell.execute_reply": "2024-08-08T01:34:57.547807Z"
    },
    "papermill": {
     "duration": 0.813179,
     "end_time": "2024-08-08T01:34:57.552195",
     "exception": false,
     "start_time": "2024-08-08T01:34:56.739016",
     "status": "completed"
    },
    "tags": []
   },
   "outputs": [],
   "source": [
    "encoder = get_encoder_and_fit(train, numerical_features, ord_categorical_features, [])\n",
    "with open(f\"{cfg.model_name}_encoder.joblib\", \"wb\") as f:\n",
    "    joblib.dump(encoder, f)"
   ]
  },
  {
   "cell_type": "code",
   "execution_count": 9,
   "id": "5389877a",
   "metadata": {
    "execution": {
     "iopub.execute_input": "2024-08-08T01:34:57.563092Z",
     "iopub.status.busy": "2024-08-08T01:34:57.562697Z",
     "iopub.status.idle": "2024-08-08T01:34:57.567841Z",
     "shell.execute_reply": "2024-08-08T01:34:57.566507Z"
    },
    "papermill": {
     "duration": 0.013244,
     "end_time": "2024-08-08T01:34:57.570280",
     "exception": false,
     "start_time": "2024-08-08T01:34:57.557036",
     "status": "completed"
    },
    "tags": []
   },
   "outputs": [],
   "source": [
    "categorical_features = ord_categorical_features + [\"age_approx\"]"
   ]
  },
  {
   "cell_type": "code",
   "execution_count": 10,
   "id": "f2607d1e",
   "metadata": {
    "execution": {
     "iopub.execute_input": "2024-08-08T01:34:57.580605Z",
     "iopub.status.busy": "2024-08-08T01:34:57.580182Z",
     "iopub.status.idle": "2024-08-08T01:34:58.274214Z",
     "shell.execute_reply": "2024-08-08T01:34:58.273124Z"
    },
    "papermill": {
     "duration": 0.70227,
     "end_time": "2024-08-08T01:34:58.276886",
     "exception": false,
     "start_time": "2024-08-08T01:34:57.574616",
     "status": "completed"
    },
    "tags": []
   },
   "outputs": [
    {
     "name": "stdout",
     "output_type": "stream",
     "text": [
      "Total number of columns: 41\n"
     ]
    }
   ],
   "source": [
    "X_train = encoder.transform(train)\n",
    "X_test = encoder.transform(test)\n",
    "\n",
    "train_ids = train[id_column]\n",
    "y_train = train[target_column]\n",
    "groups = train[group_column]\n",
    "folds = train[\"fold\"]\n",
    "\n",
    "print(f\"Total number of columns: {len(X_train.columns)}\")"
   ]
  },
  {
   "cell_type": "code",
   "execution_count": 11,
   "id": "cbb7c388",
   "metadata": {
    "execution": {
     "iopub.execute_input": "2024-08-08T01:34:58.287553Z",
     "iopub.status.busy": "2024-08-08T01:34:58.287109Z",
     "iopub.status.idle": "2024-08-08T01:34:58.294221Z",
     "shell.execute_reply": "2024-08-08T01:34:58.293065Z"
    },
    "papermill": {
     "duration": 0.015109,
     "end_time": "2024-08-08T01:34:58.296589",
     "exception": false,
     "start_time": "2024-08-08T01:34:58.281480",
     "status": "completed"
    },
    "tags": []
   },
   "outputs": [],
   "source": [
    "def pauc_80(preds, data):\n",
    "    score_value = compute_pauc(data.get_label(), preds, min_tpr=0.8)   \n",
    "    return \"pauc_80\", score_value, True\n",
    "\n",
    "\n",
    "params = {\n",
    "    \"objective\": \"binary\",\n",
    "    \"metric\": \"custom\",\n",
    "    \"metric_freq\": 10,\n",
    "    \"num_leaves\": 63,\n",
    "    \"learning_rate\": 0.01,\n",
    "    \"bagging_freq\": 6,\n",
    "    \"bagging_fraction\": 0.6,\n",
    "    \"bagging_seed\": cfg.seed,\n",
    "    \"feature_fraction\": 0.3,\n",
    "    \"feature_fraction_seed\": cfg.seed,\n",
    "    \"lambda_l1\": 0.95,\n",
    "    \"lambda_l2\": 0.95,\n",
    "    \"verbosity\": -1\n",
    "}\n",
    "num_rounds = 3000\n",
    "es_rounds = 250\n",
    "log_rounds = 50"
   ]
  },
  {
   "cell_type": "code",
   "execution_count": 12,
   "id": "cfc6f8b1",
   "metadata": {
    "execution": {
     "iopub.execute_input": "2024-08-08T01:34:58.307538Z",
     "iopub.status.busy": "2024-08-08T01:34:58.306929Z",
     "iopub.status.idle": "2024-08-08T01:40:44.258050Z",
     "shell.execute_reply": "2024-08-08T01:40:44.256290Z"
    },
    "papermill": {
     "duration": 345.959551,
     "end_time": "2024-08-08T01:40:44.260709",
     "exception": false,
     "start_time": "2024-08-08T01:34:58.301158",
     "status": "completed"
    },
    "tags": []
   },
   "outputs": [
    {
     "name": "stdout",
     "output_type": "stream",
     "text": [
      "Running fold: 1\n",
      "Training until validation scores don't improve for 250 rounds\n",
      "[50]\tvalid_0's pauc_80: 0.148462\n",
      "[100]\tvalid_0's pauc_80: 0.151175\n",
      "[150]\tvalid_0's pauc_80: 0.155019\n",
      "[200]\tvalid_0's pauc_80: 0.155713\n",
      "[250]\tvalid_0's pauc_80: 0.160251\n",
      "[300]\tvalid_0's pauc_80: 0.161852\n",
      "[350]\tvalid_0's pauc_80: 0.162589\n",
      "[400]\tvalid_0's pauc_80: 0.162479\n",
      "[450]\tvalid_0's pauc_80: 0.163945\n",
      "[500]\tvalid_0's pauc_80: 0.163882\n",
      "[550]\tvalid_0's pauc_80: 0.164533\n",
      "[600]\tvalid_0's pauc_80: 0.165146\n",
      "[650]\tvalid_0's pauc_80: 0.165034\n",
      "[700]\tvalid_0's pauc_80: 0.164577\n",
      "[750]\tvalid_0's pauc_80: 0.164576\n",
      "[800]\tvalid_0's pauc_80: 0.164397\n",
      "Early stopping, best iteration is:\n",
      "[579]\tvalid_0's pauc_80: 0.165467\n",
      "\n",
      "\n",
      "Running fold: 2\n",
      "Training until validation scores don't improve for 250 rounds\n",
      "[50]\tvalid_0's pauc_80: 0.148332\n",
      "[100]\tvalid_0's pauc_80: 0.150557\n",
      "[150]\tvalid_0's pauc_80: 0.150583\n",
      "[200]\tvalid_0's pauc_80: 0.153287\n",
      "[250]\tvalid_0's pauc_80: 0.151583\n",
      "[300]\tvalid_0's pauc_80: 0.15062\n",
      "[350]\tvalid_0's pauc_80: 0.150919\n",
      "[400]\tvalid_0's pauc_80: 0.151506\n",
      "Early stopping, best iteration is:\n",
      "[184]\tvalid_0's pauc_80: 0.153928\n",
      "\n",
      "\n",
      "Running fold: 3\n",
      "Training until validation scores don't improve for 250 rounds\n",
      "[50]\tvalid_0's pauc_80: 0.148342\n",
      "[100]\tvalid_0's pauc_80: 0.149444\n",
      "[150]\tvalid_0's pauc_80: 0.149104\n",
      "[200]\tvalid_0's pauc_80: 0.150939\n",
      "[250]\tvalid_0's pauc_80: 0.152216\n",
      "[300]\tvalid_0's pauc_80: 0.151441\n",
      "[350]\tvalid_0's pauc_80: 0.153324\n",
      "[400]\tvalid_0's pauc_80: 0.155712\n",
      "[450]\tvalid_0's pauc_80: 0.155319\n",
      "[500]\tvalid_0's pauc_80: 0.155792\n",
      "[550]\tvalid_0's pauc_80: 0.156105\n",
      "[600]\tvalid_0's pauc_80: 0.15644\n",
      "[650]\tvalid_0's pauc_80: 0.155263\n",
      "[700]\tvalid_0's pauc_80: 0.15538\n",
      "[750]\tvalid_0's pauc_80: 0.155844\n",
      "[800]\tvalid_0's pauc_80: 0.155241\n",
      "Early stopping, best iteration is:\n",
      "[598]\tvalid_0's pauc_80: 0.156518\n",
      "\n",
      "\n",
      "Running fold: 4\n",
      "Training until validation scores don't improve for 250 rounds\n",
      "[50]\tvalid_0's pauc_80: 0.151671\n",
      "[100]\tvalid_0's pauc_80: 0.152197\n",
      "[150]\tvalid_0's pauc_80: 0.15421\n",
      "[200]\tvalid_0's pauc_80: 0.155949\n",
      "[250]\tvalid_0's pauc_80: 0.15762\n",
      "[300]\tvalid_0's pauc_80: 0.159338\n",
      "[350]\tvalid_0's pauc_80: 0.160271\n",
      "[400]\tvalid_0's pauc_80: 0.161648\n",
      "[450]\tvalid_0's pauc_80: 0.162041\n",
      "[500]\tvalid_0's pauc_80: 0.162132\n",
      "[550]\tvalid_0's pauc_80: 0.162617\n",
      "[600]\tvalid_0's pauc_80: 0.163815\n",
      "[650]\tvalid_0's pauc_80: 0.163715\n",
      "[700]\tvalid_0's pauc_80: 0.164193\n",
      "[750]\tvalid_0's pauc_80: 0.164312\n",
      "[800]\tvalid_0's pauc_80: 0.164483\n",
      "[850]\tvalid_0's pauc_80: 0.164814\n",
      "[900]\tvalid_0's pauc_80: 0.165361\n",
      "[950]\tvalid_0's pauc_80: 0.165975\n",
      "[1000]\tvalid_0's pauc_80: 0.166159\n",
      "[1050]\tvalid_0's pauc_80: 0.166485\n",
      "[1100]\tvalid_0's pauc_80: 0.1668\n",
      "[1150]\tvalid_0's pauc_80: 0.167204\n",
      "[1200]\tvalid_0's pauc_80: 0.167439\n",
      "[1250]\tvalid_0's pauc_80: 0.167606\n",
      "[1300]\tvalid_0's pauc_80: 0.167661\n",
      "[1350]\tvalid_0's pauc_80: 0.168142\n",
      "[1400]\tvalid_0's pauc_80: 0.168557\n",
      "[1450]\tvalid_0's pauc_80: 0.168376\n",
      "[1500]\tvalid_0's pauc_80: 0.168774\n",
      "[1550]\tvalid_0's pauc_80: 0.169005\n",
      "[1600]\tvalid_0's pauc_80: 0.169161\n",
      "[1650]\tvalid_0's pauc_80: 0.16917\n",
      "[1700]\tvalid_0's pauc_80: 0.169244\n",
      "[1750]\tvalid_0's pauc_80: 0.169478\n",
      "[1800]\tvalid_0's pauc_80: 0.169555\n",
      "[1850]\tvalid_0's pauc_80: 0.169649\n",
      "[1900]\tvalid_0's pauc_80: 0.17002\n",
      "[1950]\tvalid_0's pauc_80: 0.16974\n",
      "[2000]\tvalid_0's pauc_80: 0.169766\n",
      "[2050]\tvalid_0's pauc_80: 0.169601\n",
      "[2100]\tvalid_0's pauc_80: 0.169536\n",
      "[2150]\tvalid_0's pauc_80: 0.169372\n",
      "Early stopping, best iteration is:\n",
      "[1900]\tvalid_0's pauc_80: 0.17002\n",
      "\n",
      "\n",
      "Running fold: 5\n",
      "Training until validation scores don't improve for 250 rounds\n",
      "[50]\tvalid_0's pauc_80: 0.158856\n",
      "[100]\tvalid_0's pauc_80: 0.161807\n",
      "[150]\tvalid_0's pauc_80: 0.162694\n",
      "[200]\tvalid_0's pauc_80: 0.163472\n",
      "[250]\tvalid_0's pauc_80: 0.162935\n",
      "[300]\tvalid_0's pauc_80: 0.16285\n",
      "[350]\tvalid_0's pauc_80: 0.164064\n",
      "[400]\tvalid_0's pauc_80: 0.16447\n",
      "[450]\tvalid_0's pauc_80: 0.165259\n",
      "[500]\tvalid_0's pauc_80: 0.165771\n",
      "[550]\tvalid_0's pauc_80: 0.166031\n",
      "[600]\tvalid_0's pauc_80: 0.165258\n",
      "[650]\tvalid_0's pauc_80: 0.165289\n",
      "[700]\tvalid_0's pauc_80: 0.164681\n",
      "[750]\tvalid_0's pauc_80: 0.164367\n",
      "Early stopping, best iteration is:\n",
      "[538]\tvalid_0's pauc_80: 0.166205\n",
      "\n",
      "\n",
      "Val AUC scores:\n",
      "{'fold_1': 0.9536811068188584,\n",
      " 'fold_2': 0.9388228243333442,\n",
      " 'fold_3': 0.9453702374861165,\n",
      " 'fold_4': 0.9639307820943205,\n",
      " 'fold_5': 0.9543254531648827}\n",
      "Val PAUC scores:\n",
      "{'fold_1': 0.16546673561785177,\n",
      " 'fold_2': 0.15392784393832634,\n",
      " 'fold_3': 0.15651776466036862,\n",
      " 'fold_4': 0.17002049768504068,\n",
      " 'fold_5': 0.16620509428715782}\n",
      "CV AUC OOF: 0.9465545020213103\n",
      "CV PAUC OOF: 0.15768520604033973\n",
      "CV AUC AVG: 0.9512260807795044\n",
      "CV PAUC AVG: 0.16242758723774903\n",
      "CV AUC STD: 0.008546044332693022\n",
      "CV PAUC STD: 0.00613726177537509\n",
      "Index(['age_approx', 'clin_size_long_diam_mm', 'tbp_lv_A', 'tbp_lv_Aext',\n",
      "       'tbp_lv_B', 'tbp_lv_Bext', 'tbp_lv_C', 'tbp_lv_Cext', 'tbp_lv_H',\n",
      "       'tbp_lv_Hext', 'tbp_lv_L', 'tbp_lv_Lext', 'tbp_lv_areaMM2',\n",
      "       'tbp_lv_area_perim_ratio', 'tbp_lv_color_std_mean', 'tbp_lv_deltaA',\n",
      "       'tbp_lv_deltaB', 'tbp_lv_deltaL', 'tbp_lv_deltaLB',\n",
      "       'tbp_lv_deltaLBnorm', 'tbp_lv_eccentricity', 'tbp_lv_minorAxisMM',\n",
      "       'tbp_lv_nevi_confidence', 'tbp_lv_norm_border', 'tbp_lv_norm_color',\n",
      "       'tbp_lv_perimeterMM', 'tbp_lv_radial_color_std_max', 'tbp_lv_stdL',\n",
      "       'tbp_lv_stdLExt', 'tbp_lv_symm_2axis', 'tbp_lv_symm_2axis_angle',\n",
      "       'tbp_lv_x', 'tbp_lv_y', 'tbp_lv_z', 'sex', 'anatom_site_general',\n",
      "       'tbp_tile_type', 'tbp_lv_location', 'tbp_lv_location_simple',\n",
      "       'attribution', 'copyright_license'],\n",
      "      dtype='object')\n"
     ]
    }
   ],
   "source": [
    "best_num_rounds = {}\n",
    "val_auc_scores = {}\n",
    "val_pauc_scores = {}\n",
    "all_folds = np.sort(folds.unique())\n",
    "oof_predictions = np.zeros(X_train.shape[0])\n",
    "for fold in all_folds:\n",
    "    print(f\"Running fold: {fold}\")\n",
    "    dev_index = folds[folds != fold].index\n",
    "    val_index = folds[folds == fold].index\n",
    "    \n",
    "    X_dev = X_train.loc[dev_index, :]\n",
    "    y_dev = y_train[dev_index]\n",
    "    \n",
    "    X_val = X_train.loc[val_index, :]\n",
    "    y_val = y_train[val_index]\n",
    "    \n",
    "    lgb_dataset_dev = lgb.Dataset(X_dev, label=y_dev, categorical_feature=categorical_features, free_raw_data=False)\n",
    "    lgb_dataset_val = lgb.Dataset(X_val, label=y_val, categorical_feature=categorical_features, free_raw_data=False)\n",
    "    \n",
    "    model = lgb.train(\n",
    "        params,\n",
    "        lgb_dataset_dev,\n",
    "        num_boost_round=num_rounds,\n",
    "        valid_sets=[lgb_dataset_val],\n",
    "        feval=pauc_80,\n",
    "        callbacks=[early_stopping(stopping_rounds=es_rounds), log_evaluation(log_rounds)],\n",
    "    )\n",
    "    \n",
    "    model.save_model(MODELS_OUTPUT_PATH / f\"{cfg.model_name}_fold_{fold}.txt\")\n",
    "    best_num_rounds[f\"fold_{fold}\"] = model.best_iteration\n",
    "    val_scores = dict(model.best_score[\"valid_0\"])\n",
    "    \n",
    "    val_preds = model.predict(X_val, num_iteration=model.best_iteration)\n",
    "    oof_predictions[val_index] = val_preds\n",
    "    \n",
    "    val_auc_scores[f\"fold_{fold}\"] = compute_auc(y_val, val_preds)\n",
    "    val_pauc_scores[f\"fold_{fold}\"] = val_scores[\"pauc_80\"]\n",
    "    print(\"\\n\")\n",
    "\n",
    "print(\"Val AUC scores:\")\n",
    "pprint(val_auc_scores)\n",
    "print(\"Val PAUC scores:\")\n",
    "pprint(val_pauc_scores)\n",
    "\n",
    "oof_preds_df = pd.DataFrame({\n",
    "    id_column: train_ids,\n",
    "    group_column: groups,\n",
    "    \"fold\": folds,\n",
    "    target_column: y_train,\n",
    "    f\"oof_{cfg.model_name}\": oof_predictions\n",
    "})\n",
    "oof_preds_df.to_csv(f\"oof_preds_{cfg.model_name}.csv\", index=False)\n",
    "\n",
    "cv_auc_oof = compute_auc(oof_preds_df[target_column], oof_preds_df[f\"oof_{cfg.model_name}\"])\n",
    "cv_pauc_oof = compute_pauc(oof_preds_df[target_column], oof_preds_df[f\"oof_{cfg.model_name}\"], min_tpr=0.8)\n",
    "\n",
    "cv_auc_avg = np.mean(list(val_auc_scores.values()))\n",
    "cv_pauc_avg = np.mean(list(val_pauc_scores.values()))\n",
    "\n",
    "cv_auc_std = np.std(list(val_auc_scores.values()))\n",
    "cv_pauc_std = np.std(list(val_pauc_scores.values()))\n",
    "\n",
    "print(f\"CV AUC OOF: {cv_auc_oof}\")\n",
    "print(f\"CV PAUC OOF: {cv_pauc_oof}\")\n",
    "print(f\"CV AUC AVG: {cv_auc_avg}\")\n",
    "print(f\"CV PAUC AVG: {cv_pauc_avg}\")\n",
    "print(f\"CV AUC STD: {cv_auc_std}\")\n",
    "print(f\"CV PAUC STD: {cv_pauc_std}\")\n",
    "print(X_train.columns)"
   ]
  },
  {
   "cell_type": "code",
   "execution_count": 13,
   "id": "621f53ea",
   "metadata": {
    "execution": {
     "iopub.execute_input": "2024-08-08T01:40:44.285248Z",
     "iopub.status.busy": "2024-08-08T01:40:44.284844Z",
     "iopub.status.idle": "2024-08-08T01:40:45.165902Z",
     "shell.execute_reply": "2024-08-08T01:40:45.164716Z"
    },
    "papermill": {
     "duration": 0.897003,
     "end_time": "2024-08-08T01:40:45.169106",
     "exception": false,
     "start_time": "2024-08-08T01:40:44.272103",
     "status": "completed"
    },
    "tags": []
   },
   "outputs": [
    {
     "data": {
      "image/png": "[encoded data removed]",
      "text/plain": [
       "<Figure size 1000x1500 with 1 Axes>"
      ]
     },
     "metadata": {},
     "output_type": "display_data"
    }
   ],
   "source": [
    "feature_importances = 0\n",
    "for fold in all_folds:\n",
    "    model = lgb.Booster(model_file=MODELS_OUTPUT_PATH / f\"{cfg.model_name}_fold_{fold}.txt\")\n",
    "    if fold == 1:\n",
    "        feature_names = model.feature_name()\n",
    "    feature_importances += model.feature_importance(importance_type=\"gain\")\n",
    "feature_importances /= len(all_folds)\n",
    "\n",
    "imp = pd.DataFrame.from_dict(dict(zip(feature_names, feature_importances)), \n",
    "                             orient=\"index\", columns=[\"imp\"]).sort_values(\"imp\", ascending=True)\n",
    "imp.plot(kind=\"barh\", figsize=(10, 15))\n",
    "\n",
    "metadata = {\n",
    "    \"params\": params,\n",
    "    \"num_rounds\": num_rounds,\n",
    "    \"es_rounds\": es_rounds,\n",
    "    \"best_num_rounds\": best_num_rounds,\n",
    "    \"val_auc_scores\": val_auc_scores,\n",
    "    \"val_pauc_scores\": val_pauc_scores,\n",
    "    \"cv_auc_oof\": cv_auc_oof,\n",
    "    \"cv_pauc_oof\": cv_pauc_oof,\n",
    "    \"cv_auc_avg\": cv_auc_avg,\n",
    "    \"cv_pauc_avg\": cv_pauc_avg\n",
    "}\n",
    "\n",
    "with open(f\"{cfg.model_name}_run_metadata.json\", \"w\") as f:\n",
    "    json.dump(metadata, f)"
   ]
  },
  {
   "cell_type": "code",
   "execution_count": null,
   "id": "d55db046",
   "metadata": {
    "papermill": {
     "duration": 0.012491,
     "end_time": "2024-08-08T01:40:45.194341",
     "exception": false,
     "start_time": "2024-08-08T01:40:45.181850",
     "status": "completed"
    },
    "tags": []
   },
   "outputs": [],
   "source": []
  }
 ],
 "metadata": {
  "kaggle": {
   "accelerator": "none",
   "dataSources": [
    {
     "databundleVersionId": 9094797,
     "sourceId": 63056,
     "sourceType": "competition"
    },
    {
     "sourceId": 187477024,
     "sourceType": "kernelVersion"
    },
    {
     "sourceId": 189656082,
     "sourceType": "kernelVersion"
    }
   ],
   "dockerImageVersionId": 30746,
   "isGpuEnabled": false,
   "isInternetEnabled": false,
   "language": "python",
   "sourceType": "notebook"
  },
  "kernelspec": {
   "display_name": "Python 3",
   "language": "python",
   "name": "python3"
  },
  "language_info": {
   "codemirror_mode": {
    "name": "ipython",
    "version": 3
   },
   "file_extension": ".py",
   "mimetype": "text/x-python",
   "name": "python",
   "nbconvert_exporter": "python",
   "pygments_lexer": "ipython3",
   "version": "3.10.13"
  },
  "papermill": {
   "default_parameters": {},
   "duration": 363.08966,
   "end_time": "2024-08-08T01:40:46.534001",
   "environment_variables": {},
   "exception": null,
   "input_path": "__notebook__.ipynb",
   "output_path": "__notebook__.ipynb",
   "parameters": {},
   "start_time": "2024-08-08T01:34:43.444341",
   "version": "2.5.0"
  }
 },
 "nbformat": 4,
 "nbformat_minor": 5
}
