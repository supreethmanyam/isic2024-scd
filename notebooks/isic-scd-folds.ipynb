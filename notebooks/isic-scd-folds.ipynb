{
 "cells": [
  {
   "cell_type": "code",
   "execution_count": 1,
   "id": "c60b6d72",
   "metadata": {
    "_cell_guid": "b1076dfc-b9ad-4769-8c92-a6c4dae69d19",
    "_uuid": "8f2839f25d086af736a60e9eeb907d3b93b6e0e5",
    "execution": {
     "iopub.execute_input": "2024-07-24T22:22:45.463884Z",
     "iopub.status.busy": "2024-07-24T22:22:45.463431Z",
     "iopub.status.idle": "2024-07-24T22:22:48.014531Z",
     "shell.execute_reply": "2024-07-24T22:22:48.013057Z"
    },
    "papermill": {
     "duration": 2.560485,
     "end_time": "2024-07-24T22:22:48.017910",
     "exception": false,
     "start_time": "2024-07-24T22:22:45.457425",
     "status": "completed"
    },
    "tags": []
   },
   "outputs": [],
   "source": [
    "from pathlib import Path\n",
    "\n",
    "import pandas as pd\n",
    "import numpy as np\n",
    "\n",
    "from sklearn.model_selection import GroupKFold"
   ]
  },
  {
   "cell_type": "code",
   "execution_count": 2,
   "id": "b9215381",
   "metadata": {
    "execution": {
     "iopub.execute_input": "2024-07-24T22:22:48.028395Z",
     "iopub.status.busy": "2024-07-24T22:22:48.027778Z",
     "iopub.status.idle": "2024-07-24T22:22:48.033563Z",
     "shell.execute_reply": "2024-07-24T22:22:48.032419Z"
    },
    "papermill": {
     "duration": 0.013813,
     "end_time": "2024-07-24T22:22:48.036179",
     "exception": false,
     "start_time": "2024-07-24T22:22:48.022366",
     "status": "completed"
    },
    "tags": []
   },
   "outputs": [],
   "source": [
    "SEED = 2022\n",
    "FOLDS = 5\n",
    "INPUT_PATH = Path(\"../input/isic-2024-challenge/\")\n",
    "OUTPUT_FILENAME = \"folds.csv\""
   ]
  },
  {
   "cell_type": "code",
   "execution_count": 3,
   "id": "fb797278",
   "metadata": {
    "execution": {
     "iopub.execute_input": "2024-07-24T22:22:48.045701Z",
     "iopub.status.busy": "2024-07-24T22:22:48.045300Z",
     "iopub.status.idle": "2024-07-24T22:22:58.889846Z",
     "shell.execute_reply": "2024-07-24T22:22:58.888490Z"
    },
    "papermill": {
     "duration": 10.853541,
     "end_time": "2024-07-24T22:22:58.893690",
     "exception": false,
     "start_time": "2024-07-24T22:22:48.040149",
     "status": "completed"
    },
    "tags": []
   },
   "outputs": [
    {
     "name": "stdout",
     "output_type": "stream",
     "text": [
      "Train data size: (401059, 55)\n"
     ]
    }
   ],
   "source": [
    "train_metadata = pd.read_csv(INPUT_PATH / \"train-metadata.csv\", low_memory=False);print(f\"Train data size: {train_metadata.shape}\")"
   ]
  },
  {
   "cell_type": "code",
   "execution_count": 4,
   "id": "7cce2ddd",
   "metadata": {
    "execution": {
     "iopub.execute_input": "2024-07-24T22:22:58.903933Z",
     "iopub.status.busy": "2024-07-24T22:22:58.903537Z",
     "iopub.status.idle": "2024-07-24T22:22:59.699530Z",
     "shell.execute_reply": "2024-07-24T22:22:59.698216Z"
    },
    "papermill": {
     "duration": 0.804695,
     "end_time": "2024-07-24T22:22:59.702763",
     "exception": false,
     "start_time": "2024-07-24T22:22:58.898068",
     "status": "completed"
    },
    "tags": []
   },
   "outputs": [],
   "source": [
    "id_column = \"isic_id\"\n",
    "target_column = \"target\"\n",
    "group_column = \"patient_id\"\n",
    "fold_column = \"fold\"\n",
    "final_target_column = \"final_target\"\n",
    "\n",
    "folds = np.zeros(train_metadata.shape[0], dtype=int)\n",
    "\n",
    "gkf = GroupKFold(n_splits=FOLDS)\n",
    "for fold_idx, (_, val_idx) in enumerate(gkf.split(train_metadata, train_metadata[target_column], train_metadata[group_column])):\n",
    "    folds[val_idx] = fold_idx + 1\n",
    "\n",
    "train_metadata[fold_column] = folds"
   ]
  },
  {
   "cell_type": "code",
   "execution_count": 5,
   "id": "f0d2e41f",
   "metadata": {
    "execution": {
     "iopub.execute_input": "2024-07-24T22:22:59.713499Z",
     "iopub.status.busy": "2024-07-24T22:22:59.713103Z",
     "iopub.status.idle": "2024-07-24T22:22:59.719715Z",
     "shell.execute_reply": "2024-07-24T22:22:59.718314Z"
    },
    "papermill": {
     "duration": 0.014544,
     "end_time": "2024-07-24T22:22:59.722277",
     "exception": false,
     "start_time": "2024-07-24T22:22:59.707733",
     "status": "completed"
    },
    "tags": []
   },
   "outputs": [],
   "source": [
    "train_metadata[final_target_column] = train_metadata[target_column]"
   ]
  },
  {
   "cell_type": "code",
   "execution_count": 6,
   "id": "02db81aa",
   "metadata": {
    "execution": {
     "iopub.execute_input": "2024-07-24T22:22:59.732574Z",
     "iopub.status.busy": "2024-07-24T22:22:59.732136Z",
     "iopub.status.idle": "2024-07-24T22:22:59.769981Z",
     "shell.execute_reply": "2024-07-24T22:22:59.768685Z"
    },
    "papermill": {
     "duration": 0.046386,
     "end_time": "2024-07-24T22:22:59.772782",
     "exception": false,
     "start_time": "2024-07-24T22:22:59.726396",
     "status": "completed"
    },
    "tags": []
   },
   "outputs": [
    {
     "data": {
      "text/html": [
       "<div>\n",
       "<style scoped>\n",
       "    .dataframe tbody tr th:only-of-type {\n",
       "        vertical-align: middle;\n",
       "    }\n",
       "\n",
       "    .dataframe tbody tr th {\n",
       "        vertical-align: top;\n",
       "    }\n",
       "\n",
       "    .dataframe thead th {\n",
       "        text-align: right;\n",
       "    }\n",
       "</style>\n",
       "<table border=\"1\" class=\"dataframe\">\n",
       "  <thead>\n",
       "    <tr style=\"text-align: right;\">\n",
       "      <th></th>\n",
       "      <th>isic_id</th>\n",
       "      <th>patient_id</th>\n",
       "      <th>final_target</th>\n",
       "      <th>fold</th>\n",
       "    </tr>\n",
       "  </thead>\n",
       "  <tbody>\n",
       "    <tr>\n",
       "      <th>0</th>\n",
       "      <td>ISIC_0015670</td>\n",
       "      <td>IP_1235828</td>\n",
       "      <td>0</td>\n",
       "      <td>4</td>\n",
       "    </tr>\n",
       "    <tr>\n",
       "      <th>1</th>\n",
       "      <td>ISIC_0015845</td>\n",
       "      <td>IP_8170065</td>\n",
       "      <td>0</td>\n",
       "      <td>1</td>\n",
       "    </tr>\n",
       "    <tr>\n",
       "      <th>2</th>\n",
       "      <td>ISIC_0015864</td>\n",
       "      <td>IP_6724798</td>\n",
       "      <td>0</td>\n",
       "      <td>5</td>\n",
       "    </tr>\n",
       "    <tr>\n",
       "      <th>3</th>\n",
       "      <td>ISIC_0015902</td>\n",
       "      <td>IP_4111386</td>\n",
       "      <td>0</td>\n",
       "      <td>2</td>\n",
       "    </tr>\n",
       "    <tr>\n",
       "      <th>4</th>\n",
       "      <td>ISIC_0024200</td>\n",
       "      <td>IP_8313778</td>\n",
       "      <td>0</td>\n",
       "      <td>1</td>\n",
       "    </tr>\n",
       "    <tr>\n",
       "      <th>5</th>\n",
       "      <td>ISIC_0035502</td>\n",
       "      <td>IP_3026693</td>\n",
       "      <td>0</td>\n",
       "      <td>5</td>\n",
       "    </tr>\n",
       "    <tr>\n",
       "      <th>6</th>\n",
       "      <td>ISIC_0051648</td>\n",
       "      <td>IP_0218255</td>\n",
       "      <td>0</td>\n",
       "      <td>1</td>\n",
       "    </tr>\n",
       "    <tr>\n",
       "      <th>7</th>\n",
       "      <td>ISIC_0051665</td>\n",
       "      <td>IP_7734648</td>\n",
       "      <td>0</td>\n",
       "      <td>2</td>\n",
       "    </tr>\n",
       "    <tr>\n",
       "      <th>8</th>\n",
       "      <td>ISIC_0051710</td>\n",
       "      <td>IP_1307115</td>\n",
       "      <td>0</td>\n",
       "      <td>2</td>\n",
       "    </tr>\n",
       "    <tr>\n",
       "      <th>9</th>\n",
       "      <td>ISIC_0051758</td>\n",
       "      <td>IP_2180091</td>\n",
       "      <td>0</td>\n",
       "      <td>5</td>\n",
       "    </tr>\n",
       "  </tbody>\n",
       "</table>\n",
       "</div>"
      ],
      "text/plain": [
       "        isic_id  patient_id  final_target  fold\n",
       "0  ISIC_0015670  IP_1235828             0     4\n",
       "1  ISIC_0015845  IP_8170065             0     1\n",
       "2  ISIC_0015864  IP_6724798             0     5\n",
       "3  ISIC_0015902  IP_4111386             0     2\n",
       "4  ISIC_0024200  IP_8313778             0     1\n",
       "5  ISIC_0035502  IP_3026693             0     5\n",
       "6  ISIC_0051648  IP_0218255             0     1\n",
       "7  ISIC_0051665  IP_7734648             0     2\n",
       "8  ISIC_0051710  IP_1307115             0     2\n",
       "9  ISIC_0051758  IP_2180091             0     5"
      ]
     },
     "execution_count": 6,
     "metadata": {},
     "output_type": "execute_result"
    }
   ],
   "source": [
    "columns_to_write = [id_column, group_column, final_target_column, fold_column]\n",
    "train_metadata[columns_to_write].head(n=10)"
   ]
  },
  {
   "cell_type": "code",
   "execution_count": 7,
   "id": "276ead7b",
   "metadata": {
    "execution": {
     "iopub.execute_input": "2024-07-24T22:22:59.784031Z",
     "iopub.status.busy": "2024-07-24T22:22:59.782876Z",
     "iopub.status.idle": "2024-07-24T22:22:59.804308Z",
     "shell.execute_reply": "2024-07-24T22:22:59.803172Z"
    },
    "papermill": {
     "duration": 0.029833,
     "end_time": "2024-07-24T22:22:59.807079",
     "exception": false,
     "start_time": "2024-07-24T22:22:59.777246",
     "status": "completed"
    },
    "tags": []
   },
   "outputs": [
    {
     "data": {
      "text/plain": [
       "final_target\n",
       "0    0.99902\n",
       "1    0.00098\n",
       "Name: proportion, dtype: float64"
      ]
     },
     "execution_count": 7,
     "metadata": {},
     "output_type": "execute_result"
    }
   ],
   "source": [
    "train_metadata[final_target_column].value_counts(normalize=True)"
   ]
  },
  {
   "cell_type": "code",
   "execution_count": 8,
   "id": "c6a588d4",
   "metadata": {
    "execution": {
     "iopub.execute_input": "2024-07-24T22:22:59.818217Z",
     "iopub.status.busy": "2024-07-24T22:22:59.817779Z",
     "iopub.status.idle": "2024-07-24T22:23:01.008024Z",
     "shell.execute_reply": "2024-07-24T22:23:01.005965Z"
    },
    "papermill": {
     "duration": 1.1997,
     "end_time": "2024-07-24T22:23:01.011553",
     "exception": false,
     "start_time": "2024-07-24T22:22:59.811853",
     "status": "completed"
    },
    "tags": []
   },
   "outputs": [],
   "source": [
    "train_metadata[columns_to_write].to_csv(OUTPUT_FILENAME, index=False)"
   ]
  },
  {
   "cell_type": "code",
   "execution_count": null,
   "id": "654b5f82",
   "metadata": {
    "papermill": {
     "duration": 0.005057,
     "end_time": "2024-07-24T22:23:01.022706",
     "exception": false,
     "start_time": "2024-07-24T22:23:01.017649",
     "status": "completed"
    },
    "tags": []
   },
   "outputs": [],
   "source": []
  }
 ],
 "metadata": {
  "kaggle": {
   "accelerator": "none",
   "dataSources": [
    {
     "databundleVersionId": 9094797,
     "sourceId": 63056,
     "sourceType": "competition"
    }
   ],
   "dockerImageVersionId": 30732,
   "isGpuEnabled": false,
   "isInternetEnabled": false,
   "language": "python",
   "sourceType": "notebook"
  },
  "kernelspec": {
   "display_name": "Python 3",
   "language": "python",
   "name": "python3"
  },
  "language_info": {
   "codemirror_mode": {
    "name": "ipython",
    "version": 3
   },
   "file_extension": ".py",
   "mimetype": "text/x-python",
   "name": "python",
   "nbconvert_exporter": "python",
   "pygments_lexer": "ipython3",
   "version": "3.10.13"
  },
  "papermill": {
   "default_parameters": {},
   "duration": 19.58803,
   "end_time": "2024-07-24T22:23:01.749546",
   "environment_variables": {},
   "exception": null,
   "input_path": "__notebook__.ipynb",
   "output_path": "__notebook__.ipynb",
   "parameters": {},
   "start_time": "2024-07-24T22:22:42.161516",
   "version": "2.5.0"
  }
 },
 "nbformat": 4,
 "nbformat_minor": 5
}
