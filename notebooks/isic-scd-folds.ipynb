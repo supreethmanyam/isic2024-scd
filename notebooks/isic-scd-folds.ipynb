{
 "cells": [
  {
   "cell_type": "code",
   "execution_count": 1,
   "id": "0fcdc728",
   "metadata": {
    "_cell_guid": "b1076dfc-b9ad-4769-8c92-a6c4dae69d19",
    "_uuid": "8f2839f25d086af736a60e9eeb907d3b93b6e0e5",
    "execution": {
     "iopub.execute_input": "2024-08-16T01:54:22.973064Z",
     "iopub.status.busy": "2024-08-16T01:54:22.972114Z",
     "iopub.status.idle": "2024-08-16T01:54:25.245082Z",
     "shell.execute_reply": "2024-08-16T01:54:25.244055Z"
    },
    "papermill": {
     "duration": 2.281044,
     "end_time": "2024-08-16T01:54:25.247654",
     "exception": false,
     "start_time": "2024-08-16T01:54:22.966610",
     "status": "completed"
    },
    "tags": []
   },
   "outputs": [],
   "source": [
    "from pathlib import Path\n",
    "\n",
    "import pandas as pd\n",
    "import numpy as np\n",
    "\n",
    "import h5py\n",
    "from io import BytesIO\n",
    "from PIL import Image\n",
    "\n",
    "from sklearn.model_selection import GroupKFold, StratifiedGroupKFold"
   ]
  },
  {
   "cell_type": "code",
   "execution_count": 2,
   "id": "2b00549d",
   "metadata": {
    "execution": {
     "iopub.execute_input": "2024-08-16T01:54:25.257260Z",
     "iopub.status.busy": "2024-08-16T01:54:25.256712Z",
     "iopub.status.idle": "2024-08-16T01:54:25.262177Z",
     "shell.execute_reply": "2024-08-16T01:54:25.260989Z"
    },
    "papermill": {
     "duration": 0.012508,
     "end_time": "2024-08-16T01:54:25.264394",
     "exception": false,
     "start_time": "2024-08-16T01:54:25.251886",
     "status": "completed"
    },
    "tags": []
   },
   "outputs": [],
   "source": [
    "SEED = 2022\n",
    "FOLDS = 5\n",
    "INPUT_PATH = Path(\"/kaggle/input/isic-2024-challenge/\")\n",
    "OUTPUT_FILENAME = \"folds.csv\""
   ]
  },
  {
   "cell_type": "code",
   "execution_count": 3,
   "id": "a5e286f8",
   "metadata": {
    "execution": {
     "iopub.execute_input": "2024-08-16T01:54:25.273841Z",
     "iopub.status.busy": "2024-08-16T01:54:25.273000Z",
     "iopub.status.idle": "2024-08-16T01:54:34.518570Z",
     "shell.execute_reply": "2024-08-16T01:54:34.517350Z"
    },
    "papermill": {
     "duration": 9.252657,
     "end_time": "2024-08-16T01:54:34.520769",
     "exception": false,
     "start_time": "2024-08-16T01:54:25.268112",
     "status": "completed"
    },
    "tags": []
   },
   "outputs": [
    {
     "name": "stdout",
     "output_type": "stream",
     "text": [
      "Train data size: (401059, 55)\n"
     ]
    },
    {
     "data": {
      "text/html": [
       "<div>\n",
       "<style scoped>\n",
       "    .dataframe tbody tr th:only-of-type {\n",
       "        vertical-align: middle;\n",
       "    }\n",
       "\n",
       "    .dataframe tbody tr th {\n",
       "        vertical-align: top;\n",
       "    }\n",
       "\n",
       "    .dataframe thead th {\n",
       "        text-align: right;\n",
       "    }\n",
       "</style>\n",
       "<table border=\"1\" class=\"dataframe\">\n",
       "  <thead>\n",
       "    <tr style=\"text-align: right;\">\n",
       "      <th></th>\n",
       "      <th>isic_id</th>\n",
       "      <th>target</th>\n",
       "      <th>patient_id</th>\n",
       "      <th>age_approx</th>\n",
       "      <th>sex</th>\n",
       "      <th>anatom_site_general</th>\n",
       "      <th>clin_size_long_diam_mm</th>\n",
       "      <th>image_type</th>\n",
       "      <th>tbp_tile_type</th>\n",
       "      <th>tbp_lv_A</th>\n",
       "      <th>...</th>\n",
       "      <th>lesion_id</th>\n",
       "      <th>iddx_full</th>\n",
       "      <th>iddx_1</th>\n",
       "      <th>iddx_2</th>\n",
       "      <th>iddx_3</th>\n",
       "      <th>iddx_4</th>\n",
       "      <th>iddx_5</th>\n",
       "      <th>mel_mitotic_index</th>\n",
       "      <th>mel_thick_mm</th>\n",
       "      <th>tbp_lv_dnn_lesion_confidence</th>\n",
       "    </tr>\n",
       "  </thead>\n",
       "  <tbody>\n",
       "    <tr>\n",
       "      <th>0</th>\n",
       "      <td>ISIC_0015670</td>\n",
       "      <td>0</td>\n",
       "      <td>IP_1235828</td>\n",
       "      <td>60.0</td>\n",
       "      <td>male</td>\n",
       "      <td>lower extremity</td>\n",
       "      <td>3.04</td>\n",
       "      <td>TBP tile: close-up</td>\n",
       "      <td>3D: white</td>\n",
       "      <td>20.244422</td>\n",
       "      <td>...</td>\n",
       "      <td>NaN</td>\n",
       "      <td>Benign</td>\n",
       "      <td>Benign</td>\n",
       "      <td>NaN</td>\n",
       "      <td>NaN</td>\n",
       "      <td>NaN</td>\n",
       "      <td>NaN</td>\n",
       "      <td>NaN</td>\n",
       "      <td>NaN</td>\n",
       "      <td>97.517282</td>\n",
       "    </tr>\n",
       "    <tr>\n",
       "      <th>1</th>\n",
       "      <td>ISIC_0015845</td>\n",
       "      <td>0</td>\n",
       "      <td>IP_8170065</td>\n",
       "      <td>60.0</td>\n",
       "      <td>male</td>\n",
       "      <td>head/neck</td>\n",
       "      <td>1.10</td>\n",
       "      <td>TBP tile: close-up</td>\n",
       "      <td>3D: white</td>\n",
       "      <td>31.712570</td>\n",
       "      <td>...</td>\n",
       "      <td>IL_6727506</td>\n",
       "      <td>Benign</td>\n",
       "      <td>Benign</td>\n",
       "      <td>NaN</td>\n",
       "      <td>NaN</td>\n",
       "      <td>NaN</td>\n",
       "      <td>NaN</td>\n",
       "      <td>NaN</td>\n",
       "      <td>NaN</td>\n",
       "      <td>3.141455</td>\n",
       "    </tr>\n",
       "    <tr>\n",
       "      <th>2</th>\n",
       "      <td>ISIC_0015864</td>\n",
       "      <td>0</td>\n",
       "      <td>IP_6724798</td>\n",
       "      <td>60.0</td>\n",
       "      <td>male</td>\n",
       "      <td>posterior torso</td>\n",
       "      <td>3.40</td>\n",
       "      <td>TBP tile: close-up</td>\n",
       "      <td>3D: XP</td>\n",
       "      <td>22.575830</td>\n",
       "      <td>...</td>\n",
       "      <td>NaN</td>\n",
       "      <td>Benign</td>\n",
       "      <td>Benign</td>\n",
       "      <td>NaN</td>\n",
       "      <td>NaN</td>\n",
       "      <td>NaN</td>\n",
       "      <td>NaN</td>\n",
       "      <td>NaN</td>\n",
       "      <td>NaN</td>\n",
       "      <td>99.804040</td>\n",
       "    </tr>\n",
       "    <tr>\n",
       "      <th>3</th>\n",
       "      <td>ISIC_0015902</td>\n",
       "      <td>0</td>\n",
       "      <td>IP_4111386</td>\n",
       "      <td>65.0</td>\n",
       "      <td>male</td>\n",
       "      <td>anterior torso</td>\n",
       "      <td>3.22</td>\n",
       "      <td>TBP tile: close-up</td>\n",
       "      <td>3D: XP</td>\n",
       "      <td>14.242329</td>\n",
       "      <td>...</td>\n",
       "      <td>NaN</td>\n",
       "      <td>Benign</td>\n",
       "      <td>Benign</td>\n",
       "      <td>NaN</td>\n",
       "      <td>NaN</td>\n",
       "      <td>NaN</td>\n",
       "      <td>NaN</td>\n",
       "      <td>NaN</td>\n",
       "      <td>NaN</td>\n",
       "      <td>99.989998</td>\n",
       "    </tr>\n",
       "    <tr>\n",
       "      <th>4</th>\n",
       "      <td>ISIC_0024200</td>\n",
       "      <td>0</td>\n",
       "      <td>IP_8313778</td>\n",
       "      <td>55.0</td>\n",
       "      <td>male</td>\n",
       "      <td>anterior torso</td>\n",
       "      <td>2.73</td>\n",
       "      <td>TBP tile: close-up</td>\n",
       "      <td>3D: white</td>\n",
       "      <td>24.725520</td>\n",
       "      <td>...</td>\n",
       "      <td>NaN</td>\n",
       "      <td>Benign</td>\n",
       "      <td>Benign</td>\n",
       "      <td>NaN</td>\n",
       "      <td>NaN</td>\n",
       "      <td>NaN</td>\n",
       "      <td>NaN</td>\n",
       "      <td>NaN</td>\n",
       "      <td>NaN</td>\n",
       "      <td>70.442510</td>\n",
       "    </tr>\n",
       "  </tbody>\n",
       "</table>\n",
       "<p>5 rows × 55 columns</p>\n",
       "</div>"
      ],
      "text/plain": [
       "        isic_id  target  patient_id  age_approx   sex anatom_site_general  \\\n",
       "0  ISIC_0015670       0  IP_1235828        60.0  male     lower extremity   \n",
       "1  ISIC_0015845       0  IP_8170065        60.0  male           head/neck   \n",
       "2  ISIC_0015864       0  IP_6724798        60.0  male     posterior torso   \n",
       "3  ISIC_0015902       0  IP_4111386        65.0  male      anterior torso   \n",
       "4  ISIC_0024200       0  IP_8313778        55.0  male      anterior torso   \n",
       "\n",
       "   clin_size_long_diam_mm          image_type tbp_tile_type   tbp_lv_A  ...  \\\n",
       "0                    3.04  TBP tile: close-up     3D: white  20.244422  ...   \n",
       "1                    1.10  TBP tile: close-up     3D: white  31.712570  ...   \n",
       "2                    3.40  TBP tile: close-up        3D: XP  22.575830  ...   \n",
       "3                    3.22  TBP tile: close-up        3D: XP  14.242329  ...   \n",
       "4                    2.73  TBP tile: close-up     3D: white  24.725520  ...   \n",
       "\n",
       "    lesion_id  iddx_full  iddx_1  iddx_2  iddx_3  iddx_4  iddx_5  \\\n",
       "0         NaN     Benign  Benign     NaN     NaN     NaN     NaN   \n",
       "1  IL_6727506     Benign  Benign     NaN     NaN     NaN     NaN   \n",
       "2         NaN     Benign  Benign     NaN     NaN     NaN     NaN   \n",
       "3         NaN     Benign  Benign     NaN     NaN     NaN     NaN   \n",
       "4         NaN     Benign  Benign     NaN     NaN     NaN     NaN   \n",
       "\n",
       "   mel_mitotic_index  mel_thick_mm  tbp_lv_dnn_lesion_confidence  \n",
       "0                NaN           NaN                     97.517282  \n",
       "1                NaN           NaN                      3.141455  \n",
       "2                NaN           NaN                     99.804040  \n",
       "3                NaN           NaN                     99.989998  \n",
       "4                NaN           NaN                     70.442510  \n",
       "\n",
       "[5 rows x 55 columns]"
      ]
     },
     "execution_count": 3,
     "metadata": {},
     "output_type": "execute_result"
    }
   ],
   "source": [
    "id_column = \"isic_id\"\n",
    "target_column = \"target\"\n",
    "group_column = \"patient_id\"\n",
    "gkf_fold_column = \"gkf_fold\"\n",
    "sgkf_fold_column = \"sgkf_fold\"\n",
    "\n",
    "AUSTRALIAN_ATTRIBUTIONS = [\n",
    "    \"ACEMID MIA\",\n",
    "    \"Frazer Institute, The University of Queensland, Dermatology Research Centre\"\n",
    "]\n",
    "\n",
    "train_metadata = pd.read_csv(INPUT_PATH / \"train-metadata.csv\", low_memory=False);print(f\"Train data size: {train_metadata.shape}\")\n",
    "train_images = h5py.File(INPUT_PATH / \"train-image.hdf5\", mode=\"r\")\n",
    "train_metadata.head()"
   ]
  },
  {
   "cell_type": "code",
   "execution_count": 4,
   "id": "93b1aeb8",
   "metadata": {
    "execution": {
     "iopub.execute_input": "2024-08-16T01:54:34.531706Z",
     "iopub.status.busy": "2024-08-16T01:54:34.531289Z",
     "iopub.status.idle": "2024-08-16T01:54:34.536553Z",
     "shell.execute_reply": "2024-08-16T01:54:34.535375Z"
    },
    "papermill": {
     "duration": 0.013692,
     "end_time": "2024-08-16T01:54:34.538678",
     "exception": false,
     "start_time": "2024-08-16T01:54:34.524986",
     "status": "completed"
    },
    "tags": []
   },
   "outputs": [],
   "source": [
    "# train_metadata_2020 = pd.read_csv(\"/kaggle/input/isic-2020-challenge/train-metadata.csv\", low_memory=False);print(f\"Train data size: {train_metadata.shape}\")\n",
    "# train_images_2020 = h5py.File(\"/kaggle/input/isic-2020-challenge/train-image.hdf5\", mode=\"r\")\n",
    "\n",
    "# some_id = train_metadata_2020.loc[train_metadata_2020[\"diagnosis\"] == \"melanoma\"].sample(n=1)[id_column].item()\n",
    "# img = Image.open(BytesIO(train_images_2020[some_id][()]))\n",
    "# print(f\"{some_id}: Label: {train_metadata_2020.loc[train_metadata_2020[id_column] == some_id, 'diagnosis'].item()}\")\n",
    "# display(img)\n",
    "\n",
    "# some_id = train_metadata.loc[train_metadata[target_column] == 1].sample(n=1)[id_column].item()\n",
    "# img = Image.open(BytesIO(train_images[some_id][()]))\n",
    "# print(f\"{some_id}: Label: {train_metadata.loc[train_metadata[id_column] == some_id, target_column].item()}\")\n",
    "# display(img)"
   ]
  },
  {
   "cell_type": "code",
   "execution_count": 5,
   "id": "b9375832",
   "metadata": {
    "execution": {
     "iopub.execute_input": "2024-08-16T01:54:34.548592Z",
     "iopub.status.busy": "2024-08-16T01:54:34.548180Z",
     "iopub.status.idle": "2024-08-16T01:54:34.553299Z",
     "shell.execute_reply": "2024-08-16T01:54:34.552145Z"
    },
    "papermill": {
     "duration": 0.012783,
     "end_time": "2024-08-16T01:54:34.555645",
     "exception": false,
     "start_time": "2024-08-16T01:54:34.542862",
     "status": "completed"
    },
    "tags": []
   },
   "outputs": [],
   "source": [
    "drop_ids = [\"ISIC_2346081\", \"ISIC_0573025\", \"ISIC_1443812\", \"ISIC_5374420\"]\n",
    "# https://www.kaggle.com/competitions/isic-2024-challenge/discussion/528168#2960144\n",
    "# https://www.kaggle.com/competitions/isic-2024-challenge/discussion/521145#2935689\n",
    "\n",
    "# for drop_id in drop_ids:\n",
    "#     img = Image.open(BytesIO(train_images[drop_id][()]))\n",
    "#     print(f\"{drop_id}: Label: {train_metadata.loc[train_metadata[id_column] == drop_id, target_column].item()}\")\n",
    "#     display(img)"
   ]
  },
  {
   "cell_type": "code",
   "execution_count": 6,
   "id": "897bd200",
   "metadata": {
    "execution": {
     "iopub.execute_input": "2024-08-16T01:54:34.565774Z",
     "iopub.status.busy": "2024-08-16T01:54:34.565388Z",
     "iopub.status.idle": "2024-08-16T01:54:35.103369Z",
     "shell.execute_reply": "2024-08-16T01:54:35.102070Z"
    },
    "papermill": {
     "duration": 0.546094,
     "end_time": "2024-08-16T01:54:35.105924",
     "exception": false,
     "start_time": "2024-08-16T01:54:34.559830",
     "status": "completed"
    },
    "tags": []
   },
   "outputs": [
    {
     "name": "stdout",
     "output_type": "stream",
     "text": [
      "Fold: 1\n",
      "Target mean: 0.0009599321814147156\n",
      "Unique patients: 206\n",
      "\n",
      "Fold: 2\n",
      "Target mean: 0.000972435202154318\n",
      "Unique patients: 209\n",
      "\n",
      "Fold: 3\n",
      "Target mean: 0.0009973694381069929\n",
      "Unique patients: 208\n",
      "\n",
      "Fold: 4\n",
      "Target mean: 0.0009849268785298408\n",
      "Unique patients: 209\n",
      "\n",
      "Fold: 5\n",
      "Target mean: 0.0009724473257698541\n",
      "Unique patients: 210\n",
      "\n"
     ]
    }
   ],
   "source": [
    "gkf_folds = np.zeros(train_metadata.shape[0], dtype=int)\n",
    "gkf = GroupKFold(n_splits=FOLDS)\n",
    "for fold_idx, (_, val_idx) in enumerate(gkf.split(train_metadata, y=train_metadata[target_column], groups=train_metadata[group_column])):\n",
    "    gkf_folds[val_idx] = fold_idx + 1\n",
    "train_metadata[gkf_fold_column] = gkf_folds\n",
    "train_metadata.loc[train_metadata[id_column].isin(drop_ids), gkf_fold_column] = -1\n",
    "\n",
    "for fold in np.unique(train_metadata[gkf_fold_column]):\n",
    "    if fold < 0:\n",
    "        continue\n",
    "    print(f\"Fold: {fold}\")\n",
    "    print(f\"Target mean: {train_metadata.loc[train_metadata[gkf_fold_column] == fold, target_column].mean()}\")\n",
    "    print(f\"Unique patients: {train_metadata.loc[train_metadata[gkf_fold_column] == fold, group_column].nunique()}\\n\")"
   ]
  },
  {
   "cell_type": "code",
   "execution_count": 7,
   "id": "327d3469",
   "metadata": {
    "execution": {
     "iopub.execute_input": "2024-08-16T01:54:35.116576Z",
     "iopub.status.busy": "2024-08-16T01:54:35.115622Z",
     "iopub.status.idle": "2024-08-16T01:54:35.132132Z",
     "shell.execute_reply": "2024-08-16T01:54:35.131044Z"
    },
    "papermill": {
     "duration": 0.024336,
     "end_time": "2024-08-16T01:54:35.134555",
     "exception": false,
     "start_time": "2024-08-16T01:54:35.110219",
     "status": "completed"
    },
    "tags": []
   },
   "outputs": [
    {
     "data": {
      "text/plain": [
       "gkf_fold\n",
       " 1    80214\n",
       " 2    80211\n",
       " 3    80211\n",
       " 5    80210\n",
       " 4    80209\n",
       "-1        4\n",
       "Name: count, dtype: int64"
      ]
     },
     "execution_count": 7,
     "metadata": {},
     "output_type": "execute_result"
    }
   ],
   "source": [
    "train_metadata[gkf_fold_column].value_counts()"
   ]
  },
  {
   "cell_type": "code",
   "execution_count": 8,
   "id": "fa360451",
   "metadata": {
    "execution": {
     "iopub.execute_input": "2024-08-16T01:54:35.144690Z",
     "iopub.status.busy": "2024-08-16T01:54:35.144287Z",
     "iopub.status.idle": "2024-08-16T01:54:36.728803Z",
     "shell.execute_reply": "2024-08-16T01:54:36.727746Z"
    },
    "papermill": {
     "duration": 1.592403,
     "end_time": "2024-08-16T01:54:36.731241",
     "exception": false,
     "start_time": "2024-08-16T01:54:35.138838",
     "status": "completed"
    },
    "tags": []
   },
   "outputs": [
    {
     "name": "stdout",
     "output_type": "stream",
     "text": [
      "Fold: 1\n",
      "Target mean: 0.0010228705919739416\n",
      "Unique patients: 207\n",
      "\n",
      "Fold: 2\n",
      "Target mean: 0.0009833744165311795\n",
      "Unique patients: 209\n",
      "\n",
      "Fold: 3\n",
      "Target mean: 0.0009668187794879728\n",
      "Unique patients: 209\n",
      "\n",
      "Fold: 4\n",
      "Target mean: 0.0012134568176746263\n",
      "Unique patients: 209\n",
      "\n",
      "Fold: 5\n",
      "Target mean: 0.0006950013365410318\n",
      "Unique patients: 208\n",
      "\n"
     ]
    }
   ],
   "source": [
    "sgkf_folds = np.zeros(train_metadata.shape[0], dtype=int)\n",
    "sgkf = StratifiedGroupKFold(n_splits=FOLDS, shuffle=True, random_state=SEED)\n",
    "for fold_idx, (_, val_idx) in enumerate(sgkf.split(train_metadata, y=train_metadata[target_column], groups=train_metadata[group_column])):\n",
    "    sgkf_folds[val_idx] = fold_idx + 1\n",
    "train_metadata[sgkf_fold_column] = sgkf_folds\n",
    "train_metadata.loc[train_metadata[id_column].isin(drop_ids), sgkf_fold_column] = -1\n",
    "\n",
    "for fold in np.unique(train_metadata[sgkf_fold_column]):\n",
    "    if fold < 0:\n",
    "        continue\n",
    "    print(f\"Fold: {fold}\")\n",
    "    print(f\"Target mean: {train_metadata.loc[train_metadata[sgkf_fold_column] == fold, target_column].mean()}\")\n",
    "    print(f\"Unique patients: {train_metadata.loc[train_metadata[sgkf_fold_column] == fold, group_column].nunique()}\\n\")"
   ]
  },
  {
   "cell_type": "code",
   "execution_count": 9,
   "id": "abcc5ab8",
   "metadata": {
    "execution": {
     "iopub.execute_input": "2024-08-16T01:54:36.741463Z",
     "iopub.status.busy": "2024-08-16T01:54:36.741079Z",
     "iopub.status.idle": "2024-08-16T01:54:36.753176Z",
     "shell.execute_reply": "2024-08-16T01:54:36.752143Z"
    },
    "papermill": {
     "duration": 0.019966,
     "end_time": "2024-08-16T01:54:36.755604",
     "exception": false,
     "start_time": "2024-08-16T01:54:36.735638",
     "status": "completed"
    },
    "tags": []
   },
   "outputs": [
    {
     "data": {
      "text/plain": [
       "sgkf_fold\n",
       " 1    100697\n",
       " 3     77574\n",
       " 2     76268\n",
       " 5     74820\n",
       " 4     71696\n",
       "-1         4\n",
       "Name: count, dtype: int64"
      ]
     },
     "execution_count": 9,
     "metadata": {},
     "output_type": "execute_result"
    }
   ],
   "source": [
    "train_metadata[sgkf_fold_column].value_counts()"
   ]
  },
  {
   "cell_type": "code",
   "execution_count": 10,
   "id": "de29e5e0",
   "metadata": {
    "execution": {
     "iopub.execute_input": "2024-08-16T01:54:36.766017Z",
     "iopub.status.busy": "2024-08-16T01:54:36.765656Z",
     "iopub.status.idle": "2024-08-16T01:54:36.807480Z",
     "shell.execute_reply": "2024-08-16T01:54:36.806440Z"
    },
    "papermill": {
     "duration": 0.049807,
     "end_time": "2024-08-16T01:54:36.809924",
     "exception": false,
     "start_time": "2024-08-16T01:54:36.760117",
     "status": "completed"
    },
    "tags": []
   },
   "outputs": [
    {
     "data": {
      "text/html": [
       "<div>\n",
       "<style scoped>\n",
       "    .dataframe tbody tr th:only-of-type {\n",
       "        vertical-align: middle;\n",
       "    }\n",
       "\n",
       "    .dataframe tbody tr th {\n",
       "        vertical-align: top;\n",
       "    }\n",
       "\n",
       "    .dataframe thead th {\n",
       "        text-align: right;\n",
       "    }\n",
       "</style>\n",
       "<table border=\"1\" class=\"dataframe\">\n",
       "  <thead>\n",
       "    <tr style=\"text-align: right;\">\n",
       "      <th></th>\n",
       "      <th>isic_id</th>\n",
       "      <th>patient_id</th>\n",
       "      <th>gkf_fold</th>\n",
       "      <th>sgkf_fold</th>\n",
       "      <th>is_aus</th>\n",
       "    </tr>\n",
       "  </thead>\n",
       "  <tbody>\n",
       "    <tr>\n",
       "      <th>0</th>\n",
       "      <td>ISIC_0015670</td>\n",
       "      <td>IP_1235828</td>\n",
       "      <td>4</td>\n",
       "      <td>4</td>\n",
       "      <td>0</td>\n",
       "    </tr>\n",
       "    <tr>\n",
       "      <th>1</th>\n",
       "      <td>ISIC_0015845</td>\n",
       "      <td>IP_8170065</td>\n",
       "      <td>1</td>\n",
       "      <td>2</td>\n",
       "      <td>0</td>\n",
       "    </tr>\n",
       "    <tr>\n",
       "      <th>2</th>\n",
       "      <td>ISIC_0015864</td>\n",
       "      <td>IP_6724798</td>\n",
       "      <td>5</td>\n",
       "      <td>3</td>\n",
       "      <td>0</td>\n",
       "    </tr>\n",
       "    <tr>\n",
       "      <th>3</th>\n",
       "      <td>ISIC_0015902</td>\n",
       "      <td>IP_4111386</td>\n",
       "      <td>2</td>\n",
       "      <td>3</td>\n",
       "      <td>1</td>\n",
       "    </tr>\n",
       "    <tr>\n",
       "      <th>4</th>\n",
       "      <td>ISIC_0024200</td>\n",
       "      <td>IP_8313778</td>\n",
       "      <td>1</td>\n",
       "      <td>1</td>\n",
       "      <td>0</td>\n",
       "    </tr>\n",
       "    <tr>\n",
       "      <th>5</th>\n",
       "      <td>ISIC_0035502</td>\n",
       "      <td>IP_3026693</td>\n",
       "      <td>5</td>\n",
       "      <td>1</td>\n",
       "      <td>0</td>\n",
       "    </tr>\n",
       "    <tr>\n",
       "      <th>6</th>\n",
       "      <td>ISIC_0051648</td>\n",
       "      <td>IP_0218255</td>\n",
       "      <td>1</td>\n",
       "      <td>5</td>\n",
       "      <td>1</td>\n",
       "    </tr>\n",
       "    <tr>\n",
       "      <th>7</th>\n",
       "      <td>ISIC_0051665</td>\n",
       "      <td>IP_7734648</td>\n",
       "      <td>2</td>\n",
       "      <td>5</td>\n",
       "      <td>0</td>\n",
       "    </tr>\n",
       "    <tr>\n",
       "      <th>8</th>\n",
       "      <td>ISIC_0051710</td>\n",
       "      <td>IP_1307115</td>\n",
       "      <td>2</td>\n",
       "      <td>3</td>\n",
       "      <td>0</td>\n",
       "    </tr>\n",
       "    <tr>\n",
       "      <th>9</th>\n",
       "      <td>ISIC_0051758</td>\n",
       "      <td>IP_2180091</td>\n",
       "      <td>5</td>\n",
       "      <td>3</td>\n",
       "      <td>0</td>\n",
       "    </tr>\n",
       "  </tbody>\n",
       "</table>\n",
       "</div>"
      ],
      "text/plain": [
       "        isic_id  patient_id  gkf_fold  sgkf_fold  is_aus\n",
       "0  ISIC_0015670  IP_1235828         4          4       0\n",
       "1  ISIC_0015845  IP_8170065         1          2       0\n",
       "2  ISIC_0015864  IP_6724798         5          3       0\n",
       "3  ISIC_0015902  IP_4111386         2          3       1\n",
       "4  ISIC_0024200  IP_8313778         1          1       0\n",
       "5  ISIC_0035502  IP_3026693         5          1       0\n",
       "6  ISIC_0051648  IP_0218255         1          5       1\n",
       "7  ISIC_0051665  IP_7734648         2          5       0\n",
       "8  ISIC_0051710  IP_1307115         2          3       0\n",
       "9  ISIC_0051758  IP_2180091         5          3       0"
      ]
     },
     "execution_count": 10,
     "metadata": {},
     "output_type": "execute_result"
    }
   ],
   "source": [
    "train_metadata[\"is_aus\"] = train_metadata[\"attribution\"].isin(AUSTRALIAN_ATTRIBUTIONS).astype(int)\n",
    "columns_to_write = [id_column, group_column, gkf_fold_column, sgkf_fold_column, \"is_aus\"]\n",
    "train_metadata[columns_to_write].head(n=10)"
   ]
  },
  {
   "cell_type": "code",
   "execution_count": 11,
   "id": "2bc19706",
   "metadata": {
    "execution": {
     "iopub.execute_input": "2024-08-16T01:54:36.821113Z",
     "iopub.status.busy": "2024-08-16T01:54:36.820724Z",
     "iopub.status.idle": "2024-08-16T01:54:37.522248Z",
     "shell.execute_reply": "2024-08-16T01:54:37.521061Z"
    },
    "papermill": {
     "duration": 0.710178,
     "end_time": "2024-08-16T01:54:37.524831",
     "exception": false,
     "start_time": "2024-08-16T01:54:36.814653",
     "status": "completed"
    },
    "tags": []
   },
   "outputs": [],
   "source": [
    "train_metadata[columns_to_write].to_csv(OUTPUT_FILENAME, index=False)"
   ]
  },
  {
   "cell_type": "code",
   "execution_count": null,
   "id": "46104a91",
   "metadata": {
    "papermill": {
     "duration": 0.004294,
     "end_time": "2024-08-16T01:54:37.533876",
     "exception": false,
     "start_time": "2024-08-16T01:54:37.529582",
     "status": "completed"
    },
    "tags": []
   },
   "outputs": [],
   "source": []
  }
 ],
 "metadata": {
  "kaggle": {
   "accelerator": "none",
   "dataSources": [
    {
     "databundleVersionId": 9094797,
     "sourceId": 63056,
     "sourceType": "competition"
    }
   ],
   "dockerImageVersionId": 30732,
   "isGpuEnabled": false,
   "isInternetEnabled": false,
   "language": "python",
   "sourceType": "notebook"
  },
  "kernelspec": {
   "display_name": "Python 3",
   "language": "python",
   "name": "python3"
  },
  "language_info": {
   "codemirror_mode": {
    "name": "ipython",
    "version": 3
   },
   "file_extension": ".py",
   "mimetype": "text/x-python",
   "name": "python",
   "nbconvert_exporter": "python",
   "pygments_lexer": "ipython3",
   "version": "3.10.13"
  },
  "papermill": {
   "default_parameters": {},
   "duration": 17.990602,
   "end_time": "2024-08-16T01:54:38.159087",
   "environment_variables": {},
   "exception": null,
   "input_path": "__notebook__.ipynb",
   "output_path": "__notebook__.ipynb",
   "parameters": {},
   "start_time": "2024-08-16T01:54:20.168485",
   "version": "2.5.0"
  }
 },
 "nbformat": 4,
 "nbformat_minor": 5
}
