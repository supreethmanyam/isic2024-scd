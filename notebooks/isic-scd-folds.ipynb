{
 "cells": [
  {
   "cell_type": "code",
   "execution_count": 1,
   "id": "15dc923f",
   "metadata": {
    "_cell_guid": "b1076dfc-b9ad-4769-8c92-a6c4dae69d19",
    "_uuid": "8f2839f25d086af736a60e9eeb907d3b93b6e0e5",
    "execution": {
     "iopub.execute_input": "2024-07-24T23:08:38.185069Z",
     "iopub.status.busy": "2024-07-24T23:08:38.184624Z",
     "iopub.status.idle": "2024-07-24T23:08:40.249054Z",
     "shell.execute_reply": "2024-07-24T23:08:40.247846Z"
    },
    "papermill": {
     "duration": 2.073685,
     "end_time": "2024-07-24T23:08:40.251601",
     "exception": false,
     "start_time": "2024-07-24T23:08:38.177916",
     "status": "completed"
    },
    "tags": []
   },
   "outputs": [],
   "source": [
    "from pathlib import Path\n",
    "\n",
    "import pandas as pd\n",
    "import numpy as np\n",
    "\n",
    "from sklearn.model_selection import GroupKFold\n",
    "from sklearn.utils.class_weight import compute_class_weight"
   ]
  },
  {
   "cell_type": "code",
   "execution_count": 2,
   "id": "33d3817a",
   "metadata": {
    "execution": {
     "iopub.execute_input": "2024-07-24T23:08:40.261926Z",
     "iopub.status.busy": "2024-07-24T23:08:40.260872Z",
     "iopub.status.idle": "2024-07-24T23:08:40.266292Z",
     "shell.execute_reply": "2024-07-24T23:08:40.265220Z"
    },
    "papermill": {
     "duration": 0.012522,
     "end_time": "2024-07-24T23:08:40.268302",
     "exception": false,
     "start_time": "2024-07-24T23:08:40.255780",
     "status": "completed"
    },
    "tags": []
   },
   "outputs": [],
   "source": [
    "SEED = 2022\n",
    "FOLDS = 5\n",
    "INPUT_PATH = Path(\"../input/isic-2024-challenge/\")\n",
    "OUTPUT_FILENAME = \"folds.csv\""
   ]
  },
  {
   "cell_type": "code",
   "execution_count": 3,
   "id": "61cfe201",
   "metadata": {
    "execution": {
     "iopub.execute_input": "2024-07-24T23:08:40.277955Z",
     "iopub.status.busy": "2024-07-24T23:08:40.277145Z",
     "iopub.status.idle": "2024-07-24T23:08:49.638501Z",
     "shell.execute_reply": "2024-07-24T23:08:49.637280Z"
    },
    "papermill": {
     "duration": 9.369351,
     "end_time": "2024-07-24T23:08:49.641515",
     "exception": false,
     "start_time": "2024-07-24T23:08:40.272164",
     "status": "completed"
    },
    "tags": []
   },
   "outputs": [
    {
     "name": "stdout",
     "output_type": "stream",
     "text": [
      "Train data size: (401059, 55)\n"
     ]
    }
   ],
   "source": [
    "train_metadata = pd.read_csv(INPUT_PATH / \"train-metadata.csv\", low_memory=False);print(f\"Train data size: {train_metadata.shape}\")"
   ]
  },
  {
   "cell_type": "code",
   "execution_count": 4,
   "id": "ba2c9f63",
   "metadata": {
    "execution": {
     "iopub.execute_input": "2024-07-24T23:08:49.663402Z",
     "iopub.status.busy": "2024-07-24T23:08:49.662770Z",
     "iopub.status.idle": "2024-07-24T23:08:49.710473Z",
     "shell.execute_reply": "2024-07-24T23:08:49.709174Z"
    },
    "papermill": {
     "duration": 0.065689,
     "end_time": "2024-07-24T23:08:49.712899",
     "exception": false,
     "start_time": "2024-07-24T23:08:49.647210",
     "status": "completed"
    },
    "tags": []
   },
   "outputs": [
    {
     "data": {
      "text/html": [
       "<div>\n",
       "<style scoped>\n",
       "    .dataframe tbody tr th:only-of-type {\n",
       "        vertical-align: middle;\n",
       "    }\n",
       "\n",
       "    .dataframe tbody tr th {\n",
       "        vertical-align: top;\n",
       "    }\n",
       "\n",
       "    .dataframe thead th {\n",
       "        text-align: right;\n",
       "    }\n",
       "</style>\n",
       "<table border=\"1\" class=\"dataframe\">\n",
       "  <thead>\n",
       "    <tr style=\"text-align: right;\">\n",
       "      <th></th>\n",
       "      <th>isic_id</th>\n",
       "      <th>target</th>\n",
       "      <th>patient_id</th>\n",
       "      <th>age_approx</th>\n",
       "      <th>sex</th>\n",
       "      <th>anatom_site_general</th>\n",
       "      <th>clin_size_long_diam_mm</th>\n",
       "      <th>image_type</th>\n",
       "      <th>tbp_tile_type</th>\n",
       "      <th>tbp_lv_A</th>\n",
       "      <th>...</th>\n",
       "      <th>lesion_id</th>\n",
       "      <th>iddx_full</th>\n",
       "      <th>iddx_1</th>\n",
       "      <th>iddx_2</th>\n",
       "      <th>iddx_3</th>\n",
       "      <th>iddx_4</th>\n",
       "      <th>iddx_5</th>\n",
       "      <th>mel_mitotic_index</th>\n",
       "      <th>mel_thick_mm</th>\n",
       "      <th>tbp_lv_dnn_lesion_confidence</th>\n",
       "    </tr>\n",
       "  </thead>\n",
       "  <tbody>\n",
       "    <tr>\n",
       "      <th>0</th>\n",
       "      <td>ISIC_0015670</td>\n",
       "      <td>0</td>\n",
       "      <td>IP_1235828</td>\n",
       "      <td>60.0</td>\n",
       "      <td>male</td>\n",
       "      <td>lower extremity</td>\n",
       "      <td>3.04</td>\n",
       "      <td>TBP tile: close-up</td>\n",
       "      <td>3D: white</td>\n",
       "      <td>20.244422</td>\n",
       "      <td>...</td>\n",
       "      <td>NaN</td>\n",
       "      <td>Benign</td>\n",
       "      <td>Benign</td>\n",
       "      <td>NaN</td>\n",
       "      <td>NaN</td>\n",
       "      <td>NaN</td>\n",
       "      <td>NaN</td>\n",
       "      <td>NaN</td>\n",
       "      <td>NaN</td>\n",
       "      <td>97.517282</td>\n",
       "    </tr>\n",
       "    <tr>\n",
       "      <th>1</th>\n",
       "      <td>ISIC_0015845</td>\n",
       "      <td>0</td>\n",
       "      <td>IP_8170065</td>\n",
       "      <td>60.0</td>\n",
       "      <td>male</td>\n",
       "      <td>head/neck</td>\n",
       "      <td>1.10</td>\n",
       "      <td>TBP tile: close-up</td>\n",
       "      <td>3D: white</td>\n",
       "      <td>31.712570</td>\n",
       "      <td>...</td>\n",
       "      <td>IL_6727506</td>\n",
       "      <td>Benign</td>\n",
       "      <td>Benign</td>\n",
       "      <td>NaN</td>\n",
       "      <td>NaN</td>\n",
       "      <td>NaN</td>\n",
       "      <td>NaN</td>\n",
       "      <td>NaN</td>\n",
       "      <td>NaN</td>\n",
       "      <td>3.141455</td>\n",
       "    </tr>\n",
       "    <tr>\n",
       "      <th>2</th>\n",
       "      <td>ISIC_0015864</td>\n",
       "      <td>0</td>\n",
       "      <td>IP_6724798</td>\n",
       "      <td>60.0</td>\n",
       "      <td>male</td>\n",
       "      <td>posterior torso</td>\n",
       "      <td>3.40</td>\n",
       "      <td>TBP tile: close-up</td>\n",
       "      <td>3D: XP</td>\n",
       "      <td>22.575830</td>\n",
       "      <td>...</td>\n",
       "      <td>NaN</td>\n",
       "      <td>Benign</td>\n",
       "      <td>Benign</td>\n",
       "      <td>NaN</td>\n",
       "      <td>NaN</td>\n",
       "      <td>NaN</td>\n",
       "      <td>NaN</td>\n",
       "      <td>NaN</td>\n",
       "      <td>NaN</td>\n",
       "      <td>99.804040</td>\n",
       "    </tr>\n",
       "    <tr>\n",
       "      <th>3</th>\n",
       "      <td>ISIC_0015902</td>\n",
       "      <td>0</td>\n",
       "      <td>IP_4111386</td>\n",
       "      <td>65.0</td>\n",
       "      <td>male</td>\n",
       "      <td>anterior torso</td>\n",
       "      <td>3.22</td>\n",
       "      <td>TBP tile: close-up</td>\n",
       "      <td>3D: XP</td>\n",
       "      <td>14.242329</td>\n",
       "      <td>...</td>\n",
       "      <td>NaN</td>\n",
       "      <td>Benign</td>\n",
       "      <td>Benign</td>\n",
       "      <td>NaN</td>\n",
       "      <td>NaN</td>\n",
       "      <td>NaN</td>\n",
       "      <td>NaN</td>\n",
       "      <td>NaN</td>\n",
       "      <td>NaN</td>\n",
       "      <td>99.989998</td>\n",
       "    </tr>\n",
       "    <tr>\n",
       "      <th>4</th>\n",
       "      <td>ISIC_0024200</td>\n",
       "      <td>0</td>\n",
       "      <td>IP_8313778</td>\n",
       "      <td>55.0</td>\n",
       "      <td>male</td>\n",
       "      <td>anterior torso</td>\n",
       "      <td>2.73</td>\n",
       "      <td>TBP tile: close-up</td>\n",
       "      <td>3D: white</td>\n",
       "      <td>24.725520</td>\n",
       "      <td>...</td>\n",
       "      <td>NaN</td>\n",
       "      <td>Benign</td>\n",
       "      <td>Benign</td>\n",
       "      <td>NaN</td>\n",
       "      <td>NaN</td>\n",
       "      <td>NaN</td>\n",
       "      <td>NaN</td>\n",
       "      <td>NaN</td>\n",
       "      <td>NaN</td>\n",
       "      <td>70.442510</td>\n",
       "    </tr>\n",
       "  </tbody>\n",
       "</table>\n",
       "<p>5 rows × 55 columns</p>\n",
       "</div>"
      ],
      "text/plain": [
       "        isic_id  target  patient_id  age_approx   sex anatom_site_general  \\\n",
       "0  ISIC_0015670       0  IP_1235828        60.0  male     lower extremity   \n",
       "1  ISIC_0015845       0  IP_8170065        60.0  male           head/neck   \n",
       "2  ISIC_0015864       0  IP_6724798        60.0  male     posterior torso   \n",
       "3  ISIC_0015902       0  IP_4111386        65.0  male      anterior torso   \n",
       "4  ISIC_0024200       0  IP_8313778        55.0  male      anterior torso   \n",
       "\n",
       "   clin_size_long_diam_mm          image_type tbp_tile_type   tbp_lv_A  ...  \\\n",
       "0                    3.04  TBP tile: close-up     3D: white  20.244422  ...   \n",
       "1                    1.10  TBP tile: close-up     3D: white  31.712570  ...   \n",
       "2                    3.40  TBP tile: close-up        3D: XP  22.575830  ...   \n",
       "3                    3.22  TBP tile: close-up        3D: XP  14.242329  ...   \n",
       "4                    2.73  TBP tile: close-up     3D: white  24.725520  ...   \n",
       "\n",
       "    lesion_id  iddx_full  iddx_1  iddx_2  iddx_3  iddx_4  iddx_5  \\\n",
       "0         NaN     Benign  Benign     NaN     NaN     NaN     NaN   \n",
       "1  IL_6727506     Benign  Benign     NaN     NaN     NaN     NaN   \n",
       "2         NaN     Benign  Benign     NaN     NaN     NaN     NaN   \n",
       "3         NaN     Benign  Benign     NaN     NaN     NaN     NaN   \n",
       "4         NaN     Benign  Benign     NaN     NaN     NaN     NaN   \n",
       "\n",
       "   mel_mitotic_index  mel_thick_mm  tbp_lv_dnn_lesion_confidence  \n",
       "0                NaN           NaN                     97.517282  \n",
       "1                NaN           NaN                      3.141455  \n",
       "2                NaN           NaN                     99.804040  \n",
       "3                NaN           NaN                     99.989998  \n",
       "4                NaN           NaN                     70.442510  \n",
       "\n",
       "[5 rows x 55 columns]"
      ]
     },
     "execution_count": 4,
     "metadata": {},
     "output_type": "execute_result"
    }
   ],
   "source": [
    "train_metadata.head()"
   ]
  },
  {
   "cell_type": "code",
   "execution_count": 5,
   "id": "099b8471",
   "metadata": {
    "execution": {
     "iopub.execute_input": "2024-07-24T23:08:49.724243Z",
     "iopub.status.busy": "2024-07-24T23:08:49.723161Z",
     "iopub.status.idle": "2024-07-24T23:08:50.157400Z",
     "shell.execute_reply": "2024-07-24T23:08:50.156268Z"
    },
    "papermill": {
     "duration": 0.442957,
     "end_time": "2024-07-24T23:08:50.160394",
     "exception": false,
     "start_time": "2024-07-24T23:08:49.717437",
     "status": "completed"
    },
    "tags": []
   },
   "outputs": [],
   "source": [
    "id_column = \"isic_id\"\n",
    "target_column = \"target\"\n",
    "group_column = \"patient_id\"\n",
    "fold_column = \"fold\"\n",
    "multiclass_target_column = \"multiclass_target\"\n",
    "sample_weight_column = \"sample_weight\"\n",
    "\n",
    "folds = np.zeros(train_metadata.shape[0], dtype=int)\n",
    "\n",
    "gkf = GroupKFold(n_splits=FOLDS)\n",
    "for fold_idx, (_, val_idx) in enumerate(gkf.split(train_metadata, train_metadata[target_column], train_metadata[group_column])):\n",
    "    folds[val_idx] = fold_idx + 1\n",
    "\n",
    "train_metadata[fold_column] = folds"
   ]
  },
  {
   "cell_type": "code",
   "execution_count": 6,
   "id": "fad7a7b6",
   "metadata": {
    "execution": {
     "iopub.execute_input": "2024-07-24T23:08:50.170860Z",
     "iopub.status.busy": "2024-07-24T23:08:50.169927Z",
     "iopub.status.idle": "2024-07-24T23:08:50.483724Z",
     "shell.execute_reply": "2024-07-24T23:08:50.482646Z"
    },
    "papermill": {
     "duration": 0.322081,
     "end_time": "2024-07-24T23:08:50.486702",
     "exception": false,
     "start_time": "2024-07-24T23:08:50.164621",
     "status": "completed"
    },
    "tags": []
   },
   "outputs": [],
   "source": [
    "train_metadata[multiclass_target_column] = \"\"\n",
    "train_metadata.loc[(train_metadata[\"lesion_id\"].isnull()) & (train_metadata[target_column] == 0), multiclass_target_column] = \"0_Benign:Weak\"\n",
    "train_metadata.loc[(train_metadata[\"lesion_id\"].notnull()) & (train_metadata[target_column] == 0), multiclass_target_column] = \"0_Benign:Strong\"\n",
    "train_metadata.loc[(train_metadata[\"lesion_id\"].notnull()) & (train_metadata[\"iddx_3\"].str.contains(\"Basal cell carcinoma\")), multiclass_target_column] = \"1_BCC:Strong\"\n",
    "train_metadata.loc[(train_metadata[\"lesion_id\"].notnull()) & (train_metadata[\"iddx_3\"].str.contains(\"Melanoma\")), multiclass_target_column] = \"1_Melanoma:Strong\"\n",
    "train_metadata.loc[(train_metadata[\"lesion_id\"].notnull()) & (train_metadata[\"iddx_3\"].str.contains(\"Squamous cell carcinoma\")), multiclass_target_column] = \"1_SCC:Strong\"\n",
    "assert np.sum(train_metadata[multiclass_target_column] == \"\") == 0"
   ]
  },
  {
   "cell_type": "code",
   "execution_count": 7,
   "id": "b9f3f952",
   "metadata": {
    "execution": {
     "iopub.execute_input": "2024-07-24T23:08:50.501415Z",
     "iopub.status.busy": "2024-07-24T23:08:50.500505Z",
     "iopub.status.idle": "2024-07-24T23:08:50.506117Z",
     "shell.execute_reply": "2024-07-24T23:08:50.505046Z"
    },
    "papermill": {
     "duration": 0.015125,
     "end_time": "2024-07-24T23:08:50.508305",
     "exception": false,
     "start_time": "2024-07-24T23:08:50.493180",
     "status": "completed"
    },
    "tags": []
   },
   "outputs": [],
   "source": [
    "class_weights = {\n",
    "    \"0_Benign:Weak\": 1,\n",
    "    \"0_Benign:Strong\": 2,\n",
    "    \"1_BCC:Strong\": 100,\n",
    "    \"1_Melanoma:Strong\": 100,\n",
    "    \"1_SCC:Strong\": 200\n",
    "}"
   ]
  },
  {
   "cell_type": "code",
   "execution_count": 8,
   "id": "95098745",
   "metadata": {
    "execution": {
     "iopub.execute_input": "2024-07-24T23:08:50.518368Z",
     "iopub.status.busy": "2024-07-24T23:08:50.517836Z",
     "iopub.status.idle": "2024-07-24T23:08:50.558363Z",
     "shell.execute_reply": "2024-07-24T23:08:50.557145Z"
    },
    "papermill": {
     "duration": 0.048494,
     "end_time": "2024-07-24T23:08:50.560927",
     "exception": false,
     "start_time": "2024-07-24T23:08:50.512433",
     "status": "completed"
    },
    "tags": []
   },
   "outputs": [],
   "source": [
    "train_metadata[sample_weight_column] = train_metadata[multiclass_target_column].map(class_weights)"
   ]
  },
  {
   "cell_type": "code",
   "execution_count": 9,
   "id": "4400a84e",
   "metadata": {
    "execution": {
     "iopub.execute_input": "2024-07-24T23:08:50.570742Z",
     "iopub.status.busy": "2024-07-24T23:08:50.570381Z",
     "iopub.status.idle": "2024-07-24T23:08:50.599418Z",
     "shell.execute_reply": "2024-07-24T23:08:50.598303Z"
    },
    "papermill": {
     "duration": 0.036629,
     "end_time": "2024-07-24T23:08:50.601929",
     "exception": false,
     "start_time": "2024-07-24T23:08:50.565300",
     "status": "completed"
    },
    "tags": []
   },
   "outputs": [
    {
     "data": {
      "text/html": [
       "<div>\n",
       "<style scoped>\n",
       "    .dataframe tbody tr th:only-of-type {\n",
       "        vertical-align: middle;\n",
       "    }\n",
       "\n",
       "    .dataframe tbody tr th {\n",
       "        vertical-align: top;\n",
       "    }\n",
       "\n",
       "    .dataframe thead th {\n",
       "        text-align: right;\n",
       "    }\n",
       "</style>\n",
       "<table border=\"1\" class=\"dataframe\">\n",
       "  <thead>\n",
       "    <tr style=\"text-align: right;\">\n",
       "      <th></th>\n",
       "      <th>isic_id</th>\n",
       "      <th>patient_id</th>\n",
       "      <th>multiclass_target</th>\n",
       "      <th>fold</th>\n",
       "      <th>sample_weight</th>\n",
       "    </tr>\n",
       "  </thead>\n",
       "  <tbody>\n",
       "    <tr>\n",
       "      <th>0</th>\n",
       "      <td>ISIC_0015670</td>\n",
       "      <td>IP_1235828</td>\n",
       "      <td>0_Benign:Weak</td>\n",
       "      <td>4</td>\n",
       "      <td>1</td>\n",
       "    </tr>\n",
       "    <tr>\n",
       "      <th>1</th>\n",
       "      <td>ISIC_0015845</td>\n",
       "      <td>IP_8170065</td>\n",
       "      <td>0_Benign:Strong</td>\n",
       "      <td>1</td>\n",
       "      <td>2</td>\n",
       "    </tr>\n",
       "    <tr>\n",
       "      <th>2</th>\n",
       "      <td>ISIC_0015864</td>\n",
       "      <td>IP_6724798</td>\n",
       "      <td>0_Benign:Weak</td>\n",
       "      <td>5</td>\n",
       "      <td>1</td>\n",
       "    </tr>\n",
       "    <tr>\n",
       "      <th>3</th>\n",
       "      <td>ISIC_0015902</td>\n",
       "      <td>IP_4111386</td>\n",
       "      <td>0_Benign:Weak</td>\n",
       "      <td>2</td>\n",
       "      <td>1</td>\n",
       "    </tr>\n",
       "    <tr>\n",
       "      <th>4</th>\n",
       "      <td>ISIC_0024200</td>\n",
       "      <td>IP_8313778</td>\n",
       "      <td>0_Benign:Weak</td>\n",
       "      <td>1</td>\n",
       "      <td>1</td>\n",
       "    </tr>\n",
       "    <tr>\n",
       "      <th>5</th>\n",
       "      <td>ISIC_0035502</td>\n",
       "      <td>IP_3026693</td>\n",
       "      <td>0_Benign:Weak</td>\n",
       "      <td>5</td>\n",
       "      <td>1</td>\n",
       "    </tr>\n",
       "    <tr>\n",
       "      <th>6</th>\n",
       "      <td>ISIC_0051648</td>\n",
       "      <td>IP_0218255</td>\n",
       "      <td>0_Benign:Weak</td>\n",
       "      <td>1</td>\n",
       "      <td>1</td>\n",
       "    </tr>\n",
       "    <tr>\n",
       "      <th>7</th>\n",
       "      <td>ISIC_0051665</td>\n",
       "      <td>IP_7734648</td>\n",
       "      <td>0_Benign:Weak</td>\n",
       "      <td>2</td>\n",
       "      <td>1</td>\n",
       "    </tr>\n",
       "    <tr>\n",
       "      <th>8</th>\n",
       "      <td>ISIC_0051710</td>\n",
       "      <td>IP_1307115</td>\n",
       "      <td>0_Benign:Weak</td>\n",
       "      <td>2</td>\n",
       "      <td>1</td>\n",
       "    </tr>\n",
       "    <tr>\n",
       "      <th>9</th>\n",
       "      <td>ISIC_0051758</td>\n",
       "      <td>IP_2180091</td>\n",
       "      <td>0_Benign:Weak</td>\n",
       "      <td>5</td>\n",
       "      <td>1</td>\n",
       "    </tr>\n",
       "  </tbody>\n",
       "</table>\n",
       "</div>"
      ],
      "text/plain": [
       "        isic_id  patient_id multiclass_target  fold  sample_weight\n",
       "0  ISIC_0015670  IP_1235828     0_Benign:Weak     4              1\n",
       "1  ISIC_0015845  IP_8170065   0_Benign:Strong     1              2\n",
       "2  ISIC_0015864  IP_6724798     0_Benign:Weak     5              1\n",
       "3  ISIC_0015902  IP_4111386     0_Benign:Weak     2              1\n",
       "4  ISIC_0024200  IP_8313778     0_Benign:Weak     1              1\n",
       "5  ISIC_0035502  IP_3026693     0_Benign:Weak     5              1\n",
       "6  ISIC_0051648  IP_0218255     0_Benign:Weak     1              1\n",
       "7  ISIC_0051665  IP_7734648     0_Benign:Weak     2              1\n",
       "8  ISIC_0051710  IP_1307115     0_Benign:Weak     2              1\n",
       "9  ISIC_0051758  IP_2180091     0_Benign:Weak     5              1"
      ]
     },
     "execution_count": 9,
     "metadata": {},
     "output_type": "execute_result"
    }
   ],
   "source": [
    "columns_to_write = [id_column, group_column, multiclass_target_column, fold_column, sample_weight_column]\n",
    "train_metadata[columns_to_write].head(n=10)"
   ]
  },
  {
   "cell_type": "code",
   "execution_count": 10,
   "id": "5504c7b8",
   "metadata": {
    "execution": {
     "iopub.execute_input": "2024-07-24T23:08:50.612842Z",
     "iopub.status.busy": "2024-07-24T23:08:50.611982Z",
     "iopub.status.idle": "2024-07-24T23:08:50.645966Z",
     "shell.execute_reply": "2024-07-24T23:08:50.644894Z"
    },
    "papermill": {
     "duration": 0.041891,
     "end_time": "2024-07-24T23:08:50.648267",
     "exception": false,
     "start_time": "2024-07-24T23:08:50.606376",
     "status": "completed"
    },
    "tags": []
   },
   "outputs": [
    {
     "data": {
      "text/plain": [
       "multiclass_target\n",
       "0_Benign:Weak        379001\n",
       "0_Benign:Strong       21665\n",
       "1_BCC:Strong            163\n",
       "1_Melanoma:Strong       157\n",
       "1_SCC:Strong             73\n",
       "Name: count, dtype: int64"
      ]
     },
     "execution_count": 10,
     "metadata": {},
     "output_type": "execute_result"
    }
   ],
   "source": [
    "train_metadata[multiclass_target_column].value_counts()"
   ]
  },
  {
   "cell_type": "code",
   "execution_count": 11,
   "id": "d0f8a9a2",
   "metadata": {
    "execution": {
     "iopub.execute_input": "2024-07-24T23:08:50.658654Z",
     "iopub.status.busy": "2024-07-24T23:08:50.658306Z",
     "iopub.status.idle": "2024-07-24T23:08:50.688546Z",
     "shell.execute_reply": "2024-07-24T23:08:50.687309Z"
    },
    "papermill": {
     "duration": 0.037861,
     "end_time": "2024-07-24T23:08:50.690642",
     "exception": false,
     "start_time": "2024-07-24T23:08:50.652781",
     "status": "completed"
    },
    "tags": []
   },
   "outputs": [
    {
     "data": {
      "text/plain": [
       "multiclass_target\n",
       "0_Benign:Weak        0.945001\n",
       "0_Benign:Strong      0.054019\n",
       "1_BCC:Strong         0.000406\n",
       "1_Melanoma:Strong    0.000391\n",
       "1_SCC:Strong         0.000182\n",
       "Name: proportion, dtype: float64"
      ]
     },
     "execution_count": 11,
     "metadata": {},
     "output_type": "execute_result"
    }
   ],
   "source": [
    "train_metadata[multiclass_target_column].value_counts(normalize=True)"
   ]
  },
  {
   "cell_type": "code",
   "execution_count": 12,
   "id": "e1f919eb",
   "metadata": {
    "execution": {
     "iopub.execute_input": "2024-07-24T23:08:50.701963Z",
     "iopub.status.busy": "2024-07-24T23:08:50.701059Z",
     "iopub.status.idle": "2024-07-24T23:08:51.543219Z",
     "shell.execute_reply": "2024-07-24T23:08:51.541850Z"
    },
    "papermill": {
     "duration": 0.850568,
     "end_time": "2024-07-24T23:08:51.545917",
     "exception": false,
     "start_time": "2024-07-24T23:08:50.695349",
     "status": "completed"
    },
    "tags": []
   },
   "outputs": [],
   "source": [
    "train_metadata[columns_to_write].to_csv(OUTPUT_FILENAME, index=False)"
   ]
  },
  {
   "cell_type": "code",
   "execution_count": null,
   "id": "2fa1c1c5",
   "metadata": {
    "papermill": {
     "duration": 0.004548,
     "end_time": "2024-07-24T23:08:51.555150",
     "exception": false,
     "start_time": "2024-07-24T23:08:51.550602",
     "status": "completed"
    },
    "tags": []
   },
   "outputs": [],
   "source": []
  }
 ],
 "metadata": {
  "kaggle": {
   "accelerator": "none",
   "dataSources": [
    {
     "databundleVersionId": 9094797,
     "sourceId": 63056,
     "sourceType": "competition"
    }
   ],
   "dockerImageVersionId": 30732,
   "isGpuEnabled": false,
   "isInternetEnabled": false,
   "language": "python",
   "sourceType": "notebook"
  },
  "kernelspec": {
   "display_name": "Python 3",
   "language": "python",
   "name": "python3"
  },
  "language_info": {
   "codemirror_mode": {
    "name": "ipython",
    "version": 3
   },
   "file_extension": ".py",
   "mimetype": "text/x-python",
   "name": "python",
   "nbconvert_exporter": "python",
   "pygments_lexer": "ipython3",
   "version": "3.10.13"
  },
  "papermill": {
   "default_parameters": {},
   "duration": 17.011395,
   "end_time": "2024-07-24T23:08:52.180500",
   "environment_variables": {},
   "exception": null,
   "input_path": "__notebook__.ipynb",
   "output_path": "__notebook__.ipynb",
   "parameters": {},
   "start_time": "2024-07-24T23:08:35.169105",
   "version": "2.5.0"
  }
 },
 "nbformat": 4,
 "nbformat_minor": 5
}
