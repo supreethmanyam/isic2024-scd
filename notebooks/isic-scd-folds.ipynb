{
 "cells": [
  {
   "cell_type": "code",
   "execution_count": 1,
   "id": "c68257fc",
   "metadata": {
    "_cell_guid": "b1076dfc-b9ad-4769-8c92-a6c4dae69d19",
    "_uuid": "8f2839f25d086af736a60e9eeb907d3b93b6e0e5",
    "execution": {
     "iopub.execute_input": "2024-08-19T01:45:57.553068Z",
     "iopub.status.busy": "2024-08-19T01:45:57.552611Z",
     "iopub.status.idle": "2024-08-19T01:45:59.797363Z",
     "shell.execute_reply": "2024-08-19T01:45:59.796205Z"
    },
    "papermill": {
     "duration": 2.253474,
     "end_time": "2024-08-19T01:45:59.800234",
     "exception": false,
     "start_time": "2024-08-19T01:45:57.546760",
     "status": "completed"
    },
    "tags": []
   },
   "outputs": [],
   "source": [
    "from pathlib import Path\n",
    "\n",
    "import pandas as pd\n",
    "import numpy as np\n",
    "\n",
    "import h5py\n",
    "from io import BytesIO\n",
    "from PIL import Image\n",
    "\n",
    "from sklearn.model_selection import GroupKFold"
   ]
  },
  {
   "cell_type": "code",
   "execution_count": 2,
   "id": "64474126",
   "metadata": {
    "execution": {
     "iopub.execute_input": "2024-08-19T01:45:59.809724Z",
     "iopub.status.busy": "2024-08-19T01:45:59.809147Z",
     "iopub.status.idle": "2024-08-19T01:45:59.814726Z",
     "shell.execute_reply": "2024-08-19T01:45:59.813639Z"
    },
    "papermill": {
     "duration": 0.012852,
     "end_time": "2024-08-19T01:45:59.817154",
     "exception": false,
     "start_time": "2024-08-19T01:45:59.804302",
     "status": "completed"
    },
    "tags": []
   },
   "outputs": [],
   "source": [
    "SEED = 2022\n",
    "FOLDS = 5\n",
    "INPUT_PATH = Path(\"/kaggle/input/isic-2024-challenge/\")\n",
    "OUTPUT_FILENAME = \"folds.csv\""
   ]
  },
  {
   "cell_type": "code",
   "execution_count": 3,
   "id": "5ee3e8fc",
   "metadata": {
    "execution": {
     "iopub.execute_input": "2024-08-19T01:45:59.826075Z",
     "iopub.status.busy": "2024-08-19T01:45:59.825647Z",
     "iopub.status.idle": "2024-08-19T01:46:09.736796Z",
     "shell.execute_reply": "2024-08-19T01:46:09.735533Z"
    },
    "papermill": {
     "duration": 9.918981,
     "end_time": "2024-08-19T01:46:09.739842",
     "exception": false,
     "start_time": "2024-08-19T01:45:59.820861",
     "status": "completed"
    },
    "tags": []
   },
   "outputs": [
    {
     "name": "stdout",
     "output_type": "stream",
     "text": [
      "Train data size: (401059, 55)\n"
     ]
    },
    {
     "data": {
      "text/html": [
       "<div>\n",
       "<style scoped>\n",
       "    .dataframe tbody tr th:only-of-type {\n",
       "        vertical-align: middle;\n",
       "    }\n",
       "\n",
       "    .dataframe tbody tr th {\n",
       "        vertical-align: top;\n",
       "    }\n",
       "\n",
       "    .dataframe thead th {\n",
       "        text-align: right;\n",
       "    }\n",
       "</style>\n",
       "<table border=\"1\" class=\"dataframe\">\n",
       "  <thead>\n",
       "    <tr style=\"text-align: right;\">\n",
       "      <th></th>\n",
       "      <th>isic_id</th>\n",
       "      <th>target</th>\n",
       "      <th>patient_id</th>\n",
       "      <th>age_approx</th>\n",
       "      <th>sex</th>\n",
       "      <th>anatom_site_general</th>\n",
       "      <th>clin_size_long_diam_mm</th>\n",
       "      <th>image_type</th>\n",
       "      <th>tbp_tile_type</th>\n",
       "      <th>tbp_lv_A</th>\n",
       "      <th>...</th>\n",
       "      <th>lesion_id</th>\n",
       "      <th>iddx_full</th>\n",
       "      <th>iddx_1</th>\n",
       "      <th>iddx_2</th>\n",
       "      <th>iddx_3</th>\n",
       "      <th>iddx_4</th>\n",
       "      <th>iddx_5</th>\n",
       "      <th>mel_mitotic_index</th>\n",
       "      <th>mel_thick_mm</th>\n",
       "      <th>tbp_lv_dnn_lesion_confidence</th>\n",
       "    </tr>\n",
       "  </thead>\n",
       "  <tbody>\n",
       "    <tr>\n",
       "      <th>0</th>\n",
       "      <td>ISIC_0015670</td>\n",
       "      <td>0</td>\n",
       "      <td>IP_1235828</td>\n",
       "      <td>60.0</td>\n",
       "      <td>male</td>\n",
       "      <td>lower extremity</td>\n",
       "      <td>3.04</td>\n",
       "      <td>TBP tile: close-up</td>\n",
       "      <td>3D: white</td>\n",
       "      <td>20.244422</td>\n",
       "      <td>...</td>\n",
       "      <td>NaN</td>\n",
       "      <td>Benign</td>\n",
       "      <td>Benign</td>\n",
       "      <td>NaN</td>\n",
       "      <td>NaN</td>\n",
       "      <td>NaN</td>\n",
       "      <td>NaN</td>\n",
       "      <td>NaN</td>\n",
       "      <td>NaN</td>\n",
       "      <td>97.517282</td>\n",
       "    </tr>\n",
       "    <tr>\n",
       "      <th>1</th>\n",
       "      <td>ISIC_0015845</td>\n",
       "      <td>0</td>\n",
       "      <td>IP_8170065</td>\n",
       "      <td>60.0</td>\n",
       "      <td>male</td>\n",
       "      <td>head/neck</td>\n",
       "      <td>1.10</td>\n",
       "      <td>TBP tile: close-up</td>\n",
       "      <td>3D: white</td>\n",
       "      <td>31.712570</td>\n",
       "      <td>...</td>\n",
       "      <td>IL_6727506</td>\n",
       "      <td>Benign</td>\n",
       "      <td>Benign</td>\n",
       "      <td>NaN</td>\n",
       "      <td>NaN</td>\n",
       "      <td>NaN</td>\n",
       "      <td>NaN</td>\n",
       "      <td>NaN</td>\n",
       "      <td>NaN</td>\n",
       "      <td>3.141455</td>\n",
       "    </tr>\n",
       "    <tr>\n",
       "      <th>2</th>\n",
       "      <td>ISIC_0015864</td>\n",
       "      <td>0</td>\n",
       "      <td>IP_6724798</td>\n",
       "      <td>60.0</td>\n",
       "      <td>male</td>\n",
       "      <td>posterior torso</td>\n",
       "      <td>3.40</td>\n",
       "      <td>TBP tile: close-up</td>\n",
       "      <td>3D: XP</td>\n",
       "      <td>22.575830</td>\n",
       "      <td>...</td>\n",
       "      <td>NaN</td>\n",
       "      <td>Benign</td>\n",
       "      <td>Benign</td>\n",
       "      <td>NaN</td>\n",
       "      <td>NaN</td>\n",
       "      <td>NaN</td>\n",
       "      <td>NaN</td>\n",
       "      <td>NaN</td>\n",
       "      <td>NaN</td>\n",
       "      <td>99.804040</td>\n",
       "    </tr>\n",
       "    <tr>\n",
       "      <th>3</th>\n",
       "      <td>ISIC_0015902</td>\n",
       "      <td>0</td>\n",
       "      <td>IP_4111386</td>\n",
       "      <td>65.0</td>\n",
       "      <td>male</td>\n",
       "      <td>anterior torso</td>\n",
       "      <td>3.22</td>\n",
       "      <td>TBP tile: close-up</td>\n",
       "      <td>3D: XP</td>\n",
       "      <td>14.242329</td>\n",
       "      <td>...</td>\n",
       "      <td>NaN</td>\n",
       "      <td>Benign</td>\n",
       "      <td>Benign</td>\n",
       "      <td>NaN</td>\n",
       "      <td>NaN</td>\n",
       "      <td>NaN</td>\n",
       "      <td>NaN</td>\n",
       "      <td>NaN</td>\n",
       "      <td>NaN</td>\n",
       "      <td>99.989998</td>\n",
       "    </tr>\n",
       "    <tr>\n",
       "      <th>4</th>\n",
       "      <td>ISIC_0024200</td>\n",
       "      <td>0</td>\n",
       "      <td>IP_8313778</td>\n",
       "      <td>55.0</td>\n",
       "      <td>male</td>\n",
       "      <td>anterior torso</td>\n",
       "      <td>2.73</td>\n",
       "      <td>TBP tile: close-up</td>\n",
       "      <td>3D: white</td>\n",
       "      <td>24.725520</td>\n",
       "      <td>...</td>\n",
       "      <td>NaN</td>\n",
       "      <td>Benign</td>\n",
       "      <td>Benign</td>\n",
       "      <td>NaN</td>\n",
       "      <td>NaN</td>\n",
       "      <td>NaN</td>\n",
       "      <td>NaN</td>\n",
       "      <td>NaN</td>\n",
       "      <td>NaN</td>\n",
       "      <td>70.442510</td>\n",
       "    </tr>\n",
       "  </tbody>\n",
       "</table>\n",
       "<p>5 rows × 55 columns</p>\n",
       "</div>"
      ],
      "text/plain": [
       "        isic_id  target  patient_id  age_approx   sex anatom_site_general  \\\n",
       "0  ISIC_0015670       0  IP_1235828        60.0  male     lower extremity   \n",
       "1  ISIC_0015845       0  IP_8170065        60.0  male           head/neck   \n",
       "2  ISIC_0015864       0  IP_6724798        60.0  male     posterior torso   \n",
       "3  ISIC_0015902       0  IP_4111386        65.0  male      anterior torso   \n",
       "4  ISIC_0024200       0  IP_8313778        55.0  male      anterior torso   \n",
       "\n",
       "   clin_size_long_diam_mm          image_type tbp_tile_type   tbp_lv_A  ...  \\\n",
       "0                    3.04  TBP tile: close-up     3D: white  20.244422  ...   \n",
       "1                    1.10  TBP tile: close-up     3D: white  31.712570  ...   \n",
       "2                    3.40  TBP tile: close-up        3D: XP  22.575830  ...   \n",
       "3                    3.22  TBP tile: close-up        3D: XP  14.242329  ...   \n",
       "4                    2.73  TBP tile: close-up     3D: white  24.725520  ...   \n",
       "\n",
       "    lesion_id  iddx_full  iddx_1  iddx_2  iddx_3  iddx_4  iddx_5  \\\n",
       "0         NaN     Benign  Benign     NaN     NaN     NaN     NaN   \n",
       "1  IL_6727506     Benign  Benign     NaN     NaN     NaN     NaN   \n",
       "2         NaN     Benign  Benign     NaN     NaN     NaN     NaN   \n",
       "3         NaN     Benign  Benign     NaN     NaN     NaN     NaN   \n",
       "4         NaN     Benign  Benign     NaN     NaN     NaN     NaN   \n",
       "\n",
       "   mel_mitotic_index  mel_thick_mm  tbp_lv_dnn_lesion_confidence  \n",
       "0                NaN           NaN                     97.517282  \n",
       "1                NaN           NaN                      3.141455  \n",
       "2                NaN           NaN                     99.804040  \n",
       "3                NaN           NaN                     99.989998  \n",
       "4                NaN           NaN                     70.442510  \n",
       "\n",
       "[5 rows x 55 columns]"
      ]
     },
     "execution_count": 3,
     "metadata": {},
     "output_type": "execute_result"
    }
   ],
   "source": [
    "id_column = \"isic_id\"\n",
    "target_column = \"target\"\n",
    "group_column = \"patient_id\"\n",
    "fold_column = \"fold\"\n",
    "\n",
    "train_metadata = pd.read_csv(INPUT_PATH / \"train-metadata.csv\", low_memory=False);print(f\"Train data size: {train_metadata.shape}\")\n",
    "train_metadata.head()"
   ]
  },
  {
   "cell_type": "code",
   "execution_count": 4,
   "id": "e47aff97",
   "metadata": {
    "execution": {
     "iopub.execute_input": "2024-08-19T01:46:09.749938Z",
     "iopub.status.busy": "2024-08-19T01:46:09.749408Z",
     "iopub.status.idle": "2024-08-19T01:46:10.526711Z",
     "shell.execute_reply": "2024-08-19T01:46:10.525526Z"
    },
    "papermill": {
     "duration": 0.785175,
     "end_time": "2024-08-19T01:46:10.529191",
     "exception": false,
     "start_time": "2024-08-19T01:46:09.744016",
     "status": "completed"
    },
    "tags": []
   },
   "outputs": [
    {
     "name": "stdout",
     "output_type": "stream",
     "text": [
      "Fold: 1\n",
      "Target mean: 0.0009599321814147156\n",
      "Unique patients: 206\n",
      "\n",
      "Fold: 2\n",
      "Target mean: 0.0009724230788410712\n",
      "Unique patients: 209\n",
      "\n",
      "Fold: 3\n",
      "Target mean: 0.0009973694381069929\n",
      "Unique patients: 208\n",
      "\n",
      "Fold: 4\n",
      "Target mean: 0.0009973694381069929\n",
      "Unique patients: 209\n",
      "\n",
      "Fold: 5\n",
      "Target mean: 0.000972435202154318\n",
      "Unique patients: 210\n",
      "\n"
     ]
    }
   ],
   "source": [
    "folds = np.zeros(train_metadata.shape[0], dtype=int)\n",
    "gkf = GroupKFold(n_splits=FOLDS)\n",
    "for fold_idx, (_, val_idx) in enumerate(gkf.split(train_metadata, y=train_metadata[target_column], groups=train_metadata[group_column])):\n",
    "    folds[val_idx] = fold_idx + 1\n",
    "train_metadata[fold_column] = folds\n",
    "\n",
    "for fold in np.unique(train_metadata[fold_column]):\n",
    "    print(f\"Fold: {fold}\")\n",
    "    print(f\"Target mean: {train_metadata.loc[train_metadata[fold_column] == fold, target_column].mean()}\")\n",
    "    print(f\"Unique patients: {train_metadata.loc[train_metadata[fold_column] == fold, group_column].nunique()}\\n\")"
   ]
  },
  {
   "cell_type": "code",
   "execution_count": 5,
   "id": "59da0faf",
   "metadata": {
    "execution": {
     "iopub.execute_input": "2024-08-19T01:46:10.540079Z",
     "iopub.status.busy": "2024-08-19T01:46:10.539665Z",
     "iopub.status.idle": "2024-08-19T01:46:10.557188Z",
     "shell.execute_reply": "2024-08-19T01:46:10.556128Z"
    },
    "papermill": {
     "duration": 0.025483,
     "end_time": "2024-08-19T01:46:10.559564",
     "exception": false,
     "start_time": "2024-08-19T01:46:10.534081",
     "status": "completed"
    },
    "tags": []
   },
   "outputs": [
    {
     "data": {
      "text/plain": [
       "fold\n",
       "1    80214\n",
       "2    80212\n",
       "4    80211\n",
       "5    80211\n",
       "3    80211\n",
       "Name: count, dtype: int64"
      ]
     },
     "execution_count": 5,
     "metadata": {},
     "output_type": "execute_result"
    }
   ],
   "source": [
    "train_metadata[fold_column].value_counts()"
   ]
  },
  {
   "cell_type": "code",
   "execution_count": 6,
   "id": "41823d75",
   "metadata": {
    "execution": {
     "iopub.execute_input": "2024-08-19T01:46:10.569867Z",
     "iopub.status.busy": "2024-08-19T01:46:10.569458Z",
     "iopub.status.idle": "2024-08-19T01:46:10.590161Z",
     "shell.execute_reply": "2024-08-19T01:46:10.589120Z"
    },
    "papermill": {
     "duration": 0.028539,
     "end_time": "2024-08-19T01:46:10.592554",
     "exception": false,
     "start_time": "2024-08-19T01:46:10.564015",
     "status": "completed"
    },
    "tags": []
   },
   "outputs": [
    {
     "data": {
      "text/html": [
       "<div>\n",
       "<style scoped>\n",
       "    .dataframe tbody tr th:only-of-type {\n",
       "        vertical-align: middle;\n",
       "    }\n",
       "\n",
       "    .dataframe tbody tr th {\n",
       "        vertical-align: top;\n",
       "    }\n",
       "\n",
       "    .dataframe thead th {\n",
       "        text-align: right;\n",
       "    }\n",
       "</style>\n",
       "<table border=\"1\" class=\"dataframe\">\n",
       "  <thead>\n",
       "    <tr style=\"text-align: right;\">\n",
       "      <th></th>\n",
       "      <th>isic_id</th>\n",
       "      <th>patient_id</th>\n",
       "      <th>fold</th>\n",
       "    </tr>\n",
       "  </thead>\n",
       "  <tbody>\n",
       "    <tr>\n",
       "      <th>0</th>\n",
       "      <td>ISIC_0015670</td>\n",
       "      <td>IP_1235828</td>\n",
       "      <td>4</td>\n",
       "    </tr>\n",
       "    <tr>\n",
       "      <th>1</th>\n",
       "      <td>ISIC_0015845</td>\n",
       "      <td>IP_8170065</td>\n",
       "      <td>1</td>\n",
       "    </tr>\n",
       "    <tr>\n",
       "      <th>2</th>\n",
       "      <td>ISIC_0015864</td>\n",
       "      <td>IP_6724798</td>\n",
       "      <td>5</td>\n",
       "    </tr>\n",
       "    <tr>\n",
       "      <th>3</th>\n",
       "      <td>ISIC_0015902</td>\n",
       "      <td>IP_4111386</td>\n",
       "      <td>2</td>\n",
       "    </tr>\n",
       "    <tr>\n",
       "      <th>4</th>\n",
       "      <td>ISIC_0024200</td>\n",
       "      <td>IP_8313778</td>\n",
       "      <td>1</td>\n",
       "    </tr>\n",
       "    <tr>\n",
       "      <th>5</th>\n",
       "      <td>ISIC_0035502</td>\n",
       "      <td>IP_3026693</td>\n",
       "      <td>5</td>\n",
       "    </tr>\n",
       "    <tr>\n",
       "      <th>6</th>\n",
       "      <td>ISIC_0051648</td>\n",
       "      <td>IP_0218255</td>\n",
       "      <td>1</td>\n",
       "    </tr>\n",
       "    <tr>\n",
       "      <th>7</th>\n",
       "      <td>ISIC_0051665</td>\n",
       "      <td>IP_7734648</td>\n",
       "      <td>2</td>\n",
       "    </tr>\n",
       "    <tr>\n",
       "      <th>8</th>\n",
       "      <td>ISIC_0051710</td>\n",
       "      <td>IP_1307115</td>\n",
       "      <td>2</td>\n",
       "    </tr>\n",
       "    <tr>\n",
       "      <th>9</th>\n",
       "      <td>ISIC_0051758</td>\n",
       "      <td>IP_2180091</td>\n",
       "      <td>5</td>\n",
       "    </tr>\n",
       "  </tbody>\n",
       "</table>\n",
       "</div>"
      ],
      "text/plain": [
       "        isic_id  patient_id  fold\n",
       "0  ISIC_0015670  IP_1235828     4\n",
       "1  ISIC_0015845  IP_8170065     1\n",
       "2  ISIC_0015864  IP_6724798     5\n",
       "3  ISIC_0015902  IP_4111386     2\n",
       "4  ISIC_0024200  IP_8313778     1\n",
       "5  ISIC_0035502  IP_3026693     5\n",
       "6  ISIC_0051648  IP_0218255     1\n",
       "7  ISIC_0051665  IP_7734648     2\n",
       "8  ISIC_0051710  IP_1307115     2\n",
       "9  ISIC_0051758  IP_2180091     5"
      ]
     },
     "execution_count": 6,
     "metadata": {},
     "output_type": "execute_result"
    }
   ],
   "source": [
    "columns_to_write = [id_column, group_column, fold_column]\n",
    "train_metadata[columns_to_write].head(n=10)"
   ]
  },
  {
   "cell_type": "code",
   "execution_count": 7,
   "id": "2f9efcb5",
   "metadata": {
    "execution": {
     "iopub.execute_input": "2024-08-19T01:46:10.603804Z",
     "iopub.status.busy": "2024-08-19T01:46:10.603376Z",
     "iopub.status.idle": "2024-08-19T01:46:11.563900Z",
     "shell.execute_reply": "2024-08-19T01:46:11.562906Z"
    },
    "papermill": {
     "duration": 0.969185,
     "end_time": "2024-08-19T01:46:11.566584",
     "exception": false,
     "start_time": "2024-08-19T01:46:10.597399",
     "status": "completed"
    },
    "tags": []
   },
   "outputs": [],
   "source": [
    "train_metadata[columns_to_write].to_csv(OUTPUT_FILENAME, index=False)"
   ]
  },
  {
   "cell_type": "code",
   "execution_count": null,
   "id": "3bc409c0",
   "metadata": {
    "papermill": {
     "duration": 0.00476,
     "end_time": "2024-08-19T01:46:11.576596",
     "exception": false,
     "start_time": "2024-08-19T01:46:11.571836",
     "status": "completed"
    },
    "tags": []
   },
   "outputs": [],
   "source": []
  }
 ],
 "metadata": {
  "kaggle": {
   "accelerator": "none",
   "dataSources": [
    {
     "databundleVersionId": 9094797,
     "sourceId": 63056,
     "sourceType": "competition"
    }
   ],
   "dockerImageVersionId": 30732,
   "isGpuEnabled": false,
   "isInternetEnabled": false,
   "language": "python",
   "sourceType": "notebook"
  },
  "kernelspec": {
   "display_name": "Python 3",
   "language": "python",
   "name": "python3"
  },
  "language_info": {
   "codemirror_mode": {
    "name": "ipython",
    "version": 3
   },
   "file_extension": ".py",
   "mimetype": "text/x-python",
   "name": "python",
   "nbconvert_exporter": "python",
   "pygments_lexer": "ipython3",
   "version": "3.10.13"
  },
  "papermill": {
   "default_parameters": {},
   "duration": 17.62226,
   "end_time": "2024-08-19T01:46:12.202214",
   "environment_variables": {},
   "exception": null,
   "input_path": "__notebook__.ipynb",
   "output_path": "__notebook__.ipynb",
   "parameters": {},
   "start_time": "2024-08-19T01:45:54.579954",
   "version": "2.5.0"
  }
 },
 "nbformat": 4,
 "nbformat_minor": 5
}
