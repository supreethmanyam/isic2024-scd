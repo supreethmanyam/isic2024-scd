{
 "cells": [
  {
   "cell_type": "code",
   "execution_count": 1,
   "id": "1162a8b2",
   "metadata": {
    "_cell_guid": "b1076dfc-b9ad-4769-8c92-a6c4dae69d19",
    "_uuid": "8f2839f25d086af736a60e9eeb907d3b93b6e0e5",
    "execution": {
     "iopub.execute_input": "2024-07-09T01:51:26.516526Z",
     "iopub.status.busy": "2024-07-09T01:51:26.516107Z",
     "iopub.status.idle": "2024-07-09T01:51:29.063349Z",
     "shell.execute_reply": "2024-07-09T01:51:29.062295Z"
    },
    "papermill": {
     "duration": 2.555871,
     "end_time": "2024-07-09T01:51:29.066080",
     "exception": false,
     "start_time": "2024-07-09T01:51:26.510209",
     "status": "completed"
    },
    "tags": []
   },
   "outputs": [],
   "source": [
    "from pathlib import Path\n",
    "\n",
    "import pandas as pd\n",
    "import numpy as np\n",
    "\n",
    "from sklearn.model_selection import GroupKFold"
   ]
  },
  {
   "cell_type": "code",
   "execution_count": 2,
   "id": "59fb0fbd",
   "metadata": {
    "execution": {
     "iopub.execute_input": "2024-07-09T01:51:29.075908Z",
     "iopub.status.busy": "2024-07-09T01:51:29.075385Z",
     "iopub.status.idle": "2024-07-09T01:51:29.081314Z",
     "shell.execute_reply": "2024-07-09T01:51:29.080256Z"
    },
    "papermill": {
     "duration": 0.013449,
     "end_time": "2024-07-09T01:51:29.083768",
     "exception": false,
     "start_time": "2024-07-09T01:51:29.070319",
     "status": "completed"
    },
    "tags": []
   },
   "outputs": [],
   "source": [
    "SEED = 2022\n",
    "FOLDS = 5\n",
    "INPUT_PATH = Path(\"../input/isic-2024-challenge/\")\n",
    "OUTPUT_FILENAME = \"folds.csv\""
   ]
  },
  {
   "cell_type": "code",
   "execution_count": 3,
   "id": "da7d3eed",
   "metadata": {
    "execution": {
     "iopub.execute_input": "2024-07-09T01:51:29.093664Z",
     "iopub.status.busy": "2024-07-09T01:51:29.092766Z",
     "iopub.status.idle": "2024-07-09T01:51:39.529782Z",
     "shell.execute_reply": "2024-07-09T01:51:39.528268Z"
    },
    "papermill": {
     "duration": 10.444607,
     "end_time": "2024-07-09T01:51:39.532337",
     "exception": false,
     "start_time": "2024-07-09T01:51:29.087730",
     "status": "completed"
    },
    "tags": []
   },
   "outputs": [
    {
     "name": "stdout",
     "output_type": "stream",
     "text": [
      "Train data size: (401059, 55)\n"
     ]
    }
   ],
   "source": [
    "train_metadata = pd.read_csv(INPUT_PATH / \"train-metadata.csv\", low_memory=False);print(f\"Train data size: {train_metadata.shape}\")"
   ]
  },
  {
   "cell_type": "code",
   "execution_count": 4,
   "id": "3a5560f8",
   "metadata": {
    "execution": {
     "iopub.execute_input": "2024-07-09T01:51:39.542244Z",
     "iopub.status.busy": "2024-07-09T01:51:39.541810Z",
     "iopub.status.idle": "2024-07-09T01:51:40.236055Z",
     "shell.execute_reply": "2024-07-09T01:51:40.234576Z"
    },
    "papermill": {
     "duration": 0.70262,
     "end_time": "2024-07-09T01:51:40.239014",
     "exception": false,
     "start_time": "2024-07-09T01:51:39.536394",
     "status": "completed"
    },
    "tags": []
   },
   "outputs": [],
   "source": [
    "id_column = \"isic_id\"\n",
    "target_column = \"target\"\n",
    "group_column = \"patient_id\"\n",
    "fold_column = \"fold\"\n",
    "final_target_column = \"final_target\"\n",
    "\n",
    "folds = np.zeros(train_metadata.shape[0], dtype=int)\n",
    "\n",
    "gkf = GroupKFold(n_splits=FOLDS)\n",
    "for fold_idx, (_, val_idx) in enumerate(gkf.split(train_metadata, train_metadata[target_column], train_metadata[group_column])):\n",
    "    folds[val_idx] = fold_idx + 1\n",
    "\n",
    "train_metadata[fold_column] = folds"
   ]
  },
  {
   "cell_type": "code",
   "execution_count": 5,
   "id": "dab2a642",
   "metadata": {
    "execution": {
     "iopub.execute_input": "2024-07-09T01:51:40.249351Z",
     "iopub.status.busy": "2024-07-09T01:51:40.248539Z",
     "iopub.status.idle": "2024-07-09T01:51:40.255050Z",
     "shell.execute_reply": "2024-07-09T01:51:40.253879Z"
    },
    "papermill": {
     "duration": 0.014302,
     "end_time": "2024-07-09T01:51:40.257602",
     "exception": false,
     "start_time": "2024-07-09T01:51:40.243300",
     "status": "completed"
    },
    "tags": []
   },
   "outputs": [],
   "source": [
    "train_metadata[final_target_column] = train_metadata[target_column]"
   ]
  },
  {
   "cell_type": "code",
   "execution_count": 6,
   "id": "a0579681",
   "metadata": {
    "execution": {
     "iopub.execute_input": "2024-07-09T01:51:40.267896Z",
     "iopub.status.busy": "2024-07-09T01:51:40.266766Z",
     "iopub.status.idle": "2024-07-09T01:51:40.302874Z",
     "shell.execute_reply": "2024-07-09T01:51:40.301619Z"
    },
    "papermill": {
     "duration": 0.043773,
     "end_time": "2024-07-09T01:51:40.305412",
     "exception": false,
     "start_time": "2024-07-09T01:51:40.261639",
     "status": "completed"
    },
    "tags": []
   },
   "outputs": [
    {
     "data": {
      "text/html": [
       "<div>\n",
       "<style scoped>\n",
       "    .dataframe tbody tr th:only-of-type {\n",
       "        vertical-align: middle;\n",
       "    }\n",
       "\n",
       "    .dataframe tbody tr th {\n",
       "        vertical-align: top;\n",
       "    }\n",
       "\n",
       "    .dataframe thead th {\n",
       "        text-align: right;\n",
       "    }\n",
       "</style>\n",
       "<table border=\"1\" class=\"dataframe\">\n",
       "  <thead>\n",
       "    <tr style=\"text-align: right;\">\n",
       "      <th></th>\n",
       "      <th>isic_id</th>\n",
       "      <th>patient_id</th>\n",
       "      <th>final_target</th>\n",
       "      <th>fold</th>\n",
       "    </tr>\n",
       "  </thead>\n",
       "  <tbody>\n",
       "    <tr>\n",
       "      <th>0</th>\n",
       "      <td>ISIC_0015670</td>\n",
       "      <td>IP_1235828</td>\n",
       "      <td>0</td>\n",
       "      <td>4</td>\n",
       "    </tr>\n",
       "    <tr>\n",
       "      <th>1</th>\n",
       "      <td>ISIC_0015845</td>\n",
       "      <td>IP_8170065</td>\n",
       "      <td>0</td>\n",
       "      <td>1</td>\n",
       "    </tr>\n",
       "    <tr>\n",
       "      <th>2</th>\n",
       "      <td>ISIC_0015864</td>\n",
       "      <td>IP_6724798</td>\n",
       "      <td>0</td>\n",
       "      <td>5</td>\n",
       "    </tr>\n",
       "    <tr>\n",
       "      <th>3</th>\n",
       "      <td>ISIC_0015902</td>\n",
       "      <td>IP_4111386</td>\n",
       "      <td>0</td>\n",
       "      <td>2</td>\n",
       "    </tr>\n",
       "    <tr>\n",
       "      <th>4</th>\n",
       "      <td>ISIC_0024200</td>\n",
       "      <td>IP_8313778</td>\n",
       "      <td>0</td>\n",
       "      <td>1</td>\n",
       "    </tr>\n",
       "    <tr>\n",
       "      <th>5</th>\n",
       "      <td>ISIC_0035502</td>\n",
       "      <td>IP_3026693</td>\n",
       "      <td>0</td>\n",
       "      <td>5</td>\n",
       "    </tr>\n",
       "    <tr>\n",
       "      <th>6</th>\n",
       "      <td>ISIC_0051648</td>\n",
       "      <td>IP_0218255</td>\n",
       "      <td>0</td>\n",
       "      <td>1</td>\n",
       "    </tr>\n",
       "    <tr>\n",
       "      <th>7</th>\n",
       "      <td>ISIC_0051665</td>\n",
       "      <td>IP_7734648</td>\n",
       "      <td>0</td>\n",
       "      <td>2</td>\n",
       "    </tr>\n",
       "    <tr>\n",
       "      <th>8</th>\n",
       "      <td>ISIC_0051710</td>\n",
       "      <td>IP_1307115</td>\n",
       "      <td>0</td>\n",
       "      <td>2</td>\n",
       "    </tr>\n",
       "    <tr>\n",
       "      <th>9</th>\n",
       "      <td>ISIC_0051758</td>\n",
       "      <td>IP_2180091</td>\n",
       "      <td>0</td>\n",
       "      <td>5</td>\n",
       "    </tr>\n",
       "  </tbody>\n",
       "</table>\n",
       "</div>"
      ],
      "text/plain": [
       "        isic_id  patient_id  final_target  fold\n",
       "0  ISIC_0015670  IP_1235828             0     4\n",
       "1  ISIC_0015845  IP_8170065             0     1\n",
       "2  ISIC_0015864  IP_6724798             0     5\n",
       "3  ISIC_0015902  IP_4111386             0     2\n",
       "4  ISIC_0024200  IP_8313778             0     1\n",
       "5  ISIC_0035502  IP_3026693             0     5\n",
       "6  ISIC_0051648  IP_0218255             0     1\n",
       "7  ISIC_0051665  IP_7734648             0     2\n",
       "8  ISIC_0051710  IP_1307115             0     2\n",
       "9  ISIC_0051758  IP_2180091             0     5"
      ]
     },
     "execution_count": 6,
     "metadata": {},
     "output_type": "execute_result"
    }
   ],
   "source": [
    "columns_to_write = [id_column, group_column, final_target_column, fold_column]\n",
    "train_metadata[columns_to_write].head(n=10)"
   ]
  },
  {
   "cell_type": "code",
   "execution_count": 7,
   "id": "a07d96b9",
   "metadata": {
    "execution": {
     "iopub.execute_input": "2024-07-09T01:51:40.315569Z",
     "iopub.status.busy": "2024-07-09T01:51:40.315196Z",
     "iopub.status.idle": "2024-07-09T01:51:40.334967Z",
     "shell.execute_reply": "2024-07-09T01:51:40.333835Z"
    },
    "papermill": {
     "duration": 0.027658,
     "end_time": "2024-07-09T01:51:40.337370",
     "exception": false,
     "start_time": "2024-07-09T01:51:40.309712",
     "status": "completed"
    },
    "tags": []
   },
   "outputs": [
    {
     "data": {
      "text/plain": [
       "final_target\n",
       "0    0.99902\n",
       "1    0.00098\n",
       "Name: proportion, dtype: float64"
      ]
     },
     "execution_count": 7,
     "metadata": {},
     "output_type": "execute_result"
    }
   ],
   "source": [
    "train_metadata[final_target_column].value_counts(normalize=True)"
   ]
  },
  {
   "cell_type": "code",
   "execution_count": 8,
   "id": "77abb11d",
   "metadata": {
    "execution": {
     "iopub.execute_input": "2024-07-09T01:51:40.348188Z",
     "iopub.status.busy": "2024-07-09T01:51:40.347806Z",
     "iopub.status.idle": "2024-07-09T01:51:41.453080Z",
     "shell.execute_reply": "2024-07-09T01:51:41.452014Z"
    },
    "papermill": {
     "duration": 1.114045,
     "end_time": "2024-07-09T01:51:41.456060",
     "exception": false,
     "start_time": "2024-07-09T01:51:40.342015",
     "status": "completed"
    },
    "tags": []
   },
   "outputs": [],
   "source": [
    "train_metadata[columns_to_write].to_csv(OUTPUT_FILENAME, index=False)"
   ]
  },
  {
   "cell_type": "code",
   "execution_count": null,
   "id": "d351a5f0",
   "metadata": {
    "papermill": {
     "duration": 0.004255,
     "end_time": "2024-07-09T01:51:41.464950",
     "exception": false,
     "start_time": "2024-07-09T01:51:41.460695",
     "status": "completed"
    },
    "tags": []
   },
   "outputs": [],
   "source": []
  }
 ],
 "metadata": {
  "kaggle": {
   "accelerator": "none",
   "dataSources": [
    {
     "databundleVersionId": 8940774,
     "sourceId": 63056,
     "sourceType": "competition"
    }
   ],
   "dockerImageVersionId": 30732,
   "isGpuEnabled": false,
   "isInternetEnabled": false,
   "language": "python",
   "sourceType": "notebook"
  },
  "kernelspec": {
   "display_name": "Python 3",
   "language": "python",
   "name": "python3"
  },
  "language_info": {
   "codemirror_mode": {
    "name": "ipython",
    "version": 3
   },
   "file_extension": ".py",
   "mimetype": "text/x-python",
   "name": "python",
   "nbconvert_exporter": "python",
   "pygments_lexer": "ipython3",
   "version": "3.10.13"
  },
  "papermill": {
   "default_parameters": {},
   "duration": 18.709953,
   "end_time": "2024-07-09T01:51:42.091845",
   "environment_variables": {},
   "exception": null,
   "input_path": "__notebook__.ipynb",
   "output_path": "__notebook__.ipynb",
   "parameters": {},
   "start_time": "2024-07-09T01:51:23.381892",
   "version": "2.5.0"
  }
 },
 "nbformat": 4,
 "nbformat_minor": 5
}
