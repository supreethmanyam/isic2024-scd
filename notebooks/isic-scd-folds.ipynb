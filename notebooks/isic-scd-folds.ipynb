{
 "cells": [
  {
   "cell_type": "code",
   "execution_count": 1,
   "id": "1ba806eb",
   "metadata": {
    "_cell_guid": "b1076dfc-b9ad-4769-8c92-a6c4dae69d19",
    "_uuid": "8f2839f25d086af736a60e9eeb907d3b93b6e0e5",
    "execution": {
     "iopub.execute_input": "2024-07-24T21:47:37.241138Z",
     "iopub.status.busy": "2024-07-24T21:47:37.240685Z",
     "iopub.status.idle": "2024-07-24T21:47:39.513691Z",
     "shell.execute_reply": "2024-07-24T21:47:39.512618Z"
    },
    "papermill": {
     "duration": 2.28156,
     "end_time": "2024-07-24T21:47:39.516329",
     "exception": false,
     "start_time": "2024-07-24T21:47:37.234769",
     "status": "completed"
    },
    "tags": []
   },
   "outputs": [],
   "source": [
    "from pathlib import Path\n",
    "\n",
    "import pandas as pd\n",
    "import numpy as np\n",
    "\n",
    "from sklearn.model_selection import GroupKFold"
   ]
  },
  {
   "cell_type": "code",
   "execution_count": 2,
   "id": "455159fb",
   "metadata": {
    "execution": {
     "iopub.execute_input": "2024-07-24T21:47:39.526088Z",
     "iopub.status.busy": "2024-07-24T21:47:39.525508Z",
     "iopub.status.idle": "2024-07-24T21:47:39.531205Z",
     "shell.execute_reply": "2024-07-24T21:47:39.530135Z"
    },
    "papermill": {
     "duration": 0.013118,
     "end_time": "2024-07-24T21:47:39.533619",
     "exception": false,
     "start_time": "2024-07-24T21:47:39.520501",
     "status": "completed"
    },
    "tags": []
   },
   "outputs": [],
   "source": [
    "SEED = 2022\n",
    "FOLDS = 5\n",
    "INPUT_PATH = Path(\"../input/isic-2024-challenge/\")\n",
    "OUTPUT_FILENAME = \"folds.csv\""
   ]
  },
  {
   "cell_type": "code",
   "execution_count": 3,
   "id": "dd312981",
   "metadata": {
    "execution": {
     "iopub.execute_input": "2024-07-24T21:47:39.542859Z",
     "iopub.status.busy": "2024-07-24T21:47:39.542440Z",
     "iopub.status.idle": "2024-07-24T21:47:48.804310Z",
     "shell.execute_reply": "2024-07-24T21:47:48.802977Z"
    },
    "papermill": {
     "duration": 9.269566,
     "end_time": "2024-07-24T21:47:48.806923",
     "exception": false,
     "start_time": "2024-07-24T21:47:39.537357",
     "status": "completed"
    },
    "tags": []
   },
   "outputs": [
    {
     "name": "stdout",
     "output_type": "stream",
     "text": [
      "Train data size: (401059, 55)\n"
     ]
    }
   ],
   "source": [
    "train_metadata = pd.read_csv(INPUT_PATH / \"train-metadata.csv\", low_memory=False);print(f\"Train data size: {train_metadata.shape}\")"
   ]
  },
  {
   "cell_type": "code",
   "execution_count": 4,
   "id": "87bd4baa",
   "metadata": {
    "execution": {
     "iopub.execute_input": "2024-07-24T21:47:48.816856Z",
     "iopub.status.busy": "2024-07-24T21:47:48.815974Z",
     "iopub.status.idle": "2024-07-24T21:47:48.859469Z",
     "shell.execute_reply": "2024-07-24T21:47:48.858296Z"
    },
    "papermill": {
     "duration": 0.050928,
     "end_time": "2024-07-24T21:47:48.861816",
     "exception": false,
     "start_time": "2024-07-24T21:47:48.810888",
     "status": "completed"
    },
    "tags": []
   },
   "outputs": [
    {
     "data": {
      "text/html": [
       "<div>\n",
       "<style scoped>\n",
       "    .dataframe tbody tr th:only-of-type {\n",
       "        vertical-align: middle;\n",
       "    }\n",
       "\n",
       "    .dataframe tbody tr th {\n",
       "        vertical-align: top;\n",
       "    }\n",
       "\n",
       "    .dataframe thead th {\n",
       "        text-align: right;\n",
       "    }\n",
       "</style>\n",
       "<table border=\"1\" class=\"dataframe\">\n",
       "  <thead>\n",
       "    <tr style=\"text-align: right;\">\n",
       "      <th></th>\n",
       "      <th>isic_id</th>\n",
       "      <th>target</th>\n",
       "      <th>patient_id</th>\n",
       "      <th>age_approx</th>\n",
       "      <th>sex</th>\n",
       "      <th>anatom_site_general</th>\n",
       "      <th>clin_size_long_diam_mm</th>\n",
       "      <th>image_type</th>\n",
       "      <th>tbp_tile_type</th>\n",
       "      <th>tbp_lv_A</th>\n",
       "      <th>...</th>\n",
       "      <th>lesion_id</th>\n",
       "      <th>iddx_full</th>\n",
       "      <th>iddx_1</th>\n",
       "      <th>iddx_2</th>\n",
       "      <th>iddx_3</th>\n",
       "      <th>iddx_4</th>\n",
       "      <th>iddx_5</th>\n",
       "      <th>mel_mitotic_index</th>\n",
       "      <th>mel_thick_mm</th>\n",
       "      <th>tbp_lv_dnn_lesion_confidence</th>\n",
       "    </tr>\n",
       "  </thead>\n",
       "  <tbody>\n",
       "    <tr>\n",
       "      <th>0</th>\n",
       "      <td>ISIC_0015670</td>\n",
       "      <td>0</td>\n",
       "      <td>IP_1235828</td>\n",
       "      <td>60.0</td>\n",
       "      <td>male</td>\n",
       "      <td>lower extremity</td>\n",
       "      <td>3.04</td>\n",
       "      <td>TBP tile: close-up</td>\n",
       "      <td>3D: white</td>\n",
       "      <td>20.244422</td>\n",
       "      <td>...</td>\n",
       "      <td>NaN</td>\n",
       "      <td>Benign</td>\n",
       "      <td>Benign</td>\n",
       "      <td>NaN</td>\n",
       "      <td>NaN</td>\n",
       "      <td>NaN</td>\n",
       "      <td>NaN</td>\n",
       "      <td>NaN</td>\n",
       "      <td>NaN</td>\n",
       "      <td>97.517282</td>\n",
       "    </tr>\n",
       "    <tr>\n",
       "      <th>1</th>\n",
       "      <td>ISIC_0015845</td>\n",
       "      <td>0</td>\n",
       "      <td>IP_8170065</td>\n",
       "      <td>60.0</td>\n",
       "      <td>male</td>\n",
       "      <td>head/neck</td>\n",
       "      <td>1.10</td>\n",
       "      <td>TBP tile: close-up</td>\n",
       "      <td>3D: white</td>\n",
       "      <td>31.712570</td>\n",
       "      <td>...</td>\n",
       "      <td>IL_6727506</td>\n",
       "      <td>Benign</td>\n",
       "      <td>Benign</td>\n",
       "      <td>NaN</td>\n",
       "      <td>NaN</td>\n",
       "      <td>NaN</td>\n",
       "      <td>NaN</td>\n",
       "      <td>NaN</td>\n",
       "      <td>NaN</td>\n",
       "      <td>3.141455</td>\n",
       "    </tr>\n",
       "    <tr>\n",
       "      <th>2</th>\n",
       "      <td>ISIC_0015864</td>\n",
       "      <td>0</td>\n",
       "      <td>IP_6724798</td>\n",
       "      <td>60.0</td>\n",
       "      <td>male</td>\n",
       "      <td>posterior torso</td>\n",
       "      <td>3.40</td>\n",
       "      <td>TBP tile: close-up</td>\n",
       "      <td>3D: XP</td>\n",
       "      <td>22.575830</td>\n",
       "      <td>...</td>\n",
       "      <td>NaN</td>\n",
       "      <td>Benign</td>\n",
       "      <td>Benign</td>\n",
       "      <td>NaN</td>\n",
       "      <td>NaN</td>\n",
       "      <td>NaN</td>\n",
       "      <td>NaN</td>\n",
       "      <td>NaN</td>\n",
       "      <td>NaN</td>\n",
       "      <td>99.804040</td>\n",
       "    </tr>\n",
       "    <tr>\n",
       "      <th>3</th>\n",
       "      <td>ISIC_0015902</td>\n",
       "      <td>0</td>\n",
       "      <td>IP_4111386</td>\n",
       "      <td>65.0</td>\n",
       "      <td>male</td>\n",
       "      <td>anterior torso</td>\n",
       "      <td>3.22</td>\n",
       "      <td>TBP tile: close-up</td>\n",
       "      <td>3D: XP</td>\n",
       "      <td>14.242329</td>\n",
       "      <td>...</td>\n",
       "      <td>NaN</td>\n",
       "      <td>Benign</td>\n",
       "      <td>Benign</td>\n",
       "      <td>NaN</td>\n",
       "      <td>NaN</td>\n",
       "      <td>NaN</td>\n",
       "      <td>NaN</td>\n",
       "      <td>NaN</td>\n",
       "      <td>NaN</td>\n",
       "      <td>99.989998</td>\n",
       "    </tr>\n",
       "    <tr>\n",
       "      <th>4</th>\n",
       "      <td>ISIC_0024200</td>\n",
       "      <td>0</td>\n",
       "      <td>IP_8313778</td>\n",
       "      <td>55.0</td>\n",
       "      <td>male</td>\n",
       "      <td>anterior torso</td>\n",
       "      <td>2.73</td>\n",
       "      <td>TBP tile: close-up</td>\n",
       "      <td>3D: white</td>\n",
       "      <td>24.725520</td>\n",
       "      <td>...</td>\n",
       "      <td>NaN</td>\n",
       "      <td>Benign</td>\n",
       "      <td>Benign</td>\n",
       "      <td>NaN</td>\n",
       "      <td>NaN</td>\n",
       "      <td>NaN</td>\n",
       "      <td>NaN</td>\n",
       "      <td>NaN</td>\n",
       "      <td>NaN</td>\n",
       "      <td>70.442510</td>\n",
       "    </tr>\n",
       "  </tbody>\n",
       "</table>\n",
       "<p>5 rows × 55 columns</p>\n",
       "</div>"
      ],
      "text/plain": [
       "        isic_id  target  patient_id  age_approx   sex anatom_site_general  \\\n",
       "0  ISIC_0015670       0  IP_1235828        60.0  male     lower extremity   \n",
       "1  ISIC_0015845       0  IP_8170065        60.0  male           head/neck   \n",
       "2  ISIC_0015864       0  IP_6724798        60.0  male     posterior torso   \n",
       "3  ISIC_0015902       0  IP_4111386        65.0  male      anterior torso   \n",
       "4  ISIC_0024200       0  IP_8313778        55.0  male      anterior torso   \n",
       "\n",
       "   clin_size_long_diam_mm          image_type tbp_tile_type   tbp_lv_A  ...  \\\n",
       "0                    3.04  TBP tile: close-up     3D: white  20.244422  ...   \n",
       "1                    1.10  TBP tile: close-up     3D: white  31.712570  ...   \n",
       "2                    3.40  TBP tile: close-up        3D: XP  22.575830  ...   \n",
       "3                    3.22  TBP tile: close-up        3D: XP  14.242329  ...   \n",
       "4                    2.73  TBP tile: close-up     3D: white  24.725520  ...   \n",
       "\n",
       "    lesion_id  iddx_full  iddx_1  iddx_2  iddx_3  iddx_4  iddx_5  \\\n",
       "0         NaN     Benign  Benign     NaN     NaN     NaN     NaN   \n",
       "1  IL_6727506     Benign  Benign     NaN     NaN     NaN     NaN   \n",
       "2         NaN     Benign  Benign     NaN     NaN     NaN     NaN   \n",
       "3         NaN     Benign  Benign     NaN     NaN     NaN     NaN   \n",
       "4         NaN     Benign  Benign     NaN     NaN     NaN     NaN   \n",
       "\n",
       "   mel_mitotic_index  mel_thick_mm  tbp_lv_dnn_lesion_confidence  \n",
       "0                NaN           NaN                     97.517282  \n",
       "1                NaN           NaN                      3.141455  \n",
       "2                NaN           NaN                     99.804040  \n",
       "3                NaN           NaN                     99.989998  \n",
       "4                NaN           NaN                     70.442510  \n",
       "\n",
       "[5 rows x 55 columns]"
      ]
     },
     "execution_count": 4,
     "metadata": {},
     "output_type": "execute_result"
    }
   ],
   "source": [
    "train_metadata.head()"
   ]
  },
  {
   "cell_type": "code",
   "execution_count": 5,
   "id": "50170492",
   "metadata": {
    "execution": {
     "iopub.execute_input": "2024-07-24T21:47:48.872436Z",
     "iopub.status.busy": "2024-07-24T21:47:48.871421Z",
     "iopub.status.idle": "2024-07-24T21:47:49.305510Z",
     "shell.execute_reply": "2024-07-24T21:47:49.304199Z"
    },
    "papermill": {
     "duration": 0.442325,
     "end_time": "2024-07-24T21:47:49.308363",
     "exception": false,
     "start_time": "2024-07-24T21:47:48.866038",
     "status": "completed"
    },
    "tags": []
   },
   "outputs": [],
   "source": [
    "id_column = \"isic_id\"\n",
    "target_column = \"target\"\n",
    "group_column = \"patient_id\"\n",
    "fold_column = \"fold\"\n",
    "final_target_column = \"final_target\"\n",
    "sample_weight_column = \"sample_weight\"\n",
    "\n",
    "folds = np.zeros(train_metadata.shape[0], dtype=int)\n",
    "\n",
    "gkf = GroupKFold(n_splits=FOLDS)\n",
    "for fold_idx, (_, val_idx) in enumerate(gkf.split(train_metadata, train_metadata[target_column], train_metadata[group_column])):\n",
    "    folds[val_idx] = fold_idx + 1\n",
    "\n",
    "train_metadata[fold_column] = folds"
   ]
  },
  {
   "cell_type": "code",
   "execution_count": 6,
   "id": "4e63250b",
   "metadata": {
    "execution": {
     "iopub.execute_input": "2024-07-24T21:47:49.318976Z",
     "iopub.status.busy": "2024-07-24T21:47:49.318017Z",
     "iopub.status.idle": "2024-07-24T21:47:49.594594Z",
     "shell.execute_reply": "2024-07-24T21:47:49.593131Z"
    },
    "papermill": {
     "duration": 0.284592,
     "end_time": "2024-07-24T21:47:49.597175",
     "exception": false,
     "start_time": "2024-07-24T21:47:49.312583",
     "status": "completed"
    },
    "tags": []
   },
   "outputs": [],
   "source": [
    "train_metadata[final_target_column] = np.nan\n",
    "train_metadata.loc[(train_metadata[\"lesion_id\"].isnull()) & (train_metadata[target_column] == 0), final_target_column] = -1\n",
    "train_metadata.loc[(train_metadata[\"lesion_id\"].notnull()) & (train_metadata[target_column] == 0), final_target_column] = 0\n",
    "train_metadata.loc[(train_metadata[\"lesion_id\"].notnull()) & (train_metadata[\"iddx_3\"].str.contains(\"Basal cell carcinoma\")), final_target_column] = 1\n",
    "train_metadata.loc[(train_metadata[\"lesion_id\"].notnull()) & (train_metadata[\"iddx_3\"].str.contains(\"Melanoma\")), final_target_column] = 2\n",
    "train_metadata.loc[(train_metadata[\"lesion_id\"].notnull()) & (train_metadata[\"iddx_3\"].str.contains(\"Squamous cell carcinoma\")), final_target_column] = 3\n",
    "assert train_metadata[final_target_column].isnull().sum() == 0\n",
    "train_metadata[final_target_column] = train_metadata[final_target_column].astype(int)"
   ]
  },
  {
   "cell_type": "code",
   "execution_count": 7,
   "id": "8c667af2",
   "metadata": {
    "execution": {
     "iopub.execute_input": "2024-07-24T21:47:49.607088Z",
     "iopub.status.busy": "2024-07-24T21:47:49.606735Z",
     "iopub.status.idle": "2024-07-24T21:47:49.632003Z",
     "shell.execute_reply": "2024-07-24T21:47:49.630773Z"
    },
    "papermill": {
     "duration": 0.033388,
     "end_time": "2024-07-24T21:47:49.634735",
     "exception": false,
     "start_time": "2024-07-24T21:47:49.601347",
     "status": "completed"
    },
    "tags": []
   },
   "outputs": [],
   "source": [
    "value_counts_df = train_metadata[final_target_column].value_counts()\n",
    "tmp = value_counts_df[value_counts_df.index > 0]\n",
    "pos_sample_weights = dict(tmp * 0.1 / tmp.sum())\n",
    "pos_sample_weights = {int(k): v for k, v in pos_sample_weights.items()}\n",
    "\n",
    "sample_weights = {}\n",
    "sample_weights[-1] = 0.3\n",
    "sample_weights[0] = 0.6\n",
    "sample_weights = {**sample_weights, **pos_sample_weights}\n",
    "\n",
    "train_metadata[sample_weight_column] = train_metadata[final_target_column].map(sample_weights)"
   ]
  },
  {
   "cell_type": "code",
   "execution_count": 8,
   "id": "c919a414",
   "metadata": {
    "execution": {
     "iopub.execute_input": "2024-07-24T21:47:49.644921Z",
     "iopub.status.busy": "2024-07-24T21:47:49.644515Z",
     "iopub.status.idle": "2024-07-24T21:47:49.652305Z",
     "shell.execute_reply": "2024-07-24T21:47:49.651233Z"
    },
    "papermill": {
     "duration": 0.015988,
     "end_time": "2024-07-24T21:47:49.655004",
     "exception": false,
     "start_time": "2024-07-24T21:47:49.639016",
     "status": "completed"
    },
    "tags": []
   },
   "outputs": [],
   "source": [
    "train_metadata.loc[train_metadata[final_target_column] == -1, final_target_column] = 0"
   ]
  },
  {
   "cell_type": "code",
   "execution_count": 9,
   "id": "61196717",
   "metadata": {
    "execution": {
     "iopub.execute_input": "2024-07-24T21:47:49.665014Z",
     "iopub.status.busy": "2024-07-24T21:47:49.664623Z",
     "iopub.status.idle": "2024-07-24T21:47:49.690265Z",
     "shell.execute_reply": "2024-07-24T21:47:49.689037Z"
    },
    "papermill": {
     "duration": 0.033643,
     "end_time": "2024-07-24T21:47:49.692925",
     "exception": false,
     "start_time": "2024-07-24T21:47:49.659282",
     "status": "completed"
    },
    "tags": []
   },
   "outputs": [
    {
     "data": {
      "text/html": [
       "<div>\n",
       "<style scoped>\n",
       "    .dataframe tbody tr th:only-of-type {\n",
       "        vertical-align: middle;\n",
       "    }\n",
       "\n",
       "    .dataframe tbody tr th {\n",
       "        vertical-align: top;\n",
       "    }\n",
       "\n",
       "    .dataframe thead th {\n",
       "        text-align: right;\n",
       "    }\n",
       "</style>\n",
       "<table border=\"1\" class=\"dataframe\">\n",
       "  <thead>\n",
       "    <tr style=\"text-align: right;\">\n",
       "      <th></th>\n",
       "      <th>isic_id</th>\n",
       "      <th>patient_id</th>\n",
       "      <th>final_target</th>\n",
       "      <th>fold</th>\n",
       "      <th>sample_weight</th>\n",
       "    </tr>\n",
       "  </thead>\n",
       "  <tbody>\n",
       "    <tr>\n",
       "      <th>0</th>\n",
       "      <td>ISIC_0015670</td>\n",
       "      <td>IP_1235828</td>\n",
       "      <td>0</td>\n",
       "      <td>4</td>\n",
       "      <td>0.3</td>\n",
       "    </tr>\n",
       "    <tr>\n",
       "      <th>1</th>\n",
       "      <td>ISIC_0015845</td>\n",
       "      <td>IP_8170065</td>\n",
       "      <td>0</td>\n",
       "      <td>1</td>\n",
       "      <td>0.6</td>\n",
       "    </tr>\n",
       "    <tr>\n",
       "      <th>2</th>\n",
       "      <td>ISIC_0015864</td>\n",
       "      <td>IP_6724798</td>\n",
       "      <td>0</td>\n",
       "      <td>5</td>\n",
       "      <td>0.3</td>\n",
       "    </tr>\n",
       "    <tr>\n",
       "      <th>3</th>\n",
       "      <td>ISIC_0015902</td>\n",
       "      <td>IP_4111386</td>\n",
       "      <td>0</td>\n",
       "      <td>2</td>\n",
       "      <td>0.3</td>\n",
       "    </tr>\n",
       "    <tr>\n",
       "      <th>4</th>\n",
       "      <td>ISIC_0024200</td>\n",
       "      <td>IP_8313778</td>\n",
       "      <td>0</td>\n",
       "      <td>1</td>\n",
       "      <td>0.3</td>\n",
       "    </tr>\n",
       "    <tr>\n",
       "      <th>5</th>\n",
       "      <td>ISIC_0035502</td>\n",
       "      <td>IP_3026693</td>\n",
       "      <td>0</td>\n",
       "      <td>5</td>\n",
       "      <td>0.3</td>\n",
       "    </tr>\n",
       "    <tr>\n",
       "      <th>6</th>\n",
       "      <td>ISIC_0051648</td>\n",
       "      <td>IP_0218255</td>\n",
       "      <td>0</td>\n",
       "      <td>1</td>\n",
       "      <td>0.3</td>\n",
       "    </tr>\n",
       "    <tr>\n",
       "      <th>7</th>\n",
       "      <td>ISIC_0051665</td>\n",
       "      <td>IP_7734648</td>\n",
       "      <td>0</td>\n",
       "      <td>2</td>\n",
       "      <td>0.3</td>\n",
       "    </tr>\n",
       "    <tr>\n",
       "      <th>8</th>\n",
       "      <td>ISIC_0051710</td>\n",
       "      <td>IP_1307115</td>\n",
       "      <td>0</td>\n",
       "      <td>2</td>\n",
       "      <td>0.3</td>\n",
       "    </tr>\n",
       "    <tr>\n",
       "      <th>9</th>\n",
       "      <td>ISIC_0051758</td>\n",
       "      <td>IP_2180091</td>\n",
       "      <td>0</td>\n",
       "      <td>5</td>\n",
       "      <td>0.3</td>\n",
       "    </tr>\n",
       "  </tbody>\n",
       "</table>\n",
       "</div>"
      ],
      "text/plain": [
       "        isic_id  patient_id  final_target  fold  sample_weight\n",
       "0  ISIC_0015670  IP_1235828             0     4            0.3\n",
       "1  ISIC_0015845  IP_8170065             0     1            0.6\n",
       "2  ISIC_0015864  IP_6724798             0     5            0.3\n",
       "3  ISIC_0015902  IP_4111386             0     2            0.3\n",
       "4  ISIC_0024200  IP_8313778             0     1            0.3\n",
       "5  ISIC_0035502  IP_3026693             0     5            0.3\n",
       "6  ISIC_0051648  IP_0218255             0     1            0.3\n",
       "7  ISIC_0051665  IP_7734648             0     2            0.3\n",
       "8  ISIC_0051710  IP_1307115             0     2            0.3\n",
       "9  ISIC_0051758  IP_2180091             0     5            0.3"
      ]
     },
     "execution_count": 9,
     "metadata": {},
     "output_type": "execute_result"
    }
   ],
   "source": [
    "columns_to_write = [id_column, group_column, final_target_column, fold_column, sample_weight_column]\n",
    "train_metadata[columns_to_write].head(n=10)"
   ]
  },
  {
   "cell_type": "code",
   "execution_count": 10,
   "id": "d034a117",
   "metadata": {
    "execution": {
     "iopub.execute_input": "2024-07-24T21:47:49.703315Z",
     "iopub.status.busy": "2024-07-24T21:47:49.702940Z",
     "iopub.status.idle": "2024-07-24T21:47:49.715474Z",
     "shell.execute_reply": "2024-07-24T21:47:49.714308Z"
    },
    "papermill": {
     "duration": 0.020414,
     "end_time": "2024-07-24T21:47:49.717804",
     "exception": false,
     "start_time": "2024-07-24T21:47:49.697390",
     "status": "completed"
    },
    "tags": []
   },
   "outputs": [
    {
     "data": {
      "text/plain": [
       "final_target\n",
       "0    400666\n",
       "1       163\n",
       "2       157\n",
       "3        73\n",
       "Name: count, dtype: int64"
      ]
     },
     "execution_count": 10,
     "metadata": {},
     "output_type": "execute_result"
    }
   ],
   "source": [
    "train_metadata[final_target_column].value_counts()"
   ]
  },
  {
   "cell_type": "code",
   "execution_count": 11,
   "id": "3e639f7b",
   "metadata": {
    "execution": {
     "iopub.execute_input": "2024-07-24T21:47:49.728568Z",
     "iopub.status.busy": "2024-07-24T21:47:49.728196Z",
     "iopub.status.idle": "2024-07-24T21:47:49.740667Z",
     "shell.execute_reply": "2024-07-24T21:47:49.739583Z"
    },
    "papermill": {
     "duration": 0.020474,
     "end_time": "2024-07-24T21:47:49.742816",
     "exception": false,
     "start_time": "2024-07-24T21:47:49.722342",
     "status": "completed"
    },
    "tags": []
   },
   "outputs": [
    {
     "data": {
      "text/plain": [
       "final_target\n",
       "0    0.999020\n",
       "1    0.000406\n",
       "2    0.000391\n",
       "3    0.000182\n",
       "Name: proportion, dtype: float64"
      ]
     },
     "execution_count": 11,
     "metadata": {},
     "output_type": "execute_result"
    }
   ],
   "source": [
    "train_metadata[final_target_column].value_counts(normalize=True)"
   ]
  },
  {
   "cell_type": "code",
   "execution_count": 12,
   "id": "69a2e2aa",
   "metadata": {
    "execution": {
     "iopub.execute_input": "2024-07-24T21:47:49.753939Z",
     "iopub.status.busy": "2024-07-24T21:47:49.753431Z",
     "iopub.status.idle": "2024-07-24T21:47:50.616258Z",
     "shell.execute_reply": "2024-07-24T21:47:50.615126Z"
    },
    "papermill": {
     "duration": 0.871406,
     "end_time": "2024-07-24T21:47:50.618998",
     "exception": false,
     "start_time": "2024-07-24T21:47:49.747592",
     "status": "completed"
    },
    "tags": []
   },
   "outputs": [],
   "source": [
    "train_metadata[columns_to_write].to_csv(OUTPUT_FILENAME, index=False)"
   ]
  },
  {
   "cell_type": "code",
   "execution_count": null,
   "id": "bb0415c3",
   "metadata": {
    "papermill": {
     "duration": 0.004439,
     "end_time": "2024-07-24T21:47:50.628203",
     "exception": false,
     "start_time": "2024-07-24T21:47:50.623764",
     "status": "completed"
    },
    "tags": []
   },
   "outputs": [],
   "source": []
  }
 ],
 "metadata": {
  "kaggle": {
   "accelerator": "none",
   "dataSources": [
    {
     "databundleVersionId": 9094797,
     "sourceId": 63056,
     "sourceType": "competition"
    }
   ],
   "dockerImageVersionId": 30732,
   "isGpuEnabled": false,
   "isInternetEnabled": false,
   "language": "python",
   "sourceType": "notebook"
  },
  "kernelspec": {
   "display_name": "Python 3",
   "language": "python",
   "name": "python3"
  },
  "language_info": {
   "codemirror_mode": {
    "name": "ipython",
    "version": 3
   },
   "file_extension": ".py",
   "mimetype": "text/x-python",
   "name": "python",
   "nbconvert_exporter": "python",
   "pygments_lexer": "ipython3",
   "version": "3.10.13"
  },
  "papermill": {
   "default_parameters": {},
   "duration": 16.918927,
   "end_time": "2024-07-24T21:47:51.254623",
   "environment_variables": {},
   "exception": null,
   "input_path": "__notebook__.ipynb",
   "output_path": "__notebook__.ipynb",
   "parameters": {},
   "start_time": "2024-07-24T21:47:34.335696",
   "version": "2.5.0"
  }
 },
 "nbformat": 4,
 "nbformat_minor": 5
}
