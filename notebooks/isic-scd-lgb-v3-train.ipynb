{
 "cells": [
  {
   "cell_type": "code",
   "execution_count": 1,
   "id": "2abd604b",
   "metadata": {
    "_cell_guid": "b1076dfc-b9ad-4769-8c92-a6c4dae69d19",
    "_uuid": "8f2839f25d086af736a60e9eeb907d3b93b6e0e5",
    "execution": {
     "iopub.execute_input": "2024-07-24T05:27:48.095918Z",
     "iopub.status.busy": "2024-07-24T05:27:48.095493Z",
     "iopub.status.idle": "2024-07-24T05:27:55.329201Z",
     "shell.execute_reply": "2024-07-24T05:27:55.328146Z"
    },
    "papermill": {
     "duration": 7.241904,
     "end_time": "2024-07-24T05:27:55.331666",
     "exception": false,
     "start_time": "2024-07-24T05:27:48.089762",
     "status": "completed"
    },
    "tags": []
   },
   "outputs": [],
   "source": [
    "import json\n",
    "import joblib\n",
    "from pprint import pprint\n",
    "from pathlib import Path\n",
    "\n",
    "import pandas as pd\n",
    "import numpy as np\n",
    "\n",
    "from sklearn.compose import ColumnTransformer\n",
    "from sklearn.preprocessing import OrdinalEncoder, OneHotEncoder\n",
    "\n",
    "import lightgbm as lgb\n",
    "from lightgbm.callback import log_evaluation, early_stopping\n",
    "\n",
    "from isic_helper import DotDict\n",
    "from isic_helper import get_folds\n",
    "from isic_helper import compute_auc, compute_pauc\n",
    "\n",
    "pd.options.display.max_columns = 1000"
   ]
  },
  {
   "cell_type": "code",
   "execution_count": 2,
   "id": "780387c1",
   "metadata": {
    "execution": {
     "iopub.execute_input": "2024-07-24T05:27:55.341581Z",
     "iopub.status.busy": "2024-07-24T05:27:55.340994Z",
     "iopub.status.idle": "2024-07-24T05:27:55.346884Z",
     "shell.execute_reply": "2024-07-24T05:27:55.345686Z"
    },
    "papermill": {
     "duration": 0.013226,
     "end_time": "2024-07-24T05:27:55.349120",
     "exception": false,
     "start_time": "2024-07-24T05:27:55.335894",
     "status": "completed"
    },
    "tags": []
   },
   "outputs": [],
   "source": [
    "cfg = DotDict()\n",
    "cfg.seed = 2022\n",
    "\n",
    "cfg.models_output_dir = \"models\"\n",
    "cfg.model_name = \"lgb_v3\""
   ]
  },
  {
   "cell_type": "code",
   "execution_count": 3,
   "id": "b02595a7",
   "metadata": {
    "execution": {
     "iopub.execute_input": "2024-07-24T05:27:55.358847Z",
     "iopub.status.busy": "2024-07-24T05:27:55.358014Z",
     "iopub.status.idle": "2024-07-24T05:28:05.692773Z",
     "shell.execute_reply": "2024-07-24T05:28:05.691410Z"
    },
    "papermill": {
     "duration": 10.34218,
     "end_time": "2024-07-24T05:28:05.695255",
     "exception": false,
     "start_time": "2024-07-24T05:27:55.353075",
     "status": "completed"
    },
    "tags": []
   },
   "outputs": [
    {
     "name": "stdout",
     "output_type": "stream",
     "text": [
      "Train data size: (401059, 57)\n",
      "Test data size: (3, 44)\n"
     ]
    }
   ],
   "source": [
    "INPUT_PATH = Path(\"../input/isic-2024-challenge/\")\n",
    "MODELS_OUTPUT_PATH = Path(f\"{cfg.models_output_dir}\")\n",
    "MODELS_OUTPUT_PATH.mkdir(exist_ok=True)\n",
    "\n",
    "train_metadata = pd.read_csv(INPUT_PATH / \"train-metadata.csv\", low_memory=False)\n",
    "test_metadata = pd.read_csv(INPUT_PATH / \"test-metadata.csv\")\n",
    "\n",
    "folds_df = get_folds()\n",
    "train_metadata = train_metadata.merge(folds_df, on=[\"isic_id\", \"patient_id\"], how=\"inner\")\n",
    "print(f\"Train data size: {train_metadata.shape}\")\n",
    "print(f\"Test data size: {test_metadata.shape}\")"
   ]
  },
  {
   "cell_type": "code",
   "execution_count": 4,
   "id": "bb863803",
   "metadata": {
    "execution": {
     "iopub.execute_input": "2024-07-24T05:28:05.705027Z",
     "iopub.status.busy": "2024-07-24T05:28:05.704607Z",
     "iopub.status.idle": "2024-07-24T05:28:05.709912Z",
     "shell.execute_reply": "2024-07-24T05:28:05.708783Z"
    },
    "papermill": {
     "duration": 0.013155,
     "end_time": "2024-07-24T05:28:05.712462",
     "exception": false,
     "start_time": "2024-07-24T05:28:05.699307",
     "status": "completed"
    },
    "tags": []
   },
   "outputs": [],
   "source": [
    "id_column = \"isic_id\"\n",
    "target_column = \"final_target\"\n",
    "group_column = \"patient_id\""
   ]
  },
  {
   "cell_type": "code",
   "execution_count": 5,
   "id": "83697430",
   "metadata": {
    "execution": {
     "iopub.execute_input": "2024-07-24T05:28:05.722237Z",
     "iopub.status.busy": "2024-07-24T05:28:05.721814Z",
     "iopub.status.idle": "2024-07-24T05:28:07.983726Z",
     "shell.execute_reply": "2024-07-24T05:28:07.982650Z"
    },
    "papermill": {
     "duration": 2.269738,
     "end_time": "2024-07-24T05:28:07.986244",
     "exception": false,
     "start_time": "2024-07-24T05:28:05.716506",
     "status": "completed"
    },
    "tags": []
   },
   "outputs": [],
   "source": [
    "def count_features(df, col):\n",
    "    tmp = df[[id_column, group_column, col]].pivot_table(\n",
    "        values=id_column, \n",
    "        index=group_column, \n",
    "        columns=col, \n",
    "        aggfunc=\"count\", \n",
    "        fill_value=0)\n",
    "#     tmp = tmp / tmp.sum(axis=0)\n",
    "    feature_cols = tmp.columns.tolist()\n",
    "    tmp.reset_index(inplace=True)\n",
    "    tmp.index.name = None\n",
    "    df = df.merge(tmp, on=group_column, how=\"left\")\n",
    "    return df, feature_cols\n",
    "\n",
    "\n",
    "def stat_features(df, group_cols, value_col, stats):\n",
    "    tmp = df.groupby(group_cols)[value_col].agg(stats)\n",
    "    tmp.columns = [f\"{value_col}_{stat}\" for stat in stats]\n",
    "    tmp.reset_index(inplace=True)\n",
    "    df = df.merge(tmp, on=group_cols, how=\"left\")\n",
    "    df[f\"{value_col}_mean_diff\"] = df[value_col] - df[f\"{value_col}_mean\"]\n",
    "    return df\n",
    "\n",
    "\n",
    "def feature_engineering(df):\n",
    "    new_num_cols = []\n",
    "    \n",
    "#     df[\"lesion_size_ratio\"] = df[\"tbp_lv_minorAxisMM\"] / df[\"clin_size_long_diam_mm\"]\n",
    "#     df[\"hue_contrast\"] = (df[\"tbp_lv_H\"] - df[\"tbp_lv_Hext\"]).abs()\n",
    "#     df[\"normalized_lesion_size\"] = df[\"clin_size_long_diam_mm\"] / df[\"age_approx\"]\n",
    "#     df[\"overall_color_difference\"] = (df[\"tbp_lv_deltaA\"] + df[\"tbp_lv_deltaB\"] + df[\"tbp_lv_deltaL\"]) / 3\n",
    "#     df[\"max_minus_min_lesion_size\"] = df[\"clin_size_long_diam_mm\"] - df[\"tbp_lv_minorAxisMM\"]\n",
    "#     new_num_cols += [\"lesion_size_ratio\", \"hue_contrast\", \"normalized_lesion_size\", \"overall_color_difference\", \"max_minus_min_lesion_size\"]\n",
    "    \n",
    "    df, feature_cols = count_features(df, \"anatom_site_general\")\n",
    "    new_num_cols += feature_cols\n",
    "    \n",
    "    df[\"tbp_lv_A_diff\"] =  df[\"tbp_lv_Aext\"] - df[\"tbp_lv_A\"]\n",
    "    df = stat_features(df, [\"patient_id\", \"tbp_lv_location\"], \"tbp_lv_A_diff\", [\"mean\"])\n",
    "    new_num_cols += [\"tbp_lv_A_diff_mean_diff\"]\n",
    "    \n",
    "    df[\"tbp_lv_B_diff\"] =  df[\"tbp_lv_Bext\"] - df[\"tbp_lv_B\"]\n",
    "    df = stat_features(df, [\"patient_id\", \"tbp_lv_location\"], \"tbp_lv_B_diff\", [\"mean\"])\n",
    "    new_num_cols += [\"tbp_lv_B_diff_mean_diff\"]\n",
    "    \n",
    "    df[\"tbp_lv_L_diff\"] =  df[\"tbp_lv_Lext\"] - df[\"tbp_lv_L\"]\n",
    "    df = stat_features(df, [\"patient_id\", \"tbp_lv_location\"], \"tbp_lv_L_diff\", [\"mean\"])\n",
    "    new_num_cols += [\"tbp_lv_L_diff_mean_diff\"]\n",
    "    \n",
    "    df[\"tbp_lv_L_std_diff\"] =  df[\"tbp_lv_stdLExt\"] - df[\"tbp_lv_stdL\"]\n",
    "    df = stat_features(df, [\"patient_id\", \"tbp_lv_location\"], \"tbp_lv_L_std_diff\", [\"mean\"])\n",
    "    new_num_cols += [\"tbp_lv_L_std_diff_mean_diff\"]\n",
    "    \n",
    "    return df, new_num_cols\n",
    "\n",
    "train_metadata, new_num_cols = feature_engineering(train_metadata.copy())\n",
    "test_metadata, _ = feature_engineering(test_metadata.copy())"
   ]
  },
  {
   "cell_type": "code",
   "execution_count": 6,
   "id": "2ad38bc3",
   "metadata": {
    "execution": {
     "iopub.execute_input": "2024-07-24T05:28:07.996945Z",
     "iopub.status.busy": "2024-07-24T05:28:07.995807Z",
     "iopub.status.idle": "2024-07-24T05:28:08.002865Z",
     "shell.execute_reply": "2024-07-24T05:28:08.001733Z"
    },
    "papermill": {
     "duration": 0.014966,
     "end_time": "2024-07-24T05:28:08.005269",
     "exception": false,
     "start_time": "2024-07-24T05:28:07.990303",
     "status": "completed"
    },
    "tags": []
   },
   "outputs": [],
   "source": [
    "ord_categorical_features = [\n",
    "#     \"sex\", \n",
    "#     \"anatom_site_general\", \n",
    "    \"tbp_tile_type\", \n",
    "    \"tbp_lv_location\", \n",
    "#     \"tbp_lv_location_simple\",\n",
    "    \"attribution\", \"copyright_license\"\n",
    "]\n",
    "ohe_categorical_features = []\n",
    "numerical_features = [\n",
    "    \"age_approx\", \n",
    "    \"clin_size_long_diam_mm\",\n",
    "    \"tbp_lv_A\", \"tbp_lv_Aext\",\n",
    "    \"tbp_lv_B\", \"tbp_lv_Bext\",\n",
    "    \"tbp_lv_C\", \"tbp_lv_Cext\",\n",
    "    \"tbp_lv_H\", \"tbp_lv_Hext\",\n",
    "    \"tbp_lv_L\", \"tbp_lv_Lext\",\n",
    "    \"tbp_lv_areaMM2\",\n",
    "    \"tbp_lv_area_perim_ratio\",\n",
    "    \"tbp_lv_color_std_mean\",\n",
    "    \"tbp_lv_deltaA\", \"tbp_lv_deltaB\", \"tbp_lv_deltaL\", \"tbp_lv_deltaLB\", \"tbp_lv_deltaLBnorm\",\n",
    "    \"tbp_lv_eccentricity\",\n",
    "    \"tbp_lv_minorAxisMM\",\n",
    "    \"tbp_lv_nevi_confidence\",\n",
    "    \"tbp_lv_norm_border\", \"tbp_lv_norm_color\",\n",
    "    \"tbp_lv_perimeterMM\",\n",
    "    \"tbp_lv_radial_color_std_max\",\n",
    "    \"tbp_lv_stdL\", \"tbp_lv_stdLExt\",\n",
    "    \"tbp_lv_symm_2axis\", \"tbp_lv_symm_2axis_angle\",\n",
    "    \"tbp_lv_x\", \"tbp_lv_y\", \"tbp_lv_z\"\n",
    "]\n",
    "numerical_features += new_num_cols"
   ]
  },
  {
   "cell_type": "code",
   "execution_count": 7,
   "id": "dcbdd017",
   "metadata": {
    "execution": {
     "iopub.execute_input": "2024-07-24T05:28:08.015438Z",
     "iopub.status.busy": "2024-07-24T05:28:08.015053Z",
     "iopub.status.idle": "2024-07-24T05:28:08.023497Z",
     "shell.execute_reply": "2024-07-24T05:28:08.022323Z"
    },
    "papermill": {
     "duration": 0.016102,
     "end_time": "2024-07-24T05:28:08.025808",
     "exception": false,
     "start_time": "2024-07-24T05:28:08.009706",
     "status": "completed"
    },
    "tags": []
   },
   "outputs": [],
   "source": [
    "mixed_encoded_preprocessor = ColumnTransformer(\n",
    "    [\n",
    "        (\"numerical\", \"passthrough\", numerical_features),\n",
    "        (\n",
    "            \"ord_categorical\",\n",
    "            OrdinalEncoder(handle_unknown=\"use_encoded_value\", unknown_value=-2, encoded_missing_value=-1, dtype=int),\n",
    "            ord_categorical_features,\n",
    "        ),\n",
    "        (\n",
    "            \"ohe_categorical\",\n",
    "            OneHotEncoder(sparse_output=False),\n",
    "            ohe_categorical_features\n",
    "        )\n",
    "    ],\n",
    "    verbose_feature_names_out=False,\n",
    "\n",
    ")\n",
    "mixed_encoded_preprocessor.set_output(transform=\"pandas\")\n",
    "\n",
    "with open(f\"{cfg.model_name}_encoder.joblib\", \"wb\") as f:\n",
    "    joblib.dump(mixed_encoded_preprocessor, f)"
   ]
  },
  {
   "cell_type": "code",
   "execution_count": 8,
   "id": "bc075d18",
   "metadata": {
    "execution": {
     "iopub.execute_input": "2024-07-24T05:28:08.035628Z",
     "iopub.status.busy": "2024-07-24T05:28:08.034930Z",
     "iopub.status.idle": "2024-07-24T05:28:09.150979Z",
     "shell.execute_reply": "2024-07-24T05:28:09.149792Z"
    },
    "papermill": {
     "duration": 1.124293,
     "end_time": "2024-07-24T05:28:09.154241",
     "exception": false,
     "start_time": "2024-07-24T05:28:08.029948",
     "status": "completed"
    },
    "tags": []
   },
   "outputs": [
    {
     "name": "stdout",
     "output_type": "stream",
     "text": [
      "Total number of columns: 47\n"
     ]
    }
   ],
   "source": [
    "train_ids = train_metadata[id_column]\n",
    "groups = train_metadata[group_column]\n",
    "folds = train_metadata[\"fold\"]\n",
    "\n",
    "enc = mixed_encoded_preprocessor.fit(train_metadata)\n",
    "X_train = enc.transform(train_metadata)\n",
    "y_train = train_metadata[target_column]\n",
    "\n",
    "categorical_features = ord_categorical_features[:]\n",
    "for ohe_col in ohe_categorical_features:\n",
    "    categorical_features += [col for col in X_train.columns if col.startswith(ohe_col)]\n",
    "\n",
    "print(f\"Total number of columns: {len(X_train.columns)}\")"
   ]
  },
  {
   "cell_type": "code",
   "execution_count": 9,
   "id": "20263e72",
   "metadata": {
    "execution": {
     "iopub.execute_input": "2024-07-24T05:28:09.168741Z",
     "iopub.status.busy": "2024-07-24T05:28:09.167810Z",
     "iopub.status.idle": "2024-07-24T05:28:09.177925Z",
     "shell.execute_reply": "2024-07-24T05:28:09.176096Z"
    },
    "papermill": {
     "duration": 0.020406,
     "end_time": "2024-07-24T05:28:09.180908",
     "exception": false,
     "start_time": "2024-07-24T05:28:09.160502",
     "status": "completed"
    },
    "tags": []
   },
   "outputs": [],
   "source": [
    "def pauc_80(preds, data):\n",
    "    score_value = compute_pauc(data.get_label(), preds, min_tpr=0.8)   \n",
    "    return 'pauc_80', score_value, True\n",
    "\n",
    "\n",
    "params = {\n",
    "    \"objective\": \"binary\",\n",
    "    \"metric\": \"auc\",\n",
    "    \"num_leaves\": 63,\n",
    "    \"learning_rate\": 0.01,\n",
    "    \"bagging_freq\": 8,\n",
    "    \"bagging_fraction\": 0.6,\n",
    "    \"bagging_seed\": cfg.seed,\n",
    "    \"feature_fraction\": 0.3,\n",
    "    \"feature_fraction_seed\": cfg.seed,\n",
    "    \"lambda_l1\": 0.95,\n",
    "    \"lambda_l2\": 0.95,\n",
    "    \"verbosity\": -1\n",
    "}\n",
    "num_rounds = 2500\n",
    "es_rounds = 250\n",
    "log_rounds = 50"
   ]
  },
  {
   "cell_type": "code",
   "execution_count": 10,
   "id": "e190e8a1",
   "metadata": {
    "execution": {
     "iopub.execute_input": "2024-07-24T05:28:09.195993Z",
     "iopub.status.busy": "2024-07-24T05:28:09.195494Z",
     "iopub.status.idle": "2024-07-24T05:34:27.302061Z",
     "shell.execute_reply": "2024-07-24T05:34:27.300703Z"
    },
    "papermill": {
     "duration": 378.116806,
     "end_time": "2024-07-24T05:34:27.304625",
     "exception": false,
     "start_time": "2024-07-24T05:28:09.187819",
     "status": "completed"
    },
    "tags": []
   },
   "outputs": [
    {
     "name": "stdout",
     "output_type": "stream",
     "text": [
      "Running fold: 1\n",
      "Training until validation scores don't improve for 250 rounds\n",
      "[50]\tvalid_0's auc: 0.929882\tvalid_0's pauc_80: 0.146021\n",
      "[100]\tvalid_0's auc: 0.937589\tvalid_0's pauc_80: 0.151782\n",
      "[150]\tvalid_0's auc: 0.937999\tvalid_0's pauc_80: 0.151603\n",
      "[200]\tvalid_0's auc: 0.940605\tvalid_0's pauc_80: 0.153785\n",
      "[250]\tvalid_0's auc: 0.942943\tvalid_0's pauc_80: 0.155807\n",
      "[300]\tvalid_0's auc: 0.945468\tvalid_0's pauc_80: 0.158002\n",
      "[350]\tvalid_0's auc: 0.947123\tvalid_0's pauc_80: 0.159432\n",
      "[400]\tvalid_0's auc: 0.949154\tvalid_0's pauc_80: 0.161192\n",
      "[450]\tvalid_0's auc: 0.948812\tvalid_0's pauc_80: 0.16096\n",
      "[500]\tvalid_0's auc: 0.950288\tvalid_0's pauc_80: 0.162236\n",
      "[550]\tvalid_0's auc: 0.951217\tvalid_0's pauc_80: 0.162903\n",
      "[600]\tvalid_0's auc: 0.952001\tvalid_0's pauc_80: 0.163601\n",
      "[650]\tvalid_0's auc: 0.952296\tvalid_0's pauc_80: 0.163732\n",
      "[700]\tvalid_0's auc: 0.952338\tvalid_0's pauc_80: 0.163692\n",
      "[750]\tvalid_0's auc: 0.9531\tvalid_0's pauc_80: 0.164351\n",
      "[800]\tvalid_0's auc: 0.953341\tvalid_0's pauc_80: 0.164362\n",
      "[850]\tvalid_0's auc: 0.953604\tvalid_0's pauc_80: 0.16437\n",
      "[900]\tvalid_0's auc: 0.953585\tvalid_0's pauc_80: 0.164461\n",
      "[950]\tvalid_0's auc: 0.953976\tvalid_0's pauc_80: 0.164775\n",
      "[1000]\tvalid_0's auc: 0.954095\tvalid_0's pauc_80: 0.164872\n",
      "[1050]\tvalid_0's auc: 0.953857\tvalid_0's pauc_80: 0.164684\n",
      "[1100]\tvalid_0's auc: 0.95402\tvalid_0's pauc_80: 0.164773\n",
      "[1150]\tvalid_0's auc: 0.954263\tvalid_0's pauc_80: 0.164864\n",
      "[1200]\tvalid_0's auc: 0.954398\tvalid_0's pauc_80: 0.164839\n",
      "[1250]\tvalid_0's auc: 0.954071\tvalid_0's pauc_80: 0.164587\n",
      "[1300]\tvalid_0's auc: 0.953937\tvalid_0's pauc_80: 0.164428\n",
      "[1350]\tvalid_0's auc: 0.953956\tvalid_0's pauc_80: 0.164347\n",
      "Early stopping, best iteration is:\n",
      "[1114]\tvalid_0's auc: 0.954286\tvalid_0's pauc_80: 0.164972\n",
      "\n",
      "\n",
      "Running fold: 2\n",
      "Training until validation scores don't improve for 250 rounds\n",
      "[50]\tvalid_0's auc: 0.925942\tvalid_0's pauc_80: 0.141064\n",
      "[100]\tvalid_0's auc: 0.928018\tvalid_0's pauc_80: 0.141811\n",
      "[150]\tvalid_0's auc: 0.928935\tvalid_0's pauc_80: 0.14194\n",
      "[200]\tvalid_0's auc: 0.932965\tvalid_0's pauc_80: 0.14547\n",
      "[250]\tvalid_0's auc: 0.937151\tvalid_0's pauc_80: 0.14905\n",
      "[300]\tvalid_0's auc: 0.938832\tvalid_0's pauc_80: 0.150583\n",
      "[350]\tvalid_0's auc: 0.941481\tvalid_0's pauc_80: 0.153085\n",
      "[400]\tvalid_0's auc: 0.942386\tvalid_0's pauc_80: 0.153912\n",
      "[450]\tvalid_0's auc: 0.943052\tvalid_0's pauc_80: 0.154527\n",
      "[500]\tvalid_0's auc: 0.94438\tvalid_0's pauc_80: 0.155683\n",
      "[550]\tvalid_0's auc: 0.944945\tvalid_0's pauc_80: 0.156142\n",
      "[600]\tvalid_0's auc: 0.945069\tvalid_0's pauc_80: 0.156257\n",
      "[650]\tvalid_0's auc: 0.94556\tvalid_0's pauc_80: 0.156716\n",
      "[700]\tvalid_0's auc: 0.946112\tvalid_0's pauc_80: 0.157289\n",
      "[750]\tvalid_0's auc: 0.946469\tvalid_0's pauc_80: 0.157583\n",
      "[800]\tvalid_0's auc: 0.947118\tvalid_0's pauc_80: 0.158122\n",
      "[850]\tvalid_0's auc: 0.947266\tvalid_0's pauc_80: 0.1583\n",
      "[900]\tvalid_0's auc: 0.947852\tvalid_0's pauc_80: 0.158844\n",
      "[950]\tvalid_0's auc: 0.948182\tvalid_0's pauc_80: 0.158958\n",
      "[1000]\tvalid_0's auc: 0.94837\tvalid_0's pauc_80: 0.159222\n",
      "[1050]\tvalid_0's auc: 0.949521\tvalid_0's pauc_80: 0.160391\n",
      "[1100]\tvalid_0's auc: 0.94921\tvalid_0's pauc_80: 0.160102\n",
      "[1150]\tvalid_0's auc: 0.949945\tvalid_0's pauc_80: 0.160877\n",
      "[1200]\tvalid_0's auc: 0.94984\tvalid_0's pauc_80: 0.160857\n",
      "[1250]\tvalid_0's auc: 0.949729\tvalid_0's pauc_80: 0.160804\n",
      "[1300]\tvalid_0's auc: 0.94998\tvalid_0's pauc_80: 0.161107\n",
      "[1350]\tvalid_0's auc: 0.950281\tvalid_0's pauc_80: 0.161444\n",
      "[1400]\tvalid_0's auc: 0.950611\tvalid_0's pauc_80: 0.161773\n",
      "[1450]\tvalid_0's auc: 0.950693\tvalid_0's pauc_80: 0.161893\n",
      "[1500]\tvalid_0's auc: 0.950656\tvalid_0's pauc_80: 0.161824\n",
      "[1550]\tvalid_0's auc: 0.950512\tvalid_0's pauc_80: 0.161692\n",
      "[1600]\tvalid_0's auc: 0.950386\tvalid_0's pauc_80: 0.161551\n",
      "[1650]\tvalid_0's auc: 0.950002\tvalid_0's pauc_80: 0.161278\n",
      "[1700]\tvalid_0's auc: 0.950068\tvalid_0's pauc_80: 0.161372\n",
      "Early stopping, best iteration is:\n",
      "[1456]\tvalid_0's auc: 0.95079\tvalid_0's pauc_80: 0.16195\n",
      "\n",
      "\n",
      "Running fold: 3\n",
      "Training until validation scores don't improve for 250 rounds\n",
      "[50]\tvalid_0's auc: 0.939486\tvalid_0's pauc_80: 0.15221\n",
      "[100]\tvalid_0's auc: 0.939342\tvalid_0's pauc_80: 0.150797\n",
      "[150]\tvalid_0's auc: 0.938254\tvalid_0's pauc_80: 0.149255\n",
      "[200]\tvalid_0's auc: 0.941147\tvalid_0's pauc_80: 0.151848\n",
      "[250]\tvalid_0's auc: 0.941356\tvalid_0's pauc_80: 0.151994\n",
      "[300]\tvalid_0's auc: 0.943204\tvalid_0's pauc_80: 0.153652\n",
      "[350]\tvalid_0's auc: 0.945559\tvalid_0's pauc_80: 0.155954\n",
      "[400]\tvalid_0's auc: 0.945674\tvalid_0's pauc_80: 0.156052\n",
      "[450]\tvalid_0's auc: 0.945288\tvalid_0's pauc_80: 0.155659\n",
      "[500]\tvalid_0's auc: 0.945523\tvalid_0's pauc_80: 0.156008\n",
      "[550]\tvalid_0's auc: 0.945669\tvalid_0's pauc_80: 0.156315\n",
      "[600]\tvalid_0's auc: 0.94604\tvalid_0's pauc_80: 0.156691\n",
      "[650]\tvalid_0's auc: 0.945978\tvalid_0's pauc_80: 0.156711\n",
      "[700]\tvalid_0's auc: 0.946298\tvalid_0's pauc_80: 0.156983\n",
      "[750]\tvalid_0's auc: 0.946557\tvalid_0's pauc_80: 0.157327\n",
      "[800]\tvalid_0's auc: 0.946803\tvalid_0's pauc_80: 0.157603\n",
      "[850]\tvalid_0's auc: 0.946329\tvalid_0's pauc_80: 0.157192\n",
      "[900]\tvalid_0's auc: 0.946203\tvalid_0's pauc_80: 0.157165\n",
      "[950]\tvalid_0's auc: 0.946043\tvalid_0's pauc_80: 0.15709\n",
      "[1000]\tvalid_0's auc: 0.945924\tvalid_0's pauc_80: 0.157156\n",
      "Early stopping, best iteration is:\n",
      "[791]\tvalid_0's auc: 0.947021\tvalid_0's pauc_80: 0.15781\n",
      "\n",
      "\n",
      "Running fold: 4\n",
      "Training until validation scores don't improve for 250 rounds\n",
      "[50]\tvalid_0's auc: 0.956592\tvalid_0's pauc_80: 0.162875\n",
      "[100]\tvalid_0's auc: 0.956596\tvalid_0's pauc_80: 0.162357\n",
      "[150]\tvalid_0's auc: 0.956375\tvalid_0's pauc_80: 0.162047\n",
      "[200]\tvalid_0's auc: 0.95534\tvalid_0's pauc_80: 0.160738\n",
      "[250]\tvalid_0's auc: 0.956837\tvalid_0's pauc_80: 0.161917\n",
      "[300]\tvalid_0's auc: 0.956823\tvalid_0's pauc_80: 0.161911\n",
      "Early stopping, best iteration is:\n",
      "[58]\tvalid_0's auc: 0.959033\tvalid_0's pauc_80: 0.165173\n",
      "\n",
      "\n",
      "Running fold: 5\n",
      "Training until validation scores don't improve for 250 rounds\n",
      "[50]\tvalid_0's auc: 0.947735\tvalid_0's pauc_80: 0.163331\n",
      "[100]\tvalid_0's auc: 0.949397\tvalid_0's pauc_80: 0.164082\n",
      "[150]\tvalid_0's auc: 0.950594\tvalid_0's pauc_80: 0.164702\n",
      "[200]\tvalid_0's auc: 0.951128\tvalid_0's pauc_80: 0.164957\n",
      "[250]\tvalid_0's auc: 0.951681\tvalid_0's pauc_80: 0.164886\n",
      "[300]\tvalid_0's auc: 0.952795\tvalid_0's pauc_80: 0.165571\n",
      "[350]\tvalid_0's auc: 0.953423\tvalid_0's pauc_80: 0.165927\n",
      "Early stopping, best iteration is:\n",
      "[128]\tvalid_0's auc: 0.952276\tvalid_0's pauc_80: 0.166397\n",
      "\n",
      "\n",
      "Val AUC scores:\n",
      "{'fold_1': 0.9542862393605496,\n",
      " 'fold_2': 0.9507897988817449,\n",
      " 'fold_3': 0.9470209719084999,\n",
      " 'fold_4': 0.9590331769227889,\n",
      " 'fold_5': 0.9522758158151816}\n",
      "Val PAUC scores:\n",
      "{'fold_1': 0.16497235497198057,\n",
      " 'fold_2': 0.1619497597933717,\n",
      " 'fold_3': 0.15781049157005397,\n",
      " 'fold_4': 0.165173278756037,\n",
      " 'fold_5': 0.16639689081005388}\n",
      "CV AUC OOF: 0.9194982593168126\n",
      "CV PAUC OOF: 0.1318134148881298\n",
      "CV AUC AVG: 0.9526812005777531\n",
      "CV PAUC AVG: 0.16326055518029942\n",
      "CV AUC STD: 0.00396745960916552\n",
      "CV PAUC STD: 0.0030934365708241646\n",
      "Index(['age_approx', 'clin_size_long_diam_mm', 'tbp_lv_A', 'tbp_lv_Aext',\n",
      "       'tbp_lv_B', 'tbp_lv_Bext', 'tbp_lv_C', 'tbp_lv_Cext', 'tbp_lv_H',\n",
      "       'tbp_lv_Hext', 'tbp_lv_L', 'tbp_lv_Lext', 'tbp_lv_areaMM2',\n",
      "       'tbp_lv_area_perim_ratio', 'tbp_lv_color_std_mean', 'tbp_lv_deltaA',\n",
      "       'tbp_lv_deltaB', 'tbp_lv_deltaL', 'tbp_lv_deltaLB',\n",
      "       'tbp_lv_deltaLBnorm', 'tbp_lv_eccentricity', 'tbp_lv_minorAxisMM',\n",
      "       'tbp_lv_nevi_confidence', 'tbp_lv_norm_border', 'tbp_lv_norm_color',\n",
      "       'tbp_lv_perimeterMM', 'tbp_lv_radial_color_std_max', 'tbp_lv_stdL',\n",
      "       'tbp_lv_stdLExt', 'tbp_lv_symm_2axis', 'tbp_lv_symm_2axis_angle',\n",
      "       'tbp_lv_x', 'tbp_lv_y', 'tbp_lv_z', 'anterior torso', 'head/neck',\n",
      "       'lower extremity', 'posterior torso', 'upper extremity',\n",
      "       'tbp_lv_A_diff_mean_diff', 'tbp_lv_B_diff_mean_diff',\n",
      "       'tbp_lv_L_diff_mean_diff', 'tbp_lv_L_std_diff_mean_diff',\n",
      "       'tbp_tile_type', 'tbp_lv_location', 'attribution', 'copyright_license'],\n",
      "      dtype='object')\n"
     ]
    }
   ],
   "source": [
    "best_num_rounds = {}\n",
    "val_auc_scores = {}\n",
    "val_pauc_scores = {}\n",
    "all_folds = np.sort(folds.unique())\n",
    "oof_predictions = np.zeros(X_train.shape[0])\n",
    "for fold in all_folds:\n",
    "#     if fold != 4:\n",
    "#         continue\n",
    "    print(f\"Running fold: {fold}\")\n",
    "    dev_index = folds[folds != fold].index\n",
    "    val_index = folds[folds == fold].index\n",
    "    \n",
    "    X_dev = X_train.loc[dev_index, :]\n",
    "    y_dev = y_train[dev_index]\n",
    "    \n",
    "    X_val = X_train.loc[val_index, :]\n",
    "    y_val = y_train[val_index]\n",
    "    \n",
    "    lgb_dataset_dev = lgb.Dataset(X_dev, label=y_dev, categorical_feature=categorical_features, free_raw_data=False)\n",
    "    lgb_dataset_val = lgb.Dataset(X_val, label=y_val, categorical_feature=categorical_features, free_raw_data=False)\n",
    "    \n",
    "    model = lgb.train(\n",
    "        params,\n",
    "        lgb_dataset_dev,\n",
    "        num_boost_round=num_rounds,\n",
    "        valid_sets=[lgb_dataset_val],\n",
    "        feval=pauc_80,\n",
    "        callbacks=[early_stopping(stopping_rounds=es_rounds), log_evaluation(log_rounds)],\n",
    "    )\n",
    "    \n",
    "    model.save_model(MODELS_OUTPUT_PATH / f\"{cfg.model_name}_fold_{fold}.txt\")\n",
    "    best_num_rounds[f\"fold_{fold}\"] = model.best_iteration\n",
    "    val_scores = dict(model.best_score[\"valid_0\"])\n",
    "    \n",
    "    val_auc_scores[f\"fold_{fold}\"] = val_scores[\"auc\"]\n",
    "    val_pauc_scores[f\"fold_{fold}\"] = val_scores[\"pauc_80\"]\n",
    "    \n",
    "    val_preds = model.predict(X_val, num_iteration=model.best_iteration)\n",
    "    oof_predictions[val_index] = val_preds\n",
    "    print(\"\\n\")\n",
    "\n",
    "print(\"Val AUC scores:\")\n",
    "pprint(val_auc_scores)\n",
    "print(\"Val PAUC scores:\")\n",
    "pprint(val_pauc_scores)\n",
    "\n",
    "oof_preds_df = pd.DataFrame({\n",
    "    id_column: train_ids,\n",
    "    group_column: groups,\n",
    "    \"fold\": folds,\n",
    "    target_column: y_train,\n",
    "    f\"oof_{cfg.model_name}\": oof_predictions\n",
    "})\n",
    "oof_preds_df.to_csv(f\"oof_preds_{cfg.model_name}.csv\", index=False)\n",
    "\n",
    "cv_auc_oof = compute_auc(oof_preds_df[target_column], oof_preds_df[f\"oof_{cfg.model_name}\"])\n",
    "cv_pauc_oof = compute_pauc(oof_preds_df[target_column], oof_preds_df[f\"oof_{cfg.model_name}\"], min_tpr=0.8)\n",
    "\n",
    "cv_auc_avg = np.mean(list(val_auc_scores.values()))\n",
    "cv_pauc_avg = np.mean(list(val_pauc_scores.values()))\n",
    "\n",
    "cv_auc_std = np.std(list(val_auc_scores.values()))\n",
    "cv_pauc_std = np.std(list(val_pauc_scores.values()))\n",
    "\n",
    "print(f\"CV AUC OOF: {cv_auc_oof}\")\n",
    "print(f\"CV PAUC OOF: {cv_pauc_oof}\")\n",
    "print(f\"CV AUC AVG: {cv_auc_avg}\")\n",
    "print(f\"CV PAUC AVG: {cv_pauc_avg}\")\n",
    "print(f\"CV AUC STD: {cv_auc_std}\")\n",
    "print(f\"CV PAUC STD: {cv_pauc_std}\")\n",
    "print(X_train.columns)"
   ]
  },
  {
   "cell_type": "code",
   "execution_count": 11,
   "id": "a3cb25d3",
   "metadata": {
    "execution": {
     "iopub.execute_input": "2024-07-24T05:34:27.328532Z",
     "iopub.status.busy": "2024-07-24T05:34:27.328101Z",
     "iopub.status.idle": "2024-07-24T05:34:28.257242Z",
     "shell.execute_reply": "2024-07-24T05:34:28.255827Z"
    },
    "papermill": {
     "duration": 0.945218,
     "end_time": "2024-07-24T05:34:28.260977",
     "exception": false,
     "start_time": "2024-07-24T05:34:27.315759",
     "status": "completed"
    },
    "tags": []
   },
   "outputs": [
    {
     "data": {
      "text/plain": [
       "<Axes: >"
      ]
     },
     "execution_count": 11,
     "metadata": {},
     "output_type": "execute_result"
    },
    {
     "data": {
      "image/png": "[encoded data removed]",
      "text/plain": [
       "<Figure size 1000x1500 with 1 Axes>"
      ]
     },
     "metadata": {},
     "output_type": "display_data"
    }
   ],
   "source": [
    "feature_importances = 0\n",
    "for fold in all_folds:\n",
    "    model = lgb.Booster(model_file=MODELS_OUTPUT_PATH / f\"{cfg.model_name}_fold_{fold}.txt\")\n",
    "    if fold == 1:\n",
    "        feature_names = model.feature_name()\n",
    "    feature_importances += model.feature_importance(importance_type=\"gain\")\n",
    "feature_importances /= len(all_folds)\n",
    "\n",
    "imp = pd.DataFrame.from_dict(dict(zip(feature_names, feature_importances)), \n",
    "                             orient=\"index\", columns=[\"imp\"]).sort_values(\"imp\", ascending=True)\n",
    "imp.plot(kind=\"barh\", figsize=(10, 15))"
   ]
  },
  {
   "cell_type": "code",
   "execution_count": 12,
   "id": "c6bda6de",
   "metadata": {
    "execution": {
     "iopub.execute_input": "2024-07-24T05:34:28.288644Z",
     "iopub.status.busy": "2024-07-24T05:34:28.288276Z",
     "iopub.status.idle": "2024-07-24T05:34:28.296016Z",
     "shell.execute_reply": "2024-07-24T05:34:28.294582Z"
    },
    "papermill": {
     "duration": 0.024355,
     "end_time": "2024-07-24T05:34:28.298652",
     "exception": false,
     "start_time": "2024-07-24T05:34:28.274297",
     "status": "completed"
    },
    "tags": []
   },
   "outputs": [],
   "source": [
    "metadata = {\n",
    "    \"params\": params,\n",
    "    \"num_rounds\": num_rounds,\n",
    "    \"es_rounds\": es_rounds,\n",
    "    \"best_num_rounds\": best_num_rounds,\n",
    "    \"val_auc_scores\": val_auc_scores,\n",
    "    \"val_pauc_scores\": val_pauc_scores,\n",
    "    \"cv_auc_oof\": cv_auc_oof,\n",
    "    \"cv_pauc_oof\": cv_pauc_oof,\n",
    "    \"cv_auc_avg\": cv_auc_avg,\n",
    "    \"cv_pauc_avg\": cv_pauc_avg\n",
    "}\n",
    "\n",
    "with open(f\"{cfg.model_name}_run_metadata.json\", \"w\") as f:\n",
    "    json.dump(metadata, f)"
   ]
  }
 ],
 "metadata": {
  "kaggle": {
   "accelerator": "none",
   "dataSources": [
    {
     "databundleVersionId": 9094797,
     "sourceId": 63056,
     "sourceType": "competition"
    },
    {
     "sourceId": 187439867,
     "sourceType": "kernelVersion"
    },
    {
     "sourceId": 187477024,
     "sourceType": "kernelVersion"
    }
   ],
   "dockerImageVersionId": 30746,
   "isGpuEnabled": false,
   "isInternetEnabled": false,
   "language": "python",
   "sourceType": "notebook"
  },
  "kernelspec": {
   "display_name": "Python 3",
   "language": "python",
   "name": "python3"
  },
  "language_info": {
   "codemirror_mode": {
    "name": "ipython",
    "version": 3
   },
   "file_extension": ".py",
   "mimetype": "text/x-python",
   "name": "python",
   "nbconvert_exporter": "python",
   "pygments_lexer": "ipython3",
   "version": "3.10.13"
  },
  "papermill": {
   "default_parameters": {},
   "duration": 404.374258,
   "end_time": "2024-07-24T05:34:29.536548",
   "environment_variables": {},
   "exception": null,
   "input_path": "__notebook__.ipynb",
   "output_path": "__notebook__.ipynb",
   "parameters": {},
   "start_time": "2024-07-24T05:27:45.162290",
   "version": "2.5.0"
  }
 },
 "nbformat": 4,
 "nbformat_minor": 5
}
