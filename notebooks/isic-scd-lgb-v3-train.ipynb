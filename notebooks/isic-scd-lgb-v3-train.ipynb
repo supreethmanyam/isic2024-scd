{
 "cells": [
  {
   "cell_type": "code",
   "execution_count": 1,
   "id": "e7aab4f4",
   "metadata": {
    "_cell_guid": "b1076dfc-b9ad-4769-8c92-a6c4dae69d19",
    "_uuid": "8f2839f25d086af736a60e9eeb907d3b93b6e0e5",
    "execution": {
     "iopub.execute_input": "2024-07-24T05:15:01.159069Z",
     "iopub.status.busy": "2024-07-24T05:15:01.158613Z",
     "iopub.status.idle": "2024-07-24T05:15:09.424389Z",
     "shell.execute_reply": "2024-07-24T05:15:09.423146Z"
    },
    "papermill": {
     "duration": 8.277382,
     "end_time": "2024-07-24T05:15:09.427863",
     "exception": false,
     "start_time": "2024-07-24T05:15:01.150481",
     "status": "completed"
    },
    "tags": []
   },
   "outputs": [],
   "source": [
    "import json\n",
    "import joblib\n",
    "from pprint import pprint\n",
    "from pathlib import Path\n",
    "\n",
    "import pandas as pd\n",
    "import numpy as np\n",
    "\n",
    "from sklearn.compose import ColumnTransformer\n",
    "from sklearn.preprocessing import OrdinalEncoder, OneHotEncoder\n",
    "\n",
    "import lightgbm as lgb\n",
    "from lightgbm.callback import log_evaluation, early_stopping\n",
    "\n",
    "from isic_helper import DotDict\n",
    "from isic_helper import get_folds\n",
    "from isic_helper import compute_auc, compute_pauc\n",
    "\n",
    "pd.options.display.max_columns = 1000"
   ]
  },
  {
   "cell_type": "code",
   "execution_count": 2,
   "id": "4f3a3852",
   "metadata": {
    "execution": {
     "iopub.execute_input": "2024-07-24T05:15:09.443346Z",
     "iopub.status.busy": "2024-07-24T05:15:09.441794Z",
     "iopub.status.idle": "2024-07-24T05:15:09.449100Z",
     "shell.execute_reply": "2024-07-24T05:15:09.447493Z"
    },
    "papermill": {
     "duration": 0.018467,
     "end_time": "2024-07-24T05:15:09.452346",
     "exception": false,
     "start_time": "2024-07-24T05:15:09.433879",
     "status": "completed"
    },
    "tags": []
   },
   "outputs": [],
   "source": [
    "cfg = DotDict()\n",
    "cfg.seed = 2022\n",
    "\n",
    "cfg.models_output_dir = \"models\"\n",
    "cfg.model_name = \"lgb_v3\""
   ]
  },
  {
   "cell_type": "code",
   "execution_count": 3,
   "id": "0b90b447",
   "metadata": {
    "execution": {
     "iopub.execute_input": "2024-07-24T05:15:09.465331Z",
     "iopub.status.busy": "2024-07-24T05:15:09.464838Z",
     "iopub.status.idle": "2024-07-24T05:15:21.345360Z",
     "shell.execute_reply": "2024-07-24T05:15:21.343714Z"
    },
    "papermill": {
     "duration": 11.891068,
     "end_time": "2024-07-24T05:15:21.348840",
     "exception": false,
     "start_time": "2024-07-24T05:15:09.457772",
     "status": "completed"
    },
    "tags": []
   },
   "outputs": [
    {
     "name": "stdout",
     "output_type": "stream",
     "text": [
      "Train data size: (401059, 57)\n",
      "Test data size: (3, 44)\n"
     ]
    }
   ],
   "source": [
    "INPUT_PATH = Path(\"../input/isic-2024-challenge/\")\n",
    "MODELS_OUTPUT_PATH = Path(f\"{cfg.models_output_dir}\")\n",
    "MODELS_OUTPUT_PATH.mkdir(exist_ok=True)\n",
    "\n",
    "train_metadata = pd.read_csv(INPUT_PATH / \"train-metadata.csv\", low_memory=False)\n",
    "test_metadata = pd.read_csv(INPUT_PATH / \"test-metadata.csv\")\n",
    "\n",
    "folds_df = get_folds()\n",
    "train_metadata = train_metadata.merge(folds_df, on=[\"isic_id\", \"patient_id\"], how=\"inner\")\n",
    "print(f\"Train data size: {train_metadata.shape}\")\n",
    "print(f\"Test data size: {test_metadata.shape}\")"
   ]
  },
  {
   "cell_type": "code",
   "execution_count": 4,
   "id": "86934776",
   "metadata": {
    "execution": {
     "iopub.execute_input": "2024-07-24T05:15:21.363218Z",
     "iopub.status.busy": "2024-07-24T05:15:21.361937Z",
     "iopub.status.idle": "2024-07-24T05:15:21.368134Z",
     "shell.execute_reply": "2024-07-24T05:15:21.366822Z"
    },
    "papermill": {
     "duration": 0.015599,
     "end_time": "2024-07-24T05:15:21.370622",
     "exception": false,
     "start_time": "2024-07-24T05:15:21.355023",
     "status": "completed"
    },
    "tags": []
   },
   "outputs": [],
   "source": [
    "id_column = \"isic_id\"\n",
    "target_column = \"final_target\"\n",
    "group_column = \"patient_id\""
   ]
  },
  {
   "cell_type": "code",
   "execution_count": 5,
   "id": "eb17f433",
   "metadata": {
    "execution": {
     "iopub.execute_input": "2024-07-24T05:15:21.383532Z",
     "iopub.status.busy": "2024-07-24T05:15:21.383025Z",
     "iopub.status.idle": "2024-07-24T05:15:24.297741Z",
     "shell.execute_reply": "2024-07-24T05:15:24.296492Z"
    },
    "papermill": {
     "duration": 2.924922,
     "end_time": "2024-07-24T05:15:24.300944",
     "exception": false,
     "start_time": "2024-07-24T05:15:21.376022",
     "status": "completed"
    },
    "tags": []
   },
   "outputs": [],
   "source": [
    "def count_features(df, col):\n",
    "    tmp = df[[id_column, group_column, col]].pivot_table(\n",
    "        values=id_column, \n",
    "        index=group_column, \n",
    "        columns=col, \n",
    "        aggfunc=\"count\", \n",
    "        fill_value=0)\n",
    "#     tmp = tmp / tmp.sum(axis=0)\n",
    "    feature_cols = tmp.columns.tolist()\n",
    "    tmp.reset_index(inplace=True)\n",
    "    tmp.index.name = None\n",
    "    df = df.merge(tmp, on=group_column, how=\"left\")\n",
    "    return df, feature_cols\n",
    "\n",
    "\n",
    "def stat_features(df, group_cols, value_col, stats):\n",
    "    tmp = df.groupby(group_cols)[value_col].agg(stats)\n",
    "    tmp.columns = [f\"{value_col}_{stat}\" for stat in stats]\n",
    "    tmp.reset_index(inplace=True)\n",
    "    df = df.merge(tmp, on=group_cols, how=\"left\")\n",
    "    df[f\"{value_col}_mean_diff\"] = df[value_col] - df[f\"{value_col}_mean\"]\n",
    "    return df\n",
    "\n",
    "\n",
    "def feature_engineering(df):\n",
    "    new_num_cols = []\n",
    "    \n",
    "#     df[\"lesion_size_ratio\"] = df[\"tbp_lv_minorAxisMM\"] / df[\"clin_size_long_diam_mm\"]\n",
    "#     df[\"hue_contrast\"] = (df[\"tbp_lv_H\"] - df[\"tbp_lv_Hext\"]).abs()\n",
    "#     df[\"normalized_lesion_size\"] = df[\"clin_size_long_diam_mm\"] / df[\"age_approx\"]\n",
    "#     df[\"overall_color_difference\"] = (df[\"tbp_lv_deltaA\"] + df[\"tbp_lv_deltaB\"] + df[\"tbp_lv_deltaL\"]) / 3\n",
    "#     df[\"max_minus_min_lesion_size\"] = df[\"clin_size_long_diam_mm\"] - df[\"tbp_lv_minorAxisMM\"]\n",
    "#     new_num_cols += [\"lesion_size_ratio\", \"hue_contrast\", \"normalized_lesion_size\", \"overall_color_difference\", \"max_minus_min_lesion_size\"]\n",
    "    \n",
    "    df, feature_cols = count_features(df, \"anatom_site_general\")\n",
    "    new_num_cols += feature_cols\n",
    "    \n",
    "    df[\"tbp_lv_A_diff\"] =  df[\"tbp_lv_Aext\"] - df[\"tbp_lv_A\"]\n",
    "    df = stat_features(df, [\"patient_id\", \"tbp_lv_location\"], \"tbp_lv_A_diff\", [\"mean\"])\n",
    "    new_num_cols += [\"tbp_lv_A_diff_mean_diff\"]\n",
    "    \n",
    "    df[\"tbp_lv_B_diff\"] =  df[\"tbp_lv_Bext\"] - df[\"tbp_lv_B\"]\n",
    "    df = stat_features(df, [\"patient_id\", \"tbp_lv_location\"], \"tbp_lv_B_diff\", [\"mean\"])\n",
    "    new_num_cols += [\"tbp_lv_B_diff_mean_diff\"]\n",
    "    \n",
    "    df[\"tbp_lv_L_diff\"] =  df[\"tbp_lv_Lext\"] - df[\"tbp_lv_L\"]\n",
    "    df = stat_features(df, [\"patient_id\", \"tbp_lv_location\"], \"tbp_lv_L_diff\", [\"mean\"])\n",
    "    new_num_cols += [\"tbp_lv_L_diff_mean_diff\"]\n",
    "    \n",
    "    df[\"tbp_lv_L_std_diff\"] =  df[\"tbp_lv_stdLExt\"] - df[\"tbp_lv_stdL\"]\n",
    "    df = stat_features(df, [\"patient_id\", \"tbp_lv_location\"], \"tbp_lv_L_std_diff\", [\"mean\"])\n",
    "    new_num_cols += [\"tbp_lv_L_std_diff_mean_diff\"]\n",
    "    \n",
    "    return df, new_num_cols\n",
    "\n",
    "train_metadata, new_num_cols = feature_engineering(train_metadata.copy())\n",
    "test_metadata, _ = feature_engineering(test_metadata.copy())"
   ]
  },
  {
   "cell_type": "code",
   "execution_count": 6,
   "id": "059d5aea",
   "metadata": {
    "execution": {
     "iopub.execute_input": "2024-07-24T05:15:24.314895Z",
     "iopub.status.busy": "2024-07-24T05:15:24.314409Z",
     "iopub.status.idle": "2024-07-24T05:15:24.323789Z",
     "shell.execute_reply": "2024-07-24T05:15:24.322205Z"
    },
    "papermill": {
     "duration": 0.019775,
     "end_time": "2024-07-24T05:15:24.326450",
     "exception": false,
     "start_time": "2024-07-24T05:15:24.306675",
     "status": "completed"
    },
    "tags": []
   },
   "outputs": [],
   "source": [
    "ord_categorical_features = [\n",
    "#     \"sex\", \n",
    "#     \"anatom_site_general\", \n",
    "    \"tbp_tile_type\", \n",
    "    \"tbp_lv_location\", \n",
    "#     \"tbp_lv_location_simple\",\n",
    "    \"attribution\", \"copyright_license\"\n",
    "]\n",
    "ohe_categorical_features = []\n",
    "numerical_features = [\n",
    "    \"age_approx\", \n",
    "    \"clin_size_long_diam_mm\",\n",
    "    \"tbp_lv_A\", \"tbp_lv_Aext\",\n",
    "    \"tbp_lv_B\", \"tbp_lv_Bext\",\n",
    "    \"tbp_lv_C\", \"tbp_lv_Cext\",\n",
    "    \"tbp_lv_H\", \"tbp_lv_Hext\",\n",
    "    \"tbp_lv_L\", \"tbp_lv_Lext\",\n",
    "    \"tbp_lv_areaMM2\",\n",
    "    \"tbp_lv_area_perim_ratio\",\n",
    "    \"tbp_lv_color_std_mean\",\n",
    "    \"tbp_lv_deltaA\", \"tbp_lv_deltaB\", \"tbp_lv_deltaL\", \"tbp_lv_deltaLB\", \"tbp_lv_deltaLBnorm\",\n",
    "    \"tbp_lv_eccentricity\",\n",
    "    \"tbp_lv_minorAxisMM\",\n",
    "    \"tbp_lv_nevi_confidence\",\n",
    "    \"tbp_lv_norm_border\", \"tbp_lv_norm_color\",\n",
    "    \"tbp_lv_perimeterMM\",\n",
    "    \"tbp_lv_radial_color_std_max\",\n",
    "    \"tbp_lv_stdL\", \"tbp_lv_stdLExt\",\n",
    "    \"tbp_lv_symm_2axis\", \"tbp_lv_symm_2axis_angle\",\n",
    "    \"tbp_lv_x\", \"tbp_lv_y\", \"tbp_lv_z\"\n",
    "]\n",
    "numerical_features += new_num_cols"
   ]
  },
  {
   "cell_type": "code",
   "execution_count": 7,
   "id": "9daf3ae2",
   "metadata": {
    "execution": {
     "iopub.execute_input": "2024-07-24T05:15:24.339806Z",
     "iopub.status.busy": "2024-07-24T05:15:24.339381Z",
     "iopub.status.idle": "2024-07-24T05:15:24.350243Z",
     "shell.execute_reply": "2024-07-24T05:15:24.349072Z"
    },
    "papermill": {
     "duration": 0.021061,
     "end_time": "2024-07-24T05:15:24.353035",
     "exception": false,
     "start_time": "2024-07-24T05:15:24.331974",
     "status": "completed"
    },
    "tags": []
   },
   "outputs": [],
   "source": [
    "mixed_encoded_preprocessor = ColumnTransformer(\n",
    "    [\n",
    "        (\"numerical\", \"passthrough\", numerical_features),\n",
    "        (\n",
    "            \"ord_categorical\",\n",
    "            OrdinalEncoder(handle_unknown=\"use_encoded_value\", unknown_value=-2, encoded_missing_value=-1, dtype=int),\n",
    "            ord_categorical_features,\n",
    "        ),\n",
    "        (\n",
    "            \"ohe_categorical\",\n",
    "            OneHotEncoder(sparse_output=False),\n",
    "            ohe_categorical_features\n",
    "        )\n",
    "    ],\n",
    "    verbose_feature_names_out=False,\n",
    "\n",
    ")\n",
    "mixed_encoded_preprocessor.set_output(transform=\"pandas\")\n",
    "\n",
    "with open(f\"{cfg.model_name}_encoder.joblib\", \"wb\") as f:\n",
    "    joblib.dump(mixed_encoded_preprocessor, f)"
   ]
  },
  {
   "cell_type": "code",
   "execution_count": 8,
   "id": "fae442c2",
   "metadata": {
    "execution": {
     "iopub.execute_input": "2024-07-24T05:15:24.366351Z",
     "iopub.status.busy": "2024-07-24T05:15:24.365827Z",
     "iopub.status.idle": "2024-07-24T05:15:25.871231Z",
     "shell.execute_reply": "2024-07-24T05:15:25.869275Z"
    },
    "papermill": {
     "duration": 1.515412,
     "end_time": "2024-07-24T05:15:25.873887",
     "exception": false,
     "start_time": "2024-07-24T05:15:24.358475",
     "status": "completed"
    },
    "tags": []
   },
   "outputs": [
    {
     "name": "stdout",
     "output_type": "stream",
     "text": [
      "Total number of columns: 47\n"
     ]
    }
   ],
   "source": [
    "train_ids = train_metadata[id_column]\n",
    "groups = train_metadata[group_column]\n",
    "folds = train_metadata[\"fold\"]\n",
    "\n",
    "enc = mixed_encoded_preprocessor.fit(train_metadata)\n",
    "X_train = enc.transform(train_metadata)\n",
    "y_train = train_metadata[target_column]\n",
    "\n",
    "categorical_features = ord_categorical_features[:]\n",
    "for ohe_col in ohe_categorical_features:\n",
    "    categorical_features += [col for col in X_train.columns if col.startswith(ohe_col)]\n",
    "\n",
    "print(f\"Total number of columns: {len(X_train.columns)}\")"
   ]
  },
  {
   "cell_type": "code",
   "execution_count": 9,
   "id": "cf698ae6",
   "metadata": {
    "execution": {
     "iopub.execute_input": "2024-07-24T05:15:25.890850Z",
     "iopub.status.busy": "2024-07-24T05:15:25.889503Z",
     "iopub.status.idle": "2024-07-24T05:15:25.901327Z",
     "shell.execute_reply": "2024-07-24T05:15:25.899708Z"
    },
    "papermill": {
     "duration": 0.024358,
     "end_time": "2024-07-24T05:15:25.903889",
     "exception": false,
     "start_time": "2024-07-24T05:15:25.879531",
     "status": "completed"
    },
    "tags": []
   },
   "outputs": [],
   "source": [
    "def pauc_80(preds, data):\n",
    "    score_value = compute_pauc(data.get_label(), preds, min_tpr=0.8)   \n",
    "    return 'pauc_80', score_value, True\n",
    "\n",
    "\n",
    "params = {\n",
    "    \"objective\": \"binary\",\n",
    "    \"metric\": \"auc\",\n",
    "    \"num_leaves\": 63,\n",
    "    \"learning_rate\": 0.01,\n",
    "    \"bagging_freq\": 5,\n",
    "    \"bagging_fraction\": 0.6,\n",
    "    \"bagging_seed\": cfg.seed,\n",
    "    \"feature_fraction\": 0.3,\n",
    "    \"feature_fraction_seed\": cfg.seed,\n",
    "    \"lambda_l1\": 0.95,\n",
    "    \"lambda_l2\": 0.95,\n",
    "    \"verbosity\": -1\n",
    "}\n",
    "num_rounds = 2500\n",
    "es_rounds = 250\n",
    "log_rounds = 50"
   ]
  },
  {
   "cell_type": "code",
   "execution_count": 10,
   "id": "8b2c30a2",
   "metadata": {
    "execution": {
     "iopub.execute_input": "2024-07-24T05:15:25.919680Z",
     "iopub.status.busy": "2024-07-24T05:15:25.919037Z",
     "iopub.status.idle": "2024-07-24T05:21:36.561871Z",
     "shell.execute_reply": "2024-07-24T05:21:36.560306Z"
    },
    "papermill": {
     "duration": 370.655499,
     "end_time": "2024-07-24T05:21:36.565388",
     "exception": false,
     "start_time": "2024-07-24T05:15:25.909889",
     "status": "completed"
    },
    "tags": []
   },
   "outputs": [
    {
     "name": "stdout",
     "output_type": "stream",
     "text": [
      "Running fold: 1\n",
      "Training until validation scores don't improve for 250 rounds\n",
      "[50]\tvalid_0's auc: 0.938496\tvalid_0's pauc_80: 0.154459\n",
      "[100]\tvalid_0's auc: 0.941212\tvalid_0's pauc_80: 0.155507\n",
      "[150]\tvalid_0's auc: 0.941949\tvalid_0's pauc_80: 0.155512\n",
      "[200]\tvalid_0's auc: 0.943713\tvalid_0's pauc_80: 0.156822\n",
      "[250]\tvalid_0's auc: 0.945983\tvalid_0's pauc_80: 0.158389\n",
      "[300]\tvalid_0's auc: 0.948346\tvalid_0's pauc_80: 0.160546\n",
      "[350]\tvalid_0's auc: 0.949688\tvalid_0's pauc_80: 0.16176\n",
      "[400]\tvalid_0's auc: 0.950547\tvalid_0's pauc_80: 0.162443\n",
      "[450]\tvalid_0's auc: 0.951593\tvalid_0's pauc_80: 0.163259\n",
      "[500]\tvalid_0's auc: 0.953186\tvalid_0's pauc_80: 0.164773\n",
      "[550]\tvalid_0's auc: 0.95385\tvalid_0's pauc_80: 0.165189\n",
      "[600]\tvalid_0's auc: 0.954101\tvalid_0's pauc_80: 0.165185\n",
      "[650]\tvalid_0's auc: 0.954544\tvalid_0's pauc_80: 0.165615\n",
      "[700]\tvalid_0's auc: 0.955122\tvalid_0's pauc_80: 0.165997\n",
      "[750]\tvalid_0's auc: 0.955066\tvalid_0's pauc_80: 0.165802\n",
      "[800]\tvalid_0's auc: 0.955225\tvalid_0's pauc_80: 0.165926\n",
      "[850]\tvalid_0's auc: 0.955053\tvalid_0's pauc_80: 0.165667\n",
      "[900]\tvalid_0's auc: 0.954687\tvalid_0's pauc_80: 0.165157\n",
      "[950]\tvalid_0's auc: 0.954785\tvalid_0's pauc_80: 0.165152\n",
      "[1000]\tvalid_0's auc: 0.954879\tvalid_0's pauc_80: 0.165223\n",
      "Early stopping, best iteration is:\n",
      "[784]\tvalid_0's auc: 0.955443\tvalid_0's pauc_80: 0.166135\n",
      "\n",
      "\n",
      "Running fold: 2\n",
      "Training until validation scores don't improve for 250 rounds\n",
      "[50]\tvalid_0's auc: 0.931946\tvalid_0's pauc_80: 0.146899\n",
      "[100]\tvalid_0's auc: 0.934668\tvalid_0's pauc_80: 0.148147\n",
      "[150]\tvalid_0's auc: 0.935833\tvalid_0's pauc_80: 0.148738\n",
      "[200]\tvalid_0's auc: 0.937409\tvalid_0's pauc_80: 0.149864\n",
      "[250]\tvalid_0's auc: 0.94091\tvalid_0's pauc_80: 0.153119\n",
      "[300]\tvalid_0's auc: 0.94016\tvalid_0's pauc_80: 0.152164\n",
      "[350]\tvalid_0's auc: 0.941658\tvalid_0's pauc_80: 0.153465\n",
      "[400]\tvalid_0's auc: 0.943814\tvalid_0's pauc_80: 0.155351\n",
      "[450]\tvalid_0's auc: 0.944458\tvalid_0's pauc_80: 0.156014\n",
      "[500]\tvalid_0's auc: 0.946706\tvalid_0's pauc_80: 0.157998\n",
      "[550]\tvalid_0's auc: 0.947794\tvalid_0's pauc_80: 0.159107\n",
      "[600]\tvalid_0's auc: 0.948595\tvalid_0's pauc_80: 0.159689\n",
      "[650]\tvalid_0's auc: 0.949246\tvalid_0's pauc_80: 0.160248\n",
      "[700]\tvalid_0's auc: 0.949665\tvalid_0's pauc_80: 0.160521\n",
      "[750]\tvalid_0's auc: 0.950261\tvalid_0's pauc_80: 0.16103\n",
      "[800]\tvalid_0's auc: 0.951561\tvalid_0's pauc_80: 0.162373\n",
      "[850]\tvalid_0's auc: 0.951577\tvalid_0's pauc_80: 0.162375\n",
      "[900]\tvalid_0's auc: 0.951658\tvalid_0's pauc_80: 0.162469\n",
      "[950]\tvalid_0's auc: 0.951598\tvalid_0's pauc_80: 0.162404\n",
      "[1000]\tvalid_0's auc: 0.951646\tvalid_0's pauc_80: 0.162457\n",
      "[1050]\tvalid_0's auc: 0.951371\tvalid_0's pauc_80: 0.16229\n",
      "[1100]\tvalid_0's auc: 0.951291\tvalid_0's pauc_80: 0.162164\n",
      "[1150]\tvalid_0's auc: 0.950967\tvalid_0's pauc_80: 0.161903\n",
      "Early stopping, best iteration is:\n",
      "[912]\tvalid_0's auc: 0.951869\tvalid_0's pauc_80: 0.162696\n",
      "\n",
      "\n",
      "Running fold: 3\n",
      "Training until validation scores don't improve for 250 rounds\n",
      "[50]\tvalid_0's auc: 0.934035\tvalid_0's pauc_80: 0.14769\n",
      "[100]\tvalid_0's auc: 0.937071\tvalid_0's pauc_80: 0.150464\n",
      "[150]\tvalid_0's auc: 0.940098\tvalid_0's pauc_80: 0.152485\n",
      "[200]\tvalid_0's auc: 0.944558\tvalid_0's pauc_80: 0.156952\n",
      "[250]\tvalid_0's auc: 0.943462\tvalid_0's pauc_80: 0.155605\n",
      "[300]\tvalid_0's auc: 0.94365\tvalid_0's pauc_80: 0.155545\n",
      "[350]\tvalid_0's auc: 0.94453\tvalid_0's pauc_80: 0.156391\n",
      "[400]\tvalid_0's auc: 0.946183\tvalid_0's pauc_80: 0.157911\n",
      "[450]\tvalid_0's auc: 0.946774\tvalid_0's pauc_80: 0.158589\n",
      "[500]\tvalid_0's auc: 0.947469\tvalid_0's pauc_80: 0.159336\n",
      "[550]\tvalid_0's auc: 0.948202\tvalid_0's pauc_80: 0.160051\n",
      "[600]\tvalid_0's auc: 0.948398\tvalid_0's pauc_80: 0.160228\n",
      "[650]\tvalid_0's auc: 0.948358\tvalid_0's pauc_80: 0.160183\n",
      "[700]\tvalid_0's auc: 0.947741\tvalid_0's pauc_80: 0.159573\n",
      "[750]\tvalid_0's auc: 0.947501\tvalid_0's pauc_80: 0.159378\n",
      "[800]\tvalid_0's auc: 0.94679\tvalid_0's pauc_80: 0.158744\n",
      "Early stopping, best iteration is:\n",
      "[575]\tvalid_0's auc: 0.948742\tvalid_0's pauc_80: 0.160547\n",
      "\n",
      "\n",
      "Running fold: 4\n",
      "Training until validation scores don't improve for 250 rounds\n",
      "[50]\tvalid_0's auc: 0.951895\tvalid_0's pauc_80: 0.15829\n",
      "[100]\tvalid_0's auc: 0.952721\tvalid_0's pauc_80: 0.158768\n",
      "[150]\tvalid_0's auc: 0.952184\tvalid_0's pauc_80: 0.158092\n",
      "[200]\tvalid_0's auc: 0.953033\tvalid_0's pauc_80: 0.158675\n",
      "[250]\tvalid_0's auc: 0.953956\tvalid_0's pauc_80: 0.159376\n",
      "Early stopping, best iteration is:\n",
      "[36]\tvalid_0's auc: 0.95504\tvalid_0's pauc_80: 0.161465\n",
      "\n",
      "\n",
      "Running fold: 5\n",
      "Training until validation scores don't improve for 250 rounds\n",
      "[50]\tvalid_0's auc: 0.947592\tvalid_0's pauc_80: 0.160349\n",
      "[100]\tvalid_0's auc: 0.950502\tvalid_0's pauc_80: 0.163692\n",
      "[150]\tvalid_0's auc: 0.952741\tvalid_0's pauc_80: 0.165535\n",
      "[200]\tvalid_0's auc: 0.954094\tvalid_0's pauc_80: 0.166498\n",
      "[250]\tvalid_0's auc: 0.954872\tvalid_0's pauc_80: 0.167184\n",
      "[300]\tvalid_0's auc: 0.956449\tvalid_0's pauc_80: 0.168527\n",
      "[350]\tvalid_0's auc: 0.957806\tvalid_0's pauc_80: 0.1693\n",
      "[400]\tvalid_0's auc: 0.958058\tvalid_0's pauc_80: 0.169425\n",
      "[450]\tvalid_0's auc: 0.958035\tvalid_0's pauc_80: 0.169081\n",
      "[500]\tvalid_0's auc: 0.958913\tvalid_0's pauc_80: 0.169547\n",
      "[550]\tvalid_0's auc: 0.959604\tvalid_0's pauc_80: 0.169929\n",
      "[600]\tvalid_0's auc: 0.960428\tvalid_0's pauc_80: 0.170479\n",
      "[650]\tvalid_0's auc: 0.961134\tvalid_0's pauc_80: 0.171081\n",
      "[700]\tvalid_0's auc: 0.961432\tvalid_0's pauc_80: 0.171244\n",
      "[750]\tvalid_0's auc: 0.961846\tvalid_0's pauc_80: 0.171392\n",
      "[800]\tvalid_0's auc: 0.962254\tvalid_0's pauc_80: 0.171731\n",
      "[850]\tvalid_0's auc: 0.962378\tvalid_0's pauc_80: 0.171821\n",
      "[900]\tvalid_0's auc: 0.961962\tvalid_0's pauc_80: 0.171327\n",
      "[950]\tvalid_0's auc: 0.961929\tvalid_0's pauc_80: 0.171258\n",
      "[1000]\tvalid_0's auc: 0.961553\tvalid_0's pauc_80: 0.170824\n",
      "[1050]\tvalid_0's auc: 0.962012\tvalid_0's pauc_80: 0.17122\n",
      "Early stopping, best iteration is:\n",
      "[844]\tvalid_0's auc: 0.962478\tvalid_0's pauc_80: 0.171891\n",
      "\n",
      "\n",
      "Val AUC scores:\n",
      "{'fold_1': 0.9554431866597284,\n",
      " 'fold_2': 0.9518692408165041,\n",
      " 'fold_3': 0.9487420598769515,\n",
      " 'fold_4': 0.9550401062010957,\n",
      " 'fold_5': 0.9624777653305226}\n",
      "Val PAUC scores:\n",
      "{'fold_1': 0.16613468266762,\n",
      " 'fold_2': 0.1626961698129991,\n",
      " 'fold_3': 0.16054726011156725,\n",
      " 'fold_4': 0.1614652100934719,\n",
      " 'fold_5': 0.17189054606972315}\n",
      "CV AUC OOF: 0.9337266460249536\n",
      "CV PAUC OOF: 0.14405858139327787\n",
      "CV AUC AVG: 0.9547144717769604\n",
      "CV PAUC AVG: 0.16454677375107626\n",
      "CV AUC STD: 0.004575387045464845\n",
      "CV PAUC STD: 0.004132053374763611\n",
      "Index(['age_approx', 'clin_size_long_diam_mm', 'tbp_lv_A', 'tbp_lv_Aext',\n",
      "       'tbp_lv_B', 'tbp_lv_Bext', 'tbp_lv_C', 'tbp_lv_Cext', 'tbp_lv_H',\n",
      "       'tbp_lv_Hext', 'tbp_lv_L', 'tbp_lv_Lext', 'tbp_lv_areaMM2',\n",
      "       'tbp_lv_area_perim_ratio', 'tbp_lv_color_std_mean', 'tbp_lv_deltaA',\n",
      "       'tbp_lv_deltaB', 'tbp_lv_deltaL', 'tbp_lv_deltaLB',\n",
      "       'tbp_lv_deltaLBnorm', 'tbp_lv_eccentricity', 'tbp_lv_minorAxisMM',\n",
      "       'tbp_lv_nevi_confidence', 'tbp_lv_norm_border', 'tbp_lv_norm_color',\n",
      "       'tbp_lv_perimeterMM', 'tbp_lv_radial_color_std_max', 'tbp_lv_stdL',\n",
      "       'tbp_lv_stdLExt', 'tbp_lv_symm_2axis', 'tbp_lv_symm_2axis_angle',\n",
      "       'tbp_lv_x', 'tbp_lv_y', 'tbp_lv_z', 'anterior torso', 'head/neck',\n",
      "       'lower extremity', 'posterior torso', 'upper extremity',\n",
      "       'tbp_lv_A_diff_mean_diff', 'tbp_lv_B_diff_mean_diff',\n",
      "       'tbp_lv_L_diff_mean_diff', 'tbp_lv_L_std_diff_mean_diff',\n",
      "       'tbp_tile_type', 'tbp_lv_location', 'attribution', 'copyright_license'],\n",
      "      dtype='object')\n"
     ]
    }
   ],
   "source": [
    "best_num_rounds = {}\n",
    "val_auc_scores = {}\n",
    "val_pauc_scores = {}\n",
    "all_folds = np.sort(folds.unique())\n",
    "oof_predictions = np.zeros(X_train.shape[0])\n",
    "for fold in all_folds:\n",
    "#     if fold != 4:\n",
    "#         continue\n",
    "    print(f\"Running fold: {fold}\")\n",
    "    dev_index = folds[folds != fold].index\n",
    "    val_index = folds[folds == fold].index\n",
    "    \n",
    "    X_dev = X_train.loc[dev_index, :]\n",
    "    y_dev = y_train[dev_index]\n",
    "    \n",
    "    X_val = X_train.loc[val_index, :]\n",
    "    y_val = y_train[val_index]\n",
    "    \n",
    "    lgb_dataset_dev = lgb.Dataset(X_dev, label=y_dev, categorical_feature=categorical_features, free_raw_data=False)\n",
    "    lgb_dataset_val = lgb.Dataset(X_val, label=y_val, categorical_feature=categorical_features, free_raw_data=False)\n",
    "    \n",
    "    model = lgb.train(\n",
    "        params,\n",
    "        lgb_dataset_dev,\n",
    "        num_boost_round=num_rounds,\n",
    "        valid_sets=[lgb_dataset_val],\n",
    "        feval=pauc_80,\n",
    "        callbacks=[early_stopping(stopping_rounds=es_rounds), log_evaluation(log_rounds)],\n",
    "    )\n",
    "    \n",
    "    model.save_model(MODELS_OUTPUT_PATH / f\"{cfg.model_name}_fold_{fold}.txt\")\n",
    "    best_num_rounds[f\"fold_{fold}\"] = model.best_iteration\n",
    "    val_scores = dict(model.best_score[\"valid_0\"])\n",
    "    \n",
    "    val_auc_scores[f\"fold_{fold}\"] = val_scores[\"auc\"]\n",
    "    val_pauc_scores[f\"fold_{fold}\"] = val_scores[\"pauc_80\"]\n",
    "    \n",
    "    val_preds = model.predict(X_val, num_iteration=model.best_iteration)\n",
    "    oof_predictions[val_index] = val_preds\n",
    "    print(\"\\n\")\n",
    "\n",
    "print(\"Val AUC scores:\")\n",
    "pprint(val_auc_scores)\n",
    "print(\"Val PAUC scores:\")\n",
    "pprint(val_pauc_scores)\n",
    "\n",
    "oof_preds_df = pd.DataFrame({\n",
    "    id_column: train_ids,\n",
    "    group_column: groups,\n",
    "    \"fold\": folds,\n",
    "    target_column: y_train,\n",
    "    f\"oof_{cfg.model_name}\": oof_predictions\n",
    "})\n",
    "oof_preds_df.to_csv(f\"oof_preds_{cfg.model_name}.csv\", index=False)\n",
    "\n",
    "cv_auc_oof = compute_auc(oof_preds_df[target_column], oof_preds_df[f\"oof_{cfg.model_name}\"])\n",
    "cv_pauc_oof = compute_pauc(oof_preds_df[target_column], oof_preds_df[f\"oof_{cfg.model_name}\"], min_tpr=0.8)\n",
    "\n",
    "cv_auc_avg = np.mean(list(val_auc_scores.values()))\n",
    "cv_pauc_avg = np.mean(list(val_pauc_scores.values()))\n",
    "\n",
    "cv_auc_std = np.std(list(val_auc_scores.values()))\n",
    "cv_pauc_std = np.std(list(val_pauc_scores.values()))\n",
    "\n",
    "print(f\"CV AUC OOF: {cv_auc_oof}\")\n",
    "print(f\"CV PAUC OOF: {cv_pauc_oof}\")\n",
    "print(f\"CV AUC AVG: {cv_auc_avg}\")\n",
    "print(f\"CV PAUC AVG: {cv_pauc_avg}\")\n",
    "print(f\"CV AUC STD: {cv_auc_std}\")\n",
    "print(f\"CV PAUC STD: {cv_pauc_std}\")\n",
    "print(X_train.columns)"
   ]
  },
  {
   "cell_type": "code",
   "execution_count": 11,
   "id": "c2eb25e9",
   "metadata": {
    "execution": {
     "iopub.execute_input": "2024-07-24T05:21:36.600503Z",
     "iopub.status.busy": "2024-07-24T05:21:36.600077Z",
     "iopub.status.idle": "2024-07-24T05:21:37.614898Z",
     "shell.execute_reply": "2024-07-24T05:21:37.613458Z"
    },
    "papermill": {
     "duration": 1.035576,
     "end_time": "2024-07-24T05:21:37.618784",
     "exception": false,
     "start_time": "2024-07-24T05:21:36.583208",
     "status": "completed"
    },
    "tags": []
   },
   "outputs": [
    {
     "data": {
      "text/plain": [
       "<Axes: >"
      ]
     },
     "execution_count": 11,
     "metadata": {},
     "output_type": "execute_result"
    },
    {
     "data": {
      "image/png": "[encoded data removed]",
      "text/plain": [
       "<Figure size 1000x1500 with 1 Axes>"
      ]
     },
     "metadata": {},
     "output_type": "display_data"
    }
   ],
   "source": [
    "feature_importances = 0\n",
    "for fold in all_folds:\n",
    "    model = lgb.Booster(model_file=MODELS_OUTPUT_PATH / f\"{cfg.model_name}_fold_{fold}.txt\")\n",
    "    if fold == 1:\n",
    "        feature_names = model.feature_name()\n",
    "    feature_importances += model.feature_importance(importance_type=\"gain\")\n",
    "feature_importances /= len(all_folds)\n",
    "\n",
    "imp = pd.DataFrame.from_dict(dict(zip(feature_names, feature_importances)), \n",
    "                             orient=\"index\", columns=[\"imp\"]).sort_values(\"imp\", ascending=True)\n",
    "imp.plot(kind=\"barh\", figsize=(10, 15))"
   ]
  },
  {
   "cell_type": "code",
   "execution_count": 12,
   "id": "2b6b570b",
   "metadata": {
    "execution": {
     "iopub.execute_input": "2024-07-24T05:21:37.655959Z",
     "iopub.status.busy": "2024-07-24T05:21:37.655541Z",
     "iopub.status.idle": "2024-07-24T05:21:37.663959Z",
     "shell.execute_reply": "2024-07-24T05:21:37.662652Z"
    },
    "papermill": {
     "duration": 0.031443,
     "end_time": "2024-07-24T05:21:37.667432",
     "exception": false,
     "start_time": "2024-07-24T05:21:37.635989",
     "status": "completed"
    },
    "tags": []
   },
   "outputs": [],
   "source": [
    "metadata = {\n",
    "    \"params\": params,\n",
    "    \"num_rounds\": num_rounds,\n",
    "    \"es_rounds\": es_rounds,\n",
    "    \"best_num_rounds\": best_num_rounds,\n",
    "    \"val_auc_scores\": val_auc_scores,\n",
    "    \"val_pauc_scores\": val_pauc_scores,\n",
    "    \"cv_auc_oof\": cv_auc_oof,\n",
    "    \"cv_pauc_oof\": cv_pauc_oof,\n",
    "    \"cv_auc_avg\": cv_auc_avg,\n",
    "    \"cv_pauc_avg\": cv_pauc_avg\n",
    "}\n",
    "\n",
    "with open(f\"{cfg.model_name}_run_metadata.json\", \"w\") as f:\n",
    "    json.dump(metadata, f)"
   ]
  }
 ],
 "metadata": {
  "kaggle": {
   "accelerator": "none",
   "dataSources": [
    {
     "databundleVersionId": 9094797,
     "sourceId": 63056,
     "sourceType": "competition"
    },
    {
     "sourceId": 187439867,
     "sourceType": "kernelVersion"
    },
    {
     "sourceId": 187477024,
     "sourceType": "kernelVersion"
    }
   ],
   "dockerImageVersionId": 30746,
   "isGpuEnabled": false,
   "isInternetEnabled": false,
   "language": "python",
   "sourceType": "notebook"
  },
  "kernelspec": {
   "display_name": "Python 3",
   "language": "python",
   "name": "python3"
  },
  "language_info": {
   "codemirror_mode": {
    "name": "ipython",
    "version": 3
   },
   "file_extension": ".py",
   "mimetype": "text/x-python",
   "name": "python",
   "nbconvert_exporter": "python",
   "pygments_lexer": "ipython3",
   "version": "3.10.13"
  },
  "papermill": {
   "default_parameters": {},
   "duration": 401.307794,
   "end_time": "2024-07-24T05:21:39.012782",
   "environment_variables": {},
   "exception": null,
   "input_path": "__notebook__.ipynb",
   "output_path": "__notebook__.ipynb",
   "parameters": {},
   "start_time": "2024-07-24T05:14:57.704988",
   "version": "2.5.0"
  }
 },
 "nbformat": 4,
 "nbformat_minor": 5
}
