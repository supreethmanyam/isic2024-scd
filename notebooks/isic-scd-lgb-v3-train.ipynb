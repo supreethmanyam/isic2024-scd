{
 "cells": [
  {
   "cell_type": "code",
   "execution_count": 1,
   "id": "1727a858",
   "metadata": {
    "_cell_guid": "b1076dfc-b9ad-4769-8c92-a6c4dae69d19",
    "_uuid": "8f2839f25d086af736a60e9eeb907d3b93b6e0e5",
    "execution": {
     "iopub.execute_input": "2024-07-24T05:43:56.647165Z",
     "iopub.status.busy": "2024-07-24T05:43:56.646716Z",
     "iopub.status.idle": "2024-07-24T05:44:03.991536Z",
     "shell.execute_reply": "2024-07-24T05:44:03.990407Z"
    },
    "papermill": {
     "duration": 7.354103,
     "end_time": "2024-07-24T05:44:03.994632",
     "exception": false,
     "start_time": "2024-07-24T05:43:56.640529",
     "status": "completed"
    },
    "tags": []
   },
   "outputs": [],
   "source": [
    "import json\n",
    "import joblib\n",
    "from pprint import pprint\n",
    "from pathlib import Path\n",
    "\n",
    "import pandas as pd\n",
    "import numpy as np\n",
    "\n",
    "from sklearn.compose import ColumnTransformer\n",
    "from sklearn.preprocessing import OrdinalEncoder, OneHotEncoder\n",
    "\n",
    "import lightgbm as lgb\n",
    "from lightgbm.callback import log_evaluation, early_stopping\n",
    "\n",
    "from isic_helper import DotDict\n",
    "from isic_helper import get_folds\n",
    "from isic_helper import compute_auc, compute_pauc\n",
    "\n",
    "pd.options.display.max_columns = 1000"
   ]
  },
  {
   "cell_type": "code",
   "execution_count": 2,
   "id": "1a869cf2",
   "metadata": {
    "execution": {
     "iopub.execute_input": "2024-07-24T05:44:04.005820Z",
     "iopub.status.busy": "2024-07-24T05:44:04.005233Z",
     "iopub.status.idle": "2024-07-24T05:44:04.011014Z",
     "shell.execute_reply": "2024-07-24T05:44:04.009818Z"
    },
    "papermill": {
     "duration": 0.014222,
     "end_time": "2024-07-24T05:44:04.013675",
     "exception": false,
     "start_time": "2024-07-24T05:44:03.999453",
     "status": "completed"
    },
    "tags": []
   },
   "outputs": [],
   "source": [
    "cfg = DotDict()\n",
    "cfg.seed = 2022\n",
    "\n",
    "cfg.models_output_dir = \"models\"\n",
    "cfg.model_name = \"lgb_v3\""
   ]
  },
  {
   "cell_type": "code",
   "execution_count": 3,
   "id": "f735a024",
   "metadata": {
    "execution": {
     "iopub.execute_input": "2024-07-24T05:44:04.023845Z",
     "iopub.status.busy": "2024-07-24T05:44:04.023450Z",
     "iopub.status.idle": "2024-07-24T05:44:14.618131Z",
     "shell.execute_reply": "2024-07-24T05:44:14.616806Z"
    },
    "papermill": {
     "duration": 10.602919,
     "end_time": "2024-07-24T05:44:14.620684",
     "exception": false,
     "start_time": "2024-07-24T05:44:04.017765",
     "status": "completed"
    },
    "tags": []
   },
   "outputs": [
    {
     "name": "stdout",
     "output_type": "stream",
     "text": [
      "Train data size: (401059, 57)\n",
      "Test data size: (3, 44)\n"
     ]
    }
   ],
   "source": [
    "INPUT_PATH = Path(\"../input/isic-2024-challenge/\")\n",
    "MODELS_OUTPUT_PATH = Path(f\"{cfg.models_output_dir}\")\n",
    "MODELS_OUTPUT_PATH.mkdir(exist_ok=True)\n",
    "\n",
    "train_metadata = pd.read_csv(INPUT_PATH / \"train-metadata.csv\", low_memory=False)\n",
    "test_metadata = pd.read_csv(INPUT_PATH / \"test-metadata.csv\")\n",
    "\n",
    "folds_df = get_folds()\n",
    "train_metadata = train_metadata.merge(folds_df, on=[\"isic_id\", \"patient_id\"], how=\"inner\")\n",
    "print(f\"Train data size: {train_metadata.shape}\")\n",
    "print(f\"Test data size: {test_metadata.shape}\")"
   ]
  },
  {
   "cell_type": "code",
   "execution_count": 4,
   "id": "a5122041",
   "metadata": {
    "execution": {
     "iopub.execute_input": "2024-07-24T05:44:14.630447Z",
     "iopub.status.busy": "2024-07-24T05:44:14.630054Z",
     "iopub.status.idle": "2024-07-24T05:44:14.635189Z",
     "shell.execute_reply": "2024-07-24T05:44:14.633842Z"
    },
    "papermill": {
     "duration": 0.012804,
     "end_time": "2024-07-24T05:44:14.637598",
     "exception": false,
     "start_time": "2024-07-24T05:44:14.624794",
     "status": "completed"
    },
    "tags": []
   },
   "outputs": [],
   "source": [
    "id_column = \"isic_id\"\n",
    "target_column = \"final_target\"\n",
    "group_column = \"patient_id\""
   ]
  },
  {
   "cell_type": "code",
   "execution_count": 5,
   "id": "146d4337",
   "metadata": {
    "execution": {
     "iopub.execute_input": "2024-07-24T05:44:14.647582Z",
     "iopub.status.busy": "2024-07-24T05:44:14.647195Z",
     "iopub.status.idle": "2024-07-24T05:44:17.019199Z",
     "shell.execute_reply": "2024-07-24T05:44:17.017759Z"
    },
    "papermill": {
     "duration": 2.380073,
     "end_time": "2024-07-24T05:44:17.021810",
     "exception": false,
     "start_time": "2024-07-24T05:44:14.641737",
     "status": "completed"
    },
    "tags": []
   },
   "outputs": [],
   "source": [
    "def count_features(df, col):\n",
    "    tmp = df[[id_column, group_column, col]].pivot_table(\n",
    "        values=id_column, \n",
    "        index=group_column, \n",
    "        columns=col, \n",
    "        aggfunc=\"count\", \n",
    "        fill_value=0)\n",
    "#     tmp = tmp / tmp.sum(axis=0)\n",
    "    feature_cols = tmp.columns.tolist()\n",
    "    tmp.reset_index(inplace=True)\n",
    "    tmp.index.name = None\n",
    "    df = df.merge(tmp, on=group_column, how=\"left\")\n",
    "    return df, feature_cols\n",
    "\n",
    "\n",
    "def stat_features(df, group_cols, value_col, stats):\n",
    "    tmp = df.groupby(group_cols)[value_col].agg(stats)\n",
    "    tmp.columns = [f\"{value_col}_{stat}\" for stat in stats]\n",
    "    tmp.reset_index(inplace=True)\n",
    "    df = df.merge(tmp, on=group_cols, how=\"left\")\n",
    "    df[f\"{value_col}_mean_diff\"] = df[value_col] - df[f\"{value_col}_mean\"]\n",
    "    return df\n",
    "\n",
    "\n",
    "def feature_engineering(df):\n",
    "    new_num_cols = []\n",
    "    \n",
    "    df[\"lesion_size_ratio\"] = df[\"tbp_lv_minorAxisMM\"] / df[\"clin_size_long_diam_mm\"]\n",
    "    new_num_cols += [\"lesion_size_ratio\"]\n",
    "#     df[\"hue_contrast\"] = (df[\"tbp_lv_H\"] - df[\"tbp_lv_Hext\"]).abs()\n",
    "#     new_num_cols += [\"hue_contrast\"]\n",
    "#     df[\"normalized_lesion_size\"] = df[\"clin_size_long_diam_mm\"] / df[\"age_approx\"]\n",
    "#     df[\"overall_color_difference\"] = (df[\"tbp_lv_deltaA\"] + df[\"tbp_lv_deltaB\"] + df[\"tbp_lv_deltaL\"]) / 3\n",
    "#     df[\"max_minus_min_lesion_size\"] = df[\"clin_size_long_diam_mm\"] - df[\"tbp_lv_minorAxisMM\"]\n",
    "#     new_num_cols += [\"lesion_size_ratio\", \"hue_contrast\", \"normalized_lesion_size\", \"overall_color_difference\", \"max_minus_min_lesion_size\"]\n",
    "    \n",
    "    df, feature_cols = count_features(df, \"anatom_site_general\")\n",
    "    new_num_cols += feature_cols\n",
    "    \n",
    "    df[\"tbp_lv_A_diff\"] =  df[\"tbp_lv_Aext\"] - df[\"tbp_lv_A\"]\n",
    "    df = stat_features(df, [\"patient_id\", \"tbp_lv_location\"], \"tbp_lv_A_diff\", [\"mean\"])\n",
    "    new_num_cols += [\"tbp_lv_A_diff_mean_diff\"]\n",
    "    \n",
    "    df[\"tbp_lv_B_diff\"] =  df[\"tbp_lv_Bext\"] - df[\"tbp_lv_B\"]\n",
    "    df = stat_features(df, [\"patient_id\", \"tbp_lv_location\"], \"tbp_lv_B_diff\", [\"mean\"])\n",
    "    new_num_cols += [\"tbp_lv_B_diff_mean_diff\"]\n",
    "    \n",
    "    df[\"tbp_lv_L_diff\"] =  df[\"tbp_lv_Lext\"] - df[\"tbp_lv_L\"]\n",
    "    df = stat_features(df, [\"patient_id\", \"tbp_lv_location\"], \"tbp_lv_L_diff\", [\"mean\"])\n",
    "    new_num_cols += [\"tbp_lv_L_diff_mean_diff\"]\n",
    "    \n",
    "    df[\"tbp_lv_L_std_diff\"] =  df[\"tbp_lv_stdLExt\"] - df[\"tbp_lv_stdL\"]\n",
    "    df = stat_features(df, [\"patient_id\", \"tbp_lv_location\"], \"tbp_lv_L_std_diff\", [\"mean\"])\n",
    "    new_num_cols += [\"tbp_lv_L_std_diff_mean_diff\"]\n",
    "    \n",
    "    return df, new_num_cols\n",
    "\n",
    "train_metadata, new_num_cols = feature_engineering(train_metadata.copy())\n",
    "test_metadata, _ = feature_engineering(test_metadata.copy())"
   ]
  },
  {
   "cell_type": "code",
   "execution_count": 6,
   "id": "b6ec32b5",
   "metadata": {
    "execution": {
     "iopub.execute_input": "2024-07-24T05:44:17.031534Z",
     "iopub.status.busy": "2024-07-24T05:44:17.031151Z",
     "iopub.status.idle": "2024-07-24T05:44:17.038274Z",
     "shell.execute_reply": "2024-07-24T05:44:17.036962Z"
    },
    "papermill": {
     "duration": 0.014922,
     "end_time": "2024-07-24T05:44:17.040836",
     "exception": false,
     "start_time": "2024-07-24T05:44:17.025914",
     "status": "completed"
    },
    "tags": []
   },
   "outputs": [],
   "source": [
    "ord_categorical_features = [\n",
    "#     \"sex\", \n",
    "#     \"anatom_site_general\", \n",
    "    \"tbp_tile_type\", \n",
    "    \"tbp_lv_location\", \n",
    "#     \"tbp_lv_location_simple\",\n",
    "    \"attribution\", \"copyright_license\"\n",
    "]\n",
    "ohe_categorical_features = []\n",
    "numerical_features = [\n",
    "    \"age_approx\", \n",
    "    \"clin_size_long_diam_mm\",\n",
    "    \"tbp_lv_A\", \"tbp_lv_Aext\",\n",
    "    \"tbp_lv_B\", \"tbp_lv_Bext\",\n",
    "    \"tbp_lv_C\", \"tbp_lv_Cext\",\n",
    "    \"tbp_lv_H\", \"tbp_lv_Hext\",\n",
    "    \"tbp_lv_L\", \"tbp_lv_Lext\",\n",
    "    \"tbp_lv_areaMM2\",\n",
    "    \"tbp_lv_area_perim_ratio\",\n",
    "    \"tbp_lv_color_std_mean\",\n",
    "    \"tbp_lv_deltaA\", \"tbp_lv_deltaB\", \"tbp_lv_deltaL\", \"tbp_lv_deltaLB\", \"tbp_lv_deltaLBnorm\",\n",
    "    \"tbp_lv_eccentricity\",\n",
    "    \"tbp_lv_minorAxisMM\",\n",
    "    \"tbp_lv_nevi_confidence\",\n",
    "    \"tbp_lv_norm_border\", \"tbp_lv_norm_color\",\n",
    "    \"tbp_lv_perimeterMM\",\n",
    "    \"tbp_lv_radial_color_std_max\",\n",
    "    \"tbp_lv_stdL\", \"tbp_lv_stdLExt\",\n",
    "    \"tbp_lv_symm_2axis\", \"tbp_lv_symm_2axis_angle\",\n",
    "    \"tbp_lv_x\", \"tbp_lv_y\", \"tbp_lv_z\"\n",
    "]\n",
    "numerical_features += new_num_cols"
   ]
  },
  {
   "cell_type": "code",
   "execution_count": 7,
   "id": "c78dae97",
   "metadata": {
    "execution": {
     "iopub.execute_input": "2024-07-24T05:44:17.050656Z",
     "iopub.status.busy": "2024-07-24T05:44:17.050262Z",
     "iopub.status.idle": "2024-07-24T05:44:17.059401Z",
     "shell.execute_reply": "2024-07-24T05:44:17.058201Z"
    },
    "papermill": {
     "duration": 0.017062,
     "end_time": "2024-07-24T05:44:17.061991",
     "exception": false,
     "start_time": "2024-07-24T05:44:17.044929",
     "status": "completed"
    },
    "tags": []
   },
   "outputs": [],
   "source": [
    "mixed_encoded_preprocessor = ColumnTransformer(\n",
    "    [\n",
    "        (\"numerical\", \"passthrough\", numerical_features),\n",
    "        (\n",
    "            \"ord_categorical\",\n",
    "            OrdinalEncoder(handle_unknown=\"use_encoded_value\", unknown_value=-2, encoded_missing_value=-1, dtype=int),\n",
    "            ord_categorical_features,\n",
    "        ),\n",
    "        (\n",
    "            \"ohe_categorical\",\n",
    "            OneHotEncoder(sparse_output=False),\n",
    "            ohe_categorical_features\n",
    "        )\n",
    "    ],\n",
    "    verbose_feature_names_out=False,\n",
    "\n",
    ")\n",
    "mixed_encoded_preprocessor.set_output(transform=\"pandas\")\n",
    "\n",
    "with open(f\"{cfg.model_name}_encoder.joblib\", \"wb\") as f:\n",
    "    joblib.dump(mixed_encoded_preprocessor, f)"
   ]
  },
  {
   "cell_type": "code",
   "execution_count": 8,
   "id": "9cd820ab",
   "metadata": {
    "execution": {
     "iopub.execute_input": "2024-07-24T05:44:17.072115Z",
     "iopub.status.busy": "2024-07-24T05:44:17.071352Z",
     "iopub.status.idle": "2024-07-24T05:44:18.157234Z",
     "shell.execute_reply": "2024-07-24T05:44:18.155974Z"
    },
    "papermill": {
     "duration": 1.093646,
     "end_time": "2024-07-24T05:44:18.159770",
     "exception": false,
     "start_time": "2024-07-24T05:44:17.066124",
     "status": "completed"
    },
    "tags": []
   },
   "outputs": [
    {
     "name": "stdout",
     "output_type": "stream",
     "text": [
      "Total number of columns: 48\n"
     ]
    }
   ],
   "source": [
    "train_ids = train_metadata[id_column]\n",
    "groups = train_metadata[group_column]\n",
    "folds = train_metadata[\"fold\"]\n",
    "\n",
    "enc = mixed_encoded_preprocessor.fit(train_metadata)\n",
    "X_train = enc.transform(train_metadata)\n",
    "y_train = train_metadata[target_column]\n",
    "\n",
    "categorical_features = ord_categorical_features[:]\n",
    "for ohe_col in ohe_categorical_features:\n",
    "    categorical_features += [col for col in X_train.columns if col.startswith(ohe_col)]\n",
    "\n",
    "print(f\"Total number of columns: {len(X_train.columns)}\")"
   ]
  },
  {
   "cell_type": "code",
   "execution_count": 9,
   "id": "6f7d6d6b",
   "metadata": {
    "execution": {
     "iopub.execute_input": "2024-07-24T05:44:18.170270Z",
     "iopub.status.busy": "2024-07-24T05:44:18.169787Z",
     "iopub.status.idle": "2024-07-24T05:44:18.176849Z",
     "shell.execute_reply": "2024-07-24T05:44:18.175742Z"
    },
    "papermill": {
     "duration": 0.01502,
     "end_time": "2024-07-24T05:44:18.179299",
     "exception": false,
     "start_time": "2024-07-24T05:44:18.164279",
     "status": "completed"
    },
    "tags": []
   },
   "outputs": [],
   "source": [
    "def pauc_80(preds, data):\n",
    "    score_value = compute_pauc(data.get_label(), preds, min_tpr=0.8)   \n",
    "    return 'pauc_80', score_value, True\n",
    "\n",
    "\n",
    "params = {\n",
    "    \"objective\": \"binary\",\n",
    "    \"metric\": \"auc\",\n",
    "    \"num_leaves\": 63,\n",
    "    \"learning_rate\": 0.01,\n",
    "    \"bagging_freq\": 6,\n",
    "    \"bagging_fraction\": 0.6,\n",
    "    \"bagging_seed\": cfg.seed,\n",
    "    \"feature_fraction\": 0.3,\n",
    "    \"feature_fraction_seed\": cfg.seed,\n",
    "    \"lambda_l1\": 0.95,\n",
    "    \"lambda_l2\": 0.95,\n",
    "    \"verbosity\": -1\n",
    "}\n",
    "num_rounds = 2500\n",
    "es_rounds = 250\n",
    "log_rounds = 50"
   ]
  },
  {
   "cell_type": "code",
   "execution_count": 10,
   "id": "82b7294b",
   "metadata": {
    "execution": {
     "iopub.execute_input": "2024-07-24T05:44:18.189376Z",
     "iopub.status.busy": "2024-07-24T05:44:18.188948Z",
     "iopub.status.idle": "2024-07-24T05:52:13.942105Z",
     "shell.execute_reply": "2024-07-24T05:52:13.940323Z"
    },
    "papermill": {
     "duration": 475.761531,
     "end_time": "2024-07-24T05:52:13.944930",
     "exception": false,
     "start_time": "2024-07-24T05:44:18.183399",
     "status": "completed"
    },
    "tags": []
   },
   "outputs": [
    {
     "name": "stdout",
     "output_type": "stream",
     "text": [
      "Running fold: 1\n",
      "Training until validation scores don't improve for 250 rounds\n",
      "[50]\tvalid_0's auc: 0.937577\tvalid_0's pauc_80: 0.15201\n",
      "[100]\tvalid_0's auc: 0.939464\tvalid_0's pauc_80: 0.153649\n",
      "[150]\tvalid_0's auc: 0.942942\tvalid_0's pauc_80: 0.155993\n",
      "[200]\tvalid_0's auc: 0.94617\tvalid_0's pauc_80: 0.158391\n",
      "[250]\tvalid_0's auc: 0.947593\tvalid_0's pauc_80: 0.159449\n",
      "[300]\tvalid_0's auc: 0.949592\tvalid_0's pauc_80: 0.161001\n",
      "[350]\tvalid_0's auc: 0.950775\tvalid_0's pauc_80: 0.16213\n",
      "[400]\tvalid_0's auc: 0.953437\tvalid_0's pauc_80: 0.164609\n",
      "[450]\tvalid_0's auc: 0.954971\tvalid_0's pauc_80: 0.166044\n",
      "[500]\tvalid_0's auc: 0.955232\tvalid_0's pauc_80: 0.166151\n",
      "[550]\tvalid_0's auc: 0.95564\tvalid_0's pauc_80: 0.166253\n",
      "[600]\tvalid_0's auc: 0.956191\tvalid_0's pauc_80: 0.166678\n",
      "[650]\tvalid_0's auc: 0.956575\tvalid_0's pauc_80: 0.166929\n",
      "[700]\tvalid_0's auc: 0.956687\tvalid_0's pauc_80: 0.166974\n",
      "[750]\tvalid_0's auc: 0.957212\tvalid_0's pauc_80: 0.167396\n",
      "[800]\tvalid_0's auc: 0.957164\tvalid_0's pauc_80: 0.167309\n",
      "[850]\tvalid_0's auc: 0.957329\tvalid_0's pauc_80: 0.167308\n",
      "[900]\tvalid_0's auc: 0.957184\tvalid_0's pauc_80: 0.167001\n",
      "[950]\tvalid_0's auc: 0.95694\tvalid_0's pauc_80: 0.166895\n",
      "[1000]\tvalid_0's auc: 0.956771\tvalid_0's pauc_80: 0.166658\n",
      "[1050]\tvalid_0's auc: 0.956341\tvalid_0's pauc_80: 0.16619\n",
      "Early stopping, best iteration is:\n",
      "[833]\tvalid_0's auc: 0.957525\tvalid_0's pauc_80: 0.167547\n",
      "\n",
      "\n",
      "Running fold: 2\n",
      "Training until validation scores don't improve for 250 rounds\n",
      "[50]\tvalid_0's auc: 0.92187\tvalid_0's pauc_80: 0.13698\n",
      "[100]\tvalid_0's auc: 0.930333\tvalid_0's pauc_80: 0.144075\n",
      "[150]\tvalid_0's auc: 0.933492\tvalid_0's pauc_80: 0.146608\n",
      "[200]\tvalid_0's auc: 0.935611\tvalid_0's pauc_80: 0.148523\n",
      "[250]\tvalid_0's auc: 0.937731\tvalid_0's pauc_80: 0.150062\n",
      "[300]\tvalid_0's auc: 0.939495\tvalid_0's pauc_80: 0.15153\n",
      "[350]\tvalid_0's auc: 0.941469\tvalid_0's pauc_80: 0.153279\n",
      "[400]\tvalid_0's auc: 0.942565\tvalid_0's pauc_80: 0.154035\n",
      "[450]\tvalid_0's auc: 0.945636\tvalid_0's pauc_80: 0.156889\n",
      "[500]\tvalid_0's auc: 0.947165\tvalid_0's pauc_80: 0.158231\n",
      "[550]\tvalid_0's auc: 0.947954\tvalid_0's pauc_80: 0.15905\n",
      "[600]\tvalid_0's auc: 0.948298\tvalid_0's pauc_80: 0.15924\n",
      "[650]\tvalid_0's auc: 0.949206\tvalid_0's pauc_80: 0.160061\n",
      "[700]\tvalid_0's auc: 0.950074\tvalid_0's pauc_80: 0.160868\n",
      "[750]\tvalid_0's auc: 0.951484\tvalid_0's pauc_80: 0.162223\n",
      "[800]\tvalid_0's auc: 0.951824\tvalid_0's pauc_80: 0.16252\n",
      "[850]\tvalid_0's auc: 0.952015\tvalid_0's pauc_80: 0.162692\n",
      "[900]\tvalid_0's auc: 0.952374\tvalid_0's pauc_80: 0.162923\n",
      "[950]\tvalid_0's auc: 0.952511\tvalid_0's pauc_80: 0.163057\n",
      "[1000]\tvalid_0's auc: 0.952382\tvalid_0's pauc_80: 0.162913\n",
      "[1050]\tvalid_0's auc: 0.952868\tvalid_0's pauc_80: 0.163397\n",
      "[1100]\tvalid_0's auc: 0.95275\tvalid_0's pauc_80: 0.163257\n",
      "[1150]\tvalid_0's auc: 0.95307\tvalid_0's pauc_80: 0.163514\n",
      "[1200]\tvalid_0's auc: 0.952866\tvalid_0's pauc_80: 0.163326\n",
      "[1250]\tvalid_0's auc: 0.952619\tvalid_0's pauc_80: 0.163223\n",
      "[1300]\tvalid_0's auc: 0.952646\tvalid_0's pauc_80: 0.163221\n",
      "[1350]\tvalid_0's auc: 0.952211\tvalid_0's pauc_80: 0.162789\n",
      "[1400]\tvalid_0's auc: 0.952291\tvalid_0's pauc_80: 0.162944\n",
      "Early stopping, best iteration is:\n",
      "[1160]\tvalid_0's auc: 0.953095\tvalid_0's pauc_80: 0.163561\n",
      "\n",
      "\n",
      "Running fold: 3\n",
      "Training until validation scores don't improve for 250 rounds\n",
      "[50]\tvalid_0's auc: 0.939815\tvalid_0's pauc_80: 0.152394\n",
      "[100]\tvalid_0's auc: 0.938765\tvalid_0's pauc_80: 0.150665\n",
      "[150]\tvalid_0's auc: 0.938712\tvalid_0's pauc_80: 0.150271\n",
      "[200]\tvalid_0's auc: 0.940557\tvalid_0's pauc_80: 0.152101\n",
      "[250]\tvalid_0's auc: 0.9428\tvalid_0's pauc_80: 0.15458\n",
      "[300]\tvalid_0's auc: 0.943502\tvalid_0's pauc_80: 0.155108\n",
      "[350]\tvalid_0's auc: 0.943809\tvalid_0's pauc_80: 0.155416\n",
      "[400]\tvalid_0's auc: 0.944625\tvalid_0's pauc_80: 0.1562\n",
      "[450]\tvalid_0's auc: 0.945071\tvalid_0's pauc_80: 0.156688\n",
      "[500]\tvalid_0's auc: 0.944857\tvalid_0's pauc_80: 0.156624\n",
      "[550]\tvalid_0's auc: 0.946538\tvalid_0's pauc_80: 0.15823\n",
      "[600]\tvalid_0's auc: 0.946363\tvalid_0's pauc_80: 0.158081\n",
      "[650]\tvalid_0's auc: 0.945991\tvalid_0's pauc_80: 0.157696\n",
      "[700]\tvalid_0's auc: 0.947363\tvalid_0's pauc_80: 0.158941\n",
      "[750]\tvalid_0's auc: 0.947285\tvalid_0's pauc_80: 0.158977\n",
      "[800]\tvalid_0's auc: 0.947697\tvalid_0's pauc_80: 0.159341\n",
      "[850]\tvalid_0's auc: 0.947665\tvalid_0's pauc_80: 0.159348\n",
      "[900]\tvalid_0's auc: 0.948121\tvalid_0's pauc_80: 0.159819\n",
      "[950]\tvalid_0's auc: 0.94776\tvalid_0's pauc_80: 0.159338\n",
      "[1000]\tvalid_0's auc: 0.947711\tvalid_0's pauc_80: 0.159295\n",
      "[1050]\tvalid_0's auc: 0.947504\tvalid_0's pauc_80: 0.159053\n",
      "[1100]\tvalid_0's auc: 0.94705\tvalid_0's pauc_80: 0.158612\n",
      "Early stopping, best iteration is:\n",
      "[899]\tvalid_0's auc: 0.948161\tvalid_0's pauc_80: 0.159859\n",
      "\n",
      "\n",
      "Running fold: 4\n",
      "Training until validation scores don't improve for 250 rounds\n",
      "[50]\tvalid_0's auc: 0.951103\tvalid_0's pauc_80: 0.158268\n",
      "[100]\tvalid_0's auc: 0.950116\tvalid_0's pauc_80: 0.156574\n",
      "[150]\tvalid_0's auc: 0.95064\tvalid_0's pauc_80: 0.156665\n",
      "[200]\tvalid_0's auc: 0.951687\tvalid_0's pauc_80: 0.157655\n",
      "[250]\tvalid_0's auc: 0.952311\tvalid_0's pauc_80: 0.15814\n",
      "[300]\tvalid_0's auc: 0.954362\tvalid_0's pauc_80: 0.160143\n",
      "[350]\tvalid_0's auc: 0.954092\tvalid_0's pauc_80: 0.159761\n",
      "[400]\tvalid_0's auc: 0.954288\tvalid_0's pauc_80: 0.159818\n",
      "[450]\tvalid_0's auc: 0.955798\tvalid_0's pauc_80: 0.161356\n",
      "[500]\tvalid_0's auc: 0.957321\tvalid_0's pauc_80: 0.162874\n",
      "[550]\tvalid_0's auc: 0.957866\tvalid_0's pauc_80: 0.163398\n",
      "[600]\tvalid_0's auc: 0.958803\tvalid_0's pauc_80: 0.164286\n",
      "[650]\tvalid_0's auc: 0.958933\tvalid_0's pauc_80: 0.16441\n",
      "[700]\tvalid_0's auc: 0.959257\tvalid_0's pauc_80: 0.164938\n",
      "[750]\tvalid_0's auc: 0.959356\tvalid_0's pauc_80: 0.165063\n",
      "[800]\tvalid_0's auc: 0.959761\tvalid_0's pauc_80: 0.16536\n",
      "[850]\tvalid_0's auc: 0.959945\tvalid_0's pauc_80: 0.165619\n",
      "[900]\tvalid_0's auc: 0.960407\tvalid_0's pauc_80: 0.166165\n",
      "[950]\tvalid_0's auc: 0.961063\tvalid_0's pauc_80: 0.166832\n",
      "[1000]\tvalid_0's auc: 0.960952\tvalid_0's pauc_80: 0.166677\n",
      "[1050]\tvalid_0's auc: 0.961535\tvalid_0's pauc_80: 0.167287\n",
      "[1100]\tvalid_0's auc: 0.961717\tvalid_0's pauc_80: 0.167388\n",
      "[1150]\tvalid_0's auc: 0.96166\tvalid_0's pauc_80: 0.167372\n",
      "[1200]\tvalid_0's auc: 0.961807\tvalid_0's pauc_80: 0.167528\n",
      "[1250]\tvalid_0's auc: 0.962122\tvalid_0's pauc_80: 0.167796\n",
      "[1300]\tvalid_0's auc: 0.962071\tvalid_0's pauc_80: 0.167708\n",
      "[1350]\tvalid_0's auc: 0.962084\tvalid_0's pauc_80: 0.167767\n",
      "[1400]\tvalid_0's auc: 0.962352\tvalid_0's pauc_80: 0.168051\n",
      "[1450]\tvalid_0's auc: 0.962557\tvalid_0's pauc_80: 0.168161\n",
      "[1500]\tvalid_0's auc: 0.962405\tvalid_0's pauc_80: 0.16809\n",
      "[1550]\tvalid_0's auc: 0.962397\tvalid_0's pauc_80: 0.168105\n",
      "[1600]\tvalid_0's auc: 0.962378\tvalid_0's pauc_80: 0.168124\n",
      "[1650]\tvalid_0's auc: 0.962345\tvalid_0's pauc_80: 0.168113\n",
      "[1700]\tvalid_0's auc: 0.962229\tvalid_0's pauc_80: 0.168006\n",
      "Early stopping, best iteration is:\n",
      "[1463]\tvalid_0's auc: 0.96266\tvalid_0's pauc_80: 0.168285\n",
      "\n",
      "\n",
      "Running fold: 5\n",
      "Training until validation scores don't improve for 250 rounds\n",
      "[50]\tvalid_0's auc: 0.946749\tvalid_0's pauc_80: 0.163112\n",
      "[100]\tvalid_0's auc: 0.950176\tvalid_0's pauc_80: 0.165108\n",
      "[150]\tvalid_0's auc: 0.952967\tvalid_0's pauc_80: 0.166922\n",
      "[200]\tvalid_0's auc: 0.953248\tvalid_0's pauc_80: 0.16656\n",
      "[250]\tvalid_0's auc: 0.952934\tvalid_0's pauc_80: 0.165656\n",
      "[300]\tvalid_0's auc: 0.953614\tvalid_0's pauc_80: 0.165821\n",
      "[350]\tvalid_0's auc: 0.954728\tvalid_0's pauc_80: 0.166492\n",
      "[400]\tvalid_0's auc: 0.956489\tvalid_0's pauc_80: 0.167814\n",
      "[450]\tvalid_0's auc: 0.956881\tvalid_0's pauc_80: 0.168088\n",
      "[500]\tvalid_0's auc: 0.95742\tvalid_0's pauc_80: 0.168179\n",
      "[550]\tvalid_0's auc: 0.958119\tvalid_0's pauc_80: 0.168784\n",
      "[600]\tvalid_0's auc: 0.957653\tvalid_0's pauc_80: 0.168254\n",
      "[650]\tvalid_0's auc: 0.958065\tvalid_0's pauc_80: 0.168452\n",
      "[700]\tvalid_0's auc: 0.958191\tvalid_0's pauc_80: 0.168293\n",
      "[750]\tvalid_0's auc: 0.958397\tvalid_0's pauc_80: 0.168388\n",
      "Early stopping, best iteration is:\n",
      "[544]\tvalid_0's auc: 0.958129\tvalid_0's pauc_80: 0.168867\n",
      "\n",
      "\n",
      "Val AUC scores:\n",
      "{'fold_1': 0.9575251732058201,\n",
      " 'fold_2': 0.9530952321528107,\n",
      " 'fold_3': 0.9481612921341304,\n",
      " 'fold_4': 0.9626603624065593,\n",
      " 'fold_5': 0.9581293855375694}\n",
      "Val PAUC scores:\n",
      "{'fold_1': 0.16754703673854623,\n",
      " 'fold_2': 0.16356106726361544,\n",
      " 'fold_3': 0.1598587001285395,\n",
      " 'fold_4': 0.16828490222261042,\n",
      " 'fold_5': 0.16886659902271445}\n",
      "CV AUC OOF: 0.9541063683674063\n",
      "CV PAUC OOF: 0.16385329114048006\n",
      "CV AUC AVG: 0.955914289087378\n",
      "CV PAUC AVG: 0.16562366107520518\n",
      "CV AUC STD: 0.004920714356917468\n",
      "CV PAUC STD: 0.003428915072338762\n",
      "Index(['age_approx', 'clin_size_long_diam_mm', 'tbp_lv_A', 'tbp_lv_Aext',\n",
      "       'tbp_lv_B', 'tbp_lv_Bext', 'tbp_lv_C', 'tbp_lv_Cext', 'tbp_lv_H',\n",
      "       'tbp_lv_Hext', 'tbp_lv_L', 'tbp_lv_Lext', 'tbp_lv_areaMM2',\n",
      "       'tbp_lv_area_perim_ratio', 'tbp_lv_color_std_mean', 'tbp_lv_deltaA',\n",
      "       'tbp_lv_deltaB', 'tbp_lv_deltaL', 'tbp_lv_deltaLB',\n",
      "       'tbp_lv_deltaLBnorm', 'tbp_lv_eccentricity', 'tbp_lv_minorAxisMM',\n",
      "       'tbp_lv_nevi_confidence', 'tbp_lv_norm_border', 'tbp_lv_norm_color',\n",
      "       'tbp_lv_perimeterMM', 'tbp_lv_radial_color_std_max', 'tbp_lv_stdL',\n",
      "       'tbp_lv_stdLExt', 'tbp_lv_symm_2axis', 'tbp_lv_symm_2axis_angle',\n",
      "       'tbp_lv_x', 'tbp_lv_y', 'tbp_lv_z', 'lesion_size_ratio',\n",
      "       'anterior torso', 'head/neck', 'lower extremity', 'posterior torso',\n",
      "       'upper extremity', 'tbp_lv_A_diff_mean_diff', 'tbp_lv_B_diff_mean_diff',\n",
      "       'tbp_lv_L_diff_mean_diff', 'tbp_lv_L_std_diff_mean_diff',\n",
      "       'tbp_tile_type', 'tbp_lv_location', 'attribution', 'copyright_license'],\n",
      "      dtype='object')\n"
     ]
    }
   ],
   "source": [
    "best_num_rounds = {}\n",
    "val_auc_scores = {}\n",
    "val_pauc_scores = {}\n",
    "all_folds = np.sort(folds.unique())\n",
    "oof_predictions = np.zeros(X_train.shape[0])\n",
    "for fold in all_folds:\n",
    "#     if fold != 4:\n",
    "#         continue\n",
    "    print(f\"Running fold: {fold}\")\n",
    "    dev_index = folds[folds != fold].index\n",
    "    val_index = folds[folds == fold].index\n",
    "    \n",
    "    X_dev = X_train.loc[dev_index, :]\n",
    "    y_dev = y_train[dev_index]\n",
    "    \n",
    "    X_val = X_train.loc[val_index, :]\n",
    "    y_val = y_train[val_index]\n",
    "    \n",
    "    lgb_dataset_dev = lgb.Dataset(X_dev, label=y_dev, categorical_feature=categorical_features, free_raw_data=False)\n",
    "    lgb_dataset_val = lgb.Dataset(X_val, label=y_val, categorical_feature=categorical_features, free_raw_data=False)\n",
    "    \n",
    "    model = lgb.train(\n",
    "        params,\n",
    "        lgb_dataset_dev,\n",
    "        num_boost_round=num_rounds,\n",
    "        valid_sets=[lgb_dataset_val],\n",
    "        feval=pauc_80,\n",
    "        callbacks=[early_stopping(stopping_rounds=es_rounds), log_evaluation(log_rounds)],\n",
    "    )\n",
    "    \n",
    "    model.save_model(MODELS_OUTPUT_PATH / f\"{cfg.model_name}_fold_{fold}.txt\")\n",
    "    best_num_rounds[f\"fold_{fold}\"] = model.best_iteration\n",
    "    val_scores = dict(model.best_score[\"valid_0\"])\n",
    "    \n",
    "    val_auc_scores[f\"fold_{fold}\"] = val_scores[\"auc\"]\n",
    "    val_pauc_scores[f\"fold_{fold}\"] = val_scores[\"pauc_80\"]\n",
    "    \n",
    "    val_preds = model.predict(X_val, num_iteration=model.best_iteration)\n",
    "    oof_predictions[val_index] = val_preds\n",
    "    print(\"\\n\")\n",
    "\n",
    "print(\"Val AUC scores:\")\n",
    "pprint(val_auc_scores)\n",
    "print(\"Val PAUC scores:\")\n",
    "pprint(val_pauc_scores)\n",
    "\n",
    "oof_preds_df = pd.DataFrame({\n",
    "    id_column: train_ids,\n",
    "    group_column: groups,\n",
    "    \"fold\": folds,\n",
    "    target_column: y_train,\n",
    "    f\"oof_{cfg.model_name}\": oof_predictions\n",
    "})\n",
    "oof_preds_df.to_csv(f\"oof_preds_{cfg.model_name}.csv\", index=False)\n",
    "\n",
    "cv_auc_oof = compute_auc(oof_preds_df[target_column], oof_preds_df[f\"oof_{cfg.model_name}\"])\n",
    "cv_pauc_oof = compute_pauc(oof_preds_df[target_column], oof_preds_df[f\"oof_{cfg.model_name}\"], min_tpr=0.8)\n",
    "\n",
    "cv_auc_avg = np.mean(list(val_auc_scores.values()))\n",
    "cv_pauc_avg = np.mean(list(val_pauc_scores.values()))\n",
    "\n",
    "cv_auc_std = np.std(list(val_auc_scores.values()))\n",
    "cv_pauc_std = np.std(list(val_pauc_scores.values()))\n",
    "\n",
    "print(f\"CV AUC OOF: {cv_auc_oof}\")\n",
    "print(f\"CV PAUC OOF: {cv_pauc_oof}\")\n",
    "print(f\"CV AUC AVG: {cv_auc_avg}\")\n",
    "print(f\"CV PAUC AVG: {cv_pauc_avg}\")\n",
    "print(f\"CV AUC STD: {cv_auc_std}\")\n",
    "print(f\"CV PAUC STD: {cv_pauc_std}\")\n",
    "print(X_train.columns)"
   ]
  },
  {
   "cell_type": "code",
   "execution_count": 11,
   "id": "b785ed58",
   "metadata": {
    "execution": {
     "iopub.execute_input": "2024-07-24T05:52:13.974676Z",
     "iopub.status.busy": "2024-07-24T05:52:13.974276Z",
     "iopub.status.idle": "2024-07-24T05:52:14.967851Z",
     "shell.execute_reply": "2024-07-24T05:52:14.966278Z"
    },
    "papermill": {
     "duration": 1.013141,
     "end_time": "2024-07-24T05:52:14.971134",
     "exception": false,
     "start_time": "2024-07-24T05:52:13.957993",
     "status": "completed"
    },
    "tags": []
   },
   "outputs": [
    {
     "data": {
      "text/plain": [
       "<Axes: >"
      ]
     },
     "execution_count": 11,
     "metadata": {},
     "output_type": "execute_result"
    },
    {
     "data": {
      "image/png": "[encoded data removed]",
      "text/plain": [
       "<Figure size 1000x1500 with 1 Axes>"
      ]
     },
     "metadata": {},
     "output_type": "display_data"
    }
   ],
   "source": [
    "feature_importances = 0\n",
    "for fold in all_folds:\n",
    "    model = lgb.Booster(model_file=MODELS_OUTPUT_PATH / f\"{cfg.model_name}_fold_{fold}.txt\")\n",
    "    if fold == 1:\n",
    "        feature_names = model.feature_name()\n",
    "    feature_importances += model.feature_importance(importance_type=\"gain\")\n",
    "feature_importances /= len(all_folds)\n",
    "\n",
    "imp = pd.DataFrame.from_dict(dict(zip(feature_names, feature_importances)), \n",
    "                             orient=\"index\", columns=[\"imp\"]).sort_values(\"imp\", ascending=True)\n",
    "imp.plot(kind=\"barh\", figsize=(10, 15))"
   ]
  },
  {
   "cell_type": "code",
   "execution_count": 12,
   "id": "b351bb2c",
   "metadata": {
    "execution": {
     "iopub.execute_input": "2024-07-24T05:52:15.002851Z",
     "iopub.status.busy": "2024-07-24T05:52:15.002435Z",
     "iopub.status.idle": "2024-07-24T05:52:15.009701Z",
     "shell.execute_reply": "2024-07-24T05:52:15.008485Z"
    },
    "papermill": {
     "duration": 0.026589,
     "end_time": "2024-07-24T05:52:15.012280",
     "exception": false,
     "start_time": "2024-07-24T05:52:14.985691",
     "status": "completed"
    },
    "tags": []
   },
   "outputs": [],
   "source": [
    "metadata = {\n",
    "    \"params\": params,\n",
    "    \"num_rounds\": num_rounds,\n",
    "    \"es_rounds\": es_rounds,\n",
    "    \"best_num_rounds\": best_num_rounds,\n",
    "    \"val_auc_scores\": val_auc_scores,\n",
    "    \"val_pauc_scores\": val_pauc_scores,\n",
    "    \"cv_auc_oof\": cv_auc_oof,\n",
    "    \"cv_pauc_oof\": cv_pauc_oof,\n",
    "    \"cv_auc_avg\": cv_auc_avg,\n",
    "    \"cv_pauc_avg\": cv_pauc_avg\n",
    "}\n",
    "\n",
    "with open(f\"{cfg.model_name}_run_metadata.json\", \"w\") as f:\n",
    "    json.dump(metadata, f)"
   ]
  }
 ],
 "metadata": {
  "kaggle": {
   "accelerator": "none",
   "dataSources": [
    {
     "databundleVersionId": 9094797,
     "sourceId": 63056,
     "sourceType": "competition"
    },
    {
     "sourceId": 187439867,
     "sourceType": "kernelVersion"
    },
    {
     "sourceId": 187477024,
     "sourceType": "kernelVersion"
    }
   ],
   "dockerImageVersionId": 30746,
   "isGpuEnabled": false,
   "isInternetEnabled": false,
   "language": "python",
   "sourceType": "notebook"
  },
  "kernelspec": {
   "display_name": "Python 3",
   "language": "python",
   "name": "python3"
  },
  "language_info": {
   "codemirror_mode": {
    "name": "ipython",
    "version": 3
   },
   "file_extension": ".py",
   "mimetype": "text/x-python",
   "name": "python",
   "nbconvert_exporter": "python",
   "pygments_lexer": "ipython3",
   "version": "3.10.13"
  },
  "papermill": {
   "default_parameters": {},
   "duration": 502.50438,
   "end_time": "2024-07-24T05:52:16.252733",
   "environment_variables": {},
   "exception": null,
   "input_path": "__notebook__.ipynb",
   "output_path": "__notebook__.ipynb",
   "parameters": {},
   "start_time": "2024-07-24T05:43:53.748353",
   "version": "2.5.0"
  }
 },
 "nbformat": 4,
 "nbformat_minor": 5
}
