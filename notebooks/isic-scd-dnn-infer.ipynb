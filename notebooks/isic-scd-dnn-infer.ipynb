{
 "cells": [
  {
   "cell_type": "code",
   "execution_count": 1,
   "id": "1da16f8a",
   "metadata": {
    "_cell_guid": "b1076dfc-b9ad-4769-8c92-a6c4dae69d19",
    "_uuid": "8f2839f25d086af736a60e9eeb907d3b93b6e0e5",
    "execution": {
     "iopub.execute_input": "2024-08-21T15:14:47.537879Z",
     "iopub.status.busy": "2024-08-21T15:14:47.537505Z",
     "iopub.status.idle": "2024-08-21T15:14:54.908259Z",
     "shell.execute_reply": "2024-08-21T15:14:54.907462Z"
    },
    "papermill": {
     "duration": 7.380291,
     "end_time": "2024-08-21T15:14:54.910701",
     "exception": false,
     "start_time": "2024-08-21T15:14:47.530410",
     "status": "completed"
    },
    "tags": []
   },
   "outputs": [],
   "source": [
    "import time\n",
    "import json\n",
    "from pathlib import Path\n",
    "from pprint import pprint\n",
    "\n",
    "import h5py\n",
    "import numpy as np\n",
    "import pandas as pd\n",
    "\n",
    "from torch.utils.data import DataLoader\n",
    "from accelerate import Accelerator\n",
    "\n",
    "from isic_helper import get_folds"
   ]
  },
  {
   "cell_type": "code",
   "execution_count": 2,
   "id": "31469004",
   "metadata": {
    "execution": {
     "iopub.execute_input": "2024-08-21T15:14:54.923396Z",
     "iopub.status.busy": "2024-08-21T15:14:54.922905Z",
     "iopub.status.idle": "2024-08-21T15:14:54.927880Z",
     "shell.execute_reply": "2024-08-21T15:14:54.927093Z"
    },
    "papermill": {
     "duration": 0.013097,
     "end_time": "2024-08-21T15:14:54.929688",
     "exception": false,
     "start_time": "2024-08-21T15:14:54.916591",
     "status": "completed"
    },
    "tags": []
   },
   "outputs": [],
   "source": [
    "model_name = \"efficientnet_b2\"\n",
    "version = \"v1\"\n",
    "mode = \"pretrain\"\n",
    "path = f\"/kaggle/input/isic-scd-{model_name.replace('_', '-')}-{version}-{mode}\"\n",
    "\n",
    "SAMPLE_SIZE = 5000\n",
    "EXPECTED_TEST_SIZE = 500000"
   ]
  },
  {
   "cell_type": "code",
   "execution_count": 3,
   "id": "252071c4",
   "metadata": {
    "execution": {
     "iopub.execute_input": "2024-08-21T15:14:54.940806Z",
     "iopub.status.busy": "2024-08-21T15:14:54.940250Z",
     "iopub.status.idle": "2024-08-21T15:14:54.944025Z",
     "shell.execute_reply": "2024-08-21T15:14:54.943248Z"
    },
    "papermill": {
     "duration": 0.011232,
     "end_time": "2024-08-21T15:14:54.945849",
     "exception": false,
     "start_time": "2024-08-21T15:14:54.934617",
     "status": "completed"
    },
    "tags": []
   },
   "outputs": [],
   "source": [
    "import sys\n",
    "sys.path.append(path)"
   ]
  },
  {
   "cell_type": "code",
   "execution_count": 4,
   "id": "23bf3c61",
   "metadata": {
    "execution": {
     "iopub.execute_input": "2024-08-21T15:14:54.956468Z",
     "iopub.status.busy": "2024-08-21T15:14:54.956221Z",
     "iopub.status.idle": "2024-08-21T15:14:56.909208Z",
     "shell.execute_reply": "2024-08-21T15:14:56.908393Z"
    },
    "papermill": {
     "duration": 1.960852,
     "end_time": "2024-08-21T15:14:56.911574",
     "exception": false,
     "start_time": "2024-08-21T15:14:54.950722",
     "status": "completed"
    },
    "tags": []
   },
   "outputs": [],
   "source": [
    "from dataset import test_augment, ISICDataset, preprocess, get_emb_szs\n",
    "from models import ISICNet\n",
    "from engine import predict"
   ]
  },
  {
   "cell_type": "code",
   "execution_count": 5,
   "id": "6d27b24c",
   "metadata": {
    "execution": {
     "iopub.execute_input": "2024-08-21T15:14:56.923087Z",
     "iopub.status.busy": "2024-08-21T15:14:56.922791Z",
     "iopub.status.idle": "2024-08-21T15:14:56.926870Z",
     "shell.execute_reply": "2024-08-21T15:14:56.926013Z"
    },
    "papermill": {
     "duration": 0.011961,
     "end_time": "2024-08-21T15:14:56.928750",
     "exception": false,
     "start_time": "2024-08-21T15:14:56.916789",
     "status": "completed"
    },
    "tags": []
   },
   "outputs": [],
   "source": [
    "id_column = \"isic_id\"\n",
    "target_column = \"target\"\n",
    "group_column = \"patient_id\""
   ]
  },
  {
   "cell_type": "code",
   "execution_count": 6,
   "id": "71ed6eec",
   "metadata": {
    "execution": {
     "iopub.execute_input": "2024-08-21T15:14:56.939470Z",
     "iopub.status.busy": "2024-08-21T15:14:56.939216Z",
     "iopub.status.idle": "2024-08-21T15:15:06.734475Z",
     "shell.execute_reply": "2024-08-21T15:15:06.733511Z"
    },
    "papermill": {
     "duration": 9.803152,
     "end_time": "2024-08-21T15:15:06.736775",
     "exception": false,
     "start_time": "2024-08-21T15:14:56.933623",
     "status": "completed"
    },
    "tags": []
   },
   "outputs": [
    {
     "name": "stdout",
     "output_type": "stream",
     "text": [
      "Train data size: (401059, 56)\n",
      "Test data size: (3, 44)\n"
     ]
    }
   ],
   "source": [
    "INPUT_PATH = Path(\"../input/isic-2024-challenge/\")\n",
    "\n",
    "train_metadata = pd.read_csv(INPUT_PATH / \"train-metadata.csv\", low_memory=False)\n",
    "test_metadata = pd.read_csv(INPUT_PATH / \"test-metadata.csv\")\n",
    "\n",
    "folds_df = get_folds()\n",
    "train_metadata = train_metadata.merge(folds_df, on=[\"isic_id\", \"patient_id\"], how=\"inner\")\n",
    "print(f\"Train data size: {train_metadata.shape}\")\n",
    "print(f\"Test data size: {test_metadata.shape}\")\n",
    "\n",
    "train_images = h5py.File(INPUT_PATH / \"train-image.hdf5\", mode=\"r\")\n",
    "test_images = h5py.File(INPUT_PATH / \"test-image.hdf5\", mode=\"r\")"
   ]
  },
  {
   "cell_type": "code",
   "execution_count": 7,
   "id": "02152fac",
   "metadata": {
    "execution": {
     "iopub.execute_input": "2024-08-21T15:15:06.749903Z",
     "iopub.status.busy": "2024-08-21T15:15:06.749565Z",
     "iopub.status.idle": "2024-08-21T15:15:06.760882Z",
     "shell.execute_reply": "2024-08-21T15:15:06.760044Z"
    },
    "papermill": {
     "duration": 0.019633,
     "end_time": "2024-08-21T15:15:06.762796",
     "exception": false,
     "start_time": "2024-08-21T15:15:06.743163",
     "status": "completed"
    },
    "tags": []
   },
   "outputs": [],
   "source": [
    "def get_dnn_predictions(train, test, test_images, model_name, version, path):\n",
    "    start_time = time.time()\n",
    "    with open(path / f\"{model_name}_{version}_run_metadata.json\", \"r\") as f:\n",
    "        run_metadata = json.load(f)\n",
    "    pprint(run_metadata[\"params\"])\n",
    "    \n",
    "    image_size = run_metadata[\"params\"][\"image_size\"]\n",
    "    batch_size = run_metadata[\"params\"][\"val_batch_size\"]\n",
    "    use_meta = run_metadata[\"params\"][\"use_meta\"]\n",
    "    \n",
    "    test_dataset = ISICDataset(\n",
    "        test_df, test_images, augment=test_augment(image_size), \n",
    "        use_meta=use_meta,\n",
    "        cat_cols=cat_cols,\n",
    "        cont_cols=cont_cols,\n",
    "        infer=True\n",
    "    )\n",
    "    test_dataloader = DataLoader(\n",
    "        test_dataset,\n",
    "        batch_size=batch_size,\n",
    "        shuffle=False,\n",
    "        num_workers=4,\n",
    "        drop_last=False,\n",
    "        pin_memory=True,\n",
    "    )\n",
    "    \n",
    "    fold_column = \"fold\"\n",
    "    all_folds = np.unique(train[fold_column])\n",
    "#     all_folds = [1]\n",
    "    test_predictions_df = pd.DataFrame({id_column: test[id_column]})\n",
    "    for fold in all_folds:\n",
    "        print(f\"\\nFold {fold}\")\n",
    "        accelerator = Accelerator(\n",
    "            mixed_precision=run_metadata[\"params\"][\"mixed_precision\"],\n",
    "        )\n",
    "        \n",
    "        model = ISICNet(model_name=model_name, pretrained=False,\n",
    "                        use_meta=use_meta,\n",
    "                        cat_cols=cat_cols,\n",
    "                        cont_cols=cont_cols,\n",
    "                        emb_szs=emb_szs,)\n",
    "        model = model.to(accelerator.device)\n",
    "        \n",
    "        model, test_dataloader = accelerator.prepare(model, test_dataloader)\n",
    "        model_filepath = path / f\"models/fold_{fold}\"\n",
    "        accelerator.load_state(model_filepath)\n",
    "\n",
    "        test_predictions_df[f\"fold_{fold}\"] = predict(model, test_dataloader, accelerator, n_tta=run_metadata[\"params\"][\"n_tta\"], use_meta=use_meta)\n",
    "    test_predictions_df[target_column] = test_predictions_df[[f\"fold_{fold}\" for fold in all_folds]].mean(axis=1)\n",
    "    end_time = time.time()\n",
    "    return test_predictions_df[[id_column, target_column]], (end_time - start_time)"
   ]
  },
  {
   "cell_type": "code",
   "execution_count": 8,
   "id": "589bde6b",
   "metadata": {
    "execution": {
     "iopub.execute_input": "2024-08-21T15:15:06.774568Z",
     "iopub.status.busy": "2024-08-21T15:15:06.774257Z",
     "iopub.status.idle": "2024-08-21T15:15:06.781519Z",
     "shell.execute_reply": "2024-08-21T15:15:06.780711Z"
    },
    "papermill": {
     "duration": 0.015485,
     "end_time": "2024-08-21T15:15:06.783526",
     "exception": false,
     "start_time": "2024-08-21T15:15:06.768041",
     "status": "completed"
    },
    "tags": []
   },
   "outputs": [],
   "source": [
    "def feature_engineering(df):\n",
    "    cat_cols = [\"age_approx\", \"sex\", \"anatom_site_general\",\n",
    "                \"tbp_tile_type\", \"tbp_lv_location\", \"tbp_lv_location_simple\"]\n",
    "    cont_cols = [\"clin_size_long_diam_mm\",\n",
    "                 \"tbp_lv_A\", \"tbp_lv_Aext\",\n",
    "                 \"tbp_lv_B\", \"tbp_lv_Bext\",\n",
    "                 \"tbp_lv_C\", \"tbp_lv_Cext\",\n",
    "                 \"tbp_lv_H\", \"tbp_lv_Hext\",\n",
    "                 \"tbp_lv_L\", \"tbp_lv_Lext\",\n",
    "                 \"tbp_lv_areaMM2\", \"tbp_lv_area_perim_ratio\",\n",
    "                 \"tbp_lv_color_std_mean\",\n",
    "                 # \"tbp_lv_deltaA\", \"tbp_lv_deltaB\", \"tbp_lv_deltaL\", \"tbp_lv_deltaLB\", \"tbp_lv_deltaLBnorm\",\n",
    "                 \"tbp_lv_eccentricity\",\n",
    "                 \"tbp_lv_minorAxisMM\", \"tbp_lv_nevi_confidence\", \"tbp_lv_norm_border\",\n",
    "                 \"tbp_lv_norm_color\", \"tbp_lv_perimeterMM\",\n",
    "                 \"tbp_lv_radial_color_std_max\", \"tbp_lv_stdL\", \"tbp_lv_stdLExt\",\n",
    "                 \"tbp_lv_symm_2axis\", \"tbp_lv_symm_2axis_angle\",\n",
    "                 # \"tbp_lv_x\", \"tbp_lv_y\", \"tbp_lv_z\"\n",
    "                 ]\n",
    "\n",
    "    # for col in cont_cols:\n",
    "    #     df, feature_name = norm_feature(df, col, [\"patient_id\"])\n",
    "    #     cont_cols.append(feature_name)\n",
    "    df[\"num_images\"] = df[\"patient_id\"].map(df.groupby(\"patient_id\")[\"isic_id\"].count())\n",
    "    cont_cols.append(\"num_images\")\n",
    "\n",
    "    for col in cont_cols:\n",
    "        df[col] = np.log(df[col] + 100)\n",
    "    return df, cat_cols, cont_cols"
   ]
  },
  {
   "cell_type": "code",
   "execution_count": 9,
   "id": "32977211",
   "metadata": {
    "execution": {
     "iopub.execute_input": "2024-08-21T15:15:06.795150Z",
     "iopub.status.busy": "2024-08-21T15:15:06.794822Z",
     "iopub.status.idle": "2024-08-21T15:15:06.820362Z",
     "shell.execute_reply": "2024-08-21T15:15:06.819339Z"
    },
    "papermill": {
     "duration": 0.033567,
     "end_time": "2024-08-21T15:15:06.822361",
     "exception": false,
     "start_time": "2024-08-21T15:15:06.788794",
     "status": "completed"
    },
    "tags": []
   },
   "outputs": [
    {
     "name": "stdout",
     "output_type": "stream",
     "text": [
      "Preprocessing metadata...\n",
      "Feature engineering...\n"
     ]
    }
   ],
   "source": [
    "print(f\"Preprocessing metadata...\")\n",
    "test_metadata = preprocess(test_metadata)\n",
    "print(f\"Feature engineering...\")\n",
    "test_df, cat_cols, cont_cols = feature_engineering(test_metadata)\n",
    "emb_szs = get_emb_szs(cat_cols)"
   ]
  },
  {
   "cell_type": "code",
   "execution_count": 10,
   "id": "ce88514e",
   "metadata": {
    "execution": {
     "iopub.execute_input": "2024-08-21T15:15:06.834534Z",
     "iopub.status.busy": "2024-08-21T15:15:06.833933Z",
     "iopub.status.idle": "2024-08-21T15:15:06.844386Z",
     "shell.execute_reply": "2024-08-21T15:15:06.843505Z"
    },
    "papermill": {
     "duration": 0.018257,
     "end_time": "2024-08-21T15:15:06.846312",
     "exception": false,
     "start_time": "2024-08-21T15:15:06.828055",
     "status": "completed"
    },
    "tags": []
   },
   "outputs": [],
   "source": [
    "cont_nan_sum = np.sum(test_df[cont_cols].isnull().sum())\n",
    "cat_nan_sum = np.sum(test_df[cat_cols].isnull().sum())"
   ]
  },
  {
   "cell_type": "code",
   "execution_count": 11,
   "id": "07df97fc",
   "metadata": {
    "execution": {
     "iopub.execute_input": "2024-08-21T15:15:06.858446Z",
     "iopub.status.busy": "2024-08-21T15:15:06.857712Z",
     "iopub.status.idle": "2024-08-21T15:15:14.936610Z",
     "shell.execute_reply": "2024-08-21T15:15:14.935446Z"
    },
    "papermill": {
     "duration": 8.08722,
     "end_time": "2024-08-21T15:15:14.938894",
     "exception": false,
     "start_time": "2024-08-21T15:15:06.851674",
     "status": "completed"
    },
    "tags": []
   },
   "outputs": [
    {
     "name": "stdout",
     "output_type": "stream",
     "text": [
      "{'debug': False,\n",
      " 'down_sampling': True,\n",
      " 'image_size': 128,\n",
      " 'init_lr': 3e-05,\n",
      " 'mixed_precision': 'fp16',\n",
      " 'mode': 'pretrain',\n",
      " 'n_tta': 8,\n",
      " 'num_epochs': 20,\n",
      " 'num_workers': 8,\n",
      " 'seed': 2022,\n",
      " 'train_batch_size': 64,\n",
      " 'use_meta': True,\n",
      " 'val_batch_size': 512}\n",
      "\n",
      "Fold 1\n",
      "Step: 1/1\n",
      "\n",
      "Fold 2\n",
      "Step: 1/1\n",
      "\n",
      "Fold 3\n",
      "Step: 1/1\n",
      "\n",
      "Fold 4\n",
      "Step: 1/1\n",
      "\n",
      "Fold 5\n",
      "Step: 1/1\n",
      "Expected total runtime during submission: 13 mins and 26.966543197631836 secs\n"
     ]
    }
   ],
   "source": [
    "if cont_nan_sum != 0:\n",
    "    test_preds_df = pd.DataFrame({id_column: test_df[id_column], target_column: 0.01})\n",
    "elif cat_nan_sum != 0:\n",
    "    test_preds_df = pd.DataFrame({id_column: test_df[id_column], target_column: np.random.rand(test_df.shape[0])})\n",
    "else:\n",
    "    test_preds_df, total_runtime = get_dnn_predictions(train_metadata, \n",
    "                                                       test_metadata, \n",
    "                                                       test_images, \n",
    "                                                       model_name, \n",
    "                                                       version, \n",
    "                                                       Path(path))\n",
    "    factor = EXPECTED_TEST_SIZE / SAMPLE_SIZE\n",
    "    expected_total_runtime = total_runtime * factor\n",
    "    total_runtime_minutes = int(expected_total_runtime // 60)\n",
    "    total_runtime_seconds = expected_total_runtime % 60\n",
    "    print(f\"Expected total runtime during submission: {total_runtime_minutes} mins and {total_runtime_seconds} secs\")"
   ]
  },
  {
   "cell_type": "code",
   "execution_count": 12,
   "id": "f2e0e8b8",
   "metadata": {
    "execution": {
     "iopub.execute_input": "2024-08-21T15:15:14.952365Z",
     "iopub.status.busy": "2024-08-21T15:15:14.951568Z",
     "iopub.status.idle": "2024-08-21T15:15:14.966789Z",
     "shell.execute_reply": "2024-08-21T15:15:14.965944Z"
    },
    "papermill": {
     "duration": 0.023914,
     "end_time": "2024-08-21T15:15:14.968665",
     "exception": false,
     "start_time": "2024-08-21T15:15:14.944751",
     "status": "completed"
    },
    "tags": []
   },
   "outputs": [
    {
     "data": {
      "text/html": [
       "<div>\n",
       "<style scoped>\n",
       "    .dataframe tbody tr th:only-of-type {\n",
       "        vertical-align: middle;\n",
       "    }\n",
       "\n",
       "    .dataframe tbody tr th {\n",
       "        vertical-align: top;\n",
       "    }\n",
       "\n",
       "    .dataframe thead th {\n",
       "        text-align: right;\n",
       "    }\n",
       "</style>\n",
       "<table border=\"1\" class=\"dataframe\">\n",
       "  <thead>\n",
       "    <tr style=\"text-align: right;\">\n",
       "      <th></th>\n",
       "      <th>isic_id</th>\n",
       "      <th>target</th>\n",
       "    </tr>\n",
       "  </thead>\n",
       "  <tbody>\n",
       "    <tr>\n",
       "      <th>0</th>\n",
       "      <td>ISIC_0015657</td>\n",
       "      <td>0.007614</td>\n",
       "    </tr>\n",
       "    <tr>\n",
       "      <th>1</th>\n",
       "      <td>ISIC_0015729</td>\n",
       "      <td>0.000200</td>\n",
       "    </tr>\n",
       "    <tr>\n",
       "      <th>2</th>\n",
       "      <td>ISIC_0015740</td>\n",
       "      <td>0.000048</td>\n",
       "    </tr>\n",
       "  </tbody>\n",
       "</table>\n",
       "</div>"
      ],
      "text/plain": [
       "        isic_id    target\n",
       "0  ISIC_0015657  0.007614\n",
       "1  ISIC_0015729  0.000200\n",
       "2  ISIC_0015740  0.000048"
      ]
     },
     "execution_count": 12,
     "metadata": {},
     "output_type": "execute_result"
    }
   ],
   "source": [
    "test_preds_df.head()"
   ]
  },
  {
   "cell_type": "code",
   "execution_count": 13,
   "id": "41bc6693",
   "metadata": {
    "execution": {
     "iopub.execute_input": "2024-08-21T15:15:14.982589Z",
     "iopub.status.busy": "2024-08-21T15:15:14.981918Z",
     "iopub.status.idle": "2024-08-21T15:15:14.993573Z",
     "shell.execute_reply": "2024-08-21T15:15:14.992774Z"
    },
    "papermill": {
     "duration": 0.020039,
     "end_time": "2024-08-21T15:15:14.995426",
     "exception": false,
     "start_time": "2024-08-21T15:15:14.975387",
     "status": "completed"
    },
    "tags": []
   },
   "outputs": [
    {
     "data": {
      "text/plain": [
       "count    3.000000\n",
       "mean     0.002621\n",
       "std      0.004325\n",
       "min      0.000048\n",
       "25%      0.000124\n",
       "50%      0.000200\n",
       "75%      0.003907\n",
       "max      0.007614\n",
       "Name: target, dtype: float64"
      ]
     },
     "execution_count": 13,
     "metadata": {},
     "output_type": "execute_result"
    }
   ],
   "source": [
    "test_preds_df[target_column].describe()"
   ]
  },
  {
   "cell_type": "code",
   "execution_count": 14,
   "id": "323c4b03",
   "metadata": {
    "execution": {
     "iopub.execute_input": "2024-08-21T15:15:15.008323Z",
     "iopub.status.busy": "2024-08-21T15:15:15.008032Z",
     "iopub.status.idle": "2024-08-21T15:15:15.017710Z",
     "shell.execute_reply": "2024-08-21T15:15:15.016827Z"
    },
    "papermill": {
     "duration": 0.018401,
     "end_time": "2024-08-21T15:15:15.019645",
     "exception": false,
     "start_time": "2024-08-21T15:15:15.001244",
     "status": "completed"
    },
    "tags": []
   },
   "outputs": [
    {
     "data": {
      "text/html": [
       "<div>\n",
       "<style scoped>\n",
       "    .dataframe tbody tr th:only-of-type {\n",
       "        vertical-align: middle;\n",
       "    }\n",
       "\n",
       "    .dataframe tbody tr th {\n",
       "        vertical-align: top;\n",
       "    }\n",
       "\n",
       "    .dataframe thead th {\n",
       "        text-align: right;\n",
       "    }\n",
       "</style>\n",
       "<table border=\"1\" class=\"dataframe\">\n",
       "  <thead>\n",
       "    <tr style=\"text-align: right;\">\n",
       "      <th></th>\n",
       "      <th>isic_id</th>\n",
       "      <th>target</th>\n",
       "    </tr>\n",
       "  </thead>\n",
       "  <tbody>\n",
       "    <tr>\n",
       "      <th>0</th>\n",
       "      <td>ISIC_0015657</td>\n",
       "      <td>0.007614</td>\n",
       "    </tr>\n",
       "    <tr>\n",
       "      <th>1</th>\n",
       "      <td>ISIC_0015729</td>\n",
       "      <td>0.000200</td>\n",
       "    </tr>\n",
       "    <tr>\n",
       "      <th>2</th>\n",
       "      <td>ISIC_0015740</td>\n",
       "      <td>0.000048</td>\n",
       "    </tr>\n",
       "  </tbody>\n",
       "</table>\n",
       "</div>"
      ],
      "text/plain": [
       "        isic_id    target\n",
       "0  ISIC_0015657  0.007614\n",
       "1  ISIC_0015729  0.000200\n",
       "2  ISIC_0015740  0.000048"
      ]
     },
     "execution_count": 14,
     "metadata": {},
     "output_type": "execute_result"
    }
   ],
   "source": [
    "test_preds_df[[id_column, target_column]].head()"
   ]
  },
  {
   "cell_type": "code",
   "execution_count": 15,
   "id": "248b9df0",
   "metadata": {
    "execution": {
     "iopub.execute_input": "2024-08-21T15:15:15.034278Z",
     "iopub.status.busy": "2024-08-21T15:15:15.033469Z",
     "iopub.status.idle": "2024-08-21T15:15:15.041218Z",
     "shell.execute_reply": "2024-08-21T15:15:15.040508Z"
    },
    "papermill": {
     "duration": 0.016727,
     "end_time": "2024-08-21T15:15:15.043046",
     "exception": false,
     "start_time": "2024-08-21T15:15:15.026319",
     "status": "completed"
    },
    "tags": []
   },
   "outputs": [],
   "source": [
    "test_preds_df[[id_column, target_column]].to_csv(\"submission.csv\", index=False)"
   ]
  },
  {
   "cell_type": "code",
   "execution_count": null,
   "id": "2d4be4e8",
   "metadata": {
    "papermill": {
     "duration": 0.005763,
     "end_time": "2024-08-21T15:15:15.054838",
     "exception": false,
     "start_time": "2024-08-21T15:15:15.049075",
     "status": "completed"
    },
    "tags": []
   },
   "outputs": [],
   "source": []
  }
 ],
 "metadata": {
  "kaggle": {
   "accelerator": "gpu",
   "dataSources": [
    {
     "databundleVersionId": 9094797,
     "sourceId": 63056,
     "sourceType": "competition"
    },
    {
     "datasetId": 5554293,
     "sourceId": 9206970,
     "sourceType": "datasetVersion"
    },
    {
     "sourceId": 187477024,
     "sourceType": "kernelVersion"
    },
    {
     "sourceId": 193130710,
     "sourceType": "kernelVersion"
    }
   ],
   "dockerImageVersionId": 30733,
   "isGpuEnabled": true,
   "isInternetEnabled": false,
   "language": "python",
   "sourceType": "notebook"
  },
  "kernelspec": {
   "display_name": "Python 3",
   "language": "python",
   "name": "python3"
  },
  "language_info": {
   "codemirror_mode": {
    "name": "ipython",
    "version": 3
   },
   "file_extension": ".py",
   "mimetype": "text/x-python",
   "name": "python",
   "nbconvert_exporter": "python",
   "pygments_lexer": "ipython3",
   "version": "3.10.13"
  },
  "papermill": {
   "default_parameters": {},
   "duration": 33.220021,
   "end_time": "2024-08-21T15:15:17.934016",
   "environment_variables": {},
   "exception": null,
   "input_path": "__notebook__.ipynb",
   "output_path": "__notebook__.ipynb",
   "parameters": {},
   "start_time": "2024-08-21T15:14:44.713995",
   "version": "2.5.0"
  }
 },
 "nbformat": 4,
 "nbformat_minor": 5
}
