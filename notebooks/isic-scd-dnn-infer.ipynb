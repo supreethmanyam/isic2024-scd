{
 "cells": [
  {
   "cell_type": "code",
   "execution_count": 1,
   "id": "584369bc",
   "metadata": {
    "_cell_guid": "b1076dfc-b9ad-4769-8c92-a6c4dae69d19",
    "_uuid": "8f2839f25d086af736a60e9eeb907d3b93b6e0e5",
    "execution": {
     "iopub.execute_input": "2024-08-20T04:05:31.615143Z",
     "iopub.status.busy": "2024-08-20T04:05:31.614553Z",
     "iopub.status.idle": "2024-08-20T04:05:38.924652Z",
     "shell.execute_reply": "2024-08-20T04:05:38.923797Z"
    },
    "papermill": {
     "duration": 7.318832,
     "end_time": "2024-08-20T04:05:38.927040",
     "exception": false,
     "start_time": "2024-08-20T04:05:31.608208",
     "status": "completed"
    },
    "tags": []
   },
   "outputs": [],
   "source": [
    "import time\n",
    "import json\n",
    "from pathlib import Path\n",
    "from pprint import pprint\n",
    "\n",
    "import h5py\n",
    "import numpy as np\n",
    "import pandas as pd\n",
    "\n",
    "from torch.utils.data import DataLoader\n",
    "from accelerate import Accelerator\n",
    "\n",
    "from isic_helper import get_folds"
   ]
  },
  {
   "cell_type": "code",
   "execution_count": 2,
   "id": "5e1b6787",
   "metadata": {
    "execution": {
     "iopub.execute_input": "2024-08-20T04:05:38.937833Z",
     "iopub.status.busy": "2024-08-20T04:05:38.937354Z",
     "iopub.status.idle": "2024-08-20T04:05:38.942054Z",
     "shell.execute_reply": "2024-08-20T04:05:38.941209Z"
    },
    "papermill": {
     "duration": 0.011977,
     "end_time": "2024-08-20T04:05:38.943987",
     "exception": false,
     "start_time": "2024-08-20T04:05:38.932010",
     "status": "completed"
    },
    "tags": []
   },
   "outputs": [],
   "source": [
    "model_name = \"efficientnet_b2\"\n",
    "version = \"v1\"\n",
    "mode = \"pretrain\"\n",
    "path = f\"/kaggle/input/isic-scd-{model_name.replace('_', '-')}-{version}-{mode}\"\n",
    "\n",
    "SAMPLE_SIZE = 5000\n",
    "EXPECTED_TEST_SIZE = 500000"
   ]
  },
  {
   "cell_type": "code",
   "execution_count": 3,
   "id": "76bd2bc0",
   "metadata": {
    "execution": {
     "iopub.execute_input": "2024-08-20T04:05:38.953942Z",
     "iopub.status.busy": "2024-08-20T04:05:38.953673Z",
     "iopub.status.idle": "2024-08-20T04:05:38.957632Z",
     "shell.execute_reply": "2024-08-20T04:05:38.956784Z"
    },
    "papermill": {
     "duration": 0.011055,
     "end_time": "2024-08-20T04:05:38.959566",
     "exception": false,
     "start_time": "2024-08-20T04:05:38.948511",
     "status": "completed"
    },
    "tags": []
   },
   "outputs": [],
   "source": [
    "import sys\n",
    "sys.path.append(path)"
   ]
  },
  {
   "cell_type": "code",
   "execution_count": 4,
   "id": "6927ee90",
   "metadata": {
    "execution": {
     "iopub.execute_input": "2024-08-20T04:05:38.969431Z",
     "iopub.status.busy": "2024-08-20T04:05:38.968960Z",
     "iopub.status.idle": "2024-08-20T04:05:40.913251Z",
     "shell.execute_reply": "2024-08-20T04:05:40.912315Z"
    },
    "papermill": {
     "duration": 1.951678,
     "end_time": "2024-08-20T04:05:40.915618",
     "exception": false,
     "start_time": "2024-08-20T04:05:38.963940",
     "status": "completed"
    },
    "tags": []
   },
   "outputs": [],
   "source": [
    "from dataset import test_augment, ISICDataset, preprocess, feature_engineering, get_emb_szs\n",
    "from models import ISICNet\n",
    "from engine import predict"
   ]
  },
  {
   "cell_type": "code",
   "execution_count": 5,
   "id": "dbafedc7",
   "metadata": {
    "execution": {
     "iopub.execute_input": "2024-08-20T04:05:40.925782Z",
     "iopub.status.busy": "2024-08-20T04:05:40.925492Z",
     "iopub.status.idle": "2024-08-20T04:05:40.929383Z",
     "shell.execute_reply": "2024-08-20T04:05:40.928528Z"
    },
    "papermill": {
     "duration": 0.010987,
     "end_time": "2024-08-20T04:05:40.931250",
     "exception": false,
     "start_time": "2024-08-20T04:05:40.920263",
     "status": "completed"
    },
    "tags": []
   },
   "outputs": [],
   "source": [
    "id_column = \"isic_id\"\n",
    "target_column = \"target\"\n",
    "group_column = \"patient_id\""
   ]
  },
  {
   "cell_type": "code",
   "execution_count": 6,
   "id": "58388031",
   "metadata": {
    "execution": {
     "iopub.execute_input": "2024-08-20T04:05:40.941478Z",
     "iopub.status.busy": "2024-08-20T04:05:40.940783Z",
     "iopub.status.idle": "2024-08-20T04:05:50.533380Z",
     "shell.execute_reply": "2024-08-20T04:05:50.532210Z"
    },
    "papermill": {
     "duration": 9.600252,
     "end_time": "2024-08-20T04:05:50.535938",
     "exception": false,
     "start_time": "2024-08-20T04:05:40.935686",
     "status": "completed"
    },
    "tags": []
   },
   "outputs": [
    {
     "name": "stdout",
     "output_type": "stream",
     "text": [
      "Train data size: (401059, 56)\n",
      "Test data size: (3, 44)\n"
     ]
    }
   ],
   "source": [
    "INPUT_PATH = Path(\"../input/isic-2024-challenge/\")\n",
    "\n",
    "train_metadata = pd.read_csv(INPUT_PATH / \"train-metadata.csv\", low_memory=False)\n",
    "test_metadata = pd.read_csv(INPUT_PATH / \"test-metadata.csv\")\n",
    "\n",
    "folds_df = get_folds()\n",
    "train_metadata = train_metadata.merge(folds_df, on=[\"isic_id\", \"patient_id\"], how=\"inner\")\n",
    "print(f\"Train data size: {train_metadata.shape}\")\n",
    "print(f\"Test data size: {test_metadata.shape}\")\n",
    "\n",
    "train_images = h5py.File(INPUT_PATH / \"train-image.hdf5\", mode=\"r\")\n",
    "test_images = h5py.File(INPUT_PATH / \"test-image.hdf5\", mode=\"r\")"
   ]
  },
  {
   "cell_type": "code",
   "execution_count": 7,
   "id": "c2039018",
   "metadata": {
    "execution": {
     "iopub.execute_input": "2024-08-20T04:05:50.547617Z",
     "iopub.status.busy": "2024-08-20T04:05:50.546813Z",
     "iopub.status.idle": "2024-08-20T04:05:50.559777Z",
     "shell.execute_reply": "2024-08-20T04:05:50.559032Z"
    },
    "papermill": {
     "duration": 0.021089,
     "end_time": "2024-08-20T04:05:50.561747",
     "exception": false,
     "start_time": "2024-08-20T04:05:50.540658",
     "status": "completed"
    },
    "tags": []
   },
   "outputs": [],
   "source": [
    "def get_dnn_predictions(train, test, test_images, model_name, version, path):\n",
    "    start_time = time.time()\n",
    "    print(f\"Preprocessing metadata...\")\n",
    "    test_df = preprocess(test)\n",
    "    print(f\"Feature engineering...\")\n",
    "    test_df, cat_cols, cont_cols = feature_engineering(test_df)\n",
    "    \n",
    "    emb_szs = get_emb_szs(cat_cols)\n",
    "    \n",
    "    with open(path / f\"{model_name}_{version}_run_metadata.json\", \"r\") as f:\n",
    "        run_metadata = json.load(f)\n",
    "    pprint(run_metadata[\"params\"])\n",
    "    \n",
    "    image_size = run_metadata[\"params\"][\"image_size\"]\n",
    "    batch_size = run_metadata[\"params\"][\"val_batch_size\"]\n",
    "    use_meta = run_metadata[\"params\"][\"use_meta\"]\n",
    "    \n",
    "    test_dataset = ISICDataset(\n",
    "        test_df, test_images, augment=test_augment(image_size), \n",
    "        use_meta=use_meta,\n",
    "        cat_cols=cat_cols,\n",
    "        cont_cols=cont_cols,\n",
    "        infer=True\n",
    "    )\n",
    "    test_dataloader = DataLoader(\n",
    "        test_dataset,\n",
    "        batch_size=batch_size,\n",
    "        shuffle=False,\n",
    "        num_workers=4,\n",
    "        drop_last=False,\n",
    "        pin_memory=True,\n",
    "    )\n",
    "    \n",
    "    fold_column = \"fold\"\n",
    "    all_folds = np.unique(train[fold_column])\n",
    "#     all_folds = [1]\n",
    "    test_predictions_df = pd.DataFrame({id_column: test[id_column]})\n",
    "    for fold in all_folds:\n",
    "        print(f\"\\nFold {fold}\")\n",
    "        accelerator = Accelerator(\n",
    "            mixed_precision=run_metadata[\"params\"][\"mixed_precision\"],\n",
    "        )\n",
    "        \n",
    "        model = ISICNet(model_name=model_name, pretrained=False,\n",
    "                        use_meta=use_meta,\n",
    "                        cat_cols=cat_cols,\n",
    "                        cont_cols=cont_cols,\n",
    "                        emb_szs=emb_szs,)\n",
    "        model = model.to(accelerator.device)\n",
    "        \n",
    "        model, test_dataloader = accelerator.prepare(model, test_dataloader)\n",
    "        model_filepath = path / f\"models/fold_{fold}\"\n",
    "        accelerator.load_state(model_filepath)\n",
    "\n",
    "        test_predictions_df[f\"fold_{fold}\"] = predict(model, test_dataloader, accelerator, n_tta=run_metadata[\"params\"][\"n_tta\"], use_meta=use_meta)\n",
    "    test_predictions_df[target_column] = test_predictions_df[[f\"fold_{fold}\" for fold in all_folds]].mean(axis=1)\n",
    "    end_time = time.time()\n",
    "    return test_predictions_df[[id_column, target_column]], (end_time - start_time)"
   ]
  },
  {
   "cell_type": "code",
   "execution_count": 8,
   "id": "cfa85772",
   "metadata": {
    "execution": {
     "iopub.execute_input": "2024-08-20T04:05:50.571797Z",
     "iopub.status.busy": "2024-08-20T04:05:50.571527Z",
     "iopub.status.idle": "2024-08-20T04:05:57.108699Z",
     "shell.execute_reply": "2024-08-20T04:05:57.107397Z"
    },
    "papermill": {
     "duration": 6.544754,
     "end_time": "2024-08-20T04:05:57.110938",
     "exception": false,
     "start_time": "2024-08-20T04:05:50.566184",
     "status": "completed"
    },
    "tags": []
   },
   "outputs": [
    {
     "name": "stdout",
     "output_type": "stream",
     "text": [
      "Preprocessing metadata...\n",
      "Feature engineering...\n",
      "{'debug': False,\n",
      " 'down_sampling': True,\n",
      " 'image_size': 128,\n",
      " 'init_lr': 3e-05,\n",
      " 'mixed_precision': 'fp16',\n",
      " 'mode': 'pretrain',\n",
      " 'n_tta': 8,\n",
      " 'num_epochs': 20,\n",
      " 'num_workers': 8,\n",
      " 'seed': 2022,\n",
      " 'train_batch_size': 64,\n",
      " 'use_meta': True,\n",
      " 'val_batch_size': 512}\n",
      "\n",
      "Fold 1\n",
      "Step: 1/1\n",
      "\n",
      "Fold 2\n",
      "Step: 1/1\n",
      "\n",
      "Fold 3\n",
      "Step: 1/1\n",
      "\n",
      "Fold 4\n",
      "Step: 1/1\n",
      "\n",
      "Fold 5\n",
      "Step: 1/1\n"
     ]
    }
   ],
   "source": [
    "# if test_metadata.shape[0] == 3:\n",
    "#     test_preds_df, total_runtime = get_dnn_predictions(train_metadata, \n",
    "#                                                  train_metadata.sample(n=SAMPLE_SIZE, random_state=42), \n",
    "#                                                  train_images, \n",
    "#                                                  model_name, \n",
    "#                                                  version, \n",
    "#                                                  Path(path))\n",
    "# else:\n",
    "test_preds_df, total_runtime = get_dnn_predictions(train_metadata, \n",
    "                                             test_metadata, \n",
    "                                             test_images, \n",
    "                                             model_name, \n",
    "                                             version, \n",
    "                                             Path(path))"
   ]
  },
  {
   "cell_type": "code",
   "execution_count": 9,
   "id": "47d4bad6",
   "metadata": {
    "execution": {
     "iopub.execute_input": "2024-08-20T04:05:57.122494Z",
     "iopub.status.busy": "2024-08-20T04:05:57.122151Z",
     "iopub.status.idle": "2024-08-20T04:05:57.128027Z",
     "shell.execute_reply": "2024-08-20T04:05:57.127064Z"
    },
    "papermill": {
     "duration": 0.013826,
     "end_time": "2024-08-20T04:05:57.129887",
     "exception": false,
     "start_time": "2024-08-20T04:05:57.116061",
     "status": "completed"
    },
    "tags": []
   },
   "outputs": [
    {
     "name": "stdout",
     "output_type": "stream",
     "text": [
      "Expected total runtime during submission: 10 mins and 53.07035446166992 secs\n"
     ]
    }
   ],
   "source": [
    "factor = EXPECTED_TEST_SIZE / SAMPLE_SIZE\n",
    "expected_total_runtime = total_runtime * factor\n",
    "total_runtime_minutes = int(expected_total_runtime // 60)\n",
    "total_runtime_seconds = expected_total_runtime % 60\n",
    "print(f\"Expected total runtime during submission: {total_runtime_minutes} mins and {total_runtime_seconds} secs\")"
   ]
  },
  {
   "cell_type": "code",
   "execution_count": 10,
   "id": "4f756fad",
   "metadata": {
    "execution": {
     "iopub.execute_input": "2024-08-20T04:05:57.141258Z",
     "iopub.status.busy": "2024-08-20T04:05:57.140991Z",
     "iopub.status.idle": "2024-08-20T04:05:57.155022Z",
     "shell.execute_reply": "2024-08-20T04:05:57.154165Z"
    },
    "papermill": {
     "duration": 0.022013,
     "end_time": "2024-08-20T04:05:57.156883",
     "exception": false,
     "start_time": "2024-08-20T04:05:57.134870",
     "status": "completed"
    },
    "tags": []
   },
   "outputs": [
    {
     "data": {
      "text/html": [
       "<div>\n",
       "<style scoped>\n",
       "    .dataframe tbody tr th:only-of-type {\n",
       "        vertical-align: middle;\n",
       "    }\n",
       "\n",
       "    .dataframe tbody tr th {\n",
       "        vertical-align: top;\n",
       "    }\n",
       "\n",
       "    .dataframe thead th {\n",
       "        text-align: right;\n",
       "    }\n",
       "</style>\n",
       "<table border=\"1\" class=\"dataframe\">\n",
       "  <thead>\n",
       "    <tr style=\"text-align: right;\">\n",
       "      <th></th>\n",
       "      <th>isic_id</th>\n",
       "      <th>target</th>\n",
       "    </tr>\n",
       "  </thead>\n",
       "  <tbody>\n",
       "    <tr>\n",
       "      <th>0</th>\n",
       "      <td>ISIC_0015657</td>\n",
       "      <td>0.001010</td>\n",
       "    </tr>\n",
       "    <tr>\n",
       "      <th>1</th>\n",
       "      <td>ISIC_0015729</td>\n",
       "      <td>0.000061</td>\n",
       "    </tr>\n",
       "    <tr>\n",
       "      <th>2</th>\n",
       "      <td>ISIC_0015740</td>\n",
       "      <td>0.000125</td>\n",
       "    </tr>\n",
       "  </tbody>\n",
       "</table>\n",
       "</div>"
      ],
      "text/plain": [
       "        isic_id    target\n",
       "0  ISIC_0015657  0.001010\n",
       "1  ISIC_0015729  0.000061\n",
       "2  ISIC_0015740  0.000125"
      ]
     },
     "execution_count": 10,
     "metadata": {},
     "output_type": "execute_result"
    }
   ],
   "source": [
    "test_preds_df.head()"
   ]
  },
  {
   "cell_type": "code",
   "execution_count": 11,
   "id": "2f36ae98",
   "metadata": {
    "execution": {
     "iopub.execute_input": "2024-08-20T04:05:57.168169Z",
     "iopub.status.busy": "2024-08-20T04:05:57.167919Z",
     "iopub.status.idle": "2024-08-20T04:05:57.179397Z",
     "shell.execute_reply": "2024-08-20T04:05:57.178484Z"
    },
    "papermill": {
     "duration": 0.019341,
     "end_time": "2024-08-20T04:05:57.181388",
     "exception": false,
     "start_time": "2024-08-20T04:05:57.162047",
     "status": "completed"
    },
    "tags": []
   },
   "outputs": [
    {
     "data": {
      "text/plain": [
       "count    3.000000\n",
       "mean     0.000399\n",
       "std      0.000530\n",
       "min      0.000061\n",
       "25%      0.000093\n",
       "50%      0.000125\n",
       "75%      0.000567\n",
       "max      0.001010\n",
       "Name: target, dtype: float64"
      ]
     },
     "execution_count": 11,
     "metadata": {},
     "output_type": "execute_result"
    }
   ],
   "source": [
    "test_preds_df[target_column].describe()"
   ]
  },
  {
   "cell_type": "code",
   "execution_count": 12,
   "id": "ff07d3c9",
   "metadata": {
    "execution": {
     "iopub.execute_input": "2024-08-20T04:05:57.193667Z",
     "iopub.status.busy": "2024-08-20T04:05:57.193397Z",
     "iopub.status.idle": "2024-08-20T04:05:57.202828Z",
     "shell.execute_reply": "2024-08-20T04:05:57.201799Z"
    },
    "papermill": {
     "duration": 0.017854,
     "end_time": "2024-08-20T04:05:57.204657",
     "exception": false,
     "start_time": "2024-08-20T04:05:57.186803",
     "status": "completed"
    },
    "tags": []
   },
   "outputs": [
    {
     "data": {
      "text/html": [
       "<div>\n",
       "<style scoped>\n",
       "    .dataframe tbody tr th:only-of-type {\n",
       "        vertical-align: middle;\n",
       "    }\n",
       "\n",
       "    .dataframe tbody tr th {\n",
       "        vertical-align: top;\n",
       "    }\n",
       "\n",
       "    .dataframe thead th {\n",
       "        text-align: right;\n",
       "    }\n",
       "</style>\n",
       "<table border=\"1\" class=\"dataframe\">\n",
       "  <thead>\n",
       "    <tr style=\"text-align: right;\">\n",
       "      <th></th>\n",
       "      <th>isic_id</th>\n",
       "      <th>target</th>\n",
       "    </tr>\n",
       "  </thead>\n",
       "  <tbody>\n",
       "    <tr>\n",
       "      <th>0</th>\n",
       "      <td>ISIC_0015657</td>\n",
       "      <td>0.001010</td>\n",
       "    </tr>\n",
       "    <tr>\n",
       "      <th>1</th>\n",
       "      <td>ISIC_0015729</td>\n",
       "      <td>0.000061</td>\n",
       "    </tr>\n",
       "    <tr>\n",
       "      <th>2</th>\n",
       "      <td>ISIC_0015740</td>\n",
       "      <td>0.000125</td>\n",
       "    </tr>\n",
       "  </tbody>\n",
       "</table>\n",
       "</div>"
      ],
      "text/plain": [
       "        isic_id    target\n",
       "0  ISIC_0015657  0.001010\n",
       "1  ISIC_0015729  0.000061\n",
       "2  ISIC_0015740  0.000125"
      ]
     },
     "execution_count": 12,
     "metadata": {},
     "output_type": "execute_result"
    }
   ],
   "source": [
    "test_preds_df[[id_column, target_column]].head()"
   ]
  },
  {
   "cell_type": "code",
   "execution_count": 13,
   "id": "7d80e8c2",
   "metadata": {
    "execution": {
     "iopub.execute_input": "2024-08-20T04:05:57.216667Z",
     "iopub.status.busy": "2024-08-20T04:05:57.216401Z",
     "iopub.status.idle": "2024-08-20T04:05:57.222919Z",
     "shell.execute_reply": "2024-08-20T04:05:57.222197Z"
    },
    "papermill": {
     "duration": 0.014887,
     "end_time": "2024-08-20T04:05:57.224988",
     "exception": false,
     "start_time": "2024-08-20T04:05:57.210101",
     "status": "completed"
    },
    "tags": []
   },
   "outputs": [],
   "source": [
    "test_preds_df[[id_column, target_column]].to_csv(\"submission.csv\", index=False)"
   ]
  },
  {
   "cell_type": "code",
   "execution_count": null,
   "id": "7446d46f",
   "metadata": {
    "papermill": {
     "duration": 0.006512,
     "end_time": "2024-08-20T04:05:57.237210",
     "exception": false,
     "start_time": "2024-08-20T04:05:57.230698",
     "status": "completed"
    },
    "tags": []
   },
   "outputs": [],
   "source": []
  }
 ],
 "metadata": {
  "kaggle": {
   "accelerator": "gpu",
   "dataSources": [
    {
     "databundleVersionId": 9094797,
     "sourceId": 63056,
     "sourceType": "competition"
    },
    {
     "datasetId": 5554293,
     "sourceId": 9206970,
     "sourceType": "datasetVersion"
    },
    {
     "sourceId": 187477024,
     "sourceType": "kernelVersion"
    },
    {
     "sourceId": 193130710,
     "sourceType": "kernelVersion"
    }
   ],
   "dockerImageVersionId": 30733,
   "isGpuEnabled": true,
   "isInternetEnabled": false,
   "language": "python",
   "sourceType": "notebook"
  },
  "kernelspec": {
   "display_name": "Python 3",
   "language": "python",
   "name": "python3"
  },
  "language_info": {
   "codemirror_mode": {
    "name": "ipython",
    "version": 3
   },
   "file_extension": ".py",
   "mimetype": "text/x-python",
   "name": "python",
   "nbconvert_exporter": "python",
   "pygments_lexer": "ipython3",
   "version": "3.10.13"
  },
  "papermill": {
   "default_parameters": {},
   "duration": 31.207717,
   "end_time": "2024-08-20T04:06:00.037896",
   "environment_variables": {},
   "exception": null,
   "input_path": "__notebook__.ipynb",
   "output_path": "__notebook__.ipynb",
   "parameters": {},
   "start_time": "2024-08-20T04:05:28.830179",
   "version": "2.5.0"
  }
 },
 "nbformat": 4,
 "nbformat_minor": 5
}
