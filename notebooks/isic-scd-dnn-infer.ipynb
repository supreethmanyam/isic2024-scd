{
 "cells": [
  {
   "cell_type": "code",
   "execution_count": 1,
   "id": "8afb895a",
   "metadata": {
    "_cell_guid": "b1076dfc-b9ad-4769-8c92-a6c4dae69d19",
    "_uuid": "8f2839f25d086af736a60e9eeb907d3b93b6e0e5",
    "execution": {
     "iopub.execute_input": "2024-08-17T01:52:55.000365Z",
     "iopub.status.busy": "2024-08-17T01:52:54.999962Z",
     "iopub.status.idle": "2024-08-17T01:53:02.361044Z",
     "shell.execute_reply": "2024-08-17T01:53:02.360058Z"
    },
    "papermill": {
     "duration": 7.369883,
     "end_time": "2024-08-17T01:53:02.363418",
     "exception": false,
     "start_time": "2024-08-17T01:52:54.993535",
     "status": "completed"
    },
    "tags": []
   },
   "outputs": [],
   "source": [
    "import time\n",
    "import json\n",
    "from pathlib import Path\n",
    "from pprint import pprint\n",
    "\n",
    "import h5py\n",
    "import numpy as np\n",
    "import pandas as pd\n",
    "\n",
    "from torch.utils.data import DataLoader\n",
    "from accelerate import Accelerator\n",
    "\n",
    "from isic_helper import get_folds"
   ]
  },
  {
   "cell_type": "code",
   "execution_count": 2,
   "id": "f419dd8e",
   "metadata": {
    "execution": {
     "iopub.execute_input": "2024-08-17T01:53:02.374452Z",
     "iopub.status.busy": "2024-08-17T01:53:02.373541Z",
     "iopub.status.idle": "2024-08-17T01:53:02.378363Z",
     "shell.execute_reply": "2024-08-17T01:53:02.377495Z"
    },
    "papermill": {
     "duration": 0.012093,
     "end_time": "2024-08-17T01:53:02.380321",
     "exception": false,
     "start_time": "2024-08-17T01:53:02.368228",
     "status": "completed"
    },
    "tags": []
   },
   "outputs": [],
   "source": [
    "model_name = \"efficientnet_b1\"\n",
    "version = \"v1\"\n",
    "mode = \"pretrain\"\n",
    "path = f\"/kaggle/input/isic-scd-{model_name.replace('_', '-')}-{version}-{mode}\"\n",
    "\n",
    "SAMPLE_SIZE = 5000\n",
    "EXPECTED_TEST_SIZE = 500000"
   ]
  },
  {
   "cell_type": "code",
   "execution_count": 3,
   "id": "cddc33f4",
   "metadata": {
    "execution": {
     "iopub.execute_input": "2024-08-17T01:53:02.390046Z",
     "iopub.status.busy": "2024-08-17T01:53:02.389779Z",
     "iopub.status.idle": "2024-08-17T01:53:02.393564Z",
     "shell.execute_reply": "2024-08-17T01:53:02.392757Z"
    },
    "papermill": {
     "duration": 0.010798,
     "end_time": "2024-08-17T01:53:02.395443",
     "exception": false,
     "start_time": "2024-08-17T01:53:02.384645",
     "status": "completed"
    },
    "tags": []
   },
   "outputs": [],
   "source": [
    "import sys\n",
    "sys.path.append(path)"
   ]
  },
  {
   "cell_type": "code",
   "execution_count": 4,
   "id": "01eda0de",
   "metadata": {
    "execution": {
     "iopub.execute_input": "2024-08-17T01:53:02.405610Z",
     "iopub.status.busy": "2024-08-17T01:53:02.405079Z",
     "iopub.status.idle": "2024-08-17T01:53:04.335397Z",
     "shell.execute_reply": "2024-08-17T01:53:04.334448Z"
    },
    "papermill": {
     "duration": 1.937638,
     "end_time": "2024-08-17T01:53:04.337734",
     "exception": false,
     "start_time": "2024-08-17T01:53:02.400096",
     "status": "completed"
    },
    "tags": []
   },
   "outputs": [],
   "source": [
    "from dataset import test_augment, ISICDataset\n",
    "from models import ISICNet\n",
    "from engine import predict"
   ]
  },
  {
   "cell_type": "code",
   "execution_count": 5,
   "id": "47a1b874",
   "metadata": {
    "execution": {
     "iopub.execute_input": "2024-08-17T01:53:04.348439Z",
     "iopub.status.busy": "2024-08-17T01:53:04.347721Z",
     "iopub.status.idle": "2024-08-17T01:53:04.351760Z",
     "shell.execute_reply": "2024-08-17T01:53:04.350935Z"
    },
    "papermill": {
     "duration": 0.011253,
     "end_time": "2024-08-17T01:53:04.353683",
     "exception": false,
     "start_time": "2024-08-17T01:53:04.342430",
     "status": "completed"
    },
    "tags": []
   },
   "outputs": [],
   "source": [
    "id_column = \"isic_id\"\n",
    "target_column = \"target\"\n",
    "group_column = \"patient_id\""
   ]
  },
  {
   "cell_type": "code",
   "execution_count": 6,
   "id": "922ae7c2",
   "metadata": {
    "execution": {
     "iopub.execute_input": "2024-08-17T01:53:04.363992Z",
     "iopub.status.busy": "2024-08-17T01:53:04.363337Z",
     "iopub.status.idle": "2024-08-17T01:53:13.890610Z",
     "shell.execute_reply": "2024-08-17T01:53:13.889610Z"
    },
    "papermill": {
     "duration": 9.534781,
     "end_time": "2024-08-17T01:53:13.892872",
     "exception": false,
     "start_time": "2024-08-17T01:53:04.358091",
     "status": "completed"
    },
    "tags": []
   },
   "outputs": [
    {
     "name": "stdout",
     "output_type": "stream",
     "text": [
      "Train data size: (401059, 58)\n",
      "Test data size: (3, 44)\n"
     ]
    }
   ],
   "source": [
    "INPUT_PATH = Path(\"../input/isic-2024-challenge/\")\n",
    "\n",
    "train_metadata = pd.read_csv(INPUT_PATH / \"train-metadata.csv\", low_memory=False)\n",
    "test_metadata = pd.read_csv(INPUT_PATH / \"test-metadata.csv\")\n",
    "\n",
    "folds_df = get_folds()\n",
    "train_metadata = train_metadata.merge(folds_df, on=[\"isic_id\", \"patient_id\"], how=\"inner\")\n",
    "print(f\"Train data size: {train_metadata.shape}\")\n",
    "print(f\"Test data size: {test_metadata.shape}\")\n",
    "\n",
    "train_images = h5py.File(INPUT_PATH / \"train-image.hdf5\", mode=\"r\")\n",
    "test_images = h5py.File(INPUT_PATH / \"test-image.hdf5\", mode=\"r\")"
   ]
  },
  {
   "cell_type": "code",
   "execution_count": 7,
   "id": "bae08510",
   "metadata": {
    "execution": {
     "iopub.execute_input": "2024-08-17T01:53:13.903578Z",
     "iopub.status.busy": "2024-08-17T01:53:13.902964Z",
     "iopub.status.idle": "2024-08-17T01:53:13.915037Z",
     "shell.execute_reply": "2024-08-17T01:53:13.914197Z"
    },
    "papermill": {
     "duration": 0.019324,
     "end_time": "2024-08-17T01:53:13.916879",
     "exception": false,
     "start_time": "2024-08-17T01:53:13.897555",
     "status": "completed"
    },
    "tags": []
   },
   "outputs": [],
   "source": [
    "def get_dnn_predictions(train, test, test_images, model_name, version, path):\n",
    "    start_time = time.time()\n",
    "    test_df = test[[id_column]].copy()\n",
    "    with open(path / f\"{model_name}_{version}_run_metadata.json\", \"r\") as f:\n",
    "        run_metadata = json.load(f)\n",
    "    pprint(run_metadata[\"params\"])\n",
    "    \n",
    "    image_size = run_metadata[\"params\"][\"image_size\"]\n",
    "    batch_size = run_metadata[\"params\"][\"val_batch_size\"]\n",
    "    fold_method = run_metadata[\"params\"][\"fold_method\"]\n",
    "    \n",
    "    test_dataset = ISICDataset(\n",
    "        test_df, test_images, augment=test_augment(image_size), infer=True\n",
    "    )\n",
    "    test_dataloader = DataLoader(\n",
    "        test_dataset,\n",
    "        batch_size=batch_size,\n",
    "        shuffle=False,\n",
    "        num_workers=4,\n",
    "        drop_last=False,\n",
    "        pin_memory=True,\n",
    "    )\n",
    "    \n",
    "    if fold_method == \"gkf\":\n",
    "        print(\"Using GroupKFold\")\n",
    "        fold_column = \"gkf_fold\"\n",
    "    elif fold_method == \"sgkf\":\n",
    "        print(\"Using StratifiedGroupKFold\")\n",
    "        fold_column = \"sgkf_fold\"\n",
    "    else:\n",
    "        raise ValueError(f\"Fold method {fold_method} not supported\")\n",
    "    \n",
    "    all_folds = np.unique(train[fold_column])\n",
    "#     all_folds = [1]\n",
    "    test_predictions_df = pd.DataFrame({id_column: test[id_column]})\n",
    "    for fold in all_folds:\n",
    "        if fold < 0:\n",
    "            continue\n",
    "        print(f\"\\nFold {fold}\")\n",
    "        accelerator = Accelerator(\n",
    "            mixed_precision=run_metadata[\"params\"][\"mixed_precision\"],\n",
    "        )\n",
    "        \n",
    "        model = ISICNet(model_name=model_name, pretrained=False)\n",
    "        model = model.to(accelerator.device)\n",
    "        \n",
    "        model, test_dataloader = accelerator.prepare(model, test_dataloader)\n",
    "        model_filepath = path / f\"models/fold_{fold}\"\n",
    "        accelerator.load_state(model_filepath)\n",
    "\n",
    "        test_predictions_df[f\"fold_{fold}\"] = predict(model, test_dataloader, accelerator, n_tta=run_metadata[\"params\"][\"n_tta\"])\n",
    "    test_predictions_df[target_column] = test_predictions_df[[f\"fold_{fold}\" for fold in all_folds if fold > 0]].mean(axis=1)\n",
    "    end_time = time.time()\n",
    "    return test_predictions_df[[id_column, target_column]], (end_time - start_time)"
   ]
  },
  {
   "cell_type": "code",
   "execution_count": 8,
   "id": "72c1fbe3",
   "metadata": {
    "execution": {
     "iopub.execute_input": "2024-08-17T01:53:13.927262Z",
     "iopub.status.busy": "2024-08-17T01:53:13.926513Z",
     "iopub.status.idle": "2024-08-17T01:53:54.932561Z",
     "shell.execute_reply": "2024-08-17T01:53:54.931399Z"
    },
    "papermill": {
     "duration": 41.013527,
     "end_time": "2024-08-17T01:53:54.934812",
     "exception": false,
     "start_time": "2024-08-17T01:53:13.921285",
     "status": "completed"
    },
    "tags": []
   },
   "outputs": [
    {
     "name": "stdout",
     "output_type": "stream",
     "text": [
      "{'debug': False,\n",
      " 'down_sampling': True,\n",
      " 'fold_method': 'gkf',\n",
      " 'image_size': 64,\n",
      " 'init_lr': 3e-05,\n",
      " 'mixed_precision': 'fp16',\n",
      " 'mode': 'pretrain',\n",
      " 'n_tta': 8,\n",
      " 'num_epochs': 20,\n",
      " 'num_workers': 8,\n",
      " 'seed': 2022,\n",
      " 'train_batch_size': 64,\n",
      " 'use_meta': True,\n",
      " 'val_batch_size': 512}\n",
      "Using GroupKFold\n",
      "\n",
      "Fold 1\n",
      "Step: 1/10\n",
      "Step: 10/10\n",
      "\n",
      "Fold 2\n",
      "Step: 1/10\n",
      "Step: 10/10\n",
      "\n",
      "Fold 3\n",
      "Step: 1/10\n",
      "Step: 10/10\n",
      "\n",
      "Fold 4\n",
      "Step: 1/10\n",
      "Step: 10/10\n",
      "\n",
      "Fold 5\n",
      "Step: 1/10\n",
      "Step: 10/10\n"
     ]
    }
   ],
   "source": [
    "if test_metadata.shape[0] == 3:\n",
    "    test_preds_df, total_runtime = get_dnn_predictions(train_metadata, \n",
    "                                                 train_metadata.sample(n=SAMPLE_SIZE, random_state=42), \n",
    "                                                 train_images, \n",
    "                                                 model_name, \n",
    "                                                 version, \n",
    "                                                 Path(path))\n",
    "else:\n",
    "    test_preds_df, total_runtime = get_dnn_predictions(train_metadata, \n",
    "                                                 test_metadata, \n",
    "                                                 test_images, \n",
    "                                                 model_name, \n",
    "                                                 version, \n",
    "                                                 Path(path))"
   ]
  },
  {
   "cell_type": "code",
   "execution_count": 9,
   "id": "9f2bc757",
   "metadata": {
    "execution": {
     "iopub.execute_input": "2024-08-17T01:53:54.947299Z",
     "iopub.status.busy": "2024-08-17T01:53:54.946952Z",
     "iopub.status.idle": "2024-08-17T01:53:54.952767Z",
     "shell.execute_reply": "2024-08-17T01:53:54.951836Z"
    },
    "papermill": {
     "duration": 0.014323,
     "end_time": "2024-08-17T01:53:54.954700",
     "exception": false,
     "start_time": "2024-08-17T01:53:54.940377",
     "status": "completed"
    },
    "tags": []
   },
   "outputs": [
    {
     "name": "stdout",
     "output_type": "stream",
     "text": [
      "Expected total runtime during submission: 68 mins and 16.86408042907715 secs\n"
     ]
    }
   ],
   "source": [
    "factor = EXPECTED_TEST_SIZE / SAMPLE_SIZE\n",
    "expected_total_runtime = total_runtime * factor\n",
    "total_runtime_minutes = int(expected_total_runtime // 60)\n",
    "total_runtime_seconds = expected_total_runtime % 60\n",
    "print(f\"Expected total runtime during submission: {total_runtime_minutes} mins and {total_runtime_seconds} secs\")"
   ]
  },
  {
   "cell_type": "code",
   "execution_count": 10,
   "id": "6b222d7a",
   "metadata": {
    "execution": {
     "iopub.execute_input": "2024-08-17T01:53:54.966562Z",
     "iopub.status.busy": "2024-08-17T01:53:54.966287Z",
     "iopub.status.idle": "2024-08-17T01:53:54.980335Z",
     "shell.execute_reply": "2024-08-17T01:53:54.979495Z"
    },
    "papermill": {
     "duration": 0.022082,
     "end_time": "2024-08-17T01:53:54.982208",
     "exception": false,
     "start_time": "2024-08-17T01:53:54.960126",
     "status": "completed"
    },
    "tags": []
   },
   "outputs": [
    {
     "data": {
      "text/html": [
       "<div>\n",
       "<style scoped>\n",
       "    .dataframe tbody tr th:only-of-type {\n",
       "        vertical-align: middle;\n",
       "    }\n",
       "\n",
       "    .dataframe tbody tr th {\n",
       "        vertical-align: top;\n",
       "    }\n",
       "\n",
       "    .dataframe thead th {\n",
       "        text-align: right;\n",
       "    }\n",
       "</style>\n",
       "<table border=\"1\" class=\"dataframe\">\n",
       "  <thead>\n",
       "    <tr style=\"text-align: right;\">\n",
       "      <th></th>\n",
       "      <th>isic_id</th>\n",
       "      <th>target</th>\n",
       "    </tr>\n",
       "  </thead>\n",
       "  <tbody>\n",
       "    <tr>\n",
       "      <th>278442</th>\n",
       "      <td>ISIC_6973879</td>\n",
       "      <td>0.001072</td>\n",
       "    </tr>\n",
       "    <tr>\n",
       "      <th>215021</th>\n",
       "      <td>ISIC_5407194</td>\n",
       "      <td>0.000046</td>\n",
       "    </tr>\n",
       "    <tr>\n",
       "      <th>209685</th>\n",
       "      <td>ISIC_5273739</td>\n",
       "      <td>0.030343</td>\n",
       "    </tr>\n",
       "    <tr>\n",
       "      <th>29648</th>\n",
       "      <td>ISIC_0802250</td>\n",
       "      <td>0.000876</td>\n",
       "    </tr>\n",
       "    <tr>\n",
       "      <th>323386</th>\n",
       "      <td>ISIC_8084953</td>\n",
       "      <td>0.006642</td>\n",
       "    </tr>\n",
       "  </tbody>\n",
       "</table>\n",
       "</div>"
      ],
      "text/plain": [
       "             isic_id    target\n",
       "278442  ISIC_6973879  0.001072\n",
       "215021  ISIC_5407194  0.000046\n",
       "209685  ISIC_5273739  0.030343\n",
       "29648   ISIC_0802250  0.000876\n",
       "323386  ISIC_8084953  0.006642"
      ]
     },
     "execution_count": 10,
     "metadata": {},
     "output_type": "execute_result"
    }
   ],
   "source": [
    "test_preds_df.head()"
   ]
  },
  {
   "cell_type": "code",
   "execution_count": 11,
   "id": "69c6a9b8",
   "metadata": {
    "execution": {
     "iopub.execute_input": "2024-08-17T01:53:54.994666Z",
     "iopub.status.busy": "2024-08-17T01:53:54.994392Z",
     "iopub.status.idle": "2024-08-17T01:53:55.006804Z",
     "shell.execute_reply": "2024-08-17T01:53:55.005958Z"
    },
    "papermill": {
     "duration": 0.020905,
     "end_time": "2024-08-17T01:53:55.008765",
     "exception": false,
     "start_time": "2024-08-17T01:53:54.987860",
     "status": "completed"
    },
    "tags": []
   },
   "outputs": [
    {
     "data": {
      "text/plain": [
       "count    5000.000000\n",
       "mean        0.011432\n",
       "std         0.031355\n",
       "min         0.000011\n",
       "25%         0.000612\n",
       "50%         0.001863\n",
       "75%         0.007372\n",
       "max         0.463591\n",
       "Name: target, dtype: float64"
      ]
     },
     "execution_count": 11,
     "metadata": {},
     "output_type": "execute_result"
    }
   ],
   "source": [
    "test_preds_df[target_column].describe()"
   ]
  },
  {
   "cell_type": "code",
   "execution_count": 12,
   "id": "528c485b",
   "metadata": {
    "execution": {
     "iopub.execute_input": "2024-08-17T01:53:55.021198Z",
     "iopub.status.busy": "2024-08-17T01:53:55.020913Z",
     "iopub.status.idle": "2024-08-17T01:53:55.030385Z",
     "shell.execute_reply": "2024-08-17T01:53:55.029543Z"
    },
    "papermill": {
     "duration": 0.017875,
     "end_time": "2024-08-17T01:53:55.032364",
     "exception": false,
     "start_time": "2024-08-17T01:53:55.014489",
     "status": "completed"
    },
    "tags": []
   },
   "outputs": [
    {
     "data": {
      "text/html": [
       "<div>\n",
       "<style scoped>\n",
       "    .dataframe tbody tr th:only-of-type {\n",
       "        vertical-align: middle;\n",
       "    }\n",
       "\n",
       "    .dataframe tbody tr th {\n",
       "        vertical-align: top;\n",
       "    }\n",
       "\n",
       "    .dataframe thead th {\n",
       "        text-align: right;\n",
       "    }\n",
       "</style>\n",
       "<table border=\"1\" class=\"dataframe\">\n",
       "  <thead>\n",
       "    <tr style=\"text-align: right;\">\n",
       "      <th></th>\n",
       "      <th>isic_id</th>\n",
       "      <th>target</th>\n",
       "    </tr>\n",
       "  </thead>\n",
       "  <tbody>\n",
       "    <tr>\n",
       "      <th>278442</th>\n",
       "      <td>ISIC_6973879</td>\n",
       "      <td>0.001072</td>\n",
       "    </tr>\n",
       "    <tr>\n",
       "      <th>215021</th>\n",
       "      <td>ISIC_5407194</td>\n",
       "      <td>0.000046</td>\n",
       "    </tr>\n",
       "    <tr>\n",
       "      <th>209685</th>\n",
       "      <td>ISIC_5273739</td>\n",
       "      <td>0.030343</td>\n",
       "    </tr>\n",
       "    <tr>\n",
       "      <th>29648</th>\n",
       "      <td>ISIC_0802250</td>\n",
       "      <td>0.000876</td>\n",
       "    </tr>\n",
       "    <tr>\n",
       "      <th>323386</th>\n",
       "      <td>ISIC_8084953</td>\n",
       "      <td>0.006642</td>\n",
       "    </tr>\n",
       "  </tbody>\n",
       "</table>\n",
       "</div>"
      ],
      "text/plain": [
       "             isic_id    target\n",
       "278442  ISIC_6973879  0.001072\n",
       "215021  ISIC_5407194  0.000046\n",
       "209685  ISIC_5273739  0.030343\n",
       "29648   ISIC_0802250  0.000876\n",
       "323386  ISIC_8084953  0.006642"
      ]
     },
     "execution_count": 12,
     "metadata": {},
     "output_type": "execute_result"
    }
   ],
   "source": [
    "test_preds_df[[id_column, target_column]].head()"
   ]
  },
  {
   "cell_type": "code",
   "execution_count": 13,
   "id": "fa6d6c94",
   "metadata": {
    "execution": {
     "iopub.execute_input": "2024-08-17T01:53:55.046126Z",
     "iopub.status.busy": "2024-08-17T01:53:55.045830Z",
     "iopub.status.idle": "2024-08-17T01:53:55.066502Z",
     "shell.execute_reply": "2024-08-17T01:53:55.065810Z"
    },
    "papermill": {
     "duration": 0.030195,
     "end_time": "2024-08-17T01:53:55.068459",
     "exception": false,
     "start_time": "2024-08-17T01:53:55.038264",
     "status": "completed"
    },
    "tags": []
   },
   "outputs": [],
   "source": [
    "test_preds_df[[id_column, target_column]].to_csv(\"submission.csv\", index=False)"
   ]
  },
  {
   "cell_type": "code",
   "execution_count": null,
   "id": "80710308",
   "metadata": {
    "papermill": {
     "duration": 0.005982,
     "end_time": "2024-08-17T01:53:55.080920",
     "exception": false,
     "start_time": "2024-08-17T01:53:55.074938",
     "status": "completed"
    },
    "tags": []
   },
   "outputs": [],
   "source": []
  }
 ],
 "metadata": {
  "kaggle": {
   "accelerator": "gpu",
   "dataSources": [
    {
     "databundleVersionId": 9094797,
     "sourceId": 63056,
     "sourceType": "competition"
    },
    {
     "datasetId": 5543937,
     "sourceId": 9188718,
     "sourceType": "datasetVersion"
    },
    {
     "sourceId": 187477024,
     "sourceType": "kernelVersion"
    },
    {
     "sourceId": 192814855,
     "sourceType": "kernelVersion"
    }
   ],
   "dockerImageVersionId": 30733,
   "isGpuEnabled": true,
   "isInternetEnabled": false,
   "language": "python",
   "sourceType": "notebook"
  },
  "kernelspec": {
   "display_name": "Python 3",
   "language": "python",
   "name": "python3"
  },
  "language_info": {
   "codemirror_mode": {
    "name": "ipython",
    "version": 3
   },
   "file_extension": ".py",
   "mimetype": "text/x-python",
   "name": "python",
   "nbconvert_exporter": "python",
   "pygments_lexer": "ipython3",
   "version": "3.10.13"
  },
  "papermill": {
   "default_parameters": {},
   "duration": 65.216778,
   "end_time": "2024-08-17T01:53:57.423208",
   "environment_variables": {},
   "exception": null,
   "input_path": "__notebook__.ipynb",
   "output_path": "__notebook__.ipynb",
   "parameters": {},
   "start_time": "2024-08-17T01:52:52.206430",
   "version": "2.5.0"
  }
 },
 "nbformat": 4,
 "nbformat_minor": 5
}
