{
 "cells": [
  {
   "cell_type": "code",
   "execution_count": 1,
   "id": "3d8ef7b8",
   "metadata": {
    "_cell_guid": "b1076dfc-b9ad-4769-8c92-a6c4dae69d19",
    "_uuid": "8f2839f25d086af736a60e9eeb907d3b93b6e0e5",
    "execution": {
     "iopub.execute_input": "2024-08-01T18:16:16.021898Z",
     "iopub.status.busy": "2024-08-01T18:16:16.021036Z",
     "iopub.status.idle": "2024-08-01T18:16:24.935320Z",
     "shell.execute_reply": "2024-08-01T18:16:24.934378Z"
    },
    "papermill": {
     "duration": 8.923186,
     "end_time": "2024-08-01T18:16:24.937735",
     "exception": false,
     "start_time": "2024-08-01T18:16:16.014549",
     "status": "completed"
    },
    "tags": []
   },
   "outputs": [],
   "source": [
    "import json\n",
    "import joblib\n",
    "from tqdm import tqdm\n",
    "from pathlib import Path\n",
    "\n",
    "import pandas as pd\n",
    "import numpy as np\n",
    "\n",
    "import h5py\n",
    "from io import BytesIO\n",
    "from PIL import Image\n",
    "\n",
    "import torch\n",
    "from torch.utils.data import DataLoader, Dataset\n",
    "import torch.nn as nn\n",
    "import torch.nn.functional as F\n",
    "\n",
    "from timm import create_model\n",
    "\n",
    "import albumentations as A\n",
    "from albumentations.pytorch import ToTensorV2\n",
    "\n",
    "from accelerate import Accelerator\n",
    "\n",
    "from isic_helper import DotDict, get_folds"
   ]
  },
  {
   "cell_type": "code",
   "execution_count": 2,
   "id": "3ecf56e1",
   "metadata": {
    "execution": {
     "iopub.execute_input": "2024-08-01T18:16:24.948424Z",
     "iopub.status.busy": "2024-08-01T18:16:24.947927Z",
     "iopub.status.idle": "2024-08-01T18:16:24.953224Z",
     "shell.execute_reply": "2024-08-01T18:16:24.952546Z"
    },
    "papermill": {
     "duration": 0.01244,
     "end_time": "2024-08-01T18:16:24.955086",
     "exception": false,
     "start_time": "2024-08-01T18:16:24.942646",
     "status": "completed"
    },
    "tags": []
   },
   "outputs": [],
   "source": [
    "model_name = \"resnet18\"\n",
    "version = \"v5\"\n",
    "path = f\"/kaggle/input/isic-scd-{model_name.replace('_', '-')}-{version}-train\""
   ]
  },
  {
   "cell_type": "code",
   "execution_count": 3,
   "id": "8a634092",
   "metadata": {
    "execution": {
     "iopub.execute_input": "2024-08-01T18:16:24.964753Z",
     "iopub.status.busy": "2024-08-01T18:16:24.964496Z",
     "iopub.status.idle": "2024-08-01T18:16:24.968302Z",
     "shell.execute_reply": "2024-08-01T18:16:24.967557Z"
    },
    "papermill": {
     "duration": 0.01074,
     "end_time": "2024-08-01T18:16:24.970159",
     "exception": false,
     "start_time": "2024-08-01T18:16:24.959419",
     "status": "completed"
    },
    "tags": []
   },
   "outputs": [],
   "source": [
    "id_column = \"isic_id\"\n",
    "target_column = \"target\"\n",
    "group_column = \"patient_id\""
   ]
  },
  {
   "cell_type": "code",
   "execution_count": 4,
   "id": "2b7edbe5",
   "metadata": {
    "execution": {
     "iopub.execute_input": "2024-08-01T18:16:24.980202Z",
     "iopub.status.busy": "2024-08-01T18:16:24.979758Z",
     "iopub.status.idle": "2024-08-01T18:16:24.989534Z",
     "shell.execute_reply": "2024-08-01T18:16:24.988695Z"
    },
    "papermill": {
     "duration": 0.016909,
     "end_time": "2024-08-01T18:16:24.991456",
     "exception": false,
     "start_time": "2024-08-01T18:16:24.974547",
     "status": "completed"
    },
    "tags": []
   },
   "outputs": [],
   "source": [
    "label_mapping = {\n",
    "    \"2024\": {\n",
    "        \"Hidradenoma\": \"unknown\",\n",
    "        \"Lichen planus like keratosis\": \"BKL\",\n",
    "        \"Pigmented benign keratosis\": \"BKL\",\n",
    "        \"Seborrheic keratosis\": \"BKL\",\n",
    "        \"Solar lentigo\": \"BKL\",\n",
    "        \"Nevus\": \"NV\",\n",
    "        \"Angiofibroma\": \"unknown\",\n",
    "        \"Dermatofibroma\": \"DF\",\n",
    "        \"Fibroepithelial polyp\": \"unknown\",\n",
    "        \"Scar\": \"unknown\",\n",
    "        \"Hemangioma\": \"unknown\",\n",
    "        \"Trichilemmal or isthmic-catagen or pilar cyst\": \"unknown\",\n",
    "        \"Lentigo NOS\": \"BKL\",\n",
    "        \"Verruca\": \"unknown\",\n",
    "        \"Solar or actinic keratosis\": \"AKIEC\",\n",
    "        \"Atypical intraepithelial melanocytic proliferation\": \"unknown\",\n",
    "        \"Atypical melanocytic neoplasm\": \"unknown\",\n",
    "        \"Basal cell carcinoma\": \"BCC\",\n",
    "        \"Squamous cell carcinoma in situ\": \"SCC\",\n",
    "        \"Squamous cell carcinoma, Invasive\": \"SCC\",\n",
    "        \"Squamous cell carcinoma, NOS\": \"SCC\",\n",
    "        \"Melanoma in situ\": \"MEL\",\n",
    "        \"Melanoma Invasive\": \"MEL\",\n",
    "        \"Melanoma metastasis\": \"MEL\",\n",
    "        \"Melanoma, NOS\": \"MEL\"\n",
    "    },\n",
    "    \"2020\": {\n",
    "        \"nevus\": \"NV\",\n",
    "        \"melanoma\": \"MEL\",\n",
    "        \"seborrheic keratosis\": \"BKL\",\n",
    "        \"lentigo NOS\": \"BKL\",\n",
    "        \"lichenoid keratosis\": \"BKL\",\n",
    "        \"other\": \"unknown\",\n",
    "        \"solar lentigo\": \"BKL\",\n",
    "        \"scar\": \"unknown\",\n",
    "        \"cafe-au-lait macule\": \"unknown\",\n",
    "        \"atypical melanocytic proliferation\": \"unknown\",\n",
    "        \"pigmented benign keratosis\": \"BKL\"\n",
    "    },\n",
    "    \"2019\": {\n",
    "        \"nevus\": \"NV\",\n",
    "        \"melanoma\": \"MEL\",\n",
    "        \"seborrheic keratosis\": \"BKL\",\n",
    "        \"pigmented benign keratosis\": \"BKL\",\n",
    "        \"dermatofibroma\": \"DF\",\n",
    "        \"squamous cell carcinoma\": \"SCC\",\n",
    "        \"basal cell carcinoma\": \"BCC\",\n",
    "        \"vascular lesion\": \"VASC\",\n",
    "        \"actinic keratosis\": \"AKIEC\",\n",
    "        \"solar lentigo\": \"BKL\",\n",
    "    },\n",
    "}\n",
    "\n",
    "\n",
    "all_labels = np.unique(list(label_mapping[\"2024\"].values()) +\n",
    "                       list(label_mapping[\"2020\"].values()) +\n",
    "                       list(label_mapping[\"2019\"].values()))\n",
    "label2idx = {label: idx for idx, label in enumerate(all_labels)}\n",
    "malignant_labels = [\"BCC\", \"MEL\", \"SCC\"]\n",
    "malignant_idx = [label2idx[label] for label in malignant_labels]\n",
    "out_dim = 9"
   ]
  },
  {
   "cell_type": "code",
   "execution_count": 5,
   "id": "0e22c9f6",
   "metadata": {
    "execution": {
     "iopub.execute_input": "2024-08-01T18:16:25.001232Z",
     "iopub.status.busy": "2024-08-01T18:16:25.000993Z",
     "iopub.status.idle": "2024-08-01T18:16:25.021556Z",
     "shell.execute_reply": "2024-08-01T18:16:25.020741Z"
    },
    "papermill": {
     "duration": 0.027598,
     "end_time": "2024-08-01T18:16:25.023382",
     "exception": false,
     "start_time": "2024-08-01T18:16:24.995784",
     "status": "completed"
    },
    "tags": []
   },
   "outputs": [],
   "source": [
    "def val_augment(image_size):\n",
    "    transform = A.Compose([A.Resize(image_size, image_size), ToTensorV2()], p=1.0)\n",
    "    return transform\n",
    "\n",
    "\n",
    "class ISICDataset(Dataset):\n",
    "    def __init__(self, metadata, images, augment, infer=False):\n",
    "        self.metadata = metadata\n",
    "        self.images = images\n",
    "        self.augment = augment\n",
    "        self.length = len(self.metadata)\n",
    "        self.infer = infer\n",
    "\n",
    "    def __len__(self):\n",
    "        return self.length\n",
    "\n",
    "    def __getitem__(self, index):\n",
    "        row = self.metadata.iloc[index]\n",
    "\n",
    "        image = np.array(Image.open(BytesIO(self.images[row[\"isic_id\"]][()])))\n",
    "        image = self.augment(image=image)[\"image\"]\n",
    "\n",
    "        data = image.float().div(255)\n",
    "\n",
    "        if not self.infer:\n",
    "            label = torch.tensor(row[\"label\"]).long()\n",
    "            return data, label\n",
    "\n",
    "        return data\n",
    "\n",
    "    \n",
    "class ISICNet(nn.Module):\n",
    "    def __init__(self, model_name, out_dim, pretrained=True, infer=False):\n",
    "        super(ISICNet, self).__init__()\n",
    "        self.infer = infer\n",
    "        self.model = create_model(\n",
    "            model_name=model_name,\n",
    "            pretrained=pretrained,\n",
    "            in_chans=3,\n",
    "            num_classes=0,\n",
    "            global_pool=\"\",\n",
    "        )\n",
    "        self.classifier = nn.Linear(self.model.num_features, out_dim)\n",
    "\n",
    "        self.dropouts = nn.ModuleList([nn.Dropout(0.5) for _ in range(5)])\n",
    "\n",
    "    def forward(self, data):\n",
    "        image = data\n",
    "        x = self.model(image)\n",
    "        bs = len(image)\n",
    "        pool = F.adaptive_avg_pool2d(x, 1).reshape(bs, -1)\n",
    "\n",
    "        if self.training:\n",
    "            logit = 0\n",
    "            for i in range(len(self.dropouts)):\n",
    "                logit += self.classifier(self.dropouts[i](pool))\n",
    "            logit = logit / len(self.dropouts)\n",
    "        else:\n",
    "            logit = self.classifier(pool)\n",
    "        return logit\n",
    "    \n",
    "\n",
    "def get_trans(img, iteration):\n",
    "    if iteration >= 6:\n",
    "        img = img.transpose(2, 3)\n",
    "    if iteration % 6 == 0:\n",
    "        return img\n",
    "    elif iteration % 6 == 1:\n",
    "        return torch.flip(img, dims=[2])\n",
    "    elif iteration % 6 == 2:\n",
    "        return torch.flip(img, dims=[3])\n",
    "    elif iteration % 6 == 3:\n",
    "        return torch.rot90(img, 1, dims=[2, 3])\n",
    "    elif iteration % 6 == 4:\n",
    "        return torch.rot90(img, 2, dims=[2, 3])\n",
    "    elif iteration % 6 == 5:\n",
    "        return torch.rot90(img, 3, dims=[2, 3])\n",
    "\n",
    "    \n",
    "def predict(model, test_dataloader, accelerator, out_dim, n_tta, malignant_idx, log_interval=50):\n",
    "    model.eval()\n",
    "    test_probs = []\n",
    "    total_steps = len(test_dataloader)\n",
    "    with torch.no_grad():\n",
    "        for step, data in enumerate(test_dataloader):\n",
    "            logits = torch.zeros((data.shape[0], out_dim)).to(accelerator.device)\n",
    "            probs = torch.zeros((data.shape[0], out_dim)).to(accelerator.device)\n",
    "            for idx in range(n_tta):\n",
    "                logits_iter = model(get_trans(data, idx))\n",
    "                logits += logits_iter\n",
    "                probs += logits_iter.softmax(1)\n",
    "            logits /= n_tta\n",
    "            probs /= n_tta\n",
    "\n",
    "            logits, probs = accelerator.gather((logits, probs))\n",
    "            test_probs.append(probs)\n",
    "\n",
    "            if step % log_interval == 0:\n",
    "                print(\n",
    "                    f\"Step: {step + 1}/{total_steps}\"\n",
    "                )\n",
    "\n",
    "    test_probs = torch.cat(test_probs).cpu().numpy()\n",
    "    if out_dim == 9:\n",
    "        binary_probs = test_probs[:, malignant_idx].sum(1)\n",
    "    else:\n",
    "        binary_probs = val_probs[:, 1]\n",
    "    return binary_probs"
   ]
  },
  {
   "cell_type": "code",
   "execution_count": 6,
   "id": "585acdde",
   "metadata": {
    "execution": {
     "iopub.execute_input": "2024-08-01T18:16:25.032989Z",
     "iopub.status.busy": "2024-08-01T18:16:25.032728Z",
     "iopub.status.idle": "2024-08-01T18:16:35.770507Z",
     "shell.execute_reply": "2024-08-01T18:16:35.769490Z"
    },
    "papermill": {
     "duration": 10.745064,
     "end_time": "2024-08-01T18:16:35.772653",
     "exception": false,
     "start_time": "2024-08-01T18:16:25.027589",
     "status": "completed"
    },
    "tags": []
   },
   "outputs": [
    {
     "name": "stdout",
     "output_type": "stream",
     "text": [
      "Train data size: (401059, 57)\n",
      "Test data size: (3, 44)\n"
     ]
    }
   ],
   "source": [
    "INPUT_PATH = Path(\"../input/isic-2024-challenge/\")\n",
    "\n",
    "train_metadata = pd.read_csv(INPUT_PATH / \"train-metadata.csv\", low_memory=False)\n",
    "test_metadata = pd.read_csv(INPUT_PATH / \"test-metadata.csv\")\n",
    "\n",
    "folds_df = get_folds()\n",
    "train_metadata = train_metadata.merge(folds_df, on=[\"isic_id\", \"patient_id\"], how=\"inner\")\n",
    "print(f\"Train data size: {train_metadata.shape}\")\n",
    "print(f\"Test data size: {test_metadata.shape}\")\n",
    "\n",
    "test_images = h5py.File(INPUT_PATH / \"test-image.hdf5\", mode=\"r\")"
   ]
  },
  {
   "cell_type": "code",
   "execution_count": 7,
   "id": "c89264d2",
   "metadata": {
    "execution": {
     "iopub.execute_input": "2024-08-01T18:16:35.783025Z",
     "iopub.status.busy": "2024-08-01T18:16:35.782727Z",
     "iopub.status.idle": "2024-08-01T18:16:35.792594Z",
     "shell.execute_reply": "2024-08-01T18:16:35.791693Z"
    },
    "papermill": {
     "duration": 0.017416,
     "end_time": "2024-08-01T18:16:35.794699",
     "exception": false,
     "start_time": "2024-08-01T18:16:35.777283",
     "status": "completed"
    },
    "tags": []
   },
   "outputs": [],
   "source": [
    "def get_dnn_predictions(train, test, test_images, model_name, version, path):\n",
    "    with open(path / f\"{model_name}_{version}_run_metadata.json\", \"r\") as f:\n",
    "        run_metadata = json.load(f)\n",
    "    print(run_metadata)\n",
    "    \n",
    "    test_dataset = ISICDataset(\n",
    "        test, test_images, augment=val_augment(run_metadata[\"params\"][\"image_size\"]), infer=True\n",
    "    )\n",
    "    test_dataloader = DataLoader(\n",
    "        test_dataset,\n",
    "        batch_size=run_metadata[\"params\"][\"val_batch_size\"],\n",
    "        shuffle=False,\n",
    "        num_workers=2,\n",
    "        drop_last=False,\n",
    "        pin_memory=True,\n",
    "    )\n",
    "    \n",
    "    all_folds = np.unique(train[\"fold\"])\n",
    "    test_predictions_df = pd.DataFrame({id_column: test_metadata[id_column]})\n",
    "    for fold in all_folds:\n",
    "        accelerator = Accelerator(\n",
    "            mixed_precision=run_metadata[\"params\"][\"mixed_precision\"],\n",
    "        )\n",
    "        \n",
    "        model = ISICNet(model_name=model_name, out_dim=out_dim, pretrained=False, infer=True)\n",
    "        model = model.to(accelerator.device)\n",
    "        \n",
    "        model, test_dataloader = accelerator.prepare(model, test_dataloader)\n",
    "        model_filepath = path / f\"models/fold_{fold}\"\n",
    "        accelerator.load_state(model_filepath)\n",
    "\n",
    "        test_predictions_df[f\"fold_{fold}\"] = predict(model, test_dataloader, accelerator, out_dim=out_dim, n_tta=run_metadata[\"params\"][\"n_tta\"], malignant_idx=malignant_idx)\n",
    "    test_predictions_df[target_column] = test_predictions_df[[f\"fold_{fold}\" for fold in all_folds]].mean(axis=1)\n",
    "    return test_predictions_df[[id_column, target_column]]"
   ]
  },
  {
   "cell_type": "code",
   "execution_count": 8,
   "id": "5b8d8ec9",
   "metadata": {
    "execution": {
     "iopub.execute_input": "2024-08-01T18:16:35.804540Z",
     "iopub.status.busy": "2024-08-01T18:16:35.804183Z",
     "iopub.status.idle": "2024-08-01T18:16:41.584327Z",
     "shell.execute_reply": "2024-08-01T18:16:41.583149Z"
    },
    "papermill": {
     "duration": 5.787919,
     "end_time": "2024-08-01T18:16:41.586929",
     "exception": false,
     "start_time": "2024-08-01T18:16:35.799010",
     "status": "completed"
    },
    "tags": []
   },
   "outputs": [
    {
     "name": "stdout",
     "output_type": "stream",
     "text": [
      "{'params': {'mixed_precision': 'fp16', 'image_size': 64, 'train_batch_size': 256, 'val_batch_size': 512, 'num_workers': 4, 'learning_rate': 0.001, 'num_epochs': 6, 'n_tta': 6, 'seed': 2022}, 'best_num_epochs': {'fold_1': 6, 'fold_2': 6, 'fold_3': 6, 'fold_4': 6, 'fold_5': 2}, 'val_auc_scores': {'fold_1': 0.9586380401484536, 'fold_2': 0.9532613001427737, 'fold_3': 0.9402818509690383, 'fold_4': 0.9495382561056271, 'fold_5': 0.9375429374306242}, 'val_pauc_scores': {'fold_1': 0.17233685365759183, 'fold_2': 0.1685326437192062, 'fold_3': 0.15481711197913414, 'fold_4': 0.16303521733161946, 'fold_5': 0.16015732818548134}, 'cv_auc_oof': 0.9470367334571145, 'cv_pauc_oof': 0.16271825095694034, 'cv_auc_avg': 0.9478524769593033, 'cv_pauc_avg': 0.1637758309746066, 'cv_auc_std': 0.007899703488679211, 'cv_pauc_std': 0.006161478619758375}\n",
      "Step: 1/1\n",
      "Step: 1/1\n",
      "Step: 1/1\n",
      "Step: 1/1\n",
      "Step: 1/1\n"
     ]
    }
   ],
   "source": [
    "test_preds_df = get_dnn_predictions(train_metadata, test_metadata, test_images, model_name, version, Path(path))"
   ]
  },
  {
   "cell_type": "code",
   "execution_count": 9,
   "id": "60ad10f5",
   "metadata": {
    "execution": {
     "iopub.execute_input": "2024-08-01T18:16:41.599670Z",
     "iopub.status.busy": "2024-08-01T18:16:41.598878Z",
     "iopub.status.idle": "2024-08-01T18:16:41.613786Z",
     "shell.execute_reply": "2024-08-01T18:16:41.612906Z"
    },
    "papermill": {
     "duration": 0.023209,
     "end_time": "2024-08-01T18:16:41.615723",
     "exception": false,
     "start_time": "2024-08-01T18:16:41.592514",
     "status": "completed"
    },
    "tags": []
   },
   "outputs": [
    {
     "data": {
      "text/html": [
       "<div>\n",
       "<style scoped>\n",
       "    .dataframe tbody tr th:only-of-type {\n",
       "        vertical-align: middle;\n",
       "    }\n",
       "\n",
       "    .dataframe tbody tr th {\n",
       "        vertical-align: top;\n",
       "    }\n",
       "\n",
       "    .dataframe thead th {\n",
       "        text-align: right;\n",
       "    }\n",
       "</style>\n",
       "<table border=\"1\" class=\"dataframe\">\n",
       "  <thead>\n",
       "    <tr style=\"text-align: right;\">\n",
       "      <th></th>\n",
       "      <th>isic_id</th>\n",
       "      <th>target</th>\n",
       "    </tr>\n",
       "  </thead>\n",
       "  <tbody>\n",
       "    <tr>\n",
       "      <th>0</th>\n",
       "      <td>ISIC_0015657</td>\n",
       "      <td>0.001117</td>\n",
       "    </tr>\n",
       "    <tr>\n",
       "      <th>1</th>\n",
       "      <td>ISIC_0015729</td>\n",
       "      <td>0.000133</td>\n",
       "    </tr>\n",
       "    <tr>\n",
       "      <th>2</th>\n",
       "      <td>ISIC_0015740</td>\n",
       "      <td>0.000080</td>\n",
       "    </tr>\n",
       "  </tbody>\n",
       "</table>\n",
       "</div>"
      ],
      "text/plain": [
       "        isic_id    target\n",
       "0  ISIC_0015657  0.001117\n",
       "1  ISIC_0015729  0.000133\n",
       "2  ISIC_0015740  0.000080"
      ]
     },
     "execution_count": 9,
     "metadata": {},
     "output_type": "execute_result"
    }
   ],
   "source": [
    "test_preds_df.head()"
   ]
  },
  {
   "cell_type": "code",
   "execution_count": 10,
   "id": "81d06e63",
   "metadata": {
    "execution": {
     "iopub.execute_input": "2024-08-01T18:16:41.627142Z",
     "iopub.status.busy": "2024-08-01T18:16:41.626871Z",
     "iopub.status.idle": "2024-08-01T18:16:41.640062Z",
     "shell.execute_reply": "2024-08-01T18:16:41.639137Z"
    },
    "papermill": {
     "duration": 0.021228,
     "end_time": "2024-08-01T18:16:41.642188",
     "exception": false,
     "start_time": "2024-08-01T18:16:41.620960",
     "status": "completed"
    },
    "tags": []
   },
   "outputs": [
    {
     "data": {
      "text/plain": [
       "count    3.000000\n",
       "mean     0.000443\n",
       "std      0.000584\n",
       "min      0.000080\n",
       "25%      0.000106\n",
       "50%      0.000133\n",
       "75%      0.000625\n",
       "max      0.001117\n",
       "Name: target, dtype: float64"
      ]
     },
     "execution_count": 10,
     "metadata": {},
     "output_type": "execute_result"
    }
   ],
   "source": [
    "test_preds_df[target_column].describe()"
   ]
  },
  {
   "cell_type": "code",
   "execution_count": 11,
   "id": "95adc133",
   "metadata": {
    "execution": {
     "iopub.execute_input": "2024-08-01T18:16:41.654975Z",
     "iopub.status.busy": "2024-08-01T18:16:41.654689Z",
     "iopub.status.idle": "2024-08-01T18:16:41.664596Z",
     "shell.execute_reply": "2024-08-01T18:16:41.663613Z"
    },
    "papermill": {
     "duration": 0.018576,
     "end_time": "2024-08-01T18:16:41.666559",
     "exception": false,
     "start_time": "2024-08-01T18:16:41.647983",
     "status": "completed"
    },
    "tags": []
   },
   "outputs": [
    {
     "data": {
      "text/html": [
       "<div>\n",
       "<style scoped>\n",
       "    .dataframe tbody tr th:only-of-type {\n",
       "        vertical-align: middle;\n",
       "    }\n",
       "\n",
       "    .dataframe tbody tr th {\n",
       "        vertical-align: top;\n",
       "    }\n",
       "\n",
       "    .dataframe thead th {\n",
       "        text-align: right;\n",
       "    }\n",
       "</style>\n",
       "<table border=\"1\" class=\"dataframe\">\n",
       "  <thead>\n",
       "    <tr style=\"text-align: right;\">\n",
       "      <th></th>\n",
       "      <th>isic_id</th>\n",
       "      <th>target</th>\n",
       "    </tr>\n",
       "  </thead>\n",
       "  <tbody>\n",
       "    <tr>\n",
       "      <th>0</th>\n",
       "      <td>ISIC_0015657</td>\n",
       "      <td>0.001117</td>\n",
       "    </tr>\n",
       "    <tr>\n",
       "      <th>1</th>\n",
       "      <td>ISIC_0015729</td>\n",
       "      <td>0.000133</td>\n",
       "    </tr>\n",
       "    <tr>\n",
       "      <th>2</th>\n",
       "      <td>ISIC_0015740</td>\n",
       "      <td>0.000080</td>\n",
       "    </tr>\n",
       "  </tbody>\n",
       "</table>\n",
       "</div>"
      ],
      "text/plain": [
       "        isic_id    target\n",
       "0  ISIC_0015657  0.001117\n",
       "1  ISIC_0015729  0.000133\n",
       "2  ISIC_0015740  0.000080"
      ]
     },
     "execution_count": 11,
     "metadata": {},
     "output_type": "execute_result"
    }
   ],
   "source": [
    "test_preds_df[[id_column, target_column]].head()"
   ]
  },
  {
   "cell_type": "code",
   "execution_count": 12,
   "id": "d993b1b8",
   "metadata": {
    "execution": {
     "iopub.execute_input": "2024-08-01T18:16:41.678280Z",
     "iopub.status.busy": "2024-08-01T18:16:41.678015Z",
     "iopub.status.idle": "2024-08-01T18:16:41.685455Z",
     "shell.execute_reply": "2024-08-01T18:16:41.684610Z"
    },
    "papermill": {
     "duration": 0.015561,
     "end_time": "2024-08-01T18:16:41.687483",
     "exception": false,
     "start_time": "2024-08-01T18:16:41.671922",
     "status": "completed"
    },
    "tags": []
   },
   "outputs": [],
   "source": [
    "test_preds_df[[id_column, target_column]].to_csv(\"submission.csv\", index=False)"
   ]
  },
  {
   "cell_type": "code",
   "execution_count": null,
   "id": "67f0bec9",
   "metadata": {
    "papermill": {
     "duration": 0.005223,
     "end_time": "2024-08-01T18:16:41.698395",
     "exception": false,
     "start_time": "2024-08-01T18:16:41.693172",
     "status": "completed"
    },
    "tags": []
   },
   "outputs": [],
   "source": []
  }
 ],
 "metadata": {
  "kaggle": {
   "accelerator": "gpu",
   "dataSources": [
    {
     "databundleVersionId": 9094797,
     "sourceId": 63056,
     "sourceType": "competition"
    },
    {
     "datasetId": 5480389,
     "sourceId": 9083280,
     "sourceType": "datasetVersion"
    },
    {
     "sourceId": 187477024,
     "sourceType": "kernelVersion"
    },
    {
     "sourceId": 189656082,
     "sourceType": "kernelVersion"
    }
   ],
   "dockerImageVersionId": 30733,
   "isGpuEnabled": true,
   "isInternetEnabled": false,
   "language": "python",
   "sourceType": "notebook"
  },
  "kernelspec": {
   "display_name": "Python 3",
   "language": "python",
   "name": "python3"
  },
  "language_info": {
   "codemirror_mode": {
    "name": "ipython",
    "version": 3
   },
   "file_extension": ".py",
   "mimetype": "text/x-python",
   "name": "python",
   "nbconvert_exporter": "python",
   "pygments_lexer": "ipython3",
   "version": "3.10.13"
  },
  "papermill": {
   "default_parameters": {},
   "duration": 31.161694,
   "end_time": "2024-08-01T18:16:44.375953",
   "environment_variables": {},
   "exception": null,
   "input_path": "__notebook__.ipynb",
   "output_path": "__notebook__.ipynb",
   "parameters": {},
   "start_time": "2024-08-01T18:16:13.214259",
   "version": "2.5.0"
  }
 },
 "nbformat": 4,
 "nbformat_minor": 5
}
