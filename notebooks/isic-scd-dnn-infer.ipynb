{
 "cells": [
  {
   "cell_type": "code",
   "execution_count": 1,
   "id": "903af6bd",
   "metadata": {
    "_cell_guid": "b1076dfc-b9ad-4769-8c92-a6c4dae69d19",
    "_uuid": "8f2839f25d086af736a60e9eeb907d3b93b6e0e5",
    "execution": {
     "iopub.execute_input": "2024-08-20T03:02:54.093261Z",
     "iopub.status.busy": "2024-08-20T03:02:54.092401Z",
     "iopub.status.idle": "2024-08-20T03:03:01.650830Z",
     "shell.execute_reply": "2024-08-20T03:03:01.649827Z"
    },
    "papermill": {
     "duration": 7.567442,
     "end_time": "2024-08-20T03:03:01.653326",
     "exception": false,
     "start_time": "2024-08-20T03:02:54.085884",
     "status": "completed"
    },
    "tags": []
   },
   "outputs": [],
   "source": [
    "import time\n",
    "import json\n",
    "from pathlib import Path\n",
    "from pprint import pprint\n",
    "\n",
    "import h5py\n",
    "import numpy as np\n",
    "import pandas as pd\n",
    "\n",
    "from torch.utils.data import DataLoader\n",
    "from accelerate import Accelerator\n",
    "\n",
    "from isic_helper import get_folds"
   ]
  },
  {
   "cell_type": "code",
   "execution_count": 2,
   "id": "1e01d040",
   "metadata": {
    "execution": {
     "iopub.execute_input": "2024-08-20T03:03:01.664856Z",
     "iopub.status.busy": "2024-08-20T03:03:01.663885Z",
     "iopub.status.idle": "2024-08-20T03:03:01.669085Z",
     "shell.execute_reply": "2024-08-20T03:03:01.668218Z"
    },
    "papermill": {
     "duration": 0.012699,
     "end_time": "2024-08-20T03:03:01.670963",
     "exception": false,
     "start_time": "2024-08-20T03:03:01.658264",
     "status": "completed"
    },
    "tags": []
   },
   "outputs": [],
   "source": [
    "model_name = \"efficientnet_b2\"\n",
    "version = \"v1\"\n",
    "mode = \"pretrain\"\n",
    "path = f\"/kaggle/input/isic-scd-{model_name.replace('_', '-')}-{version}-{mode}\"\n",
    "\n",
    "SAMPLE_SIZE = 5000\n",
    "EXPECTED_TEST_SIZE = 500000"
   ]
  },
  {
   "cell_type": "code",
   "execution_count": 3,
   "id": "8c094423",
   "metadata": {
    "execution": {
     "iopub.execute_input": "2024-08-20T03:03:01.681088Z",
     "iopub.status.busy": "2024-08-20T03:03:01.680803Z",
     "iopub.status.idle": "2024-08-20T03:03:01.684814Z",
     "shell.execute_reply": "2024-08-20T03:03:01.683929Z"
    },
    "papermill": {
     "duration": 0.011228,
     "end_time": "2024-08-20T03:03:01.686697",
     "exception": false,
     "start_time": "2024-08-20T03:03:01.675469",
     "status": "completed"
    },
    "tags": []
   },
   "outputs": [],
   "source": [
    "import sys\n",
    "sys.path.append(path)"
   ]
  },
  {
   "cell_type": "code",
   "execution_count": 4,
   "id": "ba22aa1b",
   "metadata": {
    "execution": {
     "iopub.execute_input": "2024-08-20T03:03:01.696542Z",
     "iopub.status.busy": "2024-08-20T03:03:01.696280Z",
     "iopub.status.idle": "2024-08-20T03:03:03.633906Z",
     "shell.execute_reply": "2024-08-20T03:03:03.633101Z"
    },
    "papermill": {
     "duration": 1.945074,
     "end_time": "2024-08-20T03:03:03.636216",
     "exception": false,
     "start_time": "2024-08-20T03:03:01.691142",
     "status": "completed"
    },
    "tags": []
   },
   "outputs": [],
   "source": [
    "from dataset import test_augment, ISICDataset, preprocess, feature_engineering, get_emb_szs\n",
    "from models import ISICNet\n",
    "from engine import predict"
   ]
  },
  {
   "cell_type": "code",
   "execution_count": 5,
   "id": "4a46fd6c",
   "metadata": {
    "execution": {
     "iopub.execute_input": "2024-08-20T03:03:03.646498Z",
     "iopub.status.busy": "2024-08-20T03:03:03.646198Z",
     "iopub.status.idle": "2024-08-20T03:03:03.650325Z",
     "shell.execute_reply": "2024-08-20T03:03:03.649459Z"
    },
    "papermill": {
     "duration": 0.011344,
     "end_time": "2024-08-20T03:03:03.652223",
     "exception": false,
     "start_time": "2024-08-20T03:03:03.640879",
     "status": "completed"
    },
    "tags": []
   },
   "outputs": [],
   "source": [
    "id_column = \"isic_id\"\n",
    "target_column = \"target\"\n",
    "group_column = \"patient_id\""
   ]
  },
  {
   "cell_type": "code",
   "execution_count": 6,
   "id": "76613686",
   "metadata": {
    "execution": {
     "iopub.execute_input": "2024-08-20T03:03:03.662088Z",
     "iopub.status.busy": "2024-08-20T03:03:03.661834Z",
     "iopub.status.idle": "2024-08-20T03:03:13.503736Z",
     "shell.execute_reply": "2024-08-20T03:03:13.502243Z"
    },
    "papermill": {
     "duration": 9.849315,
     "end_time": "2024-08-20T03:03:13.505954",
     "exception": false,
     "start_time": "2024-08-20T03:03:03.656639",
     "status": "completed"
    },
    "tags": []
   },
   "outputs": [
    {
     "name": "stdout",
     "output_type": "stream",
     "text": [
      "Train data size: (401059, 56)\n",
      "Test data size: (3, 44)\n"
     ]
    }
   ],
   "source": [
    "INPUT_PATH = Path(\"../input/isic-2024-challenge/\")\n",
    "\n",
    "train_metadata = pd.read_csv(INPUT_PATH / \"train-metadata.csv\", low_memory=False)\n",
    "test_metadata = pd.read_csv(INPUT_PATH / \"test-metadata.csv\")\n",
    "\n",
    "folds_df = get_folds()\n",
    "train_metadata = train_metadata.merge(folds_df, on=[\"isic_id\", \"patient_id\"], how=\"inner\")\n",
    "print(f\"Train data size: {train_metadata.shape}\")\n",
    "print(f\"Test data size: {test_metadata.shape}\")\n",
    "\n",
    "train_images = h5py.File(INPUT_PATH / \"train-image.hdf5\", mode=\"r\")\n",
    "test_images = h5py.File(INPUT_PATH / \"test-image.hdf5\", mode=\"r\")"
   ]
  },
  {
   "cell_type": "code",
   "execution_count": 7,
   "id": "7d36558b",
   "metadata": {
    "execution": {
     "iopub.execute_input": "2024-08-20T03:03:13.517302Z",
     "iopub.status.busy": "2024-08-20T03:03:13.517001Z",
     "iopub.status.idle": "2024-08-20T03:03:13.528976Z",
     "shell.execute_reply": "2024-08-20T03:03:13.528157Z"
    },
    "papermill": {
     "duration": 0.019955,
     "end_time": "2024-08-20T03:03:13.530991",
     "exception": false,
     "start_time": "2024-08-20T03:03:13.511036",
     "status": "completed"
    },
    "tags": []
   },
   "outputs": [],
   "source": [
    "def get_dnn_predictions(train, test, test_images, model_name, version, path):\n",
    "    start_time = time.time()\n",
    "    print(f\"Preprocessing metadata...\")\n",
    "    test_df = preprocess(test)\n",
    "    print(f\"Feature engineering...\")\n",
    "    test_df, cat_cols, cont_cols = feature_engineering(test_df)\n",
    "    \n",
    "    emb_szs = get_emb_szs(cat_cols)\n",
    "    \n",
    "    with open(path / f\"{model_name}_{version}_run_metadata.json\", \"r\") as f:\n",
    "        run_metadata = json.load(f)\n",
    "    pprint(run_metadata[\"params\"])\n",
    "    \n",
    "    image_size = run_metadata[\"params\"][\"image_size\"]\n",
    "    batch_size = run_metadata[\"params\"][\"val_batch_size\"]\n",
    "    use_meta = run_metadata[\"params\"][\"use_meta\"]\n",
    "    \n",
    "    test_dataset = ISICDataset(\n",
    "        test_df, test_images, augment=test_augment(image_size), \n",
    "        use_meta=use_meta,\n",
    "        cat_cols=cat_cols,\n",
    "        cont_cols=cont_cols,\n",
    "        infer=True\n",
    "    )\n",
    "    test_dataloader = DataLoader(\n",
    "        test_dataset,\n",
    "        batch_size=batch_size,\n",
    "        shuffle=False,\n",
    "        num_workers=4,\n",
    "        drop_last=False,\n",
    "        pin_memory=True,\n",
    "    )\n",
    "    \n",
    "    fold_column = \"fold\"\n",
    "    all_folds = np.unique(train[fold_column])\n",
    "#     all_folds = [1]\n",
    "    test_predictions_df = pd.DataFrame({id_column: test[id_column]})\n",
    "    for fold in all_folds:\n",
    "        print(f\"\\nFold {fold}\")\n",
    "        accelerator = Accelerator(\n",
    "            mixed_precision=run_metadata[\"params\"][\"mixed_precision\"],\n",
    "        )\n",
    "        \n",
    "        model = ISICNet(model_name=model_name, pretrained=False,\n",
    "                        use_meta=use_meta,\n",
    "                        cat_cols=cat_cols,\n",
    "                        cont_cols=cont_cols,\n",
    "                        emb_szs=emb_szs,)\n",
    "        model = model.to(accelerator.device)\n",
    "        \n",
    "        model, test_dataloader = accelerator.prepare(model, test_dataloader)\n",
    "        model_filepath = path / f\"models/fold_{fold}\"\n",
    "        accelerator.load_state(model_filepath)\n",
    "\n",
    "        test_predictions_df[f\"fold_{fold}\"] = predict(model, test_dataloader, accelerator, n_tta=run_metadata[\"params\"][\"n_tta\"], use_meta=use_meta)\n",
    "    test_predictions_df[target_column] = test_predictions_df[[f\"fold_{fold}\" for fold in all_folds]].mean(axis=1)\n",
    "    end_time = time.time()\n",
    "    return test_predictions_df[[id_column, target_column]], (end_time - start_time)"
   ]
  },
  {
   "cell_type": "code",
   "execution_count": 8,
   "id": "f8f6fc90",
   "metadata": {
    "execution": {
     "iopub.execute_input": "2024-08-20T03:03:13.541963Z",
     "iopub.status.busy": "2024-08-20T03:03:13.541187Z",
     "iopub.status.idle": "2024-08-20T03:04:43.252768Z",
     "shell.execute_reply": "2024-08-20T03:04:43.251839Z"
    },
    "papermill": {
     "duration": 89.719448,
     "end_time": "2024-08-20T03:04:43.255089",
     "exception": false,
     "start_time": "2024-08-20T03:03:13.535641",
     "status": "completed"
    },
    "tags": []
   },
   "outputs": [
    {
     "name": "stdout",
     "output_type": "stream",
     "text": [
      "Preprocessing metadata...\n",
      "Feature engineering...\n",
      "{'debug': False,\n",
      " 'down_sampling': True,\n",
      " 'image_size': 128,\n",
      " 'init_lr': 3e-05,\n",
      " 'mixed_precision': 'fp16',\n",
      " 'mode': 'pretrain',\n",
      " 'n_tta': 8,\n",
      " 'num_epochs': 20,\n",
      " 'num_workers': 8,\n",
      " 'seed': 2022,\n",
      " 'train_batch_size': 64,\n",
      " 'use_meta': True,\n",
      " 'val_batch_size': 512}\n",
      "\n",
      "Fold 1\n",
      "Step: 1/10\n",
      "Step: 10/10\n",
      "\n",
      "Fold 2\n",
      "Step: 1/10\n",
      "Step: 10/10\n",
      "\n",
      "Fold 3\n",
      "Step: 1/10\n",
      "Step: 10/10\n",
      "\n",
      "Fold 4\n",
      "Step: 1/10\n",
      "Step: 10/10\n",
      "\n",
      "Fold 5\n",
      "Step: 1/10\n",
      "Step: 10/10\n"
     ]
    }
   ],
   "source": [
    "if test_metadata.shape[0] == 3:\n",
    "    test_preds_df, total_runtime = get_dnn_predictions(train_metadata, \n",
    "                                                 train_metadata.sample(n=SAMPLE_SIZE, random_state=42), \n",
    "                                                 train_images, \n",
    "                                                 model_name, \n",
    "                                                 version, \n",
    "                                                 Path(path))\n",
    "else:\n",
    "    test_preds_df, total_runtime = get_dnn_predictions(train_metadata, \n",
    "                                                 test_metadata, \n",
    "                                                 test_images, \n",
    "                                                 model_name, \n",
    "                                                 version, \n",
    "                                                 Path(path))"
   ]
  },
  {
   "cell_type": "code",
   "execution_count": 9,
   "id": "0311ae86",
   "metadata": {
    "execution": {
     "iopub.execute_input": "2024-08-20T03:04:43.268357Z",
     "iopub.status.busy": "2024-08-20T03:04:43.267998Z",
     "iopub.status.idle": "2024-08-20T03:04:43.274165Z",
     "shell.execute_reply": "2024-08-20T03:04:43.273173Z"
    },
    "papermill": {
     "duration": 0.015272,
     "end_time": "2024-08-20T03:04:43.276247",
     "exception": false,
     "start_time": "2024-08-20T03:04:43.260975",
     "status": "completed"
    },
    "tags": []
   },
   "outputs": [
    {
     "name": "stdout",
     "output_type": "stream",
     "text": [
      "Expected total runtime during submission: 149 mins and 27.34335422515869 secs\n"
     ]
    }
   ],
   "source": [
    "factor = EXPECTED_TEST_SIZE / SAMPLE_SIZE\n",
    "expected_total_runtime = total_runtime * factor\n",
    "total_runtime_minutes = int(expected_total_runtime // 60)\n",
    "total_runtime_seconds = expected_total_runtime % 60\n",
    "print(f\"Expected total runtime during submission: {total_runtime_minutes} mins and {total_runtime_seconds} secs\")"
   ]
  },
  {
   "cell_type": "code",
   "execution_count": 10,
   "id": "a9198f53",
   "metadata": {
    "execution": {
     "iopub.execute_input": "2024-08-20T03:04:43.289136Z",
     "iopub.status.busy": "2024-08-20T03:04:43.288832Z",
     "iopub.status.idle": "2024-08-20T03:04:43.304246Z",
     "shell.execute_reply": "2024-08-20T03:04:43.303341Z"
    },
    "papermill": {
     "duration": 0.024741,
     "end_time": "2024-08-20T03:04:43.306735",
     "exception": false,
     "start_time": "2024-08-20T03:04:43.281994",
     "status": "completed"
    },
    "tags": []
   },
   "outputs": [
    {
     "data": {
      "text/html": [
       "<div>\n",
       "<style scoped>\n",
       "    .dataframe tbody tr th:only-of-type {\n",
       "        vertical-align: middle;\n",
       "    }\n",
       "\n",
       "    .dataframe tbody tr th {\n",
       "        vertical-align: top;\n",
       "    }\n",
       "\n",
       "    .dataframe thead th {\n",
       "        text-align: right;\n",
       "    }\n",
       "</style>\n",
       "<table border=\"1\" class=\"dataframe\">\n",
       "  <thead>\n",
       "    <tr style=\"text-align: right;\">\n",
       "      <th></th>\n",
       "      <th>isic_id</th>\n",
       "      <th>target</th>\n",
       "    </tr>\n",
       "  </thead>\n",
       "  <tbody>\n",
       "    <tr>\n",
       "      <th>278442</th>\n",
       "      <td>ISIC_6973879</td>\n",
       "      <td>0.000067</td>\n",
       "    </tr>\n",
       "    <tr>\n",
       "      <th>215021</th>\n",
       "      <td>ISIC_5407194</td>\n",
       "      <td>0.000039</td>\n",
       "    </tr>\n",
       "    <tr>\n",
       "      <th>209685</th>\n",
       "      <td>ISIC_5273739</td>\n",
       "      <td>0.006252</td>\n",
       "    </tr>\n",
       "    <tr>\n",
       "      <th>29648</th>\n",
       "      <td>ISIC_0802250</td>\n",
       "      <td>0.000125</td>\n",
       "    </tr>\n",
       "    <tr>\n",
       "      <th>323386</th>\n",
       "      <td>ISIC_8084953</td>\n",
       "      <td>0.002502</td>\n",
       "    </tr>\n",
       "  </tbody>\n",
       "</table>\n",
       "</div>"
      ],
      "text/plain": [
       "             isic_id    target\n",
       "278442  ISIC_6973879  0.000067\n",
       "215021  ISIC_5407194  0.000039\n",
       "209685  ISIC_5273739  0.006252\n",
       "29648   ISIC_0802250  0.000125\n",
       "323386  ISIC_8084953  0.002502"
      ]
     },
     "execution_count": 10,
     "metadata": {},
     "output_type": "execute_result"
    }
   ],
   "source": [
    "test_preds_df.head()"
   ]
  },
  {
   "cell_type": "code",
   "execution_count": 11,
   "id": "2b97ffac",
   "metadata": {
    "execution": {
     "iopub.execute_input": "2024-08-20T03:04:43.319994Z",
     "iopub.status.busy": "2024-08-20T03:04:43.319691Z",
     "iopub.status.idle": "2024-08-20T03:04:43.334191Z",
     "shell.execute_reply": "2024-08-20T03:04:43.333357Z"
    },
    "papermill": {
     "duration": 0.023219,
     "end_time": "2024-08-20T03:04:43.336078",
     "exception": false,
     "start_time": "2024-08-20T03:04:43.312859",
     "status": "completed"
    },
    "tags": []
   },
   "outputs": [
    {
     "data": {
      "text/plain": [
       "count    5.000000e+03\n",
       "mean     3.431333e-03\n",
       "std      2.955836e-02\n",
       "min      6.518865e-07\n",
       "25%      5.125497e-05\n",
       "50%      1.394283e-04\n",
       "75%      5.041125e-04\n",
       "max      9.188346e-01\n",
       "Name: target, dtype: float64"
      ]
     },
     "execution_count": 11,
     "metadata": {},
     "output_type": "execute_result"
    }
   ],
   "source": [
    "test_preds_df[target_column].describe()"
   ]
  },
  {
   "cell_type": "code",
   "execution_count": 12,
   "id": "3c9facfd",
   "metadata": {
    "execution": {
     "iopub.execute_input": "2024-08-20T03:04:43.351100Z",
     "iopub.status.busy": "2024-08-20T03:04:43.350531Z",
     "iopub.status.idle": "2024-08-20T03:04:43.360714Z",
     "shell.execute_reply": "2024-08-20T03:04:43.359773Z"
    },
    "papermill": {
     "duration": 0.020248,
     "end_time": "2024-08-20T03:04:43.362732",
     "exception": false,
     "start_time": "2024-08-20T03:04:43.342484",
     "status": "completed"
    },
    "tags": []
   },
   "outputs": [
    {
     "data": {
      "text/html": [
       "<div>\n",
       "<style scoped>\n",
       "    .dataframe tbody tr th:only-of-type {\n",
       "        vertical-align: middle;\n",
       "    }\n",
       "\n",
       "    .dataframe tbody tr th {\n",
       "        vertical-align: top;\n",
       "    }\n",
       "\n",
       "    .dataframe thead th {\n",
       "        text-align: right;\n",
       "    }\n",
       "</style>\n",
       "<table border=\"1\" class=\"dataframe\">\n",
       "  <thead>\n",
       "    <tr style=\"text-align: right;\">\n",
       "      <th></th>\n",
       "      <th>isic_id</th>\n",
       "      <th>target</th>\n",
       "    </tr>\n",
       "  </thead>\n",
       "  <tbody>\n",
       "    <tr>\n",
       "      <th>278442</th>\n",
       "      <td>ISIC_6973879</td>\n",
       "      <td>0.000067</td>\n",
       "    </tr>\n",
       "    <tr>\n",
       "      <th>215021</th>\n",
       "      <td>ISIC_5407194</td>\n",
       "      <td>0.000039</td>\n",
       "    </tr>\n",
       "    <tr>\n",
       "      <th>209685</th>\n",
       "      <td>ISIC_5273739</td>\n",
       "      <td>0.006252</td>\n",
       "    </tr>\n",
       "    <tr>\n",
       "      <th>29648</th>\n",
       "      <td>ISIC_0802250</td>\n",
       "      <td>0.000125</td>\n",
       "    </tr>\n",
       "    <tr>\n",
       "      <th>323386</th>\n",
       "      <td>ISIC_8084953</td>\n",
       "      <td>0.002502</td>\n",
       "    </tr>\n",
       "  </tbody>\n",
       "</table>\n",
       "</div>"
      ],
      "text/plain": [
       "             isic_id    target\n",
       "278442  ISIC_6973879  0.000067\n",
       "215021  ISIC_5407194  0.000039\n",
       "209685  ISIC_5273739  0.006252\n",
       "29648   ISIC_0802250  0.000125\n",
       "323386  ISIC_8084953  0.002502"
      ]
     },
     "execution_count": 12,
     "metadata": {},
     "output_type": "execute_result"
    }
   ],
   "source": [
    "test_preds_df[[id_column, target_column]].head()"
   ]
  },
  {
   "cell_type": "code",
   "execution_count": 13,
   "id": "724e7389",
   "metadata": {
    "execution": {
     "iopub.execute_input": "2024-08-20T03:04:43.376630Z",
     "iopub.status.busy": "2024-08-20T03:04:43.376289Z",
     "iopub.status.idle": "2024-08-20T03:04:43.398350Z",
     "shell.execute_reply": "2024-08-20T03:04:43.397567Z"
    },
    "papermill": {
     "duration": 0.031835,
     "end_time": "2024-08-20T03:04:43.400771",
     "exception": false,
     "start_time": "2024-08-20T03:04:43.368936",
     "status": "completed"
    },
    "tags": []
   },
   "outputs": [],
   "source": [
    "test_preds_df[[id_column, target_column]].to_csv(\"submission.csv\", index=False)"
   ]
  },
  {
   "cell_type": "code",
   "execution_count": null,
   "id": "e284c57a",
   "metadata": {
    "papermill": {
     "duration": 0.006218,
     "end_time": "2024-08-20T03:04:43.413712",
     "exception": false,
     "start_time": "2024-08-20T03:04:43.407494",
     "status": "completed"
    },
    "tags": []
   },
   "outputs": [],
   "source": []
  }
 ],
 "metadata": {
  "kaggle": {
   "accelerator": "gpu",
   "dataSources": [
    {
     "databundleVersionId": 9094797,
     "sourceId": 63056,
     "sourceType": "competition"
    },
    {
     "datasetId": 5554293,
     "sourceId": 9206970,
     "sourceType": "datasetVersion"
    },
    {
     "sourceId": 187477024,
     "sourceType": "kernelVersion"
    },
    {
     "sourceId": 193130710,
     "sourceType": "kernelVersion"
    }
   ],
   "dockerImageVersionId": 30733,
   "isGpuEnabled": true,
   "isInternetEnabled": false,
   "language": "python",
   "sourceType": "notebook"
  },
  "kernelspec": {
   "display_name": "Python 3",
   "language": "python",
   "name": "python3"
  },
  "language_info": {
   "codemirror_mode": {
    "name": "ipython",
    "version": 3
   },
   "file_extension": ".py",
   "mimetype": "text/x-python",
   "name": "python",
   "nbconvert_exporter": "python",
   "pygments_lexer": "ipython3",
   "version": "3.10.13"
  },
  "papermill": {
   "default_parameters": {},
   "duration": 115.287443,
   "end_time": "2024-08-20T03:04:46.504068",
   "environment_variables": {},
   "exception": null,
   "input_path": "__notebook__.ipynb",
   "output_path": "__notebook__.ipynb",
   "parameters": {},
   "start_time": "2024-08-20T03:02:51.216625",
   "version": "2.5.0"
  }
 },
 "nbformat": 4,
 "nbformat_minor": 5
}
