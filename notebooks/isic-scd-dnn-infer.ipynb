{
 "cells": [
  {
   "cell_type": "code",
   "execution_count": 1,
   "id": "7af280c8",
   "metadata": {
    "_cell_guid": "b1076dfc-b9ad-4769-8c92-a6c4dae69d19",
    "_uuid": "8f2839f25d086af736a60e9eeb907d3b93b6e0e5",
    "execution": {
     "iopub.execute_input": "2024-08-16T23:44:23.998313Z",
     "iopub.status.busy": "2024-08-16T23:44:23.997441Z",
     "iopub.status.idle": "2024-08-16T23:44:31.445491Z",
     "shell.execute_reply": "2024-08-16T23:44:31.444685Z"
    },
    "papermill": {
     "duration": 7.456928,
     "end_time": "2024-08-16T23:44:31.447766",
     "exception": false,
     "start_time": "2024-08-16T23:44:23.990838",
     "status": "completed"
    },
    "tags": []
   },
   "outputs": [],
   "source": [
    "import time\n",
    "import json\n",
    "from pathlib import Path\n",
    "from pprint import pprint\n",
    "\n",
    "import h5py\n",
    "import numpy as np\n",
    "import pandas as pd\n",
    "\n",
    "from torch.utils.data import DataLoader\n",
    "from accelerate import Accelerator\n",
    "\n",
    "from isic_helper import get_folds"
   ]
  },
  {
   "cell_type": "code",
   "execution_count": 2,
   "id": "0fd1b63e",
   "metadata": {
    "execution": {
     "iopub.execute_input": "2024-08-16T23:44:31.458879Z",
     "iopub.status.busy": "2024-08-16T23:44:31.458108Z",
     "iopub.status.idle": "2024-08-16T23:44:31.462905Z",
     "shell.execute_reply": "2024-08-16T23:44:31.462033Z"
    },
    "papermill": {
     "duration": 0.012129,
     "end_time": "2024-08-16T23:44:31.464789",
     "exception": false,
     "start_time": "2024-08-16T23:44:31.452660",
     "status": "completed"
    },
    "tags": []
   },
   "outputs": [],
   "source": [
    "model_name = \"efficientnet_b2\"\n",
    "version = \"v2\"\n",
    "mode = \"pretrain\"\n",
    "path = f\"/kaggle/input/isic-scd-{model_name.replace('_', '-')}-{version}-{mode}\"\n",
    "\n",
    "SAMPLE_SIZE = 5000\n",
    "EXPECTED_TEST_SIZE = 500000"
   ]
  },
  {
   "cell_type": "code",
   "execution_count": 3,
   "id": "bbc7af37",
   "metadata": {
    "execution": {
     "iopub.execute_input": "2024-08-16T23:44:31.474765Z",
     "iopub.status.busy": "2024-08-16T23:44:31.474488Z",
     "iopub.status.idle": "2024-08-16T23:44:31.478395Z",
     "shell.execute_reply": "2024-08-16T23:44:31.477576Z"
    },
    "papermill": {
     "duration": 0.011198,
     "end_time": "2024-08-16T23:44:31.480388",
     "exception": false,
     "start_time": "2024-08-16T23:44:31.469190",
     "status": "completed"
    },
    "tags": []
   },
   "outputs": [],
   "source": [
    "import sys\n",
    "sys.path.append(path)"
   ]
  },
  {
   "cell_type": "code",
   "execution_count": 4,
   "id": "3289723f",
   "metadata": {
    "execution": {
     "iopub.execute_input": "2024-08-16T23:44:31.490336Z",
     "iopub.status.busy": "2024-08-16T23:44:31.490072Z",
     "iopub.status.idle": "2024-08-16T23:44:33.457546Z",
     "shell.execute_reply": "2024-08-16T23:44:33.456543Z"
    },
    "papermill": {
     "duration": 1.975066,
     "end_time": "2024-08-16T23:44:33.459906",
     "exception": false,
     "start_time": "2024-08-16T23:44:31.484840",
     "status": "completed"
    },
    "tags": []
   },
   "outputs": [],
   "source": [
    "from dataset import test_augment, ISICDataset\n",
    "from models import ISICNet\n",
    "from engine import predict"
   ]
  },
  {
   "cell_type": "code",
   "execution_count": 5,
   "id": "846b3f6e",
   "metadata": {
    "execution": {
     "iopub.execute_input": "2024-08-16T23:44:33.470108Z",
     "iopub.status.busy": "2024-08-16T23:44:33.469771Z",
     "iopub.status.idle": "2024-08-16T23:44:33.473820Z",
     "shell.execute_reply": "2024-08-16T23:44:33.473015Z"
    },
    "papermill": {
     "duration": 0.011433,
     "end_time": "2024-08-16T23:44:33.475945",
     "exception": false,
     "start_time": "2024-08-16T23:44:33.464512",
     "status": "completed"
    },
    "tags": []
   },
   "outputs": [],
   "source": [
    "id_column = \"isic_id\"\n",
    "target_column = \"target\"\n",
    "group_column = \"patient_id\""
   ]
  },
  {
   "cell_type": "code",
   "execution_count": 6,
   "id": "dd4a161d",
   "metadata": {
    "execution": {
     "iopub.execute_input": "2024-08-16T23:44:33.486220Z",
     "iopub.status.busy": "2024-08-16T23:44:33.485725Z",
     "iopub.status.idle": "2024-08-16T23:44:43.131922Z",
     "shell.execute_reply": "2024-08-16T23:44:43.130949Z"
    },
    "papermill": {
     "duration": 9.654101,
     "end_time": "2024-08-16T23:44:43.134628",
     "exception": false,
     "start_time": "2024-08-16T23:44:33.480527",
     "status": "completed"
    },
    "tags": []
   },
   "outputs": [
    {
     "name": "stdout",
     "output_type": "stream",
     "text": [
      "Train data size: (401059, 58)\n",
      "Test data size: (3, 44)\n"
     ]
    }
   ],
   "source": [
    "INPUT_PATH = Path(\"../input/isic-2024-challenge/\")\n",
    "\n",
    "train_metadata = pd.read_csv(INPUT_PATH / \"train-metadata.csv\", low_memory=False)\n",
    "test_metadata = pd.read_csv(INPUT_PATH / \"test-metadata.csv\")\n",
    "\n",
    "folds_df = get_folds()\n",
    "train_metadata = train_metadata.merge(folds_df, on=[\"isic_id\", \"patient_id\"], how=\"inner\")\n",
    "print(f\"Train data size: {train_metadata.shape}\")\n",
    "print(f\"Test data size: {test_metadata.shape}\")\n",
    "\n",
    "train_images = h5py.File(INPUT_PATH / \"train-image.hdf5\", mode=\"r\")\n",
    "test_images = h5py.File(INPUT_PATH / \"test-image.hdf5\", mode=\"r\")"
   ]
  },
  {
   "cell_type": "code",
   "execution_count": 7,
   "id": "f986f5e2",
   "metadata": {
    "execution": {
     "iopub.execute_input": "2024-08-16T23:44:43.146843Z",
     "iopub.status.busy": "2024-08-16T23:44:43.146424Z",
     "iopub.status.idle": "2024-08-16T23:44:43.158766Z",
     "shell.execute_reply": "2024-08-16T23:44:43.157879Z"
    },
    "papermill": {
     "duration": 0.021186,
     "end_time": "2024-08-16T23:44:43.160846",
     "exception": false,
     "start_time": "2024-08-16T23:44:43.139660",
     "status": "completed"
    },
    "tags": []
   },
   "outputs": [],
   "source": [
    "def get_dnn_predictions(train, test, test_images, model_name, version, path):\n",
    "    start_time = time.time()\n",
    "    test_df = test[[id_column]].copy()\n",
    "    with open(path / f\"{model_name}_{version}_run_metadata.json\", \"r\") as f:\n",
    "        run_metadata = json.load(f)\n",
    "    pprint(run_metadata[\"params\"])\n",
    "    \n",
    "    image_size = run_metadata[\"params\"][\"image_size\"]\n",
    "    batch_size = run_metadata[\"params\"][\"val_batch_size\"]\n",
    "    fold_method = run_metadata[\"params\"][\"fold_method\"]\n",
    "    \n",
    "    test_dataset = ISICDataset(\n",
    "        test_df, test_images, augment=test_augment(image_size), infer=True\n",
    "    )\n",
    "    test_dataloader = DataLoader(\n",
    "        test_dataset,\n",
    "        batch_size=batch_size,\n",
    "        shuffle=False,\n",
    "        num_workers=4,\n",
    "        drop_last=False,\n",
    "        pin_memory=True,\n",
    "    )\n",
    "    \n",
    "    if fold_method == \"gkf\":\n",
    "        print(\"Using GroupKFold\")\n",
    "        fold_column = \"gkf_fold\"\n",
    "    elif fold_method == \"sgkf\":\n",
    "        print(\"Using StratifiedGroupKFold\")\n",
    "        fold_column = \"sgkf_fold\"\n",
    "    else:\n",
    "        raise ValueError(f\"Fold method {fold_method} not supported\")\n",
    "    \n",
    "#     all_folds = np.unique(train[fold_column])\n",
    "    all_folds = [1]\n",
    "    test_predictions_df = pd.DataFrame({id_column: test[id_column]})\n",
    "    for fold in all_folds:\n",
    "        if fold < 0:\n",
    "            continue\n",
    "        print(f\"\\nFold {fold}\")\n",
    "        accelerator = Accelerator(\n",
    "            mixed_precision=run_metadata[\"params\"][\"mixed_precision\"],\n",
    "        )\n",
    "        \n",
    "        model = ISICNet(model_name=model_name, pretrained=False)\n",
    "        model = model.to(accelerator.device)\n",
    "        \n",
    "        model, test_dataloader = accelerator.prepare(model, test_dataloader)\n",
    "        model_filepath = path / f\"models/fold_{fold}\"\n",
    "        accelerator.load_state(model_filepath)\n",
    "\n",
    "        test_predictions_df[f\"fold_{fold}\"] = predict(model, test_dataloader, accelerator, n_tta=run_metadata[\"params\"][\"n_tta\"])\n",
    "    test_predictions_df[target_column] = test_predictions_df[[f\"fold_{fold}\" for fold in all_folds if fold > 0]].mean(axis=1)\n",
    "    end_time = time.time()\n",
    "    return test_predictions_df[[id_column, target_column]], (end_time - start_time)"
   ]
  },
  {
   "cell_type": "code",
   "execution_count": 8,
   "id": "603e5e6a",
   "metadata": {
    "execution": {
     "iopub.execute_input": "2024-08-16T23:44:43.171295Z",
     "iopub.status.busy": "2024-08-16T23:44:43.170970Z",
     "iopub.status.idle": "2024-08-16T23:44:54.856853Z",
     "shell.execute_reply": "2024-08-16T23:44:54.855782Z"
    },
    "papermill": {
     "duration": 11.693532,
     "end_time": "2024-08-16T23:44:54.859007",
     "exception": false,
     "start_time": "2024-08-16T23:44:43.165475",
     "status": "completed"
    },
    "tags": []
   },
   "outputs": [
    {
     "name": "stdout",
     "output_type": "stream",
     "text": [
      "{'debug': False,\n",
      " 'down_sampling': True,\n",
      " 'fold_method': 'gkf',\n",
      " 'image_size': 64,\n",
      " 'init_lr': 3e-05,\n",
      " 'mixed_precision': 'fp16',\n",
      " 'mode': 'pretrain',\n",
      " 'n_tta': 8,\n",
      " 'num_epochs': 20,\n",
      " 'num_workers': 8,\n",
      " 'seed': 2022,\n",
      " 'train_batch_size': 64,\n",
      " 'val_batch_size': 512}\n",
      "Using GroupKFold\n",
      "\n",
      "Fold 1\n",
      "Step: 1/10\n",
      "Step: 10/10\n"
     ]
    }
   ],
   "source": [
    "if test_metadata.shape[0] == 3:\n",
    "    test_preds_df, total_runtime = get_dnn_predictions(train_metadata, \n",
    "                                                 train_metadata.sample(n=SAMPLE_SIZE, random_state=42), \n",
    "                                                 train_images, \n",
    "                                                 model_name, \n",
    "                                                 version, \n",
    "                                                 Path(path))\n",
    "else:\n",
    "    test_preds_df, total_runtime = get_dnn_predictions(train_metadata, \n",
    "                                                 test_metadata, \n",
    "                                                 test_images, \n",
    "                                                 model_name, \n",
    "                                                 version, \n",
    "                                                 Path(path))"
   ]
  },
  {
   "cell_type": "code",
   "execution_count": 9,
   "id": "b89dac26",
   "metadata": {
    "execution": {
     "iopub.execute_input": "2024-08-16T23:44:54.870347Z",
     "iopub.status.busy": "2024-08-16T23:44:54.870013Z",
     "iopub.status.idle": "2024-08-16T23:44:54.875573Z",
     "shell.execute_reply": "2024-08-16T23:44:54.874697Z"
    },
    "papermill": {
     "duration": 0.013848,
     "end_time": "2024-08-16T23:44:54.877784",
     "exception": false,
     "start_time": "2024-08-16T23:44:54.863936",
     "status": "completed"
    },
    "tags": []
   },
   "outputs": [
    {
     "name": "stdout",
     "output_type": "stream",
     "text": [
      "Expected total runtime during submission: 19 mins and 24.78290557861328 secs\n"
     ]
    }
   ],
   "source": [
    "factor = EXPECTED_TEST_SIZE / SAMPLE_SIZE\n",
    "expected_total_runtime = total_runtime * factor\n",
    "total_runtime_minutes = int(expected_total_runtime // 60)\n",
    "total_runtime_seconds = expected_total_runtime % 60\n",
    "print(f\"Expected total runtime during submission: {total_runtime_minutes} mins and {total_runtime_seconds} secs\")"
   ]
  },
  {
   "cell_type": "code",
   "execution_count": 10,
   "id": "ecadd2d2",
   "metadata": {
    "execution": {
     "iopub.execute_input": "2024-08-16T23:44:54.889433Z",
     "iopub.status.busy": "2024-08-16T23:44:54.888808Z",
     "iopub.status.idle": "2024-08-16T23:44:54.904389Z",
     "shell.execute_reply": "2024-08-16T23:44:54.903423Z"
    },
    "papermill": {
     "duration": 0.023568,
     "end_time": "2024-08-16T23:44:54.906448",
     "exception": false,
     "start_time": "2024-08-16T23:44:54.882880",
     "status": "completed"
    },
    "tags": []
   },
   "outputs": [
    {
     "data": {
      "text/html": [
       "<div>\n",
       "<style scoped>\n",
       "    .dataframe tbody tr th:only-of-type {\n",
       "        vertical-align: middle;\n",
       "    }\n",
       "\n",
       "    .dataframe tbody tr th {\n",
       "        vertical-align: top;\n",
       "    }\n",
       "\n",
       "    .dataframe thead th {\n",
       "        text-align: right;\n",
       "    }\n",
       "</style>\n",
       "<table border=\"1\" class=\"dataframe\">\n",
       "  <thead>\n",
       "    <tr style=\"text-align: right;\">\n",
       "      <th></th>\n",
       "      <th>isic_id</th>\n",
       "      <th>target</th>\n",
       "    </tr>\n",
       "  </thead>\n",
       "  <tbody>\n",
       "    <tr>\n",
       "      <th>278442</th>\n",
       "      <td>ISIC_6973879</td>\n",
       "      <td>0.000107</td>\n",
       "    </tr>\n",
       "    <tr>\n",
       "      <th>215021</th>\n",
       "      <td>ISIC_5407194</td>\n",
       "      <td>0.000040</td>\n",
       "    </tr>\n",
       "    <tr>\n",
       "      <th>209685</th>\n",
       "      <td>ISIC_5273739</td>\n",
       "      <td>0.036108</td>\n",
       "    </tr>\n",
       "    <tr>\n",
       "      <th>29648</th>\n",
       "      <td>ISIC_0802250</td>\n",
       "      <td>0.000168</td>\n",
       "    </tr>\n",
       "    <tr>\n",
       "      <th>323386</th>\n",
       "      <td>ISIC_8084953</td>\n",
       "      <td>0.002426</td>\n",
       "    </tr>\n",
       "  </tbody>\n",
       "</table>\n",
       "</div>"
      ],
      "text/plain": [
       "             isic_id    target\n",
       "278442  ISIC_6973879  0.000107\n",
       "215021  ISIC_5407194  0.000040\n",
       "209685  ISIC_5273739  0.036108\n",
       "29648   ISIC_0802250  0.000168\n",
       "323386  ISIC_8084953  0.002426"
      ]
     },
     "execution_count": 10,
     "metadata": {},
     "output_type": "execute_result"
    }
   ],
   "source": [
    "test_preds_df.head()"
   ]
  },
  {
   "cell_type": "code",
   "execution_count": 11,
   "id": "1d6a51b6",
   "metadata": {
    "execution": {
     "iopub.execute_input": "2024-08-16T23:44:54.918421Z",
     "iopub.status.busy": "2024-08-16T23:44:54.918094Z",
     "iopub.status.idle": "2024-08-16T23:44:54.931474Z",
     "shell.execute_reply": "2024-08-16T23:44:54.930560Z"
    },
    "papermill": {
     "duration": 0.021668,
     "end_time": "2024-08-16T23:44:54.933412",
     "exception": false,
     "start_time": "2024-08-16T23:44:54.911744",
     "status": "completed"
    },
    "tags": []
   },
   "outputs": [
    {
     "data": {
      "text/plain": [
       "count    5000.000000\n",
       "mean        0.007220\n",
       "std         0.027316\n",
       "min         0.000004\n",
       "25%         0.000406\n",
       "50%         0.001199\n",
       "75%         0.003784\n",
       "max         0.596426\n",
       "Name: target, dtype: float64"
      ]
     },
     "execution_count": 11,
     "metadata": {},
     "output_type": "execute_result"
    }
   ],
   "source": [
    "test_preds_df[target_column].describe()"
   ]
  },
  {
   "cell_type": "code",
   "execution_count": 12,
   "id": "eef1cf64",
   "metadata": {
    "execution": {
     "iopub.execute_input": "2024-08-16T23:44:54.945221Z",
     "iopub.status.busy": "2024-08-16T23:44:54.944918Z",
     "iopub.status.idle": "2024-08-16T23:44:54.955145Z",
     "shell.execute_reply": "2024-08-16T23:44:54.954356Z"
    },
    "papermill": {
     "duration": 0.018339,
     "end_time": "2024-08-16T23:44:54.957098",
     "exception": false,
     "start_time": "2024-08-16T23:44:54.938759",
     "status": "completed"
    },
    "tags": []
   },
   "outputs": [
    {
     "data": {
      "text/html": [
       "<div>\n",
       "<style scoped>\n",
       "    .dataframe tbody tr th:only-of-type {\n",
       "        vertical-align: middle;\n",
       "    }\n",
       "\n",
       "    .dataframe tbody tr th {\n",
       "        vertical-align: top;\n",
       "    }\n",
       "\n",
       "    .dataframe thead th {\n",
       "        text-align: right;\n",
       "    }\n",
       "</style>\n",
       "<table border=\"1\" class=\"dataframe\">\n",
       "  <thead>\n",
       "    <tr style=\"text-align: right;\">\n",
       "      <th></th>\n",
       "      <th>isic_id</th>\n",
       "      <th>target</th>\n",
       "    </tr>\n",
       "  </thead>\n",
       "  <tbody>\n",
       "    <tr>\n",
       "      <th>278442</th>\n",
       "      <td>ISIC_6973879</td>\n",
       "      <td>0.000107</td>\n",
       "    </tr>\n",
       "    <tr>\n",
       "      <th>215021</th>\n",
       "      <td>ISIC_5407194</td>\n",
       "      <td>0.000040</td>\n",
       "    </tr>\n",
       "    <tr>\n",
       "      <th>209685</th>\n",
       "      <td>ISIC_5273739</td>\n",
       "      <td>0.036108</td>\n",
       "    </tr>\n",
       "    <tr>\n",
       "      <th>29648</th>\n",
       "      <td>ISIC_0802250</td>\n",
       "      <td>0.000168</td>\n",
       "    </tr>\n",
       "    <tr>\n",
       "      <th>323386</th>\n",
       "      <td>ISIC_8084953</td>\n",
       "      <td>0.002426</td>\n",
       "    </tr>\n",
       "  </tbody>\n",
       "</table>\n",
       "</div>"
      ],
      "text/plain": [
       "             isic_id    target\n",
       "278442  ISIC_6973879  0.000107\n",
       "215021  ISIC_5407194  0.000040\n",
       "209685  ISIC_5273739  0.036108\n",
       "29648   ISIC_0802250  0.000168\n",
       "323386  ISIC_8084953  0.002426"
      ]
     },
     "execution_count": 12,
     "metadata": {},
     "output_type": "execute_result"
    }
   ],
   "source": [
    "test_preds_df[[id_column, target_column]].head()"
   ]
  },
  {
   "cell_type": "code",
   "execution_count": 13,
   "id": "7be62ade",
   "metadata": {
    "execution": {
     "iopub.execute_input": "2024-08-16T23:44:54.968860Z",
     "iopub.status.busy": "2024-08-16T23:44:54.968612Z",
     "iopub.status.idle": "2024-08-16T23:44:54.988991Z",
     "shell.execute_reply": "2024-08-16T23:44:54.988258Z"
    },
    "papermill": {
     "duration": 0.028454,
     "end_time": "2024-08-16T23:44:54.990904",
     "exception": false,
     "start_time": "2024-08-16T23:44:54.962450",
     "status": "completed"
    },
    "tags": []
   },
   "outputs": [],
   "source": [
    "test_preds_df[[id_column, target_column]].to_csv(\"submission.csv\", index=False)"
   ]
  },
  {
   "cell_type": "code",
   "execution_count": null,
   "id": "006c2498",
   "metadata": {
    "papermill": {
     "duration": 0.006292,
     "end_time": "2024-08-16T23:44:55.002612",
     "exception": false,
     "start_time": "2024-08-16T23:44:54.996320",
     "status": "completed"
    },
    "tags": []
   },
   "outputs": [],
   "source": []
  }
 ],
 "metadata": {
  "kaggle": {
   "accelerator": "gpu",
   "dataSources": [
    {
     "databundleVersionId": 9094797,
     "sourceId": 63056,
     "sourceType": "competition"
    },
    {
     "datasetId": 5554293,
     "sourceId": 9188236,
     "sourceType": "datasetVersion"
    },
    {
     "datasetId": 5554381,
     "sourceId": 9188412,
     "sourceType": "datasetVersion"
    },
    {
     "sourceId": 187477024,
     "sourceType": "kernelVersion"
    },
    {
     "sourceId": 192814855,
     "sourceType": "kernelVersion"
    }
   ],
   "dockerImageVersionId": 30733,
   "isGpuEnabled": true,
   "isInternetEnabled": false,
   "language": "python",
   "sourceType": "notebook"
  },
  "kernelspec": {
   "display_name": "Python 3",
   "language": "python",
   "name": "python3"
  },
  "language_info": {
   "codemirror_mode": {
    "name": "ipython",
    "version": 3
   },
   "file_extension": ".py",
   "mimetype": "text/x-python",
   "name": "python",
   "nbconvert_exporter": "python",
   "pygments_lexer": "ipython3",
   "version": "3.10.13"
  },
  "papermill": {
   "default_parameters": {},
   "duration": 36.241095,
   "end_time": "2024-08-16T23:44:57.389041",
   "environment_variables": {},
   "exception": null,
   "input_path": "__notebook__.ipynb",
   "output_path": "__notebook__.ipynb",
   "parameters": {},
   "start_time": "2024-08-16T23:44:21.147946",
   "version": "2.5.0"
  }
 },
 "nbformat": 4,
 "nbformat_minor": 5
}
