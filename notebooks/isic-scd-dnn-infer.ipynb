{
 "cells": [
  {
   "cell_type": "code",
   "execution_count": 1,
   "id": "6cb9f515",
   "metadata": {
    "_cell_guid": "b1076dfc-b9ad-4769-8c92-a6c4dae69d19",
    "_uuid": "8f2839f25d086af736a60e9eeb907d3b93b6e0e5",
    "execution": {
     "iopub.execute_input": "2024-08-20T05:10:30.421428Z",
     "iopub.status.busy": "2024-08-20T05:10:30.421113Z",
     "iopub.status.idle": "2024-08-20T05:10:37.386304Z",
     "shell.execute_reply": "2024-08-20T05:10:37.385348Z"
    },
    "papermill": {
     "duration": 6.974609,
     "end_time": "2024-08-20T05:10:37.388734",
     "exception": false,
     "start_time": "2024-08-20T05:10:30.414125",
     "status": "completed"
    },
    "tags": []
   },
   "outputs": [],
   "source": [
    "import time\n",
    "import json\n",
    "from pathlib import Path\n",
    "from pprint import pprint\n",
    "\n",
    "import h5py\n",
    "import numpy as np\n",
    "import pandas as pd\n",
    "\n",
    "from torch.utils.data import DataLoader\n",
    "from accelerate import Accelerator\n",
    "\n",
    "from isic_helper import get_folds"
   ]
  },
  {
   "cell_type": "code",
   "execution_count": 2,
   "id": "38ab0d37",
   "metadata": {
    "execution": {
     "iopub.execute_input": "2024-08-20T05:10:37.401455Z",
     "iopub.status.busy": "2024-08-20T05:10:37.400485Z",
     "iopub.status.idle": "2024-08-20T05:10:37.405479Z",
     "shell.execute_reply": "2024-08-20T05:10:37.404628Z"
    },
    "papermill": {
     "duration": 0.013079,
     "end_time": "2024-08-20T05:10:37.407358",
     "exception": false,
     "start_time": "2024-08-20T05:10:37.394279",
     "status": "completed"
    },
    "tags": []
   },
   "outputs": [],
   "source": [
    "model_name = \"efficientnet_b2\"\n",
    "version = \"v1\"\n",
    "mode = \"pretrain\"\n",
    "path = f\"/kaggle/input/isic-scd-{model_name.replace('_', '-')}-{version}-{mode}\"\n",
    "\n",
    "SAMPLE_SIZE = 5000\n",
    "EXPECTED_TEST_SIZE = 500000"
   ]
  },
  {
   "cell_type": "code",
   "execution_count": 3,
   "id": "0d6e53d1",
   "metadata": {
    "execution": {
     "iopub.execute_input": "2024-08-20T05:10:37.418385Z",
     "iopub.status.busy": "2024-08-20T05:10:37.418097Z",
     "iopub.status.idle": "2024-08-20T05:10:37.421964Z",
     "shell.execute_reply": "2024-08-20T05:10:37.421152Z"
    },
    "papermill": {
     "duration": 0.011733,
     "end_time": "2024-08-20T05:10:37.424015",
     "exception": false,
     "start_time": "2024-08-20T05:10:37.412282",
     "status": "completed"
    },
    "tags": []
   },
   "outputs": [],
   "source": [
    "import sys\n",
    "sys.path.append(path)"
   ]
  },
  {
   "cell_type": "code",
   "execution_count": 4,
   "id": "7e8f3473",
   "metadata": {
    "execution": {
     "iopub.execute_input": "2024-08-20T05:10:37.435013Z",
     "iopub.status.busy": "2024-08-20T05:10:37.434733Z",
     "iopub.status.idle": "2024-08-20T05:10:39.313764Z",
     "shell.execute_reply": "2024-08-20T05:10:39.312959Z"
    },
    "papermill": {
     "duration": 1.887258,
     "end_time": "2024-08-20T05:10:39.316205",
     "exception": false,
     "start_time": "2024-08-20T05:10:37.428947",
     "status": "completed"
    },
    "tags": []
   },
   "outputs": [],
   "source": [
    "from dataset import test_augment, ISICDataset, preprocess, get_emb_szs\n",
    "from models import ISICNet\n",
    "from engine import predict"
   ]
  },
  {
   "cell_type": "code",
   "execution_count": 5,
   "id": "14a095cf",
   "metadata": {
    "execution": {
     "iopub.execute_input": "2024-08-20T05:10:39.327631Z",
     "iopub.status.busy": "2024-08-20T05:10:39.327360Z",
     "iopub.status.idle": "2024-08-20T05:10:39.331346Z",
     "shell.execute_reply": "2024-08-20T05:10:39.330509Z"
    },
    "papermill": {
     "duration": 0.011851,
     "end_time": "2024-08-20T05:10:39.333272",
     "exception": false,
     "start_time": "2024-08-20T05:10:39.321421",
     "status": "completed"
    },
    "tags": []
   },
   "outputs": [],
   "source": [
    "id_column = \"isic_id\"\n",
    "target_column = \"target\"\n",
    "group_column = \"patient_id\""
   ]
  },
  {
   "cell_type": "code",
   "execution_count": 6,
   "id": "a2cd2650",
   "metadata": {
    "execution": {
     "iopub.execute_input": "2024-08-20T05:10:39.344224Z",
     "iopub.status.busy": "2024-08-20T05:10:39.343975Z",
     "iopub.status.idle": "2024-08-20T05:10:49.482708Z",
     "shell.execute_reply": "2024-08-20T05:10:49.481804Z"
    },
    "papermill": {
     "duration": 10.146637,
     "end_time": "2024-08-20T05:10:49.484894",
     "exception": false,
     "start_time": "2024-08-20T05:10:39.338257",
     "status": "completed"
    },
    "tags": []
   },
   "outputs": [
    {
     "name": "stdout",
     "output_type": "stream",
     "text": [
      "Train data size: (401059, 56)\n",
      "Test data size: (3, 44)\n"
     ]
    }
   ],
   "source": [
    "INPUT_PATH = Path(\"../input/isic-2024-challenge/\")\n",
    "\n",
    "train_metadata = pd.read_csv(INPUT_PATH / \"train-metadata.csv\", low_memory=False)\n",
    "test_metadata = pd.read_csv(INPUT_PATH / \"test-metadata.csv\")\n",
    "\n",
    "folds_df = get_folds()\n",
    "train_metadata = train_metadata.merge(folds_df, on=[\"isic_id\", \"patient_id\"], how=\"inner\")\n",
    "print(f\"Train data size: {train_metadata.shape}\")\n",
    "print(f\"Test data size: {test_metadata.shape}\")\n",
    "\n",
    "train_images = h5py.File(INPUT_PATH / \"train-image.hdf5\", mode=\"r\")\n",
    "test_images = h5py.File(INPUT_PATH / \"test-image.hdf5\", mode=\"r\")"
   ]
  },
  {
   "cell_type": "code",
   "execution_count": 7,
   "id": "c2eae0af",
   "metadata": {
    "execution": {
     "iopub.execute_input": "2024-08-20T05:10:49.496573Z",
     "iopub.status.busy": "2024-08-20T05:10:49.496274Z",
     "iopub.status.idle": "2024-08-20T05:10:49.507684Z",
     "shell.execute_reply": "2024-08-20T05:10:49.506818Z"
    },
    "papermill": {
     "duration": 0.019597,
     "end_time": "2024-08-20T05:10:49.509665",
     "exception": false,
     "start_time": "2024-08-20T05:10:49.490068",
     "status": "completed"
    },
    "tags": []
   },
   "outputs": [],
   "source": [
    "def get_dnn_predictions(train, test, test_images, model_name, version, path):\n",
    "    start_time = time.time()\n",
    "    with open(path / f\"{model_name}_{version}_run_metadata.json\", \"r\") as f:\n",
    "        run_metadata = json.load(f)\n",
    "    pprint(run_metadata[\"params\"])\n",
    "    \n",
    "    image_size = run_metadata[\"params\"][\"image_size\"]\n",
    "    batch_size = run_metadata[\"params\"][\"val_batch_size\"]\n",
    "    use_meta = run_metadata[\"params\"][\"use_meta\"]\n",
    "    \n",
    "    test_dataset = ISICDataset(\n",
    "        test_df, test_images, augment=test_augment(image_size), \n",
    "        use_meta=use_meta,\n",
    "        cat_cols=cat_cols,\n",
    "        cont_cols=cont_cols,\n",
    "        infer=True\n",
    "    )\n",
    "    test_dataloader = DataLoader(\n",
    "        test_dataset,\n",
    "        batch_size=batch_size,\n",
    "        shuffle=False,\n",
    "        num_workers=4,\n",
    "        drop_last=False,\n",
    "        pin_memory=True,\n",
    "    )\n",
    "    \n",
    "    fold_column = \"fold\"\n",
    "    all_folds = np.unique(train[fold_column])\n",
    "#     all_folds = [1]\n",
    "    test_predictions_df = pd.DataFrame({id_column: test[id_column]})\n",
    "    for fold in all_folds:\n",
    "        print(f\"\\nFold {fold}\")\n",
    "        accelerator = Accelerator(\n",
    "            mixed_precision=run_metadata[\"params\"][\"mixed_precision\"],\n",
    "        )\n",
    "        \n",
    "        model = ISICNet(model_name=model_name, pretrained=False,\n",
    "                        use_meta=use_meta,\n",
    "                        cat_cols=cat_cols,\n",
    "                        cont_cols=cont_cols,\n",
    "                        emb_szs=emb_szs,)\n",
    "        model = model.to(accelerator.device)\n",
    "        \n",
    "        model, test_dataloader = accelerator.prepare(model, test_dataloader)\n",
    "        model_filepath = path / f\"models/fold_{fold}\"\n",
    "        accelerator.load_state(model_filepath)\n",
    "\n",
    "        test_predictions_df[f\"fold_{fold}\"] = predict(model, test_dataloader, accelerator, n_tta=run_metadata[\"params\"][\"n_tta\"], use_meta=use_meta)\n",
    "    test_predictions_df[target_column] = test_predictions_df[[f\"fold_{fold}\" for fold in all_folds]].mean(axis=1)\n",
    "    end_time = time.time()\n",
    "    return test_predictions_df[[id_column, target_column]], (end_time - start_time)"
   ]
  },
  {
   "cell_type": "code",
   "execution_count": 8,
   "id": "d9f14d9a",
   "metadata": {
    "execution": {
     "iopub.execute_input": "2024-08-20T05:10:49.520772Z",
     "iopub.status.busy": "2024-08-20T05:10:49.520516Z",
     "iopub.status.idle": "2024-08-20T05:10:49.527284Z",
     "shell.execute_reply": "2024-08-20T05:10:49.526466Z"
    },
    "papermill": {
     "duration": 0.014476,
     "end_time": "2024-08-20T05:10:49.529169",
     "exception": false,
     "start_time": "2024-08-20T05:10:49.514693",
     "status": "completed"
    },
    "tags": []
   },
   "outputs": [],
   "source": [
    "def feature_engineering(df):\n",
    "    cat_cols = [\"age_approx\", \"sex\", \"anatom_site_general\",\n",
    "                \"tbp_tile_type\", \"tbp_lv_location\", \"tbp_lv_location_simple\"]\n",
    "    cont_cols = [\"clin_size_long_diam_mm\",\n",
    "                 \"tbp_lv_A\", \"tbp_lv_Aext\",\n",
    "                 \"tbp_lv_B\", \"tbp_lv_Bext\",\n",
    "                 \"tbp_lv_C\", \"tbp_lv_Cext\",\n",
    "                 \"tbp_lv_H\", \"tbp_lv_Hext\",\n",
    "                 \"tbp_lv_L\", \"tbp_lv_Lext\",\n",
    "                 \"tbp_lv_areaMM2\", \"tbp_lv_area_perim_ratio\",\n",
    "                 \"tbp_lv_color_std_mean\",\n",
    "                 # \"tbp_lv_deltaA\", \"tbp_lv_deltaB\", \"tbp_lv_deltaL\", \"tbp_lv_deltaLB\", \"tbp_lv_deltaLBnorm\",\n",
    "                 \"tbp_lv_eccentricity\",\n",
    "                 \"tbp_lv_minorAxisMM\", \"tbp_lv_nevi_confidence\", \"tbp_lv_norm_border\",\n",
    "                 \"tbp_lv_norm_color\", \"tbp_lv_perimeterMM\",\n",
    "                 \"tbp_lv_radial_color_std_max\", \"tbp_lv_stdL\", \"tbp_lv_stdLExt\",\n",
    "                 \"tbp_lv_symm_2axis\", \"tbp_lv_symm_2axis_angle\",\n",
    "                 # \"tbp_lv_x\", \"tbp_lv_y\", \"tbp_lv_z\"\n",
    "                 ]\n",
    "\n",
    "    # for col in cont_cols:\n",
    "    #     df, feature_name = norm_feature(df, col, [\"patient_id\"])\n",
    "    #     cont_cols.append(feature_name)\n",
    "    df[\"num_images\"] = df[\"patient_id\"].map(df.groupby(\"patient_id\")[\"isic_id\"].count())\n",
    "    cont_cols.append(\"num_images\")\n",
    "\n",
    "    for col in cont_cols:\n",
    "        df[col] = np.log(df[col] + 100)\n",
    "    return df, cat_cols, cont_cols"
   ]
  },
  {
   "cell_type": "code",
   "execution_count": 9,
   "id": "eb0bfcd6",
   "metadata": {
    "execution": {
     "iopub.execute_input": "2024-08-20T05:10:49.540156Z",
     "iopub.status.busy": "2024-08-20T05:10:49.539899Z",
     "iopub.status.idle": "2024-08-20T05:10:49.564467Z",
     "shell.execute_reply": "2024-08-20T05:10:49.563593Z"
    },
    "papermill": {
     "duration": 0.032778,
     "end_time": "2024-08-20T05:10:49.566936",
     "exception": false,
     "start_time": "2024-08-20T05:10:49.534158",
     "status": "completed"
    },
    "tags": []
   },
   "outputs": [
    {
     "name": "stdout",
     "output_type": "stream",
     "text": [
      "Preprocessing metadata...\n",
      "Feature engineering...\n"
     ]
    }
   ],
   "source": [
    "print(f\"Preprocessing metadata...\")\n",
    "test_metadata = preprocess(test_metadata)\n",
    "print(f\"Feature engineering...\")\n",
    "test_df, cat_cols, cont_cols = feature_engineering(test_metadata)\n",
    "emb_szs = get_emb_szs(cat_cols)"
   ]
  },
  {
   "cell_type": "code",
   "execution_count": 10,
   "id": "7d60a3f1",
   "metadata": {
    "execution": {
     "iopub.execute_input": "2024-08-20T05:10:49.578768Z",
     "iopub.status.busy": "2024-08-20T05:10:49.578514Z",
     "iopub.status.idle": "2024-08-20T05:10:56.925850Z",
     "shell.execute_reply": "2024-08-20T05:10:56.924539Z"
    },
    "papermill": {
     "duration": 7.355595,
     "end_time": "2024-08-20T05:10:56.927919",
     "exception": false,
     "start_time": "2024-08-20T05:10:49.572324",
     "status": "completed"
    },
    "tags": []
   },
   "outputs": [
    {
     "name": "stdout",
     "output_type": "stream",
     "text": [
      "{'debug': False,\n",
      " 'down_sampling': True,\n",
      " 'image_size': 128,\n",
      " 'init_lr': 3e-05,\n",
      " 'mixed_precision': 'fp16',\n",
      " 'mode': 'pretrain',\n",
      " 'n_tta': 8,\n",
      " 'num_epochs': 20,\n",
      " 'num_workers': 8,\n",
      " 'seed': 2022,\n",
      " 'train_batch_size': 64,\n",
      " 'use_meta': True,\n",
      " 'val_batch_size': 512}\n",
      "\n",
      "Fold 1\n",
      "Step: 1/1\n",
      "\n",
      "Fold 2\n",
      "Step: 1/1\n",
      "\n",
      "Fold 3\n",
      "Step: 1/1\n",
      "\n",
      "Fold 4\n",
      "Step: 1/1\n",
      "\n",
      "Fold 5\n",
      "Step: 1/1\n"
     ]
    }
   ],
   "source": [
    "test_preds_df, total_runtime = get_dnn_predictions(train_metadata, \n",
    "                                                   test_metadata, \n",
    "                                                   test_images, \n",
    "                                                   model_name, \n",
    "                                                   version, \n",
    "                                                   Path(path))"
   ]
  },
  {
   "cell_type": "code",
   "execution_count": 11,
   "id": "99965a28",
   "metadata": {
    "execution": {
     "iopub.execute_input": "2024-08-20T05:10:56.940864Z",
     "iopub.status.busy": "2024-08-20T05:10:56.940530Z",
     "iopub.status.idle": "2024-08-20T05:10:56.946546Z",
     "shell.execute_reply": "2024-08-20T05:10:56.945571Z"
    },
    "papermill": {
     "duration": 0.014885,
     "end_time": "2024-08-20T05:10:56.948496",
     "exception": false,
     "start_time": "2024-08-20T05:10:56.933611",
     "status": "completed"
    },
    "tags": []
   },
   "outputs": [
    {
     "name": "stdout",
     "output_type": "stream",
     "text": [
      "Expected total runtime during submission: 12 mins and 14.114837646484375 secs\n"
     ]
    }
   ],
   "source": [
    "factor = EXPECTED_TEST_SIZE / SAMPLE_SIZE\n",
    "expected_total_runtime = total_runtime * factor\n",
    "total_runtime_minutes = int(expected_total_runtime // 60)\n",
    "total_runtime_seconds = expected_total_runtime % 60\n",
    "print(f\"Expected total runtime during submission: {total_runtime_minutes} mins and {total_runtime_seconds} secs\")"
   ]
  },
  {
   "cell_type": "code",
   "execution_count": 12,
   "id": "1567c6a7",
   "metadata": {
    "execution": {
     "iopub.execute_input": "2024-08-20T05:10:56.961126Z",
     "iopub.status.busy": "2024-08-20T05:10:56.960841Z",
     "iopub.status.idle": "2024-08-20T05:10:56.975283Z",
     "shell.execute_reply": "2024-08-20T05:10:56.974347Z"
    },
    "papermill": {
     "duration": 0.023045,
     "end_time": "2024-08-20T05:10:56.977221",
     "exception": false,
     "start_time": "2024-08-20T05:10:56.954176",
     "status": "completed"
    },
    "tags": []
   },
   "outputs": [
    {
     "data": {
      "text/html": [
       "<div>\n",
       "<style scoped>\n",
       "    .dataframe tbody tr th:only-of-type {\n",
       "        vertical-align: middle;\n",
       "    }\n",
       "\n",
       "    .dataframe tbody tr th {\n",
       "        vertical-align: top;\n",
       "    }\n",
       "\n",
       "    .dataframe thead th {\n",
       "        text-align: right;\n",
       "    }\n",
       "</style>\n",
       "<table border=\"1\" class=\"dataframe\">\n",
       "  <thead>\n",
       "    <tr style=\"text-align: right;\">\n",
       "      <th></th>\n",
       "      <th>isic_id</th>\n",
       "      <th>target</th>\n",
       "    </tr>\n",
       "  </thead>\n",
       "  <tbody>\n",
       "    <tr>\n",
       "      <th>0</th>\n",
       "      <td>ISIC_0015657</td>\n",
       "      <td>0.007614</td>\n",
       "    </tr>\n",
       "    <tr>\n",
       "      <th>1</th>\n",
       "      <td>ISIC_0015729</td>\n",
       "      <td>0.000200</td>\n",
       "    </tr>\n",
       "    <tr>\n",
       "      <th>2</th>\n",
       "      <td>ISIC_0015740</td>\n",
       "      <td>0.000048</td>\n",
       "    </tr>\n",
       "  </tbody>\n",
       "</table>\n",
       "</div>"
      ],
      "text/plain": [
       "        isic_id    target\n",
       "0  ISIC_0015657  0.007614\n",
       "1  ISIC_0015729  0.000200\n",
       "2  ISIC_0015740  0.000048"
      ]
     },
     "execution_count": 12,
     "metadata": {},
     "output_type": "execute_result"
    }
   ],
   "source": [
    "test_preds_df.head()"
   ]
  },
  {
   "cell_type": "code",
   "execution_count": 13,
   "id": "754621b5",
   "metadata": {
    "execution": {
     "iopub.execute_input": "2024-08-20T05:10:56.991136Z",
     "iopub.status.busy": "2024-08-20T05:10:56.990833Z",
     "iopub.status.idle": "2024-08-20T05:10:57.003484Z",
     "shell.execute_reply": "2024-08-20T05:10:57.002640Z"
    },
    "papermill": {
     "duration": 0.022339,
     "end_time": "2024-08-20T05:10:57.005495",
     "exception": false,
     "start_time": "2024-08-20T05:10:56.983156",
     "status": "completed"
    },
    "tags": []
   },
   "outputs": [
    {
     "data": {
      "text/plain": [
       "count    3.000000\n",
       "mean     0.002621\n",
       "std      0.004325\n",
       "min      0.000048\n",
       "25%      0.000124\n",
       "50%      0.000200\n",
       "75%      0.003907\n",
       "max      0.007614\n",
       "Name: target, dtype: float64"
      ]
     },
     "execution_count": 13,
     "metadata": {},
     "output_type": "execute_result"
    }
   ],
   "source": [
    "test_preds_df[target_column].describe()"
   ]
  },
  {
   "cell_type": "code",
   "execution_count": 14,
   "id": "c33d8343",
   "metadata": {
    "execution": {
     "iopub.execute_input": "2024-08-20T05:10:57.018584Z",
     "iopub.status.busy": "2024-08-20T05:10:57.018323Z",
     "iopub.status.idle": "2024-08-20T05:10:57.027395Z",
     "shell.execute_reply": "2024-08-20T05:10:57.026569Z"
    },
    "papermill": {
     "duration": 0.018054,
     "end_time": "2024-08-20T05:10:57.029511",
     "exception": false,
     "start_time": "2024-08-20T05:10:57.011457",
     "status": "completed"
    },
    "tags": []
   },
   "outputs": [
    {
     "data": {
      "text/html": [
       "<div>\n",
       "<style scoped>\n",
       "    .dataframe tbody tr th:only-of-type {\n",
       "        vertical-align: middle;\n",
       "    }\n",
       "\n",
       "    .dataframe tbody tr th {\n",
       "        vertical-align: top;\n",
       "    }\n",
       "\n",
       "    .dataframe thead th {\n",
       "        text-align: right;\n",
       "    }\n",
       "</style>\n",
       "<table border=\"1\" class=\"dataframe\">\n",
       "  <thead>\n",
       "    <tr style=\"text-align: right;\">\n",
       "      <th></th>\n",
       "      <th>isic_id</th>\n",
       "      <th>target</th>\n",
       "    </tr>\n",
       "  </thead>\n",
       "  <tbody>\n",
       "    <tr>\n",
       "      <th>0</th>\n",
       "      <td>ISIC_0015657</td>\n",
       "      <td>0.007614</td>\n",
       "    </tr>\n",
       "    <tr>\n",
       "      <th>1</th>\n",
       "      <td>ISIC_0015729</td>\n",
       "      <td>0.000200</td>\n",
       "    </tr>\n",
       "    <tr>\n",
       "      <th>2</th>\n",
       "      <td>ISIC_0015740</td>\n",
       "      <td>0.000048</td>\n",
       "    </tr>\n",
       "  </tbody>\n",
       "</table>\n",
       "</div>"
      ],
      "text/plain": [
       "        isic_id    target\n",
       "0  ISIC_0015657  0.007614\n",
       "1  ISIC_0015729  0.000200\n",
       "2  ISIC_0015740  0.000048"
      ]
     },
     "execution_count": 14,
     "metadata": {},
     "output_type": "execute_result"
    }
   ],
   "source": [
    "test_preds_df[[id_column, target_column]].head()"
   ]
  },
  {
   "cell_type": "code",
   "execution_count": 15,
   "id": "7c3f9a8f",
   "metadata": {
    "execution": {
     "iopub.execute_input": "2024-08-20T05:10:57.044228Z",
     "iopub.status.busy": "2024-08-20T05:10:57.043620Z",
     "iopub.status.idle": "2024-08-20T05:10:57.051055Z",
     "shell.execute_reply": "2024-08-20T05:10:57.050337Z"
    },
    "papermill": {
     "duration": 0.017077,
     "end_time": "2024-08-20T05:10:57.052978",
     "exception": false,
     "start_time": "2024-08-20T05:10:57.035901",
     "status": "completed"
    },
    "tags": []
   },
   "outputs": [],
   "source": [
    "test_preds_df[[id_column, target_column]].to_csv(\"submission.csv\", index=False)"
   ]
  },
  {
   "cell_type": "code",
   "execution_count": null,
   "id": "c03ec0ea",
   "metadata": {
    "papermill": {
     "duration": 0.006149,
     "end_time": "2024-08-20T05:10:57.065309",
     "exception": false,
     "start_time": "2024-08-20T05:10:57.059160",
     "status": "completed"
    },
    "tags": []
   },
   "outputs": [],
   "source": []
  }
 ],
 "metadata": {
  "kaggle": {
   "accelerator": "gpu",
   "dataSources": [
    {
     "databundleVersionId": 9094797,
     "sourceId": 63056,
     "sourceType": "competition"
    },
    {
     "datasetId": 5554293,
     "sourceId": 9206970,
     "sourceType": "datasetVersion"
    },
    {
     "sourceId": 187477024,
     "sourceType": "kernelVersion"
    },
    {
     "sourceId": 193130710,
     "sourceType": "kernelVersion"
    }
   ],
   "dockerImageVersionId": 30733,
   "isGpuEnabled": true,
   "isInternetEnabled": false,
   "language": "python",
   "sourceType": "notebook"
  },
  "kernelspec": {
   "display_name": "Python 3",
   "language": "python",
   "name": "python3"
  },
  "language_info": {
   "codemirror_mode": {
    "name": "ipython",
    "version": 3
   },
   "file_extension": ".py",
   "mimetype": "text/x-python",
   "name": "python",
   "nbconvert_exporter": "python",
   "pygments_lexer": "ipython3",
   "version": "3.10.13"
  },
  "papermill": {
   "default_parameters": {},
   "duration": 32.14493,
   "end_time": "2024-08-20T05:10:59.842952",
   "environment_variables": {},
   "exception": null,
   "input_path": "__notebook__.ipynb",
   "output_path": "__notebook__.ipynb",
   "parameters": {},
   "start_time": "2024-08-20T05:10:27.698022",
   "version": "2.5.0"
  }
 },
 "nbformat": 4,
 "nbformat_minor": 5
}
