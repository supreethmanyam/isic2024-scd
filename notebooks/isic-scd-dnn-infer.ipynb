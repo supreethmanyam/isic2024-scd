{
 "cells": [
  {
   "cell_type": "code",
   "execution_count": 1,
   "id": "2bf191c3",
   "metadata": {
    "_cell_guid": "b1076dfc-b9ad-4769-8c92-a6c4dae69d19",
    "_uuid": "8f2839f25d086af736a60e9eeb907d3b93b6e0e5",
    "execution": {
     "iopub.execute_input": "2024-08-05T16:13:24.036071Z",
     "iopub.status.busy": "2024-08-05T16:13:24.035273Z",
     "iopub.status.idle": "2024-08-05T16:13:32.879553Z",
     "shell.execute_reply": "2024-08-05T16:13:32.878762Z"
    },
    "papermill": {
     "duration": 8.852769,
     "end_time": "2024-08-05T16:13:32.881802",
     "exception": false,
     "start_time": "2024-08-05T16:13:24.029033",
     "status": "completed"
    },
    "tags": []
   },
   "outputs": [],
   "source": [
    "import json\n",
    "import joblib\n",
    "from pprint import pprint\n",
    "from tqdm import tqdm\n",
    "from pathlib import Path\n",
    "\n",
    "import pandas as pd\n",
    "import numpy as np\n",
    "\n",
    "import h5py\n",
    "from io import BytesIO\n",
    "from PIL import Image\n",
    "\n",
    "import torch\n",
    "from torch.utils.data import DataLoader, Dataset\n",
    "import torch.nn as nn\n",
    "import torch.nn.functional as F\n",
    "\n",
    "from timm import create_model\n",
    "\n",
    "import albumentations as A\n",
    "from albumentations.pytorch import ToTensorV2\n",
    "\n",
    "from accelerate import Accelerator\n",
    "\n",
    "from isic_helper import DotDict, get_folds"
   ]
  },
  {
   "cell_type": "code",
   "execution_count": 2,
   "id": "410fbb8c",
   "metadata": {
    "execution": {
     "iopub.execute_input": "2024-08-05T16:13:32.892575Z",
     "iopub.status.busy": "2024-08-05T16:13:32.892089Z",
     "iopub.status.idle": "2024-08-05T16:13:32.896330Z",
     "shell.execute_reply": "2024-08-05T16:13:32.895579Z"
    },
    "papermill": {
     "duration": 0.011465,
     "end_time": "2024-08-05T16:13:32.898204",
     "exception": false,
     "start_time": "2024-08-05T16:13:32.886739",
     "status": "completed"
    },
    "tags": []
   },
   "outputs": [],
   "source": [
    "model_name = \"efficientnet_b1\"\n",
    "version = \"v1\"\n",
    "path = f\"/kaggle/input/isic-scd-{model_name.replace('_', '-')}-{version}-train\""
   ]
  },
  {
   "cell_type": "code",
   "execution_count": 3,
   "id": "26dc5929",
   "metadata": {
    "execution": {
     "iopub.execute_input": "2024-08-05T16:13:32.908008Z",
     "iopub.status.busy": "2024-08-05T16:13:32.907741Z",
     "iopub.status.idle": "2024-08-05T16:13:32.911556Z",
     "shell.execute_reply": "2024-08-05T16:13:32.910750Z"
    },
    "papermill": {
     "duration": 0.010763,
     "end_time": "2024-08-05T16:13:32.913447",
     "exception": false,
     "start_time": "2024-08-05T16:13:32.902684",
     "status": "completed"
    },
    "tags": []
   },
   "outputs": [],
   "source": [
    "id_column = \"isic_id\"\n",
    "target_column = \"target\"\n",
    "group_column = \"patient_id\""
   ]
  },
  {
   "cell_type": "code",
   "execution_count": 4,
   "id": "fadae169",
   "metadata": {
    "execution": {
     "iopub.execute_input": "2024-08-05T16:13:32.923617Z",
     "iopub.status.busy": "2024-08-05T16:13:32.923353Z",
     "iopub.status.idle": "2024-08-05T16:13:32.933822Z",
     "shell.execute_reply": "2024-08-05T16:13:32.933065Z"
    },
    "papermill": {
     "duration": 0.017785,
     "end_time": "2024-08-05T16:13:32.935671",
     "exception": false,
     "start_time": "2024-08-05T16:13:32.917886",
     "status": "completed"
    },
    "tags": []
   },
   "outputs": [],
   "source": [
    "label_mapping = {\n",
    "    \"2024\": {\n",
    "        \"Hidradenoma\": \"unknown\",\n",
    "        \"Lichen planus like keratosis\": \"BKL\",\n",
    "        \"Pigmented benign keratosis\": \"BKL\",\n",
    "        \"Seborrheic keratosis\": \"BKL\",\n",
    "        \"Solar lentigo\": \"BKL\",\n",
    "        \"Nevus\": \"NV\",\n",
    "        \"Angiofibroma\": \"unknown\",\n",
    "        \"Dermatofibroma\": \"DF\",\n",
    "        \"Fibroepithelial polyp\": \"unknown\",\n",
    "        \"Scar\": \"unknown\",\n",
    "        \"Hemangioma\": \"unknown\",\n",
    "        \"Trichilemmal or isthmic-catagen or pilar cyst\": \"unknown\",\n",
    "        \"Lentigo NOS\": \"BKL\",\n",
    "        \"Verruca\": \"unknown\",\n",
    "        \"Solar or actinic keratosis\": \"AKIEC\",\n",
    "        \"Atypical intraepithelial melanocytic proliferation\": \"unknown\",\n",
    "        \"Atypical melanocytic neoplasm\": \"unknown\",\n",
    "        \"Basal cell carcinoma\": \"BCC\",\n",
    "        \"Squamous cell carcinoma in situ\": \"SCC\",\n",
    "        \"Squamous cell carcinoma, Invasive\": \"SCC\",\n",
    "        \"Squamous cell carcinoma, NOS\": \"SCC\",\n",
    "        \"Melanoma in situ\": \"MEL\",\n",
    "        \"Melanoma Invasive\": \"MEL\",\n",
    "        \"Melanoma metastasis\": \"MEL\",\n",
    "        \"Melanoma, NOS\": \"MEL\",\n",
    "    },\n",
    "    \"2020\": {\n",
    "        \"nevus\": \"NV\",\n",
    "        \"melanoma\": \"MEL\",\n",
    "        \"seborrheic keratosis\": \"BKL\",\n",
    "        \"lentigo NOS\": \"BKL\",\n",
    "        \"lichenoid keratosis\": \"BKL\",\n",
    "        \"other\": \"unknown\",\n",
    "        \"solar lentigo\": \"BKL\",\n",
    "        \"scar\": \"unknown\",\n",
    "        \"cafe-au-lait macule\": \"unknown\",\n",
    "        \"atypical melanocytic proliferation\": \"unknown\",\n",
    "        \"pigmented benign keratosis\": \"BKL\",\n",
    "    },\n",
    "    \"2019\": {\n",
    "        \"nevus\": \"NV\",\n",
    "        \"melanoma\": \"MEL\",\n",
    "        \"seborrheic keratosis\": \"BKL\",\n",
    "        \"pigmented benign keratosis\": \"BKL\",\n",
    "        \"dermatofibroma\": \"DF\",\n",
    "        \"squamous cell carcinoma\": \"SCC\",\n",
    "        \"basal cell carcinoma\": \"BCC\",\n",
    "        \"vascular lesion\": \"VASC\",\n",
    "        \"actinic keratosis\": \"AKIEC\",\n",
    "        \"solar lentigo\": \"BKL\",\n",
    "    },\n",
    "    \"2018\": {\n",
    "        \"nevus\": \"NV\",\n",
    "        \"melanoma\": \"MEL\",\n",
    "        \"pigmented benign keratosis\": \"BKL\",\n",
    "        \"basal cell carcinoma\": \"BCC\",\n",
    "        \"squamous cell carcinoma\": \"SCC\",\n",
    "        \"vascular lesion\": \"VASC\",\n",
    "        \"actinic keratosis\": \"AKIEC\",\n",
    "        \"dermatofibroma\": \"DF\",\n",
    "    },\n",
    "}\n",
    "\n",
    "\n",
    "all_labels = np.unique(list(label_mapping[\"2024\"].values()) +\n",
    "                       list(label_mapping[\"2020\"].values()) +\n",
    "                       list(label_mapping[\"2019\"].values()))\n",
    "label2idx = {label: idx for idx, label in enumerate(all_labels)}\n",
    "malignant_labels = [\"BCC\", \"MEL\", \"SCC\"]\n",
    "malignant_idx = [label2idx[label] for label in malignant_labels]"
   ]
  },
  {
   "cell_type": "code",
   "execution_count": 5,
   "id": "5d0a9d1e",
   "metadata": {
    "execution": {
     "iopub.execute_input": "2024-08-05T16:13:32.945710Z",
     "iopub.status.busy": "2024-08-05T16:13:32.945472Z",
     "iopub.status.idle": "2024-08-05T16:13:32.969371Z",
     "shell.execute_reply": "2024-08-05T16:13:32.968708Z"
    },
    "papermill": {
     "duration": 0.031223,
     "end_time": "2024-08-05T16:13:32.971317",
     "exception": false,
     "start_time": "2024-08-05T16:13:32.940094",
     "status": "completed"
    },
    "tags": []
   },
   "outputs": [],
   "source": [
    "def val_augment(image_size):\n",
    "    transform = A.Compose(\n",
    "        [A.Resize(image_size, image_size), A.Normalize(), ToTensorV2()], p=1.0\n",
    "    )\n",
    "    return transform\n",
    "\n",
    "\n",
    "class ISICDataset(Dataset):\n",
    "    def __init__(self, metadata, images, augment, feature_cols, infer=False):\n",
    "        self.metadata = metadata\n",
    "        self.images = images\n",
    "        self.augment = augment\n",
    "        self.feature_cols = feature_cols\n",
    "        self.length = len(self.metadata)\n",
    "        self.infer = infer\n",
    "\n",
    "    def __len__(self):\n",
    "        return self.length\n",
    "\n",
    "    def __getitem__(self, index):\n",
    "        row = self.metadata.iloc[index]\n",
    "\n",
    "        image = np.array(Image.open(BytesIO(self.images[row[\"isic_id\"]][()])))\n",
    "        if self.augment is not None:\n",
    "            image = self.augment(image=image)[\"image\"]\n",
    "\n",
    "        if self.feature_cols is not None:\n",
    "            data = (\n",
    "                image.float(),\n",
    "                torch.tensor(row[self.feature_cols].values.tolist()).float(),\n",
    "            )\n",
    "        else:\n",
    "            data = image.float()\n",
    "\n",
    "        if self.infer:\n",
    "            return data\n",
    "        else:\n",
    "            label = torch.tensor(row[\"label\"]).long()\n",
    "            return data, label\n",
    "\n",
    "    \n",
    "class ISICNet(nn.Module):\n",
    "    def __init__(\n",
    "        self,\n",
    "        model_name,\n",
    "        out_dim,\n",
    "        n_features=0,\n",
    "        n_meta_dim=(512, 128),\n",
    "        pretrained=True,\n",
    "        infer=False,\n",
    "    ):\n",
    "        super(ISICNet, self).__init__()\n",
    "        self.infer = infer\n",
    "        self.model = create_model(\n",
    "            model_name=model_name,\n",
    "            pretrained=pretrained,\n",
    "            in_chans=3,\n",
    "            num_classes=0,\n",
    "            global_pool=\"\",\n",
    "        )\n",
    "        self.dropouts = nn.ModuleList([nn.Dropout(0.5) for _ in range(5)])\n",
    "\n",
    "        in_dim = self.model.num_features\n",
    "        self.n_features = n_features\n",
    "        n_meta_dim = list(n_meta_dim)\n",
    "        if n_features > 0:\n",
    "            self.meta = nn.Sequential(\n",
    "                nn.Linear(n_features, n_meta_dim[0]),\n",
    "                nn.BatchNorm1d(n_meta_dim[0]),\n",
    "                nn.SiLU(),\n",
    "                nn.Dropout(0.3),\n",
    "                nn.Linear(n_meta_dim[0], n_meta_dim[1]),\n",
    "                nn.BatchNorm1d(n_meta_dim[1]),\n",
    "                nn.SiLU(),\n",
    "            )\n",
    "            in_dim += n_meta_dim[1]\n",
    "        self.classifier = nn.Linear(in_dim, out_dim)\n",
    "\n",
    "    def forward(self, image, meta=None):\n",
    "        x = self.model(image)\n",
    "        bs = len(image)\n",
    "        pool = F.adaptive_avg_pool2d(x, 1).reshape(bs, -1)\n",
    "\n",
    "        if self.n_features > 0:\n",
    "            meta = self.meta(meta)\n",
    "            pool = torch.cat((pool, meta), dim=1)\n",
    "\n",
    "        logit = 0\n",
    "        for i in range(len(self.dropouts)):\n",
    "            logit += self.classifier(self.dropouts[i](pool))\n",
    "        logit = logit / len(self.dropouts)\n",
    "        return logit\n",
    "    \n",
    "\n",
    "def get_trans(img, iteration):\n",
    "    if iteration >= 6:\n",
    "        img = img.transpose(2, 3)\n",
    "    if iteration % 6 == 0:\n",
    "        return img\n",
    "    elif iteration % 6 == 1:\n",
    "        return torch.flip(img, dims=[2])\n",
    "    elif iteration % 6 == 2:\n",
    "        return torch.flip(img, dims=[3])\n",
    "    elif iteration % 6 == 3:\n",
    "        return torch.rot90(img, 1, dims=[2, 3])\n",
    "    elif iteration % 6 == 4:\n",
    "        return torch.rot90(img, 2, dims=[2, 3])\n",
    "    elif iteration % 6 == 5:\n",
    "        return torch.rot90(img, 3, dims=[2, 3])\n",
    "\n",
    "    \n",
    "def predict(model, test_dataloader, accelerator, out_dim, n_tta, malignant_idx, log_interval=50):\n",
    "    model.eval()\n",
    "    test_probs = []\n",
    "    total_steps = len(test_dataloader)\n",
    "    with torch.no_grad():\n",
    "        for step, data in enumerate(test_dataloader):\n",
    "            logits = torch.zeros((data.shape[0], out_dim)).to(accelerator.device)\n",
    "            probs = torch.zeros((data.shape[0], out_dim)).to(accelerator.device)\n",
    "            for idx in range(n_tta):\n",
    "                logits_iter = model(get_trans(data, idx))\n",
    "                logits += logits_iter\n",
    "                probs += logits_iter.softmax(1)\n",
    "            logits /= n_tta\n",
    "            probs /= n_tta\n",
    "\n",
    "            logits, probs = accelerator.gather((logits, probs))\n",
    "            test_probs.append(probs)\n",
    "\n",
    "            if step % log_interval == 0:\n",
    "                print(\n",
    "                    f\"Step: {step + 1}/{total_steps}\"\n",
    "                )\n",
    "\n",
    "    test_probs = torch.cat(test_probs).cpu().numpy()\n",
    "    if out_dim == 9:\n",
    "        binary_probs = test_probs[:, malignant_idx].sum(1)\n",
    "    else:\n",
    "        binary_probs = test_probs[:, 1]\n",
    "    return binary_probs"
   ]
  },
  {
   "cell_type": "code",
   "execution_count": 6,
   "id": "135903b3",
   "metadata": {
    "execution": {
     "iopub.execute_input": "2024-08-05T16:13:32.980963Z",
     "iopub.status.busy": "2024-08-05T16:13:32.980701Z",
     "iopub.status.idle": "2024-08-05T16:13:44.477064Z",
     "shell.execute_reply": "2024-08-05T16:13:44.476071Z"
    },
    "papermill": {
     "duration": 11.504201,
     "end_time": "2024-08-05T16:13:44.479859",
     "exception": false,
     "start_time": "2024-08-05T16:13:32.975658",
     "status": "completed"
    },
    "tags": []
   },
   "outputs": [
    {
     "name": "stdout",
     "output_type": "stream",
     "text": [
      "Train data size: (401059, 57)\n",
      "Test data size: (3, 44)\n"
     ]
    }
   ],
   "source": [
    "INPUT_PATH = Path(\"../input/isic-2024-challenge/\")\n",
    "\n",
    "train_metadata = pd.read_csv(INPUT_PATH / \"train-metadata.csv\", low_memory=False)\n",
    "test_metadata = pd.read_csv(INPUT_PATH / \"test-metadata.csv\")\n",
    "\n",
    "folds_df = get_folds()\n",
    "train_metadata = train_metadata.merge(folds_df, on=[\"isic_id\", \"patient_id\"], how=\"inner\")\n",
    "print(f\"Train data size: {train_metadata.shape}\")\n",
    "print(f\"Test data size: {test_metadata.shape}\")\n",
    "\n",
    "test_images = h5py.File(INPUT_PATH / \"test-image.hdf5\", mode=\"r\")"
   ]
  },
  {
   "cell_type": "code",
   "execution_count": 7,
   "id": "05ebb8e8",
   "metadata": {
    "execution": {
     "iopub.execute_input": "2024-08-05T16:13:44.490493Z",
     "iopub.status.busy": "2024-08-05T16:13:44.490170Z",
     "iopub.status.idle": "2024-08-05T16:13:44.500007Z",
     "shell.execute_reply": "2024-08-05T16:13:44.499174Z"
    },
    "papermill": {
     "duration": 0.017489,
     "end_time": "2024-08-05T16:13:44.502210",
     "exception": false,
     "start_time": "2024-08-05T16:13:44.484721",
     "status": "completed"
    },
    "tags": []
   },
   "outputs": [],
   "source": [
    "def get_dnn_predictions(train, test, test_images, model_name, version, path):\n",
    "    with open(path / f\"{model_name}_{version}_run_metadata.json\", \"r\") as f:\n",
    "        run_metadata = json.load(f)\n",
    "    pprint(run_metadata)\n",
    "    \n",
    "    test_dataset = ISICDataset(\n",
    "        test, test_images, augment=val_augment(run_metadata[\"params\"][\"image_size\"]), feature_cols=None, infer=True\n",
    "    )\n",
    "    test_dataloader = DataLoader(\n",
    "        test_dataset,\n",
    "        batch_size=run_metadata[\"params\"][\"batch_size\"],\n",
    "        shuffle=False,\n",
    "        num_workers=2,\n",
    "        drop_last=False,\n",
    "        pin_memory=True,\n",
    "    )\n",
    "    \n",
    "    all_folds = np.unique(train[\"fold\"])\n",
    "    test_predictions_df = pd.DataFrame({id_column: test_metadata[id_column]})\n",
    "    for fold in all_folds:\n",
    "        accelerator = Accelerator(\n",
    "            mixed_precision=run_metadata[\"params\"][\"mixed_precision\"],\n",
    "        )\n",
    "            \n",
    "        model = ISICNet(model_name=model_name, out_dim=run_metadata[\"params\"][\"out_dim\"], \n",
    "                        n_features=0, n_meta_dim=(),\n",
    "                        pretrained=False, infer=True)\n",
    "        model = model.to(accelerator.device)\n",
    "        \n",
    "        model, test_dataloader = accelerator.prepare(model, test_dataloader)\n",
    "        model_filepath = path / f\"models/fold_{fold}\"\n",
    "        accelerator.load_state(model_filepath)\n",
    "\n",
    "        test_predictions_df[f\"fold_{fold}\"] = predict(model, test_dataloader, accelerator, out_dim=run_metadata[\"params\"][\"out_dim\"], n_tta=run_metadata[\"params\"][\"n_tta\"], malignant_idx=malignant_idx)\n",
    "    test_predictions_df[target_column] = test_predictions_df[[f\"fold_{fold}\" for fold in all_folds]].mean(axis=1)\n",
    "    return test_predictions_df#[[id_column, target_column]]"
   ]
  },
  {
   "cell_type": "code",
   "execution_count": 8,
   "id": "8fc43dfa",
   "metadata": {
    "execution": {
     "iopub.execute_input": "2024-08-05T16:13:44.512639Z",
     "iopub.status.busy": "2024-08-05T16:13:44.512166Z",
     "iopub.status.idle": "2024-08-05T16:13:50.669061Z",
     "shell.execute_reply": "2024-08-05T16:13:50.667821Z"
    },
    "papermill": {
     "duration": 6.164616,
     "end_time": "2024-08-05T16:13:50.671277",
     "exception": false,
     "start_time": "2024-08-05T16:13:44.506661",
     "status": "completed"
    },
    "tags": []
   },
   "outputs": [
    {
     "name": "stdout",
     "output_type": "stream",
     "text": [
      "{'best_num_epochs': {'fold_1': 16,\n",
      "                     'fold_2': 14,\n",
      "                     'fold_3': 10,\n",
      "                     'fold_4': 19,\n",
      "                     'fold_5': 17},\n",
      " 'cv_auc_avg': 0.9556208403089806,\n",
      " 'cv_auc_oof': 0.9549789930554431,\n",
      " 'cv_auc_std': 0.010148714264334568,\n",
      " 'cv_pauc_avg': 0.16690491293698612,\n",
      " 'cv_pauc_oof': 0.16639236637918978,\n",
      " 'cv_pauc_std': 0.00780279865073275,\n",
      " 'params': {'batch_size': 64,\n",
      "            'debug': False,\n",
      "            'ext': '2020,2019',\n",
      "            'image_size': 192,\n",
      "            'init_lr': 3e-05,\n",
      "            'mixed_precision': 'fp16',\n",
      "            'n_meta_dim': '256,128',\n",
      "            'n_tta': 10,\n",
      "            'num_epochs': 25,\n",
      "            'num_workers': 8,\n",
      "            'out_dim': 9,\n",
      "            'seed': 2022,\n",
      "            'use_meta': False},\n",
      " 'val_auc_scores': {'fold_1': 0.9675562093421509,\n",
      "                    'fold_2': 0.9619971483662302,\n",
      "                    'fold_3': 0.9400506670327339,\n",
      "                    'fold_4': 0.9607954474547928,\n",
      "                    'fold_5': 0.9477047293489956},\n",
      " 'val_pauc_scores': {'fold_1': 0.17463081485942336,\n",
      "                     'fold_2': 0.17233940841398346,\n",
      "                     'fold_3': 0.15380455129725074,\n",
      "                     'fold_4': 0.1715425365963235,\n",
      "                     'fold_5': 0.16220725351794946}}\n",
      "Step: 1/1\n",
      "Step: 1/1\n",
      "Step: 1/1\n",
      "Step: 1/1\n",
      "Step: 1/1\n"
     ]
    }
   ],
   "source": [
    "test_preds_df = get_dnn_predictions(train_metadata, test_metadata, test_images, model_name, version, Path(path))"
   ]
  },
  {
   "cell_type": "code",
   "execution_count": 9,
   "id": "70526798",
   "metadata": {
    "execution": {
     "iopub.execute_input": "2024-08-05T16:13:50.683044Z",
     "iopub.status.busy": "2024-08-05T16:13:50.682716Z",
     "iopub.status.idle": "2024-08-05T16:13:50.700852Z",
     "shell.execute_reply": "2024-08-05T16:13:50.699891Z"
    },
    "papermill": {
     "duration": 0.026304,
     "end_time": "2024-08-05T16:13:50.702833",
     "exception": false,
     "start_time": "2024-08-05T16:13:50.676529",
     "status": "completed"
    },
    "tags": []
   },
   "outputs": [
    {
     "data": {
      "text/html": [
       "<div>\n",
       "<style scoped>\n",
       "    .dataframe tbody tr th:only-of-type {\n",
       "        vertical-align: middle;\n",
       "    }\n",
       "\n",
       "    .dataframe tbody tr th {\n",
       "        vertical-align: top;\n",
       "    }\n",
       "\n",
       "    .dataframe thead th {\n",
       "        text-align: right;\n",
       "    }\n",
       "</style>\n",
       "<table border=\"1\" class=\"dataframe\">\n",
       "  <thead>\n",
       "    <tr style=\"text-align: right;\">\n",
       "      <th></th>\n",
       "      <th>isic_id</th>\n",
       "      <th>fold_1</th>\n",
       "      <th>fold_2</th>\n",
       "      <th>fold_3</th>\n",
       "      <th>fold_4</th>\n",
       "      <th>fold_5</th>\n",
       "      <th>target</th>\n",
       "    </tr>\n",
       "  </thead>\n",
       "  <tbody>\n",
       "    <tr>\n",
       "      <th>0</th>\n",
       "      <td>ISIC_0015657</td>\n",
       "      <td>0.001515</td>\n",
       "      <td>0.018663</td>\n",
       "      <td>0.025294</td>\n",
       "      <td>0.000159</td>\n",
       "      <td>0.021845</td>\n",
       "      <td>0.013495</td>\n",
       "    </tr>\n",
       "    <tr>\n",
       "      <th>1</th>\n",
       "      <td>ISIC_0015729</td>\n",
       "      <td>0.003735</td>\n",
       "      <td>0.001429</td>\n",
       "      <td>0.015155</td>\n",
       "      <td>0.009515</td>\n",
       "      <td>0.003325</td>\n",
       "      <td>0.006632</td>\n",
       "    </tr>\n",
       "    <tr>\n",
       "      <th>2</th>\n",
       "      <td>ISIC_0015740</td>\n",
       "      <td>0.003018</td>\n",
       "      <td>0.020915</td>\n",
       "      <td>0.009250</td>\n",
       "      <td>0.002829</td>\n",
       "      <td>0.007989</td>\n",
       "      <td>0.008800</td>\n",
       "    </tr>\n",
       "  </tbody>\n",
       "</table>\n",
       "</div>"
      ],
      "text/plain": [
       "        isic_id    fold_1    fold_2    fold_3    fold_4    fold_5    target\n",
       "0  ISIC_0015657  0.001515  0.018663  0.025294  0.000159  0.021845  0.013495\n",
       "1  ISIC_0015729  0.003735  0.001429  0.015155  0.009515  0.003325  0.006632\n",
       "2  ISIC_0015740  0.003018  0.020915  0.009250  0.002829  0.007989  0.008800"
      ]
     },
     "execution_count": 9,
     "metadata": {},
     "output_type": "execute_result"
    }
   ],
   "source": [
    "test_preds_df.head()"
   ]
  },
  {
   "cell_type": "code",
   "execution_count": 10,
   "id": "6826275f",
   "metadata": {
    "execution": {
     "iopub.execute_input": "2024-08-05T16:13:50.714525Z",
     "iopub.status.busy": "2024-08-05T16:13:50.714273Z",
     "iopub.status.idle": "2024-08-05T16:13:50.726148Z",
     "shell.execute_reply": "2024-08-05T16:13:50.725372Z"
    },
    "papermill": {
     "duration": 0.020043,
     "end_time": "2024-08-05T16:13:50.728096",
     "exception": false,
     "start_time": "2024-08-05T16:13:50.708053",
     "status": "completed"
    },
    "tags": []
   },
   "outputs": [
    {
     "data": {
      "text/plain": [
       "count    3.000000\n",
       "mean     0.009642\n",
       "std      0.003508\n",
       "min      0.006632\n",
       "25%      0.007716\n",
       "50%      0.008800\n",
       "75%      0.011148\n",
       "max      0.013495\n",
       "Name: target, dtype: float64"
      ]
     },
     "execution_count": 10,
     "metadata": {},
     "output_type": "execute_result"
    }
   ],
   "source": [
    "test_preds_df[target_column].describe()"
   ]
  },
  {
   "cell_type": "code",
   "execution_count": 11,
   "id": "3300f2b4",
   "metadata": {
    "execution": {
     "iopub.execute_input": "2024-08-05T16:13:50.740568Z",
     "iopub.status.busy": "2024-08-05T16:13:50.740275Z",
     "iopub.status.idle": "2024-08-05T16:13:50.748986Z",
     "shell.execute_reply": "2024-08-05T16:13:50.748186Z"
    },
    "papermill": {
     "duration": 0.017306,
     "end_time": "2024-08-05T16:13:50.751165",
     "exception": false,
     "start_time": "2024-08-05T16:13:50.733859",
     "status": "completed"
    },
    "tags": []
   },
   "outputs": [
    {
     "data": {
      "text/html": [
       "<div>\n",
       "<style scoped>\n",
       "    .dataframe tbody tr th:only-of-type {\n",
       "        vertical-align: middle;\n",
       "    }\n",
       "\n",
       "    .dataframe tbody tr th {\n",
       "        vertical-align: top;\n",
       "    }\n",
       "\n",
       "    .dataframe thead th {\n",
       "        text-align: right;\n",
       "    }\n",
       "</style>\n",
       "<table border=\"1\" class=\"dataframe\">\n",
       "  <thead>\n",
       "    <tr style=\"text-align: right;\">\n",
       "      <th></th>\n",
       "      <th>isic_id</th>\n",
       "      <th>target</th>\n",
       "    </tr>\n",
       "  </thead>\n",
       "  <tbody>\n",
       "    <tr>\n",
       "      <th>0</th>\n",
       "      <td>ISIC_0015657</td>\n",
       "      <td>0.013495</td>\n",
       "    </tr>\n",
       "    <tr>\n",
       "      <th>1</th>\n",
       "      <td>ISIC_0015729</td>\n",
       "      <td>0.006632</td>\n",
       "    </tr>\n",
       "    <tr>\n",
       "      <th>2</th>\n",
       "      <td>ISIC_0015740</td>\n",
       "      <td>0.008800</td>\n",
       "    </tr>\n",
       "  </tbody>\n",
       "</table>\n",
       "</div>"
      ],
      "text/plain": [
       "        isic_id    target\n",
       "0  ISIC_0015657  0.013495\n",
       "1  ISIC_0015729  0.006632\n",
       "2  ISIC_0015740  0.008800"
      ]
     },
     "execution_count": 11,
     "metadata": {},
     "output_type": "execute_result"
    }
   ],
   "source": [
    "test_preds_df[[id_column, target_column]].head()"
   ]
  },
  {
   "cell_type": "code",
   "execution_count": 12,
   "id": "be20ed89",
   "metadata": {
    "execution": {
     "iopub.execute_input": "2024-08-05T16:13:50.763266Z",
     "iopub.status.busy": "2024-08-05T16:13:50.762979Z",
     "iopub.status.idle": "2024-08-05T16:13:50.770110Z",
     "shell.execute_reply": "2024-08-05T16:13:50.769412Z"
    },
    "papermill": {
     "duration": 0.015484,
     "end_time": "2024-08-05T16:13:50.772072",
     "exception": false,
     "start_time": "2024-08-05T16:13:50.756588",
     "status": "completed"
    },
    "tags": []
   },
   "outputs": [],
   "source": [
    "test_preds_df[[id_column, target_column]].to_csv(\"submission.csv\", index=False)"
   ]
  },
  {
   "cell_type": "code",
   "execution_count": null,
   "id": "b08bd9b2",
   "metadata": {
    "papermill": {
     "duration": 0.005325,
     "end_time": "2024-08-05T16:13:50.782910",
     "exception": false,
     "start_time": "2024-08-05T16:13:50.777585",
     "status": "completed"
    },
    "tags": []
   },
   "outputs": [],
   "source": []
  }
 ],
 "metadata": {
  "kaggle": {
   "accelerator": "gpu",
   "dataSources": [
    {
     "databundleVersionId": 9094797,
     "sourceId": 63056,
     "sourceType": "competition"
    },
    {
     "datasetId": 5496549,
     "sourceId": 9107465,
     "sourceType": "datasetVersion"
    },
    {
     "datasetId": 5499496,
     "sourceId": 9111645,
     "sourceType": "datasetVersion"
    },
    {
     "sourceId": 187477024,
     "sourceType": "kernelVersion"
    },
    {
     "sourceId": 189656082,
     "sourceType": "kernelVersion"
    }
   ],
   "dockerImageVersionId": 30733,
   "isGpuEnabled": true,
   "isInternetEnabled": false,
   "language": "python",
   "sourceType": "notebook"
  },
  "kernelspec": {
   "display_name": "Python 3",
   "language": "python",
   "name": "python3"
  },
  "language_info": {
   "codemirror_mode": {
    "name": "ipython",
    "version": 3
   },
   "file_extension": ".py",
   "mimetype": "text/x-python",
   "name": "python",
   "nbconvert_exporter": "python",
   "pygments_lexer": "ipython3",
   "version": "3.10.13"
  },
  "papermill": {
   "default_parameters": {},
   "duration": 32.160919,
   "end_time": "2024-08-05T16:13:53.471274",
   "environment_variables": {},
   "exception": null,
   "input_path": "__notebook__.ipynb",
   "output_path": "__notebook__.ipynb",
   "parameters": {},
   "start_time": "2024-08-05T16:13:21.310355",
   "version": "2.5.0"
  }
 },
 "nbformat": 4,
 "nbformat_minor": 5
}
