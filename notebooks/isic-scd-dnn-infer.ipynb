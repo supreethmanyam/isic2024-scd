{
 "cells": [
  {
   "cell_type": "code",
   "execution_count": 1,
   "id": "8225a01c",
   "metadata": {
    "_cell_guid": "b1076dfc-b9ad-4769-8c92-a6c4dae69d19",
    "_uuid": "8f2839f25d086af736a60e9eeb907d3b93b6e0e5",
    "execution": {
     "iopub.execute_input": "2024-08-21T20:16:51.444438Z",
     "iopub.status.busy": "2024-08-21T20:16:51.444153Z",
     "iopub.status.idle": "2024-08-21T20:16:58.615221Z",
     "shell.execute_reply": "2024-08-21T20:16:58.614436Z"
    },
    "papermill": {
     "duration": 7.179431,
     "end_time": "2024-08-21T20:16:58.617504",
     "exception": false,
     "start_time": "2024-08-21T20:16:51.438073",
     "status": "completed"
    },
    "tags": []
   },
   "outputs": [],
   "source": [
    "import time\n",
    "import json\n",
    "from pathlib import Path\n",
    "from pprint import pprint\n",
    "\n",
    "import h5py\n",
    "import numpy as np\n",
    "import pandas as pd\n",
    "\n",
    "from torch.utils.data import DataLoader\n",
    "from accelerate import Accelerator\n",
    "\n",
    "from isic_helper import get_folds"
   ]
  },
  {
   "cell_type": "code",
   "execution_count": 2,
   "id": "cbd0e0bd",
   "metadata": {
    "execution": {
     "iopub.execute_input": "2024-08-21T20:16:58.628890Z",
     "iopub.status.busy": "2024-08-21T20:16:58.627972Z",
     "iopub.status.idle": "2024-08-21T20:16:58.632739Z",
     "shell.execute_reply": "2024-08-21T20:16:58.631925Z"
    },
    "papermill": {
     "duration": 0.011995,
     "end_time": "2024-08-21T20:16:58.634602",
     "exception": false,
     "start_time": "2024-08-21T20:16:58.622607",
     "status": "completed"
    },
    "tags": []
   },
   "outputs": [],
   "source": [
    "model_name = \"efficientnet_b2\"\n",
    "version = \"v1\"\n",
    "mode = \"pretrain\"\n",
    "path = f\"/kaggle/input/isic-scd-{model_name.replace('_', '-')}-{version}-{mode}\"\n",
    "\n",
    "SAMPLE_SIZE = 5000\n",
    "EXPECTED_TEST_SIZE = 500000"
   ]
  },
  {
   "cell_type": "code",
   "execution_count": 3,
   "id": "35611efa",
   "metadata": {
    "execution": {
     "iopub.execute_input": "2024-08-21T20:16:58.644765Z",
     "iopub.status.busy": "2024-08-21T20:16:58.644328Z",
     "iopub.status.idle": "2024-08-21T20:16:58.648108Z",
     "shell.execute_reply": "2024-08-21T20:16:58.647235Z"
    },
    "papermill": {
     "duration": 0.011089,
     "end_time": "2024-08-21T20:16:58.650254",
     "exception": false,
     "start_time": "2024-08-21T20:16:58.639165",
     "status": "completed"
    },
    "tags": []
   },
   "outputs": [],
   "source": [
    "import sys\n",
    "sys.path.append(path)"
   ]
  },
  {
   "cell_type": "code",
   "execution_count": 4,
   "id": "c27a0c15",
   "metadata": {
    "execution": {
     "iopub.execute_input": "2024-08-21T20:16:58.660720Z",
     "iopub.status.busy": "2024-08-21T20:16:58.660037Z",
     "iopub.status.idle": "2024-08-21T20:17:00.562051Z",
     "shell.execute_reply": "2024-08-21T20:17:00.561093Z"
    },
    "papermill": {
     "duration": 1.909633,
     "end_time": "2024-08-21T20:17:00.564360",
     "exception": false,
     "start_time": "2024-08-21T20:16:58.654727",
     "status": "completed"
    },
    "tags": []
   },
   "outputs": [],
   "source": [
    "from dataset import test_augment, ISICDataset, preprocess, feature_engineering, get_emb_szs\n",
    "from models import ISICNet\n",
    "from engine import predict"
   ]
  },
  {
   "cell_type": "code",
   "execution_count": 5,
   "id": "3d7afec8",
   "metadata": {
    "execution": {
     "iopub.execute_input": "2024-08-21T20:17:00.574901Z",
     "iopub.status.busy": "2024-08-21T20:17:00.574579Z",
     "iopub.status.idle": "2024-08-21T20:17:00.578606Z",
     "shell.execute_reply": "2024-08-21T20:17:00.577718Z"
    },
    "papermill": {
     "duration": 0.011377,
     "end_time": "2024-08-21T20:17:00.580563",
     "exception": false,
     "start_time": "2024-08-21T20:17:00.569186",
     "status": "completed"
    },
    "tags": []
   },
   "outputs": [],
   "source": [
    "id_column = \"isic_id\"\n",
    "target_column = \"target\"\n",
    "group_column = \"patient_id\""
   ]
  },
  {
   "cell_type": "code",
   "execution_count": 6,
   "id": "8500f95a",
   "metadata": {
    "execution": {
     "iopub.execute_input": "2024-08-21T20:17:00.590706Z",
     "iopub.status.busy": "2024-08-21T20:17:00.590430Z",
     "iopub.status.idle": "2024-08-21T20:17:10.617422Z",
     "shell.execute_reply": "2024-08-21T20:17:10.616424Z"
    },
    "papermill": {
     "duration": 10.034748,
     "end_time": "2024-08-21T20:17:10.619720",
     "exception": false,
     "start_time": "2024-08-21T20:17:00.584972",
     "status": "completed"
    },
    "tags": []
   },
   "outputs": [
    {
     "name": "stdout",
     "output_type": "stream",
     "text": [
      "Train data size: (401059, 56)\n",
      "Test data size: (3, 44)\n"
     ]
    }
   ],
   "source": [
    "INPUT_PATH = Path(\"../input/isic-2024-challenge/\")\n",
    "\n",
    "train_metadata = pd.read_csv(INPUT_PATH / \"train-metadata.csv\", low_memory=False)\n",
    "test_metadata = pd.read_csv(INPUT_PATH / \"test-metadata.csv\")\n",
    "\n",
    "folds_df = get_folds()\n",
    "train_metadata = train_metadata.merge(folds_df, on=[\"isic_id\", \"patient_id\"], how=\"inner\")\n",
    "print(f\"Train data size: {train_metadata.shape}\")\n",
    "print(f\"Test data size: {test_metadata.shape}\")\n",
    "\n",
    "train_images = h5py.File(INPUT_PATH / \"train-image.hdf5\", mode=\"r\")\n",
    "test_images = h5py.File(INPUT_PATH / \"test-image.hdf5\", mode=\"r\")"
   ]
  },
  {
   "cell_type": "code",
   "execution_count": 7,
   "id": "1c781aa5",
   "metadata": {
    "execution": {
     "iopub.execute_input": "2024-08-21T20:17:10.630617Z",
     "iopub.status.busy": "2024-08-21T20:17:10.630070Z",
     "iopub.status.idle": "2024-08-21T20:17:10.641391Z",
     "shell.execute_reply": "2024-08-21T20:17:10.640550Z"
    },
    "papermill": {
     "duration": 0.018857,
     "end_time": "2024-08-21T20:17:10.643318",
     "exception": false,
     "start_time": "2024-08-21T20:17:10.624461",
     "status": "completed"
    },
    "tags": []
   },
   "outputs": [],
   "source": [
    "def get_dnn_predictions(train_df, test_df, images, model_name, version, path):\n",
    "    start_time = time.time()\n",
    "    with open(path / f\"{model_name}_{version}_run_metadata.json\", \"r\") as f:\n",
    "        run_metadata = json.load(f)\n",
    "    pprint(run_metadata[\"params\"])\n",
    "    \n",
    "    image_size = run_metadata[\"params\"][\"image_size\"]\n",
    "    batch_size = run_metadata[\"params\"][\"val_batch_size\"]\n",
    "    use_meta = run_metadata[\"params\"][\"use_meta\"]\n",
    "    \n",
    "    test_dataset = ISICDataset(\n",
    "        test_df, images, augment=test_augment(image_size), \n",
    "        use_meta=use_meta,\n",
    "        cat_cols=cat_cols,\n",
    "        cont_cols=cont_cols,\n",
    "        infer=True\n",
    "    )\n",
    "    test_dataloader = DataLoader(\n",
    "        test_dataset,\n",
    "        batch_size=batch_size,\n",
    "        shuffle=False,\n",
    "        num_workers=4,\n",
    "        drop_last=False,\n",
    "        pin_memory=True,\n",
    "    )\n",
    "    \n",
    "    fold_column = \"fold\"\n",
    "    all_folds = np.unique(train_df[fold_column])\n",
    "#     all_folds = [1]\n",
    "    test_predictions_df = pd.DataFrame({id_column: test_df[id_column]})\n",
    "    for fold in all_folds:\n",
    "        print(f\"\\nFold {fold}\")\n",
    "        accelerator = Accelerator(\n",
    "            mixed_precision=run_metadata[\"params\"][\"mixed_precision\"],\n",
    "        )\n",
    "        \n",
    "        model = ISICNet(model_name=model_name, pretrained=False,\n",
    "                        use_meta=use_meta,\n",
    "                        cat_cols=cat_cols,\n",
    "                        cont_cols=cont_cols,\n",
    "                        emb_szs=emb_szs,)\n",
    "        model = model.to(accelerator.device)\n",
    "        \n",
    "        model, test_dataloader = accelerator.prepare(model, test_dataloader)\n",
    "        model_filepath = path / f\"models/fold_{fold}\"\n",
    "        accelerator.load_state(model_filepath)\n",
    "\n",
    "        test_predictions_df[f\"fold_{fold}\"] = predict(model, test_dataloader, accelerator, n_tta=run_metadata[\"params\"][\"n_tta\"], use_meta=use_meta)\n",
    "    test_predictions_df[target_column] = test_predictions_df[[f\"fold_{fold}\" for fold in all_folds]].mean(axis=1)\n",
    "    end_time = time.time()\n",
    "    return test_predictions_df[[id_column, target_column]], (end_time - start_time)"
   ]
  },
  {
   "cell_type": "code",
   "execution_count": 8,
   "id": "589d0b2c",
   "metadata": {
    "execution": {
     "iopub.execute_input": "2024-08-21T20:17:10.653631Z",
     "iopub.status.busy": "2024-08-21T20:17:10.653378Z",
     "iopub.status.idle": "2024-08-21T20:17:12.527663Z",
     "shell.execute_reply": "2024-08-21T20:17:12.526775Z"
    },
    "papermill": {
     "duration": 1.882054,
     "end_time": "2024-08-21T20:17:12.529983",
     "exception": false,
     "start_time": "2024-08-21T20:17:10.647929",
     "status": "completed"
    },
    "tags": []
   },
   "outputs": [
    {
     "name": "stdout",
     "output_type": "stream",
     "text": [
      "Preprocessing metadata...\n",
      "Feature engineering...\n"
     ]
    }
   ],
   "source": [
    "print(f\"Preprocessing metadata...\")\n",
    "train_metadata = preprocess(train_metadata)\n",
    "test_metadata = preprocess(test_metadata)\n",
    "print(f\"Feature engineering...\")\n",
    "train_metadata, cat_cols, cont_cols = feature_engineering(train_metadata)\n",
    "test_metadata, _, _ = feature_engineering(test_metadata)\n",
    "emb_szs = get_emb_szs(cat_cols)"
   ]
  },
  {
   "cell_type": "code",
   "execution_count": 9,
   "id": "cf5dbd15",
   "metadata": {
    "execution": {
     "iopub.execute_input": "2024-08-21T20:17:12.541232Z",
     "iopub.status.busy": "2024-08-21T20:17:12.540630Z",
     "iopub.status.idle": "2024-08-21T20:18:42.740923Z",
     "shell.execute_reply": "2024-08-21T20:18:42.739639Z"
    },
    "papermill": {
     "duration": 90.208229,
     "end_time": "2024-08-21T20:18:42.743149",
     "exception": false,
     "start_time": "2024-08-21T20:17:12.534920",
     "status": "completed"
    },
    "tags": []
   },
   "outputs": [
    {
     "name": "stdout",
     "output_type": "stream",
     "text": [
      "{'debug': False,\n",
      " 'down_sampling': True,\n",
      " 'image_size': 128,\n",
      " 'init_lr': 3e-05,\n",
      " 'mixed_precision': 'fp16',\n",
      " 'mode': 'pretrain',\n",
      " 'n_tta': 8,\n",
      " 'num_epochs': 20,\n",
      " 'num_workers': 8,\n",
      " 'seed': 2022,\n",
      " 'train_batch_size': 64,\n",
      " 'use_meta': True,\n",
      " 'val_batch_size': 512}\n",
      "\n",
      "Fold 1\n",
      "Step: 1/10\n",
      "Step: 10/10\n",
      "\n",
      "Fold 2\n",
      "Step: 1/10\n",
      "Step: 10/10\n",
      "\n",
      "Fold 3\n",
      "Step: 1/10\n",
      "Step: 10/10\n",
      "\n",
      "Fold 4\n",
      "Step: 1/10\n",
      "Step: 10/10\n",
      "\n",
      "Fold 5\n",
      "Step: 1/10\n",
      "Step: 10/10\n",
      "Expected total runtime during submission: 150 mins and 16.27347469329834 secs\n"
     ]
    }
   ],
   "source": [
    "if test_metadata.shape[0] == 3:\n",
    "    test_preds_df, total_runtime = get_dnn_predictions(\n",
    "        train_metadata, \n",
    "        train_metadata.sample(n=SAMPLE_SIZE, random_state=42), \n",
    "        train_images, \n",
    "        model_name, \n",
    "        version, \n",
    "        Path(path)\n",
    "    )\n",
    "else:\n",
    "    test_preds_df, total_runtime = get_dnn_predictions(\n",
    "        train_metadata, \n",
    "        test_metadata, \n",
    "        test_images, \n",
    "        model_name, \n",
    "        version, \n",
    "        Path(path)\n",
    "    )\n",
    "factor = EXPECTED_TEST_SIZE / SAMPLE_SIZE\n",
    "expected_total_runtime = total_runtime * factor\n",
    "total_runtime_minutes = int(expected_total_runtime // 60)\n",
    "total_runtime_seconds = expected_total_runtime % 60\n",
    "print(f\"Expected total runtime during submission: {total_runtime_minutes} mins and {total_runtime_seconds} secs\")"
   ]
  },
  {
   "cell_type": "code",
   "execution_count": 10,
   "id": "1d1c83e5",
   "metadata": {
    "execution": {
     "iopub.execute_input": "2024-08-21T20:18:42.757170Z",
     "iopub.status.busy": "2024-08-21T20:18:42.756826Z",
     "iopub.status.idle": "2024-08-21T20:18:42.772751Z",
     "shell.execute_reply": "2024-08-21T20:18:42.771903Z"
    },
    "papermill": {
     "duration": 0.024742,
     "end_time": "2024-08-21T20:18:42.774635",
     "exception": false,
     "start_time": "2024-08-21T20:18:42.749893",
     "status": "completed"
    },
    "tags": []
   },
   "outputs": [
    {
     "data": {
      "text/html": [
       "<div>\n",
       "<style scoped>\n",
       "    .dataframe tbody tr th:only-of-type {\n",
       "        vertical-align: middle;\n",
       "    }\n",
       "\n",
       "    .dataframe tbody tr th {\n",
       "        vertical-align: top;\n",
       "    }\n",
       "\n",
       "    .dataframe thead th {\n",
       "        text-align: right;\n",
       "    }\n",
       "</style>\n",
       "<table border=\"1\" class=\"dataframe\">\n",
       "  <thead>\n",
       "    <tr style=\"text-align: right;\">\n",
       "      <th></th>\n",
       "      <th>isic_id</th>\n",
       "      <th>target</th>\n",
       "    </tr>\n",
       "  </thead>\n",
       "  <tbody>\n",
       "    <tr>\n",
       "      <th>278442</th>\n",
       "      <td>ISIC_6973879</td>\n",
       "      <td>0.000025</td>\n",
       "    </tr>\n",
       "    <tr>\n",
       "      <th>215021</th>\n",
       "      <td>ISIC_5407194</td>\n",
       "      <td>0.000010</td>\n",
       "    </tr>\n",
       "    <tr>\n",
       "      <th>209685</th>\n",
       "      <td>ISIC_5273739</td>\n",
       "      <td>0.003474</td>\n",
       "    </tr>\n",
       "    <tr>\n",
       "      <th>29648</th>\n",
       "      <td>ISIC_0802250</td>\n",
       "      <td>0.000006</td>\n",
       "    </tr>\n",
       "    <tr>\n",
       "      <th>323386</th>\n",
       "      <td>ISIC_8084953</td>\n",
       "      <td>0.000346</td>\n",
       "    </tr>\n",
       "  </tbody>\n",
       "</table>\n",
       "</div>"
      ],
      "text/plain": [
       "             isic_id    target\n",
       "278442  ISIC_6973879  0.000025\n",
       "215021  ISIC_5407194  0.000010\n",
       "209685  ISIC_5273739  0.003474\n",
       "29648   ISIC_0802250  0.000006\n",
       "323386  ISIC_8084953  0.000346"
      ]
     },
     "execution_count": 10,
     "metadata": {},
     "output_type": "execute_result"
    }
   ],
   "source": [
    "test_preds_df.head()"
   ]
  },
  {
   "cell_type": "code",
   "execution_count": 11,
   "id": "4d4103ac",
   "metadata": {
    "execution": {
     "iopub.execute_input": "2024-08-21T20:18:42.788040Z",
     "iopub.status.busy": "2024-08-21T20:18:42.787723Z",
     "iopub.status.idle": "2024-08-21T20:18:42.799768Z",
     "shell.execute_reply": "2024-08-21T20:18:42.798914Z"
    },
    "papermill": {
     "duration": 0.02079,
     "end_time": "2024-08-21T20:18:42.801647",
     "exception": false,
     "start_time": "2024-08-21T20:18:42.780857",
     "status": "completed"
    },
    "tags": []
   },
   "outputs": [
    {
     "data": {
      "text/plain": [
       "count    5.000000e+03\n",
       "mean     2.037314e-03\n",
       "std      2.234044e-02\n",
       "min      1.133175e-07\n",
       "25%      1.749907e-05\n",
       "50%      5.438417e-05\n",
       "75%      2.420466e-04\n",
       "max      8.198605e-01\n",
       "Name: target, dtype: float64"
      ]
     },
     "execution_count": 11,
     "metadata": {},
     "output_type": "execute_result"
    }
   ],
   "source": [
    "test_preds_df[target_column].describe()"
   ]
  },
  {
   "cell_type": "code",
   "execution_count": 12,
   "id": "d9a8a0f8",
   "metadata": {
    "execution": {
     "iopub.execute_input": "2024-08-21T20:18:42.816212Z",
     "iopub.status.busy": "2024-08-21T20:18:42.815963Z",
     "iopub.status.idle": "2024-08-21T20:18:42.825762Z",
     "shell.execute_reply": "2024-08-21T20:18:42.824908Z"
    },
    "papermill": {
     "duration": 0.01855,
     "end_time": "2024-08-21T20:18:42.827657",
     "exception": false,
     "start_time": "2024-08-21T20:18:42.809107",
     "status": "completed"
    },
    "tags": []
   },
   "outputs": [
    {
     "data": {
      "text/html": [
       "<div>\n",
       "<style scoped>\n",
       "    .dataframe tbody tr th:only-of-type {\n",
       "        vertical-align: middle;\n",
       "    }\n",
       "\n",
       "    .dataframe tbody tr th {\n",
       "        vertical-align: top;\n",
       "    }\n",
       "\n",
       "    .dataframe thead th {\n",
       "        text-align: right;\n",
       "    }\n",
       "</style>\n",
       "<table border=\"1\" class=\"dataframe\">\n",
       "  <thead>\n",
       "    <tr style=\"text-align: right;\">\n",
       "      <th></th>\n",
       "      <th>isic_id</th>\n",
       "      <th>target</th>\n",
       "    </tr>\n",
       "  </thead>\n",
       "  <tbody>\n",
       "    <tr>\n",
       "      <th>278442</th>\n",
       "      <td>ISIC_6973879</td>\n",
       "      <td>0.000025</td>\n",
       "    </tr>\n",
       "    <tr>\n",
       "      <th>215021</th>\n",
       "      <td>ISIC_5407194</td>\n",
       "      <td>0.000010</td>\n",
       "    </tr>\n",
       "    <tr>\n",
       "      <th>209685</th>\n",
       "      <td>ISIC_5273739</td>\n",
       "      <td>0.003474</td>\n",
       "    </tr>\n",
       "    <tr>\n",
       "      <th>29648</th>\n",
       "      <td>ISIC_0802250</td>\n",
       "      <td>0.000006</td>\n",
       "    </tr>\n",
       "    <tr>\n",
       "      <th>323386</th>\n",
       "      <td>ISIC_8084953</td>\n",
       "      <td>0.000346</td>\n",
       "    </tr>\n",
       "  </tbody>\n",
       "</table>\n",
       "</div>"
      ],
      "text/plain": [
       "             isic_id    target\n",
       "278442  ISIC_6973879  0.000025\n",
       "215021  ISIC_5407194  0.000010\n",
       "209685  ISIC_5273739  0.003474\n",
       "29648   ISIC_0802250  0.000006\n",
       "323386  ISIC_8084953  0.000346"
      ]
     },
     "execution_count": 12,
     "metadata": {},
     "output_type": "execute_result"
    }
   ],
   "source": [
    "test_preds_df[[id_column, target_column]].head()"
   ]
  },
  {
   "cell_type": "code",
   "execution_count": 13,
   "id": "c404c6e4",
   "metadata": {
    "execution": {
     "iopub.execute_input": "2024-08-21T20:18:42.841826Z",
     "iopub.status.busy": "2024-08-21T20:18:42.841590Z",
     "iopub.status.idle": "2024-08-21T20:18:42.862534Z",
     "shell.execute_reply": "2024-08-21T20:18:42.861896Z"
    },
    "papermill": {
     "duration": 0.030305,
     "end_time": "2024-08-21T20:18:42.864405",
     "exception": false,
     "start_time": "2024-08-21T20:18:42.834100",
     "status": "completed"
    },
    "tags": []
   },
   "outputs": [],
   "source": [
    "test_preds_df[[id_column, target_column]].to_csv(\"submission.csv\", index=False)"
   ]
  },
  {
   "cell_type": "code",
   "execution_count": null,
   "id": "280593b7",
   "metadata": {
    "papermill": {
     "duration": 0.006252,
     "end_time": "2024-08-21T20:18:42.877380",
     "exception": false,
     "start_time": "2024-08-21T20:18:42.871128",
     "status": "completed"
    },
    "tags": []
   },
   "outputs": [],
   "source": []
  }
 ],
 "metadata": {
  "kaggle": {
   "accelerator": "gpu",
   "dataSources": [
    {
     "databundleVersionId": 9094797,
     "sourceId": 63056,
     "sourceType": "competition"
    },
    {
     "datasetId": 5554293,
     "sourceId": 9220637,
     "sourceType": "datasetVersion"
    },
    {
     "sourceId": 187477024,
     "sourceType": "kernelVersion"
    },
    {
     "sourceId": 193130710,
     "sourceType": "kernelVersion"
    }
   ],
   "dockerImageVersionId": 30733,
   "isGpuEnabled": true,
   "isInternetEnabled": false,
   "language": "python",
   "sourceType": "notebook"
  },
  "kernelspec": {
   "display_name": "Python 3",
   "language": "python",
   "name": "python3"
  },
  "language_info": {
   "codemirror_mode": {
    "name": "ipython",
    "version": 3
   },
   "file_extension": ".py",
   "mimetype": "text/x-python",
   "name": "python",
   "nbconvert_exporter": "python",
   "pygments_lexer": "ipython3",
   "version": "3.10.13"
  },
  "papermill": {
   "default_parameters": {},
   "duration": 117.232593,
   "end_time": "2024-08-21T20:18:45.885312",
   "environment_variables": {},
   "exception": null,
   "input_path": "__notebook__.ipynb",
   "output_path": "__notebook__.ipynb",
   "parameters": {},
   "start_time": "2024-08-21T20:16:48.652719",
   "version": "2.5.0"
  }
 },
 "nbformat": 4,
 "nbformat_minor": 5
}
