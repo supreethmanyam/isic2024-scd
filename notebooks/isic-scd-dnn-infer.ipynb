{
 "cells": [
  {
   "cell_type": "code",
   "execution_count": 1,
   "id": "2e2012d9",
   "metadata": {
    "_cell_guid": "b1076dfc-b9ad-4769-8c92-a6c4dae69d19",
    "_uuid": "8f2839f25d086af736a60e9eeb907d3b93b6e0e5",
    "execution": {
     "iopub.execute_input": "2024-08-21T15:49:36.278892Z",
     "iopub.status.busy": "2024-08-21T15:49:36.278104Z",
     "iopub.status.idle": "2024-08-21T15:49:43.660684Z",
     "shell.execute_reply": "2024-08-21T15:49:43.659721Z"
    },
    "papermill": {
     "duration": 7.391556,
     "end_time": "2024-08-21T15:49:43.663032",
     "exception": false,
     "start_time": "2024-08-21T15:49:36.271476",
     "status": "completed"
    },
    "tags": []
   },
   "outputs": [],
   "source": [
    "import time\n",
    "import json\n",
    "from pathlib import Path\n",
    "from pprint import pprint\n",
    "\n",
    "import h5py\n",
    "import numpy as np\n",
    "import pandas as pd\n",
    "\n",
    "from torch.utils.data import DataLoader\n",
    "from accelerate import Accelerator\n",
    "\n",
    "from isic_helper import get_folds"
   ]
  },
  {
   "cell_type": "code",
   "execution_count": 2,
   "id": "e490b8db",
   "metadata": {
    "execution": {
     "iopub.execute_input": "2024-08-21T15:49:43.673875Z",
     "iopub.status.busy": "2024-08-21T15:49:43.673394Z",
     "iopub.status.idle": "2024-08-21T15:49:43.678045Z",
     "shell.execute_reply": "2024-08-21T15:49:43.677225Z"
    },
    "papermill": {
     "duration": 0.011898,
     "end_time": "2024-08-21T15:49:43.679832",
     "exception": false,
     "start_time": "2024-08-21T15:49:43.667934",
     "status": "completed"
    },
    "tags": []
   },
   "outputs": [],
   "source": [
    "model_name = \"efficientnet_b2\"\n",
    "version = \"v2\"\n",
    "mode = \"pretrain\"\n",
    "path = f\"/kaggle/input/isic-scd-{model_name.replace('_', '-')}-{version}-{mode}\"\n",
    "\n",
    "SAMPLE_SIZE = 5000\n",
    "EXPECTED_TEST_SIZE = 500000"
   ]
  },
  {
   "cell_type": "code",
   "execution_count": 3,
   "id": "a1057d8f",
   "metadata": {
    "execution": {
     "iopub.execute_input": "2024-08-21T15:49:43.689746Z",
     "iopub.status.busy": "2024-08-21T15:49:43.689471Z",
     "iopub.status.idle": "2024-08-21T15:49:43.693235Z",
     "shell.execute_reply": "2024-08-21T15:49:43.692483Z"
    },
    "papermill": {
     "duration": 0.01082,
     "end_time": "2024-08-21T15:49:43.695068",
     "exception": false,
     "start_time": "2024-08-21T15:49:43.684248",
     "status": "completed"
    },
    "tags": []
   },
   "outputs": [],
   "source": [
    "import sys\n",
    "sys.path.append(path)"
   ]
  },
  {
   "cell_type": "code",
   "execution_count": 4,
   "id": "e588a71d",
   "metadata": {
    "execution": {
     "iopub.execute_input": "2024-08-21T15:49:43.704780Z",
     "iopub.status.busy": "2024-08-21T15:49:43.704516Z",
     "iopub.status.idle": "2024-08-21T15:49:45.598905Z",
     "shell.execute_reply": "2024-08-21T15:49:45.597945Z"
    },
    "papermill": {
     "duration": 1.901783,
     "end_time": "2024-08-21T15:49:45.601229",
     "exception": false,
     "start_time": "2024-08-21T15:49:43.699446",
     "status": "completed"
    },
    "tags": []
   },
   "outputs": [],
   "source": [
    "from dataset import test_augment, ISICDataset, preprocess, feature_engineering, get_emb_szs\n",
    "from models import ISICNet\n",
    "from engine import predict"
   ]
  },
  {
   "cell_type": "code",
   "execution_count": 5,
   "id": "f11e0c8c",
   "metadata": {
    "execution": {
     "iopub.execute_input": "2024-08-21T15:49:45.611551Z",
     "iopub.status.busy": "2024-08-21T15:49:45.611246Z",
     "iopub.status.idle": "2024-08-21T15:49:45.615278Z",
     "shell.execute_reply": "2024-08-21T15:49:45.614450Z"
    },
    "papermill": {
     "duration": 0.011361,
     "end_time": "2024-08-21T15:49:45.617258",
     "exception": false,
     "start_time": "2024-08-21T15:49:45.605897",
     "status": "completed"
    },
    "tags": []
   },
   "outputs": [],
   "source": [
    "id_column = \"isic_id\"\n",
    "target_column = \"target\"\n",
    "group_column = \"patient_id\""
   ]
  },
  {
   "cell_type": "code",
   "execution_count": 6,
   "id": "2ded2705",
   "metadata": {
    "execution": {
     "iopub.execute_input": "2024-08-21T15:49:45.627428Z",
     "iopub.status.busy": "2024-08-21T15:49:45.626881Z",
     "iopub.status.idle": "2024-08-21T15:49:55.504056Z",
     "shell.execute_reply": "2024-08-21T15:49:55.503129Z"
    },
    "papermill": {
     "duration": 9.884668,
     "end_time": "2024-08-21T15:49:55.506297",
     "exception": false,
     "start_time": "2024-08-21T15:49:45.621629",
     "status": "completed"
    },
    "tags": []
   },
   "outputs": [
    {
     "name": "stdout",
     "output_type": "stream",
     "text": [
      "Train data size: (401059, 56)\n",
      "Test data size: (3, 44)\n"
     ]
    }
   ],
   "source": [
    "INPUT_PATH = Path(\"../input/isic-2024-challenge/\")\n",
    "\n",
    "train_metadata = pd.read_csv(INPUT_PATH / \"train-metadata.csv\", low_memory=False)\n",
    "test_metadata = pd.read_csv(INPUT_PATH / \"test-metadata.csv\")\n",
    "\n",
    "folds_df = get_folds()\n",
    "train_metadata = train_metadata.merge(folds_df, on=[\"isic_id\", \"patient_id\"], how=\"inner\")\n",
    "print(f\"Train data size: {train_metadata.shape}\")\n",
    "print(f\"Test data size: {test_metadata.shape}\")\n",
    "\n",
    "train_images = h5py.File(INPUT_PATH / \"train-image.hdf5\", mode=\"r\")\n",
    "test_images = h5py.File(INPUT_PATH / \"test-image.hdf5\", mode=\"r\")"
   ]
  },
  {
   "cell_type": "code",
   "execution_count": 7,
   "id": "33f222ca",
   "metadata": {
    "execution": {
     "iopub.execute_input": "2024-08-21T15:49:55.517025Z",
     "iopub.status.busy": "2024-08-21T15:49:55.516761Z",
     "iopub.status.idle": "2024-08-21T15:49:55.527530Z",
     "shell.execute_reply": "2024-08-21T15:49:55.526680Z"
    },
    "papermill": {
     "duration": 0.018407,
     "end_time": "2024-08-21T15:49:55.529438",
     "exception": false,
     "start_time": "2024-08-21T15:49:55.511031",
     "status": "completed"
    },
    "tags": []
   },
   "outputs": [],
   "source": [
    "def get_dnn_predictions(_, test_df, images, model_name, version, path):\n",
    "    start_time = time.time()\n",
    "    with open(path / f\"{model_name}_{version}_run_metadata.json\", \"r\") as f:\n",
    "        run_metadata = json.load(f)\n",
    "    pprint(run_metadata[\"params\"])\n",
    "    \n",
    "    image_size = run_metadata[\"params\"][\"image_size\"]\n",
    "    batch_size = run_metadata[\"params\"][\"val_batch_size\"]\n",
    "    use_meta = run_metadata[\"params\"][\"use_meta\"]\n",
    "    \n",
    "    test_dataset = ISICDataset(\n",
    "        test_df, images, augment=test_augment(image_size), \n",
    "        use_meta=use_meta,\n",
    "        cat_cols=cat_cols,\n",
    "        cont_cols=cont_cols,\n",
    "        infer=True\n",
    "    )\n",
    "    test_dataloader = DataLoader(\n",
    "        test_dataset,\n",
    "        batch_size=batch_size,\n",
    "        shuffle=False,\n",
    "        num_workers=4,\n",
    "        drop_last=False,\n",
    "        pin_memory=True,\n",
    "    )\n",
    "    \n",
    "    fold_column = \"fold\"\n",
    "#     all_folds = np.unique(train[fold_column])\n",
    "    all_folds = [1]\n",
    "    test_predictions_df = pd.DataFrame({id_column: test_df[id_column]})\n",
    "    for fold in all_folds:\n",
    "        print(f\"\\nFold {fold}\")\n",
    "        accelerator = Accelerator(\n",
    "            mixed_precision=run_metadata[\"params\"][\"mixed_precision\"],\n",
    "        )\n",
    "        \n",
    "        model = ISICNet(model_name=model_name, pretrained=False,\n",
    "                        use_meta=use_meta,\n",
    "                        cat_cols=cat_cols,\n",
    "                        cont_cols=cont_cols,\n",
    "                        emb_szs=emb_szs,)\n",
    "        model = model.to(accelerator.device)\n",
    "        \n",
    "        model, test_dataloader = accelerator.prepare(model, test_dataloader)\n",
    "        model_filepath = path / f\"models/fold_{fold}\"\n",
    "        accelerator.load_state(model_filepath)\n",
    "\n",
    "        test_predictions_df[f\"fold_{fold}\"] = predict(model, test_dataloader, accelerator, n_tta=run_metadata[\"params\"][\"n_tta\"], use_meta=use_meta)\n",
    "    test_predictions_df[target_column] = test_predictions_df[[f\"fold_{fold}\" for fold in all_folds]].mean(axis=1)\n",
    "    end_time = time.time()\n",
    "    return test_predictions_df[[id_column, target_column]], (end_time - start_time)"
   ]
  },
  {
   "cell_type": "code",
   "execution_count": 8,
   "id": "29c32cec",
   "metadata": {
    "execution": {
     "iopub.execute_input": "2024-08-21T15:49:55.539539Z",
     "iopub.status.busy": "2024-08-21T15:49:55.539266Z",
     "iopub.status.idle": "2024-08-21T15:49:57.389040Z",
     "shell.execute_reply": "2024-08-21T15:49:57.388275Z"
    },
    "papermill": {
     "duration": 1.857422,
     "end_time": "2024-08-21T15:49:57.391355",
     "exception": false,
     "start_time": "2024-08-21T15:49:55.533933",
     "status": "completed"
    },
    "tags": []
   },
   "outputs": [
    {
     "name": "stdout",
     "output_type": "stream",
     "text": [
      "Preprocessing metadata...\n",
      "Feature engineering...\n"
     ]
    }
   ],
   "source": [
    "print(f\"Preprocessing metadata...\")\n",
    "train_metadata = preprocess(train_metadata)\n",
    "test_metadata = preprocess(test_metadata)\n",
    "print(f\"Feature engineering...\")\n",
    "train_metadata, cat_cols, cont_cols = feature_engineering(train_metadata)\n",
    "test_metadata, _, _ = feature_engineering(test_metadata)\n",
    "emb_szs = get_emb_szs(cat_cols)"
   ]
  },
  {
   "cell_type": "code",
   "execution_count": 9,
   "id": "e4f50c84",
   "metadata": {
    "execution": {
     "iopub.execute_input": "2024-08-21T15:49:57.402440Z",
     "iopub.status.busy": "2024-08-21T15:49:57.402082Z",
     "iopub.status.idle": "2024-08-21T15:50:18.514222Z",
     "shell.execute_reply": "2024-08-21T15:50:18.512966Z"
    },
    "papermill": {
     "duration": 21.120023,
     "end_time": "2024-08-21T15:50:18.516379",
     "exception": false,
     "start_time": "2024-08-21T15:49:57.396356",
     "status": "completed"
    },
    "tags": []
   },
   "outputs": [
    {
     "name": "stdout",
     "output_type": "stream",
     "text": [
      "{'debug': False,\n",
      " 'down_sampling': True,\n",
      " 'image_size': 128,\n",
      " 'init_lr': 3e-05,\n",
      " 'mixed_precision': 'fp16',\n",
      " 'mode': 'pretrain',\n",
      " 'n_tta': 8,\n",
      " 'num_epochs': 1,\n",
      " 'num_workers': 8,\n",
      " 'seed': 2022,\n",
      " 'train_batch_size': 64,\n",
      " 'use_meta': True,\n",
      " 'val_batch_size': 512}\n",
      "\n",
      "Fold 1\n",
      "Step: 1/10\n",
      "Step: 10/10\n",
      "Expected total runtime during submission: 35 mins and 7.149100303649902 secs\n"
     ]
    }
   ],
   "source": [
    "if test_metadata.shape[0] == 3:\n",
    "    test_preds_df, total_runtime = get_dnn_predictions(\n",
    "        train_metadata, \n",
    "        train_metadata.sample(n=SAMPLE_SIZE, random_state=42), \n",
    "        train_images, \n",
    "        model_name, \n",
    "        version, \n",
    "        Path(path)\n",
    "    )\n",
    "else:\n",
    "    test_preds_df, total_runtime = get_dnn_predictions(\n",
    "        train_metadata, \n",
    "        test_metadata, \n",
    "        test_images, \n",
    "        model_name, \n",
    "        version, \n",
    "        Path(path)\n",
    "    )\n",
    "factor = EXPECTED_TEST_SIZE / SAMPLE_SIZE\n",
    "expected_total_runtime = total_runtime * factor\n",
    "total_runtime_minutes = int(expected_total_runtime // 60)\n",
    "total_runtime_seconds = expected_total_runtime % 60\n",
    "print(f\"Expected total runtime during submission: {total_runtime_minutes} mins and {total_runtime_seconds} secs\")"
   ]
  },
  {
   "cell_type": "code",
   "execution_count": 10,
   "id": "add1f3dc",
   "metadata": {
    "execution": {
     "iopub.execute_input": "2024-08-21T15:50:18.528281Z",
     "iopub.status.busy": "2024-08-21T15:50:18.527958Z",
     "iopub.status.idle": "2024-08-21T15:50:18.543062Z",
     "shell.execute_reply": "2024-08-21T15:50:18.542154Z"
    },
    "papermill": {
     "duration": 0.023309,
     "end_time": "2024-08-21T15:50:18.545076",
     "exception": false,
     "start_time": "2024-08-21T15:50:18.521767",
     "status": "completed"
    },
    "tags": []
   },
   "outputs": [
    {
     "data": {
      "text/html": [
       "<div>\n",
       "<style scoped>\n",
       "    .dataframe tbody tr th:only-of-type {\n",
       "        vertical-align: middle;\n",
       "    }\n",
       "\n",
       "    .dataframe tbody tr th {\n",
       "        vertical-align: top;\n",
       "    }\n",
       "\n",
       "    .dataframe thead th {\n",
       "        text-align: right;\n",
       "    }\n",
       "</style>\n",
       "<table border=\"1\" class=\"dataframe\">\n",
       "  <thead>\n",
       "    <tr style=\"text-align: right;\">\n",
       "      <th></th>\n",
       "      <th>isic_id</th>\n",
       "      <th>target</th>\n",
       "    </tr>\n",
       "  </thead>\n",
       "  <tbody>\n",
       "    <tr>\n",
       "      <th>278442</th>\n",
       "      <td>ISIC_6973879</td>\n",
       "      <td>0.000080</td>\n",
       "    </tr>\n",
       "    <tr>\n",
       "      <th>215021</th>\n",
       "      <td>ISIC_5407194</td>\n",
       "      <td>0.000123</td>\n",
       "    </tr>\n",
       "    <tr>\n",
       "      <th>209685</th>\n",
       "      <td>ISIC_5273739</td>\n",
       "      <td>0.000009</td>\n",
       "    </tr>\n",
       "    <tr>\n",
       "      <th>29648</th>\n",
       "      <td>ISIC_0802250</td>\n",
       "      <td>0.000004</td>\n",
       "    </tr>\n",
       "    <tr>\n",
       "      <th>323386</th>\n",
       "      <td>ISIC_8084953</td>\n",
       "      <td>0.000034</td>\n",
       "    </tr>\n",
       "  </tbody>\n",
       "</table>\n",
       "</div>"
      ],
      "text/plain": [
       "             isic_id    target\n",
       "278442  ISIC_6973879  0.000080\n",
       "215021  ISIC_5407194  0.000123\n",
       "209685  ISIC_5273739  0.000009\n",
       "29648   ISIC_0802250  0.000004\n",
       "323386  ISIC_8084953  0.000034"
      ]
     },
     "execution_count": 10,
     "metadata": {},
     "output_type": "execute_result"
    }
   ],
   "source": [
    "test_preds_df.head()"
   ]
  },
  {
   "cell_type": "code",
   "execution_count": 11,
   "id": "b84d577b",
   "metadata": {
    "execution": {
     "iopub.execute_input": "2024-08-21T15:50:18.556633Z",
     "iopub.status.busy": "2024-08-21T15:50:18.556380Z",
     "iopub.status.idle": "2024-08-21T15:50:18.568860Z",
     "shell.execute_reply": "2024-08-21T15:50:18.568021Z"
    },
    "papermill": {
     "duration": 0.020659,
     "end_time": "2024-08-21T15:50:18.571121",
     "exception": false,
     "start_time": "2024-08-21T15:50:18.550462",
     "status": "completed"
    },
    "tags": []
   },
   "outputs": [
    {
     "data": {
      "text/plain": [
       "count    5.000000e+03\n",
       "mean     8.511078e-05\n",
       "std      2.470392e-04\n",
       "min      3.773928e-07\n",
       "25%      1.152484e-05\n",
       "50%      2.626424e-05\n",
       "75%      6.889420e-05\n",
       "max      7.008835e-03\n",
       "Name: target, dtype: float64"
      ]
     },
     "execution_count": 11,
     "metadata": {},
     "output_type": "execute_result"
    }
   ],
   "source": [
    "test_preds_df[target_column].describe()"
   ]
  },
  {
   "cell_type": "code",
   "execution_count": 12,
   "id": "ecbc7820",
   "metadata": {
    "execution": {
     "iopub.execute_input": "2024-08-21T15:50:18.582746Z",
     "iopub.status.busy": "2024-08-21T15:50:18.582489Z",
     "iopub.status.idle": "2024-08-21T15:50:18.591863Z",
     "shell.execute_reply": "2024-08-21T15:50:18.591044Z"
    },
    "papermill": {
     "duration": 0.017678,
     "end_time": "2024-08-21T15:50:18.594030",
     "exception": false,
     "start_time": "2024-08-21T15:50:18.576352",
     "status": "completed"
    },
    "tags": []
   },
   "outputs": [
    {
     "data": {
      "text/html": [
       "<div>\n",
       "<style scoped>\n",
       "    .dataframe tbody tr th:only-of-type {\n",
       "        vertical-align: middle;\n",
       "    }\n",
       "\n",
       "    .dataframe tbody tr th {\n",
       "        vertical-align: top;\n",
       "    }\n",
       "\n",
       "    .dataframe thead th {\n",
       "        text-align: right;\n",
       "    }\n",
       "</style>\n",
       "<table border=\"1\" class=\"dataframe\">\n",
       "  <thead>\n",
       "    <tr style=\"text-align: right;\">\n",
       "      <th></th>\n",
       "      <th>isic_id</th>\n",
       "      <th>target</th>\n",
       "    </tr>\n",
       "  </thead>\n",
       "  <tbody>\n",
       "    <tr>\n",
       "      <th>278442</th>\n",
       "      <td>ISIC_6973879</td>\n",
       "      <td>0.000080</td>\n",
       "    </tr>\n",
       "    <tr>\n",
       "      <th>215021</th>\n",
       "      <td>ISIC_5407194</td>\n",
       "      <td>0.000123</td>\n",
       "    </tr>\n",
       "    <tr>\n",
       "      <th>209685</th>\n",
       "      <td>ISIC_5273739</td>\n",
       "      <td>0.000009</td>\n",
       "    </tr>\n",
       "    <tr>\n",
       "      <th>29648</th>\n",
       "      <td>ISIC_0802250</td>\n",
       "      <td>0.000004</td>\n",
       "    </tr>\n",
       "    <tr>\n",
       "      <th>323386</th>\n",
       "      <td>ISIC_8084953</td>\n",
       "      <td>0.000034</td>\n",
       "    </tr>\n",
       "  </tbody>\n",
       "</table>\n",
       "</div>"
      ],
      "text/plain": [
       "             isic_id    target\n",
       "278442  ISIC_6973879  0.000080\n",
       "215021  ISIC_5407194  0.000123\n",
       "209685  ISIC_5273739  0.000009\n",
       "29648   ISIC_0802250  0.000004\n",
       "323386  ISIC_8084953  0.000034"
      ]
     },
     "execution_count": 12,
     "metadata": {},
     "output_type": "execute_result"
    }
   ],
   "source": [
    "test_preds_df[[id_column, target_column]].head()"
   ]
  },
  {
   "cell_type": "code",
   "execution_count": 13,
   "id": "dfb045bb",
   "metadata": {
    "execution": {
     "iopub.execute_input": "2024-08-21T15:50:18.606518Z",
     "iopub.status.busy": "2024-08-21T15:50:18.605862Z",
     "iopub.status.idle": "2024-08-21T15:50:18.626792Z",
     "shell.execute_reply": "2024-08-21T15:50:18.626109Z"
    },
    "papermill": {
     "duration": 0.029143,
     "end_time": "2024-08-21T15:50:18.628738",
     "exception": false,
     "start_time": "2024-08-21T15:50:18.599595",
     "status": "completed"
    },
    "tags": []
   },
   "outputs": [],
   "source": [
    "test_preds_df[[id_column, target_column]].to_csv(\"submission.csv\", index=False)"
   ]
  },
  {
   "cell_type": "code",
   "execution_count": null,
   "id": "d9d3d34c",
   "metadata": {
    "papermill": {
     "duration": 0.006206,
     "end_time": "2024-08-21T15:50:18.640536",
     "exception": false,
     "start_time": "2024-08-21T15:50:18.634330",
     "status": "completed"
    },
    "tags": []
   },
   "outputs": [],
   "source": []
  }
 ],
 "metadata": {
  "kaggle": {
   "accelerator": "gpu",
   "dataSources": [
    {
     "databundleVersionId": 9094797,
     "sourceId": 63056,
     "sourceType": "competition"
    },
    {
     "datasetId": 5554381,
     "sourceId": 9219398,
     "sourceType": "datasetVersion"
    },
    {
     "sourceId": 187477024,
     "sourceType": "kernelVersion"
    },
    {
     "sourceId": 193130710,
     "sourceType": "kernelVersion"
    }
   ],
   "dockerImageVersionId": 30733,
   "isGpuEnabled": true,
   "isInternetEnabled": false,
   "language": "python",
   "sourceType": "notebook"
  },
  "kernelspec": {
   "display_name": "Python 3",
   "language": "python",
   "name": "python3"
  },
  "language_info": {
   "codemirror_mode": {
    "name": "ipython",
    "version": 3
   },
   "file_extension": ".py",
   "mimetype": "text/x-python",
   "name": "python",
   "nbconvert_exporter": "python",
   "pygments_lexer": "ipython3",
   "version": "3.10.13"
  },
  "papermill": {
   "default_parameters": {},
   "duration": 48.197919,
   "end_time": "2024-08-21T15:50:21.688568",
   "environment_variables": {},
   "exception": null,
   "input_path": "__notebook__.ipynb",
   "output_path": "__notebook__.ipynb",
   "parameters": {},
   "start_time": "2024-08-21T15:49:33.490649",
   "version": "2.5.0"
  }
 },
 "nbformat": 4,
 "nbformat_minor": 5
}
