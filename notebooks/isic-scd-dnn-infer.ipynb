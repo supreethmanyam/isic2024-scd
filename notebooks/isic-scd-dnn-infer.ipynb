{
 "cells": [
  {
   "cell_type": "code",
   "execution_count": 1,
   "id": "89f49dea",
   "metadata": {
    "_cell_guid": "b1076dfc-b9ad-4769-8c92-a6c4dae69d19",
    "_uuid": "8f2839f25d086af736a60e9eeb907d3b93b6e0e5",
    "execution": {
     "iopub.execute_input": "2024-08-05T21:31:41.230516Z",
     "iopub.status.busy": "2024-08-05T21:31:41.229957Z",
     "iopub.status.idle": "2024-08-05T21:31:51.918585Z",
     "shell.execute_reply": "2024-08-05T21:31:51.917583Z"
    },
    "papermill": {
     "duration": 10.698826,
     "end_time": "2024-08-05T21:31:51.921150",
     "exception": false,
     "start_time": "2024-08-05T21:31:41.222324",
     "status": "completed"
    },
    "tags": []
   },
   "outputs": [],
   "source": [
    "import json\n",
    "import joblib\n",
    "from tqdm import tqdm\n",
    "from pathlib import Path\n",
    "\n",
    "import pandas as pd\n",
    "import numpy as np\n",
    "\n",
    "import h5py\n",
    "from io import BytesIO\n",
    "from PIL import Image\n",
    "\n",
    "import torch\n",
    "from torch.utils.data import DataLoader, Dataset\n",
    "import torch.nn as nn\n",
    "import torch.nn.functional as F\n",
    "\n",
    "from timm import create_model\n",
    "\n",
    "import albumentations as A\n",
    "from albumentations.pytorch import ToTensorV2\n",
    "\n",
    "from accelerate import Accelerator\n",
    "\n",
    "from isic_helper import DotDict, get_folds"
   ]
  },
  {
   "cell_type": "code",
   "execution_count": 2,
   "id": "00b3729e",
   "metadata": {
    "execution": {
     "iopub.execute_input": "2024-08-05T21:31:51.934617Z",
     "iopub.status.busy": "2024-08-05T21:31:51.933188Z",
     "iopub.status.idle": "2024-08-05T21:31:51.939265Z",
     "shell.execute_reply": "2024-08-05T21:31:51.938184Z"
    },
    "papermill": {
     "duration": 0.014942,
     "end_time": "2024-08-05T21:31:51.941674",
     "exception": false,
     "start_time": "2024-08-05T21:31:51.926732",
     "status": "completed"
    },
    "tags": []
   },
   "outputs": [],
   "source": [
    "model_name = \"efficientnet_b1\"\n",
    "version = \"v1\"\n",
    "path = f\"/kaggle/input/isic-scd-{model_name.replace('_', '-')}-{version}-train\""
   ]
  },
  {
   "cell_type": "code",
   "execution_count": 3,
   "id": "d5802617",
   "metadata": {
    "execution": {
     "iopub.execute_input": "2024-08-05T21:31:51.953753Z",
     "iopub.status.busy": "2024-08-05T21:31:51.953332Z",
     "iopub.status.idle": "2024-08-05T21:31:51.958557Z",
     "shell.execute_reply": "2024-08-05T21:31:51.957326Z"
    },
    "papermill": {
     "duration": 0.013991,
     "end_time": "2024-08-05T21:31:51.961097",
     "exception": false,
     "start_time": "2024-08-05T21:31:51.947106",
     "status": "completed"
    },
    "tags": []
   },
   "outputs": [],
   "source": [
    "id_column = \"isic_id\"\n",
    "target_column = \"target\"\n",
    "group_column = \"patient_id\""
   ]
  },
  {
   "cell_type": "code",
   "execution_count": 4,
   "id": "d3d6afa1",
   "metadata": {
    "execution": {
     "iopub.execute_input": "2024-08-05T21:31:51.973957Z",
     "iopub.status.busy": "2024-08-05T21:31:51.973561Z",
     "iopub.status.idle": "2024-08-05T21:31:51.990226Z",
     "shell.execute_reply": "2024-08-05T21:31:51.989067Z"
    },
    "papermill": {
     "duration": 0.02605,
     "end_time": "2024-08-05T21:31:51.992805",
     "exception": false,
     "start_time": "2024-08-05T21:31:51.966755",
     "status": "completed"
    },
    "tags": []
   },
   "outputs": [],
   "source": [
    "label_mapping = {\n",
    "    \"2024\": {\n",
    "        \"Hidradenoma\": \"unknown\",\n",
    "        \"Lichen planus like keratosis\": \"BKL\",\n",
    "        \"Pigmented benign keratosis\": \"BKL\",\n",
    "        \"Seborrheic keratosis\": \"BKL\",\n",
    "        \"Solar lentigo\": \"BKL\",\n",
    "        \"Nevus\": \"NV\",\n",
    "        \"Angiofibroma\": \"unknown\",\n",
    "        \"Dermatofibroma\": \"DF\",\n",
    "        \"Fibroepithelial polyp\": \"unknown\",\n",
    "        \"Scar\": \"unknown\",\n",
    "        \"Hemangioma\": \"unknown\",\n",
    "        \"Trichilemmal or isthmic-catagen or pilar cyst\": \"unknown\",\n",
    "        \"Lentigo NOS\": \"BKL\",\n",
    "        \"Verruca\": \"unknown\",\n",
    "        \"Solar or actinic keratosis\": \"AKIEC\",\n",
    "        \"Atypical intraepithelial melanocytic proliferation\": \"unknown\",\n",
    "        \"Atypical melanocytic neoplasm\": \"unknown\",\n",
    "        \"Basal cell carcinoma\": \"BCC\",\n",
    "        \"Squamous cell carcinoma in situ\": \"SCC\",\n",
    "        \"Squamous cell carcinoma, Invasive\": \"SCC\",\n",
    "        \"Squamous cell carcinoma, NOS\": \"SCC\",\n",
    "        \"Melanoma in situ\": \"MEL\",\n",
    "        \"Melanoma Invasive\": \"MEL\",\n",
    "        \"Melanoma metastasis\": \"MEL\",\n",
    "        \"Melanoma, NOS\": \"MEL\"\n",
    "    },\n",
    "    \"2020\": {\n",
    "        \"nevus\": \"NV\",\n",
    "        \"melanoma\": \"MEL\",\n",
    "        \"seborrheic keratosis\": \"BKL\",\n",
    "        \"lentigo NOS\": \"BKL\",\n",
    "        \"lichenoid keratosis\": \"BKL\",\n",
    "        \"other\": \"unknown\",\n",
    "        \"solar lentigo\": \"BKL\",\n",
    "        \"scar\": \"unknown\",\n",
    "        \"cafe-au-lait macule\": \"unknown\",\n",
    "        \"atypical melanocytic proliferation\": \"unknown\",\n",
    "        \"pigmented benign keratosis\": \"BKL\"\n",
    "    },\n",
    "    \"2019\": {\n",
    "        \"nevus\": \"NV\",\n",
    "        \"melanoma\": \"MEL\",\n",
    "        \"seborrheic keratosis\": \"BKL\",\n",
    "        \"pigmented benign keratosis\": \"BKL\",\n",
    "        \"dermatofibroma\": \"DF\",\n",
    "        \"squamous cell carcinoma\": \"SCC\",\n",
    "        \"basal cell carcinoma\": \"BCC\",\n",
    "        \"vascular lesion\": \"VASC\",\n",
    "        \"actinic keratosis\": \"AKIEC\",\n",
    "        \"solar lentigo\": \"BKL\",\n",
    "    },\n",
    "}\n",
    "\n",
    "\n",
    "all_labels = np.unique(list(label_mapping[\"2024\"].values()) +\n",
    "                       list(label_mapping[\"2020\"].values()) +\n",
    "                       list(label_mapping[\"2019\"].values()))\n",
    "label2idx = {label: idx for idx, label in enumerate(all_labels)}\n",
    "malignant_labels = [\"BCC\", \"MEL\", \"SCC\"]\n",
    "malignant_idx = [label2idx[label] for label in malignant_labels]\n",
    "out_dim = 9"
   ]
  },
  {
   "cell_type": "code",
   "execution_count": 5,
   "id": "0552a936",
   "metadata": {
    "execution": {
     "iopub.execute_input": "2024-08-05T21:31:52.007546Z",
     "iopub.status.busy": "2024-08-05T21:31:52.006932Z",
     "iopub.status.idle": "2024-08-05T21:31:52.034415Z",
     "shell.execute_reply": "2024-08-05T21:31:52.033292Z"
    },
    "papermill": {
     "duration": 0.037856,
     "end_time": "2024-08-05T21:31:52.037381",
     "exception": false,
     "start_time": "2024-08-05T21:31:51.999525",
     "status": "completed"
    },
    "tags": []
   },
   "outputs": [],
   "source": [
    "def val_augment(image_size):\n",
    "    transform = A.Compose([A.Resize(image_size, image_size), A.Normalize(), ToTensorV2()], p=1.0)\n",
    "    return transform\n",
    "\n",
    "\n",
    "class ISICDataset(Dataset):\n",
    "    def __init__(self, metadata, images, augment, infer=False):\n",
    "        self.metadata = metadata\n",
    "        self.images = images\n",
    "        self.augment = augment\n",
    "        self.length = len(self.metadata)\n",
    "        self.infer = infer\n",
    "\n",
    "    def __len__(self):\n",
    "        return self.length\n",
    "\n",
    "    def __getitem__(self, index):\n",
    "        row = self.metadata.iloc[index]\n",
    "\n",
    "        image = np.array(Image.open(BytesIO(self.images[row[\"isic_id\"]][()])))\n",
    "        image = self.augment(image=image)[\"image\"]\n",
    "\n",
    "        data = image.float()\n",
    "\n",
    "        if not self.infer:\n",
    "            label = torch.tensor(row[\"label\"]).long()\n",
    "            return data, label\n",
    "\n",
    "        return data\n",
    "\n",
    "    \n",
    "class ISICNet(nn.Module):\n",
    "    def __init__(self, model_name, out_dim, pretrained=True, infer=False):\n",
    "        super(ISICNet, self).__init__()\n",
    "        self.infer = infer\n",
    "        self.model = create_model(\n",
    "            model_name=model_name,\n",
    "            pretrained=pretrained,\n",
    "            in_chans=3,\n",
    "            num_classes=0,\n",
    "            global_pool=\"\",\n",
    "        )\n",
    "        self.classifier = nn.Linear(self.model.num_features, out_dim)\n",
    "\n",
    "        self.dropouts = nn.ModuleList([nn.Dropout(0.5) for _ in range(5)])\n",
    "\n",
    "    def forward(self, data):\n",
    "        image = data\n",
    "        x = self.model(image)\n",
    "        bs = len(image)\n",
    "        pool = F.adaptive_avg_pool2d(x, 1).reshape(bs, -1)\n",
    "\n",
    "        logit = 0\n",
    "        for i in range(len(self.dropouts)):\n",
    "            logit += self.classifier(self.dropouts[i](pool))\n",
    "        logit = logit / len(self.dropouts)\n",
    "        return logit\n",
    "    \n",
    "\n",
    "def get_trans(img, iteration):\n",
    "    if iteration >= 6:\n",
    "        img = img.transpose(2, 3)\n",
    "    if iteration % 6 == 0:\n",
    "        return img\n",
    "    elif iteration % 6 == 1:\n",
    "        return torch.flip(img, dims=[2])\n",
    "    elif iteration % 6 == 2:\n",
    "        return torch.flip(img, dims=[3])\n",
    "    elif iteration % 6 == 3:\n",
    "        return torch.rot90(img, 1, dims=[2, 3])\n",
    "    elif iteration % 6 == 4:\n",
    "        return torch.rot90(img, 2, dims=[2, 3])\n",
    "    elif iteration % 6 == 5:\n",
    "        return torch.rot90(img, 3, dims=[2, 3])\n",
    "\n",
    "    \n",
    "def predict(model, test_dataloader, accelerator, out_dim, n_tta, malignant_idx, log_interval=50):\n",
    "    model.eval()\n",
    "    test_probs = []\n",
    "    total_steps = len(test_dataloader)\n",
    "    with torch.no_grad():\n",
    "        for step, data in enumerate(test_dataloader):\n",
    "            logits = torch.zeros((data.shape[0], out_dim)).to(accelerator.device)\n",
    "            probs = torch.zeros((data.shape[0], out_dim)).to(accelerator.device)\n",
    "            for idx in range(n_tta):\n",
    "                logits_iter = model(get_trans(data, idx))\n",
    "                logits += logits_iter\n",
    "                probs += logits_iter.softmax(1)\n",
    "            logits /= n_tta\n",
    "            probs /= n_tta\n",
    "\n",
    "            logits, probs = accelerator.gather((logits, probs))\n",
    "            test_probs.append(probs)\n",
    "\n",
    "            if step % log_interval == 0:\n",
    "                print(\n",
    "                    f\"Step: {step + 1}/{total_steps}\"\n",
    "                )\n",
    "\n",
    "    test_probs = torch.cat(test_probs).cpu().numpy()\n",
    "    if out_dim == 9:\n",
    "        binary_probs = test_probs[:, malignant_idx].sum(1)\n",
    "    else:\n",
    "        binary_probs = test_probs[:, 1]\n",
    "    return binary_probs"
   ]
  },
  {
   "cell_type": "code",
   "execution_count": 6,
   "id": "1d76254b",
   "metadata": {
    "execution": {
     "iopub.execute_input": "2024-08-05T21:31:52.054449Z",
     "iopub.status.busy": "2024-08-05T21:31:52.053941Z",
     "iopub.status.idle": "2024-08-05T21:32:03.429847Z",
     "shell.execute_reply": "2024-08-05T21:32:03.428853Z"
    },
    "papermill": {
     "duration": 11.38742,
     "end_time": "2024-08-05T21:32:03.432458",
     "exception": false,
     "start_time": "2024-08-05T21:31:52.045038",
     "status": "completed"
    },
    "tags": []
   },
   "outputs": [
    {
     "name": "stdout",
     "output_type": "stream",
     "text": [
      "Train data size: (401059, 57)\n",
      "Test data size: (3, 44)\n"
     ]
    }
   ],
   "source": [
    "INPUT_PATH = Path(\"../input/isic-2024-challenge/\")\n",
    "\n",
    "train_metadata = pd.read_csv(INPUT_PATH / \"train-metadata.csv\", low_memory=False)\n",
    "test_metadata = pd.read_csv(INPUT_PATH / \"test-metadata.csv\")\n",
    "\n",
    "folds_df = get_folds()\n",
    "train_metadata = train_metadata.merge(folds_df, on=[\"isic_id\", \"patient_id\"], how=\"inner\")\n",
    "print(f\"Train data size: {train_metadata.shape}\")\n",
    "print(f\"Test data size: {test_metadata.shape}\")\n",
    "\n",
    "test_images = h5py.File(INPUT_PATH / \"test-image.hdf5\", mode=\"r\")"
   ]
  },
  {
   "cell_type": "code",
   "execution_count": 7,
   "id": "9d622402",
   "metadata": {
    "execution": {
     "iopub.execute_input": "2024-08-05T21:32:03.445246Z",
     "iopub.status.busy": "2024-08-05T21:32:03.444516Z",
     "iopub.status.idle": "2024-08-05T21:32:03.456047Z",
     "shell.execute_reply": "2024-08-05T21:32:03.454946Z"
    },
    "papermill": {
     "duration": 0.020487,
     "end_time": "2024-08-05T21:32:03.458371",
     "exception": false,
     "start_time": "2024-08-05T21:32:03.437884",
     "status": "completed"
    },
    "tags": []
   },
   "outputs": [],
   "source": [
    "def get_dnn_predictions(train, test, test_images, model_name, version, path):\n",
    "    with open(path / f\"{model_name}_{version}_run_metadata.json\", \"r\") as f:\n",
    "        run_metadata = json.load(f)\n",
    "    print(run_metadata)\n",
    "    \n",
    "    test_dataset = ISICDataset(\n",
    "        test, test_images, augment=val_augment(run_metadata[\"params\"][\"image_size\"]), infer=True\n",
    "    )\n",
    "    test_dataloader = DataLoader(\n",
    "        test_dataset,\n",
    "        batch_size=512,\n",
    "        shuffle=False,\n",
    "        num_workers=4,\n",
    "        drop_last=False,\n",
    "        pin_memory=True,\n",
    "    )\n",
    "    \n",
    "    all_folds = np.unique(train[\"fold\"])\n",
    "    test_predictions_df = pd.DataFrame({id_column: test_metadata[id_column]})\n",
    "    for fold in all_folds:\n",
    "        accelerator = Accelerator(\n",
    "            mixed_precision=run_metadata[\"params\"][\"mixed_precision\"],\n",
    "        )\n",
    "        \n",
    "        model = ISICNet(model_name=model_name, out_dim=out_dim, pretrained=False, infer=True)\n",
    "        model = model.to(accelerator.device)\n",
    "        \n",
    "        model, test_dataloader = accelerator.prepare(model, test_dataloader)\n",
    "        model_filepath = path / f\"models/fold_{fold}\"\n",
    "        accelerator.load_state(model_filepath)\n",
    "\n",
    "        test_predictions_df[f\"fold_{fold}\"] = predict(model, test_dataloader, accelerator, out_dim=out_dim, n_tta=run_metadata[\"params\"][\"n_tta\"], malignant_idx=malignant_idx)\n",
    "    test_predictions_df[target_column] = test_predictions_df[[f\"fold_{fold}\" for fold in all_folds]].mean(axis=1)\n",
    "    return test_predictions_df[[id_column, target_column]]"
   ]
  },
  {
   "cell_type": "code",
   "execution_count": 8,
   "id": "d5b7f97c",
   "metadata": {
    "execution": {
     "iopub.execute_input": "2024-08-05T21:32:03.470865Z",
     "iopub.status.busy": "2024-08-05T21:32:03.470431Z",
     "iopub.status.idle": "2024-08-05T21:32:10.731814Z",
     "shell.execute_reply": "2024-08-05T21:32:10.730221Z"
    },
    "papermill": {
     "duration": 7.271164,
     "end_time": "2024-08-05T21:32:10.734843",
     "exception": false,
     "start_time": "2024-08-05T21:32:03.463679",
     "status": "completed"
    },
    "tags": []
   },
   "outputs": [
    {
     "name": "stdout",
     "output_type": "stream",
     "text": [
      "{'params': {'mixed_precision': 'fp16', 'image_size': 128, 'n_meta_dim': '256,128', 'batch_size': 64, 'num_workers': 8, 'init_lr': 3e-05, 'num_epochs': 25, 'n_tta': 10, 'seed': 2022, 'ext': '2020,2019', 'out_dim': 9, 'use_meta': False, 'debug': False}, 'best_num_epochs': {'fold_1': 16, 'fold_2': 14, 'fold_3': 10, 'fold_4': 19, 'fold_5': 17}, 'val_auc_scores': {'fold_1': 0.9675562093421509, 'fold_2': 0.9619971483662302, 'fold_3': 0.9400506670327339, 'fold_4': 0.9607954474547928, 'fold_5': 0.9477047293489956}, 'val_pauc_scores': {'fold_1': 0.17463081485942336, 'fold_2': 0.17233940841398346, 'fold_3': 0.15380455129725074, 'fold_4': 0.1715425365963235, 'fold_5': 0.16220725351794946}, 'cv_auc_oof': 0.9549789930554431, 'cv_pauc_oof': 0.16639236637918978, 'cv_auc_avg': 0.9556208403089806, 'cv_pauc_avg': 0.16690491293698612, 'cv_auc_std': 0.010148714264334568, 'cv_pauc_std': 0.00780279865073275}\n",
      "Step: 1/1\n",
      "Step: 1/1\n",
      "Step: 1/1\n",
      "Step: 1/1\n",
      "Step: 1/1\n"
     ]
    }
   ],
   "source": [
    "test_preds_df = get_dnn_predictions(train_metadata, test_metadata, test_images, model_name, version, Path(path))"
   ]
  },
  {
   "cell_type": "code",
   "execution_count": 9,
   "id": "6357d3dc",
   "metadata": {
    "execution": {
     "iopub.execute_input": "2024-08-05T21:32:10.749762Z",
     "iopub.status.busy": "2024-08-05T21:32:10.749280Z",
     "iopub.status.idle": "2024-08-05T21:32:10.768476Z",
     "shell.execute_reply": "2024-08-05T21:32:10.767218Z"
    },
    "papermill": {
     "duration": 0.02936,
     "end_time": "2024-08-05T21:32:10.770993",
     "exception": false,
     "start_time": "2024-08-05T21:32:10.741633",
     "status": "completed"
    },
    "tags": []
   },
   "outputs": [
    {
     "data": {
      "text/html": [
       "<div>\n",
       "<style scoped>\n",
       "    .dataframe tbody tr th:only-of-type {\n",
       "        vertical-align: middle;\n",
       "    }\n",
       "\n",
       "    .dataframe tbody tr th {\n",
       "        vertical-align: top;\n",
       "    }\n",
       "\n",
       "    .dataframe thead th {\n",
       "        text-align: right;\n",
       "    }\n",
       "</style>\n",
       "<table border=\"1\" class=\"dataframe\">\n",
       "  <thead>\n",
       "    <tr style=\"text-align: right;\">\n",
       "      <th></th>\n",
       "      <th>isic_id</th>\n",
       "      <th>target</th>\n",
       "    </tr>\n",
       "  </thead>\n",
       "  <tbody>\n",
       "    <tr>\n",
       "      <th>0</th>\n",
       "      <td>ISIC_0015657</td>\n",
       "      <td>0.000153</td>\n",
       "    </tr>\n",
       "    <tr>\n",
       "      <th>1</th>\n",
       "      <td>ISIC_0015729</td>\n",
       "      <td>0.000009</td>\n",
       "    </tr>\n",
       "    <tr>\n",
       "      <th>2</th>\n",
       "      <td>ISIC_0015740</td>\n",
       "      <td>0.000017</td>\n",
       "    </tr>\n",
       "  </tbody>\n",
       "</table>\n",
       "</div>"
      ],
      "text/plain": [
       "        isic_id    target\n",
       "0  ISIC_0015657  0.000153\n",
       "1  ISIC_0015729  0.000009\n",
       "2  ISIC_0015740  0.000017"
      ]
     },
     "execution_count": 9,
     "metadata": {},
     "output_type": "execute_result"
    }
   ],
   "source": [
    "test_preds_df.head()"
   ]
  },
  {
   "cell_type": "code",
   "execution_count": 10,
   "id": "6147f4e9",
   "metadata": {
    "execution": {
     "iopub.execute_input": "2024-08-05T21:32:10.785864Z",
     "iopub.status.busy": "2024-08-05T21:32:10.785445Z",
     "iopub.status.idle": "2024-08-05T21:32:10.801505Z",
     "shell.execute_reply": "2024-08-05T21:32:10.800338Z"
    },
    "papermill": {
     "duration": 0.026251,
     "end_time": "2024-08-05T21:32:10.803816",
     "exception": false,
     "start_time": "2024-08-05T21:32:10.777565",
     "status": "completed"
    },
    "tags": []
   },
   "outputs": [
    {
     "data": {
      "text/plain": [
       "count    3.000000\n",
       "mean     0.000060\n",
       "std      0.000081\n",
       "min      0.000009\n",
       "25%      0.000013\n",
       "50%      0.000017\n",
       "75%      0.000085\n",
       "max      0.000153\n",
       "Name: target, dtype: float64"
      ]
     },
     "execution_count": 10,
     "metadata": {},
     "output_type": "execute_result"
    }
   ],
   "source": [
    "test_preds_df[target_column].describe()"
   ]
  },
  {
   "cell_type": "code",
   "execution_count": 11,
   "id": "b22e2527",
   "metadata": {
    "execution": {
     "iopub.execute_input": "2024-08-05T21:32:10.818433Z",
     "iopub.status.busy": "2024-08-05T21:32:10.818043Z",
     "iopub.status.idle": "2024-08-05T21:32:10.830425Z",
     "shell.execute_reply": "2024-08-05T21:32:10.829318Z"
    },
    "papermill": {
     "duration": 0.022623,
     "end_time": "2024-08-05T21:32:10.832857",
     "exception": false,
     "start_time": "2024-08-05T21:32:10.810234",
     "status": "completed"
    },
    "tags": []
   },
   "outputs": [
    {
     "data": {
      "text/html": [
       "<div>\n",
       "<style scoped>\n",
       "    .dataframe tbody tr th:only-of-type {\n",
       "        vertical-align: middle;\n",
       "    }\n",
       "\n",
       "    .dataframe tbody tr th {\n",
       "        vertical-align: top;\n",
       "    }\n",
       "\n",
       "    .dataframe thead th {\n",
       "        text-align: right;\n",
       "    }\n",
       "</style>\n",
       "<table border=\"1\" class=\"dataframe\">\n",
       "  <thead>\n",
       "    <tr style=\"text-align: right;\">\n",
       "      <th></th>\n",
       "      <th>isic_id</th>\n",
       "      <th>target</th>\n",
       "    </tr>\n",
       "  </thead>\n",
       "  <tbody>\n",
       "    <tr>\n",
       "      <th>0</th>\n",
       "      <td>ISIC_0015657</td>\n",
       "      <td>0.000153</td>\n",
       "    </tr>\n",
       "    <tr>\n",
       "      <th>1</th>\n",
       "      <td>ISIC_0015729</td>\n",
       "      <td>0.000009</td>\n",
       "    </tr>\n",
       "    <tr>\n",
       "      <th>2</th>\n",
       "      <td>ISIC_0015740</td>\n",
       "      <td>0.000017</td>\n",
       "    </tr>\n",
       "  </tbody>\n",
       "</table>\n",
       "</div>"
      ],
      "text/plain": [
       "        isic_id    target\n",
       "0  ISIC_0015657  0.000153\n",
       "1  ISIC_0015729  0.000009\n",
       "2  ISIC_0015740  0.000017"
      ]
     },
     "execution_count": 11,
     "metadata": {},
     "output_type": "execute_result"
    }
   ],
   "source": [
    "test_preds_df[[id_column, target_column]].head()"
   ]
  },
  {
   "cell_type": "code",
   "execution_count": 12,
   "id": "56c78d8d",
   "metadata": {
    "execution": {
     "iopub.execute_input": "2024-08-05T21:32:10.848183Z",
     "iopub.status.busy": "2024-08-05T21:32:10.847792Z",
     "iopub.status.idle": "2024-08-05T21:32:10.857282Z",
     "shell.execute_reply": "2024-08-05T21:32:10.856091Z"
    },
    "papermill": {
     "duration": 0.020433,
     "end_time": "2024-08-05T21:32:10.859983",
     "exception": false,
     "start_time": "2024-08-05T21:32:10.839550",
     "status": "completed"
    },
    "tags": []
   },
   "outputs": [],
   "source": [
    "test_preds_df[[id_column, target_column]].to_csv(\"submission.csv\", index=False)"
   ]
  },
  {
   "cell_type": "code",
   "execution_count": null,
   "id": "6c94f71c",
   "metadata": {
    "papermill": {
     "duration": 0.006345,
     "end_time": "2024-08-05T21:32:10.873182",
     "exception": false,
     "start_time": "2024-08-05T21:32:10.866837",
     "status": "completed"
    },
    "tags": []
   },
   "outputs": [],
   "source": []
  }
 ],
 "metadata": {
  "kaggle": {
   "accelerator": "gpu",
   "dataSources": [
    {
     "databundleVersionId": 9094797,
     "sourceId": 63056,
     "sourceType": "competition"
    },
    {
     "datasetId": 5499496,
     "sourceId": 9112821,
     "sourceType": "datasetVersion"
    },
    {
     "datasetId": 5496549,
     "sourceId": 9112852,
     "sourceType": "datasetVersion"
    },
    {
     "sourceId": 187477024,
     "sourceType": "kernelVersion"
    },
    {
     "sourceId": 189656082,
     "sourceType": "kernelVersion"
    }
   ],
   "dockerImageVersionId": 30733,
   "isGpuEnabled": true,
   "isInternetEnabled": false,
   "language": "python",
   "sourceType": "notebook"
  },
  "kernelspec": {
   "display_name": "Python 3",
   "language": "python",
   "name": "python3"
  },
  "language_info": {
   "codemirror_mode": {
    "name": "ipython",
    "version": 3
   },
   "file_extension": ".py",
   "mimetype": "text/x-python",
   "name": "python",
   "nbconvert_exporter": "python",
   "pygments_lexer": "ipython3",
   "version": "3.10.13"
  },
  "papermill": {
   "default_parameters": {},
   "duration": 35.398282,
   "end_time": "2024-08-05T21:32:13.385510",
   "environment_variables": {},
   "exception": null,
   "input_path": "__notebook__.ipynb",
   "output_path": "__notebook__.ipynb",
   "parameters": {},
   "start_time": "2024-08-05T21:31:37.987228",
   "version": "2.5.0"
  }
 },
 "nbformat": 4,
 "nbformat_minor": 5
}
