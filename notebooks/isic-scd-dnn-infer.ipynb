{
 "cells": [
  {
   "cell_type": "code",
   "execution_count": 1,
   "id": "be50e044",
   "metadata": {
    "_cell_guid": "b1076dfc-b9ad-4769-8c92-a6c4dae69d19",
    "_uuid": "8f2839f25d086af736a60e9eeb907d3b93b6e0e5",
    "execution": {
     "iopub.execute_input": "2024-08-21T18:02:13.686128Z",
     "iopub.status.busy": "2024-08-21T18:02:13.685770Z",
     "iopub.status.idle": "2024-08-21T18:02:20.967079Z",
     "shell.execute_reply": "2024-08-21T18:02:20.966313Z"
    },
    "papermill": {
     "duration": 7.289984,
     "end_time": "2024-08-21T18:02:20.969345",
     "exception": false,
     "start_time": "2024-08-21T18:02:13.679361",
     "status": "completed"
    },
    "tags": []
   },
   "outputs": [],
   "source": [
    "import time\n",
    "import json\n",
    "from pathlib import Path\n",
    "from pprint import pprint\n",
    "\n",
    "import h5py\n",
    "import numpy as np\n",
    "import pandas as pd\n",
    "\n",
    "from torch.utils.data import DataLoader\n",
    "from accelerate import Accelerator\n",
    "\n",
    "from isic_helper import get_folds"
   ]
  },
  {
   "cell_type": "code",
   "execution_count": 2,
   "id": "b8d879f6",
   "metadata": {
    "execution": {
     "iopub.execute_input": "2024-08-21T18:02:20.980212Z",
     "iopub.status.busy": "2024-08-21T18:02:20.979736Z",
     "iopub.status.idle": "2024-08-21T18:02:20.984456Z",
     "shell.execute_reply": "2024-08-21T18:02:20.983615Z"
    },
    "papermill": {
     "duration": 0.01206,
     "end_time": "2024-08-21T18:02:20.986282",
     "exception": false,
     "start_time": "2024-08-21T18:02:20.974222",
     "status": "completed"
    },
    "tags": []
   },
   "outputs": [],
   "source": [
    "model_name = \"efficientnet_b2\"\n",
    "version = \"v1\"\n",
    "mode = \"pretrain\"\n",
    "path = f\"/kaggle/input/isic-scd-{model_name.replace('_', '-')}-{version}-{mode}\"\n",
    "\n",
    "SAMPLE_SIZE = 5000\n",
    "EXPECTED_TEST_SIZE = 500000"
   ]
  },
  {
   "cell_type": "code",
   "execution_count": 3,
   "id": "5706debd",
   "metadata": {
    "execution": {
     "iopub.execute_input": "2024-08-21T18:02:20.996255Z",
     "iopub.status.busy": "2024-08-21T18:02:20.995973Z",
     "iopub.status.idle": "2024-08-21T18:02:20.999664Z",
     "shell.execute_reply": "2024-08-21T18:02:20.998876Z"
    },
    "papermill": {
     "duration": 0.010744,
     "end_time": "2024-08-21T18:02:21.001441",
     "exception": false,
     "start_time": "2024-08-21T18:02:20.990697",
     "status": "completed"
    },
    "tags": []
   },
   "outputs": [],
   "source": [
    "import sys\n",
    "sys.path.append(path)"
   ]
  },
  {
   "cell_type": "code",
   "execution_count": 4,
   "id": "45b790a6",
   "metadata": {
    "execution": {
     "iopub.execute_input": "2024-08-21T18:02:21.011315Z",
     "iopub.status.busy": "2024-08-21T18:02:21.011072Z",
     "iopub.status.idle": "2024-08-21T18:02:22.908917Z",
     "shell.execute_reply": "2024-08-21T18:02:22.907967Z"
    },
    "papermill": {
     "duration": 1.905313,
     "end_time": "2024-08-21T18:02:22.911312",
     "exception": false,
     "start_time": "2024-08-21T18:02:21.005999",
     "status": "completed"
    },
    "tags": []
   },
   "outputs": [],
   "source": [
    "from dataset import test_augment, ISICDataset, preprocess, feature_engineering, get_emb_szs\n",
    "from models import ISICNet\n",
    "from engine import predict"
   ]
  },
  {
   "cell_type": "code",
   "execution_count": 5,
   "id": "909be3da",
   "metadata": {
    "execution": {
     "iopub.execute_input": "2024-08-21T18:02:22.921803Z",
     "iopub.status.busy": "2024-08-21T18:02:22.921491Z",
     "iopub.status.idle": "2024-08-21T18:02:22.925636Z",
     "shell.execute_reply": "2024-08-21T18:02:22.924781Z"
    },
    "papermill": {
     "duration": 0.011515,
     "end_time": "2024-08-21T18:02:22.927551",
     "exception": false,
     "start_time": "2024-08-21T18:02:22.916036",
     "status": "completed"
    },
    "tags": []
   },
   "outputs": [],
   "source": [
    "id_column = \"isic_id\"\n",
    "target_column = \"target\"\n",
    "group_column = \"patient_id\""
   ]
  },
  {
   "cell_type": "code",
   "execution_count": 6,
   "id": "54188115",
   "metadata": {
    "execution": {
     "iopub.execute_input": "2024-08-21T18:02:22.937627Z",
     "iopub.status.busy": "2024-08-21T18:02:22.937331Z",
     "iopub.status.idle": "2024-08-21T18:02:32.813631Z",
     "shell.execute_reply": "2024-08-21T18:02:32.812565Z"
    },
    "papermill": {
     "duration": 9.883942,
     "end_time": "2024-08-21T18:02:32.816086",
     "exception": false,
     "start_time": "2024-08-21T18:02:22.932144",
     "status": "completed"
    },
    "tags": []
   },
   "outputs": [
    {
     "name": "stdout",
     "output_type": "stream",
     "text": [
      "Train data size: (401059, 56)\n",
      "Test data size: (3, 44)\n"
     ]
    }
   ],
   "source": [
    "INPUT_PATH = Path(\"../input/isic-2024-challenge/\")\n",
    "\n",
    "train_metadata = pd.read_csv(INPUT_PATH / \"train-metadata.csv\", low_memory=False)\n",
    "test_metadata = pd.read_csv(INPUT_PATH / \"test-metadata.csv\")\n",
    "\n",
    "folds_df = get_folds()\n",
    "train_metadata = train_metadata.merge(folds_df, on=[\"isic_id\", \"patient_id\"], how=\"inner\")\n",
    "print(f\"Train data size: {train_metadata.shape}\")\n",
    "print(f\"Test data size: {test_metadata.shape}\")\n",
    "\n",
    "train_images = h5py.File(INPUT_PATH / \"train-image.hdf5\", mode=\"r\")\n",
    "test_images = h5py.File(INPUT_PATH / \"test-image.hdf5\", mode=\"r\")"
   ]
  },
  {
   "cell_type": "code",
   "execution_count": 7,
   "id": "092e534d",
   "metadata": {
    "execution": {
     "iopub.execute_input": "2024-08-21T18:02:32.827295Z",
     "iopub.status.busy": "2024-08-21T18:02:32.826984Z",
     "iopub.status.idle": "2024-08-21T18:02:32.838588Z",
     "shell.execute_reply": "2024-08-21T18:02:32.837611Z"
    },
    "papermill": {
     "duration": 0.019294,
     "end_time": "2024-08-21T18:02:32.840711",
     "exception": false,
     "start_time": "2024-08-21T18:02:32.821417",
     "status": "completed"
    },
    "tags": []
   },
   "outputs": [],
   "source": [
    "def get_dnn_predictions(_, test_df, images, model_name, version, path):\n",
    "    start_time = time.time()\n",
    "    with open(path / f\"{model_name}_{version}_run_metadata.json\", \"r\") as f:\n",
    "        run_metadata = json.load(f)\n",
    "    pprint(run_metadata[\"params\"])\n",
    "    \n",
    "    image_size = run_metadata[\"params\"][\"image_size\"]\n",
    "    batch_size = run_metadata[\"params\"][\"val_batch_size\"]\n",
    "    use_meta = run_metadata[\"params\"][\"use_meta\"]\n",
    "    \n",
    "    test_dataset = ISICDataset(\n",
    "        test_df, images, augment=test_augment(image_size), \n",
    "        use_meta=use_meta,\n",
    "        cat_cols=cat_cols,\n",
    "        cont_cols=cont_cols,\n",
    "        infer=True\n",
    "    )\n",
    "    test_dataloader = DataLoader(\n",
    "        test_dataset,\n",
    "        batch_size=batch_size,\n",
    "        shuffle=False,\n",
    "        num_workers=4,\n",
    "        drop_last=False,\n",
    "        pin_memory=True,\n",
    "    )\n",
    "    \n",
    "    fold_column = \"fold\"\n",
    "#     all_folds = np.unique(train[fold_column])\n",
    "    all_folds = [1]\n",
    "    test_predictions_df = pd.DataFrame({id_column: test_df[id_column]})\n",
    "    for fold in all_folds:\n",
    "        print(f\"\\nFold {fold}\")\n",
    "        accelerator = Accelerator(\n",
    "            mixed_precision=run_metadata[\"params\"][\"mixed_precision\"],\n",
    "        )\n",
    "        \n",
    "        model = ISICNet(model_name=model_name, pretrained=False,\n",
    "                        use_meta=use_meta,\n",
    "                        cat_cols=cat_cols,\n",
    "                        cont_cols=cont_cols,\n",
    "                        emb_szs=emb_szs,)\n",
    "        model = model.to(accelerator.device)\n",
    "        \n",
    "        model, test_dataloader = accelerator.prepare(model, test_dataloader)\n",
    "        model_filepath = path / f\"models/fold_{fold}\"\n",
    "        accelerator.load_state(model_filepath)\n",
    "\n",
    "        test_predictions_df[f\"fold_{fold}\"] = predict(model, test_dataloader, accelerator, n_tta=run_metadata[\"params\"][\"n_tta\"], use_meta=use_meta)\n",
    "    test_predictions_df[target_column] = test_predictions_df[[f\"fold_{fold}\" for fold in all_folds]].mean(axis=1)\n",
    "    end_time = time.time()\n",
    "    return test_predictions_df[[id_column, target_column]], (end_time - start_time)"
   ]
  },
  {
   "cell_type": "code",
   "execution_count": 8,
   "id": "06086cb2",
   "metadata": {
    "execution": {
     "iopub.execute_input": "2024-08-21T18:02:32.851432Z",
     "iopub.status.busy": "2024-08-21T18:02:32.851089Z",
     "iopub.status.idle": "2024-08-21T18:02:34.770307Z",
     "shell.execute_reply": "2024-08-21T18:02:34.769182Z"
    },
    "papermill": {
     "duration": 1.927891,
     "end_time": "2024-08-21T18:02:34.773052",
     "exception": false,
     "start_time": "2024-08-21T18:02:32.845161",
     "status": "completed"
    },
    "tags": []
   },
   "outputs": [
    {
     "name": "stdout",
     "output_type": "stream",
     "text": [
      "Preprocessing metadata...\n",
      "Feature engineering...\n"
     ]
    }
   ],
   "source": [
    "print(f\"Preprocessing metadata...\")\n",
    "train_metadata = preprocess(train_metadata)\n",
    "test_metadata = preprocess(test_metadata)\n",
    "print(f\"Feature engineering...\")\n",
    "train_metadata, cat_cols, cont_cols = feature_engineering(train_metadata)\n",
    "test_metadata, _, _ = feature_engineering(test_metadata)\n",
    "emb_szs = get_emb_szs(cat_cols)"
   ]
  },
  {
   "cell_type": "code",
   "execution_count": 9,
   "id": "2a426f51",
   "metadata": {
    "execution": {
     "iopub.execute_input": "2024-08-21T18:02:34.786776Z",
     "iopub.status.busy": "2024-08-21T18:02:34.786367Z",
     "iopub.status.idle": "2024-08-21T18:02:56.306858Z",
     "shell.execute_reply": "2024-08-21T18:02:56.305666Z"
    },
    "papermill": {
     "duration": 21.529285,
     "end_time": "2024-08-21T18:02:56.308911",
     "exception": false,
     "start_time": "2024-08-21T18:02:34.779626",
     "status": "completed"
    },
    "tags": []
   },
   "outputs": [
    {
     "name": "stdout",
     "output_type": "stream",
     "text": [
      "{'debug': False,\n",
      " 'down_sampling': True,\n",
      " 'image_size': 128,\n",
      " 'init_lr': 3e-05,\n",
      " 'mixed_precision': 'fp16',\n",
      " 'mode': 'pretrain',\n",
      " 'n_tta': 8,\n",
      " 'num_epochs': 20,\n",
      " 'num_workers': 8,\n",
      " 'seed': 2022,\n",
      " 'train_batch_size': 64,\n",
      " 'use_meta': True,\n",
      " 'val_batch_size': 512}\n",
      "\n",
      "Fold 1\n",
      "Step: 1/10\n",
      "Step: 10/10\n",
      "Expected total runtime during submission: 35 mins and 48.05266857147217 secs\n"
     ]
    }
   ],
   "source": [
    "if test_metadata.shape[0] == 3:\n",
    "    test_preds_df, total_runtime = get_dnn_predictions(\n",
    "        train_metadata, \n",
    "        train_metadata.sample(n=SAMPLE_SIZE, random_state=42), \n",
    "        train_images, \n",
    "        model_name, \n",
    "        version, \n",
    "        Path(path)\n",
    "    )\n",
    "else:\n",
    "    test_preds_df, total_runtime = get_dnn_predictions(\n",
    "        train_metadata, \n",
    "        test_metadata, \n",
    "        test_images, \n",
    "        model_name, \n",
    "        version, \n",
    "        Path(path)\n",
    "    )\n",
    "factor = EXPECTED_TEST_SIZE / SAMPLE_SIZE\n",
    "expected_total_runtime = total_runtime * factor\n",
    "total_runtime_minutes = int(expected_total_runtime // 60)\n",
    "total_runtime_seconds = expected_total_runtime % 60\n",
    "print(f\"Expected total runtime during submission: {total_runtime_minutes} mins and {total_runtime_seconds} secs\")"
   ]
  },
  {
   "cell_type": "code",
   "execution_count": 10,
   "id": "b2f93d94",
   "metadata": {
    "execution": {
     "iopub.execute_input": "2024-08-21T18:02:56.320640Z",
     "iopub.status.busy": "2024-08-21T18:02:56.320310Z",
     "iopub.status.idle": "2024-08-21T18:02:56.335248Z",
     "shell.execute_reply": "2024-08-21T18:02:56.334326Z"
    },
    "papermill": {
     "duration": 0.02303,
     "end_time": "2024-08-21T18:02:56.337218",
     "exception": false,
     "start_time": "2024-08-21T18:02:56.314188",
     "status": "completed"
    },
    "tags": []
   },
   "outputs": [
    {
     "data": {
      "text/html": [
       "<div>\n",
       "<style scoped>\n",
       "    .dataframe tbody tr th:only-of-type {\n",
       "        vertical-align: middle;\n",
       "    }\n",
       "\n",
       "    .dataframe tbody tr th {\n",
       "        vertical-align: top;\n",
       "    }\n",
       "\n",
       "    .dataframe thead th {\n",
       "        text-align: right;\n",
       "    }\n",
       "</style>\n",
       "<table border=\"1\" class=\"dataframe\">\n",
       "  <thead>\n",
       "    <tr style=\"text-align: right;\">\n",
       "      <th></th>\n",
       "      <th>isic_id</th>\n",
       "      <th>target</th>\n",
       "    </tr>\n",
       "  </thead>\n",
       "  <tbody>\n",
       "    <tr>\n",
       "      <th>278442</th>\n",
       "      <td>ISIC_6973879</td>\n",
       "      <td>0.000009</td>\n",
       "    </tr>\n",
       "    <tr>\n",
       "      <th>215021</th>\n",
       "      <td>ISIC_5407194</td>\n",
       "      <td>0.000003</td>\n",
       "    </tr>\n",
       "    <tr>\n",
       "      <th>209685</th>\n",
       "      <td>ISIC_5273739</td>\n",
       "      <td>0.001433</td>\n",
       "    </tr>\n",
       "    <tr>\n",
       "      <th>29648</th>\n",
       "      <td>ISIC_0802250</td>\n",
       "      <td>0.000002</td>\n",
       "    </tr>\n",
       "    <tr>\n",
       "      <th>323386</th>\n",
       "      <td>ISIC_8084953</td>\n",
       "      <td>0.000124</td>\n",
       "    </tr>\n",
       "  </tbody>\n",
       "</table>\n",
       "</div>"
      ],
      "text/plain": [
       "             isic_id    target\n",
       "278442  ISIC_6973879  0.000009\n",
       "215021  ISIC_5407194  0.000003\n",
       "209685  ISIC_5273739  0.001433\n",
       "29648   ISIC_0802250  0.000002\n",
       "323386  ISIC_8084953  0.000124"
      ]
     },
     "execution_count": 10,
     "metadata": {},
     "output_type": "execute_result"
    }
   ],
   "source": [
    "test_preds_df.head()"
   ]
  },
  {
   "cell_type": "code",
   "execution_count": 11,
   "id": "a8557652",
   "metadata": {
    "execution": {
     "iopub.execute_input": "2024-08-21T18:02:56.348986Z",
     "iopub.status.busy": "2024-08-21T18:02:56.348676Z",
     "iopub.status.idle": "2024-08-21T18:02:56.362396Z",
     "shell.execute_reply": "2024-08-21T18:02:56.361498Z"
    },
    "papermill": {
     "duration": 0.021945,
     "end_time": "2024-08-21T18:02:56.364492",
     "exception": false,
     "start_time": "2024-08-21T18:02:56.342547",
     "status": "completed"
    },
    "tags": []
   },
   "outputs": [
    {
     "data": {
      "text/plain": [
       "count    5.000000e+03\n",
       "mean     2.087811e-03\n",
       "std      2.857502e-02\n",
       "min      1.404782e-08\n",
       "25%      5.430414e-06\n",
       "50%      2.354366e-05\n",
       "75%      1.382093e-04\n",
       "max      9.017029e-01\n",
       "Name: target, dtype: float64"
      ]
     },
     "execution_count": 11,
     "metadata": {},
     "output_type": "execute_result"
    }
   ],
   "source": [
    "test_preds_df[target_column].describe()"
   ]
  },
  {
   "cell_type": "code",
   "execution_count": 12,
   "id": "eef3a561",
   "metadata": {
    "execution": {
     "iopub.execute_input": "2024-08-21T18:02:56.376320Z",
     "iopub.status.busy": "2024-08-21T18:02:56.376057Z",
     "iopub.status.idle": "2024-08-21T18:02:56.386291Z",
     "shell.execute_reply": "2024-08-21T18:02:56.385428Z"
    },
    "papermill": {
     "duration": 0.018495,
     "end_time": "2024-08-21T18:02:56.388376",
     "exception": false,
     "start_time": "2024-08-21T18:02:56.369881",
     "status": "completed"
    },
    "tags": []
   },
   "outputs": [
    {
     "data": {
      "text/html": [
       "<div>\n",
       "<style scoped>\n",
       "    .dataframe tbody tr th:only-of-type {\n",
       "        vertical-align: middle;\n",
       "    }\n",
       "\n",
       "    .dataframe tbody tr th {\n",
       "        vertical-align: top;\n",
       "    }\n",
       "\n",
       "    .dataframe thead th {\n",
       "        text-align: right;\n",
       "    }\n",
       "</style>\n",
       "<table border=\"1\" class=\"dataframe\">\n",
       "  <thead>\n",
       "    <tr style=\"text-align: right;\">\n",
       "      <th></th>\n",
       "      <th>isic_id</th>\n",
       "      <th>target</th>\n",
       "    </tr>\n",
       "  </thead>\n",
       "  <tbody>\n",
       "    <tr>\n",
       "      <th>278442</th>\n",
       "      <td>ISIC_6973879</td>\n",
       "      <td>0.000009</td>\n",
       "    </tr>\n",
       "    <tr>\n",
       "      <th>215021</th>\n",
       "      <td>ISIC_5407194</td>\n",
       "      <td>0.000003</td>\n",
       "    </tr>\n",
       "    <tr>\n",
       "      <th>209685</th>\n",
       "      <td>ISIC_5273739</td>\n",
       "      <td>0.001433</td>\n",
       "    </tr>\n",
       "    <tr>\n",
       "      <th>29648</th>\n",
       "      <td>ISIC_0802250</td>\n",
       "      <td>0.000002</td>\n",
       "    </tr>\n",
       "    <tr>\n",
       "      <th>323386</th>\n",
       "      <td>ISIC_8084953</td>\n",
       "      <td>0.000124</td>\n",
       "    </tr>\n",
       "  </tbody>\n",
       "</table>\n",
       "</div>"
      ],
      "text/plain": [
       "             isic_id    target\n",
       "278442  ISIC_6973879  0.000009\n",
       "215021  ISIC_5407194  0.000003\n",
       "209685  ISIC_5273739  0.001433\n",
       "29648   ISIC_0802250  0.000002\n",
       "323386  ISIC_8084953  0.000124"
      ]
     },
     "execution_count": 12,
     "metadata": {},
     "output_type": "execute_result"
    }
   ],
   "source": [
    "test_preds_df[[id_column, target_column]].head()"
   ]
  },
  {
   "cell_type": "code",
   "execution_count": 13,
   "id": "0a3f0ae9",
   "metadata": {
    "execution": {
     "iopub.execute_input": "2024-08-21T18:02:56.401083Z",
     "iopub.status.busy": "2024-08-21T18:02:56.400558Z",
     "iopub.status.idle": "2024-08-21T18:02:56.421110Z",
     "shell.execute_reply": "2024-08-21T18:02:56.420419Z"
    },
    "papermill": {
     "duration": 0.028753,
     "end_time": "2024-08-21T18:02:56.423054",
     "exception": false,
     "start_time": "2024-08-21T18:02:56.394301",
     "status": "completed"
    },
    "tags": []
   },
   "outputs": [],
   "source": [
    "test_preds_df[[id_column, target_column]].to_csv(\"submission.csv\", index=False)"
   ]
  },
  {
   "cell_type": "code",
   "execution_count": null,
   "id": "61fa4bfa",
   "metadata": {
    "papermill": {
     "duration": 0.005193,
     "end_time": "2024-08-21T18:02:56.434693",
     "exception": false,
     "start_time": "2024-08-21T18:02:56.429500",
     "status": "completed"
    },
    "tags": []
   },
   "outputs": [],
   "source": []
  }
 ],
 "metadata": {
  "kaggle": {
   "accelerator": "gpu",
   "dataSources": [
    {
     "databundleVersionId": 9094797,
     "sourceId": 63056,
     "sourceType": "competition"
    },
    {
     "datasetId": 5554293,
     "sourceId": 9220117,
     "sourceType": "datasetVersion"
    },
    {
     "sourceId": 187477024,
     "sourceType": "kernelVersion"
    },
    {
     "sourceId": 193130710,
     "sourceType": "kernelVersion"
    }
   ],
   "dockerImageVersionId": 30733,
   "isGpuEnabled": true,
   "isInternetEnabled": false,
   "language": "python",
   "sourceType": "notebook"
  },
  "kernelspec": {
   "display_name": "Python 3",
   "language": "python",
   "name": "python3"
  },
  "language_info": {
   "codemirror_mode": {
    "name": "ipython",
    "version": 3
   },
   "file_extension": ".py",
   "mimetype": "text/x-python",
   "name": "python",
   "nbconvert_exporter": "python",
   "pygments_lexer": "ipython3",
   "version": "3.10.13"
  },
  "papermill": {
   "default_parameters": {},
   "duration": 48.230829,
   "end_time": "2024-08-21T18:02:59.104526",
   "environment_variables": {},
   "exception": null,
   "input_path": "__notebook__.ipynb",
   "output_path": "__notebook__.ipynb",
   "parameters": {},
   "start_time": "2024-08-21T18:02:10.873697",
   "version": "2.5.0"
  }
 },
 "nbformat": 4,
 "nbformat_minor": 5
}
