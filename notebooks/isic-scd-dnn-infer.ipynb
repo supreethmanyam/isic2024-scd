{
 "cells": [
  {
   "cell_type": "code",
   "execution_count": 1,
   "id": "1d03b3d5",
   "metadata": {
    "_cell_guid": "b1076dfc-b9ad-4769-8c92-a6c4dae69d19",
    "_uuid": "8f2839f25d086af736a60e9eeb907d3b93b6e0e5",
    "execution": {
     "iopub.execute_input": "2024-09-04T19:54:06.650744Z",
     "iopub.status.busy": "2024-09-04T19:54:06.650359Z",
     "iopub.status.idle": "2024-09-04T19:54:16.508493Z",
     "shell.execute_reply": "2024-09-04T19:54:16.507641Z"
    },
    "papermill": {
     "duration": 9.866531,
     "end_time": "2024-09-04T19:54:16.510883",
     "exception": false,
     "start_time": "2024-09-04T19:54:06.644352",
     "status": "completed"
    },
    "tags": []
   },
   "outputs": [],
   "source": [
    "import gc\n",
    "from pathlib import Path\n",
    "\n",
    "import h5py\n",
    "\n",
    "import pandas as pd\n",
    "import numpy as np\n",
    "\n",
    "import isic_cnn_binary_predict\n",
    "\n",
    "from isic_helper import time_to_str"
   ]
  },
  {
   "cell_type": "code",
   "execution_count": 2,
   "id": "5348db67",
   "metadata": {
    "execution": {
     "iopub.execute_input": "2024-09-04T19:54:16.521256Z",
     "iopub.status.busy": "2024-09-04T19:54:16.520879Z",
     "iopub.status.idle": "2024-09-04T19:54:16.526146Z",
     "shell.execute_reply": "2024-09-04T19:54:16.525244Z"
    },
    "papermill": {
     "duration": 0.012516,
     "end_time": "2024-09-04T19:54:16.528125",
     "exception": false,
     "start_time": "2024-09-04T19:54:16.515609",
     "status": "completed"
    },
    "tags": []
   },
   "outputs": [],
   "source": [
    "id_column = \"isic_id\"\n",
    "target_column = \"target\"\n",
    "group_column = \"patient_id\"\n",
    "fold_column = \"gkf_fold\"\n",
    "\n",
    "INPUT_PATH = Path(\"/kaggle/input/isic-2024-challenge/\")\n",
    "FOLDS_PATH = Path(\"/kaggle/input/isic-scd-folds\")\n",
    "\n",
    "TOTAL_RUNTIME = 0\n",
    "TEST_FOLD = -1\n",
    "\n",
    "EXPECTED_TEST_SIZE = 500000"
   ]
  },
  {
   "cell_type": "code",
   "execution_count": 3,
   "id": "a283b796",
   "metadata": {
    "execution": {
     "iopub.execute_input": "2024-09-04T19:54:16.538700Z",
     "iopub.status.busy": "2024-09-04T19:54:16.537692Z",
     "iopub.status.idle": "2024-09-04T19:54:44.828409Z",
     "shell.execute_reply": "2024-09-04T19:54:44.827388Z"
    },
    "papermill": {
     "duration": 28.298719,
     "end_time": "2024-09-04T19:54:44.831197",
     "exception": false,
     "start_time": "2024-09-04T19:54:16.532478",
     "status": "completed"
    },
    "tags": []
   },
   "outputs": [
    {
     "name": "stdout",
     "output_type": "stream",
     "text": [
      "Train data size: (401059, 58)\n",
      "Test data size: (3, 44)\n"
     ]
    }
   ],
   "source": [
    "train_metadata = pd.read_csv(INPUT_PATH / \"train-metadata.csv\", low_memory=False, na_values=[\"NA\"])\n",
    "test_metadata = pd.read_csv(INPUT_PATH / \"test-metadata.csv\", low_memory=False, na_values=[\"NA\"])\n",
    "\n",
    "folds_df = pd.read_csv(FOLDS_PATH / \"folds.csv\")\n",
    "train_metadata = train_metadata.merge(folds_df, on=[id_column, group_column], how=\"inner\")\n",
    "print(f\"Train data size: {train_metadata.shape}\")\n",
    "print(f\"Test data size: {test_metadata.shape}\")\n",
    "\n",
    "train_images = h5py.File(INPUT_PATH / \"train-image.hdf5\", mode=\"r\")\n",
    "test_images = h5py.File(INPUT_PATH / \"test-image.hdf5\", mode=\"r\")\n",
    "\n",
    "train_metadata, cat_cols, cont_cols = isic_cnn_binary_predict.cnn_feature_engineering(train_metadata)\n",
    "test_metadata, _, _ = isic_cnn_binary_predict.cnn_feature_engineering(test_metadata)"
   ]
  },
  {
   "cell_type": "code",
   "execution_count": 4,
   "id": "7714beb6",
   "metadata": {
    "execution": {
     "iopub.execute_input": "2024-09-04T19:54:44.842690Z",
     "iopub.status.busy": "2024-09-04T19:54:44.842327Z",
     "iopub.status.idle": "2024-09-04T19:54:44.854255Z",
     "shell.execute_reply": "2024-09-04T19:54:44.853208Z"
    },
    "papermill": {
     "duration": 0.020246,
     "end_time": "2024-09-04T19:54:44.856525",
     "exception": false,
     "start_time": "2024-09-04T19:54:44.836279",
     "status": "completed"
    },
    "tags": []
   },
   "outputs": [
    {
     "data": {
      "text/plain": [
       "3"
      ]
     },
     "execution_count": 4,
     "metadata": {},
     "output_type": "execute_result"
    }
   ],
   "source": [
    "if (TEST_FOLD != -1) and (test_metadata.shape[0] == 3):\n",
    "    test_metadata = train_metadata[train_metadata[fold_column] == TEST_FOLD].reset_index(drop=True)\n",
    "    test_images = train_images\n",
    "    folds_to_run = [TEST_FOLD]\n",
    "    test_targets = test_metadata[target_column]\n",
    "else:\n",
    "    folds_to_run = np.unique(train_metadata[fold_column])\n",
    "sample_size = test_metadata.shape[0];sample_size"
   ]
  },
  {
   "cell_type": "code",
   "execution_count": 5,
   "id": "113ef8e1",
   "metadata": {
    "execution": {
     "iopub.execute_input": "2024-09-04T19:54:44.868629Z",
     "iopub.status.busy": "2024-09-04T19:54:44.867741Z",
     "iopub.status.idle": "2024-09-04T19:54:50.638700Z",
     "shell.execute_reply": "2024-09-04T19:54:50.637544Z"
    },
    "papermill": {
     "duration": 5.779432,
     "end_time": "2024-09-04T19:54:50.640931",
     "exception": false,
     "start_time": "2024-09-04T19:54:44.861499",
     "status": "completed"
    },
    "tags": []
   },
   "outputs": [
    {
     "name": "stdout",
     "output_type": "stream",
     "text": [
      "\n",
      "\n",
      "Predicting for efficientnet_b0_v2\n",
      "{'debug': False,\n",
      " 'down_sampling': True,\n",
      " 'fold_column': 'gkf_fold',\n",
      " 'image_size': 64,\n",
      " 'init_lr': 3e-05,\n",
      " 'load_checkpoint': True,\n",
      " 'mixed_precision': 'fp16',\n",
      " 'mode': 'trainbinary',\n",
      " 'n_tta': 7,\n",
      " 'num_epochs': 20,\n",
      " 'num_workers': 8,\n",
      " 'sampling_rate': 0.01,\n",
      " 'seed': 2022,\n",
      " 'train_batch_size': 64,\n",
      " 'use_meta': True,\n",
      " 'val_batch_size': 512}\n",
      "\n",
      "Fold 1\n",
      "Step: 1/1\n",
      "\n",
      "Fold 2\n",
      "Step: 1/1\n",
      "\n",
      "Fold 3\n",
      "Step: 1/1\n",
      "\n",
      "Fold 4\n",
      "Step: 1/1\n",
      "\n",
      "Fold 5\n",
      "Step: 1/1\n",
      "Time taken: 5.16 s\n",
      "Predictions generated for efficientnet_b0_v2\n"
     ]
    }
   ],
   "source": [
    "cnn_model_names = [\"efficientnet_b0\"]\n",
    "cnn_versions = [\"v2\"]\n",
    "cnn_modes = [\"trainbinary\"]\n",
    "cnn_paths = [f\"/kaggle/input/isic-scd-{model_name.replace('_', '-')}-{version}-{mode}\" for model_name, version, mode in zip(cnn_model_names, cnn_versions, cnn_modes)]\n",
    "\n",
    "all_cnn_oof_columns = []\n",
    "for idx, path in enumerate(cnn_paths):\n",
    "    print(\"\\n\")\n",
    "    model_name = cnn_model_names[idx]\n",
    "    version = cnn_versions[idx]\n",
    "    mode = cnn_modes[idx]\n",
    "    \n",
    "    cnn_oof_train_preds_model_df = pd.read_csv(f\"{path}/oof_train_preds_{model_name}_{version}.csv\")\n",
    "    cnn_oof_columns = [col for col in cnn_oof_train_preds_model_df if col.startswith(\"oof_\")]\n",
    "    cnn_oof_new_columns = [f\"{col}_{mode}\" for col in cnn_oof_columns]\n",
    "    columns_mapper = dict(zip(cnn_oof_columns, cnn_oof_new_columns))\n",
    "    cnn_oof_train_preds_model_df = cnn_oof_train_preds_model_df.rename(columns=columns_mapper)\n",
    "    all_cnn_oof_columns += cnn_oof_new_columns\n",
    "    if idx == 0:\n",
    "        cnn_oof_train_preds_df = cnn_oof_train_preds_model_df[[id_column] + cnn_oof_new_columns].copy()\n",
    "    else:\n",
    "        cnn_oof_train_preds_df = cnn_oof_train_preds_df.merge(cnn_oof_train_preds_model_df[[id_column] + cnn_oof_new_columns], on=id_column, how=\"left\")\n",
    "        assert cnn_oof_train_preds_df.shape[0] == cnn_oof_train_preds_model_df.shape[0]\n",
    "    \n",
    "    if mode == \"trainmulti\":\n",
    "        cnn_oof_test_preds_model_df, runtime = isic_cnn_multi_predict.run(test_metadata, test_images, model_name, version, path, folds_to_run)\n",
    "    elif mode == \"trainbinary\":\n",
    "        cnn_oof_test_preds_model_df, runtime = isic_cnn_binary_predict.run(test_metadata, test_images, model_name, version, path, folds_to_run, cat_cols, cont_cols)\n",
    "    cnn_oof_test_preds_model_df = cnn_oof_test_preds_model_df.rename(columns=columns_mapper)\n",
    "    if idx == 0:\n",
    "        cnn_oof_test_preds_df = cnn_oof_test_preds_model_df[[id_column] + cnn_oof_new_columns].copy()\n",
    "    else:\n",
    "        cnn_oof_test_preds_df = cnn_oof_test_preds_df.merge(cnn_oof_test_preds_model_df[[id_column] + cnn_oof_new_columns], on=id_column, how=\"left\")\n",
    "    assert cnn_oof_test_preds_df.shape[0] == cnn_oof_test_preds_model_df.shape[0]\n",
    "    \n",
    "    TOTAL_RUNTIME += runtime"
   ]
  },
  {
   "cell_type": "code",
   "execution_count": 6,
   "id": "02b7c286",
   "metadata": {
    "execution": {
     "iopub.execute_input": "2024-09-04T19:54:50.653978Z",
     "iopub.status.busy": "2024-09-04T19:54:50.653184Z",
     "iopub.status.idle": "2024-09-04T19:54:50.658571Z",
     "shell.execute_reply": "2024-09-04T19:54:50.657672Z"
    },
    "papermill": {
     "duration": 0.014421,
     "end_time": "2024-09-04T19:54:50.660731",
     "exception": false,
     "start_time": "2024-09-04T19:54:50.646310",
     "status": "completed"
    },
    "tags": []
   },
   "outputs": [],
   "source": [
    "if (TEST_FOLD != -1):\n",
    "    factor = EXPECTED_TEST_SIZE / sample_size\n",
    "    expected_total_runtime = TOTAL_RUNTIME * factor * 5\n",
    "    print(f\"Expected total runtime during submission: {time_to_str(expected_total_runtime)}\")"
   ]
  },
  {
   "cell_type": "code",
   "execution_count": 7,
   "id": "42df91ec",
   "metadata": {
    "execution": {
     "iopub.execute_input": "2024-09-04T19:54:50.672819Z",
     "iopub.status.busy": "2024-09-04T19:54:50.672048Z",
     "iopub.status.idle": "2024-09-04T19:54:50.692242Z",
     "shell.execute_reply": "2024-09-04T19:54:50.691328Z"
    },
    "papermill": {
     "duration": 0.028312,
     "end_time": "2024-09-04T19:54:50.694402",
     "exception": false,
     "start_time": "2024-09-04T19:54:50.666090",
     "status": "completed"
    },
    "tags": []
   },
   "outputs": [
    {
     "data": {
      "text/html": [
       "<div>\n",
       "<style scoped>\n",
       "    .dataframe tbody tr th:only-of-type {\n",
       "        vertical-align: middle;\n",
       "    }\n",
       "\n",
       "    .dataframe tbody tr th {\n",
       "        vertical-align: top;\n",
       "    }\n",
       "\n",
       "    .dataframe thead th {\n",
       "        text-align: right;\n",
       "    }\n",
       "</style>\n",
       "<table border=\"1\" class=\"dataframe\">\n",
       "  <thead>\n",
       "    <tr style=\"text-align: right;\">\n",
       "      <th></th>\n",
       "      <th>isic_id</th>\n",
       "      <th>oof_efficientnet_b0_v2_trainbinary</th>\n",
       "      <th>target</th>\n",
       "    </tr>\n",
       "  </thead>\n",
       "  <tbody>\n",
       "    <tr>\n",
       "      <th>0</th>\n",
       "      <td>ISIC_0015657</td>\n",
       "      <td>0.001824</td>\n",
       "      <td>1.000000</td>\n",
       "    </tr>\n",
       "    <tr>\n",
       "      <th>1</th>\n",
       "      <td>ISIC_0015729</td>\n",
       "      <td>0.000073</td>\n",
       "      <td>0.666667</td>\n",
       "    </tr>\n",
       "    <tr>\n",
       "      <th>2</th>\n",
       "      <td>ISIC_0015740</td>\n",
       "      <td>0.000056</td>\n",
       "      <td>0.333333</td>\n",
       "    </tr>\n",
       "  </tbody>\n",
       "</table>\n",
       "</div>"
      ],
      "text/plain": [
       "        isic_id  oof_efficientnet_b0_v2_trainbinary    target\n",
       "0  ISIC_0015657                            0.001824  1.000000\n",
       "1  ISIC_0015729                            0.000073  0.666667\n",
       "2  ISIC_0015740                            0.000056  0.333333"
      ]
     },
     "execution_count": 7,
     "metadata": {},
     "output_type": "execute_result"
    }
   ],
   "source": [
    "ensemble_preds_df = cnn_oof_test_preds_df.copy()\n",
    "\n",
    "weights = {'oof_efficientnet_b0_v2_trainbinary': 1}\n",
    "\n",
    "ensemble_preds = 0\n",
    "for oof_column, weight in weights.items():\n",
    "    ensemble_preds += ensemble_preds_df[oof_column].rank(pct=True).values * weight\n",
    "ensemble_preds_df[target_column] = ensemble_preds\n",
    "ensemble_preds_df.head()"
   ]
  },
  {
   "cell_type": "code",
   "execution_count": 8,
   "id": "b34651b3",
   "metadata": {
    "execution": {
     "iopub.execute_input": "2024-09-04T19:54:50.706302Z",
     "iopub.status.busy": "2024-09-04T19:54:50.705992Z",
     "iopub.status.idle": "2024-09-04T19:54:50.715730Z",
     "shell.execute_reply": "2024-09-04T19:54:50.714905Z"
    },
    "papermill": {
     "duration": 0.018156,
     "end_time": "2024-09-04T19:54:50.717719",
     "exception": false,
     "start_time": "2024-09-04T19:54:50.699563",
     "status": "completed"
    },
    "tags": []
   },
   "outputs": [
    {
     "data": {
      "text/plain": [
       "count    3.000000\n",
       "mean     0.666667\n",
       "std      0.333333\n",
       "min      0.333333\n",
       "25%      0.500000\n",
       "50%      0.666667\n",
       "75%      0.833333\n",
       "max      1.000000\n",
       "Name: target, dtype: float64"
      ]
     },
     "execution_count": 8,
     "metadata": {},
     "output_type": "execute_result"
    }
   ],
   "source": [
    "ensemble_preds_df[target_column].describe()"
   ]
  },
  {
   "cell_type": "code",
   "execution_count": 9,
   "id": "b5f8ef79",
   "metadata": {
    "execution": {
     "iopub.execute_input": "2024-09-04T19:54:50.729873Z",
     "iopub.status.busy": "2024-09-04T19:54:50.729578Z",
     "iopub.status.idle": "2024-09-04T19:54:50.742626Z",
     "shell.execute_reply": "2024-09-04T19:54:50.741726Z"
    },
    "papermill": {
     "duration": 0.021635,
     "end_time": "2024-09-04T19:54:50.744787",
     "exception": false,
     "start_time": "2024-09-04T19:54:50.723152",
     "status": "completed"
    },
    "tags": []
   },
   "outputs": [
    {
     "data": {
      "text/html": [
       "<div>\n",
       "<style scoped>\n",
       "    .dataframe tbody tr th:only-of-type {\n",
       "        vertical-align: middle;\n",
       "    }\n",
       "\n",
       "    .dataframe tbody tr th {\n",
       "        vertical-align: top;\n",
       "    }\n",
       "\n",
       "    .dataframe thead th {\n",
       "        text-align: right;\n",
       "    }\n",
       "</style>\n",
       "<table border=\"1\" class=\"dataframe\">\n",
       "  <thead>\n",
       "    <tr style=\"text-align: right;\">\n",
       "      <th></th>\n",
       "      <th>isic_id</th>\n",
       "      <th>target</th>\n",
       "    </tr>\n",
       "  </thead>\n",
       "  <tbody>\n",
       "    <tr>\n",
       "      <th>0</th>\n",
       "      <td>ISIC_0015657</td>\n",
       "      <td>1.000000</td>\n",
       "    </tr>\n",
       "    <tr>\n",
       "      <th>1</th>\n",
       "      <td>ISIC_0015729</td>\n",
       "      <td>0.666667</td>\n",
       "    </tr>\n",
       "    <tr>\n",
       "      <th>2</th>\n",
       "      <td>ISIC_0015740</td>\n",
       "      <td>0.333333</td>\n",
       "    </tr>\n",
       "  </tbody>\n",
       "</table>\n",
       "</div>"
      ],
      "text/plain": [
       "        isic_id    target\n",
       "0  ISIC_0015657  1.000000\n",
       "1  ISIC_0015729  0.666667\n",
       "2  ISIC_0015740  0.333333"
      ]
     },
     "execution_count": 9,
     "metadata": {},
     "output_type": "execute_result"
    }
   ],
   "source": [
    "ensemble_preds_df[[id_column, target_column]].head()"
   ]
  },
  {
   "cell_type": "code",
   "execution_count": 10,
   "id": "2664b254",
   "metadata": {
    "execution": {
     "iopub.execute_input": "2024-09-04T19:54:50.757270Z",
     "iopub.status.busy": "2024-09-04T19:54:50.756951Z",
     "iopub.status.idle": "2024-09-04T19:54:50.764994Z",
     "shell.execute_reply": "2024-09-04T19:54:50.764206Z"
    },
    "papermill": {
     "duration": 0.016689,
     "end_time": "2024-09-04T19:54:50.767002",
     "exception": false,
     "start_time": "2024-09-04T19:54:50.750313",
     "status": "completed"
    },
    "tags": []
   },
   "outputs": [],
   "source": [
    "ensemble_preds_df[[id_column, target_column]].to_csv(\"submission.csv\", index=False)"
   ]
  },
  {
   "cell_type": "code",
   "execution_count": 11,
   "id": "60dad112",
   "metadata": {
    "execution": {
     "iopub.execute_input": "2024-09-04T19:54:50.779543Z",
     "iopub.status.busy": "2024-09-04T19:54:50.779223Z",
     "iopub.status.idle": "2024-09-04T19:54:50.783254Z",
     "shell.execute_reply": "2024-09-04T19:54:50.782294Z"
    },
    "papermill": {
     "duration": 0.01264,
     "end_time": "2024-09-04T19:54:50.785248",
     "exception": false,
     "start_time": "2024-09-04T19:54:50.772608",
     "status": "completed"
    },
    "tags": []
   },
   "outputs": [],
   "source": [
    "# from isic_helper import compute_auc, compute_pauc\n",
    "# testing_pauc = compute_pauc(test_targets, ensemble_preds_df[target_column], min_tpr=0.8)\n",
    "# testing_auc = compute_auc(test_targets, ensemble_preds_df[target_column])\n",
    "# testing_auc, testing_pauc"
   ]
  },
  {
   "cell_type": "code",
   "execution_count": null,
   "id": "6cbb01bb",
   "metadata": {
    "papermill": {
     "duration": 0.005288,
     "end_time": "2024-09-04T19:54:50.796117",
     "exception": false,
     "start_time": "2024-09-04T19:54:50.790829",
     "status": "completed"
    },
    "tags": []
   },
   "outputs": [],
   "source": []
  }
 ],
 "metadata": {
  "kaggle": {
   "accelerator": "gpu",
   "dataSources": [
    {
     "databundleVersionId": 9094797,
     "sourceId": 63056,
     "sourceType": "competition"
    },
    {
     "datasetId": 5619988,
     "sourceId": 9284402,
     "sourceType": "datasetVersion"
    },
    {
     "sourceId": 194755237,
     "sourceType": "kernelVersion"
    },
    {
     "sourceId": 195221877,
     "sourceType": "kernelVersion"
    },
    {
     "sourceId": 194626630,
     "sourceType": "kernelVersion"
    }
   ],
   "dockerImageVersionId": 30733,
   "isGpuEnabled": true,
   "isInternetEnabled": false,
   "language": "python",
   "sourceType": "notebook"
  },
  "kernelspec": {
   "display_name": "Python 3",
   "language": "python",
   "name": "python3"
  },
  "language_info": {
   "codemirror_mode": {
    "name": "ipython",
    "version": 3
   },
   "file_extension": ".py",
   "mimetype": "text/x-python",
   "name": "python",
   "nbconvert_exporter": "python",
   "pygments_lexer": "ipython3",
   "version": "3.10.13"
  },
  "papermill": {
   "default_parameters": {},
   "duration": 50.278025,
   "end_time": "2024-09-04T19:54:54.007273",
   "environment_variables": {},
   "exception": null,
   "input_path": "__notebook__.ipynb",
   "output_path": "__notebook__.ipynb",
   "parameters": {},
   "start_time": "2024-09-04T19:54:03.729248",
   "version": "2.5.0"
  }
 },
 "nbformat": 4,
 "nbformat_minor": 5
}
