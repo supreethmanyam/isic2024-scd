{
 "cells": [
  {
   "cell_type": "code",
   "execution_count": 1,
   "id": "e2222010",
   "metadata": {
    "_cell_guid": "b1076dfc-b9ad-4769-8c92-a6c4dae69d19",
    "_uuid": "8f2839f25d086af736a60e9eeb907d3b93b6e0e5",
    "execution": {
     "iopub.execute_input": "2024-08-07T00:23:21.810802Z",
     "iopub.status.busy": "2024-08-07T00:23:21.810504Z",
     "iopub.status.idle": "2024-08-07T00:23:30.936277Z",
     "shell.execute_reply": "2024-08-07T00:23:30.935477Z"
    },
    "papermill": {
     "duration": 9.133735,
     "end_time": "2024-08-07T00:23:30.938594",
     "exception": false,
     "start_time": "2024-08-07T00:23:21.804859",
     "status": "completed"
    },
    "tags": []
   },
   "outputs": [],
   "source": [
    "import json\n",
    "from pathlib import Path\n",
    "from pprint import pprint\n",
    "from io import BytesIO\n",
    "\n",
    "import h5py\n",
    "from PIL import Image\n",
    "import numpy as np\n",
    "import pandas as pd\n",
    "\n",
    "import torch\n",
    "from torch.utils.data import DataLoader, Dataset\n",
    "import torch.nn as nn\n",
    "import torch.nn.functional as F\n",
    "import albumentations as A\n",
    "from albumentations.pytorch import ToTensorV2\n",
    "from timm import create_model\n",
    "from accelerate import Accelerator\n",
    "\n",
    "from isic_helper import get_folds"
   ]
  },
  {
   "cell_type": "code",
   "execution_count": 2,
   "id": "ab347c40",
   "metadata": {
    "execution": {
     "iopub.execute_input": "2024-08-07T00:23:30.948667Z",
     "iopub.status.busy": "2024-08-07T00:23:30.948132Z",
     "iopub.status.idle": "2024-08-07T00:23:30.952681Z",
     "shell.execute_reply": "2024-08-07T00:23:30.951841Z"
    },
    "papermill": {
     "duration": 0.011313,
     "end_time": "2024-08-07T00:23:30.954469",
     "exception": false,
     "start_time": "2024-08-07T00:23:30.943156",
     "status": "completed"
    },
    "tags": []
   },
   "outputs": [],
   "source": [
    "model_name = \"efficientnet_b0\"\n",
    "version = \"v2\"\n",
    "mode = \"pretrain\"\n",
    "path = f\"/kaggle/input/isic-scd-{model_name.replace('_', '-')}-{version}-{mode}\""
   ]
  },
  {
   "cell_type": "code",
   "execution_count": 3,
   "id": "8611fc68",
   "metadata": {
    "execution": {
     "iopub.execute_input": "2024-08-07T00:23:30.964055Z",
     "iopub.status.busy": "2024-08-07T00:23:30.963304Z",
     "iopub.status.idle": "2024-08-07T00:23:30.967461Z",
     "shell.execute_reply": "2024-08-07T00:23:30.966626Z"
    },
    "papermill": {
     "duration": 0.010774,
     "end_time": "2024-08-07T00:23:30.969359",
     "exception": false,
     "start_time": "2024-08-07T00:23:30.958585",
     "status": "completed"
    },
    "tags": []
   },
   "outputs": [],
   "source": [
    "id_column = \"isic_id\"\n",
    "target_column = \"target\"\n",
    "group_column = \"patient_id\""
   ]
  },
  {
   "cell_type": "code",
   "execution_count": 4,
   "id": "821bfd7c",
   "metadata": {
    "execution": {
     "iopub.execute_input": "2024-08-07T00:23:30.978641Z",
     "iopub.status.busy": "2024-08-07T00:23:30.978371Z",
     "iopub.status.idle": "2024-08-07T00:23:30.997543Z",
     "shell.execute_reply": "2024-08-07T00:23:30.996690Z"
    },
    "papermill": {
     "duration": 0.026071,
     "end_time": "2024-08-07T00:23:30.999374",
     "exception": false,
     "start_time": "2024-08-07T00:23:30.973303",
     "status": "completed"
    },
    "tags": []
   },
   "outputs": [],
   "source": [
    "def test_augment(image_size):\n",
    "    transform = A.Compose(\n",
    "        [A.Resize(image_size, image_size), A.Normalize(), ToTensorV2()], p=1.0\n",
    "    )\n",
    "    return transform\n",
    "\n",
    "\n",
    "class ISICDataset(Dataset):\n",
    "    def __init__(self, metadata, images, augment, infer=False):\n",
    "        self.metadata = metadata\n",
    "        self.images = images\n",
    "        self.augment = augment\n",
    "        self.length = len(self.metadata)\n",
    "        self.infer = infer\n",
    "\n",
    "    def __len__(self):\n",
    "        return self.length\n",
    "\n",
    "    def __getitem__(self, index):\n",
    "        row = self.metadata.iloc[index]\n",
    "        image = np.array(Image.open(BytesIO(self.images[row[\"isic_id\"]][()])))\n",
    "        if self.augment is not None:\n",
    "            image = self.augment(image=image)[\"image\"].float()\n",
    "        if self.infer:\n",
    "            return image\n",
    "        else:\n",
    "            target = torch.tensor(row[\"target\"]).float()\n",
    "            return image, target\n",
    "\n",
    "\n",
    "\n",
    "class ISICNet(nn.Module):\n",
    "    def __init__(\n",
    "        self,\n",
    "        model_name,\n",
    "        pretrained=True\n",
    "    ):\n",
    "        super(ISICNet, self).__init__()\n",
    "        self.model = create_model(\n",
    "            model_name=model_name,\n",
    "            pretrained=pretrained,\n",
    "            in_chans=3,\n",
    "            num_classes=0,\n",
    "            global_pool=\"\",\n",
    "        )\n",
    "        in_dim = self.model.num_features\n",
    "        self.classifier = nn.Linear(in_dim, 1)\n",
    "        self.dropouts = nn.ModuleList([nn.Dropout(0.5) for _ in range(5)])\n",
    "\n",
    "    def forward(self, images):\n",
    "        x = self.model(images)\n",
    "        bs = len(images)\n",
    "        pool = F.adaptive_avg_pool2d(x, 1).reshape(bs, -1)\n",
    "        if self.training:\n",
    "            logits = 0\n",
    "            for i in range(len(self.dropouts)):\n",
    "                logits += self.classifier(self.dropouts[i](pool))\n",
    "            logits = logits / len(self.dropouts)\n",
    "        else:\n",
    "            logits = self.classifier(pool)\n",
    "        return logits\n",
    "\n",
    "\n",
    "def get_trans(img, iteration):\n",
    "    if iteration >= 6:\n",
    "        img = img.transpose(2, 3)\n",
    "    if iteration % 6 == 0:\n",
    "        return img\n",
    "    elif iteration % 6 == 1:\n",
    "        return torch.flip(img, dims=[2])\n",
    "    elif iteration % 6 == 2:\n",
    "        return torch.flip(img, dims=[3])\n",
    "    elif iteration % 6 == 3:\n",
    "        return torch.rot90(img, 1, dims=[2, 3])\n",
    "    elif iteration % 6 == 4:\n",
    "        return torch.rot90(img, 2, dims=[2, 3])\n",
    "    elif iteration % 6 == 5:\n",
    "        return torch.rot90(img, 3, dims=[2, 3])\n",
    "\n",
    "\n",
    "def predict(model, test_dataloader, accelerator, n_tta, log_interval=100):\n",
    "    model.eval()\n",
    "    test_probs = []\n",
    "    total_steps = len(test_dataloader)\n",
    "    with torch.no_grad():\n",
    "        for step, images in enumerate(test_dataloader):\n",
    "            logits = 0\n",
    "            probs = 0\n",
    "            for i in range(n_tta):\n",
    "                logits_iter = model(get_trans(images, i))\n",
    "                logits += logits_iter\n",
    "                probs += torch.sigmoid(logits_iter)\n",
    "            logits /= n_tta\n",
    "            probs /= n_tta\n",
    "\n",
    "            probs = accelerator.gather(probs)\n",
    "            test_probs.append(probs)\n",
    "\n",
    "            if (step == 0) or ((step + 1) % log_interval == 0):\n",
    "                print(\n",
    "                    f\"Step: {step + 1}/{total_steps}\"\n",
    "                )\n",
    "\n",
    "    test_probs = torch.cat(test_probs).cpu().numpy()\n",
    "    return test_probs"
   ]
  },
  {
   "cell_type": "code",
   "execution_count": 5,
   "id": "4e9e5d54",
   "metadata": {
    "execution": {
     "iopub.execute_input": "2024-08-07T00:23:31.008261Z",
     "iopub.status.busy": "2024-08-07T00:23:31.007971Z",
     "iopub.status.idle": "2024-08-07T00:23:40.832646Z",
     "shell.execute_reply": "2024-08-07T00:23:40.831681Z"
    },
    "papermill": {
     "duration": 9.831686,
     "end_time": "2024-08-07T00:23:40.834991",
     "exception": false,
     "start_time": "2024-08-07T00:23:31.003305",
     "status": "completed"
    },
    "tags": []
   },
   "outputs": [
    {
     "name": "stdout",
     "output_type": "stream",
     "text": [
      "Train data size: (401059, 57)\n",
      "Test data size: (3, 44)\n"
     ]
    }
   ],
   "source": [
    "INPUT_PATH = Path(\"../input/isic-2024-challenge/\")\n",
    "\n",
    "train_metadata = pd.read_csv(INPUT_PATH / \"train-metadata.csv\", low_memory=False)\n",
    "test_metadata = pd.read_csv(INPUT_PATH / \"test-metadata.csv\")\n",
    "\n",
    "folds_df = get_folds()\n",
    "train_metadata = train_metadata.merge(folds_df, on=[\"isic_id\", \"patient_id\"], how=\"inner\")\n",
    "print(f\"Train data size: {train_metadata.shape}\")\n",
    "print(f\"Test data size: {test_metadata.shape}\")\n",
    "\n",
    "test_images = h5py.File(INPUT_PATH / \"test-image.hdf5\", mode=\"r\")"
   ]
  },
  {
   "cell_type": "code",
   "execution_count": 6,
   "id": "6dc4dfde",
   "metadata": {
    "execution": {
     "iopub.execute_input": "2024-08-07T00:23:40.845665Z",
     "iopub.status.busy": "2024-08-07T00:23:40.845384Z",
     "iopub.status.idle": "2024-08-07T00:23:40.854840Z",
     "shell.execute_reply": "2024-08-07T00:23:40.854006Z"
    },
    "papermill": {
     "duration": 0.016521,
     "end_time": "2024-08-07T00:23:40.856768",
     "exception": false,
     "start_time": "2024-08-07T00:23:40.840247",
     "status": "completed"
    },
    "tags": []
   },
   "outputs": [],
   "source": [
    "def get_dnn_predictions(train, test, test_images, model_name, version, path):\n",
    "    with open(path / f\"{model_name}_{version}_{mode}_run_metadata.json\", \"r\") as f:\n",
    "        run_metadata = json.load(f)\n",
    "    pprint(run_metadata[\"params\"])\n",
    "    \n",
    "    test_dataset = ISICDataset(\n",
    "        test, test_images, augment=test_augment(run_metadata[\"params\"][\"image_size\"]), infer=True\n",
    "    )\n",
    "    test_dataloader = DataLoader(\n",
    "        test_dataset,\n",
    "        batch_size=512,\n",
    "        shuffle=False,\n",
    "        num_workers=4,\n",
    "        drop_last=False,\n",
    "        pin_memory=True,\n",
    "    )\n",
    "    \n",
    "#     all_folds = np.unique(train[\"fold\"])\n",
    "    all_folds = [1]\n",
    "    test_predictions_df = pd.DataFrame({id_column: test_metadata[id_column]})\n",
    "    for fold in all_folds:\n",
    "        accelerator = Accelerator(\n",
    "            mixed_precision=run_metadata[\"params\"][\"mixed_precision\"],\n",
    "        )\n",
    "        \n",
    "        model = ISICNet(model_name=model_name, pretrained=False)\n",
    "        model = model.to(accelerator.device)\n",
    "        \n",
    "        model, test_dataloader = accelerator.prepare(model, test_dataloader)\n",
    "        model_filepath = path / f\"models/fold_{fold}\"\n",
    "        accelerator.load_state(model_filepath)\n",
    "\n",
    "        test_predictions_df[f\"fold_{fold}\"] = predict(model, test_dataloader, accelerator, n_tta=run_metadata[\"params\"][\"n_tta\"])\n",
    "    test_predictions_df[target_column] = test_predictions_df[[f\"fold_{fold}\" for fold in all_folds]].mean(axis=1)\n",
    "    return test_predictions_df[[id_column, target_column]]"
   ]
  },
  {
   "cell_type": "code",
   "execution_count": 7,
   "id": "4c255ef7",
   "metadata": {
    "execution": {
     "iopub.execute_input": "2024-08-07T00:23:40.866034Z",
     "iopub.status.busy": "2024-08-07T00:23:40.865746Z",
     "iopub.status.idle": "2024-08-07T00:23:42.566688Z",
     "shell.execute_reply": "2024-08-07T00:23:42.565590Z"
    },
    "papermill": {
     "duration": 1.707965,
     "end_time": "2024-08-07T00:23:42.568929",
     "exception": false,
     "start_time": "2024-08-07T00:23:40.860964",
     "status": "completed"
    },
    "tags": []
   },
   "outputs": [
    {
     "name": "stdout",
     "output_type": "stream",
     "text": [
      "{'batch_size': 64,\n",
      " 'debug': True,\n",
      " 'ext': '2020,2019',\n",
      " 'image_size': 64,\n",
      " 'init_lr': 3e-05,\n",
      " 'mixed_precision': 'fp16',\n",
      " 'n_tta': 8,\n",
      " 'num_epochs': 15,\n",
      " 'num_workers': 8,\n",
      " 'only_malignant': True,\n",
      " 'seed': 2022}\n",
      "Step: 1/1\n"
     ]
    }
   ],
   "source": [
    "test_preds_df = get_dnn_predictions(train_metadata, test_metadata, test_images, model_name, version, Path(path))"
   ]
  },
  {
   "cell_type": "code",
   "execution_count": 8,
   "id": "1bb74a7f",
   "metadata": {
    "execution": {
     "iopub.execute_input": "2024-08-07T00:23:42.579547Z",
     "iopub.status.busy": "2024-08-07T00:23:42.578957Z",
     "iopub.status.idle": "2024-08-07T00:23:42.593786Z",
     "shell.execute_reply": "2024-08-07T00:23:42.592808Z"
    },
    "papermill": {
     "duration": 0.022324,
     "end_time": "2024-08-07T00:23:42.595734",
     "exception": false,
     "start_time": "2024-08-07T00:23:42.573410",
     "status": "completed"
    },
    "tags": []
   },
   "outputs": [
    {
     "data": {
      "text/html": [
       "<div>\n",
       "<style scoped>\n",
       "    .dataframe tbody tr th:only-of-type {\n",
       "        vertical-align: middle;\n",
       "    }\n",
       "\n",
       "    .dataframe tbody tr th {\n",
       "        vertical-align: top;\n",
       "    }\n",
       "\n",
       "    .dataframe thead th {\n",
       "        text-align: right;\n",
       "    }\n",
       "</style>\n",
       "<table border=\"1\" class=\"dataframe\">\n",
       "  <thead>\n",
       "    <tr style=\"text-align: right;\">\n",
       "      <th></th>\n",
       "      <th>isic_id</th>\n",
       "      <th>target</th>\n",
       "    </tr>\n",
       "  </thead>\n",
       "  <tbody>\n",
       "    <tr>\n",
       "      <th>0</th>\n",
       "      <td>ISIC_0015657</td>\n",
       "      <td>0.573858</td>\n",
       "    </tr>\n",
       "    <tr>\n",
       "      <th>1</th>\n",
       "      <td>ISIC_0015729</td>\n",
       "      <td>0.625681</td>\n",
       "    </tr>\n",
       "    <tr>\n",
       "      <th>2</th>\n",
       "      <td>ISIC_0015740</td>\n",
       "      <td>0.541739</td>\n",
       "    </tr>\n",
       "  </tbody>\n",
       "</table>\n",
       "</div>"
      ],
      "text/plain": [
       "        isic_id    target\n",
       "0  ISIC_0015657  0.573858\n",
       "1  ISIC_0015729  0.625681\n",
       "2  ISIC_0015740  0.541739"
      ]
     },
     "execution_count": 8,
     "metadata": {},
     "output_type": "execute_result"
    }
   ],
   "source": [
    "test_preds_df.head()"
   ]
  },
  {
   "cell_type": "code",
   "execution_count": 9,
   "id": "906f2cd2",
   "metadata": {
    "execution": {
     "iopub.execute_input": "2024-08-07T00:23:42.605959Z",
     "iopub.status.busy": "2024-08-07T00:23:42.605684Z",
     "iopub.status.idle": "2024-08-07T00:23:42.617184Z",
     "shell.execute_reply": "2024-08-07T00:23:42.616243Z"
    },
    "papermill": {
     "duration": 0.018734,
     "end_time": "2024-08-07T00:23:42.619094",
     "exception": false,
     "start_time": "2024-08-07T00:23:42.600360",
     "status": "completed"
    },
    "tags": []
   },
   "outputs": [
    {
     "data": {
      "text/plain": [
       "count    3.000000\n",
       "mean     0.580426\n",
       "std      0.042354\n",
       "min      0.541739\n",
       "25%      0.557799\n",
       "50%      0.573858\n",
       "75%      0.599770\n",
       "max      0.625681\n",
       "Name: target, dtype: float64"
      ]
     },
     "execution_count": 9,
     "metadata": {},
     "output_type": "execute_result"
    }
   ],
   "source": [
    "test_preds_df[target_column].describe()"
   ]
  },
  {
   "cell_type": "code",
   "execution_count": 10,
   "id": "297f5e84",
   "metadata": {
    "execution": {
     "iopub.execute_input": "2024-08-07T00:23:42.629237Z",
     "iopub.status.busy": "2024-08-07T00:23:42.628949Z",
     "iopub.status.idle": "2024-08-07T00:23:42.637378Z",
     "shell.execute_reply": "2024-08-07T00:23:42.636482Z"
    },
    "papermill": {
     "duration": 0.015778,
     "end_time": "2024-08-07T00:23:42.639457",
     "exception": false,
     "start_time": "2024-08-07T00:23:42.623679",
     "status": "completed"
    },
    "tags": []
   },
   "outputs": [
    {
     "data": {
      "text/html": [
       "<div>\n",
       "<style scoped>\n",
       "    .dataframe tbody tr th:only-of-type {\n",
       "        vertical-align: middle;\n",
       "    }\n",
       "\n",
       "    .dataframe tbody tr th {\n",
       "        vertical-align: top;\n",
       "    }\n",
       "\n",
       "    .dataframe thead th {\n",
       "        text-align: right;\n",
       "    }\n",
       "</style>\n",
       "<table border=\"1\" class=\"dataframe\">\n",
       "  <thead>\n",
       "    <tr style=\"text-align: right;\">\n",
       "      <th></th>\n",
       "      <th>isic_id</th>\n",
       "      <th>target</th>\n",
       "    </tr>\n",
       "  </thead>\n",
       "  <tbody>\n",
       "    <tr>\n",
       "      <th>0</th>\n",
       "      <td>ISIC_0015657</td>\n",
       "      <td>0.573858</td>\n",
       "    </tr>\n",
       "    <tr>\n",
       "      <th>1</th>\n",
       "      <td>ISIC_0015729</td>\n",
       "      <td>0.625681</td>\n",
       "    </tr>\n",
       "    <tr>\n",
       "      <th>2</th>\n",
       "      <td>ISIC_0015740</td>\n",
       "      <td>0.541739</td>\n",
       "    </tr>\n",
       "  </tbody>\n",
       "</table>\n",
       "</div>"
      ],
      "text/plain": [
       "        isic_id    target\n",
       "0  ISIC_0015657  0.573858\n",
       "1  ISIC_0015729  0.625681\n",
       "2  ISIC_0015740  0.541739"
      ]
     },
     "execution_count": 10,
     "metadata": {},
     "output_type": "execute_result"
    }
   ],
   "source": [
    "test_preds_df[[id_column, target_column]].head()"
   ]
  },
  {
   "cell_type": "code",
   "execution_count": 11,
   "id": "94305caf",
   "metadata": {
    "execution": {
     "iopub.execute_input": "2024-08-07T00:23:42.650603Z",
     "iopub.status.busy": "2024-08-07T00:23:42.649998Z",
     "iopub.status.idle": "2024-08-07T00:23:42.656951Z",
     "shell.execute_reply": "2024-08-07T00:23:42.656242Z"
    },
    "papermill": {
     "duration": 0.014467,
     "end_time": "2024-08-07T00:23:42.658797",
     "exception": false,
     "start_time": "2024-08-07T00:23:42.644330",
     "status": "completed"
    },
    "tags": []
   },
   "outputs": [],
   "source": [
    "test_preds_df[[id_column, target_column]].to_csv(\"submission.csv\", index=False)"
   ]
  },
  {
   "cell_type": "code",
   "execution_count": null,
   "id": "6e129df0",
   "metadata": {
    "papermill": {
     "duration": 0.004637,
     "end_time": "2024-08-07T00:23:42.668405",
     "exception": false,
     "start_time": "2024-08-07T00:23:42.663768",
     "status": "completed"
    },
    "tags": []
   },
   "outputs": [],
   "source": []
  }
 ],
 "metadata": {
  "kaggle": {
   "accelerator": "gpu",
   "dataSources": [
    {
     "databundleVersionId": 9094797,
     "sourceId": 63056,
     "sourceType": "competition"
    },
    {
     "datasetId": 5505696,
     "sourceId": 9120735,
     "sourceType": "datasetVersion"
    },
    {
     "sourceId": 187477024,
     "sourceType": "kernelVersion"
    },
    {
     "sourceId": 189656082,
     "sourceType": "kernelVersion"
    }
   ],
   "dockerImageVersionId": 30733,
   "isGpuEnabled": true,
   "isInternetEnabled": false,
   "language": "python",
   "sourceType": "notebook"
  },
  "kernelspec": {
   "display_name": "Python 3",
   "language": "python",
   "name": "python3"
  },
  "language_info": {
   "codemirror_mode": {
    "name": "ipython",
    "version": 3
   },
   "file_extension": ".py",
   "mimetype": "text/x-python",
   "name": "python",
   "nbconvert_exporter": "python",
   "pygments_lexer": "ipython3",
   "version": "3.10.13"
  },
  "papermill": {
   "default_parameters": {},
   "duration": 26.149728,
   "end_time": "2024-08-07T00:23:45.229257",
   "environment_variables": {},
   "exception": null,
   "input_path": "__notebook__.ipynb",
   "output_path": "__notebook__.ipynb",
   "parameters": {},
   "start_time": "2024-08-07T00:23:19.079529",
   "version": "2.5.0"
  }
 },
 "nbformat": 4,
 "nbformat_minor": 5
}
