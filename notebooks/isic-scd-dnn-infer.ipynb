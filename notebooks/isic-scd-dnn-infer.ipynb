{
 "cells": [
  {
   "cell_type": "code",
   "execution_count": 1,
   "id": "13656580",
   "metadata": {
    "_cell_guid": "b1076dfc-b9ad-4769-8c92-a6c4dae69d19",
    "_uuid": "8f2839f25d086af736a60e9eeb907d3b93b6e0e5",
    "execution": {
     "iopub.execute_input": "2024-08-07T17:39:57.659755Z",
     "iopub.status.busy": "2024-08-07T17:39:57.659377Z",
     "iopub.status.idle": "2024-08-07T17:40:04.902862Z",
     "shell.execute_reply": "2024-08-07T17:40:04.902063Z"
    },
    "papermill": {
     "duration": 7.25195,
     "end_time": "2024-08-07T17:40:04.905270",
     "exception": false,
     "start_time": "2024-08-07T17:39:57.653320",
     "status": "completed"
    },
    "tags": []
   },
   "outputs": [],
   "source": [
    "import json\n",
    "from pathlib import Path\n",
    "from pprint import pprint\n",
    "\n",
    "import h5py\n",
    "import numpy as np\n",
    "import pandas as pd\n",
    "\n",
    "from torch.utils.data import DataLoader\n",
    "from accelerate import Accelerator\n",
    "\n",
    "from isic_helper import get_folds"
   ]
  },
  {
   "cell_type": "code",
   "execution_count": 2,
   "id": "7d00c493",
   "metadata": {
    "execution": {
     "iopub.execute_input": "2024-08-07T17:40:04.915601Z",
     "iopub.status.busy": "2024-08-07T17:40:04.915122Z",
     "iopub.status.idle": "2024-08-07T17:40:04.919377Z",
     "shell.execute_reply": "2024-08-07T17:40:04.918557Z"
    },
    "papermill": {
     "duration": 0.011144,
     "end_time": "2024-08-07T17:40:04.921173",
     "exception": false,
     "start_time": "2024-08-07T17:40:04.910029",
     "status": "completed"
    },
    "tags": []
   },
   "outputs": [],
   "source": [
    "model_name = \"efficientnet_b0\"\n",
    "version = \"v1\"\n",
    "path = f\"/kaggle/input/isic-scd-{model_name.replace('_', '-')}-{version}-train\""
   ]
  },
  {
   "cell_type": "code",
   "execution_count": 3,
   "id": "7eb07e91",
   "metadata": {
    "execution": {
     "iopub.execute_input": "2024-08-07T17:40:04.930330Z",
     "iopub.status.busy": "2024-08-07T17:40:04.930084Z",
     "iopub.status.idle": "2024-08-07T17:40:04.933901Z",
     "shell.execute_reply": "2024-08-07T17:40:04.933093Z"
    },
    "papermill": {
     "duration": 0.01044,
     "end_time": "2024-08-07T17:40:04.935715",
     "exception": false,
     "start_time": "2024-08-07T17:40:04.925275",
     "status": "completed"
    },
    "tags": []
   },
   "outputs": [],
   "source": [
    "import sys\n",
    "sys.path.append(path)"
   ]
  },
  {
   "cell_type": "code",
   "execution_count": 4,
   "id": "e5044039",
   "metadata": {
    "execution": {
     "iopub.execute_input": "2024-08-07T17:40:04.944884Z",
     "iopub.status.busy": "2024-08-07T17:40:04.944610Z",
     "iopub.status.idle": "2024-08-07T17:40:06.958825Z",
     "shell.execute_reply": "2024-08-07T17:40:06.957856Z"
    },
    "papermill": {
     "duration": 2.021293,
     "end_time": "2024-08-07T17:40:06.961147",
     "exception": false,
     "start_time": "2024-08-07T17:40:04.939854",
     "status": "completed"
    },
    "tags": []
   },
   "outputs": [],
   "source": [
    "from dataset import test_augment, ISICDataset\n",
    "from models import ISICNet\n",
    "from engine import predict"
   ]
  },
  {
   "cell_type": "code",
   "execution_count": 5,
   "id": "46bc5b32",
   "metadata": {
    "execution": {
     "iopub.execute_input": "2024-08-07T17:40:06.970987Z",
     "iopub.status.busy": "2024-08-07T17:40:06.970672Z",
     "iopub.status.idle": "2024-08-07T17:40:06.974643Z",
     "shell.execute_reply": "2024-08-07T17:40:06.973854Z"
    },
    "papermill": {
     "duration": 0.010926,
     "end_time": "2024-08-07T17:40:06.976510",
     "exception": false,
     "start_time": "2024-08-07T17:40:06.965584",
     "status": "completed"
    },
    "tags": []
   },
   "outputs": [],
   "source": [
    "id_column = \"isic_id\"\n",
    "target_column = \"target\"\n",
    "group_column = \"patient_id\""
   ]
  },
  {
   "cell_type": "code",
   "execution_count": 6,
   "id": "25903269",
   "metadata": {
    "execution": {
     "iopub.execute_input": "2024-08-07T17:40:06.985887Z",
     "iopub.status.busy": "2024-08-07T17:40:06.985600Z",
     "iopub.status.idle": "2024-08-07T17:40:17.005673Z",
     "shell.execute_reply": "2024-08-07T17:40:17.004767Z"
    },
    "papermill": {
     "duration": 10.027381,
     "end_time": "2024-08-07T17:40:17.008020",
     "exception": false,
     "start_time": "2024-08-07T17:40:06.980639",
     "status": "completed"
    },
    "tags": []
   },
   "outputs": [
    {
     "name": "stdout",
     "output_type": "stream",
     "text": [
      "Train data size: (401059, 57)\n",
      "Test data size: (3, 44)\n"
     ]
    }
   ],
   "source": [
    "INPUT_PATH = Path(\"../input/isic-2024-challenge/\")\n",
    "\n",
    "train_metadata = pd.read_csv(INPUT_PATH / \"train-metadata.csv\", low_memory=False)\n",
    "test_metadata = pd.read_csv(INPUT_PATH / \"test-metadata.csv\")\n",
    "\n",
    "folds_df = get_folds()\n",
    "train_metadata = train_metadata.merge(folds_df, on=[\"isic_id\", \"patient_id\"], how=\"inner\")\n",
    "print(f\"Train data size: {train_metadata.shape}\")\n",
    "print(f\"Test data size: {test_metadata.shape}\")\n",
    "\n",
    "test_images = h5py.File(INPUT_PATH / \"test-image.hdf5\", mode=\"r\")"
   ]
  },
  {
   "cell_type": "code",
   "execution_count": 7,
   "id": "c6427d02",
   "metadata": {
    "execution": {
     "iopub.execute_input": "2024-08-07T17:40:17.017977Z",
     "iopub.status.busy": "2024-08-07T17:40:17.017651Z",
     "iopub.status.idle": "2024-08-07T17:40:17.026995Z",
     "shell.execute_reply": "2024-08-07T17:40:17.026087Z"
    },
    "papermill": {
     "duration": 0.016411,
     "end_time": "2024-08-07T17:40:17.028869",
     "exception": false,
     "start_time": "2024-08-07T17:40:17.012458",
     "status": "completed"
    },
    "tags": []
   },
   "outputs": [],
   "source": [
    "def get_dnn_predictions(train, test, test_images, model_name, version, path):\n",
    "    with open(path / f\"{model_name}_{version}_run_metadata.json\", \"r\") as f:\n",
    "        run_metadata = json.load(f)\n",
    "    pprint(run_metadata[\"params\"])\n",
    "    \n",
    "    test_dataset = ISICDataset(\n",
    "        test, test_images, augment=test_augment(run_metadata[\"params\"][\"image_size\"]), infer=True\n",
    "    )\n",
    "    test_dataloader = DataLoader(\n",
    "        test_dataset,\n",
    "        batch_size=512,\n",
    "        shuffle=False,\n",
    "        num_workers=4,\n",
    "        drop_last=False,\n",
    "        pin_memory=True,\n",
    "    )\n",
    "    \n",
    "#     all_folds = np.unique(train[\"fold\"])\n",
    "    all_folds = [1]\n",
    "    test_predictions_df = pd.DataFrame({id_column: test_metadata[id_column]})\n",
    "    for fold in all_folds:\n",
    "        accelerator = Accelerator(\n",
    "            mixed_precision=run_metadata[\"params\"][\"mixed_precision\"],\n",
    "        )\n",
    "        \n",
    "        model = ISICNet(model_name=model_name, pretrained=False)\n",
    "        model = model.to(accelerator.device)\n",
    "        \n",
    "        model, test_dataloader = accelerator.prepare(model, test_dataloader)\n",
    "        model_filepath = path / f\"models/fold_{fold}\"\n",
    "        accelerator.load_state(model_filepath)\n",
    "\n",
    "        test_predictions_df[f\"fold_{fold}\"] = predict(model, test_dataloader, accelerator, n_tta=run_metadata[\"params\"][\"n_tta\"])\n",
    "    test_predictions_df[target_column] = test_predictions_df[[f\"fold_{fold}\" for fold in all_folds]].mean(axis=1)\n",
    "    return test_predictions_df#[[id_column, target_column]]"
   ]
  },
  {
   "cell_type": "code",
   "execution_count": 8,
   "id": "8cd010d1",
   "metadata": {
    "execution": {
     "iopub.execute_input": "2024-08-07T17:40:17.038563Z",
     "iopub.status.busy": "2024-08-07T17:40:17.038299Z",
     "iopub.status.idle": "2024-08-07T17:40:18.919683Z",
     "shell.execute_reply": "2024-08-07T17:40:18.918485Z"
    },
    "papermill": {
     "duration": 1.888896,
     "end_time": "2024-08-07T17:40:18.921919",
     "exception": false,
     "start_time": "2024-08-07T17:40:17.033023",
     "status": "completed"
    },
    "tags": []
   },
   "outputs": [
    {
     "name": "stdout",
     "output_type": "stream",
     "text": [
      "{'debug': False,\n",
      " 'ext': '2020,2019',\n",
      " 'image_size': 64,\n",
      " 'init_lr': 3e-05,\n",
      " 'mixed_precision': 'fp16',\n",
      " 'n_tta': 8,\n",
      " 'num_epochs': 20,\n",
      " 'num_workers': 8,\n",
      " 'only_malignant': True,\n",
      " 'seed': 2022,\n",
      " 'train_batch_size': 64,\n",
      " 'val_batch_size': 512}\n",
      "Step: 1/1\n"
     ]
    }
   ],
   "source": [
    "test_preds_df = get_dnn_predictions(train_metadata, test_metadata, test_images, model_name, version, Path(path))"
   ]
  },
  {
   "cell_type": "code",
   "execution_count": 9,
   "id": "c1997a56",
   "metadata": {
    "execution": {
     "iopub.execute_input": "2024-08-07T17:40:18.932681Z",
     "iopub.status.busy": "2024-08-07T17:40:18.932365Z",
     "iopub.status.idle": "2024-08-07T17:40:18.947731Z",
     "shell.execute_reply": "2024-08-07T17:40:18.946857Z"
    },
    "papermill": {
     "duration": 0.023015,
     "end_time": "2024-08-07T17:40:18.949582",
     "exception": false,
     "start_time": "2024-08-07T17:40:18.926567",
     "status": "completed"
    },
    "tags": []
   },
   "outputs": [
    {
     "data": {
      "text/html": [
       "<div>\n",
       "<style scoped>\n",
       "    .dataframe tbody tr th:only-of-type {\n",
       "        vertical-align: middle;\n",
       "    }\n",
       "\n",
       "    .dataframe tbody tr th {\n",
       "        vertical-align: top;\n",
       "    }\n",
       "\n",
       "    .dataframe thead th {\n",
       "        text-align: right;\n",
       "    }\n",
       "</style>\n",
       "<table border=\"1\" class=\"dataframe\">\n",
       "  <thead>\n",
       "    <tr style=\"text-align: right;\">\n",
       "      <th></th>\n",
       "      <th>isic_id</th>\n",
       "      <th>fold_1</th>\n",
       "      <th>target</th>\n",
       "    </tr>\n",
       "  </thead>\n",
       "  <tbody>\n",
       "    <tr>\n",
       "      <th>0</th>\n",
       "      <td>ISIC_0015657</td>\n",
       "      <td>0.001388</td>\n",
       "      <td>0.001388</td>\n",
       "    </tr>\n",
       "    <tr>\n",
       "      <th>1</th>\n",
       "      <td>ISIC_0015729</td>\n",
       "      <td>0.000004</td>\n",
       "      <td>0.000004</td>\n",
       "    </tr>\n",
       "    <tr>\n",
       "      <th>2</th>\n",
       "      <td>ISIC_0015740</td>\n",
       "      <td>0.000005</td>\n",
       "      <td>0.000005</td>\n",
       "    </tr>\n",
       "  </tbody>\n",
       "</table>\n",
       "</div>"
      ],
      "text/plain": [
       "        isic_id    fold_1    target\n",
       "0  ISIC_0015657  0.001388  0.001388\n",
       "1  ISIC_0015729  0.000004  0.000004\n",
       "2  ISIC_0015740  0.000005  0.000005"
      ]
     },
     "execution_count": 9,
     "metadata": {},
     "output_type": "execute_result"
    }
   ],
   "source": [
    "test_preds_df.head()"
   ]
  },
  {
   "cell_type": "code",
   "execution_count": 10,
   "id": "2ef46d1a",
   "metadata": {
    "execution": {
     "iopub.execute_input": "2024-08-07T17:40:18.959915Z",
     "iopub.status.busy": "2024-08-07T17:40:18.959609Z",
     "iopub.status.idle": "2024-08-07T17:40:18.971599Z",
     "shell.execute_reply": "2024-08-07T17:40:18.970830Z"
    },
    "papermill": {
     "duration": 0.019303,
     "end_time": "2024-08-07T17:40:18.973469",
     "exception": false,
     "start_time": "2024-08-07T17:40:18.954166",
     "status": "completed"
    },
    "tags": []
   },
   "outputs": [
    {
     "data": {
      "text/plain": [
       "count    3.000000\n",
       "mean     0.000466\n",
       "std      0.000799\n",
       "min      0.000004\n",
       "25%      0.000005\n",
       "50%      0.000005\n",
       "75%      0.000697\n",
       "max      0.001388\n",
       "Name: target, dtype: float64"
      ]
     },
     "execution_count": 10,
     "metadata": {},
     "output_type": "execute_result"
    }
   ],
   "source": [
    "test_preds_df[target_column].describe()"
   ]
  },
  {
   "cell_type": "code",
   "execution_count": 11,
   "id": "c0bb709f",
   "metadata": {
    "execution": {
     "iopub.execute_input": "2024-08-07T17:40:18.984354Z",
     "iopub.status.busy": "2024-08-07T17:40:18.983665Z",
     "iopub.status.idle": "2024-08-07T17:40:18.993011Z",
     "shell.execute_reply": "2024-08-07T17:40:18.992128Z"
    },
    "papermill": {
     "duration": 0.016705,
     "end_time": "2024-08-07T17:40:18.994945",
     "exception": false,
     "start_time": "2024-08-07T17:40:18.978240",
     "status": "completed"
    },
    "tags": []
   },
   "outputs": [
    {
     "data": {
      "text/html": [
       "<div>\n",
       "<style scoped>\n",
       "    .dataframe tbody tr th:only-of-type {\n",
       "        vertical-align: middle;\n",
       "    }\n",
       "\n",
       "    .dataframe tbody tr th {\n",
       "        vertical-align: top;\n",
       "    }\n",
       "\n",
       "    .dataframe thead th {\n",
       "        text-align: right;\n",
       "    }\n",
       "</style>\n",
       "<table border=\"1\" class=\"dataframe\">\n",
       "  <thead>\n",
       "    <tr style=\"text-align: right;\">\n",
       "      <th></th>\n",
       "      <th>isic_id</th>\n",
       "      <th>target</th>\n",
       "    </tr>\n",
       "  </thead>\n",
       "  <tbody>\n",
       "    <tr>\n",
       "      <th>0</th>\n",
       "      <td>ISIC_0015657</td>\n",
       "      <td>0.001388</td>\n",
       "    </tr>\n",
       "    <tr>\n",
       "      <th>1</th>\n",
       "      <td>ISIC_0015729</td>\n",
       "      <td>0.000004</td>\n",
       "    </tr>\n",
       "    <tr>\n",
       "      <th>2</th>\n",
       "      <td>ISIC_0015740</td>\n",
       "      <td>0.000005</td>\n",
       "    </tr>\n",
       "  </tbody>\n",
       "</table>\n",
       "</div>"
      ],
      "text/plain": [
       "        isic_id    target\n",
       "0  ISIC_0015657  0.001388\n",
       "1  ISIC_0015729  0.000004\n",
       "2  ISIC_0015740  0.000005"
      ]
     },
     "execution_count": 11,
     "metadata": {},
     "output_type": "execute_result"
    }
   ],
   "source": [
    "test_preds_df[[id_column, target_column]].head()"
   ]
  },
  {
   "cell_type": "code",
   "execution_count": 12,
   "id": "6415ae2f",
   "metadata": {
    "execution": {
     "iopub.execute_input": "2024-08-07T17:40:19.005634Z",
     "iopub.status.busy": "2024-08-07T17:40:19.005370Z",
     "iopub.status.idle": "2024-08-07T17:40:19.012484Z",
     "shell.execute_reply": "2024-08-07T17:40:19.011788Z"
    },
    "papermill": {
     "duration": 0.014512,
     "end_time": "2024-08-07T17:40:19.014380",
     "exception": false,
     "start_time": "2024-08-07T17:40:18.999868",
     "status": "completed"
    },
    "tags": []
   },
   "outputs": [],
   "source": [
    "test_preds_df[[id_column, target_column]].to_csv(\"submission.csv\", index=False)"
   ]
  },
  {
   "cell_type": "code",
   "execution_count": null,
   "id": "86c26e70",
   "metadata": {
    "papermill": {
     "duration": 0.004693,
     "end_time": "2024-08-07T17:40:19.024044",
     "exception": false,
     "start_time": "2024-08-07T17:40:19.019351",
     "status": "completed"
    },
    "tags": []
   },
   "outputs": [],
   "source": []
  }
 ],
 "metadata": {
  "kaggle": {
   "accelerator": "gpu",
   "dataSources": [
    {
     "databundleVersionId": 9094797,
     "sourceId": 63056,
     "sourceType": "competition"
    },
    {
     "datasetId": 5454133,
     "sourceId": 9126454,
     "sourceType": "datasetVersion"
    },
    {
     "sourceId": 187477024,
     "sourceType": "kernelVersion"
    },
    {
     "sourceId": 189656082,
     "sourceType": "kernelVersion"
    }
   ],
   "dockerImageVersionId": 30733,
   "isGpuEnabled": true,
   "isInternetEnabled": false,
   "language": "python",
   "sourceType": "notebook"
  },
  "kernelspec": {
   "display_name": "Python 3",
   "language": "python",
   "name": "python3"
  },
  "language_info": {
   "codemirror_mode": {
    "name": "ipython",
    "version": 3
   },
   "file_extension": ".py",
   "mimetype": "text/x-python",
   "name": "python",
   "nbconvert_exporter": "python",
   "pygments_lexer": "ipython3",
   "version": "3.10.13"
  },
  "papermill": {
   "default_parameters": {},
   "duration": 26.17625,
   "end_time": "2024-08-07T17:40:21.052022",
   "environment_variables": {},
   "exception": null,
   "input_path": "__notebook__.ipynb",
   "output_path": "__notebook__.ipynb",
   "parameters": {},
   "start_time": "2024-08-07T17:39:54.875772",
   "version": "2.5.0"
  }
 },
 "nbformat": 4,
 "nbformat_minor": 5
}
