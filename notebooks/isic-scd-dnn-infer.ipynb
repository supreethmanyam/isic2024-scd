{
 "cells": [
  {
   "cell_type": "code",
   "execution_count": 1,
   "id": "bb830825",
   "metadata": {
    "_cell_guid": "b1076dfc-b9ad-4769-8c92-a6c4dae69d19",
    "_uuid": "8f2839f25d086af736a60e9eeb907d3b93b6e0e5",
    "execution": {
     "iopub.execute_input": "2024-08-16T22:30:46.003277Z",
     "iopub.status.busy": "2024-08-16T22:30:46.002963Z",
     "iopub.status.idle": "2024-08-16T22:30:53.165496Z",
     "shell.execute_reply": "2024-08-16T22:30:53.164694Z"
    },
    "papermill": {
     "duration": 7.170928,
     "end_time": "2024-08-16T22:30:53.167800",
     "exception": false,
     "start_time": "2024-08-16T22:30:45.996872",
     "status": "completed"
    },
    "tags": []
   },
   "outputs": [],
   "source": [
    "import time\n",
    "import json\n",
    "from pathlib import Path\n",
    "from pprint import pprint\n",
    "\n",
    "import h5py\n",
    "import numpy as np\n",
    "import pandas as pd\n",
    "\n",
    "from torch.utils.data import DataLoader\n",
    "from accelerate import Accelerator\n",
    "\n",
    "from isic_helper import get_folds"
   ]
  },
  {
   "cell_type": "code",
   "execution_count": 2,
   "id": "5d7cedaa",
   "metadata": {
    "execution": {
     "iopub.execute_input": "2024-08-16T22:30:53.178954Z",
     "iopub.status.busy": "2024-08-16T22:30:53.178030Z",
     "iopub.status.idle": "2024-08-16T22:30:53.182749Z",
     "shell.execute_reply": "2024-08-16T22:30:53.181846Z"
    },
    "papermill": {
     "duration": 0.011856,
     "end_time": "2024-08-16T22:30:53.184657",
     "exception": false,
     "start_time": "2024-08-16T22:30:53.172801",
     "status": "completed"
    },
    "tags": []
   },
   "outputs": [],
   "source": [
    "model_name = \"efficientnet_b2\"\n",
    "version = \"v1\"\n",
    "mode = \"pretrain\"\n",
    "path = f\"/kaggle/input/isic-scd-{model_name.replace('_', '-')}-{version}-{mode}\"\n",
    "\n",
    "SAMPLE_SIZE = 5000\n",
    "EXPECTED_TEST_SIZE = 500000"
   ]
  },
  {
   "cell_type": "code",
   "execution_count": 3,
   "id": "9f30a08b",
   "metadata": {
    "execution": {
     "iopub.execute_input": "2024-08-16T22:30:53.194409Z",
     "iopub.status.busy": "2024-08-16T22:30:53.194123Z",
     "iopub.status.idle": "2024-08-16T22:30:53.197925Z",
     "shell.execute_reply": "2024-08-16T22:30:53.197102Z"
    },
    "papermill": {
     "duration": 0.010799,
     "end_time": "2024-08-16T22:30:53.199780",
     "exception": false,
     "start_time": "2024-08-16T22:30:53.188981",
     "status": "completed"
    },
    "tags": []
   },
   "outputs": [],
   "source": [
    "import sys\n",
    "sys.path.append(path)"
   ]
  },
  {
   "cell_type": "code",
   "execution_count": 4,
   "id": "f901982c",
   "metadata": {
    "execution": {
     "iopub.execute_input": "2024-08-16T22:30:53.209721Z",
     "iopub.status.busy": "2024-08-16T22:30:53.209195Z",
     "iopub.status.idle": "2024-08-16T22:30:55.097121Z",
     "shell.execute_reply": "2024-08-16T22:30:55.096342Z"
    },
    "papermill": {
     "duration": 1.895219,
     "end_time": "2024-08-16T22:30:55.099411",
     "exception": false,
     "start_time": "2024-08-16T22:30:53.204192",
     "status": "completed"
    },
    "tags": []
   },
   "outputs": [],
   "source": [
    "from dataset import test_augment, ISICDataset\n",
    "from models import ISICNet\n",
    "from engine import predict"
   ]
  },
  {
   "cell_type": "code",
   "execution_count": 5,
   "id": "e79931a0",
   "metadata": {
    "execution": {
     "iopub.execute_input": "2024-08-16T22:30:55.110012Z",
     "iopub.status.busy": "2024-08-16T22:30:55.109476Z",
     "iopub.status.idle": "2024-08-16T22:30:55.113508Z",
     "shell.execute_reply": "2024-08-16T22:30:55.112673Z"
    },
    "papermill": {
     "duration": 0.011291,
     "end_time": "2024-08-16T22:30:55.115343",
     "exception": false,
     "start_time": "2024-08-16T22:30:55.104052",
     "status": "completed"
    },
    "tags": []
   },
   "outputs": [],
   "source": [
    "id_column = \"isic_id\"\n",
    "target_column = \"target\"\n",
    "group_column = \"patient_id\""
   ]
  },
  {
   "cell_type": "code",
   "execution_count": 6,
   "id": "1358bc79",
   "metadata": {
    "execution": {
     "iopub.execute_input": "2024-08-16T22:30:55.125369Z",
     "iopub.status.busy": "2024-08-16T22:30:55.124754Z",
     "iopub.status.idle": "2024-08-16T22:31:05.447508Z",
     "shell.execute_reply": "2024-08-16T22:31:05.446086Z"
    },
    "papermill": {
     "duration": 10.330035,
     "end_time": "2024-08-16T22:31:05.449673",
     "exception": false,
     "start_time": "2024-08-16T22:30:55.119638",
     "status": "completed"
    },
    "tags": []
   },
   "outputs": [
    {
     "name": "stdout",
     "output_type": "stream",
     "text": [
      "Train data size: (401059, 58)\n",
      "Test data size: (3, 44)\n"
     ]
    }
   ],
   "source": [
    "INPUT_PATH = Path(\"../input/isic-2024-challenge/\")\n",
    "\n",
    "train_metadata = pd.read_csv(INPUT_PATH / \"train-metadata.csv\", low_memory=False)\n",
    "test_metadata = pd.read_csv(INPUT_PATH / \"test-metadata.csv\")\n",
    "\n",
    "folds_df = get_folds()\n",
    "train_metadata = train_metadata.merge(folds_df, on=[\"isic_id\", \"patient_id\"], how=\"inner\")\n",
    "print(f\"Train data size: {train_metadata.shape}\")\n",
    "print(f\"Test data size: {test_metadata.shape}\")\n",
    "\n",
    "train_images = h5py.File(INPUT_PATH / \"train-image.hdf5\", mode=\"r\")\n",
    "test_images = h5py.File(INPUT_PATH / \"test-image.hdf5\", mode=\"r\")"
   ]
  },
  {
   "cell_type": "code",
   "execution_count": 7,
   "id": "8b63b809",
   "metadata": {
    "execution": {
     "iopub.execute_input": "2024-08-16T22:31:05.460681Z",
     "iopub.status.busy": "2024-08-16T22:31:05.459772Z",
     "iopub.status.idle": "2024-08-16T22:31:05.472020Z",
     "shell.execute_reply": "2024-08-16T22:31:05.471333Z"
    },
    "papermill": {
     "duration": 0.01971,
     "end_time": "2024-08-16T22:31:05.474033",
     "exception": false,
     "start_time": "2024-08-16T22:31:05.454323",
     "status": "completed"
    },
    "tags": []
   },
   "outputs": [],
   "source": [
    "def get_dnn_predictions(train, test, test_images, model_name, version, path):\n",
    "    start_time = time.time()\n",
    "    test_df = test[[id_column]].copy()\n",
    "    with open(path / f\"{model_name}_{version}_run_metadata.json\", \"r\") as f:\n",
    "        run_metadata = json.load(f)\n",
    "    pprint(run_metadata[\"params\"])\n",
    "    \n",
    "    image_size = run_metadata[\"params\"][\"image_size\"]\n",
    "    batch_size = run_metadata[\"params\"][\"val_batch_size\"]\n",
    "    fold_method = run_metadata[\"params\"][\"fold_method\"]\n",
    "    \n",
    "    test_dataset = ISICDataset(\n",
    "        test_df, test_images, augment=test_augment(image_size), infer=True\n",
    "    )\n",
    "    test_dataloader = DataLoader(\n",
    "        test_dataset,\n",
    "        batch_size=batch_size,\n",
    "        shuffle=False,\n",
    "        num_workers=4,\n",
    "        drop_last=False,\n",
    "        pin_memory=True,\n",
    "    )\n",
    "    \n",
    "    if fold_method == \"gkf\":\n",
    "        print(\"Using GroupKFold\")\n",
    "        fold_column = \"gkf_fold\"\n",
    "    elif fold_method == \"sgkf\":\n",
    "        print(\"Using StratifiedGroupKFold\")\n",
    "        fold_column = \"sgkf_fold\"\n",
    "    else:\n",
    "        raise ValueError(f\"Fold method {fold_method} not supported\")\n",
    "    \n",
    "    all_folds = np.unique(train[fold_column])\n",
    "#     all_folds = [1]\n",
    "    test_predictions_df = pd.DataFrame({id_column: test[id_column]})\n",
    "    for fold in all_folds:\n",
    "        if fold < 0:\n",
    "            continue\n",
    "        print(f\"\\nFold {fold}\")\n",
    "        accelerator = Accelerator(\n",
    "            mixed_precision=run_metadata[\"params\"][\"mixed_precision\"],\n",
    "        )\n",
    "        \n",
    "        model = ISICNet(model_name=model_name, pretrained=False)\n",
    "        model = model.to(accelerator.device)\n",
    "        \n",
    "        model, test_dataloader = accelerator.prepare(model, test_dataloader)\n",
    "        model_filepath = path / f\"models/fold_{fold}\"\n",
    "        accelerator.load_state(model_filepath)\n",
    "\n",
    "        test_predictions_df[f\"fold_{fold}\"] = predict(model, test_dataloader, accelerator, n_tta=run_metadata[\"params\"][\"n_tta\"])\n",
    "    test_predictions_df[target_column] = test_predictions_df[[f\"fold_{fold}\" for fold in all_folds if fold > 0]].mean(axis=1)\n",
    "    end_time = time.time()\n",
    "    return test_predictions_df[[id_column, target_column]], (end_time - start_time)"
   ]
  },
  {
   "cell_type": "code",
   "execution_count": 8,
   "id": "afa793dd",
   "metadata": {
    "execution": {
     "iopub.execute_input": "2024-08-16T22:31:05.483985Z",
     "iopub.status.busy": "2024-08-16T22:31:05.483740Z",
     "iopub.status.idle": "2024-08-16T22:36:02.906880Z",
     "shell.execute_reply": "2024-08-16T22:36:02.905911Z"
    },
    "papermill": {
     "duration": 297.430615,
     "end_time": "2024-08-16T22:36:02.909087",
     "exception": false,
     "start_time": "2024-08-16T22:31:05.478472",
     "status": "completed"
    },
    "tags": []
   },
   "outputs": [
    {
     "name": "stdout",
     "output_type": "stream",
     "text": [
      "{'debug': False,\n",
      " 'down_sampling': True,\n",
      " 'fold_method': 'gkf',\n",
      " 'image_size': 256,\n",
      " 'init_lr': 3e-05,\n",
      " 'mixed_precision': 'fp16',\n",
      " 'mode': 'pretrain',\n",
      " 'n_tta': 8,\n",
      " 'num_epochs': 20,\n",
      " 'num_workers': 8,\n",
      " 'seed': 2022,\n",
      " 'train_batch_size': 64,\n",
      " 'val_batch_size': 512}\n",
      "Using GroupKFold\n",
      "\n",
      "Fold 1\n",
      "Step: 1/10\n",
      "Step: 10/10\n",
      "\n",
      "Fold 2\n",
      "Step: 1/10\n",
      "Step: 10/10\n",
      "\n",
      "Fold 3\n",
      "Step: 1/10\n",
      "Step: 10/10\n",
      "\n",
      "Fold 4\n",
      "Step: 1/10\n",
      "Step: 10/10\n",
      "\n",
      "Fold 5\n",
      "Step: 1/10\n",
      "Step: 10/10\n"
     ]
    }
   ],
   "source": [
    "if test_metadata.shape[0] == 3:\n",
    "    test_preds_df, total_runtime = get_dnn_predictions(train_metadata, \n",
    "                                                 train_metadata.sample(n=SAMPLE_SIZE, random_state=42), \n",
    "                                                 train_images, \n",
    "                                                 model_name, \n",
    "                                                 version, \n",
    "                                                 Path(path))\n",
    "else:\n",
    "    test_preds_df, total_runtime = get_dnn_predictions(train_metadata, \n",
    "                                                 test_metadata, \n",
    "                                                 test_images, \n",
    "                                                 model_name, \n",
    "                                                 version, \n",
    "                                                 Path(path))"
   ]
  },
  {
   "cell_type": "code",
   "execution_count": 9,
   "id": "255a9ea8",
   "metadata": {
    "execution": {
     "iopub.execute_input": "2024-08-16T22:36:02.922069Z",
     "iopub.status.busy": "2024-08-16T22:36:02.921741Z",
     "iopub.status.idle": "2024-08-16T22:36:02.927622Z",
     "shell.execute_reply": "2024-08-16T22:36:02.926581Z"
    },
    "papermill": {
     "duration": 0.014537,
     "end_time": "2024-08-16T22:36:02.929514",
     "exception": false,
     "start_time": "2024-08-16T22:36:02.914977",
     "status": "completed"
    },
    "tags": []
   },
   "outputs": [
    {
     "name": "stdout",
     "output_type": "stream",
     "text": [
      "Expected total runtime during submission: 495 mins and 38.74611854553223 secs\n"
     ]
    }
   ],
   "source": [
    "factor = EXPECTED_TEST_SIZE / SAMPLE_SIZE\n",
    "expected_total_runtime = total_runtime * factor\n",
    "total_runtime_minutes = int(expected_total_runtime // 60)\n",
    "total_runtime_seconds = expected_total_runtime % 60\n",
    "print(f\"Expected total runtime during submission: {total_runtime_minutes} mins and {total_runtime_seconds} secs\")"
   ]
  },
  {
   "cell_type": "code",
   "execution_count": 10,
   "id": "0289e97d",
   "metadata": {
    "execution": {
     "iopub.execute_input": "2024-08-16T22:36:02.941920Z",
     "iopub.status.busy": "2024-08-16T22:36:02.941643Z",
     "iopub.status.idle": "2024-08-16T22:36:02.955725Z",
     "shell.execute_reply": "2024-08-16T22:36:02.954877Z"
    },
    "papermill": {
     "duration": 0.0224,
     "end_time": "2024-08-16T22:36:02.957633",
     "exception": false,
     "start_time": "2024-08-16T22:36:02.935233",
     "status": "completed"
    },
    "tags": []
   },
   "outputs": [
    {
     "data": {
      "text/html": [
       "<div>\n",
       "<style scoped>\n",
       "    .dataframe tbody tr th:only-of-type {\n",
       "        vertical-align: middle;\n",
       "    }\n",
       "\n",
       "    .dataframe tbody tr th {\n",
       "        vertical-align: top;\n",
       "    }\n",
       "\n",
       "    .dataframe thead th {\n",
       "        text-align: right;\n",
       "    }\n",
       "</style>\n",
       "<table border=\"1\" class=\"dataframe\">\n",
       "  <thead>\n",
       "    <tr style=\"text-align: right;\">\n",
       "      <th></th>\n",
       "      <th>isic_id</th>\n",
       "      <th>target</th>\n",
       "    </tr>\n",
       "  </thead>\n",
       "  <tbody>\n",
       "    <tr>\n",
       "      <th>278442</th>\n",
       "      <td>ISIC_6973879</td>\n",
       "      <td>0.000142</td>\n",
       "    </tr>\n",
       "    <tr>\n",
       "      <th>215021</th>\n",
       "      <td>ISIC_5407194</td>\n",
       "      <td>0.000158</td>\n",
       "    </tr>\n",
       "    <tr>\n",
       "      <th>209685</th>\n",
       "      <td>ISIC_5273739</td>\n",
       "      <td>0.015660</td>\n",
       "    </tr>\n",
       "    <tr>\n",
       "      <th>29648</th>\n",
       "      <td>ISIC_0802250</td>\n",
       "      <td>0.000243</td>\n",
       "    </tr>\n",
       "    <tr>\n",
       "      <th>323386</th>\n",
       "      <td>ISIC_8084953</td>\n",
       "      <td>0.000718</td>\n",
       "    </tr>\n",
       "  </tbody>\n",
       "</table>\n",
       "</div>"
      ],
      "text/plain": [
       "             isic_id    target\n",
       "278442  ISIC_6973879  0.000142\n",
       "215021  ISIC_5407194  0.000158\n",
       "209685  ISIC_5273739  0.015660\n",
       "29648   ISIC_0802250  0.000243\n",
       "323386  ISIC_8084953  0.000718"
      ]
     },
     "execution_count": 10,
     "metadata": {},
     "output_type": "execute_result"
    }
   ],
   "source": [
    "test_preds_df.head()"
   ]
  },
  {
   "cell_type": "code",
   "execution_count": 11,
   "id": "4dc75caf",
   "metadata": {
    "execution": {
     "iopub.execute_input": "2024-08-16T22:36:02.970372Z",
     "iopub.status.busy": "2024-08-16T22:36:02.970117Z",
     "iopub.status.idle": "2024-08-16T22:36:02.982268Z",
     "shell.execute_reply": "2024-08-16T22:36:02.981515Z"
    },
    "papermill": {
     "duration": 0.020587,
     "end_time": "2024-08-16T22:36:02.984103",
     "exception": false,
     "start_time": "2024-08-16T22:36:02.963516",
     "status": "completed"
    },
    "tags": []
   },
   "outputs": [
    {
     "data": {
      "text/plain": [
       "count    5000.000000\n",
       "mean        0.006450\n",
       "std         0.026521\n",
       "min         0.000066\n",
       "25%         0.000260\n",
       "50%         0.000612\n",
       "75%         0.002240\n",
       "max         0.504802\n",
       "Name: target, dtype: float64"
      ]
     },
     "execution_count": 11,
     "metadata": {},
     "output_type": "execute_result"
    }
   ],
   "source": [
    "test_preds_df[target_column].describe()"
   ]
  },
  {
   "cell_type": "code",
   "execution_count": 12,
   "id": "335a7261",
   "metadata": {
    "execution": {
     "iopub.execute_input": "2024-08-16T22:36:02.997013Z",
     "iopub.status.busy": "2024-08-16T22:36:02.996772Z",
     "iopub.status.idle": "2024-08-16T22:36:03.006445Z",
     "shell.execute_reply": "2024-08-16T22:36:03.005580Z"
    },
    "papermill": {
     "duration": 0.018186,
     "end_time": "2024-08-16T22:36:03.008284",
     "exception": false,
     "start_time": "2024-08-16T22:36:02.990098",
     "status": "completed"
    },
    "tags": []
   },
   "outputs": [
    {
     "data": {
      "text/html": [
       "<div>\n",
       "<style scoped>\n",
       "    .dataframe tbody tr th:only-of-type {\n",
       "        vertical-align: middle;\n",
       "    }\n",
       "\n",
       "    .dataframe tbody tr th {\n",
       "        vertical-align: top;\n",
       "    }\n",
       "\n",
       "    .dataframe thead th {\n",
       "        text-align: right;\n",
       "    }\n",
       "</style>\n",
       "<table border=\"1\" class=\"dataframe\">\n",
       "  <thead>\n",
       "    <tr style=\"text-align: right;\">\n",
       "      <th></th>\n",
       "      <th>isic_id</th>\n",
       "      <th>target</th>\n",
       "    </tr>\n",
       "  </thead>\n",
       "  <tbody>\n",
       "    <tr>\n",
       "      <th>278442</th>\n",
       "      <td>ISIC_6973879</td>\n",
       "      <td>0.000142</td>\n",
       "    </tr>\n",
       "    <tr>\n",
       "      <th>215021</th>\n",
       "      <td>ISIC_5407194</td>\n",
       "      <td>0.000158</td>\n",
       "    </tr>\n",
       "    <tr>\n",
       "      <th>209685</th>\n",
       "      <td>ISIC_5273739</td>\n",
       "      <td>0.015660</td>\n",
       "    </tr>\n",
       "    <tr>\n",
       "      <th>29648</th>\n",
       "      <td>ISIC_0802250</td>\n",
       "      <td>0.000243</td>\n",
       "    </tr>\n",
       "    <tr>\n",
       "      <th>323386</th>\n",
       "      <td>ISIC_8084953</td>\n",
       "      <td>0.000718</td>\n",
       "    </tr>\n",
       "  </tbody>\n",
       "</table>\n",
       "</div>"
      ],
      "text/plain": [
       "             isic_id    target\n",
       "278442  ISIC_6973879  0.000142\n",
       "215021  ISIC_5407194  0.000158\n",
       "209685  ISIC_5273739  0.015660\n",
       "29648   ISIC_0802250  0.000243\n",
       "323386  ISIC_8084953  0.000718"
      ]
     },
     "execution_count": 12,
     "metadata": {},
     "output_type": "execute_result"
    }
   ],
   "source": [
    "test_preds_df[[id_column, target_column]].head()"
   ]
  },
  {
   "cell_type": "code",
   "execution_count": 13,
   "id": "6942d82c",
   "metadata": {
    "execution": {
     "iopub.execute_input": "2024-08-16T22:36:03.021671Z",
     "iopub.status.busy": "2024-08-16T22:36:03.021188Z",
     "iopub.status.idle": "2024-08-16T22:36:03.041595Z",
     "shell.execute_reply": "2024-08-16T22:36:03.040736Z"
    },
    "papermill": {
     "duration": 0.02902,
     "end_time": "2024-08-16T22:36:03.043443",
     "exception": false,
     "start_time": "2024-08-16T22:36:03.014423",
     "status": "completed"
    },
    "tags": []
   },
   "outputs": [],
   "source": [
    "test_preds_df[[id_column, target_column]].to_csv(\"submission.csv\", index=False)"
   ]
  },
  {
   "cell_type": "code",
   "execution_count": null,
   "id": "d0bc750f",
   "metadata": {
    "papermill": {
     "duration": 0.005956,
     "end_time": "2024-08-16T22:36:03.055644",
     "exception": false,
     "start_time": "2024-08-16T22:36:03.049688",
     "status": "completed"
    },
    "tags": []
   },
   "outputs": [],
   "source": []
  }
 ],
 "metadata": {
  "kaggle": {
   "accelerator": "gpu",
   "dataSources": [
    {
     "databundleVersionId": 9094797,
     "sourceId": 63056,
     "sourceType": "competition"
    },
    {
     "datasetId": 5554293,
     "sourceId": 9188236,
     "sourceType": "datasetVersion"
    },
    {
     "sourceId": 187477024,
     "sourceType": "kernelVersion"
    },
    {
     "sourceId": 192814855,
     "sourceType": "kernelVersion"
    }
   ],
   "dockerImageVersionId": 30733,
   "isGpuEnabled": true,
   "isInternetEnabled": false,
   "language": "python",
   "sourceType": "notebook"
  },
  "kernelspec": {
   "display_name": "Python 3",
   "language": "python",
   "name": "python3"
  },
  "language_info": {
   "codemirror_mode": {
    "name": "ipython",
    "version": 3
   },
   "file_extension": ".py",
   "mimetype": "text/x-python",
   "name": "python",
   "nbconvert_exporter": "python",
   "pygments_lexer": "ipython3",
   "version": "3.10.13"
  },
  "papermill": {
   "default_parameters": {},
   "duration": 323.294755,
   "end_time": "2024-08-16T22:36:06.563157",
   "environment_variables": {},
   "exception": null,
   "input_path": "__notebook__.ipynb",
   "output_path": "__notebook__.ipynb",
   "parameters": {},
   "start_time": "2024-08-16T22:30:43.268402",
   "version": "2.5.0"
  }
 },
 "nbformat": 4,
 "nbformat_minor": 5
}
