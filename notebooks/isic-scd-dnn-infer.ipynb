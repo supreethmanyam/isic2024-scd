{
 "cells": [
  {
   "cell_type": "code",
   "execution_count": 1,
   "id": "11e3b554",
   "metadata": {
    "_cell_guid": "b1076dfc-b9ad-4769-8c92-a6c4dae69d19",
    "_uuid": "8f2839f25d086af736a60e9eeb907d3b93b6e0e5",
    "execution": {
     "iopub.execute_input": "2024-08-01T23:16:04.818197Z",
     "iopub.status.busy": "2024-08-01T23:16:04.817815Z",
     "iopub.status.idle": "2024-08-01T23:16:14.491333Z",
     "shell.execute_reply": "2024-08-01T23:16:14.490052Z"
    },
    "papermill": {
     "duration": 9.682517,
     "end_time": "2024-08-01T23:16:14.494005",
     "exception": false,
     "start_time": "2024-08-01T23:16:04.811488",
     "status": "completed"
    },
    "tags": []
   },
   "outputs": [],
   "source": [
    "import json\n",
    "import joblib\n",
    "from pprint import pprint\n",
    "from tqdm import tqdm\n",
    "from pathlib import Path\n",
    "\n",
    "import pandas as pd\n",
    "import numpy as np\n",
    "\n",
    "import h5py\n",
    "from io import BytesIO\n",
    "from PIL import Image\n",
    "\n",
    "import torch\n",
    "from torch.utils.data import DataLoader, Dataset\n",
    "import torch.nn as nn\n",
    "import torch.nn.functional as F\n",
    "\n",
    "from timm import create_model\n",
    "\n",
    "import albumentations as A\n",
    "from albumentations.pytorch import ToTensorV2\n",
    "\n",
    "from accelerate import Accelerator\n",
    "\n",
    "from isic_helper import DotDict, get_folds"
   ]
  },
  {
   "cell_type": "code",
   "execution_count": 2,
   "id": "39070953",
   "metadata": {
    "execution": {
     "iopub.execute_input": "2024-08-01T23:16:14.508265Z",
     "iopub.status.busy": "2024-08-01T23:16:14.506828Z",
     "iopub.status.idle": "2024-08-01T23:16:14.511917Z",
     "shell.execute_reply": "2024-08-01T23:16:14.511067Z"
    },
    "papermill": {
     "duration": 0.014197,
     "end_time": "2024-08-01T23:16:14.514843",
     "exception": false,
     "start_time": "2024-08-01T23:16:14.500646",
     "status": "completed"
    },
    "tags": []
   },
   "outputs": [],
   "source": [
    "model_name = \"resnet18\"\n",
    "version = \"v4\"\n",
    "path = f\"/kaggle/input/isic-scd-{model_name.replace('_', '-')}-{version}-train\""
   ]
  },
  {
   "cell_type": "code",
   "execution_count": 3,
   "id": "a31df40e",
   "metadata": {
    "execution": {
     "iopub.execute_input": "2024-08-01T23:16:14.526819Z",
     "iopub.status.busy": "2024-08-01T23:16:14.526527Z",
     "iopub.status.idle": "2024-08-01T23:16:14.530660Z",
     "shell.execute_reply": "2024-08-01T23:16:14.529747Z"
    },
    "papermill": {
     "duration": 0.012609,
     "end_time": "2024-08-01T23:16:14.532652",
     "exception": false,
     "start_time": "2024-08-01T23:16:14.520043",
     "status": "completed"
    },
    "tags": []
   },
   "outputs": [],
   "source": [
    "id_column = \"isic_id\"\n",
    "target_column = \"target\"\n",
    "group_column = \"patient_id\""
   ]
  },
  {
   "cell_type": "code",
   "execution_count": 4,
   "id": "ea8240e2",
   "metadata": {
    "execution": {
     "iopub.execute_input": "2024-08-01T23:16:14.543515Z",
     "iopub.status.busy": "2024-08-01T23:16:14.543137Z",
     "iopub.status.idle": "2024-08-01T23:16:14.556571Z",
     "shell.execute_reply": "2024-08-01T23:16:14.555738Z"
    },
    "papermill": {
     "duration": 0.02116,
     "end_time": "2024-08-01T23:16:14.558620",
     "exception": false,
     "start_time": "2024-08-01T23:16:14.537460",
     "status": "completed"
    },
    "tags": []
   },
   "outputs": [],
   "source": [
    "label_mapping = {\n",
    "    \"2024\": {\n",
    "        \"Hidradenoma\": \"unknown\",\n",
    "        \"Lichen planus like keratosis\": \"BKL\",\n",
    "        \"Pigmented benign keratosis\": \"BKL\",\n",
    "        \"Seborrheic keratosis\": \"BKL\",\n",
    "        \"Solar lentigo\": \"BKL\",\n",
    "        \"Nevus\": \"NV\",\n",
    "        \"Angiofibroma\": \"unknown\",\n",
    "        \"Dermatofibroma\": \"DF\",\n",
    "        \"Fibroepithelial polyp\": \"unknown\",\n",
    "        \"Scar\": \"unknown\",\n",
    "        \"Hemangioma\": \"unknown\",\n",
    "        \"Trichilemmal or isthmic-catagen or pilar cyst\": \"unknown\",\n",
    "        \"Lentigo NOS\": \"BKL\",\n",
    "        \"Verruca\": \"unknown\",\n",
    "        \"Solar or actinic keratosis\": \"AKIEC\",\n",
    "        \"Atypical intraepithelial melanocytic proliferation\": \"unknown\",\n",
    "        \"Atypical melanocytic neoplasm\": \"unknown\",\n",
    "        \"Basal cell carcinoma\": \"BCC\",\n",
    "        \"Squamous cell carcinoma in situ\": \"SCC\",\n",
    "        \"Squamous cell carcinoma, Invasive\": \"SCC\",\n",
    "        \"Squamous cell carcinoma, NOS\": \"SCC\",\n",
    "        \"Melanoma in situ\": \"MEL\",\n",
    "        \"Melanoma Invasive\": \"MEL\",\n",
    "        \"Melanoma metastasis\": \"MEL\",\n",
    "        \"Melanoma, NOS\": \"MEL\"\n",
    "    },\n",
    "    \"2020\": {\n",
    "        \"nevus\": \"NV\",\n",
    "        \"melanoma\": \"MEL\",\n",
    "        \"seborrheic keratosis\": \"BKL\",\n",
    "        \"lentigo NOS\": \"BKL\",\n",
    "        \"lichenoid keratosis\": \"BKL\",\n",
    "        \"other\": \"unknown\",\n",
    "        \"solar lentigo\": \"BKL\",\n",
    "        \"scar\": \"unknown\",\n",
    "        \"cafe-au-lait macule\": \"unknown\",\n",
    "        \"atypical melanocytic proliferation\": \"unknown\",\n",
    "        \"pigmented benign keratosis\": \"BKL\"\n",
    "    },\n",
    "    \"2019\": {\n",
    "        \"nevus\": \"NV\",\n",
    "        \"melanoma\": \"MEL\",\n",
    "        \"seborrheic keratosis\": \"BKL\",\n",
    "        \"pigmented benign keratosis\": \"BKL\",\n",
    "        \"dermatofibroma\": \"DF\",\n",
    "        \"squamous cell carcinoma\": \"SCC\",\n",
    "        \"basal cell carcinoma\": \"BCC\",\n",
    "        \"vascular lesion\": \"VASC\",\n",
    "        \"actinic keratosis\": \"AKIEC\",\n",
    "        \"solar lentigo\": \"BKL\",\n",
    "    },\n",
    "}\n",
    "\n",
    "\n",
    "all_labels = np.unique(list(label_mapping[\"2024\"].values()) +\n",
    "                       list(label_mapping[\"2020\"].values()) +\n",
    "                       list(label_mapping[\"2019\"].values()))\n",
    "label2idx = {label: idx for idx, label in enumerate(all_labels)}\n",
    "malignant_labels = [\"BCC\", \"MEL\", \"SCC\"]\n",
    "malignant_idx = [label2idx[label] for label in malignant_labels]"
   ]
  },
  {
   "cell_type": "code",
   "execution_count": 5,
   "id": "502d6cc5",
   "metadata": {
    "execution": {
     "iopub.execute_input": "2024-08-01T23:16:14.570604Z",
     "iopub.status.busy": "2024-08-01T23:16:14.568822Z",
     "iopub.status.idle": "2024-08-01T23:16:14.599288Z",
     "shell.execute_reply": "2024-08-01T23:16:14.598276Z"
    },
    "papermill": {
     "duration": 0.039115,
     "end_time": "2024-08-01T23:16:14.602285",
     "exception": false,
     "start_time": "2024-08-01T23:16:14.563170",
     "status": "completed"
    },
    "tags": []
   },
   "outputs": [],
   "source": [
    "def val_augment(image_size):\n",
    "    transform = A.Compose([A.Resize(image_size, image_size), ToTensorV2()], p=1.0)\n",
    "    return transform\n",
    "\n",
    "\n",
    "class ISICDataset(Dataset):\n",
    "    def __init__(self, metadata, images, augment, infer=False):\n",
    "        self.metadata = metadata\n",
    "        self.images = images\n",
    "        self.augment = augment\n",
    "        self.length = len(self.metadata)\n",
    "        self.infer = infer\n",
    "\n",
    "    def __len__(self):\n",
    "        return self.length\n",
    "\n",
    "    def __getitem__(self, index):\n",
    "        row = self.metadata.iloc[index]\n",
    "\n",
    "        image = np.array(Image.open(BytesIO(self.images[row[\"isic_id\"]][()])))\n",
    "        image = self.augment(image=image)[\"image\"]\n",
    "\n",
    "        data = image.float().div(255)\n",
    "\n",
    "        if not self.infer:\n",
    "            label = torch.tensor(row[\"label\"]).long()\n",
    "            return data, label\n",
    "\n",
    "        return data\n",
    "\n",
    "    \n",
    "class ISICNet(nn.Module):\n",
    "    def __init__(self, model_name, out_dim, pretrained=True, infer=False):\n",
    "        super(ISICNet, self).__init__()\n",
    "        self.infer = infer\n",
    "        self.model = create_model(\n",
    "            model_name=model_name,\n",
    "            pretrained=pretrained,\n",
    "            in_chans=3,\n",
    "            num_classes=0,\n",
    "            global_pool=\"\",\n",
    "        )\n",
    "        self.classifier = nn.Linear(self.model.num_features, out_dim)\n",
    "\n",
    "        self.dropouts = nn.ModuleList([nn.Dropout(0.5) for _ in range(5)])\n",
    "\n",
    "    def forward(self, data):\n",
    "        image = data\n",
    "        x = self.model(image)\n",
    "        bs = len(image)\n",
    "        pool = F.adaptive_avg_pool2d(x, 1).reshape(bs, -1)\n",
    "\n",
    "        if self.training:\n",
    "            logit = 0\n",
    "            for i in range(len(self.dropouts)):\n",
    "                logit += self.classifier(self.dropouts[i](pool))\n",
    "            logit = logit / len(self.dropouts)\n",
    "        else:\n",
    "            logit = self.classifier(pool)\n",
    "        return logit\n",
    "    \n",
    "\n",
    "def get_trans(img, iteration):\n",
    "    if iteration >= 6:\n",
    "        img = img.transpose(2, 3)\n",
    "    if iteration % 6 == 0:\n",
    "        return img\n",
    "    elif iteration % 6 == 1:\n",
    "        return torch.flip(img, dims=[2])\n",
    "    elif iteration % 6 == 2:\n",
    "        return torch.flip(img, dims=[3])\n",
    "    elif iteration % 6 == 3:\n",
    "        return torch.rot90(img, 1, dims=[2, 3])\n",
    "    elif iteration % 6 == 4:\n",
    "        return torch.rot90(img, 2, dims=[2, 3])\n",
    "    elif iteration % 6 == 5:\n",
    "        return torch.rot90(img, 3, dims=[2, 3])\n",
    "\n",
    "    \n",
    "def predict(model, test_dataloader, accelerator, out_dim, n_tta, malignant_idx, log_interval=50):\n",
    "    model.eval()\n",
    "    test_probs = []\n",
    "    total_steps = len(test_dataloader)\n",
    "    with torch.no_grad():\n",
    "        for step, data in enumerate(test_dataloader):\n",
    "            logits = torch.zeros((data.shape[0], out_dim)).to(accelerator.device)\n",
    "            probs = torch.zeros((data.shape[0], out_dim)).to(accelerator.device)\n",
    "            for idx in range(n_tta):\n",
    "                logits_iter = model(get_trans(data, idx))\n",
    "                logits += logits_iter\n",
    "                probs += logits_iter.softmax(1)\n",
    "            logits /= n_tta\n",
    "            probs /= n_tta\n",
    "\n",
    "            logits, probs = accelerator.gather((logits, probs))\n",
    "            test_probs.append(probs)\n",
    "\n",
    "            if step % log_interval == 0:\n",
    "                print(\n",
    "                    f\"Step: {step + 1}/{total_steps}\"\n",
    "                )\n",
    "\n",
    "    test_probs = torch.cat(test_probs).cpu().numpy()\n",
    "    if out_dim == 9:\n",
    "        binary_probs = test_probs[:, malignant_idx].sum(1)\n",
    "    else:\n",
    "        binary_probs = test_probs[:, 1]\n",
    "    return binary_probs"
   ]
  },
  {
   "cell_type": "code",
   "execution_count": 6,
   "id": "8847e291",
   "metadata": {
    "execution": {
     "iopub.execute_input": "2024-08-01T23:16:14.616915Z",
     "iopub.status.busy": "2024-08-01T23:16:14.616228Z",
     "iopub.status.idle": "2024-08-01T23:16:24.816214Z",
     "shell.execute_reply": "2024-08-01T23:16:24.815073Z"
    },
    "papermill": {
     "duration": 10.209547,
     "end_time": "2024-08-01T23:16:24.818377",
     "exception": false,
     "start_time": "2024-08-01T23:16:14.608830",
     "status": "completed"
    },
    "tags": []
   },
   "outputs": [
    {
     "name": "stdout",
     "output_type": "stream",
     "text": [
      "Train data size: (401059, 57)\n",
      "Test data size: (3, 44)\n"
     ]
    }
   ],
   "source": [
    "INPUT_PATH = Path(\"../input/isic-2024-challenge/\")\n",
    "\n",
    "train_metadata = pd.read_csv(INPUT_PATH / \"train-metadata.csv\", low_memory=False)\n",
    "test_metadata = pd.read_csv(INPUT_PATH / \"test-metadata.csv\")\n",
    "\n",
    "folds_df = get_folds()\n",
    "train_metadata = train_metadata.merge(folds_df, on=[\"isic_id\", \"patient_id\"], how=\"inner\")\n",
    "print(f\"Train data size: {train_metadata.shape}\")\n",
    "print(f\"Test data size: {test_metadata.shape}\")\n",
    "\n",
    "test_images = h5py.File(INPUT_PATH / \"test-image.hdf5\", mode=\"r\")"
   ]
  },
  {
   "cell_type": "code",
   "execution_count": 7,
   "id": "5b9f2428",
   "metadata": {
    "execution": {
     "iopub.execute_input": "2024-08-01T23:16:24.828819Z",
     "iopub.status.busy": "2024-08-01T23:16:24.828527Z",
     "iopub.status.idle": "2024-08-01T23:16:24.838382Z",
     "shell.execute_reply": "2024-08-01T23:16:24.837496Z"
    },
    "papermill": {
     "duration": 0.01728,
     "end_time": "2024-08-01T23:16:24.840392",
     "exception": false,
     "start_time": "2024-08-01T23:16:24.823112",
     "status": "completed"
    },
    "tags": []
   },
   "outputs": [],
   "source": [
    "def get_dnn_predictions(train, test, test_images, model_name, version, path):\n",
    "    with open(path / f\"{model_name}_{version}_run_metadata.json\", \"r\") as f:\n",
    "        run_metadata = json.load(f)\n",
    "    pprint(run_metadata)\n",
    "    \n",
    "    test_dataset = ISICDataset(\n",
    "        test, test_images, augment=val_augment(run_metadata[\"params\"][\"image_size\"]), infer=True\n",
    "    )\n",
    "    test_dataloader = DataLoader(\n",
    "        test_dataset,\n",
    "        batch_size=run_metadata[\"params\"][\"val_batch_size\"],\n",
    "        shuffle=False,\n",
    "        num_workers=2,\n",
    "        drop_last=False,\n",
    "        pin_memory=True,\n",
    "    )\n",
    "    \n",
    "    all_folds = np.unique(train[\"fold\"])\n",
    "    test_predictions_df = pd.DataFrame({id_column: test_metadata[id_column]})\n",
    "    for fold in all_folds:\n",
    "        accelerator = Accelerator(\n",
    "            mixed_precision=run_metadata[\"params\"][\"mixed_precision\"],\n",
    "        )\n",
    "        \n",
    "        model = ISICNet(model_name=model_name, out_dim=run_metadata[\"params\"][\"out_dim\"], pretrained=False, infer=True)\n",
    "        model = model.to(accelerator.device)\n",
    "        \n",
    "        model, test_dataloader = accelerator.prepare(model, test_dataloader)\n",
    "        model_filepath = path / f\"models/fold_{fold}\"\n",
    "        accelerator.load_state(model_filepath)\n",
    "\n",
    "        test_predictions_df[f\"fold_{fold}\"] = predict(model, test_dataloader, accelerator, out_dim=run_metadata[\"params\"][\"out_dim\"], n_tta=run_metadata[\"params\"][\"n_tta\"], malignant_idx=malignant_idx)\n",
    "    test_predictions_df[target_column] = test_predictions_df[[f\"fold_{fold}\" for fold in all_folds]].mean(axis=1)\n",
    "    return test_predictions_df[[id_column, target_column]]"
   ]
  },
  {
   "cell_type": "code",
   "execution_count": 8,
   "id": "59dcaf1b",
   "metadata": {
    "execution": {
     "iopub.execute_input": "2024-08-01T23:16:24.852675Z",
     "iopub.status.busy": "2024-08-01T23:16:24.851979Z",
     "iopub.status.idle": "2024-08-01T23:16:30.087716Z",
     "shell.execute_reply": "2024-08-01T23:16:30.086237Z"
    },
    "papermill": {
     "duration": 5.243731,
     "end_time": "2024-08-01T23:16:30.090062",
     "exception": false,
     "start_time": "2024-08-01T23:16:24.846331",
     "status": "completed"
    },
    "tags": []
   },
   "outputs": [
    {
     "name": "stdout",
     "output_type": "stream",
     "text": [
      "{'best_num_epochs': {'fold_1': 3,\n",
      "                     'fold_2': 6,\n",
      "                     'fold_3': 6,\n",
      "                     'fold_4': 6,\n",
      "                     'fold_5': 6},\n",
      " 'cv_auc_avg': 0.9387605558205776,\n",
      " 'cv_auc_oof': 0.9312259623350531,\n",
      " 'cv_auc_std': 0.009309164824754284,\n",
      " 'cv_pauc_avg': 0.15499991455799894,\n",
      " 'cv_pauc_oof': 0.14688454600952008,\n",
      " 'cv_pauc_std': 0.0074426762959741875,\n",
      " 'params': {'image_size': 128,\n",
      "            'learning_rate': 0.001,\n",
      "            'mixed_precision': 'fp16',\n",
      "            'n_tta': 10,\n",
      "            'num_epochs': 6,\n",
      "            'num_workers': 4,\n",
      "            'out_dim': 2,\n",
      "            'seed': 2022,\n",
      "            'train_batch_size': 64,\n",
      "            'val_batch_size': 512},\n",
      " 'val_auc_scores': {'fold_1': 0.9487945075875744,\n",
      "                    'fold_2': 0.9486271552841299,\n",
      "                    'fold_3': 0.9386730790830016,\n",
      "                    'fold_4': 0.9332691155732488,\n",
      "                    'fold_5': 0.9244389215749329},\n",
      " 'val_pauc_scores': {'fold_1': 0.167040047814222,\n",
      "                     'fold_2': 0.15979316375839697,\n",
      "                     'fold_3': 0.1524186956358962,\n",
      "                     'fold_4': 0.14724045625288584,\n",
      "                     'fold_5': 0.14850720932859374}}\n",
      "Step: 1/1\n",
      "Step: 1/1\n",
      "Step: 1/1\n",
      "Step: 1/1\n",
      "Step: 1/1\n"
     ]
    }
   ],
   "source": [
    "test_preds_df = get_dnn_predictions(train_metadata, test_metadata, test_images, model_name, version, Path(path))"
   ]
  },
  {
   "cell_type": "code",
   "execution_count": 9,
   "id": "999e9823",
   "metadata": {
    "execution": {
     "iopub.execute_input": "2024-08-01T23:16:30.102763Z",
     "iopub.status.busy": "2024-08-01T23:16:30.102425Z",
     "iopub.status.idle": "2024-08-01T23:16:30.118289Z",
     "shell.execute_reply": "2024-08-01T23:16:30.117300Z"
    },
    "papermill": {
     "duration": 0.024766,
     "end_time": "2024-08-01T23:16:30.120220",
     "exception": false,
     "start_time": "2024-08-01T23:16:30.095454",
     "status": "completed"
    },
    "tags": []
   },
   "outputs": [
    {
     "data": {
      "text/html": [
       "<div>\n",
       "<style scoped>\n",
       "    .dataframe tbody tr th:only-of-type {\n",
       "        vertical-align: middle;\n",
       "    }\n",
       "\n",
       "    .dataframe tbody tr th {\n",
       "        vertical-align: top;\n",
       "    }\n",
       "\n",
       "    .dataframe thead th {\n",
       "        text-align: right;\n",
       "    }\n",
       "</style>\n",
       "<table border=\"1\" class=\"dataframe\">\n",
       "  <thead>\n",
       "    <tr style=\"text-align: right;\">\n",
       "      <th></th>\n",
       "      <th>isic_id</th>\n",
       "      <th>target</th>\n",
       "    </tr>\n",
       "  </thead>\n",
       "  <tbody>\n",
       "    <tr>\n",
       "      <th>0</th>\n",
       "      <td>ISIC_0015657</td>\n",
       "      <td>0.010517</td>\n",
       "    </tr>\n",
       "    <tr>\n",
       "      <th>1</th>\n",
       "      <td>ISIC_0015729</td>\n",
       "      <td>0.000087</td>\n",
       "    </tr>\n",
       "    <tr>\n",
       "      <th>2</th>\n",
       "      <td>ISIC_0015740</td>\n",
       "      <td>0.001205</td>\n",
       "    </tr>\n",
       "  </tbody>\n",
       "</table>\n",
       "</div>"
      ],
      "text/plain": [
       "        isic_id    target\n",
       "0  ISIC_0015657  0.010517\n",
       "1  ISIC_0015729  0.000087\n",
       "2  ISIC_0015740  0.001205"
      ]
     },
     "execution_count": 9,
     "metadata": {},
     "output_type": "execute_result"
    }
   ],
   "source": [
    "test_preds_df.head()"
   ]
  },
  {
   "cell_type": "code",
   "execution_count": 10,
   "id": "5e7ad804",
   "metadata": {
    "execution": {
     "iopub.execute_input": "2024-08-01T23:16:30.132344Z",
     "iopub.status.busy": "2024-08-01T23:16:30.131985Z",
     "iopub.status.idle": "2024-08-01T23:16:30.145863Z",
     "shell.execute_reply": "2024-08-01T23:16:30.144967Z"
    },
    "papermill": {
     "duration": 0.022299,
     "end_time": "2024-08-01T23:16:30.147854",
     "exception": false,
     "start_time": "2024-08-01T23:16:30.125555",
     "status": "completed"
    },
    "tags": []
   },
   "outputs": [
    {
     "data": {
      "text/plain": [
       "count    3.000000\n",
       "mean     0.003937\n",
       "std      0.005726\n",
       "min      0.000087\n",
       "25%      0.000646\n",
       "50%      0.001205\n",
       "75%      0.005861\n",
       "max      0.010517\n",
       "Name: target, dtype: float64"
      ]
     },
     "execution_count": 10,
     "metadata": {},
     "output_type": "execute_result"
    }
   ],
   "source": [
    "test_preds_df[target_column].describe()"
   ]
  },
  {
   "cell_type": "code",
   "execution_count": 11,
   "id": "9a7dd9ab",
   "metadata": {
    "execution": {
     "iopub.execute_input": "2024-08-01T23:16:30.160206Z",
     "iopub.status.busy": "2024-08-01T23:16:30.159881Z",
     "iopub.status.idle": "2024-08-01T23:16:30.169893Z",
     "shell.execute_reply": "2024-08-01T23:16:30.169060Z"
    },
    "papermill": {
     "duration": 0.018468,
     "end_time": "2024-08-01T23:16:30.171914",
     "exception": false,
     "start_time": "2024-08-01T23:16:30.153446",
     "status": "completed"
    },
    "tags": []
   },
   "outputs": [
    {
     "data": {
      "text/html": [
       "<div>\n",
       "<style scoped>\n",
       "    .dataframe tbody tr th:only-of-type {\n",
       "        vertical-align: middle;\n",
       "    }\n",
       "\n",
       "    .dataframe tbody tr th {\n",
       "        vertical-align: top;\n",
       "    }\n",
       "\n",
       "    .dataframe thead th {\n",
       "        text-align: right;\n",
       "    }\n",
       "</style>\n",
       "<table border=\"1\" class=\"dataframe\">\n",
       "  <thead>\n",
       "    <tr style=\"text-align: right;\">\n",
       "      <th></th>\n",
       "      <th>isic_id</th>\n",
       "      <th>target</th>\n",
       "    </tr>\n",
       "  </thead>\n",
       "  <tbody>\n",
       "    <tr>\n",
       "      <th>0</th>\n",
       "      <td>ISIC_0015657</td>\n",
       "      <td>0.010517</td>\n",
       "    </tr>\n",
       "    <tr>\n",
       "      <th>1</th>\n",
       "      <td>ISIC_0015729</td>\n",
       "      <td>0.000087</td>\n",
       "    </tr>\n",
       "    <tr>\n",
       "      <th>2</th>\n",
       "      <td>ISIC_0015740</td>\n",
       "      <td>0.001205</td>\n",
       "    </tr>\n",
       "  </tbody>\n",
       "</table>\n",
       "</div>"
      ],
      "text/plain": [
       "        isic_id    target\n",
       "0  ISIC_0015657  0.010517\n",
       "1  ISIC_0015729  0.000087\n",
       "2  ISIC_0015740  0.001205"
      ]
     },
     "execution_count": 11,
     "metadata": {},
     "output_type": "execute_result"
    }
   ],
   "source": [
    "test_preds_df[[id_column, target_column]].head()"
   ]
  },
  {
   "cell_type": "code",
   "execution_count": 12,
   "id": "d7ed5ff5",
   "metadata": {
    "execution": {
     "iopub.execute_input": "2024-08-01T23:16:30.184454Z",
     "iopub.status.busy": "2024-08-01T23:16:30.184124Z",
     "iopub.status.idle": "2024-08-01T23:16:30.192202Z",
     "shell.execute_reply": "2024-08-01T23:16:30.191441Z"
    },
    "papermill": {
     "duration": 0.016647,
     "end_time": "2024-08-01T23:16:30.194211",
     "exception": false,
     "start_time": "2024-08-01T23:16:30.177564",
     "status": "completed"
    },
    "tags": []
   },
   "outputs": [],
   "source": [
    "test_preds_df[[id_column, target_column]].to_csv(\"submission.csv\", index=False)"
   ]
  },
  {
   "cell_type": "code",
   "execution_count": null,
   "id": "90c8490f",
   "metadata": {
    "papermill": {
     "duration": 0.005702,
     "end_time": "2024-08-01T23:16:30.205419",
     "exception": false,
     "start_time": "2024-08-01T23:16:30.199717",
     "status": "completed"
    },
    "tags": []
   },
   "outputs": [],
   "source": []
  }
 ],
 "metadata": {
  "kaggle": {
   "accelerator": "gpu",
   "dataSources": [
    {
     "databundleVersionId": 9094797,
     "sourceId": 63056,
     "sourceType": "competition"
    },
    {
     "datasetId": 5480389,
     "sourceId": 9083280,
     "sourceType": "datasetVersion"
    },
    {
     "datasetId": 5481734,
     "sourceId": 9085195,
     "sourceType": "datasetVersion"
    },
    {
     "sourceId": 187477024,
     "sourceType": "kernelVersion"
    },
    {
     "sourceId": 189656082,
     "sourceType": "kernelVersion"
    }
   ],
   "dockerImageVersionId": 30733,
   "isGpuEnabled": true,
   "isInternetEnabled": false,
   "language": "python",
   "sourceType": "notebook"
  },
  "kernelspec": {
   "display_name": "Python 3",
   "language": "python",
   "name": "python3"
  },
  "language_info": {
   "codemirror_mode": {
    "name": "ipython",
    "version": 3
   },
   "file_extension": ".py",
   "mimetype": "text/x-python",
   "name": "python",
   "nbconvert_exporter": "python",
   "pygments_lexer": "ipython3",
   "version": "3.10.13"
  },
  "papermill": {
   "default_parameters": {},
   "duration": 31.25501,
   "end_time": "2024-08-01T23:16:33.160673",
   "environment_variables": {},
   "exception": null,
   "input_path": "__notebook__.ipynb",
   "output_path": "__notebook__.ipynb",
   "parameters": {},
   "start_time": "2024-08-01T23:16:01.905663",
   "version": "2.5.0"
  }
 },
 "nbformat": 4,
 "nbformat_minor": 5
}
