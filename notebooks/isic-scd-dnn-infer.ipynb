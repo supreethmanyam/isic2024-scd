{
 "cells": [
  {
   "cell_type": "code",
   "execution_count": 1,
   "id": "730b7f52",
   "metadata": {
    "_cell_guid": "b1076dfc-b9ad-4769-8c92-a6c4dae69d19",
    "_uuid": "8f2839f25d086af736a60e9eeb907d3b93b6e0e5",
    "execution": {
     "iopub.execute_input": "2024-08-23T23:26:00.669928Z",
     "iopub.status.busy": "2024-08-23T23:26:00.669564Z",
     "iopub.status.idle": "2024-08-23T23:26:08.217809Z",
     "shell.execute_reply": "2024-08-23T23:26:08.216949Z"
    },
    "papermill": {
     "duration": 7.557211,
     "end_time": "2024-08-23T23:26:08.220333",
     "exception": false,
     "start_time": "2024-08-23T23:26:00.663122",
     "status": "completed"
    },
    "tags": []
   },
   "outputs": [],
   "source": [
    "import time\n",
    "import json\n",
    "from pathlib import Path\n",
    "from pprint import pprint\n",
    "\n",
    "import h5py\n",
    "import numpy as np\n",
    "import pandas as pd\n",
    "\n",
    "from torch.utils.data import DataLoader\n",
    "from accelerate import Accelerator\n",
    "\n",
    "from isic_helper import get_folds"
   ]
  },
  {
   "cell_type": "code",
   "execution_count": 2,
   "id": "52b0128b",
   "metadata": {
    "execution": {
     "iopub.execute_input": "2024-08-23T23:26:08.231458Z",
     "iopub.status.busy": "2024-08-23T23:26:08.230981Z",
     "iopub.status.idle": "2024-08-23T23:26:08.235698Z",
     "shell.execute_reply": "2024-08-23T23:26:08.234861Z"
    },
    "papermill": {
     "duration": 0.012422,
     "end_time": "2024-08-23T23:26:08.237758",
     "exception": false,
     "start_time": "2024-08-23T23:26:08.225336",
     "status": "completed"
    },
    "tags": []
   },
   "outputs": [],
   "source": [
    "model_name = \"seresnet50\"\n",
    "version = \"v1\"\n",
    "mode = \"pretrain\"\n",
    "path = f\"/kaggle/input/isic-scd-{model_name.replace('_', '-')}-{version}-{mode}\"\n",
    "\n",
    "SAMPLE_SIZE = 5000\n",
    "EXPECTED_TEST_SIZE = 500000"
   ]
  },
  {
   "cell_type": "code",
   "execution_count": 3,
   "id": "7c1737f6",
   "metadata": {
    "execution": {
     "iopub.execute_input": "2024-08-23T23:26:08.248076Z",
     "iopub.status.busy": "2024-08-23T23:26:08.247778Z",
     "iopub.status.idle": "2024-08-23T23:26:08.251669Z",
     "shell.execute_reply": "2024-08-23T23:26:08.250869Z"
    },
    "papermill": {
     "duration": 0.011126,
     "end_time": "2024-08-23T23:26:08.253519",
     "exception": false,
     "start_time": "2024-08-23T23:26:08.242393",
     "status": "completed"
    },
    "tags": []
   },
   "outputs": [],
   "source": [
    "import sys\n",
    "sys.path.append(path)"
   ]
  },
  {
   "cell_type": "code",
   "execution_count": 4,
   "id": "d0a0b811",
   "metadata": {
    "execution": {
     "iopub.execute_input": "2024-08-23T23:26:08.264331Z",
     "iopub.status.busy": "2024-08-23T23:26:08.263633Z",
     "iopub.status.idle": "2024-08-23T23:26:10.304974Z",
     "shell.execute_reply": "2024-08-23T23:26:10.304216Z"
    },
    "papermill": {
     "duration": 2.04911,
     "end_time": "2024-08-23T23:26:10.307359",
     "exception": false,
     "start_time": "2024-08-23T23:26:08.258249",
     "status": "completed"
    },
    "tags": []
   },
   "outputs": [],
   "source": [
    "from dataset import test_augment, ISICDataset, preprocess, feature_engineering, get_emb_szs\n",
    "from models import ISICNet\n",
    "from engine import predict"
   ]
  },
  {
   "cell_type": "code",
   "execution_count": 5,
   "id": "e9764efc",
   "metadata": {
    "execution": {
     "iopub.execute_input": "2024-08-23T23:26:10.317866Z",
     "iopub.status.busy": "2024-08-23T23:26:10.317595Z",
     "iopub.status.idle": "2024-08-23T23:26:10.321725Z",
     "shell.execute_reply": "2024-08-23T23:26:10.320842Z"
    },
    "papermill": {
     "duration": 0.011581,
     "end_time": "2024-08-23T23:26:10.323700",
     "exception": false,
     "start_time": "2024-08-23T23:26:10.312119",
     "status": "completed"
    },
    "tags": []
   },
   "outputs": [],
   "source": [
    "id_column = \"isic_id\"\n",
    "target_column = \"target\"\n",
    "group_column = \"patient_id\""
   ]
  },
  {
   "cell_type": "code",
   "execution_count": 6,
   "id": "00a7fb05",
   "metadata": {
    "execution": {
     "iopub.execute_input": "2024-08-23T23:26:10.333795Z",
     "iopub.status.busy": "2024-08-23T23:26:10.333524Z",
     "iopub.status.idle": "2024-08-23T23:26:20.426001Z",
     "shell.execute_reply": "2024-08-23T23:26:20.425065Z"
    },
    "papermill": {
     "duration": 10.100385,
     "end_time": "2024-08-23T23:26:20.428620",
     "exception": false,
     "start_time": "2024-08-23T23:26:10.328235",
     "status": "completed"
    },
    "tags": []
   },
   "outputs": [
    {
     "name": "stdout",
     "output_type": "stream",
     "text": [
      "Train data size: (401059, 56)\n",
      "Test data size: (3, 44)\n"
     ]
    }
   ],
   "source": [
    "INPUT_PATH = Path(\"../input/isic-2024-challenge/\")\n",
    "\n",
    "train_metadata = pd.read_csv(INPUT_PATH / \"train-metadata.csv\", low_memory=False)\n",
    "test_metadata = pd.read_csv(INPUT_PATH / \"test-metadata.csv\")\n",
    "\n",
    "folds_df = get_folds()\n",
    "train_metadata = train_metadata.merge(folds_df, on=[\"isic_id\", \"patient_id\"], how=\"inner\")\n",
    "print(f\"Train data size: {train_metadata.shape}\")\n",
    "print(f\"Test data size: {test_metadata.shape}\")\n",
    "\n",
    "train_images = h5py.File(INPUT_PATH / \"train-image.hdf5\", mode=\"r\")\n",
    "test_images = h5py.File(INPUT_PATH / \"test-image.hdf5\", mode=\"r\")"
   ]
  },
  {
   "cell_type": "code",
   "execution_count": 7,
   "id": "836407e5",
   "metadata": {
    "execution": {
     "iopub.execute_input": "2024-08-23T23:26:20.440229Z",
     "iopub.status.busy": "2024-08-23T23:26:20.439907Z",
     "iopub.status.idle": "2024-08-23T23:26:20.451043Z",
     "shell.execute_reply": "2024-08-23T23:26:20.450146Z"
    },
    "papermill": {
     "duration": 0.018936,
     "end_time": "2024-08-23T23:26:20.452924",
     "exception": false,
     "start_time": "2024-08-23T23:26:20.433988",
     "status": "completed"
    },
    "tags": []
   },
   "outputs": [],
   "source": [
    "def get_dnn_predictions(train_df, test_df, images, model_name, version, path):\n",
    "    start_time = time.time()\n",
    "    with open(path / f\"{model_name}_{version}_run_metadata.json\", \"r\") as f:\n",
    "        run_metadata = json.load(f)\n",
    "    pprint(run_metadata[\"params\"])\n",
    "    \n",
    "    image_size = run_metadata[\"params\"][\"image_size\"]\n",
    "    batch_size = run_metadata[\"params\"][\"val_batch_size\"]\n",
    "    use_meta = run_metadata[\"params\"][\"use_meta\"]\n",
    "    \n",
    "    test_dataset = ISICDataset(\n",
    "        test_df, images, augment=test_augment(image_size), \n",
    "        use_meta=use_meta,\n",
    "        cat_cols=cat_cols,\n",
    "        cont_cols=cont_cols,\n",
    "        infer=True\n",
    "    )\n",
    "    test_dataloader = DataLoader(\n",
    "        test_dataset,\n",
    "        batch_size=batch_size,\n",
    "        shuffle=False,\n",
    "        num_workers=4,\n",
    "        drop_last=False,\n",
    "        pin_memory=True,\n",
    "    )\n",
    "    \n",
    "    fold_column = \"fold\"\n",
    "    all_folds = np.unique(train_df[fold_column])\n",
    "#     all_folds = [1]\n",
    "    test_predictions_df = pd.DataFrame({id_column: test_df[id_column]})\n",
    "    for fold in all_folds:\n",
    "        print(f\"\\nFold {fold}\")\n",
    "        accelerator = Accelerator(\n",
    "            mixed_precision=run_metadata[\"params\"][\"mixed_precision\"],\n",
    "        )\n",
    "        \n",
    "        model = ISICNet(model_name=model_name, pretrained=False,\n",
    "                        use_meta=use_meta,\n",
    "                        cat_cols=cat_cols,\n",
    "                        cont_cols=cont_cols,\n",
    "                        emb_szs=emb_szs,)\n",
    "        model = model.to(accelerator.device)\n",
    "        \n",
    "        model, test_dataloader = accelerator.prepare(model, test_dataloader)\n",
    "        model_filepath = path / f\"models/fold_{fold}\"\n",
    "        accelerator.load_state(model_filepath)\n",
    "\n",
    "        test_predictions_df[f\"fold_{fold}\"] = predict(model, test_dataloader, accelerator, n_tta=run_metadata[\"params\"][\"n_tta\"], use_meta=use_meta)\n",
    "    test_predictions_df[target_column] = test_predictions_df[[f\"fold_{fold}\" for fold in all_folds]].mean(axis=1)\n",
    "    end_time = time.time()\n",
    "    return test_predictions_df[[id_column, target_column]], (end_time - start_time)"
   ]
  },
  {
   "cell_type": "code",
   "execution_count": 8,
   "id": "08125cf0",
   "metadata": {
    "execution": {
     "iopub.execute_input": "2024-08-23T23:26:20.463369Z",
     "iopub.status.busy": "2024-08-23T23:26:20.463101Z",
     "iopub.status.idle": "2024-08-23T23:26:22.335661Z",
     "shell.execute_reply": "2024-08-23T23:26:22.334888Z"
    },
    "papermill": {
     "duration": 1.880551,
     "end_time": "2024-08-23T23:26:22.338062",
     "exception": false,
     "start_time": "2024-08-23T23:26:20.457511",
     "status": "completed"
    },
    "tags": []
   },
   "outputs": [
    {
     "name": "stdout",
     "output_type": "stream",
     "text": [
      "Preprocessing metadata...\n",
      "Feature engineering...\n"
     ]
    }
   ],
   "source": [
    "print(f\"Preprocessing metadata...\")\n",
    "train_metadata = preprocess(train_metadata)\n",
    "test_metadata = preprocess(test_metadata)\n",
    "print(f\"Feature engineering...\")\n",
    "train_metadata, cat_cols, cont_cols = feature_engineering(train_metadata)\n",
    "test_metadata, _, _ = feature_engineering(test_metadata)\n",
    "emb_szs = get_emb_szs(cat_cols)"
   ]
  },
  {
   "cell_type": "code",
   "execution_count": 9,
   "id": "a8077cbb",
   "metadata": {
    "execution": {
     "iopub.execute_input": "2024-08-23T23:26:22.349078Z",
     "iopub.status.busy": "2024-08-23T23:26:22.348762Z",
     "iopub.status.idle": "2024-08-23T23:28:29.258165Z",
     "shell.execute_reply": "2024-08-23T23:28:29.256989Z"
    },
    "papermill": {
     "duration": 126.917749,
     "end_time": "2024-08-23T23:28:29.260803",
     "exception": false,
     "start_time": "2024-08-23T23:26:22.343054",
     "status": "completed"
    },
    "tags": []
   },
   "outputs": [
    {
     "name": "stdout",
     "output_type": "stream",
     "text": [
      "{'debug': False,\n",
      " 'down_sampling': True,\n",
      " 'image_size': 128,\n",
      " 'init_lr': 3e-05,\n",
      " 'mixed_precision': 'fp16',\n",
      " 'mode': 'pretrain',\n",
      " 'n_tta': 8,\n",
      " 'num_epochs': 20,\n",
      " 'num_workers': 8,\n",
      " 'seed': 2022,\n",
      " 'train_batch_size': 64,\n",
      " 'use_meta': True,\n",
      " 'val_batch_size': 512}\n",
      "\n",
      "Fold 1\n",
      "Step: 1/10\n",
      "Step: 10/10\n",
      "\n",
      "Fold 2\n",
      "Step: 1/10\n",
      "Step: 10/10\n",
      "\n",
      "Fold 3\n",
      "Step: 1/10\n",
      "Step: 10/10\n",
      "\n",
      "Fold 4\n",
      "Step: 1/10\n",
      "Step: 10/10\n",
      "\n",
      "Fold 5\n",
      "Step: 1/10\n",
      "Step: 10/10\n",
      "Expected total runtime during submission: 211 mins and 27.005257606506348 secs\n"
     ]
    }
   ],
   "source": [
    "if test_metadata.shape[0] == 3:\n",
    "    test_preds_df, total_runtime = get_dnn_predictions(\n",
    "        train_metadata, \n",
    "        train_metadata.sample(n=SAMPLE_SIZE, random_state=42), \n",
    "        train_images, \n",
    "        model_name, \n",
    "        version, \n",
    "        Path(path)\n",
    "    )\n",
    "else:\n",
    "    test_preds_df, total_runtime = get_dnn_predictions(\n",
    "        train_metadata, \n",
    "        test_metadata, \n",
    "        test_images, \n",
    "        model_name, \n",
    "        version, \n",
    "        Path(path)\n",
    "    )\n",
    "factor = EXPECTED_TEST_SIZE / SAMPLE_SIZE\n",
    "expected_total_runtime = total_runtime * factor\n",
    "total_runtime_minutes = int(expected_total_runtime // 60)\n",
    "total_runtime_seconds = expected_total_runtime % 60\n",
    "print(f\"Expected total runtime during submission: {total_runtime_minutes} mins and {total_runtime_seconds} secs\")"
   ]
  },
  {
   "cell_type": "code",
   "execution_count": 10,
   "id": "92af72ff",
   "metadata": {
    "execution": {
     "iopub.execute_input": "2024-08-23T23:28:29.275602Z",
     "iopub.status.busy": "2024-08-23T23:28:29.275258Z",
     "iopub.status.idle": "2024-08-23T23:28:29.291508Z",
     "shell.execute_reply": "2024-08-23T23:28:29.290602Z"
    },
    "papermill": {
     "duration": 0.026085,
     "end_time": "2024-08-23T23:28:29.293519",
     "exception": false,
     "start_time": "2024-08-23T23:28:29.267434",
     "status": "completed"
    },
    "tags": []
   },
   "outputs": [
    {
     "data": {
      "text/html": [
       "<div>\n",
       "<style scoped>\n",
       "    .dataframe tbody tr th:only-of-type {\n",
       "        vertical-align: middle;\n",
       "    }\n",
       "\n",
       "    .dataframe tbody tr th {\n",
       "        vertical-align: top;\n",
       "    }\n",
       "\n",
       "    .dataframe thead th {\n",
       "        text-align: right;\n",
       "    }\n",
       "</style>\n",
       "<table border=\"1\" class=\"dataframe\">\n",
       "  <thead>\n",
       "    <tr style=\"text-align: right;\">\n",
       "      <th></th>\n",
       "      <th>isic_id</th>\n",
       "      <th>target</th>\n",
       "    </tr>\n",
       "  </thead>\n",
       "  <tbody>\n",
       "    <tr>\n",
       "      <th>278442</th>\n",
       "      <td>ISIC_6973879</td>\n",
       "      <td>0.000010</td>\n",
       "    </tr>\n",
       "    <tr>\n",
       "      <th>215021</th>\n",
       "      <td>ISIC_5407194</td>\n",
       "      <td>0.000002</td>\n",
       "    </tr>\n",
       "    <tr>\n",
       "      <th>209685</th>\n",
       "      <td>ISIC_5273739</td>\n",
       "      <td>0.000524</td>\n",
       "    </tr>\n",
       "    <tr>\n",
       "      <th>29648</th>\n",
       "      <td>ISIC_0802250</td>\n",
       "      <td>0.000014</td>\n",
       "    </tr>\n",
       "    <tr>\n",
       "      <th>323386</th>\n",
       "      <td>ISIC_8084953</td>\n",
       "      <td>0.000411</td>\n",
       "    </tr>\n",
       "  </tbody>\n",
       "</table>\n",
       "</div>"
      ],
      "text/plain": [
       "             isic_id    target\n",
       "278442  ISIC_6973879  0.000010\n",
       "215021  ISIC_5407194  0.000002\n",
       "209685  ISIC_5273739  0.000524\n",
       "29648   ISIC_0802250  0.000014\n",
       "323386  ISIC_8084953  0.000411"
      ]
     },
     "execution_count": 10,
     "metadata": {},
     "output_type": "execute_result"
    }
   ],
   "source": [
    "test_preds_df.head()"
   ]
  },
  {
   "cell_type": "code",
   "execution_count": 11,
   "id": "6e0ddb58",
   "metadata": {
    "execution": {
     "iopub.execute_input": "2024-08-23T23:28:29.308799Z",
     "iopub.status.busy": "2024-08-23T23:28:29.308456Z",
     "iopub.status.idle": "2024-08-23T23:28:29.322971Z",
     "shell.execute_reply": "2024-08-23T23:28:29.322071Z"
    },
    "papermill": {
     "duration": 0.023775,
     "end_time": "2024-08-23T23:28:29.325007",
     "exception": false,
     "start_time": "2024-08-23T23:28:29.301232",
     "status": "completed"
    },
    "tags": []
   },
   "outputs": [
    {
     "data": {
      "text/plain": [
       "count    5.000000e+03\n",
       "mean     1.025193e-03\n",
       "std      1.966995e-02\n",
       "min      1.269576e-07\n",
       "25%      7.143135e-06\n",
       "50%      2.207978e-05\n",
       "75%      8.351964e-05\n",
       "max      8.791316e-01\n",
       "Name: target, dtype: float64"
      ]
     },
     "execution_count": 11,
     "metadata": {},
     "output_type": "execute_result"
    }
   ],
   "source": [
    "test_preds_df[target_column].describe()"
   ]
  },
  {
   "cell_type": "code",
   "execution_count": 12,
   "id": "b3848a4c",
   "metadata": {
    "execution": {
     "iopub.execute_input": "2024-08-23T23:28:29.339512Z",
     "iopub.status.busy": "2024-08-23T23:28:29.339218Z",
     "iopub.status.idle": "2024-08-23T23:28:29.349869Z",
     "shell.execute_reply": "2024-08-23T23:28:29.348958Z"
    },
    "papermill": {
     "duration": 0.020283,
     "end_time": "2024-08-23T23:28:29.351964",
     "exception": false,
     "start_time": "2024-08-23T23:28:29.331681",
     "status": "completed"
    },
    "tags": []
   },
   "outputs": [
    {
     "data": {
      "text/html": [
       "<div>\n",
       "<style scoped>\n",
       "    .dataframe tbody tr th:only-of-type {\n",
       "        vertical-align: middle;\n",
       "    }\n",
       "\n",
       "    .dataframe tbody tr th {\n",
       "        vertical-align: top;\n",
       "    }\n",
       "\n",
       "    .dataframe thead th {\n",
       "        text-align: right;\n",
       "    }\n",
       "</style>\n",
       "<table border=\"1\" class=\"dataframe\">\n",
       "  <thead>\n",
       "    <tr style=\"text-align: right;\">\n",
       "      <th></th>\n",
       "      <th>isic_id</th>\n",
       "      <th>target</th>\n",
       "    </tr>\n",
       "  </thead>\n",
       "  <tbody>\n",
       "    <tr>\n",
       "      <th>278442</th>\n",
       "      <td>ISIC_6973879</td>\n",
       "      <td>0.000010</td>\n",
       "    </tr>\n",
       "    <tr>\n",
       "      <th>215021</th>\n",
       "      <td>ISIC_5407194</td>\n",
       "      <td>0.000002</td>\n",
       "    </tr>\n",
       "    <tr>\n",
       "      <th>209685</th>\n",
       "      <td>ISIC_5273739</td>\n",
       "      <td>0.000524</td>\n",
       "    </tr>\n",
       "    <tr>\n",
       "      <th>29648</th>\n",
       "      <td>ISIC_0802250</td>\n",
       "      <td>0.000014</td>\n",
       "    </tr>\n",
       "    <tr>\n",
       "      <th>323386</th>\n",
       "      <td>ISIC_8084953</td>\n",
       "      <td>0.000411</td>\n",
       "    </tr>\n",
       "  </tbody>\n",
       "</table>\n",
       "</div>"
      ],
      "text/plain": [
       "             isic_id    target\n",
       "278442  ISIC_6973879  0.000010\n",
       "215021  ISIC_5407194  0.000002\n",
       "209685  ISIC_5273739  0.000524\n",
       "29648   ISIC_0802250  0.000014\n",
       "323386  ISIC_8084953  0.000411"
      ]
     },
     "execution_count": 12,
     "metadata": {},
     "output_type": "execute_result"
    }
   ],
   "source": [
    "test_preds_df[[id_column, target_column]].head()"
   ]
  },
  {
   "cell_type": "code",
   "execution_count": 13,
   "id": "55fe891b",
   "metadata": {
    "execution": {
     "iopub.execute_input": "2024-08-23T23:28:29.368323Z",
     "iopub.status.busy": "2024-08-23T23:28:29.367464Z",
     "iopub.status.idle": "2024-08-23T23:28:29.391147Z",
     "shell.execute_reply": "2024-08-23T23:28:29.390375Z"
    },
    "papermill": {
     "duration": 0.033929,
     "end_time": "2024-08-23T23:28:29.393371",
     "exception": false,
     "start_time": "2024-08-23T23:28:29.359442",
     "status": "completed"
    },
    "tags": []
   },
   "outputs": [],
   "source": [
    "test_preds_df[[id_column, target_column]].to_csv(\"submission.csv\", index=False)"
   ]
  },
  {
   "cell_type": "code",
   "execution_count": null,
   "id": "6c50f7f0",
   "metadata": {
    "papermill": {
     "duration": 0.006815,
     "end_time": "2024-08-23T23:28:29.407205",
     "exception": false,
     "start_time": "2024-08-23T23:28:29.400390",
     "status": "completed"
    },
    "tags": []
   },
   "outputs": [],
   "source": []
  }
 ],
 "metadata": {
  "kaggle": {
   "accelerator": "gpu",
   "dataSources": [
    {
     "databundleVersionId": 9094797,
     "sourceId": 63056,
     "sourceType": "competition"
    },
    {
     "datasetId": 5554293,
     "sourceId": 9220637,
     "sourceType": "datasetVersion"
    },
    {
     "datasetId": 5580934,
     "sourceId": 9227465,
     "sourceType": "datasetVersion"
    },
    {
     "sourceId": 187477024,
     "sourceType": "kernelVersion"
    },
    {
     "sourceId": 193130710,
     "sourceType": "kernelVersion"
    }
   ],
   "dockerImageVersionId": 30733,
   "isGpuEnabled": true,
   "isInternetEnabled": false,
   "language": "python",
   "sourceType": "notebook"
  },
  "kernelspec": {
   "display_name": "Python 3",
   "language": "python",
   "name": "python3"
  },
  "language_info": {
   "codemirror_mode": {
    "name": "ipython",
    "version": 3
   },
   "file_extension": ".py",
   "mimetype": "text/x-python",
   "name": "python",
   "nbconvert_exporter": "python",
   "pygments_lexer": "ipython3",
   "version": "3.10.13"
  },
  "papermill": {
   "default_parameters": {},
   "duration": 154.301287,
   "end_time": "2024-08-23T23:28:32.056734",
   "environment_variables": {},
   "exception": null,
   "input_path": "__notebook__.ipynb",
   "output_path": "__notebook__.ipynb",
   "parameters": {},
   "start_time": "2024-08-23T23:25:57.755447",
   "version": "2.5.0"
  }
 },
 "nbformat": 4,
 "nbformat_minor": 5
}
