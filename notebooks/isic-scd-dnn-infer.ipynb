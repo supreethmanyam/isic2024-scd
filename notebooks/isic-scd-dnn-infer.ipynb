{
 "cells": [
  {
   "cell_type": "code",
   "execution_count": 1,
   "id": "c6f29bb7",
   "metadata": {
    "_cell_guid": "b1076dfc-b9ad-4769-8c92-a6c4dae69d19",
    "_uuid": "8f2839f25d086af736a60e9eeb907d3b93b6e0e5",
    "execution": {
     "iopub.execute_input": "2024-08-17T01:51:08.820132Z",
     "iopub.status.busy": "2024-08-17T01:51:08.819287Z",
     "iopub.status.idle": "2024-08-17T01:51:15.994188Z",
     "shell.execute_reply": "2024-08-17T01:51:15.993367Z"
    },
    "papermill": {
     "duration": 7.183629,
     "end_time": "2024-08-17T01:51:15.996588",
     "exception": false,
     "start_time": "2024-08-17T01:51:08.812959",
     "status": "completed"
    },
    "tags": []
   },
   "outputs": [],
   "source": [
    "import time\n",
    "import json\n",
    "from pathlib import Path\n",
    "from pprint import pprint\n",
    "\n",
    "import h5py\n",
    "import numpy as np\n",
    "import pandas as pd\n",
    "\n",
    "from torch.utils.data import DataLoader\n",
    "from accelerate import Accelerator\n",
    "\n",
    "from isic_helper import get_folds"
   ]
  },
  {
   "cell_type": "code",
   "execution_count": 2,
   "id": "efb4b650",
   "metadata": {
    "execution": {
     "iopub.execute_input": "2024-08-17T01:51:16.008298Z",
     "iopub.status.busy": "2024-08-17T01:51:16.007802Z",
     "iopub.status.idle": "2024-08-17T01:51:16.012505Z",
     "shell.execute_reply": "2024-08-17T01:51:16.011682Z"
    },
    "papermill": {
     "duration": 0.012915,
     "end_time": "2024-08-17T01:51:16.014477",
     "exception": false,
     "start_time": "2024-08-17T01:51:16.001562",
     "status": "completed"
    },
    "tags": []
   },
   "outputs": [],
   "source": [
    "model_name = \"efficientnet_b1\"\n",
    "version = \"v1\"\n",
    "mode = \"pretrain\"\n",
    "path = f\"/kaggle/input/isic-scd-{model_name.replace('_', '-')}-{version}-{mode}\"\n",
    "\n",
    "SAMPLE_SIZE = 5000\n",
    "EXPECTED_TEST_SIZE = 500000"
   ]
  },
  {
   "cell_type": "code",
   "execution_count": 3,
   "id": "3381f470",
   "metadata": {
    "execution": {
     "iopub.execute_input": "2024-08-17T01:51:16.024229Z",
     "iopub.status.busy": "2024-08-17T01:51:16.023954Z",
     "iopub.status.idle": "2024-08-17T01:51:16.027772Z",
     "shell.execute_reply": "2024-08-17T01:51:16.026949Z"
    },
    "papermill": {
     "duration": 0.010767,
     "end_time": "2024-08-17T01:51:16.029578",
     "exception": false,
     "start_time": "2024-08-17T01:51:16.018811",
     "status": "completed"
    },
    "tags": []
   },
   "outputs": [],
   "source": [
    "import sys\n",
    "sys.path.append(path)"
   ]
  },
  {
   "cell_type": "code",
   "execution_count": 4,
   "id": "a61cb3cf",
   "metadata": {
    "execution": {
     "iopub.execute_input": "2024-08-17T01:51:16.039402Z",
     "iopub.status.busy": "2024-08-17T01:51:16.039159Z",
     "iopub.status.idle": "2024-08-17T01:51:17.896356Z",
     "shell.execute_reply": "2024-08-17T01:51:17.895570Z"
    },
    "papermill": {
     "duration": 1.864365,
     "end_time": "2024-08-17T01:51:17.898534",
     "exception": false,
     "start_time": "2024-08-17T01:51:16.034169",
     "status": "completed"
    },
    "tags": []
   },
   "outputs": [],
   "source": [
    "from dataset import test_augment, ISICDataset\n",
    "from models import ISICNet\n",
    "from engine import predict"
   ]
  },
  {
   "cell_type": "code",
   "execution_count": 5,
   "id": "bf63b2b0",
   "metadata": {
    "execution": {
     "iopub.execute_input": "2024-08-17T01:51:17.908667Z",
     "iopub.status.busy": "2024-08-17T01:51:17.908356Z",
     "iopub.status.idle": "2024-08-17T01:51:17.912227Z",
     "shell.execute_reply": "2024-08-17T01:51:17.911396Z"
    },
    "papermill": {
     "duration": 0.011031,
     "end_time": "2024-08-17T01:51:17.914192",
     "exception": false,
     "start_time": "2024-08-17T01:51:17.903161",
     "status": "completed"
    },
    "tags": []
   },
   "outputs": [],
   "source": [
    "id_column = \"isic_id\"\n",
    "target_column = \"target\"\n",
    "group_column = \"patient_id\""
   ]
  },
  {
   "cell_type": "code",
   "execution_count": 6,
   "id": "83cfe38f",
   "metadata": {
    "execution": {
     "iopub.execute_input": "2024-08-17T01:51:17.923932Z",
     "iopub.status.busy": "2024-08-17T01:51:17.923691Z",
     "iopub.status.idle": "2024-08-17T01:51:27.669571Z",
     "shell.execute_reply": "2024-08-17T01:51:27.668641Z"
    },
    "papermill": {
     "duration": 9.753206,
     "end_time": "2024-08-17T01:51:27.671713",
     "exception": false,
     "start_time": "2024-08-17T01:51:17.918507",
     "status": "completed"
    },
    "tags": []
   },
   "outputs": [
    {
     "name": "stdout",
     "output_type": "stream",
     "text": [
      "Train data size: (401059, 58)\n",
      "Test data size: (3, 44)\n"
     ]
    }
   ],
   "source": [
    "INPUT_PATH = Path(\"../input/isic-2024-challenge/\")\n",
    "\n",
    "train_metadata = pd.read_csv(INPUT_PATH / \"train-metadata.csv\", low_memory=False)\n",
    "test_metadata = pd.read_csv(INPUT_PATH / \"test-metadata.csv\")\n",
    "\n",
    "folds_df = get_folds()\n",
    "train_metadata = train_metadata.merge(folds_df, on=[\"isic_id\", \"patient_id\"], how=\"inner\")\n",
    "print(f\"Train data size: {train_metadata.shape}\")\n",
    "print(f\"Test data size: {test_metadata.shape}\")\n",
    "\n",
    "train_images = h5py.File(INPUT_PATH / \"train-image.hdf5\", mode=\"r\")\n",
    "test_images = h5py.File(INPUT_PATH / \"test-image.hdf5\", mode=\"r\")"
   ]
  },
  {
   "cell_type": "code",
   "execution_count": 7,
   "id": "39acfb8d",
   "metadata": {
    "execution": {
     "iopub.execute_input": "2024-08-17T01:51:27.682315Z",
     "iopub.status.busy": "2024-08-17T01:51:27.682039Z",
     "iopub.status.idle": "2024-08-17T01:51:27.693444Z",
     "shell.execute_reply": "2024-08-17T01:51:27.692592Z"
    },
    "papermill": {
     "duration": 0.019145,
     "end_time": "2024-08-17T01:51:27.695476",
     "exception": false,
     "start_time": "2024-08-17T01:51:27.676331",
     "status": "completed"
    },
    "tags": []
   },
   "outputs": [],
   "source": [
    "def get_dnn_predictions(train, test, test_images, model_name, version, path):\n",
    "    start_time = time.time()\n",
    "    test_df = test[[id_column]].copy()\n",
    "    with open(path / f\"{model_name}_{version}_run_metadata.json\", \"r\") as f:\n",
    "        run_metadata = json.load(f)\n",
    "    pprint(run_metadata[\"params\"])\n",
    "    \n",
    "    image_size = run_metadata[\"params\"][\"image_size\"]\n",
    "    batch_size = run_metadata[\"params\"][\"val_batch_size\"]\n",
    "    fold_method = run_metadata[\"params\"][\"fold_method\"]\n",
    "    \n",
    "    test_dataset = ISICDataset(\n",
    "        test_df, test_images, augment=test_augment(image_size), infer=True\n",
    "    )\n",
    "    test_dataloader = DataLoader(\n",
    "        test_dataset,\n",
    "        batch_size=batch_size,\n",
    "        shuffle=False,\n",
    "        num_workers=4,\n",
    "        drop_last=False,\n",
    "        pin_memory=True,\n",
    "    )\n",
    "    \n",
    "    if fold_method == \"gkf\":\n",
    "        print(\"Using GroupKFold\")\n",
    "        fold_column = \"gkf_fold\"\n",
    "    elif fold_method == \"sgkf\":\n",
    "        print(\"Using StratifiedGroupKFold\")\n",
    "        fold_column = \"sgkf_fold\"\n",
    "    else:\n",
    "        raise ValueError(f\"Fold method {fold_method} not supported\")\n",
    "    \n",
    "#     all_folds = np.unique(train[fold_column])\n",
    "    all_folds = [1]\n",
    "    test_predictions_df = pd.DataFrame({id_column: test[id_column]})\n",
    "    for fold in all_folds:\n",
    "        if fold < 0:\n",
    "            continue\n",
    "        print(f\"\\nFold {fold}\")\n",
    "        accelerator = Accelerator(\n",
    "            mixed_precision=run_metadata[\"params\"][\"mixed_precision\"],\n",
    "        )\n",
    "        \n",
    "        model = ISICNet(model_name=model_name, pretrained=False)\n",
    "        model = model.to(accelerator.device)\n",
    "        \n",
    "        model, test_dataloader = accelerator.prepare(model, test_dataloader)\n",
    "        model_filepath = path / f\"models/fold_{fold}\"\n",
    "        accelerator.load_state(model_filepath)\n",
    "\n",
    "        test_predictions_df[f\"fold_{fold}\"] = predict(model, test_dataloader, accelerator, n_tta=run_metadata[\"params\"][\"n_tta\"])\n",
    "    test_predictions_df[target_column] = test_predictions_df[[f\"fold_{fold}\" for fold in all_folds if fold > 0]].mean(axis=1)\n",
    "    end_time = time.time()\n",
    "    return test_predictions_df[[id_column, target_column]], (end_time - start_time)"
   ]
  },
  {
   "cell_type": "code",
   "execution_count": 8,
   "id": "f0c3add3",
   "metadata": {
    "execution": {
     "iopub.execute_input": "2024-08-17T01:51:27.705507Z",
     "iopub.status.busy": "2024-08-17T01:51:27.705236Z",
     "iopub.status.idle": "2024-08-17T01:51:39.159811Z",
     "shell.execute_reply": "2024-08-17T01:51:39.158683Z"
    },
    "papermill": {
     "duration": 11.4623,
     "end_time": "2024-08-17T01:51:39.162197",
     "exception": false,
     "start_time": "2024-08-17T01:51:27.699897",
     "status": "completed"
    },
    "tags": []
   },
   "outputs": [
    {
     "name": "stdout",
     "output_type": "stream",
     "text": [
      "{'debug': False,\n",
      " 'down_sampling': True,\n",
      " 'fold_method': 'gkf',\n",
      " 'image_size': 64,\n",
      " 'init_lr': 3e-05,\n",
      " 'mixed_precision': 'fp16',\n",
      " 'mode': 'pretrain',\n",
      " 'n_tta': 8,\n",
      " 'num_epochs': 20,\n",
      " 'num_workers': 8,\n",
      " 'seed': 2022,\n",
      " 'train_batch_size': 64,\n",
      " 'use_meta': True,\n",
      " 'val_batch_size': 512}\n",
      "Using GroupKFold\n",
      "\n",
      "Fold 1\n",
      "Step: 1/10\n",
      "Step: 10/10\n"
     ]
    }
   ],
   "source": [
    "if test_metadata.shape[0] == 3:\n",
    "    test_preds_df, total_runtime = get_dnn_predictions(train_metadata, \n",
    "                                                 train_metadata.sample(n=SAMPLE_SIZE, random_state=42), \n",
    "                                                 train_images, \n",
    "                                                 model_name, \n",
    "                                                 version, \n",
    "                                                 Path(path))\n",
    "else:\n",
    "    test_preds_df, total_runtime = get_dnn_predictions(train_metadata, \n",
    "                                                 test_metadata, \n",
    "                                                 test_images, \n",
    "                                                 model_name, \n",
    "                                                 version, \n",
    "                                                 Path(path))"
   ]
  },
  {
   "cell_type": "code",
   "execution_count": 9,
   "id": "59c80030",
   "metadata": {
    "execution": {
     "iopub.execute_input": "2024-08-17T01:51:39.173999Z",
     "iopub.status.busy": "2024-08-17T01:51:39.173383Z",
     "iopub.status.idle": "2024-08-17T01:51:39.179417Z",
     "shell.execute_reply": "2024-08-17T01:51:39.178507Z"
    },
    "papermill": {
     "duration": 0.014037,
     "end_time": "2024-08-17T01:51:39.181376",
     "exception": false,
     "start_time": "2024-08-17T01:51:39.167339",
     "status": "completed"
    },
    "tags": []
   },
   "outputs": [
    {
     "name": "stdout",
     "output_type": "stream",
     "text": [
      "Expected total runtime during submission: 19 mins and 1.7663335800170898 secs\n"
     ]
    }
   ],
   "source": [
    "factor = EXPECTED_TEST_SIZE / SAMPLE_SIZE\n",
    "expected_total_runtime = total_runtime * factor\n",
    "total_runtime_minutes = int(expected_total_runtime // 60)\n",
    "total_runtime_seconds = expected_total_runtime % 60\n",
    "print(f\"Expected total runtime during submission: {total_runtime_minutes} mins and {total_runtime_seconds} secs\")"
   ]
  },
  {
   "cell_type": "code",
   "execution_count": 10,
   "id": "5520ab0f",
   "metadata": {
    "execution": {
     "iopub.execute_input": "2024-08-17T01:51:39.192666Z",
     "iopub.status.busy": "2024-08-17T01:51:39.192198Z",
     "iopub.status.idle": "2024-08-17T01:51:39.206313Z",
     "shell.execute_reply": "2024-08-17T01:51:39.205440Z"
    },
    "papermill": {
     "duration": 0.021914,
     "end_time": "2024-08-17T01:51:39.208181",
     "exception": false,
     "start_time": "2024-08-17T01:51:39.186267",
     "status": "completed"
    },
    "tags": []
   },
   "outputs": [
    {
     "data": {
      "text/html": [
       "<div>\n",
       "<style scoped>\n",
       "    .dataframe tbody tr th:only-of-type {\n",
       "        vertical-align: middle;\n",
       "    }\n",
       "\n",
       "    .dataframe tbody tr th {\n",
       "        vertical-align: top;\n",
       "    }\n",
       "\n",
       "    .dataframe thead th {\n",
       "        text-align: right;\n",
       "    }\n",
       "</style>\n",
       "<table border=\"1\" class=\"dataframe\">\n",
       "  <thead>\n",
       "    <tr style=\"text-align: right;\">\n",
       "      <th></th>\n",
       "      <th>isic_id</th>\n",
       "      <th>target</th>\n",
       "    </tr>\n",
       "  </thead>\n",
       "  <tbody>\n",
       "    <tr>\n",
       "      <th>278442</th>\n",
       "      <td>ISIC_6973879</td>\n",
       "      <td>0.000225</td>\n",
       "    </tr>\n",
       "    <tr>\n",
       "      <th>215021</th>\n",
       "      <td>ISIC_5407194</td>\n",
       "      <td>0.000088</td>\n",
       "    </tr>\n",
       "    <tr>\n",
       "      <th>209685</th>\n",
       "      <td>ISIC_5273739</td>\n",
       "      <td>0.029957</td>\n",
       "    </tr>\n",
       "    <tr>\n",
       "      <th>29648</th>\n",
       "      <td>ISIC_0802250</td>\n",
       "      <td>0.001630</td>\n",
       "    </tr>\n",
       "    <tr>\n",
       "      <th>323386</th>\n",
       "      <td>ISIC_8084953</td>\n",
       "      <td>0.006833</td>\n",
       "    </tr>\n",
       "  </tbody>\n",
       "</table>\n",
       "</div>"
      ],
      "text/plain": [
       "             isic_id    target\n",
       "278442  ISIC_6973879  0.000225\n",
       "215021  ISIC_5407194  0.000088\n",
       "209685  ISIC_5273739  0.029957\n",
       "29648   ISIC_0802250  0.001630\n",
       "323386  ISIC_8084953  0.006833"
      ]
     },
     "execution_count": 10,
     "metadata": {},
     "output_type": "execute_result"
    }
   ],
   "source": [
    "test_preds_df.head()"
   ]
  },
  {
   "cell_type": "code",
   "execution_count": 11,
   "id": "1784d4af",
   "metadata": {
    "execution": {
     "iopub.execute_input": "2024-08-17T01:51:39.219683Z",
     "iopub.status.busy": "2024-08-17T01:51:39.219100Z",
     "iopub.status.idle": "2024-08-17T01:51:39.231601Z",
     "shell.execute_reply": "2024-08-17T01:51:39.230820Z"
    },
    "papermill": {
     "duration": 0.020263,
     "end_time": "2024-08-17T01:51:39.233465",
     "exception": false,
     "start_time": "2024-08-17T01:51:39.213202",
     "status": "completed"
    },
    "tags": []
   },
   "outputs": [
    {
     "data": {
      "text/plain": [
       "count    5.000000e+03\n",
       "mean     1.297805e-02\n",
       "std      4.268205e-02\n",
       "min      1.381367e-07\n",
       "25%      6.386729e-04\n",
       "50%      1.730871e-03\n",
       "75%      6.295931e-03\n",
       "max      6.797065e-01\n",
       "Name: target, dtype: float64"
      ]
     },
     "execution_count": 11,
     "metadata": {},
     "output_type": "execute_result"
    }
   ],
   "source": [
    "test_preds_df[target_column].describe()"
   ]
  },
  {
   "cell_type": "code",
   "execution_count": 12,
   "id": "5949254c",
   "metadata": {
    "execution": {
     "iopub.execute_input": "2024-08-17T01:51:39.245377Z",
     "iopub.status.busy": "2024-08-17T01:51:39.245097Z",
     "iopub.status.idle": "2024-08-17T01:51:39.254733Z",
     "shell.execute_reply": "2024-08-17T01:51:39.253782Z"
    },
    "papermill": {
     "duration": 0.017789,
     "end_time": "2024-08-17T01:51:39.256621",
     "exception": false,
     "start_time": "2024-08-17T01:51:39.238832",
     "status": "completed"
    },
    "tags": []
   },
   "outputs": [
    {
     "data": {
      "text/html": [
       "<div>\n",
       "<style scoped>\n",
       "    .dataframe tbody tr th:only-of-type {\n",
       "        vertical-align: middle;\n",
       "    }\n",
       "\n",
       "    .dataframe tbody tr th {\n",
       "        vertical-align: top;\n",
       "    }\n",
       "\n",
       "    .dataframe thead th {\n",
       "        text-align: right;\n",
       "    }\n",
       "</style>\n",
       "<table border=\"1\" class=\"dataframe\">\n",
       "  <thead>\n",
       "    <tr style=\"text-align: right;\">\n",
       "      <th></th>\n",
       "      <th>isic_id</th>\n",
       "      <th>target</th>\n",
       "    </tr>\n",
       "  </thead>\n",
       "  <tbody>\n",
       "    <tr>\n",
       "      <th>278442</th>\n",
       "      <td>ISIC_6973879</td>\n",
       "      <td>0.000225</td>\n",
       "    </tr>\n",
       "    <tr>\n",
       "      <th>215021</th>\n",
       "      <td>ISIC_5407194</td>\n",
       "      <td>0.000088</td>\n",
       "    </tr>\n",
       "    <tr>\n",
       "      <th>209685</th>\n",
       "      <td>ISIC_5273739</td>\n",
       "      <td>0.029957</td>\n",
       "    </tr>\n",
       "    <tr>\n",
       "      <th>29648</th>\n",
       "      <td>ISIC_0802250</td>\n",
       "      <td>0.001630</td>\n",
       "    </tr>\n",
       "    <tr>\n",
       "      <th>323386</th>\n",
       "      <td>ISIC_8084953</td>\n",
       "      <td>0.006833</td>\n",
       "    </tr>\n",
       "  </tbody>\n",
       "</table>\n",
       "</div>"
      ],
      "text/plain": [
       "             isic_id    target\n",
       "278442  ISIC_6973879  0.000225\n",
       "215021  ISIC_5407194  0.000088\n",
       "209685  ISIC_5273739  0.029957\n",
       "29648   ISIC_0802250  0.001630\n",
       "323386  ISIC_8084953  0.006833"
      ]
     },
     "execution_count": 12,
     "metadata": {},
     "output_type": "execute_result"
    }
   ],
   "source": [
    "test_preds_df[[id_column, target_column]].head()"
   ]
  },
  {
   "cell_type": "code",
   "execution_count": 13,
   "id": "219a4e85",
   "metadata": {
    "execution": {
     "iopub.execute_input": "2024-08-17T01:51:39.268201Z",
     "iopub.status.busy": "2024-08-17T01:51:39.267964Z",
     "iopub.status.idle": "2024-08-17T01:51:39.288376Z",
     "shell.execute_reply": "2024-08-17T01:51:39.287531Z"
    },
    "papermill": {
     "duration": 0.028468,
     "end_time": "2024-08-17T01:51:39.290377",
     "exception": false,
     "start_time": "2024-08-17T01:51:39.261909",
     "status": "completed"
    },
    "tags": []
   },
   "outputs": [],
   "source": [
    "test_preds_df[[id_column, target_column]].to_csv(\"submission.csv\", index=False)"
   ]
  },
  {
   "cell_type": "code",
   "execution_count": null,
   "id": "f4e4f2d5",
   "metadata": {
    "papermill": {
     "duration": 0.006152,
     "end_time": "2024-08-17T01:51:39.301850",
     "exception": false,
     "start_time": "2024-08-17T01:51:39.295698",
     "status": "completed"
    },
    "tags": []
   },
   "outputs": [],
   "source": []
  }
 ],
 "metadata": {
  "kaggle": {
   "accelerator": "gpu",
   "dataSources": [
    {
     "databundleVersionId": 9094797,
     "sourceId": 63056,
     "sourceType": "competition"
    },
    {
     "datasetId": 5543937,
     "sourceId": 9188718,
     "sourceType": "datasetVersion"
    },
    {
     "sourceId": 187477024,
     "sourceType": "kernelVersion"
    },
    {
     "sourceId": 192814855,
     "sourceType": "kernelVersion"
    }
   ],
   "dockerImageVersionId": 30733,
   "isGpuEnabled": true,
   "isInternetEnabled": false,
   "language": "python",
   "sourceType": "notebook"
  },
  "kernelspec": {
   "display_name": "Python 3",
   "language": "python",
   "name": "python3"
  },
  "language_info": {
   "codemirror_mode": {
    "name": "ipython",
    "version": 3
   },
   "file_extension": ".py",
   "mimetype": "text/x-python",
   "name": "python",
   "nbconvert_exporter": "python",
   "pygments_lexer": "ipython3",
   "version": "3.10.13"
  },
  "papermill": {
   "default_parameters": {},
   "duration": 35.115992,
   "end_time": "2024-08-17T01:51:41.231520",
   "environment_variables": {},
   "exception": null,
   "input_path": "__notebook__.ipynb",
   "output_path": "__notebook__.ipynb",
   "parameters": {},
   "start_time": "2024-08-17T01:51:06.115528",
   "version": "2.5.0"
  }
 },
 "nbformat": 4,
 "nbformat_minor": 5
}
