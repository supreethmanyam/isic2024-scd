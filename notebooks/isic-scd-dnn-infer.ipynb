{
 "cells": [
  {
   "cell_type": "code",
   "execution_count": 1,
   "id": "26242943",
   "metadata": {
    "_cell_guid": "b1076dfc-b9ad-4769-8c92-a6c4dae69d19",
    "_uuid": "8f2839f25d086af736a60e9eeb907d3b93b6e0e5",
    "execution": {
     "iopub.execute_input": "2024-08-07T06:02:16.092163Z",
     "iopub.status.busy": "2024-08-07T06:02:16.091232Z",
     "iopub.status.idle": "2024-08-07T06:02:26.316616Z",
     "shell.execute_reply": "2024-08-07T06:02:26.315495Z"
    },
    "papermill": {
     "duration": 10.234934,
     "end_time": "2024-08-07T06:02:26.319150",
     "exception": false,
     "start_time": "2024-08-07T06:02:16.084216",
     "status": "completed"
    },
    "tags": []
   },
   "outputs": [],
   "source": [
    "import json\n",
    "from pathlib import Path\n",
    "from pprint import pprint\n",
    "from io import BytesIO\n",
    "\n",
    "import h5py\n",
    "from PIL import Image\n",
    "import numpy as np\n",
    "import pandas as pd\n",
    "\n",
    "import torch\n",
    "from torch.utils.data import DataLoader, Dataset\n",
    "import torch.nn as nn\n",
    "import torch.nn.functional as F\n",
    "import albumentations as A\n",
    "from albumentations.pytorch import ToTensorV2\n",
    "from timm import create_model\n",
    "from accelerate import Accelerator\n",
    "\n",
    "from isic_helper import get_folds"
   ]
  },
  {
   "cell_type": "code",
   "execution_count": 2,
   "id": "d45479ef",
   "metadata": {
    "execution": {
     "iopub.execute_input": "2024-08-07T06:02:26.330612Z",
     "iopub.status.busy": "2024-08-07T06:02:26.329889Z",
     "iopub.status.idle": "2024-08-07T06:02:26.334973Z",
     "shell.execute_reply": "2024-08-07T06:02:26.334044Z"
    },
    "papermill": {
     "duration": 0.013003,
     "end_time": "2024-08-07T06:02:26.337150",
     "exception": false,
     "start_time": "2024-08-07T06:02:26.324147",
     "status": "completed"
    },
    "tags": []
   },
   "outputs": [],
   "source": [
    "model_name = \"efficientnet_b4\"\n",
    "version = \"v1\"\n",
    "path = f\"/kaggle/input/isic-scd-{model_name.replace('_', '-')}-{version}-train\""
   ]
  },
  {
   "cell_type": "code",
   "execution_count": 3,
   "id": "bae8eab4",
   "metadata": {
    "execution": {
     "iopub.execute_input": "2024-08-07T06:02:26.347055Z",
     "iopub.status.busy": "2024-08-07T06:02:26.346761Z",
     "iopub.status.idle": "2024-08-07T06:02:26.351128Z",
     "shell.execute_reply": "2024-08-07T06:02:26.350141Z"
    },
    "papermill": {
     "duration": 0.011837,
     "end_time": "2024-08-07T06:02:26.353401",
     "exception": false,
     "start_time": "2024-08-07T06:02:26.341564",
     "status": "completed"
    },
    "tags": []
   },
   "outputs": [],
   "source": [
    "id_column = \"isic_id\"\n",
    "target_column = \"target\"\n",
    "group_column = \"patient_id\""
   ]
  },
  {
   "cell_type": "code",
   "execution_count": 4,
   "id": "55704130",
   "metadata": {
    "execution": {
     "iopub.execute_input": "2024-08-07T06:02:26.363885Z",
     "iopub.status.busy": "2024-08-07T06:02:26.363588Z",
     "iopub.status.idle": "2024-08-07T06:02:26.386020Z",
     "shell.execute_reply": "2024-08-07T06:02:26.385043Z"
    },
    "papermill": {
     "duration": 0.030574,
     "end_time": "2024-08-07T06:02:26.388452",
     "exception": false,
     "start_time": "2024-08-07T06:02:26.357878",
     "status": "completed"
    },
    "tags": []
   },
   "outputs": [],
   "source": [
    "def test_augment(image_size):\n",
    "    transform = A.Compose(\n",
    "        [A.Resize(image_size, image_size), A.Normalize(), ToTensorV2()], p=1.0\n",
    "    )\n",
    "    return transform\n",
    "\n",
    "\n",
    "class ISICDataset(Dataset):\n",
    "    def __init__(self, metadata, images, augment, infer=False):\n",
    "        self.metadata = metadata\n",
    "        self.images = images\n",
    "        self.augment = augment\n",
    "        self.length = len(self.metadata)\n",
    "        self.infer = infer\n",
    "\n",
    "    def __len__(self):\n",
    "        return self.length\n",
    "\n",
    "    def __getitem__(self, index):\n",
    "        row = self.metadata.iloc[index]\n",
    "        image = np.array(Image.open(BytesIO(self.images[row[\"isic_id\"]][()])))\n",
    "        if self.augment is not None:\n",
    "            image = self.augment(image=image)[\"image\"].float()\n",
    "        if self.infer:\n",
    "            return image\n",
    "        else:\n",
    "            target = torch.tensor(row[\"target\"]).float()\n",
    "            return image, target\n",
    "\n",
    "\n",
    "\n",
    "class ISICNet(nn.Module):\n",
    "    def __init__(\n",
    "        self,\n",
    "        model_name,\n",
    "        pretrained=True,\n",
    "    ):\n",
    "        super(ISICNet, self).__init__()\n",
    "        self.model = create_model(\n",
    "            model_name=model_name,\n",
    "            pretrained=pretrained,\n",
    "            in_chans=3,\n",
    "            num_classes=0,\n",
    "            global_pool=\"\",\n",
    "        )\n",
    "        in_dim = self.model.num_features\n",
    "        self.classifier = nn.Linear(in_dim, 1)\n",
    "        self.dropouts = nn.ModuleList([nn.Dropout(0.5) for _ in range(5)])\n",
    "\n",
    "    def forward(self, images):\n",
    "        x = self.model(images)\n",
    "        bs = len(images)\n",
    "        pool = F.adaptive_avg_pool2d(x, 1).reshape(bs, -1)\n",
    "        if self.training:\n",
    "            logits = 0\n",
    "            for i in range(len(self.dropouts)):\n",
    "                logits += self.classifier(self.dropouts[i](pool))\n",
    "            logits = logits / len(self.dropouts)\n",
    "        else:\n",
    "            logits = self.classifier(pool)\n",
    "        return logits\n",
    "\n",
    "\n",
    "def get_trans(img, iteration):\n",
    "    if iteration >= 6:\n",
    "        img = img.transpose(2, 3)\n",
    "    if iteration % 6 == 0:\n",
    "        return img\n",
    "    elif iteration % 6 == 1:\n",
    "        return torch.flip(img, dims=[2])\n",
    "    elif iteration % 6 == 2:\n",
    "        return torch.flip(img, dims=[3])\n",
    "    elif iteration % 6 == 3:\n",
    "        return torch.rot90(img, 1, dims=[2, 3])\n",
    "    elif iteration % 6 == 4:\n",
    "        return torch.rot90(img, 2, dims=[2, 3])\n",
    "    elif iteration % 6 == 5:\n",
    "        return torch.rot90(img, 3, dims=[2, 3])\n",
    "\n",
    "\n",
    "def predict(model, test_dataloader, accelerator, n_tta, log_interval=10):\n",
    "    model.eval()\n",
    "    test_probs = []\n",
    "    total_steps = len(test_dataloader)\n",
    "    with torch.no_grad():\n",
    "        for step, images in enumerate(test_dataloader):\n",
    "            logits = 0\n",
    "            probs = 0\n",
    "            for i in range(n_tta):\n",
    "                logits_iter = model(get_trans(images, i))\n",
    "                logits += logits_iter\n",
    "                probs += torch.sigmoid(logits_iter)\n",
    "            logits /= n_tta\n",
    "            probs /= n_tta\n",
    "\n",
    "            probs = accelerator.gather(probs)\n",
    "            test_probs.append(probs)\n",
    "\n",
    "            if (step == 0) or ((step + 1) % log_interval == 0):\n",
    "                print(\n",
    "                    f\"Step: {step + 1}/{total_steps}\"\n",
    "                )\n",
    "\n",
    "    test_probs = torch.cat(test_probs).cpu().numpy()\n",
    "    return test_probs"
   ]
  },
  {
   "cell_type": "code",
   "execution_count": 5,
   "id": "d0e3b4e1",
   "metadata": {
    "execution": {
     "iopub.execute_input": "2024-08-07T06:02:26.399149Z",
     "iopub.status.busy": "2024-08-07T06:02:26.398861Z",
     "iopub.status.idle": "2024-08-07T06:02:37.304736Z",
     "shell.execute_reply": "2024-08-07T06:02:37.303575Z"
    },
    "papermill": {
     "duration": 10.913882,
     "end_time": "2024-08-07T06:02:37.307220",
     "exception": false,
     "start_time": "2024-08-07T06:02:26.393338",
     "status": "completed"
    },
    "tags": []
   },
   "outputs": [
    {
     "name": "stdout",
     "output_type": "stream",
     "text": [
      "Train data size: (401059, 57)\n",
      "Test data size: (3, 44)\n"
     ]
    }
   ],
   "source": [
    "INPUT_PATH = Path(\"../input/isic-2024-challenge/\")\n",
    "\n",
    "train_metadata = pd.read_csv(INPUT_PATH / \"train-metadata.csv\", low_memory=False)\n",
    "test_metadata = pd.read_csv(INPUT_PATH / \"test-metadata.csv\")\n",
    "\n",
    "folds_df = get_folds()\n",
    "train_metadata = train_metadata.merge(folds_df, on=[\"isic_id\", \"patient_id\"], how=\"inner\")\n",
    "print(f\"Train data size: {train_metadata.shape}\")\n",
    "print(f\"Test data size: {test_metadata.shape}\")\n",
    "\n",
    "test_images = h5py.File(INPUT_PATH / \"test-image.hdf5\", mode=\"r\")"
   ]
  },
  {
   "cell_type": "code",
   "execution_count": 6,
   "id": "6bc9d14e",
   "metadata": {
    "execution": {
     "iopub.execute_input": "2024-08-07T06:02:37.318389Z",
     "iopub.status.busy": "2024-08-07T06:02:37.318037Z",
     "iopub.status.idle": "2024-08-07T06:02:37.328301Z",
     "shell.execute_reply": "2024-08-07T06:02:37.327319Z"
    },
    "papermill": {
     "duration": 0.018196,
     "end_time": "2024-08-07T06:02:37.330371",
     "exception": false,
     "start_time": "2024-08-07T06:02:37.312175",
     "status": "completed"
    },
    "tags": []
   },
   "outputs": [],
   "source": [
    "def get_dnn_predictions(train, test, test_images, model_name, version, path):\n",
    "    with open(path / f\"{model_name}_{version}_run_metadata.json\", \"r\") as f:\n",
    "        run_metadata = json.load(f)\n",
    "    pprint(run_metadata[\"params\"])\n",
    "    \n",
    "    test_dataset = ISICDataset(\n",
    "        test, test_images, augment=test_augment(run_metadata[\"params\"][\"image_size\"]), infer=True\n",
    "    )\n",
    "    test_dataloader = DataLoader(\n",
    "        test_dataset,\n",
    "        batch_size=512,\n",
    "        shuffle=False,\n",
    "        num_workers=4,\n",
    "        drop_last=False,\n",
    "        pin_memory=True,\n",
    "    )\n",
    "    \n",
    "#     all_folds = np.unique(train[\"fold\"])\n",
    "    all_folds = [1]\n",
    "    test_predictions_df = pd.DataFrame({id_column: test_metadata[id_column]})\n",
    "    for fold in all_folds:\n",
    "        accelerator = Accelerator(\n",
    "            mixed_precision=run_metadata[\"params\"][\"mixed_precision\"],\n",
    "        )\n",
    "        \n",
    "        model = ISICNet(model_name=model_name, pretrained=False)\n",
    "        model = model.to(accelerator.device)\n",
    "        \n",
    "        model, test_dataloader = accelerator.prepare(model, test_dataloader)\n",
    "        model_filepath = path / f\"models/fold_{fold}\"\n",
    "        accelerator.load_state(model_filepath)\n",
    "\n",
    "        test_predictions_df[f\"fold_{fold}\"] = predict(model, test_dataloader, accelerator, n_tta=run_metadata[\"params\"][\"n_tta\"])\n",
    "    test_predictions_df[target_column] = test_predictions_df[[f\"fold_{fold}\" for fold in all_folds]].mean(axis=1)\n",
    "    return test_predictions_df[[id_column, target_column]]"
   ]
  },
  {
   "cell_type": "code",
   "execution_count": 7,
   "id": "fc8b5ff8",
   "metadata": {
    "execution": {
     "iopub.execute_input": "2024-08-07T06:02:37.342055Z",
     "iopub.status.busy": "2024-08-07T06:02:37.341329Z",
     "iopub.status.idle": "2024-08-07T06:02:40.710624Z",
     "shell.execute_reply": "2024-08-07T06:02:40.709113Z"
    },
    "papermill": {
     "duration": 3.377932,
     "end_time": "2024-08-07T06:02:40.713113",
     "exception": false,
     "start_time": "2024-08-07T06:02:37.335181",
     "status": "completed"
    },
    "tags": []
   },
   "outputs": [
    {
     "name": "stdout",
     "output_type": "stream",
     "text": [
      "{'debug': True,\n",
      " 'ext': '2020,2019',\n",
      " 'image_size': 64,\n",
      " 'init_lr': 3e-05,\n",
      " 'mixed_precision': 'fp16',\n",
      " 'n_tta': 8,\n",
      " 'num_epochs': 20,\n",
      " 'num_workers': 8,\n",
      " 'only_malignant': True,\n",
      " 'seed': 2022,\n",
      " 'train_batch_size': 64,\n",
      " 'val_batch_size': 512}\n",
      "Step: 1/1\n"
     ]
    }
   ],
   "source": [
    "test_preds_df = get_dnn_predictions(train_metadata, test_metadata, test_images, model_name, version, Path(path))"
   ]
  },
  {
   "cell_type": "code",
   "execution_count": 8,
   "id": "a450f4fa",
   "metadata": {
    "execution": {
     "iopub.execute_input": "2024-08-07T06:02:40.724663Z",
     "iopub.status.busy": "2024-08-07T06:02:40.724290Z",
     "iopub.status.idle": "2024-08-07T06:02:40.740304Z",
     "shell.execute_reply": "2024-08-07T06:02:40.739369Z"
    },
    "papermill": {
     "duration": 0.024419,
     "end_time": "2024-08-07T06:02:40.742543",
     "exception": false,
     "start_time": "2024-08-07T06:02:40.718124",
     "status": "completed"
    },
    "tags": []
   },
   "outputs": [
    {
     "data": {
      "text/html": [
       "<div>\n",
       "<style scoped>\n",
       "    .dataframe tbody tr th:only-of-type {\n",
       "        vertical-align: middle;\n",
       "    }\n",
       "\n",
       "    .dataframe tbody tr th {\n",
       "        vertical-align: top;\n",
       "    }\n",
       "\n",
       "    .dataframe thead th {\n",
       "        text-align: right;\n",
       "    }\n",
       "</style>\n",
       "<table border=\"1\" class=\"dataframe\">\n",
       "  <thead>\n",
       "    <tr style=\"text-align: right;\">\n",
       "      <th></th>\n",
       "      <th>isic_id</th>\n",
       "      <th>target</th>\n",
       "    </tr>\n",
       "  </thead>\n",
       "  <tbody>\n",
       "    <tr>\n",
       "      <th>0</th>\n",
       "      <td>ISIC_0015657</td>\n",
       "      <td>0.509826</td>\n",
       "    </tr>\n",
       "    <tr>\n",
       "      <th>1</th>\n",
       "      <td>ISIC_0015729</td>\n",
       "      <td>0.470818</td>\n",
       "    </tr>\n",
       "    <tr>\n",
       "      <th>2</th>\n",
       "      <td>ISIC_0015740</td>\n",
       "      <td>0.563106</td>\n",
       "    </tr>\n",
       "  </tbody>\n",
       "</table>\n",
       "</div>"
      ],
      "text/plain": [
       "        isic_id    target\n",
       "0  ISIC_0015657  0.509826\n",
       "1  ISIC_0015729  0.470818\n",
       "2  ISIC_0015740  0.563106"
      ]
     },
     "execution_count": 8,
     "metadata": {},
     "output_type": "execute_result"
    }
   ],
   "source": [
    "test_preds_df.head()"
   ]
  },
  {
   "cell_type": "code",
   "execution_count": 9,
   "id": "683b0c7d",
   "metadata": {
    "execution": {
     "iopub.execute_input": "2024-08-07T06:02:40.755400Z",
     "iopub.status.busy": "2024-08-07T06:02:40.755004Z",
     "iopub.status.idle": "2024-08-07T06:02:40.769152Z",
     "shell.execute_reply": "2024-08-07T06:02:40.768178Z"
    },
    "papermill": {
     "duration": 0.022575,
     "end_time": "2024-08-07T06:02:40.771419",
     "exception": false,
     "start_time": "2024-08-07T06:02:40.748844",
     "status": "completed"
    },
    "tags": []
   },
   "outputs": [
    {
     "data": {
      "text/plain": [
       "count    3.000000\n",
       "mean     0.514583\n",
       "std      0.046328\n",
       "min      0.470818\n",
       "25%      0.490322\n",
       "50%      0.509826\n",
       "75%      0.536466\n",
       "max      0.563106\n",
       "Name: target, dtype: float64"
      ]
     },
     "execution_count": 9,
     "metadata": {},
     "output_type": "execute_result"
    }
   ],
   "source": [
    "test_preds_df[target_column].describe()"
   ]
  },
  {
   "cell_type": "code",
   "execution_count": 10,
   "id": "cad2da9c",
   "metadata": {
    "execution": {
     "iopub.execute_input": "2024-08-07T06:02:40.783373Z",
     "iopub.status.busy": "2024-08-07T06:02:40.782954Z",
     "iopub.status.idle": "2024-08-07T06:02:40.794876Z",
     "shell.execute_reply": "2024-08-07T06:02:40.793765Z"
    },
    "papermill": {
     "duration": 0.020407,
     "end_time": "2024-08-07T06:02:40.797066",
     "exception": false,
     "start_time": "2024-08-07T06:02:40.776659",
     "status": "completed"
    },
    "tags": []
   },
   "outputs": [
    {
     "data": {
      "text/html": [
       "<div>\n",
       "<style scoped>\n",
       "    .dataframe tbody tr th:only-of-type {\n",
       "        vertical-align: middle;\n",
       "    }\n",
       "\n",
       "    .dataframe tbody tr th {\n",
       "        vertical-align: top;\n",
       "    }\n",
       "\n",
       "    .dataframe thead th {\n",
       "        text-align: right;\n",
       "    }\n",
       "</style>\n",
       "<table border=\"1\" class=\"dataframe\">\n",
       "  <thead>\n",
       "    <tr style=\"text-align: right;\">\n",
       "      <th></th>\n",
       "      <th>isic_id</th>\n",
       "      <th>target</th>\n",
       "    </tr>\n",
       "  </thead>\n",
       "  <tbody>\n",
       "    <tr>\n",
       "      <th>0</th>\n",
       "      <td>ISIC_0015657</td>\n",
       "      <td>0.509826</td>\n",
       "    </tr>\n",
       "    <tr>\n",
       "      <th>1</th>\n",
       "      <td>ISIC_0015729</td>\n",
       "      <td>0.470818</td>\n",
       "    </tr>\n",
       "    <tr>\n",
       "      <th>2</th>\n",
       "      <td>ISIC_0015740</td>\n",
       "      <td>0.563106</td>\n",
       "    </tr>\n",
       "  </tbody>\n",
       "</table>\n",
       "</div>"
      ],
      "text/plain": [
       "        isic_id    target\n",
       "0  ISIC_0015657  0.509826\n",
       "1  ISIC_0015729  0.470818\n",
       "2  ISIC_0015740  0.563106"
      ]
     },
     "execution_count": 10,
     "metadata": {},
     "output_type": "execute_result"
    }
   ],
   "source": [
    "test_preds_df[[id_column, target_column]].head()"
   ]
  },
  {
   "cell_type": "code",
   "execution_count": 11,
   "id": "6a97a1c3",
   "metadata": {
    "execution": {
     "iopub.execute_input": "2024-08-07T06:02:40.809625Z",
     "iopub.status.busy": "2024-08-07T06:02:40.809230Z",
     "iopub.status.idle": "2024-08-07T06:02:40.817869Z",
     "shell.execute_reply": "2024-08-07T06:02:40.817054Z"
    },
    "papermill": {
     "duration": 0.017461,
     "end_time": "2024-08-07T06:02:40.820143",
     "exception": false,
     "start_time": "2024-08-07T06:02:40.802682",
     "status": "completed"
    },
    "tags": []
   },
   "outputs": [],
   "source": [
    "test_preds_df[[id_column, target_column]].to_csv(\"submission.csv\", index=False)"
   ]
  },
  {
   "cell_type": "code",
   "execution_count": null,
   "id": "a848d7d4",
   "metadata": {
    "papermill": {
     "duration": 0.005281,
     "end_time": "2024-08-07T06:02:40.830998",
     "exception": false,
     "start_time": "2024-08-07T06:02:40.825717",
     "status": "completed"
    },
    "tags": []
   },
   "outputs": [],
   "source": []
  }
 ],
 "metadata": {
  "kaggle": {
   "accelerator": "gpu",
   "dataSources": [
    {
     "databundleVersionId": 9094797,
     "sourceId": 63056,
     "sourceType": "competition"
    },
    {
     "datasetId": 5506770,
     "sourceId": 9122178,
     "sourceType": "datasetVersion"
    },
    {
     "sourceId": 187477024,
     "sourceType": "kernelVersion"
    },
    {
     "sourceId": 189656082,
     "sourceType": "kernelVersion"
    }
   ],
   "dockerImageVersionId": 30733,
   "isGpuEnabled": true,
   "isInternetEnabled": false,
   "language": "python",
   "sourceType": "notebook"
  },
  "kernelspec": {
   "display_name": "Python 3",
   "language": "python",
   "name": "python3"
  },
  "language_info": {
   "codemirror_mode": {
    "name": "ipython",
    "version": 3
   },
   "file_extension": ".py",
   "mimetype": "text/x-python",
   "name": "python",
   "nbconvert_exporter": "python",
   "pygments_lexer": "ipython3",
   "version": "3.10.13"
  },
  "papermill": {
   "default_parameters": {},
   "duration": 30.323194,
   "end_time": "2024-08-07T06:02:43.307652",
   "environment_variables": {},
   "exception": null,
   "input_path": "__notebook__.ipynb",
   "output_path": "__notebook__.ipynb",
   "parameters": {},
   "start_time": "2024-08-07T06:02:12.984458",
   "version": "2.5.0"
  }
 },
 "nbformat": 4,
 "nbformat_minor": 5
}
