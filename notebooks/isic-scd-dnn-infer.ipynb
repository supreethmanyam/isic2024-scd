{
 "cells": [
  {
   "cell_type": "code",
   "execution_count": 1,
   "id": "e26e5515",
   "metadata": {
    "_cell_guid": "b1076dfc-b9ad-4769-8c92-a6c4dae69d19",
    "_uuid": "8f2839f25d086af736a60e9eeb907d3b93b6e0e5",
    "execution": {
     "iopub.execute_input": "2024-08-20T04:37:55.422725Z",
     "iopub.status.busy": "2024-08-20T04:37:55.421954Z",
     "iopub.status.idle": "2024-08-20T04:38:03.855609Z",
     "shell.execute_reply": "2024-08-20T04:38:03.854681Z"
    },
    "papermill": {
     "duration": 8.444629,
     "end_time": "2024-08-20T04:38:03.858327",
     "exception": false,
     "start_time": "2024-08-20T04:37:55.413698",
     "status": "completed"
    },
    "tags": []
   },
   "outputs": [],
   "source": [
    "import time\n",
    "import json\n",
    "from pathlib import Path\n",
    "from pprint import pprint\n",
    "\n",
    "import h5py\n",
    "import numpy as np\n",
    "import pandas as pd\n",
    "\n",
    "from torch.utils.data import DataLoader\n",
    "from accelerate import Accelerator\n",
    "\n",
    "from isic_helper import get_folds"
   ]
  },
  {
   "cell_type": "code",
   "execution_count": 2,
   "id": "84885b18",
   "metadata": {
    "execution": {
     "iopub.execute_input": "2024-08-20T04:38:03.872266Z",
     "iopub.status.busy": "2024-08-20T04:38:03.871648Z",
     "iopub.status.idle": "2024-08-20T04:38:03.877069Z",
     "shell.execute_reply": "2024-08-20T04:38:03.876052Z"
    },
    "papermill": {
     "duration": 0.014606,
     "end_time": "2024-08-20T04:38:03.879288",
     "exception": false,
     "start_time": "2024-08-20T04:38:03.864682",
     "status": "completed"
    },
    "tags": []
   },
   "outputs": [],
   "source": [
    "model_name = \"efficientnet_b2\"\n",
    "version = \"v1\"\n",
    "mode = \"pretrain\"\n",
    "path = f\"/kaggle/input/isic-scd-{model_name.replace('_', '-')}-{version}-{mode}\"\n",
    "\n",
    "SAMPLE_SIZE = 5000\n",
    "EXPECTED_TEST_SIZE = 500000"
   ]
  },
  {
   "cell_type": "code",
   "execution_count": 3,
   "id": "86357f56",
   "metadata": {
    "execution": {
     "iopub.execute_input": "2024-08-20T04:38:03.892273Z",
     "iopub.status.busy": "2024-08-20T04:38:03.891928Z",
     "iopub.status.idle": "2024-08-20T04:38:03.896705Z",
     "shell.execute_reply": "2024-08-20T04:38:03.895677Z"
    },
    "papermill": {
     "duration": 0.013957,
     "end_time": "2024-08-20T04:38:03.899044",
     "exception": false,
     "start_time": "2024-08-20T04:38:03.885087",
     "status": "completed"
    },
    "tags": []
   },
   "outputs": [],
   "source": [
    "import sys\n",
    "sys.path.append(path)"
   ]
  },
  {
   "cell_type": "code",
   "execution_count": 4,
   "id": "04722729",
   "metadata": {
    "execution": {
     "iopub.execute_input": "2024-08-20T04:38:03.912054Z",
     "iopub.status.busy": "2024-08-20T04:38:03.911697Z",
     "iopub.status.idle": "2024-08-20T04:38:06.236273Z",
     "shell.execute_reply": "2024-08-20T04:38:06.235100Z"
    },
    "papermill": {
     "duration": 2.334047,
     "end_time": "2024-08-20T04:38:06.238987",
     "exception": false,
     "start_time": "2024-08-20T04:38:03.904940",
     "status": "completed"
    },
    "tags": []
   },
   "outputs": [],
   "source": [
    "from dataset import test_augment, ISICDataset, preprocess, feature_engineering, get_emb_szs\n",
    "from models import ISICNet\n",
    "from engine import predict"
   ]
  },
  {
   "cell_type": "code",
   "execution_count": 5,
   "id": "77eba8df",
   "metadata": {
    "execution": {
     "iopub.execute_input": "2024-08-20T04:38:06.253490Z",
     "iopub.status.busy": "2024-08-20T04:38:06.252558Z",
     "iopub.status.idle": "2024-08-20T04:38:06.257533Z",
     "shell.execute_reply": "2024-08-20T04:38:06.256516Z"
    },
    "papermill": {
     "duration": 0.014524,
     "end_time": "2024-08-20T04:38:06.259820",
     "exception": false,
     "start_time": "2024-08-20T04:38:06.245296",
     "status": "completed"
    },
    "tags": []
   },
   "outputs": [],
   "source": [
    "id_column = \"isic_id\"\n",
    "target_column = \"target\"\n",
    "group_column = \"patient_id\""
   ]
  },
  {
   "cell_type": "code",
   "execution_count": 6,
   "id": "83192299",
   "metadata": {
    "execution": {
     "iopub.execute_input": "2024-08-20T04:38:06.273637Z",
     "iopub.status.busy": "2024-08-20T04:38:06.272882Z",
     "iopub.status.idle": "2024-08-20T04:38:17.117029Z",
     "shell.execute_reply": "2024-08-20T04:38:17.115777Z"
    },
    "papermill": {
     "duration": 10.854025,
     "end_time": "2024-08-20T04:38:17.119693",
     "exception": false,
     "start_time": "2024-08-20T04:38:06.265668",
     "status": "completed"
    },
    "tags": []
   },
   "outputs": [
    {
     "name": "stdout",
     "output_type": "stream",
     "text": [
      "Train data size: (401059, 56)\n",
      "Test data size: (3, 44)\n"
     ]
    }
   ],
   "source": [
    "INPUT_PATH = Path(\"../input/isic-2024-challenge/\")\n",
    "\n",
    "train_metadata = pd.read_csv(INPUT_PATH / \"train-metadata.csv\", low_memory=False)\n",
    "test_metadata = pd.read_csv(INPUT_PATH / \"test-metadata.csv\")\n",
    "\n",
    "folds_df = get_folds()\n",
    "train_metadata = train_metadata.merge(folds_df, on=[\"isic_id\", \"patient_id\"], how=\"inner\")\n",
    "print(f\"Train data size: {train_metadata.shape}\")\n",
    "print(f\"Test data size: {test_metadata.shape}\")\n",
    "\n",
    "train_images = h5py.File(INPUT_PATH / \"train-image.hdf5\", mode=\"r\")\n",
    "test_images = h5py.File(INPUT_PATH / \"test-image.hdf5\", mode=\"r\")"
   ]
  },
  {
   "cell_type": "code",
   "execution_count": 7,
   "id": "da6719ec",
   "metadata": {
    "execution": {
     "iopub.execute_input": "2024-08-20T04:38:17.134070Z",
     "iopub.status.busy": "2024-08-20T04:38:17.133094Z",
     "iopub.status.idle": "2024-08-20T04:38:17.146944Z",
     "shell.execute_reply": "2024-08-20T04:38:17.145820Z"
    },
    "papermill": {
     "duration": 0.023282,
     "end_time": "2024-08-20T04:38:17.149250",
     "exception": false,
     "start_time": "2024-08-20T04:38:17.125968",
     "status": "completed"
    },
    "tags": []
   },
   "outputs": [],
   "source": [
    "def get_dnn_predictions(train, test, test_images, model_name, version, path):\n",
    "    start_time = time.time()\n",
    "    with open(path / f\"{model_name}_{version}_run_metadata.json\", \"r\") as f:\n",
    "        run_metadata = json.load(f)\n",
    "    pprint(run_metadata[\"params\"])\n",
    "    \n",
    "    image_size = run_metadata[\"params\"][\"image_size\"]\n",
    "    batch_size = run_metadata[\"params\"][\"val_batch_size\"]\n",
    "    use_meta = run_metadata[\"params\"][\"use_meta\"]\n",
    "    \n",
    "    test_dataset = ISICDataset(\n",
    "        test_df, test_images, augment=test_augment(image_size), \n",
    "        use_meta=use_meta,\n",
    "        cat_cols=cat_cols,\n",
    "        cont_cols=cont_cols,\n",
    "        infer=True\n",
    "    )\n",
    "    test_dataloader = DataLoader(\n",
    "        test_dataset,\n",
    "        batch_size=batch_size,\n",
    "        shuffle=False,\n",
    "        num_workers=4,\n",
    "        drop_last=False,\n",
    "        pin_memory=True,\n",
    "    )\n",
    "    \n",
    "    fold_column = \"fold\"\n",
    "    all_folds = np.unique(train[fold_column])\n",
    "#     all_folds = [1]\n",
    "    test_predictions_df = pd.DataFrame({id_column: test[id_column]})\n",
    "    for fold in all_folds:\n",
    "        print(f\"\\nFold {fold}\")\n",
    "        accelerator = Accelerator(\n",
    "            mixed_precision=run_metadata[\"params\"][\"mixed_precision\"],\n",
    "        )\n",
    "        \n",
    "        model = ISICNet(model_name=model_name, pretrained=False,\n",
    "                        use_meta=use_meta,\n",
    "                        cat_cols=cat_cols,\n",
    "                        cont_cols=cont_cols,\n",
    "                        emb_szs=emb_szs,)\n",
    "        model = model.to(accelerator.device)\n",
    "        \n",
    "        model, test_dataloader = accelerator.prepare(model, test_dataloader)\n",
    "        model_filepath = path / f\"models/fold_{fold}\"\n",
    "        accelerator.load_state(model_filepath)\n",
    "\n",
    "        test_predictions_df[f\"fold_{fold}\"] = predict(model, test_dataloader, accelerator, n_tta=run_metadata[\"params\"][\"n_tta\"], use_meta=use_meta)\n",
    "    test_predictions_df[target_column] = test_predictions_df[[f\"fold_{fold}\" for fold in all_folds]].mean(axis=1)\n",
    "    end_time = time.time()\n",
    "    return test_predictions_df[[id_column, target_column]], (end_time - start_time)"
   ]
  },
  {
   "cell_type": "code",
   "execution_count": 8,
   "id": "83d49d27",
   "metadata": {
    "execution": {
     "iopub.execute_input": "2024-08-20T04:38:17.163045Z",
     "iopub.status.busy": "2024-08-20T04:38:17.162633Z",
     "iopub.status.idle": "2024-08-20T04:38:17.197968Z",
     "shell.execute_reply": "2024-08-20T04:38:17.196864Z"
    },
    "papermill": {
     "duration": 0.04515,
     "end_time": "2024-08-20T04:38:17.200538",
     "exception": false,
     "start_time": "2024-08-20T04:38:17.155388",
     "status": "completed"
    },
    "tags": []
   },
   "outputs": [
    {
     "name": "stdout",
     "output_type": "stream",
     "text": [
      "Preprocessing metadata...\n",
      "Feature engineering...\n"
     ]
    }
   ],
   "source": [
    "print(f\"Preprocessing metadata...\")\n",
    "test_metadata = preprocess(test_metadata)\n",
    "print(f\"Feature engineering...\")\n",
    "test_metadata, cat_cols, cont_cols = feature_engineering(test_metadata)\n",
    "emb_szs = get_emb_szs(cat_cols)"
   ]
  },
  {
   "cell_type": "code",
   "execution_count": 9,
   "id": "e03695b9",
   "metadata": {
    "execution": {
     "iopub.execute_input": "2024-08-20T04:38:17.214812Z",
     "iopub.status.busy": "2024-08-20T04:38:17.213925Z",
     "iopub.status.idle": "2024-08-20T04:38:17.219480Z",
     "shell.execute_reply": "2024-08-20T04:38:17.218454Z"
    },
    "papermill": {
     "duration": 0.014847,
     "end_time": "2024-08-20T04:38:17.221558",
     "exception": false,
     "start_time": "2024-08-20T04:38:17.206711",
     "status": "completed"
    },
    "tags": []
   },
   "outputs": [],
   "source": [
    "test_preds_df = pd.DataFrame({id_column: test_metadata[id_column], target_column: 0.01})"
   ]
  },
  {
   "cell_type": "code",
   "execution_count": 10,
   "id": "75f8e58b",
   "metadata": {
    "execution": {
     "iopub.execute_input": "2024-08-20T04:38:17.234662Z",
     "iopub.status.busy": "2024-08-20T04:38:17.234091Z",
     "iopub.status.idle": "2024-08-20T04:38:17.238619Z",
     "shell.execute_reply": "2024-08-20T04:38:17.237652Z"
    },
    "papermill": {
     "duration": 0.013214,
     "end_time": "2024-08-20T04:38:17.240784",
     "exception": false,
     "start_time": "2024-08-20T04:38:17.227570",
     "status": "completed"
    },
    "tags": []
   },
   "outputs": [],
   "source": [
    "# test_preds_df, total_runtime = get_dnn_predictions(train_metadata, \n",
    "#                                                    test_metadata, \n",
    "#                                                    test_images, \n",
    "#                                                    model_name, \n",
    "#                                                    version, \n",
    "#                                                    Path(path))"
   ]
  },
  {
   "cell_type": "code",
   "execution_count": 11,
   "id": "7fc93b34",
   "metadata": {
    "execution": {
     "iopub.execute_input": "2024-08-20T04:38:17.254831Z",
     "iopub.status.busy": "2024-08-20T04:38:17.254002Z",
     "iopub.status.idle": "2024-08-20T04:38:17.258575Z",
     "shell.execute_reply": "2024-08-20T04:38:17.257593Z"
    },
    "papermill": {
     "duration": 0.014266,
     "end_time": "2024-08-20T04:38:17.260931",
     "exception": false,
     "start_time": "2024-08-20T04:38:17.246665",
     "status": "completed"
    },
    "tags": []
   },
   "outputs": [],
   "source": [
    "# factor = EXPECTED_TEST_SIZE / SAMPLE_SIZE\n",
    "# expected_total_runtime = total_runtime * factor\n",
    "# total_runtime_minutes = int(expected_total_runtime // 60)\n",
    "# total_runtime_seconds = expected_total_runtime % 60\n",
    "# print(f\"Expected total runtime during submission: {total_runtime_minutes} mins and {total_runtime_seconds} secs\")"
   ]
  },
  {
   "cell_type": "code",
   "execution_count": 12,
   "id": "2ff09a12",
   "metadata": {
    "execution": {
     "iopub.execute_input": "2024-08-20T04:38:17.274936Z",
     "iopub.status.busy": "2024-08-20T04:38:17.274221Z",
     "iopub.status.idle": "2024-08-20T04:38:17.290711Z",
     "shell.execute_reply": "2024-08-20T04:38:17.289567Z"
    },
    "papermill": {
     "duration": 0.026507,
     "end_time": "2024-08-20T04:38:17.293408",
     "exception": false,
     "start_time": "2024-08-20T04:38:17.266901",
     "status": "completed"
    },
    "tags": []
   },
   "outputs": [
    {
     "data": {
      "text/html": [
       "<div>\n",
       "<style scoped>\n",
       "    .dataframe tbody tr th:only-of-type {\n",
       "        vertical-align: middle;\n",
       "    }\n",
       "\n",
       "    .dataframe tbody tr th {\n",
       "        vertical-align: top;\n",
       "    }\n",
       "\n",
       "    .dataframe thead th {\n",
       "        text-align: right;\n",
       "    }\n",
       "</style>\n",
       "<table border=\"1\" class=\"dataframe\">\n",
       "  <thead>\n",
       "    <tr style=\"text-align: right;\">\n",
       "      <th></th>\n",
       "      <th>isic_id</th>\n",
       "      <th>target</th>\n",
       "    </tr>\n",
       "  </thead>\n",
       "  <tbody>\n",
       "    <tr>\n",
       "      <th>0</th>\n",
       "      <td>ISIC_0015657</td>\n",
       "      <td>0.01</td>\n",
       "    </tr>\n",
       "    <tr>\n",
       "      <th>1</th>\n",
       "      <td>ISIC_0015729</td>\n",
       "      <td>0.01</td>\n",
       "    </tr>\n",
       "    <tr>\n",
       "      <th>2</th>\n",
       "      <td>ISIC_0015740</td>\n",
       "      <td>0.01</td>\n",
       "    </tr>\n",
       "  </tbody>\n",
       "</table>\n",
       "</div>"
      ],
      "text/plain": [
       "        isic_id  target\n",
       "0  ISIC_0015657    0.01\n",
       "1  ISIC_0015729    0.01\n",
       "2  ISIC_0015740    0.01"
      ]
     },
     "execution_count": 12,
     "metadata": {},
     "output_type": "execute_result"
    }
   ],
   "source": [
    "test_preds_df.head()"
   ]
  },
  {
   "cell_type": "code",
   "execution_count": 13,
   "id": "d44e6588",
   "metadata": {
    "execution": {
     "iopub.execute_input": "2024-08-20T04:38:17.309354Z",
     "iopub.status.busy": "2024-08-20T04:38:17.308689Z",
     "iopub.status.idle": "2024-08-20T04:38:17.322294Z",
     "shell.execute_reply": "2024-08-20T04:38:17.321265Z"
    },
    "papermill": {
     "duration": 0.023613,
     "end_time": "2024-08-20T04:38:17.324776",
     "exception": false,
     "start_time": "2024-08-20T04:38:17.301163",
     "status": "completed"
    },
    "tags": []
   },
   "outputs": [
    {
     "data": {
      "text/plain": [
       "count    3.00\n",
       "mean     0.01\n",
       "std      0.00\n",
       "min      0.01\n",
       "25%      0.01\n",
       "50%      0.01\n",
       "75%      0.01\n",
       "max      0.01\n",
       "Name: target, dtype: float64"
      ]
     },
     "execution_count": 13,
     "metadata": {},
     "output_type": "execute_result"
    }
   ],
   "source": [
    "test_preds_df[target_column].describe()"
   ]
  },
  {
   "cell_type": "code",
   "execution_count": 14,
   "id": "80a67bb4",
   "metadata": {
    "execution": {
     "iopub.execute_input": "2024-08-20T04:38:17.340318Z",
     "iopub.status.busy": "2024-08-20T04:38:17.339952Z",
     "iopub.status.idle": "2024-08-20T04:38:17.351652Z",
     "shell.execute_reply": "2024-08-20T04:38:17.350619Z"
    },
    "papermill": {
     "duration": 0.022336,
     "end_time": "2024-08-20T04:38:17.354103",
     "exception": false,
     "start_time": "2024-08-20T04:38:17.331767",
     "status": "completed"
    },
    "tags": []
   },
   "outputs": [
    {
     "data": {
      "text/html": [
       "<div>\n",
       "<style scoped>\n",
       "    .dataframe tbody tr th:only-of-type {\n",
       "        vertical-align: middle;\n",
       "    }\n",
       "\n",
       "    .dataframe tbody tr th {\n",
       "        vertical-align: top;\n",
       "    }\n",
       "\n",
       "    .dataframe thead th {\n",
       "        text-align: right;\n",
       "    }\n",
       "</style>\n",
       "<table border=\"1\" class=\"dataframe\">\n",
       "  <thead>\n",
       "    <tr style=\"text-align: right;\">\n",
       "      <th></th>\n",
       "      <th>isic_id</th>\n",
       "      <th>target</th>\n",
       "    </tr>\n",
       "  </thead>\n",
       "  <tbody>\n",
       "    <tr>\n",
       "      <th>0</th>\n",
       "      <td>ISIC_0015657</td>\n",
       "      <td>0.01</td>\n",
       "    </tr>\n",
       "    <tr>\n",
       "      <th>1</th>\n",
       "      <td>ISIC_0015729</td>\n",
       "      <td>0.01</td>\n",
       "    </tr>\n",
       "    <tr>\n",
       "      <th>2</th>\n",
       "      <td>ISIC_0015740</td>\n",
       "      <td>0.01</td>\n",
       "    </tr>\n",
       "  </tbody>\n",
       "</table>\n",
       "</div>"
      ],
      "text/plain": [
       "        isic_id  target\n",
       "0  ISIC_0015657    0.01\n",
       "1  ISIC_0015729    0.01\n",
       "2  ISIC_0015740    0.01"
      ]
     },
     "execution_count": 14,
     "metadata": {},
     "output_type": "execute_result"
    }
   ],
   "source": [
    "test_preds_df[[id_column, target_column]].head()"
   ]
  },
  {
   "cell_type": "code",
   "execution_count": 15,
   "id": "70605ad4",
   "metadata": {
    "execution": {
     "iopub.execute_input": "2024-08-20T04:38:17.369366Z",
     "iopub.status.busy": "2024-08-20T04:38:17.368660Z",
     "iopub.status.idle": "2024-08-20T04:38:17.377602Z",
     "shell.execute_reply": "2024-08-20T04:38:17.376693Z"
    },
    "papermill": {
     "duration": 0.019279,
     "end_time": "2024-08-20T04:38:17.379776",
     "exception": false,
     "start_time": "2024-08-20T04:38:17.360497",
     "status": "completed"
    },
    "tags": []
   },
   "outputs": [],
   "source": [
    "test_preds_df[[id_column, target_column]].to_csv(\"submission.csv\", index=False)"
   ]
  },
  {
   "cell_type": "code",
   "execution_count": null,
   "id": "a4d7989d",
   "metadata": {
    "papermill": {
     "duration": 0.006158,
     "end_time": "2024-08-20T04:38:17.392555",
     "exception": false,
     "start_time": "2024-08-20T04:38:17.386397",
     "status": "completed"
    },
    "tags": []
   },
   "outputs": [],
   "source": []
  }
 ],
 "metadata": {
  "kaggle": {
   "accelerator": "gpu",
   "dataSources": [
    {
     "databundleVersionId": 9094797,
     "sourceId": 63056,
     "sourceType": "competition"
    },
    {
     "datasetId": 5554293,
     "sourceId": 9206970,
     "sourceType": "datasetVersion"
    },
    {
     "sourceId": 187477024,
     "sourceType": "kernelVersion"
    },
    {
     "sourceId": 193130710,
     "sourceType": "kernelVersion"
    }
   ],
   "dockerImageVersionId": 30733,
   "isGpuEnabled": true,
   "isInternetEnabled": false,
   "language": "python",
   "sourceType": "notebook"
  },
  "kernelspec": {
   "display_name": "Python 3",
   "language": "python",
   "name": "python3"
  },
  "language_info": {
   "codemirror_mode": {
    "name": "ipython",
    "version": 3
   },
   "file_extension": ".py",
   "mimetype": "text/x-python",
   "name": "python",
   "nbconvert_exporter": "python",
   "pygments_lexer": "ipython3",
   "version": "3.10.13"
  },
  "papermill": {
   "default_parameters": {},
   "duration": 27.224873,
   "end_time": "2024-08-20T04:38:19.424757",
   "environment_variables": {},
   "exception": null,
   "input_path": "__notebook__.ipynb",
   "output_path": "__notebook__.ipynb",
   "parameters": {},
   "start_time": "2024-08-20T04:37:52.199884",
   "version": "2.5.0"
  }
 },
 "nbformat": 4,
 "nbformat_minor": 5
}
