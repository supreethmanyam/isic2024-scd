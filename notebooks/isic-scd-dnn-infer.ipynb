{
 "cells": [
  {
   "cell_type": "code",
   "execution_count": 1,
   "id": "bc4e7ace",
   "metadata": {
    "_cell_guid": "b1076dfc-b9ad-4769-8c92-a6c4dae69d19",
    "_uuid": "8f2839f25d086af736a60e9eeb907d3b93b6e0e5",
    "execution": {
     "iopub.execute_input": "2024-08-06T23:23:21.741526Z",
     "iopub.status.busy": "2024-08-06T23:23:21.741258Z",
     "iopub.status.idle": "2024-08-06T23:23:29.017310Z",
     "shell.execute_reply": "2024-08-06T23:23:29.016515Z"
    },
    "papermill": {
     "duration": 7.284156,
     "end_time": "2024-08-06T23:23:29.019734",
     "exception": false,
     "start_time": "2024-08-06T23:23:21.735578",
     "status": "completed"
    },
    "tags": []
   },
   "outputs": [],
   "source": [
    "import json\n",
    "from pathlib import Path\n",
    "from pprint import pprint\n",
    "\n",
    "import h5py\n",
    "import numpy as np\n",
    "import pandas as pd\n",
    "\n",
    "from torch.utils.data import DataLoader\n",
    "from accelerate import Accelerator\n",
    "\n",
    "from isic_helper import get_folds"
   ]
  },
  {
   "cell_type": "code",
   "execution_count": 2,
   "id": "74540c1c",
   "metadata": {
    "execution": {
     "iopub.execute_input": "2024-08-06T23:23:29.030064Z",
     "iopub.status.busy": "2024-08-06T23:23:29.029584Z",
     "iopub.status.idle": "2024-08-06T23:23:29.034070Z",
     "shell.execute_reply": "2024-08-06T23:23:29.033250Z"
    },
    "papermill": {
     "duration": 0.011624,
     "end_time": "2024-08-06T23:23:29.036075",
     "exception": false,
     "start_time": "2024-08-06T23:23:29.024451",
     "status": "completed"
    },
    "tags": []
   },
   "outputs": [],
   "source": [
    "model_name = \"efficientnet_b0\"\n",
    "version = \"v2\"\n",
    "mode = \"pretrain\"\n",
    "path = f\"/kaggle/input/isic-scd-{model_name.replace('_', '-')}-{version}-{mode}\""
   ]
  },
  {
   "cell_type": "code",
   "execution_count": 3,
   "id": "2701af12",
   "metadata": {
    "execution": {
     "iopub.execute_input": "2024-08-06T23:23:29.045341Z",
     "iopub.status.busy": "2024-08-06T23:23:29.045041Z",
     "iopub.status.idle": "2024-08-06T23:23:29.048766Z",
     "shell.execute_reply": "2024-08-06T23:23:29.047954Z"
    },
    "papermill": {
     "duration": 0.010575,
     "end_time": "2024-08-06T23:23:29.050712",
     "exception": false,
     "start_time": "2024-08-06T23:23:29.040137",
     "status": "completed"
    },
    "tags": []
   },
   "outputs": [],
   "source": [
    "import sys\n",
    "sys.path.append(path)"
   ]
  },
  {
   "cell_type": "code",
   "execution_count": 4,
   "id": "8347128f",
   "metadata": {
    "execution": {
     "iopub.execute_input": "2024-08-06T23:23:29.059965Z",
     "iopub.status.busy": "2024-08-06T23:23:29.059712Z",
     "iopub.status.idle": "2024-08-06T23:23:30.943488Z",
     "shell.execute_reply": "2024-08-06T23:23:30.942677Z"
    },
    "papermill": {
     "duration": 1.890893,
     "end_time": "2024-08-06T23:23:30.945795",
     "exception": false,
     "start_time": "2024-08-06T23:23:29.054902",
     "status": "completed"
    },
    "tags": []
   },
   "outputs": [],
   "source": [
    "from dataset import test_augment, ISICDataset\n",
    "from models import ISICNet\n",
    "from engine import predict"
   ]
  },
  {
   "cell_type": "code",
   "execution_count": 5,
   "id": "e2b2ae73",
   "metadata": {
    "execution": {
     "iopub.execute_input": "2024-08-06T23:23:30.956178Z",
     "iopub.status.busy": "2024-08-06T23:23:30.955894Z",
     "iopub.status.idle": "2024-08-06T23:23:30.959882Z",
     "shell.execute_reply": "2024-08-06T23:23:30.959104Z"
    },
    "papermill": {
     "duration": 0.011177,
     "end_time": "2024-08-06T23:23:30.961725",
     "exception": false,
     "start_time": "2024-08-06T23:23:30.950548",
     "status": "completed"
    },
    "tags": []
   },
   "outputs": [],
   "source": [
    "id_column = \"isic_id\"\n",
    "target_column = \"target\"\n",
    "group_column = \"patient_id\""
   ]
  },
  {
   "cell_type": "code",
   "execution_count": 6,
   "id": "7dcdde58",
   "metadata": {
    "execution": {
     "iopub.execute_input": "2024-08-06T23:23:30.970968Z",
     "iopub.status.busy": "2024-08-06T23:23:30.970700Z",
     "iopub.status.idle": "2024-08-06T23:23:40.751700Z",
     "shell.execute_reply": "2024-08-06T23:23:40.750680Z"
    },
    "papermill": {
     "duration": 9.788232,
     "end_time": "2024-08-06T23:23:40.754050",
     "exception": false,
     "start_time": "2024-08-06T23:23:30.965818",
     "status": "completed"
    },
    "tags": []
   },
   "outputs": [
    {
     "name": "stdout",
     "output_type": "stream",
     "text": [
      "Train data size: (401059, 57)\n",
      "Test data size: (3, 44)\n"
     ]
    }
   ],
   "source": [
    "INPUT_PATH = Path(\"../input/isic-2024-challenge/\")\n",
    "\n",
    "train_metadata = pd.read_csv(INPUT_PATH / \"train-metadata.csv\", low_memory=False)\n",
    "test_metadata = pd.read_csv(INPUT_PATH / \"test-metadata.csv\")\n",
    "\n",
    "folds_df = get_folds()\n",
    "train_metadata = train_metadata.merge(folds_df, on=[\"isic_id\", \"patient_id\"], how=\"inner\")\n",
    "print(f\"Train data size: {train_metadata.shape}\")\n",
    "print(f\"Test data size: {test_metadata.shape}\")\n",
    "\n",
    "test_images = h5py.File(INPUT_PATH / \"test-image.hdf5\", mode=\"r\")"
   ]
  },
  {
   "cell_type": "code",
   "execution_count": 7,
   "id": "629263c6",
   "metadata": {
    "execution": {
     "iopub.execute_input": "2024-08-06T23:23:40.764049Z",
     "iopub.status.busy": "2024-08-06T23:23:40.763744Z",
     "iopub.status.idle": "2024-08-06T23:23:40.773318Z",
     "shell.execute_reply": "2024-08-06T23:23:40.772448Z"
    },
    "papermill": {
     "duration": 0.016825,
     "end_time": "2024-08-06T23:23:40.775356",
     "exception": false,
     "start_time": "2024-08-06T23:23:40.758531",
     "status": "completed"
    },
    "tags": []
   },
   "outputs": [],
   "source": [
    "def get_dnn_predictions(train, test, test_images, model_name, version, path):\n",
    "    with open(path / f\"{model_name}_{version}_{mode}_run_metadata.json\", \"r\") as f:\n",
    "        run_metadata = json.load(f)\n",
    "    pprint(run_metadata[\"params\"])\n",
    "    \n",
    "    test_dataset = ISICDataset(\n",
    "        test, test_images, augment=test_augment(run_metadata[\"params\"][\"image_size\"]), infer=True\n",
    "    )\n",
    "    test_dataloader = DataLoader(\n",
    "        test_dataset,\n",
    "        batch_size=512,\n",
    "        shuffle=False,\n",
    "        num_workers=4,\n",
    "        drop_last=False,\n",
    "        pin_memory=True,\n",
    "    )\n",
    "    \n",
    "#     all_folds = np.unique(train[\"fold\"])\n",
    "    all_folds = [1]\n",
    "    test_predictions_df = pd.DataFrame({id_column: test_metadata[id_column]})\n",
    "    for fold in all_folds:\n",
    "        accelerator = Accelerator(\n",
    "            mixed_precision=run_metadata[\"params\"][\"mixed_precision\"],\n",
    "        )\n",
    "        \n",
    "        model = ISICNet(model_name=model_name, pretrained=False)\n",
    "        model = model.to(accelerator.device)\n",
    "        \n",
    "        model, test_dataloader = accelerator.prepare(model, test_dataloader)\n",
    "        model_filepath = path / f\"models/fold_{fold}\"\n",
    "        accelerator.load_state(model_filepath)\n",
    "\n",
    "        test_predictions_df[f\"fold_{fold}\"] = predict(model, test_dataloader, accelerator, n_tta=run_metadata[\"params\"][\"n_tta\"])\n",
    "    test_predictions_df[target_column] = test_predictions_df[[f\"fold_{fold}\" for fold in all_folds]].mean(axis=1)\n",
    "    return test_predictions_df[[id_column, target_column]]"
   ]
  },
  {
   "cell_type": "code",
   "execution_count": 8,
   "id": "937286b6",
   "metadata": {
    "execution": {
     "iopub.execute_input": "2024-08-06T23:23:40.784940Z",
     "iopub.status.busy": "2024-08-06T23:23:40.784696Z",
     "iopub.status.idle": "2024-08-06T23:23:42.531065Z",
     "shell.execute_reply": "2024-08-06T23:23:42.529938Z"
    },
    "papermill": {
     "duration": 1.753936,
     "end_time": "2024-08-06T23:23:42.533472",
     "exception": false,
     "start_time": "2024-08-06T23:23:40.779536",
     "status": "completed"
    },
    "tags": []
   },
   "outputs": [
    {
     "name": "stdout",
     "output_type": "stream",
     "text": [
      "{'batch_size': 64,\n",
      " 'debug': True,\n",
      " 'ext': '2020,2019',\n",
      " 'image_size': 128,\n",
      " 'init_lr': 3e-05,\n",
      " 'mixed_precision': 'fp16',\n",
      " 'n_tta': 8,\n",
      " 'num_epochs': 15,\n",
      " 'num_workers': 8,\n",
      " 'only_malignant': True,\n",
      " 'seed': 2022}\n",
      "Step: 1/1\n"
     ]
    }
   ],
   "source": [
    "test_preds_df = get_dnn_predictions(train_metadata, test_metadata, test_images, model_name, version, Path(path))"
   ]
  },
  {
   "cell_type": "code",
   "execution_count": 9,
   "id": "17a6f5a8",
   "metadata": {
    "execution": {
     "iopub.execute_input": "2024-08-06T23:23:42.544104Z",
     "iopub.status.busy": "2024-08-06T23:23:42.543784Z",
     "iopub.status.idle": "2024-08-06T23:23:42.559286Z",
     "shell.execute_reply": "2024-08-06T23:23:42.558426Z"
    },
    "papermill": {
     "duration": 0.023114,
     "end_time": "2024-08-06T23:23:42.561196",
     "exception": false,
     "start_time": "2024-08-06T23:23:42.538082",
     "status": "completed"
    },
    "tags": []
   },
   "outputs": [
    {
     "data": {
      "text/html": [
       "<div>\n",
       "<style scoped>\n",
       "    .dataframe tbody tr th:only-of-type {\n",
       "        vertical-align: middle;\n",
       "    }\n",
       "\n",
       "    .dataframe tbody tr th {\n",
       "        vertical-align: top;\n",
       "    }\n",
       "\n",
       "    .dataframe thead th {\n",
       "        text-align: right;\n",
       "    }\n",
       "</style>\n",
       "<table border=\"1\" class=\"dataframe\">\n",
       "  <thead>\n",
       "    <tr style=\"text-align: right;\">\n",
       "      <th></th>\n",
       "      <th>isic_id</th>\n",
       "      <th>target</th>\n",
       "    </tr>\n",
       "  </thead>\n",
       "  <tbody>\n",
       "    <tr>\n",
       "      <th>0</th>\n",
       "      <td>ISIC_0015657</td>\n",
       "      <td>0.418660</td>\n",
       "    </tr>\n",
       "    <tr>\n",
       "      <th>1</th>\n",
       "      <td>ISIC_0015729</td>\n",
       "      <td>0.535086</td>\n",
       "    </tr>\n",
       "    <tr>\n",
       "      <th>2</th>\n",
       "      <td>ISIC_0015740</td>\n",
       "      <td>0.389089</td>\n",
       "    </tr>\n",
       "  </tbody>\n",
       "</table>\n",
       "</div>"
      ],
      "text/plain": [
       "        isic_id    target\n",
       "0  ISIC_0015657  0.418660\n",
       "1  ISIC_0015729  0.535086\n",
       "2  ISIC_0015740  0.389089"
      ]
     },
     "execution_count": 9,
     "metadata": {},
     "output_type": "execute_result"
    }
   ],
   "source": [
    "test_preds_df.head()"
   ]
  },
  {
   "cell_type": "code",
   "execution_count": 10,
   "id": "6d611878",
   "metadata": {
    "execution": {
     "iopub.execute_input": "2024-08-06T23:23:42.571670Z",
     "iopub.status.busy": "2024-08-06T23:23:42.571371Z",
     "iopub.status.idle": "2024-08-06T23:23:42.582863Z",
     "shell.execute_reply": "2024-08-06T23:23:42.582010Z"
    },
    "papermill": {
     "duration": 0.018718,
     "end_time": "2024-08-06T23:23:42.584713",
     "exception": false,
     "start_time": "2024-08-06T23:23:42.565995",
     "status": "completed"
    },
    "tags": []
   },
   "outputs": [
    {
     "data": {
      "text/plain": [
       "count    3.000000\n",
       "mean     0.447612\n",
       "std      0.077184\n",
       "min      0.389089\n",
       "25%      0.403875\n",
       "50%      0.418660\n",
       "75%      0.476873\n",
       "max      0.535086\n",
       "Name: target, dtype: float64"
      ]
     },
     "execution_count": 10,
     "metadata": {},
     "output_type": "execute_result"
    }
   ],
   "source": [
    "test_preds_df[target_column].describe()"
   ]
  },
  {
   "cell_type": "code",
   "execution_count": 11,
   "id": "e840718f",
   "metadata": {
    "execution": {
     "iopub.execute_input": "2024-08-06T23:23:42.595058Z",
     "iopub.status.busy": "2024-08-06T23:23:42.594804Z",
     "iopub.status.idle": "2024-08-06T23:23:42.603555Z",
     "shell.execute_reply": "2024-08-06T23:23:42.602693Z"
    },
    "papermill": {
     "duration": 0.01605,
     "end_time": "2024-08-06T23:23:42.605497",
     "exception": false,
     "start_time": "2024-08-06T23:23:42.589447",
     "status": "completed"
    },
    "tags": []
   },
   "outputs": [
    {
     "data": {
      "text/html": [
       "<div>\n",
       "<style scoped>\n",
       "    .dataframe tbody tr th:only-of-type {\n",
       "        vertical-align: middle;\n",
       "    }\n",
       "\n",
       "    .dataframe tbody tr th {\n",
       "        vertical-align: top;\n",
       "    }\n",
       "\n",
       "    .dataframe thead th {\n",
       "        text-align: right;\n",
       "    }\n",
       "</style>\n",
       "<table border=\"1\" class=\"dataframe\">\n",
       "  <thead>\n",
       "    <tr style=\"text-align: right;\">\n",
       "      <th></th>\n",
       "      <th>isic_id</th>\n",
       "      <th>target</th>\n",
       "    </tr>\n",
       "  </thead>\n",
       "  <tbody>\n",
       "    <tr>\n",
       "      <th>0</th>\n",
       "      <td>ISIC_0015657</td>\n",
       "      <td>0.418660</td>\n",
       "    </tr>\n",
       "    <tr>\n",
       "      <th>1</th>\n",
       "      <td>ISIC_0015729</td>\n",
       "      <td>0.535086</td>\n",
       "    </tr>\n",
       "    <tr>\n",
       "      <th>2</th>\n",
       "      <td>ISIC_0015740</td>\n",
       "      <td>0.389089</td>\n",
       "    </tr>\n",
       "  </tbody>\n",
       "</table>\n",
       "</div>"
      ],
      "text/plain": [
       "        isic_id    target\n",
       "0  ISIC_0015657  0.418660\n",
       "1  ISIC_0015729  0.535086\n",
       "2  ISIC_0015740  0.389089"
      ]
     },
     "execution_count": 11,
     "metadata": {},
     "output_type": "execute_result"
    }
   ],
   "source": [
    "test_preds_df[[id_column, target_column]].head()"
   ]
  },
  {
   "cell_type": "code",
   "execution_count": 12,
   "id": "d54899b0",
   "metadata": {
    "execution": {
     "iopub.execute_input": "2024-08-06T23:23:42.616035Z",
     "iopub.status.busy": "2024-08-06T23:23:42.615776Z",
     "iopub.status.idle": "2024-08-06T23:23:42.622473Z",
     "shell.execute_reply": "2024-08-06T23:23:42.621771Z"
    },
    "papermill": {
     "duration": 0.013886,
     "end_time": "2024-08-06T23:23:42.624212",
     "exception": false,
     "start_time": "2024-08-06T23:23:42.610326",
     "status": "completed"
    },
    "tags": []
   },
   "outputs": [],
   "source": [
    "test_preds_df[[id_column, target_column]].to_csv(\"submission.csv\", index=False)"
   ]
  },
  {
   "cell_type": "code",
   "execution_count": null,
   "id": "6e2676e6",
   "metadata": {
    "papermill": {
     "duration": 0.004621,
     "end_time": "2024-08-06T23:23:42.633814",
     "exception": false,
     "start_time": "2024-08-06T23:23:42.629193",
     "status": "completed"
    },
    "tags": []
   },
   "outputs": [],
   "source": []
  }
 ],
 "metadata": {
  "kaggle": {
   "accelerator": "gpu",
   "dataSources": [
    {
     "databundleVersionId": 9094797,
     "sourceId": 63056,
     "sourceType": "competition"
    },
    {
     "datasetId": 5505696,
     "sourceId": 9120604,
     "sourceType": "datasetVersion"
    },
    {
     "sourceId": 187477024,
     "sourceType": "kernelVersion"
    },
    {
     "sourceId": 189656082,
     "sourceType": "kernelVersion"
    }
   ],
   "dockerImageVersionId": 30733,
   "isGpuEnabled": true,
   "isInternetEnabled": false,
   "language": "python",
   "sourceType": "notebook"
  },
  "kernelspec": {
   "display_name": "Python 3",
   "language": "python",
   "name": "python3"
  },
  "language_info": {
   "codemirror_mode": {
    "name": "ipython",
    "version": 3
   },
   "file_extension": ".py",
   "mimetype": "text/x-python",
   "name": "python",
   "nbconvert_exporter": "python",
   "pygments_lexer": "ipython3",
   "version": "3.10.13"
  },
  "papermill": {
   "default_parameters": {},
   "duration": 26.185189,
   "end_time": "2024-08-06T23:23:45.159406",
   "environment_variables": {},
   "exception": null,
   "input_path": "__notebook__.ipynb",
   "output_path": "__notebook__.ipynb",
   "parameters": {},
   "start_time": "2024-08-06T23:23:18.974217",
   "version": "2.5.0"
  }
 },
 "nbformat": 4,
 "nbformat_minor": 5
}
