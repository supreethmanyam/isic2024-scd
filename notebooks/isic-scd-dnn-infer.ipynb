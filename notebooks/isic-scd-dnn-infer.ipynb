{
 "cells": [
  {
   "cell_type": "code",
   "execution_count": 1,
   "id": "b30ae5f2",
   "metadata": {
    "_cell_guid": "b1076dfc-b9ad-4769-8c92-a6c4dae69d19",
    "_uuid": "8f2839f25d086af736a60e9eeb907d3b93b6e0e5",
    "execution": {
     "iopub.execute_input": "2024-08-17T05:46:43.458928Z",
     "iopub.status.busy": "2024-08-17T05:46:43.458555Z",
     "iopub.status.idle": "2024-08-17T05:46:50.674400Z",
     "shell.execute_reply": "2024-08-17T05:46:50.673403Z"
    },
    "papermill": {
     "duration": 7.224539,
     "end_time": "2024-08-17T05:46:50.676867",
     "exception": false,
     "start_time": "2024-08-17T05:46:43.452328",
     "status": "completed"
    },
    "tags": []
   },
   "outputs": [],
   "source": [
    "import time\n",
    "import json\n",
    "from pathlib import Path\n",
    "from pprint import pprint\n",
    "\n",
    "import h5py\n",
    "import numpy as np\n",
    "import pandas as pd\n",
    "\n",
    "from torch.utils.data import DataLoader\n",
    "from accelerate import Accelerator\n",
    "\n",
    "from isic_helper import get_folds"
   ]
  },
  {
   "cell_type": "code",
   "execution_count": 2,
   "id": "5f129abe",
   "metadata": {
    "execution": {
     "iopub.execute_input": "2024-08-17T05:46:50.687649Z",
     "iopub.status.busy": "2024-08-17T05:46:50.687182Z",
     "iopub.status.idle": "2024-08-17T05:46:50.692032Z",
     "shell.execute_reply": "2024-08-17T05:46:50.691173Z"
    },
    "papermill": {
     "duration": 0.012053,
     "end_time": "2024-08-17T05:46:50.693845",
     "exception": false,
     "start_time": "2024-08-17T05:46:50.681792",
     "status": "completed"
    },
    "tags": []
   },
   "outputs": [],
   "source": [
    "model_name = \"efficientnet_b2\"\n",
    "version = \"v1\"\n",
    "mode = \"pretrain\"\n",
    "path = f\"/kaggle/input/isic-scd-{model_name.replace('_', '-')}-{version}-{mode}\"\n",
    "\n",
    "SAMPLE_SIZE = 5000\n",
    "EXPECTED_TEST_SIZE = 500000"
   ]
  },
  {
   "cell_type": "code",
   "execution_count": 3,
   "id": "d963c0db",
   "metadata": {
    "execution": {
     "iopub.execute_input": "2024-08-17T05:46:50.703714Z",
     "iopub.status.busy": "2024-08-17T05:46:50.703434Z",
     "iopub.status.idle": "2024-08-17T05:46:50.707287Z",
     "shell.execute_reply": "2024-08-17T05:46:50.706453Z"
    },
    "papermill": {
     "duration": 0.01086,
     "end_time": "2024-08-17T05:46:50.709176",
     "exception": false,
     "start_time": "2024-08-17T05:46:50.698316",
     "status": "completed"
    },
    "tags": []
   },
   "outputs": [],
   "source": [
    "import sys\n",
    "sys.path.append(path)"
   ]
  },
  {
   "cell_type": "code",
   "execution_count": 4,
   "id": "5272586d",
   "metadata": {
    "execution": {
     "iopub.execute_input": "2024-08-17T05:46:50.718923Z",
     "iopub.status.busy": "2024-08-17T05:46:50.718655Z",
     "iopub.status.idle": "2024-08-17T05:46:52.658451Z",
     "shell.execute_reply": "2024-08-17T05:46:52.657642Z"
    },
    "papermill": {
     "duration": 1.947107,
     "end_time": "2024-08-17T05:46:52.660784",
     "exception": false,
     "start_time": "2024-08-17T05:46:50.713677",
     "status": "completed"
    },
    "tags": []
   },
   "outputs": [],
   "source": [
    "from dataset import test_augment, ISICDataset\n",
    "from models import ISICNet\n",
    "from engine import predict"
   ]
  },
  {
   "cell_type": "code",
   "execution_count": 5,
   "id": "30617930",
   "metadata": {
    "execution": {
     "iopub.execute_input": "2024-08-17T05:46:52.671064Z",
     "iopub.status.busy": "2024-08-17T05:46:52.670755Z",
     "iopub.status.idle": "2024-08-17T05:46:52.674770Z",
     "shell.execute_reply": "2024-08-17T05:46:52.673897Z"
    },
    "papermill": {
     "duration": 0.011191,
     "end_time": "2024-08-17T05:46:52.676685",
     "exception": false,
     "start_time": "2024-08-17T05:46:52.665494",
     "status": "completed"
    },
    "tags": []
   },
   "outputs": [],
   "source": [
    "id_column = \"isic_id\"\n",
    "target_column = \"target\"\n",
    "group_column = \"patient_id\""
   ]
  },
  {
   "cell_type": "code",
   "execution_count": 6,
   "id": "49990265",
   "metadata": {
    "execution": {
     "iopub.execute_input": "2024-08-17T05:46:52.686545Z",
     "iopub.status.busy": "2024-08-17T05:46:52.686265Z",
     "iopub.status.idle": "2024-08-17T05:47:02.614050Z",
     "shell.execute_reply": "2024-08-17T05:47:02.612977Z"
    },
    "papermill": {
     "duration": 9.935646,
     "end_time": "2024-08-17T05:47:02.616680",
     "exception": false,
     "start_time": "2024-08-17T05:46:52.681034",
     "status": "completed"
    },
    "tags": []
   },
   "outputs": [
    {
     "name": "stdout",
     "output_type": "stream",
     "text": [
      "Train data size: (401059, 58)\n",
      "Test data size: (3, 44)\n"
     ]
    }
   ],
   "source": [
    "INPUT_PATH = Path(\"../input/isic-2024-challenge/\")\n",
    "\n",
    "train_metadata = pd.read_csv(INPUT_PATH / \"train-metadata.csv\", low_memory=False)\n",
    "test_metadata = pd.read_csv(INPUT_PATH / \"test-metadata.csv\")\n",
    "\n",
    "folds_df = get_folds()\n",
    "train_metadata = train_metadata.merge(folds_df, on=[\"isic_id\", \"patient_id\"], how=\"inner\")\n",
    "print(f\"Train data size: {train_metadata.shape}\")\n",
    "print(f\"Test data size: {test_metadata.shape}\")\n",
    "\n",
    "train_images = h5py.File(INPUT_PATH / \"train-image.hdf5\", mode=\"r\")\n",
    "test_images = h5py.File(INPUT_PATH / \"test-image.hdf5\", mode=\"r\")"
   ]
  },
  {
   "cell_type": "code",
   "execution_count": 7,
   "id": "2b1617ed",
   "metadata": {
    "execution": {
     "iopub.execute_input": "2024-08-17T05:47:02.627362Z",
     "iopub.status.busy": "2024-08-17T05:47:02.627047Z",
     "iopub.status.idle": "2024-08-17T05:47:02.638995Z",
     "shell.execute_reply": "2024-08-17T05:47:02.638192Z"
    },
    "papermill": {
     "duration": 0.019238,
     "end_time": "2024-08-17T05:47:02.640857",
     "exception": false,
     "start_time": "2024-08-17T05:47:02.621619",
     "status": "completed"
    },
    "tags": []
   },
   "outputs": [],
   "source": [
    "def get_dnn_predictions(train, test, test_images, model_name, version, path):\n",
    "    start_time = time.time()\n",
    "    test_df = test[[id_column]].copy()\n",
    "    with open(path / f\"{model_name}_{version}_run_metadata.json\", \"r\") as f:\n",
    "        run_metadata = json.load(f)\n",
    "    pprint(run_metadata[\"params\"])\n",
    "    \n",
    "    image_size = run_metadata[\"params\"][\"image_size\"]\n",
    "    batch_size = run_metadata[\"params\"][\"val_batch_size\"]\n",
    "    fold_method = run_metadata[\"params\"][\"fold_method\"]\n",
    "    \n",
    "    test_dataset = ISICDataset(\n",
    "        test_df, test_images, augment=test_augment(image_size), infer=True\n",
    "    )\n",
    "    test_dataloader = DataLoader(\n",
    "        test_dataset,\n",
    "        batch_size=batch_size,\n",
    "        shuffle=False,\n",
    "        num_workers=4,\n",
    "        drop_last=False,\n",
    "        pin_memory=True,\n",
    "    )\n",
    "    \n",
    "    if fold_method == \"gkf\":\n",
    "        print(\"Using GroupKFold\")\n",
    "        fold_column = \"gkf_fold\"\n",
    "    elif fold_method == \"sgkf\":\n",
    "        print(\"Using StratifiedGroupKFold\")\n",
    "        fold_column = \"sgkf_fold\"\n",
    "    else:\n",
    "        raise ValueError(f\"Fold method {fold_method} not supported\")\n",
    "    \n",
    "    all_folds = np.unique(train[fold_column])\n",
    "#     all_folds = [1]\n",
    "    test_predictions_df = pd.DataFrame({id_column: test[id_column]})\n",
    "    for fold in all_folds:\n",
    "        if fold < 0:\n",
    "            continue\n",
    "        print(f\"\\nFold {fold}\")\n",
    "        accelerator = Accelerator(\n",
    "            mixed_precision=run_metadata[\"params\"][\"mixed_precision\"],\n",
    "        )\n",
    "        \n",
    "        model = ISICNet(model_name=model_name, pretrained=False)\n",
    "        model = model.to(accelerator.device)\n",
    "        \n",
    "        model, test_dataloader = accelerator.prepare(model, test_dataloader)\n",
    "        model_filepath = path / f\"models/fold_{fold}\"\n",
    "        accelerator.load_state(model_filepath)\n",
    "\n",
    "        test_predictions_df[f\"fold_{fold}\"] = predict(model, test_dataloader, accelerator, n_tta=run_metadata[\"params\"][\"n_tta\"])\n",
    "    test_predictions_df[target_column] = test_predictions_df[[f\"fold_{fold}\" for fold in all_folds if fold > 0]].mean(axis=1)\n",
    "    end_time = time.time()\n",
    "    return test_predictions_df[[id_column, target_column]], (end_time - start_time)"
   ]
  },
  {
   "cell_type": "code",
   "execution_count": 8,
   "id": "99ee479c",
   "metadata": {
    "execution": {
     "iopub.execute_input": "2024-08-17T05:47:02.650933Z",
     "iopub.status.busy": "2024-08-17T05:47:02.650689Z",
     "iopub.status.idle": "2024-08-17T05:48:31.020115Z",
     "shell.execute_reply": "2024-08-17T05:48:31.019221Z"
    },
    "papermill": {
     "duration": 88.376901,
     "end_time": "2024-08-17T05:48:31.022203",
     "exception": false,
     "start_time": "2024-08-17T05:47:02.645302",
     "status": "completed"
    },
    "tags": []
   },
   "outputs": [
    {
     "name": "stdout",
     "output_type": "stream",
     "text": [
      "{'debug': False,\n",
      " 'down_sampling': True,\n",
      " 'fold_method': 'gkf',\n",
      " 'image_size': 128,\n",
      " 'init_lr': 3e-05,\n",
      " 'mixed_precision': 'fp16',\n",
      " 'mode': 'pretrain',\n",
      " 'n_tta': 8,\n",
      " 'num_epochs': 20,\n",
      " 'num_workers': 8,\n",
      " 'seed': 2022,\n",
      " 'train_batch_size': 64,\n",
      " 'use_meta': True,\n",
      " 'val_batch_size': 512}\n",
      "Using GroupKFold\n",
      "\n",
      "Fold 1\n",
      "Step: 1/10\n",
      "Step: 10/10\n",
      "\n",
      "Fold 2\n",
      "Step: 1/10\n",
      "Step: 10/10\n",
      "\n",
      "Fold 3\n",
      "Step: 1/10\n",
      "Step: 10/10\n",
      "\n",
      "Fold 4\n",
      "Step: 1/10\n",
      "Step: 10/10\n",
      "\n",
      "Fold 5\n",
      "Step: 1/10\n",
      "Step: 10/10\n"
     ]
    }
   ],
   "source": [
    "if test_metadata.shape[0] == 3:\n",
    "    test_preds_df, total_runtime = get_dnn_predictions(train_metadata, \n",
    "                                                 train_metadata.sample(n=SAMPLE_SIZE, random_state=42), \n",
    "                                                 train_images, \n",
    "                                                 model_name, \n",
    "                                                 version, \n",
    "                                                 Path(path))\n",
    "else:\n",
    "    test_preds_df, total_runtime = get_dnn_predictions(train_metadata, \n",
    "                                                 test_metadata, \n",
    "                                                 test_images, \n",
    "                                                 model_name, \n",
    "                                                 version, \n",
    "                                                 Path(path))"
   ]
  },
  {
   "cell_type": "code",
   "execution_count": 9,
   "id": "3d34ab90",
   "metadata": {
    "execution": {
     "iopub.execute_input": "2024-08-17T05:48:31.035245Z",
     "iopub.status.busy": "2024-08-17T05:48:31.034687Z",
     "iopub.status.idle": "2024-08-17T05:48:31.040342Z",
     "shell.execute_reply": "2024-08-17T05:48:31.039472Z"
    },
    "papermill": {
     "duration": 0.014374,
     "end_time": "2024-08-17T05:48:31.042368",
     "exception": false,
     "start_time": "2024-08-17T05:48:31.027994",
     "status": "completed"
    },
    "tags": []
   },
   "outputs": [
    {
     "name": "stdout",
     "output_type": "stream",
     "text": [
      "Expected total runtime during submission: 147 mins and 13.375763893127441 secs\n"
     ]
    }
   ],
   "source": [
    "factor = EXPECTED_TEST_SIZE / SAMPLE_SIZE\n",
    "expected_total_runtime = total_runtime * factor\n",
    "total_runtime_minutes = int(expected_total_runtime // 60)\n",
    "total_runtime_seconds = expected_total_runtime % 60\n",
    "print(f\"Expected total runtime during submission: {total_runtime_minutes} mins and {total_runtime_seconds} secs\")"
   ]
  },
  {
   "cell_type": "code",
   "execution_count": 10,
   "id": "d374c9bf",
   "metadata": {
    "execution": {
     "iopub.execute_input": "2024-08-17T05:48:31.055375Z",
     "iopub.status.busy": "2024-08-17T05:48:31.054737Z",
     "iopub.status.idle": "2024-08-17T05:48:31.068729Z",
     "shell.execute_reply": "2024-08-17T05:48:31.067913Z"
    },
    "papermill": {
     "duration": 0.022586,
     "end_time": "2024-08-17T05:48:31.070590",
     "exception": false,
     "start_time": "2024-08-17T05:48:31.048004",
     "status": "completed"
    },
    "tags": []
   },
   "outputs": [
    {
     "data": {
      "text/html": [
       "<div>\n",
       "<style scoped>\n",
       "    .dataframe tbody tr th:only-of-type {\n",
       "        vertical-align: middle;\n",
       "    }\n",
       "\n",
       "    .dataframe tbody tr th {\n",
       "        vertical-align: top;\n",
       "    }\n",
       "\n",
       "    .dataframe thead th {\n",
       "        text-align: right;\n",
       "    }\n",
       "</style>\n",
       "<table border=\"1\" class=\"dataframe\">\n",
       "  <thead>\n",
       "    <tr style=\"text-align: right;\">\n",
       "      <th></th>\n",
       "      <th>isic_id</th>\n",
       "      <th>target</th>\n",
       "    </tr>\n",
       "  </thead>\n",
       "  <tbody>\n",
       "    <tr>\n",
       "      <th>278442</th>\n",
       "      <td>ISIC_6973879</td>\n",
       "      <td>0.000178</td>\n",
       "    </tr>\n",
       "    <tr>\n",
       "      <th>215021</th>\n",
       "      <td>ISIC_5407194</td>\n",
       "      <td>0.000138</td>\n",
       "    </tr>\n",
       "    <tr>\n",
       "      <th>209685</th>\n",
       "      <td>ISIC_5273739</td>\n",
       "      <td>0.009154</td>\n",
       "    </tr>\n",
       "    <tr>\n",
       "      <th>29648</th>\n",
       "      <td>ISIC_0802250</td>\n",
       "      <td>0.000203</td>\n",
       "    </tr>\n",
       "    <tr>\n",
       "      <th>323386</th>\n",
       "      <td>ISIC_8084953</td>\n",
       "      <td>0.001967</td>\n",
       "    </tr>\n",
       "  </tbody>\n",
       "</table>\n",
       "</div>"
      ],
      "text/plain": [
       "             isic_id    target\n",
       "278442  ISIC_6973879  0.000178\n",
       "215021  ISIC_5407194  0.000138\n",
       "209685  ISIC_5273739  0.009154\n",
       "29648   ISIC_0802250  0.000203\n",
       "323386  ISIC_8084953  0.001967"
      ]
     },
     "execution_count": 10,
     "metadata": {},
     "output_type": "execute_result"
    }
   ],
   "source": [
    "test_preds_df.head()"
   ]
  },
  {
   "cell_type": "code",
   "execution_count": 11,
   "id": "8fea0da3",
   "metadata": {
    "execution": {
     "iopub.execute_input": "2024-08-17T05:48:31.083567Z",
     "iopub.status.busy": "2024-08-17T05:48:31.082934Z",
     "iopub.status.idle": "2024-08-17T05:48:31.094675Z",
     "shell.execute_reply": "2024-08-17T05:48:31.093855Z"
    },
    "papermill": {
     "duration": 0.02004,
     "end_time": "2024-08-17T05:48:31.096486",
     "exception": false,
     "start_time": "2024-08-17T05:48:31.076446",
     "status": "completed"
    },
    "tags": []
   },
   "outputs": [
    {
     "data": {
      "text/plain": [
       "count    5000.000000\n",
       "mean        0.007872\n",
       "std         0.032368\n",
       "min         0.000064\n",
       "25%         0.000281\n",
       "50%         0.000688\n",
       "75%         0.003030\n",
       "max         0.662612\n",
       "Name: target, dtype: float64"
      ]
     },
     "execution_count": 11,
     "metadata": {},
     "output_type": "execute_result"
    }
   ],
   "source": [
    "test_preds_df[target_column].describe()"
   ]
  },
  {
   "cell_type": "code",
   "execution_count": 12,
   "id": "08eedd42",
   "metadata": {
    "execution": {
     "iopub.execute_input": "2024-08-17T05:48:31.110884Z",
     "iopub.status.busy": "2024-08-17T05:48:31.110275Z",
     "iopub.status.idle": "2024-08-17T05:48:31.119353Z",
     "shell.execute_reply": "2024-08-17T05:48:31.118543Z"
    },
    "papermill": {
     "duration": 0.018819,
     "end_time": "2024-08-17T05:48:31.121274",
     "exception": false,
     "start_time": "2024-08-17T05:48:31.102455",
     "status": "completed"
    },
    "tags": []
   },
   "outputs": [
    {
     "data": {
      "text/html": [
       "<div>\n",
       "<style scoped>\n",
       "    .dataframe tbody tr th:only-of-type {\n",
       "        vertical-align: middle;\n",
       "    }\n",
       "\n",
       "    .dataframe tbody tr th {\n",
       "        vertical-align: top;\n",
       "    }\n",
       "\n",
       "    .dataframe thead th {\n",
       "        text-align: right;\n",
       "    }\n",
       "</style>\n",
       "<table border=\"1\" class=\"dataframe\">\n",
       "  <thead>\n",
       "    <tr style=\"text-align: right;\">\n",
       "      <th></th>\n",
       "      <th>isic_id</th>\n",
       "      <th>target</th>\n",
       "    </tr>\n",
       "  </thead>\n",
       "  <tbody>\n",
       "    <tr>\n",
       "      <th>278442</th>\n",
       "      <td>ISIC_6973879</td>\n",
       "      <td>0.000178</td>\n",
       "    </tr>\n",
       "    <tr>\n",
       "      <th>215021</th>\n",
       "      <td>ISIC_5407194</td>\n",
       "      <td>0.000138</td>\n",
       "    </tr>\n",
       "    <tr>\n",
       "      <th>209685</th>\n",
       "      <td>ISIC_5273739</td>\n",
       "      <td>0.009154</td>\n",
       "    </tr>\n",
       "    <tr>\n",
       "      <th>29648</th>\n",
       "      <td>ISIC_0802250</td>\n",
       "      <td>0.000203</td>\n",
       "    </tr>\n",
       "    <tr>\n",
       "      <th>323386</th>\n",
       "      <td>ISIC_8084953</td>\n",
       "      <td>0.001967</td>\n",
       "    </tr>\n",
       "  </tbody>\n",
       "</table>\n",
       "</div>"
      ],
      "text/plain": [
       "             isic_id    target\n",
       "278442  ISIC_6973879  0.000178\n",
       "215021  ISIC_5407194  0.000138\n",
       "209685  ISIC_5273739  0.009154\n",
       "29648   ISIC_0802250  0.000203\n",
       "323386  ISIC_8084953  0.001967"
      ]
     },
     "execution_count": 12,
     "metadata": {},
     "output_type": "execute_result"
    }
   ],
   "source": [
    "test_preds_df[[id_column, target_column]].head()"
   ]
  },
  {
   "cell_type": "code",
   "execution_count": 13,
   "id": "bc92665f",
   "metadata": {
    "execution": {
     "iopub.execute_input": "2024-08-17T05:48:31.135104Z",
     "iopub.status.busy": "2024-08-17T05:48:31.134606Z",
     "iopub.status.idle": "2024-08-17T05:48:31.155377Z",
     "shell.execute_reply": "2024-08-17T05:48:31.154671Z"
    },
    "papermill": {
     "duration": 0.029549,
     "end_time": "2024-08-17T05:48:31.157196",
     "exception": false,
     "start_time": "2024-08-17T05:48:31.127647",
     "status": "completed"
    },
    "tags": []
   },
   "outputs": [],
   "source": [
    "test_preds_df[[id_column, target_column]].to_csv(\"submission.csv\", index=False)"
   ]
  },
  {
   "cell_type": "code",
   "execution_count": null,
   "id": "6f04f9c7",
   "metadata": {
    "papermill": {
     "duration": 0.006012,
     "end_time": "2024-08-17T05:48:31.169340",
     "exception": false,
     "start_time": "2024-08-17T05:48:31.163328",
     "status": "completed"
    },
    "tags": []
   },
   "outputs": [],
   "source": []
  }
 ],
 "metadata": {
  "kaggle": {
   "accelerator": "gpu",
   "dataSources": [
    {
     "databundleVersionId": 9094797,
     "sourceId": 63056,
     "sourceType": "competition"
    },
    {
     "datasetId": 5554293,
     "sourceId": 9189450,
     "sourceType": "datasetVersion"
    },
    {
     "sourceId": 187477024,
     "sourceType": "kernelVersion"
    },
    {
     "sourceId": 192814855,
     "sourceType": "kernelVersion"
    }
   ],
   "dockerImageVersionId": 30733,
   "isGpuEnabled": true,
   "isInternetEnabled": false,
   "language": "python",
   "sourceType": "notebook"
  },
  "kernelspec": {
   "display_name": "Python 3",
   "language": "python",
   "name": "python3"
  },
  "language_info": {
   "codemirror_mode": {
    "name": "ipython",
    "version": 3
   },
   "file_extension": ".py",
   "mimetype": "text/x-python",
   "name": "python",
   "nbconvert_exporter": "python",
   "pygments_lexer": "ipython3",
   "version": "3.10.13"
  },
  "papermill": {
   "default_parameters": {},
   "duration": 113.220303,
   "end_time": "2024-08-17T05:48:33.919372",
   "environment_variables": {},
   "exception": null,
   "input_path": "__notebook__.ipynb",
   "output_path": "__notebook__.ipynb",
   "parameters": {},
   "start_time": "2024-08-17T05:46:40.699069",
   "version": "2.5.0"
  }
 },
 "nbformat": 4,
 "nbformat_minor": 5
}
