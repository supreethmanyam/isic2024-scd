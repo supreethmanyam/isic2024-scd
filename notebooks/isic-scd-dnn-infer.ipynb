{
 "cells": [
  {
   "cell_type": "code",
   "execution_count": 1,
   "id": "49bdfdb7",
   "metadata": {
    "_cell_guid": "b1076dfc-b9ad-4769-8c92-a6c4dae69d19",
    "_uuid": "8f2839f25d086af736a60e9eeb907d3b93b6e0e5",
    "execution": {
     "iopub.execute_input": "2024-08-07T17:55:29.814495Z",
     "iopub.status.busy": "2024-08-07T17:55:29.813645Z",
     "iopub.status.idle": "2024-08-07T17:55:37.381126Z",
     "shell.execute_reply": "2024-08-07T17:55:37.380103Z"
    },
    "papermill": {
     "duration": 7.576398,
     "end_time": "2024-08-07T17:55:37.383526",
     "exception": false,
     "start_time": "2024-08-07T17:55:29.807128",
     "status": "completed"
    },
    "tags": []
   },
   "outputs": [],
   "source": [
    "import json\n",
    "from pathlib import Path\n",
    "from pprint import pprint\n",
    "\n",
    "import h5py\n",
    "import numpy as np\n",
    "import pandas as pd\n",
    "\n",
    "from torch.utils.data import DataLoader\n",
    "from accelerate import Accelerator\n",
    "\n",
    "from isic_helper import get_folds"
   ]
  },
  {
   "cell_type": "code",
   "execution_count": 2,
   "id": "83e93ca8",
   "metadata": {
    "execution": {
     "iopub.execute_input": "2024-08-07T17:55:37.393930Z",
     "iopub.status.busy": "2024-08-07T17:55:37.393388Z",
     "iopub.status.idle": "2024-08-07T17:55:37.397822Z",
     "shell.execute_reply": "2024-08-07T17:55:37.397026Z"
    },
    "papermill": {
     "duration": 0.011463,
     "end_time": "2024-08-07T17:55:37.399679",
     "exception": false,
     "start_time": "2024-08-07T17:55:37.388216",
     "status": "completed"
    },
    "tags": []
   },
   "outputs": [],
   "source": [
    "model_name = \"efficientnet_b0\"\n",
    "version = \"v1\"\n",
    "path = f\"/kaggle/input/isic-scd-{model_name.replace('_', '-')}-{version}-train\""
   ]
  },
  {
   "cell_type": "code",
   "execution_count": 3,
   "id": "3120d1dc",
   "metadata": {
    "execution": {
     "iopub.execute_input": "2024-08-07T17:55:37.409115Z",
     "iopub.status.busy": "2024-08-07T17:55:37.408843Z",
     "iopub.status.idle": "2024-08-07T17:55:37.412918Z",
     "shell.execute_reply": "2024-08-07T17:55:37.412073Z"
    },
    "papermill": {
     "duration": 0.010978,
     "end_time": "2024-08-07T17:55:37.414887",
     "exception": false,
     "start_time": "2024-08-07T17:55:37.403909",
     "status": "completed"
    },
    "tags": []
   },
   "outputs": [],
   "source": [
    "import sys\n",
    "sys.path.append(path)"
   ]
  },
  {
   "cell_type": "code",
   "execution_count": 4,
   "id": "543e0184",
   "metadata": {
    "execution": {
     "iopub.execute_input": "2024-08-07T17:55:37.424341Z",
     "iopub.status.busy": "2024-08-07T17:55:37.424061Z",
     "iopub.status.idle": "2024-08-07T17:55:39.405678Z",
     "shell.execute_reply": "2024-08-07T17:55:39.404662Z"
    },
    "papermill": {
     "duration": 1.989246,
     "end_time": "2024-08-07T17:55:39.408287",
     "exception": false,
     "start_time": "2024-08-07T17:55:37.419041",
     "status": "completed"
    },
    "tags": []
   },
   "outputs": [],
   "source": [
    "from dataset import test_augment, ISICDataset\n",
    "from models import ISICNet\n",
    "from engine import predict"
   ]
  },
  {
   "cell_type": "code",
   "execution_count": 5,
   "id": "68de4986",
   "metadata": {
    "execution": {
     "iopub.execute_input": "2024-08-07T17:55:39.418191Z",
     "iopub.status.busy": "2024-08-07T17:55:39.417871Z",
     "iopub.status.idle": "2024-08-07T17:55:39.422029Z",
     "shell.execute_reply": "2024-08-07T17:55:39.421163Z"
    },
    "papermill": {
     "duration": 0.011267,
     "end_time": "2024-08-07T17:55:39.423962",
     "exception": false,
     "start_time": "2024-08-07T17:55:39.412695",
     "status": "completed"
    },
    "tags": []
   },
   "outputs": [],
   "source": [
    "id_column = \"isic_id\"\n",
    "target_column = \"target\"\n",
    "group_column = \"patient_id\""
   ]
  },
  {
   "cell_type": "code",
   "execution_count": 6,
   "id": "421db427",
   "metadata": {
    "execution": {
     "iopub.execute_input": "2024-08-07T17:55:39.433853Z",
     "iopub.status.busy": "2024-08-07T17:55:39.433343Z",
     "iopub.status.idle": "2024-08-07T17:55:49.578099Z",
     "shell.execute_reply": "2024-08-07T17:55:49.577120Z"
    },
    "papermill": {
     "duration": 10.15215,
     "end_time": "2024-08-07T17:55:49.580373",
     "exception": false,
     "start_time": "2024-08-07T17:55:39.428223",
     "status": "completed"
    },
    "tags": []
   },
   "outputs": [
    {
     "name": "stdout",
     "output_type": "stream",
     "text": [
      "Train data size: (401059, 57)\n",
      "Test data size: (3, 44)\n"
     ]
    }
   ],
   "source": [
    "INPUT_PATH = Path(\"../input/isic-2024-challenge/\")\n",
    "\n",
    "train_metadata = pd.read_csv(INPUT_PATH / \"train-metadata.csv\", low_memory=False)\n",
    "test_metadata = pd.read_csv(INPUT_PATH / \"test-metadata.csv\")\n",
    "\n",
    "folds_df = get_folds()\n",
    "train_metadata = train_metadata.merge(folds_df, on=[\"isic_id\", \"patient_id\"], how=\"inner\")\n",
    "print(f\"Train data size: {train_metadata.shape}\")\n",
    "print(f\"Test data size: {test_metadata.shape}\")\n",
    "\n",
    "test_images = h5py.File(INPUT_PATH / \"test-image.hdf5\", mode=\"r\")"
   ]
  },
  {
   "cell_type": "code",
   "execution_count": 7,
   "id": "be8f940a",
   "metadata": {
    "execution": {
     "iopub.execute_input": "2024-08-07T17:55:49.590999Z",
     "iopub.status.busy": "2024-08-07T17:55:49.590664Z",
     "iopub.status.idle": "2024-08-07T17:55:49.600440Z",
     "shell.execute_reply": "2024-08-07T17:55:49.599567Z"
    },
    "papermill": {
     "duration": 0.017001,
     "end_time": "2024-08-07T17:55:49.602410",
     "exception": false,
     "start_time": "2024-08-07T17:55:49.585409",
     "status": "completed"
    },
    "tags": []
   },
   "outputs": [],
   "source": [
    "def get_dnn_predictions(train, test, test_images, model_name, version, path):\n",
    "    with open(path / f\"{model_name}_{version}_run_metadata.json\", \"r\") as f:\n",
    "        run_metadata = json.load(f)\n",
    "    pprint(run_metadata[\"params\"])\n",
    "    \n",
    "    test_dataset = ISICDataset(\n",
    "        test, test_images, augment=test_augment(run_metadata[\"params\"][\"image_size\"]), infer=True\n",
    "    )\n",
    "    test_dataloader = DataLoader(\n",
    "        test_dataset,\n",
    "        batch_size=512,\n",
    "        shuffle=False,\n",
    "        num_workers=4,\n",
    "        drop_last=False,\n",
    "        pin_memory=True,\n",
    "    )\n",
    "    \n",
    "    all_folds = np.unique(train[\"fold\"])\n",
    "#     all_folds = [1]\n",
    "    test_predictions_df = pd.DataFrame({id_column: test_metadata[id_column]})\n",
    "    for fold in all_folds:\n",
    "        accelerator = Accelerator(\n",
    "            mixed_precision=run_metadata[\"params\"][\"mixed_precision\"],\n",
    "        )\n",
    "        \n",
    "        model = ISICNet(model_name=model_name, pretrained=False)\n",
    "        model = model.to(accelerator.device)\n",
    "        \n",
    "        model, test_dataloader = accelerator.prepare(model, test_dataloader)\n",
    "        model_filepath = path / f\"models/fold_{fold}\"\n",
    "        accelerator.load_state(model_filepath)\n",
    "\n",
    "        test_predictions_df[f\"fold_{fold}\"] = predict(model, test_dataloader, accelerator, n_tta=run_metadata[\"params\"][\"n_tta\"])\n",
    "    test_predictions_df[target_column] = test_predictions_df[[f\"fold_{fold}\" for fold in all_folds]].mean(axis=1)\n",
    "    return test_predictions_df#[[id_column, target_column]]"
   ]
  },
  {
   "cell_type": "code",
   "execution_count": 8,
   "id": "7bb305c8",
   "metadata": {
    "execution": {
     "iopub.execute_input": "2024-08-07T17:55:49.612533Z",
     "iopub.status.busy": "2024-08-07T17:55:49.612225Z",
     "iopub.status.idle": "2024-08-07T17:55:54.365494Z",
     "shell.execute_reply": "2024-08-07T17:55:54.364470Z"
    },
    "papermill": {
     "duration": 4.760855,
     "end_time": "2024-08-07T17:55:54.367764",
     "exception": false,
     "start_time": "2024-08-07T17:55:49.606909",
     "status": "completed"
    },
    "tags": []
   },
   "outputs": [
    {
     "name": "stdout",
     "output_type": "stream",
     "text": [
      "{'debug': False,\n",
      " 'ext': '2020,2019',\n",
      " 'image_size': 64,\n",
      " 'init_lr': 3e-05,\n",
      " 'mixed_precision': 'fp16',\n",
      " 'n_tta': 8,\n",
      " 'num_epochs': 20,\n",
      " 'num_workers': 8,\n",
      " 'only_malignant': True,\n",
      " 'seed': 2022,\n",
      " 'train_batch_size': 64,\n",
      " 'val_batch_size': 512}\n",
      "Step: 1/1\n",
      "Step: 1/1\n",
      "Step: 1/1\n",
      "Step: 1/1\n",
      "Step: 1/1\n"
     ]
    }
   ],
   "source": [
    "test_preds_df = get_dnn_predictions(train_metadata, test_metadata, test_images, model_name, version, Path(path))"
   ]
  },
  {
   "cell_type": "code",
   "execution_count": 9,
   "id": "5f68b2c2",
   "metadata": {
    "execution": {
     "iopub.execute_input": "2024-08-07T17:55:54.379150Z",
     "iopub.status.busy": "2024-08-07T17:55:54.378780Z",
     "iopub.status.idle": "2024-08-07T17:55:54.396796Z",
     "shell.execute_reply": "2024-08-07T17:55:54.395874Z"
    },
    "papermill": {
     "duration": 0.026316,
     "end_time": "2024-08-07T17:55:54.398984",
     "exception": false,
     "start_time": "2024-08-07T17:55:54.372668",
     "status": "completed"
    },
    "tags": []
   },
   "outputs": [
    {
     "data": {
      "text/html": [
       "<div>\n",
       "<style scoped>\n",
       "    .dataframe tbody tr th:only-of-type {\n",
       "        vertical-align: middle;\n",
       "    }\n",
       "\n",
       "    .dataframe tbody tr th {\n",
       "        vertical-align: top;\n",
       "    }\n",
       "\n",
       "    .dataframe thead th {\n",
       "        text-align: right;\n",
       "    }\n",
       "</style>\n",
       "<table border=\"1\" class=\"dataframe\">\n",
       "  <thead>\n",
       "    <tr style=\"text-align: right;\">\n",
       "      <th></th>\n",
       "      <th>isic_id</th>\n",
       "      <th>fold_1</th>\n",
       "      <th>fold_2</th>\n",
       "      <th>fold_3</th>\n",
       "      <th>fold_4</th>\n",
       "      <th>fold_5</th>\n",
       "      <th>target</th>\n",
       "    </tr>\n",
       "  </thead>\n",
       "  <tbody>\n",
       "    <tr>\n",
       "      <th>0</th>\n",
       "      <td>ISIC_0015657</td>\n",
       "      <td>0.001388</td>\n",
       "      <td>0.000137</td>\n",
       "      <td>0.000072</td>\n",
       "      <td>0.000236</td>\n",
       "      <td>0.000816</td>\n",
       "      <td>0.000530</td>\n",
       "    </tr>\n",
       "    <tr>\n",
       "      <th>1</th>\n",
       "      <td>ISIC_0015729</td>\n",
       "      <td>0.000004</td>\n",
       "      <td>0.000028</td>\n",
       "      <td>0.000034</td>\n",
       "      <td>0.000044</td>\n",
       "      <td>0.000055</td>\n",
       "      <td>0.000033</td>\n",
       "    </tr>\n",
       "    <tr>\n",
       "      <th>2</th>\n",
       "      <td>ISIC_0015740</td>\n",
       "      <td>0.000005</td>\n",
       "      <td>0.000029</td>\n",
       "      <td>0.000036</td>\n",
       "      <td>0.000044</td>\n",
       "      <td>0.000015</td>\n",
       "      <td>0.000026</td>\n",
       "    </tr>\n",
       "  </tbody>\n",
       "</table>\n",
       "</div>"
      ],
      "text/plain": [
       "        isic_id    fold_1    fold_2    fold_3    fold_4    fold_5    target\n",
       "0  ISIC_0015657  0.001388  0.000137  0.000072  0.000236  0.000816  0.000530\n",
       "1  ISIC_0015729  0.000004  0.000028  0.000034  0.000044  0.000055  0.000033\n",
       "2  ISIC_0015740  0.000005  0.000029  0.000036  0.000044  0.000015  0.000026"
      ]
     },
     "execution_count": 9,
     "metadata": {},
     "output_type": "execute_result"
    }
   ],
   "source": [
    "test_preds_df.head()"
   ]
  },
  {
   "cell_type": "code",
   "execution_count": 10,
   "id": "bf77016e",
   "metadata": {
    "execution": {
     "iopub.execute_input": "2024-08-07T17:55:54.411078Z",
     "iopub.status.busy": "2024-08-07T17:55:54.410319Z",
     "iopub.status.idle": "2024-08-07T17:55:54.422817Z",
     "shell.execute_reply": "2024-08-07T17:55:54.421993Z"
    },
    "papermill": {
     "duration": 0.020522,
     "end_time": "2024-08-07T17:55:54.424680",
     "exception": false,
     "start_time": "2024-08-07T17:55:54.404158",
     "status": "completed"
    },
    "tags": []
   },
   "outputs": [
    {
     "data": {
      "text/plain": [
       "count    3.000000\n",
       "mean     0.000196\n",
       "std      0.000289\n",
       "min      0.000026\n",
       "25%      0.000030\n",
       "50%      0.000033\n",
       "75%      0.000281\n",
       "max      0.000530\n",
       "Name: target, dtype: float64"
      ]
     },
     "execution_count": 10,
     "metadata": {},
     "output_type": "execute_result"
    }
   ],
   "source": [
    "test_preds_df[target_column].describe()"
   ]
  },
  {
   "cell_type": "code",
   "execution_count": 11,
   "id": "08ceb77b",
   "metadata": {
    "execution": {
     "iopub.execute_input": "2024-08-07T17:55:54.436144Z",
     "iopub.status.busy": "2024-08-07T17:55:54.435868Z",
     "iopub.status.idle": "2024-08-07T17:55:54.445348Z",
     "shell.execute_reply": "2024-08-07T17:55:54.444465Z"
    },
    "papermill": {
     "duration": 0.017296,
     "end_time": "2024-08-07T17:55:54.447172",
     "exception": false,
     "start_time": "2024-08-07T17:55:54.429876",
     "status": "completed"
    },
    "tags": []
   },
   "outputs": [
    {
     "data": {
      "text/html": [
       "<div>\n",
       "<style scoped>\n",
       "    .dataframe tbody tr th:only-of-type {\n",
       "        vertical-align: middle;\n",
       "    }\n",
       "\n",
       "    .dataframe tbody tr th {\n",
       "        vertical-align: top;\n",
       "    }\n",
       "\n",
       "    .dataframe thead th {\n",
       "        text-align: right;\n",
       "    }\n",
       "</style>\n",
       "<table border=\"1\" class=\"dataframe\">\n",
       "  <thead>\n",
       "    <tr style=\"text-align: right;\">\n",
       "      <th></th>\n",
       "      <th>isic_id</th>\n",
       "      <th>target</th>\n",
       "    </tr>\n",
       "  </thead>\n",
       "  <tbody>\n",
       "    <tr>\n",
       "      <th>0</th>\n",
       "      <td>ISIC_0015657</td>\n",
       "      <td>0.000530</td>\n",
       "    </tr>\n",
       "    <tr>\n",
       "      <th>1</th>\n",
       "      <td>ISIC_0015729</td>\n",
       "      <td>0.000033</td>\n",
       "    </tr>\n",
       "    <tr>\n",
       "      <th>2</th>\n",
       "      <td>ISIC_0015740</td>\n",
       "      <td>0.000026</td>\n",
       "    </tr>\n",
       "  </tbody>\n",
       "</table>\n",
       "</div>"
      ],
      "text/plain": [
       "        isic_id    target\n",
       "0  ISIC_0015657  0.000530\n",
       "1  ISIC_0015729  0.000033\n",
       "2  ISIC_0015740  0.000026"
      ]
     },
     "execution_count": 11,
     "metadata": {},
     "output_type": "execute_result"
    }
   ],
   "source": [
    "test_preds_df[[id_column, target_column]].head()"
   ]
  },
  {
   "cell_type": "code",
   "execution_count": 12,
   "id": "bbf9a698",
   "metadata": {
    "execution": {
     "iopub.execute_input": "2024-08-07T17:55:54.458651Z",
     "iopub.status.busy": "2024-08-07T17:55:54.458362Z",
     "iopub.status.idle": "2024-08-07T17:55:54.465519Z",
     "shell.execute_reply": "2024-08-07T17:55:54.464850Z"
    },
    "papermill": {
     "duration": 0.015097,
     "end_time": "2024-08-07T17:55:54.467405",
     "exception": false,
     "start_time": "2024-08-07T17:55:54.452308",
     "status": "completed"
    },
    "tags": []
   },
   "outputs": [],
   "source": [
    "test_preds_df[[id_column, target_column]].to_csv(\"submission.csv\", index=False)"
   ]
  },
  {
   "cell_type": "code",
   "execution_count": null,
   "id": "2f3e521f",
   "metadata": {
    "papermill": {
     "duration": 0.005034,
     "end_time": "2024-08-07T17:55:54.477822",
     "exception": false,
     "start_time": "2024-08-07T17:55:54.472788",
     "status": "completed"
    },
    "tags": []
   },
   "outputs": [],
   "source": []
  }
 ],
 "metadata": {
  "kaggle": {
   "accelerator": "gpu",
   "dataSources": [
    {
     "databundleVersionId": 9094797,
     "sourceId": 63056,
     "sourceType": "competition"
    },
    {
     "datasetId": 5454133,
     "sourceId": 9126454,
     "sourceType": "datasetVersion"
    },
    {
     "sourceId": 187477024,
     "sourceType": "kernelVersion"
    },
    {
     "sourceId": 189656082,
     "sourceType": "kernelVersion"
    }
   ],
   "dockerImageVersionId": 30733,
   "isGpuEnabled": true,
   "isInternetEnabled": false,
   "language": "python",
   "sourceType": "notebook"
  },
  "kernelspec": {
   "display_name": "Python 3",
   "language": "python",
   "name": "python3"
  },
  "language_info": {
   "codemirror_mode": {
    "name": "ipython",
    "version": 3
   },
   "file_extension": ".py",
   "mimetype": "text/x-python",
   "name": "python",
   "nbconvert_exporter": "python",
   "pygments_lexer": "ipython3",
   "version": "3.10.13"
  },
  "papermill": {
   "default_parameters": {},
   "duration": 30.21524,
   "end_time": "2024-08-07T17:55:57.178124",
   "environment_variables": {},
   "exception": null,
   "input_path": "__notebook__.ipynb",
   "output_path": "__notebook__.ipynb",
   "parameters": {},
   "start_time": "2024-08-07T17:55:26.962884",
   "version": "2.5.0"
  }
 },
 "nbformat": 4,
 "nbformat_minor": 5
}
