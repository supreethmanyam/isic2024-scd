{
 "cells": [
  {
   "cell_type": "code",
   "execution_count": 1,
   "id": "9ded1b7a",
   "metadata": {
    "_cell_guid": "b1076dfc-b9ad-4769-8c92-a6c4dae69d19",
    "_uuid": "8f2839f25d086af736a60e9eeb907d3b93b6e0e5",
    "execution": {
     "iopub.execute_input": "2024-08-06T16:50:12.942592Z",
     "iopub.status.busy": "2024-08-06T16:50:12.941690Z",
     "iopub.status.idle": "2024-08-06T16:50:22.706034Z",
     "shell.execute_reply": "2024-08-06T16:50:22.705115Z"
    },
    "papermill": {
     "duration": 9.772916,
     "end_time": "2024-08-06T16:50:22.708297",
     "exception": false,
     "start_time": "2024-08-06T16:50:12.935381",
     "status": "completed"
    },
    "tags": []
   },
   "outputs": [],
   "source": [
    "import json\n",
    "import joblib\n",
    "from tqdm import tqdm\n",
    "from pathlib import Path\n",
    "\n",
    "import pandas as pd\n",
    "import numpy as np\n",
    "\n",
    "import h5py\n",
    "from io import BytesIO\n",
    "from PIL import Image\n",
    "\n",
    "import torch\n",
    "from torch.utils.data import DataLoader, Dataset\n",
    "import torch.nn as nn\n",
    "import torch.nn.functional as F\n",
    "\n",
    "from timm import create_model\n",
    "\n",
    "import albumentations as A\n",
    "from albumentations.pytorch import ToTensorV2\n",
    "\n",
    "from accelerate import Accelerator\n",
    "\n",
    "from isic_helper import DotDict, get_folds"
   ]
  },
  {
   "cell_type": "code",
   "execution_count": 2,
   "id": "03fb5d81",
   "metadata": {
    "execution": {
     "iopub.execute_input": "2024-08-06T16:50:22.718874Z",
     "iopub.status.busy": "2024-08-06T16:50:22.718263Z",
     "iopub.status.idle": "2024-08-06T16:50:22.724071Z",
     "shell.execute_reply": "2024-08-06T16:50:22.723330Z"
    },
    "papermill": {
     "duration": 0.012801,
     "end_time": "2024-08-06T16:50:22.726027",
     "exception": false,
     "start_time": "2024-08-06T16:50:22.713226",
     "status": "completed"
    },
    "tags": []
   },
   "outputs": [],
   "source": [
    "model_name = \"efficientnet_b0\"\n",
    "version = \"v1\"\n",
    "path = f\"/kaggle/input/isic-scd-{model_name.replace('_', '-')}-{version}-train\""
   ]
  },
  {
   "cell_type": "code",
   "execution_count": 3,
   "id": "c268e61a",
   "metadata": {
    "execution": {
     "iopub.execute_input": "2024-08-06T16:50:22.736160Z",
     "iopub.status.busy": "2024-08-06T16:50:22.735898Z",
     "iopub.status.idle": "2024-08-06T16:50:22.740168Z",
     "shell.execute_reply": "2024-08-06T16:50:22.739325Z"
    },
    "papermill": {
     "duration": 0.011533,
     "end_time": "2024-08-06T16:50:22.742056",
     "exception": false,
     "start_time": "2024-08-06T16:50:22.730523",
     "status": "completed"
    },
    "tags": []
   },
   "outputs": [],
   "source": [
    "id_column = \"isic_id\"\n",
    "target_column = \"target\"\n",
    "group_column = \"patient_id\""
   ]
  },
  {
   "cell_type": "code",
   "execution_count": 4,
   "id": "3c87b919",
   "metadata": {
    "execution": {
     "iopub.execute_input": "2024-08-06T16:50:22.752849Z",
     "iopub.status.busy": "2024-08-06T16:50:22.751841Z",
     "iopub.status.idle": "2024-08-06T16:50:22.773853Z",
     "shell.execute_reply": "2024-08-06T16:50:22.773011Z"
    },
    "papermill": {
     "duration": 0.029616,
     "end_time": "2024-08-06T16:50:22.775767",
     "exception": false,
     "start_time": "2024-08-06T16:50:22.746151",
     "status": "completed"
    },
    "tags": []
   },
   "outputs": [],
   "source": [
    "def val_augment(image_size):\n",
    "    transform = A.Compose(\n",
    "        [A.Resize(image_size, image_size), A.Normalize(), ToTensorV2()], p=1.0\n",
    "    )\n",
    "    return transform\n",
    "\n",
    "\n",
    "class ISICDataset(Dataset):\n",
    "    def __init__(self, metadata, images, augment, infer=False):\n",
    "        self.metadata = metadata\n",
    "        self.images = images\n",
    "        if not infer:\n",
    "            self.targets = metadata[\"label\"].values\n",
    "        self.augment = augment\n",
    "        self.length = len(self.metadata)\n",
    "        self.infer = infer\n",
    "\n",
    "    def __len__(self):\n",
    "        return self.length\n",
    "\n",
    "    def __getitem__(self, index):\n",
    "        row = self.metadata.iloc[index]\n",
    "        image = np.array(Image.open(BytesIO(self.images[row[\"isic_id\"]][()])))\n",
    "        if self.augment is not None:\n",
    "            image = self.augment(image=image)[\"image\"].float()\n",
    "        if self.infer:\n",
    "            return image, index\n",
    "        else:\n",
    "            label = torch.tensor(row[\"label\"]).float()\n",
    "            return image, label, index\n",
    "\n",
    "    \n",
    "class ISICNet(nn.Module):\n",
    "    def __init__(\n",
    "        self,\n",
    "        model_name,\n",
    "        pretrained=True\n",
    "    ):\n",
    "        super(ISICNet, self).__init__()\n",
    "        self.model = create_model(\n",
    "            model_name=model_name,\n",
    "            pretrained=pretrained,\n",
    "            in_chans=3,\n",
    "            num_classes=0,\n",
    "            global_pool=\"\",\n",
    "        )\n",
    "        in_dim = self.model.num_features\n",
    "        self.classifier = nn.Linear(in_dim, 1)\n",
    "        self.dropouts = nn.ModuleList([nn.Dropout(0.5) for _ in range(5)])\n",
    "\n",
    "    def forward(self, images):\n",
    "        x = self.model(images)\n",
    "        bs = len(images)\n",
    "        pool = F.adaptive_avg_pool2d(x, 1).reshape(bs, -1)\n",
    "        if self.training:\n",
    "            logits = 0\n",
    "            for i in range(len(self.dropouts)):\n",
    "                logits += self.classifier(self.dropouts[i](pool))\n",
    "            logits = logits / len(self.dropouts)\n",
    "        else:\n",
    "            logits = self.classifier(pool)\n",
    "        return logits\n",
    "\n",
    "    \n",
    "\n",
    "def get_trans(img, iteration):\n",
    "    if iteration >= 6:\n",
    "        img = img.transpose(2, 3)\n",
    "    if iteration % 6 == 0:\n",
    "        return img\n",
    "    elif iteration % 6 == 1:\n",
    "        return torch.flip(img, dims=[2])\n",
    "    elif iteration % 6 == 2:\n",
    "        return torch.flip(img, dims=[3])\n",
    "    elif iteration % 6 == 3:\n",
    "        return torch.rot90(img, 1, dims=[2, 3])\n",
    "    elif iteration % 6 == 4:\n",
    "        return torch.rot90(img, 2, dims=[2, 3])\n",
    "    elif iteration % 6 == 5:\n",
    "        return torch.rot90(img, 3, dims=[2, 3])\n",
    "\n",
    "    \n",
    "def predict(model, test_dataloader, accelerator, n_tta, log_interval=50):\n",
    "    model.eval()\n",
    "    test_probs = []\n",
    "    total_steps = len(test_dataloader)\n",
    "    with torch.no_grad():\n",
    "        for step, (images, index) in enumerate(test_dataloader):\n",
    "            logits = 0\n",
    "            probs = 0\n",
    "            for i in range(n_tta):\n",
    "                logits_iter = model(get_trans(images, i))\n",
    "                logits += logits_iter\n",
    "                probs += torch.sigmoid(logits_iter)\n",
    "            logits /= n_tta\n",
    "            probs /= n_tta\n",
    "\n",
    "            probs = accelerator.gather((probs))\n",
    "            test_probs.append(probs)\n",
    "\n",
    "            if step % log_interval == 0:\n",
    "                print(\n",
    "                    f\"Step: {step + 1}/{total_steps}\"\n",
    "                )\n",
    "\n",
    "    test_probs = torch.cat(test_probs).cpu().numpy()\n",
    "    return test_probs"
   ]
  },
  {
   "cell_type": "code",
   "execution_count": 5,
   "id": "d73297ae",
   "metadata": {
    "execution": {
     "iopub.execute_input": "2024-08-06T16:50:22.785220Z",
     "iopub.status.busy": "2024-08-06T16:50:22.784952Z",
     "iopub.status.idle": "2024-08-06T16:50:33.188549Z",
     "shell.execute_reply": "2024-08-06T16:50:33.187606Z"
    },
    "papermill": {
     "duration": 10.410778,
     "end_time": "2024-08-06T16:50:33.190865",
     "exception": false,
     "start_time": "2024-08-06T16:50:22.780087",
     "status": "completed"
    },
    "tags": []
   },
   "outputs": [
    {
     "name": "stdout",
     "output_type": "stream",
     "text": [
      "Train data size: (401059, 57)\n",
      "Test data size: (3, 44)\n"
     ]
    }
   ],
   "source": [
    "INPUT_PATH = Path(\"../input/isic-2024-challenge/\")\n",
    "\n",
    "train_metadata = pd.read_csv(INPUT_PATH / \"train-metadata.csv\", low_memory=False)\n",
    "test_metadata = pd.read_csv(INPUT_PATH / \"test-metadata.csv\")\n",
    "\n",
    "folds_df = get_folds()\n",
    "train_metadata = train_metadata.merge(folds_df, on=[\"isic_id\", \"patient_id\"], how=\"inner\")\n",
    "print(f\"Train data size: {train_metadata.shape}\")\n",
    "print(f\"Test data size: {test_metadata.shape}\")\n",
    "\n",
    "test_images = h5py.File(INPUT_PATH / \"test-image.hdf5\", mode=\"r\")"
   ]
  },
  {
   "cell_type": "code",
   "execution_count": 6,
   "id": "fd356a63",
   "metadata": {
    "execution": {
     "iopub.execute_input": "2024-08-06T16:50:33.201277Z",
     "iopub.status.busy": "2024-08-06T16:50:33.200730Z",
     "iopub.status.idle": "2024-08-06T16:50:33.210290Z",
     "shell.execute_reply": "2024-08-06T16:50:33.209388Z"
    },
    "papermill": {
     "duration": 0.017114,
     "end_time": "2024-08-06T16:50:33.212569",
     "exception": false,
     "start_time": "2024-08-06T16:50:33.195455",
     "status": "completed"
    },
    "tags": []
   },
   "outputs": [],
   "source": [
    "def get_dnn_predictions(train, test, test_images, model_name, version, path):\n",
    "    with open(path / f\"{model_name}_{version}_run_metadata.json\", \"r\") as f:\n",
    "        run_metadata = json.load(f)\n",
    "    print(run_metadata)\n",
    "    \n",
    "    test_dataset = ISICDataset(\n",
    "        test, test_images, augment=val_augment(run_metadata[\"params\"][\"image_size\"]), infer=True\n",
    "    )\n",
    "    test_dataloader = DataLoader(\n",
    "        test_dataset,\n",
    "        batch_size=512,\n",
    "        shuffle=False,\n",
    "        num_workers=4,\n",
    "        drop_last=False,\n",
    "        pin_memory=True,\n",
    "    )\n",
    "    \n",
    "#     all_folds = np.unique(train[\"fold\"])\n",
    "    all_folds = [1]\n",
    "    test_predictions_df = pd.DataFrame({id_column: test_metadata[id_column]})\n",
    "    for fold in all_folds:\n",
    "        accelerator = Accelerator(\n",
    "            mixed_precision=run_metadata[\"params\"][\"mixed_precision\"],\n",
    "        )\n",
    "        \n",
    "        model = ISICNet(model_name=model_name, pretrained=False)\n",
    "        model = model.to(accelerator.device)\n",
    "        \n",
    "        model, test_dataloader = accelerator.prepare(model, test_dataloader)\n",
    "        model_filepath = path / f\"models/fold_{fold}\"\n",
    "        accelerator.load_state(model_filepath)\n",
    "\n",
    "        test_predictions_df[f\"fold_{fold}\"] = predict(model, test_dataloader, accelerator, n_tta=run_metadata[\"params\"][\"n_tta\"])\n",
    "    test_predictions_df[target_column] = test_predictions_df[[f\"fold_{fold}\" for fold in all_folds]].mean(axis=1)\n",
    "    return test_predictions_df[[id_column, target_column]]"
   ]
  },
  {
   "cell_type": "code",
   "execution_count": 7,
   "id": "37bb2f37",
   "metadata": {
    "execution": {
     "iopub.execute_input": "2024-08-06T16:50:33.223009Z",
     "iopub.status.busy": "2024-08-06T16:50:33.222343Z",
     "iopub.status.idle": "2024-08-06T16:50:35.043890Z",
     "shell.execute_reply": "2024-08-06T16:50:35.042646Z"
    },
    "papermill": {
     "duration": 1.829124,
     "end_time": "2024-08-06T16:50:35.046156",
     "exception": false,
     "start_time": "2024-08-06T16:50:33.217032",
     "status": "completed"
    },
    "tags": []
   },
   "outputs": [
    {
     "name": "stdout",
     "output_type": "stream",
     "text": [
      "{'params': {'mixed_precision': 'fp16', 'image_size': 64, 'batch_size': 64, 'num_workers': 8, 'init_lr': 3e-05, 'num_epochs': 15, 'n_tta': 6, 'seed': 2022, 'ext': '2020,2019,2018', 'only_malignant': True, 'debug': False}, 'best_num_epochs': {'fold_1': 15}, 'val_auc_scores': {'fold_1': 0.9508623949019771}, 'val_pauc_scores': {'fold_1': 0.1678453246218448}, 'cv_auc_oof': 0.9508623949019771, 'cv_pauc_oof': 0.1678453246218448, 'cv_auc_avg': 0.9508623949019771, 'cv_pauc_avg': 0.1678453246218448, 'cv_auc_std': 0.0, 'cv_pauc_std': 0.0}\n",
      "Step: 1/1\n"
     ]
    }
   ],
   "source": [
    "test_preds_df = get_dnn_predictions(train_metadata, test_metadata, test_images, model_name, version, Path(path))"
   ]
  },
  {
   "cell_type": "code",
   "execution_count": 8,
   "id": "e2e51540",
   "metadata": {
    "execution": {
     "iopub.execute_input": "2024-08-06T16:50:35.057671Z",
     "iopub.status.busy": "2024-08-06T16:50:35.056945Z",
     "iopub.status.idle": "2024-08-06T16:50:35.072862Z",
     "shell.execute_reply": "2024-08-06T16:50:35.071802Z"
    },
    "papermill": {
     "duration": 0.023987,
     "end_time": "2024-08-06T16:50:35.075045",
     "exception": false,
     "start_time": "2024-08-06T16:50:35.051058",
     "status": "completed"
    },
    "tags": []
   },
   "outputs": [
    {
     "data": {
      "text/html": [
       "<div>\n",
       "<style scoped>\n",
       "    .dataframe tbody tr th:only-of-type {\n",
       "        vertical-align: middle;\n",
       "    }\n",
       "\n",
       "    .dataframe tbody tr th {\n",
       "        vertical-align: top;\n",
       "    }\n",
       "\n",
       "    .dataframe thead th {\n",
       "        text-align: right;\n",
       "    }\n",
       "</style>\n",
       "<table border=\"1\" class=\"dataframe\">\n",
       "  <thead>\n",
       "    <tr style=\"text-align: right;\">\n",
       "      <th></th>\n",
       "      <th>isic_id</th>\n",
       "      <th>target</th>\n",
       "    </tr>\n",
       "  </thead>\n",
       "  <tbody>\n",
       "    <tr>\n",
       "      <th>0</th>\n",
       "      <td>ISIC_0015657</td>\n",
       "      <td>0.000192</td>\n",
       "    </tr>\n",
       "    <tr>\n",
       "      <th>1</th>\n",
       "      <td>ISIC_0015729</td>\n",
       "      <td>0.000016</td>\n",
       "    </tr>\n",
       "    <tr>\n",
       "      <th>2</th>\n",
       "      <td>ISIC_0015740</td>\n",
       "      <td>0.000031</td>\n",
       "    </tr>\n",
       "  </tbody>\n",
       "</table>\n",
       "</div>"
      ],
      "text/plain": [
       "        isic_id    target\n",
       "0  ISIC_0015657  0.000192\n",
       "1  ISIC_0015729  0.000016\n",
       "2  ISIC_0015740  0.000031"
      ]
     },
     "execution_count": 8,
     "metadata": {},
     "output_type": "execute_result"
    }
   ],
   "source": [
    "test_preds_df.head()"
   ]
  },
  {
   "cell_type": "code",
   "execution_count": 9,
   "id": "fac9473a",
   "metadata": {
    "execution": {
     "iopub.execute_input": "2024-08-06T16:50:35.086691Z",
     "iopub.status.busy": "2024-08-06T16:50:35.086003Z",
     "iopub.status.idle": "2024-08-06T16:50:35.098275Z",
     "shell.execute_reply": "2024-08-06T16:50:35.097535Z"
    },
    "papermill": {
     "duration": 0.020145,
     "end_time": "2024-08-06T16:50:35.100282",
     "exception": false,
     "start_time": "2024-08-06T16:50:35.080137",
     "status": "completed"
    },
    "tags": []
   },
   "outputs": [
    {
     "data": {
      "text/plain": [
       "count    3.000000\n",
       "mean     0.000080\n",
       "std      0.000098\n",
       "min      0.000016\n",
       "25%      0.000024\n",
       "50%      0.000031\n",
       "75%      0.000112\n",
       "max      0.000192\n",
       "Name: target, dtype: float64"
      ]
     },
     "execution_count": 9,
     "metadata": {},
     "output_type": "execute_result"
    }
   ],
   "source": [
    "test_preds_df[target_column].describe()"
   ]
  },
  {
   "cell_type": "code",
   "execution_count": 10,
   "id": "387242c4",
   "metadata": {
    "execution": {
     "iopub.execute_input": "2024-08-06T16:50:35.111283Z",
     "iopub.status.busy": "2024-08-06T16:50:35.110697Z",
     "iopub.status.idle": "2024-08-06T16:50:35.119834Z",
     "shell.execute_reply": "2024-08-06T16:50:35.118826Z"
    },
    "papermill": {
     "duration": 0.017105,
     "end_time": "2024-08-06T16:50:35.122344",
     "exception": false,
     "start_time": "2024-08-06T16:50:35.105239",
     "status": "completed"
    },
    "tags": []
   },
   "outputs": [
    {
     "data": {
      "text/html": [
       "<div>\n",
       "<style scoped>\n",
       "    .dataframe tbody tr th:only-of-type {\n",
       "        vertical-align: middle;\n",
       "    }\n",
       "\n",
       "    .dataframe tbody tr th {\n",
       "        vertical-align: top;\n",
       "    }\n",
       "\n",
       "    .dataframe thead th {\n",
       "        text-align: right;\n",
       "    }\n",
       "</style>\n",
       "<table border=\"1\" class=\"dataframe\">\n",
       "  <thead>\n",
       "    <tr style=\"text-align: right;\">\n",
       "      <th></th>\n",
       "      <th>isic_id</th>\n",
       "      <th>target</th>\n",
       "    </tr>\n",
       "  </thead>\n",
       "  <tbody>\n",
       "    <tr>\n",
       "      <th>0</th>\n",
       "      <td>ISIC_0015657</td>\n",
       "      <td>0.000192</td>\n",
       "    </tr>\n",
       "    <tr>\n",
       "      <th>1</th>\n",
       "      <td>ISIC_0015729</td>\n",
       "      <td>0.000016</td>\n",
       "    </tr>\n",
       "    <tr>\n",
       "      <th>2</th>\n",
       "      <td>ISIC_0015740</td>\n",
       "      <td>0.000031</td>\n",
       "    </tr>\n",
       "  </tbody>\n",
       "</table>\n",
       "</div>"
      ],
      "text/plain": [
       "        isic_id    target\n",
       "0  ISIC_0015657  0.000192\n",
       "1  ISIC_0015729  0.000016\n",
       "2  ISIC_0015740  0.000031"
      ]
     },
     "execution_count": 10,
     "metadata": {},
     "output_type": "execute_result"
    }
   ],
   "source": [
    "test_preds_df[[id_column, target_column]].head()"
   ]
  },
  {
   "cell_type": "code",
   "execution_count": 11,
   "id": "7fcedc1b",
   "metadata": {
    "execution": {
     "iopub.execute_input": "2024-08-06T16:50:35.134273Z",
     "iopub.status.busy": "2024-08-06T16:50:35.133679Z",
     "iopub.status.idle": "2024-08-06T16:50:35.140793Z",
     "shell.execute_reply": "2024-08-06T16:50:35.139989Z"
    },
    "papermill": {
     "duration": 0.015028,
     "end_time": "2024-08-06T16:50:35.142793",
     "exception": false,
     "start_time": "2024-08-06T16:50:35.127765",
     "status": "completed"
    },
    "tags": []
   },
   "outputs": [],
   "source": [
    "test_preds_df[[id_column, target_column]].to_csv(\"submission.csv\", index=False)"
   ]
  },
  {
   "cell_type": "code",
   "execution_count": null,
   "id": "56db047a",
   "metadata": {
    "papermill": {
     "duration": 0.00516,
     "end_time": "2024-08-06T16:50:35.152811",
     "exception": false,
     "start_time": "2024-08-06T16:50:35.147651",
     "status": "completed"
    },
    "tags": []
   },
   "outputs": [],
   "source": []
  }
 ],
 "metadata": {
  "kaggle": {
   "accelerator": "gpu",
   "dataSources": [
    {
     "databundleVersionId": 9094797,
     "sourceId": 63056,
     "sourceType": "competition"
    },
    {
     "datasetId": 5454133,
     "sourceId": 9114826,
     "sourceType": "datasetVersion"
    },
    {
     "sourceId": 187477024,
     "sourceType": "kernelVersion"
    },
    {
     "sourceId": 189656082,
     "sourceType": "kernelVersion"
    }
   ],
   "dockerImageVersionId": 30733,
   "isGpuEnabled": true,
   "isInternetEnabled": false,
   "language": "python",
   "sourceType": "notebook"
  },
  "kernelspec": {
   "display_name": "Python 3",
   "language": "python",
   "name": "python3"
  },
  "language_info": {
   "codemirror_mode": {
    "name": "ipython",
    "version": 3
   },
   "file_extension": ".py",
   "mimetype": "text/x-python",
   "name": "python",
   "nbconvert_exporter": "python",
   "pygments_lexer": "ipython3",
   "version": "3.10.13"
  },
  "papermill": {
   "default_parameters": {},
   "duration": 27.199962,
   "end_time": "2024-08-06T16:50:37.183128",
   "environment_variables": {},
   "exception": null,
   "input_path": "__notebook__.ipynb",
   "output_path": "__notebook__.ipynb",
   "parameters": {},
   "start_time": "2024-08-06T16:50:09.983166",
   "version": "2.5.0"
  }
 },
 "nbformat": 4,
 "nbformat_minor": 5
}
